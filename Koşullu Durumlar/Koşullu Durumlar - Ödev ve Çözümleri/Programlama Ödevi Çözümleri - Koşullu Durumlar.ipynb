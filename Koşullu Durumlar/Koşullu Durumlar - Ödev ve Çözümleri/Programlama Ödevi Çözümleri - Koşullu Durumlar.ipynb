{
 "cells": [
  {
   "cell_type": "markdown",
   "metadata": {},
   "source": [
    "## Çözümler\n",
    "\n",
    "### Problem 1"
   ]
  },
  {
   "cell_type": "code",
   "execution_count": 3,
   "metadata": {},
   "outputs": [
    {
     "name": "stdout",
     "output_type": "stream",
     "text": [
      "Boyunuzu Giriniz:1.74\n",
      "Kilonuzu Giriniz:76\n",
      "Fazla Kilolu\n"
     ]
    }
   ],
   "source": [
    "boy = float(input(\"Boyunuzu Giriniz:\"))\n",
    "kilo = int(input(\"Kilonuzu Giriniz:\"))\n",
    "\n",
    "bki =  kilo / (boy ** 2)\n",
    "\n",
    "if (bki < 18.5):\n",
    "    print(\"Zayıf\")\n",
    "elif (bki >= 18.5 and bki < 25):\n",
    "    print(\"Normal\")\n",
    "elif (bki >= 25 and bki < 30):\n",
    "    print(\"Fazla Kilolu\")\n",
    "else:\n",
    "    print(\"Obez\")"
   ]
  },
  {
   "cell_type": "markdown",
   "metadata": {},
   "source": [
    "### Problem 2\n",
    "\n"
   ]
  },
  {
   "cell_type": "code",
   "execution_count": 5,
   "metadata": {},
   "outputs": [
    {
     "name": "stdout",
     "output_type": "stream",
     "text": [
      "a:5\n",
      "b:6\n",
      "c:4\n",
      "En büyük sayı: 6\n"
     ]
    }
   ],
   "source": [
    "a =  int(input(\"a:\"))\n",
    "\n",
    "b = int(input(\"b:\"))\n",
    "\n",
    "c = int(input(\"c:\"))\n",
    "\n",
    "if (a >= b and a >= c):\n",
    "    print(\"En büyük sayı:\",a)\n",
    "elif (b >= a and b >= c):\n",
    "    print(\"En büyük sayı:\",b)\n",
    "elif (c >= a and c >= b):\n",
    "    print(\"En büyük sayı:\",c)\n",
    "    \n",
    "    "
   ]
  },
  {
   "cell_type": "markdown",
   "metadata": {},
   "source": [
    "### Problem 3"
   ]
  },
  {
   "cell_type": "code",
   "execution_count": 8,
   "metadata": {},
   "outputs": [
    {
     "name": "stdout",
     "output_type": "stream",
     "text": [
      "Vize1:40\n",
      "Vize2:90\n",
      "Final:70\n",
      "DC\n"
     ]
    }
   ],
   "source": [
    "vize1 = int(input(\"Vize1:\"))\n",
    "vize2 = int(input(\"Vize2:\"))\n",
    "final = int(input(\"Final:\"))\n",
    "\n",
    "\n",
    "genel_not =  vize1 * 3/10 + vize2 * 3/10 + final * 4/10\n",
    "\n",
    "if (genel_not >= 90):\n",
    "    print(\"AA\")\n",
    "elif (genel_not >= 85):\n",
    "    print(\"BA\")\n",
    "elif (genel_not >= 80):\n",
    "    print(\"BB\")\n",
    "elif (genel_not >= 75):\n",
    "    print(\"CB\")\n",
    "elif (genel_not >= 70):\n",
    "    print(\"CC\")\n",
    "elif (genel_not >= 65):\n",
    "    print(\"DC\")\n",
    "elif (genel_not >= 60):\n",
    "    print(\"DD\")\n",
    "elif (genel_not >= 55):\n",
    "    print(\"FD\")\n",
    "else:\n",
    "    print(\"FF\")\n",
    "    "
   ]
  },
  {
   "cell_type": "markdown",
   "metadata": {},
   "source": [
    "### Problem 4"
   ]
  },
  {
   "cell_type": "code",
   "execution_count": 19,
   "metadata": {},
   "outputs": [
    {
     "name": "stdout",
     "output_type": "stream",
     "text": [
      "Hangi şeklin tipini öğrenmek istiyorsunuz?Üçgen\n",
      "Kenar-1:3\n",
      "Kenar-2:3\n",
      "Kenar-3:3\n",
      "Eşkenar Üçgen...\n"
     ]
    }
   ],
   "source": [
    "şekil =  input(\"Hangi şeklin tipini öğrenmek istiyorsunuz?\")\n",
    "\n",
    "if (şekil == \"Dörtgen\"):\n",
    "    print(\"Lütfen kenarları sırayla giriniz.\")\n",
    "    a = int(input(\"Kenar-1:\"))\n",
    "    b = int(input(\"Kenar-2:\"))\n",
    "    c = int(input(\"Kenar-3:\"))\n",
    "    d = int(input(\"Kenar-4:\"))\n",
    "    \n",
    "    if (a == b and a == c and a == d):\n",
    "        print(\"Kare\")\n",
    "    elif (a == c and b == d):\n",
    "        print(\"Dikdörtgen\")\n",
    "    else:\n",
    "        print(\"Dörtgen\")\n",
    "        \n",
    "    \n",
    "    \n",
    "elif (şekil == \"Üçgen\"):\n",
    "    a = int(input(\"Kenar-1:\"))\n",
    "    b = int(input(\"Kenar-2:\"))\n",
    "    c = int(input(\"Kenar-3:\"))\n",
    "    if ( abs(a+b) > c and abs(a+c) > b and abs(b+c) > a):\n",
    "        if (a == b and a == c ):\n",
    "            print(\"Eşkenar Üçgen...\")\n",
    "        elif ((a == b and a != c) or (a == c and a != b) or (b == c and b != a)):\n",
    "            print(\"İkizkenar Üçgen....\")\n",
    "        else:\n",
    "            print(\"Çeşitkenar Üçgen...\")\n",
    "    else:\n",
    "        print(\"Üçgen belirtmiyor...\")\n",
    "        \n",
    "else:\n",
    "    print(\"Geçersiz Şekil...\")"
   ]
  }
 ],
 "metadata": {
  "kernelspec": {
   "display_name": "Python 3",
   "language": "python",
   "name": "python3"
  },
  "language_info": {
   "codemirror_mode": {
    "name": "ipython",
    "version": 3
   },
   "file_extension": ".py",
   "mimetype": "text/x-python",
   "name": "python",
   "nbconvert_exporter": "python",
   "pygments_lexer": "ipython3",
   "version": "3.6.1"
  }
 },
 "nbformat": 4,
 "nbformat_minor": 2
}
