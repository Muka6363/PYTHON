{
 "cells": [
  {
   "cell_type": "code",
   "execution_count": 8,
   "metadata": {},
   "outputs": [
    {
     "name": "stdout",
     "output_type": "stream",
     "text": [
      "Yaşınızı girin:17\n",
      "Mekana giremezsiniz!\n"
     ]
    }
   ],
   "source": [
    "yaş = int(input(\"Yaşınızı girin:\"))\n",
    "\n",
    "if yaş < 18:\n",
    "    print(\"Mekana giremezsiniz!\")\n"
   ]
  },
  {
   "cell_type": "code",
   "execution_count": 9,
   "metadata": {},
   "outputs": [
    {
     "name": "stdout",
     "output_type": "stream",
     "text": [
      "Yaşınızı girin:19\n"
     ]
    }
   ],
   "source": [
    "yaş = int(input(\"Yaşınızı girin:\"))\n",
    "\n",
    "if yaş < 18:\n",
    "    print(\"Mekana giremezsiniz!\")"
   ]
  },
  {
   "cell_type": "code",
   "execution_count": 10,
   "metadata": {},
   "outputs": [
    {
     "name": "stdout",
     "output_type": "stream",
     "text": [
      "Yaşınızı girin:17\n",
      "Mekana giremezsiniz!\n"
     ]
    }
   ],
   "source": [
    "yaş = int(input(\"Yaşınızı girin:\"))\n",
    "\n",
    "if yaş < 18:\n",
    "    print(\"Mekana giremezsiniz!\")\n",
    "else:\n",
    "    print(\"Mekana Hoşgeldiniz!\")\n"
   ]
  },
  {
   "cell_type": "code",
   "execution_count": 11,
   "metadata": {},
   "outputs": [
    {
     "name": "stdout",
     "output_type": "stream",
     "text": [
      "Yaşınızı girin:19\n",
      "Mekana Hoşgeldiniz!\n"
     ]
    }
   ],
   "source": [
    "yaş = int(input(\"Yaşınızı girin:\"))\n",
    "\n",
    "if yaş < 18:\n",
    "    print(\"Mekana giremezsiniz!\")\n",
    "else:\n",
    "    print(\"Mekana Hoşgeldiniz!\")\n"
   ]
  },
  {
   "cell_type": "code",
   "execution_count": 12,
   "metadata": {},
   "outputs": [
    {
     "name": "stdout",
     "output_type": "stream",
     "text": [
      "Sayı:-3\n",
      "Negatif Sayı\n"
     ]
    }
   ],
   "source": [
    "sayı = int(input(\"Sayı:\"))\n",
    "\n",
    "if sayı < 0:\n",
    "    print(\"Negatif Sayı\")\n",
    "else:\n",
    "    print(\"Sıfır veya Pozitif Sayı\")\n",
    "    "
   ]
  },
  {
   "cell_type": "code",
   "execution_count": 13,
   "metadata": {},
   "outputs": [
    {
     "name": "stdout",
     "output_type": "stream",
     "text": [
      "Sayı:5\n",
      "Sıfır veya Pozitif Sayı\n"
     ]
    }
   ],
   "source": [
    "sayı = int(input(\"Sayı:\"))\n",
    "\n",
    "if sayı < 0:\n",
    "    print(\"Negatif Sayı\")\n",
    "else:\n",
    "    print(\"Sıfır veya Pozitif Sayı\")\n",
    "    "
   ]
  },
  {
   "cell_type": "code",
   "execution_count": null,
   "metadata": {
    "collapsed": true
   },
   "outputs": [],
   "source": []
  }
 ],
 "metadata": {
  "kernelspec": {
   "display_name": "Python 3",
   "language": "python",
   "name": "python3"
  },
  "language_info": {
   "codemirror_mode": {
    "name": "ipython",
    "version": 3
   },
   "file_extension": ".py",
   "mimetype": "text/x-python",
   "name": "python",
   "nbconvert_exporter": "python",
   "pygments_lexer": "ipython3",
   "version": "3.6.1"
  }
 },
 "nbformat": 4,
 "nbformat_minor": 2
}
