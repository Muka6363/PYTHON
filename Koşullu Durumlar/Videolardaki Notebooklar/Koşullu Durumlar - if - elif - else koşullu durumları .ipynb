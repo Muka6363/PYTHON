{
 "cells": [
  {
   "cell_type": "code",
   "execution_count": 4,
   "metadata": {},
   "outputs": [
    {
     "name": "stdout",
     "output_type": "stream",
     "text": [
      "İşlem giriniz:5\n"
     ]
    }
   ],
   "source": [
    "işlem = input(\"İşlem giriniz:\")\n",
    "\n",
    "if işlem == \"1\":\n",
    "    print(\"İşlem 1 seçildi.\")\n",
    "elif işlem == \"2\":\n",
    "    print(\"İşlem 2 seçildi.\")\n",
    "elif işlem == \"3\":\n",
    "    print(\"İşlem 3 seçildi.\")\n",
    "elif işlem == \"4\":\n",
    "    print(\"İşlem 4 seçildi.\")\n",
    "\n",
    "\n"
   ]
  },
  {
   "cell_type": "code",
   "execution_count": 5,
   "metadata": {},
   "outputs": [
    {
     "ename": "SyntaxError",
     "evalue": "invalid syntax (<ipython-input-5-cb233c0de9d9>, line 1)",
     "output_type": "error",
     "traceback": [
      "\u001b[1;36m  File \u001b[1;32m\"<ipython-input-5-cb233c0de9d9>\"\u001b[1;36m, line \u001b[1;32m1\u001b[0m\n\u001b[1;33m    else:\u001b[0m\n\u001b[1;37m       ^\u001b[0m\n\u001b[1;31mSyntaxError\u001b[0m\u001b[1;31m:\u001b[0m invalid syntax\n"
     ]
    }
   ],
   "source": [
    "else:\n",
    "    print(\"Geçersiz İşlem\")"
   ]
  },
  {
   "cell_type": "code",
   "execution_count": 6,
   "metadata": {},
   "outputs": [
    {
     "ename": "SyntaxError",
     "evalue": "invalid syntax (<ipython-input-6-49baf5adcdeb>, line 3)",
     "output_type": "error",
     "traceback": [
      "\u001b[1;36m  File \u001b[1;32m\"<ipython-input-6-49baf5adcdeb>\"\u001b[1;36m, line \u001b[1;32m3\u001b[0m\n\u001b[1;33m    elif işlem == \"1\":\u001b[0m\n\u001b[1;37m       ^\u001b[0m\n\u001b[1;31mSyntaxError\u001b[0m\u001b[1;31m:\u001b[0m invalid syntax\n"
     ]
    }
   ],
   "source": [
    "işlem = input(\"İşlem giriniz:\")\n",
    "\n",
    "elif işlem == \"1\":\n",
    "    print(\"İşlem 1 seçildi.\")\n",
    "elif işlem == \"2\":\n",
    "    print(\"İşlem 2 seçildi.\")\n",
    "elif işlem == \"3\":\n",
    "    print(\"İşlem 3 seçildi.\")\n",
    "elif işlem == \"4\":\n",
    "    print(\"İşlem 4 seçildi.\")"
   ]
  },
  {
   "cell_type": "code",
   "execution_count": 8,
   "metadata": {},
   "outputs": [
    {
     "name": "stdout",
     "output_type": "stream",
     "text": [
      "Notunuzu girin.75\n",
      "CB\n",
      "CC\n",
      "DC\n",
      "DD\n"
     ]
    }
   ],
   "source": [
    "note = float(input(\"Notunuzu girin.\"))\n",
    "\n",
    "if (note >= 90):\n",
    "    print(\"AA\")\n",
    "if (note >= 85):\n",
    "    print(\"BA\")\n",
    "if (note >= 80):\n",
    "    print(\"BB\")\n",
    "if (note >= 75):\n",
    "    print(\"CB\")\n",
    "if (note >= 70):\n",
    "    print(\"CC\")\n",
    "if (note >= 65):\n",
    "    print(\"DC\")\n",
    "if (note >= 60):\n",
    "    print(\"DD\")\n",
    "else:\n",
    "    print(\"Kaldınız.\")"
   ]
  },
  {
   "cell_type": "code",
   "execution_count": null,
   "metadata": {
    "collapsed": true
   },
   "outputs": [],
   "source": []
  }
 ],
 "metadata": {
  "kernelspec": {
   "display_name": "Python 3",
   "language": "python",
   "name": "python3"
  },
  "language_info": {
   "codemirror_mode": {
    "name": "ipython",
    "version": 3
   },
   "file_extension": ".py",
   "mimetype": "text/x-python",
   "name": "python",
   "nbconvert_exporter": "python",
   "pygments_lexer": "ipython3",
   "version": "3.6.1"
  }
 },
 "nbformat": 4,
 "nbformat_minor": 2
}
