{
 "cells": [
  {
   "cell_type": "markdown",
   "metadata": {},
   "source": [
    "# Fonksiyonları Dönmek ve Parametre Olarak Göndermek"
   ]
  },
  {
   "cell_type": "code",
   "execution_count": 6,
   "metadata": {
    "collapsed": true
   },
   "outputs": [],
   "source": [
    "def anafonksiyon(işlem_adı):\n",
    "    \n",
    "    def toplama(*args):\n",
    "        toplam = 0\n",
    "        for i in args:\n",
    "            toplam += i\n",
    "        return toplam\n",
    "    def çarpım(*args):\n",
    "        çarpım = 1\n",
    "        for i in args:\n",
    "            çarpım *= i\n",
    "        return çarpım\n",
    "    if işlem_adı == \"toplama\":\n",
    "        return toplama\n",
    "    else:\n",
    "        return çarpım"
   ]
  },
  {
   "cell_type": "code",
   "execution_count": 7,
   "metadata": {
    "collapsed": true
   },
   "outputs": [],
   "source": [
    "fonk = anafonksiyon(\"toplama\")"
   ]
  },
  {
   "cell_type": "code",
   "execution_count": 8,
   "metadata": {},
   "outputs": [
    {
     "data": {
      "text/plain": [
       "<function __main__.anafonksiyon.<locals>.toplama>"
      ]
     },
     "execution_count": 8,
     "metadata": {},
     "output_type": "execute_result"
    }
   ],
   "source": [
    "fonk"
   ]
  },
  {
   "cell_type": "code",
   "execution_count": 9,
   "metadata": {},
   "outputs": [
    {
     "data": {
      "text/plain": [
       "28"
      ]
     },
     "execution_count": 9,
     "metadata": {},
     "output_type": "execute_result"
    }
   ],
   "source": [
    "fonk(1,2,3,4,5,6,7)"
   ]
  },
  {
   "cell_type": "code",
   "execution_count": 10,
   "metadata": {},
   "outputs": [],
   "source": [
    "fonk2 = anafonksiyon(\"çarpma\")"
   ]
  },
  {
   "cell_type": "code",
   "execution_count": 11,
   "metadata": {},
   "outputs": [
    {
     "data": {
      "text/plain": [
       "<function __main__.anafonksiyon.<locals>.çarpım>"
      ]
     },
     "execution_count": 11,
     "metadata": {},
     "output_type": "execute_result"
    }
   ],
   "source": [
    "fonk2"
   ]
  },
  {
   "cell_type": "code",
   "execution_count": 12,
   "metadata": {},
   "outputs": [
    {
     "data": {
      "text/plain": [
       "120"
      ]
     },
     "execution_count": 12,
     "metadata": {},
     "output_type": "execute_result"
    }
   ],
   "source": [
    "fonk2(1,2,3,4,5)"
   ]
  },
  {
   "cell_type": "code",
   "execution_count": 13,
   "metadata": {
    "collapsed": true
   },
   "outputs": [],
   "source": [
    "def toplama(a,b):\n",
    "    return a + b\n",
    "def çıkarma(a,b):\n",
    "    return a-b\n",
    "def çarpma(a,b):\n",
    "    return a*b\n",
    "def bölme(a,b):\n",
    "    return a/ b"
   ]
  },
  {
   "cell_type": "code",
   "execution_count": 14,
   "metadata": {
    "collapsed": true
   },
   "outputs": [],
   "source": [
    "def anafonksiyon(func1,func2,func3,func4,işlem_adı):\n",
    "    \n",
    "    if işlem_adı == \"toplama\":\n",
    "        print(func1(3,4))\n",
    "    elif işlem_adı == \"çıkarma\":\n",
    "        print(func2(10,3))\n",
    "    elif işlem_adı == \"çarpma\":\n",
    "        print(func3(3,5))\n",
    "    elif işlem_adı == \"bölme\":\n",
    "        print(func4(10,4))\n",
    "    else:\n",
    "        print(\"Geçersiz İşlem....\")"
   ]
  },
  {
   "cell_type": "code",
   "execution_count": 15,
   "metadata": {},
   "outputs": [
    {
     "name": "stdout",
     "output_type": "stream",
     "text": [
      "7\n"
     ]
    }
   ],
   "source": [
    "anafonksiyon(toplama,çıkarma,çarpma,bölme,\"toplama\")"
   ]
  },
  {
   "cell_type": "code",
   "execution_count": 16,
   "metadata": {},
   "outputs": [
    {
     "name": "stdout",
     "output_type": "stream",
     "text": [
      "15\n"
     ]
    }
   ],
   "source": [
    "anafonksiyon(toplama,çıkarma,çarpma,bölme,\"çarpma\")"
   ]
  },
  {
   "cell_type": "code",
   "execution_count": null,
   "metadata": {
    "collapsed": true
   },
   "outputs": [],
   "source": []
  }
 ],
 "metadata": {
  "kernelspec": {
   "display_name": "Python 3",
   "language": "python",
   "name": "python3"
  },
  "language_info": {
   "codemirror_mode": {
    "name": "ipython",
    "version": 3
   },
   "file_extension": ".py",
   "mimetype": "text/x-python",
   "name": "python",
   "nbconvert_exporter": "python",
   "pygments_lexer": "ipython3",
   "version": "3.6.1"
  }
 },
 "nbformat": 4,
 "nbformat_minor": 2
}
