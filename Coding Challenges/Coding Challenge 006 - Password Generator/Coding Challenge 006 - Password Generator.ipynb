{
  "nbformat": 4,
  "nbformat_minor": 0,
  "metadata": {
    "colab": {
      "name": "Password Generator",
      "provenance": [],
      "collapsed_sections": []
    },
    "kernelspec": {
      "name": "python3",
      "display_name": "Python 3"
    },
    "language_info": {
      "name": "python"
    }
  },
  "cells": [
    {
      "cell_type": "code",
      "source": [
        "import random\n",
        "import string\n",
        "\n",
        "name = input(\"Please enter your fullname without spaces: \")\n",
        "\n",
        "name  = list(name.lower())\n",
        "number= list(string.digits)\n",
        "\n",
        "random.shuffle(name)\n",
        "print(name)\n",
        "random.shuffle(number)\n",
        "part1=name[0:3]\n",
        "part2=number[0:4]\n",
        "\n",
        "password= \"\".join(part1+part2)\n",
        "\n",
        "print(password)"
      ],
      "metadata": {
        "colab": {
          "base_uri": "https://localhost:8080/"
        },
        "id": "iFbA--OqucvY",
        "outputId": "df7e5638-308e-431a-d414-af1d3a7816e6"
      },
      "execution_count": 2,
      "outputs": [
        {
          "output_type": "stream",
          "name": "stdout",
          "text": [
            "Please enter your fullname without spaces: oguzhanhiziroglu\n",
            "['r', 'a', 'h', 'o', 'u', 'u', 'n', 'z', 'g', 'z', 'i', 'l', 'i', 'h', 'g', 'o']\n",
            "rah3415\n"
          ]
        }
      ]
    },
    {
      "cell_type": "code",
      "source": [
        "import string\n",
        "from random import *\n",
        "\n",
        "name = input(\"Please enter your fullname without spaces: \")\n",
        "\n",
        "part1 =  \"\".join(choice(name) for x in range(randint(3,3)))\n",
        "part2 =  \"\".join(choice(string.digits) for x in range(randint(4, 4)))\n",
        "passwd = part1+part2\n",
        "print(\"your password : \" + passwd)"
      ],
      "metadata": {
        "colab": {
          "base_uri": "https://localhost:8080/"
        },
        "id": "_d5ZFJYAuiR0",
        "outputId": "be8e9d11-dbb4-47bd-cdc0-496373f5f6d6"
      },
      "execution_count": 3,
      "outputs": [
        {
          "output_type": "stream",
          "name": "stdout",
          "text": [
            "Please enter your fullname without spaces: oguzhanhiziroglu\n",
            "your password : gro9669\n"
          ]
        }
      ]
    },
    {
      "cell_type": "code",
      "source": [
        "import string\n",
        "from random import *\n",
        "\n",
        "def create(name):\n",
        "    part1 =  \"\".join(choice(name) for x in range(randint(3,3)))\n",
        "    part2 =  \"\".join(choice(string.digits) for x in range(randint(4, 4)))\n",
        "    passwd = part1+part2\n",
        "    return print(passwd)\n",
        "\n",
        "while True:\n",
        "    name = input(\"Please enter your fullname without spaces: \")\n",
        "    for i in name:\n",
        "        if i == ' ':\n",
        "            print(\"Please enter again without whitespace: \")\n",
        "            continue\n",
        "    else:\n",
        "        create(name)\n",
        "        break"
      ],
      "metadata": {
        "colab": {
          "base_uri": "https://localhost:8080/"
        },
        "id": "gqB57uNguiWB",
        "outputId": "34c07986-3eff-4976-ad40-a3d83dd67a34"
      },
      "execution_count": 4,
      "outputs": [
        {
          "output_type": "stream",
          "name": "stdout",
          "text": [
            "Please enter your fullname without spaces: oguzhanhiziroglu\n",
            "arn3068\n"
          ]
        }
      ]
    }
  ]
}