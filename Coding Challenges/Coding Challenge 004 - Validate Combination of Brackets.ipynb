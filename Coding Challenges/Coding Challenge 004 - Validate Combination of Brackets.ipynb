{
  "nbformat": 4,
  "nbformat_minor": 0,
  "metadata": {
    "colab": {
      "name": "Coding_Challenge_004_Validate_Combination_of_Brackets",
      "provenance": [],
      "collapsed_sections": []
    },
    "kernelspec": {
      "name": "python3",
      "display_name": "Python 3"
    },
    "language_info": {
      "name": "python"
    }
  },
  "cells": [
    {
      "cell_type": "markdown",
      "source": [
        "# Coding Challenge 004 : Validate Combination of Brackets\n",
        "\n",
        "Purpose of the this coding challenge is to solve a combination problem using loops.\n",
        "\n",
        "## Learning Outcomes\n",
        "\n",
        "At the end of the this coding challenge, students will be able to;\n",
        "\n",
        "- understand the use of loops.\n",
        "- solve the advanced and complicated problems.\n",
        "- understand the importance of pattern recognition.\n",
        "- get a better understanding in manipulating lists or strings.\n",
        "\n",
        "## Problem Statement\n",
        "  \n",
        "- Write a function that given a string containing just the characters `(`, `)`, `{`, `}`, `[` and `]`, determines if the input string is valid or not by using following rules.\n",
        "\n",
        "- An input string is valid if:\n",
        "\n",
        "  - Open brackets must be closed by the same type of brackets.\n",
        "\n",
        "  - Open brackets must be closed in the correct order.\n",
        "\n",
        "- Note that an empty string is also considered valid.\n",
        "\n",
        "- Example for user inputs and respective outputs\n",
        "\n",
        "```text\n",
        "Input           Output\n",
        "------------    ------\n",
        "\"()\"            true\n",
        "\"()[]{}\"        true\n",
        "\"(]\"            false\n",
        "\"([)]\"          false\n",
        "\"{[]}\"          true\n",
        "\"\"              true\n",
        "```"
      ],
      "metadata": {
        "id": "Quw27YSHNZRo"
      }
    },
    {
      "cell_type": "code",
      "source": [
        "s = \"[([]{})}\"\n",
        "while \"()\" in s or \"[]\" in s or \"{}\" in s :\n",
        "    s = s.replace(\"()\", \"\").replace(\"[]\", \"\").replace(\"{}\", \"\")\n",
        "print(s == \"\")"
      ],
      "metadata": {
        "colab": {
          "base_uri": "https://localhost:8080/"
        },
        "id": "Ovw7WjRgNZf4",
        "outputId": "f61c44ec-40cc-4a90-c491-f0a7dac0676c"
      },
      "execution_count": 1,
      "outputs": [
        {
          "output_type": "stream",
          "name": "stdout",
          "text": [
            "False\n"
          ]
        }
      ]
    },
    {
      "cell_type": "code",
      "source": [
        "s = \"([)]\"\n",
        "while \"()\" in s or \"[]\" in s or \"{}\" in s :\n",
        "    s = s.replace(\"()\", \"\").replace(\"[]\", \"\").replace(\"{}\", \"\")\n",
        "print(s == \"\")"
      ],
      "metadata": {
        "colab": {
          "base_uri": "https://localhost:8080/"
        },
        "id": "AyIMJV-2OI40",
        "outputId": "cc7cb118-d3f1-47bb-c657-c7e7c5af6a93"
      },
      "execution_count": 2,
      "outputs": [
        {
          "output_type": "stream",
          "name": "stdout",
          "text": [
            "False\n"
          ]
        }
      ]
    }
  ]
}