{
  "nbformat": 4,
  "nbformat_minor": 0,
  "metadata": {
    "colab": {
      "name": "Find the largest number",
      "provenance": [],
      "collapsed_sections": []
    },
    "kernelspec": {
      "name": "python3",
      "display_name": "Python 3"
    },
    "language_info": {
      "name": "python"
    }
  },
  "cells": [
    {
      "cell_type": "markdown",
      "source": [
        "# Coding Challenge 003 : Find the Largest Number\n",
        "\n",
        "Purpose of the this coding challenge is to solve a simple sorting problem in Python.\n",
        "\n",
        "## Learning Outcomes\n",
        "\n",
        "At the end of the this coding challenge, students will be able to;\n",
        "\n",
        "- get a basic understanding of sorting algorithms.\n",
        "- demonstrate their knowledge of lists in python\n",
        "- implement loops to solve the problems in python\n",
        "- get a better understanding of computational thinking concepts\n",
        "\n",
        "## Problem Statement\n",
        "  \n",
        "- Write a python code that finds the largest number among the 5 numbers given by the user as input.\n",
        "\n",
        "- It is forbidden to use max() function.  \n",
        "\n",
        "- Indicate which computational thinking concepts have you used.\n",
        "\n",
        "- Example for user inputs and respective outputs\n",
        "\n",
        "```text\n",
        "Input            Output\n",
        "------------     ------\n",
        "1 2 3 4 5         5\n",
        "67 85 19 39       85\n",
        "```\n",
        "\n"
      ],
      "metadata": {
        "id": "J_QqYclq7YmN"
      }
    },
    {
      "cell_type": "code",
      "source": [
        "nums = list(map(int, input(\"Please enter numbers with a space: \").split()))\n",
        "print(sorted(nums)[-1])"
      ],
      "metadata": {
        "colab": {
          "base_uri": "https://localhost:8080/"
        },
        "id": "s4oWKZB67YvX",
        "outputId": "020b6697-b46f-4505-8000-5cd91e054b14"
      },
      "execution_count": null,
      "outputs": [
        {
          "output_type": "stream",
          "name": "stdout",
          "text": [
            "Please enter numbers with a space: 67 85 19 39\n",
            "85\n"
          ]
        }
      ]
    }
  ]
}