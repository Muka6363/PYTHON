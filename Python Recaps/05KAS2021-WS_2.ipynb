{
  "nbformat": 4,
  "nbformat_minor": 0,
  "metadata": {
    "colab": {
      "name": "WS-2.ipynb",
      "provenance": [],
      "collapsed_sections": []
    },
    "kernelspec": {
      "name": "python3",
      "display_name": "Python 3"
    },
    "language_info": {
      "name": "python"
    }
  },
  "cells": [
    {
      "cell_type": "markdown",
      "metadata": {
        "id": "QlBsRwyPxMmg"
      },
      "source": [
        "**split()**"
      ]
    },
    {
      "cell_type": "code",
      "metadata": {
        "id": "gj-K91BAxCe0",
        "colab": {
          "base_uri": "https://localhost:8080/"
        },
        "outputId": "699fff5d-d599-49f9-c65f-7767d0b2b690"
      },
      "source": [
        "text = \"Hello, dear, friends\"\n",
        "\n",
        "print(text.split(\",\"))\n",
        "\n",
        "\n"
      ],
      "execution_count": 3,
      "outputs": [
        {
          "output_type": "stream",
          "name": "stdout",
          "text": [
            "['Hello', ' dear', ' friends']\n"
          ]
        }
      ]
    },
    {
      "cell_type": "code",
      "metadata": {
        "id": "D50mmh7mxV_l"
      },
      "source": [
        "text = \"For testing parameter: Londra, Prag, Canada, Beyrut, Isfahan, Phuket, Tokyo\"\n",
        "\n"
      ],
      "execution_count": null,
      "outputs": []
    },
    {
      "cell_type": "code",
      "metadata": {
        "id": "NcjUHWpvxZf0",
        "colab": {
          "base_uri": "https://localhost:8080/"
        },
        "outputId": "6779b9eb-240a-409f-921e-dbe6878104d1"
      },
      "source": [
        "countries = \"Türkiye, Singapur, Malezya, Lübnan, Kanada, Portekiz, Japonya\"\n",
        "\n",
        "country = countries.split(\",\", 1 )\n",
        "print(country)\n",
        "# print(*country, sep=\"\\n\")\n",
        "# print(countries)"
      ],
      "execution_count": 17,
      "outputs": [
        {
          "output_type": "stream",
          "name": "stdout",
          "text": [
            "['Türkiye', ' Singapur, Malezya, Lübnan, Kanada, Portekiz, Japonya']\n"
          ]
        }
      ]
    },
    {
      "cell_type": "code",
      "metadata": {
        "colab": {
          "base_uri": "https://localhost:8080/"
        },
        "id": "LKCKFLKCqEBq",
        "outputId": "6b1e2027-1bab-4c18-92bd-eb31a94698d1"
      },
      "source": [
        "text= \"ahmetahmet\"\n",
        "print(*text, sep=\"\\n\")"
      ],
      "execution_count": 13,
      "outputs": [
        {
          "output_type": "stream",
          "name": "stdout",
          "text": [
            "a\n",
            "h\n",
            "m\n",
            "e\n",
            "t\n",
            "a\n",
            "h\n",
            "m\n",
            "e\n",
            "t\n"
          ]
        }
      ]
    },
    {
      "cell_type": "code",
      "metadata": {
        "id": "8_uj-hFD63pt",
        "colab": {
          "base_uri": "https://localhost:8080/"
        },
        "outputId": "e9a3d760-7c17-4b52-fb69-4d44feedee04"
      },
      "source": [
        "# cümledeki en kısa kelime nedir ve kaç karakterden oluşuyor.\n",
        "text = \" soru cozumuyle kodlama becerim gelisiyor.\"\n",
        "\n",
        "a = text.split()\n",
        "print(min(a,key=len))\n",
        "\n",
        "en_kısa = min(text.split(), key=len)\n",
        "print(\"en kısa kelime '{}' ve {} karakterden oluşmaktadır.\".format(en_kısa,len(en_kısa)))"
      ],
      "execution_count": 18,
      "outputs": [
        {
          "output_type": "stream",
          "name": "stdout",
          "text": [
            "soru\n"
          ]
        }
      ]
    },
    {
      "cell_type": "markdown",
      "metadata": {
        "id": "_8SwX2LFxizj"
      },
      "source": [
        "**map()**"
      ]
    },
    {
      "cell_type": "code",
      "metadata": {
        "id": "mEpDElb2xdnK",
        "colab": {
          "base_uri": "https://localhost:8080/"
        },
        "outputId": "3d4c06c0-f115-4c94-8156-7499c0c88cef"
      },
      "source": [
        "# map(func,iter1)\n",
        "list1 = [1,2,3,4,5]\n",
        "\n",
        "list2= list(map(float,list1))\n",
        "list3 = float(list1[0])\n",
        "print(list3)\n",
        "print(list2)"
      ],
      "execution_count": 22,
      "outputs": [
        {
          "output_type": "stream",
          "name": "stdout",
          "text": [
            "1.0\n",
            "[1.0, 2.0, 3.0, 4.0, 5.0]\n"
          ]
        }
      ]
    },
    {
      "cell_type": "code",
      "metadata": {
        "id": "Pqy7GDToxrTw",
        "colab": {
          "base_uri": "https://localhost:8080/"
        },
        "outputId": "a767ba0b-f782-4c62-9c16-4d5928e14f60"
      },
      "source": [
        "def discount(x):\n",
        "  return x-((x*20)/100)\n",
        "\n",
        "price = [15.2, 17, 10, 22.9, 16.5, 7.7, 11]\n",
        "\n",
        "new_price = list(map(discount,price))\n",
        "\n",
        "print(new_price)\n",
        "\n"
      ],
      "execution_count": 24,
      "outputs": [
        {
          "output_type": "stream",
          "name": "stdout",
          "text": [
            "[12.16, 13.6, 8.0, 18.32, 13.2, 6.16, 8.8]\n"
          ]
        }
      ]
    },
    {
      "cell_type": "markdown",
      "metadata": {
        "id": "mrkiXchaxxrY"
      },
      "source": [
        "**zip()**\n"
      ]
    },
    {
      "cell_type": "code",
      "metadata": {
        "id": "tu70MTT5x1UY",
        "colab": {
          "base_uri": "https://localhost:8080/"
        },
        "outputId": "31cd1b19-870f-43dc-8d02-583e8f5f0a18"
      },
      "source": [
        "list1 = [1,2,3,4,5]\n",
        "list2 = [\"a\",\"b\",\"c\",\"d\",\"e\"]\n",
        "\n",
        "print(dict(zip(list1,list2)))\n",
        "print(list(zip(list1,list2)))\n",
        "\n",
        "\n",
        "\n",
        "\n"
      ],
      "execution_count": 26,
      "outputs": [
        {
          "output_type": "stream",
          "name": "stdout",
          "text": [
            "{1: 'a', 2: 'b', 3: 'c', 4: 'd', 5: 'e'}\n",
            "[(1, 'a'), (2, 'b'), (3, 'c'), (4, 'd'), (5, 'e')]\n"
          ]
        }
      ]
    },
    {
      "cell_type": "code",
      "metadata": {
        "id": "yTOzZAvJx9_H",
        "colab": {
          "base_uri": "https://localhost:8080/"
        },
        "outputId": "76f122d4-6167-4a92-cf74-417727b72ae6"
      },
      "source": [
        "list1 = [1,1,2,2]\n",
        "list2 = [\"a\",\"a\",\"b\",\"b\",\"e\"]\n",
        "\n",
        "print(set(zip(list1,list2)))\n"
      ],
      "execution_count": 34,
      "outputs": [
        {
          "output_type": "stream",
          "name": "stdout",
          "text": [
            "{(1, 'a'), (2, 'b')}\n"
          ]
        }
      ]
    },
    {
      "cell_type": "code",
      "metadata": {
        "colab": {
          "base_uri": "https://localhost:8080/"
        },
        "id": "wBPkoeXFw6lB",
        "outputId": "1fb74486-6050-4410-cd3b-c96036007aa8"
      },
      "source": [
        "std = [\"ahmet\", \"tarık\",\"müzeyyen\"]\n",
        "\n",
        "new_std = list(enumerate(std,5))\n",
        "print(sorted(new_std,reverse=True))\n",
        "\n"
      ],
      "execution_count": 43,
      "outputs": [
        {
          "output_type": "stream",
          "name": "stdout",
          "text": [
            "[(7, 'müzeyyen'), (6, 'tarık'), (5, 'ahmet')]\n"
          ]
        }
      ]
    },
    {
      "cell_type": "markdown",
      "metadata": {
        "id": "xF5bxcFhyJ1p"
      },
      "source": [
        "Q-1) Verilen listeden {id:name} olacak şekilde dict oluşturunuz.\n",
        "\n",
        "*   test_list = [\"Ali\", 1, \"Veli\", 2, \"Osman\", 3, \"Ahmet\", 4] \n",
        "*   output : {1: 'Ali', 2: 'Veli', 3: 'Osman', 4: 'Ahmet'}\n",
        "\n"
      ]
    },
    {
      "cell_type": "code",
      "metadata": {
        "id": "DVaYG2DmyAog",
        "colab": {
          "base_uri": "https://localhost:8080/"
        },
        "outputId": "ffb75592-a592-4e1d-e5a6-4404887c1293"
      },
      "source": [
        "test_list = [\"Ali\", 1, \"Veli\", 2, \"Osman\", 3, \"Ahmet\", 4]\n",
        "# name_list =[start:end:step]\n",
        "name_list =test_list[0::2]\n",
        "id_list = test_list[1::2]\n",
        "\n",
        "new_dict =dict(zip(id_list,name_list))\n",
        "print(new_dict)"
      ],
      "execution_count": 49,
      "outputs": [
        {
          "output_type": "stream",
          "name": "stdout",
          "text": [
            "{1: 'Ali', 2: 'Veli', 3: 'Osman', 4: 'Ahmet'}\n"
          ]
        }
      ]
    },
    {
      "cell_type": "markdown",
      "metadata": {
        "id": "1UPB43Qay35F"
      },
      "source": [
        "Q-2) Kullanıcıdan alınan 5 sayı içerisinden en büyük 2. sayıyı bulan kodu yazınız.\n",
        "\n",
        "*   map() ve split() kullanalım.\n"
      ]
    },
    {
      "cell_type": "code",
      "metadata": {
        "id": "xc9NPumvzQzi",
        "colab": {
          "base_uri": "https://localhost:8080/"
        },
        "outputId": "1609e72e-3fad-485a-84ec-80997159e2d5"
      },
      "source": [
        "numbers = list(map(int,input(\"enter five number: \").split()))\n",
        "\n",
        "\n",
        "sec_max = sorted(set(numbers))[-2]\n",
        "print(numbers)\n",
        "print(set(numbers))\n",
        "print(sorted(set(numbers)))\n",
        "print(sec_max)"
      ],
      "execution_count": 54,
      "outputs": [
        {
          "output_type": "stream",
          "name": "stdout",
          "text": [
            "enter five number: -3 -3 -5 2 4\n",
            "[-3, -3, -5, 2, 4]\n",
            "{2, -5, 4, -3}\n",
            "[-5, -3, 2, 4]\n",
            "2\n"
          ]
        }
      ]
    },
    {
      "cell_type": "markdown",
      "metadata": {
        "id": "LvhXFuYBzWZ3"
      },
      "source": [
        "Q-3) Kullanıcıdan alınan değer kadar numbers listesinin elemanlarını sağa kaydıran kodu yazınız.\n",
        "\n",
        "*   numbers = [2,3,5,7,11,44,34] \n",
        "\n",
        "\n"
      ]
    },
    {
      "cell_type": "code",
      "metadata": {
        "id": "sikUp9lqzkTX"
      },
      "source": [
        ""
      ],
      "execution_count": null,
      "outputs": []
    },
    {
      "cell_type": "markdown",
      "metadata": {
        "id": "IJQFhpuwzm3n"
      },
      "source": [
        "Q-4) Kullanıcıdan alınan sayının negatif veya pozitif olduğunu bulan kodu yazınız."
      ]
    },
    {
      "cell_type": "code",
      "metadata": {
        "id": "7cUgc7Qrz5gz",
        "colab": {
          "base_uri": "https://localhost:8080/"
        },
        "outputId": "3c0c14fd-f044-47be-966a-5fde7354e205"
      },
      "source": [
        "a = int(input(\"enter number: \"))\n",
        "\n",
        "if a>0:\n",
        "  print(\"positive\")\n",
        "elif a<0:\n",
        "  print(\"negative\")\n",
        "elif a==0:\n",
        "  print(\"number is zero\")\n"
      ],
      "execution_count": 57,
      "outputs": [
        {
          "output_type": "stream",
          "name": "stdout",
          "text": [
            "enter number: -5\n",
            "negative\n"
          ]
        }
      ]
    },
    {
      "cell_type": "markdown",
      "metadata": {
        "id": "pK8i0pf0z6ir"
      },
      "source": [
        "Q-5) Kullanıcıdan 2 değer ve işlemi alıp sonucunu döndüren basit bir hesap makinesi programı yazınız.\n",
        "\n",
        "*   \"1\" Toplama\n",
        "*   \"2\" Çıkarma\n",
        "*   \"3\" Çarpma\n",
        "*   \"4\" Bölme\n",
        "\n",
        "\n",
        "\n"
      ]
    },
    {
      "cell_type": "code",
      "metadata": {
        "id": "vCLkwiqr0SXh"
      },
      "source": [
        ""
      ],
      "execution_count": null,
      "outputs": []
    },
    {
      "cell_type": "markdown",
      "metadata": {
        "id": "FXi2yqRR0T8C"
      },
      "source": [
        "Q-6) E-mail ve parola bilgileri ile giriş kontrolü yapan programı yazınız.\n",
        "\n",
        "\n",
        "*   email = 'D999@clarusway.com'\n",
        "*   pswrd = 'd999'\n",
        "\n"
      ]
    },
    {
      "cell_type": "code",
      "metadata": {
        "id": "7aGnPRJ40sVD",
        "colab": {
          "base_uri": "https://localhost:8080/"
        },
        "outputId": "6fea6f35-6dae-4f86-d851-8cd748d1a2c4"
      },
      "source": [
        "email = 'D999@clarusway.com'\n",
        "pswrd = 'd999'\n",
        "\n",
        "ent_mail = input(\"enter mail : \")\n",
        "ent_pswrd = input(\"enter password: \")\n",
        "\n",
        "if (ent_mail ==email and ent_pswrd ==pswrd):\n",
        "  print(\"başarılı\")\n",
        "else:\n",
        "  print(\"başarısız\")\n",
        "\n",
        "\n",
        "# if (ent_mail !=email and ent_pswrd ==pswrd):\n",
        "#   print(\"Wrong email address\")\n",
        "# elif(ent_mail ==email and ent_pswrd !=pswrd):\n",
        "#   print(\"wrong password\")\n",
        "# elif(ent_mail !=email and ent_pswrd !=pswrd):\n",
        "#   print(\" wrong email and password\")\n",
        "# else:\n",
        "#   print(\"login successfull\")"
      ],
      "execution_count": 61,
      "outputs": [
        {
          "output_type": "stream",
          "name": "stdout",
          "text": [
            "enter mail : D999@clarusway.com\n",
            "enter password: d999\n",
            "başarılı\n"
          ]
        }
      ]
    },
    {
      "cell_type": "markdown",
      "metadata": {
        "id": "6-UqVTtw0veT"
      },
      "source": [
        "Q-7) Kullanıcıdan alınan boy ve kilo değerlerine göre beden kitle indeksini hesaplayın ve şu kurallara göre ekrana şu yazıları yazdırın.\n",
        "     \n",
        "     BKİ 18.5'un altındaysa -------> Zayıf\n",
        "     \n",
        "     BKİ 18.5 ile 25 arasındaysa ------> Normal\n",
        "     \n",
        "     BKİ 25 ile 30 arasındaysa --------> Fazla Kilolu\n",
        "     \n",
        "     BKİ 30'un üstündeyse -------------> Obez\n",
        "\n",
        "Not: Beden Kitle İndeksi: Kilo / Boy(m) *  Boy(m)\n"
      ]
    },
    {
      "cell_type": "code",
      "metadata": {
        "id": "tR3VnGA-1DvQ"
      },
      "source": [
        ""
      ],
      "execution_count": null,
      "outputs": []
    },
    {
      "cell_type": "markdown",
      "metadata": {
        "id": "LYo_NNEy1Iya"
      },
      "source": [
        "Q-8) Kullanıcıdan alınan 3 sayıdan en büyüğünü bulan kodu yazınız."
      ]
    },
    {
      "cell_type": "code",
      "metadata": {
        "id": "Sog7RHFx1czS"
      },
      "source": [
        ""
      ],
      "execution_count": null,
      "outputs": []
    }
  ]
}