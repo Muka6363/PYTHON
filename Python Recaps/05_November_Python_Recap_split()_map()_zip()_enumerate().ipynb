{
  "nbformat": 4,
  "nbformat_minor": 0,
  "metadata": {
    "colab": {
      "name": "05_November_Python_Recap split() map() zip() enumerate()",
      "provenance": [],
      "collapsed_sections": []
    },
    "kernelspec": {
      "name": "python3",
      "display_name": "Python 3"
    },
    "language_info": {
      "name": "python"
    }
  },
  "cells": [
    {
      "cell_type": "markdown",
      "metadata": {
        "id": "OymIpoTUpFwT"
      },
      "source": [
        "**05_November_Python_Recap**"
      ]
    },
    {
      "cell_type": "code",
      "metadata": {
        "colab": {
          "base_uri": "https://localhost:8080/"
        },
        "id": "dXLkPZZzpF3I",
        "outputId": "1cc31beb-82f4-4610-a5c4-e20825ac30f2"
      },
      "source": [
        "countries = \"Türkiye, Singapur, Malezya, Lübnan, Kanada, Portekiz, Japonya\"\n",
        "country = countries.split(\" \", 4)\n",
        "print(*country, sep = \"\\n\")"
      ],
      "execution_count": 8,
      "outputs": [
        {
          "output_type": "stream",
          "name": "stdout",
          "text": [
            "Türkiye,\n",
            "Singapur,\n",
            "Malezya,\n",
            "Lübnan,\n",
            "Kanada, Portekiz, Japonya\n"
          ]
        }
      ]
    },
    {
      "cell_type": "code",
      "metadata": {
        "colab": {
          "base_uri": "https://localhost:8080/"
        },
        "id": "LU8oE-qdrH8Z",
        "outputId": "a478fa9b-8f9f-4d56-fcb2-d2eb8ed67d4c"
      },
      "source": [
        "countries = \"Türkiye, Singapur, Malezya, Lübnan, Kanada, Portekiz, Japonya\"\n",
        "country = countries.split(\" \", 4)\n",
        "print(country)"
      ],
      "execution_count": 10,
      "outputs": [
        {
          "output_type": "stream",
          "name": "stdout",
          "text": [
            "['Türkiye,', 'Singapur,', 'Malezya,', 'Lübnan,', 'Kanada, Portekiz, Japonya']\n"
          ]
        }
      ]
    },
    {
      "cell_type": "code",
      "metadata": {
        "colab": {
          "base_uri": "https://localhost:8080/"
        },
        "id": "fDBBAFgJrLmu",
        "outputId": "fee6a567-15e1-4f38-b9f9-9841e7ccbe4d"
      },
      "source": [
        "text = \"Soru çözümüyle kodlama becerim gelişiyor.\"\n",
        "a = text.split()\n",
        "print(min(a, key = len))"
      ],
      "execution_count": 11,
      "outputs": [
        {
          "output_type": "stream",
          "name": "stdout",
          "text": [
            "Soru\n"
          ]
        }
      ]
    },
    {
      "cell_type": "code",
      "metadata": {
        "colab": {
          "base_uri": "https://localhost:8080/"
        },
        "id": "YTtYv9bCpKdu",
        "outputId": "ad6f4c7a-03f8-461e-ee60-d0ddb548d5d0"
      },
      "source": [
        "text = \"Ahmet\"\n",
        "print(*text, sep = \"\\n\")"
      ],
      "execution_count": 5,
      "outputs": [
        {
          "output_type": "stream",
          "name": "stdout",
          "text": [
            "A\n",
            "h\n",
            "m\n",
            "e\n",
            "t\n"
          ]
        }
      ]
    },
    {
      "cell_type": "code",
      "metadata": {
        "colab": {
          "base_uri": "https://localhost:8080/"
        },
        "id": "Dek3axi2pKgL",
        "outputId": "41f20d27-6c98-4c3c-96aa-9c625828dae7"
      },
      "source": [
        "text = \"Ahmet\"\n",
        "print(*text)"
      ],
      "execution_count": 6,
      "outputs": [
        {
          "output_type": "stream",
          "name": "stdout",
          "text": [
            "A h m e t\n"
          ]
        }
      ]
    },
    {
      "cell_type": "code",
      "metadata": {
        "colab": {
          "base_uri": "https://localhost:8080/"
        },
        "id": "phhZzHBCpKi6",
        "outputId": "f95307eb-24fc-4365-e045-f4401ec28442"
      },
      "source": [
        "# map(func, iter1)\n",
        "list1 = [1,2,3,4,5]\n",
        "list2 = list(map(float, list1))\n",
        "print(list2)"
      ],
      "execution_count": 13,
      "outputs": [
        {
          "output_type": "stream",
          "name": "stdout",
          "text": [
            "[1.0, 2.0, 3.0, 4.0, 5.0]\n"
          ]
        }
      ]
    },
    {
      "cell_type": "code",
      "metadata": {
        "colab": {
          "base_uri": "https://localhost:8080/"
        },
        "id": "7C1_-9JCpKlU",
        "outputId": "33d72bad-453c-4fbf-9666-c769c506d029"
      },
      "source": [
        "def discount(x) :\n",
        "  return x - ((x * 20) / 100)\n",
        "price = [15.2, 17, 10, 22.9, 16.5, 7.7, 11]\n",
        "new_price = list(map(discount, price))\n",
        "print(new_price)"
      ],
      "execution_count": 16,
      "outputs": [
        {
          "output_type": "stream",
          "name": "stdout",
          "text": [
            "[12.16, 13.6, 8.0, 18.32, 13.2, 6.16, 8.8]\n"
          ]
        }
      ]
    },
    {
      "cell_type": "code",
      "metadata": {
        "colab": {
          "base_uri": "https://localhost:8080/"
        },
        "id": "c4qNB6Yote1H",
        "outputId": "5f61bd7a-c3e3-459b-b318-6ec30ce8722f"
      },
      "source": [
        "list1 = [1,2,3,4,5]\n",
        "list2 = [\"a\",\"b\",\"c\",\"d\",\"e\"]\n",
        "print(dict(zip(list1, list2)))"
      ],
      "execution_count": 17,
      "outputs": [
        {
          "output_type": "stream",
          "name": "stdout",
          "text": [
            "{1: 'a', 2: 'b', 3: 'c', 4: 'd', 5: 'e'}\n"
          ]
        }
      ]
    },
    {
      "cell_type": "code",
      "metadata": {
        "colab": {
          "base_uri": "https://localhost:8080/"
        },
        "id": "Q29Qzepjte4l",
        "outputId": "3e078326-9603-4610-d96c-cbf0bf81d104"
      },
      "source": [
        "list1 = [1,2,3,4,5]\n",
        "list2 = [\"a\",\"b\",\"c\",\"d\",\"e\"]\n",
        "print(list(zip(list1, list2)))"
      ],
      "execution_count": 18,
      "outputs": [
        {
          "output_type": "stream",
          "name": "stdout",
          "text": [
            "[(1, 'a'), (2, 'b'), (3, 'c'), (4, 'd'), (5, 'e')]\n"
          ]
        }
      ]
    },
    {
      "cell_type": "code",
      "metadata": {
        "colab": {
          "base_uri": "https://localhost:8080/"
        },
        "id": "tGAo6ZYwv4G_",
        "outputId": "6d5ed9dd-462c-4f7e-9123-99243fcec82a"
      },
      "source": [
        "list1 = [1,2,3]\n",
        "list2 = [\"a\",\"b\",\"c\",\"d\",\"e\"]\n",
        "print(dict(zip(list1, list2)))"
      ],
      "execution_count": 19,
      "outputs": [
        {
          "output_type": "stream",
          "name": "stdout",
          "text": [
            "{1: 'a', 2: 'b', 3: 'c'}\n"
          ]
        }
      ]
    },
    {
      "cell_type": "code",
      "metadata": {
        "colab": {
          "base_uri": "https://localhost:8080/"
        },
        "id": "31liLJ9wv4KN",
        "outputId": "18f05e8c-2a86-4c25-8191-5f5bb777e861"
      },
      "source": [
        "list1 = [1,2,3]\n",
        "list2 = [\"a\",\"a\",\"a\",\"a\",\"e\"]\n",
        "print(list(zip(list1,set(list2))))"
      ],
      "execution_count": 22,
      "outputs": [
        {
          "output_type": "stream",
          "name": "stdout",
          "text": [
            "[(1, 'a'), (2, 'e')]\n"
          ]
        }
      ]
    },
    {
      "cell_type": "code",
      "metadata": {
        "colab": {
          "base_uri": "https://localhost:8080/"
        },
        "id": "pWVGVL-0v4NP",
        "outputId": "86863cc1-845e-404b-96e6-c2174d755c6f"
      },
      "source": [
        "std = [\"ahmet\", \"tarık\", \"müzeyyen\"]\n",
        "\n",
        "new_std = list(enumerate(std))\n",
        "print(new_std)"
      ],
      "execution_count": 24,
      "outputs": [
        {
          "output_type": "stream",
          "name": "stdout",
          "text": [
            "[(0, 'ahmet'), (1, 'tarık'), (2, 'müzeyyen')]\n"
          ]
        }
      ]
    },
    {
      "cell_type": "code",
      "metadata": {
        "colab": {
          "base_uri": "https://localhost:8080/"
        },
        "id": "miSWDGzWxZji",
        "outputId": "9d14bd93-7611-4254-9fb9-a64a9455c1ac"
      },
      "source": [
        "std = [\"ahmet\", \"tarık\", \"müzeyyen\"]\n",
        "\n",
        "new_std = list(enumerate(std,9000))\n",
        "print(new_std)"
      ],
      "execution_count": 25,
      "outputs": [
        {
          "output_type": "stream",
          "name": "stdout",
          "text": [
            "[(9000, 'ahmet'), (9001, 'tarık'), (9002, 'müzeyyen')]\n"
          ]
        }
      ]
    },
    {
      "cell_type": "code",
      "metadata": {
        "colab": {
          "base_uri": "https://localhost:8080/"
        },
        "id": "0WKqCp53te6Y",
        "outputId": "af76ae71-9730-4e1f-8177-24f3792aa502"
      },
      "source": [
        "std = [\"ahmet\", \"tarık\", \"müzeyyen\"]\n",
        "\n",
        "new_std = list(enumerate(std,9000))\n",
        "print(sorted(new_std, reverse = True))"
      ],
      "execution_count": 29,
      "outputs": [
        {
          "output_type": "stream",
          "name": "stdout",
          "text": [
            "[(9002, 'müzeyyen'), (9001, 'tarık'), (9000, 'ahmet')]\n"
          ]
        }
      ]
    },
    {
      "cell_type": "markdown",
      "metadata": {
        "id": "2zDJwQEZzR6X"
      },
      "source": [
        "Q - 1) Verilen listeden {id : name} olacak şekilde dict oluşturunuz. \n",
        "- test_list = [\"Ali\", 1, \"Veli\", 2, \"Osman\", 3, \"Ahmet\", 4]\n",
        "- output: {1: 'Ali', 2: 'Veli', 3: 'Osman', 4: 'Ahmet'}"
      ]
    },
    {
      "cell_type": "code",
      "metadata": {
        "colab": {
          "base_uri": "https://localhost:8080/"
        },
        "id": "TWjn8QnOzSAH",
        "outputId": "18c478a8-ceee-40cc-d2da-168c87ce9e1e"
      },
      "source": [
        "test_list = [\"Ali\", 1, \"Veli\", 2, \"Osman\", 3, \"Ahmet\", 4]\n",
        "name_list = test_list[::2]\n",
        "id_list = test_list[1::2]\n",
        "new_dict = dict(zip(id_list, name_list))\n",
        "print(new_dict)"
      ],
      "execution_count": 30,
      "outputs": [
        {
          "output_type": "stream",
          "name": "stdout",
          "text": [
            "{1: 'Ali', 2: 'Veli', 3: 'Osman', 4: 'Ahmet'}\n"
          ]
        }
      ]
    },
    {
      "cell_type": "markdown",
      "metadata": {
        "id": "Ge_qVKTKzSE2"
      },
      "source": [
        "Q - 2) Kullanıcıdan alınan 5 sayı içerisinden en büyük 2. sayıyı bulan kodu yazınız.\n",
        "\n",
        "- map() ve split() kullanalım."
      ]
    },
    {
      "cell_type": "code",
      "metadata": {
        "colab": {
          "base_uri": "https://localhost:8080/"
        },
        "id": "iFx6lk9MzSJ9",
        "outputId": "e86eb005-c0d2-412b-f947-9d2d1762ba6f"
      },
      "source": [
        "numbers = list(map(int, input(\"Enter five numbers: \").split()))\n",
        "print(numbers)\n",
        "second_max = sorted(set(numbers))[-2]\n",
        "print(second_max)"
      ],
      "execution_count": 34,
      "outputs": [
        {
          "output_type": "stream",
          "name": "stdout",
          "text": [
            "Enter five numbers: 10 15 20 -20 11\n",
            "[10, 15, 20, -20, 11]\n",
            "15\n"
          ]
        }
      ]
    },
    {
      "cell_type": "code",
      "metadata": {
        "colab": {
          "base_uri": "https://localhost:8080/"
        },
        "id": "F4r67uA01hrb",
        "outputId": "53d595f5-fa36-46e2-8338-05bfe845f5be"
      },
      "source": [
        "count, fruit, price = (2, 'apple', 3.5)\n",
        "my_tuple = (2, 'apple', 3.5)\n",
        "for i in range(len(my_tuple)) :\n",
        "  print(my_tuple[i])"
      ],
      "execution_count": 37,
      "outputs": [
        {
          "output_type": "stream",
          "name": "stdout",
          "text": [
            "2\n",
            "apple\n",
            "3.5\n"
          ]
        }
      ]
    },
    {
      "cell_type": "markdown",
      "metadata": {
        "id": "KT3XGFSm4Fbi"
      },
      "source": [
        "Q - 3) Kullanıcıdan alınan sayının negatif veya pozitif olduğunu bulan kodu yazınız."
      ]
    },
    {
      "cell_type": "code",
      "metadata": {
        "colab": {
          "base_uri": "https://localhost:8080/"
        },
        "id": "QkHRWxJd4FiD",
        "outputId": "ac28a926-e10d-4899-e206-672ab7952cb3"
      },
      "source": [
        "number = float(input(\"Please enter a number: \"))\n",
        "if number > 0 :\n",
        "  print(\"Positive\")\n",
        "elif number < 0 :\n",
        "  print(\"Negative\")\n",
        "elif number == 0 :\n",
        "  print(\"Number is zero\")"
      ],
      "execution_count": 42,
      "outputs": [
        {
          "output_type": "stream",
          "name": "stdout",
          "text": [
            "Please enter a number: 0\n",
            "Number is zero\n"
          ]
        }
      ]
    },
    {
      "cell_type": "markdown",
      "metadata": {
        "id": "eSM47HL65Wcx"
      },
      "source": [
        "Q - 4) E-mail ve parola bilgileri ile giriş kontrolü yapan programı yazınız."
      ]
    },
    {
      "cell_type": "code",
      "metadata": {
        "colab": {
          "base_uri": "https://localhost:8080/"
        },
        "id": "1hHkBAET5Wh7",
        "outputId": "6e31cc82-0fac-4533-b705-472857673cdc"
      },
      "source": [
        "email = \"D999@clarusway.com\"\n",
        "pswrd = \"d999\"\n",
        "\n",
        "ent_mail = input(\"Please enter your mail :\")\n",
        "ent_pswrd = input(\"Please enter your password :\")\n",
        "\n",
        "while True :\n",
        "  if ent_mail == \"D999@clarusway.com\" and ent_pswrd == \"d999\" :\n",
        "    print(\"You have successfully logged in!\")\n",
        "    break\n",
        "  elif ent_mail != \"D999@clarusway.com\" and ent_pswrd == \"d999\" :\n",
        "    print(\"**Please check your email**\")\n",
        "    ent_mail = input(\"Please enter your mail :\")\n",
        "    ent_pswrd = input(\"Please enter your password :\")\n",
        "  elif ent_mail == \"D999@clarusway.com\" and ent_pswrd != \"d999\" :\n",
        "    print(\"**Please check your password**\")\n",
        "    ent_mail = input(\"Please enter your mail :\")\n",
        "    ent_pswrd = input(\"Please enter your password :\")\n",
        "  elif ent_mail != \"D999@clarusway.com\" and ent_pswrd != \"d999\" :\n",
        "    print(\"**Please check your email and password**\")\n",
        "    ent_mail = input(\"Please enter your mail :\")\n",
        "    ent_pswrd = input(\"Please enter your password :\")"
      ],
      "execution_count": 47,
      "outputs": [
        {
          "output_type": "stream",
          "name": "stdout",
          "text": [
            "Please enter your mail :D999@clarusway.com\n",
            "Please enter your password :1234\n",
            "**Please check your password**\n",
            "Please enter your mail :D989@clarusway.com\n",
            "Please enter your password :d999\n",
            "**Please check your email**\n",
            "Please enter your mail :D998@clarusway.com\n",
            "Please enter your password :1234\n",
            "**Please check your email and password**\n",
            "Please enter your mail :D999@clarusway.com\n",
            "Please enter your password :d999\n",
            "You have successfully logged in!\n"
          ]
        }
      ]
    }
  ]
}