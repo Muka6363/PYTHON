{
  "nbformat": 4,
  "nbformat_minor": 0,
  "metadata": {
    "colab": {
      "name": "WS-2.ipynb",
      "provenance": [],
      "collapsed_sections": []
    },
    "kernelspec": {
      "name": "python3",
      "display_name": "Python 3"
    },
    "language_info": {
      "name": "python"
    }
  },
  "cells": [
    {
      "cell_type": "markdown",
      "metadata": {
        "id": "QlBsRwyPxMmg"
      },
      "source": [
        "**split()**"
      ]
    },
    {
      "cell_type": "code",
      "metadata": {
        "id": "gj-K91BAxCe0"
      },
      "source": [
        "text = \"Hello dear friends\""
      ],
      "execution_count": null,
      "outputs": []
    },
    {
      "cell_type": "code",
      "metadata": {
        "id": "D50mmh7mxV_l"
      },
      "source": [
        "text = \"For testing parameter: Londra, Prag, Canada, Beyrut, Isfahan, Phuket, Tokyo\""
      ],
      "execution_count": null,
      "outputs": []
    },
    {
      "cell_type": "code",
      "metadata": {
        "id": "NcjUHWpvxZf0"
      },
      "source": [
        "countries = \"Türkiye, Singapur, Malezya, Lübnan, Kanada, Portekiz, Japonya\""
      ],
      "execution_count": null,
      "outputs": []
    },
    {
      "cell_type": "code",
      "metadata": {
        "id": "8_uj-hFD63pt"
      },
      "source": [
        "# cümledeki en kısa kelime nedir ve kaç karakterden oluşuyor.\n",
        "text = \" soru cozumuyle kodlama becerim gelisiyor.\""
      ],
      "execution_count": null,
      "outputs": []
    },
    {
      "cell_type": "markdown",
      "metadata": {
        "id": "_8SwX2LFxizj"
      },
      "source": [
        "**map()**"
      ]
    },
    {
      "cell_type": "code",
      "metadata": {
        "id": "mEpDElb2xdnK"
      },
      "source": [
        "list1 = [1,2,3,4,5]"
      ],
      "execution_count": null,
      "outputs": []
    },
    {
      "cell_type": "code",
      "metadata": {
        "id": "Pqy7GDToxrTw"
      },
      "source": [
        "price = [15.2, 17, 10, 22.9, 16.5, 7.7, 11]"
      ],
      "execution_count": null,
      "outputs": []
    },
    {
      "cell_type": "markdown",
      "metadata": {
        "id": "mrkiXchaxxrY"
      },
      "source": [
        "**zip()**\n"
      ]
    },
    {
      "cell_type": "code",
      "metadata": {
        "id": "tu70MTT5x1UY"
      },
      "source": [
        "list1 = [1,2,3,4,5]\n",
        "list2 = [\"a\",\"b\",\"c\",\"d\",\"e\"]"
      ],
      "execution_count": null,
      "outputs": []
    },
    {
      "cell_type": "code",
      "metadata": {
        "id": "yTOzZAvJx9_H"
      },
      "source": [
        "list1 = [1,2,3]\n",
        "list2 = [\"a\",\"b\",\"c\",\"d\",\"e\"]"
      ],
      "execution_count": null,
      "outputs": []
    },
    {
      "cell_type": "markdown",
      "metadata": {
        "id": "xF5bxcFhyJ1p"
      },
      "source": [
        "Q-1) Verilen listeden {id:name} olacak şekilde dict oluşturunuz.\n",
        "\n",
        "*   test_list = [\"Ali\", 1, \"Veli\", 2, \"Osman\", 3, \"Ahmet\", 4] \n",
        "*   output : {1: 'Ali', 2: 'Veli', 3: 'Osman', 4: 'Ahmet'}\n",
        "\n"
      ]
    },
    {
      "cell_type": "code",
      "metadata": {
        "id": "DVaYG2DmyAog"
      },
      "source": [
        ""
      ],
      "execution_count": null,
      "outputs": []
    },
    {
      "cell_type": "markdown",
      "metadata": {
        "id": "1UPB43Qay35F"
      },
      "source": [
        "Q-2) Kullanıcıdan alınan 5 sayı içerisinden en büyük 2. sayıyı bulan kodu yazınız.\n",
        "\n",
        "*   map() ve split() kullanalım.\n"
      ]
    },
    {
      "cell_type": "code",
      "metadata": {
        "id": "xc9NPumvzQzi"
      },
      "source": [
        ""
      ],
      "execution_count": null,
      "outputs": []
    },
    {
      "cell_type": "markdown",
      "metadata": {
        "id": "LvhXFuYBzWZ3"
      },
      "source": [
        "Q-3) Kullanıcıdan alınan değer kadar numbers listesinin elemanlarını sağa kaydıran kodu yazınız.\n",
        "\n",
        "*   numbers = [2,3,5,7,11,44,34] \n",
        "\n",
        "\n"
      ]
    },
    {
      "cell_type": "code",
      "metadata": {
        "id": "sikUp9lqzkTX"
      },
      "source": [
        ""
      ],
      "execution_count": null,
      "outputs": []
    },
    {
      "cell_type": "markdown",
      "metadata": {
        "id": "IJQFhpuwzm3n"
      },
      "source": [
        "Q-4) Kullanıcıdan alınan sayının negatif veya pozitif olduğunu bulan kodu yazınız."
      ]
    },
    {
      "cell_type": "code",
      "metadata": {
        "id": "7cUgc7Qrz5gz"
      },
      "source": [
        ""
      ],
      "execution_count": null,
      "outputs": []
    },
    {
      "cell_type": "markdown",
      "metadata": {
        "id": "pK8i0pf0z6ir"
      },
      "source": [
        "Q-5) Kullanıcıdan 2 değer ve işlemi alıp sonucunu döndüren basit bir hesap makinesi programı yazınız.\n",
        "\n",
        "*   \"1\" Toplama\n",
        "*   \"2\" Çıkarma\n",
        "*   \"3\" Çarpma\n",
        "*   \"4\" Bölme\n",
        "\n",
        "\n",
        "\n"
      ]
    },
    {
      "cell_type": "code",
      "metadata": {
        "id": "vCLkwiqr0SXh"
      },
      "source": [
        ""
      ],
      "execution_count": null,
      "outputs": []
    },
    {
      "cell_type": "markdown",
      "metadata": {
        "id": "FXi2yqRR0T8C"
      },
      "source": [
        "Q-6) E-mail ve parola bilgileri ile giriş kontrolü yapan programı yazınız.\n",
        "\n",
        "\n",
        "*   email = 'D999@clarusway.com'\n",
        "*   pswrd = 'd999'\n",
        "\n"
      ]
    },
    {
      "cell_type": "code",
      "metadata": {
        "id": "7aGnPRJ40sVD"
      },
      "source": [
        ""
      ],
      "execution_count": null,
      "outputs": []
    },
    {
      "cell_type": "markdown",
      "metadata": {
        "id": "6-UqVTtw0veT"
      },
      "source": [
        "Q-7) Kullanıcıdan alınan boy ve kilo değerlerine göre beden kitle indeksini hesaplayın ve şu kurallara göre ekrana şu yazıları yazdırın.\n",
        "     \n",
        "     BKİ 18.5'un altındaysa -------> Zayıf\n",
        "     \n",
        "     BKİ 18.5 ile 25 arasındaysa ------> Normal\n",
        "     \n",
        "     BKİ 25 ile 30 arasındaysa --------> Fazla Kilolu\n",
        "     \n",
        "     BKİ 30'un üstündeyse -------------> Obez\n",
        "\n",
        "Not: Beden Kitle İndeksi: Kilo / Boy(m) *  Boy(m)\n"
      ]
    },
    {
      "cell_type": "code",
      "metadata": {
        "id": "tR3VnGA-1DvQ"
      },
      "source": [
        ""
      ],
      "execution_count": null,
      "outputs": []
    },
    {
      "cell_type": "markdown",
      "metadata": {
        "id": "LYo_NNEy1Iya"
      },
      "source": [
        "Q-8) Kullanıcıdan alınan 3 sayıdan en büyüğünü bulan kodu yazınız."
      ]
    },
    {
      "cell_type": "code",
      "metadata": {
        "id": "Sog7RHFx1czS"
      },
      "source": [
        ""
      ],
      "execution_count": null,
      "outputs": []
    }
  ]
}