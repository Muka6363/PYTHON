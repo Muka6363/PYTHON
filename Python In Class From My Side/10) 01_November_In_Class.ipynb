{
  "nbformat": 4,
  "nbformat_minor": 0,
  "metadata": {
    "colab": {
      "name": "01_November_In_Class.ipynb",
      "provenance": [],
      "collapsed_sections": []
    },
    "kernelspec": {
      "name": "python3",
      "display_name": "Python 3"
    },
    "language_info": {
      "name": "python"
    }
  },
  "cells": [
    {
      "cell_type": "code",
      "metadata": {
        "colab": {
          "base_uri": "https://localhost:8080/"
        },
        "id": "EEv6v6AYtKgF",
        "outputId": "b355afdf-2e22-43f8-81ff-0b8269df509f"
      },
      "source": [
        "dict_by_dict = {'animal': 'dog',\n",
        "                'planet': 'neptun',\n",
        "                'number': 40,\n",
        "                'pi': 3.14,\n",
        "                'is_good': True}\n",
        "\n",
        "print(dict_by_dict.items(), '\\n')\n",
        "print(dict_by_dict.keys(), '\\n')\n",
        "print(dict_by_dict.values())"
      ],
      "execution_count": null,
      "outputs": [
        {
          "output_type": "stream",
          "name": "stdout",
          "text": [
            "dict_items([('animal', 'dog'), ('planet', 'neptun'), ('number', 40), ('pi', 3.14), ('is_good', True)]) \n",
            "\n",
            "dict_keys(['animal', 'planet', 'number', 'pi', 'is_good']) \n",
            "\n",
            "dict_values(['dog', 'neptun', 40, 3.14, True])\n"
          ]
        }
      ]
    },
    {
      "cell_type": "code",
      "metadata": {
        "colab": {
          "base_uri": "https://localhost:8080/"
        },
        "id": "i4Bg-M7StY-p",
        "outputId": "9304bce7-b77c-4b48-816e-768aca3fdf35"
      },
      "source": [
        "list(dict_by_dict.items())"
      ],
      "execution_count": null,
      "outputs": [
        {
          "output_type": "execute_result",
          "data": {
            "text/plain": [
              "[('animal', 'dog'),\n",
              " ('planet', 'neptun'),\n",
              " ('number', 40),\n",
              " ('pi', 3.14),\n",
              " ('is_good', True)]"
            ]
          },
          "metadata": {},
          "execution_count": 2
        }
      ]
    },
    {
      "cell_type": "code",
      "metadata": {
        "colab": {
          "base_uri": "https://localhost:8080/",
          "height": 35
        },
        "id": "HPUqJURFtZBC",
        "outputId": "8fcf9032-7ea3-4afd-a6c8-c46267eb46e0"
      },
      "source": [
        "items = list(dict_by_dict.items())\n",
        "x, y = items[0]\n",
        "x"
      ],
      "execution_count": null,
      "outputs": [
        {
          "output_type": "execute_result",
          "data": {
            "application/vnd.google.colaboratory.intrinsic+json": {
              "type": "string"
            },
            "text/plain": [
              "'animal'"
            ]
          },
          "metadata": {},
          "execution_count": 9
        }
      ]
    },
    {
      "cell_type": "code",
      "metadata": {
        "colab": {
          "base_uri": "https://localhost:8080/",
          "height": 35
        },
        "id": "kLi6m9y4uX8i",
        "outputId": "0727fc28-1179-4e8d-fbf5-853fa6b8bb02"
      },
      "source": [
        "y"
      ],
      "execution_count": null,
      "outputs": [
        {
          "output_type": "execute_result",
          "data": {
            "application/vnd.google.colaboratory.intrinsic+json": {
              "type": "string"
            },
            "text/plain": [
              "'dog'"
            ]
          },
          "metadata": {},
          "execution_count": 10
        }
      ]
    },
    {
      "cell_type": "code",
      "metadata": {
        "colab": {
          "base_uri": "https://localhost:8080/"
        },
        "id": "ED1qSJzctZDN",
        "outputId": "3fa94247-7a20-499c-8e08-e8265b2a5e81"
      },
      "source": [
        "tuple(dict_by_dict.keys())"
      ],
      "execution_count": null,
      "outputs": [
        {
          "output_type": "execute_result",
          "data": {
            "text/plain": [
              "('animal', 'planet', 'number', 'pi', 'is_good')"
            ]
          },
          "metadata": {},
          "execution_count": 7
        }
      ]
    },
    {
      "cell_type": "code",
      "metadata": {
        "colab": {
          "base_uri": "https://localhost:8080/"
        },
        "id": "1HKlZzuRtZFO",
        "outputId": "c238c9aa-8a0a-44ce-83e5-71f6ba3e1a73"
      },
      "source": [
        "set(dict_by_dict.values())"
      ],
      "execution_count": null,
      "outputs": [
        {
          "output_type": "execute_result",
          "data": {
            "text/plain": [
              "{3.14, 40, True, 'dog', 'neptun'}"
            ]
          },
          "metadata": {},
          "execution_count": 8
        }
      ]
    },
    {
      "cell_type": "code",
      "metadata": {
        "id": "-tM0p4IUtZHD"
      },
      "source": [
        "family = {'name1': 'Joseph', \n",
        "          'name2': 'Bella',\n",
        "          'name3': 'Aisha',\n",
        "          'name4': 'Tom'\n",
        "         }"
      ],
      "execution_count": null,
      "outputs": []
    },
    {
      "cell_type": "code",
      "metadata": {
        "colab": {
          "base_uri": "https://localhost:8080/"
        },
        "id": "pWW9_QwnuaTq",
        "outputId": "f3ebc0de-ee0f-455e-d592-2bd50cdc297a"
      },
      "source": [
        "family"
      ],
      "execution_count": null,
      "outputs": [
        {
          "output_type": "execute_result",
          "data": {
            "text/plain": [
              "{'name1': 'Joseph', 'name2': 'Bella', 'name3': 'Aisha', 'name4': 'Tom'}"
            ]
          },
          "metadata": {},
          "execution_count": 13
        }
      ]
    },
    {
      "cell_type": "code",
      "metadata": {
        "colab": {
          "base_uri": "https://localhost:8080/"
        },
        "id": "5ZQPc-dtuaWa",
        "outputId": "c633cbc2-5108-4b7e-ec90-14e509ef99f8"
      },
      "source": [
        "list(family.items())"
      ],
      "execution_count": null,
      "outputs": [
        {
          "output_type": "execute_result",
          "data": {
            "text/plain": [
              "[('name1', 'Joseph'), ('name2', 'Bella'), ('name3', 'Aisha'), ('name4', 'Tom')]"
            ]
          },
          "metadata": {},
          "execution_count": 15
        }
      ]
    },
    {
      "cell_type": "code",
      "metadata": {
        "colab": {
          "base_uri": "https://localhost:8080/"
        },
        "id": "-T8ukvBDuaYz",
        "outputId": "7a6704f1-adb6-40af-e217-fb047dcf46eb"
      },
      "source": [
        "list(family.keys())"
      ],
      "execution_count": null,
      "outputs": [
        {
          "output_type": "execute_result",
          "data": {
            "text/plain": [
              "['name1', 'name2', 'name3', 'name4']"
            ]
          },
          "metadata": {},
          "execution_count": 16
        }
      ]
    },
    {
      "cell_type": "code",
      "metadata": {
        "colab": {
          "base_uri": "https://localhost:8080/"
        },
        "id": "PX_Il7I2uaa9",
        "outputId": "c29bf3ea-7b03-4637-d483-519ce035c420"
      },
      "source": [
        "list(family.values())"
      ],
      "execution_count": null,
      "outputs": [
        {
          "output_type": "execute_result",
          "data": {
            "text/plain": [
              "['Joseph', 'Bella', 'Aisha', 'Tom']"
            ]
          },
          "metadata": {},
          "execution_count": 18
        }
      ]
    },
    {
      "cell_type": "code",
      "metadata": {
        "id": "L_M4pJAZvHa6"
      },
      "source": [
        "family[\"name5\"] = \"İdris\""
      ],
      "execution_count": null,
      "outputs": []
    },
    {
      "cell_type": "code",
      "metadata": {
        "colab": {
          "base_uri": "https://localhost:8080/"
        },
        "id": "9QUcsMa4vHdJ",
        "outputId": "ae36ec59-b83d-45b9-f420-2854d7744499"
      },
      "source": [
        "family"
      ],
      "execution_count": null,
      "outputs": [
        {
          "output_type": "execute_result",
          "data": {
            "text/plain": [
              "{'name1': 'Joseph',\n",
              " 'name2': 'Bella',\n",
              " 'name3': 'Aisha',\n",
              " 'name4': 'Tom',\n",
              " 'name5': 'İdris'}"
            ]
          },
          "metadata": {},
          "execution_count": 20
        }
      ]
    },
    {
      "cell_type": "code",
      "metadata": {
        "colab": {
          "base_uri": "https://localhost:8080/"
        },
        "id": "9Njwo5nhvHfl",
        "outputId": "7c7e917c-82cb-405f-bb52-8b47f422a5eb"
      },
      "source": [
        "dict_by_dict = {'animal': 'dog',\n",
        "                'planet': 'neptun',\n",
        "                'number': 40,\n",
        "                'pi': 3.14,\n",
        "                'is_good': True}\n",
        "\n",
        "dict_by_dict.update({\"is_bad\" : False})\n",
        "print(dict_by_dict)"
      ],
      "execution_count": null,
      "outputs": [
        {
          "output_type": "stream",
          "name": "stdout",
          "text": [
            "{'animal': 'dog', 'planet': 'neptun', 'number': 40, 'pi': 3.14, 'is_good': True, 'is_bad': False}\n"
          ]
        }
      ]
    },
    {
      "cell_type": "code",
      "metadata": {
        "id": "qdyPaS6bvNeB"
      },
      "source": [
        "family.update({\"name6\" : \"Büşra\"})"
      ],
      "execution_count": null,
      "outputs": []
    },
    {
      "cell_type": "code",
      "metadata": {
        "colab": {
          "base_uri": "https://localhost:8080/"
        },
        "id": "Z1HsCbcAvNgq",
        "outputId": "08c1a3fa-4f85-4d2a-a35c-6c4cb17a0f50"
      },
      "source": [
        "family"
      ],
      "execution_count": null,
      "outputs": [
        {
          "output_type": "execute_result",
          "data": {
            "text/plain": [
              "{'name1': 'Joseph',\n",
              " 'name2': 'Bella',\n",
              " 'name3': 'Aisha',\n",
              " 'name4': 'Tom',\n",
              " 'name5': 'İdris',\n",
              " 'name6': 'Büşra'}"
            ]
          },
          "metadata": {},
          "execution_count": 23
        }
      ]
    },
    {
      "cell_type": "code",
      "metadata": {
        "colab": {
          "base_uri": "https://localhost:8080/",
          "height": 35
        },
        "id": "axEQokuqvNjV",
        "outputId": "2e2fc73b-5f6f-4ec7-f7d5-7150fbfc6ef2"
      },
      "source": [
        "family[\"name2\"]"
      ],
      "execution_count": null,
      "outputs": [
        {
          "output_type": "execute_result",
          "data": {
            "application/vnd.google.colaboratory.intrinsic+json": {
              "type": "string"
            },
            "text/plain": [
              "'Bella'"
            ]
          },
          "metadata": {},
          "execution_count": 24
        }
      ]
    },
    {
      "cell_type": "code",
      "metadata": {
        "colab": {
          "base_uri": "https://localhost:8080/"
        },
        "id": "CKqxs-UUvNl3",
        "outputId": "0efdfc08-3f5c-428a-a138-b7c1aaffd5aa"
      },
      "source": [
        "dict_by_dict[\"is_good\"]"
      ],
      "execution_count": null,
      "outputs": [
        {
          "output_type": "execute_result",
          "data": {
            "text/plain": [
              "True"
            ]
          },
          "metadata": {},
          "execution_count": 25
        }
      ]
    },
    {
      "cell_type": "code",
      "metadata": {
        "colab": {
          "base_uri": "https://localhost:8080/"
        },
        "id": "sadekBqFvNoa",
        "outputId": "75919760-0590-498b-994e-50c26200d1d2"
      },
      "source": [
        "type(dict_by_dict[\"is_good\"])"
      ],
      "execution_count": null,
      "outputs": [
        {
          "output_type": "execute_result",
          "data": {
            "text/plain": [
              "bool"
            ]
          },
          "metadata": {},
          "execution_count": 26
        }
      ]
    },
    {
      "cell_type": "code",
      "metadata": {
        "id": "ruiMT0_nwyNS"
      },
      "source": [
        "del dict_by_dict[\"is_good\"]"
      ],
      "execution_count": null,
      "outputs": []
    },
    {
      "cell_type": "code",
      "metadata": {
        "colab": {
          "base_uri": "https://localhost:8080/"
        },
        "id": "PZ5WFxAmw1Hd",
        "outputId": "a5af2700-5885-4d19-ea35-5f4e70c84134"
      },
      "source": [
        "dict_by_dict"
      ],
      "execution_count": null,
      "outputs": [
        {
          "output_type": "execute_result",
          "data": {
            "text/plain": [
              "{'animal': 'dog',\n",
              " 'is_bad': False,\n",
              " 'number': 40,\n",
              " 'pi': 3.14,\n",
              " 'planet': 'neptun'}"
            ]
          },
          "metadata": {},
          "execution_count": 28
        }
      ]
    },
    {
      "cell_type": "code",
      "metadata": {
        "id": "u6tnFC75w1Kf"
      },
      "source": [
        "del family[\"name2\"], family[\"name3\"], family[\"name6\"]"
      ],
      "execution_count": null,
      "outputs": []
    },
    {
      "cell_type": "code",
      "metadata": {
        "colab": {
          "base_uri": "https://localhost:8080/"
        },
        "id": "zHalqz0Tw1MX",
        "outputId": "068b27fc-86e2-4b5c-c4d2-9b985eddd4e8"
      },
      "source": [
        "family"
      ],
      "execution_count": null,
      "outputs": [
        {
          "output_type": "execute_result",
          "data": {
            "text/plain": [
              "{'name1': 'Joseph', 'name4': 'Tom', 'name5': 'İdris'}"
            ]
          },
          "metadata": {},
          "execution_count": 30
        }
      ]
    },
    {
      "cell_type": "code",
      "metadata": {
        "id": "AaWNV9SNw7OQ"
      },
      "source": [
        "a = \"clarusway\""
      ],
      "execution_count": null,
      "outputs": []
    },
    {
      "cell_type": "code",
      "metadata": {
        "colab": {
          "base_uri": "https://localhost:8080/"
        },
        "id": "GBqQvBx9w7Qw",
        "outputId": "c95181e3-2ec0-44c3-f1bb-9533d12c962a"
      },
      "source": [
        "print(a)"
      ],
      "execution_count": null,
      "outputs": [
        {
          "output_type": "stream",
          "name": "stdout",
          "text": [
            "clarusway\n"
          ]
        }
      ]
    },
    {
      "cell_type": "code",
      "metadata": {
        "id": "WOubKtWbw7TC"
      },
      "source": [
        "del a"
      ],
      "execution_count": null,
      "outputs": []
    },
    {
      "cell_type": "code",
      "metadata": {
        "colab": {
          "base_uri": "https://localhost:8080/",
          "height": 163
        },
        "id": "aLv-5IX1w7VT",
        "outputId": "b4cbfe04-18ce-4f3a-a831-6a581fdcbbf8"
      },
      "source": [
        "print(a)"
      ],
      "execution_count": null,
      "outputs": [
        {
          "output_type": "error",
          "ename": "NameError",
          "evalue": "ignored",
          "traceback": [
            "\u001b[0;31m---------------------------------------------------------------------------\u001b[0m",
            "\u001b[0;31mNameError\u001b[0m                                 Traceback (most recent call last)",
            "\u001b[0;32m<ipython-input-34-bca0e2660b9f>\u001b[0m in \u001b[0;36m<module>\u001b[0;34m()\u001b[0m\n\u001b[0;32m----> 1\u001b[0;31m \u001b[0mprint\u001b[0m\u001b[0;34m(\u001b[0m\u001b[0ma\u001b[0m\u001b[0;34m)\u001b[0m\u001b[0;34m\u001b[0m\u001b[0;34m\u001b[0m\u001b[0m\n\u001b[0m",
            "\u001b[0;31mNameError\u001b[0m: name 'a' is not defined"
          ]
        }
      ]
    },
    {
      "cell_type": "code",
      "metadata": {
        "colab": {
          "base_uri": "https://localhost:8080/"
        },
        "id": "z6b8L8Tdw7X4",
        "outputId": "5404bd7a-b5f4-4d68-bd66-79464036e179"
      },
      "source": [
        "dict_by_dict"
      ],
      "execution_count": null,
      "outputs": [
        {
          "output_type": "execute_result",
          "data": {
            "text/plain": [
              "{'animal': 'dog',\n",
              " 'is_bad': False,\n",
              " 'number': 40,\n",
              " 'pi': 3.14,\n",
              " 'planet': 'neptun'}"
            ]
          },
          "metadata": {},
          "execution_count": 35
        }
      ]
    },
    {
      "cell_type": "code",
      "metadata": {
        "id": "5gSGqPr5xvna"
      },
      "source": [
        "del dict_by_dict[\"is_bad\"]"
      ],
      "execution_count": null,
      "outputs": []
    },
    {
      "cell_type": "code",
      "metadata": {
        "colab": {
          "base_uri": "https://localhost:8080/"
        },
        "id": "SRVKT_9Lxvp7",
        "outputId": "8cbab412-f2ae-48c7-a453-f42db5f55f6a"
      },
      "source": [
        "dict_by_dict"
      ],
      "execution_count": null,
      "outputs": [
        {
          "output_type": "execute_result",
          "data": {
            "text/plain": [
              "{'animal': 'dog', 'number': 40, 'pi': 3.14, 'planet': 'neptun'}"
            ]
          },
          "metadata": {},
          "execution_count": 37
        }
      ]
    },
    {
      "cell_type": "code",
      "metadata": {
        "colab": {
          "base_uri": "https://localhost:8080/"
        },
        "id": "knhKXUsbxvsQ",
        "outputId": "541d8cb7-286f-4a63-8f8f-b92e96e40e7c"
      },
      "source": [
        "\"i\" in \"clarusway\""
      ],
      "execution_count": null,
      "outputs": [
        {
          "output_type": "execute_result",
          "data": {
            "text/plain": [
              "False"
            ]
          },
          "metadata": {},
          "execution_count": 38
        }
      ]
    },
    {
      "cell_type": "code",
      "metadata": {
        "colab": {
          "base_uri": "https://localhost:8080/"
        },
        "id": "sc9ONQvtyS-C",
        "outputId": "9590656c-1d63-49b0-df6a-a9a56cf67b8f"
      },
      "source": [
        "\"a\" in \"clarusway\""
      ],
      "execution_count": null,
      "outputs": [
        {
          "output_type": "execute_result",
          "data": {
            "text/plain": [
              "True"
            ]
          },
          "metadata": {},
          "execution_count": 39
        }
      ]
    },
    {
      "cell_type": "code",
      "metadata": {
        "colab": {
          "base_uri": "https://localhost:8080/"
        },
        "id": "svb9U7gCyTBC",
        "outputId": "b454937a-1840-4caf-ba91-d9c40178693e"
      },
      "source": [
        "\"c l a r u s w a y\".split()"
      ],
      "execution_count": null,
      "outputs": [
        {
          "output_type": "execute_result",
          "data": {
            "text/plain": [
              "['c', 'l', 'a', 'r', 'u', 's', 'w', 'a', 'y']"
            ]
          },
          "metadata": {},
          "execution_count": 40
        }
      ]
    },
    {
      "cell_type": "code",
      "metadata": {
        "colab": {
          "base_uri": "https://localhost:8080/"
        },
        "id": "DN8V_qgEyTDW",
        "outputId": "ce854a95-f9ec-42aa-ce31-3c943e6cf2c1"
      },
      "source": [
        "\"clarusway\".split()"
      ],
      "execution_count": null,
      "outputs": [
        {
          "output_type": "execute_result",
          "data": {
            "text/plain": [
              "['clarusway']"
            ]
          },
          "metadata": {},
          "execution_count": 41
        }
      ]
    },
    {
      "cell_type": "code",
      "metadata": {
        "id": "Dd_S1Nt1yTGl"
      },
      "source": [
        "bootcamp = \"c l a r u s w a y\".split()"
      ],
      "execution_count": null,
      "outputs": []
    },
    {
      "cell_type": "code",
      "metadata": {
        "colab": {
          "base_uri": "https://localhost:8080/"
        },
        "id": "O4kiWfqwypEX",
        "outputId": "a26cc412-1f2a-4fce-d358-55a1ea7575a8"
      },
      "source": [
        "bootcamp"
      ],
      "execution_count": null,
      "outputs": [
        {
          "output_type": "execute_result",
          "data": {
            "text/plain": [
              "['c', 'l', 'a', 'r', 'u', 's', 'w', 'a', 'y']"
            ]
          },
          "metadata": {},
          "execution_count": 43
        }
      ]
    },
    {
      "cell_type": "code",
      "metadata": {
        "colab": {
          "base_uri": "https://localhost:8080/"
        },
        "id": "lU6pnwaSypHV",
        "outputId": "9a41b59d-bfc1-40e5-e0e9-9f49535135f5"
      },
      "source": [
        "\"a\" in bootcamp"
      ],
      "execution_count": null,
      "outputs": [
        {
          "output_type": "execute_result",
          "data": {
            "text/plain": [
              "True"
            ]
          },
          "metadata": {},
          "execution_count": 45
        }
      ]
    },
    {
      "cell_type": "code",
      "metadata": {
        "colab": {
          "base_uri": "https://localhost:8080/"
        },
        "id": "FFubc7_cypJt",
        "outputId": "2a03f990-e99b-49d1-d779-1d0e51076542"
      },
      "source": [
        "dict_by_dict"
      ],
      "execution_count": null,
      "outputs": [
        {
          "output_type": "execute_result",
          "data": {
            "text/plain": [
              "{'animal': 'dog', 'number': 40, 'pi': 3.14, 'planet': 'neptun'}"
            ]
          },
          "metadata": {},
          "execution_count": 46
        }
      ]
    },
    {
      "cell_type": "code",
      "metadata": {
        "colab": {
          "base_uri": "https://localhost:8080/"
        },
        "id": "eqEuapMXypMW",
        "outputId": "e748aa50-aa12-465a-8998-2d2fbe4589f3"
      },
      "source": [
        "\"dog\" in dict_by_dict"
      ],
      "execution_count": null,
      "outputs": [
        {
          "output_type": "execute_result",
          "data": {
            "text/plain": [
              "False"
            ]
          },
          "metadata": {},
          "execution_count": 47
        }
      ]
    },
    {
      "cell_type": "code",
      "metadata": {
        "colab": {
          "base_uri": "https://localhost:8080/"
        },
        "id": "5nxbsyZuypOx",
        "outputId": "92ef4bfe-23a8-4780-a63c-197fda2b8b6c"
      },
      "source": [
        "\"animal\" in dict_by_dict"
      ],
      "execution_count": null,
      "outputs": [
        {
          "output_type": "execute_result",
          "data": {
            "text/plain": [
              "True"
            ]
          },
          "metadata": {},
          "execution_count": 49
        }
      ]
    },
    {
      "cell_type": "code",
      "metadata": {
        "colab": {
          "base_uri": "https://localhost:8080/"
        },
        "id": "EoldZIGmzzJD",
        "outputId": "67999c38-52fc-4c1c-83f9-28c046744b3e"
      },
      "source": [
        "\"planet\" in dict_by_dict"
      ],
      "execution_count": null,
      "outputs": [
        {
          "output_type": "execute_result",
          "data": {
            "text/plain": [
              "True"
            ]
          },
          "metadata": {},
          "execution_count": 50
        }
      ]
    },
    {
      "cell_type": "code",
      "metadata": {
        "colab": {
          "base_uri": "https://localhost:8080/"
        },
        "id": "0hwKFmDhzzOb",
        "outputId": "cf0bda77-31b2-407f-cf3c-77b52fba2c79"
      },
      "source": [
        "\"dog\" in dict_by_dict.values()"
      ],
      "execution_count": null,
      "outputs": [
        {
          "output_type": "execute_result",
          "data": {
            "text/plain": [
              "True"
            ]
          },
          "metadata": {},
          "execution_count": 51
        }
      ]
    },
    {
      "cell_type": "code",
      "metadata": {
        "colab": {
          "base_uri": "https://localhost:8080/"
        },
        "id": "iWPXxMmkzzRn",
        "outputId": "b3d04cb1-d7b6-47f0-a038-aaf412796edb"
      },
      "source": [
        "\"dog\" not in dict_by_dict"
      ],
      "execution_count": null,
      "outputs": [
        {
          "output_type": "execute_result",
          "data": {
            "text/plain": [
              "True"
            ]
          },
          "metadata": {},
          "execution_count": 52
        }
      ]
    },
    {
      "cell_type": "code",
      "metadata": {
        "id": "9dHyRQOzzzSp"
      },
      "source": [
        "school_records={\n",
        "    \"personal_info\":\n",
        "        {\"kid\":{\"tom\": {\"class\": \"intermediate\", \"age\": 10},\n",
        "                \"sue\": {\"class\": \"elementary\", \"age\": 8}\n",
        "               },\n",
        "         \"teen\":{\"joseph\":{\"class\": \"college\", \"age\": 19},\n",
        "                 \"marry\":{\"class\": \"high school\", \"age\": 16}\n",
        "               },               \n",
        "        },\n",
        "        \n",
        "    \"grades_info\":\n",
        "        {\"kid\":{\"tom\": {\"math\": 88, \"speech\": 69},\n",
        "                \"sue\": {\"math\": 90, \"speech\": 81}\n",
        "               },\n",
        "         \"teen\":{\"joseph\":{\"coding\": 80, \"math\": 89},\n",
        "                 \"marry\":{\"coding\": 70, \"math\": 96}\n",
        "               },               \n",
        "        },        \n",
        "}"
      ],
      "execution_count": null,
      "outputs": []
    },
    {
      "cell_type": "code",
      "metadata": {
        "colab": {
          "base_uri": "https://localhost:8080/"
        },
        "id": "3hxjYlPhzzTt",
        "outputId": "c9414165-6f43-4c8f-d2ff-c1ebacc0d6e3"
      },
      "source": [
        "len(school_records)"
      ],
      "execution_count": null,
      "outputs": [
        {
          "output_type": "execute_result",
          "data": {
            "text/plain": [
              "2"
            ]
          },
          "metadata": {},
          "execution_count": 54
        }
      ]
    },
    {
      "cell_type": "code",
      "metadata": {
        "colab": {
          "base_uri": "https://localhost:8080/"
        },
        "id": "E9P12n6b0q2O",
        "outputId": "ae2d42a2-ea8a-4e88-e8c3-c48da870246d"
      },
      "source": [
        "school_records"
      ],
      "execution_count": null,
      "outputs": [
        {
          "output_type": "execute_result",
          "data": {
            "text/plain": [
              "{'grades_info': {'kid': {'sue': {'math': 90, 'speech': 81},\n",
              "   'tom': {'math': 88, 'speech': 69}},\n",
              "  'teen': {'joseph': {'coding': 80, 'math': 89},\n",
              "   'marry': {'coding': 70, 'math': 96}}},\n",
              " 'personal_info': {'kid': {'sue': {'age': 8, 'class': 'elementary'},\n",
              "   'tom': {'age': 10, 'class': 'intermediate'}},\n",
              "  'teen': {'joseph': {'age': 19, 'class': 'college'},\n",
              "   'marry': {'age': 16, 'class': 'high school'}}}}"
            ]
          },
          "metadata": {},
          "execution_count": 55
        }
      ]
    },
    {
      "cell_type": "code",
      "metadata": {
        "colab": {
          "base_uri": "https://localhost:8080/"
        },
        "id": "Fdj678M30q4v",
        "outputId": "7eee7c17-c541-4755-94a4-e5a7170fd1ad"
      },
      "source": [
        "school_records[\"personal_info\"]"
      ],
      "execution_count": null,
      "outputs": [
        {
          "output_type": "execute_result",
          "data": {
            "text/plain": [
              "{'kid': {'sue': {'age': 8, 'class': 'elementary'},\n",
              "  'tom': {'age': 10, 'class': 'intermediate'}},\n",
              " 'teen': {'joseph': {'age': 19, 'class': 'college'},\n",
              "  'marry': {'age': 16, 'class': 'high school'}}}"
            ]
          },
          "metadata": {},
          "execution_count": 56
        }
      ]
    },
    {
      "cell_type": "code",
      "metadata": {
        "colab": {
          "base_uri": "https://localhost:8080/"
        },
        "id": "tEI1Y1RV0q64",
        "outputId": "7d09631d-cb71-4537-c118-9d419fe7ac6e"
      },
      "source": [
        "len(school_records[\"personal_info\"])"
      ],
      "execution_count": null,
      "outputs": [
        {
          "output_type": "execute_result",
          "data": {
            "text/plain": [
              "2"
            ]
          },
          "metadata": {},
          "execution_count": 58
        }
      ]
    },
    {
      "cell_type": "code",
      "metadata": {
        "colab": {
          "base_uri": "https://localhost:8080/"
        },
        "id": "Epl4AUPG5DfJ",
        "outputId": "40d0c3a2-30cc-4a44-9448-a2d0ae99f537"
      },
      "source": [
        "school_records[\"personal_info\"][\"kid\"]"
      ],
      "execution_count": null,
      "outputs": [
        {
          "output_type": "execute_result",
          "data": {
            "text/plain": [
              "{'sue': {'age': 8, 'class': 'elementary'},\n",
              " 'tom': {'age': 10, 'class': 'intermediate'}}"
            ]
          },
          "metadata": {},
          "execution_count": 59
        }
      ]
    },
    {
      "cell_type": "code",
      "metadata": {
        "colab": {
          "base_uri": "https://localhost:8080/"
        },
        "id": "BhcEBejr5DiF",
        "outputId": "5df6f1f2-dfe2-460e-a294-f808d26ce0bc"
      },
      "source": [
        "len(school_records[\"personal_info\"][\"kid\"])"
      ],
      "execution_count": null,
      "outputs": [
        {
          "output_type": "execute_result",
          "data": {
            "text/plain": [
              "2"
            ]
          },
          "metadata": {},
          "execution_count": 60
        }
      ]
    },
    {
      "cell_type": "code",
      "metadata": {
        "colab": {
          "base_uri": "https://localhost:8080/"
        },
        "id": "t0wwqsc85Dj5",
        "outputId": "30dcfee1-fd71-4b34-c378-5699d3b6e0aa"
      },
      "source": [
        "school_records[\"personal_info\"][\"kid\"][\"tom\"]"
      ],
      "execution_count": null,
      "outputs": [
        {
          "output_type": "execute_result",
          "data": {
            "text/plain": [
              "{'age': 10, 'class': 'intermediate'}"
            ]
          },
          "metadata": {},
          "execution_count": 61
        }
      ]
    },
    {
      "cell_type": "code",
      "metadata": {
        "colab": {
          "base_uri": "https://localhost:8080/"
        },
        "id": "KZHjm21P5Dlu",
        "outputId": "db244462-da5a-484d-8dde-c596233adfee"
      },
      "source": [
        "len(school_records[\"personal_info\"][\"kid\"][\"tom\"])"
      ],
      "execution_count": null,
      "outputs": [
        {
          "output_type": "execute_result",
          "data": {
            "text/plain": [
              "2"
            ]
          },
          "metadata": {},
          "execution_count": 62
        }
      ]
    },
    {
      "cell_type": "code",
      "metadata": {
        "colab": {
          "base_uri": "https://localhost:8080/"
        },
        "id": "Z2dX2g3w5bwG",
        "outputId": "831fd1e2-5b07-43c9-bb3b-63ca04548a11"
      },
      "source": [
        "school_records[\"personal_info\"][\"kid\"][\"tom\"][\"age\"]"
      ],
      "execution_count": null,
      "outputs": [
        {
          "output_type": "execute_result",
          "data": {
            "text/plain": [
              "10"
            ]
          },
          "metadata": {},
          "execution_count": 63
        }
      ]
    },
    {
      "cell_type": "code",
      "metadata": {
        "colab": {
          "base_uri": "https://localhost:8080/"
        },
        "id": "_sBkW-il5bzJ",
        "outputId": "ee8c0f34-bdc7-4f7d-f623-c6c06fd6f950"
      },
      "source": [
        "print(school_records[\"personal_info\"][\"teen\"][\"marry\"][\"age\"])"
      ],
      "execution_count": null,
      "outputs": [
        {
          "output_type": "stream",
          "name": "stdout",
          "text": [
            "16\n"
          ]
        }
      ]
    },
    {
      "cell_type": "code",
      "metadata": {
        "colab": {
          "base_uri": "https://localhost:8080/"
        },
        "id": "_sTXuRR86Gxv",
        "outputId": "a8eea411-07fe-44e8-cf55-dc71a74af47d"
      },
      "source": [
        "print(school_records[\"grades_info\"][\"teen\"][\"joseph\"])"
      ],
      "execution_count": null,
      "outputs": [
        {
          "output_type": "stream",
          "name": "stdout",
          "text": [
            "{'coding': 80, 'math': 89}\n"
          ]
        }
      ]
    },
    {
      "cell_type": "code",
      "metadata": {
        "colab": {
          "base_uri": "https://localhost:8080/"
        },
        "id": "n89oENhL6Gzr",
        "outputId": "c51bbb24-94b3-4478-9ab5-f07cb5dbfed3"
      },
      "source": [
        "print(list(school_records[\"grades_info\"][\"teen\"][\"joseph\"].items()))"
      ],
      "execution_count": null,
      "outputs": [
        {
          "output_type": "stream",
          "name": "stdout",
          "text": [
            "[('coding', 80), ('math', 89)]\n"
          ]
        }
      ]
    },
    {
      "cell_type": "code",
      "metadata": {
        "id": "_TkX12bb6G2E"
      },
      "source": [
        "friends ={\n",
        "    \"friend1\" : {'first' : 'Sue', 'last' : 'Bold'},\n",
        "    \"friend2\" : {'first' : 'Steve', 'last' : 'Smith'}\n",
        "}"
      ],
      "execution_count": null,
      "outputs": []
    },
    {
      "cell_type": "code",
      "metadata": {
        "colab": {
          "base_uri": "https://localhost:8080/"
        },
        "id": "zqARrAOX6G4B",
        "outputId": "af259053-c65d-4d94-da40-ba475f98ffd3"
      },
      "source": [
        "favourite = {\n",
        "    \"friends\" : {\n",
        "        \"friend1\" : {'first' : 'Sue', 'last' : 'Bold'},\n",
        "        \"friend2\" : {'first' : 'Steve', 'last' : 'Smith'}\n",
        "        },\n",
        "     \"family\" : {\n",
        "        \"family1\" : {'first' : 'Sue', 'last' : 'Bold'},\n",
        "        \"family2\" : {'first' : 'Steve', 'last' : 'Smith'}\n",
        "     }\n",
        "}\n",
        "    \n",
        "print(favourite)"
      ],
      "execution_count": null,
      "outputs": [
        {
          "output_type": "stream",
          "name": "stdout",
          "text": [
            "{'friends': {'friend1': {'first': 'Sue', 'last': 'Bold'}, 'friend2': {'first': 'Steve', 'last': 'Smith'}}, 'family': {'family1': {'first': 'Sue', 'last': 'Bold'}, 'family2': {'first': 'Steve', 'last': 'Smith'}}}\n"
          ]
        }
      ]
    },
    {
      "cell_type": "code",
      "metadata": {
        "colab": {
          "base_uri": "https://localhost:8080/"
        },
        "id": "x0clHM-z6G5l",
        "outputId": "2238ec60-c54a-4eb2-eb4c-80085dda4745"
      },
      "source": [
        "metin = input(\"bir metin giriniz: \")\n",
        "sozluk = dict()\n",
        "for harf in metin:\n",
        "    if harf in sozluk:\n",
        "        sozluk [harf] += 1\n",
        "    else:\n",
        "        sozluk[harf] = 1\n",
        "for harf, adet in sozluk.items():\n",
        "    print(harf, adet, end = \" \")"
      ],
      "execution_count": null,
      "outputs": [
        {
          "output_type": "stream",
          "name": "stdout",
          "text": [
            "bir metin giriniz: mehmet\n",
            "m 2 e 2 h 1 t 1 "
          ]
        }
      ]
    },
    {
      "cell_type": "code",
      "metadata": {
        "colab": {
          "base_uri": "https://localhost:8080/"
        },
        "id": "Anjlk65K-kT2",
        "outputId": "621fd138-b5f1-4f9b-c0f2-d82519defa28"
      },
      "source": [
        "len([1, 1, 2, 0, 1])"
      ],
      "execution_count": null,
      "outputs": [
        {
          "output_type": "execute_result",
          "data": {
            "text/plain": [
              "5"
            ]
          },
          "metadata": {},
          "execution_count": 74
        }
      ]
    },
    {
      "cell_type": "code",
      "metadata": {
        "colab": {
          "base_uri": "https://localhost:8080/"
        },
        "id": "lRKZkuOV-kWt",
        "outputId": "de17df87-3cae-4666-a9b4-5564df66b462"
      },
      "source": [
        "len({1, 1, 2, 0, 1})"
      ],
      "execution_count": null,
      "outputs": [
        {
          "output_type": "execute_result",
          "data": {
            "text/plain": [
              "3"
            ]
          },
          "metadata": {},
          "execution_count": 75
        }
      ]
    },
    {
      "cell_type": "code",
      "metadata": {
        "colab": {
          "base_uri": "https://localhost:8080/"
        },
        "id": "1_2euVrY-kaf",
        "outputId": "4fc5cf57-352c-47bd-9adb-120d541fcb31"
      },
      "source": [
        "ilk_kumem = {1, 2, 1, 0, 1}\n",
        "ilk_kumem"
      ],
      "execution_count": null,
      "outputs": [
        {
          "output_type": "execute_result",
          "data": {
            "text/plain": [
              "{0, 1, 2}"
            ]
          },
          "metadata": {},
          "execution_count": 77
        }
      ]
    },
    {
      "cell_type": "code",
      "metadata": {
        "id": "6KS7fUT9-kdO"
      },
      "source": [
        "letter = \"a b c d e f g h i j k l m n o  q r s t u v w x y z\".split()"
      ],
      "execution_count": null,
      "outputs": []
    },
    {
      "cell_type": "code",
      "metadata": {
        "colab": {
          "base_uri": "https://localhost:8080/"
        },
        "id": "PDiWJ3Qs-kfs",
        "outputId": "28438ebd-95d4-4af3-cc47-5914e9d2fcc3"
      },
      "source": [
        "print(letter)"
      ],
      "execution_count": null,
      "outputs": [
        {
          "output_type": "stream",
          "name": "stdout",
          "text": [
            "['a', 'b', 'c', 'd', 'e', 'f', 'g', 'h', 'i', 'j', 'k', 'l', 'm', 'n', 'o', 'q', 'r', 's', 't', 'u', 'v', 'w', 'x', 'y', 'z']\n"
          ]
        }
      ]
    },
    {
      "cell_type": "code",
      "metadata": {
        "colab": {
          "base_uri": "https://localhost:8080/"
        },
        "id": "mBrsutsaAYz1",
        "outputId": "220e350e-3fb2-4115-8ea2-0b313910b3e8"
      },
      "source": [
        "print(set(letter))"
      ],
      "execution_count": null,
      "outputs": [
        {
          "output_type": "stream",
          "name": "stdout",
          "text": [
            "{'s', 't', 'm', 'c', 'f', 'a', 'u', 'g', 'e', 'q', 'l', 'y', 'b', 'i', 'v', 'r', 'w', 'x', 'j', 'k', 'd', 'z', 'n', 'h', 'o'}\n"
          ]
        }
      ]
    },
    {
      "cell_type": "code",
      "metadata": {
        "colab": {
          "base_uri": "https://localhost:8080/"
        },
        "id": "zEqJ5lG0BNCO",
        "outputId": "7c1aa564-9bbe-4b86-f2a5-b543b8714da2"
      },
      "source": [
        "\"a-b-c-d\".split(\"-\")"
      ],
      "execution_count": null,
      "outputs": [
        {
          "output_type": "execute_result",
          "data": {
            "text/plain": [
              "['a', 'b', 'c', 'd']"
            ]
          },
          "metadata": {},
          "execution_count": 84
        }
      ]
    },
    {
      "cell_type": "code",
      "metadata": {
        "colab": {
          "base_uri": "https://localhost:8080/"
        },
        "id": "T8g5-He-BNFd",
        "outputId": "ae843f9e-fe6a-4467-cd4c-a854169fbec2"
      },
      "source": [
        "set_1 = {'red', 'blue', 'pink', 'red'}\n",
        "colors = 'red', 'blue', 'pink', 'red'\n",
        "set_2 = set(colors)\n",
        "print(set_1)\n",
        "print(set_2)"
      ],
      "execution_count": null,
      "outputs": [
        {
          "output_type": "stream",
          "name": "stdout",
          "text": [
            "{'pink', 'red', 'blue'}\n",
            "{'pink', 'red', 'blue'}\n"
          ]
        }
      ]
    },
    {
      "cell_type": "code",
      "metadata": {
        "id": "uOFI0H5XBNHj"
      },
      "source": [
        "test = {1, \"1\", 1.0}"
      ],
      "execution_count": null,
      "outputs": []
    },
    {
      "cell_type": "code",
      "metadata": {
        "colab": {
          "base_uri": "https://localhost:8080/"
        },
        "id": "rywp18SzDZED",
        "outputId": "f77a9184-b203-4510-e0ee-aafb0818c66d"
      },
      "source": [
        "len(test)"
      ],
      "execution_count": null,
      "outputs": [
        {
          "output_type": "execute_result",
          "data": {
            "text/plain": [
              "2"
            ]
          },
          "metadata": {},
          "execution_count": 88
        }
      ]
    },
    {
      "cell_type": "code",
      "metadata": {
        "colab": {
          "base_uri": "https://localhost:8080/"
        },
        "id": "tHQy3TnBDZG7",
        "outputId": "c71c0684-3e59-4bef-cae6-0cc48e4ad060"
      },
      "source": [
        "1 == 1.0"
      ],
      "execution_count": null,
      "outputs": [
        {
          "output_type": "execute_result",
          "data": {
            "text/plain": [
              "True"
            ]
          },
          "metadata": {},
          "execution_count": 89
        }
      ]
    },
    {
      "cell_type": "code",
      "metadata": {
        "id": "-Q9vI95tDZI7"
      },
      "source": [
        "given_list = [1, 2, 3, 4, 5]"
      ],
      "execution_count": null,
      "outputs": []
    },
    {
      "cell_type": "code",
      "metadata": {
        "colab": {
          "base_uri": "https://localhost:8080/",
          "height": 163
        },
        "id": "E5UfBp1mKmox",
        "outputId": "a4ead72f-41c5-4f2c-b448-11aefbeeb374"
      },
      "source": [
        "{given_list}"
      ],
      "execution_count": null,
      "outputs": [
        {
          "output_type": "error",
          "ename": "TypeError",
          "evalue": "ignored",
          "traceback": [
            "\u001b[0;31m---------------------------------------------------------------------------\u001b[0m",
            "\u001b[0;31mTypeError\u001b[0m                                 Traceback (most recent call last)",
            "\u001b[0;32m<ipython-input-95-2d5df8db4262>\u001b[0m in \u001b[0;36m<module>\u001b[0;34m()\u001b[0m\n\u001b[0;32m----> 1\u001b[0;31m \u001b[0;34m{\u001b[0m\u001b[0mgiven_list\u001b[0m\u001b[0;34m}\u001b[0m\u001b[0;34m\u001b[0m\u001b[0;34m\u001b[0m\u001b[0m\n\u001b[0m",
            "\u001b[0;31mTypeError\u001b[0m: unhashable type: 'list'"
          ]
        }
      ]
    },
    {
      "cell_type": "code",
      "metadata": {
        "colab": {
          "base_uri": "https://localhost:8080/",
          "height": 163
        },
        "id": "XnVC4RKWKmr5",
        "outputId": "263b13a9-d97b-463d-ad2c-ee5af0735618"
      },
      "source": [
        "{[1, \"bir\"], \"ali\", \"deli\"}"
      ],
      "execution_count": null,
      "outputs": [
        {
          "output_type": "error",
          "ename": "TypeError",
          "evalue": "ignored",
          "traceback": [
            "\u001b[0;31m---------------------------------------------------------------------------\u001b[0m",
            "\u001b[0;31mTypeError\u001b[0m                                 Traceback (most recent call last)",
            "\u001b[0;32m<ipython-input-96-7e779182a798>\u001b[0m in \u001b[0;36m<module>\u001b[0;34m()\u001b[0m\n\u001b[0;32m----> 1\u001b[0;31m \u001b[0;34m{\u001b[0m\u001b[0;34m[\u001b[0m\u001b[0;36m1\u001b[0m\u001b[0;34m,\u001b[0m \u001b[0;34m\"bir\"\u001b[0m\u001b[0;34m]\u001b[0m\u001b[0;34m,\u001b[0m \u001b[0;34m\"ali\"\u001b[0m\u001b[0;34m,\u001b[0m \u001b[0;34m\"deli\"\u001b[0m\u001b[0;34m}\u001b[0m\u001b[0;34m\u001b[0m\u001b[0;34m\u001b[0m\u001b[0m\n\u001b[0m",
            "\u001b[0;31mTypeError\u001b[0m: unhashable type: 'list'"
          ]
        }
      ]
    },
    {
      "cell_type": "code",
      "metadata": {
        "colab": {
          "base_uri": "https://localhost:8080/",
          "height": 163
        },
        "id": "AkY9cKjbKmuX",
        "outputId": "2a07ad7b-30c7-486e-ee0c-4696358a8213"
      },
      "source": [
        "karışık = {[1, 2, 3], {1 : \"bir\"}, (\"üç\", \"dört\")}"
      ],
      "execution_count": null,
      "outputs": [
        {
          "output_type": "error",
          "ename": "TypeError",
          "evalue": "ignored",
          "traceback": [
            "\u001b[0;31m---------------------------------------------------------------------------\u001b[0m",
            "\u001b[0;31mTypeError\u001b[0m                                 Traceback (most recent call last)",
            "\u001b[0;32m<ipython-input-97-1f11ee6c10b1>\u001b[0m in \u001b[0;36m<module>\u001b[0;34m()\u001b[0m\n\u001b[0;32m----> 1\u001b[0;31m \u001b[0mkarışık\u001b[0m \u001b[0;34m=\u001b[0m \u001b[0;34m{\u001b[0m\u001b[0;34m[\u001b[0m\u001b[0;36m1\u001b[0m\u001b[0;34m,\u001b[0m \u001b[0;36m2\u001b[0m\u001b[0;34m,\u001b[0m \u001b[0;36m3\u001b[0m\u001b[0;34m]\u001b[0m\u001b[0;34m,\u001b[0m \u001b[0;34m{\u001b[0m\u001b[0;36m1\u001b[0m \u001b[0;34m:\u001b[0m \u001b[0;34m\"bir\"\u001b[0m\u001b[0;34m}\u001b[0m\u001b[0;34m,\u001b[0m \u001b[0;34m(\u001b[0m\u001b[0;34m\"üç\"\u001b[0m\u001b[0;34m,\u001b[0m \u001b[0;34m\"dört\"\u001b[0m\u001b[0;34m)\u001b[0m\u001b[0;34m}\u001b[0m\u001b[0;34m\u001b[0m\u001b[0;34m\u001b[0m\u001b[0m\n\u001b[0m",
            "\u001b[0;31mTypeError\u001b[0m: unhashable type: 'list'"
          ]
        }
      ]
    },
    {
      "cell_type": "code",
      "metadata": {
        "colab": {
          "base_uri": "https://localhost:8080/"
        },
        "id": "IFLx7AQPKwAu",
        "outputId": "d7fb4124-9215-4348-a049-78e15ba8adf6"
      },
      "source": [
        "set(given_list) # manuel olarak yapamıyoruz"
      ],
      "execution_count": null,
      "outputs": [
        {
          "output_type": "execute_result",
          "data": {
            "text/plain": [
              "{1, 2, 3, 4, 5}"
            ]
          },
          "metadata": {},
          "execution_count": 98
        }
      ]
    },
    {
      "cell_type": "code",
      "metadata": {
        "colab": {
          "base_uri": "https://localhost:8080/",
          "height": 163
        },
        "id": "4VtzUXqEKwDf",
        "outputId": "89515af5-f12c-45fc-da77-d2d7eecf7be4"
      },
      "source": [
        "mix = {1, 2, {3, 4}}"
      ],
      "execution_count": null,
      "outputs": [
        {
          "output_type": "error",
          "ename": "TypeError",
          "evalue": "ignored",
          "traceback": [
            "\u001b[0;31m---------------------------------------------------------------------------\u001b[0m",
            "\u001b[0;31mTypeError\u001b[0m                                 Traceback (most recent call last)",
            "\u001b[0;32m<ipython-input-99-862c413219d2>\u001b[0m in \u001b[0;36m<module>\u001b[0;34m()\u001b[0m\n\u001b[0;32m----> 1\u001b[0;31m \u001b[0mmix\u001b[0m \u001b[0;34m=\u001b[0m \u001b[0;34m{\u001b[0m\u001b[0;36m1\u001b[0m\u001b[0;34m,\u001b[0m \u001b[0;36m2\u001b[0m\u001b[0;34m,\u001b[0m \u001b[0;34m{\u001b[0m\u001b[0;36m3\u001b[0m\u001b[0;34m,\u001b[0m \u001b[0;36m4\u001b[0m\u001b[0;34m}\u001b[0m\u001b[0;34m}\u001b[0m\u001b[0;34m\u001b[0m\u001b[0;34m\u001b[0m\u001b[0m\n\u001b[0m",
            "\u001b[0;31mTypeError\u001b[0m: unhashable type: 'set'"
          ]
        }
      ]
    },
    {
      "cell_type": "code",
      "metadata": {
        "colab": {
          "base_uri": "https://localhost:8080/",
          "height": 163
        },
        "id": "vgZgtPxvKwFs",
        "outputId": "015fe4f6-831f-4c2c-b053-25022cfc5b17"
      },
      "source": [
        "set_dict = {1, 2, {\"bir\" : \"iki\"}}"
      ],
      "execution_count": null,
      "outputs": [
        {
          "output_type": "error",
          "ename": "TypeError",
          "evalue": "ignored",
          "traceback": [
            "\u001b[0;31m---------------------------------------------------------------------------\u001b[0m",
            "\u001b[0;31mTypeError\u001b[0m                                 Traceback (most recent call last)",
            "\u001b[0;32m<ipython-input-100-c9e5f01fe27f>\u001b[0m in \u001b[0;36m<module>\u001b[0;34m()\u001b[0m\n\u001b[0;32m----> 1\u001b[0;31m \u001b[0mset_dict\u001b[0m \u001b[0;34m=\u001b[0m \u001b[0;34m{\u001b[0m\u001b[0;36m1\u001b[0m\u001b[0;34m,\u001b[0m \u001b[0;36m2\u001b[0m\u001b[0;34m,\u001b[0m \u001b[0;34m{\u001b[0m\u001b[0;34m\"bir\"\u001b[0m \u001b[0;34m:\u001b[0m \u001b[0;34m\"iki\"\u001b[0m\u001b[0;34m}\u001b[0m\u001b[0;34m}\u001b[0m\u001b[0;34m\u001b[0m\u001b[0;34m\u001b[0m\u001b[0m\n\u001b[0m",
            "\u001b[0;31mTypeError\u001b[0m: unhashable type: 'dict'"
          ]
        }
      ]
    },
    {
      "cell_type": "code",
      "metadata": {
        "id": "gIOZe7_vKmw5"
      },
      "source": [
        "tuple_set = {1, 2, (3, 4)}"
      ],
      "execution_count": null,
      "outputs": []
    },
    {
      "cell_type": "code",
      "metadata": {
        "colab": {
          "base_uri": "https://localhost:8080/"
        },
        "id": "B5T1FGJWKmyw",
        "outputId": "ee002277-176a-4aba-8e1d-8a5d5703eb1d"
      },
      "source": [
        "tuple_set"
      ],
      "execution_count": null,
      "outputs": [
        {
          "output_type": "execute_result",
          "data": {
            "text/plain": [
              "{(3, 4), 1, 2}"
            ]
          },
          "metadata": {},
          "execution_count": 102
        }
      ]
    },
    {
      "cell_type": "code",
      "metadata": {
        "id": "11u8iyF9BNKC"
      },
      "source": [
        "a = {1, 2, 3, 4}\n",
        "b = {3, 4} "
      ],
      "execution_count": null,
      "outputs": []
    },
    {
      "cell_type": "code",
      "metadata": {
        "colab": {
          "base_uri": "https://localhost:8080/"
        },
        "id": "Xzv3W9T_Lxo3",
        "outputId": "79703be6-9f68-422a-bf07-2a41afc6bf6c"
      },
      "source": [
        "a"
      ],
      "execution_count": null,
      "outputs": [
        {
          "output_type": "execute_result",
          "data": {
            "text/plain": [
              "{1, 2, 3, 4}"
            ]
          },
          "metadata": {},
          "execution_count": 104
        }
      ]
    },
    {
      "cell_type": "code",
      "metadata": {
        "colab": {
          "base_uri": "https://localhost:8080/"
        },
        "id": "yu1MLndALxrW",
        "outputId": "f90a44e2-6f2e-4a02-e83a-d906beac9353"
      },
      "source": [
        "b"
      ],
      "execution_count": null,
      "outputs": [
        {
          "output_type": "execute_result",
          "data": {
            "text/plain": [
              "{3, 4}"
            ]
          },
          "metadata": {},
          "execution_count": 105
        }
      ]
    },
    {
      "cell_type": "code",
      "metadata": {
        "colab": {
          "base_uri": "https://localhost:8080/"
        },
        "id": "vFMnuI1FLxt1",
        "outputId": "beb8250b-b03c-4bed-aaf8-359b3ccdd773"
      },
      "source": [
        "flower_list = ['rose', 'violet', 'carnation', 'rose', 'orchid', 'rose', 'orchid']\n",
        "flowerset = set(flower_list)\n",
        "flowerlist = list(flowerset)\n",
        "\n",
        "print(flowerset) \n",
        "print(flowerlist)"
      ],
      "execution_count": null,
      "outputs": [
        {
          "output_type": "stream",
          "name": "stdout",
          "text": [
            "{'rose', 'orchid', 'violet', 'carnation'}\n",
            "['rose', 'orchid', 'violet', 'carnation']\n"
          ]
        }
      ]
    },
    {
      "cell_type": "code",
      "metadata": {
        "id": "Cd4C8FmwL6FY"
      },
      "source": [
        "a = {'carnation', 'orchid', 'rose', 'violet'} \n",
        "b = {'rose', 'orchid', 'rose', 'violet', 'carnation'}"
      ],
      "execution_count": null,
      "outputs": []
    },
    {
      "cell_type": "code",
      "metadata": {
        "colab": {
          "base_uri": "https://localhost:8080/"
        },
        "id": "9iyLkT8yL6Ib",
        "outputId": "61eabf6b-7801-4570-ef1b-4cf9e8264e44"
      },
      "source": [
        "a == b"
      ],
      "execution_count": null,
      "outputs": [
        {
          "output_type": "execute_result",
          "data": {
            "text/plain": [
              "True"
            ]
          },
          "metadata": {},
          "execution_count": 108
        }
      ]
    },
    {
      "cell_type": "code",
      "metadata": {
        "colab": {
          "base_uri": "https://localhost:8080/"
        },
        "id": "bKOcrEAHL6LY",
        "outputId": "5932cc1b-42ca-4d2a-9e1b-774cebcd39c3"
      },
      "source": [
        "a"
      ],
      "execution_count": null,
      "outputs": [
        {
          "output_type": "execute_result",
          "data": {
            "text/plain": [
              "{'carnation', 'orchid', 'rose', 'violet'}"
            ]
          },
          "metadata": {},
          "execution_count": 109
        }
      ]
    },
    {
      "cell_type": "code",
      "metadata": {
        "colab": {
          "base_uri": "https://localhost:8080/"
        },
        "id": "AehUXTrlL6NK",
        "outputId": "849ea4bb-703a-4e5e-8e72-8996981cb8f8"
      },
      "source": [
        "b"
      ],
      "execution_count": null,
      "outputs": [
        {
          "output_type": "execute_result",
          "data": {
            "text/plain": [
              "{'carnation', 'orchid', 'rose', 'violet'}"
            ]
          },
          "metadata": {},
          "execution_count": 111
        }
      ]
    },
    {
      "cell_type": "code",
      "metadata": {
        "id": "ejyDBTNvMvtE"
      },
      "source": [
        "a.add(\"Lily\") # set e eleman ekledik"
      ],
      "execution_count": null,
      "outputs": []
    },
    {
      "cell_type": "code",
      "metadata": {
        "colab": {
          "base_uri": "https://localhost:8080/"
        },
        "id": "4OlVzHy4Mvv4",
        "outputId": "8a8bcb0a-c270-401d-f306-9d7eb4a339bb"
      },
      "source": [
        "a"
      ],
      "execution_count": null,
      "outputs": [
        {
          "output_type": "execute_result",
          "data": {
            "text/plain": [
              "{'Lily', 'carnation', 'orchid', 'violet'}"
            ]
          },
          "metadata": {},
          "execution_count": 118
        }
      ]
    },
    {
      "cell_type": "code",
      "metadata": {
        "id": "DSdi-bQ4Mvy0"
      },
      "source": [
        "a.add(\"rose\")"
      ],
      "execution_count": null,
      "outputs": []
    },
    {
      "cell_type": "code",
      "metadata": {
        "colab": {
          "base_uri": "https://localhost:8080/"
        },
        "id": "pGLCc-HYMv1h",
        "outputId": "96acd7f8-59a3-4a22-c224-35c58bb1a753"
      },
      "source": [
        "a"
      ],
      "execution_count": null,
      "outputs": [
        {
          "output_type": "execute_result",
          "data": {
            "text/plain": [
              "{'Lily', 'carnation', 'orchid', 'rose', 'violet'}"
            ]
          },
          "metadata": {},
          "execution_count": 121
        }
      ]
    },
    {
      "cell_type": "code",
      "metadata": {
        "id": "jSMmxiONNim8"
      },
      "source": [
        "a.remove(\"rose\")"
      ],
      "execution_count": null,
      "outputs": []
    },
    {
      "cell_type": "code",
      "metadata": {
        "colab": {
          "base_uri": "https://localhost:8080/"
        },
        "id": "sckVg5elNllQ",
        "outputId": "0b7b591b-9d4c-447c-a082-2d9f7c9e2c86"
      },
      "source": [
        "a"
      ],
      "execution_count": null,
      "outputs": [
        {
          "output_type": "execute_result",
          "data": {
            "text/plain": [
              "{'Lily', 'carnation', 'orchid', 'violet'}"
            ]
          },
          "metadata": {},
          "execution_count": 123
        }
      ]
    },
    {
      "cell_type": "code",
      "metadata": {
        "colab": {
          "base_uri": "https://localhost:8080/"
        },
        "id": "WWpi8TlbNxPX",
        "outputId": "46daeb5a-7fa0-47bd-9f38-00bd50a57da7"
      },
      "source": [
        "a = set('philadelphia')\n",
        "b = set('dolphin')\n",
        "print(a.difference(b))"
      ],
      "execution_count": null,
      "outputs": [
        {
          "output_type": "stream",
          "name": "stdout",
          "text": [
            "{'e', 'a'}\n"
          ]
        }
      ]
    },
    {
      "cell_type": "code",
      "metadata": {
        "colab": {
          "base_uri": "https://localhost:8080/"
        },
        "id": "9Cd90_jPOJlD",
        "outputId": "095818f9-0131-487f-bbfb-4aa01f4a0f33"
      },
      "source": [
        "print(a.intersection(b))"
      ],
      "execution_count": null,
      "outputs": [
        {
          "output_type": "stream",
          "name": "stdout",
          "text": [
            "{'p', 'l', 'i', 'd', 'h'}\n"
          ]
        }
      ]
    },
    {
      "cell_type": "code",
      "metadata": {
        "colab": {
          "base_uri": "https://localhost:8080/"
        },
        "id": "I9O6j67sOJng",
        "outputId": "306b4b22-f42f-4491-8f2d-4cccc7972df0"
      },
      "source": [
        "print(a.union(b))"
      ],
      "execution_count": null,
      "outputs": [
        {
          "output_type": "stream",
          "name": "stdout",
          "text": [
            "{'a', 'p', 'l', 'e', 'i', 'd', 'n', 'h', 'o'}\n"
          ]
        }
      ]
    },
    {
      "cell_type": "code",
      "metadata": {
        "colab": {
          "base_uri": "https://localhost:8080/"
        },
        "id": "bWw5txb_OJpk",
        "outputId": "cf65c993-b1c3-4648-ca45-e6df7b185168"
      },
      "source": [
        "print(a - b)"
      ],
      "execution_count": null,
      "outputs": [
        {
          "output_type": "stream",
          "name": "stdout",
          "text": [
            "{'e', 'a'}\n"
          ]
        }
      ]
    },
    {
      "cell_type": "code",
      "metadata": {
        "id": "bazhsyzZOJrr"
      },
      "source": [
        ""
      ],
      "execution_count": null,
      "outputs": []
    },
    {
      "cell_type": "code",
      "metadata": {
        "id": "doupEN0CPIYx"
      },
      "source": [
        ""
      ],
      "execution_count": null,
      "outputs": []
    },
    {
      "cell_type": "code",
      "metadata": {
        "id": "0KGKTimsPIbS"
      },
      "source": [
        ""
      ],
      "execution_count": null,
      "outputs": []
    },
    {
      "cell_type": "code",
      "metadata": {
        "id": "GaaSZr31PIeb"
      },
      "source": [
        ""
      ],
      "execution_count": null,
      "outputs": []
    },
    {
      "cell_type": "code",
      "metadata": {
        "id": "9nfGv9PfOJtw"
      },
      "source": [
        ""
      ],
      "execution_count": null,
      "outputs": []
    }
  ]
}