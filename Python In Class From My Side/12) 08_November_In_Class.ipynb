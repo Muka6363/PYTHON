{
  "nbformat": 4,
  "nbformat_minor": 0,
  "metadata": {
    "colab": {
      "name": "08_November_In_Class",
      "provenance": [],
      "collapsed_sections": []
    },
    "kernelspec": {
      "name": "python3",
      "display_name": "Python 3"
    },
    "language_info": {
      "name": "python"
    }
  },
  "cells": [
    {
      "cell_type": "code",
      "metadata": {
        "colab": {
          "base_uri": "https://localhost:8080/"
        },
        "id": "Cc4agBN7tiu9",
        "outputId": "28721a2b-8364-411f-edb6-c80702851abb"
      },
      "source": [
        "num1 = float(input(\"Enter first number: \"))\n",
        "num2 = float(input(\"Enter second number: \"))\n",
        "\n",
        "if (num1 > num2) :\n",
        "  larger = num1\n",
        "else:\n",
        "  larger = num2\n",
        "\n",
        "print(\"The larger number is\", larger)"
      ],
      "execution_count": 3,
      "outputs": [
        {
          "output_type": "stream",
          "name": "stdout",
          "text": [
            "Enter first number: 7\n",
            "Enter second number: 5\n",
            "The larger number is 7.0\n"
          ]
        }
      ]
    },
    {
      "cell_type": "code",
      "metadata": {
        "id": "JwVs8f9Zv3Wd"
      },
      "source": [
        "bool_value = False"
      ],
      "execution_count": 4,
      "outputs": []
    },
    {
      "cell_type": "code",
      "metadata": {
        "colab": {
          "base_uri": "https://localhost:8080/"
        },
        "id": "fEAC-0Mrv3cs",
        "outputId": "3a0f4f54-dde9-44a8-ecf7-4288106065c6"
      },
      "source": [
        "if bool_value :\n",
        "  print(\"Yes\")\n",
        "else :\n",
        "  print(\"No\")"
      ],
      "execution_count": 5,
      "outputs": [
        {
          "output_type": "stream",
          "name": "stdout",
          "text": [
            "No\n"
          ]
        }
      ]
    },
    {
      "cell_type": "code",
      "metadata": {
        "colab": {
          "base_uri": "https://localhost:8080/"
        },
        "id": "Q-rfCXuMwXh_",
        "outputId": "71d7c955-c8c9-4221-f699-654cf42155f7"
      },
      "source": [
        "bool_value = True\n",
        "if bool_value :\n",
        "  print(\"Yes\")\n",
        "else :\n",
        "  print(\"No\")"
      ],
      "execution_count": 6,
      "outputs": [
        {
          "output_type": "stream",
          "name": "stdout",
          "text": [
            "Yes\n"
          ]
        }
      ]
    },
    {
      "cell_type": "code",
      "metadata": {
        "colab": {
          "base_uri": "https://localhost:8080/"
        },
        "id": "Bd4z6BC3wXkg",
        "outputId": "0778af4e-6a76-4979-a3cd-22445d60da26"
      },
      "source": [
        "audience = \"baby\"\n",
        "\n",
        "if audience == \"kid\":\n",
        "    print(\"it is free to go to cinema\")\n",
        "elif audience == \"teen\":\n",
        "    print(\"discounted price!\")\n",
        "elif audience == \"adult\":\n",
        "    print(\"normal price\")\n",
        "else:\n",
        "    print(\"No such audience, stay at your home!\")"
      ],
      "execution_count": 7,
      "outputs": [
        {
          "output_type": "stream",
          "name": "stdout",
          "text": [
            "No such audience, stay at your home!\n"
          ]
        }
      ]
    },
    {
      "cell_type": "code",
      "metadata": {
        "colab": {
          "base_uri": "https://localhost:8080/"
        },
        "id": "TxwifevqwXnK",
        "outputId": "1d309b6a-0344-401a-da70-64d54003a94b"
      },
      "source": [
        "numbers = list(map(int, input(\"Please enter numbers: \").split()))\n",
        "print(\"The largest number is: \", max(numbers))"
      ],
      "execution_count": 10,
      "outputs": [
        {
          "output_type": "stream",
          "name": "stdout",
          "text": [
            "Please enter numbers: 4 1 2\n",
            "The largest number is:  4\n"
          ]
        }
      ]
    },
    {
      "cell_type": "code",
      "metadata": {
        "colab": {
          "base_uri": "https://localhost:8080/"
        },
        "id": "lwNtsrD1wXpp",
        "outputId": "c34a70e2-84bb-4ebc-b03c-305d7c7ece57"
      },
      "source": [
        "num1, num2, num3 = float(input()), float(input()), float(input())\n",
        "\n",
        "if (num1 > num2) and (num1 > num3) :\n",
        "  larger = num1\n",
        "elif (num2 > num1) and (num2 > num3) :\n",
        "  larger = num2\n",
        "else:\n",
        "  larger = num3\n",
        "print(\"The largest number is : \", larger)"
      ],
      "execution_count": 13,
      "outputs": [
        {
          "output_type": "stream",
          "name": "stdout",
          "text": [
            "4\n",
            "1\n",
            "2\n",
            "The largest number is :  4.0\n"
          ]
        }
      ]
    },
    {
      "cell_type": "code",
      "metadata": {
        "colab": {
          "base_uri": "https://localhost:8080/"
        },
        "id": "vo6WH2gewXr1",
        "outputId": "141a3f2b-e3ab-4fff-b1a3-ab59e68a0eca"
      },
      "source": [
        "num1 = float(input())\n",
        "num2 = float(input())\n",
        "num3 = float(input())\n",
        "if (num1 > num2) and (num1 > num3) :\n",
        "  larger = num1\n",
        "elif (num2 > num1) and (num2 > num3) :\n",
        "  larger = num2\n",
        "else:\n",
        "  larger = num3\n",
        "print(\"The largest number is : \", larger)"
      ],
      "execution_count": 14,
      "outputs": [
        {
          "output_type": "stream",
          "name": "stdout",
          "text": [
            "98\n",
            "38\n",
            "55\n",
            "The largest number is :  98.0\n"
          ]
        }
      ]
    },
    {
      "cell_type": "code",
      "metadata": {
        "colab": {
          "base_uri": "https://localhost:8080/"
        },
        "id": "9wDeAZryyqsA",
        "outputId": "6a1a2537-6da7-4ddd-afa3-a4cda6ff66c1"
      },
      "source": [
        "n = int(input(\"\"))\n",
        "if n == 0 :\n",
        "  print(\"Number is zero\")\n",
        "elif n > 0 :\n",
        "  print(\"Number is bigger than zero\")\n",
        "else :\n",
        "  print(\"Number is less than zero\")"
      ],
      "execution_count": 15,
      "outputs": [
        {
          "output_type": "stream",
          "name": "stdout",
          "text": [
            "5\n",
            "Number is bigger than zero\n"
          ]
        }
      ]
    },
    {
      "cell_type": "code",
      "metadata": {
        "colab": {
          "base_uri": "https://localhost:8080/"
        },
        "id": "-EL7rfWxyqut",
        "outputId": "d45e7963-f69c-4616-e03f-4896fa1646ac"
      },
      "source": [
        "audience_group = 'kid', 'teen', 'adult'\n",
        "\n",
        "audience = \"teen\"\n",
        "\n",
        "if audience in audience_group:\n",
        "    if audience == \"kid\":\n",
        "        print(\"it is free to go to cinema\")\n",
        "    elif audience == \"teen\":\n",
        "        print(\"discounted price!\")\n",
        "    else: # audience == \"adult\":\n",
        "        print(\"normal price\")\n",
        "else:\n",
        "    print(\"No such audience, stay at your home!\")"
      ],
      "execution_count": 16,
      "outputs": [
        {
          "output_type": "stream",
          "name": "stdout",
          "text": [
            "discounted price!\n"
          ]
        }
      ]
    },
    {
      "cell_type": "code",
      "metadata": {
        "colab": {
          "base_uri": "https://localhost:8080/"
        },
        "id": "4ZEhEYV1yqxB",
        "outputId": "3783bad1-88ef-4222-daf9-cb21684656d7"
      },
      "source": [
        "score = int (input(\"Enter your score :\"))\n",
        "\n",
        "if score >= 90:\n",
        "    if score >= 95:\n",
        "        Score_letter=\"A+\"\n",
        "    else:\n",
        "        Score_letter=\"A\"\n",
        "elif score >= 80:\n",
        "    if score >= 85:\n",
        "        Score_letter=\"B+\"\n",
        "    else:\n",
        "        Score_letter=\"B\"\n",
        "else:\n",
        "    Score_letter=\"below B\"\n",
        "\n",
        "print (\"Your degree: %s\" % Score_letter)"
      ],
      "execution_count": 17,
      "outputs": [
        {
          "output_type": "stream",
          "name": "stdout",
          "text": [
            "Enter your score :97\n",
            "Your degree: A+\n"
          ]
        }
      ]
    },
    {
      "cell_type": "code",
      "metadata": {
        "id": "tyi02LIs8C4z"
      },
      "source": [
        "while 0 :\n",
        "  print(\"one\")"
      ],
      "execution_count": 18,
      "outputs": []
    },
    {
      "cell_type": "code",
      "metadata": {
        "colab": {
          "base_uri": "https://localhost:8080/"
        },
        "id": "pKffnqg68C8X",
        "outputId": "232ba59a-480a-4dc0-b988-740f8085d17b"
      },
      "source": [
        "condition = 5\n",
        "while condition :\n",
        "  condition -= 1\n",
        "  print(condition)"
      ],
      "execution_count": 22,
      "outputs": [
        {
          "output_type": "stream",
          "name": "stdout",
          "text": [
            "4\n",
            "3\n",
            "2\n",
            "1\n",
            "0\n"
          ]
        }
      ]
    },
    {
      "cell_type": "code",
      "metadata": {
        "colab": {
          "base_uri": "https://localhost:8080/"
        },
        "id": "wC5of0GKBajU",
        "outputId": "8649c159-2aa2-4010-bea0-8174b306e0bd"
      },
      "source": [
        "number = 0\n",
        "\n",
        "while number < 6 :\n",
        "  print(number)\n",
        "  number += 1\n",
        "print(\"now, number is bigger or equal to 6\")"
      ],
      "execution_count": 23,
      "outputs": [
        {
          "output_type": "stream",
          "name": "stdout",
          "text": [
            "0\n",
            "1\n",
            "2\n",
            "3\n",
            "4\n",
            "5\n",
            "now, number is bigger or equal to 6\n"
          ]
        }
      ]
    },
    {
      "cell_type": "code",
      "metadata": {
        "colab": {
          "base_uri": "https://localhost:8080/"
        },
        "id": "g9JNGd8cDdiW",
        "outputId": "ac4d8449-decf-4f08-c168-a692ffa231de"
      },
      "source": [
        "condition = 5\n",
        "while True :\n",
        "  condition -= 1\n",
        "  print(condition)\n",
        "  if condition == 0 :\n",
        "    break"
      ],
      "execution_count": 24,
      "outputs": [
        {
          "output_type": "stream",
          "name": "stdout",
          "text": [
            "4\n",
            "3\n",
            "2\n",
            "1\n",
            "0\n"
          ]
        }
      ]
    },
    {
      "cell_type": "code",
      "metadata": {
        "colab": {
          "base_uri": "https://localhost:8080/"
        },
        "id": "Z5vDAjiPDqPD",
        "outputId": "bf94a721-6100-4df3-db45-ff60e659e26d"
      },
      "source": [
        "my_list = [\"a\", \"b\", \"c\", \"d\", \"e\"]\n",
        "\n",
        "a = 0\n",
        "\n",
        "while a < len(my_list) :\n",
        "  print(\"square of {} is: {}\".format(a, a**2))\n",
        "  a += 1"
      ],
      "execution_count": 25,
      "outputs": [
        {
          "output_type": "stream",
          "name": "stdout",
          "text": [
            "square of 0 is: 0\n",
            "square of 1 is: 1\n",
            "square of 2 is: 4\n",
            "square of 3 is: 9\n",
            "square of 4 is: 16\n"
          ]
        }
      ]
    },
    {
      "cell_type": "code",
      "metadata": {
        "colab": {
          "base_uri": "https://localhost:8080/"
        },
        "id": "E37mn3-DDqRq",
        "outputId": "a7d8e2a4-a06b-4412-f92b-d2d5f10fa88d"
      },
      "source": [
        "yas=input(\"Lütfen yaşınızı girin:\")\n",
        "\n",
        "while not yas.isdigit():\n",
        "    \n",
        "    print (\"Hatalı girdi yaptınız.\")\n",
        "    \n",
        "    yas=input(\"Lütfen yaşınızı girin:\")\n",
        "\n",
        "print(\"Geçerli bir yaş girdiniz !\")"
      ],
      "execution_count": 33,
      "outputs": [
        {
          "output_type": "stream",
          "name": "stdout",
          "text": [
            "Lütfen yaşınızı girin:5\n",
            "Geçerli bir yaş girdiniz !\n"
          ]
        }
      ]
    },
    {
      "cell_type": "code",
      "metadata": {
        "colab": {
          "base_uri": "https://localhost:8080/"
        },
        "id": "BWkar7VaGt5e",
        "outputId": "de30961f-5e2c-436e-acb5-d90b93f73661"
      },
      "source": [
        "age = input(\"Enter your age please: \")\n",
        "while not age.isdigit() :\n",
        "  print(\"You entered incorrect.\")\n",
        "  age = input(\"Enter your age again: \")\n",
        "print(\"Great! You entered valid input: \", age)"
      ],
      "execution_count": 37,
      "outputs": [
        {
          "output_type": "stream",
          "name": "stdout",
          "text": [
            "Enter your age please: yirmi dokuz\n",
            "You entered incorrect.\n",
            "Enter your age again: 29\n",
            "Great! You entered valid input:  29\n"
          ]
        }
      ]
    },
    {
      "cell_type": "code",
      "metadata": {
        "colab": {
          "base_uri": "https://localhost:8080/"
        },
        "id": "FDjGF5_VO3z8",
        "outputId": "26912a22-5c5f-4c46-84da-92df2771d37c"
      },
      "source": [
        "answer = 22\n",
        "\n",
        "question = 'What number am I thinking of?  '\n",
        "print (\"Let's play the guessing game!\")\n",
        "\n",
        "while True:\n",
        "    guess = int(input(question))\n",
        "\n",
        "    if guess < answer:\n",
        "        print('Little higher')\n",
        "    elif guess > answer:\n",
        "        print('Little lower')\n",
        "    else:  # guess == answer\n",
        "        print('Are you a MINDREADER!!!')\n",
        "        break"
      ],
      "execution_count": 39,
      "outputs": [
        {
          "output_type": "stream",
          "name": "stdout",
          "text": [
            "Let's play the guessing game!\n",
            "What number am I thinking of?  18\n",
            "Little higher\n",
            "What number am I thinking of?  45\n",
            "Little lower\n",
            "What number am I thinking of?  25\n",
            "Little lower\n",
            "What number am I thinking of?  22\n",
            "Are you a MINDREADER!!!\n"
          ]
        }
      ]
    },
    {
      "cell_type": "code",
      "metadata": {
        "colab": {
          "base_uri": "https://localhost:8080/"
        },
        "id": "U53y7UtaSce6",
        "outputId": "7c4055fb-94b6-448a-bb32-689b36c767f9"
      },
      "source": [
        "sentence = input(\"Give me a sentence: \").split()"
      ],
      "execution_count": 46,
      "outputs": [
        {
          "name": "stdout",
          "output_type": "stream",
          "text": [
            "Give me a sentence: The best is Clarusway always\n"
          ]
        }
      ]
    },
    {
      "cell_type": "code",
      "metadata": {
        "colab": {
          "base_uri": "https://localhost:8080/"
        },
        "id": "5sjcm1JUUoxc",
        "outputId": "04b5906b-d86f-4319-b68e-62bda76780a1"
      },
      "source": [
        "sentence"
      ],
      "execution_count": 47,
      "outputs": [
        {
          "output_type": "execute_result",
          "data": {
            "text/plain": [
              "['The', 'best', 'is', 'Clarusway', 'always']"
            ]
          },
          "metadata": {},
          "execution_count": 47
        }
      ]
    },
    {
      "cell_type": "code",
      "metadata": {
        "colab": {
          "base_uri": "https://localhost:8080/"
        },
        "id": "Jz3-mSsRUvfK",
        "outputId": "05cd04e0-2258-4085-e95f-b54f1c93d4a9"
      },
      "source": [
        "sentence = input(\"Give me a sentence\")\n",
        "\n",
        "word_list = sentence.split()\n",
        "i = 0\n",
        "longest = 0\n",
        "\n",
        "while i < len(word_list) :\n",
        "  if len(word_list[i]) > longest :\n",
        "    longest = len(word_list[i])\n",
        "  i += 1\n",
        "\n",
        "print(\"The length of the longest word: \", longest)"
      ],
      "execution_count": 56,
      "outputs": [
        {
          "output_type": "stream",
          "name": "stdout",
          "text": [
            "Give me a sentenceThe best is Clarusway always\n",
            "The length of the longest word:  9\n"
          ]
        }
      ]
    },
    {
      "cell_type": "code",
      "metadata": {
        "colab": {
          "base_uri": "https://localhost:8080/"
        },
        "id": "YG1SeVoeUvlL",
        "outputId": "147b4e2d-93c9-4609-c9ea-7b95a2f939c8"
      },
      "source": [
        "sentence = list(map(str, input(\"Give me a sentence\").split()))\n",
        "\n",
        "i = 0\n",
        "longest = 0\n",
        "\n",
        "while i < len(sentence) :\n",
        "  if len(sentence[i]) > longest :\n",
        "    longest = len(sentence[i])\n",
        "  i += 1\n",
        "\n",
        "print(\"The length of the longest word: \", longest)"
      ],
      "execution_count": 57,
      "outputs": [
        {
          "output_type": "stream",
          "name": "stdout",
          "text": [
            "Give me a sentenceThe best is Clarusway always\n",
            "The length of the longest word:  9\n"
          ]
        }
      ]
    }
  ]
}