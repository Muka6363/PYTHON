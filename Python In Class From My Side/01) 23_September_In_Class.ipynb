{
  "nbformat": 4,
  "nbformat_minor": 5,
  "metadata": {
    "kernelspec": {
      "display_name": "Python 3",
      "language": "python",
      "name": "python3"
    },
    "language_info": {
      "codemirror_mode": {
        "name": "ipython",
        "version": 3
      },
      "file_extension": ".py",
      "mimetype": "text/x-python",
      "name": "python",
      "nbconvert_exporter": "python",
      "pygments_lexer": "ipython3",
      "version": "3.8.8"
    },
    "colab": {
      "name": "23_September_In_Class.ipynb",
      "provenance": [],
      "collapsed_sections": []
    }
  },
  "cells": [
    {
      "cell_type": "markdown",
      "metadata": {
        "id": "406f2981"
      },
      "source": [
        "<img src=\"https://docs.google.com/uc?id=14xeXxFrVRjvOoUYWn_GuyE-v84wVzrqr\" class=\"img-fluid\" alt=\"CLRWY\" width=\"400\" height=\"200\">"
      ],
      "id": "406f2981"
    },
    {
      "cell_type": "markdown",
      "metadata": {
        "id": "22263af8"
      },
      "source": [
        "<h1><p style=\"text-align: center; color:darkblue\">Python In-Class, <br>23 September 2021</p><h1>"
      ],
      "id": "22263af8"
    },
    {
      "cell_type": "code",
      "metadata": {
        "id": "8918bba5",
        "outputId": "bd542341-e6bc-4a63-d6e4-503a13e29400"
      },
      "source": [
        "print('hello world')"
      ],
      "id": "8918bba5",
      "execution_count": null,
      "outputs": [
        {
          "name": "stdout",
          "output_type": "stream",
          "text": [
            "hello world\n"
          ]
        }
      ]
    },
    {
      "cell_type": "code",
      "metadata": {
        "id": "910a4074",
        "outputId": "cc9b1108-eac3-40fa-d9ce-8edca887412e"
      },
      "source": [
        "print(\"hello world')"
      ],
      "id": "910a4074",
      "execution_count": null,
      "outputs": [
        {
          "ename": "SyntaxError",
          "evalue": "EOL while scanning string literal (<ipython-input-2-278f78f45249>, line 1)",
          "output_type": "error",
          "traceback": [
            "\u001b[0;36m  File \u001b[0;32m\"<ipython-input-2-278f78f45249>\"\u001b[0;36m, line \u001b[0;32m1\u001b[0m\n\u001b[0;31m    print(\"hello world')\u001b[0m\n\u001b[0m                        ^\u001b[0m\n\u001b[0;31mSyntaxError\u001b[0m\u001b[0;31m:\u001b[0m EOL while scanning string literal\n"
          ]
        }
      ]
    },
    {
      "cell_type": "code",
      "metadata": {
        "id": "4489fda4",
        "outputId": "0e7d6797-9250-4be9-d75e-5e5a12520372"
      },
      "source": [
        "print(\"çiftle başladım çiftle bitirdim\")"
      ],
      "id": "4489fda4",
      "execution_count": null,
      "outputs": [
        {
          "name": "stdout",
          "output_type": "stream",
          "text": [
            "çiftle başladım çiftle bitirdim\n"
          ]
        }
      ]
    },
    {
      "cell_type": "code",
      "metadata": {
        "id": "7e210b96",
        "outputId": "a9b2e9a6-321d-4d39-f365-cdd1d2aadf26"
      },
      "source": [
        "print(\"benim adım joseph,\n",
        "      ben sizi seviyorum\n",
        "      sizde huzur buluyorum\")"
      ],
      "id": "7e210b96",
      "execution_count": null,
      "outputs": [
        {
          "ename": "SyntaxError",
          "evalue": "EOL while scanning string literal (<ipython-input-5-251fcc96629d>, line 1)",
          "output_type": "error",
          "traceback": [
            "\u001b[0;36m  File \u001b[0;32m\"<ipython-input-5-251fcc96629d>\"\u001b[0;36m, line \u001b[0;32m1\u001b[0m\n\u001b[0;31m    print(\"benim adım joseph,\u001b[0m\n\u001b[0m                             ^\u001b[0m\n\u001b[0;31mSyntaxError\u001b[0m\u001b[0;31m:\u001b[0m EOL while scanning string literal\n"
          ]
        }
      ]
    },
    {
      "cell_type": "code",
      "metadata": {
        "id": "2fb30424",
        "outputId": "3733aa26-61cd-43ec-aceb-b975f54bee79"
      },
      "source": [
        "print(\"\"\"\n",
        "bunun \n",
        "arasına \n",
        "istedğim kadar\n",
        "satır yazıp\n",
        "uzunca çıktı alabileceğim gibi\n",
        "istediğm yerde de kullanabilirim\n",
        "\"\"\")"
      ],
      "id": "2fb30424",
      "execution_count": null,
      "outputs": [
        {
          "name": "stdout",
          "output_type": "stream",
          "text": [
            "\n",
            "bunun \n",
            "arasına \n",
            "istedğim kadar\n",
            "satır yazıp\n",
            "uzunca çıktı alabileceğim gibi\n",
            "istediğm yerde de kullanabilirim\n",
            "\n"
          ]
        }
      ]
    },
    {
      "cell_type": "code",
      "metadata": {
        "id": "dc8d18b5",
        "outputId": "45979f73-0d84-454d-88e5-199f44e811d4"
      },
      "source": [
        "print(\"\"\"hello world\"\"\")"
      ],
      "id": "dc8d18b5",
      "execution_count": null,
      "outputs": [
        {
          "name": "stdout",
          "output_type": "stream",
          "text": [
            "hello world\n"
          ]
        }
      ]
    },
    {
      "cell_type": "code",
      "metadata": {
        "id": "5bc3961e",
        "outputId": "4ae79da4-b73a-4a5b-e68d-8986a9fc2270"
      },
      "source": [
        "print('''tek satır''')"
      ],
      "id": "5bc3961e",
      "execution_count": null,
      "outputs": [
        {
          "name": "stdout",
          "output_type": "stream",
          "text": [
            "tek satır\n"
          ]
        }
      ]
    },
    {
      "cell_type": "code",
      "metadata": {
        "id": "a8d059ce",
        "outputId": "4ed3e448-115d-45d1-d659-80fd79e4f452"
      },
      "source": [
        "print('''\n",
        "bunun \n",
        "arasına \n",
        "istedğim kadar\n",
        "satır yazıp\n",
        "uzunca çıktı alabileceğim gibi\n",
        "istediğm yerde de kullanabilirim\n",
        "''')"
      ],
      "id": "a8d059ce",
      "execution_count": null,
      "outputs": [
        {
          "name": "stdout",
          "output_type": "stream",
          "text": [
            "\n",
            "bunun \n",
            "arasına \n",
            "istedğim kadar\n",
            "satır yazıp\n",
            "uzunca çıktı alabileceğim gibi\n",
            "istediğm yerde de kullanabilirim\n",
            "\n"
          ]
        }
      ]
    },
    {
      "cell_type": "code",
      "metadata": {
        "id": "5b3972a0",
        "outputId": "3bfea586-0bf8-44a7-de50-b2199ed3700c"
      },
      "source": [
        "\"\"\"hello\"\"\"\n",
        "\"\"\"1234567890*-*/=-+., '^+%&/()=?  _½§{#$}'\"\"\""
      ],
      "id": "5b3972a0",
      "execution_count": null,
      "outputs": [
        {
          "data": {
            "text/plain": [
              "\"1234567890*-*/=-+., '^+%&/()=?  _½§{#$}'\""
            ]
          },
          "execution_count": 13,
          "metadata": {},
          "output_type": "execute_result"
        }
      ]
    },
    {
      "cell_type": "code",
      "metadata": {
        "id": "6301e41f",
        "outputId": "f9db9035-dafa-4c0a-d1ee-c0958bb76492"
      },
      "source": [
        "print(\"Ahmet'in kedisi\")"
      ],
      "id": "6301e41f",
      "execution_count": null,
      "outputs": [
        {
          "name": "stdout",
          "output_type": "stream",
          "text": [
            "Ahmet'in kedisi\n"
          ]
        }
      ]
    },
    {
      "cell_type": "code",
      "metadata": {
        "id": "61b93eed",
        "outputId": "7746e983-ca6a-4b54-f60c-66824568eefa"
      },
      "source": [
        "print('Sevim'in kedisi')"
      ],
      "id": "61b93eed",
      "execution_count": null,
      "outputs": [
        {
          "ename": "SyntaxError",
          "evalue": "EOL while scanning string literal (<ipython-input-12-d79ccbfdc3c3>, line 1)",
          "output_type": "error",
          "traceback": [
            "\u001b[0;36m  File \u001b[0;32m\"<ipython-input-12-d79ccbfdc3c3>\"\u001b[0;36m, line \u001b[0;32m1\u001b[0m\n\u001b[0;31m    print('Sevim'in kedisi')\u001b[0m\n\u001b[0m                            ^\u001b[0m\n\u001b[0;31mSyntaxError\u001b[0m\u001b[0;31m:\u001b[0m EOL while scanning string literal\n"
          ]
        }
      ]
    },
    {
      "cell_type": "code",
      "metadata": {
        "id": "a577e123"
      },
      "source": [
        "print('Sevim\"in kedisi')"
      ],
      "id": "a577e123",
      "execution_count": null,
      "outputs": []
    },
    {
      "cell_type": "code",
      "metadata": {
        "id": "75cf1107",
        "outputId": "1736758e-dfbf-42c8-8a48-a8eceff93b7a"
      },
      "source": [
        "print(\"birinci satır\")\n",
        "print()\n",
        "print(\"üçüncü satır\")"
      ],
      "id": "75cf1107",
      "execution_count": null,
      "outputs": [
        {
          "name": "stdout",
          "output_type": "stream",
          "text": [
            "birinci satır\n",
            "\n",
            "üçüncü satır\n"
          ]
        }
      ]
    },
    {
      "cell_type": "code",
      "metadata": {
        "id": "b7ea5445",
        "outputId": "fd9e91b3-7399-439a-e533-4fc2f995633a"
      },
      "source": [
        "print('''')"
      ],
      "id": "b7ea5445",
      "execution_count": null,
      "outputs": [
        {
          "ename": "SyntaxError",
          "evalue": "EOF while scanning triple-quoted string literal (<ipython-input-15-4b777b03c816>, line 1)",
          "output_type": "error",
          "traceback": [
            "\u001b[0;36m  File \u001b[0;32m\"<ipython-input-15-4b777b03c816>\"\u001b[0;36m, line \u001b[0;32m1\u001b[0m\n\u001b[0;31m    print('''')\u001b[0m\n\u001b[0m               ^\u001b[0m\n\u001b[0;31mSyntaxError\u001b[0m\u001b[0;31m:\u001b[0m EOF while scanning triple-quoted string literal\n"
          ]
        }
      ]
    },
    {
      "cell_type": "code",
      "metadata": {
        "id": "4ab742fa"
      },
      "source": [
        "print(''''''')"
      ],
      "id": "4ab742fa",
      "execution_count": null,
      "outputs": []
    },
    {
      "cell_type": "code",
      "metadata": {
        "id": "0854107f"
      },
      "source": [
        "print(\"\"\"\"\"\"\")  "
      ],
      "id": "0854107f",
      "execution_count": null,
      "outputs": []
    },
    {
      "cell_type": "code",
      "metadata": {
        "id": "e8f487ad",
        "outputId": "8870c08e-d0ab-44dc-ed9c-bf1858a87b98"
      },
      "source": [
        "print(\"sizinle tanışmak güzeldi\")  # bu benim açıklamamdır"
      ],
      "id": "e8f487ad",
      "execution_count": null,
      "outputs": [
        {
          "name": "stdout",
          "output_type": "stream",
          "text": [
            "sizinle tanışmak güzeldi\n"
          ]
        }
      ]
    },
    {
      "cell_type": "code",
      "metadata": {
        "id": "aca1575a",
        "outputId": "350cd4c1-cc8e-4a67-f474-12ada33da07c"
      },
      "source": [
        "print(\"\")\n",
        "# bu bir single-line commentdir"
      ],
      "id": "aca1575a",
      "execution_count": null,
      "outputs": [
        {
          "name": "stdout",
          "output_type": "stream",
          "text": [
            "\n"
          ]
        }
      ]
    },
    {
      "cell_type": "code",
      "metadata": {
        "id": "e1b3522c"
      },
      "source": [
        "# bu açıklamanın birinci satırı\n",
        "# bu açıklamanın ikinci satırı\n",
        "# bu da üçüncü satırı"
      ],
      "id": "e1b3522c",
      "execution_count": null,
      "outputs": []
    },
    {
      "cell_type": "code",
      "metadata": {
        "id": "174f000d"
      },
      "source": [
        "...\n",
        "...\n",
        "...\n",
        "x = 35\n",
        "y = 22  # bu da müşterinin kızının ev sayısı\n",
        "# buradaki \"x\" müşterinin ev sayısı"
      ],
      "id": "174f000d",
      "execution_count": null,
      "outputs": []
    },
    {
      "cell_type": "code",
      "metadata": {
        "id": "3be5406f",
        "outputId": "54d1fb98-f149-4ceb-cbee-afdb0931b7d4"
      },
      "source": [
        "3 + 5  # 3 ile 5 in toplamına ilişkin code satırı"
      ],
      "id": "3be5406f",
      "execution_count": null,
      "outputs": [
        {
          "data": {
            "text/plain": [
              "8"
            ]
          },
          "execution_count": 20,
          "metadata": {},
          "output_type": "execute_result"
        }
      ]
    },
    {
      "cell_type": "code",
      "metadata": {
        "id": "3af02c5c"
      },
      "source": [
        "# print(\"sizinle tanışmak güzeldi\")  # bu benim açıklamamdır"
      ],
      "id": "3af02c5c",
      "execution_count": null,
      "outputs": []
    }
  ]
}