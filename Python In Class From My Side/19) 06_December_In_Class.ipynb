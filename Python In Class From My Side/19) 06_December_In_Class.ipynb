{
  "nbformat": 4,
  "nbformat_minor": 0,
  "metadata": {
    "colab": {
      "name": "06_December_In_Class",
      "provenance": [],
      "collapsed_sections": []
    },
    "kernelspec": {
      "name": "python3",
      "display_name": "Python 3"
    },
    "language_info": {
      "name": "python"
    }
  },
  "cells": [
    {
      "cell_type": "code",
      "metadata": {
        "colab": {
          "base_uri": "https://localhost:8080/",
          "height": 200
        },
        "id": "CPxg1sa963U4",
        "outputId": "bdc4bd7d-7fce-4836-b6f5-82d73894764f"
      },
      "source": [
        "# This is a Exception Error\n",
        "\n",
        "print(\"Hello\")\n",
        "print(Hello)"
      ],
      "execution_count": 2,
      "outputs": [
        {
          "output_type": "stream",
          "name": "stdout",
          "text": [
            "Hello\n"
          ]
        },
        {
          "output_type": "error",
          "ename": "NameError",
          "evalue": "ignored",
          "traceback": [
            "\u001b[0;31m---------------------------------------------------------------------------\u001b[0m",
            "\u001b[0;31mNameError\u001b[0m                                 Traceback (most recent call last)",
            "\u001b[0;32m<ipython-input-2-ab61e8399359>\u001b[0m in \u001b[0;36m<module>\u001b[0;34m()\u001b[0m\n\u001b[1;32m      1\u001b[0m \u001b[0mprint\u001b[0m\u001b[0;34m(\u001b[0m\u001b[0;34m\"Hello\"\u001b[0m\u001b[0;34m)\u001b[0m\u001b[0;34m\u001b[0m\u001b[0;34m\u001b[0m\u001b[0m\n\u001b[0;32m----> 2\u001b[0;31m \u001b[0mprint\u001b[0m\u001b[0;34m(\u001b[0m\u001b[0mHello\u001b[0m\u001b[0;34m)\u001b[0m\u001b[0;34m\u001b[0m\u001b[0;34m\u001b[0m\u001b[0m\n\u001b[0m",
            "\u001b[0;31mNameError\u001b[0m: name 'Hello' is not defined"
          ]
        }
      ]
    },
    {
      "cell_type": "code",
      "metadata": {
        "colab": {
          "base_uri": "https://localhost:8080/",
          "height": 130
        },
        "id": "TtLoD2MB-eck",
        "outputId": "142ae42a-2ff2-48e6-8df9-f4c5f55c0249"
      },
      "source": [
        "# This is a Syntax Error\n",
        "\n",
        "print(\"Hello\")\n",
        "print(Hello"
      ],
      "execution_count": 3,
      "outputs": [
        {
          "output_type": "error",
          "ename": "SyntaxError",
          "evalue": "ignored",
          "traceback": [
            "\u001b[0;36m  File \u001b[0;32m\"<ipython-input-3-0f9b97c9f768>\"\u001b[0;36m, line \u001b[0;32m2\u001b[0m\n\u001b[0;31m    print(Hello\u001b[0m\n\u001b[0m               ^\u001b[0m\n\u001b[0;31mSyntaxError\u001b[0m\u001b[0;31m:\u001b[0m unexpected EOF while parsing\n"
          ]
        }
      ]
    },
    {
      "cell_type": "code",
      "metadata": {
        "colab": {
          "base_uri": "https://localhost:8080/",
          "height": 269
        },
        "id": "JOR6PN7S65EM",
        "outputId": "c675f0c1-3d69-46f7-f206-d8db531687cd"
      },
      "source": [
        "print(\"Here we go!\")\n",
        "print(\"I will be the second text\")\n",
        "a = \"3\"\n",
        "b = 5\n",
        "print(\"It is time for an error message :(\")\n",
        "print(a + b)\n",
        "print(\"Sorry, but I won't be printed\")"
      ],
      "execution_count": 4,
      "outputs": [
        {
          "output_type": "stream",
          "name": "stdout",
          "text": [
            "Here we go!\n",
            "I will be the second text\n",
            "It is time for an error message :(\n"
          ]
        },
        {
          "output_type": "error",
          "ename": "TypeError",
          "evalue": "ignored",
          "traceback": [
            "\u001b[0;31m---------------------------------------------------------------------------\u001b[0m",
            "\u001b[0;31mTypeError\u001b[0m                                 Traceback (most recent call last)",
            "\u001b[0;32m<ipython-input-4-11b3e1514dc5>\u001b[0m in \u001b[0;36m<module>\u001b[0;34m()\u001b[0m\n\u001b[1;32m      4\u001b[0m \u001b[0mb\u001b[0m \u001b[0;34m=\u001b[0m \u001b[0;36m5\u001b[0m\u001b[0;34m\u001b[0m\u001b[0;34m\u001b[0m\u001b[0m\n\u001b[1;32m      5\u001b[0m \u001b[0mprint\u001b[0m\u001b[0;34m(\u001b[0m\u001b[0;34m\"It is time for an error message :(\"\u001b[0m\u001b[0;34m)\u001b[0m\u001b[0;34m\u001b[0m\u001b[0;34m\u001b[0m\u001b[0m\n\u001b[0;32m----> 6\u001b[0;31m \u001b[0mprint\u001b[0m\u001b[0;34m(\u001b[0m\u001b[0ma\u001b[0m \u001b[0;34m+\u001b[0m \u001b[0mb\u001b[0m\u001b[0;34m)\u001b[0m\u001b[0;34m\u001b[0m\u001b[0;34m\u001b[0m\u001b[0m\n\u001b[0m\u001b[1;32m      7\u001b[0m \u001b[0mprint\u001b[0m\u001b[0;34m(\u001b[0m\u001b[0;34m\"Sorry, but I won't be printed\"\u001b[0m\u001b[0;34m)\u001b[0m\u001b[0;34m\u001b[0m\u001b[0;34m\u001b[0m\u001b[0m\n",
            "\u001b[0;31mTypeError\u001b[0m: can only concatenate str (not \"int\") to str"
          ]
        }
      ]
    },
    {
      "cell_type": "code",
      "metadata": {
        "colab": {
          "base_uri": "https://localhost:8080/",
          "height": 165
        },
        "id": "93EVjQ_e65HB",
        "outputId": "b32f35e5-6b8a-4aa1-e5c2-45ff1e6aea41"
      },
      "source": [
        "print(int(\"ten\"))"
      ],
      "execution_count": 5,
      "outputs": [
        {
          "output_type": "error",
          "ename": "ValueError",
          "evalue": "ignored",
          "traceback": [
            "\u001b[0;31m---------------------------------------------------------------------------\u001b[0m",
            "\u001b[0;31mValueError\u001b[0m                                Traceback (most recent call last)",
            "\u001b[0;32m<ipython-input-5-fe86acc464d3>\u001b[0m in \u001b[0;36m<module>\u001b[0;34m()\u001b[0m\n\u001b[0;32m----> 1\u001b[0;31m \u001b[0mprint\u001b[0m\u001b[0;34m(\u001b[0m\u001b[0mint\u001b[0m\u001b[0;34m(\u001b[0m\u001b[0;34m\"ten\"\u001b[0m\u001b[0;34m)\u001b[0m\u001b[0;34m)\u001b[0m\u001b[0;34m\u001b[0m\u001b[0;34m\u001b[0m\u001b[0m\n\u001b[0m",
            "\u001b[0;31mValueError\u001b[0m: invalid literal for int() with base 10: 'ten'"
          ]
        }
      ]
    },
    {
      "cell_type": "code",
      "metadata": {
        "colab": {
          "base_uri": "https://localhost:8080/",
          "height": 165
        },
        "id": "ILBaLRGy65R5",
        "outputId": "8d10448d-b6fd-43bf-a6a8-121cfcc1d685"
      },
      "source": [
        "int(\"on\")"
      ],
      "execution_count": 9,
      "outputs": [
        {
          "output_type": "error",
          "ename": "ValueError",
          "evalue": "ignored",
          "traceback": [
            "\u001b[0;31m---------------------------------------------------------------------------\u001b[0m",
            "\u001b[0;31mValueError\u001b[0m                                Traceback (most recent call last)",
            "\u001b[0;32m<ipython-input-9-9db2c1f25cfb>\u001b[0m in \u001b[0;36m<module>\u001b[0;34m()\u001b[0m\n\u001b[0;32m----> 1\u001b[0;31m \u001b[0mint\u001b[0m\u001b[0;34m(\u001b[0m\u001b[0;34m\"on\"\u001b[0m\u001b[0;34m)\u001b[0m\u001b[0;34m\u001b[0m\u001b[0;34m\u001b[0m\u001b[0m\n\u001b[0m",
            "\u001b[0;31mValueError\u001b[0m: invalid literal for int() with base 10: 'on'"
          ]
        }
      ]
    },
    {
      "cell_type": "code",
      "metadata": {
        "colab": {
          "base_uri": "https://localhost:8080/"
        },
        "id": "VUd5ldH-65Uk",
        "outputId": "9690f18b-41f5-4c13-a7aa-43cc32028213"
      },
      "source": [
        "int(\"10\")"
      ],
      "execution_count": 10,
      "outputs": [
        {
          "output_type": "execute_result",
          "data": {
            "text/plain": [
              "10"
            ]
          },
          "metadata": {},
          "execution_count": 10
        }
      ]
    },
    {
      "cell_type": "code",
      "metadata": {
        "id": "Hjg_DN8l7KPv"
      },
      "source": [
        "import math"
      ],
      "execution_count": 11,
      "outputs": []
    },
    {
      "cell_type": "code",
      "metadata": {
        "colab": {
          "base_uri": "https://localhost:8080/",
          "height": 165
        },
        "id": "wbu-js3m7KSc",
        "outputId": "969e7393-1fad-43c8-9189-58f1ebd49194"
      },
      "source": [
        "math.sqrt(-100)"
      ],
      "execution_count": 12,
      "outputs": [
        {
          "output_type": "error",
          "ename": "ValueError",
          "evalue": "ignored",
          "traceback": [
            "\u001b[0;31m---------------------------------------------------------------------------\u001b[0m",
            "\u001b[0;31mValueError\u001b[0m                                Traceback (most recent call last)",
            "\u001b[0;32m<ipython-input-12-b5dc45673dc3>\u001b[0m in \u001b[0;36m<module>\u001b[0;34m()\u001b[0m\n\u001b[0;32m----> 1\u001b[0;31m \u001b[0mmath\u001b[0m\u001b[0;34m.\u001b[0m\u001b[0msqrt\u001b[0m\u001b[0;34m(\u001b[0m\u001b[0;34m-\u001b[0m\u001b[0;36m100\u001b[0m\u001b[0;34m)\u001b[0m\u001b[0;34m\u001b[0m\u001b[0;34m\u001b[0m\u001b[0m\n\u001b[0m",
            "\u001b[0;31mValueError\u001b[0m: math domain error"
          ]
        }
      ]
    },
    {
      "cell_type": "code",
      "metadata": {
        "colab": {
          "base_uri": "https://localhost:8080/",
          "height": 165
        },
        "id": "gC0MjZnI7KVE",
        "outputId": "fb119c5b-a7b6-490f-cdf8-63b38368495c"
      },
      "source": [
        "math.factorial(1.3)"
      ],
      "execution_count": 13,
      "outputs": [
        {
          "output_type": "error",
          "ename": "ValueError",
          "evalue": "ignored",
          "traceback": [
            "\u001b[0;31m---------------------------------------------------------------------------\u001b[0m",
            "\u001b[0;31mValueError\u001b[0m                                Traceback (most recent call last)",
            "\u001b[0;32m<ipython-input-13-996a2a51e9f7>\u001b[0m in \u001b[0;36m<module>\u001b[0;34m()\u001b[0m\n\u001b[0;32m----> 1\u001b[0;31m \u001b[0mmath\u001b[0m\u001b[0;34m.\u001b[0m\u001b[0mfactorial\u001b[0m\u001b[0;34m(\u001b[0m\u001b[0;36m1.3\u001b[0m\u001b[0;34m)\u001b[0m\u001b[0;34m\u001b[0m\u001b[0;34m\u001b[0m\u001b[0m\n\u001b[0m",
            "\u001b[0;31mValueError\u001b[0m: factorial() only accepts integral values"
          ]
        }
      ]
    },
    {
      "cell_type": "code",
      "metadata": {
        "colab": {
          "base_uri": "https://localhost:8080/"
        },
        "id": "OQ5rf74x7KXy",
        "outputId": "0d117e1c-388c-4296-e263-b0c4654ebcaf"
      },
      "source": [
        "math.sqrt(25)"
      ],
      "execution_count": 14,
      "outputs": [
        {
          "output_type": "execute_result",
          "data": {
            "text/plain": [
              "5.0"
            ]
          },
          "metadata": {},
          "execution_count": 14
        }
      ]
    },
    {
      "cell_type": "code",
      "metadata": {
        "colab": {
          "base_uri": "https://localhost:8080/"
        },
        "id": "zhusljbk7Kac",
        "outputId": "f39e0405-49ff-42ec-8e9d-5fb32da0bb44"
      },
      "source": [
        "math.factorial(4)"
      ],
      "execution_count": 15,
      "outputs": [
        {
          "output_type": "execute_result",
          "data": {
            "text/plain": [
              "24"
            ]
          },
          "metadata": {},
          "execution_count": 15
        }
      ]
    },
    {
      "cell_type": "code",
      "metadata": {
        "colab": {
          "base_uri": "https://localhost:8080/",
          "height": 165
        },
        "id": "m9qox0WcDOgZ",
        "outputId": "0a6ed603-7f80-4ca8-c5b0-e2360ee950c3"
      },
      "source": [
        "math.factorial(-4)"
      ],
      "execution_count": 16,
      "outputs": [
        {
          "output_type": "error",
          "ename": "ValueError",
          "evalue": "ignored",
          "traceback": [
            "\u001b[0;31m---------------------------------------------------------------------------\u001b[0m",
            "\u001b[0;31mValueError\u001b[0m                                Traceback (most recent call last)",
            "\u001b[0;32m<ipython-input-16-001ef41ec39f>\u001b[0m in \u001b[0;36m<module>\u001b[0;34m()\u001b[0m\n\u001b[0;32m----> 1\u001b[0;31m \u001b[0mmath\u001b[0m\u001b[0;34m.\u001b[0m\u001b[0mfactorial\u001b[0m\u001b[0;34m(\u001b[0m\u001b[0;34m-\u001b[0m\u001b[0;36m4\u001b[0m\u001b[0;34m)\u001b[0m\u001b[0;34m\u001b[0m\u001b[0;34m\u001b[0m\u001b[0m\n\u001b[0m",
            "\u001b[0;31mValueError\u001b[0m: factorial() not defined for negative values"
          ]
        }
      ]
    },
    {
      "cell_type": "code",
      "metadata": {
        "colab": {
          "base_uri": "https://localhost:8080/"
        },
        "id": "oJSKl1MzDShJ",
        "outputId": "a90062be-df2d-4c4e-afb9-e6f926abd90f"
      },
      "source": [
        "math.log10(100)"
      ],
      "execution_count": 17,
      "outputs": [
        {
          "output_type": "execute_result",
          "data": {
            "text/plain": [
              "2.0"
            ]
          },
          "metadata": {},
          "execution_count": 17
        }
      ]
    },
    {
      "cell_type": "code",
      "metadata": {
        "colab": {
          "base_uri": "https://localhost:8080/",
          "height": 165
        },
        "id": "v4bUH2NNDSj9",
        "outputId": "6f4d662d-5f38-4aec-90bf-d4b955295227"
      },
      "source": [
        "math.log10(-100)"
      ],
      "execution_count": 18,
      "outputs": [
        {
          "output_type": "error",
          "ename": "ValueError",
          "evalue": "ignored",
          "traceback": [
            "\u001b[0;31m---------------------------------------------------------------------------\u001b[0m",
            "\u001b[0;31mValueError\u001b[0m                                Traceback (most recent call last)",
            "\u001b[0;32m<ipython-input-18-a9ce091d703f>\u001b[0m in \u001b[0;36m<module>\u001b[0;34m()\u001b[0m\n\u001b[0;32m----> 1\u001b[0;31m \u001b[0mmath\u001b[0m\u001b[0;34m.\u001b[0m\u001b[0mlog10\u001b[0m\u001b[0;34m(\u001b[0m\u001b[0;34m-\u001b[0m\u001b[0;36m100\u001b[0m\u001b[0;34m)\u001b[0m\u001b[0;34m\u001b[0m\u001b[0;34m\u001b[0m\u001b[0m\n\u001b[0m",
            "\u001b[0;31mValueError\u001b[0m: math domain error"
          ]
        }
      ]
    },
    {
      "cell_type": "code",
      "metadata": {
        "colab": {
          "base_uri": "https://localhost:8080/"
        },
        "id": "rX5Twro1DSmb",
        "outputId": "7bb9bef0-b2c9-448f-debe-8aa75d4bce76"
      },
      "source": [
        "faktoriyel = 1 # default değer\n",
        "sayi = int(input(\"Faktöriyelini hesaplamak istedğiniz sayıyı giriniz: \"))\n",
        "if sayi < 0 :\n",
        "  print(\"Lütfen pozitif bir sayı giriniz: \")\n",
        "elif sayi == 0 :\n",
        "  print(\"0! = 1\")\n",
        "else :\n",
        "  for i in range(sayi, 0, -1) :\n",
        "    faktoriyel *= i\n",
        "\n",
        "print(f\"{sayi} sayısının faktoriyeli > {sayi}! = {faktoriyel}\")"
      ],
      "execution_count": 19,
      "outputs": [
        {
          "output_type": "stream",
          "name": "stdout",
          "text": [
            "Faktöriyelini hesaplamak istedğiniz sayıyı giriniz: 5\n",
            "5 sayısının faktoriyeli > 5! = 120\n"
          ]
        }
      ]
    },
    {
      "cell_type": "code",
      "metadata": {
        "colab": {
          "base_uri": "https://localhost:8080/"
        },
        "id": "wnCZtma5DSoo",
        "outputId": "675387a0-4556-49f3-96d9-56ed1485f7f7"
      },
      "source": [
        "def recursive_factorial(x):  \n",
        "   if x == 0 or x == 1:  \n",
        "       return 1  \n",
        "   else:  \n",
        "       return x * recursive_factorial(x-1)\n",
        "recursive_factorial(5)"
      ],
      "execution_count": 27,
      "outputs": [
        {
          "output_type": "execute_result",
          "data": {
            "text/plain": [
              "120"
            ]
          },
          "metadata": {},
          "execution_count": 27
        }
      ]
    },
    {
      "cell_type": "code",
      "metadata": {
        "colab": {
          "base_uri": "https://localhost:8080/",
          "height": 183
        },
        "id": "MCAf1_4UKo0m",
        "outputId": "635b7f41-f258-46f7-93d1-3af0ab2624d8"
      },
      "source": [
        "print(variable)\n",
        "variable = \"Don't ever give up!\""
      ],
      "execution_count": 28,
      "outputs": [
        {
          "output_type": "error",
          "ename": "NameError",
          "evalue": "ignored",
          "traceback": [
            "\u001b[0;31m---------------------------------------------------------------------------\u001b[0m",
            "\u001b[0;31mNameError\u001b[0m                                 Traceback (most recent call last)",
            "\u001b[0;32m<ipython-input-28-4d9687973dd3>\u001b[0m in \u001b[0;36m<module>\u001b[0;34m()\u001b[0m\n\u001b[0;32m----> 1\u001b[0;31m \u001b[0mprint\u001b[0m\u001b[0;34m(\u001b[0m\u001b[0mvariable\u001b[0m\u001b[0;34m)\u001b[0m\u001b[0;34m\u001b[0m\u001b[0;34m\u001b[0m\u001b[0m\n\u001b[0m\u001b[1;32m      2\u001b[0m \u001b[0mvariable\u001b[0m \u001b[0;34m=\u001b[0m \u001b[0;34m\"Don't ever give up!\"\u001b[0m\u001b[0;34m\u001b[0m\u001b[0;34m\u001b[0m\u001b[0m\n",
            "\u001b[0;31mNameError\u001b[0m: name 'variable' is not defined"
          ]
        }
      ]
    },
    {
      "cell_type": "code",
      "metadata": {
        "colab": {
          "base_uri": "https://localhost:8080/",
          "height": 165
        },
        "id": "8kGOASlrKo3v",
        "outputId": "f76a9daa-3e62-4cde-930b-fda65edd8973"
      },
      "source": [
        "print(hello)"
      ],
      "execution_count": 29,
      "outputs": [
        {
          "output_type": "error",
          "ename": "NameError",
          "evalue": "ignored",
          "traceback": [
            "\u001b[0;31m---------------------------------------------------------------------------\u001b[0m",
            "\u001b[0;31mNameError\u001b[0m                                 Traceback (most recent call last)",
            "\u001b[0;32m<ipython-input-29-1cd80308eb4c>\u001b[0m in \u001b[0;36m<module>\u001b[0;34m()\u001b[0m\n\u001b[0;32m----> 1\u001b[0;31m \u001b[0mprint\u001b[0m\u001b[0;34m(\u001b[0m\u001b[0mhello\u001b[0m\u001b[0;34m)\u001b[0m\u001b[0;34m\u001b[0m\u001b[0;34m\u001b[0m\u001b[0m\n\u001b[0m",
            "\u001b[0;31mNameError\u001b[0m: name 'hello' is not defined"
          ]
        }
      ]
    },
    {
      "cell_type": "code",
      "metadata": {
        "colab": {
          "base_uri": "https://localhost:8080/",
          "height": 217
        },
        "id": "mZIEg1EEK1Km",
        "outputId": "041e0f5d-7adf-4dac-d818-cc2dfc9bfb5f"
      },
      "source": [
        "b = \"string value 1\"\n",
        "c = \"string value 1\"\n",
        "print(b)\n",
        "print(C)"
      ],
      "execution_count": 30,
      "outputs": [
        {
          "output_type": "stream",
          "name": "stdout",
          "text": [
            "string value 1\n"
          ]
        },
        {
          "output_type": "error",
          "ename": "NameError",
          "evalue": "ignored",
          "traceback": [
            "\u001b[0;31m---------------------------------------------------------------------------\u001b[0m",
            "\u001b[0;31mNameError\u001b[0m                                 Traceback (most recent call last)",
            "\u001b[0;32m<ipython-input-30-d32c98d4701c>\u001b[0m in \u001b[0;36m<module>\u001b[0;34m()\u001b[0m\n\u001b[1;32m      2\u001b[0m \u001b[0mc\u001b[0m \u001b[0;34m=\u001b[0m \u001b[0;34m\"string value 1\"\u001b[0m\u001b[0;34m\u001b[0m\u001b[0;34m\u001b[0m\u001b[0m\n\u001b[1;32m      3\u001b[0m \u001b[0mprint\u001b[0m\u001b[0;34m(\u001b[0m\u001b[0mb\u001b[0m\u001b[0;34m)\u001b[0m\u001b[0;34m\u001b[0m\u001b[0;34m\u001b[0m\u001b[0m\n\u001b[0;32m----> 4\u001b[0;31m \u001b[0mprint\u001b[0m\u001b[0;34m(\u001b[0m\u001b[0mC\u001b[0m\u001b[0;34m)\u001b[0m\u001b[0;34m\u001b[0m\u001b[0;34m\u001b[0m\u001b[0m\n\u001b[0m",
            "\u001b[0;31mNameError\u001b[0m: name 'C' is not defined"
          ]
        }
      ]
    },
    {
      "cell_type": "code",
      "metadata": {
        "colab": {
          "base_uri": "https://localhost:8080/",
          "height": 183
        },
        "id": "7ju_0U_cK1NV",
        "outputId": "d671b6c2-6a90-446a-df0d-e7659c0d27a6"
      },
      "source": [
        "for i in range('x') :\n",
        "  print(i)"
      ],
      "execution_count": 31,
      "outputs": [
        {
          "output_type": "error",
          "ename": "TypeError",
          "evalue": "ignored",
          "traceback": [
            "\u001b[0;31m---------------------------------------------------------------------------\u001b[0m",
            "\u001b[0;31mTypeError\u001b[0m                                 Traceback (most recent call last)",
            "\u001b[0;32m<ipython-input-31-e1204acd274f>\u001b[0m in \u001b[0;36m<module>\u001b[0;34m()\u001b[0m\n\u001b[0;32m----> 1\u001b[0;31m \u001b[0;32mfor\u001b[0m \u001b[0mi\u001b[0m \u001b[0;32min\u001b[0m \u001b[0mrange\u001b[0m\u001b[0;34m(\u001b[0m\u001b[0;34m'x'\u001b[0m\u001b[0;34m)\u001b[0m \u001b[0;34m:\u001b[0m\u001b[0;34m\u001b[0m\u001b[0;34m\u001b[0m\u001b[0m\n\u001b[0m\u001b[1;32m      2\u001b[0m   \u001b[0mprint\u001b[0m\u001b[0;34m(\u001b[0m\u001b[0mi\u001b[0m\u001b[0;34m)\u001b[0m\u001b[0;34m\u001b[0m\u001b[0;34m\u001b[0m\u001b[0m\n",
            "\u001b[0;31mTypeError\u001b[0m: 'str' object cannot be interpreted as an integer"
          ]
        }
      ]
    },
    {
      "cell_type": "code",
      "metadata": {
        "colab": {
          "base_uri": "https://localhost:8080/",
          "height": 165
        },
        "id": "XROLd3KfK1P0",
        "outputId": "23aae93b-2e43-4633-895b-9a247cf28b7c"
      },
      "source": [
        "print(2 + \"2\")"
      ],
      "execution_count": 32,
      "outputs": [
        {
          "output_type": "error",
          "ename": "TypeError",
          "evalue": "ignored",
          "traceback": [
            "\u001b[0;31m---------------------------------------------------------------------------\u001b[0m",
            "\u001b[0;31mTypeError\u001b[0m                                 Traceback (most recent call last)",
            "\u001b[0;32m<ipython-input-32-96788054896b>\u001b[0m in \u001b[0;36m<module>\u001b[0;34m()\u001b[0m\n\u001b[0;32m----> 1\u001b[0;31m \u001b[0mprint\u001b[0m\u001b[0;34m(\u001b[0m\u001b[0;36m2\u001b[0m \u001b[0;34m+\u001b[0m \u001b[0;34m\"2\"\u001b[0m\u001b[0;34m)\u001b[0m\u001b[0;34m\u001b[0m\u001b[0;34m\u001b[0m\u001b[0m\n\u001b[0m",
            "\u001b[0;31mTypeError\u001b[0m: unsupported operand type(s) for +: 'int' and 'str'"
          ]
        }
      ]
    },
    {
      "cell_type": "code",
      "metadata": {
        "colab": {
          "base_uri": "https://localhost:8080/"
        },
        "id": "b-YLJe0OKo7T",
        "outputId": "145710ab-01cf-46c8-fbe4-8f5698d0117d"
      },
      "source": [
        "while True:\n",
        "    no_one = int(input(\"The first number please : \"))\n",
        "    no_two = int(input(\"The second number please : \"))\n",
        "    division = no_one / no_two\n",
        "    print(\"The result of the division is : \", division)\n",
        "    break"
      ],
      "execution_count": 34,
      "outputs": [
        {
          "output_type": "stream",
          "name": "stdout",
          "text": [
            "The first number please : 7\n",
            "The second number please : 1\n",
            "The result of the division is :  7.0\n"
          ]
        }
      ]
    },
    {
      "cell_type": "code",
      "metadata": {
        "colab": {
          "base_uri": "https://localhost:8080/",
          "height": 269
        },
        "id": "BijV3AkwM2iF",
        "outputId": "e76fc239-a9dd-47a8-ec18-b7e69737b661"
      },
      "source": [
        "while True:\n",
        "    no_one = int(input(\"The first number please : \"))\n",
        "    no_two = int(input(\"The second number please : \"))\n",
        "    division = no_one / no_two\n",
        "    print(\"The result of the division is : \", division)\n",
        "    break"
      ],
      "execution_count": 35,
      "outputs": [
        {
          "name": "stdout",
          "output_type": "stream",
          "text": [
            "The first number please : 7\n",
            "The second number please : 0\n"
          ]
        },
        {
          "output_type": "error",
          "ename": "ZeroDivisionError",
          "evalue": "ignored",
          "traceback": [
            "\u001b[0;31m---------------------------------------------------------------------------\u001b[0m",
            "\u001b[0;31mZeroDivisionError\u001b[0m                         Traceback (most recent call last)",
            "\u001b[0;32m<ipython-input-35-71c23077dd83>\u001b[0m in \u001b[0;36m<module>\u001b[0;34m()\u001b[0m\n\u001b[1;32m      2\u001b[0m     \u001b[0mno_one\u001b[0m \u001b[0;34m=\u001b[0m \u001b[0mint\u001b[0m\u001b[0;34m(\u001b[0m\u001b[0minput\u001b[0m\u001b[0;34m(\u001b[0m\u001b[0;34m\"The first number please : \"\u001b[0m\u001b[0;34m)\u001b[0m\u001b[0;34m)\u001b[0m\u001b[0;34m\u001b[0m\u001b[0;34m\u001b[0m\u001b[0m\n\u001b[1;32m      3\u001b[0m     \u001b[0mno_two\u001b[0m \u001b[0;34m=\u001b[0m \u001b[0mint\u001b[0m\u001b[0;34m(\u001b[0m\u001b[0minput\u001b[0m\u001b[0;34m(\u001b[0m\u001b[0;34m\"The second number please : \"\u001b[0m\u001b[0;34m)\u001b[0m\u001b[0;34m)\u001b[0m\u001b[0;34m\u001b[0m\u001b[0;34m\u001b[0m\u001b[0m\n\u001b[0;32m----> 4\u001b[0;31m     \u001b[0mdivision\u001b[0m \u001b[0;34m=\u001b[0m \u001b[0mno_one\u001b[0m \u001b[0;34m/\u001b[0m \u001b[0mno_two\u001b[0m\u001b[0;34m\u001b[0m\u001b[0;34m\u001b[0m\u001b[0m\n\u001b[0m\u001b[1;32m      5\u001b[0m     \u001b[0mprint\u001b[0m\u001b[0;34m(\u001b[0m\u001b[0;34m\"The result of the division is : \"\u001b[0m\u001b[0;34m,\u001b[0m \u001b[0mdivision\u001b[0m\u001b[0;34m)\u001b[0m\u001b[0;34m\u001b[0m\u001b[0;34m\u001b[0m\u001b[0m\n\u001b[1;32m      6\u001b[0m     \u001b[0;32mbreak\u001b[0m\u001b[0;34m\u001b[0m\u001b[0;34m\u001b[0m\u001b[0m\n",
            "\u001b[0;31mZeroDivisionError\u001b[0m: division by zero"
          ]
        }
      ]
    },
    {
      "cell_type": "code",
      "metadata": {
        "colab": {
          "base_uri": "https://localhost:8080/"
        },
        "id": "h1NLV25ZM2kj",
        "outputId": "f093c96f-8ccb-4f83-8285-87e12f56fa0c"
      },
      "source": [
        "while True:\n",
        "    no_one = int(input(\"The first number please : \"))\n",
        "    no_two = int(input(\"The second number please : \"))\n",
        "    try :\n",
        "      division = no_one / no_two\n",
        "      print(\"The result of the division is : \", division)\n",
        "      break\n",
        "    except :\n",
        "      print(\"Something is wrong. Enter again\")"
      ],
      "execution_count": 36,
      "outputs": [
        {
          "output_type": "stream",
          "name": "stdout",
          "text": [
            "The first number please : 7\n",
            "The second number please : 0\n",
            "Something is wrong. Enter again\n",
            "The first number please : 7\n",
            "The second number please : 1\n",
            "The result of the division is :  7.0\n"
          ]
        }
      ]
    },
    {
      "cell_type": "code",
      "metadata": {
        "colab": {
          "base_uri": "https://localhost:8080/"
        },
        "id": "EW7qRwSbM2ng",
        "outputId": "14403846-a382-4cbb-ab9a-1e438a980d53"
      },
      "source": [
        "while True:\n",
        "    no_one = int(input(\"The first number please : \"))\n",
        "    no_two = int(input(\"The second number please : \"))\n",
        "    try :\n",
        "      division = no_one / no_two\n",
        "      print(\"The result of the division is : \", division)\n",
        "      break\n",
        "    except ZeroDivisionError :\n",
        "      print(\"You tried to divide by zero. Enter again and don't use zero.\")"
      ],
      "execution_count": 38,
      "outputs": [
        {
          "output_type": "stream",
          "name": "stdout",
          "text": [
            "The first number please : 7\n",
            "The second number please : 0\n",
            "You tried to divide by zero. Enter again and don't use zero.\n",
            "The first number please : 7\n",
            "The second number please : 1\n",
            "The result of the division is :  7.0\n"
          ]
        }
      ]
    },
    {
      "cell_type": "code",
      "metadata": {
        "colab": {
          "base_uri": "https://localhost:8080/"
        },
        "id": "mNU0IVSbP5Hq",
        "outputId": "2320dfa8-a467-47d2-879c-eca98cf1f604"
      },
      "source": [
        "try :\n",
        "  print(4 + \"4\")\n",
        "\n",
        "except :\n",
        "  print(\"Muhtemelen yanlış bir şeyler yaptın.\")"
      ],
      "execution_count": 39,
      "outputs": [
        {
          "output_type": "stream",
          "name": "stdout",
          "text": [
            "Muhtemelen yanlış bir şeyler yaptın.\n"
          ]
        }
      ]
    },
    {
      "cell_type": "code",
      "metadata": {
        "colab": {
          "base_uri": "https://localhost:8080/"
        },
        "id": "JzpgJZssP5KM",
        "outputId": "14ab9914-0224-4132-f2b9-7ac85022c412"
      },
      "source": [
        "try :\n",
        "  print(\"4\" + \"4\")\n",
        "\n",
        "except :\n",
        "  print(\"Muhtemelen yanlış bir şeyler yaptın.\")"
      ],
      "execution_count": 40,
      "outputs": [
        {
          "output_type": "stream",
          "name": "stdout",
          "text": [
            "44\n"
          ]
        }
      ]
    },
    {
      "cell_type": "code",
      "metadata": {
        "colab": {
          "base_uri": "https://localhost:8080/",
          "height": 200
        },
        "id": "-SZsHAxYYoFt",
        "outputId": "b66e3daa-e7cc-4046-d86b-2d622d496ae2"
      },
      "source": [
        "file = open(\"my_file.txt\", \"r\")\n",
        "print(file.read())\n",
        "file.close()"
      ],
      "execution_count": 42,
      "outputs": [
        {
          "output_type": "error",
          "ename": "FileNotFoundError",
          "evalue": "ignored",
          "traceback": [
            "\u001b[0;31m---------------------------------------------------------------------------\u001b[0m",
            "\u001b[0;31mFileNotFoundError\u001b[0m                         Traceback (most recent call last)",
            "\u001b[0;32m<ipython-input-42-9417f736f55c>\u001b[0m in \u001b[0;36m<module>\u001b[0;34m()\u001b[0m\n\u001b[0;32m----> 1\u001b[0;31m \u001b[0mfile\u001b[0m \u001b[0;34m=\u001b[0m \u001b[0mopen\u001b[0m\u001b[0;34m(\u001b[0m\u001b[0;34m\"my_file.txt\"\u001b[0m\u001b[0;34m,\u001b[0m \u001b[0;34m\"r\"\u001b[0m\u001b[0;34m)\u001b[0m\u001b[0;34m\u001b[0m\u001b[0;34m\u001b[0m\u001b[0m\n\u001b[0m\u001b[1;32m      2\u001b[0m \u001b[0mprint\u001b[0m\u001b[0;34m(\u001b[0m\u001b[0mfile\u001b[0m\u001b[0;34m.\u001b[0m\u001b[0mread\u001b[0m\u001b[0;34m(\u001b[0m\u001b[0;34m)\u001b[0m\u001b[0;34m)\u001b[0m\u001b[0;34m\u001b[0m\u001b[0;34m\u001b[0m\u001b[0m\n\u001b[1;32m      3\u001b[0m \u001b[0mfile\u001b[0m\u001b[0;34m.\u001b[0m\u001b[0mclose\u001b[0m\u001b[0;34m(\u001b[0m\u001b[0;34m)\u001b[0m\u001b[0;34m\u001b[0m\u001b[0;34m\u001b[0m\u001b[0m\n",
            "\u001b[0;31mFileNotFoundError\u001b[0m: [Errno 2] No such file or directory: 'my_file.txt'"
          ]
        }
      ]
    },
    {
      "cell_type": "code",
      "metadata": {
        "colab": {
          "base_uri": "https://localhost:8080/"
        },
        "id": "kO-1Glq0Ko9S",
        "outputId": "739f052b-e604-4ffa-9a20-448321e53ffb"
      },
      "source": [
        "try :\n",
        "  file = open(\"my_file.txt\", \"r\")\n",
        "  print(file.read())\n",
        "  file.close()\n",
        "except FileNotFoundError:\n",
        "  print(\"There is not such a file or the path is incorrect.\")"
      ],
      "execution_count": 44,
      "outputs": [
        {
          "output_type": "stream",
          "name": "stdout",
          "text": [
            "There is not such a file or the path is incorrect.\n"
          ]
        }
      ]
    },
    {
      "cell_type": "code",
      "metadata": {
        "colab": {
          "base_uri": "https://localhost:8080/",
          "height": 235
        },
        "id": "ri-Skh5PX7rE",
        "outputId": "9bf5eabe-1a01-4f31-c882-7d2cefaf73cc"
      },
      "source": [
        "try :\n",
        "  a = 4 + \"4\"\n",
        "  file = open(\"my_file.txt\", \"r\")\n",
        "  print(file.read())\n",
        "  file.close()\n",
        "except FileNotFoundError:\n",
        "  print(\"There is not such a file or the path is incorrect.\")"
      ],
      "execution_count": 45,
      "outputs": [
        {
          "output_type": "error",
          "ename": "TypeError",
          "evalue": "ignored",
          "traceback": [
            "\u001b[0;31m---------------------------------------------------------------------------\u001b[0m",
            "\u001b[0;31mTypeError\u001b[0m                                 Traceback (most recent call last)",
            "\u001b[0;32m<ipython-input-45-7e47d43943cd>\u001b[0m in \u001b[0;36m<module>\u001b[0;34m()\u001b[0m\n\u001b[1;32m      1\u001b[0m \u001b[0;32mtry\u001b[0m \u001b[0;34m:\u001b[0m\u001b[0;34m\u001b[0m\u001b[0;34m\u001b[0m\u001b[0m\n\u001b[0;32m----> 2\u001b[0;31m   \u001b[0ma\u001b[0m \u001b[0;34m=\u001b[0m \u001b[0;36m4\u001b[0m \u001b[0;34m+\u001b[0m \u001b[0;34m\"4\"\u001b[0m\u001b[0;34m\u001b[0m\u001b[0;34m\u001b[0m\u001b[0m\n\u001b[0m\u001b[1;32m      3\u001b[0m   \u001b[0mfile\u001b[0m \u001b[0;34m=\u001b[0m \u001b[0mopen\u001b[0m\u001b[0;34m(\u001b[0m\u001b[0;34m\"my_file.txt\"\u001b[0m\u001b[0;34m,\u001b[0m \u001b[0;34m\"r\"\u001b[0m\u001b[0;34m)\u001b[0m\u001b[0;34m\u001b[0m\u001b[0;34m\u001b[0m\u001b[0m\n\u001b[1;32m      4\u001b[0m   \u001b[0mprint\u001b[0m\u001b[0;34m(\u001b[0m\u001b[0mfile\u001b[0m\u001b[0;34m.\u001b[0m\u001b[0mread\u001b[0m\u001b[0;34m(\u001b[0m\u001b[0;34m)\u001b[0m\u001b[0;34m)\u001b[0m\u001b[0;34m\u001b[0m\u001b[0;34m\u001b[0m\u001b[0m\n\u001b[1;32m      5\u001b[0m   \u001b[0mfile\u001b[0m\u001b[0;34m.\u001b[0m\u001b[0mclose\u001b[0m\u001b[0;34m(\u001b[0m\u001b[0;34m)\u001b[0m\u001b[0;34m\u001b[0m\u001b[0;34m\u001b[0m\u001b[0m\n",
            "\u001b[0;31mTypeError\u001b[0m: unsupported operand type(s) for +: 'int' and 'str'"
          ]
        }
      ]
    },
    {
      "cell_type": "code",
      "metadata": {
        "colab": {
          "base_uri": "https://localhost:8080/"
        },
        "id": "gdZoYalGYwxA",
        "outputId": "944b94ab-dc5b-4caf-fea9-b966fb9e74f5"
      },
      "source": [
        "try :\n",
        "  a = 4 + \"4\"\n",
        "  file = open(\"my_file.txt\", \"r\")\n",
        "  print(file.read())\n",
        "  file.close()\n",
        "except FileNotFoundError:\n",
        "  print(\"There is not such a file or the path is incorrect.\")\n",
        "\n",
        "except TypeError:\n",
        "  print(\"The type is incorrect.\")"
      ],
      "execution_count": 46,
      "outputs": [
        {
          "output_type": "stream",
          "name": "stdout",
          "text": [
            "The type is incorrect.\n"
          ]
        }
      ]
    },
    {
      "cell_type": "code",
      "metadata": {
        "id": "42WWDA6OYwzq"
      },
      "source": [
        "try :\n",
        "  a = 4 + \"4\"\n",
        "  file = open(\"my_file.txt\", \"r\")\n",
        "  print(file.read())\n",
        "  file.close()\n",
        "except FileNotFoundError:\n",
        "  print(\"There is not such a file or the path is incorrect.\")\n",
        "\n",
        "except TypeError:\n",
        "  print(\"The type is incorrect.\")"
      ],
      "execution_count": null,
      "outputs": []
    },
    {
      "cell_type": "code",
      "metadata": {
        "colab": {
          "base_uri": "https://localhost:8080/"
        },
        "id": "MgNUVSJCYw24",
        "outputId": "610dbd48-fa3b-4e12-b286-07b805b07619"
      },
      "source": [
        "try :\n",
        "  sonuc = \"4\" + \"5\"\n",
        "  print(\"hello\")\n",
        "\n",
        "except TypeError :\n",
        "  print(\"Type hatası var. Tipi kontrol etsen iyi olur.\")\n",
        "\n",
        "else :\n",
        "  print(\"Aaa demek ki hata yükselmemiş. Try içerisinde exception yok. Süper\", sonuc)\n",
        "\n",
        "finally :\n",
        "  print(\"Eh nihayet bana sıra geldi. Eninde sonunda çalışırım arkadaş.\")"
      ],
      "execution_count": 47,
      "outputs": [
        {
          "output_type": "stream",
          "name": "stdout",
          "text": [
            "hello\n",
            "Aaa demek ki hata yükselmemiş. Try içerisinde exception yok. Süper 45\n",
            "Eh nihayet bana sıra geldi. Eninde sonunda çalışırım arkadaş.\n"
          ]
        }
      ]
    },
    {
      "cell_type": "code",
      "metadata": {
        "colab": {
          "base_uri": "https://localhost:8080/"
        },
        "id": "cX5u-0ePX7uJ",
        "outputId": "c470a243-241f-4afe-cbbf-dd7a5a688005"
      },
      "source": [
        "try :\n",
        "  print(\"hello universe\")\n",
        "  sonuc = 4 + \"5\"\n",
        "  print(\"hello\")\n",
        "\n",
        "except TypeError :\n",
        "  print(\"Type hatası var. Tipi kontrol etsen iyi olur.\")\n",
        "\n",
        "else :\n",
        "  print(\"Aaa demek ki hata yükselmemiş. Try içerisinde exception yok. Süper\", sonuc)\n",
        "\n",
        "finally :\n",
        "  print(\"Eh nihayet bana sıra geldi. Eninde sonunda çalışırım arkadaş.\")"
      ],
      "execution_count": 49,
      "outputs": [
        {
          "output_type": "stream",
          "name": "stdout",
          "text": [
            "hello universe\n",
            "Type hatası var. Tipi kontrol etsen iyi olur.\n",
            "Eh nihayet bana sıra geldi. Eninde sonunda çalışırım arkadaş.\n"
          ]
        }
      ]
    },
    {
      "cell_type": "code",
      "metadata": {
        "colab": {
          "base_uri": "https://localhost:8080/",
          "height": 269
        },
        "id": "xB2f-WhrcmzM",
        "outputId": "ea9fadcd-84dc-49fb-8561-a2efd9f559e0"
      },
      "source": [
        "try :\n",
        "  print(\"hello universe\")\n",
        "  sonuc = 4 + \"5\"\n",
        "  print(\"hello\")\n",
        "\n",
        "except ValueError :\n",
        "  print(\"Type hatası var. Tipi kontrol etsen iyi olur.\")\n",
        "\n",
        "else :\n",
        "  print(\"Aaa demek ki hata yükselmemiş. Try içerisinde exception yok. Süper\", sonuc)\n",
        "\n",
        "finally :\n",
        "  print(\"Eh nihayet bana sıra geldi. Eninde sonunda çalışırım arkadaş.\")"
      ],
      "execution_count": 50,
      "outputs": [
        {
          "output_type": "stream",
          "name": "stdout",
          "text": [
            "hello universe\n",
            "Eh nihayet bana sıra geldi. Eninde sonunda çalışırım arkadaş.\n"
          ]
        },
        {
          "output_type": "error",
          "ename": "TypeError",
          "evalue": "ignored",
          "traceback": [
            "\u001b[0;31m---------------------------------------------------------------------------\u001b[0m",
            "\u001b[0;31mTypeError\u001b[0m                                 Traceback (most recent call last)",
            "\u001b[0;32m<ipython-input-50-b0806e8352ca>\u001b[0m in \u001b[0;36m<module>\u001b[0;34m()\u001b[0m\n\u001b[1;32m      1\u001b[0m \u001b[0;32mtry\u001b[0m \u001b[0;34m:\u001b[0m\u001b[0;34m\u001b[0m\u001b[0;34m\u001b[0m\u001b[0m\n\u001b[1;32m      2\u001b[0m   \u001b[0mprint\u001b[0m\u001b[0;34m(\u001b[0m\u001b[0;34m\"hello universe\"\u001b[0m\u001b[0;34m)\u001b[0m\u001b[0;34m\u001b[0m\u001b[0;34m\u001b[0m\u001b[0m\n\u001b[0;32m----> 3\u001b[0;31m   \u001b[0msonuc\u001b[0m \u001b[0;34m=\u001b[0m \u001b[0;36m4\u001b[0m \u001b[0;34m+\u001b[0m \u001b[0;34m\"5\"\u001b[0m\u001b[0;34m\u001b[0m\u001b[0;34m\u001b[0m\u001b[0m\n\u001b[0m\u001b[1;32m      4\u001b[0m   \u001b[0mprint\u001b[0m\u001b[0;34m(\u001b[0m\u001b[0;34m\"hello\"\u001b[0m\u001b[0;34m)\u001b[0m\u001b[0;34m\u001b[0m\u001b[0;34m\u001b[0m\u001b[0m\n\u001b[1;32m      5\u001b[0m \u001b[0;34m\u001b[0m\u001b[0m\n",
            "\u001b[0;31mTypeError\u001b[0m: unsupported operand type(s) for +: 'int' and 'str'"
          ]
        }
      ]
    },
    {
      "cell_type": "code",
      "metadata": {
        "colab": {
          "base_uri": "https://localhost:8080/"
        },
        "id": "MfvCZNn1dBvH",
        "outputId": "17cd7fd1-5063-4d13-b7a5-93b36e40e63c"
      },
      "source": [
        "try :\n",
        "  print(\"hello universe\")\n",
        "  sonuc = 4 + \"5\"\n",
        "  print(\"hello\")\n",
        "\n",
        "except :\n",
        "  print(\"Type hatası var. Tipi kontrol etsen iyi olur.\")\n",
        "\n",
        "else :\n",
        "  print(\"Aaa demek ki hata yükselmemiş. Try içerisinde exception yok. Süper\", sonuc)\n",
        "\n",
        "finally :\n",
        "  print(\"Eh nihayet bana sıra geldi. Eninde sonunda çalışırım arkadaş.\")"
      ],
      "execution_count": 51,
      "outputs": [
        {
          "output_type": "stream",
          "name": "stdout",
          "text": [
            "hello universe\n",
            "Type hatası var. Tipi kontrol etsen iyi olur.\n",
            "Eh nihayet bana sıra geldi. Eninde sonunda çalışırım arkadaş.\n"
          ]
        }
      ]
    },
    {
      "cell_type": "code",
      "metadata": {
        "colab": {
          "base_uri": "https://localhost:8080/"
        },
        "id": "3N126vjAdJdg",
        "outputId": "8a3b200f-e0d2-4c5e-9ce6-b49e1337bd78"
      },
      "source": [
        "try :\n",
        "  print(\"hello universe\")\n",
        "  sonuc = 4 + \"5\"\n",
        "  print(\"hello\")\n",
        "\n",
        "except ValueError:\n",
        "  print(\"Value Error'e göre işlem yap. Kod yaz.\")\n",
        "\n",
        "except TypeError :\n",
        "  print(\"Type Error'e göre işlem yap. Kod yaz.\")\n",
        "\n",
        "except ZeroDivisionError :\n",
        "  print(\"ZeroDivison Error'e göre işlem yap. Kod yaz.\")\n",
        "\n",
        "else :\n",
        "  print(\"Aaa demek ki hata yükselmemiş. Try içerisinde exception yok. Süper\", sonuc)\n",
        "\n",
        "finally :\n",
        "  print(\"Eh nihayet bana sıra geldi. Eninde sonunda çalışırım arkadaş.\")"
      ],
      "execution_count": 52,
      "outputs": [
        {
          "output_type": "stream",
          "name": "stdout",
          "text": [
            "hello universe\n",
            "Type Error'e göre işlem yap. Kod yaz.\n",
            "Eh nihayet bana sıra geldi. Eninde sonunda çalışırım arkadaş.\n"
          ]
        }
      ]
    },
    {
      "cell_type": "code",
      "metadata": {
        "colab": {
          "base_uri": "https://localhost:8080/"
        },
        "id": "AedjuUzfdjm5",
        "outputId": "c7756587-c419-4a08-fc55-d56f4e6aa04a"
      },
      "source": [
        "try :\n",
        "  print(\"hello universe\")\n",
        "  sonuc = 4 / 0\n",
        "  print(\"hello\")\n",
        "\n",
        "except ValueError:\n",
        "  print(\"Value Error'e göre işlem yap. Kod yaz.\")\n",
        "\n",
        "except TypeError :\n",
        "  print(\"Type Error'e göre işlem yap. Kod yaz.\")\n",
        "\n",
        "except ZeroDivisionError :\n",
        "  print(\"ZeroDivison Error'e göre işlem yap. Kod yaz.\")\n",
        "\n",
        "else :\n",
        "  print(\"Aaa demek ki hata yükselmemiş. Try içerisinde exception yok. Süper\", sonuc)\n",
        "\n",
        "finally :\n",
        "  print(\"Eh nihayet bana sıra geldi. Eninde sonunda çalışırım arkadaş.\")"
      ],
      "execution_count": 53,
      "outputs": [
        {
          "output_type": "stream",
          "name": "stdout",
          "text": [
            "hello universe\n",
            "ZeroDivison Error'e göre işlem yap. Kod yaz.\n",
            "Eh nihayet bana sıra geldi. Eninde sonunda çalışırım arkadaş.\n"
          ]
        }
      ]
    },
    {
      "cell_type": "code",
      "metadata": {
        "colab": {
          "base_uri": "https://localhost:8080/"
        },
        "id": "hcUmrVJ-dpSM",
        "outputId": "fafb4c44-d738-48e6-983f-d144c92d53a2"
      },
      "source": [
        "try :\n",
        "  print(\"hello universe\")\n",
        "  sonuc = 4 / 4\n",
        "  print(\"hello\")\n",
        "\n",
        "except ValueError:\n",
        "  print(\"Value Error'e göre işlem yap. Kod yaz.\")\n",
        "\n",
        "except TypeError :\n",
        "  print(\"Type Error'e göre işlem yap. Kod yaz.\")\n",
        "\n",
        "except ZeroDivisionError :\n",
        "  print(\"ZeroDivison Error'e göre işlem yap. Kod yaz.\")\n",
        "\n",
        "else :\n",
        "  print(\"Aaa demek ki hata yükselmemiş. Try içerisinde exception yok. Süper\", sonuc)\n",
        "\n",
        "finally :\n",
        "  print(\"Eh nihayet bana sıra geldi. Eninde sonunda çalışırım arkadaş.\")"
      ],
      "execution_count": 54,
      "outputs": [
        {
          "output_type": "stream",
          "name": "stdout",
          "text": [
            "hello universe\n",
            "hello\n",
            "Aaa demek ki hata yükselmemiş. Try içerisinde exception yok. Süper 1.0\n",
            "Eh nihayet bana sıra geldi. Eninde sonunda çalışırım arkadaş.\n"
          ]
        }
      ]
    },
    {
      "cell_type": "markdown",
      "metadata": {
        "id": "60Rk3Rh6eWgk"
      },
      "source": [
        "![image (1).png](data:image/png;base64,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)"
      ]
    },
    {
      "cell_type": "code",
      "metadata": {
        "colab": {
          "base_uri": "https://localhost:8080/"
        },
        "id": "FROwtlRodxd_",
        "outputId": "ac940d9a-b28c-4ee6-d83f-0bc2f21eef6a"
      },
      "source": [
        "while True:\n",
        "    no_one = int(input(\"The first number please : \"))\n",
        "    no_two = int(input(\"The second number please : \"))\n",
        "    try:\n",
        "        division = no_one / no_two  # normal part of the program\n",
        "    except ZeroDivisionError:\n",
        "        print(\"You can't divide by zero! Try again.\")  # executes when division by zero\n",
        "    else:\n",
        "        print(\"The result of the division is : \", division)  # executes if there is no exception\n",
        "    finally:\n",
        "        print(\"Thanks for using our mini divison calculator! Come again!\")\n",
        "        break  # exits the while loop"
      ],
      "execution_count": 55,
      "outputs": [
        {
          "output_type": "stream",
          "name": "stdout",
          "text": [
            "The first number please : 5\n",
            "The second number please : 2\n",
            "The result of the division is :  2.5\n",
            "Thanks for using our mini divison calculator! Come again!\n"
          ]
        }
      ]
    },
    {
      "cell_type": "code",
      "metadata": {
        "colab": {
          "base_uri": "https://localhost:8080/"
        },
        "id": "lpDPbCRWdxg7",
        "outputId": "7504cf34-b125-4a92-d1ca-217d12932c17"
      },
      "source": [
        "while True:\n",
        "    no_one = int(input(\"The first number please : \"))\n",
        "    no_two = int(input(\"The second number please : \"))\n",
        "    try:\n",
        "        division = no_one / no_two\n",
        "        print(\"The result of the division is: \", division)\n",
        "        break\n",
        "    except Exception as e :\n",
        "        print(\"Something went wrong... Try again\")\n",
        "        print(\"Probably it is because of '{}' error.\".format(e))\n",
        "        break"
      ],
      "execution_count": 56,
      "outputs": [
        {
          "output_type": "stream",
          "name": "stdout",
          "text": [
            "The first number please : 7\n",
            "The second number please : 0\n",
            "Something went wrong... Try again\n",
            "Probably it is because of 'division by zero' error.\n"
          ]
        }
      ]
    },
    {
      "cell_type": "code",
      "metadata": {
        "colab": {
          "base_uri": "https://localhost:8080/",
          "height": 165
        },
        "id": "hsIa3xWAgiy7",
        "outputId": "b80207a2-6c25-424c-cdd4-d2d350482eef"
      },
      "source": [
        "4 + \"4\""
      ],
      "execution_count": 58,
      "outputs": [
        {
          "output_type": "error",
          "ename": "TypeError",
          "evalue": "ignored",
          "traceback": [
            "\u001b[0;31m---------------------------------------------------------------------------\u001b[0m",
            "\u001b[0;31mTypeError\u001b[0m                                 Traceback (most recent call last)",
            "\u001b[0;32m<ipython-input-58-f027878f74dd>\u001b[0m in \u001b[0;36m<module>\u001b[0;34m()\u001b[0m\n\u001b[0;32m----> 1\u001b[0;31m \u001b[0;36m4\u001b[0m \u001b[0;34m+\u001b[0m \u001b[0;34m\"4\"\u001b[0m\u001b[0;34m\u001b[0m\u001b[0;34m\u001b[0m\u001b[0m\n\u001b[0m",
            "\u001b[0;31mTypeError\u001b[0m: unsupported operand type(s) for +: 'int' and 'str'"
          ]
        }
      ]
    },
    {
      "cell_type": "code",
      "metadata": {
        "colab": {
          "base_uri": "https://localhost:8080/"
        },
        "id": "11JTProvgKgf",
        "outputId": "a294aa77-5c11-45f7-fc93-ee996576d938"
      },
      "source": [
        "try :\n",
        "  4 + \"4\"\n",
        "except Exception as variable :\n",
        "  print(variable)"
      ],
      "execution_count": 59,
      "outputs": [
        {
          "output_type": "stream",
          "name": "stdout",
          "text": [
            "unsupported operand type(s) for +: 'int' and 'str'\n"
          ]
        }
      ]
    }
  ]
}