{
  "nbformat": 4,
  "nbformat_minor": 0,
  "metadata": {
    "colab": {
      "name": "17_November_In_Class",
      "provenance": [],
      "collapsed_sections": []
    },
    "kernelspec": {
      "name": "python3",
      "display_name": "Python 3"
    },
    "language_info": {
      "name": "python"
    }
  },
  "cells": [
    {
      "cell_type": "markdown",
      "metadata": {
        "id": "1X0NWKUYFNvQ"
      },
      "source": [
        "**F U N C T I O N S**"
      ]
    },
    {
      "cell_type": "code",
      "metadata": {
        "colab": {
          "base_uri": "https://localhost:8080/"
        },
        "id": "CTkeHnP1Et4b",
        "outputId": "d4c99a5c-9058-4c9e-f3b1-7ec769c4373e"
      },
      "source": [
        "names = [\"susan\", \"tom\", \"False\"]\n",
        "mood = [\"happy\", \"sad\", 0]\n",
        "empty = {}\n",
        "\n",
        "print(all(names), all(mood), all(empty), sep = \"\\n\")"
      ],
      "execution_count": 11,
      "outputs": [
        {
          "output_type": "stream",
          "name": "stdout",
          "text": [
            "True\n",
            "False\n",
            "True\n"
          ]
        }
      ]
    },
    {
      "cell_type": "code",
      "metadata": {
        "colab": {
          "base_uri": "https://localhost:8080/"
        },
        "id": "LR-S8iqvEt7B",
        "outputId": "73e98f87-f1c4-46c7-d914-384985446c73"
      },
      "source": [
        "listA = [\"susan\", \"tom\", False]\n",
        "listB = [None, (), 0]\n",
        "empty = {}\n",
        "\n",
        "print(any(listA), any(listB), any(empty), sep = \"\\n\")"
      ],
      "execution_count": 12,
      "outputs": [
        {
          "output_type": "stream",
          "name": "stdout",
          "text": [
            "True\n",
            "False\n",
            "False\n"
          ]
        }
      ]
    },
    {
      "cell_type": "code",
      "metadata": {
        "colab": {
          "base_uri": "https://localhost:8080/"
        },
        "id": "BwZxnG3GEt97",
        "outputId": "fd8375c1-3eb3-44e5-e2f4-0edcd5ac9036"
      },
      "source": [
        "listA = [\"susan\", \"tom\", False, 0, \"0\"]\n",
        "havadaki_object = filter(None, listA)\n",
        "havadaki_object"
      ],
      "execution_count": 13,
      "outputs": [
        {
          "output_type": "execute_result",
          "data": {
            "text/plain": [
              "<filter at 0x7f61193555d0>"
            ]
          },
          "metadata": {},
          "execution_count": 13
        }
      ]
    },
    {
      "cell_type": "code",
      "metadata": {
        "colab": {
          "base_uri": "https://localhost:8080/"
        },
        "id": "7rB6HmqCEuAv",
        "outputId": "fc1d2915-85fd-4f91-d273-3d49d421078a"
      },
      "source": [
        "for i in havadaki_object :\n",
        "  print(i)"
      ],
      "execution_count": 14,
      "outputs": [
        {
          "output_type": "stream",
          "name": "stdout",
          "text": [
            "susan\n",
            "tom\n",
            "0\n"
          ]
        }
      ]
    },
    {
      "cell_type": "code",
      "metadata": {
        "colab": {
          "base_uri": "https://localhost:8080/"
        },
        "id": "PeCKHYf1EuDH",
        "outputId": "4c10c7c8-efb3-4159-d04c-d8c2c7171190"
      },
      "source": [
        "listA = [\"susan\", \"tom\", False, 0, 22]\n",
        "filtered_list = filter(None, listA)\n",
        "filtered_list"
      ],
      "execution_count": 15,
      "outputs": [
        {
          "output_type": "execute_result",
          "data": {
            "text/plain": [
              "<filter at 0x7f6119361990>"
            ]
          },
          "metadata": {},
          "execution_count": 15
        }
      ]
    },
    {
      "cell_type": "code",
      "metadata": {
        "colab": {
          "base_uri": "https://localhost:8080/"
        },
        "id": "W-y6rBnmEuF4",
        "outputId": "a255f93c-ce6b-447e-dce8-d2efef7e06bf"
      },
      "source": [
        "for i in filtered_list :\n",
        "  print(i)"
      ],
      "execution_count": 16,
      "outputs": [
        {
          "output_type": "stream",
          "name": "stdout",
          "text": [
            "susan\n",
            "tom\n",
            "22\n"
          ]
        }
      ]
    },
    {
      "cell_type": "code",
      "metadata": {
        "colab": {
          "base_uri": "https://localhost:8080/"
        },
        "id": "2nvqbsW8EuIt",
        "outputId": "1bb6d1a7-7b2c-4016-c934-b568d7291d46"
      },
      "source": [
        "listA = [\"susan\", \"tom\", False, 0, 22]\n",
        "filtered_list = filter(None, listA)\n",
        "print(*filtered_list)"
      ],
      "execution_count": 17,
      "outputs": [
        {
          "output_type": "stream",
          "name": "stdout",
          "text": [
            "susan tom 22\n"
          ]
        }
      ]
    },
    {
      "cell_type": "code",
      "metadata": {
        "colab": {
          "base_uri": "https://localhost:8080/"
        },
        "id": "unUE5C3eEuLE",
        "outputId": "d6a92ee4-1776-4173-d4ea-6668b8703a37"
      },
      "source": [
        "grocery = [\"bread\", \"water\", \"olive\"]\n",
        "enum_grocery = enumerate(grocery)\n",
        "\n",
        "print(type(grocery))\n",
        "\n",
        "print(list(grocery))\n",
        "\n",
        "enum_grocery = enumerate(grocery, 10)\n",
        "print(list(enum_grocery))"
      ],
      "execution_count": 18,
      "outputs": [
        {
          "output_type": "stream",
          "name": "stdout",
          "text": [
            "<class 'list'>\n",
            "['bread', 'water', 'olive']\n",
            "[(10, 'bread'), (11, 'water'), (12, 'olive')]\n"
          ]
        }
      ]
    },
    {
      "cell_type": "code",
      "metadata": {
        "colab": {
          "base_uri": "https://localhost:8080/",
          "height": 35
        },
        "id": "5Wtv8JfCEuQD",
        "outputId": "d1a8f81f-d08b-44df-c4fc-5adf0e19d6ca"
      },
      "source": [
        "min(\"ahmet\")"
      ],
      "execution_count": 19,
      "outputs": [
        {
          "output_type": "execute_result",
          "data": {
            "application/vnd.google.colaboratory.intrinsic+json": {
              "type": "string"
            },
            "text/plain": [
              "'a'"
            ]
          },
          "metadata": {},
          "execution_count": 19
        }
      ]
    },
    {
      "cell_type": "code",
      "metadata": {
        "colab": {
          "base_uri": "https://localhost:8080/",
          "height": 35
        },
        "id": "kquhBfB8MO9N",
        "outputId": "6ae1eb33-a0cf-4ff7-8a40-1164891f533f"
      },
      "source": [
        "max(\"ahmet\")"
      ],
      "execution_count": 20,
      "outputs": [
        {
          "output_type": "execute_result",
          "data": {
            "application/vnd.google.colaboratory.intrinsic+json": {
              "type": "string"
            },
            "text/plain": [
              "'t'"
            ]
          },
          "metadata": {},
          "execution_count": 20
        }
      ]
    },
    {
      "cell_type": "code",
      "metadata": {
        "colab": {
          "base_uri": "https://localhost:8080/"
        },
        "id": "KuUKsgYDMO_f",
        "outputId": "7483b80c-a8e1-45bf-eb11-cfc834a13aa8"
      },
      "source": [
        "ord(\"a\")"
      ],
      "execution_count": 21,
      "outputs": [
        {
          "output_type": "execute_result",
          "data": {
            "text/plain": [
              "97"
            ]
          },
          "metadata": {},
          "execution_count": 21
        }
      ]
    },
    {
      "cell_type": "code",
      "metadata": {
        "colab": {
          "base_uri": "https://localhost:8080/"
        },
        "id": "eCOgg8NlMPBz",
        "outputId": "2086b71f-f0f3-46d1-f1b1-ff986d889032"
      },
      "source": [
        "ord(\"t\")"
      ],
      "execution_count": 22,
      "outputs": [
        {
          "output_type": "execute_result",
          "data": {
            "text/plain": [
              "116"
            ]
          },
          "metadata": {},
          "execution_count": 22
        }
      ]
    },
    {
      "cell_type": "code",
      "metadata": {
        "colab": {
          "base_uri": "https://localhost:8080/"
        },
        "id": "C-c9SIQUMPEE",
        "outputId": "afafbacb-1f71-4a93-872f-f6b68732ad06"
      },
      "source": [
        "for i in \"ahmet\" :\n",
        "  print(ord(i))"
      ],
      "execution_count": 23,
      "outputs": [
        {
          "output_type": "stream",
          "name": "stdout",
          "text": [
            "97\n",
            "104\n",
            "109\n",
            "101\n",
            "116\n"
          ]
        }
      ]
    },
    {
      "cell_type": "code",
      "metadata": {
        "colab": {
          "base_uri": "https://localhost:8080/"
        },
        "id": "fJNpDEMbMPGZ",
        "outputId": "71e365e1-80ac-412f-ae79-706a9ac2f3f1"
      },
      "source": [
        "max(1,2,3,4)"
      ],
      "execution_count": 24,
      "outputs": [
        {
          "output_type": "execute_result",
          "data": {
            "text/plain": [
              "4"
            ]
          },
          "metadata": {},
          "execution_count": 24
        }
      ]
    },
    {
      "cell_type": "code",
      "metadata": {
        "colab": {
          "base_uri": "https://localhost:8080/"
        },
        "id": "OQ04HWBlMPIU",
        "outputId": "4d8bfeef-9897-448d-f83a-f0019b5d14f3"
      },
      "source": [
        "min(1,2,3,4)"
      ],
      "execution_count": 25,
      "outputs": [
        {
          "output_type": "execute_result",
          "data": {
            "text/plain": [
              "1"
            ]
          },
          "metadata": {},
          "execution_count": 25
        }
      ]
    },
    {
      "cell_type": "markdown",
      "metadata": {
        "id": "6DY08WytMy_5"
      },
      "source": [
        "![image.png](data:image/png;base64,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)"
      ]
    },
    {
      "cell_type": "code",
      "metadata": {
        "colab": {
          "base_uri": "https://localhost:8080/"
        },
        "id": "KABOwDtLMzGW",
        "outputId": "a4aa7e03-f3fc-4259-8f9b-f7ad4e3f2283"
      },
      "source": [
        "numbers = [2.5, 30, 4, -15]\n",
        "\n",
        "numbers_sum = sum(numbers)\n",
        "print(numbers_sum)\n",
        "\n",
        "numbers_sum = sum(numbers, 20)\n",
        "print(numbers_sum)"
      ],
      "execution_count": 26,
      "outputs": [
        {
          "output_type": "stream",
          "name": "stdout",
          "text": [
            "21.5\n",
            "41.5\n"
          ]
        }
      ]
    },
    {
      "cell_type": "code",
      "metadata": {
        "colab": {
          "base_uri": "https://localhost:8080/",
          "height": 163
        },
        "id": "hHhXuUyxMkY_",
        "outputId": "be35ad27-1177-49cd-b3d1-b9f643557065"
      },
      "source": [
        "sum(1,2,3,4)"
      ],
      "execution_count": 27,
      "outputs": [
        {
          "output_type": "error",
          "ename": "TypeError",
          "evalue": "ignored",
          "traceback": [
            "\u001b[0;31m---------------------------------------------------------------------------\u001b[0m",
            "\u001b[0;31mTypeError\u001b[0m                                 Traceback (most recent call last)",
            "\u001b[0;32m<ipython-input-27-91d8ea3a7fc6>\u001b[0m in \u001b[0;36m<module>\u001b[0;34m()\u001b[0m\n\u001b[0;32m----> 1\u001b[0;31m \u001b[0msum\u001b[0m\u001b[0;34m(\u001b[0m\u001b[0;36m1\u001b[0m\u001b[0;34m,\u001b[0m\u001b[0;36m2\u001b[0m\u001b[0;34m,\u001b[0m\u001b[0;36m3\u001b[0m\u001b[0;34m,\u001b[0m\u001b[0;36m4\u001b[0m\u001b[0;34m)\u001b[0m\u001b[0;34m\u001b[0m\u001b[0;34m\u001b[0m\u001b[0m\n\u001b[0m",
            "\u001b[0;31mTypeError\u001b[0m: sum expected at most 2 arguments, got 4"
          ]
        }
      ]
    },
    {
      "cell_type": "code",
      "metadata": {
        "colab": {
          "base_uri": "https://localhost:8080/"
        },
        "id": "Mfjc23YaMkbW",
        "outputId": "d1d15a54-c3aa-44a9-fb2f-469ec10ecf87"
      },
      "source": [
        "sum([1,5],2)"
      ],
      "execution_count": 28,
      "outputs": [
        {
          "output_type": "execute_result",
          "data": {
            "text/plain": [
              "8"
            ]
          },
          "metadata": {},
          "execution_count": 28
        }
      ]
    },
    {
      "cell_type": "code",
      "metadata": {
        "colab": {
          "base_uri": "https://localhost:8080/"
        },
        "id": "-nYQeM5OMkdh",
        "outputId": "d51a4957-ec20-47e2-8c20-2e28cbf80320"
      },
      "source": [
        "print(round(12))\n",
        "print(round(10.8))\n",
        "print(round(3.665, 2))\n",
        "print(round(3.675, 2))\n",
        "print(round(3.685, 2))\n",
        "print(round(3.695, 2))"
      ],
      "execution_count": 29,
      "outputs": [
        {
          "output_type": "stream",
          "name": "stdout",
          "text": [
            "12\n",
            "11\n",
            "3.67\n",
            "3.67\n",
            "3.69\n",
            "3.69\n"
          ]
        }
      ]
    },
    {
      "cell_type": "markdown",
      "metadata": {
        "id": "xhG0SgKvTPbR"
      },
      "source": [
        "fonksiyon tanımlarken ---> parametre\n",
        "\n",
        "fonksiyon çağrılırken ----> argumant\n"
      ]
    },
    {
      "cell_type": "code",
      "metadata": {
        "id": "DUqVtJxOR4BN"
      },
      "source": [
        "def ilk_fonksiyonum(x, y) :\n",
        "  print(x ** 2 + y ** 2)"
      ],
      "execution_count": 30,
      "outputs": []
    },
    {
      "cell_type": "code",
      "metadata": {
        "colab": {
          "base_uri": "https://localhost:8080/"
        },
        "id": "64EsUyQsTTJ1",
        "outputId": "4cba24fe-19bb-4875-b4f4-4267678e5b92"
      },
      "source": [
        "ilk_fonksiyonum(3, 4)"
      ],
      "execution_count": 31,
      "outputs": [
        {
          "output_type": "stream",
          "name": "stdout",
          "text": [
            "25\n"
          ]
        }
      ]
    },
    {
      "cell_type": "code",
      "metadata": {
        "id": "Bk8Om1r-TTM4"
      },
      "source": [
        "def hipotenüs(a, b) :\n",
        "  print((a ** 2 + b ** 2) ** 0.5)"
      ],
      "execution_count": 32,
      "outputs": []
    },
    {
      "cell_type": "code",
      "metadata": {
        "colab": {
          "base_uri": "https://localhost:8080/"
        },
        "id": "5JKR12pRTTPb",
        "outputId": "2f96755a-7e00-4941-e1e4-fa909fb83c49"
      },
      "source": [
        "hipotenüs(3, 4)"
      ],
      "execution_count": 33,
      "outputs": [
        {
          "output_type": "stream",
          "name": "stdout",
          "text": [
            "5.0\n"
          ]
        }
      ]
    },
    {
      "cell_type": "code",
      "metadata": {
        "colab": {
          "base_uri": "https://localhost:8080/"
        },
        "id": "6-5RndBrTTSF",
        "outputId": "e0e04438-f75b-4843-a0dd-a289309a05bd"
      },
      "source": [
        "def multiply(a, b) :\n",
        "  print(a * b)\n",
        "\n",
        "multiply(3, 5)\n",
        "multiply(-1, 2.5)\n",
        "multiply('amazing ', 3)"
      ],
      "execution_count": 34,
      "outputs": [
        {
          "output_type": "stream",
          "name": "stdout",
          "text": [
            "15\n",
            "-2.5\n",
            "amazing amazing amazing \n"
          ]
        }
      ]
    },
    {
      "cell_type": "code",
      "metadata": {
        "colab": {
          "base_uri": "https://localhost:8080/"
        },
        "id": "Anc9GL-5UlEa",
        "outputId": "c34f39f7-3aa1-4aa9-b3e5-54c8c5b9c256"
      },
      "source": [
        "def motto() :\n",
        "  print(\"Don't hesitate to reinvent yourself!\")\n",
        "\n",
        "motto()"
      ],
      "execution_count": 35,
      "outputs": [
        {
          "output_type": "stream",
          "name": "stdout",
          "text": [
            "Don't hesitate to reinvent yourself!\n"
          ]
        }
      ]
    },
    {
      "cell_type": "code",
      "metadata": {
        "colab": {
          "base_uri": "https://localhost:8080/"
        },
        "id": "QWbfguqCUlHa",
        "outputId": "49eb1cec-86e4-4819-ee56-d85da4b2cb44"
      },
      "source": [
        "def rumi() :\n",
        "  print('''\n",
        "Duydum ki bizi bırakmaya azmediyorsun, etme.\n",
        "Başka bir yar, başka bir dosta meylediyorsun, etme.\n",
        "Sen yadeller dünyasında ne arıyorsun yabancı?\n",
        "Hangi hasta gönüllüyü kastediyorsun, etme.\n",
        "Çalma bizi, bizden bizi, gitme o ellere doğru.\n",
        "Çalınmış başkalarına nazar ediyorsun, etme.\n",
        "  ''')\n",
        "\n",
        "rumi()"
      ],
      "execution_count": 36,
      "outputs": [
        {
          "output_type": "stream",
          "name": "stdout",
          "text": [
            "\n",
            "Duydum ki bizi bırakmaya azmediyorsun, etme.\n",
            "Başka bir yar, başka bir dosta meylediyorsun, etme.\n",
            "Sen yadeller dünyasında ne arıyorsun yabancı?\n",
            "Hangi hasta gönüllüyü kastediyorsun, etme.\n",
            "Çalma bizi, bizden bizi, gitme o ellere doğru.\n",
            "Çalınmış başkalarına nazar ediyorsun, etme.\n",
            "  \n"
          ]
        }
      ]
    },
    {
      "cell_type": "code",
      "metadata": {
        "colab": {
          "base_uri": "https://localhost:8080/"
        },
        "id": "cVnTdBtPUlKI",
        "outputId": "019212ac-0068-45fc-b339-5f7eaa622faa"
      },
      "source": [
        "def add(a, b) :\n",
        "  return a + b\n",
        "add(2, 5)"
      ],
      "execution_count": 37,
      "outputs": [
        {
          "output_type": "execute_result",
          "data": {
            "text/plain": [
              "7"
            ]
          },
          "metadata": {},
          "execution_count": 37
        }
      ]
    },
    {
      "cell_type": "code",
      "metadata": {
        "colab": {
          "base_uri": "https://localhost:8080/"
        },
        "id": "_9GxgrmrUlMc",
        "outputId": "a9dd52ae-a2c6-4507-8f2c-e85874f0784a"
      },
      "source": [
        "def add(sayi1, sayi2) :\n",
        "  print(sayi1 + sayi2)\n",
        "add(2, 5)"
      ],
      "execution_count": 38,
      "outputs": [
        {
          "output_type": "stream",
          "name": "stdout",
          "text": [
            "7\n"
          ]
        }
      ]
    },
    {
      "cell_type": "code",
      "metadata": {
        "colab": {
          "base_uri": "https://localhost:8080/"
        },
        "id": "oL-kO7jnUlOx",
        "outputId": "c85668f9-0173-4cd2-e729-2f576ded7590"
      },
      "source": [
        "add(2, 3)"
      ],
      "execution_count": 39,
      "outputs": [
        {
          "output_type": "stream",
          "name": "stdout",
          "text": [
            "5\n"
          ]
        }
      ]
    },
    {
      "cell_type": "code",
      "metadata": {
        "colab": {
          "base_uri": "https://localhost:8080/"
        },
        "id": "Lm1pUP3aUlRu",
        "outputId": "6c9ad944-d7a5-4899-dd28-c670cee26534"
      },
      "source": [
        "add(-5, 5)"
      ],
      "execution_count": 40,
      "outputs": [
        {
          "output_type": "stream",
          "name": "stdout",
          "text": [
            "0\n"
          ]
        }
      ]
    },
    {
      "cell_type": "code",
      "metadata": {
        "colab": {
          "base_uri": "https://localhost:8080/"
        },
        "id": "OOEL-b1fUlUa",
        "outputId": "8c7da2a5-4cf0-4f46-9a39-112f97ed5096"
      },
      "source": [
        "add(\"5\", \"5\")"
      ],
      "execution_count": 41,
      "outputs": [
        {
          "output_type": "stream",
          "name": "stdout",
          "text": [
            "55\n"
          ]
        }
      ]
    },
    {
      "cell_type": "code",
      "metadata": {
        "colab": {
          "base_uri": "https://localhost:8080/"
        },
        "id": "qOOxwppBUlWN",
        "outputId": "ffc07a37-a0e1-4961-aa4e-116d9ba38113"
      },
      "source": [
        "def calculator(a, b, c) :\n",
        "  if c == \"+\" :\n",
        "    print(a+b)\n",
        "  elif c == \"-\" :\n",
        "    print(a-b)\n",
        "  elif c == \"/\" :\n",
        "    print(a/b)\n",
        "  elif c == \"*\" :\n",
        "    print(a*b)\n",
        "  else :\n",
        "    print(\"Enter valid arguments\")\n",
        "\n",
        "calculator(12, 5, \"*\")"
      ],
      "execution_count": 42,
      "outputs": [
        {
          "output_type": "stream",
          "name": "stdout",
          "text": [
            "60\n"
          ]
        }
      ]
    },
    {
      "cell_type": "code",
      "metadata": {
        "colab": {
          "base_uri": "https://localhost:8080/"
        },
        "id": "RWtgk7JgZn4T",
        "outputId": "c8af0fdb-681a-4224-f402-494481e7eb03"
      },
      "source": [
        "def multiply_1(a, b) :\n",
        "  print(a * b)\n",
        "multiply_1(10, 5)  "
      ],
      "execution_count": 43,
      "outputs": [
        {
          "output_type": "stream",
          "name": "stdout",
          "text": [
            "50\n"
          ]
        }
      ]
    },
    {
      "cell_type": "code",
      "metadata": {
        "colab": {
          "base_uri": "https://localhost:8080/"
        },
        "id": "mM0KmxiQXHi9",
        "outputId": "77a241ce-575f-4933-f062-158c1cb94e53"
      },
      "source": [
        "def multiply_2(a, b) :\n",
        "  return a * b\n",
        "\n",
        "print(multiply_2(10, 5))"
      ],
      "execution_count": 44,
      "outputs": [
        {
          "output_type": "stream",
          "name": "stdout",
          "text": [
            "50\n"
          ]
        }
      ]
    },
    {
      "cell_type": "code",
      "metadata": {
        "colab": {
          "base_uri": "https://localhost:8080/"
        },
        "id": "EuU7MQO8XHle",
        "outputId": "384c2b1a-06fa-4260-d896-45d16d5f500b"
      },
      "source": [
        "print(type(multiply_1(10, 5)))"
      ],
      "execution_count": 45,
      "outputs": [
        {
          "output_type": "stream",
          "name": "stdout",
          "text": [
            "50\n",
            "<class 'NoneType'>\n"
          ]
        }
      ]
    },
    {
      "cell_type": "code",
      "metadata": {
        "colab": {
          "base_uri": "https://localhost:8080/"
        },
        "id": "F7pDotzCXHoY",
        "outputId": "72b16592-f2df-405c-e635-0f9073bd96c5"
      },
      "source": [
        "print(type(multiply_2(10, 5)))"
      ],
      "execution_count": 46,
      "outputs": [
        {
          "output_type": "stream",
          "name": "stdout",
          "text": [
            "<class 'int'>\n"
          ]
        }
      ]
    },
    {
      "cell_type": "code",
      "metadata": {
        "id": "eX5XJjhyai4V"
      },
      "source": [
        "def absolute_value(num) :\n",
        "  \"\"\"This function returns the absolute value of given number\"\"\"\n",
        "  if num >= 0 :\n",
        "    return num\n",
        "  else :\n",
        "    return -num"
      ],
      "execution_count": 47,
      "outputs": []
    },
    {
      "cell_type": "code",
      "metadata": {
        "colab": {
          "base_uri": "https://localhost:8080/"
        },
        "id": "hZoLeedemlxG",
        "outputId": "cace2ff8-4068-4133-e327-5d7580aab004"
      },
      "source": [
        "print(absolute_value.__doc__)"
      ],
      "execution_count": 48,
      "outputs": [
        {
          "output_type": "stream",
          "name": "stdout",
          "text": [
            "This function returns the absolute value of given number\n"
          ]
        }
      ]
    },
    {
      "cell_type": "code",
      "metadata": {
        "colab": {
          "base_uri": "https://localhost:8080/"
        },
        "id": "AxM7B-26XHqs",
        "outputId": "8866bfc4-c5ab-4907-d529-eab17310cf17"
      },
      "source": [
        "print(absolute_value(3.3))\n",
        "print(absolute_value(-4))"
      ],
      "execution_count": 49,
      "outputs": [
        {
          "output_type": "stream",
          "name": "stdout",
          "text": [
            "3.3\n",
            "4\n"
          ]
        }
      ]
    },
    {
      "cell_type": "code",
      "metadata": {
        "colab": {
          "base_uri": "https://localhost:8080/"
        },
        "id": "Lb3ehy94aVXu",
        "outputId": "50333063-2863-4c64-ac4e-7c41f55bd9c6"
      },
      "source": [
        "print(absolute_value(-22))"
      ],
      "execution_count": 50,
      "outputs": [
        {
          "output_type": "stream",
          "name": "stdout",
          "text": [
            "22\n"
          ]
        }
      ]
    },
    {
      "cell_type": "code",
      "metadata": {
        "id": "5RlWE8c4aVa0"
      },
      "source": [
        "def topla(x, y) :\n",
        "  return x + y"
      ],
      "execution_count": 51,
      "outputs": []
    },
    {
      "cell_type": "code",
      "metadata": {
        "colab": {
          "base_uri": "https://localhost:8080/"
        },
        "id": "XQFeeZkibIm8",
        "outputId": "13ea0f06-4db5-4450-e62a-7bbb5702c917"
      },
      "source": [
        "type(topla(3,5))"
      ],
      "execution_count": 52,
      "outputs": [
        {
          "output_type": "execute_result",
          "data": {
            "text/plain": [
              "int"
            ]
          },
          "metadata": {},
          "execution_count": 52
        }
      ]
    },
    {
      "cell_type": "code",
      "metadata": {
        "colab": {
          "base_uri": "https://localhost:8080/"
        },
        "id": "dDjJcWiBbIpr",
        "outputId": "baaf9e3f-85d6-460a-93b3-6ed72fb3be3c"
      },
      "source": [
        "def calculator(a, b, c) :\n",
        "  if c == \"+\" :\n",
        "    return(a+b)\n",
        "  elif c == \"-\" :\n",
        "    return(a-b)\n",
        "  elif c == \"/\" :\n",
        "    return(a/b)\n",
        "  elif c == \"*\" :\n",
        "    return(a*b)\n",
        "  else :\n",
        "    return(\"Enter valid arguments\")\n",
        "\n",
        "calculator(12, 5, \"*\")"
      ],
      "execution_count": 53,
      "outputs": [
        {
          "output_type": "execute_result",
          "data": {
            "text/plain": [
              "60"
            ]
          },
          "metadata": {},
          "execution_count": 53
        }
      ]
    },
    {
      "cell_type": "code",
      "metadata": {
        "id": "0wNaj8glbIr4"
      },
      "source": [
        "def string() :\n",
        "  return \"alivelideli\""
      ],
      "execution_count": 54,
      "outputs": []
    },
    {
      "cell_type": "code",
      "metadata": {
        "colab": {
          "base_uri": "https://localhost:8080/",
          "height": 35
        },
        "id": "sDWnU4AWb9W6",
        "outputId": "81e41902-eb6b-4e0e-a2a5-a9181bd6841b"
      },
      "source": [
        "string()"
      ],
      "execution_count": 55,
      "outputs": [
        {
          "output_type": "execute_result",
          "data": {
            "application/vnd.google.colaboratory.intrinsic+json": {
              "type": "string"
            },
            "text/plain": [
              "'alivelideli'"
            ]
          },
          "metadata": {},
          "execution_count": 55
        }
      ]
    },
    {
      "cell_type": "code",
      "metadata": {
        "colab": {
          "base_uri": "https://localhost:8080/",
          "height": 35
        },
        "id": "gi4pFOl_b9Za",
        "outputId": "7e68e1bb-250d-4f88-eff6-dcc6d4ba38b0"
      },
      "source": [
        "\"alivelideli\""
      ],
      "execution_count": 56,
      "outputs": [
        {
          "output_type": "execute_result",
          "data": {
            "application/vnd.google.colaboratory.intrinsic+json": {
              "type": "string"
            },
            "text/plain": [
              "'alivelideli'"
            ]
          },
          "metadata": {},
          "execution_count": 56
        }
      ]
    },
    {
      "cell_type": "code",
      "metadata": {
        "id": "vLxcFCsIb9bg"
      },
      "source": [
        "def integer() :\n",
        "  return 22"
      ],
      "execution_count": 57,
      "outputs": []
    },
    {
      "cell_type": "code",
      "metadata": {
        "colab": {
          "base_uri": "https://localhost:8080/"
        },
        "id": "8pZn9bheb9de",
        "outputId": "bce18fa3-04ca-43e6-8d18-6b3d40e1e53a"
      },
      "source": [
        "integer()"
      ],
      "execution_count": 58,
      "outputs": [
        {
          "output_type": "execute_result",
          "data": {
            "text/plain": [
              "22"
            ]
          },
          "metadata": {},
          "execution_count": 58
        }
      ]
    },
    {
      "cell_type": "code",
      "metadata": {
        "colab": {
          "base_uri": "https://localhost:8080/"
        },
        "id": "RGOG1j-lcH_C",
        "outputId": "b86df58a-5e98-419f-b124-3b2688faad7b"
      },
      "source": [
        "22"
      ],
      "execution_count": 59,
      "outputs": [
        {
          "output_type": "execute_result",
          "data": {
            "text/plain": [
              "22"
            ]
          },
          "metadata": {},
          "execution_count": 59
        }
      ]
    },
    {
      "cell_type": "code",
      "metadata": {
        "id": "IORBRwTacIBH"
      },
      "source": [
        "def boolean() :\n",
        "  return True"
      ],
      "execution_count": 60,
      "outputs": []
    },
    {
      "cell_type": "code",
      "metadata": {
        "colab": {
          "base_uri": "https://localhost:8080/"
        },
        "id": "Cf5Ed79qcIDP",
        "outputId": "2f3446c4-792b-4fc1-f7c5-146060c47736"
      },
      "source": [
        "boolean()"
      ],
      "execution_count": 61,
      "outputs": [
        {
          "output_type": "execute_result",
          "data": {
            "text/plain": [
              "True"
            ]
          },
          "metadata": {},
          "execution_count": 61
        }
      ]
    },
    {
      "cell_type": "code",
      "metadata": {
        "colab": {
          "base_uri": "https://localhost:8080/"
        },
        "id": "cW27DGrrcIFn",
        "outputId": "2ee4caa1-862a-4778-c050-0a0af18b04e1"
      },
      "source": [
        "if boolean() :\n",
        "  print(\"aaa çalıştım.\")"
      ],
      "execution_count": 62,
      "outputs": [
        {
          "output_type": "stream",
          "name": "stdout",
          "text": [
            "aaa çalıştım.\n"
          ]
        }
      ]
    },
    {
      "cell_type": "code",
      "metadata": {
        "id": "KIc4U6zGcIHn"
      },
      "source": [
        "def listem() :\n",
        "  return [1, 2, 3, 4, 5]"
      ],
      "execution_count": 63,
      "outputs": []
    },
    {
      "cell_type": "code",
      "metadata": {
        "colab": {
          "base_uri": "https://localhost:8080/"
        },
        "id": "9dNR3wh5cIJw",
        "outputId": "dec5fd9d-2401-4368-b918-0c84a8b7031a"
      },
      "source": [
        "listem()"
      ],
      "execution_count": 64,
      "outputs": [
        {
          "output_type": "execute_result",
          "data": {
            "text/plain": [
              "[1, 2, 3, 4, 5]"
            ]
          },
          "metadata": {},
          "execution_count": 64
        }
      ]
    },
    {
      "cell_type": "code",
      "metadata": {
        "colab": {
          "base_uri": "https://localhost:8080/"
        },
        "id": "ANyOYopgjgrW",
        "outputId": "d14c9135-0f94-4fa1-db1b-f303e16a1f96"
      },
      "source": [
        "type(listem())"
      ],
      "execution_count": 65,
      "outputs": [
        {
          "output_type": "execute_result",
          "data": {
            "text/plain": [
              "list"
            ]
          },
          "metadata": {},
          "execution_count": 65
        }
      ]
    },
    {
      "cell_type": "code",
      "metadata": {
        "colab": {
          "base_uri": "https://localhost:8080/"
        },
        "id": "euHNt8m_jVRa",
        "outputId": "15d8f1e1-57d2-45e1-f0e9-47c6b33d2d37"
      },
      "source": [
        "for i in  listem() :\n",
        "  print(i)"
      ],
      "execution_count": 66,
      "outputs": [
        {
          "output_type": "stream",
          "name": "stdout",
          "text": [
            "1\n",
            "2\n",
            "3\n",
            "4\n",
            "5\n"
          ]
        }
      ]
    },
    {
      "cell_type": "code",
      "metadata": {
        "colab": {
          "base_uri": "https://localhost:8080/"
        },
        "id": "VwDtS86rjVUJ",
        "outputId": "de4b1580-2a0c-4a1a-8c03-90553e8151a9"
      },
      "source": [
        "tuple([1, 2, 3, 4 ,5])"
      ],
      "execution_count": 67,
      "outputs": [
        {
          "output_type": "execute_result",
          "data": {
            "text/plain": [
              "(1, 2, 3, 4, 5)"
            ]
          },
          "metadata": {},
          "execution_count": 67
        }
      ]
    },
    {
      "cell_type": "code",
      "metadata": {
        "colab": {
          "base_uri": "https://localhost:8080/"
        },
        "id": "gKf4iiNEjVV5",
        "outputId": "7a5266a2-cbba-4cd6-be86-d2363873b7d7"
      },
      "source": [
        "tuple(listem())"
      ],
      "execution_count": 68,
      "outputs": [
        {
          "output_type": "execute_result",
          "data": {
            "text/plain": [
              "(1, 2, 3, 4, 5)"
            ]
          },
          "metadata": {},
          "execution_count": 68
        }
      ]
    },
    {
      "cell_type": "code",
      "metadata": {
        "colab": {
          "base_uri": "https://localhost:8080/"
        },
        "id": "-uZBlNfEjVYc",
        "outputId": "e8f3e702-caba-4a71-d790-e2cff207f4dc"
      },
      "source": [
        "number = input(\"Please enter a number: \")\n",
        "toplam = sum([int(i) ** len(number) for i in number])\n",
        "if int(number) == toplam :\n",
        "  print(number, \"is an armstrong number\")\n",
        "else:\n",
        "  print(number, \"is not an armstrong number\")"
      ],
      "execution_count": 70,
      "outputs": [
        {
          "output_type": "stream",
          "name": "stdout",
          "text": [
            "Please enter a number: 1634\n",
            "1634 is an armstrong number\n"
          ]
        }
      ]
    },
    {
      "cell_type": "markdown",
      "metadata": {
        "id": "wE0YpljAlqkJ"
      },
      "source": [
        "docstring : herhangi bir fonksiyonun kullanma açıklaması"
      ]
    },
    {
      "cell_type": "code",
      "metadata": {
        "colab": {
          "base_uri": "https://localhost:8080/"
        },
        "id": "PBrYj6GujVaF",
        "outputId": "f1d7015d-a145-440f-ba2b-98f78ea20529"
      },
      "source": [
        "print(abs.__doc__)"
      ],
      "execution_count": 71,
      "outputs": [
        {
          "output_type": "stream",
          "name": "stdout",
          "text": [
            "Return the absolute value of the argument.\n"
          ]
        }
      ]
    },
    {
      "cell_type": "code",
      "metadata": {
        "id": "6gcO6yVJj0C0"
      },
      "source": [
        "generate = (i ** 2 for i in range(6))"
      ],
      "execution_count": 88,
      "outputs": []
    },
    {
      "cell_type": "code",
      "metadata": {
        "id": "vUmdK3gbj0FP"
      },
      "source": [
        "yeni_listem = [i ** 2 for i in range(6)]"
      ],
      "execution_count": 73,
      "outputs": []
    },
    {
      "cell_type": "code",
      "metadata": {
        "colab": {
          "base_uri": "https://localhost:8080/"
        },
        "id": "EDvW4pI4j0HX",
        "outputId": "b2e326eb-cd96-4348-8343-fc626ce5cb67"
      },
      "source": [
        "yeni_listem"
      ],
      "execution_count": 74,
      "outputs": [
        {
          "output_type": "execute_result",
          "data": {
            "text/plain": [
              "[0, 1, 4, 9, 16, 25]"
            ]
          },
          "metadata": {},
          "execution_count": 74
        }
      ]
    },
    {
      "cell_type": "code",
      "metadata": {
        "id": "hDbV1Cr_j0Js"
      },
      "source": [
        "generator = (i ** 2 for i in range(6))"
      ],
      "execution_count": 83,
      "outputs": []
    },
    {
      "cell_type": "code",
      "metadata": {
        "colab": {
          "base_uri": "https://localhost:8080/"
        },
        "id": "ruLONZWDj0LD",
        "outputId": "80bbe1a4-22c5-4615-e327-4d29904a904d"
      },
      "source": [
        "generator"
      ],
      "execution_count": 80,
      "outputs": [
        {
          "output_type": "execute_result",
          "data": {
            "text/plain": [
              "<generator object <genexpr> at 0x7f611518fb50>"
            ]
          },
          "metadata": {},
          "execution_count": 80
        }
      ]
    },
    {
      "cell_type": "code",
      "metadata": {
        "colab": {
          "base_uri": "https://localhost:8080/"
        },
        "id": "iiM6mdZno4h5",
        "outputId": "5fcaf72e-7694-461f-9096-a99b47720ca6"
      },
      "source": [
        "print(* generator)"
      ],
      "execution_count": 84,
      "outputs": [
        {
          "output_type": "stream",
          "name": "stdout",
          "text": [
            "0 1 4 9 16 25\n"
          ]
        }
      ]
    },
    {
      "cell_type": "code",
      "metadata": {
        "id": "EbMIF9j4o4lw"
      },
      "source": [
        "for i in generator : # çıktı alamadık bir üstte içini boşalttık çünkü\n",
        "  print(i)"
      ],
      "execution_count": 87,
      "outputs": []
    },
    {
      "cell_type": "code",
      "metadata": {
        "id": "5EnWgdeqo4oZ"
      },
      "source": [
        "generator = (i ** 2 for i in range(6))"
      ],
      "execution_count": 90,
      "outputs": []
    },
    {
      "cell_type": "code",
      "metadata": {
        "colab": {
          "base_uri": "https://localhost:8080/"
        },
        "id": "iRSXWhNco4qy",
        "outputId": "45012a3b-3826-4051-9cce-1a1957be94eb"
      },
      "source": [
        "for i in generator :\n",
        "  print(i)"
      ],
      "execution_count": 91,
      "outputs": [
        {
          "output_type": "stream",
          "name": "stdout",
          "text": [
            "0\n",
            "1\n",
            "4\n",
            "9\n",
            "16\n",
            "25\n"
          ]
        }
      ]
    },
    {
      "cell_type": "code",
      "metadata": {
        "id": "IG7CWUKDpiLN"
      },
      "source": [
        "generator = (i ** 2 for i in range(6))"
      ],
      "execution_count": 92,
      "outputs": []
    },
    {
      "cell_type": "code",
      "metadata": {
        "colab": {
          "base_uri": "https://localhost:8080/"
        },
        "id": "FqxO8C2Tpjkw",
        "outputId": "d466cc50-d6f0-4748-a829-67acba96c980"
      },
      "source": [
        "list(generator)"
      ],
      "execution_count": 94,
      "outputs": [
        {
          "output_type": "execute_result",
          "data": {
            "text/plain": [
              "[0, 1, 4, 9, 16, 25]"
            ]
          },
          "metadata": {},
          "execution_count": 94
        }
      ]
    },
    {
      "cell_type": "code",
      "metadata": {
        "id": "KYzDFIK5poWz"
      },
      "source": [
        "generator = (i ** 2 for i in range(6))"
      ],
      "execution_count": 95,
      "outputs": []
    },
    {
      "cell_type": "code",
      "metadata": {
        "colab": {
          "base_uri": "https://localhost:8080/"
        },
        "id": "nAXWs4PZpoZf",
        "outputId": "a34221ca-d45d-43ef-8750-849354145107"
      },
      "source": [
        "print(next(generator))"
      ],
      "execution_count": 96,
      "outputs": [
        {
          "output_type": "stream",
          "name": "stdout",
          "text": [
            "0\n"
          ]
        }
      ]
    },
    {
      "cell_type": "code",
      "metadata": {
        "colab": {
          "base_uri": "https://localhost:8080/"
        },
        "id": "8vdBFGezpoc1",
        "outputId": "f2647c36-ec27-485c-8575-7fe407af84d2"
      },
      "source": [
        "print(next(generator))"
      ],
      "execution_count": 97,
      "outputs": [
        {
          "output_type": "stream",
          "name": "stdout",
          "text": [
            "1\n"
          ]
        }
      ]
    },
    {
      "cell_type": "code",
      "metadata": {
        "colab": {
          "base_uri": "https://localhost:8080/"
        },
        "id": "CrKHftC1pohZ",
        "outputId": "9e6a428f-eef2-45e0-a31d-9c7dc6ee639d"
      },
      "source": [
        "print(next(generator))"
      ],
      "execution_count": 98,
      "outputs": [
        {
          "output_type": "stream",
          "name": "stdout",
          "text": [
            "4\n"
          ]
        }
      ]
    },
    {
      "cell_type": "code",
      "metadata": {
        "colab": {
          "base_uri": "https://localhost:8080/"
        },
        "id": "Vx9FqnKGpoj8",
        "outputId": "220d0c8c-6a09-4efe-f72e-d3ab9bb08892"
      },
      "source": [
        "print(next(generator))"
      ],
      "execution_count": 99,
      "outputs": [
        {
          "output_type": "stream",
          "name": "stdout",
          "text": [
            "9\n"
          ]
        }
      ]
    },
    {
      "cell_type": "code",
      "metadata": {
        "colab": {
          "base_uri": "https://localhost:8080/"
        },
        "id": "Z9PpF2sEqAJR",
        "outputId": "0d8292a1-8a94-4265-a293-ed28d2b45230"
      },
      "source": [
        "print(next(generator))"
      ],
      "execution_count": 100,
      "outputs": [
        {
          "output_type": "stream",
          "name": "stdout",
          "text": [
            "16\n"
          ]
        }
      ]
    },
    {
      "cell_type": "code",
      "metadata": {
        "colab": {
          "base_uri": "https://localhost:8080/"
        },
        "id": "aPBiDdnEqARI",
        "outputId": "90887b3d-fba9-45e0-f936-1ab66705293d"
      },
      "source": [
        "print(next(generator))"
      ],
      "execution_count": 101,
      "outputs": [
        {
          "output_type": "stream",
          "name": "stdout",
          "text": [
            "25\n"
          ]
        }
      ]
    },
    {
      "cell_type": "code",
      "metadata": {
        "colab": {
          "base_uri": "https://localhost:8080/",
          "height": 163
        },
        "id": "IwXGKBzBqEYe",
        "outputId": "1d6121e2-44ba-4158-bb6e-79e35a5b1c19"
      },
      "source": [
        "print(next(generator))"
      ],
      "execution_count": 102,
      "outputs": [
        {
          "output_type": "error",
          "ename": "StopIteration",
          "evalue": "ignored",
          "traceback": [
            "\u001b[0;31m---------------------------------------------------------------------------\u001b[0m",
            "\u001b[0;31mStopIteration\u001b[0m                             Traceback (most recent call last)",
            "\u001b[0;32m<ipython-input-102-19919da3e769>\u001b[0m in \u001b[0;36m<module>\u001b[0;34m()\u001b[0m\n\u001b[0;32m----> 1\u001b[0;31m \u001b[0mprint\u001b[0m\u001b[0;34m(\u001b[0m\u001b[0mnext\u001b[0m\u001b[0;34m(\u001b[0m\u001b[0mgenerator\u001b[0m\u001b[0;34m)\u001b[0m\u001b[0;34m)\u001b[0m\u001b[0;34m\u001b[0m\u001b[0;34m\u001b[0m\u001b[0m\n\u001b[0m",
            "\u001b[0;31mStopIteration\u001b[0m: "
          ]
        }
      ]
    },
    {
      "cell_type": "code",
      "metadata": {
        "id": "oO6sjKphqEfK"
      },
      "source": [
        "generator = (i ** 2 for i in range(6))"
      ],
      "execution_count": 110,
      "outputs": []
    },
    {
      "cell_type": "code",
      "metadata": {
        "colab": {
          "base_uri": "https://localhost:8080/"
        },
        "id": "hfLrvpRAqJih",
        "outputId": "ddd172ed-f00a-4ab0-8673-c9564653cef6"
      },
      "source": [
        "print(next(generator))"
      ],
      "execution_count": 111,
      "outputs": [
        {
          "output_type": "stream",
          "name": "stdout",
          "text": [
            "0\n"
          ]
        }
      ]
    },
    {
      "cell_type": "code",
      "metadata": {
        "colab": {
          "base_uri": "https://localhost:8080/"
        },
        "id": "B6Ebak7CqmHh",
        "outputId": "ff58ce6d-e8ca-47cd-e36a-a421fb57259f"
      },
      "source": [
        "print(next(generator))"
      ],
      "execution_count": 112,
      "outputs": [
        {
          "output_type": "stream",
          "name": "stdout",
          "text": [
            "1\n"
          ]
        }
      ]
    },
    {
      "cell_type": "code",
      "metadata": {
        "colab": {
          "base_uri": "https://localhost:8080/"
        },
        "id": "wdR9LJ-dqmEd",
        "outputId": "99d66e7c-cbc6-496b-b778-e0cd3d374da9"
      },
      "source": [
        "print(next(generator))"
      ],
      "execution_count": 113,
      "outputs": [
        {
          "output_type": "stream",
          "name": "stdout",
          "text": [
            "4\n"
          ]
        }
      ]
    },
    {
      "cell_type": "code",
      "metadata": {
        "colab": {
          "base_uri": "https://localhost:8080/"
        },
        "id": "G4uaTDV-qmAz",
        "outputId": "230df878-288a-451a-de21-b657c63ddbe8"
      },
      "source": [
        "print(*generator)"
      ],
      "execution_count": 114,
      "outputs": [
        {
          "output_type": "stream",
          "name": "stdout",
          "text": [
            "9 16 25\n"
          ]
        }
      ]
    },
    {
      "cell_type": "code",
      "metadata": {
        "colab": {
          "base_uri": "https://localhost:8080/",
          "height": 180
        },
        "id": "lR3r11Jvql9x",
        "outputId": "e38dfcef-2845-4a70-f51c-61a6f5f4e76d"
      },
      "source": [
        "a = [1, 2, 3, 4, 5, 6]\n",
        "print(next(a))"
      ],
      "execution_count": 117,
      "outputs": [
        {
          "output_type": "error",
          "ename": "TypeError",
          "evalue": "ignored",
          "traceback": [
            "\u001b[0;31m---------------------------------------------------------------------------\u001b[0m",
            "\u001b[0;31mTypeError\u001b[0m                                 Traceback (most recent call last)",
            "\u001b[0;32m<ipython-input-117-347c2e3a0676>\u001b[0m in \u001b[0;36m<module>\u001b[0;34m()\u001b[0m\n\u001b[1;32m      1\u001b[0m \u001b[0ma\u001b[0m \u001b[0;34m=\u001b[0m \u001b[0;34m[\u001b[0m\u001b[0;36m1\u001b[0m\u001b[0;34m,\u001b[0m \u001b[0;36m2\u001b[0m\u001b[0;34m,\u001b[0m \u001b[0;36m3\u001b[0m\u001b[0;34m,\u001b[0m \u001b[0;36m4\u001b[0m\u001b[0;34m,\u001b[0m \u001b[0;36m5\u001b[0m\u001b[0;34m,\u001b[0m \u001b[0;36m6\u001b[0m\u001b[0;34m]\u001b[0m\u001b[0;34m\u001b[0m\u001b[0;34m\u001b[0m\u001b[0m\n\u001b[0;32m----> 2\u001b[0;31m \u001b[0mprint\u001b[0m\u001b[0;34m(\u001b[0m\u001b[0mnext\u001b[0m\u001b[0;34m(\u001b[0m\u001b[0ma\u001b[0m\u001b[0;34m)\u001b[0m\u001b[0;34m)\u001b[0m\u001b[0;34m\u001b[0m\u001b[0;34m\u001b[0m\u001b[0m\n\u001b[0m",
            "\u001b[0;31mTypeError\u001b[0m: 'list' object is not an iterator"
          ]
        }
      ]
    }
  ]
}