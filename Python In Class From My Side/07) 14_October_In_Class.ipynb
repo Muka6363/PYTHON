{
  "nbformat": 4,
  "nbformat_minor": 5,
  "metadata": {
    "kernelspec": {
      "display_name": "Python 3",
      "language": "python",
      "name": "python3"
    },
    "language_info": {
      "codemirror_mode": {
        "name": "ipython",
        "version": 3
      },
      "file_extension": ".py",
      "mimetype": "text/x-python",
      "name": "python",
      "nbconvert_exporter": "python",
      "pygments_lexer": "ipython3",
      "version": "3.8.8"
    },
    "colab": {
      "name": "14_October_In_Class.ipynb",
      "provenance": [],
      "collapsed_sections": []
    }
  },
  "cells": [
    {
      "cell_type": "markdown",
      "metadata": {
        "id": "406f2981"
      },
      "source": [
        "<img src=\"https://docs.google.com/uc?id=14xeXxFrVRjvOoUYWn_GuyE-v84wVzrqr\" class=\"img-fluid\" alt=\"CLRWY\" width=\"400\" height=\"200\">"
      ],
      "id": "406f2981"
    },
    {
      "cell_type": "markdown",
      "metadata": {
        "id": "22263af8"
      },
      "source": [
        "<h1><p style=\"text-align: center; color:darkblue\">Python In-Class, <br>14 October 2021</p><h1>"
      ],
      "id": "22263af8"
    },
    {
      "cell_type": "code",
      "metadata": {
        "id": "ee47dfa4"
      },
      "source": [
        "yil = \"2020's hard\""
      ],
      "id": "ee47dfa4",
      "execution_count": null,
      "outputs": []
    },
    {
      "cell_type": "code",
      "metadata": {
        "id": "f9554f87"
      },
      "source": [
        "yil_list = list(yil)"
      ],
      "id": "f9554f87",
      "execution_count": null,
      "outputs": []
    },
    {
      "cell_type": "code",
      "metadata": {
        "id": "79d13804",
        "outputId": "32542e0a-2904-4a66-fded-31a5092c4121"
      },
      "source": [
        "yil_list"
      ],
      "id": "79d13804",
      "execution_count": null,
      "outputs": [
        {
          "data": {
            "text/plain": [
              "['2', '0', '2', '0', \"'\", 's', ' ', 'h', 'a', 'r', 'd']"
            ]
          },
          "execution_count": 4,
          "metadata": {},
          "output_type": "execute_result"
        }
      ]
    },
    {
      "cell_type": "code",
      "metadata": {
        "id": "15a0b741",
        "outputId": "598739b4-2e86-449d-f5d0-e85270a71b30"
      },
      "source": [
        "yil_list_2 = [\"2020's hard\"]\n",
        "\n",
        "yil_list_2"
      ],
      "id": "15a0b741",
      "execution_count": null,
      "outputs": [
        {
          "data": {
            "text/plain": [
              "[\"2020's hard\"]"
            ]
          },
          "execution_count": 5,
          "metadata": {},
          "output_type": "execute_result"
        }
      ]
    },
    {
      "cell_type": "code",
      "metadata": {
        "id": "4cd61e52"
      },
      "source": [
        "a = 1\n",
        "b = 2\n",
        "c = 3"
      ],
      "id": "4cd61e52",
      "execution_count": null,
      "outputs": []
    },
    {
      "cell_type": "code",
      "metadata": {
        "id": "0cdee9c9",
        "outputId": "af545b5b-412c-4ba8-9a1d-0a954853d983"
      },
      "source": [
        "sayılar = [a, b, c]\n",
        "\n",
        "sayılar"
      ],
      "id": "0cdee9c9",
      "execution_count": null,
      "outputs": [
        {
          "data": {
            "text/plain": [
              "[1, 2, 3]"
            ]
          },
          "execution_count": 7,
          "metadata": {},
          "output_type": "execute_result"
        }
      ]
    },
    {
      "cell_type": "code",
      "metadata": {
        "id": "7b80abe6"
      },
      "source": [
        "boş1 = list()"
      ],
      "id": "7b80abe6",
      "execution_count": null,
      "outputs": []
    },
    {
      "cell_type": "code",
      "metadata": {
        "id": "65491cb5",
        "outputId": "fa0238a7-f2b0-4a9d-91da-7d233631c567"
      },
      "source": [
        "boş1"
      ],
      "id": "65491cb5",
      "execution_count": null,
      "outputs": [
        {
          "data": {
            "text/plain": [
              "[]"
            ]
          },
          "execution_count": 9,
          "metadata": {},
          "output_type": "execute_result"
        }
      ]
    },
    {
      "cell_type": "code",
      "metadata": {
        "id": "e95f7d35"
      },
      "source": [
        "boş2 = []"
      ],
      "id": "e95f7d35",
      "execution_count": null,
      "outputs": []
    },
    {
      "cell_type": "code",
      "metadata": {
        "id": "159416bd",
        "outputId": "370f22dd-e3d8-48bf-88ba-5e04ee879de1"
      },
      "source": [
        "boş2"
      ],
      "id": "159416bd",
      "execution_count": null,
      "outputs": [
        {
          "data": {
            "text/plain": [
              "[]"
            ]
          },
          "execution_count": 11,
          "metadata": {},
          "output_type": "execute_result"
        }
      ]
    },
    {
      "cell_type": "code",
      "metadata": {
        "id": "29becfac"
      },
      "source": [
        "\"sting\"."
      ],
      "id": "29becfac",
      "execution_count": null,
      "outputs": []
    },
    {
      "cell_type": "code",
      "metadata": {
        "id": "5e0b0013",
        "outputId": "fca5d141-0186-4015-b430-dde7f93da3d0"
      },
      "source": [
        "listem = []\n",
        "\n",
        "listem.append(11)\n",
        "\n",
        "listem"
      ],
      "id": "5e0b0013",
      "execution_count": null,
      "outputs": [
        {
          "data": {
            "text/plain": [
              "[11]"
            ]
          },
          "execution_count": 14,
          "metadata": {},
          "output_type": "execute_result"
        }
      ]
    },
    {
      "cell_type": "code",
      "metadata": {
        "id": "9ea502be",
        "outputId": "ae7274cc-8cfd-474a-95f0-179eac8e4e26"
      },
      "source": [
        "kardeşler = [\"ali\", \"weli\"]\n",
        "\n",
        "kardeşler"
      ],
      "id": "9ea502be",
      "execution_count": null,
      "outputs": [
        {
          "data": {
            "text/plain": [
              "['ali', 'weli']"
            ]
          },
          "execution_count": 15,
          "metadata": {},
          "output_type": "execute_result"
        }
      ]
    },
    {
      "cell_type": "code",
      "metadata": {
        "id": "e4674c56",
        "outputId": "cd93a3be-a175-45d5-e02e-deeb9c7139b4"
      },
      "source": [
        "kardeşler.append(\"theli\")\n",
        "\n",
        "kardeşler"
      ],
      "id": "e4674c56",
      "execution_count": null,
      "outputs": [
        {
          "data": {
            "text/plain": [
              "['ali', 'weli', 'theli']"
            ]
          },
          "execution_count": 16,
          "metadata": {},
          "output_type": "execute_result"
        }
      ]
    },
    {
      "cell_type": "code",
      "metadata": {
        "id": "1d25f6d8",
        "outputId": "05d645f4-87cf-4748-fe93-ff9a3865583b"
      },
      "source": [
        "kardeşler.append(True)\n",
        "\n",
        "kardeşler"
      ],
      "id": "1d25f6d8",
      "execution_count": null,
      "outputs": [
        {
          "data": {
            "text/plain": [
              "['ali', 'weli', 'theli', True]"
            ]
          },
          "execution_count": 17,
          "metadata": {},
          "output_type": "execute_result"
        }
      ]
    },
    {
      "cell_type": "code",
      "metadata": {
        "id": "932e70f8",
        "outputId": "76592fe7-65b0-4de4-e40a-e2d763035fd6"
      },
      "source": [
        "kardeşler.append(3.14)\n",
        "\n",
        "kardeşler"
      ],
      "id": "932e70f8",
      "execution_count": null,
      "outputs": [
        {
          "data": {
            "text/plain": [
              "['ali', 'weli', 'theli', True, 3.14]"
            ]
          },
          "execution_count": 18,
          "metadata": {},
          "output_type": "execute_result"
        }
      ]
    },
    {
      "cell_type": "code",
      "metadata": {
        "id": "151ea9bb",
        "outputId": "632f04a9-3953-49c8-fc74-dc071b01a656"
      },
      "source": [
        "kardeşler.pop()"
      ],
      "id": "151ea9bb",
      "execution_count": null,
      "outputs": [
        {
          "data": {
            "text/plain": [
              "3.14"
            ]
          },
          "execution_count": 19,
          "metadata": {},
          "output_type": "execute_result"
        }
      ]
    },
    {
      "cell_type": "code",
      "metadata": {
        "id": "ce86aae3",
        "outputId": "72e5636d-75eb-47c8-aa20-b7dc8d18fe32"
      },
      "source": [
        "kardeşler"
      ],
      "id": "ce86aae3",
      "execution_count": null,
      "outputs": [
        {
          "data": {
            "text/plain": [
              "['ali', 'weli', 'theli', True]"
            ]
          },
          "execution_count": 20,
          "metadata": {},
          "output_type": "execute_result"
        }
      ]
    },
    {
      "cell_type": "code",
      "metadata": {
        "id": "320758ce",
        "outputId": "b84f3556-3295-47bb-ea12-6f9f4482c1f8"
      },
      "source": [
        "kardeşler.pop()"
      ],
      "id": "320758ce",
      "execution_count": null,
      "outputs": [
        {
          "data": {
            "text/plain": [
              "True"
            ]
          },
          "execution_count": 21,
          "metadata": {},
          "output_type": "execute_result"
        }
      ]
    },
    {
      "cell_type": "code",
      "metadata": {
        "id": "6e2ef33c",
        "outputId": "79762b7e-2e6e-4625-fdba-e2c61e305e0a"
      },
      "source": [
        "kardeşler"
      ],
      "id": "6e2ef33c",
      "execution_count": null,
      "outputs": [
        {
          "data": {
            "text/plain": [
              "['ali', 'weli', 'theli']"
            ]
          },
          "execution_count": 22,
          "metadata": {},
          "output_type": "execute_result"
        }
      ]
    },
    {
      "cell_type": "code",
      "metadata": {
        "id": "34733e5a",
        "outputId": "ae66186a-428c-4ae2-f457-d6d8be9006b2"
      },
      "source": [
        "kardeşler.pop(1)\n",
        "\n",
        "kardeşler"
      ],
      "id": "34733e5a",
      "execution_count": null,
      "outputs": [
        {
          "data": {
            "text/plain": [
              "['ali', 'theli']"
            ]
          },
          "execution_count": 23,
          "metadata": {},
          "output_type": "execute_result"
        }
      ]
    },
    {
      "cell_type": "code",
      "metadata": {
        "id": "6baf4785",
        "outputId": "a9d2bd76-faeb-4090-b50c-4ba027ec18c5"
      },
      "source": [
        "kardeşler.insert(1, \"weli\")\n",
        "\n",
        "kardeşler"
      ],
      "id": "6baf4785",
      "execution_count": null,
      "outputs": [
        {
          "data": {
            "text/plain": [
              "['ali', 'weli', 'theli']"
            ]
          },
          "execution_count": 24,
          "metadata": {},
          "output_type": "execute_result"
        }
      ]
    },
    {
      "cell_type": "code",
      "metadata": {
        "id": "3be56593",
        "outputId": "9b8c7c8f-d09f-4cad-a7cd-db013a89c938"
      },
      "source": [
        "sayılar"
      ],
      "id": "3be56593",
      "execution_count": null,
      "outputs": [
        {
          "data": {
            "text/plain": [
              "[1, 2, 3]"
            ]
          },
          "execution_count": 25,
          "metadata": {},
          "output_type": "execute_result"
        }
      ]
    },
    {
      "cell_type": "code",
      "metadata": {
        "id": "2dde31aa"
      },
      "source": [
        "sayılar.append(\"sonsuz\")"
      ],
      "id": "2dde31aa",
      "execution_count": null,
      "outputs": []
    },
    {
      "cell_type": "code",
      "metadata": {
        "id": "d8a2fe4b",
        "outputId": "ecc12d6f-e08e-42cb-b504-01cc64b54686"
      },
      "source": [
        "sayılar"
      ],
      "id": "d8a2fe4b",
      "execution_count": null,
      "outputs": [
        {
          "data": {
            "text/plain": [
              "[1, 2, 3, 'sonsuz', 'sonsuz', 'sonsuz', 'sonsuz', 'sonsuz']"
            ]
          },
          "execution_count": 31,
          "metadata": {},
          "output_type": "execute_result"
        }
      ]
    },
    {
      "cell_type": "code",
      "metadata": {
        "id": "c64a327f"
      },
      "source": [
        "numbers = [1, 2, 3, 4]"
      ],
      "id": "c64a327f",
      "execution_count": null,
      "outputs": []
    },
    {
      "cell_type": "code",
      "metadata": {
        "id": "bce80778",
        "outputId": "160a9aa8-7185-456a-8921-9381e527d4d3"
      },
      "source": [
        "numbers"
      ],
      "id": "bce80778",
      "execution_count": null,
      "outputs": [
        {
          "data": {
            "text/plain": [
              "[1, 2, 3, 4]"
            ]
          },
          "execution_count": 33,
          "metadata": {},
          "output_type": "execute_result"
        }
      ]
    },
    {
      "cell_type": "code",
      "metadata": {
        "id": "a1f0b821",
        "outputId": "4b04263d-4fda-4a22-dd57-07f9d987fd64"
      },
      "source": [
        "numbers.insert(4, 5)\n",
        "\n",
        "numbers"
      ],
      "id": "a1f0b821",
      "execution_count": null,
      "outputs": [
        {
          "data": {
            "text/plain": [
              "[1, 2, 3, 4, 5]"
            ]
          },
          "execution_count": 34,
          "metadata": {},
          "output_type": "execute_result"
        }
      ]
    },
    {
      "cell_type": "code",
      "metadata": {
        "id": "27f7e082",
        "outputId": "89fde998-e4c1-4d7d-a7a1-ad616da7317b"
      },
      "source": [
        "numbers.insert(10, 6)\n",
        "\n",
        "numbers"
      ],
      "id": "27f7e082",
      "execution_count": null,
      "outputs": [
        {
          "data": {
            "text/plain": [
              "[1, 2, 3, 4, 5, 6]"
            ]
          },
          "execution_count": 35,
          "metadata": {},
          "output_type": "execute_result"
        }
      ]
    },
    {
      "cell_type": "code",
      "metadata": {
        "id": "05335e38",
        "outputId": "414abbd8-7c7e-4cf9-fa0f-fa09effb912f"
      },
      "source": [
        "ord(\"a\")"
      ],
      "id": "05335e38",
      "execution_count": null,
      "outputs": [
        {
          "data": {
            "text/plain": [
              "97"
            ]
          },
          "execution_count": 36,
          "metadata": {},
          "output_type": "execute_result"
        }
      ]
    },
    {
      "cell_type": "code",
      "metadata": {
        "id": "88cf5511",
        "outputId": "d89eb65a-f81f-4306-dfa3-7892eccc16d0"
      },
      "source": [
        "ord(\"A\")"
      ],
      "id": "88cf5511",
      "execution_count": null,
      "outputs": [
        {
          "data": {
            "text/plain": [
              "65"
            ]
          },
          "execution_count": 37,
          "metadata": {},
          "output_type": "execute_result"
        }
      ]
    },
    {
      "cell_type": "code",
      "metadata": {
        "id": "2d18348a"
      },
      "source": [
        "harfler = [\"b\", \"A\", \"B\", \"a\"]"
      ],
      "id": "2d18348a",
      "execution_count": null,
      "outputs": []
    },
    {
      "cell_type": "code",
      "metadata": {
        "colab": {
          "base_uri": "https://localhost:8080/"
        },
        "id": "2e636f21",
        "outputId": "c9f59f64-d633-4168-b3ff-64e58186c773"
      },
      "source": [
        "harfler = [\"b\", \"A\", \"B\", \"a\"]\n",
        "harfler.sort()\n",
        "\n",
        "harfler"
      ],
      "id": "2e636f21",
      "execution_count": null,
      "outputs": [
        {
          "output_type": "execute_result",
          "data": {
            "text/plain": [
              "['A', 'B', 'a', 'b']"
            ]
          },
          "metadata": {},
          "execution_count": 4
        }
      ]
    },
    {
      "cell_type": "code",
      "metadata": {
        "id": "581b8500",
        "outputId": "441e89fc-7be5-49eb-c380-9bd154ba349a"
      },
      "source": [
        "print(ord(\"A\"))\n",
        "print(ord(\"B\"))\n",
        "print(ord(\"a\"))\n",
        "print(ord(\"b\"))"
      ],
      "id": "581b8500",
      "execution_count": null,
      "outputs": [
        {
          "name": "stdout",
          "output_type": "stream",
          "text": [
            "65\n",
            "66\n",
            "97\n",
            "98\n"
          ]
        }
      ]
    },
    {
      "cell_type": "code",
      "metadata": {
        "id": "080e9407"
      },
      "source": [
        "list_1 = ['one', 'four', 'nine']"
      ],
      "id": "080e9407",
      "execution_count": null,
      "outputs": []
    },
    {
      "cell_type": "code",
      "metadata": {
        "colab": {
          "base_uri": "https://localhost:8080/"
        },
        "id": "d6060525",
        "outputId": "1cdd258f-f687-4b4f-9776-ddf40e57a031"
      },
      "source": [
        "list_1 = ['one', 'four', 'nine']\n",
        "list_1.sort(reverse = True)\n",
        "print(list_1)"
      ],
      "id": "d6060525",
      "execution_count": null,
      "outputs": [
        {
          "output_type": "stream",
          "name": "stdout",
          "text": [
            "['one', 'nine', 'four']\n"
          ]
        }
      ]
    },
    {
      "cell_type": "code",
      "metadata": {
        "id": "c6fbb9ef"
      },
      "source": [
        ""
      ],
      "id": "c6fbb9ef",
      "execution_count": null,
      "outputs": []
    },
    {
      "cell_type": "code",
      "metadata": {
        "id": "6feccd95",
        "outputId": "3f2ed382-1683-43ad-f17e-7b1026d37339"
      },
      "source": [
        "ord(\"f\")"
      ],
      "id": "6feccd95",
      "execution_count": null,
      "outputs": [
        {
          "data": {
            "text/plain": [
              "102"
            ]
          },
          "execution_count": 44,
          "metadata": {},
          "output_type": "execute_result"
        }
      ]
    },
    {
      "cell_type": "code",
      "metadata": {
        "id": "0964cc0a",
        "outputId": "b57f673f-0867-4259-9452-8978714ae3b7"
      },
      "source": [
        "ord(\"n\")"
      ],
      "id": "0964cc0a",
      "execution_count": null,
      "outputs": [
        {
          "data": {
            "text/plain": [
              "110"
            ]
          },
          "execution_count": 45,
          "metadata": {},
          "output_type": "execute_result"
        }
      ]
    },
    {
      "cell_type": "code",
      "metadata": {
        "id": "81a74f51",
        "outputId": "93ad7ad2-9638-4426-87ea-e0e8a516011e"
      },
      "source": [
        "ord(\"o\")"
      ],
      "id": "81a74f51",
      "execution_count": null,
      "outputs": [
        {
          "data": {
            "text/plain": [
              "111"
            ]
          },
          "execution_count": 46,
          "metadata": {},
          "output_type": "execute_result"
        }
      ]
    },
    {
      "cell_type": "code",
      "metadata": {
        "id": "ad7417fa"
      },
      "source": [
        "list_2 = ['@', '*-', 'False']"
      ],
      "id": "ad7417fa",
      "execution_count": null,
      "outputs": []
    },
    {
      "cell_type": "code",
      "metadata": {
        "id": "3dd62f9f"
      },
      "source": [
        "list_2.sort()"
      ],
      "id": "3dd62f9f",
      "execution_count": null,
      "outputs": []
    },
    {
      "cell_type": "code",
      "metadata": {
        "id": "2594b8a4",
        "outputId": "fbeea505-26b5-4c3b-883b-86d7514c1c2d"
      },
      "source": [
        "ord(\"@\")"
      ],
      "id": "2594b8a4",
      "execution_count": null,
      "outputs": [
        {
          "data": {
            "text/plain": [
              "64"
            ]
          },
          "execution_count": 52,
          "metadata": {},
          "output_type": "execute_result"
        }
      ]
    },
    {
      "cell_type": "code",
      "metadata": {
        "id": "3ac96172",
        "outputId": "8c4e07b0-7393-4988-d071-f42819cb515c"
      },
      "source": [
        "ord(\"*\")"
      ],
      "id": "3ac96172",
      "execution_count": null,
      "outputs": [
        {
          "data": {
            "text/plain": [
              "42"
            ]
          },
          "execution_count": 53,
          "metadata": {},
          "output_type": "execute_result"
        }
      ]
    },
    {
      "cell_type": "code",
      "metadata": {
        "id": "5046e81c",
        "outputId": "99116d8b-e8f2-47ab-b005-c18fcef21592"
      },
      "source": [
        "ord(\"F\")"
      ],
      "id": "5046e81c",
      "execution_count": null,
      "outputs": [
        {
          "data": {
            "text/plain": [
              "70"
            ]
          },
          "execution_count": 54,
          "metadata": {},
          "output_type": "execute_result"
        }
      ]
    },
    {
      "cell_type": "code",
      "metadata": {
        "id": "7f4b8e50",
        "outputId": "115bb965-576f-40a4-80b6-c7a437beeab8"
      },
      "source": [
        "list_2"
      ],
      "id": "7f4b8e50",
      "execution_count": null,
      "outputs": [
        {
          "data": {
            "text/plain": [
              "['*-', '@', 'False']"
            ]
          },
          "execution_count": 55,
          "metadata": {},
          "output_type": "execute_result"
        }
      ]
    },
    {
      "cell_type": "code",
      "metadata": {
        "id": "99128ca4"
      },
      "source": [
        "list_3 = [True, False]"
      ],
      "id": "99128ca4",
      "execution_count": null,
      "outputs": []
    },
    {
      "cell_type": "code",
      "metadata": {
        "id": "4a8dd3b3"
      },
      "source": [
        "list_3.sort()"
      ],
      "id": "4a8dd3b3",
      "execution_count": null,
      "outputs": []
    },
    {
      "cell_type": "code",
      "metadata": {
        "id": "9fd6608e",
        "outputId": "e0ea23b2-7cf5-4b3e-bcb3-b3b824c8c543"
      },
      "source": [
        "list_3"
      ],
      "id": "9fd6608e",
      "execution_count": null,
      "outputs": [
        {
          "data": {
            "text/plain": [
              "[False, True]"
            ]
          },
          "execution_count": 58,
          "metadata": {},
          "output_type": "execute_result"
        }
      ]
    },
    {
      "cell_type": "code",
      "metadata": {
        "id": "ca6281e0"
      },
      "source": [
        "list_4 = [[3], [44], [-12]]"
      ],
      "id": "ca6281e0",
      "execution_count": null,
      "outputs": []
    },
    {
      "cell_type": "code",
      "metadata": {
        "id": "c63edae8"
      },
      "source": [
        "list_4.sort()"
      ],
      "id": "c63edae8",
      "execution_count": null,
      "outputs": []
    },
    {
      "cell_type": "code",
      "metadata": {
        "id": "bb76bd9f",
        "outputId": "a447e5ea-de89-4dc3-f738-13d8b54ef275"
      },
      "source": [
        "list_4"
      ],
      "id": "bb76bd9f",
      "execution_count": null,
      "outputs": [
        {
          "data": {
            "text/plain": [
              "[[-12], [3], [44]]"
            ]
          },
          "execution_count": 62,
          "metadata": {},
          "output_type": "execute_result"
        }
      ]
    },
    {
      "cell_type": "code",
      "metadata": {
        "id": "0312277f"
      },
      "source": [
        ""
      ],
      "id": "0312277f",
      "execution_count": null,
      "outputs": []
    },
    {
      "cell_type": "code",
      "metadata": {
        "id": "b2c502d8"
      },
      "source": [
        ""
      ],
      "id": "b2c502d8",
      "execution_count": null,
      "outputs": []
    },
    {
      "cell_type": "code",
      "metadata": {
        "id": "b26fd707"
      },
      "source": [
        "list_5 = [[1, 3], [44, -40], [-12, 1]]"
      ],
      "id": "b26fd707",
      "execution_count": null,
      "outputs": []
    },
    {
      "cell_type": "code",
      "metadata": {
        "id": "9985b507"
      },
      "source": [
        "list_5.sort()"
      ],
      "id": "9985b507",
      "execution_count": null,
      "outputs": []
    },
    {
      "cell_type": "code",
      "metadata": {
        "id": "17a2588b",
        "outputId": "b68a052d-a1cc-422b-ada5-2008e38d189b"
      },
      "source": [
        "list_5"
      ],
      "id": "17a2588b",
      "execution_count": null,
      "outputs": [
        {
          "data": {
            "text/plain": [
              "[[-12, 1], [1, 3], [44, -40]]"
            ]
          },
          "execution_count": 65,
          "metadata": {},
          "output_type": "execute_result"
        }
      ]
    },
    {
      "cell_type": "code",
      "metadata": {
        "id": "3094292a",
        "outputId": "97b789e3-9e94-4bff-e931-303718e0e977"
      },
      "source": [
        "chr(70)"
      ],
      "id": "3094292a",
      "execution_count": null,
      "outputs": [
        {
          "data": {
            "text/plain": [
              "'F'"
            ]
          },
          "execution_count": 66,
          "metadata": {},
          "output_type": "execute_result"
        }
      ]
    },
    {
      "cell_type": "code",
      "metadata": {
        "id": "60eb5bca",
        "outputId": "5118fd95-1be0-46e0-d556-9c8660e328d2"
      },
      "source": [
        "chr(443)"
      ],
      "id": "60eb5bca",
      "execution_count": null,
      "outputs": [
        {
          "data": {
            "text/plain": [
              "'ƻ'"
            ]
          },
          "execution_count": 71,
          "metadata": {},
          "output_type": "execute_result"
        }
      ]
    },
    {
      "cell_type": "code",
      "metadata": {
        "id": "163644d6"
      },
      "source": [
        ""
      ],
      "id": "163644d6",
      "execution_count": null,
      "outputs": []
    },
    {
      "cell_type": "code",
      "metadata": {
        "id": "c6044a03"
      },
      "source": [
        ""
      ],
      "id": "c6044a03",
      "execution_count": null,
      "outputs": []
    },
    {
      "cell_type": "code",
      "metadata": {
        "id": "be39f39d"
      },
      "source": [
        ""
      ],
      "id": "be39f39d",
      "execution_count": null,
      "outputs": []
    }
  ]
}