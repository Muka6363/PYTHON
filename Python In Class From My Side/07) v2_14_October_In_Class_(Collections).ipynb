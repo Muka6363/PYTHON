{
  "nbformat": 4,
  "nbformat_minor": 0,
  "metadata": {
    "colab": {
      "name": "14_October_In_Class (Collections).ipynb",
      "provenance": [],
      "collapsed_sections": []
    },
    "kernelspec": {
      "name": "python3",
      "display_name": "Python 3"
    },
    "language_info": {
      "name": "python"
    }
  },
  "cells": [
    {
      "cell_type": "code",
      "metadata": {
        "colab": {
          "base_uri": "https://localhost:8080/"
        },
        "id": "c_bk8QQvt7-A",
        "outputId": "a9a04ac1-2164-4105-b00a-1910db95e6c4"
      },
      "source": [
        "text = \"ali\"\n",
        "list(text)"
      ],
      "execution_count": null,
      "outputs": [
        {
          "output_type": "execute_result",
          "data": {
            "text/plain": [
              "['a', 'l', 'i']"
            ]
          },
          "metadata": {},
          "execution_count": 2
        }
      ]
    },
    {
      "cell_type": "code",
      "metadata": {
        "colab": {
          "base_uri": "https://localhost:8080/"
        },
        "id": "93CPTHAy2asz",
        "outputId": "bfa0c716-b40f-46a5-a03e-e51adf4c7567"
      },
      "source": [
        "text = ['ali']\n",
        "text"
      ],
      "execution_count": null,
      "outputs": [
        {
          "output_type": "execute_result",
          "data": {
            "text/plain": [
              "['ali']"
            ]
          },
          "metadata": {},
          "execution_count": 3
        }
      ]
    },
    {
      "cell_type": "code",
      "metadata": {
        "colab": {
          "base_uri": "https://localhost:8080/"
        },
        "id": "QIgfBOaQ2axj",
        "outputId": "0dc0b839-37c0-4ac1-be60-97e0ba252f5b"
      },
      "source": [
        "list_1 = ['h', 'a', 'p', 'p', 'y']\n",
        "word = 'happy'\n",
        "list_2 = list(word)\n",
        "print(list_1)\n",
        "print(list_2)"
      ],
      "execution_count": null,
      "outputs": [
        {
          "output_type": "stream",
          "name": "stdout",
          "text": [
            "['h', 'a', 'p', 'p', 'y']\n",
            "['h', 'a', 'p', 'p', 'y']\n"
          ]
        }
      ]
    },
    {
      "cell_type": "code",
      "metadata": {
        "colab": {
          "base_uri": "https://localhost:8080/"
        },
        "id": "eFTrp3OY2a0l",
        "outputId": "f78659ef-b76d-4951-ea33-f8ee1cd545bf"
      },
      "source": [
        "word = ('a', 'l', 'i') # tuple\n",
        "list_1 = list(word)\n",
        "list_1"
      ],
      "execution_count": null,
      "outputs": [
        {
          "output_type": "execute_result",
          "data": {
            "text/plain": [
              "['a', 'l', 'i']"
            ]
          },
          "metadata": {},
          "execution_count": 5
        }
      ]
    },
    {
      "cell_type": "code",
      "metadata": {
        "colab": {
          "base_uri": "https://localhost:8080/"
        },
        "id": "JghZTS3X2a3A",
        "outputId": "bcaf62ab-a855-4492-f122-02720f3b0d14"
      },
      "source": [
        "country = ['USA', 'Brasil', 'UK', 'Germany', 'Turkey', 'New Zealand']\n",
        "print(country)\n",
        "print(len(country))"
      ],
      "execution_count": null,
      "outputs": [
        {
          "output_type": "stream",
          "name": "stdout",
          "text": [
            "['USA', 'Brasil', 'UK', 'Germany', 'Turkey', 'New Zealand']\n",
            "6\n"
          ]
        }
      ]
    },
    {
      "cell_type": "code",
      "metadata": {
        "colab": {
          "base_uri": "https://localhost:8080/"
        },
        "id": "inVM_7mc2a5N",
        "outputId": "bdedfe8a-216f-4074-d86b-6beb5278a590"
      },
      "source": [
        "string_1 = 'I quit smoking'\n",
        "\n",
        "new_list_1 = list(string_1)  # we created multi element list\n",
        "print(new_list_1)\n",
        "new_list_2 = [string_1]  # this is a single element list\n",
        "print(new_list_2)"
      ],
      "execution_count": null,
      "outputs": [
        {
          "output_type": "stream",
          "name": "stdout",
          "text": [
            "['I', ' ', 'q', 'u', 'i', 't', ' ', 's', 'm', 'o', 'k', 'i', 'n', 'g']\n",
            "['I quit smoking']\n"
          ]
        }
      ]
    },
    {
      "cell_type": "code",
      "metadata": {
        "colab": {
          "base_uri": "https://localhost:8080/"
        },
        "id": "cAQR_6MZ2a7s",
        "outputId": "85ad3a82-201a-4255-d69b-262e9997c56a"
      },
      "source": [
        "liste = list('ali')\n",
        "liste"
      ],
      "execution_count": null,
      "outputs": [
        {
          "output_type": "execute_result",
          "data": {
            "text/plain": [
              "['a', 'l', 'i']"
            ]
          },
          "metadata": {},
          "execution_count": 9
        }
      ]
    },
    {
      "cell_type": "code",
      "metadata": {
        "colab": {
          "base_uri": "https://localhost:8080/"
        },
        "id": "wyRt8WFD2a98",
        "outputId": "9e258799-f366-4c4d-a7be-bb20a49ae2bf"
      },
      "source": [
        "mixed_list = [11, 'Joseph', False, 3.14, None, [1, 2, 3]]\n",
        "print(mixed_list)"
      ],
      "execution_count": null,
      "outputs": [
        {
          "output_type": "stream",
          "name": "stdout",
          "text": [
            "[11, 'Joseph', False, 3.14, None, [1, 2, 3]]\n"
          ]
        }
      ]
    },
    {
      "cell_type": "code",
      "metadata": {
        "colab": {
          "base_uri": "https://localhost:8080/"
        },
        "id": "N0NTsvpJ6MNR",
        "outputId": "13d37777-2479-4eeb-b047-528f5b82bc88"
      },
      "source": [
        "my_list = ['Joseph', 'Clarusway', 2020]\n",
        "new_list1 = list(my_list)\n",
        "new_list2 = [my_list]\n",
        "print(new_list1)\n",
        "print(len(new_list1))\n",
        "print(new_list2)\n",
        "print(len(new_list2))"
      ],
      "execution_count": null,
      "outputs": [
        {
          "output_type": "stream",
          "name": "stdout",
          "text": [
            "['Joseph', 'Clarusway', 2020]\n",
            "3\n",
            "[['Joseph', 'Clarusway', 2020]]\n",
            "1\n"
          ]
        }
      ]
    },
    {
      "cell_type": "code",
      "metadata": {
        "colab": {
          "base_uri": "https://localhost:8080/"
        },
        "id": "3_rHgKSz6MRZ",
        "outputId": "9934605c-c27b-4d5c-e2be-2e9d7af4a4c3"
      },
      "source": [
        "yil = \"2020's hard\"\n",
        "yil_list = list(yil)\n",
        "print(yil_list)"
      ],
      "execution_count": null,
      "outputs": [
        {
          "output_type": "stream",
          "name": "stdout",
          "text": [
            "['2', '0', '2', '0', \"'\", 's', ' ', 'h', 'a', 'r', 'd']\n"
          ]
        }
      ]
    },
    {
      "cell_type": "code",
      "metadata": {
        "colab": {
          "base_uri": "https://localhost:8080/"
        },
        "id": "HJ2_8BMR6MUq",
        "outputId": "75859680-5af8-4cf0-f0ca-49234f9909c5"
      },
      "source": [
        "yil_list_2 = [yil]\n",
        "print(yil_list_2)"
      ],
      "execution_count": null,
      "outputs": [
        {
          "output_type": "stream",
          "name": "stdout",
          "text": [
            "[\"2020's hard\"]\n"
          ]
        }
      ]
    },
    {
      "cell_type": "code",
      "metadata": {
        "colab": {
          "base_uri": "https://localhost:8080/"
        },
        "id": "E9gfCXcT-kDV",
        "outputId": "ab1e787f-ded5-45e6-90e9-15ed15b200ab"
      },
      "source": [
        "a = 1\n",
        "b = 2\n",
        "c = 3\n",
        "sayılar = [a, b, c]\n",
        "sayılar"
      ],
      "execution_count": null,
      "outputs": [
        {
          "output_type": "execute_result",
          "data": {
            "text/plain": [
              "[1, 2, 3]"
            ]
          },
          "metadata": {},
          "execution_count": 24
        }
      ]
    },
    {
      "cell_type": "code",
      "metadata": {
        "colab": {
          "base_uri": "https://localhost:8080/"
        },
        "id": "hIebxLXq-kHb",
        "outputId": "beca49e9-370f-4ba7-d0bf-baaadedac536"
      },
      "source": [
        "boş1 = list()\n",
        "boş1"
      ],
      "execution_count": null,
      "outputs": [
        {
          "output_type": "execute_result",
          "data": {
            "text/plain": [
              "[]"
            ]
          },
          "metadata": {},
          "execution_count": 25
        }
      ]
    },
    {
      "cell_type": "code",
      "metadata": {
        "colab": {
          "base_uri": "https://localhost:8080/"
        },
        "id": "QlgQlHDf-kK8",
        "outputId": "379760de-6981-43f2-992d-998a509a0600"
      },
      "source": [
        "boş2 = []\n",
        "boş2"
      ],
      "execution_count": null,
      "outputs": [
        {
          "output_type": "execute_result",
          "data": {
            "text/plain": [
              "[]"
            ]
          },
          "metadata": {},
          "execution_count": 26
        }
      ]
    },
    {
      "cell_type": "code",
      "metadata": {
        "colab": {
          "base_uri": "https://localhost:8080/"
        },
        "id": "_31LmpSI-kNV",
        "outputId": "2029f1f2-117a-45c2-a734-bdaff8bb21c0"
      },
      "source": [
        "listem = []\n",
        "listem.append(11)\n",
        "listem"
      ],
      "execution_count": null,
      "outputs": [
        {
          "output_type": "execute_result",
          "data": {
            "text/plain": [
              "[11]"
            ]
          },
          "metadata": {},
          "execution_count": 29
        }
      ]
    },
    {
      "cell_type": "code",
      "metadata": {
        "colab": {
          "base_uri": "https://localhost:8080/"
        },
        "id": "iBTmfyGt-kPv",
        "outputId": "e8df8916-a644-45dc-d067-2640f35378a5"
      },
      "source": [
        "kardeşler = [\"ali\", \"veli\"]\n",
        "kardeşler"
      ],
      "execution_count": null,
      "outputs": [
        {
          "output_type": "execute_result",
          "data": {
            "text/plain": [
              "['ali', 'veli']"
            ]
          },
          "metadata": {},
          "execution_count": 44
        }
      ]
    },
    {
      "cell_type": "code",
      "metadata": {
        "colab": {
          "base_uri": "https://localhost:8080/"
        },
        "id": "oA3lDQOBAYs_",
        "outputId": "e1c035c7-9c70-4245-e374-0a21bb5b7c81"
      },
      "source": [
        "kardeşler.append(\"deli\")\n",
        "kardeşler"
      ],
      "execution_count": null,
      "outputs": [
        {
          "output_type": "execute_result",
          "data": {
            "text/plain": [
              "['ali', 'veli', 'deli']"
            ]
          },
          "metadata": {},
          "execution_count": 45
        }
      ]
    },
    {
      "cell_type": "code",
      "metadata": {
        "colab": {
          "base_uri": "https://localhost:8080/"
        },
        "id": "Dr49KIAbAYwS",
        "outputId": "99452421-83c5-4e99-f3a1-61afb8d5a2de"
      },
      "source": [
        "numbers = [1, 4, 7]\n",
        "numbers.append(9)\n",
        "numbers.append('9')\n",
        "print(numbers)"
      ],
      "execution_count": null,
      "outputs": [
        {
          "output_type": "stream",
          "name": "stdout",
          "text": [
            "[1, 4, 7, 9, '9']\n"
          ]
        }
      ]
    },
    {
      "cell_type": "code",
      "metadata": {
        "colab": {
          "base_uri": "https://localhost:8080/"
        },
        "id": "BGMBqUW9AYzc",
        "outputId": "b8c64b3a-d285-4549-f92e-9c840211ba75"
      },
      "source": [
        "print(numbers[0] + numbers[1])"
      ],
      "execution_count": null,
      "outputs": [
        {
          "output_type": "stream",
          "name": "stdout",
          "text": [
            "5\n"
          ]
        }
      ]
    },
    {
      "cell_type": "code",
      "metadata": {
        "colab": {
          "base_uri": "https://localhost:8080/"
        },
        "id": "EOwF5BOnAY2W",
        "outputId": "7ccd3f4c-31fc-41e0-dd27-cae089214eb5"
      },
      "source": [
        "kardeşler.append(True)\n",
        "kardeşler"
      ],
      "execution_count": null,
      "outputs": [
        {
          "output_type": "execute_result",
          "data": {
            "text/plain": [
              "['ali', 'veli', 'deli', True]"
            ]
          },
          "metadata": {},
          "execution_count": 46
        }
      ]
    },
    {
      "cell_type": "code",
      "metadata": {
        "colab": {
          "base_uri": "https://localhost:8080/"
        },
        "id": "uabrMPGVAY40",
        "outputId": "d50612f2-6272-4d99-e560-de1dcbd283a0"
      },
      "source": [
        "kardeşler.append(3.14)\n",
        "kardeşler"
      ],
      "execution_count": null,
      "outputs": [
        {
          "output_type": "execute_result",
          "data": {
            "text/plain": [
              "['ali', 'veli', 'deli', True, 3.14]"
            ]
          },
          "metadata": {},
          "execution_count": 47
        }
      ]
    },
    {
      "cell_type": "code",
      "metadata": {
        "id": "YSjNw1IeAY7E"
      },
      "source": [
        "# append() takes exactly one argument"
      ],
      "execution_count": null,
      "outputs": []
    },
    {
      "cell_type": "code",
      "metadata": {
        "colab": {
          "base_uri": "https://localhost:8080/"
        },
        "id": "VtuplVbeC4pF",
        "outputId": "f74ad8d5-a7be-4557-8837-03d34ca933a1"
      },
      "source": [
        "kardeşler.pop()\n",
        "kardeşler"
      ],
      "execution_count": null,
      "outputs": [
        {
          "output_type": "execute_result",
          "data": {
            "text/plain": [
              "['ali', 'veli', 'deli', True]"
            ]
          },
          "metadata": {},
          "execution_count": 48
        }
      ]
    },
    {
      "cell_type": "code",
      "metadata": {
        "colab": {
          "base_uri": "https://localhost:8080/"
        },
        "id": "x5aFL5YVCYpr",
        "outputId": "01d9e139-d3a2-4469-92e4-d2ed005f49d5"
      },
      "source": [
        "kardeşler.pop(1)\n",
        "kardeşler"
      ],
      "execution_count": null,
      "outputs": [
        {
          "output_type": "execute_result",
          "data": {
            "text/plain": [
              "['ali', 'deli', True]"
            ]
          },
          "metadata": {},
          "execution_count": 49
        }
      ]
    },
    {
      "cell_type": "code",
      "metadata": {
        "colab": {
          "base_uri": "https://localhost:8080/"
        },
        "id": "KmPivZnbCYsL",
        "outputId": "5799ca41-25ee-4de5-bab6-9c1d4b16a5ad"
      },
      "source": [
        "kardeşler.pop()"
      ],
      "execution_count": null,
      "outputs": [
        {
          "output_type": "execute_result",
          "data": {
            "text/plain": [
              "True"
            ]
          },
          "metadata": {},
          "execution_count": 50
        }
      ]
    },
    {
      "cell_type": "code",
      "metadata": {
        "colab": {
          "base_uri": "https://localhost:8080/"
        },
        "id": "D2C4xOqFCYuc",
        "outputId": "96636b6a-5773-42ef-8bdd-12a2b341c6a0"
      },
      "source": [
        "kardeşler.insert(1, \"veli\")\n",
        "kardeşler"
      ],
      "execution_count": null,
      "outputs": [
        {
          "output_type": "execute_result",
          "data": {
            "text/plain": [
              "['ali', 'veli', 'deli']"
            ]
          },
          "metadata": {},
          "execution_count": 51
        }
      ]
    },
    {
      "cell_type": "code",
      "metadata": {
        "colab": {
          "base_uri": "https://localhost:8080/"
        },
        "id": "MTl8dudFCYwY",
        "outputId": "158eadd3-8fbe-4259-b5ca-154e6a381fad"
      },
      "source": [
        "empty_list = []\n",
        "empty_list.append(6666)\n",
        "empty_list.append('Multiverse')\n",
        "empty_list.append([0])\n",
        "\n",
        "\n",
        "print(empty_list)"
      ],
      "execution_count": null,
      "outputs": [
        {
          "output_type": "stream",
          "name": "stdout",
          "text": [
            "[6666, 'Multiverse', [0]]\n"
          ]
        }
      ]
    },
    {
      "cell_type": "code",
      "metadata": {
        "colab": {
          "base_uri": "https://localhost:8080/"
        },
        "id": "WsamA-OICYyy",
        "outputId": "778a87ba-d64f-44f8-b7cd-4b28ac97ae08"
      },
      "source": [
        "city = ['New York', 'London', 'Istanbul', 'Seoul', 'Sydney']\n",
        "city.append('Addis Ababa')\n",
        "\n",
        "print(city)"
      ],
      "execution_count": null,
      "outputs": [
        {
          "output_type": "stream",
          "name": "stdout",
          "text": [
            "['New York', 'London', 'Istanbul', 'Seoul', 'Sydney', 'Addis Ababa']\n"
          ]
        }
      ]
    },
    {
      "cell_type": "code",
      "metadata": {
        "colab": {
          "base_uri": "https://localhost:8080/"
        },
        "id": "jaCUeiBiCY0U",
        "outputId": "e0a99f73-0527-4d81-f1d5-f47f8b250deb"
      },
      "source": [
        "boş_liste = []\n",
        "boş_liste.append(1)\n",
        "boş_liste.append(2)\n",
        "boş_liste.append(3)\n",
        "boş_liste.append(4)\n",
        "\n",
        "print(boş_liste)"
      ],
      "execution_count": null,
      "outputs": [
        {
          "output_type": "stream",
          "name": "stdout",
          "text": [
            "[1, 2, 3, 4]\n"
          ]
        }
      ]
    },
    {
      "cell_type": "code",
      "metadata": {
        "colab": {
          "base_uri": "https://localhost:8080/"
        },
        "id": "6ReFqsmCFLVd",
        "outputId": "fd3f17ff-bc68-4062-daf8-eaa805f98af3"
      },
      "source": [
        "numbers = [1, 4, 7]\n",
        "numbers.insert(2, 9)\n",
        "print(numbers)\n",
        "numbers.insert(2, 6)\n",
        "print(numbers)"
      ],
      "execution_count": null,
      "outputs": [
        {
          "output_type": "stream",
          "name": "stdout",
          "text": [
            "[1, 4, 9, 7]\n",
            "[1, 4, 6, 9, 7]\n"
          ]
        }
      ]
    },
    {
      "cell_type": "code",
      "metadata": {
        "colab": {
          "base_uri": "https://localhost:8080/"
        },
        "id": "yGg5aEspFLZg",
        "outputId": "3ef14411-29a6-4df3-940e-39f024309aa5"
      },
      "source": [
        "city = ['New York', 'London', 'Istanbul', 'Seoul', 'Sydney', 'Addis Ababa']\n",
        "city.insert(2, 'Stockholm')\n",
        "\n",
        "print(city)"
      ],
      "execution_count": null,
      "outputs": [
        {
          "output_type": "stream",
          "name": "stdout",
          "text": [
            "['New York', 'London', 'Stockholm', 'Istanbul', 'Seoul', 'Sydney', 'Addis Ababa']\n"
          ]
        }
      ]
    },
    {
      "cell_type": "code",
      "metadata": {
        "colab": {
          "base_uri": "https://localhost:8080/"
        },
        "id": "826JZzq1FLcw",
        "outputId": "5fe0a215-2e20-49a9-e208-8efb72c4c614"
      },
      "source": [
        "numbers = [1, 2, 3, 4]\n",
        "numbers.insert(4, 5)\n",
        "print(numbers)"
      ],
      "execution_count": null,
      "outputs": [
        {
          "output_type": "stream",
          "name": "stdout",
          "text": [
            "[1, 2, 3, 4, 5]\n"
          ]
        }
      ]
    },
    {
      "cell_type": "code",
      "metadata": {
        "colab": {
          "base_uri": "https://localhost:8080/"
        },
        "id": "lBA0ZDBhFLfP",
        "outputId": "815b9ac6-ecfc-4e78-fbf5-3438a43b3157"
      },
      "source": [
        "numbers.insert(10, 6)\n",
        "print(numbers)"
      ],
      "execution_count": null,
      "outputs": [
        {
          "output_type": "stream",
          "name": "stdout",
          "text": [
            "[1, 2, 3, 4, 5, 6]\n"
          ]
        }
      ]
    },
    {
      "cell_type": "code",
      "metadata": {
        "colab": {
          "base_uri": "https://localhost:8080/"
        },
        "id": "v8MC0CGGFLhv",
        "outputId": "1f964103-2aa0-4c66-b5d3-7ef84d7851f9"
      },
      "source": [
        "numbers = [1, 4, 7, 9]\n",
        "numbers.remove(7)\n",
        "print(numbers)"
      ],
      "execution_count": null,
      "outputs": [
        {
          "output_type": "stream",
          "name": "stdout",
          "text": [
            "[1, 4, 9]\n"
          ]
        }
      ]
    },
    {
      "cell_type": "code",
      "metadata": {
        "colab": {
          "base_uri": "https://localhost:8080/"
        },
        "id": "yT8vFkaAIt0t",
        "outputId": "ab70e1a2-3884-4cf4-eb80-22cadcd42cf2"
      },
      "source": [
        "city = ['New York', 'London', 'Stockholm', 'Istanbul', 'Seoul', 'Sydney', 'Addis Ababa']\n",
        "city.remove('London')\n",
        "print(city)  # we have deleted 'London'"
      ],
      "execution_count": null,
      "outputs": [
        {
          "output_type": "stream",
          "name": "stdout",
          "text": [
            "['New York', 'Stockholm', 'Istanbul', 'Seoul', 'Sydney', 'Addis Ababa']\n"
          ]
        }
      ]
    },
    {
      "cell_type": "code",
      "metadata": {
        "colab": {
          "base_uri": "https://localhost:8080/"
        },
        "id": "7Vn8K54RIt3d",
        "outputId": "f9211e63-8b76-4fca-d997-9476ae519736"
      },
      "source": [
        "numbers = [4, 1, 9, 7]\n",
        "numbers.sort()\n",
        "print(numbers)"
      ],
      "execution_count": null,
      "outputs": [
        {
          "output_type": "stream",
          "name": "stdout",
          "text": [
            "[1, 4, 7, 9]\n"
          ]
        }
      ]
    },
    {
      "cell_type": "code",
      "metadata": {
        "colab": {
          "base_uri": "https://localhost:8080/"
        },
        "id": "fQj_e5QBIt5u",
        "outputId": "a7f29efd-39b0-4fd3-b9ae-2fd365e0e81f"
      },
      "source": [
        "city = ['New York', 'Stockholm', 'Istanbul', 'Seoul', 'Sydney', 'Addis Ababa']\n",
        "city.sort()  # lists the items in alphabetical order\n",
        "print(city) "
      ],
      "execution_count": null,
      "outputs": [
        {
          "output_type": "stream",
          "name": "stdout",
          "text": [
            "['Addis Ababa', 'Istanbul', 'New York', 'Seoul', 'Stockholm', 'Sydney']\n"
          ]
        }
      ]
    },
    {
      "cell_type": "code",
      "metadata": {
        "colab": {
          "base_uri": "https://localhost:8080/"
        },
        "id": "ZkyDcQhyIt7T",
        "outputId": "01f0170c-8267-4519-ce8d-5b2aae07e9ee"
      },
      "source": [
        "ord(\"a\") # ASCII kodunu yazdırıyor"
      ],
      "execution_count": null,
      "outputs": [
        {
          "output_type": "execute_result",
          "data": {
            "text/plain": [
              "97"
            ]
          },
          "metadata": {},
          "execution_count": 65
        }
      ]
    },
    {
      "cell_type": "code",
      "metadata": {
        "colab": {
          "base_uri": "https://localhost:8080/"
        },
        "id": "ZT_v3hDRQd69",
        "outputId": "2dbca77d-92cc-4470-d790-f8e744d409ad"
      },
      "source": [
        "ord(\"A\")"
      ],
      "execution_count": null,
      "outputs": [
        {
          "output_type": "execute_result",
          "data": {
            "text/plain": [
              "65"
            ]
          },
          "metadata": {},
          "execution_count": 66
        }
      ]
    },
    {
      "cell_type": "code",
      "metadata": {
        "colab": {
          "base_uri": "https://localhost:8080/"
        },
        "id": "c2QKttv5QeDj",
        "outputId": "b23b7d10-06b4-4962-8df7-e6d2b12b5403"
      },
      "source": [
        "harfler = [\"b\", \"A\", \"B\", \"a\"]\n",
        "harfler.sort()\n",
        "harfler"
      ],
      "execution_count": null,
      "outputs": [
        {
          "output_type": "execute_result",
          "data": {
            "text/plain": [
              "['A', 'B', 'a', 'b']"
            ]
          },
          "metadata": {},
          "execution_count": 67
        }
      ]
    },
    {
      "cell_type": "code",
      "metadata": {
        "colab": {
          "base_uri": "https://localhost:8080/"
        },
        "id": "GOALRCMvQeKG",
        "outputId": "81d5f6a8-750b-4aa2-c98d-9c1b1511fead"
      },
      "source": [
        "print(ord(\"A\"))\n",
        "print(ord(\"B\"))\n",
        "print(ord(\"a\"))\n",
        "print(ord(\"b\"))"
      ],
      "execution_count": null,
      "outputs": [
        {
          "output_type": "stream",
          "name": "stdout",
          "text": [
            "65\n",
            "66\n",
            "97\n",
            "98\n"
          ]
        }
      ]
    },
    {
      "cell_type": "code",
      "metadata": {
        "colab": {
          "base_uri": "https://localhost:8080/",
          "height": 197
        },
        "id": "KAgt3OoYRDHT",
        "outputId": "151649cb-22a2-421a-c3e9-a275e05a7e40"
      },
      "source": [
        "mix_list = ['d', 1, 'a', 7]\n",
        "mix_list.sort()\n",
        "print(mix_list)\n",
        "# Farklı tipleri sıralayamıyor"
      ],
      "execution_count": null,
      "outputs": [
        {
          "output_type": "error",
          "ename": "TypeError",
          "evalue": "ignored",
          "traceback": [
            "\u001b[0;31m---------------------------------------------------------------------------\u001b[0m",
            "\u001b[0;31mTypeError\u001b[0m                                 Traceback (most recent call last)",
            "\u001b[0;32m<ipython-input-71-ad44188425eb>\u001b[0m in \u001b[0;36m<module>\u001b[0;34m()\u001b[0m\n\u001b[1;32m      1\u001b[0m \u001b[0mmix_list\u001b[0m \u001b[0;34m=\u001b[0m \u001b[0;34m[\u001b[0m\u001b[0;34m'd'\u001b[0m\u001b[0;34m,\u001b[0m \u001b[0;36m1\u001b[0m\u001b[0;34m,\u001b[0m \u001b[0;34m'a'\u001b[0m\u001b[0;34m,\u001b[0m \u001b[0;36m7\u001b[0m\u001b[0;34m]\u001b[0m\u001b[0;34m\u001b[0m\u001b[0;34m\u001b[0m\u001b[0m\n\u001b[0;32m----> 2\u001b[0;31m \u001b[0mmix_list\u001b[0m\u001b[0;34m.\u001b[0m\u001b[0msort\u001b[0m\u001b[0;34m(\u001b[0m\u001b[0;34m)\u001b[0m\u001b[0;34m\u001b[0m\u001b[0;34m\u001b[0m\u001b[0m\n\u001b[0m\u001b[1;32m      3\u001b[0m \u001b[0mprint\u001b[0m\u001b[0;34m(\u001b[0m\u001b[0mmix_list\u001b[0m\u001b[0;34m)\u001b[0m\u001b[0;34m\u001b[0m\u001b[0;34m\u001b[0m\u001b[0m\n",
            "\u001b[0;31mTypeError\u001b[0m: '<' not supported between instances of 'int' and 'str'"
          ]
        }
      ]
    },
    {
      "cell_type": "code",
      "metadata": {
        "colab": {
          "base_uri": "https://localhost:8080/"
        },
        "id": "sbUOAtr2RDO8",
        "outputId": "ab665e1d-cffc-4ba5-be14-f0b9518fa36c"
      },
      "source": [
        "list_1 = ['one', 'four', 'nine']\n",
        "list_1.sort()\n",
        "print(list_1)\n",
        "list_1.sort(reverse = True)\n",
        "print(list_1)\n",
        "list_2 = ['@', '*-', 'False']\n",
        "print(ord(\"@\"), ord(\"*\"), ord(\"F\"))\n",
        "list_2.sort()\n",
        "print(list_2)\n",
        "list_3 = [True, False]\n",
        "list_3.sort()\n",
        "print(list_3)\n",
        "list_4 = [[3], [44], [-12]]\n",
        "list_4.sort()\n",
        "print(list_4)\n",
        "list_5 = [[1, 3], [44, -40], [-12, 1]]\n",
        "list_5.sort()\n",
        "print(list_5)"
      ],
      "execution_count": null,
      "outputs": [
        {
          "output_type": "stream",
          "name": "stdout",
          "text": [
            "['four', 'nine', 'one']\n",
            "['one', 'nine', 'four']\n",
            "64 42 70\n",
            "['*-', '@', 'False']\n",
            "[False, True]\n",
            "[[-12], [3], [44]]\n",
            "[[-12, 1], [1, 3], [44, -40]]\n"
          ]
        }
      ]
    },
    {
      "cell_type": "code",
      "metadata": {
        "colab": {
          "base_uri": "https://localhost:8080/",
          "height": 35
        },
        "id": "E9Cx0mOQRDUp",
        "outputId": "29ac2d49-31fd-463c-95ed-591b344f4632"
      },
      "source": [
        "chr(70) # ASCII kod değerini yazınca bize karakteri veriyor"
      ],
      "execution_count": null,
      "outputs": [
        {
          "output_type": "execute_result",
          "data": {
            "application/vnd.google.colaboratory.intrinsic+json": {
              "type": "string"
            },
            "text/plain": [
              "'F'"
            ]
          },
          "metadata": {},
          "execution_count": 78
        }
      ]
    },
    {
      "cell_type": "code",
      "metadata": {
        "colab": {
          "base_uri": "https://localhost:8080/",
          "height": 35
        },
        "id": "H5yk9Ef6RDYO",
        "outputId": "642b3e14-f79f-46b4-a9af-b29d0a565c25"
      },
      "source": [
        "chr(777)"
      ],
      "execution_count": null,
      "outputs": [
        {
          "output_type": "execute_result",
          "data": {
            "application/vnd.google.colaboratory.intrinsic+json": {
              "type": "string"
            },
            "text/plain": [
              "'̉'"
            ]
          },
          "metadata": {},
          "execution_count": 79
        }
      ]
    },
    {
      "cell_type": "code",
      "metadata": {
        "colab": {
          "base_uri": "https://localhost:8080/",
          "height": 35
        },
        "id": "78HL5ONvRDbf",
        "outputId": "92113303-b97d-448b-8ad8-abca41702e34"
      },
      "source": [
        "chr(443)"
      ],
      "execution_count": null,
      "outputs": [
        {
          "output_type": "execute_result",
          "data": {
            "application/vnd.google.colaboratory.intrinsic+json": {
              "type": "string"
            },
            "text/plain": [
              "'ƻ'"
            ]
          },
          "metadata": {},
          "execution_count": 80
        }
      ]
    },
    {
      "cell_type": "code",
      "metadata": {
        "colab": {
          "base_uri": "https://localhost:8080/"
        },
        "id": "C2q0lb9rRDd7",
        "outputId": "9a8de4b1-b6e2-4e92-f928-d6bf54afdada"
      },
      "source": [
        "print(len(list_1))\n",
        "print(len(list_2))\n",
        "print(len(list_3))\n",
        "print(len(list_4))\n",
        "print(len(list_5))"
      ],
      "execution_count": null,
      "outputs": [
        {
          "output_type": "stream",
          "name": "stdout",
          "text": [
            "3\n",
            "3\n",
            "2\n",
            "3\n",
            "3\n"
          ]
        }
      ]
    }
  ]
}