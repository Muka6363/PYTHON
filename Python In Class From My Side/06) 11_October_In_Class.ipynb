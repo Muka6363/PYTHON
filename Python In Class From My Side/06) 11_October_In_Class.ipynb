{
  "nbformat": 4,
  "nbformat_minor": 0,
  "metadata": {
    "colab": {
      "name": "11_October_In_Class.ipynb",
      "provenance": [],
      "collapsed_sections": []
    },
    "kernelspec": {
      "name": "python3",
      "display_name": "Python 3"
    },
    "language_info": {
      "name": "python"
    }
  },
  "cells": [
    {
      "cell_type": "code",
      "metadata": {
        "id": "zY8El1f2TZ7J"
      },
      "source": [
        "# Main String Operations\n",
        "\n",
        "\"   \".format()\n",
        "f\"    \""
      ],
      "execution_count": null,
      "outputs": []
    },
    {
      "cell_type": "code",
      "metadata": {
        "colab": {
          "base_uri": "https://localhost:8080/"
        },
        "id": "7-cHFUUVVGf_",
        "outputId": "a9472807-1a8b-4e81-b086-08812cccaa60"
      },
      "source": [
        "# Immutability\n",
        "\n",
        "var_string = 'ClarusWay'\n",
        "print(var_string.lower()) # lower() bir operasyon\n",
        "print(var_string)\n",
        "var_string = 'ClarusWay'.lower()\n",
        "print(var_string)"
      ],
      "execution_count": null,
      "outputs": [
        {
          "output_type": "stream",
          "name": "stdout",
          "text": [
            "clarusway\n",
            "ClarusWay\n",
            "clarusway\n"
          ]
        }
      ]
    },
    {
      "cell_type": "code",
      "metadata": {
        "colab": {
          "base_uri": "https://localhost:8080/"
        },
        "id": "uSAyWw6BVGox",
        "outputId": "756a3f92-6750-4c68-d61b-25f24bc73589"
      },
      "source": [
        "var_str = 'In God we Trust'\n",
        "var_str.lower() # print etmiyoruz dikkat!!!\n",
        "print(var_str)"
      ],
      "execution_count": null,
      "outputs": [
        {
          "output_type": "stream",
          "name": "stdout",
          "text": [
            "In God we Trust\n"
          ]
        }
      ]
    },
    {
      "cell_type": "code",
      "metadata": {
        "id": "STjrzXJNVGyv"
      },
      "source": [
        "string.startswith() # boolean sonuç verir\n",
        "string.endswith() # boolean sonuç verir"
      ],
      "execution_count": null,
      "outputs": []
    },
    {
      "cell_type": "code",
      "metadata": {
        "colab": {
          "base_uri": "https://localhost:8080/"
        },
        "id": "Q1DKPxJkVG9H",
        "outputId": "54eeea18-f6d1-4101-f066-7d6fa1f86979"
      },
      "source": [
        "text = 'www.clarusway.com'\n",
        "print(text.endswith('.com'))\n",
        "print(text.startswith('http:'))"
      ],
      "execution_count": null,
      "outputs": [
        {
          "output_type": "stream",
          "name": "stdout",
          "text": [
            "True\n",
            "False\n"
          ]
        }
      ]
    },
    {
      "cell_type": "code",
      "metadata": {
        "colab": {
          "base_uri": "https://localhost:8080/"
        },
        "id": "ybPGpo2lVHHn",
        "outputId": "1fa4dc9a-46cf-4f41-98c0-f902e618cf69"
      },
      "source": [
        "text = 'www.clarusway.com'\n",
        "print(text.endswith('om'))\n",
        "print(text.startswith('w'))"
      ],
      "execution_count": null,
      "outputs": [
        {
          "output_type": "stream",
          "name": "stdout",
          "text": [
            "True\n",
            "True\n"
          ]
        }
      ]
    },
    {
      "cell_type": "code",
      "metadata": {
        "colab": {
          "base_uri": "https://localhost:8080/"
        },
        "id": "ih5hKtfDYVi9",
        "outputId": "5cbb8b22-24ed-4557-a827-9f0916cab7a8"
      },
      "source": [
        "text = \"clarusway\"\n",
        "text.startswith(\"lc\")"
      ],
      "execution_count": null,
      "outputs": [
        {
          "output_type": "execute_result",
          "data": {
            "text/plain": [
              "False"
            ]
          },
          "metadata": {},
          "execution_count": 16
        }
      ]
    },
    {
      "cell_type": "code",
      "metadata": {
        "colab": {
          "base_uri": "https://localhost:8080/"
        },
        "id": "zqBRgw8WYVsE",
        "outputId": "c1e334a7-b1a3-46e9-b844-dd30eb177d69"
      },
      "source": [
        "text = \"clarusway\"\n",
        "text.endswith(\"ya\")"
      ],
      "execution_count": null,
      "outputs": [
        {
          "output_type": "execute_result",
          "data": {
            "text/plain": [
              "False"
            ]
          },
          "metadata": {},
          "execution_count": 18
        }
      ]
    },
    {
      "cell_type": "code",
      "metadata": {
        "colab": {
          "base_uri": "https://localhost:8080/"
        },
        "id": "mPXn80U9YVum",
        "outputId": "61903e7f-04d7-459a-84b7-d1726cbbc7b4"
      },
      "source": [
        "text.startswith(\"u\", 4) # 4.index u harfi mi?"
      ],
      "execution_count": null,
      "outputs": [
        {
          "output_type": "execute_result",
          "data": {
            "text/plain": [
              "True"
            ]
          },
          "metadata": {},
          "execution_count": 20
        }
      ]
    },
    {
      "cell_type": "code",
      "metadata": {
        "colab": {
          "base_uri": "https://localhost:8080/"
        },
        "id": "7yLvDqmaYnds",
        "outputId": "d3738f28-b46d-42b7-a0c0-14bc02c42ec8"
      },
      "source": [
        "email = \"clarusway@clarusway.com is my e-mail address\"\n",
        "print(email.startswith(\"@\", 9))\n",
        "print(email.endswith(\"-\", 10, 32)) # en sondaki stop indeksi"
      ],
      "execution_count": null,
      "outputs": [
        {
          "output_type": "stream",
          "name": "stdout",
          "text": [
            "True\n",
            "True\n"
          ]
        }
      ]
    },
    {
      "cell_type": "code",
      "metadata": {
        "colab": {
          "base_uri": "https://localhost:8080/"
        },
        "id": "RTcNpFuXYnkW",
        "outputId": "e47bb387-04f9-4220-8b64-eba4d3482e2a"
      },
      "source": [
        "# Most Important Methods\n",
        "\n",
        "text = 'clarusway'\n",
        "text.replace(\"c\", \"C\")\n",
        "print(text.replace(\"c\", \"C\"))\n",
        "print(text)\n",
        "text = text.replace(\"c\", \"C\")\n",
        "print(text)"
      ],
      "execution_count": null,
      "outputs": [
        {
          "output_type": "stream",
          "name": "stdout",
          "text": [
            "Clarusway\n",
            "clarusway\n",
            "Clarusway\n"
          ]
        }
      ]
    },
    {
      "cell_type": "code",
      "metadata": {
        "colab": {
          "base_uri": "https://localhost:8080/"
        },
        "id": "nJOzeLdnYnpD",
        "outputId": "6512ecb9-4cf9-4a75-f700-f61a07cd2e63"
      },
      "source": [
        "text = 'UpPeR'\n",
        "print(text.swapcase())"
      ],
      "execution_count": null,
      "outputs": [
        {
          "output_type": "stream",
          "name": "stdout",
          "text": [
            "uPpEr\n"
          ]
        }
      ]
    },
    {
      "cell_type": "code",
      "metadata": {
        "colab": {
          "base_uri": "https://localhost:8080/"
        },
        "id": "i9iSN6mrYnr9",
        "outputId": "c38bfdfb-309e-49dd-a599-bfad474950a1"
      },
      "source": [
        "text = 'UpPeR'\n",
        "print(text.capitalize())\n",
        "text1 = \"ali veli deli\"\n",
        "print(text1.capitalize())\n",
        "print(text1.title())\n",
        "text2 = \"HAMSİ\"\n",
        "print(text2.lower())"
      ],
      "execution_count": null,
      "outputs": [
        {
          "output_type": "stream",
          "name": "stdout",
          "text": [
            "Upper\n",
            "Ali veli deli\n",
            "Ali Veli Deli\n",
            "hamsi̇\n"
          ]
        }
      ]
    },
    {
      "cell_type": "code",
      "metadata": {
        "colab": {
          "base_uri": "https://localhost:8080/"
        },
        "id": "h8d3AfNsYnwN",
        "outputId": "0b25cd20-6e86-4bc9-c81f-6e90931e420c"
      },
      "source": [
        "sentence = \"I live and work in Virginia\"\n",
        "print(sentence.upper())\n",
        "print(sentence.lower())\n",
        "print(sentence.swapcase())\n",
        "print(sentence)"
      ],
      "execution_count": null,
      "outputs": [
        {
          "output_type": "stream",
          "name": "stdout",
          "text": [
            "I LIVE AND WORK IN VIRGINIA\n",
            "i live and work in virginia\n",
            "i LIVE AND WORK IN vIRGINIA\n",
            "I live and work in Virginia\n"
          ]
        }
      ]
    },
    {
      "cell_type": "code",
      "metadata": {
        "colab": {
          "base_uri": "https://localhost:8080/"
        },
        "id": "Hp74daz5dRfg",
        "outputId": "5094eb92-7b55-410f-e5c1-b1a57293b2ae"
      },
      "source": [
        "# string.method().method().method()...\n",
        "\n",
        "sentence = \"I live and work in Virginia\"\n",
        "title_sentence = sentence.title()\n",
        "print(title_sentence)\n",
        "\n",
        "changed_sentence = sentence.replace(\"i\", \"+\")\n",
        "print(changed_sentence)\n",
        "\n",
        "print(sentence) # note taht, again source text is unchanged"
      ],
      "execution_count": null,
      "outputs": [
        {
          "output_type": "stream",
          "name": "stdout",
          "text": [
            "I Live And Work In Virginia\n",
            "I l+ve and work +n V+rg+n+a\n",
            "I live and work in Virginia\n"
          ]
        }
      ]
    },
    {
      "cell_type": "code",
      "metadata": {
        "colab": {
          "base_uri": "https://localhost:8080/"
        },
        "id": "XZL24MPUdRm4",
        "outputId": "39f62ef6-1456-4327-8c29-1b9c9066687c"
      },
      "source": [
        "text = 'the better the family, the better the society'\n",
        "text = text.title()\n",
        "print(text)"
      ],
      "execution_count": null,
      "outputs": [
        {
          "output_type": "stream",
          "name": "stdout",
          "text": [
            "The Better The Family, The Better The Society\n"
          ]
        }
      ]
    },
    {
      "cell_type": "code",
      "metadata": {
        "colab": {
          "base_uri": "https://localhost:8080/"
        },
        "id": "M2snof7jdRtx",
        "outputId": "b5ea10fa-b201-48ba-85c3-124c38987877"
      },
      "source": [
        "text = 'S0d0me and G0m0re'\n",
        "text = text.replace('0', 'o')\n",
        "print(text)"
      ],
      "execution_count": null,
      "outputs": [
        {
          "output_type": "stream",
          "name": "stdout",
          "text": [
            "Sodome and Gomore\n"
          ]
        }
      ]
    },
    {
      "cell_type": "code",
      "metadata": {
        "colab": {
          "base_uri": "https://localhost:8080/"
        },
        "id": "4-PJlnwKiVOZ",
        "outputId": "9fbda248-524e-45e2-e76e-13ea065aabc3"
      },
      "source": [
        "# Editing a String\n",
        "# string.strip()\n",
        "# string.rstrip()\n",
        "# string.lstrip()\n",
        "\n",
        "space_string = \"      listen first      \"\n",
        "print(space_string.strip()) # removes all spaces from both sides"
      ],
      "execution_count": null,
      "outputs": [
        {
          "output_type": "stream",
          "name": "stdout",
          "text": [
            "listen first\n"
          ]
        }
      ]
    },
    {
      "cell_type": "code",
      "metadata": {
        "colab": {
          "base_uri": "https://localhost:8080/"
        },
        "id": "DPVoFJfgiVV0",
        "outputId": "55f9f694-4a04-496e-b1ca-6ba42ed4e67f"
      },
      "source": [
        "new_string = \"Merhaba \\t Dünya\"\n",
        "print(new_string)\n",
        "print(new_string.strip())"
      ],
      "execution_count": null,
      "outputs": [
        {
          "output_type": "stream",
          "name": "stdout",
          "text": [
            "Merhaba \t Dünya\n",
            "Merhaba \t Dünya\n"
          ]
        }
      ]
    },
    {
      "cell_type": "code",
      "metadata": {
        "colab": {
          "base_uri": "https://localhost:8080/"
        },
        "id": "Uz_4_HayiVdj",
        "outputId": "b684bd3c-953d-46aa-c2b0-7ca942c08b0e"
      },
      "source": [
        "canli_yayin = \"\\tali veli deli\\t\"\n",
        "print(canli_yayin.strip())"
      ],
      "execution_count": null,
      "outputs": [
        {
          "output_type": "stream",
          "name": "stdout",
          "text": [
            "ali veli deli\n"
          ]
        }
      ]
    },
    {
      "cell_type": "code",
      "metadata": {
        "colab": {
          "base_uri": "https://localhost:8080/",
          "height": 35
        },
        "id": "qg2j3_tZiVlL",
        "outputId": "6d3e439b-0054-41dc-9bc5-1176e4b250c9"
      },
      "source": [
        "\"clarusway\".strip(\"cy\")"
      ],
      "execution_count": null,
      "outputs": [
        {
          "output_type": "execute_result",
          "data": {
            "application/vnd.google.colaboratory.intrinsic+json": {
              "type": "string"
            },
            "text/plain": [
              "'laruswa'"
            ]
          },
          "metadata": {},
          "execution_count": 45
        }
      ]
    },
    {
      "cell_type": "code",
      "metadata": {
        "colab": {
          "base_uri": "https://localhost:8080/",
          "height": 35
        },
        "id": "w8MR4ipok4ZK",
        "outputId": "c836d02d-db7a-4b86-c1fd-9007d9b15941"
      },
      "source": [
        "\"clarusway\".strip(\"yc\")"
      ],
      "execution_count": null,
      "outputs": [
        {
          "output_type": "execute_result",
          "data": {
            "application/vnd.google.colaboratory.intrinsic+json": {
              "type": "string"
            },
            "text/plain": [
              "'laruswa'"
            ]
          },
          "metadata": {},
          "execution_count": 46
        }
      ]
    },
    {
      "cell_type": "code",
      "metadata": {
        "colab": {
          "base_uri": "https://localhost:8080/"
        },
        "id": "OQpCigQRk4fB",
        "outputId": "0e718a52-f727-4cfb-e074-714a3e5b2206"
      },
      "source": [
        "source_string = \"interoperability\"\n",
        "print(source_string.strip(\"yi\"))"
      ],
      "execution_count": null,
      "outputs": [
        {
          "output_type": "stream",
          "name": "stdout",
          "text": [
            "nteroperabilit\n"
          ]
        }
      ]
    },
    {
      "cell_type": "code",
      "metadata": {
        "colab": {
          "base_uri": "https://localhost:8080/"
        },
        "id": "je46Y5gtnhWg",
        "outputId": "ab818b14-d2c0-471b-e8eb-b66ecd75eff8"
      },
      "source": [
        "source_string = \"interoperability\"\n",
        "print(source_string.lstrip(\"in\"))"
      ],
      "execution_count": null,
      "outputs": [
        {
          "output_type": "stream",
          "name": "stdout",
          "text": [
            "teroperability\n"
          ]
        }
      ]
    },
    {
      "cell_type": "code",
      "metadata": {
        "id": "jmtPA6bRnhcg"
      },
      "source": [
        "# strip() metodunun içerisine yazmış olduğunuz karakterlerin (kombinasyonu da\n",
        "# dahil olmak üzere) üzerine metodu uyguladığınız stringin başından ve sonundan\n",
        "# çıkartır = tırpanlar\n",
        "# rstrip(), bu işlemi metodun uygulandığı string'in sonunda yapar,\n",
        "# lstrip(), bu işlemi metodun uygulandığı string'in başında yapar"
      ],
      "execution_count": null,
      "outputs": []
    },
    {
      "cell_type": "code",
      "metadata": {
        "colab": {
          "base_uri": "https://localhost:8080/"
        },
        "id": "u4PKn3X0nhfs",
        "outputId": "c89bdd28-d871-4c1c-b6ff-1b34680ec3fd"
      },
      "source": [
        "space_string= \"      listen first      \"\n",
        "print(space_string.rstrip())"
      ],
      "execution_count": null,
      "outputs": [
        {
          "output_type": "stream",
          "name": "stdout",
          "text": [
            "      listen first\n"
          ]
        }
      ]
    },
    {
      "cell_type": "code",
      "metadata": {
        "colab": {
          "base_uri": "https://localhost:8080/"
        },
        "id": "bzK2satDnhiZ",
        "outputId": "197611ef-1ca9-46d7-a52b-aed71be2b038"
      },
      "source": [
        "source_string = \"interoperability\"\n",
        "print(source_string.rstrip(\"yt\"))"
      ],
      "execution_count": null,
      "outputs": [
        {
          "output_type": "stream",
          "name": "stdout",
          "text": [
            "interoperabili\n"
          ]
        }
      ]
    },
    {
      "cell_type": "code",
      "metadata": {
        "colab": {
          "base_uri": "https://localhost:8080/"
        },
        "id": "bYLU_CUko_v-",
        "outputId": "bc971401-b7ed-425d-a12a-2aa79caf8c55"
      },
      "source": [
        "text = 'tyou can learn almost everyting in pre-classz'\n",
        "print(text.replace(\"t\",\"\",1).rstrip(\"z\").upper())"
      ],
      "execution_count": null,
      "outputs": [
        {
          "output_type": "stream",
          "name": "stdout",
          "text": [
            "YOU CAN LEARN ALMOST EVERYTING IN PRE-CLASS\n"
          ]
        }
      ]
    },
    {
      "cell_type": "code",
      "metadata": {
        "colab": {
          "base_uri": "https://localhost:8080/"
        },
        "id": "wWO6VzNao_zw",
        "outputId": "e9ae70e0-8b4f-4c7e-eb2c-c0d3438778f4"
      },
      "source": [
        "text = text.rstrip('z').lstrip('t').upper()\n",
        "print(text)\n",
        "\n",
        "print(text.rstrip('z').lstrip('t').upper())\n",
        "print(str.upper(text.strip(\"tz\"))) # Önemli!!!"
      ],
      "execution_count": null,
      "outputs": [
        {
          "output_type": "stream",
          "name": "stdout",
          "text": [
            "YOU CAN LEARN ALMOST EVERYTING IN PRE-CLASS\n",
            "YOU CAN LEARN ALMOST EVERYTING IN PRE-CLASS\n",
            "YOU CAN LEARN ALMOST EVERYTING IN PRE-CLASS\n"
          ]
        }
      ]
    },
    {
      "cell_type": "code",
      "metadata": {
        "colab": {
          "base_uri": "https://localhost:8080/"
        },
        "id": "AdqaOP4oo_2x",
        "outputId": "98ee4f4c-dd43-4b2b-eefd-9de3b9abf3bc"
      },
      "source": [
        "a = 1\n",
        "print(-a)"
      ],
      "execution_count": null,
      "outputs": [
        {
          "output_type": "stream",
          "name": "stdout",
          "text": [
            "-1\n"
          ]
        }
      ]
    },
    {
      "cell_type": "code",
      "metadata": {
        "colab": {
          "base_uri": "https://localhost:8080/"
        },
        "id": "tM9Hg5HpqruE",
        "outputId": "14c91d2c-916e-4e59-d28b-68d40801cd19"
      },
      "source": [
        "b = -11\n",
        "print(-b)"
      ],
      "execution_count": null,
      "outputs": [
        {
          "output_type": "stream",
          "name": "stdout",
          "text": [
            "11\n"
          ]
        }
      ]
    },
    {
      "cell_type": "code",
      "metadata": {
        "colab": {
          "base_uri": "https://localhost:8080/"
        },
        "id": "drS5OKmjqryl",
        "outputId": "57458b35-cc0c-4d50-c702-2007bb6d9cf9"
      },
      "source": [
        "a = 3\n",
        "b = 4\n",
        "print(\"The sum of {} + {} is : {}\".format(a, b, a + b))"
      ],
      "execution_count": null,
      "outputs": [
        {
          "output_type": "stream",
          "name": "stdout",
          "text": [
            "The sum of 3 + 4 is : 7\n"
          ]
        }
      ]
    },
    {
      "cell_type": "code",
      "metadata": {
        "colab": {
          "base_uri": "https://localhost:8080/"
        },
        "id": "lfeKp5-bqr1_",
        "outputId": "fd6be649-c8c1-4329-dc2c-461f18eef5ec"
      },
      "source": [
        "a = 3\n",
        "b = 4\n",
        "print(\"The multiplication of {} * {} is : {}\".format(a, b, a * b))"
      ],
      "execution_count": null,
      "outputs": [
        {
          "output_type": "stream",
          "name": "stdout",
          "text": [
            "The multiplication of 3 * 4 is : 12\n"
          ]
        }
      ]
    },
    {
      "cell_type": "code",
      "metadata": {
        "colab": {
          "base_uri": "https://localhost:8080/"
        },
        "id": "ep6RYP2DrlSW",
        "outputId": "110aaef5-3707-43eb-d035-c4a69b483d95"
      },
      "source": [
        "x = 2\n",
        "y = 3\n",
        "print(\"The power of {} to {} is {}\".format(x, y, x ** y))"
      ],
      "execution_count": null,
      "outputs": [
        {
          "output_type": "stream",
          "name": "stdout",
          "text": [
            "The power of 2 to 3 is 8\n"
          ]
        }
      ]
    },
    {
      "cell_type": "code",
      "metadata": {
        "colab": {
          "base_uri": "https://localhost:8080/"
        },
        "id": "C85MjrNwrlY7",
        "outputId": "3902e44f-67aa-47b8-827c-c20a0698a75e"
      },
      "source": [
        "text = \"{:.2f}, {:.3f}, {:.4f}\".format(3.1463, 5.367, 7.324324)\n",
        "print(text)"
      ],
      "execution_count": null,
      "outputs": [
        {
          "output_type": "stream",
          "name": "stdout",
          "text": [
            "3.15, 5.367, 7.3243\n"
          ]
        }
      ]
    },
    {
      "cell_type": "code",
      "metadata": {
        "colab": {
          "base_uri": "https://localhost:8080/"
        },
        "id": "7P7_8FD4rlbV",
        "outputId": "9af597f1-2243-4571-a79f-9e80b9fdaead"
      },
      "source": [
        "text = \"{:.2s}, {:.3s}, {:.4s}\".format(\"a3.1463\", \"5.b367\", \"7.324324c\")\n",
        "print(text)"
      ],
      "execution_count": null,
      "outputs": [
        {
          "output_type": "stream",
          "name": "stdout",
          "text": [
            "a3, 5.b, 7.32\n"
          ]
        }
      ]
    },
    {
      "cell_type": "code",
      "metadata": {
        "colab": {
          "base_uri": "https://localhost:8080/"
        },
        "id": "5gg7m0Owrlel",
        "outputId": "2b77789b-77b1-402e-c68c-6b278f940557"
      },
      "source": [
        "# string'te s'yi kullanmaya gerek yok\n",
        "text = \"{:.2}, {:.3}, {:.4}\".format(\"a3.1463\", \"5.b367\", \"7.324324c\") \n",
        "print(text)"
      ],
      "execution_count": null,
      "outputs": [
        {
          "output_type": "stream",
          "name": "stdout",
          "text": [
            "a3, 5.b, 7.32\n"
          ]
        }
      ]
    },
    {
      "cell_type": "code",
      "metadata": {
        "colab": {
          "base_uri": "https://localhost:8080/"
        },
        "id": "vIjuYmy8zZT-",
        "outputId": "17aaf5c8-9f9f-4822-bf8e-654155c5197a"
      },
      "source": [
        "text = \"{:.2}, {:.3}, {:.4}\".format(3.1463, 5.367, 7.324324)\n",
        "print(text)"
      ],
      "execution_count": null,
      "outputs": [
        {
          "output_type": "stream",
          "name": "stdout",
          "text": [
            "3.1, 5.37, 7.324\n"
          ]
        }
      ]
    },
    {
      "cell_type": "code",
      "metadata": {
        "colab": {
          "base_uri": "https://localhost:8080/",
          "height": 35
        },
        "id": "VD2ZfExIzZam",
        "outputId": "ea343c94-1e63-4307-b24d-8c5013551b19"
      },
      "source": [
        "text = \"{:>10}\".format(\"test\") # 10 karakterlik alanda yazıyı sağa yasladı\n",
        "text"
      ],
      "execution_count": null,
      "outputs": [
        {
          "output_type": "execute_result",
          "data": {
            "application/vnd.google.colaboratory.intrinsic+json": {
              "type": "string"
            },
            "text/plain": [
              "'      test'"
            ]
          },
          "metadata": {},
          "execution_count": 98
        }
      ]
    },
    {
      "cell_type": "code",
      "metadata": {
        "colab": {
          "base_uri": "https://localhost:8080/",
          "height": 35
        },
        "id": "Haa1pZP9z50V",
        "outputId": "b17e68c3-6385-4ac6-fa12-02c7bd5f53a6"
      },
      "source": [
        "text = \"{:<10}\".format(\"test\") # 10 karakterlik alanda yazıyı sola yasladı\n",
        "text"
      ],
      "execution_count": null,
      "outputs": [
        {
          "output_type": "execute_result",
          "data": {
            "application/vnd.google.colaboratory.intrinsic+json": {
              "type": "string"
            },
            "text/plain": [
              "'test      '"
            ]
          },
          "metadata": {},
          "execution_count": 97
        }
      ]
    },
    {
      "cell_type": "code",
      "metadata": {
        "colab": {
          "base_uri": "https://localhost:8080/",
          "height": 35
        },
        "id": "hFMSZzHLz53n",
        "outputId": "f55131da-436c-470a-f856-a3234d83374c"
      },
      "source": [
        "text = \"formatlama satırı {:>20} bu da textin son kısmı\".format(\"test123\")\n",
        "text"
      ],
      "execution_count": null,
      "outputs": [
        {
          "output_type": "execute_result",
          "data": {
            "application/vnd.google.colaboratory.intrinsic+json": {
              "type": "string"
            },
            "text/plain": [
              "'formatlama satırı              test123 bu da textin son kısmı'"
            ]
          },
          "metadata": {},
          "execution_count": 96
        }
      ]
    },
    {
      "cell_type": "code",
      "metadata": {
        "colab": {
          "base_uri": "https://localhost:8080/",
          "height": 35
        },
        "id": "eYezKj9kz56p",
        "outputId": "a47741d0-1494-4817-fcd4-06a625fd723a"
      },
      "source": [
        "text = \"bla bla {:<15} formatlama cümleciğim benim\".format(\"okkes\")\n",
        "text"
      ],
      "execution_count": null,
      "outputs": [
        {
          "output_type": "execute_result",
          "data": {
            "application/vnd.google.colaboratory.intrinsic+json": {
              "type": "string"
            },
            "text/plain": [
              "'bla bla okkes           formatlama cümleciğim benim'"
            ]
          },
          "metadata": {},
          "execution_count": 95
        }
      ]
    },
    {
      "cell_type": "code",
      "metadata": {
        "colab": {
          "base_uri": "https://localhost:8080/",
          "height": 35
        },
        "id": "TVDlUIaRz59L",
        "outputId": "3f5c9ac0-efea-4f12-a447-b77abc4314cc"
      },
      "source": [
        "text = \"{:^20}\".format(\"abc\")\n",
        "text"
      ],
      "execution_count": null,
      "outputs": [
        {
          "output_type": "execute_result",
          "data": {
            "application/vnd.google.colaboratory.intrinsic+json": {
              "type": "string"
            },
            "text/plain": [
              "'        abc         '"
            ]
          },
          "metadata": {},
          "execution_count": 100
        }
      ]
    },
    {
      "cell_type": "code",
      "metadata": {
        "colab": {
          "base_uri": "https://localhost:8080/",
          "height": 35
        },
        "id": "AdbYxKoHz5_p",
        "outputId": "092ee114-83cf-41b4-fdfa-0d7fd2e1c57d"
      },
      "source": [
        "\"{:10.5}\".format(\"hippopotamus\")"
      ],
      "execution_count": null,
      "outputs": [
        {
          "output_type": "execute_result",
          "data": {
            "application/vnd.google.colaboratory.intrinsic+json": {
              "type": "string"
            },
            "text/plain": [
              "'hippo     '"
            ]
          },
          "metadata": {},
          "execution_count": 101
        }
      ]
    },
    {
      "cell_type": "code",
      "metadata": {
        "colab": {
          "base_uri": "https://localhost:8080/",
          "height": 35
        },
        "id": "R688TNXCzZgG",
        "outputId": "8e752b3b-ca1c-4b4d-c0f3-24a8e27d0fe1"
      },
      "source": [
        "\"{:^10.5}\".format(\"hippopotamus\")"
      ],
      "execution_count": null,
      "outputs": [
        {
          "output_type": "execute_result",
          "data": {
            "application/vnd.google.colaboratory.intrinsic+json": {
              "type": "string"
            },
            "text/plain": [
              "'  hippo   '"
            ]
          },
          "metadata": {},
          "execution_count": 102
        }
      ]
    },
    {
      "cell_type": "code",
      "metadata": {
        "colab": {
          "base_uri": "https://localhost:8080/",
          "height": 35
        },
        "id": "Z-z-7ENQ2Des",
        "outputId": "3a67b9cd-78aa-47ee-ff47-2c9fc46e632d"
      },
      "source": [
        "\"{:>15.5}\".format(\"hippopotamus\")"
      ],
      "execution_count": null,
      "outputs": [
        {
          "output_type": "execute_result",
          "data": {
            "application/vnd.google.colaboratory.intrinsic+json": {
              "type": "string"
            },
            "text/plain": [
              "'          hippo'"
            ]
          },
          "metadata": {},
          "execution_count": 103
        }
      ]
    },
    {
      "cell_type": "code",
      "metadata": {
        "colab": {
          "base_uri": "https://localhost:8080/",
          "height": 35
        },
        "id": "saUwPof12Dhk",
        "outputId": "7498b280-4fcd-44f4-e5c9-493805ae7a04"
      },
      "source": [
        "\"{:+}\".format(55)"
      ],
      "execution_count": null,
      "outputs": [
        {
          "output_type": "execute_result",
          "data": {
            "application/vnd.google.colaboratory.intrinsic+json": {
              "type": "string"
            },
            "text/plain": [
              "'+55'"
            ]
          },
          "metadata": {},
          "execution_count": 104
        }
      ]
    },
    {
      "cell_type": "code",
      "metadata": {
        "colab": {
          "base_uri": "https://localhost:8080/"
        },
        "id": "qwLZ3BOQ2Dj0",
        "outputId": "450072e0-066b-4a49-cc75-473d53dcbfa9"
      },
      "source": [
        "age = True\n",
        "chronic = True\n",
        "immune = True\n",
        "\n",
        "risk = age or chronic or immune\n",
        "print(risk)"
      ],
      "execution_count": null,
      "outputs": [
        {
          "output_type": "stream",
          "name": "stdout",
          "text": [
            "True\n"
          ]
        }
      ]
    },
    {
      "cell_type": "code",
      "metadata": {
        "colab": {
          "base_uri": "https://localhost:8080/"
        },
        "id": "isCa4UDZ2pp7",
        "outputId": "6a10416c-f87d-47a9-fea1-0c50e4355e05"
      },
      "source": [
        "age = input(\"75 yaşından büyük ve sigara bağımlısı mısınız? evet veya hayır\")\n",
        "if age == \"evet\":\n",
        "   print(True)\n",
        "else:\n",
        "   print(False)\n",
        "chronic = input(\"Kronik bir hastalığınız var mı? evet veya hayır\")\n",
        "if chronic == \"evet\":\n",
        "   print(True)\n",
        "else:\n",
        "   print(False)\n",
        "immune = input(\"Bağışıklık sisteminiz çok mu zayıf? evet veya hayır\")\n",
        "if immune == \"evet\":\n",
        "   print(True)\n",
        "else:\n",
        "   print(False)\n",
        "print(\"Covid için riskiniz yüksek: \" + str(age or chronic or immune))"
      ],
      "execution_count": null,
      "outputs": [
        {
          "output_type": "stream",
          "name": "stdout",
          "text": [
            "75 yaşından büyük ve sigara bağımlısı mısınız? evet veya hayırevet\n",
            "True\n",
            "Kronik bir hastalığınız var mı? evet veya hayırevet\n",
            "True\n",
            "Bağışıklık sisteminiz çok mu zayıf? evet veya hayırevet\n",
            "True\n",
            "Covid için riskiniz yüksek: evet\n"
          ]
        }
      ]
    },
    {
      "cell_type": "code",
      "metadata": {
        "id": "gTJxcTj42ptD"
      },
      "source": [
        "# hackerrank\n",
        "# freecodecamp"
      ],
      "execution_count": null,
      "outputs": []
    },
    {
      "cell_type": "code",
      "metadata": {
        "id": "KTlUmHcT2pwV"
      },
      "source": [
        ""
      ],
      "execution_count": null,
      "outputs": []
    }
  ]
}