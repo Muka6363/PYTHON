{
  "nbformat": 4,
  "nbformat_minor": 0,
  "metadata": {
    "colab": {
      "name": "11_November_In_Class",
      "provenance": [],
      "collapsed_sections": []
    },
    "kernelspec": {
      "name": "python3",
      "display_name": "Python 3"
    },
    "language_info": {
      "name": "python"
    }
  },
  "cells": [
    {
      "cell_type": "code",
      "metadata": {
        "colab": {
          "base_uri": "https://localhost:8080/"
        },
        "id": "_aUjz4n_KPzt",
        "outputId": "94298ae6-7b26-45ea-9a6b-de9be3165acc"
      },
      "source": [
        "sentence = input(\"Give me a sentence: \")\n",
        "\n",
        "word_list = sentence.split()\n",
        "i = 0\n",
        "longest = 0\n",
        "\n",
        "while i < len(word_list) :\n",
        "  if len(word_list[i]) > longest :\n",
        "    longest = len(word_list[i])\n",
        "  i += 1\n",
        "\n",
        "print(\"The length of the longest word: \", longest)"
      ],
      "execution_count": 2,
      "outputs": [
        {
          "output_type": "stream",
          "name": "stdout",
          "text": [
            "Give me a sentence: Clarusway is best\n",
            "The length of the longest word:  9\n"
          ]
        }
      ]
    },
    {
      "cell_type": "code",
      "metadata": {
        "id": "140vFCn4KRJM"
      },
      "source": [
        "while condition1 :\n",
        "  body\n",
        "  while condition2 :\n",
        "    body\n",
        "    break\n",
        "\n",
        "  break"
      ],
      "execution_count": null,
      "outputs": []
    },
    {
      "cell_type": "code",
      "metadata": {
        "colab": {
          "base_uri": "https://localhost:8080/"
        },
        "id": "936mQ_RfKRMO",
        "outputId": "84901193-b29f-4ec2-f636-aa0f0913ca9e"
      },
      "source": [
        "times = int(input(\"How many times should I say 'I love you'\"))\n",
        "\n",
        "for i in range(times):\n",
        "    print('I love you')"
      ],
      "execution_count": 3,
      "outputs": [
        {
          "output_type": "stream",
          "name": "stdout",
          "text": [
            "How many times should I say 'I love you'5\n",
            "I love you\n",
            "I love you\n",
            "I love you\n",
            "I love you\n",
            "I love you\n"
          ]
        }
      ]
    },
    {
      "cell_type": "code",
      "metadata": {
        "colab": {
          "base_uri": "https://localhost:8080/"
        },
        "id": "7Dhg4CCmKRO7",
        "outputId": "43344818-9bea-451f-c026-4660a8563f1a"
      },
      "source": [
        "for i in [1,2,3,4,5]:\n",
        "  print(i)"
      ],
      "execution_count": 4,
      "outputs": [
        {
          "output_type": "stream",
          "name": "stdout",
          "text": [
            "1\n",
            "2\n",
            "3\n",
            "4\n",
            "5\n"
          ]
        }
      ]
    },
    {
      "cell_type": "code",
      "metadata": {
        "colab": {
          "base_uri": "https://localhost:8080/"
        },
        "id": "H-SvHpKgKRRf",
        "outputId": "80e16a18-cfc1-475c-ce6b-e31e5a1aa6b7"
      },
      "source": [
        "for i in [1,2,3,4,5]:\n",
        "  print(\"joseph\")"
      ],
      "execution_count": 5,
      "outputs": [
        {
          "output_type": "stream",
          "name": "stdout",
          "text": [
            "joseph\n",
            "joseph\n",
            "joseph\n",
            "joseph\n",
            "joseph\n"
          ]
        }
      ]
    },
    {
      "cell_type": "code",
      "metadata": {
        "colab": {
          "base_uri": "https://localhost:8080/"
        },
        "id": "EZfVvgpbKRUa",
        "outputId": "402e405e-08be-40cc-842c-6433ea930f12"
      },
      "source": [
        "seasons = ['spring', 'summer', 'autumn', 'winter']\n",
        "\n",
        "for season in seasons :\n",
        "  print(season)"
      ],
      "execution_count": 6,
      "outputs": [
        {
          "output_type": "stream",
          "name": "stdout",
          "text": [
            "spring\n",
            "summer\n",
            "autumn\n",
            "winter\n"
          ]
        }
      ]
    },
    {
      "cell_type": "code",
      "metadata": {
        "colab": {
          "base_uri": "https://localhost:8080/"
        },
        "id": "e0VxowCoPXHS",
        "outputId": "5c85885c-dd66-4bff-d0f7-5605b0c2d2a2"
      },
      "source": [
        "for i in range(11) :\n",
        "  print(i, end = \" \")"
      ],
      "execution_count": 7,
      "outputs": [
        {
          "output_type": "stream",
          "name": "stdout",
          "text": [
            "0 1 2 3 4 5 6 7 8 9 10 "
          ]
        }
      ]
    },
    {
      "cell_type": "code",
      "metadata": {
        "colab": {
          "base_uri": "https://localhost:8080/"
        },
        "id": "Ql9KqtUYPXJs",
        "outputId": "4a3e6ca1-e2ce-47f7-b0c1-7796f5decca1"
      },
      "source": [
        "list(range(11))"
      ],
      "execution_count": 8,
      "outputs": [
        {
          "output_type": "execute_result",
          "data": {
            "text/plain": [
              "[0, 1, 2, 3, 4, 5, 6, 7, 8, 9, 10]"
            ]
          },
          "metadata": {},
          "execution_count": 8
        }
      ]
    },
    {
      "cell_type": "code",
      "metadata": {
        "colab": {
          "base_uri": "https://localhost:8080/"
        },
        "id": "ZgByV2dAPXMX",
        "outputId": "daa73186-31ef-4767-cf69-21d03c4d73a4"
      },
      "source": [
        "tuple(range(11))"
      ],
      "execution_count": 9,
      "outputs": [
        {
          "output_type": "execute_result",
          "data": {
            "text/plain": [
              "(0, 1, 2, 3, 4, 5, 6, 7, 8, 9, 10)"
            ]
          },
          "metadata": {},
          "execution_count": 9
        }
      ]
    },
    {
      "cell_type": "code",
      "metadata": {
        "colab": {
          "base_uri": "https://localhost:8080/"
        },
        "id": "WiL5WXWyPXO3",
        "outputId": "95fddd9a-f809-4004-ba6e-b350c00cd488"
      },
      "source": [
        "set(range(11))"
      ],
      "execution_count": 11,
      "outputs": [
        {
          "output_type": "execute_result",
          "data": {
            "text/plain": [
              "{0, 1, 2, 3, 4, 5, 6, 7, 8, 9, 10}"
            ]
          },
          "metadata": {},
          "execution_count": 11
        }
      ]
    },
    {
      "cell_type": "code",
      "metadata": {
        "colab": {
          "base_uri": "https://localhost:8080/"
        },
        "id": "bMVL6wCnKRW6",
        "outputId": "27772b4c-f749-4edc-b8d0-a726f2090dc5"
      },
      "source": [
        "print(* range(11))"
      ],
      "execution_count": 12,
      "outputs": [
        {
          "output_type": "stream",
          "name": "stdout",
          "text": [
            "0 1 2 3 4 5 6 7 8 9 10\n"
          ]
        }
      ]
    },
    {
      "cell_type": "code",
      "metadata": {
        "colab": {
          "base_uri": "https://localhost:8080/"
        },
        "id": "Y1qHypXPKRZX",
        "outputId": "66914963-576f-4b94-a03f-4e2257d127be"
      },
      "source": [
        "print(range(11))"
      ],
      "execution_count": 13,
      "outputs": [
        {
          "output_type": "stream",
          "name": "stdout",
          "text": [
            "range(0, 11)\n"
          ]
        }
      ]
    },
    {
      "cell_type": "code",
      "metadata": {
        "colab": {
          "base_uri": "https://localhost:8080/"
        },
        "id": "tupMoiULQXOK",
        "outputId": "702223f9-f8a2-4a21-9a1a-15c289959018"
      },
      "source": [
        "names = [\"Ahmed\", \"Aisha\", \"Adam\", \"Joseph\", \"Gabriel\"]\n",
        "for i in names :\n",
        "  print(f\"Hello {i}\")"
      ],
      "execution_count": 14,
      "outputs": [
        {
          "output_type": "stream",
          "name": "stdout",
          "text": [
            "Hello Ahmed\n",
            "Hello Aisha\n",
            "Hello Adam\n",
            "Hello Joseph\n",
            "Hello Gabriel\n"
          ]
        }
      ]
    },
    {
      "cell_type": "code",
      "metadata": {
        "colab": {
          "base_uri": "https://localhost:8080/"
        },
        "id": "KqB3ZDcoRVFG",
        "outputId": "ca3ef1c8-b195-487c-d482-b87f0c8d4ca0"
      },
      "source": [
        "names = [\"Ahmed\", \"Aisha\", \"Adam\", \"Joseph\", \"Gabriel\"]\n",
        "for i in names :\n",
        "  print(\"Hello\", i)"
      ],
      "execution_count": 15,
      "outputs": [
        {
          "output_type": "stream",
          "name": "stdout",
          "text": [
            "Hello Ahmed\n",
            "Hello Aisha\n",
            "Hello Adam\n",
            "Hello Joseph\n",
            "Hello Gabriel\n"
          ]
        }
      ]
    },
    {
      "cell_type": "code",
      "metadata": {
        "colab": {
          "base_uri": "https://localhost:8080/"
        },
        "id": "LsX6SWAiQXQt",
        "outputId": "bff438d1-7889-4e5b-83ee-4fd589f94c72"
      },
      "source": [
        "liste = []\n",
        "for i in range(1,6) :\n",
        "  liste += [i]\n",
        "print(liste)"
      ],
      "execution_count": 16,
      "outputs": [
        {
          "output_type": "stream",
          "name": "stdout",
          "text": [
            "[1, 2, 3, 4, 5]\n"
          ]
        }
      ]
    },
    {
      "cell_type": "code",
      "metadata": {
        "colab": {
          "base_uri": "https://localhost:8080/"
        },
        "id": "4CwL8lcJQXTo",
        "outputId": "92db9bc0-3975-4778-d525-96d923572870"
      },
      "source": [
        "print(list(range(1,6)))"
      ],
      "execution_count": 17,
      "outputs": [
        {
          "output_type": "stream",
          "name": "stdout",
          "text": [
            "[1, 2, 3, 4, 5]\n"
          ]
        }
      ]
    },
    {
      "cell_type": "code",
      "metadata": {
        "colab": {
          "base_uri": "https://localhost:8080/"
        },
        "id": "qeE4w326QXWW",
        "outputId": "06263a5c-38dc-4ca4-9297-1ac06ef16f57"
      },
      "source": [
        "[i for i in range(1,6)]"
      ],
      "execution_count": 18,
      "outputs": [
        {
          "output_type": "execute_result",
          "data": {
            "text/plain": [
              "[1, 2, 3, 4, 5]"
            ]
          },
          "metadata": {},
          "execution_count": 18
        }
      ]
    },
    {
      "cell_type": "code",
      "metadata": {
        "colab": {
          "base_uri": "https://localhost:8080/"
        },
        "id": "3JcEtLmHlTXW",
        "outputId": "45237d2a-b93e-42ea-92e1-c46568d37ef8"
      },
      "source": [
        "liste = []\n",
        "for i in range(1,6) :\n",
        "  liste += [i]\n",
        "liste"
      ],
      "execution_count": 72,
      "outputs": [
        {
          "output_type": "execute_result",
          "data": {
            "text/plain": [
              "[1, 2, 3, 4, 5]"
            ]
          },
          "metadata": {},
          "execution_count": 72
        }
      ]
    },
    {
      "cell_type": "code",
      "metadata": {
        "colab": {
          "base_uri": "https://localhost:8080/"
        },
        "id": "eHVH1d4cQXZV",
        "outputId": "3af5c515-661f-4e30-de31-5a11c0077b62"
      },
      "source": [
        "numbers = []\n",
        "\n",
        "for i in range(1,6) :\n",
        "  numbers.append(i)\n",
        "print(numbers)"
      ],
      "execution_count": 19,
      "outputs": [
        {
          "output_type": "stream",
          "name": "stdout",
          "text": [
            "[1, 2, 3, 4, 5]\n"
          ]
        }
      ]
    },
    {
      "cell_type": "code",
      "metadata": {
        "colab": {
          "base_uri": "https://localhost:8080/"
        },
        "id": "s7WzHX5wSY-Q",
        "outputId": "784b0508-6e3d-47e0-c1d8-fc3bd694a360"
      },
      "source": [
        "course = \"clarusway\"\n",
        "\n",
        "for i in course :\n",
        "  print(i)"
      ],
      "execution_count": 20,
      "outputs": [
        {
          "output_type": "stream",
          "name": "stdout",
          "text": [
            "c\n",
            "l\n",
            "a\n",
            "r\n",
            "u\n",
            "s\n",
            "w\n",
            "a\n",
            "y\n"
          ]
        }
      ]
    },
    {
      "cell_type": "code",
      "metadata": {
        "colab": {
          "base_uri": "https://localhost:8080/"
        },
        "id": "u0Kj2N3BTIWe",
        "outputId": "0a249c80-ad1f-4af6-a188-0c4fbe738882"
      },
      "source": [
        "liste = []\n",
        "n = \"Clarusway\"\n",
        "for i in n :\n",
        "  print(\"\".join(i), end = \"-\")"
      ],
      "execution_count": 38,
      "outputs": [
        {
          "output_type": "stream",
          "name": "stdout",
          "text": [
            "C-l-a-r-u-s-w-a-y-"
          ]
        }
      ]
    },
    {
      "cell_type": "code",
      "metadata": {
        "colab": {
          "base_uri": "https://localhost:8080/"
        },
        "id": "lObovZsBTIZW",
        "outputId": "a8099ee7-8e50-4da3-e175-33df27085faa"
      },
      "source": [
        "text= \"Clarusway\"\n",
        "count = 0\n",
        "\n",
        "for i in text : \n",
        "  count += 1\n",
        "  if count < len(text) :\n",
        "    i += \"-\" \n",
        "  print(i, end = \"\")"
      ],
      "execution_count": 29,
      "outputs": [
        {
          "output_type": "stream",
          "name": "stdout",
          "text": [
            "C-l-a-r-u-s-w-a-y"
          ]
        }
      ]
    },
    {
      "cell_type": "code",
      "metadata": {
        "colab": {
          "base_uri": "https://localhost:8080/"
        },
        "id": "QC04Mlb7TIb9",
        "outputId": "5b088cef-50f7-485d-f546-033e59be3e73"
      },
      "source": [
        "user = {\n",
        "    \"name\" : \"Daniel\",\n",
        "    \"surname\" : \"Smith\",\n",
        "    \"age\" : 35\n",
        "}\n",
        "\n",
        "for attribute in user :\n",
        "  print(attribute)"
      ],
      "execution_count": 61,
      "outputs": [
        {
          "output_type": "stream",
          "name": "stdout",
          "text": [
            "name\n",
            "surname\n",
            "age\n"
          ]
        }
      ]
    },
    {
      "cell_type": "code",
      "metadata": {
        "colab": {
          "base_uri": "https://localhost:8080/"
        },
        "id": "6Ba2BQ5KSZA0",
        "outputId": "8edfa407-026a-47ee-82aa-5f30b2111fb9"
      },
      "source": [
        "user = {\n",
        "    \"name\" : \"Daniel\",\n",
        "    \"surname\" : \"Smith\",\n",
        "    \"age\" : 35\n",
        "}\n",
        "\n",
        "for i in user.values() :\n",
        "  print(i, end=\" \")"
      ],
      "execution_count": 51,
      "outputs": [
        {
          "output_type": "stream",
          "name": "stdout",
          "text": [
            "Daniel Smith 35 "
          ]
        }
      ]
    },
    {
      "cell_type": "code",
      "metadata": {
        "colab": {
          "base_uri": "https://localhost:8080/"
        },
        "id": "POeSiRPpadGa",
        "outputId": "b74c6737-9cc3-4040-d546-4889eb930fc4"
      },
      "source": [
        "user = {\n",
        "    \"name\" : \"Daniel\",\n",
        "    \"surname\" : \"Smith\",\n",
        "    \"age\" : 35\n",
        "}\n",
        "\n",
        "for key, value in user.items() :\n",
        "  print(key,\":\",value)"
      ],
      "execution_count": 52,
      "outputs": [
        {
          "output_type": "stream",
          "name": "stdout",
          "text": [
            "name : Daniel\n",
            "surname : Smith\n",
            "age : 35\n"
          ]
        }
      ]
    },
    {
      "cell_type": "code",
      "metadata": {
        "colab": {
          "base_uri": "https://localhost:8080/"
        },
        "id": "ngaB6ZmsdRcC",
        "outputId": "32696130-17c2-473a-f06e-04885db95f60"
      },
      "source": [
        "test = [(1,2), (3,4), (5,6)]\n",
        "for i, j in test :\n",
        "  print(i, j)"
      ],
      "execution_count": 65,
      "outputs": [
        {
          "output_type": "stream",
          "name": "stdout",
          "text": [
            "1 2\n",
            "3 4\n",
            "5 6\n"
          ]
        }
      ]
    },
    {
      "cell_type": "code",
      "metadata": {
        "colab": {
          "base_uri": "https://localhost:8080/"
        },
        "id": "2nbW9GDjSZDb",
        "outputId": "aae8a4e1-3a19-4977-c4d1-45182e613018"
      },
      "source": [
        "times = int(input(\"How many times should I say 'I love you'\"))\n",
        "\n",
        "for i in range(times) :\n",
        "  print(\"I love you\")"
      ],
      "execution_count": 53,
      "outputs": [
        {
          "output_type": "stream",
          "name": "stdout",
          "text": [
            "How many times should I say 'I love you'3\n",
            "I love you\n",
            "I love you\n",
            "I love you\n"
          ]
        }
      ]
    },
    {
      "cell_type": "code",
      "metadata": {
        "colab": {
          "base_uri": "https://localhost:8080/"
        },
        "id": "XhfeTjGPc9G0",
        "outputId": "90200187-75a2-438b-e76d-77d11086aed5"
      },
      "source": [
        "how_many = int(input(\"How many times can I say 'I love you': \"))\n",
        "\n",
        "for i in range(how_many) :\n",
        "  print(\"I love you\")"
      ],
      "execution_count": 63,
      "outputs": [
        {
          "output_type": "stream",
          "name": "stdout",
          "text": [
            "How many times can I say 'I love you': 3\n",
            "I love you\n",
            "I love you\n",
            "I love you\n"
          ]
        }
      ]
    },
    {
      "cell_type": "code",
      "metadata": {
        "colab": {
          "base_uri": "https://localhost:8080/"
        },
        "id": "iws3x3d4awo7",
        "outputId": "7e2026b9-87e6-4305-c2ae-ae40e3b1fb9a"
      },
      "source": [
        "number = int(input(\"Enter a number between 1 to 10: \"))\n",
        "\n",
        "for i in range(11) :\n",
        "  print(\"{} X {} = {}\".format(number, i, number * i))"
      ],
      "execution_count": 56,
      "outputs": [
        {
          "output_type": "stream",
          "name": "stdout",
          "text": [
            "Enter a number between 1 to 10: 5\n",
            "5 X 0 = 0\n",
            "5 X 1 = 5\n",
            "5 X 2 = 10\n",
            "5 X 3 = 15\n",
            "5 X 4 = 20\n",
            "5 X 5 = 25\n",
            "5 X 6 = 30\n",
            "5 X 7 = 35\n",
            "5 X 8 = 40\n",
            "5 X 9 = 45\n",
            "5 X 10 = 50\n"
          ]
        }
      ]
    },
    {
      "cell_type": "code",
      "metadata": {
        "colab": {
          "base_uri": "https://localhost:8080/"
        },
        "id": "aZA_ux2YhzZe",
        "outputId": "132ae3bc-7538-4c7a-c8d5-1708616db183"
      },
      "source": [
        "number = int(input(\"Enter a number between 1 to 10: \"))\n",
        "\n",
        "for i in range(11) :\n",
        "  print(\"{} X {} = \".format(number, i), number * i)"
      ],
      "execution_count": 66,
      "outputs": [
        {
          "output_type": "stream",
          "name": "stdout",
          "text": [
            "Enter a number between 1 to 10: 5\n",
            "5 X 0 =  0\n",
            "5 X 1 =  5\n",
            "5 X 2 =  10\n",
            "5 X 3 =  15\n",
            "5 X 4 =  20\n",
            "5 X 5 =  25\n",
            "5 X 6 =  30\n",
            "5 X 7 =  35\n",
            "5 X 8 =  40\n",
            "5 X 9 =  45\n",
            "5 X 10 =  50\n"
          ]
        }
      ]
    },
    {
      "cell_type": "code",
      "metadata": {
        "colab": {
          "base_uri": "https://localhost:8080/"
        },
        "id": "2qNifoexcPc6",
        "outputId": "52ace3b6-2f0d-4dd3-8529-11dee2fed446"
      },
      "source": [
        "number = int(input(\"Enter a number between 1 to 10: \"))\n",
        "\n",
        "for i in range(11) :\n",
        "  print(f\"{number} X {i} = {number * i}\")"
      ],
      "execution_count": 59,
      "outputs": [
        {
          "output_type": "stream",
          "name": "stdout",
          "text": [
            "Enter a number between 1 to 10: 5\n",
            "5 X 0 = 0\n",
            "5 X 1 = 5\n",
            "5 X 2 = 10\n",
            "5 X 3 = 15\n",
            "5 X 4 = 20\n",
            "5 X 5 = 25\n",
            "5 X 6 = 30\n",
            "5 X 7 = 35\n",
            "5 X 8 = 40\n",
            "5 X 9 = 45\n",
            "5 X 10 = 50\n"
          ]
        }
      ]
    },
    {
      "cell_type": "code",
      "metadata": {
        "colab": {
          "base_uri": "https://localhost:8080/"
        },
        "id": "V7Ri-AZSbnt5",
        "outputId": "f25be368-b5aa-4bb8-8fe6-b4881e43192f"
      },
      "source": [
        "for i in range(1,10) :\n",
        "  print(str(i) * i)"
      ],
      "execution_count": 57,
      "outputs": [
        {
          "output_type": "stream",
          "name": "stdout",
          "text": [
            "1\n",
            "22\n",
            "333\n",
            "4444\n",
            "55555\n",
            "666666\n",
            "7777777\n",
            "88888888\n",
            "999999999\n"
          ]
        }
      ]
    },
    {
      "cell_type": "code",
      "metadata": {
        "colab": {
          "base_uri": "https://localhost:8080/"
        },
        "id": "2OtGkU47bnwj",
        "outputId": "d9a5814b-3cfb-4039-ffb4-a170e3279141"
      },
      "source": [
        "a = set(range(0,10))\n",
        "print(a)"
      ],
      "execution_count": 58,
      "outputs": [
        {
          "output_type": "stream",
          "name": "stdout",
          "text": [
            "{0, 1, 2, 3, 4, 5, 6, 7, 8, 9}\n"
          ]
        }
      ]
    },
    {
      "cell_type": "code",
      "metadata": {
        "colab": {
          "base_uri": "https://localhost:8080/"
        },
        "id": "JiiD_I96bnzf",
        "outputId": "e19ab4c5-072e-47f7-89a8-896b77d4798d"
      },
      "source": [
        "b = list(range(11))\n",
        "print(b)"
      ],
      "execution_count": 73,
      "outputs": [
        {
          "output_type": "stream",
          "name": "stdout",
          "text": [
            "[0, 1, 2, 3, 4, 5, 6, 7, 8, 9, 10]\n"
          ]
        }
      ]
    },
    {
      "cell_type": "code",
      "metadata": {
        "colab": {
          "base_uri": "https://localhost:8080/"
        },
        "id": "IDPbADZyqoAf",
        "outputId": "6d76a309-a7aa-4e61-d448-d845c0d77e0d"
      },
      "source": [
        "a = set(range(0,10))\n",
        "print(a)"
      ],
      "execution_count": 75,
      "outputs": [
        {
          "output_type": "stream",
          "name": "stdout",
          "text": [
            "{0, 1, 2, 3, 4, 5, 6, 7, 8, 9}\n"
          ]
        }
      ]
    },
    {
      "cell_type": "code",
      "metadata": {
        "colab": {
          "base_uri": "https://localhost:8080/"
        },
        "id": "BFMsMQxMbn1J",
        "outputId": "b078fc4e-cb8a-42a0-c5d0-0ae0c04cdbc3"
      },
      "source": [
        "print(range(5))\n",
        "print(*range(5))"
      ],
      "execution_count": 77,
      "outputs": [
        {
          "output_type": "stream",
          "name": "stdout",
          "text": [
            "range(0, 5)\n",
            "0 1 2 3 4\n"
          ]
        }
      ]
    },
    {
      "cell_type": "code",
      "metadata": {
        "colab": {
          "base_uri": "https://localhost:8080/"
        },
        "id": "i7jacVUIawr_",
        "outputId": "131bd8d4-efba-4520-9bf6-149b91bd2833"
      },
      "source": [
        "print(*range(5, 25, 2))"
      ],
      "execution_count": 78,
      "outputs": [
        {
          "output_type": "stream",
          "name": "stdout",
          "text": [
            "5 7 9 11 13 15 17 19 21 23\n"
          ]
        }
      ]
    },
    {
      "cell_type": "code",
      "metadata": {
        "colab": {
          "base_uri": "https://localhost:8080/"
        },
        "id": "-raJj90LawvL",
        "outputId": "363b7d7a-64c9-417d-bd7a-22a4aab9afc0"
      },
      "source": [
        "print(* range(10, 1, -1))"
      ],
      "execution_count": 80,
      "outputs": [
        {
          "output_type": "stream",
          "name": "stdout",
          "text": [
            "10 9 8 7 6 5 4 3 2\n"
          ]
        }
      ]
    },
    {
      "cell_type": "code",
      "metadata": {
        "colab": {
          "base_uri": "https://localhost:8080/"
        },
        "id": "V9_dfItUrlgA",
        "outputId": "316cc642-61cc-4faf-bd74-da70e302a907"
      },
      "source": [
        "print(*('seperate'))"
      ],
      "execution_count": 81,
      "outputs": [
        {
          "output_type": "stream",
          "name": "stdout",
          "text": [
            "s e p e r a t e\n"
          ]
        }
      ]
    },
    {
      "cell_type": "code",
      "metadata": {
        "colab": {
          "base_uri": "https://localhost:8080/"
        },
        "id": "e57sIJxorljL",
        "outputId": "6130d6ff-1179-475c-8ba3-f557f52f6ac1"
      },
      "source": [
        "print(*range(10, 0, -2))"
      ],
      "execution_count": 82,
      "outputs": [
        {
          "output_type": "stream",
          "name": "stdout",
          "text": [
            "10 8 6 4 2\n"
          ]
        }
      ]
    },
    {
      "cell_type": "code",
      "metadata": {
        "colab": {
          "base_uri": "https://localhost:8080/"
        },
        "id": "FWKroeaPrllz",
        "outputId": "00384e98-5448-4cd1-d527-03a39d0c42cb"
      },
      "source": [
        "text = ['one', 'two', 'three', 'four', 'five']\n",
        "numbers = [1, 2, 3, 4, 5]\n",
        "for x, y in zip(text, numbers):\n",
        "\tprint(x, ':', y) "
      ],
      "execution_count": 83,
      "outputs": [
        {
          "output_type": "stream",
          "name": "stdout",
          "text": [
            "one : 1\n",
            "two : 2\n",
            "three : 3\n",
            "four : 4\n",
            "five : 5\n"
          ]
        }
      ]
    },
    {
      "cell_type": "code",
      "metadata": {
        "id": "vpjSzfIEtPCN"
      },
      "source": [
        "zipped = zip(text, numbers) # tuple yaptı"
      ],
      "execution_count": 84,
      "outputs": []
    },
    {
      "cell_type": "code",
      "metadata": {
        "colab": {
          "base_uri": "https://localhost:8080/"
        },
        "id": "O4sLIP-HtPZY",
        "outputId": "3cfd1c2f-f204-4833-9d21-fdb301293fc6"
      },
      "source": [
        "print(zipped)"
      ],
      "execution_count": 85,
      "outputs": [
        {
          "output_type": "stream",
          "name": "stdout",
          "text": [
            "<zip object at 0x7f33c9eca460>\n"
          ]
        }
      ]
    },
    {
      "cell_type": "code",
      "metadata": {
        "colab": {
          "base_uri": "https://localhost:8080/"
        },
        "id": "Ui9RPaxptPcy",
        "outputId": "70368cd8-7257-4b00-bf98-23be6334db90"
      },
      "source": [
        "print(*zipped)"
      ],
      "execution_count": 86,
      "outputs": [
        {
          "output_type": "stream",
          "name": "stdout",
          "text": [
            "('one', 1) ('two', 2) ('three', 3) ('four', 4) ('five', 5)\n"
          ]
        }
      ]
    },
    {
      "cell_type": "code",
      "metadata": {
        "colab": {
          "base_uri": "https://localhost:8080/"
        },
        "id": "NJK9HlFGtw32",
        "outputId": "12a0dfa6-90d8-487f-a0a0-2c63f3f21ed4"
      },
      "source": [
        "text = ['one', 'two', 'three', 'four', 'five']\n",
        "numbers = [1, 2, 3, 4, 5]\n",
        "for x, y in zip(text, numbers):\n",
        "\tprint(x, ':', y) "
      ],
      "execution_count": 87,
      "outputs": [
        {
          "output_type": "stream",
          "name": "stdout",
          "text": [
            "one : 1\n",
            "two : 2\n",
            "three : 3\n",
            "four : 4\n",
            "five : 5\n"
          ]
        }
      ]
    },
    {
      "cell_type": "code",
      "metadata": {
        "id": "vd8CNpKOtw61"
      },
      "source": [
        "zipped = zip(text, numbers)"
      ],
      "execution_count": 89,
      "outputs": []
    },
    {
      "cell_type": "code",
      "metadata": {
        "colab": {
          "base_uri": "https://localhost:8080/"
        },
        "id": "n6mSqs6ytw-b",
        "outputId": "59e069a5-ce14-4261-cf87-eb6b43834499"
      },
      "source": [
        "list(zipped)"
      ],
      "execution_count": 90,
      "outputs": [
        {
          "output_type": "execute_result",
          "data": {
            "text/plain": [
              "[('one', 1), ('two', 2), ('three', 3), ('four', 4), ('five', 5)]"
            ]
          },
          "metadata": {},
          "execution_count": 90
        }
      ]
    },
    {
      "cell_type": "code",
      "metadata": {
        "id": "1RlKjtGLuPQf"
      },
      "source": [
        "zipped = zip(text, numbers)"
      ],
      "execution_count": 91,
      "outputs": []
    },
    {
      "cell_type": "code",
      "metadata": {
        "colab": {
          "base_uri": "https://localhost:8080/"
        },
        "id": "s2yuizJTuPTx",
        "outputId": "5b487deb-706e-4567-c925-34cf014c00d8"
      },
      "source": [
        "dict(zipped)"
      ],
      "execution_count": 92,
      "outputs": [
        {
          "output_type": "execute_result",
          "data": {
            "text/plain": [
              "{'five': 5, 'four': 4, 'one': 1, 'three': 3, 'two': 2}"
            ]
          },
          "metadata": {},
          "execution_count": 92
        }
      ]
    },
    {
      "cell_type": "code",
      "metadata": {
        "colab": {
          "base_uri": "https://localhost:8080/"
        },
        "id": "CEiuO4a5uPWk",
        "outputId": "4883ee29-7861-435b-ef29-84c222a7fcc7"
      },
      "source": [
        "evens, odds= [], []\n",
        "\n",
        "for i in range(10) :\n",
        "  if i % 2 == 0 :\n",
        "    evens += [i]\n",
        "  else :\n",
        "    odds += [i]\n",
        "print(evens)\n",
        "print(odds)"
      ],
      "execution_count": 94,
      "outputs": [
        {
          "output_type": "stream",
          "name": "stdout",
          "text": [
            "[0, 2, 4, 6, 8]\n",
            "[1, 3, 5, 7, 9]\n"
          ]
        }
      ]
    },
    {
      "cell_type": "code",
      "metadata": {
        "colab": {
          "base_uri": "https://localhost:8080/"
        },
        "id": "S_P_AZdovAlg",
        "outputId": "c7342a47-483d-4775-d788-8ce03f2422fd"
      },
      "source": [
        "odd =[i for i in range(0,10) if i % 2 == 1]\n",
        "even =[i for i in range(0,10) if i % 2 == 0]\n",
        "print(odd, even, sep= \"\\n\")"
      ],
      "execution_count": 95,
      "outputs": [
        {
          "output_type": "stream",
          "name": "stdout",
          "text": [
            "[1, 3, 5, 7, 9]\n",
            "[0, 2, 4, 6, 8]\n"
          ]
        }
      ]
    },
    {
      "cell_type": "code",
      "metadata": {
        "colab": {
          "base_uri": "https://localhost:8080/"
        },
        "id": "ip7Qz9W4vPSb",
        "outputId": "c79153f4-dc4b-4077-962d-da92c220c134"
      },
      "source": [
        "evens = []\n",
        "odds = []\n",
        "for i in range (0,10) :\n",
        "  if i % 2 == 0 :\n",
        "    evens.append(i)\n",
        "  else :\n",
        "    odds.append(i)\n",
        "print(evens)\n",
        "print(odds)"
      ],
      "execution_count": 100,
      "outputs": [
        {
          "output_type": "stream",
          "name": "stdout",
          "text": [
            "[0, 2, 4, 6, 8]\n",
            "[1, 3, 5, 7, 9]\n"
          ]
        }
      ]
    },
    {
      "cell_type": "markdown",
      "metadata": {
        "id": "URbk3rg4xNrC"
      },
      "source": [
        "![image.png](data:image/png;base64,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)"
      ]
    },
    {
      "cell_type": "code",
      "metadata": {
        "colab": {
          "base_uri": "https://localhost:8080/"
        },
        "id": "wvg4sYtVxN6A",
        "outputId": "efcff4e8-f417-4d78-d964-a51eb6684d0b"
      },
      "source": [
        "odds = 0\n",
        "evens = 0\n",
        "\n",
        "numbers = (11, 36, 33, 66, 89, 21, 32, 16, 10)\n",
        "\n",
        "for i in numbers :\n",
        "  if i % 2 == 0 :\n",
        "    odds += 1\n",
        "  else :\n",
        "    evens += 1\n",
        "print(\"Odds count:\", odds)\n",
        "print(\"Evens count:\", evens)"
      ],
      "execution_count": 102,
      "outputs": [
        {
          "output_type": "stream",
          "name": "stdout",
          "text": [
            "Odds count: 5\n",
            "Evens count: 4\n"
          ]
        }
      ]
    },
    {
      "cell_type": "code",
      "metadata": {
        "colab": {
          "base_uri": "https://localhost:8080/"
        },
        "id": "Iozhdmpgx-Ps",
        "outputId": "19d87897-2974-481e-f0af-e3ed5132c041"
      },
      "source": [
        "numbers = (11, 36, 33, 66, 89, 21, 32, 16, 10)\n",
        "odd =[i for i in numbers if i % 2 == 1]\n",
        "even =[i for i in numbers if i % 2 == 0]\n",
        "print(len(odd), len(even), sep= \"\\n\")"
      ],
      "execution_count": 104,
      "outputs": [
        {
          "output_type": "stream",
          "name": "stdout",
          "text": [
            "4\n",
            "5\n"
          ]
        }
      ]
    }
  ]
}