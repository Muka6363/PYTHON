{
  "nbformat": 4,
  "nbformat_minor": 0,
  "metadata": {
    "colab": {
      "name": "04_October_In_Class.ipynb",
      "provenance": [],
      "collapsed_sections": []
    },
    "kernelspec": {
      "name": "python3",
      "display_name": "Python 3"
    },
    "language_info": {
      "name": "python"
    }
  },
  "cells": [
    {
      "cell_type": "code",
      "metadata": {
        "colab": {
          "base_uri": "https://localhost:8080/"
        },
        "id": "9APheMyiPjsF",
        "outputId": "15e84d42-eba0-4dc9-f759-d27ee99376cc"
      },
      "source": [
        "bool(None)"
      ],
      "execution_count": null,
      "outputs": [
        {
          "output_type": "execute_result",
          "data": {
            "text/plain": [
              "False"
            ]
          },
          "metadata": {},
          "execution_count": 1
        }
      ]
    },
    {
      "cell_type": "code",
      "metadata": {
        "colab": {
          "base_uri": "https://localhost:8080/"
        },
        "id": "LyPQuZpZPk6J",
        "outputId": "a5c95b9f-2d68-41b8-d562-bb51b78848c2"
      },
      "source": [
        "bool(\"0\") # Dolu bir string olduğu için True verir"
      ],
      "execution_count": null,
      "outputs": [
        {
          "output_type": "execute_result",
          "data": {
            "text/plain": [
              "True"
            ]
          },
          "metadata": {},
          "execution_count": 3
        }
      ]
    },
    {
      "cell_type": "code",
      "metadata": {
        "colab": {
          "base_uri": "https://localhost:8080/"
        },
        "id": "NIuAnIsjPlB9",
        "outputId": "dd58a053-8759-4b73-bebe-79a6740fc0b3"
      },
      "source": [
        "bool([])"
      ],
      "execution_count": null,
      "outputs": [
        {
          "output_type": "execute_result",
          "data": {
            "text/plain": [
              "False"
            ]
          },
          "metadata": {},
          "execution_count": 4
        }
      ]
    },
    {
      "cell_type": "code",
      "metadata": {
        "colab": {
          "base_uri": "https://localhost:8080/"
        },
        "id": "NmuSNilbPlI1",
        "outputId": "5d40af7c-bbcc-4cbb-b9de-51ba6232be7f"
      },
      "source": [
        "bool(0)"
      ],
      "execution_count": null,
      "outputs": [
        {
          "output_type": "execute_result",
          "data": {
            "text/plain": [
              "False"
            ]
          },
          "metadata": {},
          "execution_count": 5
        }
      ]
    },
    {
      "cell_type": "code",
      "metadata": {
        "colab": {
          "base_uri": "https://localhost:8080/"
        },
        "id": "fZS2jgt5PlOs",
        "outputId": "fa3565a4-7dfd-4f32-dea9-160b423118ab"
      },
      "source": [
        "bool(1)"
      ],
      "execution_count": null,
      "outputs": [
        {
          "output_type": "execute_result",
          "data": {
            "text/plain": [
              "True"
            ]
          },
          "metadata": {},
          "execution_count": 6
        }
      ]
    },
    {
      "cell_type": "code",
      "metadata": {
        "colab": {
          "base_uri": "https://localhost:8080/"
        },
        "id": "rMFtPfxZPlUr",
        "outputId": "11eeac40-e255-496e-c1ca-4845431b5421"
      },
      "source": [
        "print(2 and 3)"
      ],
      "execution_count": null,
      "outputs": [
        {
          "output_type": "stream",
          "name": "stdout",
          "text": [
            "3\n"
          ]
        }
      ]
    },
    {
      "cell_type": "code",
      "metadata": {
        "colab": {
          "base_uri": "https://localhost:8080/"
        },
        "id": "oag5vGpIPlad",
        "outputId": "2a53a4e0-b7e1-4dc9-8ff7-18a3cd5eb3de"
      },
      "source": [
        "print(1 and 0) # Sonuç False değil"
      ],
      "execution_count": null,
      "outputs": [
        {
          "output_type": "stream",
          "name": "stdout",
          "text": [
            "0\n"
          ]
        }
      ]
    },
    {
      "cell_type": "code",
      "metadata": {
        "colab": {
          "base_uri": "https://localhost:8080/",
          "height": 35
        },
        "id": "kfT_Jw6EPlgV",
        "outputId": "80e4ec32-0d38-47b4-a5d5-d7929eb3447b"
      },
      "source": [
        "\"\" and 0\n",
        "# False olanların ilkini döndürür.\n",
        "# Sonucun illa True veya False olması zorunluluğu yok."
      ],
      "execution_count": null,
      "outputs": [
        {
          "output_type": "execute_result",
          "data": {
            "application/vnd.google.colaboratory.intrinsic+json": {
              "type": "string"
            },
            "text/plain": [
              "''"
            ]
          },
          "metadata": {},
          "execution_count": 10
        }
      ]
    },
    {
      "cell_type": "code",
      "metadata": {
        "colab": {
          "base_uri": "https://localhost:8080/"
        },
        "id": "0FwmZnrAPlmr",
        "outputId": "d1be16d5-267f-4ab8-d027-38706ca3702d"
      },
      "source": [
        "print(2 and \"hello world!\")\n",
        "print([] and \"be happy!\")\n",
        "print(None and ())\n"
      ],
      "execution_count": null,
      "outputs": [
        {
          "output_type": "stream",
          "name": "stdout",
          "text": [
            "hello world!\n",
            "[]\n",
            "None\n"
          ]
        }
      ]
    },
    {
      "cell_type": "code",
      "metadata": {
        "colab": {
          "base_uri": "https://localhost:8080/"
        },
        "id": "6X9mYkiUPlsj",
        "outputId": "9938275b-e4b9-4a44-9d38-2ad739ed7316"
      },
      "source": [
        "print(2 or 3) # True olanların ilkini döndürür."
      ],
      "execution_count": null,
      "outputs": [
        {
          "output_type": "stream",
          "name": "stdout",
          "text": [
            "2\n"
          ]
        }
      ]
    },
    {
      "cell_type": "code",
      "metadata": {
        "colab": {
          "base_uri": "https://localhost:8080/"
        },
        "id": "I4nhCcWnVxcM",
        "outputId": "b814cd36-d7a8-4d44-916f-d6fed55992de"
      },
      "source": [
        "print(None or 1) # True olanların ilkini döndürür."
      ],
      "execution_count": null,
      "outputs": [
        {
          "output_type": "stream",
          "name": "stdout",
          "text": [
            "1\n"
          ]
        }
      ]
    },
    {
      "cell_type": "code",
      "metadata": {
        "colab": {
          "base_uri": "https://localhost:8080/"
        },
        "id": "jGUzp4AAVxlg",
        "outputId": "52cff200-88d3-4111-fa6d-f93ca38212e6"
      },
      "source": [
        "print(2 or \"hello world!\")\n",
        "print([] or \"be happy!\")\n",
        "print(None or ())\n",
        "print({} or 0)\n",
        "print({0} or False) # İlki dolu bir dictionary"
      ],
      "execution_count": null,
      "outputs": [
        {
          "output_type": "stream",
          "name": "stdout",
          "text": [
            "2\n",
            "be happy!\n",
            "()\n",
            "0\n",
            "{0}\n"
          ]
        }
      ]
    },
    {
      "cell_type": "code",
      "metadata": {
        "colab": {
          "base_uri": "https://localhost:8080/"
        },
        "id": "qixLUpz4Vxrr",
        "outputId": "e5bde691-f4a1-4ffb-a7b9-22b5ae55d65c"
      },
      "source": [
        "kadayıf = True\n",
        "\n",
        "#iç\n",
        "fındık = True\n",
        "fıstık = True\n",
        "ceviz = True\n",
        "\n",
        "#şerbet\n",
        "su = True\n",
        "şeker = True\n",
        "\n",
        "yumurta = True\n",
        "\n",
        "# içecek\n",
        "çay = True\n",
        "meşrubat = True\n",
        "limonata = True\n",
        "\n",
        "yedim = kadayıf and (fındık or fıstık or ceviz and (su and şeker) and yumurta) and (çay or meşrubat or limonata)\n",
        "yedim"
      ],
      "execution_count": null,
      "outputs": [
        {
          "output_type": "execute_result",
          "data": {
            "text/plain": [
              "True"
            ]
          },
          "metadata": {},
          "execution_count": 21
        }
      ]
    },
    {
      "cell_type": "code",
      "metadata": {
        "colab": {
          "base_uri": "https://localhost:8080/",
          "height": 35
        },
        "id": "Vm7bYKFKVxxN",
        "outputId": "c7df9b9f-580a-4eec-828d-82a815e9e412"
      },
      "source": [
        "\"&% ,ali veli deli-12345\" # bu bir string"
      ],
      "execution_count": null,
      "outputs": [
        {
          "output_type": "execute_result",
          "data": {
            "application/vnd.google.colaboratory.intrinsic+json": {
              "type": "string"
            },
            "text/plain": [
              "'&% ,ali veli deli-12345'"
            ]
          },
          "metadata": {},
          "execution_count": 23
        }
      ]
    },
    {
      "cell_type": "code",
      "metadata": {
        "colab": {
          "base_uri": "https://localhost:8080/",
          "height": 35
        },
        "id": "1MBVy4dIVx2U",
        "outputId": "7268132d-76b0-450d-979b-589a5e1239ce"
      },
      "source": [
        "\"clarus\"[0]"
      ],
      "execution_count": null,
      "outputs": [
        {
          "output_type": "execute_result",
          "data": {
            "application/vnd.google.colaboratory.intrinsic+json": {
              "type": "string"
            },
            "text/plain": [
              "'c'"
            ]
          },
          "metadata": {},
          "execution_count": 24
        }
      ]
    },
    {
      "cell_type": "code",
      "metadata": {
        "colab": {
          "base_uri": "https://localhost:8080/",
          "height": 35
        },
        "id": "9YTMV9R6Vx7b",
        "outputId": "1dd8412d-5d8c-4a54-f28a-12b1299d5e2b"
      },
      "source": [
        "\"clarus\"[5] # indexleme"
      ],
      "execution_count": null,
      "outputs": [
        {
          "output_type": "execute_result",
          "data": {
            "application/vnd.google.colaboratory.intrinsic+json": {
              "type": "string"
            },
            "text/plain": [
              "'s'"
            ]
          },
          "metadata": {},
          "execution_count": 25
        }
      ]
    },
    {
      "cell_type": "code",
      "metadata": {
        "colab": {
          "base_uri": "https://localhost:8080/",
          "height": 35
        },
        "id": "DbqfUiC_VyAj",
        "outputId": "24069244-5769-4cc6-f1c3-4d720560356d"
      },
      "source": [
        "okul = \"clarus\"\n",
        "okul"
      ],
      "execution_count": null,
      "outputs": [
        {
          "output_type": "execute_result",
          "data": {
            "application/vnd.google.colaboratory.intrinsic+json": {
              "type": "string"
            },
            "text/plain": [
              "'clarus'"
            ]
          },
          "metadata": {},
          "execution_count": 26
        }
      ]
    },
    {
      "cell_type": "code",
      "metadata": {
        "colab": {
          "base_uri": "https://localhost:8080/",
          "height": 35
        },
        "id": "dmQWNLRtVyF0",
        "outputId": "4b4cac9c-d64f-46d2-c841-2c066f1d80f4"
      },
      "source": [
        "okul[5]"
      ],
      "execution_count": null,
      "outputs": [
        {
          "output_type": "execute_result",
          "data": {
            "application/vnd.google.colaboratory.intrinsic+json": {
              "type": "string"
            },
            "text/plain": [
              "'s'"
            ]
          },
          "metadata": {},
          "execution_count": 27
        }
      ]
    },
    {
      "cell_type": "code",
      "metadata": {
        "colab": {
          "base_uri": "https://localhost:8080/",
          "height": 35
        },
        "id": "IEAJkps-VyLJ",
        "outputId": "7c75cf7f-91f3-4a55-9676-b7016226e1f1"
      },
      "source": [
        "okul[2:4] # slicing"
      ],
      "execution_count": null,
      "outputs": [
        {
          "output_type": "execute_result",
          "data": {
            "application/vnd.google.colaboratory.intrinsic+json": {
              "type": "string"
            },
            "text/plain": [
              "'ar'"
            ]
          },
          "metadata": {},
          "execution_count": 31
        }
      ]
    },
    {
      "cell_type": "code",
      "metadata": {
        "colab": {
          "base_uri": "https://localhost:8080/"
        },
        "id": "ZYWEJN0IVyQU",
        "outputId": "ba267272-4074-409a-eed0-73288adc691f"
      },
      "source": [
        "fruit = 'Orange'\n",
        "\n",
        "print('Word                   : ' , fruit)\n",
        "print('First letter           : ' , fruit[0])\n",
        "print('Second letter          : ' , fruit[1])\n",
        "print(\"3rd to 5th letters     : \" , fruit[2:5])\n",
        "print(\"Letter all after 3rd   : \" , fruit[2:])"
      ],
      "execution_count": null,
      "outputs": [
        {
          "output_type": "stream",
          "name": "stdout",
          "text": [
            "Word                   :  Orange\n",
            "First letter           :  O\n",
            "Second letter          :  r\n",
            "3rd to 5th letters     :  ang\n",
            "Letter all after 3rd   :  ange\n"
          ]
        }
      ]
    },
    {
      "cell_type": "code",
      "metadata": {
        "colab": {
          "base_uri": "https://localhost:8080/",
          "height": 35
        },
        "id": "qDE40dj0oR8C",
        "outputId": "a82460f5-04d6-45d7-c09f-3b4a6b339c1b"
      },
      "source": [
        "okul[:] # en baştan başla en sona kadar yazdır"
      ],
      "execution_count": null,
      "outputs": [
        {
          "output_type": "execute_result",
          "data": {
            "application/vnd.google.colaboratory.intrinsic+json": {
              "type": "string"
            },
            "text/plain": [
              "'clarus'"
            ]
          },
          "metadata": {},
          "execution_count": 33
        }
      ]
    },
    {
      "cell_type": "code",
      "metadata": {
        "colab": {
          "base_uri": "https://localhost:8080/"
        },
        "id": "fyLpuUcjoe8k",
        "outputId": "40fcc12e-8472-4e17-d729-a8244a832623"
      },
      "source": [
        "city = 'Phoenix'\n",
        "\n",
        "print(city[1:])  # starts from index 1 to the end\n",
        "print(city[:6])  # starts from zero to 5th index\n",
        "print(city[::2])  # starts from zero to end by 2 step\n",
        "print(city[1::2])  # starts from index 1 to the end by 2 step\n",
        "print(city[-3:])  # starts from index -3 to the end\n",
        "print(city[::-1])  # negative step starts from the end to zero\n",
        "\n",
        "# [start:stop:step]"
      ],
      "execution_count": null,
      "outputs": [
        {
          "output_type": "stream",
          "name": "stdout",
          "text": [
            "hoenix\n",
            "Phoeni\n",
            "Ponx\n",
            "hei\n",
            "nix\n",
            "xineohP\n"
          ]
        }
      ]
    },
    {
      "cell_type": "code",
      "metadata": {
        "colab": {
          "base_uri": "https://localhost:8080/"
        },
        "id": "nipVXV0LogcC",
        "outputId": "7197138b-524a-494a-a012-ccf73745cebb"
      },
      "source": [
        "fruit = 'orange'\n",
        "print(fruit[-5:-2])"
      ],
      "execution_count": null,
      "outputs": [
        {
          "output_type": "stream",
          "name": "stdout",
          "text": [
            "ran\n"
          ]
        }
      ]
    },
    {
      "cell_type": "code",
      "metadata": {
        "colab": {
          "base_uri": "https://localhost:8080/",
          "height": 35
        },
        "id": "aE3bKF_Hogk5",
        "outputId": "b6757b8e-7ced-4b91-9ce3-f4d4e93d79f0"
      },
      "source": [
        "kuş = 'phoenix'\n",
        "kuş[1:4]"
      ],
      "execution_count": null,
      "outputs": [
        {
          "output_type": "execute_result",
          "data": {
            "application/vnd.google.colaboratory.intrinsic+json": {
              "type": "string"
            },
            "text/plain": [
              "'hoe'"
            ]
          },
          "metadata": {},
          "execution_count": 38
        }
      ]
    },
    {
      "cell_type": "code",
      "metadata": {
        "colab": {
          "base_uri": "https://localhost:8080/",
          "height": 35
        },
        "id": "8EGrSWvyoguR",
        "outputId": "3e2380ee-b145-4724-8cb4-21fe15a0328a"
      },
      "source": [
        "kuş[-6:-3]\n"
      ],
      "execution_count": null,
      "outputs": [
        {
          "output_type": "execute_result",
          "data": {
            "application/vnd.google.colaboratory.intrinsic+json": {
              "type": "string"
            },
            "text/plain": [
              "'hoe'"
            ]
          },
          "metadata": {},
          "execution_count": 39
        }
      ]
    },
    {
      "cell_type": "code",
      "metadata": {
        "colab": {
          "base_uri": "https://localhost:8080/",
          "height": 35
        },
        "id": "rA1AuhVSog0b",
        "outputId": "0ca5f55c-4bca-403d-a691-b3bde93e692b"
      },
      "source": [
        "kuş[1:-3] # negatif ve pozitif indexleri birlikte kullanabiliyoruz"
      ],
      "execution_count": null,
      "outputs": [
        {
          "output_type": "execute_result",
          "data": {
            "application/vnd.google.colaboratory.intrinsic+json": {
              "type": "string"
            },
            "text/plain": [
              "'hoe'"
            ]
          },
          "metadata": {},
          "execution_count": 40
        }
      ]
    },
    {
      "cell_type": "code",
      "metadata": {
        "colab": {
          "base_uri": "https://localhost:8080/",
          "height": 35
        },
        "id": "2BFMQi7Rog6J",
        "outputId": "ee52e567-96aa-4193-cd3d-a8e214ba6f09"
      },
      "source": [
        "kuş[-6:4] # negatif ve pozitif indexleri birlikte kullanabiliyoruz"
      ],
      "execution_count": null,
      "outputs": [
        {
          "output_type": "execute_result",
          "data": {
            "application/vnd.google.colaboratory.intrinsic+json": {
              "type": "string"
            },
            "text/plain": [
              "'hoe'"
            ]
          },
          "metadata": {},
          "execution_count": 41
        }
      ]
    },
    {
      "cell_type": "code",
      "metadata": {
        "colab": {
          "base_uri": "https://localhost:8080/",
          "height": 35
        },
        "id": "xdMOQU-Vog_7",
        "outputId": "743320a3-f1c0-44ac-fb4c-30d0b1433075"
      },
      "source": [
        "kuş[::-1]"
      ],
      "execution_count": null,
      "outputs": [
        {
          "output_type": "execute_result",
          "data": {
            "application/vnd.google.colaboratory.intrinsic+json": {
              "type": "string"
            },
            "text/plain": [
              "'xineohp'"
            ]
          },
          "metadata": {},
          "execution_count": 42
        }
      ]
    },
    {
      "cell_type": "code",
      "metadata": {
        "colab": {
          "base_uri": "https://localhost:8080/",
          "height": 35
        },
        "id": "yKh0wCWFohEz",
        "outputId": "295bc79b-e64f-48d1-b71f-68cf4cddfc79"
      },
      "source": [
        "kuş[-3:]"
      ],
      "execution_count": null,
      "outputs": [
        {
          "output_type": "execute_result",
          "data": {
            "application/vnd.google.colaboratory.intrinsic+json": {
              "type": "string"
            },
            "text/plain": [
              "'nix'"
            ]
          },
          "metadata": {},
          "execution_count": 43
        }
      ]
    },
    {
      "cell_type": "code",
      "metadata": {
        "colab": {
          "base_uri": "https://localhost:8080/"
        },
        "id": "_1CLEJ8pohJk",
        "outputId": "b019b263-63b6-4b3a-cfbd-4597f7be7ed8"
      },
      "source": [
        "animal = \"hippopotamus\"\n",
        "\n",
        "print(animal[1:])\n",
        "print(animal[:6])\n",
        "print(animal[::2])\n",
        "print(animal[1:7:2])\n",
        "print(animal[-3:])\n",
        "print(animal[::-1])"
      ],
      "execution_count": null,
      "outputs": [
        {
          "output_type": "stream",
          "name": "stdout",
          "text": [
            "ippopotamus\n",
            "hippop\n",
            "hpooau\n",
            "ipp\n",
            "mus\n",
            "sumatopoppih\n"
          ]
        }
      ]
    },
    {
      "cell_type": "code",
      "metadata": {
        "colab": {
          "base_uri": "https://localhost:8080/"
        },
        "id": "__nK5AFIohOE",
        "outputId": "000e1baf-df3c-42a4-bd81-59d06bbce4a1"
      },
      "source": [
        "vegetable = 'Tomato'\n",
        "print('length of the word', vegetable, 'is :', len(vegetable))"
      ],
      "execution_count": null,
      "outputs": [
        {
          "output_type": "stream",
          "name": "stdout",
          "text": [
            "length of the word Tomato is : 6\n"
          ]
        }
      ]
    },
    {
      "cell_type": "code",
      "metadata": {
        "colab": {
          "base_uri": "https://localhost:8080/",
          "height": 35
        },
        "id": "l4k-vgWJohSj",
        "outputId": "3dd2db76-4379-4c5f-e877-13db6daf303c"
      },
      "source": [
        "isim = \"clarusway okulu\"\n",
        "isim"
      ],
      "execution_count": null,
      "outputs": [
        {
          "output_type": "execute_result",
          "data": {
            "application/vnd.google.colaboratory.intrinsic+json": {
              "type": "string"
            },
            "text/plain": [
              "'clarusway okulu'"
            ]
          },
          "metadata": {},
          "execution_count": 47
        }
      ]
    },
    {
      "cell_type": "code",
      "metadata": {
        "colab": {
          "base_uri": "https://localhost:8080/",
          "height": 35
        },
        "id": "nmagnpgwohXi",
        "outputId": "9e529cd5-e68d-4265-fc91-0205ab9e1317"
      },
      "source": [
        "isim[3:7]"
      ],
      "execution_count": null,
      "outputs": [
        {
          "output_type": "execute_result",
          "data": {
            "application/vnd.google.colaboratory.intrinsic+json": {
              "type": "string"
            },
            "text/plain": [
              "'rusw'"
            ]
          },
          "metadata": {},
          "execution_count": 48
        }
      ]
    },
    {
      "cell_type": "code",
      "metadata": {
        "colab": {
          "base_uri": "https://localhost:8080/",
          "height": 35
        },
        "id": "hzExQAI3VyU2",
        "outputId": "cf2dbb03-bb62-4064-d68d-acc0b10480c7"
      },
      "source": [
        "isim[9]"
      ],
      "execution_count": null,
      "outputs": [
        {
          "output_type": "execute_result",
          "data": {
            "application/vnd.google.colaboratory.intrinsic+json": {
              "type": "string"
            },
            "text/plain": [
              "' '"
            ]
          },
          "metadata": {},
          "execution_count": 49
        }
      ]
    },
    {
      "cell_type": "code",
      "metadata": {
        "colab": {
          "base_uri": "https://localhost:8080/",
          "height": 35
        },
        "id": "keNhTBf52HhZ",
        "outputId": "4f5beaef-3148-4dd8-cd7a-52c0e46e8aa8"
      },
      "source": [
        "isim[::2]"
      ],
      "execution_count": null,
      "outputs": [
        {
          "output_type": "execute_result",
          "data": {
            "application/vnd.google.colaboratory.intrinsic+json": {
              "type": "string"
            },
            "text/plain": [
              "'cauwyouu'"
            ]
          },
          "metadata": {},
          "execution_count": 50
        }
      ]
    },
    {
      "cell_type": "code",
      "metadata": {
        "colab": {
          "base_uri": "https://localhost:8080/",
          "height": 35
        },
        "id": "U2TQ8mkg2HvV",
        "outputId": "646b11a7-d778-4692-d1fe-4c1b6efb79ed"
      },
      "source": [
        "isim[::]"
      ],
      "execution_count": null,
      "outputs": [
        {
          "output_type": "execute_result",
          "data": {
            "application/vnd.google.colaboratory.intrinsic+json": {
              "type": "string"
            },
            "text/plain": [
              "'clarusway okulu'"
            ]
          },
          "metadata": {},
          "execution_count": 51
        }
      ]
    },
    {
      "cell_type": "code",
      "metadata": {
        "colab": {
          "base_uri": "https://localhost:8080/",
          "height": 35
        },
        "id": "2_vV9upO2KLF",
        "outputId": "99e2d790-4e8a-4538-ffde-9f614fbf8c83"
      },
      "source": [
        "isim[::-1]"
      ],
      "execution_count": null,
      "outputs": [
        {
          "output_type": "execute_result",
          "data": {
            "application/vnd.google.colaboratory.intrinsic+json": {
              "type": "string"
            },
            "text/plain": [
              "'uluko yawsuralc'"
            ]
          },
          "metadata": {},
          "execution_count": 52
        }
      ]
    },
    {
      "cell_type": "code",
      "metadata": {
        "colab": {
          "base_uri": "https://localhost:8080/",
          "height": 35
        },
        "id": "BX09bN4A2KRV",
        "outputId": "de002624-2753-484a-d744-0b4985cd353a"
      },
      "source": [
        "isim[-12:10:]"
      ],
      "execution_count": null,
      "outputs": [
        {
          "output_type": "execute_result",
          "data": {
            "application/vnd.google.colaboratory.intrinsic+json": {
              "type": "string"
            },
            "text/plain": [
              "'rusway '"
            ]
          },
          "metadata": {},
          "execution_count": 53
        }
      ]
    },
    {
      "cell_type": "code",
      "metadata": {
        "colab": {
          "base_uri": "https://localhost:8080/",
          "height": 35
        },
        "id": "_nuo-m3s2KWi",
        "outputId": "7f6a49ed-0d2d-46ab-9439-316386634247"
      },
      "source": [
        "isim[-12:-5:-1] # sağdan sola gidemediği için boş string döndürdü"
      ],
      "execution_count": null,
      "outputs": [
        {
          "output_type": "execute_result",
          "data": {
            "application/vnd.google.colaboratory.intrinsic+json": {
              "type": "string"
            },
            "text/plain": [
              "''"
            ]
          },
          "metadata": {},
          "execution_count": 54
        }
      ]
    },
    {
      "cell_type": "code",
      "metadata": {
        "colab": {
          "base_uri": "https://localhost:8080/",
          "height": 35
        },
        "id": "2gus9JVG2Kbo",
        "outputId": "27c8c019-d449-4974-f0a0-2e494440388d"
      },
      "source": [
        "isim[-3:-11:-1]"
      ],
      "execution_count": null,
      "outputs": [
        {
          "output_type": "execute_result",
          "data": {
            "application/vnd.google.colaboratory.intrinsic+json": {
              "type": "string"
            },
            "text/plain": [
              "'uko yaws'"
            ]
          },
          "metadata": {},
          "execution_count": 56
        }
      ]
    },
    {
      "cell_type": "code",
      "metadata": {
        "colab": {
          "base_uri": "https://localhost:8080/",
          "height": 35
        },
        "id": "eea6pgpK2KgY",
        "outputId": "3b72dd74-10f8-42cd-ef5d-86f1b9917b6f"
      },
      "source": [
        "isim[12:6] # soldan sağa gidemediği için boş string döndürdü"
      ],
      "execution_count": null,
      "outputs": [
        {
          "output_type": "execute_result",
          "data": {
            "application/vnd.google.colaboratory.intrinsic+json": {
              "type": "string"
            },
            "text/plain": [
              "''"
            ]
          },
          "metadata": {},
          "execution_count": 57
        }
      ]
    }
  ]
}