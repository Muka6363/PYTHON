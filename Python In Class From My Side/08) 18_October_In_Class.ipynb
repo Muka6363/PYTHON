{
  "nbformat": 4,
  "nbformat_minor": 0,
  "metadata": {
    "colab": {
      "name": "18_October_In_Class.ipynb",
      "provenance": [],
      "collapsed_sections": []
    },
    "kernelspec": {
      "name": "python3",
      "display_name": "Python 3"
    },
    "language_info": {
      "name": "python"
    }
  },
  "cells": [
    {
      "cell_type": "code",
      "metadata": {
        "colab": {
          "base_uri": "https://localhost:8080/",
          "height": 35
        },
        "id": "0xyuGh_wXkAx",
        "outputId": "bfc3cd69-afbe-41f9-bdf7-c87b15e60c31"
      },
      "source": [
        "string = \"ali\"\n",
        "string.upper()"
      ],
      "execution_count": null,
      "outputs": [
        {
          "output_type": "execute_result",
          "data": {
            "application/vnd.google.colaboratory.intrinsic+json": {
              "type": "string"
            },
            "text/plain": [
              "'ALI'"
            ]
          },
          "metadata": {},
          "execution_count": 2
        }
      ]
    },
    {
      "cell_type": "code",
      "metadata": {
        "colab": {
          "base_uri": "https://localhost:8080/",
          "height": 35
        },
        "id": "TzcE_MbRYuZa",
        "outputId": "ca2f432e-52af-427d-c0f2-57e52a67199e"
      },
      "source": [
        "string"
      ],
      "execution_count": null,
      "outputs": [
        {
          "output_type": "execute_result",
          "data": {
            "application/vnd.google.colaboratory.intrinsic+json": {
              "type": "string"
            },
            "text/plain": [
              "'ali'"
            ]
          },
          "metadata": {},
          "execution_count": 3
        }
      ]
    },
    {
      "cell_type": "code",
      "metadata": {
        "colab": {
          "base_uri": "https://localhost:8080/"
        },
        "id": "7F60rC93Yu8R",
        "outputId": "d9212e43-91fd-4808-f163-8e27aa8f01c9"
      },
      "source": [
        "string = \"ali\"\n",
        "string = string.upper()\n",
        "print(string)"
      ],
      "execution_count": null,
      "outputs": [
        {
          "output_type": "stream",
          "name": "stdout",
          "text": [
            "ALI\n"
          ]
        }
      ]
    },
    {
      "cell_type": "code",
      "metadata": {
        "id": "4NvfeeeHYvBt"
      },
      "source": [
        "# mutable > değiştirilebilir veri türü"
      ],
      "execution_count": null,
      "outputs": []
    },
    {
      "cell_type": "code",
      "metadata": {
        "colab": {
          "base_uri": "https://localhost:8080/"
        },
        "id": "wwnAMriGYvEZ",
        "outputId": "0a6bfc7a-d653-48d9-cf1b-5bc0f413e46a"
      },
      "source": [
        "colors = ['red', 'purple', 'blue', 'yellow', 'green']\n",
        "print(colors)\n",
        "print(colors[2])  # If we start at zero, \n",
        "# the second element will be 'blue'."
      ],
      "execution_count": null,
      "outputs": [
        {
          "output_type": "stream",
          "name": "stdout",
          "text": [
            "['red', 'purple', 'blue', 'yellow', 'green']\n",
            "blue\n"
          ]
        }
      ]
    },
    {
      "cell_type": "code",
      "metadata": {
        "colab": {
          "base_uri": "https://localhost:8080/"
        },
        "id": "N49CrwN0YvG0",
        "outputId": "2ada4729-c10b-4f0a-82a1-f407972cf439"
      },
      "source": [
        "city = ['New York', 'London', 'Istanbul', 'Seoul', 'Sydney']\n",
        "\n",
        "# print(len(city))\n",
        "\n",
        "city_list = []\n",
        "city_list.append(city) # we have created a nested list\n",
        "\n",
        "print(city_list)\n",
        "print(len(city_list))"
      ],
      "execution_count": null,
      "outputs": [
        {
          "output_type": "stream",
          "name": "stdout",
          "text": [
            "[['New York', 'London', 'Istanbul', 'Seoul', 'Sydney']]\n",
            "1\n"
          ]
        }
      ]
    },
    {
      "cell_type": "code",
      "metadata": {
        "colab": {
          "base_uri": "https://localhost:8080/"
        },
        "id": "CVKCOwKsYvI4",
        "outputId": "2223f837-832c-45a9-f910-7b0497e7709d"
      },
      "source": [
        "city = ['New York', 'London', 'Istanbul', 'Seoul', 'Sydney']\n",
        "city_new = []\n",
        "city_new.append(city)\n",
        "print(city_new)"
      ],
      "execution_count": null,
      "outputs": [
        {
          "output_type": "stream",
          "name": "stdout",
          "text": [
            "[['New York', 'London', 'Istanbul', 'Seoul', 'Sydney']]\n"
          ]
        }
      ]
    },
    {
      "cell_type": "code",
      "metadata": {
        "colab": {
          "base_uri": "https://localhost:8080/"
        },
        "id": "a-F2mPGwYvKt",
        "outputId": "d4f6cafa-a084-43de-9bcf-e996b6b1ef4f"
      },
      "source": [
        "sayılar = []\n",
        "sayılar.append(55)\n",
        "sayılar"
      ],
      "execution_count": null,
      "outputs": [
        {
          "output_type": "execute_result",
          "data": {
            "text/plain": [
              "[55]"
            ]
          },
          "metadata": {},
          "execution_count": 25
        }
      ]
    },
    {
      "cell_type": "code",
      "metadata": {
        "colab": {
          "base_uri": "https://localhost:8080/"
        },
        "id": "H6lykqt1YvNZ",
        "outputId": "592e39cb-b0bd-45cb-f8d8-6edd42700fb9"
      },
      "source": [
        "len(sayılar)"
      ],
      "execution_count": null,
      "outputs": [
        {
          "output_type": "execute_result",
          "data": {
            "text/plain": [
              "1"
            ]
          },
          "metadata": {},
          "execution_count": 26
        }
      ]
    },
    {
      "cell_type": "code",
      "metadata": {
        "colab": {
          "base_uri": "https://localhost:8080/"
        },
        "id": "VtNJixZoYvOw",
        "outputId": "5074eb79-4634-440c-8e83-f947e7c7f6d3"
      },
      "source": [
        "len([[]])"
      ],
      "execution_count": null,
      "outputs": [
        {
          "output_type": "execute_result",
          "data": {
            "text/plain": [
              "1"
            ]
          },
          "metadata": {},
          "execution_count": 27
        }
      ]
    },
    {
      "cell_type": "code",
      "metadata": {
        "colab": {
          "base_uri": "https://localhost:8080/"
        },
        "id": "FBMQ2tN0bOQo",
        "outputId": "88054ab6-399c-4979-a7d4-0a4bd76fa066"
      },
      "source": [
        "len([[[]], [1,2,3]])"
      ],
      "execution_count": null,
      "outputs": [
        {
          "output_type": "execute_result",
          "data": {
            "text/plain": [
              "2"
            ]
          },
          "metadata": {},
          "execution_count": 30
        }
      ]
    },
    {
      "cell_type": "code",
      "metadata": {
        "colab": {
          "base_uri": "https://localhost:8080/"
        },
        "id": "Ymt7W-6bbOU4",
        "outputId": "1221a8d4-2150-463d-fb45-4547e7329d3f"
      },
      "source": [
        "city_new"
      ],
      "execution_count": null,
      "outputs": [
        {
          "output_type": "execute_result",
          "data": {
            "text/plain": [
              "[['New York', 'London', 'Istanbul', 'Seoul', 'Sydney']]"
            ]
          },
          "metadata": {},
          "execution_count": 31
        }
      ]
    },
    {
      "cell_type": "code",
      "metadata": {
        "colab": {
          "base_uri": "https://localhost:8080/"
        },
        "id": "qbOfLB7AbOX3",
        "outputId": "388e08b5-af79-431d-8d98-54fb2f7333fc"
      },
      "source": [
        "city_new[0]"
      ],
      "execution_count": null,
      "outputs": [
        {
          "output_type": "execute_result",
          "data": {
            "text/plain": [
              "['New York', 'London', 'Istanbul', 'Seoul', 'Sydney']"
            ]
          },
          "metadata": {},
          "execution_count": 36
        }
      ]
    },
    {
      "cell_type": "code",
      "metadata": {
        "colab": {
          "base_uri": "https://localhost:8080/"
        },
        "id": "ownRuUxIbOar",
        "outputId": "a1f41012-76d9-479b-bbc7-4c6de6667306"
      },
      "source": [
        "type(city_new[0])"
      ],
      "execution_count": null,
      "outputs": [
        {
          "output_type": "execute_result",
          "data": {
            "text/plain": [
              "list"
            ]
          },
          "metadata": {},
          "execution_count": 37
        }
      ]
    },
    {
      "cell_type": "code",
      "metadata": {
        "colab": {
          "base_uri": "https://localhost:8080/",
          "height": 35
        },
        "id": "O9E2Z5fMbOcp",
        "outputId": "8ea19a66-c137-494f-febf-57309535434c"
      },
      "source": [
        "city_new[0][2]"
      ],
      "execution_count": null,
      "outputs": [
        {
          "output_type": "execute_result",
          "data": {
            "application/vnd.google.colaboratory.intrinsic+json": {
              "type": "string"
            },
            "text/plain": [
              "'Istanbul'"
            ]
          },
          "metadata": {},
          "execution_count": 38
        }
      ]
    },
    {
      "cell_type": "code",
      "metadata": {
        "colab": {
          "base_uri": "https://localhost:8080/"
        },
        "id": "N4i9-D55bOf5",
        "outputId": "74f5db0d-6398-4b03-afb9-43d6c6b85719"
      },
      "source": [
        "type(city_new[0][2])"
      ],
      "execution_count": null,
      "outputs": [
        {
          "output_type": "execute_result",
          "data": {
            "text/plain": [
              "str"
            ]
          },
          "metadata": {},
          "execution_count": 40
        }
      ]
    },
    {
      "cell_type": "code",
      "metadata": {
        "colab": {
          "base_uri": "https://localhost:8080/",
          "height": 35
        },
        "id": "Qh-mRe_DeNbe",
        "outputId": "db7501ce-0a7e-4cbf-f801-aea10a1bdb1f"
      },
      "source": [
        "city_new[0][2][3]"
      ],
      "execution_count": null,
      "outputs": [
        {
          "output_type": "execute_result",
          "data": {
            "application/vnd.google.colaboratory.intrinsic+json": {
              "type": "string"
            },
            "text/plain": [
              "'a'"
            ]
          },
          "metadata": {},
          "execution_count": 42
        }
      ]
    },
    {
      "cell_type": "code",
      "metadata": {
        "colab": {
          "base_uri": "https://localhost:8080/"
        },
        "id": "Vre_R0GoeNel",
        "outputId": "c898886b-cc15-4987-e695-096fb434c232"
      },
      "source": [
        "sayılar[0]"
      ],
      "execution_count": null,
      "outputs": [
        {
          "output_type": "execute_result",
          "data": {
            "text/plain": [
              "55"
            ]
          },
          "metadata": {},
          "execution_count": 43
        }
      ]
    },
    {
      "cell_type": "code",
      "metadata": {
        "colab": {
          "base_uri": "https://localhost:8080/"
        },
        "id": "Ea_DbE82eNhC",
        "outputId": "1d41da77-83cb-4ab3-84c2-7b6303ad4860"
      },
      "source": [
        "type(sayılar[0])"
      ],
      "execution_count": null,
      "outputs": [
        {
          "output_type": "execute_result",
          "data": {
            "text/plain": [
              "int"
            ]
          },
          "metadata": {},
          "execution_count": 44
        }
      ]
    },
    {
      "cell_type": "code",
      "metadata": {
        "colab": {
          "base_uri": "https://localhost:8080/"
        },
        "id": "j9UmQuZZeNi9",
        "outputId": "57135026-cb18-419e-ee23-8387c92c6645"
      },
      "source": [
        "even_numbers = [2, 4, 6, 8, 10, 12, 14]\n",
        "\n",
        "print(even_numbers[2:5])\n",
        "\n",
        "# !!! Listeyi slice'larsan sonuç yine liste olur"
      ],
      "execution_count": null,
      "outputs": [
        {
          "output_type": "stream",
          "name": "stdout",
          "text": [
            "[6, 8, 10]\n"
          ]
        }
      ]
    },
    {
      "cell_type": "code",
      "metadata": {
        "colab": {
          "base_uri": "https://localhost:8080/"
        },
        "id": "MdvdBbkyfnpz",
        "outputId": "dc7da4ec-9d9c-4571-9cf7-4dac77d42c09"
      },
      "source": [
        "odd_numbers = list(range(1,10,2))\n",
        "print(odd_numbers)"
      ],
      "execution_count": null,
      "outputs": [
        {
          "output_type": "stream",
          "name": "stdout",
          "text": [
            "[1, 3, 5, 7, 9]\n"
          ]
        }
      ]
    },
    {
      "cell_type": "code",
      "metadata": {
        "colab": {
          "base_uri": "https://localhost:8080/"
        },
        "id": "1mB_C97_fntb",
        "outputId": "d26f9943-944b-45c8-814f-2a5173e5fc28"
      },
      "source": [
        "range(1,11)"
      ],
      "execution_count": null,
      "outputs": [
        {
          "output_type": "execute_result",
          "data": {
            "text/plain": [
              "range(1, 11)"
            ]
          },
          "metadata": {},
          "execution_count": 50
        }
      ]
    },
    {
      "cell_type": "code",
      "metadata": {
        "colab": {
          "base_uri": "https://localhost:8080/"
        },
        "id": "tVh_n3xUfnw2",
        "outputId": "8e98153a-ba0d-4080-b5df-e4513fb7f60f"
      },
      "source": [
        "sayılarım = list(range(1, 11))\n",
        "sayılarım"
      ],
      "execution_count": null,
      "outputs": [
        {
          "output_type": "execute_result",
          "data": {
            "text/plain": [
              "[1, 2, 3, 4, 5, 6, 7, 8, 9, 10]"
            ]
          },
          "metadata": {},
          "execution_count": 52
        }
      ]
    },
    {
      "cell_type": "code",
      "metadata": {
        "colab": {
          "base_uri": "https://localhost:8080/"
        },
        "id": "zri7_BW-eNkv",
        "outputId": "3b80bd96-a6d5-4942-82e9-3b3a356e9dde"
      },
      "source": [
        "list(range(11))"
      ],
      "execution_count": null,
      "outputs": [
        {
          "output_type": "execute_result",
          "data": {
            "text/plain": [
              "[0, 1, 2, 3, 4, 5, 6, 7, 8, 9, 10]"
            ]
          },
          "metadata": {},
          "execution_count": 53
        }
      ]
    },
    {
      "cell_type": "code",
      "metadata": {
        "colab": {
          "base_uri": "https://localhost:8080/"
        },
        "id": "THOP3FMhk_wQ",
        "outputId": "fba4c7b7-17ad-434e-8402-5f58e4fff860"
      },
      "source": [
        "list(range(10, -1, -1))"
      ],
      "execution_count": null,
      "outputs": [
        {
          "output_type": "execute_result",
          "data": {
            "text/plain": [
              "[10, 9, 8, 7, 6, 5, 4, 3, 2, 1, 0]"
            ]
          },
          "metadata": {},
          "execution_count": 57
        }
      ]
    },
    {
      "cell_type": "code",
      "metadata": {
        "colab": {
          "base_uri": "https://localhost:8080/"
        },
        "id": "Ed1dFQkFk_yr",
        "outputId": "e2b38ec2-1035-4979-986b-ec33d387f191"
      },
      "source": [
        "odd_numbers = list(range(11))\n",
        "\n",
        "print(odd_numbers)\n",
        "print(odd_numbers[1:11:2])"
      ],
      "execution_count": null,
      "outputs": [
        {
          "output_type": "stream",
          "name": "stdout",
          "text": [
            "[0, 1, 2, 3, 4, 5, 6, 7, 8, 9, 10]\n",
            "[1, 3, 5, 7, 9]\n"
          ]
        }
      ]
    },
    {
      "cell_type": "code",
      "metadata": {
        "colab": {
          "base_uri": "https://localhost:8080/"
        },
        "id": "_qM4YZLUk_1E",
        "outputId": "db0b05a0-b8a6-419f-a565-d9dcccf47b64"
      },
      "source": [
        "animals = ['elephant', 'bear', 'fox', 'wolf', 'rabbit', 'deer', 'giraffe']\n",
        "\n",
        "print(animals[:])  # all elements of the list"
      ],
      "execution_count": null,
      "outputs": [
        {
          "output_type": "stream",
          "name": "stdout",
          "text": [
            "['elephant', 'bear', 'fox', 'wolf', 'rabbit', 'deer', 'giraffe']\n"
          ]
        }
      ]
    },
    {
      "cell_type": "code",
      "metadata": {
        "colab": {
          "base_uri": "https://localhost:8080/"
        },
        "id": "UVP78LYKk_3D",
        "outputId": "8cecd85e-2dc1-4095-e1f9-aa4d16c4ea48"
      },
      "source": [
        "animals = ['elephant', 'bear', 'fox', 'wolf', 'rabbit', 'deer', 'giraffe']\n",
        "print(animals[3:])"
      ],
      "execution_count": null,
      "outputs": [
        {
          "output_type": "stream",
          "name": "stdout",
          "text": [
            "['wolf', 'rabbit', 'deer', 'giraffe']\n"
          ]
        }
      ]
    },
    {
      "cell_type": "code",
      "metadata": {
        "colab": {
          "base_uri": "https://localhost:8080/"
        },
        "id": "F5SXnAkdk_5r",
        "outputId": "6efff830-da8d-44ec-b573-7f2fc98ed99a"
      },
      "source": [
        "animals = ['elephant', 'bear', 'fox', 'wolf', 'rabbit', 'deer', 'giraffe']\n",
        "print(animals[:5])"
      ],
      "execution_count": null,
      "outputs": [
        {
          "output_type": "stream",
          "name": "stdout",
          "text": [
            "['elephant', 'bear', 'fox', 'wolf', 'rabbit']\n"
          ]
        }
      ]
    },
    {
      "cell_type": "code",
      "metadata": {
        "colab": {
          "base_uri": "https://localhost:8080/"
        },
        "id": "e_NQ0BE-k_7t",
        "outputId": "0bc22572-1fb3-452a-862e-f0623e80a5e2"
      },
      "source": [
        "animals = ['elephant', 'bear', 'fox', 'wolf', 'rabbit', 'deer', 'giraffe']\n",
        "print(animals[::2])"
      ],
      "execution_count": null,
      "outputs": [
        {
          "output_type": "stream",
          "name": "stdout",
          "text": [
            "['elephant', 'fox', 'rabbit', 'giraffe']\n"
          ]
        }
      ]
    },
    {
      "cell_type": "code",
      "metadata": {
        "colab": {
          "base_uri": "https://localhost:8080/"
        },
        "id": "cT_uzSUHl1WY",
        "outputId": "b32cbe68-19c4-43be-9fed-804cf6e75d8f"
      },
      "source": [
        "mix_list = [1, [1, \"one\", 2, \"two\", 3, \"three\"], 4]\n",
        "print([mix_list[1][1], mix_list[1][3], mix_list[1][5]])\n",
        "print(mix_list[1][1:6:2])\n",
        "print(mix_list[1][1::2])"
      ],
      "execution_count": null,
      "outputs": [
        {
          "output_type": "stream",
          "name": "stdout",
          "text": [
            "['one', 'two', 'three']\n",
            "['one', 'two', 'three']\n",
            "['one', 'two', 'three']\n"
          ]
        }
      ]
    },
    {
      "cell_type": "code",
      "metadata": {
        "colab": {
          "base_uri": "https://localhost:8080/"
        },
        "id": "y8ra2GY8l1ZH",
        "outputId": "7786d2a2-ef50-4e9f-9f1f-372ffa48d384"
      },
      "source": [
        "city = ['New York', 'London', 'Istanbul', 'Seoul', 'Sydney']\n",
        "print(city[-4])"
      ],
      "execution_count": null,
      "outputs": [
        {
          "output_type": "stream",
          "name": "stdout",
          "text": [
            "London\n"
          ]
        }
      ]
    },
    {
      "cell_type": "code",
      "metadata": {
        "colab": {
          "base_uri": "https://localhost:8080/"
        },
        "id": "JyBA2Upol1b6",
        "outputId": "a23185a1-e148-4534-c7fc-cd39f5886c91"
      },
      "source": [
        "reef = ['swordfish', 'shark', 'whale', 'jellyfish', 'lobster', 'squid', 'octopus']\n",
        "print(reef[-3:])"
      ],
      "execution_count": null,
      "outputs": [
        {
          "output_type": "stream",
          "name": "stdout",
          "text": [
            "['lobster', 'squid', 'octopus']\n"
          ]
        }
      ]
    },
    {
      "cell_type": "code",
      "metadata": {
        "colab": {
          "base_uri": "https://localhost:8080/"
        },
        "id": "3FHROisul1d4",
        "outputId": "82c703e5-2af7-414e-b7e2-c6ad0162c015"
      },
      "source": [
        "reef = ['swordfish', 'shark', 'whale', 'jellyfish', 'lobster', 'squid', 'octopus']\n",
        "print(reef[:-3])"
      ],
      "execution_count": null,
      "outputs": [
        {
          "output_type": "stream",
          "name": "stdout",
          "text": [
            "['swordfish', 'shark', 'whale', 'jellyfish']\n"
          ]
        }
      ]
    },
    {
      "cell_type": "code",
      "metadata": {
        "colab": {
          "base_uri": "https://localhost:8080/"
        },
        "id": "W8cqhXPOnhUn",
        "outputId": "a9f063d9-e451-42e9-dee8-115ee3d9e227"
      },
      "source": [
        "reef = ['swordfish', 'shark', 'whale', 'jellyfish', 'lobster', 'squid', 'octopus']\n",
        "print(reef[::-1])  # we have produced the reverse of the list"
      ],
      "execution_count": null,
      "outputs": [
        {
          "output_type": "stream",
          "name": "stdout",
          "text": [
            "['octopus', 'squid', 'lobster', 'jellyfish', 'whale', 'shark', 'swordfish']\n"
          ]
        }
      ]
    },
    {
      "cell_type": "code",
      "metadata": {
        "colab": {
          "base_uri": "https://localhost:8080/"
        },
        "id": "qwXk8T_1nhXX",
        "outputId": "30165129-4f98-4818-bedd-cb1fba291c90"
      },
      "source": [
        "reef = ['swordfish', 'shark', 'whale', 'jellyfish', 'lobster', 'squid', 'octopus']\n",
        "print(reef[::-2])"
      ],
      "execution_count": null,
      "outputs": [
        {
          "output_type": "stream",
          "name": "stdout",
          "text": [
            "['octopus', 'lobster', 'whale', 'swordfish']\n"
          ]
        }
      ]
    },
    {
      "cell_type": "code",
      "metadata": {
        "colab": {
          "base_uri": "https://localhost:8080/"
        },
        "id": "3tXAg7rInhZC",
        "outputId": "2122bd6b-1899-4b78-b7df-11c6f3a94383"
      },
      "source": [
        "letters = [\"a\", \"b\", \"c\", \"d\", \"e\", \"f\", \"g\", \"h\", \"i\", \"j\"]\n",
        "\n",
        "print(letters[7:3:-1])\n",
        "print(letters[2:6:-1])"
      ],
      "execution_count": null,
      "outputs": [
        {
          "output_type": "stream",
          "name": "stdout",
          "text": [
            "['h', 'g', 'f', 'e']\n",
            "[]\n"
          ]
        }
      ]
    },
    {
      "cell_type": "code",
      "metadata": {
        "colab": {
          "base_uri": "https://localhost:8080/"
        },
        "id": "t-Ieuciqsqu1",
        "outputId": "fa80a196-b2cb-4358-93e0-ce4870c6791f"
      },
      "source": [
        "import sys\n",
        "x = [1, 2, 3]\n",
        "y = (1, 2, 3)\n",
        "print(sys.getsizeof(x))\n",
        "print(sys.getsizeof(y))"
      ],
      "execution_count": null,
      "outputs": [
        {
          "output_type": "stream",
          "name": "stdout",
          "text": [
            "96\n",
            "80\n"
          ]
        }
      ]
    },
    {
      "cell_type": "code",
      "metadata": {
        "colab": {
          "base_uri": "https://localhost:8080/"
        },
        "id": "bLjQo-D-sqxj",
        "outputId": "cd7fa895-b158-4475-8d64-85a4d6cd7733"
      },
      "source": [
        "my_tuple = (\"Solar\")\n",
        "\n",
        "print(my_tuple, type(my_tuple), sep=\"\\n\" )"
      ],
      "execution_count": null,
      "outputs": [
        {
          "output_type": "stream",
          "name": "stdout",
          "text": [
            "Solar\n",
            "<class 'str'>\n"
          ]
        }
      ]
    },
    {
      "cell_type": "code",
      "metadata": {
        "colab": {
          "base_uri": "https://localhost:8080/"
        },
        "id": "-TmpQLWIsqz2",
        "outputId": "58132b13-5b24-470a-d0ef-39162d73549d"
      },
      "source": [
        "a = 1, 2, 3\n",
        "type(a)"
      ],
      "execution_count": null,
      "outputs": [
        {
          "output_type": "execute_result",
          "data": {
            "text/plain": [
              "tuple"
            ]
          },
          "metadata": {},
          "execution_count": 87
        }
      ]
    },
    {
      "cell_type": "code",
      "metadata": {
        "colab": {
          "base_uri": "https://localhost:8080/"
        },
        "id": "tKMfuuFBsq2H",
        "outputId": "a943a179-a218-4680-8423-41d96be4865e"
      },
      "source": [
        "b = 1\n",
        "type(b)"
      ],
      "execution_count": null,
      "outputs": [
        {
          "output_type": "execute_result",
          "data": {
            "text/plain": [
              "int"
            ]
          },
          "metadata": {},
          "execution_count": 88
        }
      ]
    },
    {
      "cell_type": "code",
      "metadata": {
        "colab": {
          "base_uri": "https://localhost:8080/"
        },
        "id": "vvOHVwI1sq4X",
        "outputId": "76f0056d-a2bc-4bd7-81e5-0bd06a39246d"
      },
      "source": [
        "c = 1,\n",
        "type(c)"
      ],
      "execution_count": null,
      "outputs": [
        {
          "output_type": "execute_result",
          "data": {
            "text/plain": [
              "tuple"
            ]
          },
          "metadata": {},
          "execution_count": 89
        }
      ]
    },
    {
      "cell_type": "code",
      "metadata": {
        "colab": {
          "base_uri": "https://localhost:8080/"
        },
        "id": "Hmjw8EJK7oIY",
        "outputId": "3aac9ce9-30a7-4440-a8ba-e1978efeef41"
      },
      "source": [
        "text = \"Solar\"\n",
        "type(text)"
      ],
      "execution_count": null,
      "outputs": [
        {
          "output_type": "execute_result",
          "data": {
            "text/plain": [
              "str"
            ]
          },
          "metadata": {},
          "execution_count": 90
        }
      ]
    },
    {
      "cell_type": "code",
      "metadata": {
        "colab": {
          "base_uri": "https://localhost:8080/"
        },
        "id": "qwh-N1aD7oLX",
        "outputId": "a175b2f1-56fa-44f0-efb2-60290bf92d5d"
      },
      "source": [
        "text = \"Solar\",\n",
        "type(text)"
      ],
      "execution_count": null,
      "outputs": [
        {
          "output_type": "execute_result",
          "data": {
            "text/plain": [
              "tuple"
            ]
          },
          "metadata": {},
          "execution_count": 91
        }
      ]
    },
    {
      "cell_type": "code",
      "metadata": {
        "colab": {
          "base_uri": "https://localhost:8080/"
        },
        "id": "t2QMBMi67oOM",
        "outputId": "422c19d7-d6eb-4a1a-c031-277d0c9b2ccc"
      },
      "source": [
        "tuple([\"Solar\"])"
      ],
      "execution_count": null,
      "outputs": [
        {
          "output_type": "execute_result",
          "data": {
            "text/plain": [
              "('Solar',)"
            ]
          },
          "metadata": {},
          "execution_count": 92
        }
      ]
    },
    {
      "cell_type": "code",
      "metadata": {
        "colab": {
          "base_uri": "https://localhost:8080/"
        },
        "id": "-NxvdwiB7oQc",
        "outputId": "a7b6c45e-e5bf-4ee6-98e6-4fa3b64bff2f"
      },
      "source": [
        "x = \"Ali\", \"Veli\", \"Deli\"\n",
        "type(x)"
      ],
      "execution_count": null,
      "outputs": [
        {
          "output_type": "execute_result",
          "data": {
            "text/plain": [
              "tuple"
            ]
          },
          "metadata": {},
          "execution_count": 93
        }
      ]
    },
    {
      "cell_type": "code",
      "metadata": {
        "colab": {
          "base_uri": "https://localhost:8080/"
        },
        "id": "JWcGPtHR72uG",
        "outputId": "969987b8-7b5c-4848-c078-bcae5978ec4d"
      },
      "source": [
        "solar = \"Earth\", \"Venus\", \"Uranus\"\n",
        "print(solar, type(solar), sep=\"\\n\")"
      ],
      "execution_count": null,
      "outputs": [
        {
          "output_type": "stream",
          "name": "stdout",
          "text": [
            "('Earth', 'Venus', 'Uranus')\n",
            "<class 'tuple'>\n"
          ]
        }
      ]
    },
    {
      "cell_type": "code",
      "metadata": {
        "colab": {
          "base_uri": "https://localhost:8080/"
        },
        "id": "SZgNGp5p72wu",
        "outputId": "f844e2f0-c0e8-4e13-c8c6-b1a79c5961e7"
      },
      "source": [
        "my_tuple = (1, 4, 3, 4, 5, 6, 7, 4)\n",
        "my_list = list(my_tuple)\n",
        "print(type(my_list), my_list)"
      ],
      "execution_count": null,
      "outputs": [
        {
          "output_type": "stream",
          "name": "stdout",
          "text": [
            "<class 'list'> [1, 4, 3, 4, 5, 6, 7, 4]\n"
          ]
        }
      ]
    },
    {
      "cell_type": "code",
      "metadata": {
        "colab": {
          "base_uri": "https://localhost:8080/"
        },
        "id": "0JSgDUBB72zh",
        "outputId": "5ce7723d-d44c-43ac-a0d9-583187984bc6"
      },
      "source": [
        "my_list = [1, 4, 3, 4, 5, 6, 7, 4]\n",
        "my_tuple = list(my_list)\n",
        "print(type(my_tuple), my_tuple)"
      ],
      "execution_count": null,
      "outputs": [
        {
          "output_type": "stream",
          "name": "stdout",
          "text": [
            "<class 'list'> [1, 4, 3, 4, 5, 6, 7, 4]\n"
          ]
        }
      ]
    },
    {
      "cell_type": "code",
      "metadata": {
        "colab": {
          "base_uri": "https://localhost:8080/"
        },
        "id": "eQjX1OvS721h",
        "outputId": "d0569512-19c6-4ccf-9487-bdca1461e6cb"
      },
      "source": [
        "mountain = tuple('Alps')\n",
        "zountain = ('alo', 'velo')\n",
        "print(mountain) \n",
        "print(type(mountain))\n",
        "print(zountain) \n",
        "print(type(zountain))"
      ],
      "execution_count": null,
      "outputs": [
        {
          "output_type": "stream",
          "name": "stdout",
          "text": [
            "('A', 'l', 'p', 's')\n",
            "<class 'tuple'>\n",
            "('alo', 'velo')\n",
            "<class 'tuple'>\n"
          ]
        }
      ]
    },
    {
      "cell_type": "code",
      "metadata": {
        "id": "-YAVWp9G7220"
      },
      "source": [
        ""
      ],
      "execution_count": null,
      "outputs": []
    }
  ]
}