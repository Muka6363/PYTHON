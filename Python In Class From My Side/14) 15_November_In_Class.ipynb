{
  "nbformat": 4,
  "nbformat_minor": 0,
  "metadata": {
    "colab": {
      "name": "15_November_In_Class",
      "provenance": [],
      "collapsed_sections": []
    },
    "kernelspec": {
      "name": "python3",
      "display_name": "Python 3"
    },
    "language_info": {
      "name": "python"
    }
  },
  "cells": [
    {
      "cell_type": "markdown",
      "metadata": {
        "id": "5Wo_2CNMyAbq"
      },
      "source": [
        ""
      ]
    },
    {
      "cell_type": "code",
      "metadata": {
        "colab": {
          "base_uri": "https://localhost:8080/"
        },
        "id": "mCxm1Wc-yAjX",
        "outputId": "eec0da79-84ec-4fc7-8d73-5a4a2ca6904f"
      },
      "source": [
        "toplam = 0\n",
        "\n",
        "for i in range(1,75) :\n",
        "  toplam += i\n",
        "print(toplam)"
      ],
      "execution_count": 1,
      "outputs": [
        {
          "output_type": "stream",
          "name": "stdout",
          "text": [
            "2775\n"
          ]
        }
      ]
    },
    {
      "cell_type": "code",
      "metadata": {
        "colab": {
          "base_uri": "https://localhost:8080/"
        },
        "id": "HnT0cpFCz9OE",
        "outputId": "0a2751c3-33cc-4ec2-b362-b0179692b059"
      },
      "source": [
        "sum([i for i in range(1,75)])"
      ],
      "execution_count": 2,
      "outputs": [
        {
          "output_type": "execute_result",
          "data": {
            "text/plain": [
              "2775"
            ]
          },
          "metadata": {},
          "execution_count": 2
        }
      ]
    },
    {
      "cell_type": "code",
      "metadata": {
        "colab": {
          "base_uri": "https://localhost:8080/"
        },
        "id": "bSTBJq07z_ID",
        "outputId": "b30374a0-b1e7-4238-de15-668531446db2"
      },
      "source": [
        "who = ['I am ', 'You are ']\n",
        "mood = ['happy', 'confident']\n",
        "for i in who :\n",
        "  for ii in mood :\n",
        "    print(i + ii)"
      ],
      "execution_count": 3,
      "outputs": [
        {
          "output_type": "stream",
          "name": "stdout",
          "text": [
            "I am happy\n",
            "I am confident\n",
            "You are happy\n",
            "You are confident\n"
          ]
        }
      ]
    },
    {
      "cell_type": "code",
      "metadata": {
        "colab": {
          "base_uri": "https://localhost:8080/"
        },
        "id": "FSaxfiKv15ag",
        "outputId": "2f005dc3-ddbf-4bc1-9e6a-e2bdea1b14d0"
      },
      "source": [
        "names = [\"Susan\", \"Tom\", \"Edward\"]\n",
        "mood = [\"happy\", \"sad\"]\n",
        "for i in names :\n",
        "  for j in mood :\n",
        "    print(i + \" is \" + j)"
      ],
      "execution_count": 6,
      "outputs": [
        {
          "output_type": "stream",
          "name": "stdout",
          "text": [
            "Susan is happy\n",
            "Susan is sad\n",
            "Tom is happy\n",
            "Tom is sad\n",
            "Edward is happy\n",
            "Edward is sad\n"
          ]
        }
      ]
    },
    {
      "cell_type": "code",
      "metadata": {
        "id": "yBdvsr8T19MQ"
      },
      "source": [
        "v = (\"five\", 5, True)"
      ],
      "execution_count": 7,
      "outputs": []
    },
    {
      "cell_type": "code",
      "metadata": {
        "colab": {
          "base_uri": "https://localhost:8080/"
        },
        "id": "3lJgr34W19Y4",
        "outputId": "52629ef4-8f0f-4807-8505-6b13b6d8fd55"
      },
      "source": [
        "v"
      ],
      "execution_count": 8,
      "outputs": [
        {
          "output_type": "execute_result",
          "data": {
            "text/plain": [
              "('five', 5, True)"
            ]
          },
          "metadata": {},
          "execution_count": 8
        }
      ]
    },
    {
      "cell_type": "code",
      "metadata": {
        "id": "0iILP2jW4Yql"
      },
      "source": [
        "(x, y, z) = v # Trick"
      ],
      "execution_count": 9,
      "outputs": []
    },
    {
      "cell_type": "code",
      "metadata": {
        "colab": {
          "base_uri": "https://localhost:8080/",
          "height": 35
        },
        "id": "mUW7Q00t4Yty",
        "outputId": "10f3c8ca-d021-4364-910e-7fe3b4b81b74"
      },
      "source": [
        "x"
      ],
      "execution_count": 10,
      "outputs": [
        {
          "output_type": "execute_result",
          "data": {
            "application/vnd.google.colaboratory.intrinsic+json": {
              "type": "string"
            },
            "text/plain": [
              "'five'"
            ]
          },
          "metadata": {},
          "execution_count": 10
        }
      ]
    },
    {
      "cell_type": "code",
      "metadata": {
        "colab": {
          "base_uri": "https://localhost:8080/"
        },
        "id": "lEe6pawr4YxT",
        "outputId": "d649eb5f-47c6-4169-bd75-3e1a528ed6dc"
      },
      "source": [
        "y"
      ],
      "execution_count": 12,
      "outputs": [
        {
          "output_type": "execute_result",
          "data": {
            "text/plain": [
              "5"
            ]
          },
          "metadata": {},
          "execution_count": 12
        }
      ]
    },
    {
      "cell_type": "code",
      "metadata": {
        "colab": {
          "base_uri": "https://localhost:8080/"
        },
        "id": "YNNS9Yfn4jKt",
        "outputId": "7e35b578-b230-426e-d9f8-97e0127b28fb"
      },
      "source": [
        "z"
      ],
      "execution_count": 14,
      "outputs": [
        {
          "output_type": "execute_result",
          "data": {
            "text/plain": [
              "True"
            ]
          },
          "metadata": {},
          "execution_count": 14
        }
      ]
    },
    {
      "cell_type": "code",
      "metadata": {
        "colab": {
          "base_uri": "https://localhost:8080/"
        },
        "id": "2s2a8mwb4kWu",
        "outputId": "220003fa-d6c8-4479-d844-3ad0fbaa85f2"
      },
      "source": [
        "list1 = [1,2,3]\n",
        "list2 = [\"a\",\"b\",\"c\",\"d\",\"e\"]\n",
        "print(dict(zip(list1, list2)))"
      ],
      "execution_count": 15,
      "outputs": [
        {
          "output_type": "stream",
          "name": "stdout",
          "text": [
            "{1: 'a', 2: 'b', 3: 'c'}\n"
          ]
        }
      ]
    },
    {
      "cell_type": "code",
      "metadata": {
        "colab": {
          "base_uri": "https://localhost:8080/"
        },
        "id": "2hSYnrPg4kZP",
        "outputId": "ab71221a-a14b-4639-bbf8-fdb4d7e57bef"
      },
      "source": [
        "list1 = [1,2,3,4,5]\n",
        "list2 = [\"a\",\"b\",\"c\",\"d\",\"e\"]\n",
        "print(list(zip(list1, list2)))"
      ],
      "execution_count": 16,
      "outputs": [
        {
          "output_type": "stream",
          "name": "stdout",
          "text": [
            "[(1, 'a'), (2, 'b'), (3, 'c'), (4, 'd'), (5, 'e')]\n"
          ]
        }
      ]
    },
    {
      "cell_type": "code",
      "metadata": {
        "id": "SmlQk1MV4kb2"
      },
      "source": [
        "(monday, tuesday, wednesday, thursday, friday, saturday, sunday) = tuple(range(1,8))"
      ],
      "execution_count": 20,
      "outputs": []
    },
    {
      "cell_type": "code",
      "metadata": {
        "colab": {
          "base_uri": "https://localhost:8080/"
        },
        "id": "Uu05q4Nx5oKn",
        "outputId": "a9327ae2-6d34-4bb0-8264-cbac915a18c0"
      },
      "source": [
        "tuesday"
      ],
      "execution_count": 21,
      "outputs": [
        {
          "output_type": "execute_result",
          "data": {
            "text/plain": [
              "2"
            ]
          },
          "metadata": {},
          "execution_count": 21
        }
      ]
    },
    {
      "cell_type": "code",
      "metadata": {
        "colab": {
          "base_uri": "https://localhost:8080/"
        },
        "id": "10wAryvw5oNL",
        "outputId": "fd3e3732-f2b0-487f-de3b-0e9ce3bcef25"
      },
      "source": [
        "sunday"
      ],
      "execution_count": 22,
      "outputs": [
        {
          "output_type": "execute_result",
          "data": {
            "text/plain": [
              "7"
            ]
          },
          "metadata": {},
          "execution_count": 22
        }
      ]
    },
    {
      "cell_type": "code",
      "metadata": {
        "colab": {
          "base_uri": "https://localhost:8080/"
        },
        "id": "drv3zsZ_5oPY",
        "outputId": "d5138faf-f8bd-4145-fba3-aefc1aedbf34"
      },
      "source": [
        "[1, 2, 3, 4] + [\"bir\", \"iki\", \"üç\"]"
      ],
      "execution_count": 24,
      "outputs": [
        {
          "output_type": "execute_result",
          "data": {
            "text/plain": [
              "[1, 2, 3, 4, 'bir', 'iki', 'üç']"
            ]
          },
          "metadata": {},
          "execution_count": 24
        }
      ]
    },
    {
      "cell_type": "code",
      "metadata": {
        "id": "kKbLbOcr5oRi"
      },
      "source": [
        "a, _ , b, _ = (10, 20, 30, 40) # Trick"
      ],
      "execution_count": 27,
      "outputs": []
    },
    {
      "cell_type": "code",
      "metadata": {
        "colab": {
          "base_uri": "https://localhost:8080/"
        },
        "id": "-2nHjg_v5oTW",
        "outputId": "47262ca2-a1ec-4232-f2ba-7172e1fe64bd"
      },
      "source": [
        "a"
      ],
      "execution_count": 29,
      "outputs": [
        {
          "output_type": "execute_result",
          "data": {
            "text/plain": [
              "10"
            ]
          },
          "metadata": {},
          "execution_count": 29
        }
      ]
    },
    {
      "cell_type": "code",
      "metadata": {
        "colab": {
          "base_uri": "https://localhost:8080/"
        },
        "id": "PY9o88B_65EV",
        "outputId": "e8b203bd-0fda-4b12-bd94-2a28e6ec8f1a"
      },
      "source": [
        "b"
      ],
      "execution_count": 31,
      "outputs": [
        {
          "output_type": "execute_result",
          "data": {
            "text/plain": [
              "30"
            ]
          },
          "metadata": {},
          "execution_count": 31
        }
      ]
    },
    {
      "cell_type": "code",
      "metadata": {
        "id": "tIW_RbuD7M_k"
      },
      "source": [
        "x, y, *z = (11, 22, 33, 44, 55) # Trick"
      ],
      "execution_count": 33,
      "outputs": []
    },
    {
      "cell_type": "code",
      "metadata": {
        "colab": {
          "base_uri": "https://localhost:8080/"
        },
        "id": "R5bp_nQT7jid",
        "outputId": "86944a0c-87c1-4d07-d827-33daf18beff1"
      },
      "source": [
        "x"
      ],
      "execution_count": 34,
      "outputs": [
        {
          "output_type": "execute_result",
          "data": {
            "text/plain": [
              "11"
            ]
          },
          "metadata": {},
          "execution_count": 34
        }
      ]
    },
    {
      "cell_type": "code",
      "metadata": {
        "colab": {
          "base_uri": "https://localhost:8080/"
        },
        "id": "Y_uA7Tet7jkm",
        "outputId": "2652a800-a966-404e-a393-06e281e75219"
      },
      "source": [
        "y"
      ],
      "execution_count": 36,
      "outputs": [
        {
          "output_type": "execute_result",
          "data": {
            "text/plain": [
              "22"
            ]
          },
          "metadata": {},
          "execution_count": 36
        }
      ]
    },
    {
      "cell_type": "code",
      "metadata": {
        "colab": {
          "base_uri": "https://localhost:8080/"
        },
        "id": "la1p8fwm7jm3",
        "outputId": "6bd4ba96-430f-48f3-9315-3a27f2003d18"
      },
      "source": [
        "z"
      ],
      "execution_count": 37,
      "outputs": [
        {
          "output_type": "execute_result",
          "data": {
            "text/plain": [
              "[33, 44, 55]"
            ]
          },
          "metadata": {},
          "execution_count": 37
        }
      ]
    },
    {
      "cell_type": "code",
      "metadata": {
        "id": "U5IxYh067jo6"
      },
      "source": [
        "x, y, *_ = (11, 22, 33, 44, 55, 66)"
      ],
      "execution_count": 40,
      "outputs": []
    },
    {
      "cell_type": "code",
      "metadata": {
        "colab": {
          "base_uri": "https://localhost:8080/"
        },
        "id": "3bj2jQVR_5k-",
        "outputId": "18fcc97b-b8b0-411e-bbe4-f94dbbb269ec"
      },
      "source": [
        "x"
      ],
      "execution_count": 42,
      "outputs": [
        {
          "output_type": "execute_result",
          "data": {
            "text/plain": [
              "11"
            ]
          },
          "metadata": {},
          "execution_count": 42
        }
      ]
    },
    {
      "cell_type": "code",
      "metadata": {
        "colab": {
          "base_uri": "https://localhost:8080/"
        },
        "id": "Vytnz45Q__Yn",
        "outputId": "bf2b8e9e-143f-4f09-b33a-3c58fca4d42e"
      },
      "source": [
        "y"
      ],
      "execution_count": 43,
      "outputs": [
        {
          "output_type": "execute_result",
          "data": {
            "text/plain": [
              "22"
            ]
          },
          "metadata": {},
          "execution_count": 43
        }
      ]
    },
    {
      "cell_type": "code",
      "metadata": {
        "id": "cxovi-vc__da"
      },
      "source": [
        "x, y, *z, t = (11, 22, 33, 44, 55, 66, 77) # Trick"
      ],
      "execution_count": 2,
      "outputs": []
    },
    {
      "cell_type": "code",
      "metadata": {
        "colab": {
          "base_uri": "https://localhost:8080/"
        },
        "id": "fXAMc1vG__fh",
        "outputId": "9774e032-dcef-4822-c708-ee90250b86e2"
      },
      "source": [
        "z"
      ],
      "execution_count": 4,
      "outputs": [
        {
          "output_type": "execute_result",
          "data": {
            "text/plain": [
              "[33, 44, 55, 66]"
            ]
          },
          "metadata": {},
          "execution_count": 4
        }
      ]
    },
    {
      "cell_type": "markdown",
      "metadata": {
        "id": "bqE7S1VZC5y-"
      },
      "source": [
        "**List Comprehension**"
      ]
    },
    {
      "cell_type": "code",
      "metadata": {
        "colab": {
          "base_uri": "https://localhost:8080/"
        },
        "id": "IKPbfOoSC59u",
        "outputId": "236268d0-89b4-48d6-db4d-93d63bca3380"
      },
      "source": [
        "sayılar = []\n",
        "\n",
        "for i in range(5) :\n",
        "  sayılar.append(i)\n",
        "\n",
        "sayılar"
      ],
      "execution_count": 5,
      "outputs": [
        {
          "output_type": "execute_result",
          "data": {
            "text/plain": [
              "[0, 1, 2, 3, 4]"
            ]
          },
          "metadata": {},
          "execution_count": 5
        }
      ]
    },
    {
      "cell_type": "code",
      "metadata": {
        "id": "cStVjQx9EfJt"
      },
      "source": [
        "[expression/body for i in range(5)]"
      ],
      "execution_count": null,
      "outputs": []
    },
    {
      "cell_type": "code",
      "metadata": {
        "colab": {
          "base_uri": "https://localhost:8080/"
        },
        "id": "rPDM6e0sAu-Q",
        "outputId": "bee3ef06-9008-4c3d-878d-99217ae8c2fb"
      },
      "source": [
        "[i for i in range(5)] "
      ],
      "execution_count": 6,
      "outputs": [
        {
          "output_type": "execute_result",
          "data": {
            "text/plain": [
              "[0, 1, 2, 3, 4]"
            ]
          },
          "metadata": {},
          "execution_count": 6
        }
      ]
    },
    {
      "cell_type": "code",
      "metadata": {
        "colab": {
          "base_uri": "https://localhost:8080/"
        },
        "id": "v165bj6uAvBJ",
        "outputId": "64c76220-983c-4e87-eb26-e1b3be77d8b4"
      },
      "source": [
        "[i ** 2 for i in range(1, 6)] "
      ],
      "execution_count": 7,
      "outputs": [
        {
          "output_type": "execute_result",
          "data": {
            "text/plain": [
              "[1, 4, 9, 16, 25]"
            ]
          },
          "metadata": {},
          "execution_count": 7
        }
      ]
    },
    {
      "cell_type": "code",
      "metadata": {
        "colab": {
          "base_uri": "https://localhost:8080/"
        },
        "id": "Yxm_c2CJBBV_",
        "outputId": "23e0dee0-4710-436d-b576-903daabee59f"
      },
      "source": [
        "[i** 2 for i in range(6) if i% 2 != 0]"
      ],
      "execution_count": 8,
      "outputs": [
        {
          "output_type": "execute_result",
          "data": {
            "text/plain": [
              "[1, 9, 25]"
            ]
          },
          "metadata": {},
          "execution_count": 8
        }
      ]
    },
    {
      "cell_type": "code",
      "metadata": {
        "colab": {
          "base_uri": "https://localhost:8080/"
        },
        "id": "heRPrOnMBBY_",
        "outputId": "4b9e0059-1fe5-4b62-9959-e7536c675630"
      },
      "source": [
        "condition = True\n",
        "\n",
        "if condition :\n",
        "  a = 1\n",
        "else :\n",
        "  a = 0\n",
        "print(a)"
      ],
      "execution_count": 9,
      "outputs": [
        {
          "output_type": "stream",
          "name": "stdout",
          "text": [
            "1\n"
          ]
        }
      ]
    },
    {
      "cell_type": "code",
      "metadata": {
        "colab": {
          "base_uri": "https://localhost:8080/"
        },
        "id": "XDolMCevBBbg",
        "outputId": "57d462c0-cbcc-48fe-ad6e-d46fb05d1683"
      },
      "source": [
        "condition = False\n",
        "1 if condition else 0"
      ],
      "execution_count": 11,
      "outputs": [
        {
          "output_type": "execute_result",
          "data": {
            "text/plain": [
              "0"
            ]
          },
          "metadata": {},
          "execution_count": 11
        }
      ]
    },
    {
      "cell_type": "code",
      "metadata": {
        "colab": {
          "base_uri": "https://localhost:8080/"
        },
        "id": "Swf_6CRHIQJK",
        "outputId": "4f07b36a-7164-43b2-d15f-529ea7358556"
      },
      "source": [
        "[i ** 2 for i in range(7) if i%2==0]"
      ],
      "execution_count": 13,
      "outputs": [
        {
          "output_type": "execute_result",
          "data": {
            "text/plain": [
              "[0, 4, 16, 36]"
            ]
          },
          "metadata": {},
          "execution_count": 13
        }
      ]
    },
    {
      "cell_type": "code",
      "metadata": {
        "colab": {
          "base_uri": "https://localhost:8080/"
        },
        "id": "XYgMDuEGIQLs",
        "outputId": "2c084ed6-fdd8-4383-d2ec-51fd2b7a3f1d"
      },
      "source": [
        "my_list = [1, 2, 3, 4, 5, 6]\n",
        "[i ** 2 for i in my_list]"
      ],
      "execution_count": 14,
      "outputs": [
        {
          "output_type": "execute_result",
          "data": {
            "text/plain": [
              "[1, 4, 9, 16, 25, 36]"
            ]
          },
          "metadata": {},
          "execution_count": 14
        }
      ]
    },
    {
      "cell_type": "code",
      "metadata": {
        "colab": {
          "base_uri": "https://localhost:8080/"
        },
        "id": "89afTxnDIQOM",
        "outputId": "4390e6a7-be54-4475-c933-ade64b6161cf"
      },
      "source": [
        "[i ** 2 for i in my_list if i % 2]"
      ],
      "execution_count": 16,
      "outputs": [
        {
          "output_type": "execute_result",
          "data": {
            "text/plain": [
              "[1, 9, 25]"
            ]
          },
          "metadata": {},
          "execution_count": 16
        }
      ]
    },
    {
      "cell_type": "code",
      "metadata": {
        "colab": {
          "base_uri": "https://localhost:8080/"
        },
        "id": "NxqzX0IDIQQB",
        "outputId": "ad109911-9b92-4271-8bce-9b29fa557c9e"
      },
      "source": [
        "def multiply(x, y) :\n",
        "  return x * y\n",
        "multiply(3, 5)"
      ],
      "execution_count": 22,
      "outputs": [
        {
          "output_type": "execute_result",
          "data": {
            "text/plain": [
              "15"
            ]
          },
          "metadata": {},
          "execution_count": 22
        }
      ]
    }
  ]
}