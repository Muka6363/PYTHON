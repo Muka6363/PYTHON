{
  "nbformat": 4,
  "nbformat_minor": 0,
  "metadata": {
    "colab": {
      "name": "29_November_In_Class",
      "provenance": [],
      "collapsed_sections": []
    },
    "kernelspec": {
      "name": "python3",
      "display_name": "Python 3"
    },
    "language_info": {
      "name": "python"
    }
  },
  "cells": [
    {
      "cell_type": "markdown",
      "metadata": {
        "id": "BJ_qnlu74_6t"
      },
      "source": [
        "**The formula syntax is: lambda parameters : expression**"
      ]
    },
    {
      "cell_type": "code",
      "metadata": {
        "id": "_Y3GHLOG2rse"
      },
      "source": [
        "def square(x) :\n",
        "  return x ** 2"
      ],
      "execution_count": 3,
      "outputs": []
    },
    {
      "cell_type": "code",
      "metadata": {
        "colab": {
          "base_uri": "https://localhost:8080/"
        },
        "id": "j8j0fPpq2rwi",
        "outputId": "88b4e11d-28fb-4e0a-e9f7-36e10c4e8143"
      },
      "source": [
        "lambda x : x ** 2"
      ],
      "execution_count": 4,
      "outputs": [
        {
          "output_type": "execute_result",
          "data": {
            "text/plain": [
              "<function __main__.<lambda>>"
            ]
          },
          "metadata": {},
          "execution_count": 4
        }
      ]
    },
    {
      "cell_type": "code",
      "metadata": {
        "colab": {
          "base_uri": "https://localhost:8080/"
        },
        "id": "wHUB-xtg2rzX",
        "outputId": "3947a57b-123e-43db-cee5-38f402e3c488"
      },
      "source": [
        "lambda x, y : (x + y) / 2"
      ],
      "execution_count": 5,
      "outputs": [
        {
          "output_type": "execute_result",
          "data": {
            "text/plain": [
              "<function __main__.<lambda>>"
            ]
          },
          "metadata": {},
          "execution_count": 5
        }
      ]
    },
    {
      "cell_type": "code",
      "metadata": {
        "colab": {
          "base_uri": "https://localhost:8080/"
        },
        "id": "_jxNG-X42r2S",
        "outputId": "94d16639-faf5-4c06-9d8e-ea13cac3c44b"
      },
      "source": [
        "lambda x: 'odd' if x % 2 != 0 else 'even'"
      ],
      "execution_count": 6,
      "outputs": [
        {
          "output_type": "execute_result",
          "data": {
            "text/plain": [
              "<function __main__.<lambda>>"
            ]
          },
          "metadata": {},
          "execution_count": 6
        }
      ]
    },
    {
      "cell_type": "code",
      "metadata": {
        "colab": {
          "base_uri": "https://localhost:8080/"
        },
        "id": "t6CjJi9p2r-Q",
        "outputId": "3f780d1d-8a5f-4e60-a66a-8784db2789a7"
      },
      "source": [
        "print((lambda x: x ** 2)(2))"
      ],
      "execution_count": 9,
      "outputs": [
        {
          "output_type": "stream",
          "name": "stdout",
          "text": [
            "4\n"
          ]
        }
      ]
    },
    {
      "cell_type": "code",
      "metadata": {
        "colab": {
          "base_uri": "https://localhost:8080/"
        },
        "id": "0WipWfgV2sAy",
        "outputId": "20950cdb-31ef-41f3-885a-aac8208cd5ba"
      },
      "source": [
        "print((lambda x, y : (x + y) / 2)(3, 5))"
      ],
      "execution_count": 10,
      "outputs": [
        {
          "output_type": "stream",
          "name": "stdout",
          "text": [
            "4.0\n"
          ]
        }
      ]
    },
    {
      "cell_type": "code",
      "metadata": {
        "colab": {
          "base_uri": "https://localhost:8080/"
        },
        "id": "ww79Fljt2sDp",
        "outputId": "225da32c-db63-4271-eaf2-0b3ad4963651"
      },
      "source": [
        "average = (lambda x, y : (x + y) / 2)(3, 5)\n",
        "print(average)"
      ],
      "execution_count": 11,
      "outputs": [
        {
          "output_type": "stream",
          "name": "stdout",
          "text": [
            "4.0\n"
          ]
        }
      ]
    },
    {
      "cell_type": "code",
      "metadata": {
        "colab": {
          "base_uri": "https://localhost:8080/",
          "height": 35
        },
        "id": "0thPiP882sGb",
        "outputId": "3e64744c-cf53-4351-d5b7-a3ec7e09a061"
      },
      "source": [
        "(lambda x: 'odd' if x % 2 != 0 else 'even')(2)"
      ],
      "execution_count": 12,
      "outputs": [
        {
          "output_type": "execute_result",
          "data": {
            "application/vnd.google.colaboratory.intrinsic+json": {
              "type": "string"
            },
            "text/plain": [
              "'even'"
            ]
          },
          "metadata": {},
          "execution_count": 12
        }
      ]
    },
    {
      "cell_type": "code",
      "metadata": {
        "colab": {
          "base_uri": "https://localhost:8080/",
          "height": 35
        },
        "id": "gaI3xeI22sJG",
        "outputId": "6cf93385-7755-4fc0-80b4-4a6d3e27eb45"
      },
      "source": [
        "(lambda x: 'odd' if x % 2 != 0 else 'even')(3)"
      ],
      "execution_count": 13,
      "outputs": [
        {
          "output_type": "execute_result",
          "data": {
            "application/vnd.google.colaboratory.intrinsic+json": {
              "type": "string"
            },
            "text/plain": [
              "'odd'"
            ]
          },
          "metadata": {},
          "execution_count": 13
        }
      ]
    },
    {
      "cell_type": "code",
      "metadata": {
        "colab": {
          "base_uri": "https://localhost:8080/",
          "height": 35
        },
        "id": "3rdGm6Jk68rE",
        "outputId": "f032b0e9-0be9-43ea-8a17-7408ec742163"
      },
      "source": [
        "(lambda x : x[::-1])(\"joseph\")"
      ],
      "execution_count": 14,
      "outputs": [
        {
          "output_type": "execute_result",
          "data": {
            "application/vnd.google.colaboratory.intrinsic+json": {
              "type": "string"
            },
            "text/plain": [
              "'hpesoj'"
            ]
          },
          "metadata": {},
          "execution_count": 14
        }
      ]
    },
    {
      "cell_type": "code",
      "metadata": {
        "colab": {
          "base_uri": "https://localhost:8080/"
        },
        "id": "qiSvQDX18dog",
        "outputId": "bfa58895-cb64-479a-ce4b-d6bbbefbd766"
      },
      "source": [
        "(lambda x : x[::-1])([1,2,3])"
      ],
      "execution_count": 21,
      "outputs": [
        {
          "output_type": "execute_result",
          "data": {
            "text/plain": [
              "[3, 2, 1]"
            ]
          },
          "metadata": {},
          "execution_count": 21
        }
      ]
    },
    {
      "cell_type": "code",
      "metadata": {
        "colab": {
          "base_uri": "https://localhost:8080/"
        },
        "id": "UCRIhaCs68t4",
        "outputId": "c1852f1f-3dce-45ef-bdd3-ac84d2b73c8c"
      },
      "source": [
        "text = \"clarusway\"\n",
        "ters = (lambda x : x[::-1])(text)\n",
        "print(ters)"
      ],
      "execution_count": 15,
      "outputs": [
        {
          "output_type": "stream",
          "name": "stdout",
          "text": [
            "yawsuralc\n"
          ]
        }
      ]
    },
    {
      "cell_type": "code",
      "metadata": {
        "colab": {
          "base_uri": "https://localhost:8080/"
        },
        "id": "dNNTuQ5468zN",
        "outputId": "a9e50292-2739-456a-d989-1b1f0e4fe139"
      },
      "source": [
        "print((lambda x, y : (x + y) / 2)(3, 5))"
      ],
      "execution_count": 22,
      "outputs": [
        {
          "output_type": "stream",
          "name": "stdout",
          "text": [
            "4.0\n"
          ]
        }
      ]
    },
    {
      "cell_type": "code",
      "metadata": {
        "colab": {
          "base_uri": "https://localhost:8080/"
        },
        "id": "17_cDk8Z681t",
        "outputId": "3853f459-3f9a-46a9-b005-239620ef78e8"
      },
      "source": [
        "(lambda x: [*reversed(x)])(\"ali\")"
      ],
      "execution_count": 23,
      "outputs": [
        {
          "output_type": "execute_result",
          "data": {
            "text/plain": [
              "['i', 'l', 'a']"
            ]
          },
          "metadata": {},
          "execution_count": 23
        }
      ]
    },
    {
      "cell_type": "code",
      "metadata": {
        "colab": {
          "base_uri": "https://localhost:8080/"
        },
        "id": "D7z5Y0J08nDo",
        "outputId": "4287d4d4-e658-4ee6-b5da-09da4a9fd7ce"
      },
      "source": [
        "for i in [3, 6, 8, -5] :\n",
        "  print(i, \":\", (lambda i : \"odd\" if i % 2 != 0 else \"even\")(i))"
      ],
      "execution_count": 26,
      "outputs": [
        {
          "output_type": "stream",
          "name": "stdout",
          "text": [
            "3 : odd\n",
            "6 : even\n",
            "8 : even\n",
            "-5 : odd\n"
          ]
        }
      ]
    },
    {
      "cell_type": "code",
      "metadata": {
        "colab": {
          "base_uri": "https://localhost:8080/"
        },
        "id": "OvZFAMPU8nGq",
        "outputId": "b2050ebf-85df-465a-e5b0-3ad818b86393"
      },
      "source": [
        "liste = [3, 6, 8, -5]\n",
        "for i in liste :\n",
        "  print(i, \":\" , (lambda x : \"odd\" if x  % 2 != 0 else \"even\")(i))"
      ],
      "execution_count": 28,
      "outputs": [
        {
          "output_type": "stream",
          "name": "stdout",
          "text": [
            "3 : odd\n",
            "6 : even\n",
            "8 : even\n",
            "-5 : odd\n"
          ]
        }
      ]
    },
    {
      "cell_type": "code",
      "metadata": {
        "colab": {
          "base_uri": "https://localhost:8080/"
        },
        "id": "Yypuwr-X-xbo",
        "outputId": "059aba5b-15b7-4e5b-a48b-fdbbe74b7f6f"
      },
      "source": [
        "sayılar = [1, 2, 3, 4, 5, 6]\n",
        "for a in sayılar :\n",
        "  print(a, \":\", (lambda x : \"odd\" if x % 2 != 0 else \"even\")(a))"
      ],
      "execution_count": 35,
      "outputs": [
        {
          "output_type": "stream",
          "name": "stdout",
          "text": [
            "1 : odd\n",
            "2 : even\n",
            "3 : odd\n",
            "4 : even\n",
            "5 : odd\n",
            "6 : even\n"
          ]
        }
      ]
    },
    {
      "cell_type": "code",
      "metadata": {
        "colab": {
          "base_uri": "https://localhost:8080/"
        },
        "id": "8CiO8b0w_PHd",
        "outputId": "d2bb44d6-2a1e-420a-8fd9-162b8d633c99"
      },
      "source": [
        "average = lambda x, y : (x + y) / 2\n",
        "print(average(3, 5))"
      ],
      "execution_count": 36,
      "outputs": [
        {
          "output_type": "stream",
          "name": "stdout",
          "text": [
            "4.0\n"
          ]
        }
      ]
    },
    {
      "cell_type": "code",
      "metadata": {
        "colab": {
          "base_uri": "https://localhost:8080/"
        },
        "id": "FnUo34g0_gtH",
        "outputId": "4f02b055-6890-4310-84c8-b6ad6e30f59b"
      },
      "source": [
        "finder = lambda x : \"odd\" if x % 2 != 0 else \"even\"\n",
        "print(finder(8))"
      ],
      "execution_count": 38,
      "outputs": [
        {
          "output_type": "stream",
          "name": "stdout",
          "text": [
            "even\n"
          ]
        }
      ]
    },
    {
      "cell_type": "code",
      "metadata": {
        "colab": {
          "base_uri": "https://localhost:8080/",
          "height": 35
        },
        "id": "ChKWOeDf_u0T",
        "outputId": "6a36a404-71eb-46bd-b274-d635c8552154"
      },
      "source": [
        "finder(8)"
      ],
      "execution_count": 39,
      "outputs": [
        {
          "output_type": "execute_result",
          "data": {
            "application/vnd.google.colaboratory.intrinsic+json": {
              "type": "string"
            },
            "text/plain": [
              "'even'"
            ]
          },
          "metadata": {},
          "execution_count": 39
        }
      ]
    },
    {
      "cell_type": "code",
      "metadata": {
        "colab": {
          "base_uri": "https://localhost:8080/"
        },
        "id": "sFXGSuqi_-Pc",
        "outputId": "3199e289-adf1-45bc-e098-fd0a65fc2c1a"
      },
      "source": [
        "reverser = lambda x : x[::-1]\n",
        "reverser([1, 2, 3, 4, 5, 6])"
      ],
      "execution_count": 40,
      "outputs": [
        {
          "output_type": "execute_result",
          "data": {
            "text/plain": [
              "[6, 5, 4, 3, 2, 1]"
            ]
          },
          "metadata": {},
          "execution_count": 40
        }
      ]
    },
    {
      "cell_type": "markdown",
      "metadata": {
        "id": "0jeDyNt4AVl1"
      },
      "source": [
        "**The basic formula syntax is : map(function, iterable)** "
      ]
    },
    {
      "cell_type": "code",
      "metadata": {
        "colab": {
          "base_uri": "https://localhost:8080/"
        },
        "id": "z_e9ne-R8nI-",
        "outputId": "6b38e8a0-20ee-467f-9c8e-3c59b4b7628f"
      },
      "source": [
        "iterable = [1, 2, 3, 4, 5]\n",
        "\n",
        "result = map(lambda x : x ** 2, iterable)\n",
        "\n",
        "print(type(result))\n",
        "print(list(result))\n",
        "print(list(map(lambda x : x ** 2, iterable)))"
      ],
      "execution_count": 33,
      "outputs": [
        {
          "output_type": "stream",
          "name": "stdout",
          "text": [
            "<class 'map'>\n",
            "[1, 4, 9, 16, 25]\n",
            "[1, 4, 9, 16, 25]\n"
          ]
        }
      ]
    },
    {
      "cell_type": "code",
      "metadata": {
        "colab": {
          "base_uri": "https://localhost:8080/"
        },
        "id": "-8VYWuU38nLQ",
        "outputId": "1fe68131-284c-474c-e4b6-d98ddff6b4b7"
      },
      "source": [
        "liste = [1, 2, 3]\n",
        "\n",
        "output = map(lambda x : x ** 2, liste)\n",
        "print(list(output))"
      ],
      "execution_count": 43,
      "outputs": [
        {
          "output_type": "stream",
          "name": "stdout",
          "text": [
            "[1, 4, 9]\n"
          ]
        }
      ]
    },
    {
      "cell_type": "code",
      "metadata": {
        "colab": {
          "base_uri": "https://localhost:8080/"
        },
        "id": "lc5LGKcj_xPe",
        "outputId": "8a3b00b9-301a-4062-c0ec-945d2d9699b1"
      },
      "source": [
        "fonksiyon = lambda x : x ** 2\n",
        "iterable = [1, 2, 3]\n",
        "sonuc = map(fonksiyon, iterable)\n",
        "print(*sonuc)"
      ],
      "execution_count": 44,
      "outputs": [
        {
          "output_type": "stream",
          "name": "stdout",
          "text": [
            "1 4 9\n"
          ]
        }
      ]
    },
    {
      "cell_type": "code",
      "metadata": {
        "colab": {
          "base_uri": "https://localhost:8080/"
        },
        "id": "c_4mrKqFFX5f",
        "outputId": "ca038f03-146c-4735-ef2b-0f5d0907e4a7"
      },
      "source": [
        "def kare(b) :\n",
        "  return b ** 2\n",
        "\n",
        "sonuc2 = map(kare, iterable)\n",
        "print(* sonuc2)"
      ],
      "execution_count": 46,
      "outputs": [
        {
          "output_type": "stream",
          "name": "stdout",
          "text": [
            "1 4 9\n"
          ]
        }
      ]
    },
    {
      "cell_type": "code",
      "metadata": {
        "colab": {
          "base_uri": "https://localhost:8080/"
        },
        "id": "Z3Ai6bdv_xSJ",
        "outputId": "27e06392-6936-438c-f920-49e23e0597a1"
      },
      "source": [
        "letter1 = [\"o\", \"s\", \"t\", \"t\"]\n",
        "letter2 = [\"n\", \"i\", \"e\", \"w\"]\n",
        "letter3 = [\"e\", \"x\", \"n\", \"o\"]\n",
        "numbers = map(lambda x, y, z : x + y + z, letter1, letter2, letter3)\n",
        "\n",
        "print(list(numbers))"
      ],
      "execution_count": 45,
      "outputs": [
        {
          "output_type": "stream",
          "name": "stdout",
          "text": [
            "['one', 'six', 'ten', 'two']\n"
          ]
        }
      ]
    },
    {
      "cell_type": "markdown",
      "metadata": {
        "id": "gl72kOYyHmWy"
      },
      "source": [
        "**map iterable daki tüm elemanları tek tek dolaşır**"
      ]
    },
    {
      "cell_type": "code",
      "metadata": {
        "colab": {
          "base_uri": "https://localhost:8080/",
          "height": 35
        },
        "id": "ASm6V9CvGmnR",
        "outputId": "14bbc4e5-22ec-4946-9056-a5b958b57b67"
      },
      "source": [
        "topla = lambda x, y, z : x + y + z\n",
        "topla(\"a\", \"l\", \"i\")"
      ],
      "execution_count": 52,
      "outputs": [
        {
          "output_type": "execute_result",
          "data": {
            "application/vnd.google.colaboratory.intrinsic+json": {
              "type": "string"
            },
            "text/plain": [
              "'ali'"
            ]
          },
          "metadata": {},
          "execution_count": 52
        }
      ]
    },
    {
      "cell_type": "code",
      "metadata": {
        "colab": {
          "base_uri": "https://localhost:8080/"
        },
        "id": "hVedEO4wEdqK",
        "outputId": "e0f8cf17-112b-4466-caf5-0a4438f61172"
      },
      "source": [
        "nums1 = [9, 6, 7, 4]\n",
        "nums2 = [3, 6, 5, 8]\n",
        "\n",
        "numbers = map(lambda x, y : (x + y) / 2, nums1, nums2)\n",
        "print(list(numbers))"
      ],
      "execution_count": 48,
      "outputs": [
        {
          "output_type": "stream",
          "name": "stdout",
          "text": [
            "[6.0, 6.0, 6.0, 6.0]\n"
          ]
        }
      ]
    },
    {
      "cell_type": "code",
      "metadata": {
        "colab": {
          "base_uri": "https://localhost:8080/"
        },
        "id": "vWnFp6WcIabU",
        "outputId": "20b78a5e-2a6d-42c5-ae75-331d47a347e3"
      },
      "source": [
        "num1 = [9, 6, 7, 4]\n",
        "num2 = [3, 6, 5, 8]\n",
        "\n",
        "func = lambda x, y : (x + y) / 2\n",
        "numbers = map(func, num1, num2)\n",
        "print(list(numbers))"
      ],
      "execution_count": 56,
      "outputs": [
        {
          "output_type": "stream",
          "name": "stdout",
          "text": [
            "[6.0, 6.0, 6.0, 6.0]\n"
          ]
        }
      ]
    },
    {
      "cell_type": "code",
      "metadata": {
        "colab": {
          "base_uri": "https://localhost:8080/"
        },
        "id": "I4Ld9_Q5Edvg",
        "outputId": "f0778b56-0c50-42d3-b6f8-24e48ccd9d63"
      },
      "source": [
        "words1 = [\"you\", \"much\", \"hard\"]\n",
        "words2 = [\"i\", \"you\", \"he\"]\n",
        "words3 = [\"love\", \"ate\", \"works\"]\n",
        "\n",
        "cümle = map(lambda x, y, z : x + \" \" + y + \" \" + z, words2, words3, words1)\n",
        "\n",
        "for i in cümle : print(i)"
      ],
      "execution_count": 59,
      "outputs": [
        {
          "output_type": "stream",
          "name": "stdout",
          "text": [
            "i love you\n",
            "you ate much\n",
            "he works hard\n"
          ]
        }
      ]
    },
    {
      "cell_type": "code",
      "metadata": {
        "colab": {
          "base_uri": "https://localhost:8080/"
        },
        "id": "gQd1T-vcEdyD",
        "outputId": "fcba9688-9b3d-4fbb-bffb-8db9fdfdee95"
      },
      "source": [
        "first_ten = [0, 1, 2, 3, 4, 5, 6, 7, 8, 9]\n",
        "\n",
        "even = filter(lambda x : x % 2 == 0, first_ten)\n",
        "print(type(even))\n",
        "print(\"Even numbers are :\", list(even))"
      ],
      "execution_count": 63,
      "outputs": [
        {
          "output_type": "stream",
          "name": "stdout",
          "text": [
            "<class 'filter'>\n",
            "Even numbers are : [0, 2, 4, 6, 8]\n"
          ]
        }
      ]
    },
    {
      "cell_type": "code",
      "metadata": {
        "colab": {
          "base_uri": "https://localhost:8080/"
        },
        "id": "LcJITv4O_xVg",
        "outputId": "023fe232-91a7-4fd1-8199-4d12b60e43db"
      },
      "source": [
        "words = [\"apple\", \"swim\", \"clock\", \"me\", \"kiwi\", \"banana\"]\n",
        "\n",
        "for i in filter(lambda x : len(x) < 5, words) : print(i)"
      ],
      "execution_count": 64,
      "outputs": [
        {
          "output_type": "stream",
          "name": "stdout",
          "text": [
            "swim\n",
            "me\n",
            "kiwi\n"
          ]
        }
      ]
    },
    {
      "cell_type": "code",
      "metadata": {
        "colab": {
          "base_uri": "https://localhost:8080/"
        },
        "id": "gt5bQcKj8nOj",
        "outputId": "ed6b0263-6dcd-4460-d2f2-bef403bbaadb"
      },
      "source": [
        "words = [\"apple\", \"swim\", \"clock\", \"me\", \"kiwi\", \"banana\"]\n",
        "\n",
        "list(filter(lambda x : len(x) < 5, words))"
      ],
      "execution_count": 65,
      "outputs": [
        {
          "output_type": "execute_result",
          "data": {
            "text/plain": [
              "['swim', 'me', 'kiwi']"
            ]
          },
          "metadata": {},
          "execution_count": 65
        }
      ]
    },
    {
      "cell_type": "code",
      "metadata": {
        "colab": {
          "base_uri": "https://localhost:8080/"
        },
        "id": "Lnu0jROiOsLy",
        "outputId": "883d4947-2850-4e20-9f3e-03216e4b93c6"
      },
      "source": [
        "words = [\"apple\", \"swim\", \"clock\", \"me\", \"kiwi\", \"banana\"]\n",
        "\n",
        "for i in filter(lambda x : len(x) < 5, words) :\n",
        "  print(i)"
      ],
      "execution_count": 66,
      "outputs": [
        {
          "output_type": "stream",
          "name": "stdout",
          "text": [
            "swim\n",
            "me\n",
            "kiwi\n"
          ]
        }
      ]
    },
    {
      "cell_type": "code",
      "metadata": {
        "colab": {
          "base_uri": "https://localhost:8080/"
        },
        "id": "bnH_oJPZOsOO",
        "outputId": "8efce9f1-67bf-4d35-cf57-7719d0791253"
      },
      "source": [
        "first_ten = [\"a\", \"b\", \"c\", \"d\", \"e\", \"f\", \"g\", \"h\", \"i\", \"j\"]\n",
        "list(filter(lambda x : x in \"aeiou\", first_ten))"
      ],
      "execution_count": 68,
      "outputs": [
        {
          "output_type": "execute_result",
          "data": {
            "text/plain": [
              "['a', 'e', 'i']"
            ]
          },
          "metadata": {},
          "execution_count": 68
        }
      ]
    },
    {
      "cell_type": "code",
      "metadata": {
        "colab": {
          "base_uri": "https://localhost:8080/"
        },
        "id": "OApJxADHPjOP",
        "outputId": "da4f6e9c-7e52-4ca3-b389-56ac369e00ab"
      },
      "source": [
        "vowels = [\"a\", \"e\", \"i\", \"u\", \"o\"]\n",
        "first_ten = [\"a\", \"b\", \"c\", \"d\", \"e\", \"f\", \"g\", \"h\", \"i\", \"j\"]\n",
        "filtered_vowels = filter(lambda x : x in vowels, first_ten)\n",
        "list(filtered_vowels)"
      ],
      "execution_count": 71,
      "outputs": [
        {
          "output_type": "execute_result",
          "data": {
            "text/plain": [
              "['a', 'e', 'i']"
            ]
          },
          "metadata": {},
          "execution_count": 71
        }
      ]
    },
    {
      "cell_type": "code",
      "metadata": {
        "colab": {
          "base_uri": "https://localhost:8080/"
        },
        "id": "t3EDX8duOsQ6",
        "outputId": "40432faa-35a0-490d-e57c-5b48d8f1c460"
      },
      "source": [
        "def modular_function(n) :\n",
        "  return lambda x : x ** n\n",
        "\n",
        "power_of_2 = modular_function(2)\n",
        "power_of_3 = modular_function(3)\n",
        "power_of_4 = modular_function(4)\n",
        "\n",
        "print(power_of_2(2))\n",
        "print(power_of_3(2))\n",
        "print(power_of_4(2))"
      ],
      "execution_count": 72,
      "outputs": [
        {
          "output_type": "stream",
          "name": "stdout",
          "text": [
            "4\n",
            "8\n",
            "16\n"
          ]
        }
      ]
    },
    {
      "cell_type": "markdown",
      "metadata": {
        "id": "JQAT3IhvXP1w"
      },
      "source": [
        "![image.png](data:image/png;base64,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)"
      ]
    },
    {
      "cell_type": "code",
      "metadata": {
        "colab": {
          "base_uri": "https://localhost:8080/"
        },
        "id": "xT7kaVmjTP0B",
        "outputId": "5e4555a1-bf67-45c4-cc84-765328d8c7ba"
      },
      "source": [
        "def repeater(n) :\n",
        "  return lambda x : x * n\n",
        "\n",
        "repeat_2_times = repeater(2)\n",
        "repeat_3_times = repeater(3)\n",
        "repeat_4_times = repeater(4)\n",
        "\n",
        "print(repeat_2_times(\"alex \"))\n",
        "print(repeat_3_times(\"lara \"))\n",
        "print(repeat_4_times(\"linda \"))"
      ],
      "execution_count": 73,
      "outputs": [
        {
          "output_type": "stream",
          "name": "stdout",
          "text": [
            "alex alex \n",
            "lara lara lara \n",
            "linda linda linda linda \n"
          ]
        }
      ]
    },
    {
      "cell_type": "code",
      "metadata": {
        "id": "iL-gGoKKTP28"
      },
      "source": [
        "def functioner(n) :\n",
        "  return lambda x :print(x, n)"
      ],
      "execution_count": null,
      "outputs": []
    },
    {
      "cell_type": "code",
      "metadata": {
        "colab": {
          "base_uri": "https://localhost:8080/"
        },
        "id": "q96Dv-BbTP6I",
        "outputId": "38d92e3c-abe5-4223-fec5-eb6f1862a4b3"
      },
      "source": [
        "def functioner(n) :\n",
        "  return lambda x :print(x, n)\n",
        "myPrint_smile = functioner(\":)\")\n",
        "myPrint_sad = functioner(\":(\")\n",
        "myPrint_neutral = functioner(\":|\")\n",
        "\n",
        "myPrint_smile(\"Bahri\")"
      ],
      "execution_count": 79,
      "outputs": [
        {
          "output_type": "stream",
          "name": "stdout",
          "text": [
            "Bahri :)\n"
          ]
        }
      ]
    },
    {
      "cell_type": "code",
      "metadata": {
        "colab": {
          "base_uri": "https://localhost:8080/"
        },
        "id": "HfH1qPgiTP7_",
        "outputId": "ff32f8ba-82b5-4ad6-911e-f53b261933f8"
      },
      "source": [
        "(lambda x : print(x, \":)\"))\n",
        "print(\"ali\", \":)\")"
      ],
      "execution_count": 78,
      "outputs": [
        {
          "output_type": "stream",
          "name": "stdout",
          "text": [
            "ali :)\n"
          ]
        }
      ]
    },
    {
      "cell_type": "code",
      "metadata": {
        "colab": {
          "base_uri": "https://localhost:8080/"
        },
        "id": "0RWhUHblTP-T",
        "outputId": "4d138973-94e1-4275-fdec-d94971913dbe"
      },
      "source": [
        "(lambda x : print(x, \":(\"))(\"ali\")"
      ],
      "execution_count": 80,
      "outputs": [
        {
          "output_type": "stream",
          "name": "stdout",
          "text": [
            "ali :(\n"
          ]
        }
      ]
    },
    {
      "cell_type": "code",
      "metadata": {
        "colab": {
          "base_uri": "https://localhost:8080/"
        },
        "id": "TRR_cmmgTQAD",
        "outputId": "faf6022a-c7eb-44fd-fd02-2af55271e6fa"
      },
      "source": [
        "(lambda x : print(x, \":|\"))(\"ali\")"
      ],
      "execution_count": 81,
      "outputs": [
        {
          "output_type": "stream",
          "name": "stdout",
          "text": [
            "ali :|\n"
          ]
        }
      ]
    },
    {
      "cell_type": "code",
      "metadata": {
        "id": "PtvnKxvKZhbs"
      },
      "source": [
        "def functioner(emoji) :\n",
        "  return lambda x : print(x, emoji)\n",
        "myPrint_smile = functioner(\":)\")\n",
        "myPrint_sad = functioner(\":(\")\n",
        "myPrint_neutral = functioner(\":|\")"
      ],
      "execution_count": 83,
      "outputs": []
    },
    {
      "cell_type": "code",
      "metadata": {
        "colab": {
          "base_uri": "https://localhost:8080/"
        },
        "id": "zd4j7FQ6ZhfR",
        "outputId": "3a56a286-96a1-425f-a6c3-19e33bc915b4"
      },
      "source": [
        "myPrint_sad(\"Kamil\")"
      ],
      "execution_count": 84,
      "outputs": [
        {
          "output_type": "stream",
          "name": "stdout",
          "text": [
            "Kamil :(\n"
          ]
        }
      ]
    },
    {
      "cell_type": "code",
      "metadata": {
        "colab": {
          "base_uri": "https://localhost:8080/"
        },
        "id": "K072-g-pZhiD",
        "outputId": "f21ab555-6f07-46be-e9f3-84af2244516e"
      },
      "source": [
        "functioner(\":)\")(\"Kamil\")"
      ],
      "execution_count": 85,
      "outputs": [
        {
          "output_type": "stream",
          "name": "stdout",
          "text": [
            "Kamil :)\n"
          ]
        }
      ]
    },
    {
      "cell_type": "code",
      "metadata": {
        "colab": {
          "base_uri": "https://localhost:8080/"
        },
        "id": "U4QGkDdwbpC5",
        "outputId": "0500e9b7-fd83-41ad-adf5-46cc090a1706"
      },
      "source": [
        "(lambda x : print(x))(\"ali veli deli\")"
      ],
      "execution_count": 94,
      "outputs": [
        {
          "output_type": "stream",
          "name": "stdout",
          "text": [
            "ali veli deli\n"
          ]
        }
      ]
    },
    {
      "cell_type": "code",
      "metadata": {
        "colab": {
          "base_uri": "https://localhost:8080/"
        },
        "id": "DP7A0HlXbpF5",
        "outputId": "f89af38a-79ab-4a99-f0b0-648211a20c6d"
      },
      "source": [
        "(lambda x : max(x))((1,2,3))"
      ],
      "execution_count": 96,
      "outputs": [
        {
          "output_type": "execute_result",
          "data": {
            "text/plain": [
              "3"
            ]
          },
          "metadata": {},
          "execution_count": 96
        }
      ]
    },
    {
      "cell_type": "code",
      "metadata": {
        "colab": {
          "base_uri": "https://localhost:8080/"
        },
        "id": "zjk9VCw6bpIO",
        "outputId": "c11a887a-3623-4eeb-8473-a8d5514a4def"
      },
      "source": [
        "(lambda x : sorted(x))((3,5,1))"
      ],
      "execution_count": 97,
      "outputs": [
        {
          "output_type": "execute_result",
          "data": {
            "text/plain": [
              "[1, 3, 5]"
            ]
          },
          "metadata": {},
          "execution_count": 97
        }
      ]
    },
    {
      "cell_type": "code",
      "metadata": {
        "colab": {
          "base_uri": "https://localhost:8080/"
        },
        "id": "w7jfEYUPcTTj",
        "outputId": "268744da-fee5-4135-f305-f275637f17ed"
      },
      "source": [
        "def function_generator(function_name) :\n",
        "  return lambda x : function_name(x)\n",
        "\n",
        "oguzhan_max = function_generator(max)\n",
        "oguzhan_max([3,5,1])"
      ],
      "execution_count": 100,
      "outputs": [
        {
          "output_type": "execute_result",
          "data": {
            "text/plain": [
              "5"
            ]
          },
          "metadata": {},
          "execution_count": 100
        }
      ]
    },
    {
      "cell_type": "code",
      "metadata": {
        "colab": {
          "base_uri": "https://localhost:8080/"
        },
        "id": "6GVRiCyKcTWq",
        "outputId": "3badc133-a87d-4a83-b410-ff70a16e5408"
      },
      "source": [
        "oguzhan_sorted = function_generator(sorted)\n",
        "oguzhan_sorted([1,5,8,2,7])"
      ],
      "execution_count": 103,
      "outputs": [
        {
          "output_type": "execute_result",
          "data": {
            "text/plain": [
              "[1, 2, 5, 7, 8]"
            ]
          },
          "metadata": {},
          "execution_count": 103
        }
      ]
    },
    {
      "cell_type": "code",
      "metadata": {
        "colab": {
          "base_uri": "https://localhost:8080/"
        },
        "id": "foYWiCYqdNhx",
        "outputId": "f04ae1cd-ba05-4af6-b37b-df1f1cb12842"
      },
      "source": [
        "oguzhan_print = function_generator(print)\n",
        "oguzhan_print(\"TCG GEDİZ\")"
      ],
      "execution_count": 104,
      "outputs": [
        {
          "output_type": "stream",
          "name": "stdout",
          "text": [
            "TCG GEDİZ\n"
          ]
        }
      ]
    }
  ]
}