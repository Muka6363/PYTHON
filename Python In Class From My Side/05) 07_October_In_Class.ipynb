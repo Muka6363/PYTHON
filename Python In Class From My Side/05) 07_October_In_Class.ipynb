{
  "nbformat": 4,
  "nbformat_minor": 0,
  "metadata": {
    "colab": {
      "name": "07_October_In_Class.ipynb",
      "provenance": [],
      "collapsed_sections": []
    },
    "kernelspec": {
      "name": "python3",
      "display_name": "Python 3"
    },
    "language_info": {
      "name": "python"
    }
  },
  "cells": [
    {
      "cell_type": "code",
      "metadata": {
        "colab": {
          "base_uri": "https://localhost:8080/"
        },
        "id": "hVEcgm4GuLqG",
        "outputId": "ecb1a989-8e57-49c0-a796-2d5233da30fb"
      },
      "source": [
        "str_one = 'upper'\n",
        "str_two = 'case'\n",
        "str_comb = str_one + str_two # concat\n",
        "print('upper' + 'case')\n",
        "print(str_one + str_two)\n",
        "print(str_comb)"
      ],
      "execution_count": null,
      "outputs": [
        {
          "output_type": "stream",
          "name": "stdout",
          "text": [
            "uppercase\n",
            "uppercase\n",
            "uppercase\n"
          ]
        }
      ]
    },
    {
      "cell_type": "code",
      "metadata": {
        "colab": {
          "base_uri": "https://localhost:8080/"
        },
        "id": "LRFvXFFNvecL",
        "outputId": "5bafd718-ba2d-47ef-88e1-56c801209f0c"
      },
      "source": [
        "sonuc = str((5 + 6) ** 2) + \"121\" # iki stringi concat ettik\n",
        "print(sonuc)"
      ],
      "execution_count": null,
      "outputs": [
        {
          "output_type": "stream",
          "name": "stdout",
          "text": [
            "121121\n"
          ]
        }
      ]
    },
    {
      "cell_type": "code",
      "metadata": {
        "colab": {
          "base_uri": "https://localhost:8080/"
        },
        "id": "hjxh3Pmvvg9S",
        "outputId": "97775a05-e6f0-4572-8aac-0072efe579df"
      },
      "source": [
        "sonuc = \"121121\"\n",
        "sonuc = (sonuc + sonuc) * 2\n",
        "print(sonuc)"
      ],
      "execution_count": null,
      "outputs": [
        {
          "output_type": "stream",
          "name": "stdout",
          "text": [
            "121121121121121121121121\n"
          ]
        }
      ]
    },
    {
      "cell_type": "code",
      "metadata": {
        "colab": {
          "base_uri": "https://localhost:8080/",
          "height": 35
        },
        "id": "U94qZr6ovhIi",
        "outputId": "be457d8a-b9ef-47b0-e47a-949440b25446"
      },
      "source": [
        "\"clarusway \" * 3"
      ],
      "execution_count": null,
      "outputs": [
        {
          "output_type": "execute_result",
          "data": {
            "application/vnd.google.colaboratory.intrinsic+json": {
              "type": "string"
            },
            "text/plain": [
              "'clarusway clarusway clarusway '"
            ]
          },
          "metadata": {},
          "execution_count": 21
        }
      ]
    },
    {
      "cell_type": "code",
      "metadata": {
        "colab": {
          "base_uri": "https://localhost:8080/",
          "height": 35
        },
        "id": "GEjn3CL6vhPy",
        "outputId": "d3e9e10d-af5a-4039-8809-ce522ac3c9a7"
      },
      "source": [
        "\"ali veli deli\" * 3"
      ],
      "execution_count": null,
      "outputs": [
        {
          "output_type": "execute_result",
          "data": {
            "application/vnd.google.colaboratory.intrinsic+json": {
              "type": "string"
            },
            "text/plain": [
              "'ali veli deliali veli deliali veli deli'"
            ]
          },
          "metadata": {},
          "execution_count": 22
        }
      ]
    },
    {
      "cell_type": "code",
      "metadata": {
        "colab": {
          "base_uri": "https://localhost:8080/"
        },
        "id": "fN9wOsTRvhVR",
        "outputId": "04e780a0-d78a-4b04-c286-5c90947156ad"
      },
      "source": [
        "print(* \"clarusway\") # unpacking"
      ],
      "execution_count": null,
      "outputs": [
        {
          "output_type": "stream",
          "name": "stdout",
          "text": [
            "c l a r u s w a y\n"
          ]
        }
      ]
    },
    {
      "cell_type": "code",
      "metadata": {
        "colab": {
          "base_uri": "https://localhost:8080/"
        },
        "id": "oRkZplyBvhYS",
        "outputId": "272e48ee-b012-4f4c-90a6-25bb7c4ebc77"
      },
      "source": [
        "kurs = \"clarusway\" # unpacking\n",
        "print(* kurs)"
      ],
      "execution_count": null,
      "outputs": [
        {
          "output_type": "stream",
          "name": "stdout",
          "text": [
            "c l a r u s w a y\n"
          ]
        }
      ]
    },
    {
      "cell_type": "code",
      "metadata": {
        "colab": {
          "base_uri": "https://localhost:8080/"
        },
        "id": "3VmSJw5evha5",
        "outputId": "0fc2e150-7d91-4f32-838e-7cca7d40c9cf"
      },
      "source": [
        "string_1 = 'I am angry...'\n",
        "print(* string_1)\n",
        "string_2 = '1453'\n",
        "print(* string_2)\n",
        "'joseph@clarusway.com'\n",
        "print(* 'joseph@clarusway.com')"
      ],
      "execution_count": null,
      "outputs": [
        {
          "output_type": "stream",
          "name": "stdout",
          "text": [
            "I   a m   a n g r y . . .\n",
            "1 4 5 3\n",
            "j o s e p h @ c l a r u s w a y . c o m\n"
          ]
        }
      ]
    },
    {
      "cell_type": "code",
      "metadata": {
        "colab": {
          "base_uri": "https://localhost:8080/"
        },
        "id": "KqJI0-ZUvhds",
        "outputId": "c91cdd29-41d8-4a6c-b4cd-e04718a7ffba"
      },
      "source": [
        "str_one = 'upper'\n",
        "str_one += 'case'\n",
        "print(str_one)\n",
        "str_one += 'letter'\n",
        "print(str_one)\n",
        "str_one += 'end'\n",
        "print(str_one)"
      ],
      "execution_count": null,
      "outputs": [
        {
          "output_type": "stream",
          "name": "stdout",
          "text": [
            "uppercase\n",
            "uppercaseletter\n",
            "uppercaseletterend\n"
          ]
        }
      ]
    },
    {
      "cell_type": "code",
      "metadata": {
        "colab": {
          "base_uri": "https://localhost:8080/",
          "height": 35
        },
        "id": "rsp5qnEOvhgS",
        "outputId": "9ed393e6-0158-4bac-cdc9-4aa373304145"
      },
      "source": [
        "saat = '05:00'\n",
        "yer = \"Okul\"\n",
        "miktar = 2\n",
        "\"Ben sabah {}'te uyandım. {}' a gittim. Gelirken de {} kg elma aldım.\".format(saat, yer, miktar)\n",
        "# .format() metodu içerisine değer veya değişken alıyor"
      ],
      "execution_count": null,
      "outputs": [
        {
          "output_type": "execute_result",
          "data": {
            "application/vnd.google.colaboratory.intrinsic+json": {
              "type": "string"
            },
            "text/plain": [
              "\"Ben sabah 05:00'te uyandım. Okul' a gittim. Gelirken de 2 kg elma aldım.\""
            ]
          },
          "metadata": {},
          "execution_count": 35
        }
      ]
    },
    {
      "cell_type": "code",
      "metadata": {
        "colab": {
          "base_uri": "https://localhost:8080/",
          "height": 35
        },
        "id": "u7o2Kecmvhim",
        "outputId": "ae5fd80f-7b33-4e2f-9129-cb1773f39210"
      },
      "source": [
        "\"Ben sabah {}'te uyandım. {}' a gittim. Gelirken de {} kg elma aldım.\".format(\"05:00\", \"Okul\", 2)"
      ],
      "execution_count": null,
      "outputs": [
        {
          "output_type": "execute_result",
          "data": {
            "application/vnd.google.colaboratory.intrinsic+json": {
              "type": "string"
            },
            "text/plain": [
              "\"Ben sabah 05:00'te uyandım. Okul' a gittim. Gelirken de 2 kg elma aldım.\""
            ]
          },
          "metadata": {},
          "execution_count": 36
        }
      ]
    },
    {
      "cell_type": "code",
      "metadata": {
        "colab": {
          "base_uri": "https://localhost:8080/"
        },
        "id": "a0HeOMx9vhlP",
        "outputId": "1be41691-6d2b-4dae-df0b-08720fcffbc4"
      },
      "source": [
        "fruit = 'Orange'\n",
        "vegetable = 'Tomato'\n",
        "amount = 4\n",
        "print('The amount of {} we bought is {} pounds'.format(fruit, amount))"
      ],
      "execution_count": null,
      "outputs": [
        {
          "output_type": "stream",
          "name": "stdout",
          "text": [
            "The amount of Orange we bought is 4 pounds\n"
          ]
        }
      ]
    },
    {
      "cell_type": "code",
      "metadata": {
        "colab": {
          "base_uri": "https://localhost:8080/"
        },
        "id": "fS7zU7VsvhoU",
        "outputId": "84bba51e-0677-44e7-c18a-30bcd38e9b77"
      },
      "source": [
        "print('{state} is the most {adjective} state of the {country}'.format(state='California', country='USA', adjective='crowded'))"
      ],
      "execution_count": null,
      "outputs": [
        {
          "output_type": "stream",
          "name": "stdout",
          "text": [
            "California is the most crowded state of the USA\n"
          ]
        }
      ]
    },
    {
      "cell_type": "code",
      "metadata": {
        "colab": {
          "base_uri": "https://localhost:8080/",
          "height": 35
        },
        "id": "lmQ7vnlevhq5",
        "outputId": "6d1ae6ac-3f65-483c-9118-7737a4742805"
      },
      "source": [
        "\"Ben sabah {saat}'te uyandım. {yer}' a gittim. Gelirken de {miktar} kg elma aldım.\".format(yer = \"Okul\", saat = \"05:00\", miktar = 2)"
      ],
      "execution_count": null,
      "outputs": [
        {
          "output_type": "execute_result",
          "data": {
            "application/vnd.google.colaboratory.intrinsic+json": {
              "type": "string"
            },
            "text/plain": [
              "\"Ben sabah 05:00'te uyandım. Okul' a gittim. Gelirken de 2 kg elma aldım.\""
            ]
          },
          "metadata": {},
          "execution_count": 41
        }
      ]
    },
    {
      "cell_type": "code",
      "metadata": {
        "colab": {
          "base_uri": "https://localhost:8080/",
          "height": 35
        },
        "id": "YdcrDQ0A7f_A",
        "outputId": "2ccb2948-fa8d-42f4-b3dd-44a7ca68334b"
      },
      "source": [
        "\"Ben sabah {1}'te uyandım. {0}' a gittim. Gelirken de {2} kg elma aldım.\".format(\"Okul\", \"05:00\", 2)"
      ],
      "execution_count": null,
      "outputs": [
        {
          "output_type": "execute_result",
          "data": {
            "application/vnd.google.colaboratory.intrinsic+json": {
              "type": "string"
            },
            "text/plain": [
              "\"Ben sabah 05:00'te uyandım. Okul' a gittim. Gelirken de 2 kg elma aldım.\""
            ]
          },
          "metadata": {},
          "execution_count": 45
        }
      ]
    },
    {
      "cell_type": "code",
      "metadata": {
        "colab": {
          "base_uri": "https://localhost:8080/"
        },
        "id": "ARsuH0kM7gF4",
        "outputId": "cd10de99-2115-4261-fcbe-64f5a3b38bbc"
      },
      "source": [
        "print(\"{}-{}-{}\".format(\"12\", \"Feb\", \"Feb\"))\n",
        "print(\"{no}-{month}-{month}\".format(no = \"12\", month = \"Feb\") )\n",
        "\n",
        "print(\"{6} {5} {0} {1} {3} {4} {1} {2}\".format(\"a new\", \"job\", \"months\", \"in\", 6, \"have started\", \"I will\"))"
      ],
      "execution_count": null,
      "outputs": [
        {
          "output_type": "stream",
          "name": "stdout",
          "text": [
            "12-Feb-Feb\n",
            "12-Feb-Feb\n",
            "I will have started a new job in 6 job months\n"
          ]
        }
      ]
    },
    {
      "cell_type": "code",
      "metadata": {
        "colab": {
          "base_uri": "https://localhost:8080/"
        },
        "id": "0xN5dory7gJg",
        "outputId": "4b32c8b6-2eef-4d2e-9468-929b827dac63"
      },
      "source": [
        "# Task - To print the statement of \"generosity wins in all circumstances\", arrange the following code.\n",
        "\n",
        "phrase = '{2} {3} {1} {0}'.format('circumstances', 'in all', 'generosity', 'wins')\n",
        "print(phrase)"
      ],
      "execution_count": null,
      "outputs": [
        {
          "output_type": "stream",
          "name": "stdout",
          "text": [
            "generosity wins in all circumstances\n"
          ]
        }
      ]
    },
    {
      "cell_type": "code",
      "metadata": {
        "colab": {
          "base_uri": "https://localhost:8080/"
        },
        "id": "mUq58bk3-hUx",
        "outputId": "77a1163a-dc3d-4615-eed8-cd266eac1ce2"
      },
      "source": [
        "fruit = 'Orange'\n",
        "vegetable = 'Tomato'\n",
        "amount = 6\n",
        "output = f\"The amount of {fruit} and {vegetable} we bought are totally {amount} pounds\"\n",
        "\n",
        "print(output)"
      ],
      "execution_count": null,
      "outputs": [
        {
          "output_type": "stream",
          "name": "stdout",
          "text": [
            "The amount of Orange and Tomato we bought are totally 6 pounds\n"
          ]
        }
      ]
    },
    {
      "cell_type": "code",
      "metadata": {
        "colab": {
          "base_uri": "https://localhost:8080/"
        },
        "id": "foQ2zuwu-hbA",
        "outputId": "7532658d-e097-4610-fa28-00e5bb03ca40"
      },
      "source": [
        "text = f\"{str(11) + '11'}\" # süslü parantez içinde hem fonk. kullığ hem de\n",
        "# concat yaptık.\n",
        "\n",
        "print(text)"
      ],
      "execution_count": null,
      "outputs": [
        {
          "output_type": "stream",
          "name": "stdout",
          "text": [
            "1111\n"
          ]
        }
      ]
    },
    {
      "cell_type": "code",
      "metadata": {
        "colab": {
          "base_uri": "https://localhost:8080/"
        },
        "id": "QFSmmKrb-hh8",
        "outputId": "3401417c-17e0-444b-831e-a99a2d2eba18"
      },
      "source": [
        "# Süslü parantez içinde operasyon yaptık\n",
        "text = f\"ali veli {'seli'.replace('s', 'd')}\" # replace metodu\n",
        "print(text)"
      ],
      "execution_count": null,
      "outputs": [
        {
          "output_type": "stream",
          "name": "stdout",
          "text": [
            "ali veli deli\n"
          ]
        }
      ]
    },
    {
      "cell_type": "code",
      "metadata": {
        "colab": {
          "base_uri": "https://localhost:8080/"
        },
        "id": "rjl9t83R-hpO",
        "outputId": "ddaffe50-937d-4092-e139-0510351e66e1"
      },
      "source": [
        "name = \"MARIAM\"\n",
        "output = f\"My name is {name.capitalize()}\"\n",
        "print(output)"
      ],
      "execution_count": null,
      "outputs": [
        {
          "output_type": "stream",
          "name": "stdout",
          "text": [
            "My name is Mariam\n"
          ]
        }
      ]
    },
    {
      "cell_type": "code",
      "metadata": {
        "colab": {
          "base_uri": "https://localhost:8080/"
        },
        "id": "WypKIm9B-hwQ",
        "outputId": "96a2c93f-ccea-4c86-e44d-37b9ea96ecd8"
      },
      "source": [
        "my_name = 'JOSEPH'\n",
        "output = f\"My name is {my_name.capitalize()}\"\n",
        "\n",
        "print(output)"
      ],
      "execution_count": null,
      "outputs": [
        {
          "output_type": "stream",
          "name": "stdout",
          "text": [
            "My name is Joseph\n"
          ]
        }
      ]
    },
    {
      "cell_type": "code",
      "metadata": {
        "colab": {
          "base_uri": "https://localhost:8080/"
        },
        "id": "1ixkreyi7gMg",
        "outputId": "d74d29d9-40e4-4088-e021-63a0ea48604b"
      },
      "source": [
        "name = \"Joseph\"\n",
        "job = \"teachers\"\n",
        "domain = \"Data Science\"\n",
        "message = (\n",
        "     f\"Hi {name}. \"\n",
        "     f\"You are one of the {job} \"\n",
        "     f\"in the {domain} section.\"\n",
        ")\n",
        "print(message)"
      ],
      "execution_count": null,
      "outputs": [
        {
          "output_type": "stream",
          "name": "stdout",
          "text": [
            "Hi Joseph. You are one of the teachers in the Data Science section.\n"
          ]
        }
      ]
    },
    {
      "cell_type": "code",
      "metadata": {
        "colab": {
          "base_uri": "https://localhost:8080/"
        },
        "id": "x8InYwJi7gO5",
        "outputId": "83a2536d-0d3a-45cd-90e0-dcf02b2e94be"
      },
      "source": [
        "name = \"Joseph\"\n",
        "job = \"teachers\"\n",
        "domain = \"Data Science\"\n",
        "message = f\"Hi {name}. \" \\\n",
        "     f\"You are one of the {job} \" \\\n",
        "     f\"in the {domain} section.\"\n",
        "\n",
        "print(message)"
      ],
      "execution_count": null,
      "outputs": [
        {
          "output_type": "stream",
          "name": "stdout",
          "text": [
            "Hi Joseph. You are one of the teachers in the Data Science section.\n"
          ]
        }
      ]
    },
    {
      "cell_type": "code",
      "metadata": {
        "colab": {
          "base_uri": "https://localhost:8080/",
          "height": 35
        },
        "id": "uGmNmJJ67gRb",
        "outputId": "1da301e3-cd37-453a-831f-c85b960c87a7"
      },
      "source": [
        "\"Ben sabah {1}'te uyandım. {0}' a gittim. Gelirken \\\n",
        "de {2} kg elma aldım.\".format(\\\n",
        "\"Okul\", \"05:00\", 2) # Kodu satırlara böldük ters slash ile"
      ],
      "execution_count": null,
      "outputs": [
        {
          "output_type": "execute_result",
          "data": {
            "application/vnd.google.colaboratory.intrinsic+json": {
              "type": "string"
            },
            "text/plain": [
              "\"Ben sabah 05:00'te uyandım. Okul' a gittim. Gelirken de 2 kg elma aldım.\""
            ]
          },
          "metadata": {},
          "execution_count": 68
        }
      ]
    },
    {
      "cell_type": "code",
      "metadata": {
        "colab": {
          "base_uri": "https://localhost:8080/"
        },
        "id": "HFNZUgXN7gT5",
        "outputId": "67319e51-f4d9-4a45-b5eb-871b0009cb45"
      },
      "source": [
        "name = \"Susan\"\n",
        "age = \"young\"\n",
        "gender = \"lady\"\n",
        "school = \"CLRWY IT university\"\n",
        "message = f\" {name} is a \" \\\n",
        "     f\"{age} {gender} and she is a student \" \\\n",
        "     f\"at the {school}.\"\n",
        "\n",
        "print(message)"
      ],
      "execution_count": null,
      "outputs": [
        {
          "output_type": "stream",
          "name": "stdout",
          "text": [
            " Susan is a young lady and she is a student at the CLRWY IT university.\n"
          ]
        }
      ]
    },
    {
      "cell_type": "code",
      "metadata": {
        "colab": {
          "base_uri": "https://localhost:8080/"
        },
        "id": "1RbCSSUaOat5",
        "outputId": "713c0868-1c51-4fa5-e4d6-bb36694c2f87"
      },
      "source": [
        "para = 1000\n",
        "para = para + para * 0.07 # Pazartesi\n",
        "print(para)\n",
        "para = para + para * 0.07 # Salı\n",
        "print(para)\n",
        "para = para + para * 0.07 # Çarşamba\n",
        "print(para)\n",
        "para = para + para * 0.07 # Perşembe\n",
        "print(para)\n",
        "para = para + para * 0.07 # Cuma\n",
        "print(para)\n",
        "para = para + para * 0.07 # Cumartesi\n",
        "print(para)\n",
        "para = para + para * 0.07 # Pazar\n",
        "print(para)"
      ],
      "execution_count": null,
      "outputs": [
        {
          "output_type": "stream",
          "name": "stdout",
          "text": [
            "1070.0\n",
            "1144.9\n",
            "1225.0430000000001\n",
            "1310.79601\n",
            "1402.5517307\n",
            "1500.730351849\n",
            "1605.78147647843\n"
          ]
        }
      ]
    },
    {
      "cell_type": "code",
      "metadata": {
        "colab": {
          "base_uri": "https://localhost:8080/"
        },
        "id": "lwOaYaXeOa5_",
        "outputId": "48eba641-087f-465a-f459-fcec147bf94a"
      },
      "source": [
        "money_first_day = 1000\n",
        "money_with_profit = money_first_day * 1.07 ** 7\n",
        "print('7 günün sonunda bakiyeniz: ' + str(money_with_profit))"
      ],
      "execution_count": null,
      "outputs": [
        {
          "output_type": "stream",
          "name": "stdout",
          "text": [
            "7 günün sonunda bakiyeniz: 1605.7814764784307\n"
          ]
        }
      ]
    },
    {
      "cell_type": "code",
      "metadata": {
        "colab": {
          "base_uri": "https://localhost:8080/"
        },
        "id": "fp6qyVzsObCP",
        "outputId": "d82f7cd3-6cd6-48e3-e40d-e9313f798212"
      },
      "source": [
        "# QUIZ - 1\n",
        "\n",
        "word = 'clarusway'\n",
        "n = 3\n",
        "front = word[0:3]\n",
        "back = word[4:]\n",
        "print(front + back)"
      ],
      "execution_count": null,
      "outputs": [
        {
          "output_type": "stream",
          "name": "stdout",
          "text": [
            "clausway\n"
          ]
        }
      ]
    },
    {
      "cell_type": "code",
      "metadata": {
        "colab": {
          "base_uri": "https://localhost:8080/"
        },
        "id": "2B1QPLHsObJH",
        "outputId": "ee3f15c4-148a-4433-9f75-41dfd61b6798"
      },
      "source": [
        "# QUIZ - 2\n",
        "\n",
        "print('{}! I am a {} programmer and I {} Clarusway.'.format('Hello', 'new', 'love'))"
      ],
      "execution_count": null,
      "outputs": [
        {
          "output_type": "stream",
          "name": "stdout",
          "text": [
            "Hello! I am a new programmer and I love Clarusway.\n"
          ]
        }
      ]
    },
    {
      "cell_type": "code",
      "metadata": {
        "colab": {
          "base_uri": "https://localhost:8080/"
        },
        "id": "k3KiI7cBObP0",
        "outputId": "23e8fb26-8a22-4c7e-894f-29a05b487383"
      },
      "source": [
        "# QUIZ - 3\n",
        "\n",
        "city = \"SARAJEVO\"\n",
        "text = f\"I live in {city.capitalize()}.\"\n",
        "print(text)"
      ],
      "execution_count": null,
      "outputs": [
        {
          "output_type": "stream",
          "name": "stdout",
          "text": [
            "I live in Sarajevo.\n"
          ]
        }
      ]
    }
  ]
}