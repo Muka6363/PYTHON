{
  "nbformat": 4,
  "nbformat_minor": 0,
  "metadata": {
    "colab": {
      "name": "04_November_In_Class",
      "provenance": [],
      "collapsed_sections": []
    },
    "kernelspec": {
      "name": "python3",
      "display_name": "Python 3"
    },
    "language_info": {
      "name": "python"
    }
  },
  "cells": [
    {
      "cell_type": "code",
      "metadata": {
        "id": "g9Z5os6jHHjL"
      },
      "source": [
        "a = set(\"philedelphia\")\n",
        "b = set(\"dolphin\")"
      ],
      "execution_count": 2,
      "outputs": []
    },
    {
      "cell_type": "code",
      "metadata": {
        "colab": {
          "base_uri": "https://localhost:8080/"
        },
        "id": "hxQOVYw0Jb6x",
        "outputId": "639a3cf2-0aca-4c54-afd5-16113924a4db"
      },
      "source": [
        "a"
      ],
      "execution_count": 3,
      "outputs": [
        {
          "output_type": "execute_result",
          "data": {
            "text/plain": [
              "{'a', 'd', 'e', 'h', 'i', 'l', 'p'}"
            ]
          },
          "metadata": {},
          "execution_count": 3
        }
      ]
    },
    {
      "cell_type": "code",
      "metadata": {
        "colab": {
          "base_uri": "https://localhost:8080/"
        },
        "id": "DoFEAEnzJcCu",
        "outputId": "7eed7101-d138-4e69-dea3-c877d6f835e0"
      },
      "source": [
        "b"
      ],
      "execution_count": 4,
      "outputs": [
        {
          "output_type": "execute_result",
          "data": {
            "text/plain": [
              "{'d', 'h', 'i', 'l', 'n', 'o', 'p'}"
            ]
          },
          "metadata": {},
          "execution_count": 4
        }
      ]
    },
    {
      "cell_type": "code",
      "metadata": {
        "colab": {
          "base_uri": "https://localhost:8080/"
        },
        "id": "NSyY-CE4JcH3",
        "outputId": "22349b31-b003-4b66-f160-10ac25c20e02"
      },
      "source": [
        "b - a"
      ],
      "execution_count": 6,
      "outputs": [
        {
          "output_type": "execute_result",
          "data": {
            "text/plain": [
              "{'n', 'o'}"
            ]
          },
          "metadata": {},
          "execution_count": 6
        }
      ]
    },
    {
      "cell_type": "code",
      "metadata": {
        "colab": {
          "base_uri": "https://localhost:8080/"
        },
        "id": "ZUVYUwU8Jk1v",
        "outputId": "8d7a3438-44af-4e44-c4d9-5d7ea1a6f991"
      },
      "source": [
        "a - b"
      ],
      "execution_count": 7,
      "outputs": [
        {
          "output_type": "execute_result",
          "data": {
            "text/plain": [
              "{'a', 'e'}"
            ]
          },
          "metadata": {},
          "execution_count": 7
        }
      ]
    },
    {
      "cell_type": "code",
      "metadata": {
        "colab": {
          "base_uri": "https://localhost:8080/"
        },
        "id": "Amd0ejzYJk4a",
        "outputId": "5d28d3c2-046f-46be-d2d2-41b1d7076f92"
      },
      "source": [
        "print(a.difference(b))"
      ],
      "execution_count": 8,
      "outputs": [
        {
          "output_type": "stream",
          "name": "stdout",
          "text": [
            "{'a', 'e'}\n"
          ]
        }
      ]
    },
    {
      "cell_type": "code",
      "metadata": {
        "colab": {
          "base_uri": "https://localhost:8080/"
        },
        "id": "hzRCcmsBJk61",
        "outputId": "490d6a77-809c-412f-ffb5-128493f3876e"
      },
      "source": [
        "print(b.difference(a))"
      ],
      "execution_count": 9,
      "outputs": [
        {
          "output_type": "stream",
          "name": "stdout",
          "text": [
            "{'o', 'n'}\n"
          ]
        }
      ]
    },
    {
      "cell_type": "code",
      "metadata": {
        "colab": {
          "base_uri": "https://localhost:8080/"
        },
        "id": "EXgTwvV4Jk9T",
        "outputId": "a10922b6-7cbc-4bda-9828-161ff5f44966"
      },
      "source": [
        "bool(set())"
      ],
      "execution_count": 10,
      "outputs": [
        {
          "output_type": "execute_result",
          "data": {
            "text/plain": [
              "False"
            ]
          },
          "metadata": {},
          "execution_count": 10
        }
      ]
    },
    {
      "cell_type": "code",
      "metadata": {
        "colab": {
          "base_uri": "https://localhost:8080/"
        },
        "id": "8BfeZsBCJk_M",
        "outputId": "a88aa322-6171-4be9-fe82-1432eb6b632f"
      },
      "source": [
        "bool(a -b)"
      ],
      "execution_count": 11,
      "outputs": [
        {
          "output_type": "execute_result",
          "data": {
            "text/plain": [
              "True"
            ]
          },
          "metadata": {},
          "execution_count": 11
        }
      ]
    },
    {
      "cell_type": "code",
      "metadata": {
        "colab": {
          "base_uri": "https://localhost:8080/"
        },
        "id": "la48KVHjKFH4",
        "outputId": "f90dab83-5706-4225-ed47-5837a2c69a5c"
      },
      "source": [
        "print(a | b)"
      ],
      "execution_count": 12,
      "outputs": [
        {
          "output_type": "stream",
          "name": "stdout",
          "text": [
            "{'h', 'i', 'p', 'e', 'o', 'd', 'l', 'n', 'a'}\n"
          ]
        }
      ]
    },
    {
      "cell_type": "code",
      "metadata": {
        "colab": {
          "base_uri": "https://localhost:8080/"
        },
        "id": "H1-ndoXzKFKW",
        "outputId": "f8892235-c87a-4240-abea-08c2cab09f73"
      },
      "source": [
        "a | b == b | a"
      ],
      "execution_count": 13,
      "outputs": [
        {
          "output_type": "execute_result",
          "data": {
            "text/plain": [
              "True"
            ]
          },
          "metadata": {},
          "execution_count": 13
        }
      ]
    },
    {
      "cell_type": "code",
      "metadata": {
        "colab": {
          "base_uri": "https://localhost:8080/"
        },
        "id": "TLaWQ0BeKFNO",
        "outputId": "3777d786-19cf-43d4-febf-6e0a5d423121"
      },
      "source": [
        "a.union(b) == b.union(a)"
      ],
      "execution_count": 14,
      "outputs": [
        {
          "output_type": "execute_result",
          "data": {
            "text/plain": [
              "True"
            ]
          },
          "metadata": {},
          "execution_count": 14
        }
      ]
    },
    {
      "cell_type": "code",
      "metadata": {
        "colab": {
          "base_uri": "https://localhost:8080/"
        },
        "id": "qXsLZraZKqn-",
        "outputId": "7f07e842-959c-48c2-ef13-bdd2bdaddcd6"
      },
      "source": [
        "print(a & b)"
      ],
      "execution_count": 15,
      "outputs": [
        {
          "output_type": "stream",
          "name": "stdout",
          "text": [
            "{'h', 'i', 'p', 'd', 'l'}\n"
          ]
        }
      ]
    },
    {
      "cell_type": "code",
      "metadata": {
        "colab": {
          "base_uri": "https://localhost:8080/"
        },
        "id": "h-S71mxBKqtn",
        "outputId": "b11fb146-2b5b-4c6c-961c-b1081ea2eb13"
      },
      "source": [
        "print(a.intersection(b))"
      ],
      "execution_count": 16,
      "outputs": [
        {
          "output_type": "stream",
          "name": "stdout",
          "text": [
            "{'h', 'i', 'p', 'd', 'l'}\n"
          ]
        }
      ]
    },
    {
      "cell_type": "code",
      "metadata": {
        "colab": {
          "base_uri": "https://localhost:8080/"
        },
        "id": "qoVrb-t5KqwI",
        "outputId": "888798e2-83fe-445c-aa41-dc4c48b6d0bc"
      },
      "source": [
        "a.intersection(b) == b.intersection(a)"
      ],
      "execution_count": 17,
      "outputs": [
        {
          "output_type": "execute_result",
          "data": {
            "text/plain": [
              "True"
            ]
          },
          "metadata": {},
          "execution_count": 17
        }
      ]
    },
    {
      "cell_type": "code",
      "metadata": {
        "colab": {
          "base_uri": "https://localhost:8080/"
        },
        "id": "ir7IkAn-Kqyk",
        "outputId": "7376ed0a-3338-4b51-d9b1-7f4b389c6c5c"
      },
      "source": [
        "a & b == b & a"
      ],
      "execution_count": 18,
      "outputs": [
        {
          "output_type": "execute_result",
          "data": {
            "text/plain": [
              "True"
            ]
          },
          "metadata": {},
          "execution_count": 18
        }
      ]
    },
    {
      "cell_type": "code",
      "metadata": {
        "colab": {
          "base_uri": "https://localhost:8080/"
        },
        "id": "xdBrSubrK9FV",
        "outputId": "9a53dbe0-6256-4868-f800-486d03d857b5"
      },
      "source": [
        "exam_st_date = (11,12,2014)\n",
        "print(\"The examination will start from: %i / %i / %i \"%exam_st_date)"
      ],
      "execution_count": 19,
      "outputs": [
        {
          "output_type": "stream",
          "name": "stdout",
          "text": [
            "The examination will start from: 11 / 12 / 2014 \n"
          ]
        }
      ]
    },
    {
      "cell_type": "code",
      "metadata": {
        "id": "y2A4oYWnK9Id"
      },
      "source": [
        "date = \"11/04/2021\""
      ],
      "execution_count": 20,
      "outputs": []
    },
    {
      "cell_type": "code",
      "metadata": {
        "colab": {
          "base_uri": "https://localhost:8080/"
        },
        "id": "OpHECaLbK9LD",
        "outputId": "831df037-a32f-44f6-fb94-2d5834795cd8"
      },
      "source": [
        "set(date)"
      ],
      "execution_count": 21,
      "outputs": [
        {
          "output_type": "execute_result",
          "data": {
            "text/plain": [
              "{'/', '0', '1', '2', '4'}"
            ]
          },
          "metadata": {},
          "execution_count": 21
        }
      ]
    },
    {
      "cell_type": "code",
      "metadata": {
        "colab": {
          "base_uri": "https://localhost:8080/"
        },
        "id": "g53HVv2bLUAv",
        "outputId": "fa6711cf-1cd6-45b4-8719-83407450c1ef"
      },
      "source": [
        "{date}"
      ],
      "execution_count": 22,
      "outputs": [
        {
          "output_type": "execute_result",
          "data": {
            "text/plain": [
              "{'11/04/2021'}"
            ]
          },
          "metadata": {},
          "execution_count": 22
        }
      ]
    },
    {
      "cell_type": "code",
      "metadata": {
        "id": "CkHNO0jcLUEU"
      },
      "source": [
        "usa = set(\"washington\")"
      ],
      "execution_count": 25,
      "outputs": []
    },
    {
      "cell_type": "code",
      "metadata": {
        "id": "hnzzx6CYLUHw"
      },
      "source": [
        "nz = set(\"wellington\")"
      ],
      "execution_count": 26,
      "outputs": []
    },
    {
      "cell_type": "code",
      "metadata": {
        "colab": {
          "base_uri": "https://localhost:8080/"
        },
        "id": "zMuhxChWLUKS",
        "outputId": "93bab5e4-860e-4235-d185-6d2702c9797f"
      },
      "source": [
        "usa - nz"
      ],
      "execution_count": 27,
      "outputs": [
        {
          "output_type": "execute_result",
          "data": {
            "text/plain": [
              "{'a', 'h', 's'}"
            ]
          },
          "metadata": {},
          "execution_count": 27
        }
      ]
    },
    {
      "cell_type": "code",
      "metadata": {
        "colab": {
          "base_uri": "https://localhost:8080/"
        },
        "id": "B3p7Z2XhLUMw",
        "outputId": "546361b3-1062-46ab-c56b-933ee7e21a08"
      },
      "source": [
        "nz - usa"
      ],
      "execution_count": 28,
      "outputs": [
        {
          "output_type": "execute_result",
          "data": {
            "text/plain": [
              "{'e', 'l'}"
            ]
          },
          "metadata": {},
          "execution_count": 28
        }
      ]
    },
    {
      "cell_type": "code",
      "metadata": {
        "colab": {
          "base_uri": "https://localhost:8080/"
        },
        "id": "levVFck7NThy",
        "outputId": "fa40dd20-b672-4bc0-c8d0-cdc6ca82ab7c"
      },
      "source": [
        "usa & nz"
      ],
      "execution_count": 29,
      "outputs": [
        {
          "output_type": "execute_result",
          "data": {
            "text/plain": [
              "{'g', 'i', 'n', 'o', 't', 'w'}"
            ]
          },
          "metadata": {},
          "execution_count": 29
        }
      ]
    },
    {
      "cell_type": "code",
      "metadata": {
        "colab": {
          "base_uri": "https://localhost:8080/"
        },
        "id": "hwAOKZ-uNTka",
        "outputId": "7f5f1dbd-6919-43d3-ba1e-69c80a859d1d"
      },
      "source": [
        "usa | nz"
      ],
      "execution_count": 30,
      "outputs": [
        {
          "output_type": "execute_result",
          "data": {
            "text/plain": [
              "{'a', 'e', 'g', 'h', 'i', 'l', 'n', 'o', 's', 't', 'w'}"
            ]
          },
          "metadata": {},
          "execution_count": 30
        }
      ]
    },
    {
      "cell_type": "code",
      "metadata": {
        "id": "OYFkEkOHNTm_"
      },
      "source": [
        "sayılar = [1, 2, 3, 4, 5]"
      ],
      "execution_count": 32,
      "outputs": []
    },
    {
      "cell_type": "code",
      "metadata": {
        "colab": {
          "base_uri": "https://localhost:8080/"
        },
        "id": "MyiE9wjFO6B1",
        "outputId": "22b9a275-0960-4526-fe27-9c284e696ca7"
      },
      "source": [
        "print(sayılar)"
      ],
      "execution_count": 33,
      "outputs": [
        {
          "output_type": "stream",
          "name": "stdout",
          "text": [
            "[1, 2, 3, 4, 5]\n"
          ]
        }
      ]
    },
    {
      "cell_type": "code",
      "metadata": {
        "colab": {
          "base_uri": "https://localhost:8080/"
        },
        "id": "rC3BJhlHO6EL",
        "outputId": "888d8cd3-2856-463b-d9ea-58fc32f239b1"
      },
      "source": [
        "print(sayılar[0])"
      ],
      "execution_count": 34,
      "outputs": [
        {
          "output_type": "stream",
          "name": "stdout",
          "text": [
            "1\n"
          ]
        }
      ]
    },
    {
      "cell_type": "code",
      "metadata": {
        "colab": {
          "base_uri": "https://localhost:8080/"
        },
        "id": "76Q6EEXzPDbj",
        "outputId": "2a625232-9a41-4729-a2e9-fc7e0c705fa8"
      },
      "source": [
        "print(sayılar[1])"
      ],
      "execution_count": 35,
      "outputs": [
        {
          "output_type": "stream",
          "name": "stdout",
          "text": [
            "2\n"
          ]
        }
      ]
    },
    {
      "cell_type": "code",
      "metadata": {
        "colab": {
          "base_uri": "https://localhost:8080/"
        },
        "id": "UeSDCv0MPDex",
        "outputId": "827a04ad-4cab-46ce-a48f-96b987378645"
      },
      "source": [
        "print(sayılar[2])"
      ],
      "execution_count": 36,
      "outputs": [
        {
          "output_type": "stream",
          "name": "stdout",
          "text": [
            "3\n"
          ]
        }
      ]
    },
    {
      "cell_type": "code",
      "metadata": {
        "colab": {
          "base_uri": "https://localhost:8080/"
        },
        "id": "FDfIIh4dPDi9",
        "outputId": "c0867ff2-58e1-4ea6-b5d0-02468c27d9f7"
      },
      "source": [
        "print(sayılar[3])"
      ],
      "execution_count": 37,
      "outputs": [
        {
          "output_type": "stream",
          "name": "stdout",
          "text": [
            "4\n"
          ]
        }
      ]
    },
    {
      "cell_type": "code",
      "metadata": {
        "colab": {
          "base_uri": "https://localhost:8080/"
        },
        "id": "IInGW8QJPDmf",
        "outputId": "26d685cc-1adf-4ef3-b4bb-b2ef901670b6"
      },
      "source": [
        "print(sayılar[4])"
      ],
      "execution_count": 38,
      "outputs": [
        {
          "output_type": "stream",
          "name": "stdout",
          "text": [
            "5\n"
          ]
        }
      ]
    },
    {
      "cell_type": "code",
      "metadata": {
        "id": "J-3z3C5DO6Gw"
      },
      "source": [
        "a = 3\n",
        "b = 0"
      ],
      "execution_count": 41,
      "outputs": []
    },
    {
      "cell_type": "code",
      "metadata": {
        "colab": {
          "base_uri": "https://localhost:8080/"
        },
        "id": "EiJhn8ZGO6I_",
        "outputId": "93ec9265-b43f-4aae-ef11-53fdb2373065"
      },
      "source": [
        "b > a"
      ],
      "execution_count": 42,
      "outputs": [
        {
          "output_type": "execute_result",
          "data": {
            "text/plain": [
              "False"
            ]
          },
          "metadata": {},
          "execution_count": 42
        }
      ]
    },
    {
      "cell_type": "code",
      "metadata": {
        "colab": {
          "base_uri": "https://localhost:8080/"
        },
        "id": "R3-WCdw6P6qs",
        "outputId": "5bb47b69-83d4-4600-8ac0-c86cd507d233"
      },
      "source": [
        "if True :\n",
        "  print('it is true')"
      ],
      "execution_count": 43,
      "outputs": [
        {
          "output_type": "stream",
          "name": "stdout",
          "text": [
            "it is true\n"
          ]
        }
      ]
    },
    {
      "cell_type": "code",
      "metadata": {
        "colab": {
          "base_uri": "https://localhost:8080/"
        },
        "id": "LI9G78IyP6tU",
        "outputId": "f12938f9-618d-4b5a-aade-9832d2fc3c1a"
      },
      "source": [
        "if \"0\" :\n",
        "  print(\"hello world\")\n",
        "print(\"print me in all cases.\")"
      ],
      "execution_count": 44,
      "outputs": [
        {
          "output_type": "stream",
          "name": "stdout",
          "text": [
            "hello world\n",
            "print me in all cases.\n"
          ]
        }
      ]
    },
    {
      "cell_type": "code",
      "metadata": {
        "colab": {
          "base_uri": "https://localhost:8080/"
        },
        "id": "Eh_IBEgpP6wG",
        "outputId": "282ab3fd-93b4-4a01-ac3d-9e6e66c146cb"
      },
      "source": [
        "bool(\"0\")"
      ],
      "execution_count": 45,
      "outputs": [
        {
          "output_type": "execute_result",
          "data": {
            "text/plain": [
              "True"
            ]
          },
          "metadata": {},
          "execution_count": 45
        }
      ]
    },
    {
      "cell_type": "code",
      "metadata": {
        "colab": {
          "base_uri": "https://localhost:8080/"
        },
        "id": "z6tfzHTSV8U4",
        "outputId": "e211aee9-815c-4b46-93d5-6329aed41244"
      },
      "source": [
        "if \"0\" and \"\" :\n",
        "  print(\"hello world\")\n",
        "print(\"print me in all cases.\")"
      ],
      "execution_count": 49,
      "outputs": [
        {
          "output_type": "stream",
          "name": "stdout",
          "text": [
            "print me in all cases.\n"
          ]
        }
      ]
    },
    {
      "cell_type": "code",
      "metadata": {
        "colab": {
          "base_uri": "https://localhost:8080/"
        },
        "id": "A6g5anxzP6zH",
        "outputId": "0a04df01-a533-43f5-f997-7e3e5156a696"
      },
      "source": [
        "if 0 or \"False\" and None :\n",
        "  print(\"hello world\")\n",
        "print(\"print me in all cases.\")"
      ],
      "execution_count": 50,
      "outputs": [
        {
          "output_type": "stream",
          "name": "stdout",
          "text": [
            "print me in all cases.\n"
          ]
        }
      ]
    },
    {
      "cell_type": "code",
      "metadata": {
        "colab": {
          "base_uri": "https://localhost:8080/"
        },
        "id": "o6ZK64hcWfus",
        "outputId": "67cba7a2-1092-4521-c00f-8b268c93f44b"
      },
      "source": [
        "if 1 :\n",
        "  print(\"clarusway\")"
      ],
      "execution_count": 51,
      "outputs": [
        {
          "output_type": "stream",
          "name": "stdout",
          "text": [
            "clarusway\n"
          ]
        }
      ]
    },
    {
      "cell_type": "code",
      "metadata": {
        "id": "gy5dmP5DWfyT"
      },
      "source": [
        "if 0 :\n",
        "  print(\"clarusway\")"
      ],
      "execution_count": 52,
      "outputs": []
    },
    {
      "cell_type": "code",
      "metadata": {
        "colab": {
          "base_uri": "https://localhost:8080/"
        },
        "id": "N1ssi8Z_Wf08",
        "outputId": "b917470e-438f-4573-f202-25cfe1dc66b9"
      },
      "source": [
        "if [\"\"] :\n",
        "  print(\"hello\")"
      ],
      "execution_count": 53,
      "outputs": [
        {
          "output_type": "stream",
          "name": "stdout",
          "text": [
            "hello\n"
          ]
        }
      ]
    },
    {
      "cell_type": "code",
      "metadata": {
        "colab": {
          "base_uri": "https://localhost:8080/"
        },
        "id": "wA8LiaggO6LT",
        "outputId": "ec5af61f-3e6c-48a5-ff70-ac37e062f62a"
      },
      "source": [
        "minced_meat, bread, lettuce, store, onion = True, True, True, True, True\n",
        "hamburger = (minced_meat and bread and store) and (onion or lettuce)\n",
        "if hamburger :\n",
        "    print('Bon Appetit!')"
      ],
      "execution_count": 59,
      "outputs": [
        {
          "output_type": "stream",
          "name": "stdout",
          "text": [
            "Bon Appetit!\n"
          ]
        }
      ]
    },
    {
      "cell_type": "code",
      "metadata": {
        "colab": {
          "base_uri": "https://localhost:8080/"
        },
        "id": "98n1QA1wXVjs",
        "outputId": "253996e9-705e-4889-b26f-736cfe374915"
      },
      "source": [
        "bread = True\n",
        "meat = True\n",
        "grocery = True\n",
        "onion = True\n",
        "lettuce = True\n",
        "hamburger = (meat and bread and grocery and (onion or lettuce))\n",
        "if hamburger :\n",
        "    print('bon Appetit')"
      ],
      "execution_count": 60,
      "outputs": [
        {
          "output_type": "stream",
          "name": "stdout",
          "text": [
            "bon Appetit\n"
          ]
        }
      ]
    },
    {
      "cell_type": "code",
      "metadata": {
        "colab": {
          "base_uri": "https://localhost:8080/"
        },
        "id": "lG7SKtV4XVmI",
        "outputId": "a29a81cc-596c-4311-e332-f33882e8b8c3"
      },
      "source": [
        "a = set('TWELVE PLUS ONE')\n",
        "b = set('ELEVEN PLUS TWO')\n",
        "\n",
        "if a == b :\n",
        "    print('we are the same')\n",
        "else :\n",
        "    print('we are not same')"
      ],
      "execution_count": 62,
      "outputs": [
        {
          "output_type": "stream",
          "name": "stdout",
          "text": [
            "we are the same\n"
          ]
        }
      ]
    },
    {
      "cell_type": "code",
      "metadata": {
        "colab": {
          "base_uri": "https://localhost:8080/"
        },
        "id": "j0klsUA8Zlu5",
        "outputId": "1ac6819e-6303-4acf-9cde-86af139ffca4"
      },
      "source": [
        "ask = input(\"Please enter 'Yes' or 'No' \")\n",
        "ask = ask.title().strip() == \"Yes\"\n",
        "print(\"You entered\" , ask)"
      ],
      "execution_count": 68,
      "outputs": [
        {
          "output_type": "stream",
          "name": "stdout",
          "text": [
            "Please enter 'Yes' or 'No' no\n",
            "You entered False\n"
          ]
        }
      ]
    },
    {
      "cell_type": "code",
      "metadata": {
        "colab": {
          "base_uri": "https://localhost:8080/",
          "height": 35
        },
        "id": "yvU-pLiIZlx5",
        "outputId": "60c1dc55-b49d-4c1d-d744-b3ebcb9522f0"
      },
      "source": [
        "\"yes\".strip()"
      ],
      "execution_count": 64,
      "outputs": [
        {
          "output_type": "execute_result",
          "data": {
            "application/vnd.google.colaboratory.intrinsic+json": {
              "type": "string"
            },
            "text/plain": [
              "'yes'"
            ]
          },
          "metadata": {},
          "execution_count": 64
        }
      ]
    },
    {
      "cell_type": "code",
      "metadata": {
        "colab": {
          "base_uri": "https://localhost:8080/"
        },
        "id": "VtgV2YemfRN-",
        "outputId": "46b67e2b-6197-443a-ac44-1ca5bbef6d8b"
      },
      "source": [
        "type(input(\"bir şey yaz: \"))"
      ],
      "execution_count": 69,
      "outputs": [
        {
          "name": "stdout",
          "output_type": "stream",
          "text": [
            "bir şey yaz: bir şey\n"
          ]
        },
        {
          "output_type": "execute_result",
          "data": {
            "text/plain": [
              "str"
            ]
          },
          "metadata": {},
          "execution_count": 69
        }
      ]
    },
    {
      "cell_type": "code",
      "metadata": {
        "colab": {
          "base_uri": "https://localhost:8080/"
        },
        "id": "rG__tHTyZl1D",
        "outputId": "2e109f16-a4f4-4745-8dee-024abdc889a7"
      },
      "source": [
        "convert = input(\"Enter Yes or No: \").title().strip() == \"Yes\""
      ],
      "execution_count": 70,
      "outputs": [
        {
          "name": "stdout",
          "output_type": "stream",
          "text": [
            "Enter Yes or No: yes\n"
          ]
        }
      ]
    },
    {
      "cell_type": "code",
      "metadata": {
        "colab": {
          "base_uri": "https://localhost:8080/"
        },
        "id": "z6fGRjwLZl4j",
        "outputId": "f0edda26-b13c-4735-b7b5-06112eb4e212"
      },
      "source": [
        "convert"
      ],
      "execution_count": 71,
      "outputs": [
        {
          "output_type": "execute_result",
          "data": {
            "text/plain": [
              "True"
            ]
          },
          "metadata": {},
          "execution_count": 71
        }
      ]
    },
    {
      "cell_type": "code",
      "metadata": {
        "colab": {
          "base_uri": "https://localhost:8080/"
        },
        "id": "4tilyo7iZl6-",
        "outputId": "c8a2d0a3-b16f-4ae7-e1ed-4d8eb255ab86"
      },
      "source": [
        "print(\"You entered\", convert)"
      ],
      "execution_count": 72,
      "outputs": [
        {
          "output_type": "stream",
          "name": "stdout",
          "text": [
            "You entered True\n"
          ]
        }
      ]
    },
    {
      "cell_type": "code",
      "metadata": {
        "colab": {
          "base_uri": "https://localhost:8080/"
        },
        "id": "Km2p4e04Zl83",
        "outputId": "b2bece90-e7bb-4179-d9e7-b9ae39746f81"
      },
      "source": [
        "convert = input(\"Enter Yes or No: \").title().strip() == \"Yes\"\n",
        "print(\"You entered\", convert)"
      ],
      "execution_count": 73,
      "outputs": [
        {
          "output_type": "stream",
          "name": "stdout",
          "text": [
            "Enter Yes or No: no\n",
            "You entered False\n"
          ]
        }
      ]
    },
    {
      "cell_type": "code",
      "metadata": {
        "colab": {
          "base_uri": "https://localhost:8080/"
        },
        "id": "huwcsP4RXVoU",
        "outputId": "b3ef187a-73f7-4f20-8688-d1c592387f1b"
      },
      "source": [
        "print(f\"You entered {input('Enter Yes or No :').title().strip() == 'Yes'}\") # ÖNEMLİ"
      ],
      "execution_count": 76,
      "outputs": [
        {
          "output_type": "stream",
          "name": "stdout",
          "text": [
            "Enter Yes or No :yes\n",
            "You entered True\n"
          ]
        }
      ]
    },
    {
      "cell_type": "code",
      "metadata": {
        "colab": {
          "base_uri": "https://localhost:8080/"
        },
        "id": "-x89X64whPpV",
        "outputId": "8d6b1d5d-5db7-4c1f-d24a-ecfe2f49d4d4"
      },
      "source": [
        "print(\"You entered {}\".format(input(\"Yes or No: \").title().strip() == \"Yes\"))"
      ],
      "execution_count": 77,
      "outputs": [
        {
          "output_type": "stream",
          "name": "stdout",
          "text": [
            "Yes or No: no\n",
            "You entered False\n"
          ]
        }
      ]
    },
    {
      "cell_type": "code",
      "metadata": {
        "colab": {
          "base_uri": "https://localhost:8080/"
        },
        "id": "hm80MHw8oGox",
        "outputId": "305f346a-8228-4340-af98-63f41c5fbf0f"
      },
      "source": [
        "course = \"clarusway\"\n",
        "\n",
        "if course == \"clarusway\" :\n",
        "  print(\"you guaranteed the job\")\n",
        "else :\n",
        "  print(\"Think about again\")"
      ],
      "execution_count": 78,
      "outputs": [
        {
          "output_type": "stream",
          "name": "stdout",
          "text": [
            "you guaranteed the job\n"
          ]
        }
      ]
    },
    {
      "cell_type": "code",
      "metadata": {
        "colab": {
          "base_uri": "https://localhost:8080/"
        },
        "id": "hvcUpZlUoGsA",
        "outputId": "4ad60c49-bebd-4ff3-df41-b68063a9037c"
      },
      "source": [
        "number = int(input(\"Please enter a number: \"))\n",
        "if number % 2 == 0 :\n",
        "  print(f\"{number} is even\")\n",
        "else :\n",
        "  print(f\"{number} is odd\")"
      ],
      "execution_count": 79,
      "outputs": [
        {
          "output_type": "stream",
          "name": "stdout",
          "text": [
            "Please enter a number: 4\n",
            "4 is even\n"
          ]
        }
      ]
    },
    {
      "cell_type": "code",
      "metadata": {
        "colab": {
          "base_uri": "https://localhost:8080/"
        },
        "id": "rLi0API7pJlK",
        "outputId": "392241c4-81cd-43a0-abf3-dbcd3115b61f"
      },
      "source": [
        "i = int(input(\"\"))\n",
        "print(i, \"is\", \"even\" if i % 2 == 0 else \"odd\")"
      ],
      "execution_count": 80,
      "outputs": [
        {
          "output_type": "stream",
          "name": "stdout",
          "text": [
            "4\n",
            "4 is even\n"
          ]
        }
      ]
    },
    {
      "cell_type": "code",
      "metadata": {
        "colab": {
          "base_uri": "https://localhost:8080/"
        },
        "id": "b7yZQM_JpvRC",
        "outputId": "407a2aab-a2ae-44bd-a6d6-bed6387f8007"
      },
      "source": [
        "i = int(input(\"\"))\n",
        "print(i, \"is\", \"pozitif\" if i > 0 else \"negatif\")"
      ],
      "execution_count": 82,
      "outputs": [
        {
          "output_type": "stream",
          "name": "stdout",
          "text": [
            "5\n",
            "5 is pozitif\n"
          ]
        }
      ]
    },
    {
      "cell_type": "code",
      "metadata": {
        "colab": {
          "base_uri": "https://localhost:8080/"
        },
        "id": "tg1WwSSYoGvQ",
        "outputId": "08840acf-ee89-4ad2-f5c3-735923a9b393"
      },
      "source": [
        "float(\"-33\")"
      ],
      "execution_count": 83,
      "outputs": [
        {
          "output_type": "execute_result",
          "data": {
            "text/plain": [
              "-33.0"
            ]
          },
          "metadata": {},
          "execution_count": 83
        }
      ]
    },
    {
      "cell_type": "code",
      "metadata": {
        "colab": {
          "base_uri": "https://localhost:8080/"
        },
        "id": "yYlVJMIdrxI_",
        "outputId": "b6c02281-4e15-481c-e88c-50d1cab38d8e"
      },
      "source": [
        "i = list(map(int, input(\"Please enter two numbers: \").split()))\n",
        "print(\"Larger number is\", i[0] if i[0] > i[1] else i[1])"
      ],
      "execution_count": 89,
      "outputs": [
        {
          "output_type": "stream",
          "name": "stdout",
          "text": [
            "Please enter two numbers: 5 42\n",
            "Larger number is 42\n"
          ]
        }
      ]
    }
  ]
}