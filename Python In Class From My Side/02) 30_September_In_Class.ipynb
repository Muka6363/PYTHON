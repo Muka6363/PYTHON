{
  "nbformat": 4,
  "nbformat_minor": 0,
  "metadata": {
    "colab": {
      "name": "30_September_In_Class.ipynb",
      "provenance": [],
      "collapsed_sections": []
    },
    "kernelspec": {
      "name": "python3",
      "display_name": "Python 3"
    },
    "language_info": {
      "name": "python"
    }
  },
  "cells": [
    {
      "cell_type": "code",
      "metadata": {
        "id": "cPrU2I31lyBz",
        "colab": {
          "base_uri": "https://localhost:8080/"
        },
        "outputId": "9c1994c7-0a9f-48f5-a87f-736a961b1622"
      },
      "source": [
        "print(10%3)\n",
        "print(11//4)\n",
        "degisken = 10\n",
        "print(degisken)\n",
        "degisken = degisken + 1\n",
        "print(degisken)\n",
        "degisken += degisken + 45\n",
        "print(degisken)\n",
        "degisken += 1\n",
        "print(degisken)\n",
        "a = 8\n",
        "b = 2\n",
        "a *= b\n",
        "print(a)\n",
        "x = (1 + 3) ** (2 ** (1 * 2 / 2) / 2)\n",
        "print(x)\n",
        "\n"
      ],
      "execution_count": null,
      "outputs": [
        {
          "output_type": "stream",
          "name": "stdout",
          "text": [
            "1\n",
            "2\n",
            "10\n",
            "11\n",
            "67\n",
            "68\n",
            "16\n",
            "4.0\n"
          ]
        }
      ]
    },
    {
      "cell_type": "code",
      "metadata": {
        "colab": {
          "base_uri": "https://localhost:8080/"
        },
        "id": "jr15lEqR7zeo",
        "outputId": "28eb077c-1791-4e7d-fa44-104b041ef803"
      },
      "source": [
        " a = 3\n",
        " b = 4\n",
        " c = (a ** 2 + b ** 2) ** 0.5\n",
        " print(c)\n",
        "\n"
      ],
      "execution_count": null,
      "outputs": [
        {
          "output_type": "stream",
          "name": "stdout",
          "text": [
            "5.0\n"
          ]
        }
      ]
    },
    {
      "cell_type": "code",
      "metadata": {
        "colab": {
          "base_uri": "https://localhost:8080/"
        },
        "id": "DsHTFeVz9JiB",
        "outputId": "f3228209-2732-4966-ec85-0151d201ffbc"
      },
      "source": [
        "print(\"ali\", end = ' ')\n",
        "print(\"veli\", \"ayşe\")\n",
        "print(\"selvi\", \"baharat\", 44)\n",
        "print(a, b, c, sep = \"-\")\n",
        "\n"
      ],
      "execution_count": null,
      "outputs": [
        {
          "output_type": "stream",
          "name": "stdout",
          "text": [
            "ali veli ayşe\n",
            "selvi baharat 44\n",
            "27-3.0-5.0\n"
          ]
        }
      ]
    },
    {
      "cell_type": "code",
      "metadata": {
        "colab": {
          "base_uri": "https://localhost:8080/"
        },
        "id": "aOhEZI4cHt9r",
        "outputId": "a3fdc984-a71d-4de6-a92c-9836f6307fce"
      },
      "source": [
        "print('Ahmet\\'in ceketi')\n",
        "print('Ahmet\\in ceketi')\n",
        "print('Ayla\\\\nın çantası')\n",
        "\n"
      ],
      "execution_count": null,
      "outputs": [
        {
          "output_type": "stream",
          "name": "stdout",
          "text": [
            "Ahmet'in ceketi\n",
            "Ahmet\\in ceketi\n",
            "Ayla\\nın çantası\n"
          ]
        }
      ]
    },
    {
      "cell_type": "code",
      "metadata": {
        "colab": {
          "base_uri": "https://localhost:8080/"
        },
        "id": "OqElVSHRI0yx",
        "outputId": "e3dd21c0-3e2b-4938-d595-5b6eb833322b"
      },
      "source": [
        "print('C:\\\\north pole\\noise_penguise.txt')\n",
        "print('----------')\n",
        "print('first', 'second', 'third', sep = '\\t')\n",
        "\n"
      ],
      "execution_count": null,
      "outputs": [
        {
          "output_type": "stream",
          "name": "stdout",
          "text": [
            "C:\\north pole\n",
            "oise_penguise.txt\n",
            "----------\n",
            "first\tsecond\tthird\n"
          ]
        }
      ]
    },
    {
      "cell_type": "code",
      "metadata": {
        "colab": {
          "base_uri": "https://localhost:8080/"
        },
        "id": "W93zawt7J61h",
        "outputId": "6211c21d-c0d3-4b8b-9ad2-202f9497a65e"
      },
      "source": [
        "print('we are', '\\boosting', 'our', '\\brotherhood')\n",
        "print('it\\'s essential to learn Python\\'s libraries in IT World')\n",
        "\n"
      ],
      "execution_count": null,
      "outputs": [
        {
          "output_type": "stream",
          "name": "stdout",
          "text": [
            "we are \boosting our \brotherhood\n",
            "it's essential to learn Python's libraries in IT World\n"
          ]
        }
      ]
    },
    {
      "cell_type": "code",
      "metadata": {
        "colab": {
          "base_uri": "https://localhost:8080/"
        },
        "id": "MTr91-BoLGoO",
        "outputId": "6211c21d-c0d3-4b8b-9ad2-202f9497a65e"
      },
      "source": [
        "print('we are', '\\boosting', 'our', '\\brotherhood')\n",
        "print('it\\'s essential to learn Python\\'s libraries in IT World')\n",
        "\n"
      ],
      "execution_count": null,
      "outputs": [
        {
          "output_type": "stream",
          "name": "stdout",
          "text": [
            "we are \boosting our \brotherhood\n",
            "it's essential to learn Python's libraries in IT World\n"
          ]
        }
      ]
    },
    {
      "cell_type": "code",
      "metadata": {
        "colab": {
          "base_uri": "https://localhost:8080/"
        },
        "id": "uHA-M0UMQH2S",
        "outputId": "1af8e7b4-05e1-4496-864c-d20ea0d67de4"
      },
      "source": [
        "x = \"Clarusway, Clarusway, Clarusway\"\n",
        "y = \"Clarusway, Clarusway, Clarusway\"\n",
        "print(x + '\\n' + '\\t' + x, '\\n' + 2 * '\\t', y)\n",
        "\n",
        "\n",
        "\n"
      ],
      "execution_count": null,
      "outputs": [
        {
          "output_type": "stream",
          "name": "stdout",
          "text": [
            "Clarusway, Clarusway, Clarusway\n",
            "\tClarusway, Clarusway, Clarusway \n",
            "\t\t \bClarusway, Clarusway, Clarusway\n"
          ]
        }
      ]
    }
  ]
}