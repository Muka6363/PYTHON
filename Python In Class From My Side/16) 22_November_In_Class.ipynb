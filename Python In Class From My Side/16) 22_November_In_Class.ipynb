{
  "nbformat": 4,
  "nbformat_minor": 0,
  "metadata": {
    "colab": {
      "name": "22_November_In_Class",
      "provenance": [],
      "collapsed_sections": []
    },
    "kernelspec": {
      "name": "python3",
      "display_name": "Python 3"
    },
    "language_info": {
      "name": "python"
    }
  },
  "cells": [
    {
      "cell_type": "code",
      "metadata": {
        "colab": {
          "base_uri": "https://localhost:8080/"
        },
        "id": "IL_rsQLnzvj1",
        "outputId": "3e170721-d8c1-4b67-ed7b-66e58107eada"
      },
      "source": [
        "def who(first, last) :\n",
        "  print(\"Your first name is: \", first)\n",
        "  print(\"Your last name is: \", last)\n",
        "\n",
        "who(\"Guido\", \"van Rossum\")\n",
        "print()\n",
        "who(\"Marry\", \"Bold\")"
      ],
      "execution_count": 1,
      "outputs": [
        {
          "output_type": "stream",
          "name": "stdout",
          "text": [
            "Your first name is:  Guido\n",
            "Your last name is:  van Rossum\n",
            "\n",
            "Your first name is:  Marry\n",
            "Your last name is:  Bold\n"
          ]
        }
      ]
    },
    {
      "cell_type": "code",
      "metadata": {
        "colab": {
          "base_uri": "https://localhost:8080/",
          "height": 165
        },
        "id": "DvQlFEypzwsE",
        "outputId": "a7745ab8-4008-404c-a837-6400d4547fa1"
      },
      "source": [
        "who(\"Joseph\")"
      ],
      "execution_count": 2,
      "outputs": [
        {
          "output_type": "error",
          "ename": "TypeError",
          "evalue": "ignored",
          "traceback": [
            "\u001b[0;31m---------------------------------------------------------------------------\u001b[0m",
            "\u001b[0;31mTypeError\u001b[0m                                 Traceback (most recent call last)",
            "\u001b[0;32m<ipython-input-2-b6f30caeb1b7>\u001b[0m in \u001b[0;36m<module>\u001b[0;34m()\u001b[0m\n\u001b[0;32m----> 1\u001b[0;31m \u001b[0mwho\u001b[0m\u001b[0;34m(\u001b[0m\u001b[0;34m\"Joseph\"\u001b[0m\u001b[0;34m)\u001b[0m\u001b[0;34m\u001b[0m\u001b[0;34m\u001b[0m\u001b[0m\n\u001b[0m",
            "\u001b[0;31mTypeError\u001b[0m: who() missing 1 required positional argument: 'last'"
          ]
        }
      ]
    },
    {
      "cell_type": "code",
      "metadata": {
        "colab": {
          "base_uri": "https://localhost:8080/"
        },
        "id": "5G8XWOASzwu2",
        "outputId": "ed669cd6-2e5c-4c80-f0db-a82aa6d65fe2"
      },
      "source": [
        "def pos_args(a, b) :\n",
        "  print(a, \"is the first argument\")\n",
        "  print(b, \"is the second argument\")\n",
        "\n",
        "pos_args(3,4)\n",
        "print()\n",
        "pos_args(4,3)"
      ],
      "execution_count": 3,
      "outputs": [
        {
          "output_type": "stream",
          "name": "stdout",
          "text": [
            "3 is the first argument\n",
            "4 is the second argument\n",
            "\n",
            "4 is the first argument\n",
            "3 is the second argument\n"
          ]
        }
      ]
    },
    {
      "cell_type": "code",
      "metadata": {
        "colab": {
          "base_uri": "https://localhost:8080/"
        },
        "id": "In_fqGUnzwxx",
        "outputId": "1ad50151-8ae9-496c-f48b-cdfe648f4d2d"
      },
      "source": [
        "a = \"i\"\n",
        "b = \"love\"\n",
        "c = \"you\"\n",
        "\n",
        "def texter(w1, w2, w3) :\n",
        "  print(w2, w3, w1)\n",
        "\n",
        "texter(c, a, b)"
      ],
      "execution_count": 10,
      "outputs": [
        {
          "output_type": "stream",
          "name": "stdout",
          "text": [
            "i love you\n"
          ]
        }
      ]
    },
    {
      "cell_type": "code",
      "metadata": {
        "colab": {
          "base_uri": "https://localhost:8080/"
        },
        "id": "ZWd5wR6n7e8s",
        "outputId": "a0cdf3f6-6bea-4563-8d78-991d89ed64b2"
      },
      "source": [
        "texter(w1=\"you\", w3=\"love\", w2=\"i\")"
      ],
      "execution_count": 14,
      "outputs": [
        {
          "output_type": "stream",
          "name": "stdout",
          "text": [
            "i love you\n"
          ]
        }
      ]
    },
    {
      "cell_type": "code",
      "metadata": {
        "colab": {
          "base_uri": "https://localhost:8080/"
        },
        "id": "bfFKMXp777aK",
        "outputId": "15f0f302-e044-444a-b1e0-e05f5b454d64"
      },
      "source": [
        "texter(w2=\"i\", w1=\"you\", w3=\"love\")"
      ],
      "execution_count": 15,
      "outputs": [
        {
          "output_type": "stream",
          "name": "stdout",
          "text": [
            "i love you\n"
          ]
        }
      ]
    },
    {
      "cell_type": "code",
      "metadata": {
        "colab": {
          "base_uri": "https://localhost:8080/"
        },
        "id": "T1Gw7XMkzw0n",
        "outputId": "91cf627e-19ab-4071-a189-c57de04558da"
      },
      "source": [
        "def who(first, last) :\n",
        "  print(\"Your first name is:\", first)\n",
        "  print(\"Your last name is:\", last)\n",
        "\n",
        "who(first='Guido', last='van Rossum')"
      ],
      "execution_count": 12,
      "outputs": [
        {
          "output_type": "stream",
          "name": "stdout",
          "text": [
            "Your first name is: Guido\n",
            "Your last name is: van Rossum\n"
          ]
        }
      ]
    },
    {
      "cell_type": "code",
      "metadata": {
        "colab": {
          "base_uri": "https://localhost:8080/"
        },
        "id": "slhATVfRzw3S",
        "outputId": "c9b2921c-8386-4d8b-b690-be267e51289a"
      },
      "source": [
        "who(last='van Rossum', first='Guido')"
      ],
      "execution_count": 13,
      "outputs": [
        {
          "output_type": "stream",
          "name": "stdout",
          "text": [
            "Your first name is: Guido\n",
            "Your last name is: van Rossum\n"
          ]
        }
      ]
    },
    {
      "cell_type": "code",
      "metadata": {
        "id": "VSO5rjf8zw6Q"
      },
      "source": [
        "def func(x=\"Ali\", y = 11) :\n",
        "  body"
      ],
      "execution_count": null,
      "outputs": []
    },
    {
      "cell_type": "code",
      "metadata": {
        "id": "qT1__8ACzw88"
      },
      "source": [
        "def fonksiyon(x = \"Ali\", y = 22) :\n",
        "  print(x, y, \"yaşındadır.\")"
      ],
      "execution_count": 18,
      "outputs": []
    },
    {
      "cell_type": "markdown",
      "metadata": {
        "id": "OWPCfTuM9PJt"
      },
      "source": [
        "**Ö N E M L İ**"
      ]
    },
    {
      "cell_type": "code",
      "metadata": {
        "colab": {
          "base_uri": "https://localhost:8080/"
        },
        "id": "UJudwmpxzw_e",
        "outputId": "e6b62ae8-1988-4c3c-f964-32fb635d6466"
      },
      "source": [
        "fonksiyon()"
      ],
      "execution_count": 19,
      "outputs": [
        {
          "output_type": "stream",
          "name": "stdout",
          "text": [
            "Ali 22 yaşındadır.\n"
          ]
        }
      ]
    },
    {
      "cell_type": "code",
      "metadata": {
        "colab": {
          "base_uri": "https://localhost:8080/"
        },
        "id": "bMDUrpIwzxCs",
        "outputId": "10f0ccd9-2716-423b-d2f8-538037e5577f"
      },
      "source": [
        "fonksiyon(x = \"Veli\", y = 33)"
      ],
      "execution_count": 21,
      "outputs": [
        {
          "output_type": "stream",
          "name": "stdout",
          "text": [
            "Veli 33 yaşındadır.\n"
          ]
        }
      ]
    },
    {
      "cell_type": "code",
      "metadata": {
        "colab": {
          "base_uri": "https://localhost:8080/"
        },
        "id": "0mzuBctG9VNj",
        "outputId": "9f4957d8-464c-4377-e473-cd8ad2bf82a2"
      },
      "source": [
        "fonksiyon(y = 33, x = \"Veli\")"
      ],
      "execution_count": 23,
      "outputs": [
        {
          "output_type": "stream",
          "name": "stdout",
          "text": [
            "Veli 33 yaşındadır.\n"
          ]
        }
      ]
    },
    {
      "cell_type": "code",
      "metadata": {
        "colab": {
          "base_uri": "https://localhost:8080/"
        },
        "id": "VNxF7087zxFj",
        "outputId": "0bdb7755-d748-4677-d4ca-fad3ff40d633"
      },
      "source": [
        "fonksiyon(\"Metin\", 40)"
      ],
      "execution_count": 22,
      "outputs": [
        {
          "output_type": "stream",
          "name": "stdout",
          "text": [
            "Metin 40 yaşındadır.\n"
          ]
        }
      ]
    },
    {
      "cell_type": "code",
      "metadata": {
        "colab": {
          "base_uri": "https://localhost:8080/"
        },
        "id": "xY_d31Uv9kWK",
        "outputId": "dadb12ec-75e2-4d82-de74-0a1af1200f8e"
      },
      "source": [
        "fonksiyon(\"Selin\")"
      ],
      "execution_count": 24,
      "outputs": [
        {
          "output_type": "stream",
          "name": "stdout",
          "text": [
            "Selin 22 yaşındadır.\n"
          ]
        }
      ]
    },
    {
      "cell_type": "markdown",
      "metadata": {
        "id": "SZ9b_wgm9blw"
      },
      "source": [
        "**- - - - - - - - - - - - - - - - - -**"
      ]
    },
    {
      "cell_type": "code",
      "metadata": {
        "id": "FU6EkF-UzxIU"
      },
      "source": [
        "def parrot(voltage, state='a stiff', action='voom', type='Norwegian Blue'):\n",
        "    print(\"-- This parrot wouldn't\", action, end=' ')\n",
        "    print(\"if you put\", voltage, \"volts through it.\")\n",
        "    print(\"-- Lovely plumage, the\", type)\n",
        "    print(\"-- It's\", state, \"!\")"
      ],
      "execution_count": 26,
      "outputs": []
    },
    {
      "cell_type": "code",
      "metadata": {
        "colab": {
          "base_uri": "https://localhost:8080/"
        },
        "id": "KJ41x5LIzxK0",
        "outputId": "4353b806-e0f9-4b95-984e-6af356050102"
      },
      "source": [
        "parrot(1000)"
      ],
      "execution_count": 27,
      "outputs": [
        {
          "output_type": "stream",
          "name": "stdout",
          "text": [
            "-- This parrot wouldn't voom if you put 1000 volts through it.\n",
            "-- Lovely plumage, the Norwegian Blue\n",
            "-- It's a stiff !\n"
          ]
        }
      ]
    },
    {
      "cell_type": "code",
      "metadata": {
        "colab": {
          "base_uri": "https://localhost:8080/"
        },
        "id": "MQtWl4oczxN_",
        "outputId": "e5ec90b0-b8c6-42d6-e3bc-d95f351cc497"
      },
      "source": [
        "parrot(voltage=1000000, action='VOOOOOM') "
      ],
      "execution_count": 28,
      "outputs": [
        {
          "output_type": "stream",
          "name": "stdout",
          "text": [
            "-- This parrot wouldn't VOOOOOM if you put 1000000 volts through it.\n",
            "-- Lovely plumage, the Norwegian Blue\n",
            "-- It's a stiff !\n"
          ]
        }
      ]
    },
    {
      "cell_type": "code",
      "metadata": {
        "colab": {
          "base_uri": "https://localhost:8080/"
        },
        "id": "DulwqVBZzxQK",
        "outputId": "307a935c-e7ec-4cb3-f7af-066660fdb85f"
      },
      "source": [
        "parrot(\"a million\", \"bereft of life\", \"jump\")"
      ],
      "execution_count": 29,
      "outputs": [
        {
          "output_type": "stream",
          "name": "stdout",
          "text": [
            "-- This parrot wouldn't jump if you put a million volts through it.\n",
            "-- Lovely plumage, the Norwegian Blue\n",
            "-- It's bereft of life !\n"
          ]
        }
      ]
    },
    {
      "cell_type": "code",
      "metadata": {
        "colab": {
          "base_uri": "https://localhost:8080/"
        },
        "id": "I4snsEwIzxSg",
        "outputId": "fff63557-22fc-4302-8ae5-bd70f67dee6a"
      },
      "source": [
        "parrot(\"a thousand\", state = \"pushing up the daisies\")"
      ],
      "execution_count": 30,
      "outputs": [
        {
          "output_type": "stream",
          "name": "stdout",
          "text": [
            "-- This parrot wouldn't voom if you put a thousand volts through it.\n",
            "-- Lovely plumage, the Norwegian Blue\n",
            "-- It's pushing up the daisies !\n"
          ]
        }
      ]
    },
    {
      "cell_type": "code",
      "metadata": {
        "colab": {
          "base_uri": "https://localhost:8080/",
          "height": 165
        },
        "id": "ugvvqu4dESG5",
        "outputId": "67e61b3a-93b4-4a19-bf7b-47aab814548e"
      },
      "source": [
        "parrot()"
      ],
      "execution_count": 31,
      "outputs": [
        {
          "output_type": "error",
          "ename": "TypeError",
          "evalue": "ignored",
          "traceback": [
            "\u001b[0;31m---------------------------------------------------------------------------\u001b[0m",
            "\u001b[0;31mTypeError\u001b[0m                                 Traceback (most recent call last)",
            "\u001b[0;32m<ipython-input-31-1fa32faf15ff>\u001b[0m in \u001b[0;36m<module>\u001b[0;34m()\u001b[0m\n\u001b[0;32m----> 1\u001b[0;31m \u001b[0mparrot\u001b[0m\u001b[0;34m(\u001b[0m\u001b[0;34m)\u001b[0m\u001b[0;34m\u001b[0m\u001b[0;34m\u001b[0m\u001b[0m\n\u001b[0m",
            "\u001b[0;31mTypeError\u001b[0m: parrot() missing 1 required positional argument: 'voltage'"
          ]
        }
      ]
    },
    {
      "cell_type": "code",
      "metadata": {
        "colab": {
          "base_uri": "https://localhost:8080/",
          "height": 130
        },
        "id": "RwBunkdIESJT",
        "outputId": "367f8b09-ff81-46ac-8e14-64aa17a64e0e"
      },
      "source": [
        "parrot(voltage = 5, \"dead\")"
      ],
      "execution_count": 32,
      "outputs": [
        {
          "output_type": "error",
          "ename": "SyntaxError",
          "evalue": "ignored",
          "traceback": [
            "\u001b[0;36m  File \u001b[0;32m\"<ipython-input-32-7b546f45b43d>\"\u001b[0;36m, line \u001b[0;32m1\u001b[0m\n\u001b[0;31m    parrot(voltage = 5, \"dead\")\u001b[0m\n\u001b[0m                       ^\u001b[0m\n\u001b[0;31mSyntaxError\u001b[0m\u001b[0;31m:\u001b[0m positional argument follows keyword argument\n"
          ]
        }
      ]
    },
    {
      "cell_type": "code",
      "metadata": {
        "colab": {
          "base_uri": "https://localhost:8080/",
          "height": 130
        },
        "id": "XezFekq7ESLv",
        "outputId": "d18569eb-42d7-4d6f-9f8c-866c7873c9e4"
      },
      "source": [
        "parrot(state = \"ball\", \"a billion\")"
      ],
      "execution_count": 33,
      "outputs": [
        {
          "output_type": "error",
          "ename": "SyntaxError",
          "evalue": "ignored",
          "traceback": [
            "\u001b[0;36m  File \u001b[0;32m\"<ipython-input-33-abee362784b6>\"\u001b[0;36m, line \u001b[0;32m1\u001b[0m\n\u001b[0;31m    parrot(state = \"ball\", \"a billion\")\u001b[0m\n\u001b[0m                          ^\u001b[0m\n\u001b[0;31mSyntaxError\u001b[0m\u001b[0;31m:\u001b[0m positional argument follows keyword argument\n"
          ]
        }
      ]
    },
    {
      "cell_type": "code",
      "metadata": {
        "colab": {
          "base_uri": "https://localhost:8080/",
          "height": 130
        },
        "id": "1bSw6085E7fm",
        "outputId": "8109ad63-009f-4413-d96f-ab9d2a953f17"
      },
      "source": [
        "def argu(a, b = \"dünya\", c, d = \"satürn\") :\n",
        "  print(a, b, c, d, sep = \"\\n\")"
      ],
      "execution_count": 34,
      "outputs": [
        {
          "output_type": "error",
          "ename": "SyntaxError",
          "evalue": "ignored",
          "traceback": [
            "\u001b[0;36m  File \u001b[0;32m\"<ipython-input-34-900f4f646e9b>\"\u001b[0;36m, line \u001b[0;32m1\u001b[0m\n\u001b[0;31m    def argu(a, b = \"dünya\", c, d = \"satürn\") :\u001b[0m\n\u001b[0m            ^\u001b[0m\n\u001b[0;31mSyntaxError\u001b[0m\u001b[0;31m:\u001b[0m non-default argument follows default argument\n"
          ]
        }
      ]
    },
    {
      "cell_type": "code",
      "metadata": {
        "id": "0iNu2G0NE7i3"
      },
      "source": [
        "def argu(a, c, b = \"dünya\", d = \"satürn\") :\n",
        "  print(a, b, c, d, sep = \"\\n\")"
      ],
      "execution_count": 35,
      "outputs": []
    },
    {
      "cell_type": "code",
      "metadata": {
        "colab": {
          "base_uri": "https://localhost:8080/"
        },
        "id": "e57G4ZxAE7l6",
        "outputId": "4f6b561a-4958-405e-a5b9-3028f0f39032"
      },
      "source": [
        "argu(5,10)"
      ],
      "execution_count": 36,
      "outputs": [
        {
          "output_type": "stream",
          "name": "stdout",
          "text": [
            "5\n",
            "dünya\n",
            "10\n",
            "satürn\n"
          ]
        }
      ]
    },
    {
      "cell_type": "code",
      "metadata": {
        "colab": {
          "base_uri": "https://localhost:8080/",
          "height": 165
        },
        "id": "BcAfdrhYFZDZ",
        "outputId": "c1946a78-ad86-495e-ef08-89aa1eeabfc6"
      },
      "source": [
        "argu()"
      ],
      "execution_count": 37,
      "outputs": [
        {
          "output_type": "error",
          "ename": "TypeError",
          "evalue": "ignored",
          "traceback": [
            "\u001b[0;31m---------------------------------------------------------------------------\u001b[0m",
            "\u001b[0;31mTypeError\u001b[0m                                 Traceback (most recent call last)",
            "\u001b[0;32m<ipython-input-37-2743aba80a34>\u001b[0m in \u001b[0;36m<module>\u001b[0;34m()\u001b[0m\n\u001b[0;32m----> 1\u001b[0;31m \u001b[0margu\u001b[0m\u001b[0;34m(\u001b[0m\u001b[0;34m)\u001b[0m\u001b[0;34m\u001b[0m\u001b[0;34m\u001b[0m\u001b[0m\n\u001b[0m",
            "\u001b[0;31mTypeError\u001b[0m: argu() missing 2 required positional arguments: 'a' and 'c'"
          ]
        }
      ]
    },
    {
      "cell_type": "code",
      "metadata": {
        "colab": {
          "base_uri": "https://localhost:8080/"
        },
        "id": "fSdVUhaTFZGJ",
        "outputId": "7d955f8e-ba53-45cb-c83b-9ed999d10811"
      },
      "source": [
        "argu(\"uranüs\", \"jüpiter\")"
      ],
      "execution_count": 38,
      "outputs": [
        {
          "output_type": "stream",
          "name": "stdout",
          "text": [
            "uranüs\n",
            "dünya\n",
            "jüpiter\n",
            "satürn\n"
          ]
        }
      ]
    },
    {
      "cell_type": "code",
      "metadata": {
        "id": "rNyrFOkgFZI8"
      },
      "source": [
        "def argu(a, c, b = \"dünya\", d = \"satürn\") :\n",
        "  print(a, b, c, d, sep = \"\\n\")"
      ],
      "execution_count": 39,
      "outputs": []
    },
    {
      "cell_type": "code",
      "metadata": {
        "colab": {
          "base_uri": "https://localhost:8080/"
        },
        "id": "v_uwViHvGcAA",
        "outputId": "6aad7817-b1bf-416b-a9c7-2d0a5db218f3"
      },
      "source": [
        "argu(a = \"uranüs\", c = \"jüpiter\")"
      ],
      "execution_count": 40,
      "outputs": [
        {
          "output_type": "stream",
          "name": "stdout",
          "text": [
            "uranüs\n",
            "dünya\n",
            "jüpiter\n",
            "satürn\n"
          ]
        }
      ]
    },
    {
      "cell_type": "code",
      "metadata": {
        "colab": {
          "base_uri": "https://localhost:8080/",
          "height": 130
        },
        "id": "7mERJ9pPGhCq",
        "outputId": "62a0925d-6142-4c70-9917-aa989170ef8a"
      },
      "source": [
        "argu(\"plüto\", c = \"venüs\", \"mars\")"
      ],
      "execution_count": 41,
      "outputs": [
        {
          "output_type": "error",
          "ename": "SyntaxError",
          "evalue": "ignored",
          "traceback": [
            "\u001b[0;36m  File \u001b[0;32m\"<ipython-input-41-5c83c5dd5081>\"\u001b[0;36m, line \u001b[0;32m1\u001b[0m\n\u001b[0;31m    argu(\"plüto\", c = \"venüs\", \"mars\")\u001b[0m\n\u001b[0m                                ^\u001b[0m\n\u001b[0;31mSyntaxError\u001b[0m\u001b[0;31m:\u001b[0m positional argument follows keyword argument\n"
          ]
        }
      ]
    },
    {
      "cell_type": "code",
      "metadata": {
        "colab": {
          "base_uri": "https://localhost:8080/",
          "height": 165
        },
        "id": "VQNBOmW9GhFP",
        "outputId": "e510b6b6-e2a0-4352-e8ba-cf13ba1711e5"
      },
      "source": [
        "argu(\"plüto\", \"mars\", c = \"venüs\")"
      ],
      "execution_count": 43,
      "outputs": [
        {
          "output_type": "error",
          "ename": "TypeError",
          "evalue": "ignored",
          "traceback": [
            "\u001b[0;31m---------------------------------------------------------------------------\u001b[0m",
            "\u001b[0;31mTypeError\u001b[0m                                 Traceback (most recent call last)",
            "\u001b[0;32m<ipython-input-43-4e39c7bf3245>\u001b[0m in \u001b[0;36m<module>\u001b[0;34m()\u001b[0m\n\u001b[0;32m----> 1\u001b[0;31m \u001b[0margu\u001b[0m\u001b[0;34m(\u001b[0m\u001b[0;34m\"plüto\"\u001b[0m\u001b[0;34m,\u001b[0m \u001b[0;34m\"mars\"\u001b[0m\u001b[0;34m,\u001b[0m \u001b[0mc\u001b[0m \u001b[0;34m=\u001b[0m \u001b[0;34m\"venüs\"\u001b[0m\u001b[0;34m)\u001b[0m\u001b[0;34m\u001b[0m\u001b[0;34m\u001b[0m\u001b[0m\n\u001b[0m",
            "\u001b[0;31mTypeError\u001b[0m: argu() got multiple values for argument 'c'"
          ]
        }
      ]
    },
    {
      "cell_type": "code",
      "metadata": {
        "colab": {
          "base_uri": "https://localhost:8080/"
        },
        "id": "Y3LNjzHXGhIL",
        "outputId": "10f2b779-886b-4505-8e3c-ddcf88e06195"
      },
      "source": [
        "argu(\"plüto\", \"mars\")"
      ],
      "execution_count": 44,
      "outputs": [
        {
          "output_type": "stream",
          "name": "stdout",
          "text": [
            "plüto\n",
            "dünya\n",
            "mars\n",
            "satürn\n"
          ]
        }
      ]
    },
    {
      "cell_type": "code",
      "metadata": {
        "colab": {
          "base_uri": "https://localhost:8080/"
        },
        "id": "zVSoCdRnHhWL",
        "outputId": "f2d03b88-8619-4c0d-d535-5db47e8f59fa"
      },
      "source": [
        "argu(d = \"güneş\", a = \"dünya\", c = \"plüto\", b = \"venüs\")"
      ],
      "execution_count": 45,
      "outputs": [
        {
          "output_type": "stream",
          "name": "stdout",
          "text": [
            "dünya\n",
            "venüs\n",
            "plüto\n",
            "güneş\n"
          ]
        }
      ]
    },
    {
      "cell_type": "code",
      "metadata": {
        "colab": {
          "base_uri": "https://localhost:8080/"
        },
        "id": "T1rt-jeAH5pz",
        "outputId": "d22d8648-6a79-45ea-861f-2a8279852140"
      },
      "source": [
        "argu(\"güneş\", \"dünya\", \"plüto\", \"venüs\")"
      ],
      "execution_count": 46,
      "outputs": [
        {
          "output_type": "stream",
          "name": "stdout",
          "text": [
            "güneş\n",
            "plüto\n",
            "dünya\n",
            "venüs\n"
          ]
        }
      ]
    }
  ]
}