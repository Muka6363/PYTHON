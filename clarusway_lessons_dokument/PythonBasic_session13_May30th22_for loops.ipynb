{
 "cells": [
  {
   "cell_type": "markdown",
   "id": "1e707b9f",
   "metadata": {},
   "source": [
    "<img src=\"https://docs.google.com/uc?id=14xeXxFrVRjvOoUYWn_GuyE-v84wVzrqr\" class=\"img-fluid\" alt=\"CLRWY\" width=\"400\" height=\"200\">"
   ]
  },
  {
   "cell_type": "markdown",
   "id": "16fadd44",
   "metadata": {},
   "source": [
    "<h1><p style=\"text-align: center; color:darkblue\">Python In-Class <br>30 May 2022</p><h1>"
   ]
  },
  {
   "cell_type": "code",
   "execution_count": 40,
   "id": "16a37a61",
   "metadata": {},
   "outputs": [
    {
     "name": "stdout",
     "output_type": "stream",
     "text": [
      "a\n",
      "l\n",
      "i\n"
     ]
    }
   ],
   "source": [
    "for i in \"ali\" : \n",
    "    print(i)"
   ]
  },
  {
   "cell_type": "code",
   "execution_count": 41,
   "id": "f1e3e20c",
   "metadata": {},
   "outputs": [
    {
     "ename": "TypeError",
     "evalue": "'int' object is not iterable",
     "output_type": "error",
     "traceback": [
      "\u001b[1;31m---------------------------------------------------------------------------\u001b[0m",
      "\u001b[1;31mTypeError\u001b[0m                                 Traceback (most recent call last)",
      "Input \u001b[1;32mIn [41]\u001b[0m, in \u001b[0;36m<cell line: 1>\u001b[1;34m()\u001b[0m\n\u001b[1;32m----> 1\u001b[0m \u001b[38;5;28;01mfor\u001b[39;00m i \u001b[38;5;129;01min\u001b[39;00m \u001b[38;5;241m5\u001b[39m :\n\u001b[0;32m      2\u001b[0m     \u001b[38;5;28mprint\u001b[39m(i)\n",
      "\u001b[1;31mTypeError\u001b[0m: 'int' object is not iterable"
     ]
    }
   ],
   "source": [
    "for i in 5 :\n",
    "    print(i)"
   ]
  },
  {
   "cell_type": "code",
   "execution_count": 42,
   "id": "b0d9f829",
   "metadata": {},
   "outputs": [
    {
     "name": "stdout",
     "output_type": "stream",
     "text": [
      "Give me a word :Clarusway\n",
      "C-l-a-r-u-s-w-a-y-"
     ]
    }
   ],
   "source": [
    "word = input(\"Give me a word :\")\n",
    "\n",
    "for i in word :\n",
    "    print(i, end = \"-\")"
   ]
  },
  {
   "cell_type": "code",
   "execution_count": null,
   "id": "8a7cce16",
   "metadata": {},
   "outputs": [],
   "source": [
    "word = input(\"Give me a word :\")\n",
    "counter = 0\n",
    "\n",
    "for i in word :\n",
    "    counter += 1\n",
    "    print(i, end = \"-\")\n",
    "    if counter < len(word) :"
   ]
  },
  {
   "cell_type": "code",
   "execution_count": 43,
   "id": "e8deb2a1",
   "metadata": {},
   "outputs": [
    {
     "data": {
      "text/plain": [
       "'c-'"
      ]
     },
     "execution_count": 43,
     "metadata": {},
     "output_type": "execute_result"
    }
   ],
   "source": [
    "\"c\" + \"-\""
   ]
  },
  {
   "cell_type": "code",
   "execution_count": 44,
   "id": "978e9b76",
   "metadata": {},
   "outputs": [],
   "source": [
    "i = \"c\""
   ]
  },
  {
   "cell_type": "code",
   "execution_count": 45,
   "id": "cc8e9a07",
   "metadata": {},
   "outputs": [],
   "source": [
    "i += \"-\""
   ]
  },
  {
   "cell_type": "code",
   "execution_count": 46,
   "id": "8d4687a4",
   "metadata": {},
   "outputs": [
    {
     "data": {
      "text/plain": [
       "'c-'"
      ]
     },
     "execution_count": 46,
     "metadata": {},
     "output_type": "execute_result"
    }
   ],
   "source": [
    "i"
   ]
  },
  {
   "cell_type": "code",
   "execution_count": 47,
   "id": "55230c7a",
   "metadata": {},
   "outputs": [
    {
     "name": "stdout",
     "output_type": "stream",
     "text": [
      "Give me a word :clarusway\n",
      "c-l-a-r-u-s-w-a-y"
     ]
    }
   ],
   "source": [
    "word = input(\"Give me a word :\")\n",
    "counter = 0\n",
    "\n",
    "for i in word :\n",
    "    counter += 1\n",
    "    if counter < len(word) :\n",
    "        i += \"-\"\n",
    "    print(i, end = \"\")"
   ]
  },
  {
   "cell_type": "code",
   "execution_count": 48,
   "id": "d766cc8d",
   "metadata": {},
   "outputs": [],
   "source": [
    "user = {\n",
    "    \"name\" : \"Daniel\",\n",
    "    \"suname\" : \"Smith\",\n",
    "    \"age\" : 35\n",
    "}"
   ]
  },
  {
   "cell_type": "code",
   "execution_count": 49,
   "id": "cdcf63c2",
   "metadata": {},
   "outputs": [
    {
     "data": {
      "text/plain": [
       "False"
      ]
     },
     "execution_count": 49,
     "metadata": {},
     "output_type": "execute_result"
    }
   ],
   "source": [
    "\"Daniel\" in user"
   ]
  },
  {
   "cell_type": "code",
   "execution_count": 50,
   "id": "02f7713a",
   "metadata": {},
   "outputs": [
    {
     "data": {
      "text/plain": [
       "True"
      ]
     },
     "execution_count": 50,
     "metadata": {},
     "output_type": "execute_result"
    }
   ],
   "source": [
    "\"name\" in user"
   ]
  },
  {
   "cell_type": "code",
   "execution_count": 51,
   "id": "14123cb1",
   "metadata": {},
   "outputs": [
    {
     "name": "stdout",
     "output_type": "stream",
     "text": [
      "hello\n",
      "hello\n",
      "hello\n"
     ]
    }
   ],
   "source": [
    "for i in \"abc\" :\n",
    "    print(\"hello\")"
   ]
  },
  {
   "cell_type": "code",
   "execution_count": 52,
   "id": "9cbcffc1",
   "metadata": {},
   "outputs": [],
   "source": [
    "test = [(1,2), (3,4), (5,6)]"
   ]
  },
  {
   "cell_type": "code",
   "execution_count": 53,
   "id": "1a4421b4",
   "metadata": {},
   "outputs": [
    {
     "name": "stdout",
     "output_type": "stream",
     "text": [
      "1 2\n",
      "3 4\n",
      "5 6\n"
     ]
    }
   ],
   "source": [
    "for i, j in test :\n",
    "    print(i, j)"
   ]
  },
  {
   "cell_type": "code",
   "execution_count": 58,
   "id": "d6ae0385",
   "metadata": {},
   "outputs": [],
   "source": [
    "test2 = [(1,2,11), (3,4,12), (5,6,13)]"
   ]
  },
  {
   "cell_type": "code",
   "execution_count": 56,
   "id": "0ce63746",
   "metadata": {},
   "outputs": [
    {
     "name": "stdout",
     "output_type": "stream",
     "text": [
      "1 2 11\n",
      "3 4 12\n",
      "5 6 13\n"
     ]
    }
   ],
   "source": [
    "for i, j, t in test2 :\n",
    "    print(i, j, t)"
   ]
  },
  {
   "cell_type": "code",
   "execution_count": 57,
   "id": "f622bb5d",
   "metadata": {},
   "outputs": [
    {
     "data": {
      "text/plain": [
       "['ali', 'deli', 'veli']"
      ]
     },
     "execution_count": 57,
     "metadata": {},
     "output_type": "execute_result"
    }
   ],
   "source": [
    "[\"ali\", \"deli\", \"veli\"]"
   ]
  },
  {
   "cell_type": "code",
   "execution_count": 59,
   "id": "06b29899",
   "metadata": {},
   "outputs": [
    {
     "name": "stdout",
     "output_type": "stream",
     "text": [
      "(1, 2, 11)\n",
      "(3, 4, 12)\n",
      "(5, 6, 13)\n"
     ]
    }
   ],
   "source": [
    "for i in test2 :\n",
    "    print(i)"
   ]
  },
  {
   "cell_type": "code",
   "execution_count": 60,
   "id": "e163691a",
   "metadata": {},
   "outputs": [
    {
     "name": "stdout",
     "output_type": "stream",
     "text": [
      "Enter a number between 1-10 :5\n"
     ]
    }
   ],
   "source": [
    "number = int(input(\"Enter a number between 1-10 :\"))"
   ]
  },
  {
   "cell_type": "code",
   "execution_count": 61,
   "id": "bf64d707",
   "metadata": {},
   "outputs": [
    {
     "name": "stdout",
     "output_type": "stream",
     "text": [
      "Enter a number between 1-10 :5\n",
      "5 x 0 = 0\n",
      "5 x 1 = 5\n",
      "5 x 2 = 10\n",
      "5 x 3 = 15\n",
      "5 x 4 = 20\n",
      "5 x 5 = 25\n",
      "5 x 6 = 30\n",
      "5 x 7 = 35\n",
      "5 x 8 = 40\n",
      "5 x 9 = 45\n",
      "5 x 10 = 50\n"
     ]
    }
   ],
   "source": [
    "number = int(input(\"Enter a number between 1-10 :\"))\n",
    "for i in range(11) :\n",
    "    print(f\"{number} x {i} = {number * i}\")"
   ]
  },
  {
   "cell_type": "code",
   "execution_count": 62,
   "id": "2175b4e8",
   "metadata": {},
   "outputs": [
    {
     "name": "stdout",
     "output_type": "stream",
     "text": [
      "range(10, 1)\n"
     ]
    }
   ],
   "source": [
    "print(range(10, 1))"
   ]
  },
  {
   "cell_type": "code",
   "execution_count": 63,
   "id": "b99a0e96",
   "metadata": {},
   "outputs": [
    {
     "name": "stdout",
     "output_type": "stream",
     "text": [
      "range(10, 1, -1)\n"
     ]
    }
   ],
   "source": [
    "print(range(10, 1, -1))"
   ]
  },
  {
   "cell_type": "code",
   "execution_count": 64,
   "id": "36df3b89",
   "metadata": {},
   "outputs": [
    {
     "name": "stdout",
     "output_type": "stream",
     "text": [
      "10 9 8 7 6 5 4 3 2\n"
     ]
    }
   ],
   "source": [
    "print(* range(10, 1, -1))"
   ]
  },
  {
   "cell_type": "code",
   "execution_count": 65,
   "id": "93e6411a",
   "metadata": {},
   "outputs": [
    {
     "name": "stdout",
     "output_type": "stream",
     "text": [
      "E d w i n D a v i s\n"
     ]
    }
   ],
   "source": [
    "print(* \"EdwinDavis\")"
   ]
  },
  {
   "cell_type": "markdown",
   "id": "dacf0ebf",
   "metadata": {},
   "source": [
    "```\n",
    "1\n",
    "22\n",
    "333\n",
    "4444\n",
    "55555\n",
    "666666\n",
    "7777777\n",
    "88888888\n",
    "999999999\n",
    "```\n"
   ]
  },
  {
   "cell_type": "code",
   "execution_count": 66,
   "id": "1d4172a8",
   "metadata": {},
   "outputs": [
    {
     "data": {
      "text/plain": [
       "'55555'"
      ]
     },
     "execution_count": 66,
     "metadata": {},
     "output_type": "execute_result"
    }
   ],
   "source": [
    "\"5\" * 5"
   ]
  },
  {
   "cell_type": "code",
   "execution_count": 67,
   "id": "d51dc51c",
   "metadata": {},
   "outputs": [
    {
     "data": {
      "text/plain": [
       "'alialiali'"
      ]
     },
     "execution_count": 67,
     "metadata": {},
     "output_type": "execute_result"
    }
   ],
   "source": [
    "\"ali\" * 3"
   ]
  },
  {
   "cell_type": "code",
   "execution_count": 68,
   "id": "ec12b992",
   "metadata": {},
   "outputs": [
    {
     "data": {
      "text/plain": [
       "'ali ali ali '"
      ]
     },
     "execution_count": 68,
     "metadata": {},
     "output_type": "execute_result"
    }
   ],
   "source": [
    "\"ali \" * 3"
   ]
  },
  {
   "cell_type": "code",
   "execution_count": 69,
   "id": "5b19289c",
   "metadata": {},
   "outputs": [
    {
     "name": "stdout",
     "output_type": "stream",
     "text": [
      "1\n",
      "22\n",
      "333\n",
      "4444\n",
      "55555\n",
      "666666\n",
      "7777777\n",
      "88888888\n",
      "999999999\n"
     ]
    }
   ],
   "source": [
    "for i in range(1, 10) :\n",
    "    print(str(i) * i)"
   ]
  },
  {
   "cell_type": "code",
   "execution_count": 70,
   "id": "d6df8c5c",
   "metadata": {},
   "outputs": [
    {
     "data": {
      "text/plain": [
       "[0, 1, 2, 3, 4, 5, 6, 7, 8, 9, 10]"
      ]
     },
     "execution_count": 70,
     "metadata": {},
     "output_type": "execute_result"
    }
   ],
   "source": [
    "list(range(11))"
   ]
  },
  {
   "cell_type": "code",
   "execution_count": 71,
   "id": "9d9c056f",
   "metadata": {},
   "outputs": [
    {
     "data": {
      "text/plain": [
       "(0, 1, 2, 3, 4, 5, 6, 7, 8, 9, 10)"
      ]
     },
     "execution_count": 71,
     "metadata": {},
     "output_type": "execute_result"
    }
   ],
   "source": [
    "tuple(range(11))"
   ]
  },
  {
   "cell_type": "code",
   "execution_count": 72,
   "id": "081e2318",
   "metadata": {},
   "outputs": [
    {
     "data": {
      "text/plain": [
       "{0, 1, 2, 3, 4, 5, 6, 7, 8, 9, 10}"
      ]
     },
     "execution_count": 72,
     "metadata": {},
     "output_type": "execute_result"
    }
   ],
   "source": [
    "set(range(11))"
   ]
  },
  {
   "cell_type": "code",
   "execution_count": 73,
   "id": "055ddeef",
   "metadata": {},
   "outputs": [
    {
     "name": "stdout",
     "output_type": "stream",
     "text": [
      "0 1 2 3 4 5 6 7 8 9 10\n"
     ]
    }
   ],
   "source": [
    "print(* range(11))"
   ]
  },
  {
   "cell_type": "code",
   "execution_count": 74,
   "id": "4bdce4d2",
   "metadata": {},
   "outputs": [],
   "source": [
    "text = [\"one\", \"two\", \"three\", \"four\", \"five\"]"
   ]
  },
  {
   "cell_type": "code",
   "execution_count": 75,
   "id": "419a3d84",
   "metadata": {},
   "outputs": [],
   "source": [
    "numbers = [1, 2, 3, 4, 5]"
   ]
  },
  {
   "cell_type": "code",
   "execution_count": 76,
   "id": "367d566b",
   "metadata": {},
   "outputs": [],
   "source": [
    "zipped = zip(text, numbers)"
   ]
  },
  {
   "cell_type": "code",
   "execution_count": 77,
   "id": "6d595d07",
   "metadata": {},
   "outputs": [
    {
     "data": {
      "text/plain": [
       "<zip at 0x125a6718840>"
      ]
     },
     "execution_count": 77,
     "metadata": {},
     "output_type": "execute_result"
    }
   ],
   "source": [
    "zipped"
   ]
  },
  {
   "cell_type": "code",
   "execution_count": 78,
   "id": "660bf5ca",
   "metadata": {},
   "outputs": [
    {
     "name": "stdout",
     "output_type": "stream",
     "text": [
      "('one', 1) ('two', 2) ('three', 3) ('four', 4) ('five', 5)\n"
     ]
    }
   ],
   "source": [
    "print(* zipped)"
   ]
  },
  {
   "cell_type": "code",
   "execution_count": 79,
   "id": "4587b501",
   "metadata": {},
   "outputs": [
    {
     "data": {
      "text/plain": [
       "[]"
      ]
     },
     "execution_count": 79,
     "metadata": {},
     "output_type": "execute_result"
    }
   ],
   "source": [
    "list(zipped)"
   ]
  },
  {
   "cell_type": "code",
   "execution_count": 80,
   "id": "afefa964",
   "metadata": {},
   "outputs": [],
   "source": [
    "zipped = zip(text, numbers)"
   ]
  },
  {
   "cell_type": "code",
   "execution_count": 81,
   "id": "e3de3982",
   "metadata": {},
   "outputs": [
    {
     "data": {
      "text/plain": [
       "[('one', 1), ('two', 2), ('three', 3), ('four', 4), ('five', 5)]"
      ]
     },
     "execution_count": 81,
     "metadata": {},
     "output_type": "execute_result"
    }
   ],
   "source": [
    "list(zipped)"
   ]
  },
  {
   "cell_type": "code",
   "execution_count": 82,
   "id": "560b82ea",
   "metadata": {},
   "outputs": [
    {
     "name": "stdout",
     "output_type": "stream",
     "text": [
      "\n"
     ]
    }
   ],
   "source": [
    "print(* zipped)"
   ]
  },
  {
   "cell_type": "code",
   "execution_count": 83,
   "id": "52c77e93",
   "metadata": {},
   "outputs": [],
   "source": [
    "zipped = zip(text, numbers)"
   ]
  },
  {
   "cell_type": "code",
   "execution_count": 84,
   "id": "f09c53ae",
   "metadata": {},
   "outputs": [
    {
     "name": "stdout",
     "output_type": "stream",
     "text": [
      "one : 1\n",
      "two : 2\n",
      "three : 3\n",
      "four : 4\n",
      "five : 5\n"
     ]
    }
   ],
   "source": [
    "for x, y in zipped :\n",
    "    print(x, \":\", y)"
   ]
  },
  {
   "cell_type": "code",
   "execution_count": 85,
   "id": "2a344a2c",
   "metadata": {},
   "outputs": [
    {
     "name": "stdout",
     "output_type": "stream",
     "text": [
      "\n"
     ]
    }
   ],
   "source": [
    "print(* zipped)"
   ]
  },
  {
   "cell_type": "code",
   "execution_count": 86,
   "id": "c567c95a",
   "metadata": {},
   "outputs": [],
   "source": [
    "zipped = zip(text, numbers)"
   ]
  },
  {
   "cell_type": "code",
   "execution_count": 87,
   "id": "b91068f7",
   "metadata": {},
   "outputs": [
    {
     "data": {
      "text/plain": [
       "{'one': 1, 'two': 2, 'three': 3, 'four': 4, 'five': 5}"
      ]
     },
     "execution_count": 87,
     "metadata": {},
     "output_type": "execute_result"
    }
   ],
   "source": [
    "dict(zipped)"
   ]
  },
  {
   "cell_type": "code",
   "execution_count": 88,
   "id": "854319dc",
   "metadata": {},
   "outputs": [
    {
     "name": "stdout",
     "output_type": "stream",
     "text": [
      "(1, '1', True) (2, '2', False) (3, '3', True)\n"
     ]
    }
   ],
   "source": [
    "a = [1,2,3]\n",
    "b=[\"1\",\"2\",\"3\"]\n",
    "c=[True, False, True]\n",
    "\n",
    "print(* zip(a, b, c))"
   ]
  },
  {
   "cell_type": "code",
   "execution_count": 89,
   "id": "45ec6fda",
   "metadata": {},
   "outputs": [
    {
     "name": "stdout",
     "output_type": "stream",
     "text": [
      "(1, '1', True) (2, '2', False)\n"
     ]
    }
   ],
   "source": [
    "a = [1,2,3]\n",
    "b=[\"1\",\"2\",\"3\"]\n",
    "c=[True, False]\n",
    "\n",
    "print(* zip(a, b, c))"
   ]
  },
  {
   "cell_type": "code",
   "execution_count": 91,
   "id": "73349a66",
   "metadata": {},
   "outputs": [],
   "source": [
    "evens = []\n",
    "odds = []"
   ]
  },
  {
   "cell_type": "code",
   "execution_count": 93,
   "id": "757c5fe8",
   "metadata": {},
   "outputs": [
    {
     "name": "stdout",
     "output_type": "stream",
     "text": [
      "evens : [0, 2, 4, 6, 8, 0, 2, 4, 6, 8]\n",
      "odds : [1, 3, 5, 7, 9, 1, 3, 5, 7, 9]\n"
     ]
    }
   ],
   "source": [
    "for n in range(10) :\n",
    "    \n",
    "    if n % 2 == 0 :\n",
    "        evens.append(n)\n",
    "    else : \n",
    "        odds.append(n)\n",
    "print(\"evens :\", evens)\n",
    "print(\"odds :\", odds)"
   ]
  },
  {
   "cell_type": "code",
   "execution_count": 94,
   "id": "6aa9335f",
   "metadata": {},
   "outputs": [],
   "source": [
    "numbers = (11, 36, 33, 66, 89, 21, 32, 16, 10)"
   ]
  },
  {
   "cell_type": "code",
   "execution_count": 95,
   "id": "d2caab34",
   "metadata": {},
   "outputs": [
    {
     "name": "stdout",
     "output_type": "stream",
     "text": [
      "Evens count : 5\n",
      "Odds count : 4\n"
     ]
    }
   ],
   "source": [
    "evens = 0\n",
    "odds = 0\n",
    "\n",
    "for i in numbers : \n",
    "    if i % 2 == 0 :\n",
    "        evens += 1\n",
    "    else :\n",
    "        odds += 1\n",
    "print(\"Evens count :\", evens)\n",
    "print(\"Odds count :\", odds)"
   ]
  },
  {
   "cell_type": "code",
   "execution_count": 96,
   "id": "2ebd3d5a",
   "metadata": {},
   "outputs": [
    {
     "data": {
      "text/plain": [
       "(1, 2, 3, 4, 5, 6, 7)"
      ]
     },
     "execution_count": 96,
     "metadata": {},
     "output_type": "execute_result"
    }
   ],
   "source": [
    "tuple(range(1, 8))"
   ]
  },
  {
   "cell_type": "code",
   "execution_count": 97,
   "id": "c566f441",
   "metadata": {},
   "outputs": [],
   "source": [
    "mon, tue, wed, thu, fri, sat, sun = tuple(range(1, 8))"
   ]
  },
  {
   "cell_type": "code",
   "execution_count": 98,
   "id": "ecd30a0c",
   "metadata": {},
   "outputs": [
    {
     "data": {
      "text/plain": [
       "1"
      ]
     },
     "execution_count": 98,
     "metadata": {},
     "output_type": "execute_result"
    }
   ],
   "source": [
    "mon"
   ]
  },
  {
   "cell_type": "code",
   "execution_count": 99,
   "id": "f4a5e32d",
   "metadata": {},
   "outputs": [
    {
     "data": {
      "text/plain": [
       "5"
      ]
     },
     "execution_count": 99,
     "metadata": {},
     "output_type": "execute_result"
    }
   ],
   "source": [
    "fri"
   ]
  },
  {
   "cell_type": "code",
   "execution_count": 100,
   "id": "b54ef8a7",
   "metadata": {},
   "outputs": [],
   "source": [
    "mytuple = (\"apple\", \"banana\", \"cherry\")"
   ]
  },
  {
   "cell_type": "code",
   "execution_count": 101,
   "id": "e1828a94",
   "metadata": {},
   "outputs": [],
   "source": [
    "green, yellow, red = mytuple"
   ]
  },
  {
   "cell_type": "code",
   "execution_count": null,
   "id": "9dd24d62",
   "metadata": {},
   "outputs": [],
   "source": [
    "green, yellow, red = (\"apple\", \"banana\", \"cherry\")"
   ]
  },
  {
   "cell_type": "code",
   "execution_count": 103,
   "id": "ba3b7b35",
   "metadata": {},
   "outputs": [
    {
     "data": {
      "text/plain": [
       "[1, 2, 3, 'ali', 'veli', 4]"
      ]
     },
     "execution_count": 103,
     "metadata": {},
     "output_type": "execute_result"
    }
   ],
   "source": [
    "[1, 2, 3] + [\"ali\", \"veli\"] + [4]"
   ]
  },
  {
   "cell_type": "code",
   "execution_count": 104,
   "id": "c808d471",
   "metadata": {},
   "outputs": [
    {
     "ename": "ValueError",
     "evalue": "too many values to unpack (expected 2)",
     "output_type": "error",
     "traceback": [
      "\u001b[1;31m---------------------------------------------------------------------------\u001b[0m",
      "\u001b[1;31mValueError\u001b[0m                                Traceback (most recent call last)",
      "Input \u001b[1;32mIn [104]\u001b[0m, in \u001b[0;36m<cell line: 1>\u001b[1;34m()\u001b[0m\n\u001b[1;32m----> 1\u001b[0m a, b \u001b[38;5;241m=\u001b[39m (\u001b[38;5;241m10\u001b[39m, \u001b[38;5;241m20\u001b[39m, \u001b[38;5;241m30\u001b[39m, \u001b[38;5;241m40\u001b[39m)\n",
      "\u001b[1;31mValueError\u001b[0m: too many values to unpack (expected 2)"
     ]
    }
   ],
   "source": [
    "a, b = (10, 20, 30, 40)"
   ]
  },
  {
   "cell_type": "code",
   "execution_count": 105,
   "id": "02cf0e45",
   "metadata": {},
   "outputs": [],
   "source": [
    "a, _, b, _ = (10, 20, 30, 40)"
   ]
  },
  {
   "cell_type": "code",
   "execution_count": 106,
   "id": "3b566846",
   "metadata": {},
   "outputs": [
    {
     "data": {
      "text/plain": [
       "10"
      ]
     },
     "execution_count": 106,
     "metadata": {},
     "output_type": "execute_result"
    }
   ],
   "source": [
    "a"
   ]
  },
  {
   "cell_type": "code",
   "execution_count": 107,
   "id": "e63c78cd",
   "metadata": {},
   "outputs": [
    {
     "data": {
      "text/plain": [
       "30"
      ]
     },
     "execution_count": 107,
     "metadata": {},
     "output_type": "execute_result"
    }
   ],
   "source": [
    "b"
   ]
  },
  {
   "cell_type": "code",
   "execution_count": 108,
   "id": "7108f37c",
   "metadata": {},
   "outputs": [
    {
     "data": {
      "text/plain": [
       "40"
      ]
     },
     "execution_count": 108,
     "metadata": {},
     "output_type": "execute_result"
    }
   ],
   "source": [
    "_"
   ]
  },
  {
   "cell_type": "code",
   "execution_count": 109,
   "id": "7e7504ae",
   "metadata": {},
   "outputs": [
    {
     "ename": "ValueError",
     "evalue": "too many values to unpack (expected 3)",
     "output_type": "error",
     "traceback": [
      "\u001b[1;31m---------------------------------------------------------------------------\u001b[0m",
      "\u001b[1;31mValueError\u001b[0m                                Traceback (most recent call last)",
      "Input \u001b[1;32mIn [109]\u001b[0m, in \u001b[0;36m<cell line: 1>\u001b[1;34m()\u001b[0m\n\u001b[1;32m----> 1\u001b[0m x, y, z \u001b[38;5;241m=\u001b[39m (\u001b[38;5;241m11\u001b[39m, \u001b[38;5;241m22\u001b[39m, \u001b[38;5;241m33\u001b[39m, \u001b[38;5;241m44\u001b[39m, \u001b[38;5;241m55\u001b[39m)\n",
      "\u001b[1;31mValueError\u001b[0m: too many values to unpack (expected 3)"
     ]
    }
   ],
   "source": [
    "x, y, z = (11, 22, 33, 44, 55)"
   ]
  },
  {
   "cell_type": "code",
   "execution_count": null,
   "id": "837e31a7",
   "metadata": {},
   "outputs": [],
   "source": [
    "x, y, z = (11, 22, 33, 44, 55)"
   ]
  },
  {
   "cell_type": "code",
   "execution_count": 110,
   "id": "f34c1742",
   "metadata": {},
   "outputs": [],
   "source": [
    "x, y, *z = (11, 22, 33, 44, 55)"
   ]
  },
  {
   "cell_type": "code",
   "execution_count": 111,
   "id": "98ca67e6",
   "metadata": {},
   "outputs": [
    {
     "data": {
      "text/plain": [
       "11"
      ]
     },
     "execution_count": 111,
     "metadata": {},
     "output_type": "execute_result"
    }
   ],
   "source": [
    "x"
   ]
  },
  {
   "cell_type": "code",
   "execution_count": 112,
   "id": "d5f41fc0",
   "metadata": {},
   "outputs": [
    {
     "data": {
      "text/plain": [
       "22"
      ]
     },
     "execution_count": 112,
     "metadata": {},
     "output_type": "execute_result"
    }
   ],
   "source": [
    "y"
   ]
  },
  {
   "cell_type": "code",
   "execution_count": 113,
   "id": "5ae4e24f",
   "metadata": {},
   "outputs": [
    {
     "data": {
      "text/plain": [
       "[33, 44, 55]"
      ]
     },
     "execution_count": 113,
     "metadata": {},
     "output_type": "execute_result"
    }
   ],
   "source": [
    "z"
   ]
  },
  {
   "cell_type": "code",
   "execution_count": 114,
   "id": "f634bdae",
   "metadata": {},
   "outputs": [],
   "source": [
    "x, y, *_ = (11, 22, 33, 44, 55)"
   ]
  },
  {
   "cell_type": "code",
   "execution_count": 115,
   "id": "57ae3fc0",
   "metadata": {},
   "outputs": [
    {
     "data": {
      "text/plain": [
       "11"
      ]
     },
     "execution_count": 115,
     "metadata": {},
     "output_type": "execute_result"
    }
   ],
   "source": [
    "x"
   ]
  },
  {
   "cell_type": "code",
   "execution_count": 116,
   "id": "2489b25c",
   "metadata": {},
   "outputs": [],
   "source": [
    "x, y, *z, t = (11, 22, 33, 44, 55, 66, 77)"
   ]
  },
  {
   "cell_type": "code",
   "execution_count": 117,
   "id": "229c3f2b",
   "metadata": {},
   "outputs": [
    {
     "data": {
      "text/plain": [
       "77"
      ]
     },
     "execution_count": 117,
     "metadata": {},
     "output_type": "execute_result"
    }
   ],
   "source": [
    "t"
   ]
  },
  {
   "cell_type": "code",
   "execution_count": null,
   "id": "6976b3b2",
   "metadata": {},
   "outputs": [],
   "source": []
  },
  {
   "cell_type": "code",
   "execution_count": null,
   "id": "dc1541fe",
   "metadata": {},
   "outputs": [],
   "source": []
  },
  {
   "cell_type": "code",
   "execution_count": null,
   "id": "e2256cd3",
   "metadata": {},
   "outputs": [],
   "source": []
  },
  {
   "cell_type": "code",
   "execution_count": null,
   "id": "2bf34722",
   "metadata": {},
   "outputs": [],
   "source": []
  }
 ],
 "metadata": {
  "kernelspec": {
   "display_name": "Python 3 (ipykernel)",
   "language": "python",
   "name": "python3"
  },
  "language_info": {
   "codemirror_mode": {
    "name": "ipython",
    "version": 3
   },
   "file_extension": ".py",
   "mimetype": "text/x-python",
   "name": "python",
   "nbconvert_exporter": "python",
   "pygments_lexer": "ipython3",
   "version": "3.9.11"
  }
 },
 "nbformat": 4,
 "nbformat_minor": 5
}
