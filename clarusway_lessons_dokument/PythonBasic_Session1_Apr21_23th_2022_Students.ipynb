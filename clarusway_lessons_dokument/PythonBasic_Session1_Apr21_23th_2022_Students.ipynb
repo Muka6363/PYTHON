{
 "cells": [
  {
   "cell_type": "markdown",
   "id": "406f2981",
   "metadata": {},
   "source": [
    "<img src=\"https://docs.google.com/uc?id=14xeXxFrVRjvOoUYWn_GuyE-v84wVzrqr\" class=\"img-fluid\" alt=\"CLRWY\" width=\"400\" height=\"200\">"
   ]
  },
  {
   "cell_type": "markdown",
   "id": "22263af8",
   "metadata": {},
   "source": [
    "<h1><p style=\"text-align: center; color:darkblue\">Python In-Class, <br>21,23 April 2022</p><h1>"
   ]
  },
  {
   "cell_type": "code",
   "execution_count": 1,
   "id": "4a9c4be3",
   "metadata": {},
   "outputs": [
    {
     "name": "stdout",
     "output_type": "stream",
     "text": [
      "hello\n"
     ]
    }
   ],
   "source": [
    "print(\"hello\")"
   ]
  },
  {
   "cell_type": "code",
   "execution_count": 2,
   "id": "7fb7c341",
   "metadata": {},
   "outputs": [
    {
     "name": "stdout",
     "output_type": "stream",
     "text": [
      "hello world\n"
     ]
    }
   ],
   "source": [
    "print(\"hello world\")"
   ]
  },
  {
   "cell_type": "code",
   "execution_count": 3,
   "id": "836cf034",
   "metadata": {},
   "outputs": [
    {
     "ename": "SyntaxError",
     "evalue": "EOL while scanning string literal (842549119.py, line 1)",
     "output_type": "error",
     "traceback": [
      "\u001b[1;36m  Input \u001b[1;32mIn [3]\u001b[1;36m\u001b[0m\n\u001b[1;33m    print(\"hello world')\u001b[0m\n\u001b[1;37m                        ^\u001b[0m\n\u001b[1;31mSyntaxError\u001b[0m\u001b[1;31m:\u001b[0m EOL while scanning string literal\n"
     ]
    }
   ],
   "source": [
    "print(\"hello world')"
   ]
  },
  {
   "cell_type": "code",
   "execution_count": 4,
   "id": "540df705",
   "metadata": {},
   "outputs": [
    {
     "name": "stdout",
     "output_type": "stream",
     "text": [
      "çiftle başladım çiftle bitirdim\n"
     ]
    }
   ],
   "source": [
    "print(\"çiftle başladım çiftle bitirdim\")"
   ]
  },
  {
   "cell_type": "code",
   "execution_count": 5,
   "id": "c7748719",
   "metadata": {},
   "outputs": [
    {
     "ename": "SyntaxError",
     "evalue": "EOL while scanning string literal (2073767124.py, line 1)",
     "output_type": "error",
     "traceback": [
      "\u001b[1;36m  Input \u001b[1;32mIn [5]\u001b[1;36m\u001b[0m\n\u001b[1;33m    print(\"benim adım Edwin,\u001b[0m\n\u001b[1;37m                            ^\u001b[0m\n\u001b[1;31mSyntaxError\u001b[0m\u001b[1;31m:\u001b[0m EOL while scanning string literal\n"
     ]
    }
   ],
   "source": [
    "print(\"benim adım Edwin,\n",
    "      ben sizi seviyorum\n",
    "      sizde huzur buluyorum\")"
   ]
  },
  {
   "cell_type": "code",
   "execution_count": 6,
   "id": "61062f63",
   "metadata": {},
   "outputs": [
    {
     "name": "stdout",
     "output_type": "stream",
     "text": [
      " \n",
      "bunun\n",
      "arasına\n",
      "istediğim kadar\n",
      "satır yazıp\n",
      "uzunca çıktı alabileceğim gibi\n",
      "istediğim yerde de kullanabilirim\n",
      "\n"
     ]
    }
   ],
   "source": [
    "print(\"\"\" \n",
    "bunun\n",
    "arasına\n",
    "istediğim kadar\n",
    "satır yazıp\n",
    "uzunca çıktı alabileceğim gibi\n",
    "istediğim yerde de kullanabilirim\n",
    "\"\"\")"
   ]
  },
  {
   "cell_type": "code",
   "execution_count": 7,
   "id": "9f341a72",
   "metadata": {},
   "outputs": [
    {
     "name": "stdout",
     "output_type": "stream",
     "text": [
      "bu benim ilk dersim.\n",
      "çok heyacnlıyım\n",
      "karşımda pırlanta gibi insanlar var\n",
      "o yüzden çok iyi hissediyorum\n"
     ]
    }
   ],
   "source": [
    "print(\"\"\"bu benim ilk dersim.\n",
    "çok heyacnlıyım\n",
    "karşımda pırlanta gibi insanlar var\n",
    "o yüzden çok iyi hissediyorum\"\"\")"
   ]
  },
  {
   "cell_type": "code",
   "execution_count": 8,
   "id": "cbc6a183",
   "metadata": {},
   "outputs": [
    {
     "name": "stdout",
     "output_type": "stream",
     "text": [
      "hello world\n"
     ]
    }
   ],
   "source": [
    "print(\"\"\"hello world\"\"\")"
   ]
  },
  {
   "cell_type": "code",
   "execution_count": 9,
   "id": "10439275",
   "metadata": {},
   "outputs": [
    {
     "name": "stdout",
     "output_type": "stream",
     "text": [
      " tek satır\n"
     ]
    }
   ],
   "source": [
    "print(''' tek satır''')"
   ]
  },
  {
   "cell_type": "code",
   "execution_count": 11,
   "id": "8e2f4ece",
   "metadata": {},
   "outputs": [
    {
     "name": "stdout",
     "output_type": "stream",
     "text": [
      "123456678890ğ**_*?-+*/&%/()/!'^+%54%^%'''\n"
     ]
    }
   ],
   "source": [
    "print(\"\"\"123456678890ğ**_*?-+*/&%/()/!'^+%54%^%'''\"\"\")"
   ]
  },
  {
   "cell_type": "code",
   "execution_count": 13,
   "id": "25bd71e2",
   "metadata": {},
   "outputs": [
    {
     "name": "stdout",
     "output_type": "stream",
     "text": [
      "Ahmet'in kedisi\n"
     ]
    }
   ],
   "source": [
    "print(\"Ahmet'in kedisi\")"
   ]
  },
  {
   "cell_type": "code",
   "execution_count": 14,
   "id": "d36ab01c",
   "metadata": {},
   "outputs": [
    {
     "name": "stdout",
     "output_type": "stream",
     "text": [
      "Sevim\"in kedisi\n"
     ]
    }
   ],
   "source": [
    "print('Sevim\"in kedisi')"
   ]
  },
  {
   "cell_type": "code",
   "execution_count": 15,
   "id": "057c5a50",
   "metadata": {},
   "outputs": [
    {
     "name": "stdout",
     "output_type": "stream",
     "text": [
      "41\n"
     ]
    }
   ],
   "source": [
    "print(41)"
   ]
  },
  {
   "cell_type": "code",
   "execution_count": 16,
   "id": "46d375ff",
   "metadata": {},
   "outputs": [
    {
     "name": "stdout",
     "output_type": "stream",
     "text": [
      "41\n"
     ]
    }
   ],
   "source": [
    "print(\"41\")"
   ]
  },
  {
   "cell_type": "code",
   "execution_count": 17,
   "id": "096b8bde",
   "metadata": {},
   "outputs": [
    {
     "name": "stdout",
     "output_type": "stream",
     "text": [
      "3 4\n"
     ]
    }
   ],
   "source": [
    "print(3, 4)"
   ]
  },
  {
   "cell_type": "code",
   "execution_count": 18,
   "id": "099f08c5",
   "metadata": {},
   "outputs": [
    {
     "name": "stdout",
     "output_type": "stream",
     "text": [
      "3 4 11.4 ali deli veli\n"
     ]
    }
   ],
   "source": [
    "print(3, 4, 11.4, \"ali\", \"deli\", \"veli\")"
   ]
  },
  {
   "cell_type": "code",
   "execution_count": 20,
   "id": "0c69b7d1",
   "metadata": {},
   "outputs": [
    {
     "name": "stdout",
     "output_type": "stream",
     "text": [
      "birinci satır\n",
      "\n",
      "üçünc satır\n",
      " \n",
      "işte bu da dördüncü satır\n"
     ]
    }
   ],
   "source": [
    "print(\"birinci satır\")\n",
    "print()\n",
    "print(\"üçünc satır\")\n",
    "print(\"\")\n",
    "print(\"işte bu da dördüncü satır\")"
   ]
  },
  {
   "cell_type": "code",
   "execution_count": 21,
   "id": "92ed0244",
   "metadata": {},
   "outputs": [
    {
     "ename": "SyntaxError",
     "evalue": "EOF while scanning triple-quoted string literal (878951140.py, line 1)",
     "output_type": "error",
     "traceback": [
      "\u001b[1;36m  Input \u001b[1;32mIn [21]\u001b[1;36m\u001b[0m\n\u001b[1;33m    print('''')\u001b[0m\n\u001b[1;37m               ^\u001b[0m\n\u001b[1;31mSyntaxError\u001b[0m\u001b[1;31m:\u001b[0m EOF while scanning triple-quoted string literal\n"
     ]
    }
   ],
   "source": [
    "print('''')"
   ]
  },
  {
   "cell_type": "code",
   "execution_count": 22,
   "id": "0bf01d04",
   "metadata": {},
   "outputs": [
    {
     "name": "stdout",
     "output_type": "stream",
     "text": [
      " \" \n"
     ]
    }
   ],
   "source": [
    "print(\"\"\" \" \"\"\" )"
   ]
  },
  {
   "cell_type": "code",
   "execution_count": 23,
   "id": "4a00f0e6",
   "metadata": {},
   "outputs": [
    {
     "name": "stdout",
     "output_type": "stream",
     "text": [
      "''\n"
     ]
    }
   ],
   "source": [
    "print(\"''\")"
   ]
  },
  {
   "cell_type": "code",
   "execution_count": 24,
   "id": "a2914a16",
   "metadata": {},
   "outputs": [
    {
     "name": "stdout",
     "output_type": "stream",
     "text": [
      "\"\"\n"
     ]
    }
   ],
   "source": [
    "print('\"\"')"
   ]
  },
  {
   "cell_type": "code",
   "execution_count": 1,
   "id": "e2b7a750",
   "metadata": {},
   "outputs": [
    {
     "name": "stdout",
     "output_type": "stream",
     "text": [
      "79 karakteri geçmiyoruz. geçersen de hata vermez ama kodun yana doğru uzar gir.burda olduğu gibi ters slash kullanarak alt satıra geçenilliyorsunuz.bakın yukarda sanki tek satırda kalmış gibi ekrana yazdırdı.\n"
     ]
    }
   ],
   "source": [
    "print(\"79 karakteri geçmiyoruz. geçersen de hata vermez ama kodun yana doğru uzar gir.\\\n",
    "burda olduğu gibi ters slash kullanarak alt satıra geçenilliyorsunuz.\\\n",
    "bakın yukarda sanki tek satırda kalmış gibi ekrana yazdırdı.\")"
   ]
  },
  {
   "cell_type": "code",
   "execution_count": 3,
   "id": "dcfab931",
   "metadata": {},
   "outputs": [
    {
     "ename": "SyntaxError",
     "evalue": "EOL while scanning string literal (194441414.py, line 1)",
     "output_type": "error",
     "traceback": [
      "\u001b[1;36m  Input \u001b[1;32mIn [3]\u001b[1;36m\u001b[0m\n\u001b[1;33m    print(\"pep-8 e uyarsan güzel olur\\\u001b[0m\n\u001b[1;37m                                       ^\u001b[0m\n\u001b[1;31mSyntaxError\u001b[0m\u001b[1;31m:\u001b[0m EOL while scanning string literal\n"
     ]
    }
   ],
   "source": [
    "print(\"pep-8 e uyarsan güzel olur\\ \n",
    "ve burdan devam ediyorum\")"
   ]
  },
  {
   "cell_type": "code",
   "execution_count": 4,
   "id": "a736fc7b",
   "metadata": {},
   "outputs": [
    {
     "name": "stdout",
     "output_type": "stream",
     "text": [
      "sizinle tanışmak güzeldi\n"
     ]
    }
   ],
   "source": [
    "print(\"sizinle tanışmak güzeldi\")  # bu bir açıklama ifadesidir."
   ]
  },
  {
   "cell_type": "code",
   "execution_count": 6,
   "id": "2242b568",
   "metadata": {},
   "outputs": [
    {
     "name": "stdout",
     "output_type": "stream",
     "text": [
      "\n",
      "\n"
     ]
    }
   ],
   "source": [
    "print(\"\")\n",
    "print()\n",
    "# bu bir single-line commentir"
   ]
  },
  {
   "cell_type": "code",
   "execution_count": 8,
   "id": "111ca204",
   "metadata": {},
   "outputs": [
    {
     "data": {
      "text/plain": [
       "8"
      ]
     },
     "execution_count": 8,
     "metadata": {},
     "output_type": "execute_result"
    }
   ],
   "source": [
    "3 + 5  # 3 ile 5 in toplamına ilişkin cod satırı"
   ]
  },
  {
   "cell_type": "code",
   "execution_count": null,
   "id": "a1bd2bf6",
   "metadata": {},
   "outputs": [],
   "source": [
    "# ...\n",
    "# ...\n",
    "# ...\n",
    "x = 35 # buradaki \"x\" müşterinin ev sayısı. \n",
    "y = 22 # bu da müşterinin kızının ev sayısı.\n"
   ]
  },
  {
   "cell_type": "code",
   "execution_count": null,
   "id": "6e2ce722",
   "metadata": {},
   "outputs": [],
   "source": [
    "# \"ali\"\n",
    "# \"veli\"\n",
    "# \"deli\""
   ]
  },
  {
   "cell_type": "code",
   "execution_count": 9,
   "id": "3dc0fff6",
   "metadata": {},
   "outputs": [
    {
     "name": "stdout",
     "output_type": "stream",
     "text": [
      "ali 33 deli\n"
     ]
    }
   ],
   "source": [
    "a = \"ali\"\n",
    "\n",
    "b = 33\n",
    "\n",
    "c = \"deli\"\n",
    "\n",
    "print(a, b, c)"
   ]
  },
  {
   "cell_type": "code",
   "execution_count": 10,
   "id": "0474fb9d",
   "metadata": {},
   "outputs": [
    {
     "ename": "SyntaxError",
     "evalue": "invalid syntax (3306000817.py, line 1)",
     "output_type": "error",
     "traceback": [
      "\u001b[1;36m  Input \u001b[1;32mIn [10]\u001b[1;36m\u001b[0m\n\u001b[1;33m    x =\u001b[0m\n\u001b[1;37m        ^\u001b[0m\n\u001b[1;31mSyntaxError\u001b[0m\u001b[1;31m:\u001b[0m invalid syntax\n"
     ]
    }
   ],
   "source": [
    "x = "
   ]
  },
  {
   "cell_type": "code",
   "execution_count": 11,
   "id": "e5900e4d",
   "metadata": {},
   "outputs": [],
   "source": [
    "x = \"\""
   ]
  },
  {
   "cell_type": "code",
   "execution_count": 12,
   "id": "88b8e127",
   "metadata": {},
   "outputs": [],
   "source": [
    "y = 0"
   ]
  },
  {
   "cell_type": "code",
   "execution_count": 15,
   "id": "a8e940e1",
   "metadata": {},
   "outputs": [
    {
     "data": {
      "text/plain": [
       "0"
      ]
     },
     "execution_count": 15,
     "metadata": {},
     "output_type": "execute_result"
    }
   ],
   "source": [
    "y"
   ]
  },
  {
   "cell_type": "code",
   "execution_count": 16,
   "id": "38efe95f",
   "metadata": {},
   "outputs": [
    {
     "name": "stdout",
     "output_type": "stream",
     "text": [
      "0\n"
     ]
    }
   ],
   "source": [
    "print(y)"
   ]
  },
  {
   "cell_type": "code",
   "execution_count": null,
   "id": "ea9930cd",
   "metadata": {},
   "outputs": [],
   "source": [
    "kardeşler = [\"ali\", \"veli\", \"deli\"]"
   ]
  },
  {
   "cell_type": "code",
   "execution_count": 18,
   "id": "154c790f",
   "metadata": {},
   "outputs": [
    {
     "data": {
      "text/plain": [
       "'something but nothing'"
      ]
     },
     "execution_count": 18,
     "metadata": {},
     "output_type": "execute_result"
    }
   ],
   "source": [
    "VAR_ONE = \"something but nothing\"  # büyük harf kullanmıyoruz.\n",
    "\n",
    "VAR_ONE"
   ]
  },
  {
   "cell_type": "code",
   "execution_count": 19,
   "id": "f2718a06",
   "metadata": {},
   "outputs": [
    {
     "ename": "SyntaxError",
     "evalue": "invalid syntax (1792425823.py, line 1)",
     "output_type": "error",
     "traceback": [
      "\u001b[1;36m  Input \u001b[1;32mIn [19]\u001b[1;36m\u001b[0m\n\u001b[1;33m    or = \"alivelideli\"\u001b[0m\n\u001b[1;37m    ^\u001b[0m\n\u001b[1;31mSyntaxError\u001b[0m\u001b[1;31m:\u001b[0m invalid syntax\n"
     ]
    }
   ],
   "source": [
    "or = \"alivelideli\""
   ]
  },
  {
   "cell_type": "code",
   "execution_count": 20,
   "id": "a64a4aae",
   "metadata": {},
   "outputs": [
    {
     "ename": "SyntaxError",
     "evalue": "invalid syntax (3209320528.py, line 1)",
     "output_type": "error",
     "traceback": [
      "\u001b[1;36m  Input \u001b[1;32mIn [20]\u001b[1;36m\u001b[0m\n\u001b[1;33m    and = \"mahmut, sevda, yelda\"\u001b[0m\n\u001b[1;37m    ^\u001b[0m\n\u001b[1;31mSyntaxError\u001b[0m\u001b[1;31m:\u001b[0m invalid syntax\n"
     ]
    }
   ],
   "source": [
    "and = \"mahmut, sevda, yelda\""
   ]
  },
  {
   "cell_type": "code",
   "execution_count": 21,
   "id": "bc0a43ed",
   "metadata": {},
   "outputs": [
    {
     "ename": "SyntaxError",
     "evalue": "invalid syntax (3280009931.py, line 1)",
     "output_type": "error",
     "traceback": [
      "\u001b[1;36m  Input \u001b[1;32mIn [21]\u001b[1;36m\u001b[0m\n\u001b[1;33m    if = 22\u001b[0m\n\u001b[1;37m       ^\u001b[0m\n\u001b[1;31mSyntaxError\u001b[0m\u001b[1;31m:\u001b[0m invalid syntax\n"
     ]
    }
   ],
   "source": [
    "if = 22"
   ]
  },
  {
   "cell_type": "code",
   "execution_count": null,
   "id": "0eacf75a",
   "metadata": {},
   "outputs": [],
   "source": [
    "if_or_and = \"atama yapabilirim\""
   ]
  },
  {
   "cell_type": "code",
   "execution_count": 22,
   "id": "070b9c80",
   "metadata": {},
   "outputs": [
    {
     "ename": "SyntaxError",
     "evalue": "invalid syntax (2772885082.py, line 1)",
     "output_type": "error",
     "traceback": [
      "\u001b[1;36m  Input \u001b[1;32mIn [22]\u001b[1;36m\u001b[0m\n\u001b[1;33m    _al?i = \"absurd\"\u001b[0m\n\u001b[1;37m       ^\u001b[0m\n\u001b[1;31mSyntaxError\u001b[0m\u001b[1;31m:\u001b[0m invalid syntax\n"
     ]
    }
   ],
   "source": [
    "_al?i = \"absurd\""
   ]
  },
  {
   "cell_type": "code",
   "execution_count": null,
   "id": "15a35068",
   "metadata": {},
   "outputs": [],
   "source": [
    "!'^%+/()=?_{}"
   ]
  },
  {
   "cell_type": "code",
   "execution_count": 23,
   "id": "0ed96dcd",
   "metadata": {},
   "outputs": [
    {
     "name": "stdout",
     "output_type": "stream",
     "text": [
      "clarusway\n"
     ]
    }
   ],
   "source": [
    "x = y = z = \"clarusway\"\n",
    "print(x)"
   ]
  },
  {
   "cell_type": "code",
   "execution_count": 24,
   "id": "9fcc0438",
   "metadata": {},
   "outputs": [
    {
     "ename": "NameError",
     "evalue": "name 'ali' is not defined",
     "output_type": "error",
     "traceback": [
      "\u001b[1;31m---------------------------------------------------------------------------\u001b[0m",
      "\u001b[1;31mNameError\u001b[0m                                 Traceback (most recent call last)",
      "Input \u001b[1;32mIn [24]\u001b[0m, in \u001b[0;36m<cell line: 1>\u001b[1;34m()\u001b[0m\n\u001b[1;32m----> 1\u001b[0m a \u001b[38;5;241m=\u001b[39m b \u001b[38;5;241m=\u001b[39m c \u001b[38;5;241m=\u001b[39m \u001b[43mali\u001b[49m\n\u001b[0;32m      2\u001b[0m \u001b[38;5;28mprint\u001b[39m(a)\n",
      "\u001b[1;31mNameError\u001b[0m: name 'ali' is not defined"
     ]
    }
   ],
   "source": [
    "a = b = c = ali\n",
    "print(a)"
   ]
  },
  {
   "cell_type": "code",
   "execution_count": 25,
   "id": "ad4fdeb8",
   "metadata": {},
   "outputs": [
    {
     "name": "stdout",
     "output_type": "stream",
     "text": [
      "ali\n"
     ]
    }
   ],
   "source": [
    "a = b = c = \"ali\"\n",
    "\n",
    "print(a)"
   ]
  },
  {
   "cell_type": "code",
   "execution_count": 26,
   "id": "e1880dc9",
   "metadata": {},
   "outputs": [],
   "source": [
    "ali = \"veli\""
   ]
  },
  {
   "cell_type": "code",
   "execution_count": 27,
   "id": "dd92a96b",
   "metadata": {},
   "outputs": [],
   "source": [
    "a = b = c = ali"
   ]
  },
  {
   "cell_type": "code",
   "execution_count": 28,
   "id": "30070032",
   "metadata": {},
   "outputs": [
    {
     "data": {
      "text/plain": [
       "'veli'"
      ]
     },
     "execution_count": 28,
     "metadata": {},
     "output_type": "execute_result"
    }
   ],
   "source": [
    "a"
   ]
  },
  {
   "cell_type": "code",
   "execution_count": 29,
   "id": "1b083bf9",
   "metadata": {},
   "outputs": [
    {
     "data": {
      "text/plain": [
       "'veli'"
      ]
     },
     "execution_count": 29,
     "metadata": {},
     "output_type": "execute_result"
    }
   ],
   "source": [
    "b"
   ]
  },
  {
   "cell_type": "code",
   "execution_count": 30,
   "id": "e5d51443",
   "metadata": {},
   "outputs": [
    {
     "data": {
      "text/plain": [
       "'veli'"
      ]
     },
     "execution_count": 30,
     "metadata": {},
     "output_type": "execute_result"
    }
   ],
   "source": [
    "c"
   ]
  },
  {
   "cell_type": "code",
   "execution_count": null,
   "id": "62791549",
   "metadata": {},
   "outputs": [],
   "source": [
    "c = 11"
   ]
  },
  {
   "cell_type": "code",
   "execution_count": 31,
   "id": "c3d732c4",
   "metadata": {},
   "outputs": [
    {
     "ename": "NameError",
     "evalue": "name 'C' is not defined",
     "output_type": "error",
     "traceback": [
      "\u001b[1;31m---------------------------------------------------------------------------\u001b[0m",
      "\u001b[1;31mNameError\u001b[0m                                 Traceback (most recent call last)",
      "Input \u001b[1;32mIn [31]\u001b[0m, in \u001b[0;36m<cell line: 1>\u001b[1;34m()\u001b[0m\n\u001b[1;32m----> 1\u001b[0m \u001b[38;5;28mprint\u001b[39m(\u001b[43mC\u001b[49m)\n",
      "\u001b[1;31mNameError\u001b[0m: name 'C' is not defined"
     ]
    }
   ],
   "source": [
    "print(C)"
   ]
  },
  {
   "cell_type": "code",
   "execution_count": 32,
   "id": "bbcd03e1",
   "metadata": {},
   "outputs": [
    {
     "name": "stdout",
     "output_type": "stream",
     "text": [
      "None\n"
     ]
    }
   ],
   "source": [
    "walter = None\n",
    "print(walter)"
   ]
  },
  {
   "cell_type": "code",
   "execution_count": 33,
   "id": "f97027c3",
   "metadata": {},
   "outputs": [
    {
     "data": {
      "text/plain": [
       "33"
      ]
     },
     "execution_count": 33,
     "metadata": {},
     "output_type": "execute_result"
    }
   ],
   "source": [
    "walter = 33\n",
    "\n",
    "walter"
   ]
  },
  {
   "cell_type": "code",
   "execution_count": 34,
   "id": "d44f23a0",
   "metadata": {},
   "outputs": [
    {
     "data": {
      "text/plain": [
       "55"
      ]
     },
     "execution_count": 34,
     "metadata": {},
     "output_type": "execute_result"
    }
   ],
   "source": [
    "walter = 55\n",
    "walter"
   ]
  },
  {
   "cell_type": "code",
   "execution_count": 36,
   "id": "5de07c61",
   "metadata": {},
   "outputs": [],
   "source": [
    "thomas = 33\n",
    "edwin = 30\n",
    "walter = None\n",
    "isabella = 43+1"
   ]
  },
  {
   "cell_type": "code",
   "execution_count": 37,
   "id": "2ecf89b5",
   "metadata": {},
   "outputs": [
    {
     "data": {
      "text/plain": [
       "44"
      ]
     },
     "execution_count": 37,
     "metadata": {},
     "output_type": "execute_result"
    }
   ],
   "source": [
    "isabella"
   ]
  },
  {
   "cell_type": "code",
   "execution_count": 38,
   "id": "0adf64ae",
   "metadata": {},
   "outputs": [
    {
     "name": "stdout",
     "output_type": "stream",
     "text": [
      "33 55 33\n"
     ]
    }
   ],
   "source": [
    "a = 11\n",
    "b = 22\n",
    "c = 44\n",
    "\n",
    "a = 33\n",
    "b = 55\n",
    "c = a\n",
    "\n",
    "print(a, b, c)"
   ]
  },
  {
   "cell_type": "code",
   "execution_count": 39,
   "id": "575d921c",
   "metadata": {},
   "outputs": [
    {
     "data": {
      "text/plain": [
       "str"
      ]
     },
     "execution_count": 39,
     "metadata": {},
     "output_type": "execute_result"
    }
   ],
   "source": [
    "type(\"alideliveli\")"
   ]
  },
  {
   "cell_type": "code",
   "execution_count": 40,
   "id": "b023407a",
   "metadata": {},
   "outputs": [
    {
     "data": {
      "text/plain": [
       "str"
      ]
     },
     "execution_count": 40,
     "metadata": {},
     "output_type": "execute_result"
    }
   ],
   "source": [
    "type(\"ali, veli, deli\")"
   ]
  },
  {
   "cell_type": "code",
   "execution_count": 41,
   "id": "47060841",
   "metadata": {},
   "outputs": [
    {
     "data": {
      "text/plain": [
       "int"
      ]
     },
     "execution_count": 41,
     "metadata": {},
     "output_type": "execute_result"
    }
   ],
   "source": [
    "type(a)"
   ]
  },
  {
   "cell_type": "code",
   "execution_count": 42,
   "id": "a54fa717",
   "metadata": {},
   "outputs": [
    {
     "data": {
      "text/plain": [
       "10.5"
      ]
     },
     "execution_count": 42,
     "metadata": {},
     "output_type": "execute_result"
    }
   ],
   "source": [
    "10.5"
   ]
  },
  {
   "cell_type": "code",
   "execution_count": 43,
   "id": "40677ff1",
   "metadata": {},
   "outputs": [
    {
     "data": {
      "text/plain": [
       "float"
      ]
     },
     "execution_count": 43,
     "metadata": {},
     "output_type": "execute_result"
    }
   ],
   "source": [
    "type(10.5)"
   ]
  },
  {
   "cell_type": "code",
   "execution_count": 44,
   "id": "f82e1e50",
   "metadata": {},
   "outputs": [
    {
     "data": {
      "text/plain": [
       "True"
      ]
     },
     "execution_count": 44,
     "metadata": {},
     "output_type": "execute_result"
    }
   ],
   "source": [
    "10 == 10.0"
   ]
  },
  {
   "cell_type": "code",
   "execution_count": 45,
   "id": "4d48e4f7",
   "metadata": {},
   "outputs": [
    {
     "data": {
      "text/plain": [
       "10.0"
      ]
     },
     "execution_count": 45,
     "metadata": {},
     "output_type": "execute_result"
    }
   ],
   "source": [
    "float(10)"
   ]
  },
  {
   "cell_type": "code",
   "execution_count": null,
   "id": "69d72224",
   "metadata": {},
   "outputs": [],
   "source": [
    "\"10\"  # string (text)\n",
    "10  # integer (tam sayı)\n",
    "10.0  # float (ondalıklı sayı)"
   ]
  },
  {
   "cell_type": "code",
   "execution_count": null,
   "id": "42dd97af",
   "metadata": {},
   "outputs": [],
   "source": []
  },
  {
   "cell_type": "code",
   "execution_count": null,
   "id": "c5585df2",
   "metadata": {},
   "outputs": [],
   "source": []
  },
  {
   "cell_type": "code",
   "execution_count": null,
   "id": "3bc2663e",
   "metadata": {},
   "outputs": [],
   "source": []
  },
  {
   "cell_type": "code",
   "execution_count": null,
   "id": "760964f4",
   "metadata": {},
   "outputs": [],
   "source": []
  }
 ],
 "metadata": {
  "kernelspec": {
   "display_name": "Python 3 (ipykernel)",
   "language": "python",
   "name": "python3"
  },
  "language_info": {
   "codemirror_mode": {
    "name": "ipython",
    "version": 3
   },
   "file_extension": ".py",
   "mimetype": "text/x-python",
   "name": "python",
   "nbconvert_exporter": "python",
   "pygments_lexer": "ipython3",
   "version": "3.9.11"
  }
 },
 "nbformat": 4,
 "nbformat_minor": 5
}
