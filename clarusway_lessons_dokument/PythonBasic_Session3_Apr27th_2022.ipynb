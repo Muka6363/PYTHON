{
 "cells": [
  {
   "cell_type": "markdown",
   "id": "a2b0526e",
   "metadata": {},
   "source": [
    "<img src=\"https://docs.google.com/uc?id=14xeXxFrVRjvOoUYWn_GuyE-v84wVzrqr\" class=\"img-fluid\" alt=\"CLRWY\" width=\"400\" height=\"200\">"
   ]
  },
  {
   "cell_type": "markdown",
   "id": "25875883",
   "metadata": {},
   "source": [
    "<h1><p style=\"text-align: center; color:darkblue\">Python In-Class, <br>27 April 2022</p><h1>"
   ]
  },
  {
   "cell_type": "code",
   "execution_count": 1,
   "id": "cee7e10d",
   "metadata": {},
   "outputs": [
    {
     "data": {
      "text/plain": [
       "10"
      ]
     },
     "execution_count": 1,
     "metadata": {},
     "output_type": "execute_result"
    }
   ],
   "source": [
    "int(\"10\")"
   ]
  },
  {
   "cell_type": "code",
   "execution_count": 2,
   "id": "6aecdbdb",
   "metadata": {},
   "outputs": [
    {
     "data": {
      "text/plain": [
       "int"
      ]
     },
     "execution_count": 2,
     "metadata": {},
     "output_type": "execute_result"
    }
   ],
   "source": [
    "a = int(\"11\")\n",
    "type(a)"
   ]
  },
  {
   "cell_type": "code",
   "execution_count": 3,
   "id": "9afa7c1a",
   "metadata": {},
   "outputs": [
    {
     "ename": "ValueError",
     "evalue": "invalid literal for int() with base 10: 'onbir'",
     "output_type": "error",
     "traceback": [
      "\u001b[1;31m---------------------------------------------------------------------------\u001b[0m",
      "\u001b[1;31mValueError\u001b[0m                                Traceback (most recent call last)",
      "Input \u001b[1;32mIn [3]\u001b[0m, in \u001b[0;36m<cell line: 1>\u001b[1;34m()\u001b[0m\n\u001b[1;32m----> 1\u001b[0m \u001b[38;5;28;43mint\u001b[39;49m\u001b[43m(\u001b[49m\u001b[38;5;124;43m\"\u001b[39;49m\u001b[38;5;124;43monbir\u001b[39;49m\u001b[38;5;124;43m\"\u001b[39;49m\u001b[43m)\u001b[49m\n",
      "\u001b[1;31mValueError\u001b[0m: invalid literal for int() with base 10: 'onbir'"
     ]
    }
   ],
   "source": [
    "int(\"onbir\")"
   ]
  },
  {
   "cell_type": "code",
   "execution_count": 4,
   "id": "cff3cb62",
   "metadata": {},
   "outputs": [
    {
     "ename": "ValueError",
     "evalue": "invalid literal for int() with base 10: 'ten'",
     "output_type": "error",
     "traceback": [
      "\u001b[1;31m---------------------------------------------------------------------------\u001b[0m",
      "\u001b[1;31mValueError\u001b[0m                                Traceback (most recent call last)",
      "Input \u001b[1;32mIn [4]\u001b[0m, in \u001b[0;36m<cell line: 1>\u001b[1;34m()\u001b[0m\n\u001b[1;32m----> 1\u001b[0m \u001b[38;5;28;43mint\u001b[39;49m\u001b[43m(\u001b[49m\u001b[38;5;124;43m\"\u001b[39;49m\u001b[38;5;124;43mten\u001b[39;49m\u001b[38;5;124;43m\"\u001b[39;49m\u001b[43m)\u001b[49m\n",
      "\u001b[1;31mValueError\u001b[0m: invalid literal for int() with base 10: 'ten'"
     ]
    }
   ],
   "source": [
    "int(\"ten\")"
   ]
  },
  {
   "cell_type": "code",
   "execution_count": 5,
   "id": "91a2a608",
   "metadata": {},
   "outputs": [
    {
     "data": {
      "text/plain": [
       "10.0"
      ]
     },
     "execution_count": 5,
     "metadata": {},
     "output_type": "execute_result"
    }
   ],
   "source": [
    "float(\"10\")"
   ]
  },
  {
   "cell_type": "code",
   "execution_count": 6,
   "id": "ccd1c9e5",
   "metadata": {},
   "outputs": [
    {
     "data": {
      "text/plain": [
       "10.0"
      ]
     },
     "execution_count": 6,
     "metadata": {},
     "output_type": "execute_result"
    }
   ],
   "source": [
    "float(\"10.0\")"
   ]
  },
  {
   "cell_type": "code",
   "execution_count": 7,
   "id": "06c41f4c",
   "metadata": {},
   "outputs": [
    {
     "data": {
      "text/plain": [
       "'3.14'"
      ]
     },
     "execution_count": 7,
     "metadata": {},
     "output_type": "execute_result"
    }
   ],
   "source": [
    "str(3.14)"
   ]
  },
  {
   "cell_type": "code",
   "execution_count": 8,
   "id": "95519cf7",
   "metadata": {},
   "outputs": [
    {
     "data": {
      "text/plain": [
       "str"
      ]
     },
     "execution_count": 8,
     "metadata": {},
     "output_type": "execute_result"
    }
   ],
   "source": [
    "type(str(3.14))"
   ]
  },
  {
   "cell_type": "code",
   "execution_count": 9,
   "id": "d9bd1aba",
   "metadata": {},
   "outputs": [
    {
     "data": {
      "text/plain": [
       "'False'"
      ]
     },
     "execution_count": 9,
     "metadata": {},
     "output_type": "execute_result"
    }
   ],
   "source": [
    "str(False)"
   ]
  },
  {
   "cell_type": "code",
   "execution_count": 10,
   "id": "d46d8501",
   "metadata": {},
   "outputs": [
    {
     "name": "stdout",
     "output_type": "stream",
     "text": [
      "10\n",
      "10\n"
     ]
    }
   ],
   "source": [
    "print(\"10\")\n",
    "print(10)"
   ]
  },
  {
   "cell_type": "code",
   "execution_count": 11,
   "id": "9fa36488",
   "metadata": {},
   "outputs": [
    {
     "data": {
      "text/plain": [
       "'10'"
      ]
     },
     "execution_count": 11,
     "metadata": {},
     "output_type": "execute_result"
    }
   ],
   "source": [
    "\"10\""
   ]
  },
  {
   "cell_type": "code",
   "execution_count": 12,
   "id": "7af2ff78",
   "metadata": {},
   "outputs": [
    {
     "data": {
      "text/plain": [
       "10"
      ]
     },
     "execution_count": 12,
     "metadata": {},
     "output_type": "execute_result"
    }
   ],
   "source": [
    "10"
   ]
  },
  {
   "cell_type": "code",
   "execution_count": 13,
   "id": "85f8a396",
   "metadata": {},
   "outputs": [
    {
     "data": {
      "text/plain": [
       "3"
      ]
     },
     "execution_count": 13,
     "metadata": {},
     "output_type": "execute_result"
    }
   ],
   "source": [
    "int(3.14)"
   ]
  },
  {
   "cell_type": "code",
   "execution_count": 14,
   "id": "70a6bf01",
   "metadata": {},
   "outputs": [
    {
     "data": {
      "text/plain": [
       "11.0"
      ]
     },
     "execution_count": 14,
     "metadata": {},
     "output_type": "execute_result"
    }
   ],
   "source": [
    "float(11)"
   ]
  },
  {
   "cell_type": "code",
   "execution_count": 15,
   "id": "ce70dc2e",
   "metadata": {},
   "outputs": [
    {
     "data": {
      "text/plain": [
       "11.0"
      ]
     },
     "execution_count": 15,
     "metadata": {},
     "output_type": "execute_result"
    }
   ],
   "source": [
    "float(\"11\")"
   ]
  },
  {
   "cell_type": "code",
   "execution_count": 16,
   "id": "72b8be75",
   "metadata": {},
   "outputs": [
    {
     "data": {
      "text/plain": [
       "33.33"
      ]
     },
     "execution_count": 16,
     "metadata": {},
     "output_type": "execute_result"
    }
   ],
   "source": [
    "float(\"33.33\")"
   ]
  },
  {
   "cell_type": "code",
   "execution_count": 17,
   "id": "fa9ca9f9",
   "metadata": {},
   "outputs": [
    {
     "data": {
      "text/plain": [
       "8"
      ]
     },
     "execution_count": 17,
     "metadata": {},
     "output_type": "execute_result"
    }
   ],
   "source": [
    "43 // 5"
   ]
  },
  {
   "cell_type": "code",
   "execution_count": 18,
   "id": "e1f9b21b",
   "metadata": {},
   "outputs": [
    {
     "ename": "NameError",
     "evalue": "name 'pi' is not defined",
     "output_type": "error",
     "traceback": [
      "\u001b[1;31m---------------------------------------------------------------------------\u001b[0m",
      "\u001b[1;31mNameError\u001b[0m                                 Traceback (most recent call last)",
      "Input \u001b[1;32mIn [18]\u001b[0m, in \u001b[0;36m<cell line: 1>\u001b[1;34m()\u001b[0m\n\u001b[1;32m----> 1\u001b[0m \u001b[43mpi\u001b[49m \u001b[38;5;241m*\u001b[39m \u001b[38;5;241m5\u001b[39m \u001b[38;5;241m*\u001b[39m\u001b[38;5;241m*\u001b[39m \u001b[38;5;241m2\u001b[39m\n",
      "\u001b[1;31mNameError\u001b[0m: name 'pi' is not defined"
     ]
    }
   ],
   "source": [
    "pi * 5 ** 2"
   ]
  },
  {
   "cell_type": "code",
   "execution_count": 20,
   "id": "4ecc7737",
   "metadata": {},
   "outputs": [],
   "source": [
    "pi = 3.14\n",
    "r = 5\n",
    "area = pi * r ** 2"
   ]
  },
  {
   "cell_type": "code",
   "execution_count": 21,
   "id": "a1966b61",
   "metadata": {},
   "outputs": [
    {
     "data": {
      "text/plain": [
       "78.5"
      ]
     },
     "execution_count": 21,
     "metadata": {},
     "output_type": "execute_result"
    }
   ],
   "source": [
    "area"
   ]
  },
  {
   "cell_type": "code",
   "execution_count": 22,
   "id": "1a00a829",
   "metadata": {},
   "outputs": [
    {
     "name": "stdout",
     "output_type": "stream",
     "text": [
      "78.5\n"
     ]
    }
   ],
   "source": [
    "print(area)"
   ]
  },
  {
   "cell_type": "code",
   "execution_count": 23,
   "id": "f585d37e",
   "metadata": {},
   "outputs": [],
   "source": [
    "değişken = 10"
   ]
  },
  {
   "cell_type": "code",
   "execution_count": 24,
   "id": "e9f685b1",
   "metadata": {},
   "outputs": [
    {
     "data": {
      "text/plain": [
       "10"
      ]
     },
     "execution_count": 24,
     "metadata": {},
     "output_type": "execute_result"
    }
   ],
   "source": [
    "değişken"
   ]
  },
  {
   "cell_type": "code",
   "execution_count": 25,
   "id": "14f1fd31",
   "metadata": {},
   "outputs": [],
   "source": [
    "değişken = değişken + 1"
   ]
  },
  {
   "cell_type": "code",
   "execution_count": 26,
   "id": "2cbc8079",
   "metadata": {},
   "outputs": [
    {
     "data": {
      "text/plain": [
       "11"
      ]
     },
     "execution_count": 26,
     "metadata": {},
     "output_type": "execute_result"
    }
   ],
   "source": [
    "değişken"
   ]
  },
  {
   "cell_type": "code",
   "execution_count": 32,
   "id": "c6b4f585",
   "metadata": {},
   "outputs": [
    {
     "data": {
      "text/plain": [
       "5"
      ]
     },
     "execution_count": 32,
     "metadata": {},
     "output_type": "execute_result"
    }
   ],
   "source": [
    "değişken2 = 5\n",
    "değişken2"
   ]
  },
  {
   "cell_type": "code",
   "execution_count": 37,
   "id": "33a9adec",
   "metadata": {},
   "outputs": [],
   "source": [
    "değişken2 = değişken2 * 2"
   ]
  },
  {
   "cell_type": "code",
   "execution_count": 38,
   "id": "0d4763c1",
   "metadata": {},
   "outputs": [
    {
     "data": {
      "text/plain": [
       "40"
      ]
     },
     "execution_count": 38,
     "metadata": {},
     "output_type": "execute_result"
    }
   ],
   "source": [
    "değişken2"
   ]
  },
  {
   "cell_type": "code",
   "execution_count": 39,
   "id": "b185c2f9",
   "metadata": {},
   "outputs": [
    {
     "data": {
      "text/plain": [
       "11"
      ]
     },
     "execution_count": 39,
     "metadata": {},
     "output_type": "execute_result"
    }
   ],
   "source": [
    "değişken"
   ]
  },
  {
   "cell_type": "code",
   "execution_count": 40,
   "id": "94c5fa24",
   "metadata": {},
   "outputs": [],
   "source": [
    "değişken += 1"
   ]
  },
  {
   "cell_type": "code",
   "execution_count": 41,
   "id": "14669032",
   "metadata": {},
   "outputs": [
    {
     "data": {
      "text/plain": [
       "12"
      ]
     },
     "execution_count": 41,
     "metadata": {},
     "output_type": "execute_result"
    }
   ],
   "source": [
    "değişken"
   ]
  },
  {
   "cell_type": "code",
   "execution_count": 42,
   "id": "41417b89",
   "metadata": {},
   "outputs": [],
   "source": [
    "değişken *= 5"
   ]
  },
  {
   "cell_type": "code",
   "execution_count": 43,
   "id": "f196df9c",
   "metadata": {},
   "outputs": [
    {
     "data": {
      "text/plain": [
       "60"
      ]
     },
     "execution_count": 43,
     "metadata": {},
     "output_type": "execute_result"
    }
   ],
   "source": [
    "değişken"
   ]
  },
  {
   "cell_type": "code",
   "execution_count": 44,
   "id": "6bdfe46d",
   "metadata": {},
   "outputs": [],
   "source": [
    "a = 8\n",
    "b = 2"
   ]
  },
  {
   "cell_type": "code",
   "execution_count": 45,
   "id": "7b3907fe",
   "metadata": {},
   "outputs": [
    {
     "data": {
      "text/plain": [
       "10"
      ]
     },
     "execution_count": 45,
     "metadata": {},
     "output_type": "execute_result"
    }
   ],
   "source": [
    "a += b\n",
    "\n",
    "a"
   ]
  },
  {
   "cell_type": "code",
   "execution_count": null,
   "id": "6712b629",
   "metadata": {},
   "outputs": [],
   "source": [
    "print()"
   ]
  },
  {
   "cell_type": "code",
   "execution_count": 47,
   "id": "fe40157a",
   "metadata": {},
   "outputs": [],
   "source": [
    "?print"
   ]
  },
  {
   "cell_type": "code",
   "execution_count": 48,
   "id": "735cc399",
   "metadata": {},
   "outputs": [
    {
     "name": "stdout",
     "output_type": "stream",
     "text": [
      "derslere gelince sizinle huzur buluyorum\n"
     ]
    }
   ],
   "source": [
    "text1 = \"derslere gelince sizinle huzur buluyorum\"\n",
    "\n",
    "print(text1)"
   ]
  },
  {
   "cell_type": "code",
   "execution_count": 50,
   "id": "46ca21b7",
   "metadata": {},
   "outputs": [],
   "source": [
    "c = 50"
   ]
  },
  {
   "cell_type": "code",
   "execution_count": 51,
   "id": "95ce6e66",
   "metadata": {},
   "outputs": [
    {
     "name": "stdout",
     "output_type": "stream",
     "text": [
      "ali\n",
      "deli veli\n",
      "asım gamze 44\n",
      "50 False mücahid 3.14\n"
     ]
    }
   ],
   "source": [
    "print(\"ali\")\n",
    "print(\"deli\", \"veli\")\n",
    "print(\"asım\", \"gamze\", 44)\n",
    "print(c, False, \"mücahid\", 3.14)"
   ]
  },
  {
   "cell_type": "code",
   "execution_count": 53,
   "id": "a6be8205",
   "metadata": {},
   "outputs": [
    {
     "name": "stdout",
     "output_type": "stream",
     "text": [
      "orhan müberra 44\n",
      "veli deli\n"
     ]
    }
   ],
   "source": [
    "print(\"orhan\", \"müberra\", 44, sep = \" \")\n",
    "print(\"veli\", \"deli\")"
   ]
  },
  {
   "cell_type": "code",
   "execution_count": 54,
   "id": "2da17569",
   "metadata": {},
   "outputs": [
    {
     "name": "stdout",
     "output_type": "stream",
     "text": [
      "50-False-ahmet-3.14\n"
     ]
    }
   ],
   "source": [
    "print(c, False, \"ahmet\", 3.14, sep = \"-\")"
   ]
  },
  {
   "cell_type": "code",
   "execution_count": 55,
   "id": "a14554b0",
   "metadata": {},
   "outputs": [
    {
     "name": "stdout",
     "output_type": "stream",
     "text": [
      "50*False*ahmet*3.14\n"
     ]
    }
   ],
   "source": [
    "print(c, False, \"ahmet\", 3.14, sep = \"*\")"
   ]
  },
  {
   "cell_type": "code",
   "execution_count": 56,
   "id": "addd2d98",
   "metadata": {},
   "outputs": [
    {
     "name": "stdout",
     "output_type": "stream",
     "text": [
      "50Falseahmet3.14\n"
     ]
    }
   ],
   "source": [
    "print(c, False, \"ahmet\", 3.14, sep = \"\")"
   ]
  },
  {
   "cell_type": "code",
   "execution_count": 57,
   "id": "d92da006",
   "metadata": {},
   "outputs": [
    {
     "name": "stdout",
     "output_type": "stream",
     "text": [
      "ali veli ayşe\n"
     ]
    }
   ],
   "source": [
    "print(\"ali\", end = \" \")\n",
    "print(\"veli\", \"ayşe\")"
   ]
  },
  {
   "cell_type": "code",
   "execution_count": 58,
   "id": "9ba9bd54",
   "metadata": {},
   "outputs": [
    {
     "name": "stdout",
     "output_type": "stream",
     "text": [
      "ali, çocuklarıdır veli ile ayşe'nin"
     ]
    }
   ],
   "source": [
    "print(\"ali\", end = \", çocuklarıdır \")\n",
    "print(\"veli\", \"ile\", \"ayşe\", end = \"'nin\")"
   ]
  },
  {
   "cell_type": "code",
   "execution_count": 59,
   "id": "366adb6d",
   "metadata": {},
   "outputs": [
    {
     "ename": "SyntaxError",
     "evalue": "EOL while scanning string literal (2209645324.py, line 1)",
     "output_type": "error",
     "traceback": [
      "\u001b[1;36m  Input \u001b[1;32mIn [59]\u001b[1;36m\u001b[0m\n\u001b[1;33m    print('Ahmet Bey'in ceketi')\u001b[0m\n\u001b[1;37m                                ^\u001b[0m\n\u001b[1;31mSyntaxError\u001b[0m\u001b[1;31m:\u001b[0m EOL while scanning string literal\n"
     ]
    }
   ],
   "source": [
    "print('Ahmet Bey'in ceketi')"
   ]
  },
  {
   "cell_type": "code",
   "execution_count": 60,
   "id": "034149b5",
   "metadata": {},
   "outputs": [
    {
     "name": "stdout",
     "output_type": "stream",
     "text": [
      "Ahmet Bey'in ceketi\n"
     ]
    }
   ],
   "source": [
    "print('Ahmet Bey\\'in ceketi')"
   ]
  },
  {
   "cell_type": "code",
   "execution_count": 61,
   "id": "1148b5b5",
   "metadata": {},
   "outputs": [
    {
     "name": "stdout",
     "output_type": "stream",
     "text": [
      "Ahmet Bey\\in ceketi\n"
     ]
    }
   ],
   "source": [
    "print('Ahmet Bey\\in ceketi')"
   ]
  },
  {
   "cell_type": "code",
   "execution_count": 62,
   "id": "6f80b5db",
   "metadata": {},
   "outputs": [
    {
     "name": "stdout",
     "output_type": "stream",
     "text": [
      "Ayla\n",
      "ın çantası\n"
     ]
    }
   ],
   "source": [
    "print('Ayla\\nın çantası')"
   ]
  },
  {
   "cell_type": "code",
   "execution_count": 63,
   "id": "3897703d",
   "metadata": {},
   "outputs": [
    {
     "name": "stdout",
     "output_type": "stream",
     "text": [
      "Ayla\\nın çantası\n"
     ]
    }
   ],
   "source": [
    "print('Ayla\\\\nın çantası')"
   ]
  },
  {
   "cell_type": "markdown",
   "id": "1f9409bf",
   "metadata": {},
   "source": [
    "# Boolean Logic Expressions"
   ]
  },
  {
   "cell_type": "code",
   "execution_count": 64,
   "id": "03b6ccf6",
   "metadata": {},
   "outputs": [
    {
     "data": {
      "text/plain": [
       "True"
      ]
     },
     "execution_count": 64,
     "metadata": {},
     "output_type": "execute_result"
    }
   ],
   "source": [
    "True and True and True"
   ]
  },
  {
   "cell_type": "code",
   "execution_count": 65,
   "id": "165575a9",
   "metadata": {},
   "outputs": [
    {
     "data": {
      "text/plain": [
       "1"
      ]
     },
     "execution_count": 65,
     "metadata": {},
     "output_type": "execute_result"
    }
   ],
   "source": [
    "1"
   ]
  },
  {
   "cell_type": "code",
   "execution_count": 66,
   "id": "fc9d07c9",
   "metadata": {},
   "outputs": [
    {
     "data": {
      "text/plain": [
       "True"
      ]
     },
     "execution_count": 66,
     "metadata": {},
     "output_type": "execute_result"
    }
   ],
   "source": [
    "bool(1)"
   ]
  },
  {
   "cell_type": "code",
   "execution_count": 67,
   "id": "0774a519",
   "metadata": {},
   "outputs": [
    {
     "data": {
      "text/plain": [
       "True"
      ]
     },
     "execution_count": 67,
     "metadata": {},
     "output_type": "execute_result"
    }
   ],
   "source": [
    "bool(2)"
   ]
  },
  {
   "cell_type": "code",
   "execution_count": 68,
   "id": "46224c61",
   "metadata": {},
   "outputs": [
    {
     "data": {
      "text/plain": [
       "False"
      ]
     },
     "execution_count": 68,
     "metadata": {},
     "output_type": "execute_result"
    }
   ],
   "source": [
    "bool(0)"
   ]
  },
  {
   "cell_type": "code",
   "execution_count": 69,
   "id": "7135887e",
   "metadata": {},
   "outputs": [
    {
     "data": {
      "text/plain": [
       "3"
      ]
     },
     "execution_count": 69,
     "metadata": {},
     "output_type": "execute_result"
    }
   ],
   "source": [
    "1 and 2 and 3"
   ]
  },
  {
   "cell_type": "code",
   "execution_count": 70,
   "id": "8a031231",
   "metadata": {},
   "outputs": [
    {
     "data": {
      "text/plain": [
       "True"
      ]
     },
     "execution_count": 70,
     "metadata": {},
     "output_type": "execute_result"
    }
   ],
   "source": [
    "bool(\"0\")"
   ]
  },
  {
   "cell_type": "code",
   "execution_count": 72,
   "id": "5faf9fec",
   "metadata": {},
   "outputs": [
    {
     "data": {
      "text/plain": [
       "True"
      ]
     },
     "execution_count": 72,
     "metadata": {},
     "output_type": "execute_result"
    }
   ],
   "source": [
    "bool(\" \")"
   ]
  },
  {
   "cell_type": "code",
   "execution_count": 71,
   "id": "4ccc5937",
   "metadata": {},
   "outputs": [
    {
     "data": {
      "text/plain": [
       "False"
      ]
     },
     "execution_count": 71,
     "metadata": {},
     "output_type": "execute_result"
    }
   ],
   "source": [
    "bool(\"\")"
   ]
  },
  {
   "cell_type": "code",
   "execution_count": 73,
   "id": "d0c6251f",
   "metadata": {},
   "outputs": [
    {
     "data": {
      "text/plain": [
       "False"
      ]
     },
     "execution_count": 73,
     "metadata": {},
     "output_type": "execute_result"
    }
   ],
   "source": [
    "bool([])"
   ]
  },
  {
   "cell_type": "code",
   "execution_count": 74,
   "id": "d78114d3",
   "metadata": {},
   "outputs": [
    {
     "data": {
      "text/plain": [
       "False"
      ]
     },
     "execution_count": 74,
     "metadata": {},
     "output_type": "execute_result"
    }
   ],
   "source": [
    "bool(())"
   ]
  },
  {
   "cell_type": "code",
   "execution_count": 75,
   "id": "263d550a",
   "metadata": {},
   "outputs": [
    {
     "data": {
      "text/plain": [
       "False"
      ]
     },
     "execution_count": 75,
     "metadata": {},
     "output_type": "execute_result"
    }
   ],
   "source": [
    "bool({})"
   ]
  },
  {
   "cell_type": "code",
   "execution_count": 76,
   "id": "503596c9",
   "metadata": {},
   "outputs": [
    {
     "data": {
      "text/plain": [
       "False"
      ]
     },
     "execution_count": 76,
     "metadata": {},
     "output_type": "execute_result"
    }
   ],
   "source": [
    "bool(0)"
   ]
  },
  {
   "cell_type": "code",
   "execution_count": 77,
   "id": "ea75e172",
   "metadata": {},
   "outputs": [
    {
     "data": {
      "text/plain": [
       "0"
      ]
     },
     "execution_count": 77,
     "metadata": {},
     "output_type": "execute_result"
    }
   ],
   "source": [
    "0 and None and 1"
   ]
  },
  {
   "cell_type": "code",
   "execution_count": 78,
   "id": "69d11a60",
   "metadata": {},
   "outputs": [
    {
     "data": {
      "text/plain": [
       "True"
      ]
     },
     "execution_count": 78,
     "metadata": {},
     "output_type": "execute_result"
    }
   ],
   "source": [
    "True and True and True "
   ]
  },
  {
   "cell_type": "code",
   "execution_count": 79,
   "id": "6a6195c4",
   "metadata": {},
   "outputs": [
    {
     "data": {
      "text/plain": [
       "False"
      ]
     },
     "execution_count": 79,
     "metadata": {},
     "output_type": "execute_result"
    }
   ],
   "source": [
    "False or False or False"
   ]
  },
  {
   "cell_type": "code",
   "execution_count": 80,
   "id": "a992d86b",
   "metadata": {},
   "outputs": [
    {
     "data": {
      "text/plain": [
       "''"
      ]
     },
     "execution_count": 80,
     "metadata": {},
     "output_type": "execute_result"
    }
   ],
   "source": [
    "0 or None or \"\""
   ]
  },
  {
   "cell_type": "code",
   "execution_count": 82,
   "id": "ff338331",
   "metadata": {},
   "outputs": [
    {
     "data": {
      "text/plain": [
       "False"
      ]
     },
     "execution_count": 82,
     "metadata": {},
     "output_type": "execute_result"
    }
   ],
   "source": [
    "not 1"
   ]
  },
  {
   "cell_type": "code",
   "execution_count": 83,
   "id": "72ae0e3b",
   "metadata": {},
   "outputs": [
    {
     "data": {
      "text/plain": [
       "True"
      ]
     },
     "execution_count": 83,
     "metadata": {},
     "output_type": "execute_result"
    }
   ],
   "source": [
    "not 0"
   ]
  },
  {
   "cell_type": "code",
   "execution_count": 84,
   "id": "82fed3ca",
   "metadata": {},
   "outputs": [
    {
     "ename": "SyntaxError",
     "evalue": "invalid syntax (1364271588.py, line 1)",
     "output_type": "error",
     "traceback": [
      "\u001b[1;36m  Input \u001b[1;32mIn [84]\u001b[1;36m\u001b[0m\n\u001b[1;33m    not\u001b[0m\n\u001b[1;37m       ^\u001b[0m\n\u001b[1;31mSyntaxError\u001b[0m\u001b[1;31m:\u001b[0m invalid syntax\n"
     ]
    }
   ],
   "source": [
    "not"
   ]
  },
  {
   "cell_type": "code",
   "execution_count": 85,
   "id": "9cde6857",
   "metadata": {},
   "outputs": [],
   "source": [
    "string_karakterler = \"&% , ali deli veli -_1234\""
   ]
  },
  {
   "cell_type": "code",
   "execution_count": 86,
   "id": "57e6d2e8",
   "metadata": {},
   "outputs": [
    {
     "data": {
      "text/plain": [
       "'&% , ali deli veli -_1234'"
      ]
     },
     "execution_count": 86,
     "metadata": {},
     "output_type": "execute_result"
    }
   ],
   "source": [
    "string_karakterler"
   ]
  },
  {
   "cell_type": "code",
   "execution_count": 89,
   "id": "2585b8eb",
   "metadata": {},
   "outputs": [
    {
     "data": {
      "text/plain": [
       "'&'"
      ]
     },
     "execution_count": 89,
     "metadata": {},
     "output_type": "execute_result"
    }
   ],
   "source": [
    "string_karakterler[0]"
   ]
  },
  {
   "cell_type": "code",
   "execution_count": 88,
   "id": "448b11dc",
   "metadata": {},
   "outputs": [
    {
     "data": {
      "text/plain": [
       "','"
      ]
     },
     "execution_count": 88,
     "metadata": {},
     "output_type": "execute_result"
    }
   ],
   "source": [
    "string_karakterler[3]"
   ]
  },
  {
   "cell_type": "code",
   "execution_count": 90,
   "id": "6f261a3d",
   "metadata": {},
   "outputs": [
    {
     "data": {
      "text/plain": [
       "'s'"
      ]
     },
     "execution_count": 90,
     "metadata": {},
     "output_type": "execute_result"
    }
   ],
   "source": [
    "'clarus'[5]"
   ]
  },
  {
   "cell_type": "code",
   "execution_count": 92,
   "id": "1807ce3a",
   "metadata": {},
   "outputs": [
    {
     "ename": "IndexError",
     "evalue": "string index out of range",
     "output_type": "error",
     "traceback": [
      "\u001b[1;31m---------------------------------------------------------------------------\u001b[0m",
      "\u001b[1;31mIndexError\u001b[0m                                Traceback (most recent call last)",
      "Input \u001b[1;32mIn [92]\u001b[0m, in \u001b[0;36m<cell line: 1>\u001b[1;34m()\u001b[0m\n\u001b[1;32m----> 1\u001b[0m \u001b[38;5;124;43m\"\u001b[39;49m\u001b[38;5;124;43mokul\u001b[39;49m\u001b[38;5;124;43m\"\u001b[39;49m\u001b[43m[\u001b[49m\u001b[38;5;241;43m5\u001b[39;49m\u001b[43m]\u001b[49m\n",
      "\u001b[1;31mIndexError\u001b[0m: string index out of range"
     ]
    }
   ],
   "source": [
    "\"okul\"[5]"
   ]
  },
  {
   "cell_type": "code",
   "execution_count": 93,
   "id": "5c5846c5",
   "metadata": {},
   "outputs": [],
   "source": [
    "okul = \"clarus\""
   ]
  },
  {
   "cell_type": "code",
   "execution_count": 94,
   "id": "2fb08505",
   "metadata": {},
   "outputs": [
    {
     "data": {
      "text/plain": [
       "'s'"
      ]
     },
     "execution_count": 94,
     "metadata": {},
     "output_type": "execute_result"
    }
   ],
   "source": [
    "okul[5]"
   ]
  },
  {
   "cell_type": "code",
   "execution_count": 95,
   "id": "cd47a4fc",
   "metadata": {},
   "outputs": [
    {
     "data": {
      "text/plain": [
       "'ar'"
      ]
     },
     "execution_count": 95,
     "metadata": {},
     "output_type": "execute_result"
    }
   ],
   "source": [
    "okul[2:4]"
   ]
  },
  {
   "cell_type": "code",
   "execution_count": 96,
   "id": "8ee09b35",
   "metadata": {},
   "outputs": [
    {
     "data": {
      "text/plain": [
       "'cla'"
      ]
     },
     "execution_count": 96,
     "metadata": {},
     "output_type": "execute_result"
    }
   ],
   "source": [
    "okul[:3]"
   ]
  },
  {
   "cell_type": "code",
   "execution_count": 97,
   "id": "8de417eb",
   "metadata": {},
   "outputs": [
    {
     "data": {
      "text/plain": [
       "'clarus'"
      ]
     },
     "execution_count": 97,
     "metadata": {},
     "output_type": "execute_result"
    }
   ],
   "source": [
    "okul[:]"
   ]
  },
  {
   "cell_type": "code",
   "execution_count": null,
   "id": "69522697",
   "metadata": {},
   "outputs": [],
   "source": []
  }
 ],
 "metadata": {
  "kernelspec": {
   "display_name": "Python 3 (ipykernel)",
   "language": "python",
   "name": "python3"
  },
  "language_info": {
   "codemirror_mode": {
    "name": "ipython",
    "version": 3
   },
   "file_extension": ".py",
   "mimetype": "text/x-python",
   "name": "python",
   "nbconvert_exporter": "python",
   "pygments_lexer": "ipython3",
   "version": "3.9.11"
  }
 },
 "nbformat": 4,
 "nbformat_minor": 5
}
