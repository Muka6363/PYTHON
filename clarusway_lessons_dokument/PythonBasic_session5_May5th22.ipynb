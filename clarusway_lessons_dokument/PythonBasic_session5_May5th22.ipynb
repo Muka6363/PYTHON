{
 "cells": [
  {
   "cell_type": "markdown",
   "id": "eb9f44f9",
   "metadata": {},
   "source": [
    "<img src=\"https://docs.google.com/uc?id=14xeXxFrVRjvOoUYWn_GuyE-v84wVzrqr\" class=\"img-fluid\" alt=\"CLRWY\" width=\"400\" height=\"200\">"
   ]
  },
  {
   "cell_type": "markdown",
   "id": "3e0784f7",
   "metadata": {},
   "source": [
    "<h1><p style=\"text-align: center; color:darkblue\">Python In-Class <br>5 May 2022</p><h1>"
   ]
  },
  {
   "cell_type": "code",
   "execution_count": 2,
   "id": "f765619a",
   "metadata": {},
   "outputs": [
    {
     "data": {
      "text/plain": [
       "\"Ben sabah 05:00 de uyandım. okul'e gittim. Gelirken de 3 kg. elma aldım.\""
      ]
     },
     "execution_count": 2,
     "metadata": {},
     "output_type": "execute_result"
    }
   ],
   "source": [
    "\"Ben sabah {2} de uyandım. {0}'e gittim. Gelirken de {1} kg. elma aldım.\".format(\"okul\", 3, \"05:00\")"
   ]
  },
  {
   "cell_type": "code",
   "execution_count": 3,
   "id": "1037e2a6",
   "metadata": {},
   "outputs": [
    {
     "data": {
      "text/plain": [
       "'Benim güzel öğrencilerimin maşallahı var mı acaba'"
      ]
     },
     "execution_count": 3,
     "metadata": {},
     "output_type": "execute_result"
    }
   ],
   "source": [
    "\"Benim {} öğrencilerimin maşallahı var {}\".format(\"güzel\", \"mı acaba\")"
   ]
  },
  {
   "cell_type": "code",
   "execution_count": 4,
   "id": "c4880028",
   "metadata": {},
   "outputs": [
    {
     "data": {
      "text/plain": [
       "'Benim güzel öğrencilerimin maşallahı var mı acaba'"
      ]
     },
     "execution_count": 4,
     "metadata": {},
     "output_type": "execute_result"
    }
   ],
   "source": [
    "x = \"güzel\"\n",
    "y = \"mı acaba\"\n",
    "\n",
    "\"Benim {} öğrencilerimin maşallahı var {}\".format(x, y)"
   ]
  },
  {
   "cell_type": "code",
   "execution_count": 5,
   "id": "7299ec42",
   "metadata": {},
   "outputs": [],
   "source": [
    "stringim = \"Benim {} öğrencilerimin maşallahı var {}\""
   ]
  },
  {
   "cell_type": "code",
   "execution_count": 6,
   "id": "d6771648",
   "metadata": {},
   "outputs": [
    {
     "data": {
      "text/plain": [
       "'Benim güzel öğrencilerimin maşallahı var mı acaba'"
      ]
     },
     "execution_count": 6,
     "metadata": {},
     "output_type": "execute_result"
    }
   ],
   "source": [
    "stringim.format(x, y)"
   ]
  },
  {
   "cell_type": "code",
   "execution_count": null,
   "id": "b59869ae",
   "metadata": {},
   "outputs": [],
   "source": [
    "\"abc\".   # noktadan sonra tab a bastığımda kullanabileceğim metodlara ulaşabiliyorum."
   ]
  },
  {
   "cell_type": "code",
   "execution_count": null,
   "id": "df04cead",
   "metadata": {},
   "outputs": [],
   "source": [
    "[\"abc\", 5].  # tab--> listelerin metodları"
   ]
  },
  {
   "cell_type": "code",
   "execution_count": 7,
   "id": "0eaff6ac",
   "metadata": {},
   "outputs": [
    {
     "name": "stdout",
     "output_type": "stream",
     "text": [
      "generosity wins in all circumstance\n"
     ]
    }
   ],
   "source": [
    "phrase = \"{morality} {1} {0} {condition}\".format(\"in all\", \"wins\", morality = \"generosity\", condition = \"circumstance\")\n",
    "\n",
    "print(phrase)"
   ]
  },
  {
   "cell_type": "code",
   "execution_count": 8,
   "id": "09d201d3",
   "metadata": {},
   "outputs": [
    {
     "ename": "SyntaxError",
     "evalue": "positional argument follows keyword argument (2461338602.py, line 1)",
     "output_type": "error",
     "traceback": [
      "\u001b[1;36m  Input \u001b[1;32mIn [8]\u001b[1;36m\u001b[0m\n\u001b[1;33m    phrase = \"{morality} {1} {0} {condition}\".format(morality = \"generosity\",  condition = \"circumstance\", \"in all\", \"wins\")\u001b[0m\n\u001b[1;37m                                                                                                                           ^\u001b[0m\n\u001b[1;31mSyntaxError\u001b[0m\u001b[1;31m:\u001b[0m positional argument follows keyword argument\n"
     ]
    }
   ],
   "source": [
    "phrase = \"{morality} {1} {0} {condition}\".format(morality = \"generosity\",  condition = \"circumstance\", \"in all\", \"wins\")\n",
    "\n",
    "print(phrase)  # positional argumalar başta olmalı!!!"
   ]
  },
  {
   "cell_type": "code",
   "execution_count": 9,
   "id": "5bdf63fc",
   "metadata": {},
   "outputs": [
    {
     "name": "stdout",
     "output_type": "stream",
     "text": [
      "the sum of 3 + 4 is : 7\n"
     ]
    }
   ],
   "source": [
    "a = 3\n",
    "b = 4\n",
    "\n",
    "print(\"the sum of {} + {} is : {}\".format(a, b, a+b))"
   ]
  },
  {
   "cell_type": "code",
   "execution_count": 10,
   "id": "a393534e",
   "metadata": {},
   "outputs": [
    {
     "name": "stdout",
     "output_type": "stream",
     "text": [
      "the power of 3 to 2 is : 8\n"
     ]
    }
   ],
   "source": [
    "x = 2\n",
    "y = 3\n",
    "\n",
    "print(\"the power of {} to {} is : {}\".format(y, x, x ** y))"
   ]
  },
  {
   "cell_type": "code",
   "execution_count": 11,
   "id": "a2d98056",
   "metadata": {},
   "outputs": [
    {
     "data": {
      "text/plain": [
       "'Mariam'"
      ]
     },
     "execution_count": 11,
     "metadata": {},
     "output_type": "execute_result"
    }
   ],
   "source": [
    "my_name = \"MARIAM\"\n",
    "\n",
    "my_name = my_name.capitalize()\n",
    "my_name"
   ]
  },
  {
   "cell_type": "code",
   "execution_count": 12,
   "id": "baa5b67b",
   "metadata": {},
   "outputs": [
    {
     "data": {
      "text/plain": [
       "'My name is Mariam'"
      ]
     },
     "execution_count": 12,
     "metadata": {},
     "output_type": "execute_result"
    }
   ],
   "source": [
    "output = f\"My name is {my_name}\"\n",
    "output\n"
   ]
  },
  {
   "cell_type": "code",
   "execution_count": null,
   "id": "5b9e9bcc",
   "metadata": {},
   "outputs": [],
   "source": [
    "my_name = \"MARIAM\""
   ]
  },
  {
   "cell_type": "code",
   "execution_count": 14,
   "id": "3e385290",
   "metadata": {},
   "outputs": [
    {
     "data": {
      "text/plain": [
       "'My name is Mariam'"
      ]
     },
     "execution_count": 14,
     "metadata": {},
     "output_type": "execute_result"
    }
   ],
   "source": [
    "f\"My name is {my_name.capitalize()}\""
   ]
  },
  {
   "cell_type": "code",
   "execution_count": 15,
   "id": "bd0eee52",
   "metadata": {},
   "outputs": [
    {
     "data": {
      "text/plain": [
       "'Hi Edwin. Are you ill?'"
      ]
     },
     "execution_count": 15,
     "metadata": {},
     "output_type": "execute_result"
    }
   ],
   "source": [
    "name = \"Edwin\"\n",
    "status = \"ill\"\n",
    "\n",
    "message  = f\"Hi {name}. Are you {status}?\" \n",
    "message"
   ]
  },
  {
   "cell_type": "code",
   "execution_count": 16,
   "id": "00a2ec44",
   "metadata": {},
   "outputs": [
    {
     "data": {
      "text/plain": [
       "'Hi Edwin. Are you ill?'"
      ]
     },
     "execution_count": 16,
     "metadata": {},
     "output_type": "execute_result"
    }
   ],
   "source": [
    "mesage = f\"Hi {name}. \\\n",
    "Are you {status}?\"\n",
    "\n",
    "message"
   ]
  },
  {
   "cell_type": "code",
   "execution_count": 17,
   "id": "2afa5c51",
   "metadata": {},
   "outputs": [
    {
     "data": {
      "text/plain": [
       "'Hi Edwin. Are you ill?'"
      ]
     },
     "execution_count": 17,
     "metadata": {},
     "output_type": "execute_result"
    }
   ],
   "source": [
    "message = (\n",
    "    f\"Hi {name}. \"\n",
    "    f\"Are you {status}?\"\n",
    ")\n",
    "message"
   ]
  },
  {
   "cell_type": "code",
   "execution_count": 18,
   "id": "2aa35ed9",
   "metadata": {},
   "outputs": [],
   "source": [
    "isim = \"ALİ veli\""
   ]
  },
  {
   "cell_type": "code",
   "execution_count": 19,
   "id": "1145d403",
   "metadata": {},
   "outputs": [
    {
     "data": {
      "text/plain": [
       "'ali̇ VELI'"
      ]
     },
     "execution_count": 19,
     "metadata": {},
     "output_type": "execute_result"
    }
   ],
   "source": [
    "isim.swapcase()"
   ]
  },
  {
   "cell_type": "code",
   "execution_count": 20,
   "id": "5c83c89a",
   "metadata": {},
   "outputs": [
    {
     "data": {
      "text/plain": [
       "'ALİ veli'"
      ]
     },
     "execution_count": 20,
     "metadata": {},
     "output_type": "execute_result"
    }
   ],
   "source": [
    "isim"
   ]
  },
  {
   "cell_type": "code",
   "execution_count": 21,
   "id": "4a9928e5",
   "metadata": {},
   "outputs": [],
   "source": [
    "isim = isim.swapcase()"
   ]
  },
  {
   "cell_type": "code",
   "execution_count": 22,
   "id": "5dd8bdb2",
   "metadata": {},
   "outputs": [
    {
     "data": {
      "text/plain": [
       "'ali̇ VELI'"
      ]
     },
     "execution_count": 22,
     "metadata": {},
     "output_type": "execute_result"
    }
   ],
   "source": [
    "isim"
   ]
  },
  {
   "cell_type": "code",
   "execution_count": 23,
   "id": "4d499af2",
   "metadata": {},
   "outputs": [],
   "source": [
    "soyisim = \"Davis\""
   ]
  },
  {
   "cell_type": "code",
   "execution_count": 24,
   "id": "6c61b268",
   "metadata": {},
   "outputs": [
    {
     "data": {
      "text/plain": [
       "'dAVIS'"
      ]
     },
     "execution_count": 24,
     "metadata": {},
     "output_type": "execute_result"
    }
   ],
   "source": [
    "soy = soyisim.swapcase()\n",
    "\n",
    "soy"
   ]
  },
  {
   "cell_type": "code",
   "execution_count": 25,
   "id": "e09584bf",
   "metadata": {},
   "outputs": [
    {
     "data": {
      "text/plain": [
       "'Davis'"
      ]
     },
     "execution_count": 25,
     "metadata": {},
     "output_type": "execute_result"
    }
   ],
   "source": [
    "soyisim"
   ]
  },
  {
   "cell_type": "code",
   "execution_count": 26,
   "id": "53851bf2",
   "metadata": {},
   "outputs": [],
   "source": [
    "email = \"clarusway@clarusway.com is my e-mail address\" "
   ]
  },
  {
   "cell_type": "code",
   "execution_count": 31,
   "id": "950d14b6",
   "metadata": {},
   "outputs": [
    {
     "data": {
      "text/plain": [
       "True"
      ]
     },
     "execution_count": 31,
     "metadata": {},
     "output_type": "execute_result"
    }
   ],
   "source": [
    "email.endswith(\"-\", 10, 32)"
   ]
  },
  {
   "cell_type": "code",
   "execution_count": 33,
   "id": "d24fc9f2",
   "metadata": {},
   "outputs": [
    {
     "data": {
      "text/plain": [
       "False"
      ]
     },
     "execution_count": 33,
     "metadata": {},
     "output_type": "execute_result"
    }
   ],
   "source": [
    "email.endswith(\"-\", 10, 31)"
   ]
  },
  {
   "cell_type": "code",
   "execution_count": 34,
   "id": "52821f3b",
   "metadata": {},
   "outputs": [],
   "source": [
    "text = \"Clarusway\""
   ]
  },
  {
   "cell_type": "code",
   "execution_count": 35,
   "id": "453c8962",
   "metadata": {},
   "outputs": [
    {
     "data": {
      "text/plain": [
       "'clarusway'"
      ]
     },
     "execution_count": 35,
     "metadata": {},
     "output_type": "execute_result"
    }
   ],
   "source": [
    "text.replace(\"C\", \"c\")"
   ]
  },
  {
   "cell_type": "code",
   "execution_count": 36,
   "id": "2aec77bd",
   "metadata": {},
   "outputs": [
    {
     "data": {
      "text/plain": [
       "'Clarusway'"
      ]
     },
     "execution_count": 36,
     "metadata": {},
     "output_type": "execute_result"
    }
   ],
   "source": [
    "text"
   ]
  },
  {
   "cell_type": "code",
   "execution_count": 37,
   "id": "571c9b6b",
   "metadata": {},
   "outputs": [
    {
     "data": {
      "text/plain": [
       "'Cl*rusw*y'"
      ]
     },
     "execution_count": 37,
     "metadata": {},
     "output_type": "execute_result"
    }
   ],
   "source": [
    "text.replace(\"a\", \"*\")"
   ]
  },
  {
   "cell_type": "code",
   "execution_count": 38,
   "id": "0b7a81f4",
   "metadata": {},
   "outputs": [
    {
     "data": {
      "text/plain": [
       "str"
      ]
     },
     "execution_count": 38,
     "metadata": {},
     "output_type": "execute_result"
    }
   ],
   "source": [
    "type(text.replace(\"a\", \"*\"))"
   ]
  },
  {
   "cell_type": "code",
   "execution_count": 39,
   "id": "101f65d2",
   "metadata": {},
   "outputs": [
    {
     "data": {
      "text/plain": [
       "'Clarusway'"
      ]
     },
     "execution_count": 39,
     "metadata": {},
     "output_type": "execute_result"
    }
   ],
   "source": [
    "text"
   ]
  },
  {
   "cell_type": "code",
   "execution_count": 40,
   "id": "26e29ebb",
   "metadata": {},
   "outputs": [
    {
     "data": {
      "text/plain": [
       "'Cl--ruw--y'"
      ]
     },
     "execution_count": 40,
     "metadata": {},
     "output_type": "execute_result"
    }
   ],
   "source": [
    "text.replace(\"a\", \"--\").replace(\"s\", \"\")"
   ]
  },
  {
   "cell_type": "code",
   "execution_count": 4,
   "id": "e488058f",
   "metadata": {},
   "outputs": [],
   "source": [
    "my_string = \"      listen first       \""
   ]
  },
  {
   "cell_type": "code",
   "execution_count": 5,
   "id": "23cb6e9d",
   "metadata": {},
   "outputs": [
    {
     "data": {
      "text/plain": [
       "'listen first'"
      ]
     },
     "execution_count": 5,
     "metadata": {},
     "output_type": "execute_result"
    }
   ],
   "source": [
    "my_string.strip()"
   ]
  },
  {
   "cell_type": "code",
   "execution_count": 7,
   "id": "3e350192",
   "metadata": {},
   "outputs": [],
   "source": [
    "my_string1 = \"\\n    listen first     \\t\""
   ]
  },
  {
   "cell_type": "code",
   "execution_count": 8,
   "id": "ad740257",
   "metadata": {},
   "outputs": [
    {
     "data": {
      "text/plain": [
       "'listen first'"
      ]
     },
     "execution_count": 8,
     "metadata": {},
     "output_type": "execute_result"
    }
   ],
   "source": [
    "my_string1.strip()"
   ]
  },
  {
   "cell_type": "code",
   "execution_count": 9,
   "id": "6539ac96",
   "metadata": {},
   "outputs": [
    {
     "name": "stdout",
     "output_type": "stream",
     "text": [
      "\n",
      "\n",
      "ahmet\n",
      "mehmet     \n"
     ]
    }
   ],
   "source": [
    "var = \"\\n\\nahmet\\nmehmet     \"\n",
    "\n",
    "print(var)"
   ]
  },
  {
   "cell_type": "code",
   "execution_count": 10,
   "id": "69590974",
   "metadata": {},
   "outputs": [
    {
     "name": "stdout",
     "output_type": "stream",
     "text": [
      "ahmet\n",
      "mehmet\n"
     ]
    }
   ],
   "source": [
    "print(var.strip())"
   ]
  },
  {
   "cell_type": "code",
   "execution_count": 11,
   "id": "58f84cec",
   "metadata": {},
   "outputs": [
    {
     "data": {
      "text/plain": [
       "'nteroperabilit'"
      ]
     },
     "execution_count": 11,
     "metadata": {},
     "output_type": "execute_result"
    }
   ],
   "source": [
    "\"interoperability\".strip(\"yim\")"
   ]
  },
  {
   "cell_type": "code",
   "execution_count": 12,
   "id": "3872a558",
   "metadata": {},
   "outputs": [
    {
     "data": {
      "text/plain": [
       "'teroperabil'"
      ]
     },
     "execution_count": 12,
     "metadata": {},
     "output_type": "execute_result"
    }
   ],
   "source": [
    "\"imteroperabiliy\".strip(\"yim\")"
   ]
  },
  {
   "cell_type": "code",
   "execution_count": null,
   "id": "c2df7540",
   "metadata": {},
   "outputs": [],
   "source": [
    "\"In God wee Trust\"  # ödev"
   ]
  },
  {
   "cell_type": "code",
   "execution_count": null,
   "id": "f445acaf",
   "metadata": {},
   "outputs": [],
   "source": []
  },
  {
   "cell_type": "code",
   "execution_count": null,
   "id": "94270b03",
   "metadata": {},
   "outputs": [],
   "source": []
  },
  {
   "cell_type": "code",
   "execution_count": null,
   "id": "ecde3488",
   "metadata": {},
   "outputs": [],
   "source": []
  },
  {
   "cell_type": "code",
   "execution_count": null,
   "id": "d8dd73bf",
   "metadata": {},
   "outputs": [],
   "source": []
  },
  {
   "cell_type": "code",
   "execution_count": null,
   "id": "278ef810",
   "metadata": {},
   "outputs": [],
   "source": []
  }
 ],
 "metadata": {
  "kernelspec": {
   "display_name": "Python 3 (ipykernel)",
   "language": "python",
   "name": "python3"
  },
  "language_info": {
   "codemirror_mode": {
    "name": "ipython",
    "version": 3
   },
   "file_extension": ".py",
   "mimetype": "text/x-python",
   "name": "python",
   "nbconvert_exporter": "python",
   "pygments_lexer": "ipython3",
   "version": "3.9.11"
  }
 },
 "nbformat": 4,
 "nbformat_minor": 5
}
