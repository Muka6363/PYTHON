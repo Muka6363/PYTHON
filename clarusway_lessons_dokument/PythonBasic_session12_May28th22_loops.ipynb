{
 "cells": [
  {
   "cell_type": "markdown",
   "id": "1e707b9f",
   "metadata": {},
   "source": [
    "<img src=\"https://docs.google.com/uc?id=14xeXxFrVRjvOoUYWn_GuyE-v84wVzrqr\" class=\"img-fluid\" alt=\"CLRWY\" width=\"400\" height=\"200\">"
   ]
  },
  {
   "cell_type": "markdown",
   "id": "16fadd44",
   "metadata": {},
   "source": [
    "<h1><p style=\"text-align: center; color:darkblue\">Python In-Class <br>28 May 2022</p><h1>"
   ]
  },
  {
   "cell_type": "code",
   "execution_count": 1,
   "id": "1216bdfc",
   "metadata": {},
   "outputs": [
    {
     "data": {
      "text/plain": [
       "range(0, 55)"
      ]
     },
     "execution_count": 1,
     "metadata": {},
     "output_type": "execute_result"
    }
   ],
   "source": [
    "range(55)"
   ]
  },
  {
   "cell_type": "code",
   "execution_count": 2,
   "id": "9bb22572",
   "metadata": {},
   "outputs": [
    {
     "data": {
      "text/plain": [
       "range"
      ]
     },
     "execution_count": 2,
     "metadata": {},
     "output_type": "execute_result"
    }
   ],
   "source": [
    "type(range(55))"
   ]
  },
  {
   "cell_type": "code",
   "execution_count": 3,
   "id": "dad86978",
   "metadata": {},
   "outputs": [
    {
     "name": "stdout",
     "output_type": "stream",
     "text": [
      "0 1 2 3 4 5 6 7 8 9 10 11 12 13 14 15 16 17 18 19 20 21 22 23 24 25 26 27 28 29 30 31 32 33 34 35 36 37 38 39 40 41 42 43 44 45 46 47 48 49 50 51 52 53 54\n"
     ]
    }
   ],
   "source": [
    "print(* range(55))"
   ]
  },
  {
   "cell_type": "code",
   "execution_count": 5,
   "id": "7a6b1d51",
   "metadata": {},
   "outputs": [
    {
     "data": {
      "text/plain": [
       "[0, 1, 2, 3, 4, 5, 6, 7, 8, 9, 10, 11, 12, 13, 14]"
      ]
     },
     "execution_count": 5,
     "metadata": {},
     "output_type": "execute_result"
    }
   ],
   "source": [
    "list(range(15))"
   ]
  },
  {
   "cell_type": "code",
   "execution_count": 6,
   "id": "cacbd471",
   "metadata": {},
   "outputs": [
    {
     "name": "stdout",
     "output_type": "stream",
     "text": [
      "0 1 2 3 4 5 6 7 8 9 10 11 12 13 14 15 16 17 18 19 "
     ]
    }
   ],
   "source": [
    "for i in range(20) :\n",
    "    print(i, end = \" \")"
   ]
  },
  {
   "cell_type": "code",
   "execution_count": 7,
   "id": "0942eb84",
   "metadata": {},
   "outputs": [],
   "source": [
    "while 0 :\n",
    "    print(\"sıfır\")"
   ]
  },
  {
   "cell_type": "code",
   "execution_count": 8,
   "id": "3b6ccb4f",
   "metadata": {},
   "outputs": [
    {
     "name": "stdout",
     "output_type": "stream",
     "text": [
      "ali deli veli\n"
     ]
    }
   ],
   "source": [
    "while 0 :\n",
    "    print(\"sıfır\")\n",
    "    \n",
    "print(\"ali deli veli\")"
   ]
  },
  {
   "cell_type": "code",
   "execution_count": null,
   "id": "72927a7f",
   "metadata": {},
   "outputs": [],
   "source": [
    "condition = 5\n",
    "\n",
    "while condition :\n",
    "    print(condition)"
   ]
  },
  {
   "cell_type": "code",
   "execution_count": 9,
   "id": "9cc2e4ba",
   "metadata": {},
   "outputs": [
    {
     "name": "stdout",
     "output_type": "stream",
     "text": [
      "5\n",
      "4\n",
      "3\n",
      "2\n",
      "1\n"
     ]
    }
   ],
   "source": [
    "condition = 5\n",
    "\n",
    "while condition :\n",
    "    print(condition)\n",
    "    condition -= 1"
   ]
  },
  {
   "cell_type": "code",
   "execution_count": null,
   "id": "6f31f9b9",
   "metadata": {},
   "outputs": [],
   "source": [
    "condition = 5\n",
    "\n",
    "while True :\n",
    "    condition -= 1\n",
    "    print(condition)\n",
    "    \n",
    "    if condition == 0 :\n",
    "        break"
   ]
  },
  {
   "cell_type": "markdown",
   "id": "cc5ff518",
   "metadata": {},
   "source": [
    "```python\n",
    "while condition1 :\n",
    "    body1\n",
    "    while :\n",
    "        body2\n",
    "        break\n",
    "    break\n",
    "```"
   ]
  },
  {
   "cell_type": "code",
   "execution_count": null,
   "id": "f880cb25",
   "metadata": {},
   "outputs": [],
   "source": [
    "age = input(\"Enter your age :\")\n",
    "\n",
    "while condition :\n",
    "    \n",
    "    print(\"You entered incorrectly!\")\n",
    "    age = input(\"Enter your age :\")\n",
    "\n",
    "print(\"Great! you entered valid input and your age is : \", age)"
   ]
  },
  {
   "cell_type": "code",
   "execution_count": 10,
   "id": "611e3642",
   "metadata": {},
   "outputs": [],
   "source": [
    "yaş  =\"onaltı\""
   ]
  },
  {
   "cell_type": "code",
   "execution_count": null,
   "id": "9b0a16bc",
   "metadata": {},
   "outputs": [],
   "source": [
    "yaş.isdigit()"
   ]
  },
  {
   "cell_type": "code",
   "execution_count": 12,
   "id": "46696201",
   "metadata": {},
   "outputs": [
    {
     "data": {
      "text/plain": [
       "False"
      ]
     },
     "execution_count": 12,
     "metadata": {},
     "output_type": "execute_result"
    }
   ],
   "source": [
    "\"0123456789\".isdigit()"
   ]
  },
  {
   "cell_type": "code",
   "execution_count": 13,
   "id": "4b94af7f",
   "metadata": {},
   "outputs": [
    {
     "data": {
      "text/plain": [
       "False"
      ]
     },
     "execution_count": 13,
     "metadata": {},
     "output_type": "execute_result"
    }
   ],
   "source": [
    "\"16.0\".isdigit()"
   ]
  },
  {
   "cell_type": "code",
   "execution_count": 14,
   "id": "6392324e",
   "metadata": {},
   "outputs": [
    {
     "data": {
      "text/plain": [
       "False"
      ]
     },
     "execution_count": 14,
     "metadata": {},
     "output_type": "execute_result"
    }
   ],
   "source": [
    "\"-22\".isdigit()"
   ]
  },
  {
   "cell_type": "code",
   "execution_count": 15,
   "id": "b9fb2663",
   "metadata": {},
   "outputs": [
    {
     "data": {
      "text/plain": [
       "True"
      ]
     },
     "execution_count": 15,
     "metadata": {},
     "output_type": "execute_result"
    }
   ],
   "source": [
    "\"42\".isdigit()"
   ]
  },
  {
   "cell_type": "code",
   "execution_count": 16,
   "id": "7fd14c00",
   "metadata": {},
   "outputs": [
    {
     "data": {
      "text/plain": [
       "False"
      ]
     },
     "execution_count": 16,
     "metadata": {},
     "output_type": "execute_result"
    }
   ],
   "source": [
    "not 12"
   ]
  },
  {
   "cell_type": "code",
   "execution_count": 18,
   "id": "aeea6101",
   "metadata": {},
   "outputs": [
    {
     "name": "stdout",
     "output_type": "stream",
     "text": [
      "Enter your age :-44\n",
      "You entered incorrectly!\n",
      "Enter your age :35\n",
      "Great! you entered valid input and your age is :  35\n"
     ]
    }
   ],
   "source": [
    "age = input(\"Enter your age :\")\n",
    "\n",
    "while not age.isdigit() :\n",
    "    \n",
    "    print(\"You entered incorrectly!\")\n",
    "    age = input(\"Enter your age :\")\n",
    "\n",
    "print(\"Great! you entered valid input and your age is : \", age)"
   ]
  },
  {
   "cell_type": "code",
   "execution_count": 19,
   "id": "37f8f40b",
   "metadata": {},
   "outputs": [],
   "source": [
    "answer = 26"
   ]
  },
  {
   "cell_type": "code",
   "execution_count": 20,
   "id": "86036a05",
   "metadata": {},
   "outputs": [
    {
     "name": "stdout",
     "output_type": "stream",
     "text": [
      "Let's start play the guessing game!\n",
      "What a two digit number am I thinking of? 65\n",
      "Little lower..\n",
      "What a two digit number am I thinking of? 12\n",
      "Little higher..\n",
      "What a two digit number am I thinking of? 35\n",
      "Little lower..\n",
      "What a two digit number am I thinking of? 22\n",
      "Little higher..\n",
      "What a two digit number am I thinking of? 26\n",
      "Are you a MINDREADER\n"
     ]
    }
   ],
   "source": [
    "print(\"Let's start play the guessing game!\")\n",
    "\n",
    "while True :\n",
    "    guess = int(input(\"What a two digit number am I thinking of? \"))\n",
    "    \n",
    "    if guess < answer :\n",
    "        print(\"Little higher..\")\n",
    "    elif guess > answer :\n",
    "        print(\"Little lower..\")\n",
    "    else :\n",
    "        print(\"Are you a MINDREADER\")\n",
    "        break"
   ]
  },
  {
   "cell_type": "code",
   "execution_count": 21,
   "id": "0f25f3d6",
   "metadata": {},
   "outputs": [
    {
     "data": {
      "text/plain": [
       "['The', 'best', 'school', 'is', 'Clarusway']"
      ]
     },
     "execution_count": 21,
     "metadata": {},
     "output_type": "execute_result"
    }
   ],
   "source": [
    "\"The best school is Clarusway\".split()"
   ]
  },
  {
   "cell_type": "code",
   "execution_count": 23,
   "id": "a440322f",
   "metadata": {},
   "outputs": [
    {
     "name": "stdout",
     "output_type": "stream",
     "text": [
      "Give me a sentence :The best school is Clarusway\n"
     ]
    }
   ],
   "source": [
    "sentence = input(\"Give me a sentence :\")"
   ]
  },
  {
   "cell_type": "code",
   "execution_count": 24,
   "id": "b169cf7f",
   "metadata": {},
   "outputs": [],
   "source": [
    "word_list = sentence.split()"
   ]
  },
  {
   "cell_type": "code",
   "execution_count": 25,
   "id": "cd73d54d",
   "metadata": {},
   "outputs": [
    {
     "data": {
      "text/plain": [
       "['The', 'best', 'school', 'is', 'Clarusway']"
      ]
     },
     "execution_count": 25,
     "metadata": {},
     "output_type": "execute_result"
    }
   ],
   "source": [
    "word_list"
   ]
  },
  {
   "cell_type": "code",
   "execution_count": 26,
   "id": "25d26057",
   "metadata": {},
   "outputs": [
    {
     "name": "stdout",
     "output_type": "stream",
     "text": [
      "Give me a sentence :The best school is Clarusway\n",
      "The length of the longest word : 9\n"
     ]
    }
   ],
   "source": [
    "sentence = input(\"Give me a sentence :\")\n",
    "word_list = sentence.split()\n",
    "\n",
    "longest = 0\n",
    "i = 0\n",
    "while i < len(word_list) :\n",
    "    if len(word_list[i]) > longest :\n",
    "        longest = len(word_list[i])\n",
    "        \n",
    "    i += 1\n",
    "print(\"The length of the longest word :\", longest)"
   ]
  },
  {
   "cell_type": "code",
   "execution_count": 27,
   "id": "b4ce9979",
   "metadata": {},
   "outputs": [],
   "source": [
    "benim_listem = [\"ali\", \"deli\", \"veli\"]"
   ]
  },
  {
   "cell_type": "code",
   "execution_count": 28,
   "id": "9e326a9f",
   "metadata": {},
   "outputs": [
    {
     "name": "stdout",
     "output_type": "stream",
     "text": [
      "ali\n"
     ]
    }
   ],
   "source": [
    "print(benim_listem[0])"
   ]
  },
  {
   "cell_type": "code",
   "execution_count": 29,
   "id": "9786866d",
   "metadata": {},
   "outputs": [
    {
     "name": "stdout",
     "output_type": "stream",
     "text": [
      "deli\n"
     ]
    }
   ],
   "source": [
    "print(benim_listem[1])"
   ]
  },
  {
   "cell_type": "code",
   "execution_count": 30,
   "id": "c1304ee5",
   "metadata": {},
   "outputs": [
    {
     "name": "stdout",
     "output_type": "stream",
     "text": [
      "veli\n"
     ]
    }
   ],
   "source": [
    "print(benim_listem[2])"
   ]
  },
  {
   "cell_type": "code",
   "execution_count": 31,
   "id": "e0233644",
   "metadata": {},
   "outputs": [
    {
     "name": "stdout",
     "output_type": "stream",
     "text": [
      "ali\n",
      "deli\n",
      "veli\n"
     ]
    }
   ],
   "source": [
    "for i in benim_listem :\n",
    "    print(i)"
   ]
  },
  {
   "cell_type": "code",
   "execution_count": 32,
   "id": "915b7066",
   "metadata": {},
   "outputs": [
    {
     "data": {
      "text/plain": [
       "True"
      ]
     },
     "execution_count": 32,
     "metadata": {},
     "output_type": "execute_result"
    }
   ],
   "source": [
    "\"ali\" < \"veli\""
   ]
  },
  {
   "cell_type": "code",
   "execution_count": 33,
   "id": "f045b63c",
   "metadata": {},
   "outputs": [
    {
     "data": {
      "text/plain": [
       "[1, 2, 3, 4, 5]"
      ]
     },
     "execution_count": 33,
     "metadata": {},
     "output_type": "execute_result"
    }
   ],
   "source": [
    "list(range(1, 6))"
   ]
  },
  {
   "cell_type": "code",
   "execution_count": 34,
   "id": "d0aec534",
   "metadata": {},
   "outputs": [
    {
     "data": {
      "text/plain": [
       "(1, 2, 3, 4, 5)"
      ]
     },
     "execution_count": 34,
     "metadata": {},
     "output_type": "execute_result"
    }
   ],
   "source": [
    "tuple(range(1, 6))"
   ]
  },
  {
   "cell_type": "code",
   "execution_count": 35,
   "id": "e71df6b0",
   "metadata": {},
   "outputs": [
    {
     "name": "stdout",
     "output_type": "stream",
     "text": [
      "1 2 3 4 5\n"
     ]
    }
   ],
   "source": [
    "print(* range(1, 6))"
   ]
  },
  {
   "cell_type": "code",
   "execution_count": 38,
   "id": "034064de",
   "metadata": {},
   "outputs": [
    {
     "name": "stdout",
     "output_type": "stream",
     "text": [
      "5\n"
     ]
    }
   ],
   "source": [
    "numbers = []\n",
    "\n",
    "for i in range(1, 6) :\n",
    "    numbers.append(i)\n"
   ]
  },
  {
   "cell_type": "code",
   "execution_count": 37,
   "id": "a1a5bc29",
   "metadata": {},
   "outputs": [
    {
     "data": {
      "text/plain": [
       "[1, 2, 3, 4, 5]"
      ]
     },
     "execution_count": 37,
     "metadata": {},
     "output_type": "execute_result"
    }
   ],
   "source": [
    "numbers"
   ]
  },
  {
   "cell_type": "code",
   "execution_count": 39,
   "id": "15b95556",
   "metadata": {},
   "outputs": [
    {
     "name": "stdout",
     "output_type": "stream",
     "text": [
      "[1]\n",
      "[1, 2]\n",
      "[1, 2, 3]\n",
      "[1, 2, 3, 4]\n",
      "[1, 2, 3, 4, 5]\n"
     ]
    }
   ],
   "source": [
    "numbers = []\n",
    "\n",
    "for i in range(1, 6) :\n",
    "    numbers.append(i)\n",
    "    print(numbers)"
   ]
  },
  {
   "cell_type": "code",
   "execution_count": null,
   "id": "248ecaf1",
   "metadata": {},
   "outputs": [],
   "source": []
  },
  {
   "cell_type": "code",
   "execution_count": null,
   "id": "16a37a61",
   "metadata": {},
   "outputs": [],
   "source": []
  },
  {
   "cell_type": "code",
   "execution_count": null,
   "id": "f622bb5d",
   "metadata": {},
   "outputs": [],
   "source": []
  },
  {
   "cell_type": "code",
   "execution_count": null,
   "id": "06b29899",
   "metadata": {},
   "outputs": [],
   "source": []
  },
  {
   "cell_type": "code",
   "execution_count": null,
   "id": "e163691a",
   "metadata": {},
   "outputs": [],
   "source": []
  }
 ],
 "metadata": {
  "kernelspec": {
   "display_name": "Python 3 (ipykernel)",
   "language": "python",
   "name": "python3"
  },
  "language_info": {
   "codemirror_mode": {
    "name": "ipython",
    "version": 3
   },
   "file_extension": ".py",
   "mimetype": "text/x-python",
   "name": "python",
   "nbconvert_exporter": "python",
   "pygments_lexer": "ipython3",
   "version": "3.9.11"
  }
 },
 "nbformat": 4,
 "nbformat_minor": 5
}
