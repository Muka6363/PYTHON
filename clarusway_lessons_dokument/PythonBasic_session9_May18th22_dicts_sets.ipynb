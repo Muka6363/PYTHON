{
 "cells": [
  {
   "cell_type": "markdown",
   "id": "1e707b9f",
   "metadata": {},
   "source": [
    "<img src=\"https://docs.google.com/uc?id=14xeXxFrVRjvOoUYWn_GuyE-v84wVzrqr\" class=\"img-fluid\" alt=\"CLRWY\" width=\"400\" height=\"200\">"
   ]
  },
  {
   "cell_type": "markdown",
   "id": "16fadd44",
   "metadata": {},
   "source": [
    "<h1><p style=\"text-align: center; color:darkblue\">Python In-Class <br>18 May 2022</p><h1>"
   ]
  },
  {
   "cell_type": "code",
   "execution_count": 2,
   "id": "c8a899ec",
   "metadata": {},
   "outputs": [
    {
     "data": {
      "text/plain": [
       "{'animal': 'dog',\n",
       " 'planet': 'neptun',\n",
       " 'number': 40,\n",
       " 'pi': 3.14,\n",
       " 'is_good': True}"
      ]
     },
     "execution_count": 2,
     "metadata": {},
     "output_type": "execute_result"
    }
   ],
   "source": [
    "dict_by_dict = dict(animal = \"dog\", planet = \"neptun\", number = 40, pi = 3.14, is_good = True)\n",
    "\n",
    "dict_by_dict"
   ]
  },
  {
   "cell_type": "code",
   "execution_count": 3,
   "id": "408387f1",
   "metadata": {},
   "outputs": [
    {
     "data": {
      "text/plain": [
       "'dog'"
      ]
     },
     "execution_count": 3,
     "metadata": {},
     "output_type": "execute_result"
    }
   ],
   "source": [
    "dict_by_dict[\"animal\"]"
   ]
  },
  {
   "cell_type": "code",
   "execution_count": 4,
   "id": "794bcc21",
   "metadata": {},
   "outputs": [
    {
     "ename": "NameError",
     "evalue": "name 'animal' is not defined",
     "output_type": "error",
     "traceback": [
      "\u001b[1;31m---------------------------------------------------------------------------\u001b[0m",
      "\u001b[1;31mNameError\u001b[0m                                 Traceback (most recent call last)",
      "Input \u001b[1;32mIn [4]\u001b[0m, in \u001b[0;36m<cell line: 1>\u001b[1;34m()\u001b[0m\n\u001b[1;32m----> 1\u001b[0m dict_by_dict[\u001b[43manimal\u001b[49m]\n",
      "\u001b[1;31mNameError\u001b[0m: name 'animal' is not defined"
     ]
    }
   ],
   "source": [
    "dict_by_dict[animal]\n"
   ]
  },
  {
   "cell_type": "code",
   "execution_count": 5,
   "id": "75cdefb6",
   "metadata": {},
   "outputs": [
    {
     "data": {
      "text/plain": [
       "bool"
      ]
     },
     "execution_count": 5,
     "metadata": {},
     "output_type": "execute_result"
    }
   ],
   "source": [
    "type(dict_by_dict[\"is_good\"])"
   ]
  },
  {
   "cell_type": "code",
   "execution_count": 6,
   "id": "313c5ce2",
   "metadata": {},
   "outputs": [
    {
     "data": {
      "text/plain": [
       "{}"
      ]
     },
     "execution_count": 6,
     "metadata": {},
     "output_type": "execute_result"
    }
   ],
   "source": [
    "dict()"
   ]
  },
  {
   "cell_type": "code",
   "execution_count": 7,
   "id": "fad0e0db",
   "metadata": {},
   "outputs": [
    {
     "data": {
      "text/plain": [
       "[]"
      ]
     },
     "execution_count": 7,
     "metadata": {},
     "output_type": "execute_result"
    }
   ],
   "source": [
    "list()"
   ]
  },
  {
   "cell_type": "code",
   "execution_count": 8,
   "id": "8f210744",
   "metadata": {},
   "outputs": [
    {
     "data": {
      "text/plain": [
       "{'animal': 'dog',\n",
       " 'planet': 'neptun',\n",
       " 'number': 40,\n",
       " 'pi': 3.14,\n",
       " 'is_good': True,\n",
       " 'yasemin': 'bayan'}"
      ]
     },
     "execution_count": 8,
     "metadata": {},
     "output_type": "execute_result"
    }
   ],
   "source": [
    "dict_by_dict.update({\"yasemin\" : \"bayan\"})\n",
    "dict_by_dict"
   ]
  },
  {
   "cell_type": "code",
   "execution_count": 9,
   "id": "62b6c6e0",
   "metadata": {},
   "outputs": [],
   "source": [
    "dict_by_dict.update({\"ahmet\" : \"bay\", 11 : \"integer\"})"
   ]
  },
  {
   "cell_type": "code",
   "execution_count": 10,
   "id": "b3cc09a1",
   "metadata": {},
   "outputs": [
    {
     "data": {
      "text/plain": [
       "{'animal': 'dog',\n",
       " 'planet': 'neptun',\n",
       " 'number': 40,\n",
       " 'pi': 3.14,\n",
       " 'is_good': True,\n",
       " 'yasemin': 'bayan',\n",
       " 'ahmet': 'bay',\n",
       " 11: 'integer'}"
      ]
     },
     "execution_count": 10,
     "metadata": {},
     "output_type": "execute_result"
    }
   ],
   "source": [
    "dict_by_dict"
   ]
  },
  {
   "cell_type": "code",
   "execution_count": 11,
   "id": "d107e068",
   "metadata": {},
   "outputs": [],
   "source": [
    "dict_by_dict.update({\"mehmet\" : \"bay\", 33 : \"integer\"})"
   ]
  },
  {
   "cell_type": "code",
   "execution_count": 12,
   "id": "d63c65b8",
   "metadata": {},
   "outputs": [
    {
     "data": {
      "text/plain": [
       "{'animal': 'dog',\n",
       " 'planet': 'neptun',\n",
       " 'number': 40,\n",
       " 'pi': 3.14,\n",
       " 'is_good': True,\n",
       " 'yasemin': 'bayan',\n",
       " 'ahmet': 'bay',\n",
       " 11: 'integer',\n",
       " 'mehmet': 'bay',\n",
       " 33: 'integer'}"
      ]
     },
     "execution_count": 12,
     "metadata": {},
     "output_type": "execute_result"
    }
   ],
   "source": [
    "dict_by_dict"
   ]
  },
  {
   "cell_type": "code",
   "execution_count": 23,
   "id": "479fb067",
   "metadata": {},
   "outputs": [],
   "source": [
    "dict_by_dict = {\"animal\" : \"dog\", \n",
    "                \"planet\" : \"neptun\", \n",
    "                \"number\" : 40, \n",
    "                \"pi\" : 3.14, \n",
    "                \"is_good\" : True}"
   ]
  },
  {
   "cell_type": "code",
   "execution_count": 13,
   "id": "5a0c7c3a",
   "metadata": {},
   "outputs": [
    {
     "name": "stdout",
     "output_type": "stream",
     "text": [
      "{'animal': 'dog', 'planet': 'neptun', 'number': 40, 'pi': 3.14, 'is_good': True, 'yasemin': 'bayan', 'ahmet': 'bay', 11: 'integer', 'mehmet': 'bay', 33: 'integer'}\n"
     ]
    }
   ],
   "source": [
    "print(dict_by_dict)"
   ]
  },
  {
   "cell_type": "code",
   "execution_count": 15,
   "id": "b8ef894f",
   "metadata": {},
   "outputs": [
    {
     "data": {
      "text/plain": [
       "dict_items([('animal', 'dog'), ('planet', 'neptun'), ('number', 40), ('pi', 3.14), ('is_good', True), ('yasemin', 'bayan'), ('ahmet', 'bay'), (11, 'integer'), ('mehmet', 'bay'), (33, 'integer')])"
      ]
     },
     "execution_count": 15,
     "metadata": {},
     "output_type": "execute_result"
    }
   ],
   "source": [
    "dict_by_dict.items()"
   ]
  },
  {
   "cell_type": "code",
   "execution_count": 14,
   "id": "0f285d7f",
   "metadata": {},
   "outputs": [
    {
     "data": {
      "text/plain": [
       "10"
      ]
     },
     "execution_count": 14,
     "metadata": {},
     "output_type": "execute_result"
    }
   ],
   "source": [
    "len(dict_by_dict.items())"
   ]
  },
  {
   "cell_type": "code",
   "execution_count": 16,
   "id": "354a8f9f",
   "metadata": {},
   "outputs": [
    {
     "data": {
      "text/plain": [
       "[('animal', 'dog'),\n",
       " ('planet', 'neptun'),\n",
       " ('number', 40),\n",
       " ('pi', 3.14),\n",
       " ('is_good', True),\n",
       " ('yasemin', 'bayan'),\n",
       " ('ahmet', 'bay'),\n",
       " (11, 'integer'),\n",
       " ('mehmet', 'bay'),\n",
       " (33, 'integer')]"
      ]
     },
     "execution_count": 16,
     "metadata": {},
     "output_type": "execute_result"
    }
   ],
   "source": [
    "list(dict_by_dict.items())"
   ]
  },
  {
   "cell_type": "code",
   "execution_count": 17,
   "id": "009fbd9e",
   "metadata": {},
   "outputs": [
    {
     "data": {
      "text/plain": [
       "10"
      ]
     },
     "execution_count": 17,
     "metadata": {},
     "output_type": "execute_result"
    }
   ],
   "source": [
    "len(list(dict_by_dict.items()))"
   ]
  },
  {
   "cell_type": "code",
   "execution_count": 18,
   "id": "cc19ccd5",
   "metadata": {},
   "outputs": [
    {
     "data": {
      "text/plain": [
       "('animal',\n",
       " 'planet',\n",
       " 'number',\n",
       " 'pi',\n",
       " 'is_good',\n",
       " 'yasemin',\n",
       " 'ahmet',\n",
       " 11,\n",
       " 'mehmet',\n",
       " 33)"
      ]
     },
     "execution_count": 18,
     "metadata": {},
     "output_type": "execute_result"
    }
   ],
   "source": [
    "tuple(dict_by_dict.keys())"
   ]
  },
  {
   "cell_type": "code",
   "execution_count": 19,
   "id": "2658761a",
   "metadata": {},
   "outputs": [
    {
     "data": {
      "text/plain": [
       "dict_items([('animal', 'dog'), ('planet', 'neptun'), ('number', 40), ('pi', 3.14), ('is_good', True), ('yasemin', 'bayan'), ('ahmet', 'bay'), (11, 'integer'), ('mehmet', 'bay'), (33, 'integer')])"
      ]
     },
     "execution_count": 19,
     "metadata": {},
     "output_type": "execute_result"
    }
   ],
   "source": [
    "dict_by_dict.items()"
   ]
  },
  {
   "cell_type": "code",
   "execution_count": 20,
   "id": "c20664fa",
   "metadata": {},
   "outputs": [
    {
     "ename": "ValueError",
     "evalue": "too many values to unpack (expected 2)",
     "output_type": "error",
     "traceback": [
      "\u001b[1;31m---------------------------------------------------------------------------\u001b[0m",
      "\u001b[1;31mValueError\u001b[0m                                Traceback (most recent call last)",
      "Input \u001b[1;32mIn [20]\u001b[0m, in \u001b[0;36m<cell line: 1>\u001b[1;34m()\u001b[0m\n\u001b[1;32m----> 1\u001b[0m x, y \u001b[38;5;241m=\u001b[39m dict_by_dict\u001b[38;5;241m.\u001b[39mitems()\n",
      "\u001b[1;31mValueError\u001b[0m: too many values to unpack (expected 2)"
     ]
    }
   ],
   "source": [
    "x, y = dict_by_dict.items()  # bir tek object'i 2 değişkene atayamayız."
   ]
  },
  {
   "cell_type": "code",
   "execution_count": 21,
   "id": "632288a3",
   "metadata": {},
   "outputs": [
    {
     "ename": "TypeError",
     "evalue": "cannot unpack non-iterable int object",
     "output_type": "error",
     "traceback": [
      "\u001b[1;31m---------------------------------------------------------------------------\u001b[0m",
      "\u001b[1;31mTypeError\u001b[0m                                 Traceback (most recent call last)",
      "Input \u001b[1;32mIn [21]\u001b[0m, in \u001b[0;36m<cell line: 1>\u001b[1;34m()\u001b[0m\n\u001b[1;32m----> 1\u001b[0m a, b \u001b[38;5;241m=\u001b[39m \u001b[38;5;241m1\u001b[39m\n",
      "\u001b[1;31mTypeError\u001b[0m: cannot unpack non-iterable int object"
     ]
    }
   ],
   "source": [
    "a, b = 1  # burada da bir tek object'i 2 değişkene atamaya çalıştık."
   ]
  },
  {
   "cell_type": "code",
   "execution_count": 24,
   "id": "31e83ea7",
   "metadata": {},
   "outputs": [
    {
     "data": {
      "text/plain": [
       "[('animal', 'dog'),\n",
       " ('planet', 'neptun'),\n",
       " ('number', 40),\n",
       " ('pi', 3.14),\n",
       " ('is_good', True)]"
      ]
     },
     "execution_count": 24,
     "metadata": {},
     "output_type": "execute_result"
    }
   ],
   "source": [
    "list(dict_by_dict.items())"
   ]
  },
  {
   "cell_type": "code",
   "execution_count": 25,
   "id": "c2b05aef",
   "metadata": {},
   "outputs": [],
   "source": [
    "items = list(dict_by_dict.items())"
   ]
  },
  {
   "cell_type": "code",
   "execution_count": 26,
   "id": "fc506eb4",
   "metadata": {},
   "outputs": [],
   "source": [
    "x, y = items[0]  # items[0] 2 elemandan oluşan bir tuple olduğundan onu 2 değişkene atayabildik."
   ]
  },
  {
   "cell_type": "code",
   "execution_count": 27,
   "id": "d11976bb",
   "metadata": {},
   "outputs": [
    {
     "data": {
      "text/plain": [
       "'animal'"
      ]
     },
     "execution_count": 27,
     "metadata": {},
     "output_type": "execute_result"
    }
   ],
   "source": [
    "x"
   ]
  },
  {
   "cell_type": "code",
   "execution_count": 28,
   "id": "94f509a3",
   "metadata": {},
   "outputs": [
    {
     "data": {
      "text/plain": [
       "'dog'"
      ]
     },
     "execution_count": 28,
     "metadata": {},
     "output_type": "execute_result"
    }
   ],
   "source": [
    "y"
   ]
  },
  {
   "cell_type": "code",
   "execution_count": null,
   "id": "31b2889c",
   "metadata": {},
   "outputs": [],
   "source": [
    "x, y = \"animal\", \"dog\""
   ]
  },
  {
   "cell_type": "code",
   "execution_count": 29,
   "id": "f2e7a60a",
   "metadata": {},
   "outputs": [
    {
     "data": {
      "text/plain": [
       "dict_keys(['animal', 'planet', 'number', 'pi', 'is_good'])"
      ]
     },
     "execution_count": 29,
     "metadata": {},
     "output_type": "execute_result"
    }
   ],
   "source": [
    "dict_by_dict.keys()"
   ]
  },
  {
   "cell_type": "code",
   "execution_count": 30,
   "id": "9197bd00",
   "metadata": {},
   "outputs": [
    {
     "data": {
      "text/plain": [
       "('animal', 'planet', 'number', 'pi', 'is_good')"
      ]
     },
     "execution_count": 30,
     "metadata": {},
     "output_type": "execute_result"
    }
   ],
   "source": [
    "tuple(dict_by_dict.keys())"
   ]
  },
  {
   "cell_type": "code",
   "execution_count": 31,
   "id": "cc31fb7a",
   "metadata": {},
   "outputs": [
    {
     "data": {
      "text/plain": [
       "{3.14, 40, True, 'dog', 'neptun'}"
      ]
     },
     "execution_count": 31,
     "metadata": {},
     "output_type": "execute_result"
    }
   ],
   "source": [
    "set(dict_by_dict.values())"
   ]
  },
  {
   "cell_type": "code",
   "execution_count": 32,
   "id": "0a6cd730",
   "metadata": {},
   "outputs": [],
   "source": [
    "family = {'name1': 'Edwin',\n",
    "          'name2': 'Bella',\n",
    "          'name3': 'Aisha',\n",
    "          'name4': 'Tom' \n",
    "         }"
   ]
  },
  {
   "cell_type": "code",
   "execution_count": 33,
   "id": "645e2d0d",
   "metadata": {},
   "outputs": [
    {
     "data": {
      "text/plain": [
       "{'name1': 'Edwin', 'name2': 'Bella', 'name3': 'Aisha', 'name4': 'Tom'}"
      ]
     },
     "execution_count": 33,
     "metadata": {},
     "output_type": "execute_result"
    }
   ],
   "source": [
    "family"
   ]
  },
  {
   "cell_type": "code",
   "execution_count": 34,
   "id": "7d7708f3",
   "metadata": {},
   "outputs": [
    {
     "name": "stdout",
     "output_type": "stream",
     "text": [
      "{'name1': 'Edwin', 'name2': 'Bella', 'name3': 'Aisha', 'name4': 'Tom'}\n"
     ]
    }
   ],
   "source": [
    "print(family)"
   ]
  },
  {
   "cell_type": "code",
   "execution_count": 35,
   "id": "35adddbb",
   "metadata": {},
   "outputs": [
    {
     "data": {
      "text/plain": [
       "[('name1', 'Edwin'), ('name2', 'Bella'), ('name3', 'Aisha'), ('name4', 'Tom')]"
      ]
     },
     "execution_count": 35,
     "metadata": {},
     "output_type": "execute_result"
    }
   ],
   "source": [
    "list(family.items())"
   ]
  },
  {
   "cell_type": "code",
   "execution_count": 36,
   "id": "27cea78a",
   "metadata": {},
   "outputs": [
    {
     "data": {
      "text/plain": [
       "['name1', 'name2', 'name3', 'name4']"
      ]
     },
     "execution_count": 36,
     "metadata": {},
     "output_type": "execute_result"
    }
   ],
   "source": [
    "list(family.keys())"
   ]
  },
  {
   "cell_type": "code",
   "execution_count": 37,
   "id": "a804e718",
   "metadata": {},
   "outputs": [
    {
     "data": {
      "text/plain": [
       "['Edwin', 'Bella', 'Aisha', 'Tom']"
      ]
     },
     "execution_count": 37,
     "metadata": {},
     "output_type": "execute_result"
    }
   ],
   "source": [
    "list(family.values())"
   ]
  },
  {
   "cell_type": "code",
   "execution_count": 38,
   "id": "9f719404",
   "metadata": {},
   "outputs": [],
   "source": [
    "family[\"name5\"] = \"ali\""
   ]
  },
  {
   "cell_type": "code",
   "execution_count": 39,
   "id": "2999d747",
   "metadata": {},
   "outputs": [
    {
     "data": {
      "text/plain": [
       "{'name1': 'Edwin',\n",
       " 'name2': 'Bella',\n",
       " 'name3': 'Aisha',\n",
       " 'name4': 'Tom',\n",
       " 'name5': 'ali'}"
      ]
     },
     "execution_count": 39,
     "metadata": {},
     "output_type": "execute_result"
    }
   ],
   "source": [
    "family"
   ]
  },
  {
   "cell_type": "code",
   "execution_count": 40,
   "id": "ea604bcc",
   "metadata": {},
   "outputs": [
    {
     "data": {
      "text/plain": [
       "['a', 'b', 'c', 'd']"
      ]
     },
     "execution_count": 40,
     "metadata": {},
     "output_type": "execute_result"
    }
   ],
   "source": [
    "listem = [\"a\", \"b\", \"c\"]\n",
    "\n",
    "listem.insert(3, \"d\")\n",
    "\n",
    "listem"
   ]
  },
  {
   "cell_type": "code",
   "execution_count": 41,
   "id": "f212104c",
   "metadata": {},
   "outputs": [
    {
     "data": {
      "text/plain": [
       "{'name1': 'Edwin',\n",
       " 'name2': 'Bella',\n",
       " 'name3': 'Aisha',\n",
       " 'name4': 'Tom',\n",
       " 'name5': 'ali',\n",
       " 'name6': 'Rabia'}"
      ]
     },
     "execution_count": 41,
     "metadata": {},
     "output_type": "execute_result"
    }
   ],
   "source": [
    "family.update({\"name6\" : \"Rabia\"})\n",
    "\n",
    "family"
   ]
  },
  {
   "cell_type": "code",
   "execution_count": 43,
   "id": "ffca9046",
   "metadata": {},
   "outputs": [
    {
     "data": {
      "text/plain": [
       "{'name1': 'Edwin',\n",
       " 'name2': 'Hilal',\n",
       " 'name3': 'Aisha',\n",
       " 'name4': 'Tom',\n",
       " 'name5': 'ali',\n",
       " 'name6': 'Rabia'}"
      ]
     },
     "execution_count": 43,
     "metadata": {},
     "output_type": "execute_result"
    }
   ],
   "source": [
    "family.update({\"name2\" : \"Hilal\"})\n",
    "family"
   ]
  },
  {
   "cell_type": "code",
   "execution_count": 44,
   "id": "cd2b4180",
   "metadata": {},
   "outputs": [
    {
     "data": {
      "text/plain": [
       "{'name1': 'Edwin',\n",
       " 'name2': 'Hilal',\n",
       " 'name3': 'Aisha',\n",
       " 'name4': 'Tom',\n",
       " 'name5': 'ali',\n",
       " 'name6': 'Burak'}"
      ]
     },
     "execution_count": 44,
     "metadata": {},
     "output_type": "execute_result"
    }
   ],
   "source": [
    "family.update({\"name6\" : \"Burak\"})\n",
    "family"
   ]
  },
  {
   "cell_type": "code",
   "execution_count": 45,
   "id": "b2bc19d1",
   "metadata": {},
   "outputs": [],
   "source": [
    "del family[\"name1\"]"
   ]
  },
  {
   "cell_type": "code",
   "execution_count": 46,
   "id": "354f2831",
   "metadata": {},
   "outputs": [
    {
     "data": {
      "text/plain": [
       "{'name2': 'Hilal',\n",
       " 'name3': 'Aisha',\n",
       " 'name4': 'Tom',\n",
       " 'name5': 'ali',\n",
       " 'name6': 'Burak'}"
      ]
     },
     "execution_count": 46,
     "metadata": {},
     "output_type": "execute_result"
    }
   ],
   "source": [
    "family"
   ]
  },
  {
   "cell_type": "code",
   "execution_count": 47,
   "id": "ebd85d25",
   "metadata": {},
   "outputs": [],
   "source": [
    "del family[\"name3\"], family[\"name5\"]"
   ]
  },
  {
   "cell_type": "code",
   "execution_count": 48,
   "id": "03d67503",
   "metadata": {},
   "outputs": [
    {
     "data": {
      "text/plain": [
       "{'name2': 'Hilal', 'name4': 'Tom', 'name6': 'Burak'}"
      ]
     },
     "execution_count": 48,
     "metadata": {},
     "output_type": "execute_result"
    }
   ],
   "source": [
    "family"
   ]
  },
  {
   "cell_type": "code",
   "execution_count": 52,
   "id": "260a275b",
   "metadata": {},
   "outputs": [
    {
     "name": "stdout",
     "output_type": "stream",
     "text": [
      "clarusway\n"
     ]
    }
   ],
   "source": [
    "a = \"clarusway\"\n",
    "print(a)"
   ]
  },
  {
   "cell_type": "code",
   "execution_count": 53,
   "id": "fe51498d",
   "metadata": {},
   "outputs": [],
   "source": [
    "del a"
   ]
  },
  {
   "cell_type": "code",
   "execution_count": 54,
   "id": "817eb862",
   "metadata": {},
   "outputs": [
    {
     "ename": "NameError",
     "evalue": "name 'a' is not defined",
     "output_type": "error",
     "traceback": [
      "\u001b[1;31m---------------------------------------------------------------------------\u001b[0m",
      "\u001b[1;31mNameError\u001b[0m                                 Traceback (most recent call last)",
      "Input \u001b[1;32mIn [54]\u001b[0m, in \u001b[0;36m<cell line: 1>\u001b[1;34m()\u001b[0m\n\u001b[1;32m----> 1\u001b[0m \u001b[38;5;28mprint\u001b[39m(\u001b[43ma\u001b[49m)\n",
      "\u001b[1;31mNameError\u001b[0m: name 'a' is not defined"
     ]
    }
   ],
   "source": [
    "print(a)"
   ]
  },
  {
   "cell_type": "code",
   "execution_count": null,
   "id": "bb296b92",
   "metadata": {},
   "outputs": [],
   "source": [
    "in  # True veya False verir."
   ]
  },
  {
   "cell_type": "code",
   "execution_count": 55,
   "id": "815a2e38",
   "metadata": {},
   "outputs": [
    {
     "data": {
      "text/plain": [
       "False"
      ]
     },
     "execution_count": 55,
     "metadata": {},
     "output_type": "execute_result"
    }
   ],
   "source": [
    "\"i\" in \"clarusway\""
   ]
  },
  {
   "cell_type": "code",
   "execution_count": 56,
   "id": "4009497e",
   "metadata": {},
   "outputs": [
    {
     "data": {
      "text/plain": [
       "True"
      ]
     },
     "execution_count": 56,
     "metadata": {},
     "output_type": "execute_result"
    }
   ],
   "source": [
    "\"a\" in \"clarusway\""
   ]
  },
  {
   "cell_type": "code",
   "execution_count": 57,
   "id": "fa5ea4b6",
   "metadata": {},
   "outputs": [
    {
     "data": {
      "text/plain": [
       "False"
      ]
     },
     "execution_count": 57,
     "metadata": {},
     "output_type": "execute_result"
    }
   ],
   "source": [
    "\"A\" in \"clarusway\""
   ]
  },
  {
   "cell_type": "code",
   "execution_count": 58,
   "id": "4f5dd363",
   "metadata": {},
   "outputs": [],
   "source": [
    "bootcamp = \"c l a r u s w a y\""
   ]
  },
  {
   "cell_type": "code",
   "execution_count": 59,
   "id": "d6d39cb1",
   "metadata": {},
   "outputs": [
    {
     "data": {
      "text/plain": [
       "['c', 'l', 'a', 'r', 'u', 's', 'w', 'a', 'y']"
      ]
     },
     "execution_count": 59,
     "metadata": {},
     "output_type": "execute_result"
    }
   ],
   "source": [
    "bootcamp.split()"
   ]
  },
  {
   "cell_type": "code",
   "execution_count": 60,
   "id": "3a502a48",
   "metadata": {},
   "outputs": [
    {
     "data": {
      "text/plain": [
       "'c l a r u s w a y'"
      ]
     },
     "execution_count": 60,
     "metadata": {},
     "output_type": "execute_result"
    }
   ],
   "source": [
    "bootcamp"
   ]
  },
  {
   "cell_type": "code",
   "execution_count": 61,
   "id": "cfcd2197",
   "metadata": {},
   "outputs": [
    {
     "data": {
      "text/plain": [
       "['c', 'l', 'a', 'r', 'u', 's', 'w', 'a', 'y']"
      ]
     },
     "execution_count": 61,
     "metadata": {},
     "output_type": "execute_result"
    }
   ],
   "source": [
    "bootcamp = \"c l a r u s w a y\".split()\n",
    "bootcamp"
   ]
  },
  {
   "cell_type": "code",
   "execution_count": 62,
   "id": "c9cf9e17",
   "metadata": {},
   "outputs": [
    {
     "data": {
      "text/plain": [
       "['ali', 'deli', 'veli']"
      ]
     },
     "execution_count": 62,
     "metadata": {},
     "output_type": "execute_result"
    }
   ],
   "source": [
    "ıvırzıvır = \"ali-deli-veli\".split(\"-\")\n",
    "\n",
    "ıvırzıvır"
   ]
  },
  {
   "cell_type": "code",
   "execution_count": 63,
   "id": "0ac80b10",
   "metadata": {},
   "outputs": [
    {
     "data": {
      "text/plain": [
       "{'animal': 'dog',\n",
       " 'planet': 'neptun',\n",
       " 'number': 40,\n",
       " 'pi': 3.14,\n",
       " 'is_good': True}"
      ]
     },
     "execution_count": 63,
     "metadata": {},
     "output_type": "execute_result"
    }
   ],
   "source": [
    "dict_by_dict"
   ]
  },
  {
   "cell_type": "code",
   "execution_count": 64,
   "id": "21cb83b8",
   "metadata": {},
   "outputs": [
    {
     "data": {
      "text/plain": [
       "False"
      ]
     },
     "execution_count": 64,
     "metadata": {},
     "output_type": "execute_result"
    }
   ],
   "source": [
    "\"dog\" in dict_by_dict"
   ]
  },
  {
   "cell_type": "code",
   "execution_count": 65,
   "id": "facc4b1a",
   "metadata": {},
   "outputs": [
    {
     "data": {
      "text/plain": [
       "True"
      ]
     },
     "execution_count": 65,
     "metadata": {},
     "output_type": "execute_result"
    }
   ],
   "source": [
    "\"planet\" in dict_by_dict"
   ]
  },
  {
   "cell_type": "code",
   "execution_count": 66,
   "id": "edd67984",
   "metadata": {},
   "outputs": [
    {
     "data": {
      "text/plain": [
       "True"
      ]
     },
     "execution_count": 66,
     "metadata": {},
     "output_type": "execute_result"
    }
   ],
   "source": [
    "\"dog\" in dict_by_dict.values()"
   ]
  },
  {
   "cell_type": "code",
   "execution_count": 67,
   "id": "99b30c18",
   "metadata": {},
   "outputs": [
    {
     "data": {
      "text/plain": [
       "False"
      ]
     },
     "execution_count": 67,
     "metadata": {},
     "output_type": "execute_result"
    }
   ],
   "source": [
    "not True"
   ]
  },
  {
   "cell_type": "code",
   "execution_count": 68,
   "id": "cfab5ae5",
   "metadata": {},
   "outputs": [
    {
     "data": {
      "text/plain": [
       "True"
      ]
     },
     "execution_count": 68,
     "metadata": {},
     "output_type": "execute_result"
    }
   ],
   "source": [
    "\"dog\" not in dict_by_dict "
   ]
  },
  {
   "cell_type": "code",
   "execution_count": 69,
   "id": "c2a806a0",
   "metadata": {},
   "outputs": [],
   "source": [
    "school_records = {\n",
    "    'personal_info':\n",
    "        {'kid':{'tom':{'class':'intermediate', 'age':10},\n",
    "                'sue':{'class':'elemantary', 'age':8}\n",
    "               },\n",
    "         'teen':{'joseph': {'class':'college', 'age':19},\n",
    "                 'marry': {'class':'high school', 'age':16}\n",
    "                },\n",
    "        },\n",
    "    'grades_info':\n",
    "        {'kid':{'tom':{'math':88, 'speech':69},\n",
    "                'sue':{'math':90, 'speech':81}\n",
    "               },\n",
    "         'teen':{'joseph':{'coding':80, 'math':89},\n",
    "                 'marry':{'coding':70, 'math':96}\n",
    "                },\n",
    "        }\n",
    "}"
   ]
  },
  {
   "cell_type": "code",
   "execution_count": 70,
   "id": "9611a37e",
   "metadata": {},
   "outputs": [
    {
     "data": {
      "text/plain": [
       "{'personal_info': {'kid': {'tom': {'class': 'intermediate', 'age': 10},\n",
       "   'sue': {'class': 'elemantary', 'age': 8}},\n",
       "  'teen': {'joseph': {'class': 'college', 'age': 19},\n",
       "   'marry': {'class': 'high school', 'age': 16}}},\n",
       " 'grades_info': {'kid': {'tom': {'math': 88, 'speech': 69},\n",
       "   'sue': {'math': 90, 'speech': 81}},\n",
       "  'teen': {'joseph': {'coding': 80, 'math': 89},\n",
       "   'marry': {'coding': 70, 'math': 96}}}}"
      ]
     },
     "execution_count": 70,
     "metadata": {},
     "output_type": "execute_result"
    }
   ],
   "source": [
    "school_records"
   ]
  },
  {
   "cell_type": "code",
   "execution_count": 72,
   "id": "af3a8287",
   "metadata": {},
   "outputs": [
    {
     "data": {
      "text/plain": [
       "{'kid': {'tom': {'class': 'intermediate', 'age': 10},\n",
       "  'sue': {'class': 'elemantary', 'age': 8}},\n",
       " 'teen': {'joseph': {'class': 'college', 'age': 19},\n",
       "  'marry': {'class': 'high school', 'age': 16}}}"
      ]
     },
     "execution_count": 72,
     "metadata": {},
     "output_type": "execute_result"
    }
   ],
   "source": [
    "school_records[\"personal_info\"]"
   ]
  },
  {
   "cell_type": "code",
   "execution_count": 73,
   "id": "4fd4bba8",
   "metadata": {},
   "outputs": [
    {
     "data": {
      "text/plain": [
       "{'kid': {'tom': {'math': 88, 'speech': 69}, 'sue': {'math': 90, 'speech': 81}},\n",
       " 'teen': {'joseph': {'coding': 80, 'math': 89},\n",
       "  'marry': {'coding': 70, 'math': 96}}}"
      ]
     },
     "execution_count": 73,
     "metadata": {},
     "output_type": "execute_result"
    }
   ],
   "source": [
    "school_records[\"grades_info\"]"
   ]
  },
  {
   "cell_type": "code",
   "execution_count": 74,
   "id": "deb97fe9",
   "metadata": {},
   "outputs": [
    {
     "data": {
      "text/plain": [
       "{'tom': {'class': 'intermediate', 'age': 10},\n",
       " 'sue': {'class': 'elemantary', 'age': 8}}"
      ]
     },
     "execution_count": 74,
     "metadata": {},
     "output_type": "execute_result"
    }
   ],
   "source": [
    "school_records[\"personal_info\"][\"kid\"]"
   ]
  },
  {
   "cell_type": "code",
   "execution_count": 75,
   "id": "53f6dc2c",
   "metadata": {},
   "outputs": [
    {
     "data": {
      "text/plain": [
       "{'class': 'intermediate', 'age': 10}"
      ]
     },
     "execution_count": 75,
     "metadata": {},
     "output_type": "execute_result"
    }
   ],
   "source": [
    "school_records[\"personal_info\"][\"kid\"][\"tom\"]"
   ]
  },
  {
   "cell_type": "code",
   "execution_count": 76,
   "id": "30cfe213",
   "metadata": {},
   "outputs": [
    {
     "data": {
      "text/plain": [
       "10"
      ]
     },
     "execution_count": 76,
     "metadata": {},
     "output_type": "execute_result"
    }
   ],
   "source": [
    "school_records[\"personal_info\"][\"kid\"][\"tom\"][\"age\"]"
   ]
  },
  {
   "cell_type": "code",
   "execution_count": null,
   "id": "29636c6c",
   "metadata": {},
   "outputs": [],
   "source": []
  },
  {
   "cell_type": "markdown",
   "id": "2b3bf8b3",
   "metadata": {},
   "source": [
    "**Assignment: The most frequent element**"
   ]
  },
  {
   "attachments": {
    "image.png": {
     "image/png": "[encoded data removed]"
    }
   },
   "cell_type": "markdown",
   "id": "128ebf7a",
   "metadata": {},
   "source": [
    "![image.png](attachment:image.png)"
   ]
  },
  {
   "cell_type": "code",
   "execution_count": 77,
   "id": "9a0fcae6",
   "metadata": {},
   "outputs": [],
   "source": [
    "numbers = [-1, 3, 4, 7, 3, 0, 3, 16, 3, 7, 0, 0, 1]"
   ]
  },
  {
   "cell_type": "code",
   "execution_count": 78,
   "id": "8742ece6",
   "metadata": {},
   "outputs": [
    {
     "data": {
      "text/plain": [
       "5"
      ]
     },
     "execution_count": 78,
     "metadata": {},
     "output_type": "execute_result"
    }
   ],
   "source": [
    "max(2, 3, 5)"
   ]
  },
  {
   "cell_type": "code",
   "execution_count": 79,
   "id": "4dbebf7c",
   "metadata": {},
   "outputs": [],
   "source": [
    "empty = []"
   ]
  },
  {
   "cell_type": "code",
   "execution_count": 80,
   "id": "8acdd061",
   "metadata": {},
   "outputs": [
    {
     "data": {
      "text/plain": [
       "'Boş'"
      ]
     },
     "execution_count": 80,
     "metadata": {},
     "output_type": "execute_result"
    }
   ],
   "source": [
    "max(empty, default = \"Boş\")"
   ]
  },
  {
   "cell_type": "code",
   "execution_count": 81,
   "id": "8437927e",
   "metadata": {},
   "outputs": [
    {
     "data": {
      "text/plain": [
       "True"
      ]
     },
     "execution_count": 81,
     "metadata": {},
     "output_type": "execute_result"
    }
   ],
   "source": [
    "max(empty, default = True)"
   ]
  },
  {
   "cell_type": "code",
   "execution_count": 82,
   "id": "b75bb084",
   "metadata": {},
   "outputs": [
    {
     "data": {
      "text/plain": [
       "22"
      ]
     },
     "execution_count": 82,
     "metadata": {},
     "output_type": "execute_result"
    }
   ],
   "source": [
    "max(empty, default = 22)"
   ]
  },
  {
   "cell_type": "code",
   "execution_count": 84,
   "id": "c3057968",
   "metadata": {},
   "outputs": [],
   "source": [
    "sequence  = [1,1,1,1,2,2,2,3,3,4]"
   ]
  },
  {
   "cell_type": "code",
   "execution_count": 85,
   "id": "5c1dace5",
   "metadata": {},
   "outputs": [
    {
     "data": {
      "text/plain": [
       "4"
      ]
     },
     "execution_count": 85,
     "metadata": {},
     "output_type": "execute_result"
    }
   ],
   "source": [
    "max(sequence)"
   ]
  },
  {
   "cell_type": "code",
   "execution_count": 86,
   "id": "779b39ae",
   "metadata": {},
   "outputs": [
    {
     "data": {
      "text/plain": [
       "1"
      ]
     },
     "execution_count": 86,
     "metadata": {},
     "output_type": "execute_result"
    }
   ],
   "source": [
    "sequence.count(4)"
   ]
  },
  {
   "cell_type": "code",
   "execution_count": 87,
   "id": "734c9699",
   "metadata": {},
   "outputs": [
    {
     "data": {
      "text/plain": [
       "4"
      ]
     },
     "execution_count": 87,
     "metadata": {},
     "output_type": "execute_result"
    }
   ],
   "source": [
    "sequence.count(1)"
   ]
  },
  {
   "cell_type": "code",
   "execution_count": 88,
   "id": "ea901f2d",
   "metadata": {},
   "outputs": [
    {
     "data": {
      "text/plain": [
       "2"
      ]
     },
     "execution_count": 88,
     "metadata": {},
     "output_type": "execute_result"
    }
   ],
   "source": [
    "sequence.count(3)"
   ]
  },
  {
   "cell_type": "code",
   "execution_count": 89,
   "id": "10585c08",
   "metadata": {},
   "outputs": [
    {
     "data": {
      "text/plain": [
       "[-1, 3, 4, 7, 3, 0, 3, 16, 3, 7, 0, 0, 1]"
      ]
     },
     "execution_count": 89,
     "metadata": {},
     "output_type": "execute_result"
    }
   ],
   "source": [
    "numbers"
   ]
  },
  {
   "cell_type": "code",
   "execution_count": 90,
   "id": "30f261af",
   "metadata": {},
   "outputs": [
    {
     "data": {
      "text/plain": [
       "16"
      ]
     },
     "execution_count": 90,
     "metadata": {},
     "output_type": "execute_result"
    }
   ],
   "source": [
    "max(numbers)"
   ]
  },
  {
   "cell_type": "code",
   "execution_count": 91,
   "id": "7104150c",
   "metadata": {},
   "outputs": [
    {
     "data": {
      "text/plain": [
       "1"
      ]
     },
     "execution_count": 91,
     "metadata": {},
     "output_type": "execute_result"
    }
   ],
   "source": [
    "numbers.count(16)"
   ]
  },
  {
   "cell_type": "code",
   "execution_count": 92,
   "id": "0db71f81",
   "metadata": {},
   "outputs": [
    {
     "data": {
      "text/plain": [
       "1"
      ]
     },
     "execution_count": 92,
     "metadata": {},
     "output_type": "execute_result"
    }
   ],
   "source": [
    "numbers.count(max(numbers))"
   ]
  },
  {
   "cell_type": "code",
   "execution_count": 93,
   "id": "0326fb28",
   "metadata": {},
   "outputs": [
    {
     "data": {
      "text/plain": [
       "[-1, 3, 4, 7, 3, 0, 3, 16, 3, 7, 0, 0, 1]"
      ]
     },
     "execution_count": 93,
     "metadata": {},
     "output_type": "execute_result"
    }
   ],
   "source": [
    "numbers"
   ]
  },
  {
   "cell_type": "code",
   "execution_count": 96,
   "id": "9392d7b1",
   "metadata": {},
   "outputs": [
    {
     "data": {
      "text/plain": [
       "3"
      ]
     },
     "execution_count": 96,
     "metadata": {},
     "output_type": "execute_result"
    }
   ],
   "source": [
    "max(numbers, key = numbers.count)"
   ]
  },
  {
   "cell_type": "code",
   "execution_count": 97,
   "id": "5fe42350",
   "metadata": {},
   "outputs": [
    {
     "data": {
      "text/plain": [
       "4"
      ]
     },
     "execution_count": 97,
     "metadata": {},
     "output_type": "execute_result"
    }
   ],
   "source": [
    "numbers.count(max(numbers, key = numbers.count))"
   ]
  },
  {
   "cell_type": "code",
   "execution_count": null,
   "id": "ea447b7b",
   "metadata": {},
   "outputs": [],
   "source": []
  },
  {
   "cell_type": "code",
   "execution_count": null,
   "id": "d4bcb32f",
   "metadata": {},
   "outputs": [],
   "source": []
  }
 ],
 "metadata": {
  "kernelspec": {
   "display_name": "Python 3 (ipykernel)",
   "language": "python",
   "name": "python3"
  },
  "language_info": {
   "codemirror_mode": {
    "name": "ipython",
    "version": 3
   },
   "file_extension": ".py",
   "mimetype": "text/x-python",
   "name": "python",
   "nbconvert_exporter": "python",
   "pygments_lexer": "ipython3",
   "version": "3.9.11"
  }
 },
 "nbformat": 4,
 "nbformat_minor": 5
}
