{
 "cells": [
  {
   "cell_type": "markdown",
   "metadata": {},
   "source": [
    "<p>Given the code below, use the correct method on line 3 in order to find out the number of elements in <strong>my_list</strong>.</p>"
   ]
  },
  {
   "cell_type": "code",
   "execution_count": null,
   "metadata": {},
   "outputs": [],
   "source": [
    "my_list = [10, 10.5, 20, 30, 'Python', 'Java', 'Ruby']\n",
    "\n",
    "char = \n",
    "\n",
    "print(char)"
   ]
  },
  {
   "cell_type": "code",
   "execution_count": 1,
   "metadata": {},
   "outputs": [
    {
     "name": "stdout",
     "output_type": "stream",
     "text": [
      "7\n"
     ]
    }
   ],
   "source": [
    "my_list = [10, 10.5, 20, 30, \"Python\", \"Java\", \"Ruby\"]\n",
    " \n",
    "char = len(my_list)\n",
    " \n",
    "print(char)"
   ]
  },
  {
   "cell_type": "markdown",
   "metadata": {},
   "source": [
    "<p>Given the code below, use the correct code on line 3 in order to remove the element of <strong>my_list</strong> located at index 5.</p>"
   ]
  },
  {
   "cell_type": "code",
   "execution_count": null,
   "metadata": {},
   "outputs": [],
   "source": [
    "my_list = [10, 10.5, 20, 30, 'Python', 'Java', 'Ruby']\n",
    "\n",
    "my_list.\n",
    "\n",
    "print(my_list)"
   ]
  },
  {
   "cell_type": "code",
   "execution_count": 2,
   "metadata": {},
   "outputs": [
    {
     "name": "stdout",
     "output_type": "stream",
     "text": [
      "[10, 10.5, 20, 30, 'Python', 'Ruby']\n"
     ]
    }
   ],
   "source": [
    "my_list = [10, 10.5, 20, 30, 'Python', 'Java', 'Ruby']\n",
    " \n",
    "my_list.pop(5)\n",
    " \n",
    "print(my_list)"
   ]
  },
  {
   "cell_type": "markdown",
   "metadata": {},
   "source": [
    "<p>Given the code below, use the correct method on line 3 in order to add the element <strong>'C++' </strong>at the end of <strong>my_list</strong>.</p>"
   ]
  },
  {
   "cell_type": "code",
   "execution_count": null,
   "metadata": {},
   "outputs": [],
   "source": [
    "my_list = [10, 10.5, 20, 30, 'Python', 'Java', 'Ruby']\n",
    "\n",
    "my_list. \n",
    "\n",
    "print(my_list)"
   ]
  },
  {
   "cell_type": "code",
   "execution_count": 3,
   "metadata": {},
   "outputs": [
    {
     "name": "stdout",
     "output_type": "stream",
     "text": [
      "[10, 10.5, 20, 30, 'Python', 'Java', 'Ruby', 'C++']\n"
     ]
    }
   ],
   "source": [
    "my_list = [10, 10.5, 20, 30, 'Python', 'Java', 'Ruby']\n",
    " \n",
    "my_list.append('C++')\n",
    " \n",
    "print(my_list)"
   ]
  },
  {
   "cell_type": "markdown",
   "metadata": {},
   "source": [
    "<p>Given the code below, use the correct method on line 3 in order to remove the element <strong>30 </strong>from <strong>my_list</strong>.</p>"
   ]
  },
  {
   "cell_type": "code",
   "execution_count": null,
   "metadata": {},
   "outputs": [],
   "source": [
    "my_list = [10, 10.5, 20, 30, 'Python', 'Java', 'Ruby']\n",
    "\n",
    "my_list.\n",
    "\n",
    "print(my_list)"
   ]
  },
  {
   "cell_type": "code",
   "execution_count": 4,
   "metadata": {},
   "outputs": [
    {
     "name": "stdout",
     "output_type": "stream",
     "text": [
      "[10, 10.5, 20, 'Python', 'Java', 'Ruby']\n"
     ]
    }
   ],
   "source": [
    "my_list = [10, 10.5, 20, 30, 'Python', 'Java', 'Ruby']\n",
    " \n",
    "my_list.remove(30)\n",
    " \n",
    "print(my_list)"
   ]
  },
  {
   "cell_type": "markdown",
   "metadata": {},
   "source": [
    "<p>Given the code below, use the correct method on line 3 in order to return the index of the element <strong>10.5 </strong>in <strong>my_list</strong>.</p>"
   ]
  },
  {
   "cell_type": "code",
   "execution_count": null,
   "metadata": {},
   "outputs": [],
   "source": [
    "my_list = [10, 10.5, 20, 30, 'Python', 'Java', 'Ruby']\n",
    "\n",
    "index = my_list.\n",
    "\n",
    "print(index)"
   ]
  },
  {
   "cell_type": "code",
   "execution_count": 5,
   "metadata": {},
   "outputs": [
    {
     "name": "stdout",
     "output_type": "stream",
     "text": [
      "1\n"
     ]
    }
   ],
   "source": [
    "my_list = [10, 10.5, 20, 30, 'Python', 'Java', 'Ruby']\n",
    " \n",
    "index = my_list.index(10.5)\n",
    " \n",
    "print(index)"
   ]
  },
  {
   "cell_type": "markdown",
   "metadata": {},
   "source": [
    "<p>Given the code below, use the correct method on line 3 in order to insert the element <strong>77 </strong>at index 4 in <strong>my_list</strong>.</p>"
   ]
  },
  {
   "cell_type": "code",
   "execution_count": null,
   "metadata": {},
   "outputs": [],
   "source": [
    "my_list = [10, 10.5, 20, 30, 'Python', 'Java', 'Ruby']\n",
    "\n",
    "my_list.\n",
    "\n",
    "print(my_list)"
   ]
  },
  {
   "cell_type": "code",
   "execution_count": 6,
   "metadata": {},
   "outputs": [
    {
     "name": "stdout",
     "output_type": "stream",
     "text": [
      "[10, 10.5, 20, 30, 77, 'Python', 'Java', 'Ruby']\n"
     ]
    }
   ],
   "source": [
    "my_list = [10, 10.5, 20, 30, 'Python', 'Java', 'Ruby']\n",
    " \n",
    "my_list.insert(4, 77)\n",
    " \n",
    "print(my_list)"
   ]
  },
  {
   "cell_type": "markdown",
   "metadata": {},
   "source": [
    "<p>Given the code below, use the correct method on line 3 in order to concatenate <strong>my_list</strong> with <strong>[100, 101, 102]</strong>, by adding the latter at the end of <strong>my_list</strong>.</p>"
   ]
  },
  {
   "cell_type": "code",
   "execution_count": null,
   "metadata": {},
   "outputs": [],
   "source": [
    "my_list = [10, 10.5, 20, 30, 'Python', 'Java', 'Ruby']\n",
    "\n",
    "my_list.\n",
    "\n",
    "print(my_list)"
   ]
  },
  {
   "cell_type": "code",
   "execution_count": 7,
   "metadata": {},
   "outputs": [
    {
     "name": "stdout",
     "output_type": "stream",
     "text": [
      "[10, 10.5, 20, 30, 'Python', 'Java', 'Ruby', 100, 101, 102]\n"
     ]
    }
   ],
   "source": [
    "my_list = [10, 10.5, 20, 30, 'Python', 'Java', 'Ruby']\n",
    " \n",
    "my_list.extend([100, 101, 102])\n",
    " \n",
    "print(my_list)"
   ]
  },
  {
   "cell_type": "markdown",
   "metadata": {},
   "source": [
    "<p>Given the code below, use the correct method on line 3 in order to find out how many times does the element <strong>20 </strong>occur in <strong>my_list</strong>.</p>"
   ]
  },
  {
   "cell_type": "code",
   "execution_count": null,
   "metadata": {},
   "outputs": [],
   "source": [
    "my_list = [10, 10.5, 20, 30, 'Python', 'Java', 'Ruby']\n",
    "\n",
    "howmany = my_list.\n",
    "\n",
    "print(howmany)"
   ]
  },
  {
   "cell_type": "code",
   "execution_count": 8,
   "metadata": {},
   "outputs": [
    {
     "name": "stdout",
     "output_type": "stream",
     "text": [
      "1\n"
     ]
    }
   ],
   "source": [
    "my_list = [10, 10.5, 20, 30, 'Python', 'Java', 'Ruby']\n",
    " \n",
    "howmany = my_list.count(20)\n",
    " \n",
    "print(howmany)"
   ]
  },
  {
   "cell_type": "markdown",
   "metadata": {},
   "source": [
    "<p>Given the code below, use the correct function on line 3 in order to sort the elements of <strong>my_list</strong> in ascending order.</p>"
   ]
  },
  {
   "cell_type": "code",
   "execution_count": null,
   "metadata": {},
   "outputs": [],
   "source": [
    "my_list = [10, 10.5, 20, 30, 25.6, 19.25, 11.01, 29.99]\n",
    "\n",
    "asc = \n",
    "\n",
    "print(asc)"
   ]
  },
  {
   "cell_type": "code",
   "execution_count": 9,
   "metadata": {},
   "outputs": [
    {
     "name": "stdout",
     "output_type": "stream",
     "text": [
      "[10, 10.5, 11.01, 19.25, 20, 25.6, 29.99, 30]\n"
     ]
    }
   ],
   "source": [
    "my_list = [10, 10.5, 20, 30, 25.6, 19.25, 11.01, 29.99]\n",
    " \n",
    "asc = sorted(my_list)\n",
    " \n",
    "print(asc)"
   ]
  },
  {
   "cell_type": "markdown",
   "metadata": {},
   "source": [
    "<p>Given the code below, use the correct function (and argument) on line 3 in order to sort the elements of <strong>my_list</strong> in descending order.</p>"
   ]
  },
  {
   "cell_type": "code",
   "execution_count": null,
   "metadata": {},
   "outputs": [],
   "source": [
    "my_list = [10, 10.5, 20, 30, 25.6, 19.25, 11.01, 29.99]\n",
    "\n",
    "asc = \n",
    "\n",
    "print(asc)"
   ]
  },
  {
   "cell_type": "code",
   "execution_count": 10,
   "metadata": {},
   "outputs": [
    {
     "name": "stdout",
     "output_type": "stream",
     "text": [
      "[30, 29.99, 25.6, 20, 19.25, 11.01, 10.5, 10]\n"
     ]
    }
   ],
   "source": [
    "my_list = [10, 10.5, 20, 30, 25.6, 19.25, 11.01, 29.99]\n",
    " \n",
    "asc = sorted(my_list, reverse = True)\n",
    " \n",
    "print(asc)"
   ]
  },
  {
   "cell_type": "markdown",
   "metadata": {},
   "source": [
    "<p>Given the code below, use the correct function on line 3 in order to find out the smallest number in <strong>my_list</strong>.</p>"
   ]
  },
  {
   "cell_type": "code",
   "execution_count": null,
   "metadata": {},
   "outputs": [],
   "source": [
    "my_list = [10, 10.5, 20, 30, 25.6, 19.25, 11.01, 29.99]\n",
    "\n",
    "small = \n",
    "\n",
    "print(small)"
   ]
  },
  {
   "cell_type": "code",
   "execution_count": 11,
   "metadata": {},
   "outputs": [
    {
     "name": "stdout",
     "output_type": "stream",
     "text": [
      "10\n"
     ]
    }
   ],
   "source": [
    "my_list = [10, 10.5, 20, 30, 25.6, 19.25, 11.01, 29.99]\n",
    " \n",
    "small = min(my_list)\n",
    " \n",
    "print(small)"
   ]
  },
  {
   "cell_type": "markdown",
   "metadata": {},
   "source": [
    "<p>Given the code below, use the correct function on line 3 in order to find out the largest number in <strong>my_list</strong>.</p>"
   ]
  },
  {
   "cell_type": "code",
   "execution_count": null,
   "metadata": {},
   "outputs": [],
   "source": [
    "my_list = [10, 10.5, 20, 30, 25.6, 19.25, 11.01, 29.99]\n",
    "\n",
    "large = \n",
    "\n",
    "print(large)"
   ]
  },
  {
   "cell_type": "code",
   "execution_count": null,
   "metadata": {},
   "outputs": [],
   "source": [
    "my_list = [10, 10.5, 20, 30, 25.6, 19.25, 11.01, 29.99]\n",
    " \n",
    "large = max(my_list)\n",
    " \n",
    "print(large)"
   ]
  },
  {
   "cell_type": "markdown",
   "metadata": {},
   "source": [
    "<p>Given the code below, use the correct function on line 3 in order to get the sum of all the elements of <strong>my_list</strong>.</p>"
   ]
  },
  {
   "cell_type": "code",
   "execution_count": null,
   "metadata": {},
   "outputs": [],
   "source": [
    "my_list = [10, 10.5, 20, 30, 25.6, 19.25, 11.01, 29.99]\n",
    "\n",
    "add = \n",
    "\n",
    "print(add)"
   ]
  },
  {
   "cell_type": "code",
   "execution_count": 12,
   "metadata": {},
   "outputs": [
    {
     "name": "stdout",
     "output_type": "stream",
     "text": [
      "156.35\n"
     ]
    }
   ],
   "source": [
    "my_list = [10, 10.5, 20, 30, 25.6, 19.25, 11.01, 29.99]\n",
    " \n",
    "add = sum(my_list)\n",
    " \n",
    "print(add)"
   ]
  },
  {
   "cell_type": "markdown",
   "metadata": {},
   "source": [
    "<p>Given the code below, use the correct method on line 3 in order to delete all the elements from <strong>my_list</strong> and obtain an empty list.</p>"
   ]
  },
  {
   "cell_type": "code",
   "execution_count": null,
   "metadata": {},
   "outputs": [],
   "source": [
    "my_list = [10, 10.5, 20, 30, 25.6, 19.25, 11.01, 29.99]\n",
    "\n",
    "my_list.\n",
    "\n",
    "print(my_list)"
   ]
  },
  {
   "cell_type": "code",
   "execution_count": 13,
   "metadata": {},
   "outputs": [
    {
     "name": "stdout",
     "output_type": "stream",
     "text": [
      "[]\n"
     ]
    }
   ],
   "source": [
    "my_list = [10, 10.5, 20, 30, 25.6, 19.25, 11.01, 29.99]\n",
    " \n",
    "my_list.clear()\n",
    " \n",
    "print(my_list)"
   ]
  },
  {
   "cell_type": "markdown",
   "metadata": {},
   "source": [
    "<p>Given the code below, use the correct operators and parentheses on line 3 in order to add the elements of <strong>[30.01, 30.02, 30.03] </strong>to <strong>my_list</strong> and multiply the resulting list by <strong>2</strong>.</p>"
   ]
  },
  {
   "cell_type": "code",
   "execution_count": null,
   "metadata": {},
   "outputs": [],
   "source": [
    "my_list = [10, 10.5, 20, 30, 25.6, 19.25, 11.01, 29.99]\n",
    "\n",
    "add = my_list [30.01, 30.02, 30.03] 2\n",
    "\n",
    "print(add)"
   ]
  },
  {
   "cell_type": "code",
   "execution_count": 14,
   "metadata": {},
   "outputs": [
    {
     "name": "stdout",
     "output_type": "stream",
     "text": [
      "[10, 10.5, 20, 30, 25.6, 19.25, 11.01, 29.99, 30.01, 30.02, 30.03, 10, 10.5, 20, 30, 25.6, 19.25, 11.01, 29.99, 30.01, 30.02, 30.03]\n"
     ]
    }
   ],
   "source": [
    "my_list = [10, 10.5, 20, 30, 25.6, 19.25, 11.01, 29.99]\n",
    " \n",
    "add = (my_list + [30.01, 30.02, 30.03]) * 2\n",
    " \n",
    "print(add)"
   ]
  },
  {
   "cell_type": "markdown",
   "metadata": {},
   "source": [
    "<p>Given the code below, use the correct code on line 3 in order to return the element <strong>20 </strong>from <strong>my_list</strong> based on its index.</p>"
   ]
  },
  {
   "cell_type": "code",
   "execution_count": null,
   "metadata": {},
   "outputs": [],
   "source": [
    "my_list = [10, 10.5, 20, 30, 'Python', 'Java', 'Ruby']\n",
    "\n",
    "element = \n",
    "\n",
    "print(element)"
   ]
  },
  {
   "cell_type": "code",
   "execution_count": 15,
   "metadata": {},
   "outputs": [
    {
     "name": "stdout",
     "output_type": "stream",
     "text": [
      "20\n"
     ]
    }
   ],
   "source": [
    "my_list = [10, 10.5, 20, 30, 'Python', 'Java', 'Ruby']\n",
    " \n",
    "element = my_list[2]\n",
    " \n",
    "print(element)"
   ]
  },
  {
   "cell_type": "markdown",
   "metadata": {},
   "source": [
    "<p>Given the code below, use the correct code on line 3 in order to return the element <strong>Java </strong>from <strong>my_list</strong> based on its index (negative).</p>"
   ]
  },
  {
   "cell_type": "code",
   "execution_count": null,
   "metadata": {},
   "outputs": [],
   "source": [
    "my_list = [10, 10.5, 20, 30, 'Python', 'Java', 'Ruby']\n",
    "\n",
    "element = \n",
    "\n",
    "print(element)"
   ]
  },
  {
   "cell_type": "code",
   "execution_count": 16,
   "metadata": {},
   "outputs": [
    {
     "name": "stdout",
     "output_type": "stream",
     "text": [
      "Java\n"
     ]
    }
   ],
   "source": [
    "my_list = [10, 10.5, 20, 30, 'Python', 'Java', 'Ruby']\n",
    " \n",
    "element = my_list[-2]\n",
    " \n",
    "print(element)"
   ]
  },
  {
   "cell_type": "markdown",
   "metadata": {},
   "source": [
    "<p>Given the code below, use the correct code on line 3 in order to return a slice made of <strong>[30, 'Python', 'Java'] </strong>from <strong>my_list</strong> based on positive indexes.</p>"
   ]
  },
  {
   "cell_type": "code",
   "execution_count": null,
   "metadata": {},
   "outputs": [],
   "source": [
    "my_list = [10, 10.5, 20, 30, 'Python', 'Java', 'Ruby']\n",
    "\n",
    "my_slice = \n",
    "\n",
    "print(my_slice)"
   ]
  },
  {
   "cell_type": "code",
   "execution_count": 17,
   "metadata": {},
   "outputs": [
    {
     "name": "stdout",
     "output_type": "stream",
     "text": [
      "[30, 'Python', 'Java']\n"
     ]
    }
   ],
   "source": [
    "my_list = [10, 10.5, 20, 30, 'Python', 'Java', 'Ruby']\n",
    " \n",
    "my_slice = my_list[3:6]\n",
    " \n",
    "print(my_slice)"
   ]
  },
  {
   "cell_type": "markdown",
   "metadata": {},
   "source": [
    "<p>Given the code below, use the correct code on line 3 in order to return a slice made of <strong>[30, 'Python', 'Java'] </strong>from <strong>my_list</strong> based on negative indexes.</p>"
   ]
  },
  {
   "cell_type": "code",
   "execution_count": null,
   "metadata": {},
   "outputs": [],
   "source": [
    "my_list = [10, 10.5, 20, 30, 'Python', 'Java', 'Ruby']\n",
    "\n",
    "my_slice = \n",
    "\n",
    "print(my_slice)"
   ]
  },
  {
   "cell_type": "code",
   "execution_count": 18,
   "metadata": {},
   "outputs": [
    {
     "name": "stdout",
     "output_type": "stream",
     "text": [
      "[30, 'Python', 'Java']\n"
     ]
    }
   ],
   "source": [
    "my_list = [10, 10.5, 20, 30, 'Python', 'Java', 'Ruby']\n",
    " \n",
    "my_slice = my_list[-4:-1]\n",
    " \n",
    "print(my_slice)"
   ]
  },
  {
   "cell_type": "markdown",
   "metadata": {},
   "source": [
    "<p>Given the code below, use the correct code on line 3 in order to return <strong>my_list</strong> except the first 3 elements, using a single, positive index.</p>"
   ]
  },
  {
   "cell_type": "code",
   "execution_count": null,
   "metadata": {},
   "outputs": [],
   "source": [
    "my_list = [10, 10.5, 20, 30, 'Python', 'Java', 'Ruby']\n",
    "\n",
    "my_slice = \n",
    "\n",
    "print(my_slice) #[30, 'Python', 'Java', 'Ruby']"
   ]
  },
  {
   "cell_type": "code",
   "execution_count": 19,
   "metadata": {},
   "outputs": [
    {
     "name": "stdout",
     "output_type": "stream",
     "text": [
      "[30, 'Python', 'Java', 'Ruby']\n"
     ]
    }
   ],
   "source": [
    "my_list = [10, 10.5, 20, 30, 'Python', 'Java', 'Ruby']\n",
    " \n",
    "my_slice = my_list[3:]\n",
    " \n",
    "print(my_slice) #[30, 'Python', 'Java', 'Ruby']"
   ]
  },
  {
   "cell_type": "markdown",
   "metadata": {},
   "source": [
    "<p>Given the code below, use the correct code on line 3 in order to return <strong>my_list</strong> except the last 4 elements, using a single, negative index.</p>"
   ]
  },
  {
   "cell_type": "code",
   "execution_count": null,
   "metadata": {},
   "outputs": [],
   "source": [
    "my_list = [10, 10.5, 20, 30, 'Python', 'Java', 'Ruby']\n",
    "\n",
    "my_slice = \n",
    "\n",
    "print(my_slice) #[10, 10.5, 20]"
   ]
  },
  {
   "cell_type": "code",
   "execution_count": 20,
   "metadata": {},
   "outputs": [
    {
     "name": "stdout",
     "output_type": "stream",
     "text": [
      "[10, 10.5, 20]\n"
     ]
    }
   ],
   "source": [
    "my_list = [10, 10.5, 20, 30, 'Python', 'Java', 'Ruby']\n",
    " \n",
    "my_slice = my_list[:-4]\n",
    " \n",
    "print(my_slice) #[10, 10.5, 20]"
   ]
  },
  {
   "cell_type": "markdown",
   "metadata": {},
   "source": [
    "<p>Given the code below, use the correct code on line 3 in order to return <strong>my_list</strong> except the first 3 elements, using a single, negative index.</p>"
   ]
  },
  {
   "cell_type": "code",
   "execution_count": null,
   "metadata": {},
   "outputs": [],
   "source": [
    "my_list = [10, 10.5, 20, 30, 'Python', 'Java', 'Ruby']\n",
    "\n",
    "my_slice = \n",
    "\n",
    "print(my_slice) #[30, 'Python', 'Java', 'Ruby']"
   ]
  },
  {
   "cell_type": "code",
   "execution_count": 21,
   "metadata": {},
   "outputs": [
    {
     "name": "stdout",
     "output_type": "stream",
     "text": [
      "[30, 'Python', 'Java', 'Ruby']\n"
     ]
    }
   ],
   "source": [
    "my_list = [10, 10.5, 20, 30, 'Python', 'Java', 'Ruby']\n",
    " \n",
    "my_slice = my_list[-4:]\n",
    " \n",
    "print(my_slice) #[30, 'Python', 'Java', 'Ruby']"
   ]
  },
  {
   "cell_type": "markdown",
   "metadata": {},
   "source": [
    "<p>Given the code below, use the correct code on line 3 in order to return <strong>my_list</strong> except the last 2 elements, using a single, positive index.</p>"
   ]
  },
  {
   "cell_type": "code",
   "execution_count": null,
   "metadata": {},
   "outputs": [],
   "source": [
    "my_list = [10, 10.5, 20, 30, 'Python', 'Java', 'Ruby']\n",
    "\n",
    "my_slice = \n",
    "\n",
    "print(my_slice) #[10, 10.5, 20, 30, 'Python']"
   ]
  },
  {
   "cell_type": "code",
   "execution_count": 22,
   "metadata": {},
   "outputs": [
    {
     "name": "stdout",
     "output_type": "stream",
     "text": [
      "[10, 10.5, 20, 30, 'Python']\n"
     ]
    }
   ],
   "source": [
    "my_list = [10, 10.5, 20, 30, 'Python', 'Java', 'Ruby']\n",
    " \n",
    "my_slice = my_list[:5]\n",
    " \n",
    "print(my_slice) #[10, 10.5, 20, 30, 'Python']"
   ]
  },
  {
   "cell_type": "markdown",
   "metadata": {},
   "source": [
    "<p>Given the code below, use the correct code on line 3 in order to return every third element of <strong>my_list</strong> starting with the first element of the list.</p>"
   ]
  },
  {
   "cell_type": "code",
   "execution_count": null,
   "metadata": {},
   "outputs": [],
   "source": [
    "my_list = [10, 10.5, 20, 30, 'Python', 'Java', 'Ruby']\n",
    "\n",
    "my_slice = \n",
    "\n",
    "print(my_slice) #[10, 30, 'Ruby']"
   ]
  },
  {
   "cell_type": "code",
   "execution_count": 23,
   "metadata": {},
   "outputs": [
    {
     "name": "stdout",
     "output_type": "stream",
     "text": [
      "[10, 30, 'Ruby']\n"
     ]
    }
   ],
   "source": [
    "my_list = [10, 10.5, 20, 30, 'Python', 'Java', 'Ruby']\n",
    " \n",
    "my_slice = my_list[::3]\n",
    " \n",
    "print(my_slice) #[10, 30, 'Ruby']"
   ]
  },
  {
   "cell_type": "markdown",
   "metadata": {},
   "source": [
    "<p>Given the code below, use the correct code on line 3 in order to return every fourth element of <strong>my_list</strong> starting with the last element of the list.</p>"
   ]
  },
  {
   "cell_type": "code",
   "execution_count": null,
   "metadata": {},
   "outputs": [],
   "source": [
    "my_list = [10, 10.5, 20, 30, 'Python', 'Java', 'Ruby']\n",
    "\n",
    "my_slice = \n",
    "\n",
    "print(my_slice) #['Ruby', 20]"
   ]
  },
  {
   "cell_type": "code",
   "execution_count": 24,
   "metadata": {},
   "outputs": [
    {
     "name": "stdout",
     "output_type": "stream",
     "text": [
      "['Ruby', 20]\n"
     ]
    }
   ],
   "source": [
    "my_list = [10, 10.5, 20, 30, 'Python', 'Java', 'Ruby']\n",
    " \n",
    "my_slice = my_list[::-4]\n",
    " \n",
    "print(my_slice) #['Ruby', 20]"
   ]
  },
  {
   "cell_type": "markdown",
   "metadata": {},
   "source": []
  }
 ],
 "metadata": {
  "interpreter": {
   "hash": "468f25ad0239460415b7e6b7483d5c8f7213894121f6fb96c4cb6ef93fffe534"
  },
  "kernelspec": {
   "display_name": "Python 3.9.6 64-bit",
   "language": "python",
   "name": "python3"
  },
  "language_info": {
   "codemirror_mode": {
    "name": "ipython",
    "version": 3
   },
   "file_extension": ".py",
   "mimetype": "text/x-python",
   "name": "python",
   "nbconvert_exporter": "python",
   "pygments_lexer": "ipython3",
   "version": "3.9.6"
  },
  "orig_nbformat": 4
 },
 "nbformat": 4,
 "nbformat_minor": 2
}
