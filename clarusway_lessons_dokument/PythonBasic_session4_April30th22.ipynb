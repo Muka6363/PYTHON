{
 "cells": [
  {
   "cell_type": "markdown",
   "id": "406f2981",
   "metadata": {},
   "source": [
    "<img src=\"https://docs.google.com/uc?id=14xeXxFrVRjvOoUYWn_GuyE-v84wVzrqr\" class=\"img-fluid\" alt=\"CLRWY\" width=\"400\" height=\"200\">"
   ]
  },
  {
   "cell_type": "markdown",
   "id": "22263af8",
   "metadata": {},
   "source": [
    "<h1><p style=\"text-align: center; color:darkblue\">Python In-Class <br>30 April 2022</p><h1>"
   ]
  },
  {
   "cell_type": "markdown",
   "id": "09957734",
   "metadata": {},
   "source": [
    "<img src=\"https://docs.google.com/uc?id=13AS6ODcLqyASHwgDhX8JidRguGeIoun2\" class=\"img-fluid\" alt=\"dolma\" width=\"400\" height=\"400\">"
   ]
  },
  {
   "cell_type": "code",
   "execution_count": null,
   "id": "d08dd467",
   "metadata": {},
   "outputs": [],
   "source": [
    "- Kadayıf\n",
    "- İç;\n",
    "    - Ceviz,\n",
    "    - Fındık,\n",
    "    - Fıstık.\n",
    "- Şerbet;\n",
    "    - Su,\n",
    "    - Şeker.\n",
    "- Yumurta\n",
    "\n",
    "- içecek"
   ]
  },
  {
   "cell_type": "code",
   "execution_count": 9,
   "id": "c565ae1a",
   "metadata": {},
   "outputs": [],
   "source": [
    "kadayıf = True  # olmazsa olmaz\n",
    "\n",
    "# iç --> olmazsa olmaz\n",
    "fındık = True  # fark etmez\n",
    "fıstık = False  # fark etmez\n",
    "ceviz = False  # fark etmez\n",
    "\n",
    "# şerbet --> olmazsa olmaz\n",
    "su = True \n",
    "şeker = True \n",
    "\n",
    "yumurta = True\n",
    "\n",
    "# içecek --> olmazsa olmaz\n",
    "çay = True\n",
    "limonata = False\n",
    "şerbet = True"
   ]
  },
  {
   "cell_type": "code",
   "execution_count": null,
   "id": "e0bc772b",
   "metadata": {},
   "outputs": [],
   "source": [
    "yedim = kadayıf and (şerbet) and (iç) and yumurta"
   ]
  },
  {
   "cell_type": "code",
   "execution_count": 2,
   "id": "b93e68d1",
   "metadata": {},
   "outputs": [],
   "source": [
    "yedim = kadayıf and (su and şeker) and (ceviz or fıstık or fındık) and yumurta"
   ]
  },
  {
   "cell_type": "code",
   "execution_count": 3,
   "id": "6beb2042",
   "metadata": {},
   "outputs": [
    {
     "data": {
      "text/plain": [
       "True"
      ]
     },
     "execution_count": 3,
     "metadata": {},
     "output_type": "execute_result"
    }
   ],
   "source": [
    "yedim"
   ]
  },
  {
   "cell_type": "code",
   "execution_count": 10,
   "id": "cc515185",
   "metadata": {},
   "outputs": [
    {
     "data": {
      "text/plain": [
       "True"
      ]
     },
     "execution_count": 10,
     "metadata": {},
     "output_type": "execute_result"
    }
   ],
   "source": [
    "yedim = kadayıf and (su and şeker) and (ceviz or fıstık or fındık) and yumurta\\\n",
    "and (şerbet or çay or limonata)\n",
    "\n",
    "yedim"
   ]
  },
  {
   "cell_type": "code",
   "execution_count": 11,
   "id": "7cfe1cf9",
   "metadata": {},
   "outputs": [],
   "source": [
    "para = 1000"
   ]
  },
  {
   "cell_type": "code",
   "execution_count": 12,
   "id": "3aa38b98",
   "metadata": {},
   "outputs": [
    {
     "data": {
      "text/plain": [
       "1070.0"
      ]
     },
     "execution_count": 12,
     "metadata": {},
     "output_type": "execute_result"
    }
   ],
   "source": [
    "para = para + para * 0.07  # pazartesi günkü meblağ\n",
    "para"
   ]
  },
  {
   "cell_type": "code",
   "execution_count": 13,
   "id": "51598268",
   "metadata": {},
   "outputs": [
    {
     "data": {
      "text/plain": [
       "1144.9"
      ]
     },
     "execution_count": 13,
     "metadata": {},
     "output_type": "execute_result"
    }
   ],
   "source": [
    "para = para + para * 0.07  # salı günkü meblağ\n",
    "para"
   ]
  },
  {
   "cell_type": "code",
   "execution_count": 14,
   "id": "89190a79",
   "metadata": {},
   "outputs": [
    {
     "data": {
      "text/plain": [
       "1225.0430000000001"
      ]
     },
     "execution_count": 14,
     "metadata": {},
     "output_type": "execute_result"
    }
   ],
   "source": [
    "para = para + para * 0.07  # çarşamba\n",
    "para"
   ]
  },
  {
   "cell_type": "code",
   "execution_count": 15,
   "id": "cd268fde",
   "metadata": {},
   "outputs": [
    {
     "data": {
      "text/plain": [
       "1310.79601"
      ]
     },
     "execution_count": 15,
     "metadata": {},
     "output_type": "execute_result"
    }
   ],
   "source": [
    "para = para + para * 0.07  # perşembe\n",
    "para"
   ]
  },
  {
   "cell_type": "code",
   "execution_count": 16,
   "id": "ea61c723",
   "metadata": {},
   "outputs": [
    {
     "data": {
      "text/plain": [
       "1402.5517307"
      ]
     },
     "execution_count": 16,
     "metadata": {},
     "output_type": "execute_result"
    }
   ],
   "source": [
    "para = para + para * 0.07  # cuma\n",
    "para"
   ]
  },
  {
   "cell_type": "code",
   "execution_count": 17,
   "id": "b8bf8924",
   "metadata": {},
   "outputs": [
    {
     "data": {
      "text/plain": [
       "1500.730351849"
      ]
     },
     "execution_count": 17,
     "metadata": {},
     "output_type": "execute_result"
    }
   ],
   "source": [
    "para = para + para * 0.07  # c.tesi\n",
    "para"
   ]
  },
  {
   "cell_type": "code",
   "execution_count": 18,
   "id": "ea88fa05",
   "metadata": {},
   "outputs": [
    {
     "data": {
      "text/plain": [
       "1605.78147647843"
      ]
     },
     "execution_count": 18,
     "metadata": {},
     "output_type": "execute_result"
    }
   ],
   "source": [
    "para = para + para * 0.07  # pazar\n",
    "para"
   ]
  },
  {
   "cell_type": "code",
   "execution_count": 19,
   "id": "8329bd60",
   "metadata": {},
   "outputs": [],
   "source": [
    "para = 1000"
   ]
  },
  {
   "cell_type": "code",
   "execution_count": 20,
   "id": "5d203a02",
   "metadata": {},
   "outputs": [
    {
     "data": {
      "text/plain": [
       "1605.7814764784307"
      ]
     },
     "execution_count": 20,
     "metadata": {},
     "output_type": "execute_result"
    }
   ],
   "source": [
    "para = para * 1.07  # pazartesi sonunda\n",
    "para = para * 1.07  # salı sonunda\n",
    "para = para * 1.07  # çarşamba sonunda\n",
    "para = para * 1.07  # perşembe sonunda\n",
    "para = para * 1.07  # cuma sonunda\n",
    "para = para * 1.07  # cumartesi sonunda\n",
    "para = para * 1.07  # pazar sonunda\n",
    "\n",
    "para"
   ]
  },
  {
   "cell_type": "code",
   "execution_count": null,
   "id": "54d3cb5b",
   "metadata": {},
   "outputs": [],
   "source": [
    "para = para * 1.07  # pazartesi sonunda\n",
    "para = para * 1.07 * 1.07  # salı sonunda\n",
    "para = para * 1.07 * 1.07 * 1.07  # çarşamba sonunda\n",
    "para = para * 1.07 * 1.07 * 1.07 * 1.07  # perşembe sonunda\n",
    "para = para * 1.07 * 1.07 * 1.07 * 1.07 * 1.07  # cuma sonunda\n",
    "para = para * 1.07 * 1.07 * 1.07 * 1.07 * 1.07 * 1.07  # cumartesi sonunda\n",
    "para = para * 1.07 * 1.07 * 1.07 * 1.07 * 1.07 * 1.07 * 1.07  # pazar sonunda"
   ]
  },
  {
   "cell_type": "code",
   "execution_count": 25,
   "id": "e3894a6a",
   "metadata": {},
   "outputs": [],
   "source": [
    "para = 1000"
   ]
  },
  {
   "cell_type": "code",
   "execution_count": 26,
   "id": "9303d5ac",
   "metadata": {},
   "outputs": [
    {
     "data": {
      "text/plain": [
       "1605.7814764784307"
      ]
     },
     "execution_count": 26,
     "metadata": {},
     "output_type": "execute_result"
    }
   ],
   "source": [
    "sonuç = para * 1.07 ** 7\n",
    "\n",
    "sonuç"
   ]
  },
  {
   "cell_type": "code",
   "execution_count": 27,
   "id": "7664e35c",
   "metadata": {},
   "outputs": [],
   "source": [
    "city = \"Phoenix\""
   ]
  },
  {
   "cell_type": "code",
   "execution_count": 28,
   "id": "e48fa6b5",
   "metadata": {},
   "outputs": [
    {
     "data": {
      "text/plain": [
       "'i'"
      ]
     },
     "execution_count": 28,
     "metadata": {},
     "output_type": "execute_result"
    }
   ],
   "source": [
    "city[-2]"
   ]
  },
  {
   "cell_type": "code",
   "execution_count": 29,
   "id": "2c4951f6",
   "metadata": {},
   "outputs": [
    {
     "data": {
      "text/plain": [
       "'i'"
      ]
     },
     "execution_count": 29,
     "metadata": {},
     "output_type": "execute_result"
    }
   ],
   "source": [
    "city[5]"
   ]
  },
  {
   "cell_type": "code",
   "execution_count": 30,
   "id": "a862da23",
   "metadata": {},
   "outputs": [
    {
     "data": {
      "text/plain": [
       "'hoen'"
      ]
     },
     "execution_count": 30,
     "metadata": {},
     "output_type": "execute_result"
    }
   ],
   "source": [
    "city[1:5]"
   ]
  },
  {
   "cell_type": "code",
   "execution_count": 31,
   "id": "591ccbff",
   "metadata": {},
   "outputs": [
    {
     "data": {
      "text/plain": [
       "'hoen'"
      ]
     },
     "execution_count": 31,
     "metadata": {},
     "output_type": "execute_result"
    }
   ],
   "source": [
    "city[-6:-2]"
   ]
  },
  {
   "cell_type": "code",
   "execution_count": 32,
   "id": "75e948c0",
   "metadata": {},
   "outputs": [
    {
     "data": {
      "text/plain": [
       "'hoen'"
      ]
     },
     "execution_count": 32,
     "metadata": {},
     "output_type": "execute_result"
    }
   ],
   "source": [
    "city[1:-2]"
   ]
  },
  {
   "cell_type": "code",
   "execution_count": 33,
   "id": "e1d9f816",
   "metadata": {},
   "outputs": [
    {
     "data": {
      "text/plain": [
       "'hoen'"
      ]
     },
     "execution_count": 33,
     "metadata": {},
     "output_type": "execute_result"
    }
   ],
   "source": [
    "city[-6:5]"
   ]
  },
  {
   "cell_type": "code",
   "execution_count": 34,
   "id": "f66a870d",
   "metadata": {},
   "outputs": [
    {
     "data": {
      "text/plain": [
       "'Phoe'"
      ]
     },
     "execution_count": 34,
     "metadata": {},
     "output_type": "execute_result"
    }
   ],
   "source": [
    "city[-7:4]"
   ]
  },
  {
   "cell_type": "code",
   "execution_count": 35,
   "id": "074ac4ae",
   "metadata": {},
   "outputs": [],
   "source": [
    "city = \"Phoenix\""
   ]
  },
  {
   "cell_type": "code",
   "execution_count": 36,
   "id": "91a4bb62",
   "metadata": {},
   "outputs": [
    {
     "data": {
      "text/plain": [
       "'xineohP'"
      ]
     },
     "execution_count": 36,
     "metadata": {},
     "output_type": "execute_result"
    }
   ],
   "source": [
    "city[::-1]"
   ]
  },
  {
   "cell_type": "code",
   "execution_count": 37,
   "id": "8f252233",
   "metadata": {},
   "outputs": [
    {
     "data": {
      "text/plain": [
       "''"
      ]
     },
     "execution_count": 37,
     "metadata": {},
     "output_type": "execute_result"
    }
   ],
   "source": [
    "city[-2:-6]"
   ]
  },
  {
   "cell_type": "code",
   "execution_count": 38,
   "id": "82d3f458",
   "metadata": {},
   "outputs": [
    {
     "data": {
      "text/plain": [
       "'ineo'"
      ]
     },
     "execution_count": 38,
     "metadata": {},
     "output_type": "execute_result"
    }
   ],
   "source": [
    "city[-2:-6:-1]"
   ]
  },
  {
   "cell_type": "code",
   "execution_count": null,
   "id": "aa0f1a85",
   "metadata": {},
   "outputs": [],
   "source": [
    "city[2:6:-1]"
   ]
  },
  {
   "cell_type": "code",
   "execution_count": 39,
   "id": "997bf5bf",
   "metadata": {},
   "outputs": [
    {
     "data": {
      "text/plain": [
       "'Phoenix'"
      ]
     },
     "execution_count": 39,
     "metadata": {},
     "output_type": "execute_result"
    }
   ],
   "source": [
    "city"
   ]
  },
  {
   "cell_type": "code",
   "execution_count": 40,
   "id": "dea26576",
   "metadata": {},
   "outputs": [
    {
     "data": {
      "text/plain": [
       "7"
      ]
     },
     "execution_count": 40,
     "metadata": {},
     "output_type": "execute_result"
    }
   ],
   "source": [
    "len(city)"
   ]
  },
  {
   "cell_type": "code",
   "execution_count": 41,
   "id": "5e9e7b70",
   "metadata": {},
   "outputs": [
    {
     "data": {
      "text/plain": [
       "3"
      ]
     },
     "execution_count": 41,
     "metadata": {},
     "output_type": "execute_result"
    }
   ],
   "source": [
    "len(\"321\")"
   ]
  },
  {
   "cell_type": "code",
   "execution_count": 42,
   "id": "01c988cc",
   "metadata": {},
   "outputs": [
    {
     "data": {
      "text/plain": [
       "1"
      ]
     },
     "execution_count": 42,
     "metadata": {},
     "output_type": "execute_result"
    }
   ],
   "source": [
    "len(\"0\")"
   ]
  },
  {
   "cell_type": "code",
   "execution_count": 43,
   "id": "b7640d62",
   "metadata": {},
   "outputs": [
    {
     "data": {
      "text/plain": [
       "3"
      ]
     },
     "execution_count": 43,
     "metadata": {},
     "output_type": "execute_result"
    }
   ],
   "source": [
    "len(\"1 1\")"
   ]
  },
  {
   "cell_type": "code",
   "execution_count": 44,
   "id": "36f1e7d9",
   "metadata": {},
   "outputs": [
    {
     "ename": "TypeError",
     "evalue": "object of type 'int' has no len()",
     "output_type": "error",
     "traceback": [
      "\u001b[1;31m---------------------------------------------------------------------------\u001b[0m",
      "\u001b[1;31mTypeError\u001b[0m                                 Traceback (most recent call last)",
      "Input \u001b[1;32mIn [44]\u001b[0m, in \u001b[0;36m<cell line: 1>\u001b[1;34m()\u001b[0m\n\u001b[1;32m----> 1\u001b[0m \u001b[38;5;28;43mlen\u001b[39;49m\u001b[43m(\u001b[49m\u001b[38;5;241;43m111\u001b[39;49m\u001b[43m)\u001b[49m\n",
      "\u001b[1;31mTypeError\u001b[0m: object of type 'int' has no len()"
     ]
    }
   ],
   "source": [
    "len(111)"
   ]
  },
  {
   "cell_type": "code",
   "execution_count": 45,
   "id": "e42cf10a",
   "metadata": {},
   "outputs": [
    {
     "data": {
      "text/plain": [
       "'121121'"
      ]
     },
     "execution_count": 45,
     "metadata": {},
     "output_type": "execute_result"
    }
   ],
   "source": [
    "sonuç = str((5 + 6) ** 2) + \"121\"\n",
    "sonuç"
   ]
  },
  {
   "cell_type": "code",
   "execution_count": 46,
   "id": "e68d442a",
   "metadata": {},
   "outputs": [
    {
     "data": {
      "text/plain": [
       "'alideliveli'"
      ]
     },
     "execution_count": 46,
     "metadata": {},
     "output_type": "execute_result"
    }
   ],
   "source": [
    "\"ali\" + \"deli\" + \"veli\""
   ]
  },
  {
   "cell_type": "code",
   "execution_count": 47,
   "id": "fd5842bb",
   "metadata": {},
   "outputs": [
    {
     "data": {
      "text/plain": [
       "'ali deli veli'"
      ]
     },
     "execution_count": 47,
     "metadata": {},
     "output_type": "execute_result"
    }
   ],
   "source": [
    "\"ali \" + \"deli \" + \"veli\""
   ]
  },
  {
   "cell_type": "code",
   "execution_count": 48,
   "id": "47c6f52d",
   "metadata": {},
   "outputs": [
    {
     "data": {
      "text/plain": [
       "'100500001'"
      ]
     },
     "execution_count": 48,
     "metadata": {},
     "output_type": "execute_result"
    }
   ],
   "source": [
    "\"100\" + \"500\" + \"001\""
   ]
  },
  {
   "cell_type": "code",
   "execution_count": 49,
   "id": "af2f9ba9",
   "metadata": {},
   "outputs": [
    {
     "data": {
      "text/plain": [
       "'121121'"
      ]
     },
     "execution_count": 49,
     "metadata": {},
     "output_type": "execute_result"
    }
   ],
   "source": [
    "sonuç"
   ]
  },
  {
   "cell_type": "code",
   "execution_count": null,
   "id": "d39ae7c8",
   "metadata": {},
   "outputs": [],
   "source": [
    "sonuç = (sonuç + sonuç) * 2"
   ]
  },
  {
   "cell_type": "code",
   "execution_count": 50,
   "id": "b29e1b9d",
   "metadata": {},
   "outputs": [
    {
     "data": {
      "text/plain": [
       "'alialiali'"
      ]
     },
     "execution_count": 50,
     "metadata": {},
     "output_type": "execute_result"
    }
   ],
   "source": [
    "\"ali\" * 3"
   ]
  },
  {
   "cell_type": "code",
   "execution_count": 51,
   "id": "69fff99b",
   "metadata": {},
   "outputs": [
    {
     "data": {
      "text/plain": [
       "'veliveliveli'"
      ]
     },
     "execution_count": 51,
     "metadata": {},
     "output_type": "execute_result"
    }
   ],
   "source": [
    "3 * \"veli\""
   ]
  },
  {
   "cell_type": "code",
   "execution_count": 52,
   "id": "ee52cdda",
   "metadata": {},
   "outputs": [
    {
     "data": {
      "text/plain": [
       "'upper-upper-upper-'"
      ]
     },
     "execution_count": 52,
     "metadata": {},
     "output_type": "execute_result"
    }
   ],
   "source": [
    "\"upper-\" * 3"
   ]
  },
  {
   "cell_type": "code",
   "execution_count": 54,
   "id": "eb82a794",
   "metadata": {},
   "outputs": [
    {
     "data": {
      "text/plain": [
       "'upper-upper-upper-'"
      ]
     },
     "execution_count": 54,
     "metadata": {},
     "output_type": "execute_result"
    }
   ],
   "source": [
    "3 * \"upper-\""
   ]
  },
  {
   "cell_type": "code",
   "execution_count": 55,
   "id": "4914d209",
   "metadata": {},
   "outputs": [
    {
     "name": "stdout",
     "output_type": "stream",
     "text": [
      "u p p e r\n"
     ]
    }
   ],
   "source": [
    "print(* \"upper\")"
   ]
  },
  {
   "cell_type": "code",
   "execution_count": 57,
   "id": "4b9a27d3",
   "metadata": {},
   "outputs": [
    {
     "name": "stdout",
     "output_type": "stream",
     "text": [
      "c l a r u s w a y\n"
     ]
    }
   ],
   "source": [
    "print(* \"clarusway\")"
   ]
  },
  {
   "cell_type": "code",
   "execution_count": 58,
   "id": "e3e3cec3",
   "metadata": {},
   "outputs": [
    {
     "data": {
      "text/plain": [
       "'11'"
      ]
     },
     "execution_count": 58,
     "metadata": {},
     "output_type": "execute_result"
    }
   ],
   "source": [
    "\"1\" + \"1\""
   ]
  },
  {
   "cell_type": "code",
   "execution_count": 60,
   "id": "bc13bb0b",
   "metadata": {},
   "outputs": [
    {
     "data": {
      "text/plain": [
       "2"
      ]
     },
     "execution_count": 60,
     "metadata": {},
     "output_type": "execute_result"
    }
   ],
   "source": [
    "1 + 1"
   ]
  },
  {
   "cell_type": "code",
   "execution_count": 59,
   "id": "d21e440a",
   "metadata": {},
   "outputs": [
    {
     "ename": "TypeError",
     "evalue": "unsupported operand type(s) for +: 'int' and 'str'",
     "output_type": "error",
     "traceback": [
      "\u001b[1;31m---------------------------------------------------------------------------\u001b[0m",
      "\u001b[1;31mTypeError\u001b[0m                                 Traceback (most recent call last)",
      "Input \u001b[1;32mIn [59]\u001b[0m, in \u001b[0;36m<cell line: 1>\u001b[1;34m()\u001b[0m\n\u001b[1;32m----> 1\u001b[0m \u001b[38;5;241;43m1\u001b[39;49m\u001b[43m \u001b[49m\u001b[38;5;241;43m+\u001b[39;49m\u001b[43m \u001b[49m\u001b[38;5;124;43m\"\u001b[39;49m\u001b[38;5;124;43m1\u001b[39;49m\u001b[38;5;124;43m\"\u001b[39;49m\n",
      "\u001b[1;31mTypeError\u001b[0m: unsupported operand type(s) for +: 'int' and 'str'"
     ]
    }
   ],
   "source": [
    "1 + \"1\""
   ]
  },
  {
   "cell_type": "code",
   "execution_count": 61,
   "id": "eddd4da8",
   "metadata": {},
   "outputs": [
    {
     "name": "stdout",
     "output_type": "stream",
     "text": [
      "I   a m   a n g r y\n"
     ]
    }
   ],
   "source": [
    "string_1 = \"I am angry\"\n",
    "print(* string_1)"
   ]
  },
  {
   "cell_type": "code",
   "execution_count": 62,
   "id": "571e998f",
   "metadata": {},
   "outputs": [
    {
     "name": "stdout",
     "output_type": "stream",
     "text": [
      "j o s e p h @ c l a r u s w a y . c o m\n"
     ]
    }
   ],
   "source": [
    "print(* \"joseph@clarusway.com\")"
   ]
  },
  {
   "cell_type": "code",
   "execution_count": 63,
   "id": "1a435980",
   "metadata": {},
   "outputs": [
    {
     "data": {
      "text/plain": [
       "1"
      ]
     },
     "execution_count": 63,
     "metadata": {},
     "output_type": "execute_result"
    }
   ],
   "source": [
    "len(\" \")"
   ]
  },
  {
   "cell_type": "code",
   "execution_count": 64,
   "id": "c3685e8c",
   "metadata": {},
   "outputs": [
    {
     "data": {
      "text/plain": [
       "2"
      ]
     },
     "execution_count": 64,
     "metadata": {},
     "output_type": "execute_result"
    }
   ],
   "source": [
    "len(\"  \")"
   ]
  },
  {
   "cell_type": "code",
   "execution_count": 65,
   "id": "61074ffd",
   "metadata": {},
   "outputs": [
    {
     "data": {
      "text/plain": [
       "7"
      ]
     },
     "execution_count": 65,
     "metadata": {},
     "output_type": "execute_result"
    }
   ],
   "source": [
    "var = \"  abc  \"\n",
    "len(var)"
   ]
  },
  {
   "cell_type": "code",
   "execution_count": 68,
   "id": "096e89da",
   "metadata": {},
   "outputs": [],
   "source": [
    "a = \"ali\"\n",
    "b = \"deli\""
   ]
  },
  {
   "cell_type": "code",
   "execution_count": 69,
   "id": "e2a824ac",
   "metadata": {},
   "outputs": [
    {
     "data": {
      "text/plain": [
       "'alideli'"
      ]
     },
     "execution_count": 69,
     "metadata": {},
     "output_type": "execute_result"
    }
   ],
   "source": [
    "a = a + b\n",
    ":a"
   ]
  },
  {
   "cell_type": "code",
   "execution_count": null,
   "id": "5e60021e",
   "metadata": {},
   "outputs": [],
   "source": [
    "a += b\n"
   ]
  },
  {
   "cell_type": "code",
   "execution_count": 70,
   "id": "89fafa45",
   "metadata": {},
   "outputs": [],
   "source": [
    "okul = \"clarus\""
   ]
  },
  {
   "cell_type": "code",
   "execution_count": 71,
   "id": "ffb23f77",
   "metadata": {},
   "outputs": [],
   "source": [
    "okul += \"way\""
   ]
  },
  {
   "cell_type": "code",
   "execution_count": 72,
   "id": "76f7d51c",
   "metadata": {},
   "outputs": [
    {
     "data": {
      "text/plain": [
       "'clarusway'"
      ]
     },
     "execution_count": 72,
     "metadata": {},
     "output_type": "execute_result"
    }
   ],
   "source": [
    "okul"
   ]
  },
  {
   "cell_type": "code",
   "execution_count": null,
   "id": "3ac57488",
   "metadata": {},
   "outputs": [],
   "source": [
    "\"metodlar\".format()"
   ]
  },
  {
   "cell_type": "code",
   "execution_count": 73,
   "id": "a3be71f0",
   "metadata": {},
   "outputs": [],
   "source": [
    "saat = \"05:00\"\n",
    "yer = \"okul\"\n",
    "miktar = 3"
   ]
  },
  {
   "cell_type": "code",
   "execution_count": 74,
   "id": "f3bda06b",
   "metadata": {},
   "outputs": [
    {
     "data": {
      "text/plain": [
       "\"Ben sabah 05:00 de uyandım. okul'e gittim. Gelirken de 3 kg. elma aldım.\""
      ]
     },
     "execution_count": 74,
     "metadata": {},
     "output_type": "execute_result"
    }
   ],
   "source": [
    "\"Ben sabah {} de uyandım. {}'e gittim. Gelirken de {} kg. elma aldım.\".format(saat, yer, miktar)"
   ]
  },
  {
   "cell_type": "code",
   "execution_count": 75,
   "id": "853e0133",
   "metadata": {},
   "outputs": [
    {
     "data": {
      "text/plain": [
       "\"Ben sabah 05:00 de uyandım. okul'e gittim. Gelirken de 3 kg. elma aldım.\""
      ]
     },
     "execution_count": 75,
     "metadata": {},
     "output_type": "execute_result"
    }
   ],
   "source": [
    "\"Ben sabah {} de uyandım. {}'e gittim. Gelirken de {} kg. elma aldım.\".format(\"05:00\", \"okul\", 3)"
   ]
  },
  {
   "cell_type": "code",
   "execution_count": 76,
   "id": "6d496bfe",
   "metadata": {},
   "outputs": [
    {
     "data": {
      "text/plain": [
       "\"Ben sabah 05:00 de uyandım. okul'e gittim. Gelirken de 3 kg. elma aldım.\""
      ]
     },
     "execution_count": 76,
     "metadata": {},
     "output_type": "execute_result"
    }
   ],
   "source": [
    "\"Ben sabah {saat} de uyandım. {yer}'e gittim. Gelirken de {miktar} kg. elma aldım.\".format(yer = \"okul\", miktar = 3, saat = \"05:00\")"
   ]
  },
  {
   "cell_type": "code",
   "execution_count": 80,
   "id": "3f766782",
   "metadata": {},
   "outputs": [
    {
     "data": {
      "text/plain": [
       "\"Ben sabah 05:00 de uyandım. okul'e gittim. Gelirken de 3 kg. elma aldım.\""
      ]
     },
     "execution_count": 80,
     "metadata": {},
     "output_type": "execute_result"
    }
   ],
   "source": [
    "\"Ben sabah {2} de uyandım. {0}'e gittim. Gelirken de {1} kg. elma aldım.\".format(\"okul\", 3, \"05:00\")"
   ]
  },
  {
   "cell_type": "code",
   "execution_count": null,
   "id": "2b841b8f",
   "metadata": {},
   "outputs": [],
   "source": []
  },
  {
   "cell_type": "code",
   "execution_count": null,
   "id": "d691d84a",
   "metadata": {},
   "outputs": [],
   "source": []
  },
  {
   "cell_type": "code",
   "execution_count": null,
   "id": "c79afc9d",
   "metadata": {},
   "outputs": [],
   "source": []
  }
 ],
 "metadata": {
  "kernelspec": {
   "display_name": "Python 3 (ipykernel)",
   "language": "python",
   "name": "python3"
  },
  "language_info": {
   "codemirror_mode": {
    "name": "ipython",
    "version": 3
   },
   "file_extension": ".py",
   "mimetype": "text/x-python",
   "name": "python",
   "nbconvert_exporter": "python",
   "pygments_lexer": "ipython3",
   "version": "3.9.11"
  }
 },
 "nbformat": 4,
 "nbformat_minor": 5
}
