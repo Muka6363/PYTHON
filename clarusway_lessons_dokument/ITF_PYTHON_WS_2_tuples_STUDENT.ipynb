{
 "cells": [
  {
   "cell_type": "markdown",
   "metadata": {},
   "source": [
    "<p>Given the code below, use the correct method on line 3 in order to find out the number of elements in <strong>my_tup</strong>.</p>"
   ]
  },
  {
   "cell_type": "code",
   "execution_count": 1,
   "metadata": {},
   "outputs": [
    {
     "name": "stdout",
     "output_type": "stream",
     "text": [
      "7\n"
     ]
    }
   ],
   "source": [
    "my_tup = (\"Romania\", \"Poland\", \"Estonia\", \"Bulgaria\", \"Slovakia\", \"Slovenia\", \"Hungary\")\n",
    "\n",
    "number = len(my_tup)\n",
    "\n",
    "print(number)"
   ]
  },
  {
   "cell_type": "markdown",
   "metadata": {},
   "source": [
    "<p>Given the code below, use the correct method on line 3 in order to find out the index of <strong>Slovakia </strong>in <strong>my_tup</strong>.</p>"
   ]
  },
  {
   "cell_type": "code",
   "execution_count": 2,
   "metadata": {},
   "outputs": [
    {
     "name": "stdout",
     "output_type": "stream",
     "text": [
      "Slovakia\n"
     ]
    }
   ],
   "source": [
    "my_tup = (\"Romania\", \"Poland\", \"Estonia\", \"Bulgaria\", \"Slovakia\", \"Slovenia\", \"Hungary\")\n",
    "\n",
    "index = my_tup[4]\n",
    "print(index)"
   ]
  },
  {
   "cell_type": "markdown",
   "metadata": {},
   "source": [
    "<p>Given the code below, write code in order to perform tuple assignment on line 3 and obtain the results below.</p>"
   ]
  },
  {
   "cell_type": "code",
   "execution_count": 3,
   "metadata": {},
   "outputs": [
    {
     "name": "stdout",
     "output_type": "stream",
     "text": [
      "romania, poland, estonia\n"
     ]
    },
    {
     "ename": "NameError",
     "evalue": "name 'ro' is not defined",
     "output_type": "error",
     "traceback": [
      "\u001b[1;31m---------------------------------------------------------------------------\u001b[0m",
      "\u001b[1;31mNameError\u001b[0m                                 Traceback (most recent call last)",
      "\u001b[1;32mc:\\Users\\User\\Downloads\\ITF_PYTHON_WS_2_tuples_STUDENT.ipynb Cell 6'\u001b[0m in \u001b[0;36m<module>\u001b[1;34m\u001b[0m\n\u001b[0;32m      <a href='vscode-notebook-cell:/c%3A/Users/User/Downloads/ITF_PYTHON_WS_2_tuples_STUDENT.ipynb#ch0000006?line=3'>4</a>\u001b[0m z \u001b[39m=\u001b[39m my_tup[\u001b[39m2\u001b[39m][\u001b[39m2\u001b[39m:] \n\u001b[0;32m      <a href='vscode-notebook-cell:/c%3A/Users/User/Downloads/ITF_PYTHON_WS_2_tuples_STUDENT.ipynb#ch0000006?line=5'>6</a>\u001b[0m \u001b[39mprint\u001b[39m(\u001b[39m'\u001b[39m\u001b[39mro\u001b[39m\u001b[39m'\u001b[39m \u001b[39m+\u001b[39m x \u001b[39m+\u001b[39m \u001b[39m\"\u001b[39m\u001b[39m, \u001b[39m\u001b[39m\"\u001b[39m \u001b[39m+\u001b[39m \u001b[39m'\u001b[39m\u001b[39mpo\u001b[39m\u001b[39m'\u001b[39m \u001b[39m+\u001b[39m y \u001b[39m+\u001b[39m \u001b[39m'\u001b[39m\u001b[39m, \u001b[39m\u001b[39m'\u001b[39m \u001b[39m+\u001b[39m \u001b[39m'\u001b[39m\u001b[39mes\u001b[39m\u001b[39m'\u001b[39m \u001b[39m+\u001b[39m z) \u001b[39m#returns 'Romania, Poland, Estonia'\u001b[39;00m\n\u001b[1;32m----> <a href='vscode-notebook-cell:/c%3A/Users/User/Downloads/ITF_PYTHON_WS_2_tuples_STUDENT.ipynb#ch0000006?line=7'>8</a>\u001b[0m \u001b[39mprint\u001b[39m(ro \u001b[39m+\u001b[39m \u001b[39m\"\u001b[39m\u001b[39m, \u001b[39m\u001b[39m\"\u001b[39m \u001b[39m+\u001b[39m po \u001b[39m+\u001b[39m \u001b[39m\"\u001b[39m\u001b[39m, \u001b[39m\u001b[39m\"\u001b[39m \u001b[39m+\u001b[39m es)\n",
      "\u001b[1;31mNameError\u001b[0m: name 'ro' is not defined"
     ]
    }
   ],
   "source": [
    "my_tup = (\"Romania\", \"Poland\", \"Estonia\")\n",
    "x = my_tup[0][2:]\n",
    "y = my_tup[1][2:]\n",
    "z = my_tup[2][2:] \n",
    "\n",
    "print('ro' + x + \", \" + 'po' + y + ', ' + 'es' + z) #returns 'Romania, Poland, Estonia'\n",
    "\n",
    "print(ro + \", \" + po + \", \" + es) #returns 'Romania, Poland, Estonia'"
   ]
  },
  {
   "cell_type": "markdown",
   "metadata": {},
   "source": []
  },
  {
   "cell_type": "markdown",
   "metadata": {},
   "source": [
    "<p>Given the code below, use the correct method on line 3 in order to find out the last element of <strong>my_tup</strong> in alphabetical order.</p>"
   ]
  },
  {
   "cell_type": "code",
   "execution_count": 4,
   "metadata": {},
   "outputs": [
    {
     "name": "stdout",
     "output_type": "stream",
     "text": [
      "Slovenia\n",
      "['Bulgaria', 'Estonia', 'Hungary', 'Poland', 'Romania', 'Slovakia', 'Slovenia']\n"
     ]
    }
   ],
   "source": [
    "my_tup = (\"Romania\", \"Poland\", \"Estonia\", \"Bulgaria\", \"Slovakia\", \"Slovenia\", \"Hungary\")\n",
    "\n",
    "last = list(my_tup)\n",
    "last.sort()\n",
    "print(last[-1])\n",
    "\n",
    "print(last) #should return Slovenia"
   ]
  },
  {
   "cell_type": "markdown",
   "metadata": {},
   "source": [
    "<p>Given the code below, use the correct method on line 3 in order to find out the number of occurrences of <strong>Estonia </strong>in <strong>my_tup</strong>.</p>"
   ]
  },
  {
   "cell_type": "code",
   "execution_count": 5,
   "metadata": {},
   "outputs": [
    {
     "name": "stdout",
     "output_type": "stream",
     "text": [
      "2\n"
     ]
    }
   ],
   "source": [
    "my_tup = (\"Romania\", \"Poland\", \"Estonia\", \"Bulgaria\", \"Slovakia\", \"Slovenia\", \"Estonia\", \"Romania\", \"Hungary\", \"Slovenia\")\n",
    "\n",
    "number = my_tup.count(\"Estonia\")\n",
    "\n",
    "print(number)"
   ]
  },
  {
   "cell_type": "markdown",
   "metadata": {},
   "source": [
    "<p>Given the code below, use the correct slice on line 3 in order to return all the elements of <strong>my_tup</strong>, except the first two of them, using a negative index.</p>"
   ]
  },
  {
   "cell_type": "code",
   "execution_count": 6,
   "metadata": {},
   "outputs": [
    {
     "name": "stdout",
     "output_type": "stream",
     "text": [
      "('Slovakia', 'Bulgaria', 'Estonia', 'Poland', 'Romania')\n"
     ]
    }
   ],
   "source": [
    "my_tup = (\"Romania\", \"Poland\", \"Estonia\", \"Bulgaria\", \"Slovakia\", \"Slovenia\", \"Hungary\")\n",
    "\n",
    "my_slice = my_tup[-3::-1]\n",
    "\n",
    "print(my_slice)"
   ]
  },
  {
   "cell_type": "markdown",
   "metadata": {},
   "source": [
    "<p>Given the code below, use the correct slice on line 3 in order to return all the elements of <strong>my_tup</strong>, except the last three of them, using a negative index.</p>"
   ]
  },
  {
   "cell_type": "code",
   "execution_count": 7,
   "metadata": {},
   "outputs": [
    {
     "name": "stdout",
     "output_type": "stream",
     "text": [
      "('Hungary', 'Slovenia', 'Slovakia', 'Bulgaria')\n"
     ]
    }
   ],
   "source": [
    "my_tup = (\"Romania\", \"Poland\", \"Estonia\", \"Bulgaria\", \"Slovakia\", \"Slovenia\", \"Hungary\")\n",
    "\n",
    "my_slice = my_tup[-1:-5:-1]\n",
    "\n",
    "print(my_slice)"
   ]
  },
  {
   "cell_type": "markdown",
   "metadata": {},
   "source": [
    "<p>Given the code below, use the correct slice on line 3 in order to return all the elements of <strong>my_tup</strong>, except the first three of them, using a positive index.</p>"
   ]
  },
  {
   "cell_type": "code",
   "execution_count": 8,
   "metadata": {},
   "outputs": [
    {
     "name": "stdout",
     "output_type": "stream",
     "text": [
      "('Bulgaria', 'Slovakia', 'Slovenia', 'Hungary')\n"
     ]
    }
   ],
   "source": [
    "my_tup = (\"Romania\", \"Poland\", \"Estonia\", \"Bulgaria\", \"Slovakia\", \"Slovenia\", \"Hungary\")\n",
    "\n",
    "my_slice =  my_tup[3:]\n",
    "\n",
    "print(my_slice)"
   ]
  },
  {
   "cell_type": "markdown",
   "metadata": {},
   "source": [
    "<p>Given the code below, use the correct slice on line 3 in order to return all the elements of <strong>my_tup</strong>, except the last two of them, using a positive index.</p>"
   ]
  },
  {
   "cell_type": "code",
   "execution_count": 9,
   "metadata": {},
   "outputs": [
    {
     "name": "stdout",
     "output_type": "stream",
     "text": [
      "('Romania', 'Poland', 'Estonia', 'Bulgaria', 'Slovakia')\n"
     ]
    }
   ],
   "source": [
    "my_tup = (\"Romania\", \"Poland\", \"Estonia\", \"Bulgaria\", \"Slovakia\", \"Slovenia\", \"Hungary\")\n",
    "\n",
    "my_slice = my_slice = my_tup[:5]\n",
    "\n",
    "print(my_slice)"
   ]
  }
 ],
 "metadata": {
  "interpreter": {
   "hash": "afb734500600fd355917ca529030176ea0ca205570884b88f2f6f7d791fd3fbe"
  },
  "kernelspec": {
   "display_name": "Python 3.10.4 64-bit",
   "language": "python",
   "name": "python3"
  },
  "language_info": {
   "codemirror_mode": {
    "name": "ipython",
    "version": 3
   },
   "file_extension": ".py",
   "mimetype": "text/x-python",
   "name": "python",
   "nbconvert_exporter": "python",
   "pygments_lexer": "ipython3",
   "version": "3.10.4"
  },
  "orig_nbformat": 4
 },
 "nbformat": 4,
 "nbformat_minor": 2
}
