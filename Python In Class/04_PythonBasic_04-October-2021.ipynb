{
 "cells": [
  {
   "cell_type": "markdown",
   "id": "406f2981",
   "metadata": {},
   "source": [
    "<img src=\"https://docs.google.com/uc?id=14xeXxFrVRjvOoUYWn_GuyE-v84wVzrqr\" class=\"img-fluid\" alt=\"CLRWY\" width=\"400\" height=\"200\">"
   ]
  },
  {
   "cell_type": "markdown",
   "id": "22263af8",
   "metadata": {},
   "source": [
    "<h1><p style=\"text-align: center; color:darkblue\">Python In-Class, <br>04 October 2021</p><h1>"
   ]
  },
  {
   "cell_type": "code",
   "execution_count": 1,
   "id": "b7344835",
   "metadata": {},
   "outputs": [
    {
     "data": {
      "text/plain": [
       "False"
      ]
     },
     "execution_count": 1,
     "metadata": {},
     "output_type": "execute_result"
    }
   ],
   "source": [
    "bool(None)"
   ]
  },
  {
   "cell_type": "code",
   "execution_count": 2,
   "id": "4ef2d5ba",
   "metadata": {},
   "outputs": [
    {
     "data": {
      "text/plain": [
       "True"
      ]
     },
     "execution_count": 2,
     "metadata": {},
     "output_type": "execute_result"
    }
   ],
   "source": [
    "bool(\"0\")"
   ]
  },
  {
   "cell_type": "code",
   "execution_count": 3,
   "id": "6ad5bf61",
   "metadata": {},
   "outputs": [
    {
     "data": {
      "text/plain": [
       "False"
      ]
     },
     "execution_count": 3,
     "metadata": {},
     "output_type": "execute_result"
    }
   ],
   "source": [
    "bool(\"\")"
   ]
  },
  {
   "cell_type": "code",
   "execution_count": 4,
   "id": "22e49b3c",
   "metadata": {},
   "outputs": [
    {
     "data": {
      "text/plain": [
       "False"
      ]
     },
     "execution_count": 4,
     "metadata": {},
     "output_type": "execute_result"
    }
   ],
   "source": [
    "bool([])"
   ]
  },
  {
   "cell_type": "code",
   "execution_count": 5,
   "id": "afca9fd1",
   "metadata": {},
   "outputs": [
    {
     "data": {
      "text/plain": [
       "False"
      ]
     },
     "execution_count": 5,
     "metadata": {},
     "output_type": "execute_result"
    }
   ],
   "source": [
    "bool(0)"
   ]
  },
  {
   "cell_type": "code",
   "execution_count": 6,
   "id": "e3c7ff13",
   "metadata": {},
   "outputs": [
    {
     "data": {
      "text/plain": [
       "True"
      ]
     },
     "execution_count": 6,
     "metadata": {},
     "output_type": "execute_result"
    }
   ],
   "source": [
    "bool(1)"
   ]
  },
  {
   "cell_type": "code",
   "execution_count": 7,
   "id": "329df729",
   "metadata": {},
   "outputs": [
    {
     "data": {
      "text/plain": [
       "''"
      ]
     },
     "execution_count": 7,
     "metadata": {},
     "output_type": "execute_result"
    }
   ],
   "source": [
    "\"\" and 0"
   ]
  },
  {
   "cell_type": "code",
   "execution_count": null,
   "id": "d743c9e6",
   "metadata": {},
   "outputs": [],
   "source": [
    "False\n",
    "True"
   ]
  },
  {
   "cell_type": "code",
   "execution_count": 8,
   "id": "6b2e95be",
   "metadata": {},
   "outputs": [
    {
     "name": "stdout",
     "output_type": "stream",
     "text": [
      "2\n",
      "be happy!\n",
      "()\n",
      "0\n",
      "{0}\n"
     ]
    }
   ],
   "source": [
    "print(2 or \"hello world\")\n",
    "print([] or \"be happy!\")\n",
    "print(None or ())\n",
    "print({} or 0)\n",
    "print({0} or False)\n"
   ]
  },
  {
   "cell_type": "markdown",
   "id": "e2011d8e",
   "metadata": {},
   "source": [
    "<img src=\"https://docs.google.com/uc?id=13AS6ODcLqyASHwgDhX8JidRguGeIoun2\" class=\"img-fluid\" alt=\"dolma\" width=\"400\" height=\"400\">"
   ]
  },
  {
   "cell_type": "markdown",
   "id": "b75dfe57",
   "metadata": {},
   "source": [
    "- Kadayıf\n",
    "- İç\n",
    "  - Ceviz\n",
    "  - Fındık\n",
    "  - Fıstık\n",
    "- Şerbet\n",
    "  - Su\n",
    "  - Şeker\n",
    "- Yumurta"
   ]
  },
  {
   "cell_type": "code",
   "execution_count": 16,
   "id": "c86f905a",
   "metadata": {},
   "outputs": [
    {
     "data": {
      "text/plain": [
       "True"
      ]
     },
     "execution_count": 16,
     "metadata": {},
     "output_type": "execute_result"
    }
   ],
   "source": [
    "kadayıf = True\n",
    "\n",
    "# iç\n",
    "fındık = False\n",
    "fıstık = True\n",
    "ceviz = False\n",
    "\n",
    "# şerbet\n",
    "su = True\n",
    "şeker = True\n",
    "\n",
    "yumurta = True\n",
    "\n",
    "# içecek\n",
    "\n",
    "cay = True\n",
    "meşrubat = True\n",
    "limonata = True\n",
    "\n",
    "yedim = kadayıf and (fındık or fıstık or ceviz) and (su and şeker) and yumurta and (cay or meşrubat or limonata)\n",
    "yedim"
   ]
  },
  {
   "cell_type": "code",
   "execution_count": 17,
   "id": "51744e95",
   "metadata": {},
   "outputs": [
    {
     "data": {
      "text/plain": [
       "'&% , ali veli deli-12345'"
      ]
     },
     "execution_count": 17,
     "metadata": {},
     "output_type": "execute_result"
    }
   ],
   "source": [
    "\"&% , ali veli deli-12345\""
   ]
  },
  {
   "cell_type": "code",
   "execution_count": 19,
   "id": "54a94f02",
   "metadata": {},
   "outputs": [
    {
     "data": {
      "text/plain": [
       "'s'"
      ]
     },
     "execution_count": 19,
     "metadata": {},
     "output_type": "execute_result"
    }
   ],
   "source": [
    "\"clarus\"[5]"
   ]
  },
  {
   "cell_type": "code",
   "execution_count": 20,
   "id": "45a453c3",
   "metadata": {},
   "outputs": [],
   "source": [
    "okul = \"clarus\""
   ]
  },
  {
   "cell_type": "code",
   "execution_count": 21,
   "id": "932dbcbb",
   "metadata": {},
   "outputs": [
    {
     "data": {
      "text/plain": [
       "'clarus'"
      ]
     },
     "execution_count": 21,
     "metadata": {},
     "output_type": "execute_result"
    }
   ],
   "source": [
    "okul"
   ]
  },
  {
   "cell_type": "code",
   "execution_count": 22,
   "id": "4150f438",
   "metadata": {},
   "outputs": [
    {
     "data": {
      "text/plain": [
       "'s'"
      ]
     },
     "execution_count": 22,
     "metadata": {},
     "output_type": "execute_result"
    }
   ],
   "source": [
    "okul[5]"
   ]
  },
  {
   "cell_type": "code",
   "execution_count": 23,
   "id": "713cba7b",
   "metadata": {},
   "outputs": [
    {
     "data": {
      "text/plain": [
       "'ar'"
      ]
     },
     "execution_count": 23,
     "metadata": {},
     "output_type": "execute_result"
    }
   ],
   "source": [
    "okul[2:4]"
   ]
  },
  {
   "cell_type": "code",
   "execution_count": 24,
   "id": "46fbc93b",
   "metadata": {},
   "outputs": [
    {
     "data": {
      "text/plain": [
       "'clarus'"
      ]
     },
     "execution_count": 24,
     "metadata": {},
     "output_type": "execute_result"
    }
   ],
   "source": [
    "okul"
   ]
  },
  {
   "cell_type": "code",
   "execution_count": 25,
   "id": "00d66a90",
   "metadata": {},
   "outputs": [
    {
     "data": {
      "text/plain": [
       "'clarus'"
      ]
     },
     "execution_count": 25,
     "metadata": {},
     "output_type": "execute_result"
    }
   ],
   "source": [
    "okul[:]"
   ]
  },
  {
   "cell_type": "code",
   "execution_count": 26,
   "id": "e32b295f",
   "metadata": {},
   "outputs": [],
   "source": [
    "kuş = \"phoenix\""
   ]
  },
  {
   "cell_type": "code",
   "execution_count": 27,
   "id": "b94d2194",
   "metadata": {},
   "outputs": [
    {
     "data": {
      "text/plain": [
       "'hoe'"
      ]
     },
     "execution_count": 27,
     "metadata": {},
     "output_type": "execute_result"
    }
   ],
   "source": [
    "kuş[1:4]"
   ]
  },
  {
   "cell_type": "code",
   "execution_count": 28,
   "id": "161711ce",
   "metadata": {},
   "outputs": [
    {
     "data": {
      "text/plain": [
       "'hoe'"
      ]
     },
     "execution_count": 28,
     "metadata": {},
     "output_type": "execute_result"
    }
   ],
   "source": [
    "kuş[-6:-3]"
   ]
  },
  {
   "cell_type": "code",
   "execution_count": 29,
   "id": "74fd2970",
   "metadata": {},
   "outputs": [
    {
     "data": {
      "text/plain": [
       "'hoe'"
      ]
     },
     "execution_count": 29,
     "metadata": {},
     "output_type": "execute_result"
    }
   ],
   "source": [
    "kuş[1:-3]"
   ]
  },
  {
   "cell_type": "code",
   "execution_count": 30,
   "id": "1866a981",
   "metadata": {},
   "outputs": [
    {
     "data": {
      "text/plain": [
       "'hoe'"
      ]
     },
     "execution_count": 30,
     "metadata": {},
     "output_type": "execute_result"
    }
   ],
   "source": [
    "kuş[-6:4]"
   ]
  },
  {
   "cell_type": "code",
   "execution_count": 31,
   "id": "c3667111",
   "metadata": {},
   "outputs": [
    {
     "ename": "TypeError",
     "evalue": "object of type 'int' has no len()",
     "output_type": "error",
     "traceback": [
      "\u001b[0;31m---------------------------------------------------------------------------\u001b[0m",
      "\u001b[0;31mTypeError\u001b[0m                                 Traceback (most recent call last)",
      "\u001b[0;32m<ipython-input-31-78f9f1414c1d>\u001b[0m in \u001b[0;36m<module>\u001b[0;34m\u001b[0m\n\u001b[0;32m----> 1\u001b[0;31m \u001b[0mlen\u001b[0m\u001b[0;34m(\u001b[0m\u001b[0;36m555\u001b[0m\u001b[0;34m)\u001b[0m\u001b[0;34m\u001b[0m\u001b[0;34m\u001b[0m\u001b[0m\n\u001b[0m",
      "\u001b[0;31mTypeError\u001b[0m: object of type 'int' has no len()"
     ]
    }
   ],
   "source": [
    "len(555)"
   ]
  },
  {
   "cell_type": "code",
   "execution_count": 32,
   "id": "d9d8ceb8",
   "metadata": {},
   "outputs": [
    {
     "data": {
      "text/plain": [
       "3"
      ]
     },
     "execution_count": 32,
     "metadata": {},
     "output_type": "execute_result"
    }
   ],
   "source": [
    "len(\"555\")"
   ]
  },
  {
   "cell_type": "code",
   "execution_count": 33,
   "id": "2a2b0613",
   "metadata": {},
   "outputs": [],
   "source": [
    "isim = \"clarusway okulu\""
   ]
  },
  {
   "cell_type": "code",
   "execution_count": 34,
   "id": "a1e7d7a1",
   "metadata": {},
   "outputs": [
    {
     "data": {
      "text/plain": [
       "'clarusway okulu'"
      ]
     },
     "execution_count": 34,
     "metadata": {},
     "output_type": "execute_result"
    }
   ],
   "source": [
    "isim"
   ]
  },
  {
   "cell_type": "code",
   "execution_count": 35,
   "id": "1405f5f2",
   "metadata": {},
   "outputs": [
    {
     "data": {
      "text/plain": [
       "'rusw'"
      ]
     },
     "execution_count": 35,
     "metadata": {},
     "output_type": "execute_result"
    }
   ],
   "source": [
    "isim[3:7]"
   ]
  },
  {
   "cell_type": "code",
   "execution_count": 36,
   "id": "10901b42",
   "metadata": {},
   "outputs": [
    {
     "data": {
      "text/plain": [
       "' '"
      ]
     },
     "execution_count": 36,
     "metadata": {},
     "output_type": "execute_result"
    }
   ],
   "source": [
    "isim[9]"
   ]
  },
  {
   "cell_type": "code",
   "execution_count": 37,
   "id": "039e3d46",
   "metadata": {},
   "outputs": [
    {
     "data": {
      "text/plain": [
       "'cauwyouu'"
      ]
     },
     "execution_count": 37,
     "metadata": {},
     "output_type": "execute_result"
    }
   ],
   "source": [
    "isim[::2]"
   ]
  },
  {
   "cell_type": "code",
   "execution_count": 38,
   "id": "c326e7b8",
   "metadata": {},
   "outputs": [
    {
     "data": {
      "text/plain": [
       "'clarusway okulu'"
      ]
     },
     "execution_count": 38,
     "metadata": {},
     "output_type": "execute_result"
    }
   ],
   "source": [
    "isim[::]"
   ]
  },
  {
   "cell_type": "code",
   "execution_count": 39,
   "id": "3db2591e",
   "metadata": {},
   "outputs": [
    {
     "data": {
      "text/plain": [
       "'uluko yawsuralc'"
      ]
     },
     "execution_count": 39,
     "metadata": {},
     "output_type": "execute_result"
    }
   ],
   "source": [
    "isim[::-1]"
   ]
  },
  {
   "cell_type": "code",
   "execution_count": 40,
   "id": "43370e7e",
   "metadata": {},
   "outputs": [
    {
     "data": {
      "text/plain": [
       "'rusway '"
      ]
     },
     "execution_count": 40,
     "metadata": {},
     "output_type": "execute_result"
    }
   ],
   "source": [
    "isim[-12:10]"
   ]
  },
  {
   "cell_type": "code",
   "execution_count": 41,
   "id": "36296279",
   "metadata": {},
   "outputs": [
    {
     "data": {
      "text/plain": [
       "''"
      ]
     },
     "execution_count": 41,
     "metadata": {},
     "output_type": "execute_result"
    }
   ],
   "source": [
    "isim[-12:-5:-1]"
   ]
  },
  {
   "cell_type": "code",
   "execution_count": 42,
   "id": "96f37782",
   "metadata": {},
   "outputs": [
    {
     "data": {
      "text/plain": [
       "'uko yaws'"
      ]
     },
     "execution_count": 42,
     "metadata": {},
     "output_type": "execute_result"
    }
   ],
   "source": [
    "isim[-3:-11:-1]"
   ]
  },
  {
   "cell_type": "code",
   "execution_count": null,
   "id": "2535c3ca",
   "metadata": {},
   "outputs": [],
   "source": []
  },
  {
   "cell_type": "code",
   "execution_count": null,
   "id": "60392413",
   "metadata": {},
   "outputs": [],
   "source": []
  }
 ],
 "metadata": {
  "kernelspec": {
   "display_name": "Python 3",
   "language": "python",
   "name": "python3"
  },
  "language_info": {
   "codemirror_mode": {
    "name": "ipython",
    "version": 3
   },
   "file_extension": ".py",
   "mimetype": "text/x-python",
   "name": "python",
   "nbconvert_exporter": "python",
   "pygments_lexer": "ipython3",
   "version": "3.8.8"
  }
 },
 "nbformat": 4,
 "nbformat_minor": 5
}
