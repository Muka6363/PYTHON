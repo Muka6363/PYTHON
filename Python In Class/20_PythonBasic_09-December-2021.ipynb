{
 "cells": [
  {
   "cell_type": "markdown",
   "id": "406f2981",
   "metadata": {},
   "source": [
    "<img src=\"https://docs.google.com/uc?id=14xeXxFrVRjvOoUYWn_GuyE-v84wVzrqr\" class=\"img-fluid\" alt=\"CLRWY\" width=\"400\" height=\"200\">"
   ]
  },
  {
   "cell_type": "markdown",
   "id": "22263af8",
   "metadata": {},
   "source": [
    "<h1><p style=\"text-align: center; color:darkblue\">Python In-Class, <br>09 December 2021</p><h1>"
   ]
  },
  {
   "cell_type": "markdown",
   "id": "7a2926f8",
   "metadata": {},
   "source": [
    "### show me my way, please! <img src=\"https://www.robotsepeti.com/nao-insansi-robot-platformu-v6-egitmen-educator-versiyonu-insansi-robot-softbank-robotics-9282-48-B.png\" height = \"100\" width=\"300\" alt=\"Robot\">"
   ]
  },
  {
   "cell_type": "code",
   "execution_count": 1,
   "id": "ec16cc90",
   "metadata": {},
   "outputs": [],
   "source": [
    "command = [\"right 20\", \"right 30\", \"left 50\", \"up 10\", \"down 20\"]"
   ]
  },
  {
   "cell_type": "code",
   "execution_count": 2,
   "id": "29bd2c1a",
   "metadata": {},
   "outputs": [
    {
     "data": {
      "text/plain": [
       "['right 20', 'right 30', 'left 50', 'up 10', 'down 20']"
      ]
     },
     "execution_count": 2,
     "metadata": {},
     "output_type": "execute_result"
    }
   ],
   "source": [
    "command"
   ]
  },
  {
   "cell_type": "code",
   "execution_count": 3,
   "id": "1aa9feb7",
   "metadata": {},
   "outputs": [],
   "source": [
    "x = y = 0"
   ]
  },
  {
   "cell_type": "code",
   "execution_count": null,
   "id": "5421511a",
   "metadata": {},
   "outputs": [],
   "source": [
    "# [x, y]"
   ]
  },
  {
   "cell_type": "code",
   "execution_count": 5,
   "id": "dc87c14a",
   "metadata": {},
   "outputs": [
    {
     "data": {
      "text/plain": [
       "'down 20'"
      ]
     },
     "execution_count": 5,
     "metadata": {},
     "output_type": "execute_result"
    }
   ],
   "source": [
    "command[-1]"
   ]
  },
  {
   "cell_type": "code",
   "execution_count": 6,
   "id": "53ad02f2",
   "metadata": {},
   "outputs": [
    {
     "data": {
      "text/plain": [
       "5"
      ]
     },
     "execution_count": 6,
     "metadata": {},
     "output_type": "execute_result"
    }
   ],
   "source": [
    "len(command)"
   ]
  },
  {
   "cell_type": "code",
   "execution_count": 7,
   "id": "622edb21",
   "metadata": {},
   "outputs": [
    {
     "data": {
      "text/plain": [
       "['down', '20']"
      ]
     },
     "execution_count": 7,
     "metadata": {},
     "output_type": "execute_result"
    }
   ],
   "source": [
    "command[-1].split()"
   ]
  },
  {
   "cell_type": "code",
   "execution_count": 8,
   "id": "5a6b0b69",
   "metadata": {},
   "outputs": [
    {
     "data": {
      "text/plain": [
       "'right 20'"
      ]
     },
     "execution_count": 8,
     "metadata": {},
     "output_type": "execute_result"
    }
   ],
   "source": [
    "command[0]"
   ]
  },
  {
   "cell_type": "code",
   "execution_count": 10,
   "id": "b5a917d1",
   "metadata": {},
   "outputs": [
    {
     "data": {
      "text/plain": [
       "'20'"
      ]
     },
     "execution_count": 10,
     "metadata": {},
     "output_type": "execute_result"
    }
   ],
   "source": [
    "command[0].split()[1]"
   ]
  },
  {
   "cell_type": "code",
   "execution_count": 11,
   "id": "e06e985d",
   "metadata": {},
   "outputs": [
    {
     "data": {
      "text/plain": [
       "str"
      ]
     },
     "execution_count": 11,
     "metadata": {},
     "output_type": "execute_result"
    }
   ],
   "source": [
    "type(command[0].split()[1])"
   ]
  },
  {
   "cell_type": "code",
   "execution_count": 12,
   "id": "62cd09f2",
   "metadata": {},
   "outputs": [
    {
     "data": {
      "text/plain": [
       "[0, -10]"
      ]
     },
     "execution_count": 12,
     "metadata": {},
     "output_type": "execute_result"
    }
   ],
   "source": [
    "for i in range(len(command)) :\n",
    "    if command[i].startswith(\"r\") : x = x + int(command[i].split()[1]) \n",
    "    elif command[i].startswith(\"l\") : x = x - int(command[i].split()[1])\n",
    "    elif command[i].startswith(\"u\") : y = y + int(command[i].split()[1])\n",
    "    elif command[i].startswith(\"d\") : y = y - int(command[i].split()[1])\n",
    "        \n",
    "[x, y]"
   ]
  },
  {
   "cell_type": "markdown",
   "id": "b59a20ba",
   "metadata": {},
   "source": [
    "## Valid Paranthesis"
   ]
  },
  {
   "cell_type": "markdown",
   "id": "ddf89ac8",
   "metadata": {},
   "source": [
    "```\n",
    "Input        Output\n",
    "--------:    ------:\n",
    "\"()\"         True\n",
    "\"()[]{}\"     True\n",
    "\"(]\"         False\n",
    "\"([)]\"       False\n",
    "\"{[]}\"       True\n",
    "\"\"           True\n",
    "```"
   ]
  },
  {
   "cell_type": "code",
   "execution_count": null,
   "id": "988f25a8",
   "metadata": {},
   "outputs": [],
   "source": [
    "\"([{({})}]({}))\""
   ]
  },
  {
   "cell_type": "code",
   "execution_count": null,
   "id": "1abf0e05",
   "metadata": {},
   "outputs": [],
   "source": [
    "\"([{()}]())\""
   ]
  },
  {
   "cell_type": "code",
   "execution_count": null,
   "id": "27aaab59",
   "metadata": {},
   "outputs": [],
   "source": [
    "\"([{}])\""
   ]
  },
  {
   "cell_type": "code",
   "execution_count": null,
   "id": "89220672",
   "metadata": {},
   "outputs": [],
   "source": [
    "\"([])\""
   ]
  },
  {
   "cell_type": "code",
   "execution_count": null,
   "id": "54f8b52e",
   "metadata": {},
   "outputs": [],
   "source": [
    "\"()\""
   ]
  },
  {
   "cell_type": "code",
   "execution_count": null,
   "id": "dfc4c8fe",
   "metadata": {},
   "outputs": [],
   "source": [
    "\"\""
   ]
  },
  {
   "cell_type": "code",
   "execution_count": null,
   "id": "bd67c9b9",
   "metadata": {},
   "outputs": [],
   "source": [
    "\"[([{({})}]({}))\""
   ]
  },
  {
   "cell_type": "code",
   "execution_count": null,
   "id": "2c0328b2",
   "metadata": {},
   "outputs": [],
   "source": [
    "\"[\""
   ]
  },
  {
   "cell_type": "code",
   "execution_count": 13,
   "id": "6d279b03",
   "metadata": {},
   "outputs": [],
   "source": [
    "x = \"[([{({})}]({}))\""
   ]
  },
  {
   "cell_type": "code",
   "execution_count": 14,
   "id": "d5f18dcf",
   "metadata": {},
   "outputs": [
    {
     "data": {
      "text/plain": [
       "'ali+deli+veli'"
      ]
     },
     "execution_count": 14,
     "metadata": {},
     "output_type": "execute_result"
    }
   ],
   "source": [
    "\"ali-deli-veli\".replace(\"-\", \"+\")"
   ]
  },
  {
   "cell_type": "code",
   "execution_count": 17,
   "id": "a63a4322",
   "metadata": {},
   "outputs": [
    {
     "data": {
      "text/plain": [
       "'ldelvel'"
      ]
     },
     "execution_count": 17,
     "metadata": {},
     "output_type": "execute_result"
    }
   ],
   "source": [
    "\"ali-deli-veli\".replace(\"-\", \"\").replace(\"a\", \"\").replace(\"i\", \"\")"
   ]
  },
  {
   "cell_type": "code",
   "execution_count": 18,
   "id": "31a69d29",
   "metadata": {},
   "outputs": [],
   "source": [
    "def isValid(s) :\n",
    "    while \"()\" in s or \"[]\" in s or \"{}\" in s :\n",
    "        s = s.replace(\"()\", \"\").replace(\"[]\", \"\").replace(\"{}\", \"\")\n",
    "    return s == \"\""
   ]
  },
  {
   "cell_type": "code",
   "execution_count": 19,
   "id": "2ab8efc3",
   "metadata": {},
   "outputs": [
    {
     "data": {
      "text/plain": [
       "False"
      ]
     },
     "execution_count": 19,
     "metadata": {},
     "output_type": "execute_result"
    }
   ],
   "source": [
    "isValid(x)"
   ]
  },
  {
   "cell_type": "markdown",
   "id": "372fe9ce",
   "metadata": {},
   "source": [
    "## Building a Calculator using `dict` with `lambda` Expression"
   ]
  },
  {
   "cell_type": "code",
   "execution_count": 20,
   "id": "46bdeaec",
   "metadata": {},
   "outputs": [
    {
     "data": {
      "text/plain": [
       "9"
      ]
     },
     "execution_count": 20,
     "metadata": {},
     "output_type": "execute_result"
    }
   ],
   "source": [
    "(lambda x, y : x + y)(4, 5)"
   ]
  },
  {
   "cell_type": "code",
   "execution_count": 21,
   "id": "f9d29c67",
   "metadata": {},
   "outputs": [],
   "source": [
    "bir_dikşinıri = {\"ne_diyorum\" : \"sesimi_duy\",\n",
    "                 \"neden\" : [\"bilmiyorum\"]}"
   ]
  },
  {
   "cell_type": "code",
   "execution_count": 22,
   "id": "d462988a",
   "metadata": {},
   "outputs": [
    {
     "data": {
      "text/plain": [
       "['bilmiyorum']"
      ]
     },
     "execution_count": 22,
     "metadata": {},
     "output_type": "execute_result"
    }
   ],
   "source": [
    "bir_dikşinıri[\"neden\"]"
   ]
  },
  {
   "cell_type": "code",
   "execution_count": 26,
   "id": "1553b6cb",
   "metadata": {},
   "outputs": [
    {
     "data": {
      "text/plain": [
       "<function __main__.<lambda>(x, y)>"
      ]
     },
     "execution_count": 26,
     "metadata": {},
     "output_type": "execute_result"
    }
   ],
   "source": [
    "(lambda x, y : x + y)"
   ]
  },
  {
   "cell_type": "code",
   "execution_count": 24,
   "id": "0d159161",
   "metadata": {},
   "outputs": [],
   "source": [
    "calculator = {\"+\" : (lambda x, y : x + y),\n",
    "              \"-\" : (lambda x, y : x - y),\n",
    "              \"*\" : (lambda x, y : x * y),\n",
    "              \"/\" : (lambda x, y : x / y)}"
   ]
  },
  {
   "cell_type": "code",
   "execution_count": 25,
   "id": "4623b7e2",
   "metadata": {},
   "outputs": [
    {
     "data": {
      "text/plain": [
       "<function __main__.<lambda>(x, y)>"
      ]
     },
     "execution_count": 25,
     "metadata": {},
     "output_type": "execute_result"
    }
   ],
   "source": [
    "calculator[\"+\"]"
   ]
  },
  {
   "cell_type": "code",
   "execution_count": 27,
   "id": "cbcc3086",
   "metadata": {},
   "outputs": [
    {
     "data": {
      "text/plain": [
       "9"
      ]
     },
     "execution_count": 27,
     "metadata": {},
     "output_type": "execute_result"
    }
   ],
   "source": [
    "calculator[\"+\"](4, 5)"
   ]
  },
  {
   "cell_type": "code",
   "execution_count": 28,
   "id": "88629665",
   "metadata": {},
   "outputs": [
    {
     "data": {
      "text/plain": [
       "10.0"
      ]
     },
     "execution_count": 28,
     "metadata": {},
     "output_type": "execute_result"
    }
   ],
   "source": [
    "calculator[\"/\"](20, 2)"
   ]
  },
  {
   "cell_type": "code",
   "execution_count": 29,
   "id": "5d7428db",
   "metadata": {},
   "outputs": [],
   "source": [
    "import random"
   ]
  },
  {
   "cell_type": "code",
   "execution_count": 30,
   "id": "8c0874cd",
   "metadata": {},
   "outputs": [
    {
     "data": {
      "text/plain": [
       "24"
      ]
     },
     "execution_count": 30,
     "metadata": {},
     "output_type": "execute_result"
    }
   ],
   "source": [
    "random.randint(10,30)"
   ]
  },
  {
   "cell_type": "code",
   "execution_count": 33,
   "id": "8c9fdcf2",
   "metadata": {},
   "outputs": [
    {
     "data": {
      "text/plain": [
       "'o'"
      ]
     },
     "execution_count": 33,
     "metadata": {},
     "output_type": "execute_result"
    }
   ],
   "source": [
    "chr(111)"
   ]
  },
  {
   "cell_type": "code",
   "execution_count": 35,
   "id": "05393cf9",
   "metadata": {},
   "outputs": [
    {
     "data": {
      "text/plain": [
       "'W'"
      ]
     },
     "execution_count": 35,
     "metadata": {},
     "output_type": "execute_result"
    }
   ],
   "source": [
    "chr(random.randint(65, 90))"
   ]
  },
  {
   "cell_type": "code",
   "execution_count": 36,
   "id": "be0905e2",
   "metadata": {},
   "outputs": [
    {
     "data": {
      "text/plain": [
       "'i'"
      ]
     },
     "execution_count": 36,
     "metadata": {},
     "output_type": "execute_result"
    }
   ],
   "source": [
    "chr(random.randint(97, 122))"
   ]
  },
  {
   "cell_type": "code",
   "execution_count": 37,
   "id": "d6642732",
   "metadata": {},
   "outputs": [
    {
     "data": {
      "text/plain": [
       "'2'"
      ]
     },
     "execution_count": 37,
     "metadata": {},
     "output_type": "execute_result"
    }
   ],
   "source": [
    "chr(random.randint(48, 57))"
   ]
  },
  {
   "cell_type": "code",
   "execution_count": null,
   "id": "d72bc36f",
   "metadata": {},
   "outputs": [],
   "source": [
    "chr(random.randint(65, 90))"
   ]
  },
  {
   "cell_type": "code",
   "execution_count": 38,
   "id": "33983294",
   "metadata": {},
   "outputs": [
    {
     "data": {
      "text/plain": [
       "','"
      ]
     },
     "execution_count": 38,
     "metadata": {},
     "output_type": "execute_result"
    }
   ],
   "source": [
    "chr(random.randint(33, 47))"
   ]
  },
  {
   "cell_type": "code",
   "execution_count": 39,
   "id": "dc891ae1",
   "metadata": {},
   "outputs": [
    {
     "data": {
      "text/plain": [
       "';'"
      ]
     },
     "execution_count": 39,
     "metadata": {},
     "output_type": "execute_result"
    }
   ],
   "source": [
    "chr(random.randint(58, 64))"
   ]
  },
  {
   "cell_type": "code",
   "execution_count": 43,
   "id": "532da5e8",
   "metadata": {},
   "outputs": [
    {
     "data": {
      "text/plain": [
       "['U', 'P', 'Q']"
      ]
     },
     "execution_count": 43,
     "metadata": {},
     "output_type": "execute_result"
    }
   ],
   "source": [
    "uppers = [chr(random.randint(65, 90)) for i in range(3)]\n",
    "uppers"
   ]
  },
  {
   "cell_type": "code",
   "execution_count": 47,
   "id": "e0697f67",
   "metadata": {},
   "outputs": [
    {
     "data": {
      "text/plain": [
       "['g', 'y', 'm']"
      ]
     },
     "execution_count": 47,
     "metadata": {},
     "output_type": "execute_result"
    }
   ],
   "source": [
    "lowers = [chr(random.randint(97, 122)) for i in range(3)]\n",
    "lowers"
   ]
  },
  {
   "cell_type": "code",
   "execution_count": 50,
   "id": "e06fe676",
   "metadata": {},
   "outputs": [
    {
     "data": {
      "text/plain": [
       "['9', '6', '6']"
      ]
     },
     "execution_count": 50,
     "metadata": {},
     "output_type": "execute_result"
    }
   ],
   "source": [
    "numbers = [chr(random.randint(48,57)) for i in range(3)]\n",
    "numbers"
   ]
  },
  {
   "cell_type": "code",
   "execution_count": 53,
   "id": "1a02c3da",
   "metadata": {},
   "outputs": [
    {
     "data": {
      "text/plain": [
       "')>'"
      ]
     },
     "execution_count": 53,
     "metadata": {},
     "output_type": "execute_result"
    }
   ],
   "source": [
    "chars = chr(random.randint(33,47))+chr(random.randint(58,64))\n",
    "chars"
   ]
  },
  {
   "cell_type": "code",
   "execution_count": 59,
   "id": "42ccdf65",
   "metadata": {},
   "outputs": [
    {
     "data": {
      "text/plain": [
       "'966'"
      ]
     },
     "execution_count": 59,
     "metadata": {},
     "output_type": "execute_result"
    }
   ],
   "source": [
    "\"\".join(numbers)"
   ]
  },
  {
   "cell_type": "code",
   "execution_count": 60,
   "id": "c573e699",
   "metadata": {},
   "outputs": [
    {
     "data": {
      "text/plain": [
       "'UPQgym966)>'"
      ]
     },
     "execution_count": 60,
     "metadata": {},
     "output_type": "execute_result"
    }
   ],
   "source": [
    "passw = \"\".join(uppers) + \"\".join(lowers) + \"\".join(numbers) + \"\".join(chars)\n",
    "passw"
   ]
  },
  {
   "cell_type": "code",
   "execution_count": 61,
   "id": "d37496c9",
   "metadata": {},
   "outputs": [],
   "source": [
    "ornek = \"alivelideli\""
   ]
  },
  {
   "cell_type": "code",
   "execution_count": null,
   "id": "d651bb7d",
   "metadata": {},
   "outputs": [],
   "source": [
    "random.shuffle()"
   ]
  },
  {
   "cell_type": "code",
   "execution_count": 65,
   "id": "a7cd2732",
   "metadata": {},
   "outputs": [],
   "source": [
    "ornek_list = list(ornek)"
   ]
  },
  {
   "cell_type": "code",
   "execution_count": 66,
   "id": "9e3633ea",
   "metadata": {},
   "outputs": [
    {
     "data": {
      "text/plain": [
       "['a', 'l', 'i', 'v', 'e', 'l', 'i', 'd', 'e', 'l', 'i']"
      ]
     },
     "execution_count": 66,
     "metadata": {},
     "output_type": "execute_result"
    }
   ],
   "source": [
    "ornek_list"
   ]
  },
  {
   "cell_type": "code",
   "execution_count": 67,
   "id": "7ce3b9fe",
   "metadata": {},
   "outputs": [],
   "source": [
    "random.shuffle(ornek_list)"
   ]
  },
  {
   "cell_type": "code",
   "execution_count": 68,
   "id": "eac62ee8",
   "metadata": {},
   "outputs": [
    {
     "data": {
      "text/plain": [
       "['e', 'l', 'i', 'i', 'l', 'v', 'd', 'i', 'e', 'a', 'l']"
      ]
     },
     "execution_count": 68,
     "metadata": {},
     "output_type": "execute_result"
    }
   ],
   "source": [
    "ornek_list"
   ]
  },
  {
   "cell_type": "code",
   "execution_count": 72,
   "id": "39b0d122",
   "metadata": {},
   "outputs": [
    {
     "data": {
      "text/plain": [
       "'eliilvdieal'"
      ]
     },
     "execution_count": 72,
     "metadata": {},
     "output_type": "execute_result"
    }
   ],
   "source": [
    "\"\".join(ornek_list)"
   ]
  },
  {
   "cell_type": "code",
   "execution_count": 75,
   "id": "4fbd78f7",
   "metadata": {},
   "outputs": [],
   "source": [
    "def karıştır(password) :\n",
    "    templist = list(password)\n",
    "    random.shuffle(templist)\n",
    "    return \"\".join(templist)"
   ]
  },
  {
   "cell_type": "code",
   "execution_count": 76,
   "id": "c925dc30",
   "metadata": {},
   "outputs": [
    {
     "data": {
      "text/plain": [
       "'y)9U6gQ>m6P'"
      ]
     },
     "execution_count": 76,
     "metadata": {},
     "output_type": "execute_result"
    }
   ],
   "source": [
    "passw = karıştır(passw)\n",
    "passw"
   ]
  },
  {
   "cell_type": "code",
   "execution_count": 77,
   "id": "08145161",
   "metadata": {},
   "outputs": [],
   "source": [
    "from timeit import timeit"
   ]
  },
  {
   "cell_type": "code",
   "execution_count": 82,
   "id": "0a83dea1",
   "metadata": {},
   "outputs": [],
   "source": [
    "def for_loop() :\n",
    "    \n",
    "    result = []\n",
    "    \n",
    "    for i in range(1000000) :\n",
    "        result.append(i)\n",
    "    return result"
   ]
  },
  {
   "cell_type": "code",
   "execution_count": 83,
   "id": "8d7a4807",
   "metadata": {},
   "outputs": [],
   "source": [
    "def list_comp() :\n",
    "    return [i for i in range(1000000)]"
   ]
  },
  {
   "cell_type": "code",
   "execution_count": 87,
   "id": "9edd634b",
   "metadata": {},
   "outputs": [],
   "source": [
    "#size = 100\n",
    "\n",
    "time_for = timeit(for_loop, number = size)\n",
    "time_list_comp = timeit(list_comp, number = size)"
   ]
  },
  {
   "cell_type": "code",
   "execution_count": 88,
   "id": "2aabdb04",
   "metadata": {},
   "outputs": [
    {
     "name": "stdout",
     "output_type": "stream",
     "text": [
      "List Comp. is 1.57 times faster than for loops.\n"
     ]
    }
   ],
   "source": [
    "print(f\"List Comp. is {round(time_for/time_list_comp, 2)} times faster than for loops.\")"
   ]
  },
  {
   "cell_type": "code",
   "execution_count": null,
   "id": "1f475dc3",
   "metadata": {},
   "outputs": [],
   "source": []
  },
  {
   "cell_type": "code",
   "execution_count": null,
   "id": "202c2e23",
   "metadata": {},
   "outputs": [],
   "source": []
  }
 ],
 "metadata": {
  "kernelspec": {
   "display_name": "Python 3",
   "language": "python",
   "name": "python3"
  },
  "language_info": {
   "codemirror_mode": {
    "name": "ipython",
    "version": 3
   },
   "file_extension": ".py",
   "mimetype": "text/x-python",
   "name": "python",
   "nbconvert_exporter": "python",
   "pygments_lexer": "ipython3",
   "version": "3.8.8"
  }
 },
 "nbformat": 4,
 "nbformat_minor": 5
}
