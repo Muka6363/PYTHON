{
 "cells": [
  {
   "cell_type": "markdown",
   "id": "406f2981",
   "metadata": {},
   "source": [
    "<img src=\"https://docs.google.com/uc?id=14xeXxFrVRjvOoUYWn_GuyE-v84wVzrqr\" class=\"img-fluid\" alt=\"CLRWY\" width=\"400\" height=\"200\">"
   ]
  },
  {
   "cell_type": "markdown",
   "id": "22263af8",
   "metadata": {},
   "source": [
    "<h1><p style=\"text-align: center; color:darkblue\">Python In-Class, <br>1 November 2021</p><h1>"
   ]
  },
  {
   "cell_type": "code",
   "execution_count": 1,
   "id": "59d72c6c",
   "metadata": {},
   "outputs": [
    {
     "name": "stdout",
     "output_type": "stream",
     "text": [
      "dict_items([('animal', 'dog'), ('planet', 'Neptun'), ('number', 40), ('pi', 3.14), ('is_good', True)]) \n",
      "\n",
      "dict_keys(['animal', 'planet', 'number', 'pi', 'is_good']) \n",
      "\n",
      "dict_values(['dog', 'Neptun', 40, 3.14, True]) \n",
      "\n"
     ]
    }
   ],
   "source": [
    "dict_by_dict = {'animal':'dog',\n",
    "\t\t\t'planet': 'Neptun',\n",
    "\t\t\t'number': 40,\n",
    "\t\t\t'pi':3.14,\n",
    "\t\t\t'is_good': True}\n",
    "\n",
    "print(dict_by_dict.items(), '\\n')\n",
    "print(dict_by_dict.keys(), '\\n')\n",
    "print(dict_by_dict.values(), '\\n')"
   ]
  },
  {
   "cell_type": "code",
   "execution_count": 2,
   "id": "2fc4fa80",
   "metadata": {},
   "outputs": [
    {
     "ename": "ValueError",
     "evalue": "too many values to unpack (expected 2)",
     "output_type": "error",
     "traceback": [
      "\u001b[0;31m---------------------------------------------------------------------------\u001b[0m",
      "\u001b[0;31mValueError\u001b[0m                                Traceback (most recent call last)",
      "\u001b[0;32m<ipython-input-2-a2b98f6b9ddc>\u001b[0m in \u001b[0;36m<module>\u001b[0;34m\u001b[0m\n\u001b[0;32m----> 1\u001b[0;31m \u001b[0mx\u001b[0m\u001b[0;34m,\u001b[0m \u001b[0my\u001b[0m \u001b[0;34m=\u001b[0m \u001b[0mdict_by_dict\u001b[0m\u001b[0;34m.\u001b[0m\u001b[0mitems\u001b[0m\u001b[0;34m(\u001b[0m\u001b[0;34m)\u001b[0m\u001b[0;34m\u001b[0m\u001b[0;34m\u001b[0m\u001b[0m\n\u001b[0m",
      "\u001b[0;31mValueError\u001b[0m: too many values to unpack (expected 2)"
     ]
    }
   ],
   "source": [
    "x, y = dict_by_dict.items()"
   ]
  },
  {
   "cell_type": "code",
   "execution_count": 3,
   "id": "96226949",
   "metadata": {},
   "outputs": [
    {
     "data": {
      "text/plain": [
       "[('animal', 'dog'),\n",
       " ('planet', 'Neptun'),\n",
       " ('number', 40),\n",
       " ('pi', 3.14),\n",
       " ('is_good', True)]"
      ]
     },
     "execution_count": 3,
     "metadata": {},
     "output_type": "execute_result"
    }
   ],
   "source": [
    "list(dict_by_dict.items())"
   ]
  },
  {
   "cell_type": "code",
   "execution_count": 4,
   "id": "3da3a973",
   "metadata": {},
   "outputs": [],
   "source": [
    "items = list(dict_by_dict.items())"
   ]
  },
  {
   "cell_type": "code",
   "execution_count": 5,
   "id": "8c3e0326",
   "metadata": {},
   "outputs": [],
   "source": [
    "x, y = items[0]"
   ]
  },
  {
   "cell_type": "code",
   "execution_count": 6,
   "id": "faa5a45e",
   "metadata": {},
   "outputs": [
    {
     "data": {
      "text/plain": [
       "'animal'"
      ]
     },
     "execution_count": 6,
     "metadata": {},
     "output_type": "execute_result"
    }
   ],
   "source": [
    "x"
   ]
  },
  {
   "cell_type": "code",
   "execution_count": 7,
   "id": "9ab105ee",
   "metadata": {},
   "outputs": [
    {
     "data": {
      "text/plain": [
       "'dog'"
      ]
     },
     "execution_count": 7,
     "metadata": {},
     "output_type": "execute_result"
    }
   ],
   "source": [
    "y"
   ]
  },
  {
   "cell_type": "code",
   "execution_count": 8,
   "id": "a5097fe1",
   "metadata": {},
   "outputs": [
    {
     "data": {
      "text/plain": [
       "('animal', 'planet', 'number', 'pi', 'is_good')"
      ]
     },
     "execution_count": 8,
     "metadata": {},
     "output_type": "execute_result"
    }
   ],
   "source": [
    "tuple(dict_by_dict.keys())"
   ]
  },
  {
   "cell_type": "code",
   "execution_count": 9,
   "id": "3f91aae8",
   "metadata": {},
   "outputs": [
    {
     "data": {
      "text/plain": [
       "{3.14, 40, 'Neptun', True, 'dog'}"
      ]
     },
     "execution_count": 9,
     "metadata": {},
     "output_type": "execute_result"
    }
   ],
   "source": [
    "set(dict_by_dict.values())"
   ]
  },
  {
   "cell_type": "code",
   "execution_count": 10,
   "id": "b785df2a",
   "metadata": {},
   "outputs": [],
   "source": [
    "family = {'name1': 'Joseph', \n",
    "          'name2': 'Bella',\n",
    "          'name3': 'Aisha',\n",
    "          'name4': 'Tom'\n",
    "         }\n"
   ]
  },
  {
   "cell_type": "code",
   "execution_count": 11,
   "id": "2500dba3",
   "metadata": {},
   "outputs": [
    {
     "data": {
      "text/plain": [
       "{'name1': 'Joseph', 'name2': 'Bella', 'name3': 'Aisha', 'name4': 'Tom'}"
      ]
     },
     "execution_count": 11,
     "metadata": {},
     "output_type": "execute_result"
    }
   ],
   "source": [
    "family"
   ]
  },
  {
   "cell_type": "code",
   "execution_count": 12,
   "id": "8a96debc",
   "metadata": {},
   "outputs": [
    {
     "data": {
      "text/plain": [
       "[('name1', 'Joseph'), ('name2', 'Bella'), ('name3', 'Aisha'), ('name4', 'Tom')]"
      ]
     },
     "execution_count": 12,
     "metadata": {},
     "output_type": "execute_result"
    }
   ],
   "source": [
    "list(family.items())"
   ]
  },
  {
   "cell_type": "code",
   "execution_count": 13,
   "id": "c6191def",
   "metadata": {},
   "outputs": [
    {
     "data": {
      "text/plain": [
       "['name1', 'name2', 'name3', 'name4']"
      ]
     },
     "execution_count": 13,
     "metadata": {},
     "output_type": "execute_result"
    }
   ],
   "source": [
    "list(family.keys())"
   ]
  },
  {
   "cell_type": "code",
   "execution_count": 14,
   "id": "34e68217",
   "metadata": {},
   "outputs": [
    {
     "data": {
      "text/plain": [
       "['Joseph', 'Bella', 'Aisha', 'Tom']"
      ]
     },
     "execution_count": 14,
     "metadata": {},
     "output_type": "execute_result"
    }
   ],
   "source": [
    "list(family.values())"
   ]
  },
  {
   "cell_type": "code",
   "execution_count": 15,
   "id": "23c78a1e",
   "metadata": {},
   "outputs": [],
   "source": [
    "family[\"name5\"] = \"idris\""
   ]
  },
  {
   "cell_type": "code",
   "execution_count": 16,
   "id": "5ab18a41",
   "metadata": {},
   "outputs": [
    {
     "data": {
      "text/plain": [
       "{'name1': 'Joseph',\n",
       " 'name2': 'Bella',\n",
       " 'name3': 'Aisha',\n",
       " 'name4': 'Tom',\n",
       " 'name5': 'idris'}"
      ]
     },
     "execution_count": 16,
     "metadata": {},
     "output_type": "execute_result"
    }
   ],
   "source": [
    "family"
   ]
  },
  {
   "cell_type": "code",
   "execution_count": 17,
   "id": "dd76e630",
   "metadata": {},
   "outputs": [],
   "source": [
    "family.update({\"name6\" : \"buşra\"})"
   ]
  },
  {
   "cell_type": "code",
   "execution_count": 18,
   "id": "5eae4cf6",
   "metadata": {},
   "outputs": [
    {
     "data": {
      "text/plain": [
       "{'name1': 'Joseph',\n",
       " 'name2': 'Bella',\n",
       " 'name3': 'Aisha',\n",
       " 'name4': 'Tom',\n",
       " 'name5': 'idris',\n",
       " 'name6': 'buşra'}"
      ]
     },
     "execution_count": 18,
     "metadata": {},
     "output_type": "execute_result"
    }
   ],
   "source": [
    "family"
   ]
  },
  {
   "cell_type": "code",
   "execution_count": 19,
   "id": "ebf029a1",
   "metadata": {},
   "outputs": [
    {
     "data": {
      "text/plain": [
       "'Bella'"
      ]
     },
     "execution_count": 19,
     "metadata": {},
     "output_type": "execute_result"
    }
   ],
   "source": [
    "family[\"name2\"]"
   ]
  },
  {
   "cell_type": "code",
   "execution_count": 20,
   "id": "08530cab",
   "metadata": {},
   "outputs": [
    {
     "data": {
      "text/plain": [
       "True"
      ]
     },
     "execution_count": 20,
     "metadata": {},
     "output_type": "execute_result"
    }
   ],
   "source": [
    "dict_by_dict[\"is_good\"]"
   ]
  },
  {
   "cell_type": "code",
   "execution_count": 21,
   "id": "f22bec27",
   "metadata": {},
   "outputs": [
    {
     "data": {
      "text/plain": [
       "bool"
      ]
     },
     "execution_count": 21,
     "metadata": {},
     "output_type": "execute_result"
    }
   ],
   "source": [
    "type(dict_by_dict[\"is_good\"])"
   ]
  },
  {
   "cell_type": "code",
   "execution_count": 22,
   "id": "61fff5e0",
   "metadata": {},
   "outputs": [],
   "source": [
    "del dict_by_dict[\"is_good\"]"
   ]
  },
  {
   "cell_type": "code",
   "execution_count": 23,
   "id": "40d7d46e",
   "metadata": {},
   "outputs": [
    {
     "data": {
      "text/plain": [
       "{'animal': 'dog', 'planet': 'Neptun', 'number': 40, 'pi': 3.14}"
      ]
     },
     "execution_count": 23,
     "metadata": {},
     "output_type": "execute_result"
    }
   ],
   "source": [
    "dict_by_dict"
   ]
  },
  {
   "cell_type": "code",
   "execution_count": 24,
   "id": "5ee91c83",
   "metadata": {},
   "outputs": [
    {
     "data": {
      "text/plain": [
       "{'name1': 'Joseph',\n",
       " 'name2': 'Bella',\n",
       " 'name3': 'Aisha',\n",
       " 'name4': 'Tom',\n",
       " 'name5': 'idris',\n",
       " 'name6': 'buşra'}"
      ]
     },
     "execution_count": 24,
     "metadata": {},
     "output_type": "execute_result"
    }
   ],
   "source": [
    "family"
   ]
  },
  {
   "cell_type": "code",
   "execution_count": 25,
   "id": "0c6a6dfa",
   "metadata": {},
   "outputs": [],
   "source": [
    "del family[\"name2\"], family[\"name3\"], family[\"name6\"]"
   ]
  },
  {
   "cell_type": "code",
   "execution_count": 26,
   "id": "812c3b4e",
   "metadata": {},
   "outputs": [
    {
     "data": {
      "text/plain": [
       "{'name1': 'Joseph', 'name4': 'Tom', 'name5': 'idris'}"
      ]
     },
     "execution_count": 26,
     "metadata": {},
     "output_type": "execute_result"
    }
   ],
   "source": [
    "family"
   ]
  },
  {
   "cell_type": "code",
   "execution_count": 27,
   "id": "7867b9a0",
   "metadata": {},
   "outputs": [],
   "source": [
    "a = \"clarusway\""
   ]
  },
  {
   "cell_type": "code",
   "execution_count": 28,
   "id": "3f91a641",
   "metadata": {},
   "outputs": [
    {
     "name": "stdout",
     "output_type": "stream",
     "text": [
      "clarusway\n"
     ]
    }
   ],
   "source": [
    "print(a)"
   ]
  },
  {
   "cell_type": "code",
   "execution_count": 29,
   "id": "d70e5a49",
   "metadata": {},
   "outputs": [],
   "source": [
    "del a"
   ]
  },
  {
   "cell_type": "code",
   "execution_count": 30,
   "id": "a7377fa5",
   "metadata": {},
   "outputs": [
    {
     "ename": "NameError",
     "evalue": "name 'a' is not defined",
     "output_type": "error",
     "traceback": [
      "\u001b[0;31m---------------------------------------------------------------------------\u001b[0m",
      "\u001b[0;31mNameError\u001b[0m                                 Traceback (most recent call last)",
      "\u001b[0;32m<ipython-input-30-bca0e2660b9f>\u001b[0m in \u001b[0;36m<module>\u001b[0;34m\u001b[0m\n\u001b[0;32m----> 1\u001b[0;31m \u001b[0mprint\u001b[0m\u001b[0;34m(\u001b[0m\u001b[0ma\u001b[0m\u001b[0;34m)\u001b[0m\u001b[0;34m\u001b[0m\u001b[0;34m\u001b[0m\u001b[0m\n\u001b[0m",
      "\u001b[0;31mNameError\u001b[0m: name 'a' is not defined"
     ]
    }
   ],
   "source": [
    "print(a)"
   ]
  },
  {
   "cell_type": "code",
   "execution_count": 31,
   "id": "680b4486",
   "metadata": {},
   "outputs": [
    {
     "data": {
      "text/plain": [
       "{'animal': 'dog', 'planet': 'Neptun', 'number': 40, 'pi': 3.14}"
      ]
     },
     "execution_count": 31,
     "metadata": {},
     "output_type": "execute_result"
    }
   ],
   "source": [
    "dict_by_dict"
   ]
  },
  {
   "cell_type": "code",
   "execution_count": 32,
   "id": "3c578335",
   "metadata": {},
   "outputs": [
    {
     "data": {
      "text/plain": [
       "False"
      ]
     },
     "execution_count": 32,
     "metadata": {},
     "output_type": "execute_result"
    }
   ],
   "source": [
    "\"i\" in \"clarusway\""
   ]
  },
  {
   "cell_type": "code",
   "execution_count": 33,
   "id": "542b761d",
   "metadata": {},
   "outputs": [
    {
     "data": {
      "text/plain": [
       "True"
      ]
     },
     "execution_count": 33,
     "metadata": {},
     "output_type": "execute_result"
    }
   ],
   "source": [
    "\"a\" in \"clarusway\""
   ]
  },
  {
   "cell_type": "code",
   "execution_count": 36,
   "id": "b8735e6c",
   "metadata": {},
   "outputs": [],
   "source": [
    "bootcamp = \"c l a r u s w a y\".split()"
   ]
  },
  {
   "cell_type": "code",
   "execution_count": 37,
   "id": "5450bdef",
   "metadata": {},
   "outputs": [
    {
     "data": {
      "text/plain": [
       "['c', 'l', 'a', 'r', 'u', 's', 'w', 'a', 'y']"
      ]
     },
     "execution_count": 37,
     "metadata": {},
     "output_type": "execute_result"
    }
   ],
   "source": [
    "bootcamp"
   ]
  },
  {
   "cell_type": "code",
   "execution_count": 38,
   "id": "67e664d7",
   "metadata": {},
   "outputs": [
    {
     "data": {
      "text/plain": [
       "True"
      ]
     },
     "execution_count": 38,
     "metadata": {},
     "output_type": "execute_result"
    }
   ],
   "source": [
    "\"a\" in bootcamp"
   ]
  },
  {
   "cell_type": "code",
   "execution_count": 39,
   "id": "a2700706",
   "metadata": {},
   "outputs": [
    {
     "data": {
      "text/plain": [
       "{'animal': 'dog', 'planet': 'Neptun', 'number': 40, 'pi': 3.14}"
      ]
     },
     "execution_count": 39,
     "metadata": {},
     "output_type": "execute_result"
    }
   ],
   "source": [
    "dict_by_dict"
   ]
  },
  {
   "cell_type": "code",
   "execution_count": 40,
   "id": "53d18d1d",
   "metadata": {},
   "outputs": [
    {
     "data": {
      "text/plain": [
       "False"
      ]
     },
     "execution_count": 40,
     "metadata": {},
     "output_type": "execute_result"
    }
   ],
   "source": [
    "\"dog\" in dict_by_dict"
   ]
  },
  {
   "cell_type": "code",
   "execution_count": 41,
   "id": "80e64909",
   "metadata": {},
   "outputs": [
    {
     "data": {
      "text/plain": [
       "True"
      ]
     },
     "execution_count": 41,
     "metadata": {},
     "output_type": "execute_result"
    }
   ],
   "source": [
    "\"planet\" in dict_by_dict"
   ]
  },
  {
   "cell_type": "code",
   "execution_count": 42,
   "id": "30f18dd7",
   "metadata": {},
   "outputs": [
    {
     "data": {
      "text/plain": [
       "True"
      ]
     },
     "execution_count": 42,
     "metadata": {},
     "output_type": "execute_result"
    }
   ],
   "source": [
    "\"dog\" not in dict_by_dict"
   ]
  },
  {
   "cell_type": "code",
   "execution_count": 43,
   "id": "bccca3f0",
   "metadata": {},
   "outputs": [
    {
     "data": {
      "text/plain": [
       "True"
      ]
     },
     "execution_count": 43,
     "metadata": {},
     "output_type": "execute_result"
    }
   ],
   "source": [
    "\"dog\" in dict_by_dict.values()"
   ]
  },
  {
   "cell_type": "code",
   "execution_count": 44,
   "id": "3fd6d9ff",
   "metadata": {},
   "outputs": [],
   "source": [
    "school_records={\n",
    "\t'personal_info':\n",
    "\t\t{'kid':{'tom':{'class':'intermediate', 'age':10},\n",
    "\t\t\t'sue':{'class':'elemantary', 'age':8}\n",
    "\t\t\t},\n",
    "\t\t'teen':{'joseph':{'class':'college', 'age':19},\n",
    "\t\t\t'marry':{'class':'high school', 'age':16}\n",
    "\t\t\t},\n",
    "\t\t},\n",
    "\t'grades_info':\n",
    "\t\t{'kid':{'tom':{'math':88, 'speech':69},\n",
    "\t\t\t'sue':{'math':90, 'speech':81}\n",
    "\t\t\t},\n",
    "\t\t'teen':{'joseph':{'coding':80, 'math':89},\n",
    "\t\t\t'marry':{'coding':70, 'math':96}\n",
    "\t\t\t},\n",
    "\t\t}\n",
    "}\n"
   ]
  },
  {
   "cell_type": "code",
   "execution_count": 45,
   "id": "24dd48a4",
   "metadata": {},
   "outputs": [
    {
     "data": {
      "text/plain": [
       "{'personal_info': {'kid': {'tom': {'class': 'intermediate', 'age': 10},\n",
       "   'sue': {'class': 'elemantary', 'age': 8}},\n",
       "  'teen': {'joseph': {'class': 'college', 'age': 19},\n",
       "   'marry': {'class': 'high school', 'age': 16}}},\n",
       " 'grades_info': {'kid': {'tom': {'math': 88, 'speech': 69},\n",
       "   'sue': {'math': 90, 'speech': 81}},\n",
       "  'teen': {'joseph': {'coding': 80, 'math': 89},\n",
       "   'marry': {'coding': 70, 'math': 96}}}}"
      ]
     },
     "execution_count": 45,
     "metadata": {},
     "output_type": "execute_result"
    }
   ],
   "source": [
    "school_records"
   ]
  },
  {
   "cell_type": "code",
   "execution_count": 47,
   "id": "044c601d",
   "metadata": {},
   "outputs": [
    {
     "data": {
      "text/plain": [
       "2"
      ]
     },
     "execution_count": 47,
     "metadata": {},
     "output_type": "execute_result"
    }
   ],
   "source": [
    "len(school_records)"
   ]
  },
  {
   "cell_type": "code",
   "execution_count": 46,
   "id": "eb2d85b9",
   "metadata": {},
   "outputs": [
    {
     "data": {
      "text/plain": [
       "{'kid': {'tom': {'class': 'intermediate', 'age': 10},\n",
       "  'sue': {'class': 'elemantary', 'age': 8}},\n",
       " 'teen': {'joseph': {'class': 'college', 'age': 19},\n",
       "  'marry': {'class': 'high school', 'age': 16}}}"
      ]
     },
     "execution_count": 46,
     "metadata": {},
     "output_type": "execute_result"
    }
   ],
   "source": [
    "school_records[\"personal_info\"]"
   ]
  },
  {
   "cell_type": "code",
   "execution_count": 48,
   "id": "f47d2bf3",
   "metadata": {},
   "outputs": [
    {
     "data": {
      "text/plain": [
       "2"
      ]
     },
     "execution_count": 48,
     "metadata": {},
     "output_type": "execute_result"
    }
   ],
   "source": [
    "len(school_records[\"personal_info\"])"
   ]
  },
  {
   "cell_type": "code",
   "execution_count": 49,
   "id": "8d59bd61",
   "metadata": {},
   "outputs": [
    {
     "data": {
      "text/plain": [
       "{'tom': {'class': 'intermediate', 'age': 10},\n",
       " 'sue': {'class': 'elemantary', 'age': 8}}"
      ]
     },
     "execution_count": 49,
     "metadata": {},
     "output_type": "execute_result"
    }
   ],
   "source": [
    "school_records[\"personal_info\"][\"kid\"]"
   ]
  },
  {
   "cell_type": "code",
   "execution_count": 50,
   "id": "64f40c2b",
   "metadata": {},
   "outputs": [
    {
     "data": {
      "text/plain": [
       "2"
      ]
     },
     "execution_count": 50,
     "metadata": {},
     "output_type": "execute_result"
    }
   ],
   "source": [
    "len(school_records[\"personal_info\"][\"kid\"])"
   ]
  },
  {
   "cell_type": "code",
   "execution_count": 51,
   "id": "d44a8611",
   "metadata": {},
   "outputs": [
    {
     "data": {
      "text/plain": [
       "{'class': 'intermediate', 'age': 10}"
      ]
     },
     "execution_count": 51,
     "metadata": {},
     "output_type": "execute_result"
    }
   ],
   "source": [
    "school_records[\"personal_info\"][\"kid\"][\"tom\"]"
   ]
  },
  {
   "cell_type": "code",
   "execution_count": 52,
   "id": "1a930a9d",
   "metadata": {},
   "outputs": [
    {
     "data": {
      "text/plain": [
       "10"
      ]
     },
     "execution_count": 52,
     "metadata": {},
     "output_type": "execute_result"
    }
   ],
   "source": [
    "school_records[\"personal_info\"][\"kid\"][\"tom\"][\"age\"]"
   ]
  },
  {
   "cell_type": "code",
   "execution_count": 53,
   "id": "3c22be33",
   "metadata": {},
   "outputs": [
    {
     "data": {
      "text/plain": [
       "5"
      ]
     },
     "execution_count": 53,
     "metadata": {},
     "output_type": "execute_result"
    }
   ],
   "source": [
    "len([1, 1, 2, 0 ,1])"
   ]
  },
  {
   "cell_type": "code",
   "execution_count": 54,
   "id": "ec736f6d",
   "metadata": {},
   "outputs": [
    {
     "data": {
      "text/plain": [
       "3"
      ]
     },
     "execution_count": 54,
     "metadata": {},
     "output_type": "execute_result"
    }
   ],
   "source": [
    "len({1, 1, 2, 0 ,1})"
   ]
  },
  {
   "cell_type": "code",
   "execution_count": 55,
   "id": "0d67f315",
   "metadata": {},
   "outputs": [],
   "source": [
    "ilk_kumem = {1, 2, 1, 0, 1}"
   ]
  },
  {
   "cell_type": "code",
   "execution_count": 56,
   "id": "7fc4fe08",
   "metadata": {},
   "outputs": [
    {
     "data": {
      "text/plain": [
       "{0, 1, 2}"
      ]
     },
     "execution_count": 56,
     "metadata": {},
     "output_type": "execute_result"
    }
   ],
   "source": [
    "ilk_kumem"
   ]
  },
  {
   "cell_type": "code",
   "execution_count": 1,
   "id": "d4649251",
   "metadata": {},
   "outputs": [],
   "source": [
    "letter = \"a b c d e f g h i j k l m n o p q r s t u v x w y z\".split()"
   ]
  },
  {
   "cell_type": "code",
   "execution_count": 2,
   "id": "db1f5f53",
   "metadata": {},
   "outputs": [
    {
     "name": "stdout",
     "output_type": "stream",
     "text": [
      "['a', 'b', 'c', 'd', 'e', 'f', 'g', 'h', 'i', 'j', 'k', 'l', 'm', 'n', 'o', 'p', 'q', 'r', 's', 't', 'u', 'v', 'x', 'w', 'y', 'z']\n"
     ]
    }
   ],
   "source": [
    "print(letter)"
   ]
  },
  {
   "cell_type": "code",
   "execution_count": 59,
   "id": "d93acedb",
   "metadata": {},
   "outputs": [
    {
     "name": "stdout",
     "output_type": "stream",
     "text": [
      "{'r', 'g', 'y', 's', 'f', 'o', 'b', 'n', 'd', 'm', 'w', 'u', 'c', 't', 'z', 'e', 'q', 'p', 'a', 'v', 'i', 'j', 'k', 'l', 'x', 'h'}\n"
     ]
    }
   ],
   "source": [
    "print(set(letter))"
   ]
  },
  {
   "cell_type": "code",
   "execution_count": 60,
   "id": "e0b2a919",
   "metadata": {},
   "outputs": [
    {
     "data": {
      "text/plain": [
       "['a', 'b', 'c', 'd']"
      ]
     },
     "execution_count": 60,
     "metadata": {},
     "output_type": "execute_result"
    }
   ],
   "source": [
    "\"a-b-c-d\".split(\"-\")"
   ]
  },
  {
   "cell_type": "code",
   "execution_count": 3,
   "id": "1af15a0a",
   "metadata": {},
   "outputs": [
    {
     "name": "stdout",
     "output_type": "stream",
     "text": [
      "{'t', 'g', 'w', 'r', 'o', 'e', 'q', 'd', 'z', 'v', 'm', 'f', 'c', 'h', 'p', 'u', 'k', 'l', 'x', 'i', 's', 'a', 'n', 'j', 'b', 'y'}\n"
     ]
    }
   ],
   "source": [
    "# kernel restart edildikten sonra çalıştırdım\n",
    "\n",
    "print(set(letter))"
   ]
  },
  {
   "cell_type": "code",
   "execution_count": 4,
   "id": "dbbd94a6",
   "metadata": {},
   "outputs": [],
   "source": [
    "test = {1, \"1\", 1.0}"
   ]
  },
  {
   "cell_type": "code",
   "execution_count": 5,
   "id": "f345aff0",
   "metadata": {},
   "outputs": [
    {
     "data": {
      "text/plain": [
       "2"
      ]
     },
     "execution_count": 5,
     "metadata": {},
     "output_type": "execute_result"
    }
   ],
   "source": [
    "len(test)"
   ]
  },
  {
   "cell_type": "code",
   "execution_count": 6,
   "id": "ba9af522",
   "metadata": {},
   "outputs": [
    {
     "data": {
      "text/plain": [
       "True"
      ]
     },
     "execution_count": 6,
     "metadata": {},
     "output_type": "execute_result"
    }
   ],
   "source": [
    "1 == 1.0"
   ]
  },
  {
   "cell_type": "code",
   "execution_count": 7,
   "id": "7ef95f21",
   "metadata": {},
   "outputs": [],
   "source": [
    "given_list = [1, 2, 3, 4, 5]"
   ]
  },
  {
   "cell_type": "code",
   "execution_count": 8,
   "id": "2222d3cb",
   "metadata": {},
   "outputs": [
    {
     "ename": "TypeError",
     "evalue": "unhashable type: 'list'",
     "output_type": "error",
     "traceback": [
      "\u001b[0;31m---------------------------------------------------------------------------\u001b[0m",
      "\u001b[0;31mTypeError\u001b[0m                                 Traceback (most recent call last)",
      "\u001b[0;32m<ipython-input-8-2d5df8db4262>\u001b[0m in \u001b[0;36m<module>\u001b[0;34m\u001b[0m\n\u001b[0;32m----> 1\u001b[0;31m \u001b[0;34m{\u001b[0m\u001b[0mgiven_list\u001b[0m\u001b[0;34m}\u001b[0m\u001b[0;34m\u001b[0m\u001b[0;34m\u001b[0m\u001b[0m\n\u001b[0m",
      "\u001b[0;31mTypeError\u001b[0m: unhashable type: 'list'"
     ]
    }
   ],
   "source": [
    "{given_list}"
   ]
  },
  {
   "cell_type": "code",
   "execution_count": 9,
   "id": "0ecb50c6",
   "metadata": {},
   "outputs": [
    {
     "ename": "TypeError",
     "evalue": "unhashable type: 'list'",
     "output_type": "error",
     "traceback": [
      "\u001b[0;31m---------------------------------------------------------------------------\u001b[0m",
      "\u001b[0;31mTypeError\u001b[0m                                 Traceback (most recent call last)",
      "\u001b[0;32m<ipython-input-9-7e779182a798>\u001b[0m in \u001b[0;36m<module>\u001b[0;34m\u001b[0m\n\u001b[0;32m----> 1\u001b[0;31m \u001b[0;34m{\u001b[0m\u001b[0;34m[\u001b[0m\u001b[0;36m1\u001b[0m\u001b[0;34m,\u001b[0m \u001b[0;34m\"bir\"\u001b[0m\u001b[0;34m]\u001b[0m\u001b[0;34m,\u001b[0m \u001b[0;34m\"ali\"\u001b[0m\u001b[0;34m,\u001b[0m \u001b[0;34m\"deli\"\u001b[0m\u001b[0;34m}\u001b[0m\u001b[0;34m\u001b[0m\u001b[0;34m\u001b[0m\u001b[0m\n\u001b[0m",
      "\u001b[0;31mTypeError\u001b[0m: unhashable type: 'list'"
     ]
    }
   ],
   "source": [
    "{[1, \"bir\"], \"ali\", \"deli\"}"
   ]
  },
  {
   "cell_type": "code",
   "execution_count": 10,
   "id": "fcda2ad7",
   "metadata": {},
   "outputs": [
    {
     "ename": "TypeError",
     "evalue": "unhashable type: 'list'",
     "output_type": "error",
     "traceback": [
      "\u001b[0;31m---------------------------------------------------------------------------\u001b[0m",
      "\u001b[0;31mTypeError\u001b[0m                                 Traceback (most recent call last)",
      "\u001b[0;32m<ipython-input-10-ebb3a76cc91c>\u001b[0m in \u001b[0;36m<module>\u001b[0;34m\u001b[0m\n\u001b[0;32m----> 1\u001b[0;31m \u001b[0mkarışık\u001b[0m \u001b[0;34m=\u001b[0m \u001b[0;34m{\u001b[0m\u001b[0;34m[\u001b[0m\u001b[0;36m1\u001b[0m\u001b[0;34m,\u001b[0m\u001b[0;36m2\u001b[0m\u001b[0;34m,\u001b[0m\u001b[0;36m3\u001b[0m\u001b[0;34m]\u001b[0m\u001b[0;34m,\u001b[0m \u001b[0;34m{\u001b[0m\u001b[0;36m1\u001b[0m \u001b[0;34m:\u001b[0m \u001b[0;34m\"bir\"\u001b[0m\u001b[0;34m}\u001b[0m\u001b[0;34m,\u001b[0m \u001b[0;34m(\u001b[0m\u001b[0;34m\"üç\"\u001b[0m\u001b[0;34m,\u001b[0m \u001b[0;34m\"dört\"\u001b[0m\u001b[0;34m)\u001b[0m\u001b[0;34m}\u001b[0m\u001b[0;34m\u001b[0m\u001b[0;34m\u001b[0m\u001b[0m\n\u001b[0m",
      "\u001b[0;31mTypeError\u001b[0m: unhashable type: 'list'"
     ]
    }
   ],
   "source": [
    "karışık = {[1,2,3], {1 : \"bir\"}, (\"üç\", \"dört\")}"
   ]
  },
  {
   "cell_type": "code",
   "execution_count": 11,
   "id": "67996453",
   "metadata": {},
   "outputs": [
    {
     "data": {
      "text/plain": [
       "{1, 2, 3, 4, 5}"
      ]
     },
     "execution_count": 11,
     "metadata": {},
     "output_type": "execute_result"
    }
   ],
   "source": [
    "set(given_list)"
   ]
  },
  {
   "cell_type": "code",
   "execution_count": 12,
   "id": "d818cfcd",
   "metadata": {},
   "outputs": [
    {
     "ename": "TypeError",
     "evalue": "unhashable type: 'set'",
     "output_type": "error",
     "traceback": [
      "\u001b[0;31m---------------------------------------------------------------------------\u001b[0m",
      "\u001b[0;31mTypeError\u001b[0m                                 Traceback (most recent call last)",
      "\u001b[0;32m<ipython-input-12-862c413219d2>\u001b[0m in \u001b[0;36m<module>\u001b[0;34m\u001b[0m\n\u001b[0;32m----> 1\u001b[0;31m \u001b[0mmix\u001b[0m \u001b[0;34m=\u001b[0m \u001b[0;34m{\u001b[0m\u001b[0;36m1\u001b[0m\u001b[0;34m,\u001b[0m \u001b[0;36m2\u001b[0m\u001b[0;34m,\u001b[0m \u001b[0;34m{\u001b[0m\u001b[0;36m3\u001b[0m\u001b[0;34m,\u001b[0m \u001b[0;36m4\u001b[0m\u001b[0;34m}\u001b[0m\u001b[0;34m}\u001b[0m\u001b[0;34m\u001b[0m\u001b[0;34m\u001b[0m\u001b[0m\n\u001b[0m",
      "\u001b[0;31mTypeError\u001b[0m: unhashable type: 'set'"
     ]
    }
   ],
   "source": [
    "mix = {1, 2, {3, 4}}"
   ]
  },
  {
   "cell_type": "code",
   "execution_count": 13,
   "id": "eb1f1313",
   "metadata": {},
   "outputs": [
    {
     "ename": "TypeError",
     "evalue": "unhashable type: 'dict'",
     "output_type": "error",
     "traceback": [
      "\u001b[0;31m---------------------------------------------------------------------------\u001b[0m",
      "\u001b[0;31mTypeError\u001b[0m                                 Traceback (most recent call last)",
      "\u001b[0;32m<ipython-input-13-c9e5f01fe27f>\u001b[0m in \u001b[0;36m<module>\u001b[0;34m\u001b[0m\n\u001b[0;32m----> 1\u001b[0;31m \u001b[0mset_dict\u001b[0m \u001b[0;34m=\u001b[0m \u001b[0;34m{\u001b[0m\u001b[0;36m1\u001b[0m\u001b[0;34m,\u001b[0m \u001b[0;36m2\u001b[0m\u001b[0;34m,\u001b[0m \u001b[0;34m{\u001b[0m\u001b[0;34m\"bir\"\u001b[0m \u001b[0;34m:\u001b[0m \u001b[0;34m\"iki\"\u001b[0m\u001b[0;34m}\u001b[0m\u001b[0;34m}\u001b[0m\u001b[0;34m\u001b[0m\u001b[0;34m\u001b[0m\u001b[0m\n\u001b[0m",
      "\u001b[0;31mTypeError\u001b[0m: unhashable type: 'dict'"
     ]
    }
   ],
   "source": [
    "set_dict = {1, 2, {\"bir\" : \"iki\"}}"
   ]
  },
  {
   "cell_type": "code",
   "execution_count": 14,
   "id": "2238c394",
   "metadata": {},
   "outputs": [],
   "source": [
    "tuple_set = {1,2, (3,4)}"
   ]
  },
  {
   "cell_type": "code",
   "execution_count": 15,
   "id": "10b90773",
   "metadata": {},
   "outputs": [
    {
     "data": {
      "text/plain": [
       "{(3, 4), 1, 2}"
      ]
     },
     "execution_count": 15,
     "metadata": {},
     "output_type": "execute_result"
    }
   ],
   "source": [
    "tuple_set"
   ]
  },
  {
   "cell_type": "code",
   "execution_count": 16,
   "id": "c9b709d4",
   "metadata": {},
   "outputs": [],
   "source": [
    "a = {1,2,3,4}\n",
    "b = {3,4}"
   ]
  },
  {
   "cell_type": "code",
   "execution_count": 17,
   "id": "d6235e70",
   "metadata": {},
   "outputs": [
    {
     "data": {
      "text/plain": [
       "{1, 2, 3, 4}"
      ]
     },
     "execution_count": 17,
     "metadata": {},
     "output_type": "execute_result"
    }
   ],
   "source": [
    "a"
   ]
  },
  {
   "cell_type": "code",
   "execution_count": 18,
   "id": "2abd6c25",
   "metadata": {},
   "outputs": [
    {
     "data": {
      "text/plain": [
       "{3, 4}"
      ]
     },
     "execution_count": 18,
     "metadata": {},
     "output_type": "execute_result"
    }
   ],
   "source": [
    "b"
   ]
  },
  {
   "cell_type": "code",
   "execution_count": 19,
   "id": "9fd1b19f",
   "metadata": {},
   "outputs": [],
   "source": [
    "a = {'carnation', 'orchid', 'rose', 'violet'} \n",
    "b = {'rose', 'orchid', 'rose', 'violet', 'carnation'} "
   ]
  },
  {
   "cell_type": "code",
   "execution_count": 20,
   "id": "6cd78f63",
   "metadata": {},
   "outputs": [
    {
     "data": {
      "text/plain": [
       "True"
      ]
     },
     "execution_count": 20,
     "metadata": {},
     "output_type": "execute_result"
    }
   ],
   "source": [
    "a == b"
   ]
  },
  {
   "cell_type": "code",
   "execution_count": 21,
   "id": "505fdfb0",
   "metadata": {},
   "outputs": [
    {
     "data": {
      "text/plain": [
       "{'carnation', 'orchid', 'rose', 'violet'}"
      ]
     },
     "execution_count": 21,
     "metadata": {},
     "output_type": "execute_result"
    }
   ],
   "source": [
    "a"
   ]
  },
  {
   "cell_type": "code",
   "execution_count": 22,
   "id": "fa880ff8",
   "metadata": {},
   "outputs": [
    {
     "data": {
      "text/plain": [
       "{'carnation', 'orchid', 'rose', 'violet'}"
      ]
     },
     "execution_count": 22,
     "metadata": {},
     "output_type": "execute_result"
    }
   ],
   "source": [
    "b"
   ]
  },
  {
   "cell_type": "code",
   "execution_count": 23,
   "id": "3de4de8b",
   "metadata": {},
   "outputs": [],
   "source": [
    "a.add(\"lily\")"
   ]
  },
  {
   "cell_type": "code",
   "execution_count": 24,
   "id": "24fa8fe1",
   "metadata": {},
   "outputs": [
    {
     "data": {
      "text/plain": [
       "{'carnation', 'lily', 'orchid', 'rose', 'violet'}"
      ]
     },
     "execution_count": 24,
     "metadata": {},
     "output_type": "execute_result"
    }
   ],
   "source": [
    "a"
   ]
  },
  {
   "cell_type": "code",
   "execution_count": 25,
   "id": "76a3752c",
   "metadata": {},
   "outputs": [],
   "source": [
    "a.remove(\"rose\")"
   ]
  },
  {
   "cell_type": "code",
   "execution_count": 26,
   "id": "8f79bee0",
   "metadata": {},
   "outputs": [
    {
     "data": {
      "text/plain": [
       "{'carnation', 'lily', 'orchid', 'violet'}"
      ]
     },
     "execution_count": 26,
     "metadata": {},
     "output_type": "execute_result"
    }
   ],
   "source": [
    "a"
   ]
  },
  {
   "cell_type": "code",
   "execution_count": 27,
   "id": "ef7eda7d",
   "metadata": {},
   "outputs": [],
   "source": [
    "left = set(\"qwertasdfgzxcvb\")"
   ]
  },
  {
   "cell_type": "code",
   "execution_count": 28,
   "id": "0b088f8c",
   "metadata": {},
   "outputs": [
    {
     "data": {
      "text/plain": [
       "{'a', 'b', 'c', 'd', 'e', 'f', 'g', 'q', 'r', 's', 't', 'v', 'w', 'x', 'z'}"
      ]
     },
     "execution_count": 28,
     "metadata": {},
     "output_type": "execute_result"
    }
   ],
   "source": [
    "left"
   ]
  },
  {
   "cell_type": "code",
   "execution_count": 29,
   "id": "7a25052f",
   "metadata": {},
   "outputs": [],
   "source": [
    "right = set(\"yuiophjklmn\")"
   ]
  },
  {
   "cell_type": "code",
   "execution_count": 30,
   "id": "fd5f2937",
   "metadata": {},
   "outputs": [
    {
     "data": {
      "text/plain": [
       "{'h', 'i', 'j', 'k', 'l', 'm', 'n', 'o', 'p', 'u', 'y'}"
      ]
     },
     "execution_count": 30,
     "metadata": {},
     "output_type": "execute_result"
    }
   ],
   "source": [
    "right"
   ]
  },
  {
   "cell_type": "code",
   "execution_count": 31,
   "id": "2bafd5bb",
   "metadata": {},
   "outputs": [],
   "source": [
    "word = \"clarusway\""
   ]
  },
  {
   "cell_type": "code",
   "execution_count": 32,
   "id": "9a10b493",
   "metadata": {},
   "outputs": [],
   "source": [
    "word = set(word)"
   ]
  },
  {
   "cell_type": "code",
   "execution_count": 33,
   "id": "b1574c54",
   "metadata": {},
   "outputs": [
    {
     "data": {
      "text/plain": [
       "{'a', 'c', 'l', 'r', 's', 'u', 'w', 'y'}"
      ]
     },
     "execution_count": 33,
     "metadata": {},
     "output_type": "execute_result"
    }
   ],
   "source": [
    "word"
   ]
  },
  {
   "cell_type": "code",
   "execution_count": 42,
   "id": "eea28468",
   "metadata": {},
   "outputs": [],
   "source": [
    "word2 = set(\"test\")"
   ]
  },
  {
   "cell_type": "code",
   "execution_count": 34,
   "id": "75812aec",
   "metadata": {},
   "outputs": [
    {
     "data": {
      "text/plain": [
       "False"
      ]
     },
     "execution_count": 34,
     "metadata": {},
     "output_type": "execute_result"
    }
   ],
   "source": [
    "bool(set())"
   ]
  },
  {
   "cell_type": "code",
   "execution_count": 36,
   "id": "004b3263",
   "metadata": {},
   "outputs": [
    {
     "data": {
      "text/plain": [
       "True"
      ]
     },
     "execution_count": 36,
     "metadata": {},
     "output_type": "execute_result"
    }
   ],
   "source": [
    "bool(set(\"bir\"))"
   ]
  },
  {
   "cell_type": "code",
   "execution_count": 37,
   "id": "046e5c8d",
   "metadata": {},
   "outputs": [],
   "source": [
    "leftcheck = bool(word.intersection(left))\n",
    "rightcheck = bool(word.intersection(right))"
   ]
  },
  {
   "cell_type": "code",
   "execution_count": 38,
   "id": "46ea26e0",
   "metadata": {},
   "outputs": [
    {
     "data": {
      "text/plain": [
       "True"
      ]
     },
     "execution_count": 38,
     "metadata": {},
     "output_type": "execute_result"
    }
   ],
   "source": [
    "leftcheck"
   ]
  },
  {
   "cell_type": "code",
   "execution_count": 39,
   "id": "d9e0fc95",
   "metadata": {},
   "outputs": [
    {
     "data": {
      "text/plain": [
       "True"
      ]
     },
     "execution_count": 39,
     "metadata": {},
     "output_type": "execute_result"
    }
   ],
   "source": [
    "rightcheck"
   ]
  },
  {
   "cell_type": "code",
   "execution_count": 40,
   "id": "2dee0471",
   "metadata": {},
   "outputs": [],
   "source": [
    "sonuc = leftcheck and rightcheck"
   ]
  },
  {
   "cell_type": "code",
   "execution_count": 41,
   "id": "a38bd329",
   "metadata": {},
   "outputs": [
    {
     "data": {
      "text/plain": [
       "True"
      ]
     },
     "execution_count": 41,
     "metadata": {},
     "output_type": "execute_result"
    }
   ],
   "source": [
    "sonuc"
   ]
  },
  {
   "cell_type": "code",
   "execution_count": 43,
   "id": "6c419e35",
   "metadata": {},
   "outputs": [
    {
     "data": {
      "text/plain": [
       "False"
      ]
     },
     "execution_count": 43,
     "metadata": {},
     "output_type": "execute_result"
    }
   ],
   "source": [
    "leftcheck2 = bool(word2.intersection(left))\n",
    "rightcheck2 = bool(word2.intersection(right))\n",
    "sonuc2 = leftcheck2 and rightcheck2\n",
    "sonuc2"
   ]
  },
  {
   "cell_type": "code",
   "execution_count": 44,
   "id": "eb8efca8",
   "metadata": {},
   "outputs": [
    {
     "name": "stdout",
     "output_type": "stream",
     "text": [
      "bir kelime yazınız.clarusway\n"
     ]
    }
   ],
   "source": [
    "word = input(\"bir kelime yazınız.\")"
   ]
  },
  {
   "cell_type": "code",
   "execution_count": 45,
   "id": "e6d88421",
   "metadata": {},
   "outputs": [
    {
     "data": {
      "text/plain": [
       "'clarusway'"
      ]
     },
     "execution_count": 45,
     "metadata": {},
     "output_type": "execute_result"
    }
   ],
   "source": [
    "word"
   ]
  },
  {
   "cell_type": "code",
   "execution_count": 46,
   "id": "5546bd07",
   "metadata": {},
   "outputs": [
    {
     "name": "stdout",
     "output_type": "stream",
     "text": [
      "bir sayı giriniz55\n",
      "<class 'str'>\n"
     ]
    }
   ],
   "source": [
    "print(type(input(\"bir sayı giriniz\")))"
   ]
  },
  {
   "cell_type": "code",
   "execution_count": null,
   "id": "0b8e7590",
   "metadata": {},
   "outputs": [],
   "source": []
  }
 ],
 "metadata": {
  "kernelspec": {
   "display_name": "Python 3",
   "language": "python",
   "name": "python3"
  },
  "language_info": {
   "codemirror_mode": {
    "name": "ipython",
    "version": 3
   },
   "file_extension": ".py",
   "mimetype": "text/x-python",
   "name": "python",
   "nbconvert_exporter": "python",
   "pygments_lexer": "ipython3",
   "version": "3.8.8"
  }
 },
 "nbformat": 4,
 "nbformat_minor": 5
}
