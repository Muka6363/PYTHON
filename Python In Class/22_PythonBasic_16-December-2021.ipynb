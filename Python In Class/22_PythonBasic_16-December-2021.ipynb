{
 "cells": [
  {
   "cell_type": "markdown",
   "id": "1a6ea207",
   "metadata": {},
   "source": [
    "<img src=\"https://docs.google.com/uc?id=14xeXxFrVRjvOoUYWn_GuyE-v84wVzrqr\" class=\"img-fluid\" alt=\"CLRWY\" width=\"400\" height=\"200\">"
   ]
  },
  {
   "cell_type": "markdown",
   "id": "22263af8",
   "metadata": {},
   "source": [
    "<h1><p style=\"text-align: center; color:darkblue\">Python In-Class, <br>16 December 2021</p><h1>"
   ]
  },
  {
   "cell_type": "code",
   "execution_count": 1,
   "id": "010f54be",
   "metadata": {},
   "outputs": [
    {
     "name": "stdout",
     "output_type": "stream",
     "text": [
      "Orca is a kind of Dolphin.\n",
      "Blue Whale is the largest animal known on earth.\n",
      "Sharks are the sister group to the Rays (batoids).\n",
      "The Tuna Fish can weigh up to 260 kg.\n",
      "Squid and Octopus are in the same class.\n"
     ]
    }
   ],
   "source": [
    "file = open(\"fishes.txt\", \"r\", encoding=\"utf-8\")\n",
    "\n",
    "print(file.read())\n",
    "\n",
    "file.close()"
   ]
  },
  {
   "cell_type": "code",
   "execution_count": 2,
   "id": "dae07474",
   "metadata": {},
   "outputs": [],
   "source": [
    "file = open(\"fishes.txt\", \"r\", encoding=\"utf-8\")\n",
    "\n",
    "content = file.read()\n",
    "\n",
    "file.close()"
   ]
  },
  {
   "cell_type": "code",
   "execution_count": 3,
   "id": "467e3cda",
   "metadata": {},
   "outputs": [
    {
     "data": {
      "text/plain": [
       "'Orca is a kind of Dolphin.\\nBlue Whale is the largest animal known on earth.\\nSharks are the sister group to the Rays (batoids).\\nThe Tuna Fish can weigh up to 260 kg.\\nSquid and Octopus are in the same class.'"
      ]
     },
     "execution_count": 3,
     "metadata": {},
     "output_type": "execute_result"
    }
   ],
   "source": [
    "content"
   ]
  },
  {
   "cell_type": "code",
   "execution_count": 4,
   "id": "d4e679a6",
   "metadata": {},
   "outputs": [
    {
     "data": {
      "text/plain": [
       "'/Users/ozgurhamdullah/jobs/CW/pythonic/python_sessions/PythonSessions-Cohort-010'"
      ]
     },
     "execution_count": 4,
     "metadata": {},
     "output_type": "execute_result"
    }
   ],
   "source": [
    "pwd"
   ]
  },
  {
   "cell_type": "code",
   "execution_count": 5,
   "id": "33e75728",
   "metadata": {},
   "outputs": [
    {
     "name": "stdout",
     "output_type": "stream",
     "text": [
      "Orca is a kind of Dolphin.\n",
      "Blue W\n"
     ]
    }
   ],
   "source": [
    "file = open(\"fishes.txt\", \"r\", encoding=\"utf-8\")\n",
    "\n",
    "print(file.read(33))\n",
    "\n",
    "file.close()"
   ]
  },
  {
   "cell_type": "code",
   "execution_count": 6,
   "id": "c4bb1707",
   "metadata": {},
   "outputs": [
    {
     "data": {
      "text/plain": [
       "205"
      ]
     },
     "execution_count": 6,
     "metadata": {},
     "output_type": "execute_result"
    }
   ],
   "source": [
    "len(content)"
   ]
  },
  {
   "cell_type": "code",
   "execution_count": 8,
   "id": "ef594d5d",
   "metadata": {},
   "outputs": [
    {
     "data": {
      "text/plain": [
       "'Orca is a kind of Dolphin.\\nBlue W'"
      ]
     },
     "execution_count": 8,
     "metadata": {},
     "output_type": "execute_result"
    }
   ],
   "source": [
    "content[:33]"
   ]
  },
  {
   "cell_type": "code",
   "execution_count": 9,
   "id": "c886d392",
   "metadata": {},
   "outputs": [
    {
     "name": "stdout",
     "output_type": "stream",
     "text": [
      "Orca is a kind of Dolphin.\n",
      "Blue W\n",
      "hale is the largest animal known \n"
     ]
    }
   ],
   "source": [
    "file = open(\"fishes.txt\", \"r\")\n",
    "\n",
    "print(file.read(33))\n",
    "print(file.read(33))\n",
    "\n",
    "file.close()"
   ]
  },
  {
   "cell_type": "code",
   "execution_count": 10,
   "id": "906f47f1",
   "metadata": {},
   "outputs": [
    {
     "name": "stdout",
     "output_type": "stream",
     "text": [
      "Orca is a kind of Dolphin.\n",
      "Blue W\n",
      "hale is the largest animal known \n",
      "Orca is a kind of Dolphin.\n",
      "Blue W\n"
     ]
    }
   ],
   "source": [
    "file = open(\"fishes.txt\", \"r\")\n",
    "\n",
    "print(file.read(33))\n",
    "print(file.read(33))\n",
    "\n",
    "file.seek(0)\n",
    "\n",
    "print(file.read(33))\n",
    "\n",
    "file.close()"
   ]
  },
  {
   "cell_type": "code",
   "execution_count": 11,
   "id": "08558432",
   "metadata": {},
   "outputs": [
    {
     "name": "stdout",
     "output_type": "stream",
     "text": [
      "Orca is a kind of Dolphin.\n",
      "Blue W\n",
      "hale is the largest animal known \n",
      "Orca is a kind of Dolphin.\n",
      "Blue W\n",
      "34\n"
     ]
    }
   ],
   "source": [
    "file = open(\"fishes.txt\", \"r\")\n",
    "\n",
    "print(file.read(33))\n",
    "print(file.read(33))\n",
    "\n",
    "file.seek(0)\n",
    "\n",
    "print(file.read(33))\n",
    "print(file.tell())\n",
    "\n",
    "file.close()"
   ]
  },
  {
   "cell_type": "code",
   "execution_count": 12,
   "id": "0a581774",
   "metadata": {},
   "outputs": [
    {
     "name": "stdout",
     "output_type": "stream",
     "text": [
      "Orca is a kind of Dolphin.\n",
      "Blue W\n",
      "hale is the lar\n",
      "49\n",
      "Orca is a kind of Dolphin.\n",
      "Blue W\n",
      "34\n"
     ]
    }
   ],
   "source": [
    "file = open(\"fishes.txt\", \"r\")\n",
    "\n",
    "print(file.read(33))\n",
    "print(file.read(15))\n",
    "print(file.tell())\n",
    "\n",
    "file.seek(0)\n",
    "\n",
    "print(file.read(33))\n",
    "print(file.tell())\n",
    "\n",
    "file.close()"
   ]
  },
  {
   "cell_type": "code",
   "execution_count": 14,
   "id": "09dcacaa",
   "metadata": {},
   "outputs": [
    {
     "name": "stdout",
     "output_type": "stream",
     "text": [
      "I want to sing\n",
      "Like the birds sing,\n",
      "Not worrying about\n",
      "Who hears or\n",
      "What they think.\n"
     ]
    }
   ],
   "source": [
    "rumi = open(\"rumi.txt\", \"r\", encoding=\"utf-8\")\n",
    "\n",
    "print(rumi.read())\n",
    "\n",
    "rumi.close()"
   ]
  },
  {
   "cell_type": "code",
   "execution_count": 15,
   "id": "0f50d37c",
   "metadata": {},
   "outputs": [
    {
     "name": "stdout",
     "output_type": "stream",
     "text": [
      "I want to sing\n",
      "Like the birds sing,\n"
     ]
    }
   ],
   "source": [
    "rumi = open(\"rumi.txt\", \"r\", encoding=\"utf-8\")\n",
    "\n",
    "print(rumi.read(35))\n",
    "\n",
    "rumi.close()"
   ]
  },
  {
   "cell_type": "code",
   "execution_count": 16,
   "id": "c839c430",
   "metadata": {},
   "outputs": [
    {
     "name": "stdout",
     "output_type": "stream",
     "text": [
      "I want to sing\n",
      "Like the birds sing,\n",
      "\n",
      "Not worrying\n"
     ]
    }
   ],
   "source": [
    "rumi = open(\"rumi.txt\", \"r\", encoding=\"utf-8\")\n",
    "\n",
    "print(rumi.read(35))\n",
    "print(rumi.read(13))\n",
    "\n",
    "rumi.close()"
   ]
  },
  {
   "cell_type": "code",
   "execution_count": 17,
   "id": "315685bd",
   "metadata": {},
   "outputs": [
    {
     "name": "stdout",
     "output_type": "stream",
     "text": [
      "I want to sing\n",
      "Like the birds sing,\n",
      "\n",
      "Not worrying\n",
      "50\n",
      "\n",
      "Like the birds sing,\n"
     ]
    }
   ],
   "source": [
    "rumi = open(\"rumi.txt\", \"r\", encoding=\"utf-8\")\n",
    "\n",
    "print(rumi.read(35))\n",
    "print(rumi.read(13))\n",
    "print(rumi.tell())\n",
    "\n",
    "rumi.seek(15)\n",
    "print(rumi.read(21))\n",
    "\n",
    "rumi.close()"
   ]
  },
  {
   "cell_type": "code",
   "execution_count": 19,
   "id": "95e654e6",
   "metadata": {},
   "outputs": [
    {
     "name": "stdout",
     "output_type": "stream",
     "text": [
      "Orca is a kind of Dolphin.\n",
      "Blue Whale is the largest animal known on earth.\n",
      "Sharks are the sister group to the Rays (batoids).\n",
      "The Tuna Fish can weigh up to 260 kg.\n",
      "Squid and Octopus are in the same class.\n"
     ]
    }
   ],
   "source": [
    "sea = open(\"fishes.txt\", 'r')   \n",
    "\n",
    "print(sea.read())\n",
    "\n",
    "sea.close()"
   ]
  },
  {
   "cell_type": "code",
   "execution_count": 18,
   "id": "be58ee00",
   "metadata": {},
   "outputs": [
    {
     "name": "stdout",
     "output_type": "stream",
     "text": [
      "Orca is a kind of Dolphin.\n",
      "\n",
      "Blue Whale is the largest animal known on earth.\n",
      "\n",
      "Sharks are the sister group to the Rays (batoids).\n",
      "\n"
     ]
    }
   ],
   "source": [
    "sea = open(\"fishes.txt\", 'r')   \n",
    "\n",
    "print(sea.readline())  # displays the first line of the text\n",
    "print(sea.readline())  # displays the second line\n",
    "print(sea.readline())  # each time it goes to the new line\n",
    "\n",
    "sea.close()\n"
   ]
  },
  {
   "cell_type": "code",
   "execution_count": 20,
   "id": "3720d3b2",
   "metadata": {},
   "outputs": [
    {
     "name": "stdout",
     "output_type": "stream",
     "text": [
      "Orca is a kin\n",
      "d of Dolphin.\n",
      "\n",
      "\n",
      "Blue Whale is\n"
     ]
    }
   ],
   "source": [
    "sea = open(\"fishes.txt\", 'r')   \n",
    "\n",
    "print(sea.readline(13))\n",
    "print(sea.readline(13))\n",
    "print(sea.readline(13))\n",
    "print(sea.readline(13))\n",
    "\n",
    "sea.close()"
   ]
  },
  {
   "cell_type": "code",
   "execution_count": 21,
   "id": "6f9e89d7",
   "metadata": {},
   "outputs": [],
   "source": [
    "sea = open(\"fishes.txt\", 'r')   \n",
    "\n",
    "part_1 = sea.readline(13)\n",
    "part_2 = sea.readline(13)\n",
    "part_3 = sea.readline(13)\n",
    "part_4 = sea.readline(13)\n",
    "\n",
    "sea.close()"
   ]
  },
  {
   "cell_type": "code",
   "execution_count": 22,
   "id": "bd4a6d20",
   "metadata": {},
   "outputs": [
    {
     "data": {
      "text/plain": [
       "'Orca is a kin'"
      ]
     },
     "execution_count": 22,
     "metadata": {},
     "output_type": "execute_result"
    }
   ],
   "source": [
    "part_1"
   ]
  },
  {
   "cell_type": "code",
   "execution_count": 23,
   "id": "eb7bcb7e",
   "metadata": {},
   "outputs": [
    {
     "data": {
      "text/plain": [
       "'d of Dolphin.'"
      ]
     },
     "execution_count": 23,
     "metadata": {},
     "output_type": "execute_result"
    }
   ],
   "source": [
    "part_2"
   ]
  },
  {
   "cell_type": "code",
   "execution_count": 24,
   "id": "77bafb6c",
   "metadata": {},
   "outputs": [
    {
     "data": {
      "text/plain": [
       "'\\n'"
      ]
     },
     "execution_count": 24,
     "metadata": {},
     "output_type": "execute_result"
    }
   ],
   "source": [
    "part_3"
   ]
  },
  {
   "cell_type": "code",
   "execution_count": 25,
   "id": "cc9c51a3",
   "metadata": {},
   "outputs": [
    {
     "name": "stdout",
     "output_type": "stream",
     "text": [
      "\n",
      "\n"
     ]
    }
   ],
   "source": [
    "print(part_3)"
   ]
  },
  {
   "cell_type": "code",
   "execution_count": 26,
   "id": "e22459e1",
   "metadata": {},
   "outputs": [
    {
     "data": {
      "text/plain": [
       "'Orca is a kind of Dolphin.\\n'"
      ]
     },
     "execution_count": 26,
     "metadata": {},
     "output_type": "execute_result"
    }
   ],
   "source": [
    "first_line = part_1 + part_2 + part_3\n",
    "first_line"
   ]
  },
  {
   "cell_type": "code",
   "execution_count": 31,
   "id": "292cf15e",
   "metadata": {},
   "outputs": [
    {
     "name": "stdout",
     "output_type": "stream",
     "text": [
      "I want to sing\n",
      "\n",
      "Like the birds sing,\n",
      "\n",
      "Not worrying about\n",
      "\n"
     ]
    }
   ],
   "source": [
    "rumi = open(\"rumi.txt\", \"r\")\n",
    "\n",
    "print(rumi.readline())\n",
    "print(rumi.readline())\n",
    "print(rumi.readline(50))\n",
    "\n",
    "rumi.close()"
   ]
  },
  {
   "cell_type": "code",
   "execution_count": 32,
   "id": "59a2807f",
   "metadata": {},
   "outputs": [],
   "source": [
    "with open(\"fishes.txt\", \"r\") as file :\n",
    "    fish = file.readlines()"
   ]
  },
  {
   "cell_type": "code",
   "execution_count": 33,
   "id": "b9d3522e",
   "metadata": {},
   "outputs": [
    {
     "data": {
      "text/plain": [
       "['Orca is a kind of Dolphin.\\n',\n",
       " 'Blue Whale is the largest animal known on earth.\\n',\n",
       " 'Sharks are the sister group to the Rays (batoids).\\n',\n",
       " 'The Tuna Fish can weigh up to 260 kg.\\n',\n",
       " 'Squid and Octopus are in the same class.']"
      ]
     },
     "execution_count": 33,
     "metadata": {},
     "output_type": "execute_result"
    }
   ],
   "source": [
    "fish"
   ]
  },
  {
   "cell_type": "code",
   "execution_count": 34,
   "id": "90928d5b",
   "metadata": {},
   "outputs": [
    {
     "data": {
      "text/plain": [
       "list"
      ]
     },
     "execution_count": 34,
     "metadata": {},
     "output_type": "execute_result"
    }
   ],
   "source": [
    "type(fish)"
   ]
  },
  {
   "cell_type": "code",
   "execution_count": 35,
   "id": "d4abd168",
   "metadata": {},
   "outputs": [
    {
     "name": "stdout",
     "output_type": "stream",
     "text": [
      "Orca is a kind of Dolphin.\n",
      "\n",
      "Blue Whale is the largest animal known on earth.\n",
      "\n",
      "Sharks are the sister group to the Rays (batoids).\n",
      "\n",
      "The Tuna Fish can weigh up to 260 kg.\n",
      "\n",
      "Squid and Octopus are in the same class.\n"
     ]
    }
   ],
   "source": [
    "for line in fish :\n",
    "    print(line)"
   ]
  },
  {
   "cell_type": "code",
   "execution_count": 36,
   "id": "8f9f2c82",
   "metadata": {},
   "outputs": [],
   "source": [
    "with open(\"rumi.txt\", \"r\") as file :\n",
    "    rumi = file.readlines()"
   ]
  },
  {
   "cell_type": "code",
   "execution_count": 37,
   "id": "fbac1e9a",
   "metadata": {},
   "outputs": [
    {
     "data": {
      "text/plain": [
       "['I want to sing\\n',\n",
       " 'Like the birds sing,\\n',\n",
       " 'Not worrying about\\n',\n",
       " 'Who hears or\\n',\n",
       " 'What they think.']"
      ]
     },
     "execution_count": 37,
     "metadata": {},
     "output_type": "execute_result"
    }
   ],
   "source": [
    "rumi"
   ]
  },
  {
   "cell_type": "code",
   "execution_count": 38,
   "id": "a18d5092",
   "metadata": {},
   "outputs": [
    {
     "name": "stdout",
     "output_type": "stream",
     "text": [
      "Orca is a kind of Dolphin.\n",
      "\n",
      "Blue Whale is the largest animal known on earth.\n",
      "\n",
      "Sharks are the sister group to the Rays (batoids).\n",
      "\n",
      "The Tuna Fish can weigh up to 260 kg.\n",
      "\n",
      "Squid and Octopus are in the same class.\n"
     ]
    }
   ],
   "source": [
    "with open(\"fishes.txt\", \"r\") as file :\n",
    "    for line in file :\n",
    "        print(line)"
   ]
  },
  {
   "cell_type": "code",
   "execution_count": 39,
   "id": "95dd88b7",
   "metadata": {},
   "outputs": [
    {
     "data": {
      "text/plain": [
       "<_io.TextIOWrapper name='fishes.txt' mode='r' encoding='UTF-8'>"
      ]
     },
     "execution_count": 39,
     "metadata": {},
     "output_type": "execute_result"
    }
   ],
   "source": [
    "file"
   ]
  },
  {
   "cell_type": "code",
   "execution_count": 40,
   "id": "b2979fe9",
   "metadata": {},
   "outputs": [
    {
     "name": "stdout",
     "output_type": "stream",
     "text": [
      "This is the first line of my text file\n"
     ]
    }
   ],
   "source": [
    "with open(\"dummy_file.txt\", 'w', encoding=\"utf-8\") as file:  \n",
    "# we create and open the file\n",
    "\n",
    "    file.write('This is the first line of my text file')  \n",
    "    # writes str data into file\n",
    "\n",
    "with open(\"dummy_file.txt\", 'r', encoding=\"utf-8\") as file:\n",
    "    print(file.read())  # reads the content of the 'dummy_file'\n"
   ]
  },
  {
   "cell_type": "code",
   "execution_count": 41,
   "id": "13290774",
   "metadata": {
    "collapsed": true
   },
   "outputs": [
    {
     "name": "stdout",
     "output_type": "stream",
     "text": [
      "01_PythonBasic_23-September-2021(Teacher).ipynb\r\n",
      "01_PythonBasic_23-September-2021.ipynb\r\n",
      "02_PythonBasic_27-September-2021(Teacher).ipynb\r\n",
      "02_PythonBasic_27-September-2021.ipynb\r\n",
      "03_PythonBasic_30-September-2021(Teacher).ipynb\r\n",
      "03_PythonBasic_30-September-2021.ipynb\r\n",
      "04_PythonBasic_04-October-2021(Teacher).ipynb\r\n",
      "04_PythonBasic_04-October-2021.ipynb\r\n",
      "05_PythonBasic_07-October-2021(Teacher).ipynb\r\n",
      "05_PythonBasic_07-October-2021.ipynb\r\n",
      "06_PythonBasic_11-October-2021(Teacher).ipynb\r\n",
      "06_PythonBasic_11-October-2021.ipynb\r\n",
      "07_PythonBasic_14-October-2021(Teacher).ipynb\r\n",
      "07_PythonBasic_14-October-2021.ipynb\r\n",
      "08_PythonBasic_18-October-2021(Teacher).ipynb\r\n",
      "08_PythonBasic_18-October-2021.ipynb\r\n",
      "09_PythonBasic_21-October-2021.ipynb\r\n",
      "10_PythonBasic_1-November-2021.ipynb\r\n",
      "11_PythonBasic_4-November-2021.ipynb\r\n",
      "12_PythonBasic_8-November-2021.ipynb\r\n",
      "13_PythonBasic_11-November-2021.ipynb\r\n",
      "14_PythonBasic_15-November-2021.ipynb\r\n",
      "15_PythonBasic_17-November-2021.ipynb\r\n",
      "16_PythonBasic_22-November-2021.ipynb\r\n",
      "17_PythonBasic_29-November-2021.ipynb\r\n",
      "18_PythonBasic_02-December-2021.ipynb\r\n",
      "19_PythonBasic_07-December-2021.ipynb\r\n",
      "20_PythonBasic_09-December-2021.ipynb\r\n",
      "21_PythonBasic_13-December-2021.ipynb\r\n",
      "22_PythonBasic_16-December-2021.ipynb\r\n",
      "PythonInterestingTeachingCodes.ipynb\r\n",
      "dummy.txt\r\n",
      "dummy_file.txt\r\n",
      "fishes.txt\r\n",
      "flowers.txt\r\n",
      "fruits.csv\r\n",
      "fruits.txt\r\n",
      "fruits2.txt\r\n",
      "fruits3.txt\r\n",
      "fruits_dash.csv\r\n",
      "hata.txt\r\n",
      "hata1.txt\r\n",
      "insan_siiri.txt\r\n",
      "istiklal.txt\r\n",
      "my_csv_file.csv\r\n",
      "rumi.txt\r\n",
      "test.csv\r\n",
      "titanic.csv\r\n",
      "titanic_bayanlar.csv\r\n",
      "titanic_vefat.csv\r\n"
     ]
    }
   ],
   "source": [
    "!ls"
   ]
  },
  {
   "cell_type": "code",
   "execution_count": 42,
   "id": "63bce0df",
   "metadata": {},
   "outputs": [
    {
     "name": "stdout",
     "output_type": "stream",
     "text": [
      "This is the new line for my dummy_file\n"
     ]
    }
   ],
   "source": [
    "with open(\"dummy_file.txt\", 'w', encoding=\"utf-8\") as file:\n",
    "    file.write('This is the new line for my dummy_file')  \n",
    "    # we write new str data into it \n",
    "\n",
    "with open(\"dummy_file.txt\", 'r', encoding=\"utf-8\") as file:\n",
    "    print(file.read())  # reads the content of the 'dummy_file'\n"
   ]
  },
  {
   "cell_type": "code",
   "execution_count": 43,
   "id": "32f72f22",
   "metadata": {},
   "outputs": [],
   "source": [
    "fruits = ['Banana', 'Orange', 'Apple', 'Strawberry', 'Cherry']"
   ]
  },
  {
   "cell_type": "code",
   "execution_count": 44,
   "id": "b79ccf8e",
   "metadata": {},
   "outputs": [
    {
     "name": "stdout",
     "output_type": "stream",
     "text": [
      "Banana\n",
      "Orange\n",
      "Apple\n",
      "Strawberry\n",
      "Cherry\n",
      "\n"
     ]
    }
   ],
   "source": [
    "with open(\"fruits.txt\", \"w\", encoding=\"utf-8\") as dosyam :\n",
    "    for sepet in fruits :\n",
    "        dosyam.write(sepet + \"\\n\")\n",
    "        \n",
    "with open(\"fruits.txt\", \"r\") as file :\n",
    "    print(file.read())"
   ]
  },
  {
   "cell_type": "code",
   "execution_count": 45,
   "id": "71fdf4f1",
   "metadata": {},
   "outputs": [],
   "source": [
    "with open(\"fruits.txt\") as file:\n",
    "    fruits2 = file.readlines()"
   ]
  },
  {
   "cell_type": "code",
   "execution_count": 46,
   "id": "7ff9f9c9",
   "metadata": {},
   "outputs": [
    {
     "data": {
      "text/plain": [
       "['Banana\\n', 'Orange\\n', 'Apple\\n', 'Strawberry\\n', 'Cherry\\n']"
      ]
     },
     "execution_count": 46,
     "metadata": {},
     "output_type": "execute_result"
    }
   ],
   "source": [
    "fruits2"
   ]
  },
  {
   "cell_type": "code",
   "execution_count": 47,
   "id": "3cd0fb02",
   "metadata": {},
   "outputs": [],
   "source": [
    "with open(\"fruits2.txt\", \"w\", encoding=\"utf-8\") as ff :\n",
    "    ff.writelines(fruits2)"
   ]
  },
  {
   "cell_type": "code",
   "execution_count": 48,
   "id": "92d05fdd",
   "metadata": {},
   "outputs": [
    {
     "name": "stdout",
     "output_type": "stream",
     "text": [
      "Banana\n",
      "Orange\n",
      "Apple\n",
      "Strawberry\n",
      "Cherry\n",
      "\n"
     ]
    }
   ],
   "source": [
    "with open(\"fruits2.txt\", \"r\", encoding=\"utf-8\") as ff :\n",
    "    print(ff.read())"
   ]
  },
  {
   "cell_type": "code",
   "execution_count": 49,
   "id": "22b91e0a",
   "metadata": {},
   "outputs": [],
   "source": [
    "with open(\"fruits2.txt\", \"a\", encoding=\"utf-8\") as ff :\n",
    "    ff.writelines(fruits2)"
   ]
  },
  {
   "cell_type": "code",
   "execution_count": 50,
   "id": "851a9ef3",
   "metadata": {},
   "outputs": [
    {
     "name": "stdout",
     "output_type": "stream",
     "text": [
      "Banana\n",
      "Orange\n",
      "Apple\n",
      "Strawberry\n",
      "Cherry\n",
      "Banana\n",
      "Orange\n",
      "Apple\n",
      "Strawberry\n",
      "Cherry\n",
      "\n"
     ]
    }
   ],
   "source": [
    "with open(\"fruits2.txt\", \"r\", encoding=\"utf-8\") as ff :\n",
    "    print(ff.read())"
   ]
  },
  {
   "cell_type": "code",
   "execution_count": 51,
   "id": "ca125ce8",
   "metadata": {},
   "outputs": [
    {
     "data": {
      "text/plain": [
       "['Banana\\n', 'Orange\\n', 'Apple\\n', 'Strawberry\\n', 'Cherry\\n', 'Lemon']"
      ]
     },
     "execution_count": 51,
     "metadata": {},
     "output_type": "execute_result"
    }
   ],
   "source": [
    "fruits3 = fruits2 + [\"Lemon\"]\n",
    "fruits3"
   ]
  },
  {
   "cell_type": "code",
   "execution_count": 52,
   "id": "d34d6bb3",
   "metadata": {},
   "outputs": [
    {
     "name": "stdout",
     "output_type": "stream",
     "text": [
      "Banana\n",
      "Orange\n",
      "Apple\n",
      "Strawberry\n",
      "Cherry\n",
      "Lemon\n"
     ]
    }
   ],
   "source": [
    "with open(\"fruits3.txt\", \"w\", encoding=\"utf-8\") as ff :\n",
    "    ff.writelines(fruits3)\n",
    "\n",
    "with open(\"fruits3.txt\", \"r\", encoding=\"utf-8\") as ff :\n",
    "    print(ff.read())"
   ]
  },
  {
   "cell_type": "code",
   "execution_count": 53,
   "id": "d94409c7",
   "metadata": {},
   "outputs": [
    {
     "name": "stdout",
     "output_type": "stream",
     "text": [
      "Banana\n",
      "Orange\n",
      "Apple\n",
      "Strawberry\n",
      "Cherry\n",
      "LemonBanana\n",
      "Orange\n",
      "Apple\n",
      "Strawberry\n",
      "Cherry\n",
      "Lemon\n"
     ]
    }
   ],
   "source": [
    "with open(\"fruits3.txt\", \"a\", encoding=\"utf-8\") as ff :\n",
    "    ff.writelines(fruits3)\n",
    "\n",
    "with open(\"fruits3.txt\", \"r\", encoding=\"utf-8\") as ff :\n",
    "    print(ff.read())"
   ]
  },
  {
   "cell_type": "code",
   "execution_count": 54,
   "id": "25e118f6",
   "metadata": {},
   "outputs": [
    {
     "name": "stdout",
     "output_type": "stream",
     "text": [
      "Korkma, sönmez bu şafaklarda yüzen al sancak;\n",
      "Sönmeden yurdumun üstünde tüten en son ocak.\n",
      "O benim milletimin yıldızıdır, parlayacak;\n",
      "O benimdir, o benim milletimindir ancak.\n",
      "Çatma, kurban olayım, çehreni ey nazlı hilal!\n",
      "Kahraman ırkıma bir gül! Ne bu şiddet, bu celal?\n",
      "Sana olmaz dökülen kanlarımız sonra helal...\n",
      "Hakkıdır, hakk'a tapan, milletimin istiklal!\n",
      "Ben ezelden beridir hür yaşadım, hür yaşarım.\n",
      "Hangi çılgın bana zincir vuracakmış? Şaşarım!\n",
      "Kükremiş sel gibiyim, bendimi çiğner, aşarım.\n",
      "Yırtarım dağları, enginlere sığmam, taşarım.\n",
      "Garbın afakını sarmışsa çelik zırhlı duvar,\n",
      "Benim iman dolu göğsüm gibi serhaddim var.\n",
      "Ulusun, korkma! Nasıl böyle bir imanı boğar,\n",
      "'Medeniyet!' dediğin tek dişi kalmış canavar?\n",
      "Arkadaş! Yurduma alçakları uğratma, sakın.\n",
      "Siper et gövdeni, dursun bu hayasızca akın.\n",
      "Doğacaktır sana va'dettigi günler hakk'ın...\n",
      "Kim bilir, belki yarın, belki yarından da yakın.\n",
      "Bastığın yerleri 'toprak!' diyerek geçme, tanı:\n",
      "Düşün altında binlerce kefensiz yatanı.\n",
      "Sen şehit oğlusun, incitme, yazıktır, atanı:\n",
      "Verme, dünyaları alsan da, bu cennet vatanı.\n",
      "Kim bu cennet vatanın uğruna olmaz ki feda?\n",
      "Şuheda fışkıracak toprağı sıksan, şuheda!\n",
      "Canı, cananı, bütün varımı alsın da hüda,\n",
      "Etmesin tek vatanımdan beni dünyada cüda.\n",
      "Ruhumun senden, ilahi, şudur ancak emeli:\n",
      "Değmesin mabedimin göğsüne namahrem eli.\n",
      "Bu ezanlar-ki şahadetleri dinin temeli,\n",
      "Ebedi yurdumun üstünde benim inlemeli.\n",
      "\n"
     ]
    }
   ],
   "source": [
    "with open(\"istiklal.txt\", \"r\", encoding=\"utf-8\") as file :\n",
    "    print(file.read())"
   ]
  },
  {
   "cell_type": "code",
   "execution_count": null,
   "id": "c015ebd2",
   "metadata": {},
   "outputs": [],
   "source": [
    "\"\"\"\n",
    "Korkma, sönmez bu şafaklarda yüzen al sancak;\n",
    "Sönmeden yurdumun üstünde tüten en son ocak.\n",
    "O benim milletimin yıldızıdır, parlayacak;\n",
    "O benimdir, o benim milletimindir ancak.\n",
    "\n",
    "Çatma, kurban olayım, çehreni ey nazlı hilal!\n",
    "Kahraman ırkıma bir gül! Ne bu şiddet, bu celal?\n",
    "Sana olmaz dökülen kanlarımız sonra helal...\n",
    "Hakkıdır, hakk'a tapan, milletimin istiklal!\n",
    "\n",
    "Ben ezelden beridir hür yaşadım, hür yaşarım.\n",
    "Hangi çılgın bana zincir vuracakmış? Şaşarım!\n",
    "Kükremiş sel gibiyim, bendimi çiğner, aşarım.\n",
    "Yırtarım dağları, enginlere sığmam, taşarım.\n",
    "\n",
    "Garbın afakını sarmışsa çelik zırhlı duvar,\n",
    "Benim iman dolu göğsüm gibi serhaddim var.\n",
    "Ulusun, korkma! Nasıl böyle bir imanı boğar,\n",
    "'Medeniyet!' dediğin tek dişi kalmış canavar?\n",
    "\n",
    "Arkadaş! Yurduma alçakları uğratma, sakın.\n",
    "Siper et gövdeni, dursun bu hayasızca akın.\n",
    "Doğacaktır sana va'dettigi günler hakk'ın...\n",
    "Kim bilir, belki yarın, belki yarından da yakın.\n",
    "\n",
    "Bastığın yerleri 'toprak!' diyerek geçme, tanı:\n",
    "Düşün altında binlerce kefensiz yatanı.\n",
    "Sen şehit oğlusun, incitme, yazıktır, atanı:\n",
    "Verme, dünyaları alsan da, bu cennet vatanı.\n",
    "\n",
    "Kim bu cennet vatanın uğruna olmaz ki feda?\n",
    "Şuheda fışkıracak toprağı sıksan, şuheda!\n",
    "Canı, cananı, bütün varımı alsın da hüda,\n",
    "Etmesin tek vatanımdan beni dünyada cüda.\n",
    "\n",
    "Ruhumun senden, ilahi, şudur ancak emeli:\n",
    "Değmesin mabedimin göğsüne namahrem eli.\n",
    "Bu ezanlar-ki şahadetleri dinin temeli,\n",
    "Ebedi yurdumun üstünde benim inlemeli.\n",
    "\"\"\""
   ]
  },
  {
   "cell_type": "code",
   "execution_count": 55,
   "id": "8dc37e0e",
   "metadata": {},
   "outputs": [],
   "source": [
    "with open(\"istiklal.txt\", \"r\", encoding=\"utf-8\") as file :\n",
    "    lines = file.readlines()"
   ]
  },
  {
   "cell_type": "code",
   "execution_count": 56,
   "id": "52efc103",
   "metadata": {},
   "outputs": [
    {
     "data": {
      "text/plain": [
       "['Korkma, sönmez bu şafaklarda yüzen al sancak;\\n',\n",
       " 'Sönmeden yurdumun üstünde tüten en son ocak.\\n',\n",
       " 'O benim milletimin yıldızıdır, parlayacak;\\n',\n",
       " 'O benimdir, o benim milletimindir ancak.\\n',\n",
       " 'Çatma, kurban olayım, çehreni ey nazlı hilal!\\n',\n",
       " 'Kahraman ırkıma bir gül! Ne bu şiddet, bu celal?\\n',\n",
       " 'Sana olmaz dökülen kanlarımız sonra helal...\\n',\n",
       " \"Hakkıdır, hakk'a tapan, milletimin istiklal!\\n\",\n",
       " 'Ben ezelden beridir hür yaşadım, hür yaşarım.\\n',\n",
       " 'Hangi çılgın bana zincir vuracakmış? Şaşarım!\\n',\n",
       " 'Kükremiş sel gibiyim, bendimi çiğner, aşarım.\\n',\n",
       " 'Yırtarım dağları, enginlere sığmam, taşarım.\\n',\n",
       " 'Garbın afakını sarmışsa çelik zırhlı duvar,\\n',\n",
       " 'Benim iman dolu göğsüm gibi serhaddim var.\\n',\n",
       " 'Ulusun, korkma! Nasıl böyle bir imanı boğar,\\n',\n",
       " \"'Medeniyet!' dediğin tek dişi kalmış canavar?\\n\",\n",
       " 'Arkadaş! Yurduma alçakları uğratma, sakın.\\n',\n",
       " 'Siper et gövdeni, dursun bu hayasızca akın.\\n',\n",
       " \"Doğacaktır sana va'dettigi günler hakk'ın...\\n\",\n",
       " 'Kim bilir, belki yarın, belki yarından da yakın.\\n',\n",
       " \"Bastığın yerleri 'toprak!' diyerek geçme, tanı:\\n\",\n",
       " 'Düşün altında binlerce kefensiz yatanı.\\n',\n",
       " 'Sen şehit oğlusun, incitme, yazıktır, atanı:\\n',\n",
       " 'Verme, dünyaları alsan da, bu cennet vatanı.\\n',\n",
       " 'Kim bu cennet vatanın uğruna olmaz ki feda?\\n',\n",
       " 'Şuheda fışkıracak toprağı sıksan, şuheda!\\n',\n",
       " 'Canı, cananı, bütün varımı alsın da hüda,\\n',\n",
       " 'Etmesin tek vatanımdan beni dünyada cüda.\\n',\n",
       " 'Ruhumun senden, ilahi, şudur ancak emeli:\\n',\n",
       " 'Değmesin mabedimin göğsüne namahrem eli.\\n',\n",
       " 'Bu ezanlar-ki şahadetleri dinin temeli,\\n',\n",
       " 'Ebedi yurdumun üstünde benim inlemeli.\\n']"
      ]
     },
     "execution_count": 56,
     "metadata": {},
     "output_type": "execute_result"
    }
   ],
   "source": [
    "lines"
   ]
  },
  {
   "cell_type": "code",
   "execution_count": 57,
   "id": "2ca01c88",
   "metadata": {},
   "outputs": [
    {
     "name": "stdout",
     "output_type": "stream",
     "text": [
      "Korkma, sönmez bu şafaklarda yüzen al sancak;\n",
      "Sönmeden yurdumun üstünde tüten en son ocak.\n",
      "O benim milletimin yıldızıdır, parlayacak;\n",
      "O benimdir, o benim milletimindir ancak.\n",
      "\n",
      "Çatma, kurban olayım, çehreni ey nazlı hilal!\n",
      "Kahraman ırkıma bir gül! Ne bu şiddet, bu celal?\n",
      "Sana olmaz dökülen kanlarımız sonra helal...\n",
      "Hakkıdır, hakk'a tapan, milletimin istiklal!\n",
      "\n",
      "Ben ezelden beridir hür yaşadım, hür yaşarım.\n",
      "Hangi çılgın bana zincir vuracakmış? Şaşarım!\n",
      "Kükremiş sel gibiyim, bendimi çiğner, aşarım.\n",
      "Yırtarım dağları, enginlere sığmam, taşarım.\n",
      "\n",
      "Garbın afakını sarmışsa çelik zırhlı duvar,\n",
      "Benim iman dolu göğsüm gibi serhaddim var.\n",
      "Ulusun, korkma! Nasıl böyle bir imanı boğar,\n",
      "'Medeniyet!' dediğin tek dişi kalmış canavar?\n",
      "\n",
      "Arkadaş! Yurduma alçakları uğratma, sakın.\n",
      "Siper et gövdeni, dursun bu hayasızca akın.\n",
      "Doğacaktır sana va'dettigi günler hakk'ın...\n",
      "Kim bilir, belki yarın, belki yarından da yakın.\n",
      "\n",
      "Bastığın yerleri 'toprak!' diyerek geçme, tanı:\n",
      "Düşün altında binlerce kefensiz yatanı.\n",
      "Sen şehit oğlusun, incitme, yazıktır, atanı:\n",
      "Verme, dünyaları alsan da, bu cennet vatanı.\n",
      "\n",
      "Kim bu cennet vatanın uğruna olmaz ki feda?\n",
      "Şuheda fışkıracak toprağı sıksan, şuheda!\n",
      "Canı, cananı, bütün varımı alsın da hüda,\n",
      "Etmesin tek vatanımdan beni dünyada cüda.\n",
      "\n",
      "Ruhumun senden, ilahi, şudur ancak emeli:\n",
      "Değmesin mabedimin göğsüne namahrem eli.\n",
      "Bu ezanlar-ki şahadetleri dinin temeli,\n",
      "Ebedi yurdumun üstünde benim inlemeli.\n",
      "\n",
      "\n"
     ]
    }
   ],
   "source": [
    "counter = 0\n",
    "\n",
    "with open(\"istiklal.txt\", \"w\", encoding=\"utf-8\") as file :\n",
    "    \n",
    "    for i in lines :\n",
    "        counter += 1\n",
    "        if counter % 4 == 0 :\n",
    "            file.write(i + \"\\n\")\n",
    "            \n",
    "        else :\n",
    "            file.write(i)\n",
    "\n",
    "with open(\"istiklal.txt\", \"r\", encoding = \"utf-8\") as f:\n",
    "    print(f.read())"
   ]
  },
  {
   "cell_type": "code",
   "execution_count": null,
   "id": "41232f93",
   "metadata": {},
   "outputs": [],
   "source": []
  }
 ],
 "metadata": {
  "kernelspec": {
   "display_name": "Python 3",
   "language": "python",
   "name": "python3"
  },
  "language_info": {
   "codemirror_mode": {
    "name": "ipython",
    "version": 3
   },
   "file_extension": ".py",
   "mimetype": "text/x-python",
   "name": "python",
   "nbconvert_exporter": "python",
   "pygments_lexer": "ipython3",
   "version": "3.8.8"
  }
 },
 "nbformat": 4,
 "nbformat_minor": 5
}
