{
 "cells": [
  {
   "cell_type": "markdown",
   "id": "406f2981",
   "metadata": {},
   "source": [
    "<img src=\"https://docs.google.com/uc?id=14xeXxFrVRjvOoUYWn_GuyE-v84wVzrqr\" class=\"img-fluid\" alt=\"CLRWY\" width=\"400\" height=\"200\">"
   ]
  },
  {
   "cell_type": "markdown",
   "id": "22263af8",
   "metadata": {},
   "source": [
    "<h1><p style=\"text-align: center; color:darkblue\">Python In-Class, <br>4 November 2021</p><h1>"
   ]
  },
  {
   "cell_type": "code",
   "execution_count": 1,
   "id": "15d0ecc0",
   "metadata": {},
   "outputs": [],
   "source": [
    "a = set(\"philedelphia\")"
   ]
  },
  {
   "cell_type": "code",
   "execution_count": 2,
   "id": "81aa41a8",
   "metadata": {},
   "outputs": [],
   "source": [
    "b = set(\"dolphin\")"
   ]
  },
  {
   "cell_type": "code",
   "execution_count": 3,
   "id": "2beb1d6c",
   "metadata": {},
   "outputs": [
    {
     "data": {
      "text/plain": [
       "{'a', 'd', 'e', 'h', 'i', 'l', 'p'}"
      ]
     },
     "execution_count": 3,
     "metadata": {},
     "output_type": "execute_result"
    }
   ],
   "source": [
    "a"
   ]
  },
  {
   "cell_type": "code",
   "execution_count": 4,
   "id": "21a38e40",
   "metadata": {},
   "outputs": [
    {
     "data": {
      "text/plain": [
       "{'d', 'h', 'i', 'l', 'n', 'o', 'p'}"
      ]
     },
     "execution_count": 4,
     "metadata": {},
     "output_type": "execute_result"
    }
   ],
   "source": [
    "b"
   ]
  },
  {
   "cell_type": "code",
   "execution_count": 5,
   "id": "a19fbd27",
   "metadata": {},
   "outputs": [
    {
     "data": {
      "text/plain": [
       "{'n', 'o'}"
      ]
     },
     "execution_count": 5,
     "metadata": {},
     "output_type": "execute_result"
    }
   ],
   "source": [
    "b - a"
   ]
  },
  {
   "cell_type": "code",
   "execution_count": 6,
   "id": "0eefd8ff",
   "metadata": {},
   "outputs": [
    {
     "data": {
      "text/plain": [
       "{'a', 'e'}"
      ]
     },
     "execution_count": 6,
     "metadata": {},
     "output_type": "execute_result"
    }
   ],
   "source": [
    "a - b"
   ]
  },
  {
   "cell_type": "code",
   "execution_count": 7,
   "id": "abee8384",
   "metadata": {},
   "outputs": [
    {
     "data": {
      "text/plain": [
       "False"
      ]
     },
     "execution_count": 7,
     "metadata": {},
     "output_type": "execute_result"
    }
   ],
   "source": [
    "bool(set())"
   ]
  },
  {
   "cell_type": "code",
   "execution_count": 8,
   "id": "a1c66e7a",
   "metadata": {},
   "outputs": [
    {
     "data": {
      "text/plain": [
       "True"
      ]
     },
     "execution_count": 8,
     "metadata": {},
     "output_type": "execute_result"
    }
   ],
   "source": [
    "bool(a - b)"
   ]
  },
  {
   "cell_type": "code",
   "execution_count": 9,
   "id": "e1413f0d",
   "metadata": {},
   "outputs": [
    {
     "data": {
      "text/plain": [
       "True"
      ]
     },
     "execution_count": 9,
     "metadata": {},
     "output_type": "execute_result"
    }
   ],
   "source": [
    "a | b == b | a"
   ]
  },
  {
   "cell_type": "code",
   "execution_count": 10,
   "id": "26a26a8f",
   "metadata": {},
   "outputs": [
    {
     "data": {
      "text/plain": [
       "True"
      ]
     },
     "execution_count": 10,
     "metadata": {},
     "output_type": "execute_result"
    }
   ],
   "source": [
    "a.union(b) == b.union(a)"
   ]
  },
  {
   "cell_type": "code",
   "execution_count": 11,
   "id": "15254580",
   "metadata": {},
   "outputs": [
    {
     "data": {
      "text/plain": [
       "True"
      ]
     },
     "execution_count": 11,
     "metadata": {},
     "output_type": "execute_result"
    }
   ],
   "source": [
    "a & b == b & a"
   ]
  },
  {
   "cell_type": "code",
   "execution_count": 12,
   "id": "d9f3be2c",
   "metadata": {},
   "outputs": [
    {
     "data": {
      "text/plain": [
       "True"
      ]
     },
     "execution_count": 12,
     "metadata": {},
     "output_type": "execute_result"
    }
   ],
   "source": [
    "a.intersection(b) == b.intersection(a)"
   ]
  },
  {
   "cell_type": "code",
   "execution_count": 13,
   "id": "d819767d",
   "metadata": {},
   "outputs": [],
   "source": [
    "date = \"11/04/2021\""
   ]
  },
  {
   "cell_type": "code",
   "execution_count": 14,
   "id": "b54ba59c",
   "metadata": {},
   "outputs": [
    {
     "data": {
      "text/plain": [
       "{'/', '0', '1', '2', '4'}"
      ]
     },
     "execution_count": 14,
     "metadata": {},
     "output_type": "execute_result"
    }
   ],
   "source": [
    "set(date)"
   ]
  },
  {
   "cell_type": "code",
   "execution_count": 15,
   "id": "d403d6dd",
   "metadata": {},
   "outputs": [
    {
     "data": {
      "text/plain": [
       "{'11/04/2021'}"
      ]
     },
     "execution_count": 15,
     "metadata": {},
     "output_type": "execute_result"
    }
   ],
   "source": [
    "{date}"
   ]
  },
  {
   "cell_type": "code",
   "execution_count": 16,
   "id": "b243480d",
   "metadata": {},
   "outputs": [
    {
     "ename": "TypeError",
     "evalue": "unhashable type: 'list'",
     "output_type": "error",
     "traceback": [
      "\u001b[0;31m---------------------------------------------------------------------------\u001b[0m",
      "\u001b[0;31mTypeError\u001b[0m                                 Traceback (most recent call last)",
      "\u001b[0;32m<ipython-input-16-4a5722e7ef02>\u001b[0m in \u001b[0;36m<module>\u001b[0;34m\u001b[0m\n\u001b[0;32m----> 1\u001b[0;31m \u001b[0;34m{\u001b[0m\u001b[0;34m[\u001b[0m\u001b[0;36m1\u001b[0m\u001b[0;34m,\u001b[0m\u001b[0;36m2\u001b[0m\u001b[0;34m]\u001b[0m\u001b[0;34m}\u001b[0m\u001b[0;34m\u001b[0m\u001b[0;34m\u001b[0m\u001b[0m\n\u001b[0m",
      "\u001b[0;31mTypeError\u001b[0m: unhashable type: 'list'"
     ]
    }
   ],
   "source": [
    "{[1,2]}"
   ]
  },
  {
   "cell_type": "code",
   "execution_count": 17,
   "id": "d23e810e",
   "metadata": {},
   "outputs": [],
   "source": [
    "usa = set(\"washington\")"
   ]
  },
  {
   "cell_type": "code",
   "execution_count": 18,
   "id": "886349ad",
   "metadata": {},
   "outputs": [],
   "source": [
    "nz = set(\"wellington\")"
   ]
  },
  {
   "cell_type": "code",
   "execution_count": 19,
   "id": "85591a4f",
   "metadata": {},
   "outputs": [
    {
     "data": {
      "text/plain": [
       "{'a', 'h', 's'}"
      ]
     },
     "execution_count": 19,
     "metadata": {},
     "output_type": "execute_result"
    }
   ],
   "source": [
    "usa - nz"
   ]
  },
  {
   "cell_type": "code",
   "execution_count": 20,
   "id": "0c8a12da",
   "metadata": {},
   "outputs": [
    {
     "data": {
      "text/plain": [
       "{'e', 'l'}"
      ]
     },
     "execution_count": 20,
     "metadata": {},
     "output_type": "execute_result"
    }
   ],
   "source": [
    "nz - usa"
   ]
  },
  {
   "cell_type": "code",
   "execution_count": 21,
   "id": "28e5384f",
   "metadata": {},
   "outputs": [
    {
     "data": {
      "text/plain": [
       "{'g', 'i', 'n', 'o', 't', 'w'}"
      ]
     },
     "execution_count": 21,
     "metadata": {},
     "output_type": "execute_result"
    }
   ],
   "source": [
    "usa & nz"
   ]
  },
  {
   "cell_type": "code",
   "execution_count": 22,
   "id": "27e034ac",
   "metadata": {},
   "outputs": [
    {
     "data": {
      "text/plain": [
       "{'a', 'e', 'g', 'h', 'i', 'l', 'n', 'o', 's', 't', 'w'}"
      ]
     },
     "execution_count": 22,
     "metadata": {},
     "output_type": "execute_result"
    }
   ],
   "source": [
    "usa | nz"
   ]
  },
  {
   "cell_type": "code",
   "execution_count": 23,
   "id": "dbe2825c",
   "metadata": {},
   "outputs": [],
   "source": [
    "sayılar = [1,2,3,4,5]"
   ]
  },
  {
   "cell_type": "code",
   "execution_count": 24,
   "id": "278029db",
   "metadata": {},
   "outputs": [
    {
     "name": "stdout",
     "output_type": "stream",
     "text": [
      "1\n"
     ]
    }
   ],
   "source": [
    "print(sayılar[0])"
   ]
  },
  {
   "cell_type": "code",
   "execution_count": 25,
   "id": "b6ee49b4",
   "metadata": {},
   "outputs": [
    {
     "name": "stdout",
     "output_type": "stream",
     "text": [
      "2\n"
     ]
    }
   ],
   "source": [
    "print(sayılar[1])"
   ]
  },
  {
   "cell_type": "code",
   "execution_count": 26,
   "id": "2943861a",
   "metadata": {},
   "outputs": [
    {
     "name": "stdout",
     "output_type": "stream",
     "text": [
      "3\n"
     ]
    }
   ],
   "source": [
    "print(sayılar[2])"
   ]
  },
  {
   "cell_type": "code",
   "execution_count": 27,
   "id": "d2670e26",
   "metadata": {},
   "outputs": [
    {
     "name": "stdout",
     "output_type": "stream",
     "text": [
      "4\n"
     ]
    }
   ],
   "source": [
    "print(sayılar[3])"
   ]
  },
  {
   "cell_type": "code",
   "execution_count": 28,
   "id": "0d4de929",
   "metadata": {},
   "outputs": [
    {
     "name": "stdout",
     "output_type": "stream",
     "text": [
      "5\n"
     ]
    }
   ],
   "source": [
    "print(sayılar[4])"
   ]
  },
  {
   "cell_type": "code",
   "execution_count": 29,
   "id": "7ffef98e",
   "metadata": {},
   "outputs": [],
   "source": [
    "a = 3\n",
    "\n",
    "b = 0"
   ]
  },
  {
   "cell_type": "code",
   "execution_count": null,
   "id": "fd25b961",
   "metadata": {},
   "outputs": [],
   "source": [
    "b > a"
   ]
  },
  {
   "cell_type": "code",
   "execution_count": null,
   "id": "225519a3",
   "metadata": {},
   "outputs": [],
   "source": [
    "if condition :\n",
    "    body1\n",
    "    body2\n",
    "body3"
   ]
  },
  {
   "cell_type": "code",
   "execution_count": 31,
   "id": "ee46a100",
   "metadata": {},
   "outputs": [
    {
     "name": "stdout",
     "output_type": "stream",
     "text": [
      "hello world\n",
      "print me in all cases.\n"
     ]
    }
   ],
   "source": [
    "if \"0\" :\n",
    "    print(\"hello world\")\n",
    "print(\"print me in all cases.\")"
   ]
  },
  {
   "cell_type": "code",
   "execution_count": 30,
   "id": "15452628",
   "metadata": {},
   "outputs": [
    {
     "data": {
      "text/plain": [
       "True"
      ]
     },
     "execution_count": 30,
     "metadata": {},
     "output_type": "execute_result"
    }
   ],
   "source": [
    "bool(\"0\")"
   ]
  },
  {
   "cell_type": "code",
   "execution_count": 33,
   "id": "8d64530d",
   "metadata": {},
   "outputs": [
    {
     "name": "stdout",
     "output_type": "stream",
     "text": [
      "print me in all cases\n"
     ]
    }
   ],
   "source": [
    "if \"0\" and \"\" :\n",
    "    print(\"hello world\")\n",
    "print(\"print me in all cases\")"
   ]
  },
  {
   "cell_type": "code",
   "execution_count": 34,
   "id": "e64c1f3f",
   "metadata": {},
   "outputs": [
    {
     "name": "stdout",
     "output_type": "stream",
     "text": [
      "print me in all cases\n"
     ]
    }
   ],
   "source": [
    "if 0 or \"False\" and None:\n",
    "    print(\"hello world\")\n",
    "print(\"print me in all cases\")"
   ]
  },
  {
   "cell_type": "code",
   "execution_count": 35,
   "id": "801035dc",
   "metadata": {},
   "outputs": [
    {
     "name": "stdout",
     "output_type": "stream",
     "text": [
      "clarusway\n"
     ]
    }
   ],
   "source": [
    "if 1 :\n",
    "    print(\"clarusway\")"
   ]
  },
  {
   "cell_type": "code",
   "execution_count": 36,
   "id": "9ab4c948",
   "metadata": {},
   "outputs": [],
   "source": [
    "if 0 :\n",
    "    print(\"clarusway\")"
   ]
  },
  {
   "cell_type": "code",
   "execution_count": 37,
   "id": "3402ed5c",
   "metadata": {},
   "outputs": [
    {
     "name": "stdout",
     "output_type": "stream",
     "text": [
      "hello\n"
     ]
    }
   ],
   "source": [
    "if [\"\"] :\n",
    "    print(\"hello\")"
   ]
  },
  {
   "cell_type": "code",
   "execution_count": 38,
   "id": "a0960e99",
   "metadata": {},
   "outputs": [],
   "source": [
    "minced = True\n",
    "bread = True\n",
    "\n",
    "# green\n",
    "lettuce = True\n",
    "onion = True\n",
    "\n",
    "grocer = True"
   ]
  },
  {
   "cell_type": "code",
   "execution_count": 39,
   "id": "2927316b",
   "metadata": {},
   "outputs": [],
   "source": [
    "hamburger = (minced and grocer and bread) and (lettuce or onion)"
   ]
  },
  {
   "cell_type": "code",
   "execution_count": 40,
   "id": "dc2ccdbe",
   "metadata": {},
   "outputs": [
    {
     "data": {
      "text/plain": [
       "True"
      ]
     },
     "execution_count": 40,
     "metadata": {},
     "output_type": "execute_result"
    }
   ],
   "source": [
    "hamburger"
   ]
  },
  {
   "cell_type": "code",
   "execution_count": 41,
   "id": "5de23951",
   "metadata": {},
   "outputs": [
    {
     "name": "stdout",
     "output_type": "stream",
     "text": [
      "Bon Appetit\n"
     ]
    }
   ],
   "source": [
    "if hamburger :\n",
    "    print(\"Bon Appetit\")"
   ]
  },
  {
   "cell_type": "code",
   "execution_count": 42,
   "id": "d3e6c8be",
   "metadata": {},
   "outputs": [
    {
     "data": {
      "text/plain": [
       "True"
      ]
     },
     "execution_count": 42,
     "metadata": {},
     "output_type": "execute_result"
    }
   ],
   "source": [
    "1 == 1.0"
   ]
  },
  {
   "cell_type": "code",
   "execution_count": 43,
   "id": "db1311c3",
   "metadata": {},
   "outputs": [
    {
     "data": {
      "text/plain": [
       "False"
      ]
     },
     "execution_count": 43,
     "metadata": {},
     "output_type": "execute_result"
    }
   ],
   "source": [
    "3 > 3"
   ]
  },
  {
   "cell_type": "code",
   "execution_count": 44,
   "id": "1bb3318a",
   "metadata": {},
   "outputs": [
    {
     "data": {
      "text/plain": [
       "True"
      ]
     },
     "execution_count": 44,
     "metadata": {},
     "output_type": "execute_result"
    }
   ],
   "source": [
    "3 >= 3"
   ]
  },
  {
   "cell_type": "code",
   "execution_count": 45,
   "id": "9b63ee86",
   "metadata": {},
   "outputs": [
    {
     "data": {
      "text/plain": [
       "False"
      ]
     },
     "execution_count": 45,
     "metadata": {},
     "output_type": "execute_result"
    }
   ],
   "source": [
    "\"ali\" == \"Ali\""
   ]
  },
  {
   "cell_type": "code",
   "execution_count": 46,
   "id": "b75b27e6",
   "metadata": {},
   "outputs": [
    {
     "data": {
      "text/plain": [
       "True"
      ]
     },
     "execution_count": 46,
     "metadata": {},
     "output_type": "execute_result"
    }
   ],
   "source": [
    "\"ali\" != \"Ali\""
   ]
  },
  {
   "cell_type": "code",
   "execution_count": 47,
   "id": "3b0091f0",
   "metadata": {},
   "outputs": [
    {
     "name": "stdout",
     "output_type": "stream",
     "text": [
      "bir şey yaz :birşey\n"
     ]
    },
    {
     "data": {
      "text/plain": [
       "str"
      ]
     },
     "execution_count": 47,
     "metadata": {},
     "output_type": "execute_result"
    }
   ],
   "source": [
    "type(input(\"bir şey yaz :\"))"
   ]
  },
  {
   "cell_type": "code",
   "execution_count": 51,
   "id": "97663081",
   "metadata": {},
   "outputs": [
    {
     "name": "stdout",
     "output_type": "stream",
     "text": [
      "Enter Yes or No :No\n"
     ]
    }
   ],
   "source": [
    "convert = input(\"Enter Yes or No :\").title().strip() == \"Yes\""
   ]
  },
  {
   "cell_type": "code",
   "execution_count": 49,
   "id": "b615ab67",
   "metadata": {},
   "outputs": [
    {
     "data": {
      "text/plain": [
       "True"
      ]
     },
     "execution_count": 49,
     "metadata": {},
     "output_type": "execute_result"
    }
   ],
   "source": [
    "convert"
   ]
  },
  {
   "cell_type": "code",
   "execution_count": 55,
   "id": "65ded0c9",
   "metadata": {},
   "outputs": [
    {
     "name": "stdout",
     "output_type": "stream",
     "text": [
      "Enter Yes or No :Yes\n",
      "You entered True\n"
     ]
    }
   ],
   "source": [
    "print(f\"You entered {input('Enter Yes or No :').title().strip() == 'Yes'}\")"
   ]
  },
  {
   "cell_type": "code",
   "execution_count": 56,
   "id": "91e3fad6",
   "metadata": {},
   "outputs": [
    {
     "name": "stdout",
     "output_type": "stream",
     "text": [
      "Enter positive or negative number :-22\n",
      "You entered negative number\n"
     ]
    }
   ],
   "source": [
    "num = float(input(\"Enter positive or negative number :\"))\n",
    "\n",
    "if num > 0 :\n",
    "    print(\"You entered positive number\")\n",
    "else :\n",
    "    print(\"You entered negative number\")"
   ]
  },
  {
   "cell_type": "code",
   "execution_count": 57,
   "id": "4319791c",
   "metadata": {},
   "outputs": [
    {
     "data": {
      "text/plain": [
       "-33.0"
      ]
     },
     "execution_count": 57,
     "metadata": {},
     "output_type": "execute_result"
    }
   ],
   "source": [
    "float(\"-33\")"
   ]
  },
  {
   "cell_type": "code",
   "execution_count": 58,
   "id": "844da5c6",
   "metadata": {},
   "outputs": [
    {
     "name": "stdout",
     "output_type": "stream",
     "text": [
      "Enter first number : 5\n",
      "Enter second number : 3\n",
      "The larger number is 5.0\n"
     ]
    }
   ],
   "source": [
    "num1 = float(input(\"Enter first number : \"))\n",
    "num2 = float(input(\"Enter second number : \"))\n",
    "\n",
    "\n",
    "if num1 > num2 :\n",
    "    larger = num1\n",
    "else :\n",
    "    larger = num2\n",
    "    \n",
    "print(\"The larger number is\", larger)"
   ]
  },
  {
   "cell_type": "code",
   "execution_count": 59,
   "id": "da5c7547",
   "metadata": {},
   "outputs": [
    {
     "name": "stdout",
     "output_type": "stream",
     "text": [
      "Enter first number: 7\n",
      "Enter second number: 11\n",
      "The large number is 11.0\n"
     ]
    }
   ],
   "source": [
    "num1 = float(input('Enter first number: '))\n",
    "num2 = float(input('Enter second number: '))\n",
    "\n",
    "if (num1 > num2):\n",
    "    print('The large number is', num1)\n",
    "else:\n",
    "    print('The large number is', num2)\n",
    "\n"
   ]
  },
  {
   "cell_type": "code",
   "execution_count": null,
   "id": "1f666aa9",
   "metadata": {},
   "outputs": [],
   "source": []
  },
  {
   "cell_type": "code",
   "execution_count": null,
   "id": "00b5f5ec",
   "metadata": {},
   "outputs": [],
   "source": []
  },
  {
   "cell_type": "code",
   "execution_count": null,
   "id": "47763842",
   "metadata": {},
   "outputs": [],
   "source": []
  },
  {
   "cell_type": "code",
   "execution_count": null,
   "id": "55f3f7e0",
   "metadata": {},
   "outputs": [],
   "source": []
  },
  {
   "cell_type": "code",
   "execution_count": null,
   "id": "5a7ceabb",
   "metadata": {},
   "outputs": [],
   "source": []
  }
 ],
 "metadata": {
  "kernelspec": {
   "display_name": "Python 3",
   "language": "python",
   "name": "python3"
  },
  "language_info": {
   "codemirror_mode": {
    "name": "ipython",
    "version": 3
   },
   "file_extension": ".py",
   "mimetype": "text/x-python",
   "name": "python",
   "nbconvert_exporter": "python",
   "pygments_lexer": "ipython3",
   "version": "3.8.8"
  }
 },
 "nbformat": 4,
 "nbformat_minor": 5
}
