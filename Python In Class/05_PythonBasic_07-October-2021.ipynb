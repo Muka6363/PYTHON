{
 "cells": [
  {
   "cell_type": "code",
   "execution_count": 2,
   "id": "ca5205a0",
   "metadata": {},
   "outputs": [
    {
     "data": {
      "text/plain": [
       "'121121'"
      ]
     },
     "execution_count": 2,
     "metadata": {},
     "output_type": "execute_result"
    }
   ],
   "source": [
    "sonuc = str((5 + 6) ** 2) + \"121\"\n",
    "sonuc"
   ]
  },
  {
   "cell_type": "code",
   "execution_count": 3,
   "id": "d3d36a2d",
   "metadata": {},
   "outputs": [
    {
     "data": {
      "text/plain": [
       "'121121121121121121121121'"
      ]
     },
     "execution_count": 3,
     "metadata": {},
     "output_type": "execute_result"
    }
   ],
   "source": [
    "sonuc = (sonuc + sonuc) * 2\n",
    "sonuc"
   ]
  },
  {
   "cell_type": "code",
   "execution_count": 4,
   "id": "68889c79",
   "metadata": {},
   "outputs": [
    {
     "data": {
      "text/plain": [
       "'clarusway clarusway clarusway '"
      ]
     },
     "execution_count": 4,
     "metadata": {},
     "output_type": "execute_result"
    }
   ],
   "source": [
    "\"clarusway \" * 3"
   ]
  },
  {
   "cell_type": "code",
   "execution_count": 5,
   "id": "55a0ad96",
   "metadata": {},
   "outputs": [
    {
     "data": {
      "text/plain": [
       "'ali veli deliali veli deliali veli deli'"
      ]
     },
     "execution_count": 5,
     "metadata": {},
     "output_type": "execute_result"
    }
   ],
   "source": [
    "\"ali veli deli\" * 3"
   ]
  },
  {
   "cell_type": "code",
   "execution_count": 6,
   "id": "85285b66",
   "metadata": {},
   "outputs": [
    {
     "name": "stdout",
     "output_type": "stream",
     "text": [
      "c l a r u s w a y\n"
     ]
    }
   ],
   "source": [
    "print(* \"clarusway\")"
   ]
  },
  {
   "cell_type": "code",
   "execution_count": 7,
   "id": "60d77fd3",
   "metadata": {},
   "outputs": [
    {
     "ename": "TypeError",
     "evalue": "unsupported operand type(s) for +: 'int' and 'str'",
     "output_type": "error",
     "traceback": [
      "\u001b[0;31m---------------------------------------------------------------------------\u001b[0m",
      "\u001b[0;31mTypeError\u001b[0m                                 Traceback (most recent call last)",
      "\u001b[0;32m<ipython-input-7-b780703cc5f9>\u001b[0m in \u001b[0;36m<module>\u001b[0;34m\u001b[0m\n\u001b[0;32m----> 1\u001b[0;31m \u001b[0;36m1\u001b[0m \u001b[0;34m+\u001b[0m \u001b[0;34m\"1\"\u001b[0m\u001b[0;34m\u001b[0m\u001b[0;34m\u001b[0m\u001b[0m\n\u001b[0m",
      "\u001b[0;31mTypeError\u001b[0m: unsupported operand type(s) for +: 'int' and 'str'"
     ]
    }
   ],
   "source": [
    "1 + \"1\""
   ]
  },
  {
   "cell_type": "code",
   "execution_count": null,
   "id": "8580635e",
   "metadata": {},
   "outputs": [],
   "source": [
    "\"metodlar\".format()"
   ]
  },
  {
   "cell_type": "code",
   "execution_count": 8,
   "id": "26df0bf7",
   "metadata": {},
   "outputs": [],
   "source": [
    "değişkenn = \"string\""
   ]
  },
  {
   "cell_type": "code",
   "execution_count": 10,
   "id": "b68e6aa0",
   "metadata": {},
   "outputs": [],
   "source": [
    "saat = \"05:00\"\n",
    "yer = \"Okul\"\n",
    "miktar = 2"
   ]
  },
  {
   "cell_type": "code",
   "execution_count": 11,
   "id": "7c7c7a8d",
   "metadata": {},
   "outputs": [
    {
     "data": {
      "text/plain": [
       "\"Ben sabah 05:00 de uyandım. Okul'a gittim. Gelirken de 2 kg elma aldım.\""
      ]
     },
     "execution_count": 11,
     "metadata": {},
     "output_type": "execute_result"
    }
   ],
   "source": [
    "\"Ben sabah {} de uyandım. {}'a gittim. Gelirken de {} kg elma aldım.\".format(saat, yer, miktar)"
   ]
  },
  {
   "cell_type": "code",
   "execution_count": 12,
   "id": "73437f2b",
   "metadata": {},
   "outputs": [
    {
     "data": {
      "text/plain": [
       "\"Ben sabah 05:00 de uyandım. Okul'a gittim. Gelirken de 2 kg elma aldım.\""
      ]
     },
     "execution_count": 12,
     "metadata": {},
     "output_type": "execute_result"
    }
   ],
   "source": [
    "\"Ben sabah {} de uyandım. {}'a gittim. Gelirken de {} kg elma aldım.\".format(\"05:00\", \"Okul\", 2)\n"
   ]
  },
  {
   "cell_type": "code",
   "execution_count": 13,
   "id": "3a9a3e6c",
   "metadata": {},
   "outputs": [
    {
     "data": {
      "text/plain": [
       "\"Ben sabah 05:00 de uyandım. Okul'a gittim. Gelirken de 2 kg elma aldım.\""
      ]
     },
     "execution_count": 13,
     "metadata": {},
     "output_type": "execute_result"
    }
   ],
   "source": [
    "\"Ben sabah {saat} de uyandım. {yer}'a gittim. Gelirken de {miktar} kg elma aldım.\".format(yer = \"Okul\", saat = \"05:00\", miktar = 2)\n"
   ]
  },
  {
   "cell_type": "code",
   "execution_count": 14,
   "id": "60811d20",
   "metadata": {},
   "outputs": [
    {
     "data": {
      "text/plain": [
       "\"Ben sabah 05:00 de uyandım. Okul'a gittim. Gelirken de 2 kg elma aldım.\""
      ]
     },
     "execution_count": 14,
     "metadata": {},
     "output_type": "execute_result"
    }
   ],
   "source": [
    "\"Ben sabah {1} de uyandım. {0}'a gittim. Gelirken de {2} kg elma aldım.\".format(\"Okul\", \"05:00\", 2)\n"
   ]
  },
  {
   "cell_type": "code",
   "execution_count": 15,
   "id": "3edb05b4",
   "metadata": {},
   "outputs": [
    {
     "name": "stdout",
     "output_type": "stream",
     "text": [
      "12-Feb-Feb\n",
      "12-Feb-Feb\n",
      "I will have started a new job in 6 months\n"
     ]
    }
   ],
   "source": [
    "print(\"{}-{}-{}\".format(\"12\", \"Feb\", \"Feb\"))\n",
    "print(\"{no}-{month}-{month}\".format(no=\"12\", month=\"Feb\"))\n",
    "\n",
    "print(\"{6} {5} {0} {1} {3} {4} {2}\".format(\"a new\", \"job\", \"months\", \"in\", 6, \"have started\", \"I will\"))"
   ]
  },
  {
   "cell_type": "code",
   "execution_count": 16,
   "id": "208ec1f2",
   "metadata": {},
   "outputs": [
    {
     "name": "stdout",
     "output_type": "stream",
     "text": [
      "1111\n"
     ]
    }
   ],
   "source": [
    "text = f\"{str(11)+'11'}\"\n",
    "print(text)"
   ]
  },
  {
   "cell_type": "code",
   "execution_count": 18,
   "id": "0382acd4",
   "metadata": {},
   "outputs": [
    {
     "name": "stdout",
     "output_type": "stream",
     "text": [
      "ali veli deli\n"
     ]
    }
   ],
   "source": [
    "text = f\"ali veli {'seli'.replace('s', 'd')}\"\n",
    "print(text)"
   ]
  },
  {
   "cell_type": "code",
   "execution_count": 19,
   "id": "b946a310",
   "metadata": {},
   "outputs": [
    {
     "data": {
      "text/plain": [
       "\"Ben sabah 05:00 de uyandım. Okul'a gittim. Gelirken de 2 kg elma aldım.\""
      ]
     },
     "execution_count": 19,
     "metadata": {},
     "output_type": "execute_result"
    }
   ],
   "source": [
    "\"Ben sabah {1} de uyandım. {0}'a gittim. Gelirken \\\n",
    "de {2} kg elma aldım.\".format(\\\n",
    "\"Okul\", \"05:00\", 2)\n"
   ]
  },
  {
   "cell_type": "code",
   "execution_count": 20,
   "id": "bab28581",
   "metadata": {},
   "outputs": [],
   "source": [
    "para = 1000"
   ]
  },
  {
   "cell_type": "code",
   "execution_count": 21,
   "id": "176e7c56",
   "metadata": {},
   "outputs": [
    {
     "data": {
      "text/plain": [
       "1070.0"
      ]
     },
     "execution_count": 21,
     "metadata": {},
     "output_type": "execute_result"
    }
   ],
   "source": [
    "para = para + para * 0.07 # pazartesi\n",
    "para"
   ]
  },
  {
   "cell_type": "code",
   "execution_count": 22,
   "id": "7a4a7a3e",
   "metadata": {},
   "outputs": [
    {
     "data": {
      "text/plain": [
       "1144.9"
      ]
     },
     "execution_count": 22,
     "metadata": {},
     "output_type": "execute_result"
    }
   ],
   "source": [
    "para = para + para * 0.07 # salı\n",
    "para"
   ]
  },
  {
   "cell_type": "code",
   "execution_count": 23,
   "id": "ae45a3a1",
   "metadata": {},
   "outputs": [
    {
     "data": {
      "text/plain": [
       "1225.0430000000001"
      ]
     },
     "execution_count": 23,
     "metadata": {},
     "output_type": "execute_result"
    }
   ],
   "source": [
    "para = para + para * 0.07 # çarşamba\n",
    "para"
   ]
  },
  {
   "cell_type": "code",
   "execution_count": 24,
   "id": "bfba33a6",
   "metadata": {},
   "outputs": [
    {
     "data": {
      "text/plain": [
       "1310.79601"
      ]
     },
     "execution_count": 24,
     "metadata": {},
     "output_type": "execute_result"
    }
   ],
   "source": [
    "para = para + para * 0.07 # perşembe\n",
    "para"
   ]
  },
  {
   "cell_type": "code",
   "execution_count": 25,
   "id": "6f20df27",
   "metadata": {},
   "outputs": [
    {
     "data": {
      "text/plain": [
       "1402.5517307"
      ]
     },
     "execution_count": 25,
     "metadata": {},
     "output_type": "execute_result"
    }
   ],
   "source": [
    "para = para + para * 0.07 # cuma\n",
    "para"
   ]
  },
  {
   "cell_type": "code",
   "execution_count": 26,
   "id": "1653f76e",
   "metadata": {},
   "outputs": [
    {
     "data": {
      "text/plain": [
       "1500.730351849"
      ]
     },
     "execution_count": 26,
     "metadata": {},
     "output_type": "execute_result"
    }
   ],
   "source": [
    "para = para + para * 0.07 # cumartesi\n",
    "para"
   ]
  },
  {
   "cell_type": "code",
   "execution_count": 27,
   "id": "3258b4e9",
   "metadata": {},
   "outputs": [
    {
     "data": {
      "text/plain": [
       "1605.78147647843"
      ]
     },
     "execution_count": 27,
     "metadata": {},
     "output_type": "execute_result"
    }
   ],
   "source": [
    "para = para + para * 0.07 # pazar\n",
    "para"
   ]
  },
  {
   "cell_type": "code",
   "execution_count": 28,
   "id": "d0fe6151",
   "metadata": {},
   "outputs": [],
   "source": [
    "para = 1000"
   ]
  },
  {
   "cell_type": "code",
   "execution_count": 29,
   "id": "5e4c96e2",
   "metadata": {},
   "outputs": [
    {
     "data": {
      "text/plain": [
       "1605.7814764784307"
      ]
     },
     "execution_count": 29,
     "metadata": {},
     "output_type": "execute_result"
    }
   ],
   "source": [
    "para = para * 1.07 ** 7\n",
    "para"
   ]
  },
  {
   "cell_type": "code",
   "execution_count": null,
   "id": "c2167421",
   "metadata": {},
   "outputs": [],
   "source": []
  },
  {
   "cell_type": "code",
   "execution_count": null,
   "id": "9d4ae26e",
   "metadata": {},
   "outputs": [],
   "source": []
  },
  {
   "cell_type": "code",
   "execution_count": null,
   "id": "9c554b11",
   "metadata": {},
   "outputs": [],
   "source": []
  }
 ],
 "metadata": {
  "kernelspec": {
   "display_name": "Python 3",
   "language": "python",
   "name": "python3"
  },
  "language_info": {
   "codemirror_mode": {
    "name": "ipython",
    "version": 3
   },
   "file_extension": ".py",
   "mimetype": "text/x-python",
   "name": "python",
   "nbconvert_exporter": "python",
   "pygments_lexer": "ipython3",
   "version": "3.8.8"
  }
 },
 "nbformat": 4,
 "nbformat_minor": 5
}
