{
 "cells": [
  {
   "cell_type": "markdown",
   "id": "406f2981",
   "metadata": {},
   "source": [
    "<img src=\"https://docs.google.com/uc?id=14xeXxFrVRjvOoUYWn_GuyE-v84wVzrqr\" class=\"img-fluid\" alt=\"CLRWY\" width=\"400\" height=\"200\">"
   ]
  },
  {
   "cell_type": "markdown",
   "id": "22263af8",
   "metadata": {},
   "source": [
    "<h1><p style=\"text-align: center; color:darkblue\">Python In-Class, <br>14 October 2021</p><h1>"
   ]
  },
  {
   "cell_type": "code",
   "execution_count": 1,
   "id": "ee47dfa4",
   "metadata": {},
   "outputs": [],
   "source": [
    "yil = \"2020's hard\""
   ]
  },
  {
   "cell_type": "code",
   "execution_count": 3,
   "id": "f9554f87",
   "metadata": {},
   "outputs": [],
   "source": [
    "yil_list = list(yil)"
   ]
  },
  {
   "cell_type": "code",
   "execution_count": 4,
   "id": "79d13804",
   "metadata": {},
   "outputs": [
    {
     "data": {
      "text/plain": [
       "['2', '0', '2', '0', \"'\", 's', ' ', 'h', 'a', 'r', 'd']"
      ]
     },
     "execution_count": 4,
     "metadata": {},
     "output_type": "execute_result"
    }
   ],
   "source": [
    "yil_list"
   ]
  },
  {
   "cell_type": "code",
   "execution_count": 5,
   "id": "15a0b741",
   "metadata": {},
   "outputs": [
    {
     "data": {
      "text/plain": [
       "[\"2020's hard\"]"
      ]
     },
     "execution_count": 5,
     "metadata": {},
     "output_type": "execute_result"
    }
   ],
   "source": [
    "yil_list_2 = [\"2020's hard\"]\n",
    "\n",
    "yil_list_2"
   ]
  },
  {
   "cell_type": "code",
   "execution_count": 6,
   "id": "4cd61e52",
   "metadata": {},
   "outputs": [],
   "source": [
    "a = 1\n",
    "b = 2\n",
    "c = 3"
   ]
  },
  {
   "cell_type": "code",
   "execution_count": 7,
   "id": "0cdee9c9",
   "metadata": {},
   "outputs": [
    {
     "data": {
      "text/plain": [
       "[1, 2, 3]"
      ]
     },
     "execution_count": 7,
     "metadata": {},
     "output_type": "execute_result"
    }
   ],
   "source": [
    "sayılar = [a, b, c]\n",
    "\n",
    "sayılar"
   ]
  },
  {
   "cell_type": "code",
   "execution_count": 8,
   "id": "7b80abe6",
   "metadata": {},
   "outputs": [],
   "source": [
    "boş1 = list()"
   ]
  },
  {
   "cell_type": "code",
   "execution_count": 9,
   "id": "65491cb5",
   "metadata": {},
   "outputs": [
    {
     "data": {
      "text/plain": [
       "[]"
      ]
     },
     "execution_count": 9,
     "metadata": {},
     "output_type": "execute_result"
    }
   ],
   "source": [
    "boş1"
   ]
  },
  {
   "cell_type": "code",
   "execution_count": 10,
   "id": "e95f7d35",
   "metadata": {},
   "outputs": [],
   "source": [
    "boş2 = []"
   ]
  },
  {
   "cell_type": "code",
   "execution_count": 11,
   "id": "159416bd",
   "metadata": {},
   "outputs": [
    {
     "data": {
      "text/plain": [
       "[]"
      ]
     },
     "execution_count": 11,
     "metadata": {},
     "output_type": "execute_result"
    }
   ],
   "source": [
    "boş2"
   ]
  },
  {
   "cell_type": "code",
   "execution_count": null,
   "id": "29becfac",
   "metadata": {},
   "outputs": [],
   "source": [
    "\"sting\"."
   ]
  },
  {
   "cell_type": "code",
   "execution_count": 14,
   "id": "5e0b0013",
   "metadata": {},
   "outputs": [
    {
     "data": {
      "text/plain": [
       "[11]"
      ]
     },
     "execution_count": 14,
     "metadata": {},
     "output_type": "execute_result"
    }
   ],
   "source": [
    "listem = []\n",
    "\n",
    "listem.append(11)\n",
    "\n",
    "listem"
   ]
  },
  {
   "cell_type": "code",
   "execution_count": 15,
   "id": "9ea502be",
   "metadata": {},
   "outputs": [
    {
     "data": {
      "text/plain": [
       "['ali', 'weli']"
      ]
     },
     "execution_count": 15,
     "metadata": {},
     "output_type": "execute_result"
    }
   ],
   "source": [
    "kardeşler = [\"ali\", \"weli\"]\n",
    "\n",
    "kardeşler"
   ]
  },
  {
   "cell_type": "code",
   "execution_count": 16,
   "id": "e4674c56",
   "metadata": {},
   "outputs": [
    {
     "data": {
      "text/plain": [
       "['ali', 'weli', 'theli']"
      ]
     },
     "execution_count": 16,
     "metadata": {},
     "output_type": "execute_result"
    }
   ],
   "source": [
    "kardeşler.append(\"theli\")\n",
    "\n",
    "kardeşler"
   ]
  },
  {
   "cell_type": "code",
   "execution_count": 17,
   "id": "1d25f6d8",
   "metadata": {},
   "outputs": [
    {
     "data": {
      "text/plain": [
       "['ali', 'weli', 'theli', True]"
      ]
     },
     "execution_count": 17,
     "metadata": {},
     "output_type": "execute_result"
    }
   ],
   "source": [
    "kardeşler.append(True)\n",
    "\n",
    "kardeşler"
   ]
  },
  {
   "cell_type": "code",
   "execution_count": 18,
   "id": "932e70f8",
   "metadata": {},
   "outputs": [
    {
     "data": {
      "text/plain": [
       "['ali', 'weli', 'theli', True, 3.14]"
      ]
     },
     "execution_count": 18,
     "metadata": {},
     "output_type": "execute_result"
    }
   ],
   "source": [
    "kardeşler.append(3.14)\n",
    "\n",
    "kardeşler"
   ]
  },
  {
   "cell_type": "code",
   "execution_count": 19,
   "id": "151ea9bb",
   "metadata": {},
   "outputs": [
    {
     "data": {
      "text/plain": [
       "3.14"
      ]
     },
     "execution_count": 19,
     "metadata": {},
     "output_type": "execute_result"
    }
   ],
   "source": [
    "kardeşler.pop()"
   ]
  },
  {
   "cell_type": "code",
   "execution_count": 20,
   "id": "ce86aae3",
   "metadata": {},
   "outputs": [
    {
     "data": {
      "text/plain": [
       "['ali', 'weli', 'theli', True]"
      ]
     },
     "execution_count": 20,
     "metadata": {},
     "output_type": "execute_result"
    }
   ],
   "source": [
    "kardeşler"
   ]
  },
  {
   "cell_type": "code",
   "execution_count": 21,
   "id": "320758ce",
   "metadata": {},
   "outputs": [
    {
     "data": {
      "text/plain": [
       "True"
      ]
     },
     "execution_count": 21,
     "metadata": {},
     "output_type": "execute_result"
    }
   ],
   "source": [
    "kardeşler.pop()"
   ]
  },
  {
   "cell_type": "code",
   "execution_count": 22,
   "id": "6e2ef33c",
   "metadata": {},
   "outputs": [
    {
     "data": {
      "text/plain": [
       "['ali', 'weli', 'theli']"
      ]
     },
     "execution_count": 22,
     "metadata": {},
     "output_type": "execute_result"
    }
   ],
   "source": [
    "kardeşler"
   ]
  },
  {
   "cell_type": "code",
   "execution_count": 23,
   "id": "34733e5a",
   "metadata": {},
   "outputs": [
    {
     "data": {
      "text/plain": [
       "['ali', 'theli']"
      ]
     },
     "execution_count": 23,
     "metadata": {},
     "output_type": "execute_result"
    }
   ],
   "source": [
    "kardeşler.pop(1)\n",
    "\n",
    "kardeşler"
   ]
  },
  {
   "cell_type": "code",
   "execution_count": 24,
   "id": "6baf4785",
   "metadata": {},
   "outputs": [
    {
     "data": {
      "text/plain": [
       "['ali', 'weli', 'theli']"
      ]
     },
     "execution_count": 24,
     "metadata": {},
     "output_type": "execute_result"
    }
   ],
   "source": [
    "kardeşler.insert(1, \"weli\")\n",
    "\n",
    "kardeşler"
   ]
  },
  {
   "cell_type": "code",
   "execution_count": 25,
   "id": "3be56593",
   "metadata": {},
   "outputs": [
    {
     "data": {
      "text/plain": [
       "[1, 2, 3]"
      ]
     },
     "execution_count": 25,
     "metadata": {},
     "output_type": "execute_result"
    }
   ],
   "source": [
    "sayılar"
   ]
  },
  {
   "cell_type": "code",
   "execution_count": 30,
   "id": "2dde31aa",
   "metadata": {},
   "outputs": [],
   "source": [
    "sayılar.append(\"sonsuz\")"
   ]
  },
  {
   "cell_type": "code",
   "execution_count": 31,
   "id": "d8a2fe4b",
   "metadata": {},
   "outputs": [
    {
     "data": {
      "text/plain": [
       "[1, 2, 3, 'sonsuz', 'sonsuz', 'sonsuz', 'sonsuz', 'sonsuz']"
      ]
     },
     "execution_count": 31,
     "metadata": {},
     "output_type": "execute_result"
    }
   ],
   "source": [
    "sayılar"
   ]
  },
  {
   "cell_type": "code",
   "execution_count": 32,
   "id": "c64a327f",
   "metadata": {},
   "outputs": [],
   "source": [
    "numbers = [1, 2, 3, 4]"
   ]
  },
  {
   "cell_type": "code",
   "execution_count": 33,
   "id": "bce80778",
   "metadata": {},
   "outputs": [
    {
     "data": {
      "text/plain": [
       "[1, 2, 3, 4]"
      ]
     },
     "execution_count": 33,
     "metadata": {},
     "output_type": "execute_result"
    }
   ],
   "source": [
    "numbers"
   ]
  },
  {
   "cell_type": "code",
   "execution_count": 34,
   "id": "a1f0b821",
   "metadata": {},
   "outputs": [
    {
     "data": {
      "text/plain": [
       "[1, 2, 3, 4, 5]"
      ]
     },
     "execution_count": 34,
     "metadata": {},
     "output_type": "execute_result"
    }
   ],
   "source": [
    "numbers.insert(4, 5)\n",
    "\n",
    "numbers"
   ]
  },
  {
   "cell_type": "code",
   "execution_count": 35,
   "id": "27f7e082",
   "metadata": {},
   "outputs": [
    {
     "data": {
      "text/plain": [
       "[1, 2, 3, 4, 5, 6]"
      ]
     },
     "execution_count": 35,
     "metadata": {},
     "output_type": "execute_result"
    }
   ],
   "source": [
    "numbers.insert(10, 6)\n",
    "\n",
    "numbers"
   ]
  },
  {
   "cell_type": "code",
   "execution_count": 36,
   "id": "05335e38",
   "metadata": {},
   "outputs": [
    {
     "data": {
      "text/plain": [
       "97"
      ]
     },
     "execution_count": 36,
     "metadata": {},
     "output_type": "execute_result"
    }
   ],
   "source": [
    "ord(\"a\")"
   ]
  },
  {
   "cell_type": "code",
   "execution_count": 37,
   "id": "88cf5511",
   "metadata": {},
   "outputs": [
    {
     "data": {
      "text/plain": [
       "65"
      ]
     },
     "execution_count": 37,
     "metadata": {},
     "output_type": "execute_result"
    }
   ],
   "source": [
    "ord(\"A\")"
   ]
  },
  {
   "cell_type": "code",
   "execution_count": 38,
   "id": "2d18348a",
   "metadata": {},
   "outputs": [],
   "source": [
    "harfler = [\"b\", \"A\", \"B\", \"a\"]"
   ]
  },
  {
   "cell_type": "code",
   "execution_count": 39,
   "id": "2e636f21",
   "metadata": {},
   "outputs": [
    {
     "data": {
      "text/plain": [
       "['A', 'B', 'a', 'b']"
      ]
     },
     "execution_count": 39,
     "metadata": {},
     "output_type": "execute_result"
    }
   ],
   "source": [
    "harfler.sort()\n",
    "\n",
    "harfler"
   ]
  },
  {
   "cell_type": "code",
   "execution_count": 40,
   "id": "581b8500",
   "metadata": {},
   "outputs": [
    {
     "name": "stdout",
     "output_type": "stream",
     "text": [
      "65\n",
      "66\n",
      "97\n",
      "98\n"
     ]
    }
   ],
   "source": [
    "print(ord(\"A\"))\n",
    "print(ord(\"B\"))\n",
    "print(ord(\"a\"))\n",
    "print(ord(\"b\"))"
   ]
  },
  {
   "cell_type": "code",
   "execution_count": 47,
   "id": "080e9407",
   "metadata": {},
   "outputs": [],
   "source": [
    "list_1 = ['one', 'four', 'nine']"
   ]
  },
  {
   "cell_type": "code",
   "execution_count": 48,
   "id": "d6060525",
   "metadata": {},
   "outputs": [],
   "source": [
    "list_1.sort(reverse = True)"
   ]
  },
  {
   "cell_type": "code",
   "execution_count": 49,
   "id": "c6fbb9ef",
   "metadata": {},
   "outputs": [
    {
     "data": {
      "text/plain": [
       "['one', 'nine', 'four']"
      ]
     },
     "execution_count": 49,
     "metadata": {},
     "output_type": "execute_result"
    }
   ],
   "source": [
    "list_1"
   ]
  },
  {
   "cell_type": "code",
   "execution_count": 44,
   "id": "6feccd95",
   "metadata": {},
   "outputs": [
    {
     "data": {
      "text/plain": [
       "102"
      ]
     },
     "execution_count": 44,
     "metadata": {},
     "output_type": "execute_result"
    }
   ],
   "source": [
    "ord(\"f\")"
   ]
  },
  {
   "cell_type": "code",
   "execution_count": 45,
   "id": "0964cc0a",
   "metadata": {},
   "outputs": [
    {
     "data": {
      "text/plain": [
       "110"
      ]
     },
     "execution_count": 45,
     "metadata": {},
     "output_type": "execute_result"
    }
   ],
   "source": [
    "ord(\"n\")"
   ]
  },
  {
   "cell_type": "code",
   "execution_count": 46,
   "id": "81a74f51",
   "metadata": {},
   "outputs": [
    {
     "data": {
      "text/plain": [
       "111"
      ]
     },
     "execution_count": 46,
     "metadata": {},
     "output_type": "execute_result"
    }
   ],
   "source": [
    "ord(\"o\")"
   ]
  },
  {
   "cell_type": "code",
   "execution_count": 50,
   "id": "ad7417fa",
   "metadata": {},
   "outputs": [],
   "source": [
    "list_2 = ['@', '*-', 'False']"
   ]
  },
  {
   "cell_type": "code",
   "execution_count": 51,
   "id": "3dd62f9f",
   "metadata": {},
   "outputs": [],
   "source": [
    "list_2.sort()"
   ]
  },
  {
   "cell_type": "code",
   "execution_count": 52,
   "id": "2594b8a4",
   "metadata": {},
   "outputs": [
    {
     "data": {
      "text/plain": [
       "64"
      ]
     },
     "execution_count": 52,
     "metadata": {},
     "output_type": "execute_result"
    }
   ],
   "source": [
    "ord(\"@\")"
   ]
  },
  {
   "cell_type": "code",
   "execution_count": 53,
   "id": "3ac96172",
   "metadata": {},
   "outputs": [
    {
     "data": {
      "text/plain": [
       "42"
      ]
     },
     "execution_count": 53,
     "metadata": {},
     "output_type": "execute_result"
    }
   ],
   "source": [
    "ord(\"*\")"
   ]
  },
  {
   "cell_type": "code",
   "execution_count": 54,
   "id": "5046e81c",
   "metadata": {},
   "outputs": [
    {
     "data": {
      "text/plain": [
       "70"
      ]
     },
     "execution_count": 54,
     "metadata": {},
     "output_type": "execute_result"
    }
   ],
   "source": [
    "ord(\"F\")"
   ]
  },
  {
   "cell_type": "code",
   "execution_count": 55,
   "id": "7f4b8e50",
   "metadata": {},
   "outputs": [
    {
     "data": {
      "text/plain": [
       "['*-', '@', 'False']"
      ]
     },
     "execution_count": 55,
     "metadata": {},
     "output_type": "execute_result"
    }
   ],
   "source": [
    "list_2"
   ]
  },
  {
   "cell_type": "code",
   "execution_count": 56,
   "id": "99128ca4",
   "metadata": {},
   "outputs": [],
   "source": [
    "list_3 = [True, False]"
   ]
  },
  {
   "cell_type": "code",
   "execution_count": 57,
   "id": "4a8dd3b3",
   "metadata": {},
   "outputs": [],
   "source": [
    "list_3.sort()"
   ]
  },
  {
   "cell_type": "code",
   "execution_count": 58,
   "id": "9fd6608e",
   "metadata": {},
   "outputs": [
    {
     "data": {
      "text/plain": [
       "[False, True]"
      ]
     },
     "execution_count": 58,
     "metadata": {},
     "output_type": "execute_result"
    }
   ],
   "source": [
    "list_3"
   ]
  },
  {
   "cell_type": "code",
   "execution_count": 60,
   "id": "ca6281e0",
   "metadata": {},
   "outputs": [],
   "source": [
    "list_4 = [[3], [44], [-12]]"
   ]
  },
  {
   "cell_type": "code",
   "execution_count": 61,
   "id": "c63edae8",
   "metadata": {},
   "outputs": [],
   "source": [
    "list_4.sort()"
   ]
  },
  {
   "cell_type": "code",
   "execution_count": 62,
   "id": "bb76bd9f",
   "metadata": {},
   "outputs": [
    {
     "data": {
      "text/plain": [
       "[[-12], [3], [44]]"
      ]
     },
     "execution_count": 62,
     "metadata": {},
     "output_type": "execute_result"
    }
   ],
   "source": [
    "list_4"
   ]
  },
  {
   "cell_type": "code",
   "execution_count": null,
   "id": "0312277f",
   "metadata": {},
   "outputs": [],
   "source": []
  },
  {
   "cell_type": "code",
   "execution_count": null,
   "id": "b2c502d8",
   "metadata": {},
   "outputs": [],
   "source": []
  },
  {
   "cell_type": "code",
   "execution_count": 63,
   "id": "b26fd707",
   "metadata": {},
   "outputs": [],
   "source": [
    "list_5 = [[1, 3], [44, -40], [-12, 1]]"
   ]
  },
  {
   "cell_type": "code",
   "execution_count": 64,
   "id": "9985b507",
   "metadata": {},
   "outputs": [],
   "source": [
    "list_5.sort()"
   ]
  },
  {
   "cell_type": "code",
   "execution_count": 65,
   "id": "17a2588b",
   "metadata": {},
   "outputs": [
    {
     "data": {
      "text/plain": [
       "[[-12, 1], [1, 3], [44, -40]]"
      ]
     },
     "execution_count": 65,
     "metadata": {},
     "output_type": "execute_result"
    }
   ],
   "source": [
    "list_5"
   ]
  },
  {
   "cell_type": "code",
   "execution_count": 66,
   "id": "3094292a",
   "metadata": {},
   "outputs": [
    {
     "data": {
      "text/plain": [
       "'F'"
      ]
     },
     "execution_count": 66,
     "metadata": {},
     "output_type": "execute_result"
    }
   ],
   "source": [
    "chr(70)"
   ]
  },
  {
   "cell_type": "code",
   "execution_count": 71,
   "id": "60eb5bca",
   "metadata": {},
   "outputs": [
    {
     "data": {
      "text/plain": [
       "'ƻ'"
      ]
     },
     "execution_count": 71,
     "metadata": {},
     "output_type": "execute_result"
    }
   ],
   "source": [
    "chr(443)"
   ]
  },
  {
   "cell_type": "code",
   "execution_count": null,
   "id": "163644d6",
   "metadata": {},
   "outputs": [],
   "source": []
  },
  {
   "cell_type": "code",
   "execution_count": null,
   "id": "c6044a03",
   "metadata": {},
   "outputs": [],
   "source": []
  },
  {
   "cell_type": "code",
   "execution_count": null,
   "id": "be39f39d",
   "metadata": {},
   "outputs": [],
   "source": []
  }
 ],
 "metadata": {
  "kernelspec": {
   "display_name": "Python 3",
   "language": "python",
   "name": "python3"
  },
  "language_info": {
   "codemirror_mode": {
    "name": "ipython",
    "version": 3
   },
   "file_extension": ".py",
   "mimetype": "text/x-python",
   "name": "python",
   "nbconvert_exporter": "python",
   "pygments_lexer": "ipython3",
   "version": "3.8.8"
  }
 },
 "nbformat": 4,
 "nbformat_minor": 5
}
