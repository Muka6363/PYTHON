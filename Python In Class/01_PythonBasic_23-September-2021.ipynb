{
 "cells": [
  {
   "cell_type": "markdown",
   "id": "406f2981",
   "metadata": {},
   "source": [
    "<img src=\"https://docs.google.com/uc?id=14xeXxFrVRjvOoUYWn_GuyE-v84wVzrqr\" class=\"img-fluid\" alt=\"CLRWY\" width=\"400\" height=\"200\">"
   ]
  },
  {
   "cell_type": "markdown",
   "id": "22263af8",
   "metadata": {},
   "source": [
    "<h1><p style=\"text-align: center; color:darkblue\">Python In-Class, <br>23 September 2021</p><h1>"
   ]
  },
  {
   "cell_type": "code",
   "execution_count": 1,
   "id": "8918bba5",
   "metadata": {},
   "outputs": [
    {
     "name": "stdout",
     "output_type": "stream",
     "text": [
      "hello world\n"
     ]
    }
   ],
   "source": [
    "print('hello world')"
   ]
  },
  {
   "cell_type": "code",
   "execution_count": 2,
   "id": "910a4074",
   "metadata": {},
   "outputs": [
    {
     "ename": "SyntaxError",
     "evalue": "EOL while scanning string literal (<ipython-input-2-278f78f45249>, line 1)",
     "output_type": "error",
     "traceback": [
      "\u001b[0;36m  File \u001b[0;32m\"<ipython-input-2-278f78f45249>\"\u001b[0;36m, line \u001b[0;32m1\u001b[0m\n\u001b[0;31m    print(\"hello world')\u001b[0m\n\u001b[0m                        ^\u001b[0m\n\u001b[0;31mSyntaxError\u001b[0m\u001b[0;31m:\u001b[0m EOL while scanning string literal\n"
     ]
    }
   ],
   "source": [
    "print(\"hello world')"
   ]
  },
  {
   "cell_type": "code",
   "execution_count": 4,
   "id": "4489fda4",
   "metadata": {},
   "outputs": [
    {
     "name": "stdout",
     "output_type": "stream",
     "text": [
      "çiftle başladım çiftle bitirdim\n"
     ]
    }
   ],
   "source": [
    "print(\"çiftle başladım çiftle bitirdim\")"
   ]
  },
  {
   "cell_type": "code",
   "execution_count": 5,
   "id": "7e210b96",
   "metadata": {},
   "outputs": [
    {
     "ename": "SyntaxError",
     "evalue": "EOL while scanning string literal (<ipython-input-5-251fcc96629d>, line 1)",
     "output_type": "error",
     "traceback": [
      "\u001b[0;36m  File \u001b[0;32m\"<ipython-input-5-251fcc96629d>\"\u001b[0;36m, line \u001b[0;32m1\u001b[0m\n\u001b[0;31m    print(\"benim adım joseph,\u001b[0m\n\u001b[0m                             ^\u001b[0m\n\u001b[0;31mSyntaxError\u001b[0m\u001b[0;31m:\u001b[0m EOL while scanning string literal\n"
     ]
    }
   ],
   "source": [
    "print(\"benim adım joseph,\n",
    "      ben sizi seviyorum\n",
    "      sizde huzur buluyorum\")"
   ]
  },
  {
   "cell_type": "code",
   "execution_count": 6,
   "id": "2fb30424",
   "metadata": {},
   "outputs": [
    {
     "name": "stdout",
     "output_type": "stream",
     "text": [
      "\n",
      "bunun \n",
      "arasına \n",
      "istedğim kadar\n",
      "satır yazıp\n",
      "uzunca çıktı alabileceğim gibi\n",
      "istediğm yerde de kullanabilirim\n",
      "\n"
     ]
    }
   ],
   "source": [
    "print(\"\"\"\n",
    "bunun \n",
    "arasına \n",
    "istedğim kadar\n",
    "satır yazıp\n",
    "uzunca çıktı alabileceğim gibi\n",
    "istediğm yerde de kullanabilirim\n",
    "\"\"\")"
   ]
  },
  {
   "cell_type": "code",
   "execution_count": 7,
   "id": "dc8d18b5",
   "metadata": {},
   "outputs": [
    {
     "name": "stdout",
     "output_type": "stream",
     "text": [
      "hello world\n"
     ]
    }
   ],
   "source": [
    "print(\"\"\"hello world\"\"\")"
   ]
  },
  {
   "cell_type": "code",
   "execution_count": 8,
   "id": "5bc3961e",
   "metadata": {},
   "outputs": [
    {
     "name": "stdout",
     "output_type": "stream",
     "text": [
      "tek satır\n"
     ]
    }
   ],
   "source": [
    "print('''tek satır''')"
   ]
  },
  {
   "cell_type": "code",
   "execution_count": 9,
   "id": "a8d059ce",
   "metadata": {},
   "outputs": [
    {
     "name": "stdout",
     "output_type": "stream",
     "text": [
      "\n",
      "bunun \n",
      "arasına \n",
      "istedğim kadar\n",
      "satır yazıp\n",
      "uzunca çıktı alabileceğim gibi\n",
      "istediğm yerde de kullanabilirim\n",
      "\n"
     ]
    }
   ],
   "source": [
    "print('''\n",
    "bunun \n",
    "arasına \n",
    "istedğim kadar\n",
    "satır yazıp\n",
    "uzunca çıktı alabileceğim gibi\n",
    "istediğm yerde de kullanabilirim\n",
    "''')"
   ]
  },
  {
   "cell_type": "code",
   "execution_count": 13,
   "id": "5b3972a0",
   "metadata": {},
   "outputs": [
    {
     "data": {
      "text/plain": [
       "\"1234567890*-*/=-+., '^+%&/()=?  _½§{#$}'\""
      ]
     },
     "execution_count": 13,
     "metadata": {},
     "output_type": "execute_result"
    }
   ],
   "source": [
    "\"\"\"hello\"\"\"\n",
    "\"\"\"1234567890*-*/=-+., '^+%&/()=?  _½§{#$}'\"\"\""
   ]
  },
  {
   "cell_type": "code",
   "execution_count": 11,
   "id": "6301e41f",
   "metadata": {},
   "outputs": [
    {
     "name": "stdout",
     "output_type": "stream",
     "text": [
      "Ahmet'in kedisi\n"
     ]
    }
   ],
   "source": [
    "print(\"Ahmet'in kedisi\")"
   ]
  },
  {
   "cell_type": "code",
   "execution_count": 12,
   "id": "61b93eed",
   "metadata": {},
   "outputs": [
    {
     "ename": "SyntaxError",
     "evalue": "EOL while scanning string literal (<ipython-input-12-d79ccbfdc3c3>, line 1)",
     "output_type": "error",
     "traceback": [
      "\u001b[0;36m  File \u001b[0;32m\"<ipython-input-12-d79ccbfdc3c3>\"\u001b[0;36m, line \u001b[0;32m1\u001b[0m\n\u001b[0;31m    print('Sevim'in kedisi')\u001b[0m\n\u001b[0m                            ^\u001b[0m\n\u001b[0;31mSyntaxError\u001b[0m\u001b[0;31m:\u001b[0m EOL while scanning string literal\n"
     ]
    }
   ],
   "source": [
    "print('Sevim'in kedisi')"
   ]
  },
  {
   "cell_type": "code",
   "execution_count": null,
   "id": "a577e123",
   "metadata": {},
   "outputs": [],
   "source": [
    "print('Sevim\"in kedisi')"
   ]
  },
  {
   "cell_type": "code",
   "execution_count": 14,
   "id": "75cf1107",
   "metadata": {},
   "outputs": [
    {
     "name": "stdout",
     "output_type": "stream",
     "text": [
      "birinci satır\n",
      "\n",
      "üçüncü satır\n"
     ]
    }
   ],
   "source": [
    "print(\"birinci satır\")\n",
    "print()\n",
    "print(\"üçüncü satır\")"
   ]
  },
  {
   "cell_type": "code",
   "execution_count": 15,
   "id": "b7ea5445",
   "metadata": {},
   "outputs": [
    {
     "ename": "SyntaxError",
     "evalue": "EOF while scanning triple-quoted string literal (<ipython-input-15-4b777b03c816>, line 1)",
     "output_type": "error",
     "traceback": [
      "\u001b[0;36m  File \u001b[0;32m\"<ipython-input-15-4b777b03c816>\"\u001b[0;36m, line \u001b[0;32m1\u001b[0m\n\u001b[0;31m    print('''')\u001b[0m\n\u001b[0m               ^\u001b[0m\n\u001b[0;31mSyntaxError\u001b[0m\u001b[0;31m:\u001b[0m EOF while scanning triple-quoted string literal\n"
     ]
    }
   ],
   "source": [
    "print('''')"
   ]
  },
  {
   "cell_type": "code",
   "execution_count": null,
   "id": "4ab742fa",
   "metadata": {},
   "outputs": [],
   "source": [
    "print(''''''')"
   ]
  },
  {
   "cell_type": "code",
   "execution_count": null,
   "id": "0854107f",
   "metadata": {},
   "outputs": [],
   "source": [
    "print(\"\"\"\"\"\"\")  "
   ]
  },
  {
   "cell_type": "code",
   "execution_count": 16,
   "id": "e8f487ad",
   "metadata": {},
   "outputs": [
    {
     "name": "stdout",
     "output_type": "stream",
     "text": [
      "sizinle tanışmak güzeldi\n"
     ]
    }
   ],
   "source": [
    "print(\"sizinle tanışmak güzeldi\")  # bu benim açıklamamdır"
   ]
  },
  {
   "cell_type": "code",
   "execution_count": 17,
   "id": "aca1575a",
   "metadata": {},
   "outputs": [
    {
     "name": "stdout",
     "output_type": "stream",
     "text": [
      "\n"
     ]
    }
   ],
   "source": [
    "print(\"\")\n",
    "# bu bir single-line commentdir"
   ]
  },
  {
   "cell_type": "code",
   "execution_count": 18,
   "id": "e1b3522c",
   "metadata": {},
   "outputs": [],
   "source": [
    "# bu açıklamanın birinci satırı\n",
    "# bu açıklamanın ikinci satırı\n",
    "# bu da üçüncü satırı"
   ]
  },
  {
   "cell_type": "code",
   "execution_count": 19,
   "id": "174f000d",
   "metadata": {},
   "outputs": [],
   "source": [
    "...\n",
    "...\n",
    "...\n",
    "x = 35\n",
    "y = 22  # bu da müşterinin kızının ev sayısı\n",
    "# buradaki \"x\" müşterinin ev sayısı"
   ]
  },
  {
   "cell_type": "code",
   "execution_count": 20,
   "id": "3be5406f",
   "metadata": {},
   "outputs": [
    {
     "data": {
      "text/plain": [
       "8"
      ]
     },
     "execution_count": 20,
     "metadata": {},
     "output_type": "execute_result"
    }
   ],
   "source": [
    "3 + 5  # 3 ile 5 in toplamına ilişkin code satırı"
   ]
  },
  {
   "cell_type": "code",
   "execution_count": null,
   "id": "3af02c5c",
   "metadata": {},
   "outputs": [],
   "source": [
    "# print(\"sizinle tanışmak güzeldi\")  # bu benim açıklamamdır"
   ]
  }
 ],
 "metadata": {
  "kernelspec": {
   "display_name": "Python 3",
   "language": "python",
   "name": "python3"
  },
  "language_info": {
   "codemirror_mode": {
    "name": "ipython",
    "version": 3
   },
   "file_extension": ".py",
   "mimetype": "text/x-python",
   "name": "python",
   "nbconvert_exporter": "python",
   "pygments_lexer": "ipython3",
   "version": "3.8.8"
  }
 },
 "nbformat": 4,
 "nbformat_minor": 5
}
