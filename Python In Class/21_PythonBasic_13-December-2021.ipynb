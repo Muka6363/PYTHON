{
 "cells": [
  {
   "cell_type": "markdown",
   "id": "406f2981",
   "metadata": {},
   "source": [
    "<img src=\"https://docs.google.com/uc?id=14xeXxFrVRjvOoUYWn_GuyE-v84wVzrqr\" class=\"img-fluid\" alt=\"CLRWY\" width=\"400\" height=\"200\">"
   ]
  },
  {
   "cell_type": "markdown",
   "id": "22263af8",
   "metadata": {},
   "source": [
    "<h1><p style=\"text-align: center; color:darkblue\">Python In-Class, <br>13 December 2021</p><h1>"
   ]
  },
  {
   "cell_type": "code",
   "execution_count": 3,
   "id": "26948fcc",
   "metadata": {},
   "outputs": [
    {
     "name": "stdout",
     "output_type": "stream",
     "text": [
      "hello world\n",
      "hello world\n",
      "hello world\n",
      "hello world\n",
      "hello world\n"
     ]
    },
    {
     "ename": "ZeroDivisionError",
     "evalue": "division by zero",
     "output_type": "error",
     "traceback": [
      "\u001b[0;31m---------------------------------------------------------------------------\u001b[0m",
      "\u001b[0;31mZeroDivisionError\u001b[0m                         Traceback (most recent call last)",
      "\u001b[0;32m<ipython-input-3-2a39dc7d9bd2>\u001b[0m in \u001b[0;36m<module>\u001b[0;34m\u001b[0m\n\u001b[1;32m      4\u001b[0m \u001b[0mprint\u001b[0m\u001b[0;34m(\u001b[0m\u001b[0;34m\"hello world\"\u001b[0m\u001b[0;34m)\u001b[0m\u001b[0;34m\u001b[0m\u001b[0;34m\u001b[0m\u001b[0m\n\u001b[1;32m      5\u001b[0m \u001b[0mprint\u001b[0m\u001b[0;34m(\u001b[0m\u001b[0;34m\"hello world\"\u001b[0m\u001b[0;34m)\u001b[0m\u001b[0;34m\u001b[0m\u001b[0;34m\u001b[0m\u001b[0m\n\u001b[0;32m----> 6\u001b[0;31m \u001b[0;36m2\u001b[0m\u001b[0;34m/\u001b[0m\u001b[0;36m0\u001b[0m\u001b[0;34m\u001b[0m\u001b[0;34m\u001b[0m\u001b[0m\n\u001b[0m\u001b[1;32m      7\u001b[0m \u001b[0mprint\u001b[0m\u001b[0;34m(\u001b[0m\u001b[0;34m\"hello world\"\u001b[0m\u001b[0;34m)\u001b[0m\u001b[0;34m\u001b[0m\u001b[0;34m\u001b[0m\u001b[0m\n\u001b[1;32m      8\u001b[0m \u001b[0mprint\u001b[0m\u001b[0;34m(\u001b[0m\u001b[0;34m\"hello world\"\u001b[0m\u001b[0;34m)\u001b[0m\u001b[0;34m\u001b[0m\u001b[0;34m\u001b[0m\u001b[0m\n",
      "\u001b[0;31mZeroDivisionError\u001b[0m: division by zero"
     ]
    }
   ],
   "source": [
    "print(\"hello world\")\n",
    "print(\"hello world\")\n",
    "print(\"hello world\")\n",
    "print(\"hello world\")\n",
    "print(\"hello world\")\n",
    "2/0\n",
    "print(\"hello world\")\n",
    "print(\"hello world\")\n",
    "print(\"hello world\")\n",
    "print(\"hello world\")\n",
    "print(\"hello world\")"
   ]
  },
  {
   "cell_type": "code",
   "execution_count": 5,
   "id": "4922f476",
   "metadata": {},
   "outputs": [
    {
     "name": "stdout",
     "output_type": "stream",
     "text": [
      "The first number please : 5\n",
      "The second number please : 0\n",
      "Something went wrong...Try again.\n",
      "Probably it is because of 'division by zero' error\n"
     ]
    }
   ],
   "source": [
    "while True:\n",
    "    no_one = int(input(\"The first number please : \"))\n",
    "    no_two = int(input(\"The second number please : \"))\n",
    "    try:\n",
    "        division = no_one / no_two\n",
    "        print(\"The result of the division is : \", division)\n",
    "        break\n",
    "    except Exception as fırfırik:\n",
    "        print(\"Something went wrong...Try again.\")\n",
    "        print(\"Probably it is because of '{}' error\".format(fırfırik))\n",
    "        break"
   ]
  },
  {
   "cell_type": "code",
   "execution_count": 6,
   "id": "ae17ebaf",
   "metadata": {},
   "outputs": [
    {
     "name": "stdout",
     "output_type": "stream",
     "text": [
      "The first number please : 5\n",
      "The second number please : beş\n",
      "Something went wrong...Try again.\n",
      "Probably it is because of 'invalid literal for int() with base 10: 'beş'' error\n"
     ]
    }
   ],
   "source": [
    "while True:\n",
    "\n",
    "    try:\n",
    "        \n",
    "        no_one = int(input(\"The first number please : \"))\n",
    "        no_two = int(input(\"The second number please : \"))\n",
    "        \n",
    "        division = no_one / no_two\n",
    "        print(\"The result of the division is : \", division)\n",
    "        break\n",
    "    except Exception as fırfırik:\n",
    "        print(\"Something went wrong...Try again.\")\n",
    "        print(\"Probably it is because of '{}' error\".format(fırfırik))\n",
    "        break"
   ]
  },
  {
   "cell_type": "code",
   "execution_count": 7,
   "id": "8d9d06e2",
   "metadata": {},
   "outputs": [
    {
     "ename": "NameError",
     "evalue": "name 'fırfırik' is not defined",
     "output_type": "error",
     "traceback": [
      "\u001b[0;31m---------------------------------------------------------------------------\u001b[0m",
      "\u001b[0;31mNameError\u001b[0m                                 Traceback (most recent call last)",
      "\u001b[0;32m<ipython-input-7-50ef1a20ff9a>\u001b[0m in \u001b[0;36m<module>\u001b[0;34m\u001b[0m\n\u001b[0;32m----> 1\u001b[0;31m \u001b[0mfırfırik\u001b[0m\u001b[0;34m\u001b[0m\u001b[0;34m\u001b[0m\u001b[0m\n\u001b[0m",
      "\u001b[0;31mNameError\u001b[0m: name 'fırfırik' is not defined"
     ]
    }
   ],
   "source": [
    "fırfırik"
   ]
  },
  {
   "cell_type": "code",
   "execution_count": 8,
   "id": "2a941351",
   "metadata": {},
   "outputs": [
    {
     "name": "stdout",
     "output_type": "stream",
     "text": [
      "Attempt to divide by zero\n"
     ]
    }
   ],
   "source": [
    "try:\n",
    "    x = 2/0\n",
    "\n",
    "except ZeroDivisionError:\n",
    "    print('Attempt to divide by zero')\n",
    "except:\n",
    "    print('Something else went wrong')"
   ]
  },
  {
   "cell_type": "code",
   "execution_count": 9,
   "id": "787876c1",
   "metadata": {},
   "outputs": [
    {
     "name": "stdout",
     "output_type": "stream",
     "text": [
      "Something else went wrong\n"
     ]
    }
   ],
   "source": [
    "try:\n",
    "    x\n",
    "except ZeroDivisionError:\n",
    "    print('Attempt to divide by zero')\n",
    "except:\n",
    "    print('Something else went wrong')"
   ]
  },
  {
   "cell_type": "code",
   "execution_count": 10,
   "id": "3436037e",
   "metadata": {},
   "outputs": [
    {
     "name": "stdout",
     "output_type": "stream",
     "text": [
      "Act in accordance with name error\n"
     ]
    }
   ],
   "source": [
    "try:\n",
    "    x\n",
    "except ZeroDivisionError:\n",
    "    print('Attempt to divide by zero')\n",
    "except NameError:\n",
    "    print('Act in accordance with name error')\n",
    "except:\n",
    "    print('Something else went wrong')"
   ]
  },
  {
   "cell_type": "code",
   "execution_count": 12,
   "id": "16289622",
   "metadata": {},
   "outputs": [
    {
     "ename": "ValueError",
     "evalue": "invalid literal for int() with base 10: 'on'",
     "output_type": "error",
     "traceback": [
      "\u001b[0;31m---------------------------------------------------------------------------\u001b[0m",
      "\u001b[0;31mValueError\u001b[0m                                Traceback (most recent call last)",
      "\u001b[0;32m<ipython-input-12-9db2c1f25cfb>\u001b[0m in \u001b[0;36m<module>\u001b[0;34m\u001b[0m\n\u001b[0;32m----> 1\u001b[0;31m \u001b[0mint\u001b[0m\u001b[0;34m(\u001b[0m\u001b[0;34m\"on\"\u001b[0m\u001b[0;34m)\u001b[0m\u001b[0;34m\u001b[0m\u001b[0;34m\u001b[0m\u001b[0m\n\u001b[0m",
      "\u001b[0;31mValueError\u001b[0m: invalid literal for int() with base 10: 'on'"
     ]
    }
   ],
   "source": [
    "int(\"on\")"
   ]
  },
  {
   "cell_type": "code",
   "execution_count": 11,
   "id": "24535326",
   "metadata": {},
   "outputs": [
    {
     "name": "stdout",
     "output_type": "stream",
     "text": [
      "Something else went wrong\n"
     ]
    }
   ],
   "source": [
    "try:\n",
    "    int(\"on\")\n",
    "except ZeroDivisionError:\n",
    "    print('Attempt to divide by zero')\n",
    "except NameError:\n",
    "    print('Act in accordance with name error')\n",
    "except:\n",
    "    print('Something else went wrong')"
   ]
  },
  {
   "cell_type": "code",
   "execution_count": 13,
   "id": "019875dc",
   "metadata": {},
   "outputs": [
    {
     "name": "stdout",
     "output_type": "stream",
     "text": [
      "Act in accordance with value and type error\n"
     ]
    }
   ],
   "source": [
    "try:\n",
    "    int(\"on\")\n",
    "except ZeroDivisionError:\n",
    "    print('Attempt to divide by zero')\n",
    "except NameError:\n",
    "    print('Act in accordance with name error')\n",
    "except (ValueError, TypeError):\n",
    "    print('Act in accordance with value and type error')\n",
    "except:\n",
    "    print('Something else went wrong')"
   ]
  },
  {
   "cell_type": "code",
   "execution_count": 14,
   "id": "1e4f3326",
   "metadata": {},
   "outputs": [
    {
     "name": "stdout",
     "output_type": "stream",
     "text": [
      "Act in accordance with value and type error\n"
     ]
    }
   ],
   "source": [
    "try:\n",
    "    4 + \"4\"\n",
    "except ZeroDivisionError:\n",
    "    print('Attempt to divide by zero')\n",
    "except NameError:\n",
    "    print('Act in accordance with name error')\n",
    "except (ValueError, TypeError):\n",
    "    print('Act in accordance with value and type error')\n",
    "except:\n",
    "    print('Something else went wrong')"
   ]
  },
  {
   "cell_type": "code",
   "execution_count": 15,
   "id": "4701a3be",
   "metadata": {},
   "outputs": [
    {
     "name": "stdout",
     "output_type": "stream",
     "text": [
      "Attempt to divide by zero\n"
     ]
    }
   ],
   "source": [
    "try:\n",
    "    4 / 0\n",
    "except ArithmeticError:\n",
    "    print('Attempt to divide by zero')\n",
    "except NameError:\n",
    "    print('Act in accordance with name error')\n",
    "except (ValueError, TypeError):\n",
    "    print('Act in accordance with value and type error')\n",
    "except:\n",
    "    print('Something else went wrong')"
   ]
  },
  {
   "cell_type": "code",
   "execution_count": 17,
   "id": "2586ff34",
   "metadata": {},
   "outputs": [],
   "source": [
    "fruits = [\"banana\", \"mango\", \"pear\", \"apple\", \"kiwi\", \"grape\"]"
   ]
  },
  {
   "cell_type": "code",
   "execution_count": 18,
   "id": "7f2193d8",
   "metadata": {},
   "outputs": [
    {
     "name": "stdout",
     "output_type": "stream",
     "text": [
      "Pick an index number to choose your favorite fruit5\n",
      "Your favorite fruit is grape\n"
     ]
    }
   ],
   "source": [
    "while True :\n",
    "    \n",
    "    try :\n",
    "        index = int(input(\"Pick an index number to choose your favorite fruit\"))\n",
    "        print(\"Your favorite fruit is\", fruits[index])\n",
    "        break\n",
    "        \n",
    "    except IndexError :\n",
    "        print(\"There is no such an index. Try again!\")\n",
    "        \n",
    "    except ValueError :\n",
    "        print(\"You should enter integer. Try again!\")"
   ]
  },
  {
   "cell_type": "code",
   "execution_count": 19,
   "id": "534e03ee",
   "metadata": {},
   "outputs": [
    {
     "name": "stdout",
     "output_type": "stream",
     "text": [
      "Pick an index number to choose your favorite fruit9\n",
      "There is no such an index. Try again!\n",
      "Pick an index number to choose your favorite fruitdört\n",
      "You should enter integer. Try again!\n",
      "Pick an index number to choose your favorite fruit-1\n",
      "Your favorite fruit is grape\n"
     ]
    }
   ],
   "source": [
    "while True :\n",
    "    \n",
    "    try :\n",
    "        index = int(input(\"Pick an index number to choose your favorite fruit\"))\n",
    "        print(\"Your favorite fruit is\", fruits[index])\n",
    "        break\n",
    "        \n",
    "    except IndexError :\n",
    "        print(\"There is no such an index. Try again!\")\n",
    "        \n",
    "    except ValueError :\n",
    "        print(\"You should enter integer. Try again!\")"
   ]
  },
  {
   "cell_type": "code",
   "execution_count": 20,
   "id": "f88b9b5b",
   "metadata": {},
   "outputs": [
    {
     "name": "stdout",
     "output_type": "stream",
     "text": [
      "you have 3 right.\n",
      "picka an index number.beş\n",
      "Value error. You have 2 right left. Try again!\n",
      "Our fruits are always fresh!\n",
      "you have 2 right.\n",
      "picka an index number.55\n",
      "Index error. You have 1 right left. Try again!\n",
      "Our fruits are always fresh!\n",
      "you have 1 right.\n",
      "picka an index number.3\n",
      "Your favorite fruit is apple\n",
      "Congrats! You've entered valid input.\n",
      "Our fruits are always fresh!\n"
     ]
    }
   ],
   "source": [
    "counter = 3\n",
    "\n",
    "while counter > 0 :\n",
    "    \n",
    "    try :\n",
    "        print(f\"you have {counter} right.\")\n",
    "        index = int(input(\"picka an index number.\"))\n",
    "        print(\"Your favorite fruit is\", fruits[index])\n",
    "        \n",
    "    except IndexError :\n",
    "        counter -= 1\n",
    "        print(f\"Index error. You have {counter} right left. Try again!\")\n",
    "    \n",
    "    except ValueError :\n",
    "        counter -= 1\n",
    "        print(f\"Value error. You have {counter} right left. Try again!\")        \n",
    "        \n",
    "    else :\n",
    "        print(\"Congrats! You've entered valid input.\")\n",
    "        break        \n",
    "    finally :\n",
    "        print(\"Our fruits are always fresh!\")"
   ]
  },
  {
   "cell_type": "code",
   "execution_count": 21,
   "id": "3be3bf29",
   "metadata": {},
   "outputs": [
    {
     "data": {
      "text/plain": [
       "False"
      ]
     },
     "execution_count": 21,
     "metadata": {},
     "output_type": "execute_result"
    }
   ],
   "source": [
    "0 > 0"
   ]
  },
  {
   "cell_type": "code",
   "execution_count": 22,
   "id": "76d103fa",
   "metadata": {},
   "outputs": [],
   "source": [
    "word = {1 : \"1\", 2 : \"2\"}"
   ]
  },
  {
   "cell_type": "code",
   "execution_count": 23,
   "id": "d24527b3",
   "metadata": {},
   "outputs": [
    {
     "data": {
      "text/plain": [
       "{1: '1', 2: '2'}"
      ]
     },
     "execution_count": 23,
     "metadata": {},
     "output_type": "execute_result"
    }
   ],
   "source": [
    "word"
   ]
  },
  {
   "cell_type": "code",
   "execution_count": 24,
   "id": "61a161f7",
   "metadata": {},
   "outputs": [
    {
     "data": {
      "text/plain": [
       "dict_keys([1, 2])"
      ]
     },
     "execution_count": 24,
     "metadata": {},
     "output_type": "execute_result"
    }
   ],
   "source": [
    "keys = word.keys()\n",
    "keys"
   ]
  },
  {
   "cell_type": "code",
   "execution_count": 25,
   "id": "26715682",
   "metadata": {},
   "outputs": [],
   "source": [
    "word_1 = {}"
   ]
  },
  {
   "cell_type": "code",
   "execution_count": 26,
   "id": "86418eaa",
   "metadata": {},
   "outputs": [],
   "source": [
    "word_1[3] = 1"
   ]
  },
  {
   "cell_type": "code",
   "execution_count": 27,
   "id": "946c5690",
   "metadata": {},
   "outputs": [
    {
     "data": {
      "text/plain": [
       "{3: 1}"
      ]
     },
     "execution_count": 27,
     "metadata": {},
     "output_type": "execute_result"
    }
   ],
   "source": [
    "word_1"
   ]
  },
  {
   "cell_type": "code",
   "execution_count": 28,
   "id": "dad86e21",
   "metadata": {},
   "outputs": [],
   "source": [
    "word_1[\"ali\"] = \"deli\""
   ]
  },
  {
   "cell_type": "code",
   "execution_count": 29,
   "id": "f1fa18d3",
   "metadata": {},
   "outputs": [
    {
     "data": {
      "text/plain": [
       "{3: 1, 'ali': 'deli'}"
      ]
     },
     "execution_count": 29,
     "metadata": {},
     "output_type": "execute_result"
    }
   ],
   "source": [
    "word_1"
   ]
  },
  {
   "cell_type": "code",
   "execution_count": 30,
   "id": "6a51367e",
   "metadata": {},
   "outputs": [],
   "source": [
    "word_2 = word_1.copy()"
   ]
  },
  {
   "cell_type": "code",
   "execution_count": 31,
   "id": "3ad841ae",
   "metadata": {},
   "outputs": [],
   "source": [
    "del word_2[\"ali\"]"
   ]
  },
  {
   "cell_type": "code",
   "execution_count": 32,
   "id": "06b8b715",
   "metadata": {},
   "outputs": [
    {
     "data": {
      "text/plain": [
       "{3: 1}"
      ]
     },
     "execution_count": 32,
     "metadata": {},
     "output_type": "execute_result"
    }
   ],
   "source": [
    "word_2"
   ]
  },
  {
   "cell_type": "code",
   "execution_count": 33,
   "id": "6b40c114",
   "metadata": {},
   "outputs": [
    {
     "data": {
      "text/plain": [
       "{3: 1, 'p': 1}"
      ]
     },
     "execution_count": 33,
     "metadata": {},
     "output_type": "execute_result"
    }
   ],
   "source": [
    "word_2[\"p\"] = 1\n",
    "word_2"
   ]
  },
  {
   "cell_type": "code",
   "execution_count": 34,
   "id": "1a7d5631",
   "metadata": {},
   "outputs": [
    {
     "data": {
      "text/plain": [
       "{3: 1, 'p': 1, 'i': 1}"
      ]
     },
     "execution_count": 34,
     "metadata": {},
     "output_type": "execute_result"
    }
   ],
   "source": [
    "word_2[\"i\"] = 1\n",
    "word_2"
   ]
  },
  {
   "cell_type": "code",
   "execution_count": 35,
   "id": "f359a642",
   "metadata": {},
   "outputs": [
    {
     "data": {
      "text/plain": [
       "True"
      ]
     },
     "execution_count": 35,
     "metadata": {},
     "output_type": "execute_result"
    }
   ],
   "source": [
    "\"i\" in word_2"
   ]
  },
  {
   "cell_type": "code",
   "execution_count": 37,
   "id": "5025f4f3",
   "metadata": {},
   "outputs": [
    {
     "data": {
      "text/plain": [
       "{3: 1, 'p': 1, 'i': 2}"
      ]
     },
     "execution_count": 37,
     "metadata": {},
     "output_type": "execute_result"
    }
   ],
   "source": [
    "word_2[\"i\"] = word_2[\"i\"] + 1\n",
    "word_2"
   ]
  },
  {
   "cell_type": "code",
   "execution_count": 42,
   "id": "017e3b90",
   "metadata": {},
   "outputs": [],
   "source": [
    "string = \"bugün hüzünlüyüm. Ayrılık yakın. 2 session sonra...\""
   ]
  },
  {
   "cell_type": "code",
   "execution_count": 43,
   "id": "a7d10185",
   "metadata": {},
   "outputs": [],
   "source": [
    "word_dict = {}"
   ]
  },
  {
   "cell_type": "code",
   "execution_count": 44,
   "id": "d31ac67a",
   "metadata": {},
   "outputs": [
    {
     "name": "stdout",
     "output_type": "stream",
     "text": [
      "{'b': 1, 'u': 1, 'g': 1, 'ü': 5, 'n': 5, ' ': 6, 'h': 1, 'z': 1, 'l': 2, 'y': 3, 'm': 1, '.': 5, 'A': 1, 'r': 2, 'ı': 3, 'k': 2, 'a': 2, '2': 1, 's': 4, 'e': 1, 'i': 1, 'o': 2}\n"
     ]
    }
   ],
   "source": [
    "for n in string :\n",
    "\n",
    "    if n in word_dict :\n",
    "        word_dict[n] += 1\n",
    "        \n",
    "    else :\n",
    "        word_dict[n] = 1\n",
    "        \n",
    "print(word_dict)"
   ]
  },
  {
   "cell_type": "code",
   "execution_count": 46,
   "id": "af17247c",
   "metadata": {},
   "outputs": [],
   "source": [
    "veri = [\"a\", \"b\", True, (False, 1), {\"1\" : 2}, [1,2], {\"2\" : \"two\"}, {2, \"3\"}, \"c\", 23, 0]"
   ]
  },
  {
   "cell_type": "code",
   "execution_count": 47,
   "id": "8296062a",
   "metadata": {},
   "outputs": [],
   "source": [
    "tipler = [\"int\", \"str\", \"bool\", \"list\", \"tuple\", \"dict\", \"set\"]"
   ]
  },
  {
   "cell_type": "code",
   "execution_count": null,
   "id": "ad90e60f",
   "metadata": {},
   "outputs": [],
   "source": [
    "{\"bool\" : 1, \"int\" : 2, \"list\" : 1, \"tuple\" : 1, \"str\" : 3}"
   ]
  },
  {
   "cell_type": "code",
   "execution_count": 48,
   "id": "4b114684",
   "metadata": {},
   "outputs": [
    {
     "data": {
      "text/plain": [
       "{'int': 0, 'str': 0, 'bool': 0, 'list': 0, 'tuple': 0, 'dict': 0, 'set': 0}"
      ]
     },
     "execution_count": 48,
     "metadata": {},
     "output_type": "execute_result"
    }
   ],
   "source": [
    "{}.fromkeys(tipler, 0)"
   ]
  },
  {
   "cell_type": "code",
   "execution_count": 56,
   "id": "0f95eecf",
   "metadata": {},
   "outputs": [],
   "source": [
    "toplam = {}.fromkeys(tipler, 0)"
   ]
  },
  {
   "cell_type": "code",
   "execution_count": 50,
   "id": "ce42099b",
   "metadata": {},
   "outputs": [
    {
     "data": {
      "text/plain": [
       "11"
      ]
     },
     "execution_count": 50,
     "metadata": {},
     "output_type": "execute_result"
    }
   ],
   "source": [
    "len(veri)"
   ]
  },
  {
   "cell_type": "code",
   "execution_count": 51,
   "id": "63dab72b",
   "metadata": {},
   "outputs": [
    {
     "data": {
      "text/plain": [
       "str"
      ]
     },
     "execution_count": 51,
     "metadata": {},
     "output_type": "execute_result"
    }
   ],
   "source": [
    "type(veri[0])"
   ]
  },
  {
   "cell_type": "code",
   "execution_count": 52,
   "id": "fffe0fdd",
   "metadata": {},
   "outputs": [
    {
     "data": {
      "text/plain": [
       "list"
      ]
     },
     "execution_count": 52,
     "metadata": {},
     "output_type": "execute_result"
    }
   ],
   "source": [
    "type(veri[5])"
   ]
  },
  {
   "cell_type": "code",
   "execution_count": 53,
   "id": "564650da",
   "metadata": {},
   "outputs": [
    {
     "data": {
      "text/plain": [
       "True"
      ]
     },
     "execution_count": 53,
     "metadata": {},
     "output_type": "execute_result"
    }
   ],
   "source": [
    "type(veri[5]) == list"
   ]
  },
  {
   "cell_type": "code",
   "execution_count": 54,
   "id": "5aeade5a",
   "metadata": {},
   "outputs": [
    {
     "data": {
      "text/plain": [
       "False"
      ]
     },
     "execution_count": 54,
     "metadata": {},
     "output_type": "execute_result"
    }
   ],
   "source": [
    "type(veri[5]) == str"
   ]
  },
  {
   "cell_type": "code",
   "execution_count": 57,
   "id": "3d87c9d0",
   "metadata": {},
   "outputs": [
    {
     "data": {
      "text/plain": [
       "{'int': 2, 'str': 3, 'bool': 1, 'list': 1, 'tuple': 1, 'dict': 2, 'set': 1}"
      ]
     },
     "execution_count": 57,
     "metadata": {},
     "output_type": "execute_result"
    }
   ],
   "source": [
    "for i in range(len(veri)) :\n",
    "    \n",
    "    if type(veri[i]) == int : toplam[\"int\"] += 1\n",
    "    elif type(veri[i]) == str : toplam[\"str\"] += 1\n",
    "    elif type(veri[i]) == bool : toplam[\"bool\"] += 1\n",
    "    elif type(veri[i]) == list : toplam[\"list\"] += 1\n",
    "    elif type(veri[i]) == tuple : toplam[\"tuple\"] += 1\n",
    "    elif type(veri[i]) == dict : toplam[\"dict\"] += 1\n",
    "    elif type(veri[i]) == set : toplam[\"set\"] += 1\n",
    "        \n",
    "toplam"
   ]
  },
  {
   "cell_type": "code",
   "execution_count": 58,
   "id": "df6eddf9",
   "metadata": {},
   "outputs": [],
   "source": [
    "import os"
   ]
  },
  {
   "cell_type": "code",
   "execution_count": 61,
   "id": "61d9b8f3",
   "metadata": {},
   "outputs": [
    {
     "data": {
      "text/plain": [
       "'/Users/ozgurhamdullah/jobs/CW/pythonic/python_sessions/PythonSessions-Cohort-010'"
      ]
     },
     "execution_count": 61,
     "metadata": {},
     "output_type": "execute_result"
    }
   ],
   "source": [
    "pwd"
   ]
  },
  {
   "cell_type": "code",
   "execution_count": 59,
   "id": "3b68d51c",
   "metadata": {},
   "outputs": [],
   "source": [
    "dosya_içeriği = os.listdir()"
   ]
  },
  {
   "cell_type": "code",
   "execution_count": 60,
   "id": "314bc240",
   "metadata": {},
   "outputs": [
    {
     "data": {
      "text/plain": [
       "['13_PythonBasic_11-November-2021.ipynb',\n",
       " '15_PythonBasic_17-November-2021.ipynb',\n",
       " 'dummy.txt',\n",
       " '17_PythonBasic_29-November-2021.ipynb',\n",
       " '08_PythonBasic_18-October-2021.ipynb',\n",
       " '16_PythonBasic_22-November-2021.ipynb',\n",
       " '20_PythonBasic_09-December-2021.ipynb',\n",
       " '12_PythonBasic_8-November-2021.ipynb',\n",
       " '.DS_Store',\n",
       " 'my_csv_file.csv',\n",
       " 'hata1.txt',\n",
       " '11_PythonBasic_4-November-2021.ipynb',\n",
       " '03_PythonBasic_30-September-2021.ipynb',\n",
       " 'titanic_vefat.csv',\n",
       " 'fruits3.txt',\n",
       " 'fruits.txt',\n",
       " '03_PythonBasic_30-September-2021(Teacher).ipynb',\n",
       " '10_PythonBasic_1-November-2021.ipynb',\n",
       " 'fruits2.txt',\n",
       " 'fishes.txt',\n",
       " '04_PythonBasic_04-October-2021(Teacher).ipynb',\n",
       " 'test.csv',\n",
       " '14_PythonBasic_15-November-2021.ipynb',\n",
       " 'titanic_bayanlar.csv',\n",
       " '21_PythonBasic_13-December-2021.ipynb',\n",
       " 'flowers.txt',\n",
       " '01_PythonBasic_23-September-2021(Teacher).ipynb',\n",
       " '18_PythonBasic_02-December-2021.ipynb',\n",
       " '02_PythonBasic_27-September-2021.ipynb',\n",
       " '06_PythonBasic_11-October-2021(Teacher).ipynb',\n",
       " 'titanic.csv',\n",
       " '08_PythonBasic_18-October-2021(Teacher).ipynb',\n",
       " 'istiklal.txt',\n",
       " '04_PythonBasic_04-October-2021.ipynb',\n",
       " 'rumi.txt',\n",
       " 'fruits_dash.csv',\n",
       " '.ipynb_checkpoints',\n",
       " '07_PythonBasic_14-October-2021(Teacher).ipynb',\n",
       " '02_PythonBasic_27-September-2021(Teacher).ipynb',\n",
       " '06_PythonBasic_11-October-2021.ipynb',\n",
       " 'fruits.csv',\n",
       " 'insan_siiri.txt',\n",
       " '05_PythonBasic_07-October-2021.ipynb',\n",
       " '07_PythonBasic_14-October-2021.ipynb',\n",
       " '05_PythonBasic_07-October-2021(Teacher).ipynb',\n",
       " '19_PythonBasic_07-December-2021.ipynb',\n",
       " '09_PythonBasic_21-October-2021.ipynb',\n",
       " 'hata.txt',\n",
       " 'PythonInterestingTeachingCodes.ipynb',\n",
       " '01_PythonBasic_23-September-2021.ipynb']"
      ]
     },
     "execution_count": 60,
     "metadata": {},
     "output_type": "execute_result"
    }
   ],
   "source": [
    "dosya_içeriği"
   ]
  },
  {
   "cell_type": "code",
   "execution_count": 62,
   "id": "e642b539",
   "metadata": {},
   "outputs": [],
   "source": [
    "import shutil"
   ]
  },
  {
   "cell_type": "code",
   "execution_count": 67,
   "id": "a1fdb380",
   "metadata": {},
   "outputs": [
    {
     "data": {
      "text/plain": [
       "'/Users/ozgurhamdullah/jobs/CW/pythonic/python_sessions/PythonSessions-Cohort-010.zip'"
      ]
     },
     "execution_count": 67,
     "metadata": {},
     "output_type": "execute_result"
    }
   ],
   "source": [
    "shutil.make_archive(\"/Users/ozgurhamdullah/jobs/CW/pythonic/python_sessions/PythonSessions-Cohort-010\", \"zip\", \"/Users/ozgurhamdullah/jobs/CW/pythonic/python_sessions/PythonSessions-Cohort-010\")\n"
   ]
  },
  {
   "cell_type": "code",
   "execution_count": 68,
   "id": "614584fd",
   "metadata": {},
   "outputs": [
    {
     "data": {
      "text/plain": [
       "['13_PythonBasic_11-November-2021.ipynb',\n",
       " '15_PythonBasic_17-November-2021.ipynb',\n",
       " 'dummy.txt',\n",
       " '17_PythonBasic_29-November-2021.ipynb',\n",
       " '08_PythonBasic_18-October-2021.ipynb',\n",
       " '16_PythonBasic_22-November-2021.ipynb',\n",
       " '20_PythonBasic_09-December-2021.ipynb',\n",
       " '12_PythonBasic_8-November-2021.ipynb',\n",
       " '.DS_Store',\n",
       " 'my_csv_file.csv',\n",
       " 'hata1.txt',\n",
       " '11_PythonBasic_4-November-2021.ipynb',\n",
       " '03_PythonBasic_30-September-2021.ipynb',\n",
       " 'titanic_vefat.csv',\n",
       " 'fruits3.txt',\n",
       " 'fruits.txt',\n",
       " '03_PythonBasic_30-September-2021(Teacher).ipynb',\n",
       " '10_PythonBasic_1-November-2021.ipynb',\n",
       " 'fruits2.txt',\n",
       " 'fishes.txt',\n",
       " '04_PythonBasic_04-October-2021(Teacher).ipynb',\n",
       " 'test.csv',\n",
       " '14_PythonBasic_15-November-2021.ipynb',\n",
       " 'titanic_bayanlar.csv',\n",
       " '21_PythonBasic_13-December-2021.ipynb',\n",
       " 'flowers.txt',\n",
       " '01_PythonBasic_23-September-2021(Teacher).ipynb',\n",
       " '18_PythonBasic_02-December-2021.ipynb',\n",
       " '02_PythonBasic_27-September-2021.ipynb',\n",
       " '06_PythonBasic_11-October-2021(Teacher).ipynb',\n",
       " 'titanic.csv',\n",
       " '08_PythonBasic_18-October-2021(Teacher).ipynb',\n",
       " 'istiklal.txt',\n",
       " '04_PythonBasic_04-October-2021.ipynb',\n",
       " 'rumi.txt',\n",
       " 'fruits_dash.csv',\n",
       " '.ipynb_checkpoints',\n",
       " '07_PythonBasic_14-October-2021(Teacher).ipynb',\n",
       " '02_PythonBasic_27-September-2021(Teacher).ipynb',\n",
       " '06_PythonBasic_11-October-2021.ipynb',\n",
       " 'fruits.csv',\n",
       " 'insan_siiri.txt',\n",
       " '05_PythonBasic_07-October-2021.ipynb',\n",
       " '07_PythonBasic_14-October-2021.ipynb',\n",
       " '05_PythonBasic_07-October-2021(Teacher).ipynb',\n",
       " '19_PythonBasic_07-December-2021.ipynb',\n",
       " '09_PythonBasic_21-October-2021.ipynb',\n",
       " 'hata.txt',\n",
       " 'PythonInterestingTeachingCodes.ipynb',\n",
       " '01_PythonBasic_23-September-2021.ipynb']"
      ]
     },
     "execution_count": 68,
     "metadata": {},
     "output_type": "execute_result"
    }
   ],
   "source": [
    "dosya_içeriği = os.listdir()\n",
    "dosya_içeriği"
   ]
  },
  {
   "cell_type": "code",
   "execution_count": null,
   "id": "b4ec0ac7",
   "metadata": {},
   "outputs": [],
   "source": []
  }
 ],
 "metadata": {
  "kernelspec": {
   "display_name": "Python 3",
   "language": "python",
   "name": "python3"
  },
  "language_info": {
   "codemirror_mode": {
    "name": "ipython",
    "version": 3
   },
   "file_extension": ".py",
   "mimetype": "text/x-python",
   "name": "python",
   "nbconvert_exporter": "python",
   "pygments_lexer": "ipython3",
   "version": "3.8.8"
  }
 },
 "nbformat": 4,
 "nbformat_minor": 5
}
