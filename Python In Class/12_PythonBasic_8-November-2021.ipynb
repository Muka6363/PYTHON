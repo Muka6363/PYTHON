{
 "cells": [
  {
   "cell_type": "markdown",
   "id": "406f2981",
   "metadata": {},
   "source": [
    "<img src=\"https://docs.google.com/uc?id=14xeXxFrVRjvOoUYWn_GuyE-v84wVzrqr\" class=\"img-fluid\" alt=\"CLRWY\" width=\"400\" height=\"200\">"
   ]
  },
  {
   "cell_type": "markdown",
   "id": "22263af8",
   "metadata": {},
   "source": [
    "<h1><p style=\"text-align: center; color:darkblue\">Python In-Class, <br>8 November 2021</p><h1>"
   ]
  },
  {
   "cell_type": "code",
   "execution_count": 1,
   "id": "3351c407",
   "metadata": {},
   "outputs": [],
   "source": [
    "bool_value = False"
   ]
  },
  {
   "cell_type": "code",
   "execution_count": 2,
   "id": "539c5faf",
   "metadata": {},
   "outputs": [
    {
     "name": "stdout",
     "output_type": "stream",
     "text": [
      "No\n"
     ]
    }
   ],
   "source": [
    "if bool_value :\n",
    "    print(\"Yes\")\n",
    "    \n",
    "else : \n",
    "    print(\"No\")"
   ]
  },
  {
   "cell_type": "code",
   "execution_count": 3,
   "id": "41f6ceae",
   "metadata": {},
   "outputs": [],
   "source": [
    "bool_value = True"
   ]
  },
  {
   "cell_type": "code",
   "execution_count": 4,
   "id": "636aa782",
   "metadata": {},
   "outputs": [
    {
     "name": "stdout",
     "output_type": "stream",
     "text": [
      "Yes\n"
     ]
    }
   ],
   "source": [
    "if bool_value :\n",
    "    print(\"Yes\")\n",
    "    \n",
    "else : \n",
    "    print(\"No\")"
   ]
  },
  {
   "cell_type": "code",
   "execution_count": 5,
   "id": "963ab3e8",
   "metadata": {},
   "outputs": [
    {
     "name": "stdout",
     "output_type": "stream",
     "text": [
      "if bloku çalıştı\n"
     ]
    }
   ],
   "source": [
    "if True :\n",
    "    print(\"if bloku çalıştı\")\n",
    "elif True :\n",
    "    print(\"ilk elif bloku çalıştı\")"
   ]
  },
  {
   "cell_type": "code",
   "execution_count": 6,
   "id": "d4ab51c3",
   "metadata": {},
   "outputs": [
    {
     "name": "stdout",
     "output_type": "stream",
     "text": [
      "if bloku çalıştı\n",
      "ilk elif bloku çalıştı\n"
     ]
    }
   ],
   "source": [
    "if True :\n",
    "    print(\"if bloku çalıştı\")\n",
    "if True :\n",
    "    print(\"ilk elif bloku çalıştı\")"
   ]
  },
  {
   "cell_type": "code",
   "execution_count": 7,
   "id": "5841d8de",
   "metadata": {},
   "outputs": [
    {
     "name": "stdout",
     "output_type": "stream",
     "text": [
      "Enter first number :7\n",
      "Enter second number :5\n",
      "Enter third number :3\n",
      "the largest number is :  7.0\n"
     ]
    }
   ],
   "source": [
    "num1 = float(input(\"Enter first number :\"))\n",
    "num2 = float(input(\"Enter second number :\"))\n",
    "num3 = float(input(\"Enter third number :\"))\n",
    "\n",
    "if (num1 > num2) and (num1 > num3) :\n",
    "    largest = num1\n",
    "elif (num2 > num1) and (num2 > num3) :\n",
    "    largest = num2\n",
    "else :\n",
    "    largest = num3\n",
    "    \n",
    "print(\"the largest number is : \", largest)"
   ]
  },
  {
   "cell_type": "code",
   "execution_count": 8,
   "id": "7ec3dac3",
   "metadata": {},
   "outputs": [
    {
     "name": "stdout",
     "output_type": "stream",
     "text": [
      "enter a number :-8\n",
      "Negative number.\n"
     ]
    }
   ],
   "source": [
    "num = float(input(\"enter a number :\"))\n",
    "\n",
    "if num > 0 :\n",
    "    print(\"Positive number.\")\n",
    "elif num == 0 :\n",
    "    print(\"Zero\")\n",
    "else :\n",
    "    print(\"Negative number.\")"
   ]
  },
  {
   "cell_type": "code",
   "execution_count": 9,
   "id": "b17c2591",
   "metadata": {},
   "outputs": [
    {
     "name": "stdout",
     "output_type": "stream",
     "text": [
      "enter a number :0\n",
      "Zero\n"
     ]
    }
   ],
   "source": [
    "num = float(input(\"enter a number :\"))\n",
    "\n",
    "if num > 0 :\n",
    "    print(\"Positive number.\")\n",
    "elif num == 0 :\n",
    "    print(\"Zero\")\n",
    "else :\n",
    "    print(\"Negative number.\")"
   ]
  },
  {
   "cell_type": "code",
   "execution_count": 10,
   "id": "87a45e7e",
   "metadata": {},
   "outputs": [
    {
     "name": "stdout",
     "output_type": "stream",
     "text": [
      "Enter your score :88\n",
      "Your degree is :  B+\n"
     ]
    }
   ],
   "source": [
    "score = int(input(\"Enter your score :\"))\n",
    "\n",
    "if score >= 90 :\n",
    "    if score >= 95 :\n",
    "        score_letter = \"A+\"\n",
    "    else :\n",
    "        score_letter = \"A\"\n",
    "        \n",
    "elif score >= 80 :\n",
    "    if score >= 85 :\n",
    "        score_letter = \"B+\"\n",
    "    else :\n",
    "        score_letter = \"B\"\n",
    "\n",
    "else :\n",
    "    score_letter = \"B-\"\n",
    "    \n",
    "print(\"Your degree is : \", score_letter)"
   ]
  },
  {
   "cell_type": "code",
   "execution_count": 11,
   "id": "edf8a98d",
   "metadata": {},
   "outputs": [
    {
     "name": "stdout",
     "output_type": "stream",
     "text": [
      "Enter your score :95\n",
      "Your degree is :  A+\n"
     ]
    }
   ],
   "source": [
    "score = int(input(\"Enter your score :\"))\n",
    "\n",
    "if score >= 90 :\n",
    "    if score >= 95 :\n",
    "        score_letter = \"A+\"\n",
    "    else :\n",
    "        score_letter = \"A\"\n",
    "        \n",
    "elif score >= 80 :\n",
    "    if score >= 85 :\n",
    "        score_letter = \"B+\"\n",
    "    else :\n",
    "        score_letter = \"B\"\n",
    "\n",
    "else :\n",
    "    score_letter = \"B-\"\n",
    "    \n",
    "print(\"Your degree is : \", score_letter)"
   ]
  },
  {
   "cell_type": "code",
   "execution_count": 12,
   "id": "75eaa312",
   "metadata": {},
   "outputs": [],
   "source": [
    "while 0 :\n",
    "    print(\"one\")"
   ]
  },
  {
   "cell_type": "code",
   "execution_count": 13,
   "id": "c8ca6112",
   "metadata": {},
   "outputs": [
    {
     "name": "stdout",
     "output_type": "stream",
     "text": [
      "4\n",
      "3\n",
      "2\n",
      "1\n",
      "0\n"
     ]
    }
   ],
   "source": [
    "condition = 5\n",
    "\n",
    "while condition :\n",
    "    \n",
    "    condition -= 1\n",
    "    \n",
    "    print(condition)"
   ]
  },
  {
   "cell_type": "code",
   "execution_count": 14,
   "id": "2d51c3ea",
   "metadata": {},
   "outputs": [
    {
     "name": "stdout",
     "output_type": "stream",
     "text": [
      "4\n",
      "3\n",
      "2\n",
      "1\n",
      "0\n"
     ]
    }
   ],
   "source": [
    "condition = 5\n",
    "\n",
    "while True :\n",
    "    \n",
    "    condition -= 1\n",
    "    \n",
    "    print(condition)\n",
    "    \n",
    "    if condition == 0 :\n",
    "        break"
   ]
  },
  {
   "cell_type": "code",
   "execution_count": 15,
   "id": "6720a42f",
   "metadata": {},
   "outputs": [
    {
     "data": {
      "text/plain": [
       "False"
      ]
     },
     "execution_count": 15,
     "metadata": {},
     "output_type": "execute_result"
    }
   ],
   "source": [
    "\"onaltı\".isdigit()"
   ]
  },
  {
   "cell_type": "code",
   "execution_count": 16,
   "id": "57f299f4",
   "metadata": {},
   "outputs": [
    {
     "data": {
      "text/plain": [
       "True"
      ]
     },
     "execution_count": 16,
     "metadata": {},
     "output_type": "execute_result"
    }
   ],
   "source": [
    "\"44\".isdigit()"
   ]
  },
  {
   "cell_type": "code",
   "execution_count": 17,
   "id": "b6f82468",
   "metadata": {},
   "outputs": [
    {
     "data": {
      "text/plain": [
       "False"
      ]
     },
     "execution_count": 17,
     "metadata": {},
     "output_type": "execute_result"
    }
   ],
   "source": [
    "\"44.0\".isdigit()"
   ]
  },
  {
   "cell_type": "code",
   "execution_count": 18,
   "id": "6efea623",
   "metadata": {},
   "outputs": [
    {
     "data": {
      "text/plain": [
       "False"
      ]
     },
     "execution_count": 18,
     "metadata": {},
     "output_type": "execute_result"
    }
   ],
   "source": [
    "\"-33\".isdigit()"
   ]
  },
  {
   "cell_type": "code",
   "execution_count": null,
   "id": "011a4a5b",
   "metadata": {},
   "outputs": [],
   "source": [
    "age = input(\"Enter your age please :\")\n",
    "\n",
    "while not age.isdigit() :\n",
    "    \n",
    "    print(\"You entered incorrect.\")\n",
    "    \n",
    "    age = input(\"Enter your age again :\")\n",
    "    \n",
    "print(\"Great! You enter valid input : \", age)"
   ]
  },
  {
   "cell_type": "code",
   "execution_count": 19,
   "id": "b481b432",
   "metadata": {},
   "outputs": [
    {
     "data": {
      "text/plain": [
       "True"
      ]
     },
     "execution_count": 19,
     "metadata": {},
     "output_type": "execute_result"
    }
   ],
   "source": [
    "\"a\" > \"A\""
   ]
  },
  {
   "cell_type": "code",
   "execution_count": 20,
   "id": "df8c2081",
   "metadata": {},
   "outputs": [
    {
     "data": {
      "text/plain": [
       "True"
      ]
     },
     "execution_count": 20,
     "metadata": {},
     "output_type": "execute_result"
    }
   ],
   "source": [
    "\"a\" == \"a\""
   ]
  },
  {
   "cell_type": "code",
   "execution_count": 21,
   "id": "560c600b",
   "metadata": {},
   "outputs": [
    {
     "data": {
      "text/plain": [
       "False"
      ]
     },
     "execution_count": 21,
     "metadata": {},
     "output_type": "execute_result"
    }
   ],
   "source": [
    "\"bb\" == \"bB\""
   ]
  },
  {
   "cell_type": "code",
   "execution_count": 22,
   "id": "6bfd9abc",
   "metadata": {},
   "outputs": [
    {
     "name": "stdout",
     "output_type": "stream",
     "text": [
      "Enter your age please : -44\n",
      "You entered incorrectly!\n",
      "Enter your age please : onaltı\n",
      "You entered incorrectly!\n",
      "Enter your age please : -0\n",
      "You entered incorrectly!\n",
      "Enter your age please : 888\n",
      "Great! You enter valid input :  888\n"
     ]
    }
   ],
   "source": [
    "age = input('Enter your age please : ')\n",
    "\n",
    "while not age.isdigit():\n",
    "\tprint ('You entered incorrectly!')\n",
    "\tage = input('Enter your age please : ')\n",
    "print('Great! You enter valid input : ',age)"
   ]
  },
  {
   "cell_type": "code",
   "execution_count": 23,
   "id": "984d3ce4",
   "metadata": {},
   "outputs": [
    {
     "name": "stdout",
     "output_type": "stream",
     "text": [
      "Let's play the guessing game!\n",
      "What a two-digit number ama I thinking of?88\n",
      "Little lower..\n",
      "What a two-digit number ama I thinking of?55\n",
      "Little lower..\n",
      "What a two-digit number ama I thinking of?11\n",
      "Little higher..\n",
      "What a two-digit number ama I thinking of?20\n",
      "Little higher..\n",
      "What a two-digit number ama I thinking of?22\n",
      "Are you a MINDREADER!!\n"
     ]
    }
   ],
   "source": [
    "answer = 22\n",
    "\n",
    "print(\"Let's play the guessing game!\")\n",
    "\n",
    "while True :\n",
    "    \n",
    "    guess = int(input(\"What a two-digit number ama I thinking of?\"))\n",
    "    \n",
    "    if guess < answer :\n",
    "        print(\"Little higher..\")\n",
    "    elif guess > answer :\n",
    "        print(\"Little lower..\")\n",
    "    else :\n",
    "        print(\"Are you a MINDREADER!!\")\n",
    "        break"
   ]
  },
  {
   "cell_type": "code",
   "execution_count": 27,
   "id": "324d73cc",
   "metadata": {},
   "outputs": [
    {
     "data": {
      "text/plain": [
       "['The', 'best', 'is', 'Clarusway', 'always.']"
      ]
     },
     "execution_count": 27,
     "metadata": {},
     "output_type": "execute_result"
    }
   ],
   "source": [
    "\"The best is Clarusway always.\".split()"
   ]
  },
  {
   "cell_type": "code",
   "execution_count": 30,
   "id": "cf3caef6",
   "metadata": {},
   "outputs": [
    {
     "name": "stdout",
     "output_type": "stream",
     "text": [
      "Give me a sentence.clarusway is the best\n",
      "the length of the longest word : 9\n"
     ]
    }
   ],
   "source": [
    "sentence = input(\"Give me a sentence.\")\n",
    "\n",
    "word_list = sentence.split()\n",
    "i = 0\n",
    "longest = 0\n",
    "\n",
    "while i < len(word_list) :\n",
    "    \n",
    "    if len(word_list[i]) > longest :\n",
    "        \n",
    "        longest = len(word_list[i])\n",
    "        \n",
    "    i += 1\n",
    "    \n",
    "print(\"the length of the longest word :\", longest)"
   ]
  },
  {
   "cell_type": "code",
   "execution_count": null,
   "id": "f48ee606",
   "metadata": {},
   "outputs": [],
   "source": []
  },
  {
   "cell_type": "code",
   "execution_count": null,
   "id": "159d9791",
   "metadata": {},
   "outputs": [],
   "source": []
  },
  {
   "cell_type": "code",
   "execution_count": null,
   "id": "5039805f",
   "metadata": {},
   "outputs": [],
   "source": []
  },
  {
   "cell_type": "code",
   "execution_count": null,
   "id": "4f49823c",
   "metadata": {},
   "outputs": [],
   "source": []
  },
  {
   "cell_type": "code",
   "execution_count": null,
   "id": "c2c3bcaf",
   "metadata": {},
   "outputs": [],
   "source": []
  },
  {
   "cell_type": "code",
   "execution_count": null,
   "id": "377a77d6",
   "metadata": {},
   "outputs": [],
   "source": []
  }
 ],
 "metadata": {
  "kernelspec": {
   "display_name": "Python 3",
   "language": "python",
   "name": "python3"
  },
  "language_info": {
   "codemirror_mode": {
    "name": "ipython",
    "version": 3
   },
   "file_extension": ".py",
   "mimetype": "text/x-python",
   "name": "python",
   "nbconvert_exporter": "python",
   "pygments_lexer": "ipython3",
   "version": "3.8.8"
  }
 },
 "nbformat": 4,
 "nbformat_minor": 5
}
