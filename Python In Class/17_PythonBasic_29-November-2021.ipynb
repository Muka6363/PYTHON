{
 "cells": [
  {
   "cell_type": "markdown",
   "id": "406f2981",
   "metadata": {},
   "source": [
    "<img src=\"https://docs.google.com/uc?id=14xeXxFrVRjvOoUYWn_GuyE-v84wVzrqr\" class=\"img-fluid\" alt=\"CLRWY\" width=\"400\" height=\"200\">"
   ]
  },
  {
   "cell_type": "markdown",
   "id": "22263af8",
   "metadata": {},
   "source": [
    "<h1><p style=\"text-align: center; color:darkblue\">Python In-Class, <br>29 November 2021</p><h1>"
   ]
  },
  {
   "cell_type": "code",
   "execution_count": 1,
   "id": "dd2803a0",
   "metadata": {},
   "outputs": [
    {
     "data": {
      "text/plain": [
       "<function __main__.<lambda>(x)>"
      ]
     },
     "execution_count": 1,
     "metadata": {},
     "output_type": "execute_result"
    }
   ],
   "source": [
    "lambda x : \"odd\" if x % 2 != 0 else \"even\""
   ]
  },
  {
   "cell_type": "code",
   "execution_count": 2,
   "id": "a0ddf63e",
   "metadata": {},
   "outputs": [
    {
     "data": {
      "text/plain": [
       "'even'"
      ]
     },
     "execution_count": 2,
     "metadata": {},
     "output_type": "execute_result"
    }
   ],
   "source": [
    "(lambda x : \"odd\" if x % 2 != 0 else \"even\")(2)"
   ]
  },
  {
   "cell_type": "code",
   "execution_count": 3,
   "id": "9eec0f3d",
   "metadata": {},
   "outputs": [
    {
     "data": {
      "text/plain": [
       "'odd'"
      ]
     },
     "execution_count": 3,
     "metadata": {},
     "output_type": "execute_result"
    }
   ],
   "source": [
    "(lambda x : \"odd\" if x % 2 != 0 else \"even\")(3)"
   ]
  },
  {
   "cell_type": "code",
   "execution_count": 5,
   "id": "bd2d76ea",
   "metadata": {},
   "outputs": [
    {
     "data": {
      "text/plain": [
       "'ilaa'"
      ]
     },
     "execution_count": 5,
     "metadata": {},
     "output_type": "execute_result"
    }
   ],
   "source": [
    "(lambda x : x[::-1])(\"aali\")"
   ]
  },
  {
   "cell_type": "code",
   "execution_count": 6,
   "id": "b78f662b",
   "metadata": {},
   "outputs": [
    {
     "data": {
      "text/plain": [
       "[3, 2, 1]"
      ]
     },
     "execution_count": 6,
     "metadata": {},
     "output_type": "execute_result"
    }
   ],
   "source": [
    "(lambda x : x[::-1])([1,2,3])"
   ]
  },
  {
   "cell_type": "code",
   "execution_count": 7,
   "id": "7eb1e60e",
   "metadata": {},
   "outputs": [
    {
     "data": {
      "text/plain": [
       "4.0"
      ]
     },
     "execution_count": 7,
     "metadata": {},
     "output_type": "execute_result"
    }
   ],
   "source": [
    "(lambda a, b : (a + b) / 2)(3, 5) "
   ]
  },
  {
   "cell_type": "code",
   "execution_count": null,
   "id": "192a89c2",
   "metadata": {},
   "outputs": [],
   "source": [
    "lambda x : \"odd\" if x % 2 != 0 else \"even\""
   ]
  },
  {
   "cell_type": "code",
   "execution_count": 8,
   "id": "4d98517f",
   "metadata": {},
   "outputs": [],
   "source": [
    "sayılar = [1, 2, 3, 4, 5, 6]"
   ]
  },
  {
   "cell_type": "code",
   "execution_count": 9,
   "id": "2cf982f7",
   "metadata": {},
   "outputs": [
    {
     "name": "stdout",
     "output_type": "stream",
     "text": [
      "1 : odd\n",
      "2 : even\n",
      "3 : odd\n",
      "4 : even\n",
      "5 : odd\n",
      "6 : even\n"
     ]
    }
   ],
   "source": [
    "for a in sayılar :\n",
    "    print(a, \":\", (lambda x : \"odd\" if x % 2 != 0 else \"even\")(a))"
   ]
  },
  {
   "cell_type": "code",
   "execution_count": 10,
   "id": "a53190be",
   "metadata": {},
   "outputs": [],
   "source": [
    "finder = lambda x : \"odd\" if x % 2 != 0 else \"even\""
   ]
  },
  {
   "cell_type": "code",
   "execution_count": 12,
   "id": "20deafeb",
   "metadata": {},
   "outputs": [
    {
     "name": "stdout",
     "output_type": "stream",
     "text": [
      "odd\n"
     ]
    }
   ],
   "source": [
    "print(finder(5))"
   ]
  },
  {
   "cell_type": "code",
   "execution_count": 13,
   "id": "7db8e84a",
   "metadata": {},
   "outputs": [],
   "source": [
    "reverser = lambda x : x[::-1]"
   ]
  },
  {
   "cell_type": "code",
   "execution_count": 14,
   "id": "9ae0784b",
   "metadata": {},
   "outputs": [
    {
     "data": {
      "text/plain": [
       "[4, 3, 2, 1]"
      ]
     },
     "execution_count": 14,
     "metadata": {},
     "output_type": "execute_result"
    }
   ],
   "source": [
    "reverser([1, 2, 3, 4])"
   ]
  },
  {
   "cell_type": "code",
   "execution_count": 15,
   "id": "0da4140f",
   "metadata": {},
   "outputs": [],
   "source": [
    "fonksiyon = lambda x : x ** 2\n",
    "iterable = [1, 2, 3]"
   ]
  },
  {
   "cell_type": "code",
   "execution_count": 16,
   "id": "a60d64c8",
   "metadata": {},
   "outputs": [
    {
     "name": "stdout",
     "output_type": "stream",
     "text": [
      "1 4 9\n"
     ]
    }
   ],
   "source": [
    "sonuc = map(fonksiyon, iterable)\n",
    "print(* sonuc)"
   ]
  },
  {
   "cell_type": "code",
   "execution_count": 17,
   "id": "36d7c2a2",
   "metadata": {},
   "outputs": [],
   "source": [
    "def kare(b) :\n",
    "    return b ** 2"
   ]
  },
  {
   "cell_type": "code",
   "execution_count": 18,
   "id": "3fd55033",
   "metadata": {},
   "outputs": [
    {
     "name": "stdout",
     "output_type": "stream",
     "text": [
      "1 4 9\n"
     ]
    }
   ],
   "source": [
    "sonuc2 = map(kare, iterable)\n",
    "print(* sonuc2)"
   ]
  },
  {
   "cell_type": "code",
   "execution_count": null,
   "id": "1a852729",
   "metadata": {},
   "outputs": [],
   "source": [
    "map()"
   ]
  },
  {
   "cell_type": "code",
   "execution_count": 19,
   "id": "87b4fa09",
   "metadata": {},
   "outputs": [],
   "source": [
    "topla = lambda x, y, z : x + y + z"
   ]
  },
  {
   "cell_type": "code",
   "execution_count": 20,
   "id": "e4748050",
   "metadata": {},
   "outputs": [
    {
     "data": {
      "text/plain": [
       "'ali'"
      ]
     },
     "execution_count": 20,
     "metadata": {},
     "output_type": "execute_result"
    }
   ],
   "source": [
    "topla(\"a\", \"l\", \"i\")"
   ]
  },
  {
   "cell_type": "code",
   "execution_count": 21,
   "id": "202fa373",
   "metadata": {},
   "outputs": [],
   "source": [
    "num1 = [9, 6, 7, 4]\n",
    "num2 = [3, 6, 5, 8]"
   ]
  },
  {
   "cell_type": "code",
   "execution_count": 22,
   "id": "2e9d139f",
   "metadata": {},
   "outputs": [],
   "source": [
    "func = lambda x, y : (x + y) / 2"
   ]
  },
  {
   "cell_type": "code",
   "execution_count": 23,
   "id": "91577a51",
   "metadata": {},
   "outputs": [
    {
     "name": "stdout",
     "output_type": "stream",
     "text": [
      "[6.0, 6.0, 6.0, 6.0]\n"
     ]
    }
   ],
   "source": [
    "numbers = map(func, num1, num2)\n",
    "print(list(numbers))"
   ]
  },
  {
   "cell_type": "code",
   "execution_count": 24,
   "id": "06686ac2",
   "metadata": {},
   "outputs": [],
   "source": [
    "words = [\"apple\", \"swim\", \"clock\", \"me\", \"kiwi\", \"banana\"]"
   ]
  },
  {
   "cell_type": "code",
   "execution_count": 25,
   "id": "05e1769f",
   "metadata": {},
   "outputs": [
    {
     "name": "stdout",
     "output_type": "stream",
     "text": [
      "swim\n",
      "me\n",
      "kiwi\n"
     ]
    }
   ],
   "source": [
    "for i in filter(lambda x : len(x) < 5, words) :\n",
    "    print(i)"
   ]
  },
  {
   "cell_type": "code",
   "execution_count": 26,
   "id": "55f12d71",
   "metadata": {},
   "outputs": [],
   "source": [
    "vowel_list = ['a', 'e', 'i', 'o', 'u']\n",
    "first_ten = ['a', 'b', 'c', 'd', 'e', 'f', 'g', 'h', 'i', 'j']"
   ]
  },
  {
   "cell_type": "code",
   "execution_count": 27,
   "id": "5e083a58",
   "metadata": {},
   "outputs": [
    {
     "data": {
      "text/plain": [
       "True"
      ]
     },
     "execution_count": 27,
     "metadata": {},
     "output_type": "execute_result"
    }
   ],
   "source": [
    "\"a\" in vowel_list"
   ]
  },
  {
   "cell_type": "code",
   "execution_count": 28,
   "id": "a74d49ef",
   "metadata": {},
   "outputs": [
    {
     "data": {
      "text/plain": [
       "False"
      ]
     },
     "execution_count": 28,
     "metadata": {},
     "output_type": "execute_result"
    }
   ],
   "source": [
    "\"b\" in vowel_list"
   ]
  },
  {
   "cell_type": "code",
   "execution_count": 29,
   "id": "6dda768f",
   "metadata": {},
   "outputs": [
    {
     "name": "stdout",
     "output_type": "stream",
     "text": [
      "['a', 'e', 'i']\n"
     ]
    }
   ],
   "source": [
    "vowels = filter(lambda x : x in vowel_list, first_ten)\n",
    "print(list(vowels))"
   ]
  },
  {
   "cell_type": "code",
   "execution_count": 30,
   "id": "3bb87e27",
   "metadata": {},
   "outputs": [],
   "source": [
    "def modular(n) :\n",
    "    return lambda x : x ** n"
   ]
  },
  {
   "cell_type": "code",
   "execution_count": 31,
   "id": "08a43ec5",
   "metadata": {},
   "outputs": [],
   "source": [
    "karesinial = modular(2)"
   ]
  },
  {
   "cell_type": "code",
   "execution_count": 33,
   "id": "1ade37d4",
   "metadata": {},
   "outputs": [
    {
     "data": {
      "text/plain": [
       "9"
      ]
     },
     "execution_count": 33,
     "metadata": {},
     "output_type": "execute_result"
    }
   ],
   "source": [
    "karesinial(3)"
   ]
  },
  {
   "cell_type": "code",
   "execution_count": 34,
   "id": "3021b7f6",
   "metadata": {},
   "outputs": [],
   "source": [
    "kupunual = modular(3)"
   ]
  },
  {
   "cell_type": "code",
   "execution_count": 35,
   "id": "ac54cebf",
   "metadata": {},
   "outputs": [
    {
     "data": {
      "text/plain": [
       "8"
      ]
     },
     "execution_count": 35,
     "metadata": {},
     "output_type": "execute_result"
    }
   ],
   "source": [
    "kupunual(2)"
   ]
  },
  {
   "cell_type": "code",
   "execution_count": 37,
   "id": "00d0d378",
   "metadata": {},
   "outputs": [
    {
     "name": "stdout",
     "output_type": "stream",
     "text": [
      "ali :)\n"
     ]
    }
   ],
   "source": [
    "(lambda x : print(x, \":)\"))(\"ali\")"
   ]
  },
  {
   "cell_type": "code",
   "execution_count": 36,
   "id": "2fe9958e",
   "metadata": {},
   "outputs": [
    {
     "name": "stdout",
     "output_type": "stream",
     "text": [
      "ali :)\n"
     ]
    }
   ],
   "source": [
    "print(\"ali\", \":)\")"
   ]
  },
  {
   "cell_type": "code",
   "execution_count": 38,
   "id": "8a5cef61",
   "metadata": {},
   "outputs": [
    {
     "name": "stdout",
     "output_type": "stream",
     "text": [
      "ali :(\n"
     ]
    }
   ],
   "source": [
    "(lambda x : print(x, \":(\"))(\"ali\")"
   ]
  },
  {
   "cell_type": "code",
   "execution_count": 39,
   "id": "5a3af549",
   "metadata": {},
   "outputs": [
    {
     "name": "stdout",
     "output_type": "stream",
     "text": [
      "ali :|\n"
     ]
    }
   ],
   "source": [
    "(lambda x : print(x, \":|\"))(\"ali\")"
   ]
  },
  {
   "cell_type": "code",
   "execution_count": 40,
   "id": "ce225b7a",
   "metadata": {},
   "outputs": [],
   "source": [
    "def functioner(emoji) :\n",
    "    return lambda x : print(x, emoji)"
   ]
  },
  {
   "cell_type": "code",
   "execution_count": 42,
   "id": "e1de42f2",
   "metadata": {},
   "outputs": [],
   "source": [
    "myPrint_smile = functioner(\":)\")\n",
    "myPrint_sad = functioner(\":(\")\n",
    "myPrint_neutral = functioner(\":|\")"
   ]
  },
  {
   "cell_type": "code",
   "execution_count": 43,
   "id": "6f98b881",
   "metadata": {},
   "outputs": [
    {
     "name": "stdout",
     "output_type": "stream",
     "text": [
      "hello :(\n"
     ]
    }
   ],
   "source": [
    "myPrint_sad(\"hello\")"
   ]
  },
  {
   "cell_type": "code",
   "execution_count": 50,
   "id": "ec853f67",
   "metadata": {},
   "outputs": [],
   "source": [
    "def function_generator(function_name) :\n",
    "    return lambda x : function_name(x)"
   ]
  },
  {
   "cell_type": "code",
   "execution_count": null,
   "id": "f6d2da11",
   "metadata": {},
   "outputs": [],
   "source": [
    "# ali_print() --> print()\n",
    "# ali_max() --> max()\n",
    "# ali_bool() --> bool()\n",
    "# ali_sorted() --> sorted()"
   ]
  },
  {
   "cell_type": "code",
   "execution_count": 45,
   "id": "e3f4a946",
   "metadata": {},
   "outputs": [
    {
     "name": "stdout",
     "output_type": "stream",
     "text": [
      "ali veli deli\n"
     ]
    }
   ],
   "source": [
    "(lambda x : print(x))(\"ali veli deli\")"
   ]
  },
  {
   "cell_type": "code",
   "execution_count": 47,
   "id": "9d580003",
   "metadata": {},
   "outputs": [
    {
     "data": {
      "text/plain": [
       "3"
      ]
     },
     "execution_count": 47,
     "metadata": {},
     "output_type": "execute_result"
    }
   ],
   "source": [
    "(lambda x : max(x))((1,2,3))"
   ]
  },
  {
   "cell_type": "code",
   "execution_count": 49,
   "id": "062c8dd1",
   "metadata": {},
   "outputs": [
    {
     "data": {
      "text/plain": [
       "[1, 3, 5]"
      ]
     },
     "execution_count": 49,
     "metadata": {},
     "output_type": "execute_result"
    }
   ],
   "source": [
    "(lambda x : sorted(x))((3,5,1))"
   ]
  },
  {
   "cell_type": "code",
   "execution_count": 51,
   "id": "0d2f3e8d",
   "metadata": {},
   "outputs": [],
   "source": [
    "joseph_max = function_generator(max)\n",
    "joseph_sorted = function_generator(sorted)"
   ]
  },
  {
   "cell_type": "code",
   "execution_count": 52,
   "id": "3c2492a5",
   "metadata": {},
   "outputs": [
    {
     "data": {
      "text/plain": [
       "22"
      ]
     },
     "execution_count": 52,
     "metadata": {},
     "output_type": "execute_result"
    }
   ],
   "source": [
    "joseph_max((2,22,3))"
   ]
  },
  {
   "cell_type": "code",
   "execution_count": null,
   "id": "4ff9f0ca",
   "metadata": {},
   "outputs": [],
   "source": []
  },
  {
   "cell_type": "code",
   "execution_count": null,
   "id": "be8c6006",
   "metadata": {},
   "outputs": [],
   "source": []
  }
 ],
 "metadata": {
  "kernelspec": {
   "display_name": "Python 3",
   "language": "python",
   "name": "python3"
  },
  "language_info": {
   "codemirror_mode": {
    "name": "ipython",
    "version": 3
   },
   "file_extension": ".py",
   "mimetype": "text/x-python",
   "name": "python",
   "nbconvert_exporter": "python",
   "pygments_lexer": "ipython3",
   "version": "3.8.8"
  }
 },
 "nbformat": 4,
 "nbformat_minor": 5
}
