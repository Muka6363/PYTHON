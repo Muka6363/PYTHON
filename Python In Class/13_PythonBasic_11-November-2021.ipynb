{
 "cells": [
  {
   "cell_type": "markdown",
   "id": "406f2981",
   "metadata": {},
   "source": [
    "<img src=\"https://docs.google.com/uc?id=14xeXxFrVRjvOoUYWn_GuyE-v84wVzrqr\" class=\"img-fluid\" alt=\"CLRWY\" width=\"400\" height=\"200\">"
   ]
  },
  {
   "cell_type": "markdown",
   "id": "22263af8",
   "metadata": {},
   "source": [
    "<h1><p style=\"text-align: center; color:darkblue\">Python In-Class, <br>11 November 2021</p><h1>"
   ]
  },
  {
   "cell_type": "code",
   "execution_count": null,
   "id": "3a68608b",
   "metadata": {},
   "outputs": [],
   "source": []
  },
  {
   "cell_type": "code",
   "execution_count": null,
   "id": "8a5ef814",
   "metadata": {},
   "outputs": [],
   "source": [
    "while condition1 :\n",
    "    body\n",
    "    while condition2 :\n",
    "        body\n",
    "        break\n",
    "        \n",
    "    break"
   ]
  },
  {
   "cell_type": "code",
   "execution_count": 1,
   "id": "99156b6f",
   "metadata": {},
   "outputs": [
    {
     "name": "stdout",
     "output_type": "stream",
     "text": [
      "0\n",
      "1\n",
      "2\n",
      "3\n",
      "4\n"
     ]
    }
   ],
   "source": [
    "for i in range(5) :\n",
    "    print(i)"
   ]
  },
  {
   "cell_type": "code",
   "execution_count": 2,
   "id": "2edb209c",
   "metadata": {},
   "outputs": [
    {
     "data": {
      "text/plain": [
       "4"
      ]
     },
     "execution_count": 2,
     "metadata": {},
     "output_type": "execute_result"
    }
   ],
   "source": [
    "i"
   ]
  },
  {
   "cell_type": "code",
   "execution_count": 3,
   "id": "fc03e8cb",
   "metadata": {},
   "outputs": [
    {
     "data": {
      "text/plain": [
       "range(0, 11)"
      ]
     },
     "execution_count": 3,
     "metadata": {},
     "output_type": "execute_result"
    }
   ],
   "source": [
    "range(11)"
   ]
  },
  {
   "cell_type": "code",
   "execution_count": 5,
   "id": "ed20edda",
   "metadata": {},
   "outputs": [
    {
     "name": "stdout",
     "output_type": "stream",
     "text": [
      "0 1 2 3 4 5 6 7 8 9 10 "
     ]
    }
   ],
   "source": [
    "for i in range(11) :\n",
    "    print(i, end= \" \")"
   ]
  },
  {
   "cell_type": "code",
   "execution_count": 6,
   "id": "76034d45",
   "metadata": {},
   "outputs": [
    {
     "data": {
      "text/plain": [
       "[0, 1, 2, 3, 4, 5, 6, 7, 8, 9, 10]"
      ]
     },
     "execution_count": 6,
     "metadata": {},
     "output_type": "execute_result"
    }
   ],
   "source": [
    "list(range(11))"
   ]
  },
  {
   "cell_type": "code",
   "execution_count": 7,
   "id": "b3c5e1bd",
   "metadata": {},
   "outputs": [
    {
     "data": {
      "text/plain": [
       "(0, 1, 2, 3, 4, 5, 6, 7, 8, 9, 10)"
      ]
     },
     "execution_count": 7,
     "metadata": {},
     "output_type": "execute_result"
    }
   ],
   "source": [
    "tuple(range(11))"
   ]
  },
  {
   "cell_type": "code",
   "execution_count": 8,
   "id": "ff602f24",
   "metadata": {},
   "outputs": [
    {
     "data": {
      "text/plain": [
       "{0, 1, 2, 3, 4, 5, 6, 7, 8, 9, 10}"
      ]
     },
     "execution_count": 8,
     "metadata": {},
     "output_type": "execute_result"
    }
   ],
   "source": [
    "set(range(11))"
   ]
  },
  {
   "cell_type": "code",
   "execution_count": 9,
   "id": "33a98b0a",
   "metadata": {},
   "outputs": [
    {
     "name": "stdout",
     "output_type": "stream",
     "text": [
      "0 1 2 3 4 5 6 7 8 9 10\n"
     ]
    }
   ],
   "source": [
    "print(* range(11))"
   ]
  },
  {
   "cell_type": "code",
   "execution_count": 10,
   "id": "f8574e69",
   "metadata": {},
   "outputs": [
    {
     "name": "stdout",
     "output_type": "stream",
     "text": [
      "range(0, 11)\n"
     ]
    }
   ],
   "source": [
    "print(range(11))"
   ]
  },
  {
   "cell_type": "code",
   "execution_count": 12,
   "id": "63d5b820",
   "metadata": {
    "scrolled": true
   },
   "outputs": [
    {
     "name": "stdout",
     "output_type": "stream",
     "text": [
      "Give me a word : clarusway\n",
      "c-l-a-r-u-s-w-a-y"
     ]
    }
   ],
   "source": [
    "word = input(\"Give me a word : \")\n",
    "\n",
    "counter = 0\n",
    "for i in word :\n",
    "    \n",
    "    counter += 1\n",
    "    \n",
    "    if counter < len(word) :\n",
    "        i = i + \"-\"\n",
    "    print(i, end = \"\")"
   ]
  },
  {
   "cell_type": "code",
   "execution_count": 14,
   "id": "6cf43b7c",
   "metadata": {},
   "outputs": [
    {
     "name": "stdout",
     "output_type": "stream",
     "text": [
      "name Daniel\n",
      "surname Smith\n",
      "age 35\n"
     ]
    }
   ],
   "source": [
    "user = {\n",
    "\t'name':'Daniel',\n",
    "\t'surname':'Smith',\n",
    "\t'age':35\n",
    "}\n",
    "\n",
    "for i, j in user.items():\n",
    "\tprint(i, j)\n"
   ]
  },
  {
   "cell_type": "code",
   "execution_count": 15,
   "id": "de930a33",
   "metadata": {},
   "outputs": [],
   "source": [
    "test = [(1,2), (3,4), (5,6)]"
   ]
  },
  {
   "cell_type": "code",
   "execution_count": 16,
   "id": "e3f1de08",
   "metadata": {},
   "outputs": [
    {
     "name": "stdout",
     "output_type": "stream",
     "text": [
      "1 2\n",
      "3 4\n",
      "5 6\n"
     ]
    }
   ],
   "source": [
    "for i, j in test :\n",
    "    print(i, j)"
   ]
  },
  {
   "cell_type": "code",
   "execution_count": 17,
   "id": "23d0eb4a",
   "metadata": {},
   "outputs": [
    {
     "name": "stdout",
     "output_type": "stream",
     "text": [
      "enter a number between 1-95\n",
      "5x0 =  0\n",
      "5x1 =  5\n",
      "5x2 =  10\n",
      "5x3 =  15\n",
      "5x4 =  20\n",
      "5x5 =  25\n",
      "5x6 =  30\n",
      "5x7 =  35\n",
      "5x8 =  40\n",
      "5x9 =  45\n",
      "5x10 =  50\n"
     ]
    }
   ],
   "source": [
    "numara = int(input(\"enter a number between 1-9\"))\n",
    "\n",
    "for i in range(11) :\n",
    "    print(\"{}x{} = \".format(numara, i), numara * i)"
   ]
  },
  {
   "cell_type": "markdown",
   "id": "a1859915",
   "metadata": {},
   "source": [
    "```\n",
    "1\n",
    "22\n",
    "333\n",
    "4444\n",
    "55555\n",
    "666666\n",
    "7777777\n",
    "88888888\n",
    "999999999\n",
    "```"
   ]
  },
  {
   "cell_type": "code",
   "execution_count": 20,
   "id": "8606c184",
   "metadata": {},
   "outputs": [
    {
     "name": "stdout",
     "output_type": "stream",
     "text": [
      "1\n",
      "22\n",
      "333\n",
      "4444\n",
      "55555\n",
      "666666\n",
      "7777777\n",
      "88888888\n",
      "999999999\n"
     ]
    }
   ],
   "source": [
    "for i in range(1,10):\n",
    "    print(str(i) * i)"
   ]
  },
  {
   "cell_type": "code",
   "execution_count": 18,
   "id": "cd14be7b",
   "metadata": {},
   "outputs": [
    {
     "data": {
      "text/plain": [
       "'55555'"
      ]
     },
     "execution_count": 18,
     "metadata": {},
     "output_type": "execute_result"
    }
   ],
   "source": [
    "\"5\" * 5"
   ]
  },
  {
   "cell_type": "code",
   "execution_count": 19,
   "id": "bfa2ff0b",
   "metadata": {},
   "outputs": [
    {
     "data": {
      "text/plain": [
       "'ali ali ali '"
      ]
     },
     "execution_count": 19,
     "metadata": {},
     "output_type": "execute_result"
    }
   ],
   "source": [
    "\"ali \" * 3"
   ]
  },
  {
   "cell_type": "code",
   "execution_count": 22,
   "id": "5a233160",
   "metadata": {},
   "outputs": [
    {
     "name": "stdout",
     "output_type": "stream",
     "text": [
      "10 9 8 7 6 5 4 3 2\n"
     ]
    }
   ],
   "source": [
    "print(* range(10,1,-1))"
   ]
  },
  {
   "cell_type": "code",
   "execution_count": 23,
   "id": "40c5aeeb",
   "metadata": {},
   "outputs": [],
   "source": [
    "text = ['one', 'two', 'three', 'four', 'five']\n",
    "numbers = [1, 2, 3, 4, 5]\n"
   ]
  },
  {
   "cell_type": "code",
   "execution_count": 24,
   "id": "a20709da",
   "metadata": {},
   "outputs": [],
   "source": [
    "zipped = zip(text, numbers)"
   ]
  },
  {
   "cell_type": "code",
   "execution_count": 25,
   "id": "49a8cc80",
   "metadata": {},
   "outputs": [
    {
     "data": {
      "text/plain": [
       "<zip at 0x7f90f018eb00>"
      ]
     },
     "execution_count": 25,
     "metadata": {},
     "output_type": "execute_result"
    }
   ],
   "source": [
    "zipped"
   ]
  },
  {
   "cell_type": "code",
   "execution_count": 26,
   "id": "5ae328b0",
   "metadata": {},
   "outputs": [
    {
     "name": "stdout",
     "output_type": "stream",
     "text": [
      "('one', 1) ('two', 2) ('three', 3) ('four', 4) ('five', 5)\n"
     ]
    }
   ],
   "source": [
    "print(* zipped)"
   ]
  },
  {
   "cell_type": "code",
   "execution_count": 29,
   "id": "48bca89a",
   "metadata": {},
   "outputs": [],
   "source": [
    "zipped = zip(text, numbers)"
   ]
  },
  {
   "cell_type": "code",
   "execution_count": 30,
   "id": "1686d46d",
   "metadata": {},
   "outputs": [
    {
     "name": "stdout",
     "output_type": "stream",
     "text": [
      "one : 1\n",
      "two : 2\n",
      "three : 3\n",
      "four : 4\n",
      "five : 5\n"
     ]
    }
   ],
   "source": [
    "for x, y in zipped:\n",
    "\tprint(x, ':', y)\n"
   ]
  },
  {
   "cell_type": "code",
   "execution_count": 31,
   "id": "a9b8577b",
   "metadata": {},
   "outputs": [
    {
     "name": "stdout",
     "output_type": "stream",
     "text": [
      "\n"
     ]
    }
   ],
   "source": [
    "print(* zipped)"
   ]
  },
  {
   "cell_type": "code",
   "execution_count": 32,
   "id": "d4a7f88d",
   "metadata": {},
   "outputs": [],
   "source": [
    "zipped = zip(text, numbers)"
   ]
  },
  {
   "cell_type": "code",
   "execution_count": 33,
   "id": "51ddd032",
   "metadata": {},
   "outputs": [
    {
     "data": {
      "text/plain": [
       "[('one', 1), ('two', 2), ('three', 3), ('four', 4), ('five', 5)]"
      ]
     },
     "execution_count": 33,
     "metadata": {},
     "output_type": "execute_result"
    }
   ],
   "source": [
    "list(zipped)"
   ]
  },
  {
   "cell_type": "code",
   "execution_count": 34,
   "id": "33815c94",
   "metadata": {},
   "outputs": [],
   "source": [
    "zipped = zip(text, numbers)"
   ]
  },
  {
   "cell_type": "code",
   "execution_count": 35,
   "id": "3a7b8481",
   "metadata": {},
   "outputs": [
    {
     "data": {
      "text/plain": [
       "{'one': 1, 'two': 2, 'three': 3, 'four': 4, 'five': 5}"
      ]
     },
     "execution_count": 35,
     "metadata": {},
     "output_type": "execute_result"
    }
   ],
   "source": [
    "dict(zipped)"
   ]
  },
  {
   "cell_type": "code",
   "execution_count": 36,
   "id": "65e533c1",
   "metadata": {},
   "outputs": [
    {
     "name": "stdout",
     "output_type": "stream",
     "text": [
      "evens :  [0, 2, 4, 6, 8]\n",
      "odds :  [1, 3, 5, 7, 9]\n"
     ]
    }
   ],
   "source": [
    "evens = []\n",
    "odds = []\n",
    "\n",
    "for n in range(10) :\n",
    "    \n",
    "    if n % 2 == 0 :\n",
    "        evens.append(n)\n",
    "    else :\n",
    "        odds.append(n)\n",
    "        \n",
    "print(\"evens : \", evens)\n",
    "print(\"odds : \", odds)"
   ]
  },
  {
   "cell_type": "code",
   "execution_count": 37,
   "id": "f889a5a3",
   "metadata": {},
   "outputs": [],
   "source": [
    "numbers = (11, 36, 33, 66, 89, 21, 32, 16, 10)"
   ]
  },
  {
   "cell_type": "code",
   "execution_count": 39,
   "id": "e78f9add",
   "metadata": {},
   "outputs": [
    {
     "name": "stdout",
     "output_type": "stream",
     "text": [
      "evens count : 5\n",
      "odds count :  4\n"
     ]
    }
   ],
   "source": [
    "odds = 0\n",
    "evens = 0\n",
    "\n",
    "for i in numbers :\n",
    "    \n",
    "    if i % 2 == 0 :\n",
    "        evens += 1\n",
    "    else :\n",
    "        odds += 1\n",
    "        \n",
    "print(\"evens count :\", evens)\n",
    "print(\"odds count : \", odds)"
   ]
  },
  {
   "cell_type": "code",
   "execution_count": null,
   "id": "211c5d6e",
   "metadata": {},
   "outputs": [],
   "source": []
  },
  {
   "cell_type": "code",
   "execution_count": null,
   "id": "b6c42236",
   "metadata": {},
   "outputs": [],
   "source": []
  },
  {
   "cell_type": "code",
   "execution_count": null,
   "id": "97ecbdfa",
   "metadata": {},
   "outputs": [],
   "source": []
  },
  {
   "cell_type": "code",
   "execution_count": null,
   "id": "18a86305",
   "metadata": {},
   "outputs": [],
   "source": []
  }
 ],
 "metadata": {
  "kernelspec": {
   "display_name": "Python 3",
   "language": "python",
   "name": "python3"
  },
  "language_info": {
   "codemirror_mode": {
    "name": "ipython",
    "version": 3
   },
   "file_extension": ".py",
   "mimetype": "text/x-python",
   "name": "python",
   "nbconvert_exporter": "python",
   "pygments_lexer": "ipython3",
   "version": "3.8.8"
  }
 },
 "nbformat": 4,
 "nbformat_minor": 5
}
