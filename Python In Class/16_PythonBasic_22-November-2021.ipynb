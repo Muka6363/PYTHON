{
 "cells": [
  {
   "cell_type": "markdown",
   "id": "406f2981",
   "metadata": {},
   "source": [
    "<img src=\"https://docs.google.com/uc?id=14xeXxFrVRjvOoUYWn_GuyE-v84wVzrqr\" class=\"img-fluid\" alt=\"CLRWY\" width=\"400\" height=\"200\">"
   ]
  },
  {
   "cell_type": "markdown",
   "id": "22263af8",
   "metadata": {},
   "source": [
    "<h1><p style=\"text-align: center; color:darkblue\">Python In-Class, <br>22 November 2021</p><h1>"
   ]
  },
  {
   "cell_type": "code",
   "execution_count": 1,
   "id": "959f3f2d",
   "metadata": {},
   "outputs": [],
   "source": [
    "a = \"i\"\n",
    "b = \"love\"\n",
    "c = \"you\""
   ]
  },
  {
   "cell_type": "code",
   "execution_count": 2,
   "id": "def65db1",
   "metadata": {},
   "outputs": [],
   "source": [
    "def texter(text1, text2, text3) :\n",
    "    print(text2, text3, text1)"
   ]
  },
  {
   "cell_type": "code",
   "execution_count": 3,
   "id": "cdfa23b2",
   "metadata": {},
   "outputs": [],
   "source": [
    "# i love you"
   ]
  },
  {
   "cell_type": "code",
   "execution_count": 4,
   "id": "84a2c16c",
   "metadata": {},
   "outputs": [
    {
     "name": "stdout",
     "output_type": "stream",
     "text": [
      "i love you\n"
     ]
    }
   ],
   "source": [
    "texter(c, a, b)"
   ]
  },
  {
   "cell_type": "code",
   "execution_count": 5,
   "id": "8f2effb8",
   "metadata": {},
   "outputs": [
    {
     "name": "stdout",
     "output_type": "stream",
     "text": [
      "i love you\n"
     ]
    }
   ],
   "source": [
    "texter(text1 = \"you\", text3 = \"love\", text2 = \"i\")"
   ]
  },
  {
   "cell_type": "code",
   "execution_count": 6,
   "id": "a330f8dc",
   "metadata": {},
   "outputs": [],
   "source": [
    "def fonksiyon(x = \"ali\", y = 22) :\n",
    "    print(x, y, \"yaşındadır.\")"
   ]
  },
  {
   "cell_type": "code",
   "execution_count": 7,
   "id": "0bf067c6",
   "metadata": {},
   "outputs": [
    {
     "name": "stdout",
     "output_type": "stream",
     "text": [
      "ali 22 yaşındadır.\n"
     ]
    }
   ],
   "source": [
    "fonksiyon()"
   ]
  },
  {
   "cell_type": "code",
   "execution_count": 10,
   "id": "5825d83a",
   "metadata": {},
   "outputs": [
    {
     "name": "stdout",
     "output_type": "stream",
     "text": [
      "deli 33 yaşındadır.\n"
     ]
    }
   ],
   "source": [
    "fonksiyon(y = 33, x = \"deli\")"
   ]
  },
  {
   "cell_type": "code",
   "execution_count": 9,
   "id": "d8aa6c29",
   "metadata": {},
   "outputs": [
    {
     "name": "stdout",
     "output_type": "stream",
     "text": [
      "veli 40 yaşındadır.\n"
     ]
    }
   ],
   "source": [
    "fonksiyon(\"veli\", 40)"
   ]
  },
  {
   "cell_type": "code",
   "execution_count": 11,
   "id": "8d2444f8",
   "metadata": {},
   "outputs": [
    {
     "name": "stdout",
     "output_type": "stream",
     "text": [
      "selin 22 yaşındadır.\n"
     ]
    }
   ],
   "source": [
    "fonksiyon(\"selin\")"
   ]
  },
  {
   "cell_type": "code",
   "execution_count": 12,
   "id": "a2be1d70",
   "metadata": {},
   "outputs": [],
   "source": [
    "def parrot(voltage, state='a stiff', action='voom', type='Norwegian Blue'):\n",
    "    print(\"-- This parrot wouldn't\", action, end=' ')\n",
    "    print(\"if you put\", voltage, \"volts through it.\")\n",
    "    print(\"-- Lovely plumage, the\", type)\n",
    "    print(\"-- It's\", state, \"!\")"
   ]
  },
  {
   "cell_type": "code",
   "execution_count": 13,
   "id": "6db08011",
   "metadata": {},
   "outputs": [
    {
     "name": "stdout",
     "output_type": "stream",
     "text": [
      "-- This parrot wouldn't voom if you put 1000 volts through it.\n",
      "-- Lovely plumage, the Norwegian Blue\n",
      "-- It's a stiff !\n"
     ]
    }
   ],
   "source": [
    "parrot(1000)"
   ]
  },
  {
   "cell_type": "code",
   "execution_count": 14,
   "id": "84e12c75",
   "metadata": {},
   "outputs": [
    {
     "name": "stdout",
     "output_type": "stream",
     "text": [
      "-- This parrot wouldn't VOOOOOM if you put 1000000 volts through it.\n",
      "-- Lovely plumage, the Norwegian Blue\n",
      "-- It's a stiff !\n"
     ]
    }
   ],
   "source": [
    "parrot(voltage=1000000, action='VOOOOOM')"
   ]
  },
  {
   "cell_type": "code",
   "execution_count": 15,
   "id": "b5fcd972",
   "metadata": {},
   "outputs": [
    {
     "name": "stdout",
     "output_type": "stream",
     "text": [
      "-- This parrot wouldn't VOOOOOM if you put 1000000 volts through it.\n",
      "-- Lovely plumage, the Norwegian Blue\n",
      "-- It's a stiff !\n"
     ]
    }
   ],
   "source": [
    "parrot(action='VOOOOOM', voltage=1000000)"
   ]
  },
  {
   "cell_type": "code",
   "execution_count": null,
   "id": "011e220f",
   "metadata": {},
   "outputs": [],
   "source": [
    "def parrot(voltage, state='a stiff', action='voom', type='Norwegian Blue'):\n",
    "    print(\"-- This parrot wouldn't\", action, end=' ')\n",
    "    print(\"if you put\", voltage, \"volts through it.\")\n",
    "    print(\"-- Lovely plumage, the\", type)\n",
    "    print(\"-- It's\", state, \"!\")"
   ]
  },
  {
   "cell_type": "code",
   "execution_count": 16,
   "id": "d929d9ea",
   "metadata": {},
   "outputs": [
    {
     "name": "stdout",
     "output_type": "stream",
     "text": [
      "-- This parrot wouldn't jump if you put a million volts through it.\n",
      "-- Lovely plumage, the Norwegian Blue\n",
      "-- It's bereft of life !\n"
     ]
    }
   ],
   "source": [
    "parrot(\"a million\", \"bereft of life\", \"jump\")"
   ]
  },
  {
   "cell_type": "code",
   "execution_count": null,
   "id": "ce30d0a8",
   "metadata": {},
   "outputs": [],
   "source": [
    "parrot(\"a thousand\", state = \"pushing up the daisies\")"
   ]
  },
  {
   "cell_type": "code",
   "execution_count": 17,
   "id": "91a91292",
   "metadata": {},
   "outputs": [
    {
     "ename": "TypeError",
     "evalue": "parrot() missing 1 required positional argument: 'voltage'",
     "output_type": "error",
     "traceback": [
      "\u001b[0;31m---------------------------------------------------------------------------\u001b[0m",
      "\u001b[0;31mTypeError\u001b[0m                                 Traceback (most recent call last)",
      "\u001b[0;32m<ipython-input-17-1fa32faf15ff>\u001b[0m in \u001b[0;36m<module>\u001b[0;34m\u001b[0m\n\u001b[0;32m----> 1\u001b[0;31m \u001b[0mparrot\u001b[0m\u001b[0;34m(\u001b[0m\u001b[0;34m)\u001b[0m\u001b[0;34m\u001b[0m\u001b[0;34m\u001b[0m\u001b[0m\n\u001b[0m",
      "\u001b[0;31mTypeError\u001b[0m: parrot() missing 1 required positional argument: 'voltage'"
     ]
    }
   ],
   "source": [
    "parrot()"
   ]
  },
  {
   "cell_type": "code",
   "execution_count": 18,
   "id": "a08caff1",
   "metadata": {},
   "outputs": [
    {
     "ename": "SyntaxError",
     "evalue": "positional argument follows keyword argument (<ipython-input-18-1e819ba30355>, line 1)",
     "output_type": "error",
     "traceback": [
      "\u001b[0;36m  File \u001b[0;32m\"<ipython-input-18-1e819ba30355>\"\u001b[0;36m, line \u001b[0;32m1\u001b[0m\n\u001b[0;31m    parrot(voltage=5, \"dead\")\u001b[0m\n\u001b[0m                      ^\u001b[0m\n\u001b[0;31mSyntaxError\u001b[0m\u001b[0;31m:\u001b[0m positional argument follows keyword argument\n"
     ]
    }
   ],
   "source": [
    "parrot(voltage=5, \"dead\")"
   ]
  },
  {
   "cell_type": "code",
   "execution_count": 19,
   "id": "6ba0ad74",
   "metadata": {},
   "outputs": [
    {
     "ename": "SyntaxError",
     "evalue": "positional argument follows keyword argument (<ipython-input-19-abee362784b6>, line 1)",
     "output_type": "error",
     "traceback": [
      "\u001b[0;36m  File \u001b[0;32m\"<ipython-input-19-abee362784b6>\"\u001b[0;36m, line \u001b[0;32m1\u001b[0m\n\u001b[0;31m    parrot(state = \"ball\", \"a billion\")\u001b[0m\n\u001b[0m                           ^\u001b[0m\n\u001b[0;31mSyntaxError\u001b[0m\u001b[0;31m:\u001b[0m positional argument follows keyword argument\n"
     ]
    }
   ],
   "source": [
    "parrot(state = \"ball\", \"a billion\")"
   ]
  },
  {
   "cell_type": "code",
   "execution_count": 20,
   "id": "2404d46a",
   "metadata": {},
   "outputs": [
    {
     "ename": "SyntaxError",
     "evalue": "non-default argument follows default argument (<ipython-input-20-a16aa314c4e9>, line 1)",
     "output_type": "error",
     "traceback": [
      "\u001b[0;36m  File \u001b[0;32m\"<ipython-input-20-a16aa314c4e9>\"\u001b[0;36m, line \u001b[0;32m1\u001b[0m\n\u001b[0;31m    def argu(a, b = \"dünya\", c, d = \"satürn\") :\u001b[0m\n\u001b[0m             ^\u001b[0m\n\u001b[0;31mSyntaxError\u001b[0m\u001b[0;31m:\u001b[0m non-default argument follows default argument\n"
     ]
    }
   ],
   "source": [
    "def argu(a, b = \"dünya\", c, d = \"satürn\") :\n",
    "    print(a, b, c, d, sep = \"\\n\")"
   ]
  },
  {
   "cell_type": "code",
   "execution_count": 21,
   "id": "b713e055",
   "metadata": {},
   "outputs": [],
   "source": [
    "def argu(a, c, b = \"dünya\", d = \"satürn\") :\n",
    "    print(a, b, c, d, sep = \"\\n\")"
   ]
  },
  {
   "cell_type": "code",
   "execution_count": 22,
   "id": "e96494b5",
   "metadata": {},
   "outputs": [
    {
     "ename": "TypeError",
     "evalue": "argu() missing 2 required positional arguments: 'a' and 'c'",
     "output_type": "error",
     "traceback": [
      "\u001b[0;31m---------------------------------------------------------------------------\u001b[0m",
      "\u001b[0;31mTypeError\u001b[0m                                 Traceback (most recent call last)",
      "\u001b[0;32m<ipython-input-22-2743aba80a34>\u001b[0m in \u001b[0;36m<module>\u001b[0;34m\u001b[0m\n\u001b[0;32m----> 1\u001b[0;31m \u001b[0margu\u001b[0m\u001b[0;34m(\u001b[0m\u001b[0;34m)\u001b[0m\u001b[0;34m\u001b[0m\u001b[0;34m\u001b[0m\u001b[0m\n\u001b[0m",
      "\u001b[0;31mTypeError\u001b[0m: argu() missing 2 required positional arguments: 'a' and 'c'"
     ]
    }
   ],
   "source": [
    "argu()"
   ]
  },
  {
   "cell_type": "code",
   "execution_count": 23,
   "id": "84d84419",
   "metadata": {},
   "outputs": [
    {
     "name": "stdout",
     "output_type": "stream",
     "text": [
      "uranüs\n",
      "dünya\n",
      "jüpiter\n",
      "satürn\n"
     ]
    }
   ],
   "source": [
    "argu(\"uranüs\", \"jüpiter\")"
   ]
  },
  {
   "cell_type": "code",
   "execution_count": 24,
   "id": "adc7ec8a",
   "metadata": {},
   "outputs": [],
   "source": [
    "def argu(a, c, b = \"dünya\", d = \"satürn\") :\n",
    "    print(a, b, c, d, sep = \"\\n\")"
   ]
  },
  {
   "cell_type": "code",
   "execution_count": 25,
   "id": "6b67f34a",
   "metadata": {},
   "outputs": [
    {
     "name": "stdout",
     "output_type": "stream",
     "text": [
      "uranüs\n",
      "dünya\n",
      "jüpiter\n",
      "satürn\n"
     ]
    }
   ],
   "source": [
    "argu(a = \"uranüs\", c = \"jüpiter\")"
   ]
  },
  {
   "cell_type": "code",
   "execution_count": null,
   "id": "7bed1d42",
   "metadata": {},
   "outputs": [],
   "source": [
    "argu(\"plüto\", c = \"venüs\", \"mars\")"
   ]
  },
  {
   "cell_type": "code",
   "execution_count": null,
   "id": "3f232d3a",
   "metadata": {},
   "outputs": [],
   "source": [
    "def argu(a, c, b = \"dünya\", d = \"satürn\") :\n",
    "    print(a, b, c, d, sep = \"\\n\")"
   ]
  },
  {
   "cell_type": "code",
   "execution_count": 26,
   "id": "f2081f08",
   "metadata": {},
   "outputs": [
    {
     "ename": "TypeError",
     "evalue": "argu() got multiple values for argument 'c'",
     "output_type": "error",
     "traceback": [
      "\u001b[0;31m---------------------------------------------------------------------------\u001b[0m",
      "\u001b[0;31mTypeError\u001b[0m                                 Traceback (most recent call last)",
      "\u001b[0;32m<ipython-input-26-4e39c7bf3245>\u001b[0m in \u001b[0;36m<module>\u001b[0;34m\u001b[0m\n\u001b[0;32m----> 1\u001b[0;31m \u001b[0margu\u001b[0m\u001b[0;34m(\u001b[0m\u001b[0;34m\"plüto\"\u001b[0m\u001b[0;34m,\u001b[0m \u001b[0;34m\"mars\"\u001b[0m\u001b[0;34m,\u001b[0m \u001b[0mc\u001b[0m \u001b[0;34m=\u001b[0m \u001b[0;34m\"venüs\"\u001b[0m\u001b[0;34m)\u001b[0m\u001b[0;34m\u001b[0m\u001b[0;34m\u001b[0m\u001b[0m\n\u001b[0m",
      "\u001b[0;31mTypeError\u001b[0m: argu() got multiple values for argument 'c'"
     ]
    }
   ],
   "source": [
    "argu(\"plüto\", \"mars\", c = \"venüs\")"
   ]
  },
  {
   "cell_type": "code",
   "execution_count": 28,
   "id": "53fc82e2",
   "metadata": {},
   "outputs": [
    {
     "name": "stdout",
     "output_type": "stream",
     "text": [
      "dünya\n",
      "venüs\n",
      "plüto\n",
      "güneş\n"
     ]
    }
   ],
   "source": [
    "argu(d = \"güneş\", a = \"dünya\", c = \"plüto\", b = \"venüs\")"
   ]
  },
  {
   "cell_type": "code",
   "execution_count": 29,
   "id": "2bd8afa8",
   "metadata": {},
   "outputs": [
    {
     "name": "stdout",
     "output_type": "stream",
     "text": [
      "güneş\n",
      "plüto\n",
      "dünya\n",
      "venüs\n"
     ]
    }
   ],
   "source": [
    "argu(\"güneş\", \"dünya\", \"plüto\", \"venüs\")"
   ]
  },
  {
   "cell_type": "markdown",
   "id": "5e30c4be",
   "metadata": {},
   "source": [
    "## Armstrong Numbers"
   ]
  },
  {
   "cell_type": "code",
   "execution_count": 36,
   "id": "27aa6536",
   "metadata": {},
   "outputs": [
    {
     "name": "stdout",
     "output_type": "stream",
     "text": [
      "enter a positive integer number :63105425988599693916\n",
      "63105425988599693916  is an Armstrong Number\n"
     ]
    }
   ],
   "source": [
    "while True :\n",
    "    \n",
    "    number = input(\"enter a positive integer number :\")\n",
    "    digits = len(number)\n",
    "    summ = 0\n",
    "    \n",
    "    if not number.isdigit() :\n",
    "        print(number, \" is invalid entry. Enter valid input.\")\n",
    "        \n",
    "    elif int(number) >= 0 :\n",
    "        for i in range(digits) :\n",
    "            \n",
    "            summ = summ + int(number[i]) ** digits\n",
    "        \n",
    "        if summ == int(number):\n",
    "            print(number, \" is an Armstrong Number\")\n",
    "            break\n",
    "            \n",
    "        else :\n",
    "            print(number, \"is not an Armstrong Number\")\n",
    "            break\n",
    "        \n",
    "        "
   ]
  },
  {
   "cell_type": "code",
   "execution_count": 30,
   "id": "62d14995",
   "metadata": {},
   "outputs": [
    {
     "data": {
      "text/plain": [
       "False"
      ]
     },
     "execution_count": 30,
     "metadata": {},
     "output_type": "execute_result"
    }
   ],
   "source": [
    "\"11.1\".isdigit()"
   ]
  },
  {
   "cell_type": "code",
   "execution_count": 31,
   "id": "9eb79dfe",
   "metadata": {},
   "outputs": [
    {
     "data": {
      "text/plain": [
       "True"
      ]
     },
     "execution_count": 31,
     "metadata": {},
     "output_type": "execute_result"
    }
   ],
   "source": [
    "\"111\".isdigit()"
   ]
  },
  {
   "cell_type": "markdown",
   "id": "649028df",
   "metadata": {},
   "source": [
    "## is it a Prime Number?"
   ]
  },
  {
   "cell_type": "code",
   "execution_count": 43,
   "id": "d7335447",
   "metadata": {},
   "outputs": [
    {
     "name": "stdout",
     "output_type": "stream",
     "text": [
      "Enter a positive number to check if it is a Prime Number333667\n",
      "333667  is a Prime Number\n"
     ]
    }
   ],
   "source": [
    "n = int(input(\"Enter a positive number to check if it is a Prime Number\"))\n",
    "counter = 0\n",
    "\n",
    "for i in range(1, n+1) :\n",
    "    if n % i == 0 :\n",
    "        counter += 1\n",
    "        \n",
    "if (n == 0) or (n == 1) or (counter >= 3) :\n",
    "    print(n, \" is not a Prime Number\")\n",
    "    \n",
    "else :\n",
    "    print(n, \" is a Prime Number\")"
   ]
  },
  {
   "cell_type": "code",
   "execution_count": null,
   "id": "e437aae0",
   "metadata": {},
   "outputs": [],
   "source": []
  },
  {
   "cell_type": "code",
   "execution_count": null,
   "id": "93a9df5f",
   "metadata": {},
   "outputs": [],
   "source": []
  },
  {
   "cell_type": "code",
   "execution_count": null,
   "id": "c0951356",
   "metadata": {},
   "outputs": [],
   "source": []
  }
 ],
 "metadata": {
  "kernelspec": {
   "display_name": "Python 3",
   "language": "python",
   "name": "python3"
  },
  "language_info": {
   "codemirror_mode": {
    "name": "ipython",
    "version": 3
   },
   "file_extension": ".py",
   "mimetype": "text/x-python",
   "name": "python",
   "nbconvert_exporter": "python",
   "pygments_lexer": "ipython3",
   "version": "3.8.8"
  }
 },
 "nbformat": 4,
 "nbformat_minor": 5
}
