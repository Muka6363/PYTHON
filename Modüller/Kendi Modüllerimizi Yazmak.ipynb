{
 "cells": [
  {
   "cell_type": "markdown",
   "metadata": {},
   "source": [
    "# Kendi Modüllerimizi Yazmak\n",
    "\n",
    "Bu konuda kendi modüllerimizi nasıl yazacağımızı öğrenmeye çalışacağız. Ancak bu derste **Python dosyaları** oluşturacağımız için kendi bilgisayarımızda konuyu anlatmaya çalışacağım. Uygulayacağımız adımlar şu şekilde;\n",
    "                    \n",
    "                    1. Herhangi bir tane klasör oluşturuyoruz.\n",
    "                    2. Modülümüz ve deneme Python dosyamız aynı dizinde olması gerektiği için 2 tane Python dosyasını da\n",
    "                    bu klasör altında oluşturuyoruz.\n",
    "                    3. modul1.py ve deneme.py dosyası oluşturuyoruz.\n",
    "                    4. modul1.py dosyasının içine istediğimiz kadar fonksiyonu yazıyoruz.\n",
    "                    5. Son olarak da deneme.py dosyasının içinde bu modul1.py modülünü kullanıyoruz."
   ]
  },
  {
   "cell_type": "markdown",
   "metadata": {},
   "source": [
    "Peki yazdığımız bir modülü her yerden kullanmak için  ne yapacağız ? Bunun için yazdığımız **modul1.py** dosyasının **Python35/Lib** klasörünün altına atmamız gerekiyor. Böylelikle bu modülü de **math** modülü gibi her dosyada kullanabiliriz."
   ]
  },
  {
   "cell_type": "code",
   "execution_count": null,
   "metadata": {
    "collapsed": true
   },
   "outputs": [],
   "source": []
  }
 ],
 "metadata": {
  "kernelspec": {
   "display_name": "Python 3",
   "language": "python",
   "name": "python3"
  },
  "language_info": {
   "codemirror_mode": {
    "name": "ipython",
    "version": 3
   },
   "file_extension": ".py",
   "mimetype": "text/x-python",
   "name": "python",
   "nbconvert_exporter": "python",
   "pygments_lexer": "ipython3",
   "version": "3.6.1"
  }
 },
 "nbformat": 4,
 "nbformat_minor": 2
}
