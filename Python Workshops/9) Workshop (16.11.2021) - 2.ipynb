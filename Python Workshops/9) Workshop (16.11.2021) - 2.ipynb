{
  "nbformat": 4,
  "nbformat_minor": 0,
  "metadata": {
    "orig_nbformat": 4,
    "colab": {
      "name": "Python Workshop (16 Nov 21).ipynb",
      "provenance": [],
      "collapsed_sections": []
    },
    "language_info": {
      "name": "python"
    },
    "kernelspec": {
      "name": "python3",
      "display_name": "Python 3"
    }
  },
  "cells": [
    {
      "cell_type": "markdown",
      "metadata": {
        "id": "PRqi736-QSso"
      },
      "source": [
        "SORU-1: Kullanıcının belirleyeceği \"n\" adet sayının tek tek girilmesini sağlayarak, bu sayıların toplamını bulan python kodunu yazınız.\n",
        "\n",
        "* For döngüsü kullanılmalıdır"
      ]
    },
    {
      "cell_type": "code",
      "metadata": {
        "colab": {
          "base_uri": "https://localhost:8080/"
        },
        "id": "1JyO5MG4QaYR",
        "outputId": "f9a4f987-2348-4413-b9cf-d249909901d8"
      },
      "source": [
        "toplam = 0\n",
        "n = int(input(\"Kaç kere sayı girişi yapalım: \"))\n",
        "for i in range(n) :\n",
        "  number = int(input(\"Please enter a number: \" ))\n",
        "  toplam += number\n",
        "print(toplam)"
      ],
      "execution_count": 2,
      "outputs": [
        {
          "output_type": "stream",
          "name": "stdout",
          "text": [
            "Kaç kere sayı girişi yapalım: 2\n",
            "Please enter a number: 25\n",
            "Please enter a number: 12\n",
            "37\n"
          ]
        }
      ]
    },
    {
      "cell_type": "markdown",
      "metadata": {
        "id": "G4U9p-x6QSsq"
      },
      "source": [
        "SORU-2: Kullanıcıdan alınan dört kenar uzunluğuna göre şeklin kare, dikdörtgen veya diğer dörtgenlerden biri olduğunu belirten python kodunu yazınız.\n",
        "\n",
        "* if-elif-else statement kullanılmalıdır"
      ]
    },
    {
      "cell_type": "code",
      "metadata": {
        "id": "hdSN0GFEQSsq"
      },
      "source": [
        ""
      ],
      "execution_count": null,
      "outputs": []
    },
    {
      "cell_type": "markdown",
      "metadata": {
        "id": "mfM2H54DQSsq"
      },
      "source": [
        "SORU-3: Kullanıcının belirleyeceği satır sayısı (n) kadar, \"*\" işaretiyle piramit oluşturan python kodunu yazınız.\n",
        "\n",
        "* For döngüsü kullanılmalıdır\n"
      ]
    },
    {
      "cell_type": "code",
      "metadata": {
        "colab": {
          "base_uri": "https://localhost:8080/"
        },
        "id": "Hnt15SNgQSsr",
        "outputId": "d0ec435a-1832-4b22-c791-f682c9aa3a8f"
      },
      "source": [
        "n = int(input(\"Please enter a number: \"))\n",
        "for i in range(1, n + 1) :\n",
        "  print(\"*\" * i) "
      ],
      "execution_count": 5,
      "outputs": [
        {
          "output_type": "stream",
          "name": "stdout",
          "text": [
            "Please enter a number: 5\n",
            "*\n",
            "**\n",
            "***\n",
            "****\n",
            "*****\n"
          ]
        }
      ]
    },
    {
      "cell_type": "markdown",
      "metadata": {
        "id": "565nweK8QSsr"
      },
      "source": [
        "SORU-4: Kullanıcının yarıçap değerini girdiği bir dairenin, alan ve çevresini hesaplayan python kodunu yazınız.\n",
        "\n",
        "* Fonksiyon tanımlanmalıdır"
      ]
    },
    {
      "cell_type": "code",
      "metadata": {
        "colab": {
          "base_uri": "https://localhost:8080/"
        },
        "id": "C-WHKxZ7QSsr",
        "outputId": "16f63ad3-4a1d-4702-d395-adeaccf15d01"
      },
      "source": [
        "def daire(r) :\n",
        "  print(f\"Dairenin alanı {3.14 * r ** 2} ve çevresi {round(2 * 3.14 * r, 2)} 'dir. \")\n",
        "daire(r = int(input(\"Please enter radius value: \")))"
      ],
      "execution_count": 18,
      "outputs": [
        {
          "output_type": "stream",
          "name": "stdout",
          "text": [
            "Please enter radius value: 5\n",
            "Dairenin alanı 78.5 ve çevresi 31.4 'dir. \n"
          ]
        }
      ]
    },
    {
      "cell_type": "markdown",
      "metadata": {
        "id": "s32SEOLvQSsr"
      },
      "source": [
        "SORU-5: Kullanıcının girdiği 2 sayı arasındaki çift sayıların ortalamasını bulan python kodunu yazınız.\n",
        "\n",
        "* map() fonksiyonu kullanılmalı ve\n",
        "* Fonksiyon tanımlanmalıdır"
      ]
    },
    {
      "cell_type": "code",
      "metadata": {
        "colab": {
          "base_uri": "https://localhost:8080/"
        },
        "id": "uAiRJgyUQSsr",
        "outputId": "def68dbb-284a-4ba5-89a2-1b9507eb667d"
      },
      "source": [
        "def istenen(x,y) :\n",
        "  return sum([i for i in range(x, y) if i % 2 == 0]) / 2\n",
        "n = list(map(int, input(\"Please enter two numbers: \").split()))\n",
        "istenen(n[0], n[1])"
      ],
      "execution_count": 25,
      "outputs": [
        {
          "name": "stdout",
          "output_type": "stream",
          "text": [
            "Please enter two numbers: 5 10\n"
          ]
        },
        {
          "output_type": "execute_result",
          "data": {
            "text/plain": [
              "7.0"
            ]
          },
          "metadata": {},
          "execution_count": 25
        }
      ]
    },
    {
      "cell_type": "markdown",
      "metadata": {
        "id": "GHQD_U7oQSsr"
      },
      "source": [
        "**SORU-6:** x listesi içinde verilen sayıları birbiriyle çarpan python kodunu yazınız.\n",
        "\n",
        "x = [1, 2, 3, 4, 5]\n",
        "\n",
        "* Fonksiyon tanımlanmalıdır"
      ]
    },
    {
      "cell_type": "code",
      "metadata": {
        "colab": {
          "base_uri": "https://localhost:8080/"
        },
        "id": "hvStnIjKQSss",
        "outputId": "aa2fcb91-c3a6-4f7d-c6de-be955830f0c1"
      },
      "source": [
        "def liste_carp(x) :\n",
        "  carpim = 1\n",
        "  for i in x :\n",
        "    carpim = carpim * i\n",
        "  return carpim\n",
        "liste_carp([1,2,3,4,5])"
      ],
      "execution_count": 13,
      "outputs": [
        {
          "output_type": "execute_result",
          "data": {
            "text/plain": [
              "120"
            ]
          },
          "metadata": {},
          "execution_count": 13
        }
      ]
    },
    {
      "cell_type": "markdown",
      "metadata": {
        "id": "DBbEkgGLQSss"
      },
      "source": [
        "**SORU-7:** Tanımlanan bir liste içinde aranan değerin kaç tane olduğunu bulan Python kodunu yazınız.\n",
        "\n",
        "x = [1, 3, 8, 6, 8, 10, 20, 6, 22, 14, 10, 8, 13, 7, 8] \n",
        "\n",
        "Output = 8 elemanı dizi içinde 4 adet bulunmaktadır\n",
        "\n",
        "* Fonksiyon tanımlanmalıdır"
      ]
    },
    {
      "cell_type": "code",
      "metadata": {
        "colab": {
          "base_uri": "https://localhost:8080/"
        },
        "id": "M8W00O3Rjh00",
        "outputId": "a2c5576c-09c2-4d7e-ab40-072ddc2e92de"
      },
      "source": [
        "def how_many(liste) :\n",
        "\n",
        "  sozluk = {}\n",
        "  for i in liste :\n",
        "    if i not in sozluk :\n",
        "      sozluk[i] = 1\n",
        "    else :\n",
        "      sozluk[i] += 1\n",
        "\n",
        "  enfazla = 0\n",
        "  hangisi = 0\n",
        "  for i in sozluk :\n",
        "    if sozluk[i] > enfazla :\n",
        "      enfazla = sozluk[i]\n",
        "      hangisi = i\n",
        "\n",
        "  print(f\"{hangisi} elemanı dizi içinde {enfazla} adet bulunmaktadır.\")\n",
        "\n",
        "x = [1, 3, 8, 6, 8, 10, 20, 6, 22, 14, 10, 8, 13, 7, 8]\n",
        "how_many(x)"
      ],
      "execution_count": 1,
      "outputs": [
        {
          "output_type": "stream",
          "name": "stdout",
          "text": [
            "8 elemanı dizi içinde 4 adet bulunmaktadır.\n"
          ]
        }
      ]
    },
    {
      "cell_type": "markdown",
      "metadata": {
        "id": "LAr2OKXoQSss"
      },
      "source": [
        "**SORU-8:** Kullanıcıdan oluşturduğu listedeki herhangi iki elamanın yerini değiştiren python kodunu yazınız.\n",
        "\n",
        "* map() fonksiyonu kullanılmalı ve\n",
        "* Fonksiyon tanımlanmalıdır"
      ]
    },
    {
      "cell_type": "code",
      "metadata": {
        "colab": {
          "base_uri": "https://localhost:8080/"
        },
        "id": "HillfC-RQSss",
        "outputId": "35e0dcaa-14d7-4a34-da5f-0735c7335a21"
      },
      "source": [
        "n = list(map(int, input(\"Please enter numbers: \").split()))\n",
        "\n",
        "import random\n",
        "from random import randint\n",
        "\n",
        "index_list = []\n",
        "for i in range(2) :\n",
        "  index_list += [randint(0, len(n))] \n",
        "\n",
        "print(index_list)\n",
        "pos1 = index_list[0]\n",
        "pos2 = index_list[1]\n",
        "\n",
        "# Yerdeğiştirme \n",
        "def YerDegistir(list, pos1, pos2): \n",
        "      \n",
        "    list[pos1], list[pos2] = list[pos2], list[pos1] \n",
        "    return list\n",
        "  \n",
        "YerDegistir(n, pos1, pos2)"
      ],
      "execution_count": 10,
      "outputs": [
        {
          "output_type": "stream",
          "name": "stdout",
          "text": [
            "Please enter numbers: 1 45 32 47 37\n",
            "[4, 0]\n"
          ]
        },
        {
          "output_type": "execute_result",
          "data": {
            "text/plain": [
              "[37, 45, 32, 47, 1]"
            ]
          },
          "metadata": {},
          "execution_count": 10
        }
      ]
    },
    {
      "cell_type": "code",
      "metadata": {
        "colab": {
          "base_uri": "https://localhost:8080/"
        },
        "id": "-1Oafm5Vqo-Y",
        "outputId": "8bf5be57-2747-4c27-e120-aa7971fc5def"
      },
      "source": [
        "import random\n",
        "from random import randint\n",
        "\n",
        "for i in range(2) :\n",
        "  index = randint(0, 5) \n",
        "  print(index)"
      ],
      "execution_count": 3,
      "outputs": [
        {
          "output_type": "stream",
          "name": "stdout",
          "text": [
            "2\n",
            "5\n"
          ]
        }
      ]
    }
  ]
}