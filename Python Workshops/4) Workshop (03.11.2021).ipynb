{
  "nbformat": 4,
  "nbformat_minor": 0,
  "metadata": {
    "kernelspec": {
      "name": "python3",
      "display_name": "Python 3.9.6 64-bit"
    },
    "language_info": {
      "codemirror_mode": {
        "name": "ipython",
        "version": 3
      },
      "file_extension": ".py",
      "mimetype": "text/x-python",
      "name": "python",
      "nbconvert_exporter": "python",
      "pygments_lexer": "ipython3",
      "version": "3.9.6"
    },
    "interpreter": {
      "hash": "468f25ad0239460415b7e6b7483d5c8f7213894121f6fb96c4cb6ef93fffe534"
    },
    "colab": {
      "name": "Python-workshop-1-student.ipynb",
      "provenance": []
    }
  },
  "cells": [
    {
      "cell_type": "markdown",
      "metadata": {
        "id": "lQ7KvVBQ8G6B"
      },
      "source": [
        "<center><img src=\"https://github.com/aaron-clarusway/fullstack/blob/master/itf-logo.png?raw=true\"  alt=\"alt text\" width=\"200\"/></center>\n",
        "<br>\n",
        "<h1><p style=\"text-align: center; color:darkblue\">Python Basic</p><h1>\n",
        "<center><h1>Workshop - 1</h1></center>\n",
        "<p><img align=\"right\"\n",
        "  src=\"https://secure.meetupstatic.com/photos/event/3/1/b/9/600_488352729.jpeg\"  width=\"15px\"></p>\n",
        "<br>\n",
        "\n",
        "\n",
        "# Subject: Basic Data Types and Useful Operations\n",
        "\n",
        "## Learning Goals\n",
        "\n",
        "* to work with quotes in strings,\n",
        "* to practice basic data types,\n",
        "* to consolidate basic boolean operations."
      ]
    },
    {
      "cell_type": "markdown",
      "metadata": {
        "id": "LNDtl7Qk8G6D"
      },
      "source": [
        "### Problem 1\n",
        "\n",
        "Write a program that multiplies three numbers entered by the user. Print the output with the format method."
      ]
    },
    {
      "cell_type": "code",
      "metadata": {
        "id": "3-ZfDVl48G6E"
      },
      "source": [
        ""
      ],
      "execution_count": null,
      "outputs": []
    },
    {
      "cell_type": "markdown",
      "metadata": {
        "id": "TBn5Pp8w8G6E"
      },
      "source": [
        "### Problem 2\n",
        "\n",
        "Write a program that calculates body mass index from **height** and **weight** entered by the user. \n",
        "\n",
        "Body mass index :  Weight / Height(m) * Height(m)"
      ]
    },
    {
      "cell_type": "code",
      "metadata": {
        "id": "EaTITjnN8G6F"
      },
      "source": [
        ""
      ],
      "execution_count": null,
      "outputs": []
    },
    {
      "cell_type": "markdown",
      "metadata": {
        "id": "SOQK5YDW8G6F"
      },
      "source": [
        "### Problem 3\n",
        "\n",
        "With your $ 200, how many pieces of material can you get for $ 11 each? How much money do you have left after buying?"
      ]
    },
    {
      "cell_type": "code",
      "metadata": {
        "id": "sw0AD5F58G6F"
      },
      "source": [
        ""
      ],
      "execution_count": null,
      "outputs": []
    },
    {
      "cell_type": "markdown",
      "metadata": {
        "id": "Ke41LvSg8G6F"
      },
      "source": [
        "### Problem 4\n",
        "\n",
        "Ask the user for two numbers and assign these numbers to variables and replace the values of these variables with each other."
      ]
    },
    {
      "cell_type": "code",
      "metadata": {
        "id": "WcZrSO3_8G6F"
      },
      "source": [
        ""
      ],
      "execution_count": null,
      "outputs": []
    },
    {
      "cell_type": "markdown",
      "metadata": {
        "id": "gpFzqo4Z8G6G"
      },
      "source": [
        "### Problem 5\n",
        "\n",
        "Write a Python program to solve (x - y) * (x + y)."
      ]
    },
    {
      "cell_type": "code",
      "metadata": {
        "id": "v9FJzLCA8G6G"
      },
      "source": [
        ""
      ],
      "execution_count": null,
      "outputs": []
    },
    {
      "cell_type": "markdown",
      "metadata": {
        "id": "pGz1LH848G6G"
      },
      "source": [
        "### Problem 6\n",
        "\n",
        "Get **word**, **seperator** and **repetition** values from the user and print the word on the screen according to the given values. \n",
        "\n",
        "Ex: ``word = ali, sep = /, repetition = 3`` ----> ``ali/ali/ali``"
      ]
    },
    {
      "cell_type": "code",
      "metadata": {
        "id": "XElOJnPo8G6G"
      },
      "source": [
        ""
      ],
      "execution_count": null,
      "outputs": []
    },
    {
      "cell_type": "markdown",
      "metadata": {
        "id": "Gm6UNgGV8G6G"
      },
      "source": [
        "### Problem 7\n",
        "\n",
        ">Do not run the code, try to figure out in your mind.\n",
        "\n",
        "What will be the output of the following syntax :\n",
        "\n",
        "```python\n",
        "print(True and False and (not True and False) and not (True or False))\n",
        "```"
      ]
    },
    {
      "cell_type": "code",
      "metadata": {
        "id": "60rquS5T8G6H"
      },
      "source": [
        ""
      ],
      "execution_count": null,
      "outputs": []
    },
    {
      "cell_type": "markdown",
      "metadata": {
        "id": "mpDadkGi8G6H"
      },
      "source": [
        "### Problem 8\n",
        "\n",
        ">Do not run the code, try to figure out in your mind.\n",
        "\n",
        "What will be the output of the following syntax :\n",
        "\n",
        "```python\n",
        "print(True and False and not \"False\" and None and (\"None\" or None))\n",
        "```"
      ]
    },
    {
      "cell_type": "code",
      "metadata": {
        "id": "ri4TUuwc8G6H"
      },
      "source": [
        ""
      ],
      "execution_count": null,
      "outputs": []
    },
    {
      "cell_type": "markdown",
      "metadata": {
        "id": "B7Vm-2bN8G6H"
      },
      "source": [
        "### Problem 9\n",
        "\n",
        ">Do not run the code, try to figure out in your mind.\n",
        "\n",
        "What will be the output of the following syntax :\n",
        "\n",
        "```python\n",
        "print(\"clarusway\" and 0 and not \"\" and False and (\" \" or None))\n",
        "```"
      ]
    },
    {
      "cell_type": "code",
      "metadata": {
        "id": "ISnJy27s8G6H"
      },
      "source": [
        ""
      ],
      "execution_count": null,
      "outputs": []
    }
  ]
}