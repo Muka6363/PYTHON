{
  "nbformat": 4,
  "nbformat_minor": 0,
  "metadata": {
    "colab": {
      "name": "12_10_21-Workshop.ipynb",
      "provenance": [],
      "collapsed_sections": []
    },
    "kernelspec": {
      "name": "python3",
      "display_name": "Python 3"
    },
    "language_info": {
      "name": "python"
    }
  },
  "cells": [
    {
      "cell_type": "code",
      "metadata": {
        "colab": {
          "base_uri": "https://localhost:8080/"
        },
        "id": "-X9BLPzKf5lz",
        "outputId": "0db5f3ef-fafb-4fb7-a21b-ce88a85043f0"
      },
      "source": [
        "# To improve your boolean logic and arithmetic operator algorithm skills.\n",
        "# Using the all following items once each, set a correct boolean expression\n",
        "# that returns write me. Use the print() function to display the result.\n",
        "\n",
        "# 0\n",
        "# and\n",
        "# not\n",
        "# \"write me\"\n",
        "\n",
        "# Birinci Çözüm\n",
        "print(not 0 and \"write me\")\n",
        "\n",
        "# İkinci Çözüm\n",
        "print(0 or \"write me\" or not False and True)"
      ],
      "execution_count": null,
      "outputs": [
        {
          "output_type": "stream",
          "name": "stdout",
          "text": [
            "write me\n",
            "write me\n"
          ]
        }
      ]
    },
    {
      "cell_type": "code",
      "metadata": {
        "colab": {
          "base_uri": "https://localhost:8080/"
        },
        "id": "xQvCLtEpnGBN",
        "outputId": "62164577-c9ff-4982-ef80-9ace3e66d8b4"
      },
      "source": [
        "# Write a function\n",
        "\n",
        "# We add a Leap Day on February 29, almost every four years. The leap day is an extra, or intercalary, day and we add it to the shortest\n",
        "# month of the year, February. \n",
        "# In the Gregorian calendar three criteria must be taken into account to identify leap years:\n",
        "# The year can be evenly divided by 4;\n",
        "# If the year can be evenly divided by 100, it is NOT a leap year, unless;\n",
        "# The year is also evenly divisible by 400. Then it is a leap year.\n",
        "\n",
        "# This means that in the Gregorian calendar, the years 2000 and 2400 are leap years, while 1800, 1900, 2100, 2200, 2300 and 2500 are NOT\n",
        "# leap years.\n",
        "\n",
        "# Task \n",
        "# You are given the year, and you have to write a function to check if the year is leap or not.\n",
        "# Note that you have to complete the function and remaining code is given as template.\n",
        "\n",
        "# Input Format\n",
        "# Read y, the year that needs to be checked.\n",
        "\n",
        "# Constraints\n",
        "# 1900 <= y <= 10**5\n",
        "\n",
        "# Output Format\n",
        "# Output is taken care of by the template. Your function must return a boolean value (True/False)\n",
        "\n",
        "def is_leap(year):\n",
        "    leap = False\n",
        "    \n",
        "    # Write your logic here\n",
        "    if year%400==0 :\n",
        "        leap = True\n",
        "    elif year%4 == 0 and year%100 != 0:\n",
        "        leap = True\n",
        "    return leap\n",
        "\n",
        "year = int(input())\n",
        "print(is_leap(year))"
      ],
      "execution_count": null,
      "outputs": [
        {
          "output_type": "stream",
          "name": "stdout",
          "text": [
            "1983\n",
            "False\n"
          ]
        }
      ]
    },
    {
      "cell_type": "code",
      "metadata": {
        "colab": {
          "base_uri": "https://localhost:8080/"
        },
        "id": "jMSRS7H3hchf",
        "outputId": "7ac0ff32-d0f6-4d12-8c80-8567ef8dc6de"
      },
      "source": [
        "# KENDİ ÇÖZÜMÜM\n",
        "\n",
        "# To improve your boolean logic algorithm and truth value skills.\n",
        "# Find out if a given year is a \"leap\" year.\n",
        "\n",
        "# In the Gregorian calendar, three criteria must be taken into account to\n",
        "# identify leap years:\n",
        "\n",
        "# The year must be evenly divisible by 4;\n",
        "# If the year can also be evenly divided by 100, it is not a leap year;\n",
        "# unless...(next one)\n",
        "# The year is also evenly divisible by 400. Then it is a leap year.\n",
        "# According to these rules, the years 2000 and 2400 are leap years, while 1800,\n",
        "# 1900, 2100, 2200, 2300, and 2500 are not the leap years.\n",
        "\n",
        "# Write a Python program that;\n",
        "\n",
        "# Takes a 4-digit year from the user,\n",
        "# Prints True if the given year by the user is a leap year, prints False\n",
        "# otherwise.\n",
        "# Note that; this question is famous on the web, so that do it yourself to get\n",
        "# more benefits from it.\n",
        "\n",
        "year = int(input(\"Lütfen artık yıl olup olmadığını kontrol etmek istediğiniz\\\n",
        " yılı girin: \"))\n",
        "\n",
        "if year % 400 == 0:\n",
        "  print(\"{} yılı artık yıldır. {} yılında Şubat ayı 29 gündür. {}\".format(year,\\\n",
        " year, True))\n",
        "elif year % 4 == 0 and year % 100 != 0:\n",
        "  print(\"{} yılı artık yıldır. {} yılında Şubat ayı 29 gündür. {}\".format(year,\\\n",
        " year, True))\n",
        "else:\n",
        "  print(\"{} yılı artık yıl değildir. {} yılında Şubat ayı 28 gündür. {}\".format\\\n",
        "(year, year, False))"
      ],
      "execution_count": null,
      "outputs": [
        {
          "output_type": "stream",
          "name": "stdout",
          "text": [
            "Lütfen artık yıl olup olmadığını kontrol etmek istediğiniz yılı girin: 1983\n",
            "1983 yılı artık yıl değildir. 1983 yılında Şubat ayı 28 gündür. False\n"
          ]
        }
      ]
    },
    {
      "cell_type": "code",
      "metadata": {
        "colab": {
          "base_uri": "https://localhost:8080/"
        },
        "id": "kyWIuBTBSvNN",
        "outputId": "8ca6443f-0d93-4764-e778-d88eb62eb104"
      },
      "source": [
        "# ALTERNATİF ÇÖZÜM-3\n",
        "year = int(input(\"Lütfen girmek istediğiniz yılı yazınız: \"))\n",
        "print(year % 4 == 0 and year % 100 != 0 or year % 400 == 0)"
      ],
      "execution_count": null,
      "outputs": [
        {
          "output_type": "stream",
          "name": "stdout",
          "text": [
            "Lütfen girmek istediğiniz yılı yazınız: 1984\n",
            "True\n"
          ]
        }
      ]
    },
    {
      "cell_type": "code",
      "metadata": {
        "colab": {
          "base_uri": "https://localhost:8080/"
        },
        "id": "lkfM03MDUL2X",
        "outputId": "2ea24fe2-e649-4528-c679-f2d05baf377a"
      },
      "source": [
        "# ALTERNATİF ÇÖZÜM-4\n",
        "year = int(input(\"give me a year\"))\n",
        "\n",
        "rule_1 = int(year%4)\n",
        "rule_2 = int(year%100)\n",
        "rule_3 = int(year%400)\n",
        "print(rule_1)\n",
        "\n",
        "if rule_1==0 and rule_2!=0 or rule_3==0 :\n",
        "    print(\"This is leap year\")\n",
        "    \n",
        "else :\n",
        "    print(\"This is not leap year\")"
      ],
      "execution_count": null,
      "outputs": [
        {
          "output_type": "stream",
          "name": "stdout",
          "text": [
            "give me a year1900\n",
            "0\n",
            "This is not leap year\n"
          ]
        }
      ]
    },
    {
      "cell_type": "code",
      "metadata": {
        "colab": {
          "base_uri": "https://localhost:8080/"
        },
        "id": "qWlIg9UDUXl4",
        "outputId": "8dfecc52-5bfd-4ef8-eef5-f84a9bab040d"
      },
      "source": [
        "# ALTERNATİF ÇÖZÜM-5\n",
        "year = int(input(\"Yılı giriniz: \"))\n",
        "if len(str(year)) == 4:\n",
        "  if year % 4 == 0 and year % 100 != 0 or year % 400 == 0:\n",
        "    print(True)\n",
        "  else:\n",
        "    print(False)\n",
        "else:\n",
        "  print(\"Girdiğiniz sayı 4 haneli değildir.\")"
      ],
      "execution_count": null,
      "outputs": [
        {
          "output_type": "stream",
          "name": "stdout",
          "text": [
            "Yılı giriniz: 1984\n",
            "True\n"
          ]
        }
      ]
    },
    {
      "cell_type": "code",
      "metadata": {
        "colab": {
          "base_uri": "https://localhost:8080/"
        },
        "id": "_G7iEIwDk07d",
        "outputId": "e3aa06bd-f0bb-460e-8291-4900c7813624"
      },
      "source": [
        "cost_value = 31.87\n",
        "sell_value = 45.00\n",
        "inventory = 1000\n",
        "# the profit will be : 13130\n",
        "\n",
        "profit = (sell_value - cost_value) * inventory\n",
        "print(\"Kârınız {:.0f}\".format(profit))"
      ],
      "execution_count": null,
      "outputs": [
        {
          "output_type": "stream",
          "name": "stdout",
          "text": [
            "Kârınız 13130\n"
          ]
        }
      ]
    },
    {
      "cell_type": "code",
      "metadata": {
        "colab": {
          "base_uri": "https://localhost:8080/"
        },
        "id": "FhVnfZuCnJjh",
        "outputId": "64541ebc-199d-4e92-bd06-89c31ed16405"
      },
      "source": [
        "# İstenen Çözüm\n",
        "\n",
        "sales = {\n",
        "  \"cost_value\": 31.87,\n",
        "  \"sell_value\": 45.00,\n",
        "  \"inventory\": 1000\n",
        "}\n",
        "\n",
        "profit = (sales[\"sell_value\"] - sales[\"cost_value\"]) * sales[\"inventory\"]\n",
        "print(\"Kârınız {:.0f} dolar ($)\".format(profit))"
      ],
      "execution_count": null,
      "outputs": [
        {
          "output_type": "stream",
          "name": "stdout",
          "text": [
            "Kârınız 13130 dolar ($)\n"
          ]
        }
      ]
    },
    {
      "cell_type": "code",
      "metadata": {
        "colab": {
          "base_uri": "https://localhost:8080/"
        },
        "id": "5uyz9d0bX4LL",
        "outputId": "86a0b0cf-99b9-4070-fbf1-8c15a5afa31c"
      },
      "source": [
        "sales = {\n",
        "  \"cost_value\": 31.87,\n",
        "  \"sell_value\": 45.00,\n",
        "  \"inventory\": 1000\n",
        "}\n",
        "\n",
        "print(round((sales[\"sell_value\"] - sales[\"cost_value\"]) * sales[\"inventory\"]))"
      ],
      "execution_count": null,
      "outputs": [
        {
          "output_type": "stream",
          "name": "stdout",
          "text": [
            "13130\n"
          ]
        }
      ]
    },
    {
      "cell_type": "code",
      "metadata": {
        "colab": {
          "base_uri": "https://localhost:8080/"
        },
        "id": "HuV7CPqFnJsV",
        "outputId": "939dfc34-df50-4640-93ae-f1a8d5951ab5"
      },
      "source": [
        "worker_salary = {\n",
        "  \"fatih\": 7650,\n",
        "  \"emre\": 7605.3278,\n",
        "  \"cemile\": 7610.25,\n",
        "  \"melek\": 7615.1,\n",
        "  \"hayri\": 7620.333\n",
        "}\n",
        "\n",
        "print(\"Never Give Up Çalışanları Maaş Bordrosu\\nFatih\\t: ${:.2f}\\\n",
        "\\nEmre\\t: ${:.2f}\\nCemile\\t: ${:.2f}\\nMelek\\t: ${:.2f}\\nHayri\\t: ${:.2f}\".\\\n",
        "format(worker_salary[\"fatih\"], worker_salary[\"emre\"], worker_salary[\"cemile\"],\\\n",
        "worker_salary[\"melek\"], worker_salary[\"hayri\"]))"
      ],
      "execution_count": null,
      "outputs": [
        {
          "output_type": "stream",
          "name": "stdout",
          "text": [
            "Never Give Up Çalışanları Maaş Bordrosu\n",
            "Fatih\t: $7650.00\n",
            "Emre\t: $7605.33\n",
            "Cemile\t: $7610.25\n",
            "Melek\t: $7615.10\n",
            "Hayri\t: $7620.33\n"
          ]
        }
      ]
    },
    {
      "cell_type": "code",
      "metadata": {
        "colab": {
          "base_uri": "https://localhost:8080/"
        },
        "id": "kbwrl1Hsa6_-",
        "outputId": "dfc7d6f2-a8e5-4679-f368-dec90f7a319b"
      },
      "source": [
        "# Hocanın Çözümü\n",
        "money = float(input(\"What is your payroll?\"))\n",
        "print(\"{:.2f}\".format(money))"
      ],
      "execution_count": null,
      "outputs": [
        {
          "output_type": "stream",
          "name": "stdout",
          "text": [
            "What is your payroll?45679.6549\n",
            "45679.65\n"
          ]
        }
      ]
    }
  ]
}