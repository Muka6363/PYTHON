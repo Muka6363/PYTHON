{
  "nbformat": 4,
  "nbformat_minor": 0,
  "metadata": {
    "colab": {
      "name": "05_October_Workshop_Solutions",
      "provenance": [],
      "collapsed_sections": []
    },
    "kernelspec": {
      "display_name": "Python 3",
      "name": "python3"
    }
  },
  "cells": [
    {
      "cell_type": "code",
      "metadata": {
        "id": "38K6rCk2AzPs",
        "colab": {
          "base_uri": "https://localhost:8080/"
        },
        "outputId": "7b94599b-2b0d-4353-a3c0-18f363bb22c2"
      },
      "source": [
        "# Question-1 (Write a program that multiplies three numbers entered by the user.\n",
        "# Print the output with the format method.)\n",
        "\n",
        "x = input('Birinci sayıyı girin: ')\n",
        "y = input('İkinci sayıyı girin: ')\n",
        "z = input('Üçüncü sayıyı girin: ')\n",
        "\n",
        "a = int(x) + int(y) + int(z)\n",
        "\n",
        "print('Girdiğiniz üç sayının toplamı: {}'.format(a))"
      ],
      "execution_count": null,
      "outputs": [
        {
          "output_type": "stream",
          "name": "stdout",
          "text": [
            "Birinci sayıyı girin: 12\n",
            "İkinci sayıyı girin: 45\n",
            "Üçüncü sayıyı girin: 67\n",
            "Girdiğiniz üç sayının toplamı: 124\n"
          ]
        }
      ]
    },
    {
      "cell_type": "code",
      "metadata": {
        "colab": {
          "base_uri": "https://localhost:8080/"
        },
        "id": "Bp-IZzkPuxE5",
        "outputId": "cb1c30e7-f416-4ea1-913b-1c7d07d5ac02"
      },
      "source": [
        "# Question-1 (Write a program that multiplies three numbers entered by the user.\n",
        "# Print the output with the format method.)\n",
        "# A L T E R N A T I V E\n",
        " \n",
        "x = int(input('Birinci sayıyı girin: '))\n",
        "y = int(input('İkinci sayıyı girin: '))\n",
        "z = int(input('Üçüncü sayıyı girin: '))\n",
        "\n",
        "a = x + y + z\n",
        "\n",
        "print('Girdiğiniz üç sayının toplamı: {}'.format(a))"
      ],
      "execution_count": null,
      "outputs": [
        {
          "output_type": "stream",
          "name": "stdout",
          "text": [
            "Birinci sayıyı girin: 12\n",
            "İkinci sayıyı girin: 45\n",
            "Üçüncü sayıyı girin: 67\n",
            "Girdiğiniz üç sayının toplamı: 124\n"
          ]
        }
      ]
    },
    {
      "cell_type": "code",
      "metadata": {
        "colab": {
          "base_uri": "https://localhost:8080/"
        },
        "id": "sS6H2SYLux55",
        "outputId": "fbdeb7ab-d5b5-45fc-b19b-1564807ba647"
      },
      "source": [
        "# Question-2 (Write a program that calculates body mass index from **height**\n",
        "# and **weight** entered by the user.)\n",
        "\n",
        "height = float(input(\"Boyunuzu metre cinsinden yalnızca rakam ile yazınız: \"))\n",
        "weight = float(input(\"Kilonuzu kg cinsinden yalnızca rakam ile yazınız: \"))\n",
        "print(\"Vücut Kitle İndeksiniz: \", round(weight / (height * height)))"
      ],
      "execution_count": null,
      "outputs": [
        {
          "output_type": "stream",
          "name": "stdout",
          "text": [
            "Boyunuzu metre cinsinden yalnızca rakam ile yazınız: 1.88\n",
            "Kilonuzu kg cinsinden yalnızca rakam ile yazınız: 81\n",
            "Vücut Kitle İndeksiniz:  23\n"
          ]
        }
      ]
    },
    {
      "cell_type": "code",
      "metadata": {
        "colab": {
          "base_uri": "https://localhost:8080/"
        },
        "id": "UHWlriWduyEp",
        "outputId": "0a76d6e8-3c26-4529-a6cf-522de7c9b60f"
      },
      "source": [
        "# Question-2 (Write a program that calculates body mass index from **height**\n",
        "# and **weight** entered by the user.)\n",
        "# A L T E R N A T I V E\n",
        "\n",
        "height = float(input(\"Boyunuzu metre cinsinden yalnızca rakam ile yazınız: \"))\n",
        "weight = float(input(\"Kilonuzu kg cinsinden yalnızca rakam ile yazınız: \"))\n",
        "print(\"Vücut Kitle İndeksiniz: \", (weight / (height * height)))"
      ],
      "execution_count": null,
      "outputs": [
        {
          "output_type": "stream",
          "name": "stdout",
          "text": [
            "Boyunuzu metre cinsinden yalnızca rakam ile yazınız: 1.88\n",
            "Kilonuzu kg cinsinden yalnızca rakam ile yazınız: 81\n",
            "Vücut Kitle İndeksiniz:  22.917609778180175\n"
          ]
        }
      ]
    },
    {
      "cell_type": "code",
      "metadata": {
        "colab": {
          "base_uri": "https://localhost:8080/"
        },
        "id": "603_XYZL1Tt5",
        "outputId": "ed8fa1ce-3d50-46ae-c055-30fb6d8a3741"
      },
      "source": [
        "# Question-2 (Write a program that calculates body mass index from **height**\n",
        "# and **weight** entered by the user.)\n",
        "# A L T E R N A T I V E - 2 \n",
        "\n",
        "height = float(input(\"Boyunuzu metre cinsinden yalnızca rakam ile yazınız: \"))\n",
        "weight = float(input(\"Kilonuzu kg cinsinden yalnızca rakam ile yazınız: \"))\n",
        "print(\"Vücut Kitle İndeksiniz: %.2f\" % (weight / (height * height)))"
      ],
      "execution_count": null,
      "outputs": [
        {
          "output_type": "stream",
          "name": "stdout",
          "text": [
            "Boyunuzu metre cinsinden yalnızca rakam ile yazınız: 1.88\n",
            "Kilonuzu kg cinsinden yalnızca rakam ile yazınız: 81\n",
            "Vücut Kitle İndeksiniz: 22.92\n"
          ]
        }
      ]
    },
    {
      "cell_type": "code",
      "metadata": {
        "colab": {
          "base_uri": "https://localhost:8080/"
        },
        "id": "k9JiDy5OAyXF",
        "outputId": "2900b034-e781-4fdf-d245-7ba422165fc3"
      },
      "source": [
        "# Question-3 (With your 200, how many pieces of material can you get for 11\n",
        "# each? How much money do you have left after buying?)\n",
        "\n",
        "toplam_para = 200\n",
        "urun_bedeli = 11\n",
        "\n",
        "print('200 birim para ile bu üründen toplam {} tane aldım. {} birim param kaldı.'.format(toplam_para // urun_bedeli, toplam_para % urun_bedeli)) # ÇOK UZUN BU VERSİYON (79 KARAKTERİ GEÇTİK)"
      ],
      "execution_count": null,
      "outputs": [
        {
          "output_type": "stream",
          "name": "stdout",
          "text": [
            "200 birim para ile bu üründen toplam 18 tane aldım. 2 birim param kaldı.\n"
          ]
        }
      ]
    },
    {
      "cell_type": "code",
      "metadata": {
        "colab": {
          "base_uri": "https://localhost:8080/"
        },
        "id": "nAoUUoKzvvRJ",
        "outputId": "17faa143-0658-4c70-d486-dc7179bf0467"
      },
      "source": [
        "# Question-3 (With your 200, how many pieces of material can you get for 11 each? How much money do you have left after buying?)\n",
        "# A L T E R N A T I V E\n",
        "\n",
        "toplam_para = 200\n",
        "urun_bedeli = 11\n",
        "urun_sayisi = toplam_para // urun_bedeli # floor division\n",
        "kalan_para = toplam_para % urun_bedeli # modulus\n",
        "\n",
        "print('200 birim para ile bu üründen toplam {} tane aldım. {} birim param kaldı.'.format(urun_sayisi, kalan_para))"
      ],
      "execution_count": null,
      "outputs": [
        {
          "output_type": "stream",
          "name": "stdout",
          "text": [
            "200 birim para ile bu üründen toplam 18 tane aldım. 2 birim param kaldı.\n"
          ]
        }
      ]
    },
    {
      "cell_type": "code",
      "metadata": {
        "colab": {
          "base_uri": "https://localhost:8080/"
        },
        "id": "WrM2N6AvvvjB",
        "outputId": "206d3e9c-88a8-40a7-978a-c76cc85a9469"
      },
      "source": [
        "# Question-4 (Ask the user for two numbers and assign these numbers to variables\n",
        "# and replace the values of these variables with each other.)\n",
        "\n",
        "x = input('Birinci sayıyı giriniz (x): ')\n",
        "y = input('İkinci sayıyı giriniz (y): ')\n",
        "\n",
        "# Geçici bir değer oluştur ve x ile y'nin değerlerini değiştir\n",
        "gecici_deger = x\n",
        "x = y\n",
        "y = gecici_deger\n",
        "\n",
        "print('Sayılar yer değiştirdikten sonra x sayısının yeni değeri: {}'.format(x))\n",
        "print('Sayılar yer değiştirdikten sonra y sayısının yeni değeri: {}'.format(y))"
      ],
      "execution_count": null,
      "outputs": [
        {
          "output_type": "stream",
          "name": "stdout",
          "text": [
            "Birinci sayıyı giriniz (x): 12\n",
            "İkinci sayıyı giriniz (y): 45\n",
            "Sayılar yer değiştirdikten sonra x sayısının yeni değeri: 45\n",
            "Sayılar yer değiştirdikten sonra y sayısının yeni değeri: 12\n"
          ]
        }
      ]
    },
    {
      "cell_type": "code",
      "metadata": {
        "colab": {
          "base_uri": "https://localhost:8080/"
        },
        "id": "onjcZ7z6wQYa",
        "outputId": "aea10683-10d2-4d5d-bffa-2d8022080c2e"
      },
      "source": [
        "# Question-4 (Ask the user for two numbers and assign these numbers to variables\n",
        "# and replace the values of these variables with each other.)\n",
        "# A L T E R N A T I V E\n",
        "\n",
        "x = input('Birinci sayıyı giriniz (x): ')\n",
        "y = input('İkinci sayıyı giriniz (y): ')\n",
        "\n",
        "x, y = y, x\n",
        "\n",
        "print('Sayılar yer değiştirdikten sonra x sayısının yeni değeri: {}'.format(x))\n",
        "print('Sayılar yer değiştirdikten sonra y sayısının yeni değeri: {}'.format(y))"
      ],
      "execution_count": null,
      "outputs": [
        {
          "output_type": "stream",
          "name": "stdout",
          "text": [
            "Birinci sayıyı giriniz (x): 12\n",
            "İkinci sayıyı giriniz (y): 45\n",
            "Sayılar yer değiştirdikten sonra x sayısının yeni değeri: 45\n",
            "Sayılar yer değiştirdikten sonra y sayısının yeni değeri: 12\n"
          ]
        }
      ]
    },
    {
      "cell_type": "code",
      "metadata": {
        "colab": {
          "base_uri": "https://localhost:8080/"
        },
        "id": "zWZbpqzPwQwR",
        "outputId": "62412d5f-7d35-4522-9477-c73b2177fb72"
      },
      "source": [
        "# Question-5 (Write a Python program to solve (x - y) * (x + y).)\n",
        "\n",
        "x = 4\n",
        "y = 3\n",
        "\n",
        "sonuc = x * x - y * y\n",
        "print(\"({} ** 2 - {} ** 2) = {}\".format(x, y, sonuc))"
      ],
      "execution_count": null,
      "outputs": [
        {
          "output_type": "stream",
          "name": "stdout",
          "text": [
            "(4 ** 2 - 3 ** 2) = 7\n"
          ]
        }
      ]
    },
    {
      "cell_type": "code",
      "metadata": {
        "colab": {
          "base_uri": "https://localhost:8080/"
        },
        "id": "b_QP8ZgPwQ6T",
        "outputId": "df8e77af-fe27-498a-92f8-1df832633a45"
      },
      "source": [
        "# Question-5 (Write a Python program to solve (x - y) * (x + y).)\n",
        "# A L T E R N A T I V E\n",
        "\n",
        "x = 4\n",
        "y = 3\n",
        "\n",
        "sonuc = (x - y) * (x + y)\n",
        "print(\"({} - {}) * ({} + {}) = {}\".format(x, y, x, y, sonuc))"
      ],
      "execution_count": null,
      "outputs": [
        {
          "output_type": "stream",
          "name": "stdout",
          "text": [
            "(4 - 3) * (4 + 3) = 7\n"
          ]
        }
      ]
    },
    {
      "cell_type": "code",
      "metadata": {
        "colab": {
          "base_uri": "https://localhost:8080/"
        },
        "id": "dWXbJzVXwRB5",
        "outputId": "76ed85fd-5373-4797-8458-f6929ac676ee"
      },
      "source": [
        "# Question-6 (Get word, seperator and repetition values from the user and print\n",
        "# the word\n",
        "# on the screen according to the given values.\n",
        "# Ex: word = ali, sep = /, repetition = 3 ----> ali/ali/ali)\n",
        "\n",
        "word = input('Tekrarlanmasını istediğiniz kelimeyi giriniz: ')\n",
        "repetition = input('Girdiğiniz {} kelimesi kaç kere tekrarlansın?'.format(word))\n",
        "seperator = input('Kelimelerin arasına koymak istediğiniz ayracı giriniz: ')\n",
        "\n",
        "repetiton = int (repetition)\n",
        "\n",
        "print((word + seperator) * (repetiton - 1) + word)"
      ],
      "execution_count": null,
      "outputs": [
        {
          "output_type": "stream",
          "name": "stdout",
          "text": [
            "Tekrarlanmasını istediğiniz kelimeyi giriniz: Asya\n",
            "Girdiğiniz Asya kelimesi kaç kere tekrarlansın?7\n",
            "Kelimelerin arasına koymak istediğiniz ayracı giriniz: /\n",
            "Asya/Asya/Asya/Asya/Asya/Asya/Asya\n"
          ]
        }
      ]
    },
    {
      "cell_type": "code",
      "metadata": {
        "colab": {
          "base_uri": "https://localhost:8080/"
        },
        "id": "WlD_SnSgwRrg",
        "outputId": "8d74cb09-a2f1-4b24-b4a9-44d134cfbcba"
      },
      "source": [
        "# Question-6 (Get word, seperator and repetition values from the user and print\n",
        "# the word\n",
        "# on the screen according to the given values.\n",
        "# Ex: word = ali, sep = /, repetition = 3 ----> ali/ali/ali)\n",
        "# A L T E R N A T I V E\n",
        "\n",
        "word = input('Tekrarlanmasını istediğiniz kelimeyi giriniz: ')\n",
        "repetition = int(input('Girdiğiniz {} kelimesi kaç kere tekrarlansın?'.format(word)))\n",
        "seperator= input('Kelimelerin arasına koymak istediğiniz ayracı giriniz: ')\n",
        "\n",
        "text = (word+f'{seperator}')*repetition\n",
        "\n",
        "print(text.rstrip(f'{seperator}'))"
      ],
      "execution_count": null,
      "outputs": [
        {
          "output_type": "stream",
          "name": "stdout",
          "text": [
            "Tekrarlanmasını istediğiniz kelimeyi giriniz: Asya\n",
            "Girdiğiniz Asya kelimesi kaç kere tekrarlansın?7\n",
            "Kelimelerin arasına koymak istediğiniz ayracı giriniz: /\n",
            "Asya/Asya/Asya/Asya/Asya/Asya/Asya\n"
          ]
        }
      ]
    },
    {
      "cell_type": "code",
      "metadata": {
        "colab": {
          "base_uri": "https://localhost:8080/"
        },
        "id": "lgtz4Yd4wR04",
        "outputId": "b29adf27-d58b-4d10-d757-45ac93ce315e"
      },
      "source": [
        "# Question-7 (What will be the output of the following syntax?) - Do not run the the code, try to figure out in your mind.\n",
        "\n",
        "print(True and False and (not True and False) and not (True or False))"
      ],
      "execution_count": null,
      "outputs": [
        {
          "output_type": "stream",
          "name": "stdout",
          "text": [
            "False\n"
          ]
        }
      ]
    },
    {
      "cell_type": "code",
      "metadata": {
        "colab": {
          "base_uri": "https://localhost:8080/"
        },
        "id": "biOoZjI3wR-g",
        "outputId": "ba392450-2b15-43bc-86f5-10ad706ea037"
      },
      "source": [
        "# Question-8 (Do not run the code, try to figure out in your mind.)\n",
        "\n",
        "# What will be the output of the following syntax :\n",
        "\n",
        "print(True and False and not \"False\" and None and (\"None\" or None))"
      ],
      "execution_count": null,
      "outputs": [
        {
          "output_type": "stream",
          "name": "stdout",
          "text": [
            "False\n"
          ]
        }
      ]
    },
    {
      "cell_type": "code",
      "metadata": {
        "colab": {
          "base_uri": "https://localhost:8080/"
        },
        "id": "LuBJaI26wSHz",
        "outputId": "50b3f5e9-68d7-4a20-f345-2406cc8b0a90"
      },
      "source": [
        "# Question-9 (Do not run the code, try to figure out in your mind.)\n",
        "\n",
        "# What will be the output of the following syntax :\n",
        "\n",
        "print(\"clarusway\" and 0 and not \"\" and False and (\" \" or None))"
      ],
      "execution_count": null,
      "outputs": [
        {
          "output_type": "stream",
          "name": "stdout",
          "text": [
            "0\n"
          ]
        }
      ]
    },
    {
      "cell_type": "code",
      "metadata": {
        "colab": {
          "base_uri": "https://localhost:8080/"
        },
        "id": "CkLmnBsfvvrq",
        "outputId": "6587a333-d551-4f0a-dd09-d112ff64436f"
      },
      "source": [
        "# .join() kullanımı\n",
        "\n",
        "myTuple = (\"John\", \"Peter\", \"Vicky\")\n",
        "\n",
        "x = \"#\".join(myTuple)\n",
        "\n",
        "print(x)"
      ],
      "execution_count": null,
      "outputs": [
        {
          "output_type": "stream",
          "name": "stdout",
          "text": [
            "John#Peter#Vicky\n"
          ]
        }
      ]
    },
    {
      "cell_type": "code",
      "metadata": {
        "colab": {
          "base_uri": "https://localhost:8080/"
        },
        "id": "Gl0b06CAg0Hp",
        "outputId": "3a28a400-ca0e-42f7-fb0d-97fde5a42a24"
      },
      "source": [
        "# B U   B İ R   B İ L G İ   N O T U D U R\n",
        "\n",
        "# Python'da kullanıcıdan veri alma - input() Fonksiyonu \n",
        "\n",
        "\n",
        "# \"\"\"\n",
        "#     input() fonksiyonu kullanıcının verdiği bilgileri\n",
        "#     default olarak string şeklinde tutmaktadır. Bu  nedenle\n",
        "#     başka bir veri türü girdiğimizde bunu veri tipi\n",
        "#     dönüşüm fonksiyonları aracılığı ile dönüştürmemiz gerekmektedir.\n",
        "#     Örneğin:\n",
        "# \"\"\"\n",
        "\n",
        "\n",
        "sayi_1 = input(\"Lütfen bir tamsayı değeri giriniz : \")\n",
        "# Kullanıcı 5 sayısını girdiğinde\n",
        "print(sayi_1)\n",
        "# Output: 5\n",
        "print(type(sayi_1))\n",
        "# Output: <class 'str'>\n",
        "\n",
        "# \"\"\"\n",
        "#     Burada görüldüğü gibi kullanıcıdan bir tamsayı değeri\n",
        "#     istiyoruz. Ancak input() fonksiyonu bunu string ifade olarak\n",
        "#     değerlendiriyor. Bu durumda tip dönüşüm fonksiyonunu\n",
        "#     hem veriyi alırken uygulayabiliriz. Hem de veriyi aldıktan sonra\n",
        "#     uygulayabiliriz.\n",
        "# \"\"\"\n",
        "\n",
        "# Veriyi alırken tip dönüşüm fonksiyonu kullanmak\n",
        "\n",
        "sayi_2 = int(input(\"Lütfen bir tamsayı değeri giriniz : \"))\n",
        "# Kullanıcı 5 sayısını girdiğinde\n",
        "print(sayi_2)\n",
        "# Output: 5\n",
        "print(type(sayi_2))\n",
        "# Output: <class 'int'>\n",
        "\n",
        "\n",
        "\n",
        "# Veriyi aldıktan sonra tip dönüşüm fonksiyonu kullanmak\n",
        "\n",
        "\n",
        "sayi_3 = input(\"Lütfen bir tamsayı değeri giriniz :\")\n",
        "sayi_3 = int(sayi_3)\n",
        "# Kullanıcı 5 sayısını girdiğinde\n",
        "print(sayi_3)\n",
        "# Output: 5\n",
        "print(type(sayi_3))\n",
        "# Output: <class 'int'>"
      ],
      "execution_count": null,
      "outputs": [
        {
          "output_type": "stream",
          "name": "stdout",
          "text": [
            "Lütfen bir tamsayı değeri giriniz : 5\n",
            "5\n",
            "<class 'str'>\n",
            "Lütfen bir tamsayı değeri giriniz : 5\n",
            "5\n",
            "<class 'int'>\n",
            "Lütfen bir tamsayı değeri giriniz :5\n",
            "5\n",
            "<class 'int'>\n"
          ]
        }
      ]
    }
  ]
}