{
  "nbformat": 4,
  "nbformat_minor": 0,
  "metadata": {
    "colab": {
      "name": "03_December_Workshop",
      "provenance": [],
      "collapsed_sections": []
    },
    "kernelspec": {
      "name": "python3",
      "display_name": "Python 3"
    },
    "language_info": {
      "name": "python"
    }
  },
  "cells": [
    {
      "cell_type": "code",
      "metadata": {
        "id": "lX-ZayNlSFW9"
      },
      "source": [
        "fruits = {'Apples' : 5, 'Oranges' : 3, 'Bananas' : 4}"
      ],
      "execution_count": 2,
      "outputs": []
    },
    {
      "cell_type": "code",
      "metadata": {
        "colab": {
          "base_uri": "https://localhost:8080/"
        },
        "id": "aUo9dLrOTMHY",
        "outputId": "a2cf3316-69ef-42d8-90bd-f8ee37936af6"
      },
      "source": [
        "liste = []\n",
        "for x in fruits.keys() :\n",
        "  liste.append(x)\n",
        "print(liste)"
      ],
      "execution_count": 3,
      "outputs": [
        {
          "output_type": "stream",
          "name": "stdout",
          "text": [
            "['Apples', 'Oranges', 'Bananas']\n"
          ]
        }
      ]
    },
    {
      "cell_type": "code",
      "metadata": {
        "colab": {
          "base_uri": "https://localhost:8080/"
        },
        "id": "28cNKZE4TrGi",
        "outputId": "46c32884-9ac6-4234-a238-232457989b7c"
      },
      "source": [
        "fruits_name = [x for x in fruits.keys()]\n",
        "fruits_name"
      ],
      "execution_count": 6,
      "outputs": [
        {
          "output_type": "execute_result",
          "data": {
            "text/plain": [
              "['Apples', 'Oranges', 'Bananas']"
            ]
          },
          "metadata": {},
          "execution_count": 6
        }
      ]
    },
    {
      "cell_type": "code",
      "metadata": {
        "colab": {
          "base_uri": "https://localhost:8080/"
        },
        "id": "qi_qT9nqUJzQ",
        "outputId": "c6c46482-0e2e-4be0-ad2c-2457df9dae61"
      },
      "source": [
        "i = 5\n",
        "while True :\n",
        "  if i % 0xe == 0 :\n",
        "    break\n",
        "  print(i)\n",
        "  i += 1"
      ],
      "execution_count": 13,
      "outputs": [
        {
          "output_type": "stream",
          "name": "stdout",
          "text": [
            "5\n",
            "6\n",
            "7\n",
            "8\n",
            "9\n",
            "10\n",
            "11\n",
            "12\n",
            "13\n"
          ]
        }
      ]
    },
    {
      "cell_type": "code",
      "metadata": {
        "colab": {
          "base_uri": "https://localhost:8080/"
        },
        "id": "NGyZl32kVaZQ",
        "outputId": "d0364f80-59c3-424b-8560-e1ac71a00556"
      },
      "source": [
        "print(0xe)"
      ],
      "execution_count": 15,
      "outputs": [
        {
          "output_type": "stream",
          "name": "stdout",
          "text": [
            "14\n"
          ]
        }
      ]
    },
    {
      "cell_type": "code",
      "metadata": {
        "id": "GWkR09MfUlpO"
      },
      "source": [
        "x = 'abcd'\n",
        "for i in range(len(x)) :\n",
        "\n",
        "  i[x].upper()\n",
        "print(x)"
      ],
      "execution_count": 15,
      "outputs": []
    },
    {
      "cell_type": "code",
      "metadata": {
        "colab": {
          "base_uri": "https://localhost:8080/"
        },
        "id": "6It7DTOUVd41",
        "outputId": "534608c6-9a38-4414-8852-7b0838871a8a"
      },
      "source": [
        "x = 'abcd'\n",
        "for i in range(len(x)) :\n",
        "\n",
        "  x[i].upper()\n",
        "print(x)\n",
        "print(x.upper())"
      ],
      "execution_count": 17,
      "outputs": [
        {
          "output_type": "stream",
          "name": "stdout",
          "text": [
            "abcd\n",
            "ABCD\n"
          ]
        }
      ]
    },
    {
      "cell_type": "code",
      "metadata": {
        "colab": {
          "base_uri": "https://localhost:8080/"
        },
        "id": "9UfchI4QVeAb",
        "outputId": "2f9d8d06-600c-4479-eb25-be127372e757"
      },
      "source": [
        "k = [2, 3, 4]\n",
        "print(reversed(k))"
      ],
      "execution_count": 18,
      "outputs": [
        {
          "output_type": "stream",
          "name": "stdout",
          "text": [
            "<list_reverseiterator object at 0x7f30b86228d0>\n"
          ]
        }
      ]
    },
    {
      "cell_type": "code",
      "metadata": {
        "colab": {
          "base_uri": "https://localhost:8080/"
        },
        "id": "rcfPhs3jVeHF",
        "outputId": "7d34f3ec-1100-489c-8eb4-d4d2e3d20d6f"
      },
      "source": [
        "list(reversed(k))"
      ],
      "execution_count": 19,
      "outputs": [
        {
          "output_type": "execute_result",
          "data": {
            "text/plain": [
              "[4, 3, 2]"
            ]
          },
          "metadata": {},
          "execution_count": 19
        }
      ]
    },
    {
      "cell_type": "code",
      "metadata": {
        "colab": {
          "base_uri": "https://localhost:8080/"
        },
        "id": "xECvasYyVeNu",
        "outputId": "0d849fab-5647-4332-d093-e9c243af7fd1"
      },
      "source": [
        "[*reversed(k)]"
      ],
      "execution_count": 20,
      "outputs": [
        {
          "output_type": "execute_result",
          "data": {
            "text/plain": [
              "[4, 3, 2]"
            ]
          },
          "metadata": {},
          "execution_count": 20
        }
      ]
    },
    {
      "cell_type": "code",
      "metadata": {
        "colab": {
          "base_uri": "https://localhost:8080/"
        },
        "id": "rBfCdLSRVeT0",
        "outputId": "686671bf-f612-4c8a-9fd1-c475a46674fb"
      },
      "source": [
        "numbers = [*range(1,6)]\n",
        "list(map(lambda number: number ** 2, numbers))"
      ],
      "execution_count": 21,
      "outputs": [
        {
          "output_type": "execute_result",
          "data": {
            "text/plain": [
              "[1, 4, 9, 16, 25]"
            ]
          },
          "metadata": {},
          "execution_count": 21
        }
      ]
    },
    {
      "cell_type": "code",
      "metadata": {
        "colab": {
          "base_uri": "https://localhost:8080/"
        },
        "id": "sQaGvatad-_y",
        "outputId": "1096edd1-b906-4a91-e363-8ed08c2bc9ff"
      },
      "source": [
        "numbers = [*range(1,6)]\n",
        "list(filter(lambda x : x if x % 2 == 0 else None, numbers))"
      ],
      "execution_count": 22,
      "outputs": [
        {
          "output_type": "execute_result",
          "data": {
            "text/plain": [
              "[2, 4]"
            ]
          },
          "metadata": {},
          "execution_count": 22
        }
      ]
    }
  ]
}