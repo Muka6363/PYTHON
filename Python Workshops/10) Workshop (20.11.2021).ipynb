{
  "nbformat": 4,
  "nbformat_minor": 0,
  "metadata": {
    "colab": {
      "name": "Workshop_7_Answers",
      "provenance": [],
      "collapsed_sections": []
    },
    "kernelspec": {
      "name": "python3",
      "display_name": "Python 3"
    },
    "language_info": {
      "name": "python"
    }
  },
  "cells": [
    {
      "cell_type": "code",
      "metadata": {
        "colab": {
          "base_uri": "https://localhost:8080/"
        },
        "id": "rB3iEvcuclxF",
        "outputId": "4c6afec2-74c7-435d-8bfc-a78bc792d75d"
      },
      "source": [
        "for x in set('pqr') :\n",
        "  print(x*2)"
      ],
      "execution_count": 1,
      "outputs": [
        {
          "output_type": "stream",
          "name": "stdout",
          "text": [
            "pp\n",
            "rr\n",
            "qq\n"
          ]
        }
      ]
    },
    {
      "cell_type": "code",
      "metadata": {
        "colab": {
          "base_uri": "https://localhost:8080/"
        },
        "id": "6mse56daczLw",
        "outputId": "5375e7af-15e7-41bc-ee04-1485045fe9aa"
      },
      "source": [
        "d1 = {}\n",
        "d2 = {\"john\" : 40, \"peter\" : 45}\n",
        "d3 = {40 : \"john\", 45 : \"peter\"}\n",
        "\n",
        "print(type(d1), type(d2), type(d3))"
      ],
      "execution_count": 2,
      "outputs": [
        {
          "output_type": "stream",
          "name": "stdout",
          "text": [
            "<class 'dict'> <class 'dict'> <class 'dict'>\n"
          ]
        }
      ]
    },
    {
      "cell_type": "code",
      "metadata": {
        "colab": {
          "base_uri": "https://localhost:8080/"
        },
        "id": "dcV9LlIOczOs",
        "outputId": "050bad74-b9cf-4488-e190-73fb8d20f559"
      },
      "source": [
        "d = {\"john\":40, \"peter\":45}\n",
        "d[\"john\"]"
      ],
      "execution_count": 3,
      "outputs": [
        {
          "output_type": "execute_result",
          "data": {
            "text/plain": [
              "40"
            ]
          },
          "metadata": {},
          "execution_count": 3
        }
      ]
    },
    {
      "cell_type": "code",
      "metadata": {
        "colab": {
          "base_uri": "https://localhost:8080/"
        },
        "id": "yqjYiKoNczRH",
        "outputId": "3c9d94e4-6899-4043-855c-510f8b7dc9a1"
      },
      "source": [
        "d = {\"john\":40, \"peter\":45}\n",
        "print(list(d.keys()))"
      ],
      "execution_count": 4,
      "outputs": [
        {
          "output_type": "stream",
          "name": "stdout",
          "text": [
            "['john', 'peter']\n"
          ]
        }
      ]
    },
    {
      "cell_type": "code",
      "metadata": {
        "colab": {
          "base_uri": "https://localhost:8080/"
        },
        "id": "3UKiVNMdczTj",
        "outputId": "6eae2e9a-b485-4916-9d00-718dc566bfbf"
      },
      "source": [
        "a={}\n",
        "a['a']=1\n",
        "a['b']=[2,3,4]\n",
        "print(a)"
      ],
      "execution_count": 5,
      "outputs": [
        {
          "output_type": "stream",
          "name": "stdout",
          "text": [
            "{'a': 1, 'b': [2, 3, 4]}\n"
          ]
        }
      ]
    },
    {
      "cell_type": "code",
      "metadata": {
        "colab": {
          "base_uri": "https://localhost:8080/"
        },
        "id": "Y7xmPp4lczVm",
        "outputId": "5c3716e5-7f8d-497f-cb3a-465a362742dd"
      },
      "source": [
        "{'a': 1, 'b': [2, 3, 4]} == {'b': [2, 3, 4], 'a': 1}"
      ],
      "execution_count": 6,
      "outputs": [
        {
          "output_type": "execute_result",
          "data": {
            "text/plain": [
              "True"
            ]
          },
          "metadata": {},
          "execution_count": 6
        }
      ]
    },
    {
      "cell_type": "code",
      "metadata": {
        "colab": {
          "base_uri": "https://localhost:8080/"
        },
        "id": "iqEv6-KVczX1",
        "outputId": "2d73fc9c-39e4-4aa1-ac7e-b9834cbb96f6"
      },
      "source": [
        "z=set('abc')\n",
        "z.add('san')\n",
        "z.update(set(['p', 'q']))\n",
        "print(z)"
      ],
      "execution_count": 7,
      "outputs": [
        {
          "output_type": "stream",
          "name": "stdout",
          "text": [
            "{'san', 'p', 'q', 'a', 'c', 'b'}\n"
          ]
        }
      ]
    },
    {
      "cell_type": "code",
      "metadata": {
        "colab": {
          "base_uri": "https://localhost:8080/"
        },
        "id": "wEANLEfTd2ak",
        "outputId": "abbd001b-7d06-4754-eae4-2c546d63bd57"
      },
      "source": [
        "count, fruit, price = (2, 'apple', 3.5)\n",
        "count"
      ],
      "execution_count": 9,
      "outputs": [
        {
          "output_type": "execute_result",
          "data": {
            "text/plain": [
              "2"
            ]
          },
          "metadata": {},
          "execution_count": 9
        }
      ]
    },
    {
      "cell_type": "code",
      "metadata": {
        "colab": {
          "base_uri": "https://localhost:8080/"
        },
        "id": "jfgmO87fd8I5",
        "outputId": "abd84f09-56b7-452d-f85a-55d813ed40f9"
      },
      "source": [
        "college_years = ['Freshman', 'Sophomore', 'Junior', 'Senior']\n",
        "print(list(enumerate(college_years, 2019)))"
      ],
      "execution_count": 10,
      "outputs": [
        {
          "output_type": "stream",
          "name": "stdout",
          "text": [
            "[(2019, 'Freshman'), (2020, 'Sophomore'), (2021, 'Junior'), (2022, 'Senior')]\n"
          ]
        }
      ]
    }
  ]
}