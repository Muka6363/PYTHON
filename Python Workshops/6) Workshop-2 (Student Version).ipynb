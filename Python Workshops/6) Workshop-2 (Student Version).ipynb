{
  "nbformat": 4,
  "nbformat_minor": 5,
  "metadata": {
    "kernelspec": {
      "display_name": "Python 3",
      "language": "python",
      "name": "python3"
    },
    "language_info": {
      "codemirror_mode": {
        "name": "ipython",
        "version": 3
      },
      "file_extension": ".py",
      "mimetype": "text/x-python",
      "name": "python",
      "nbconvert_exporter": "python",
      "pygments_lexer": "ipython3",
      "version": "3.8.8"
    },
    "colab": {
      "name": "Workshop_2_Python_Student_Version.ipynb",
      "provenance": [],
      "collapsed_sections": [],
      "toc_visible": true
    }
  },
  "cells": [
    {
      "cell_type": "markdown",
      "metadata": {
        "id": "cec2380e"
      },
      "source": [
        "### Code Challenge -1\n",
        "\n",
        "<div class=\"alert alert-block alert-info\">\n",
        "    <b>💡Objective:</b>\n",
        "    <ul>\n",
        "        <li>To improve your <b>boolean logic</b> and <b>arithmetic operator algorithm</b>&nbsp;skills.</li>\n",
        "    </ul>\n",
        "</div>\n",
        "\n",
        "- Using the all following items once each, set a correct boolean expression that returns `write me`. Use the `print()` function to display the result.\n",
        "\n",
        "```python\n",
        "0\n",
        "and\n",
        "not\n",
        "\"write me\"\n",
        "```"
      ],
      "id": "cec2380e"
    },
    {
      "cell_type": "markdown",
      "metadata": {
        "id": "bd5961ea"
      },
      "source": [
        "### Solution - 1"
      ],
      "id": "bd5961ea"
    },
    {
      "cell_type": "code",
      "metadata": {
        "id": "f591cc23"
      },
      "source": [
        "print()"
      ],
      "id": "f591cc23",
      "execution_count": null,
      "outputs": []
    },
    {
      "cell_type": "markdown",
      "metadata": {
        "id": "ff55f195"
      },
      "source": [
        "### Code Challenge-2\n",
        "\n",
        "<div class=\"alert alert-block alert-info\">\n",
        "    <b>💡Objective:</b>\n",
        "    <ul>\n",
        "        <li>To improve your <b>boolean logic algorithm</b>&nbsp;and truth value skills.</li>\n",
        "    </ul>\n",
        "</div>\n",
        "\n",
        "- Find out if a given year is a \"leap\" year.\n",
        "\n",
        "  - In the Gregorian calendar, three criteria must be taken into account to identify leap years:\n",
        "  \n",
        "    - The year must be evenly divisible by 4;\n",
        "    - If the year can also be evenly divided by 100, it is not a leap year; unless...(next one)\n",
        "    - The year is also evenly divisible by 400. Then it is a leap year.\n",
        "\n",
        "- According to these rules, the years 2000 and 2400 are leap years, while 1800, 1900, 2100, 2200, 2300, and 2500 are not the leap years.\n",
        "\n",
        "- Write a Python program that;\n",
        "  - Takes a 4-digit year from the user,\n",
        "  - Prints `True` if the given year by the user is a leap year, prints `False` otherwise.\n",
        "  \n",
        "> Note that; this question is famous on the web, so that do it yourself to get more benefits from it."
      ],
      "id": "ff55f195"
    },
    {
      "cell_type": "markdown",
      "metadata": {
        "id": "55bc3ee3"
      },
      "source": [
        "### Solution-2"
      ],
      "id": "55bc3ee3"
    },
    {
      "cell_type": "code",
      "metadata": {
        "id": "2f651282"
      },
      "source": [
        "\n"
      ],
      "id": "2f651282",
      "execution_count": null,
      "outputs": []
    },
    {
      "cell_type": "markdown",
      "metadata": {
        "id": "22a552e5"
      },
      "source": [
        "### Code Challenge-3\n",
        "\n",
        "<p></p>\n",
        "<div class=\"alert alert-block alert-info\">\n",
        "    <b>💡Objective:</b>\n",
        "    <ul>\n",
        "        <li>To improve your <b>collection </b>type <b>knowledge, </b>using<b> </b><span>new </span><span>built-in<b> function comprehension, string formatting</b></span>&nbsp;and <b>problem solving</b> skills.</li>\n",
        "    </ul>\n",
        "</div>\n",
        "\n",
        "<b>Task - 1 :</b><br>You work for a manufacturer as a programmer and\n",
        "have been asked to calculate the\n",
        "<b>total profit</b> made on the sales of a product. You are given a dictionary (<code>sales</code>) containing the <span><i>cost </i>price</span><span> </span>per unit (in dollars), <span><i>sell </i>price</span><span> </span>per unit (in dollars), and\n",
        "the <span><span>beginning</span></span><i> inventory</i>. Write a program to return the <b>total profit&nbsp;</b>made, <b>rounded&nbsp;</b>to the nearest dollar. Assume all of the <i>inventory</i> has been sold. The <i>name</i> and the <i>keys</i> of\n",
        "the dictionary are constant, so use them as they are.<br>\n",
        "<hr>\n",
        "\n",
        "\n",
        "<p>The example of the <i>values</i> (<i>sell</i>-<i>cost </i>value,&nbsp;<i>inventory</i>) and total <i>profit </i>:</p>\n",
        "\n",
        "```python\n",
        "sales = {\n",
        "  \"cost_value\": 31.87,\n",
        "  \"sell_value\": 45.00,\n",
        "  \"inventory\": 1000\n",
        "}  \n",
        "\n",
        "# the profit will be : 13130\n",
        "````\n",
        "\n",
        "<hr>\n",
        "<p><b>Task - 2 :</b><br>Your boss wants you to prepare the <b>payrolls</b> of the workers in your department. You have to convert the amount of dollars into <i>payroll </i>format. In order to help move things along, you have volunteered to write a code that\n",
        "    will take a float and return the money in the following format (as <i>dollars</i> and <i>cents</i>).&nbsp;</p>\n",
        "<p><br>\n",
        "</p>\n",
        "\n",
        "- Examples :\n",
        "\n",
        "|Given Float Type `amount`|Desired Output|\n",
        "|--|--|\n",
        "|3|\\$3.00|\n",
        "|29.99|\\$29.99|\n",
        "|4.1|\\$4.10|\n",
        "\n",
        "The output should be float type as well and two digits after the period.<br><br>\n",
        "<p></p>"
      ],
      "id": "22a552e5"
    },
    {
      "cell_type": "markdown",
      "metadata": {
        "id": "98cd2f0e"
      },
      "source": [
        "### Solution-3"
      ],
      "id": "98cd2f0e"
    },
    {
      "cell_type": "code",
      "metadata": {
        "id": "576823cc"
      },
      "source": [
        "# Task-1\n",
        "\n"
      ],
      "id": "576823cc",
      "execution_count": null,
      "outputs": []
    },
    {
      "cell_type": "code",
      "metadata": {
        "id": "63fb6f4b"
      },
      "source": [
        "# Task-2\n",
        "\n"
      ],
      "id": "63fb6f4b",
      "execution_count": null,
      "outputs": []
    },
    {
      "cell_type": "code",
      "metadata": {
        "id": "d3907c41"
      },
      "source": [
        ""
      ],
      "id": "d3907c41",
      "execution_count": null,
      "outputs": []
    }
  ]
}