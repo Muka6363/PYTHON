{
  "nbformat": 4,
  "nbformat_minor": 0,
  "metadata": {
    "kernelspec": {
      "display_name": "Python 3",
      "language": "python",
      "name": "python3"
    },
    "language_info": {
      "codemirror_mode": {
        "name": "ipython",
        "version": 3
      },
      "file_extension": ".py",
      "mimetype": "text/x-python",
      "name": "python",
      "nbconvert_exporter": "python",
      "pygments_lexer": "ipython3",
      "version": "3.7.3"
    },
    "colab": {
      "name": "Workshop_3_Python_Lead.ipynb",
      "provenance": [],
      "collapsed_sections": []
    }
  },
  "cells": [
    {
      "cell_type": "markdown",
      "metadata": {
        "id": "oJkR-VHMTFvX"
      },
      "source": [
        "<center><img src=\"https://github.com/aaron-clarusway/fullstack/blob/master/itf-logo.png?raw=true\"  alt=\"alt text\" width=\"200\"/></center>\n",
        "<br>\n",
        "<h1><p style=\"text-align: center; color:darkblue\">Python Basic</p><h1>\n",
        "<center><h1>Workshop - 3</h1></center>\n",
        "<p><img align=\"right\"\n",
        "  src=\"https://secure.meetupstatic.com/photos/event/3/1/b/9/600_488352729.jpeg\"  width=\"15px\"></p>\n",
        "<br>\n",
        "\n",
        "\n",
        "# Subject: Collections - Control Flow Statements"
      ]
    },
    {
      "cell_type": "markdown",
      "metadata": {
        "id": "t-F1zV5XTFvc"
      },
      "source": [
        "## Coding Challenge-1 : Find the Largest Number\n",
        "\n",
        "Purpose of the this coding challenge is to solve a simple sorting problem in Python.\n",
        "\n",
        "### Learning Outcomes\n",
        "\n",
        "At the end of the this coding challenge, students will be able to;\n",
        "\n",
        "- get a basic understanding of sorting algorithms.\n",
        "- demonstrate their knowledge of lists in python\n",
        "- implement loops to solve the problems in python\n",
        "- get a better understanding of computational thinking concepts\n",
        "\n",
        "### Problem Statement\n",
        "  \n",
        "- Write a python code that finds the largest number among the ``n`` numbers given by the user as input.\n",
        "\n",
        "- First, take `n` from the user, then take `n` numbers one by one and select-print the largest one.\n",
        "\n",
        "- It is forbidden to use ``max()`` function.  \n",
        "\n",
        "- Indicate which computational thinking concepts have you used.\n",
        "\n",
        "- Example for user inputs and respective outputs\n",
        "\n",
        "```text\n",
        "Input                Output\n",
        "---------------:     -------------------------:\n",
        "n = 5, 1 2 3 4 5     The largest number is:  5\n",
        "n = 3, 67 85 19      The largest number is:  85\n",
        "```"
      ]
    },
    {
      "cell_type": "markdown",
      "metadata": {
        "id": "xM4TNRMbTFvd"
      },
      "source": [
        "### Solution :"
      ]
    },
    {
      "cell_type": "code",
      "metadata": {
        "colab": {
          "base_uri": "https://localhost:8080/"
        },
        "id": "tGdggCraTFve",
        "outputId": "c47e1f85-e203-4997-8551-98a240ee1385"
      },
      "source": [
        "count=0\n",
        "array=[]\n",
        "size = int(input(\"How many numbers will you enter? \"))\n",
        "while count < size:\n",
        "    number= int(input('Please enter the number: '))\n",
        "    array.append(number)\n",
        "    count = count +1\n",
        "\n",
        "largest = array[0]\n",
        "for i in array:\n",
        "    if i > largest:\n",
        "        largest = i\n",
        "\n",
        "print(\"The largest number is : \", largest)"
      ],
      "execution_count": null,
      "outputs": [
        {
          "output_type": "stream",
          "name": "stdout",
          "text": [
            "How many numbers will you enter? 5\n",
            "Please enter the number: 4\n",
            "Please enter the number: 4\n",
            "Please enter the number: 4\n",
            "Please enter the number: 4\n",
            "Please enter the number: 9\n",
            "The largest number is :  9\n"
          ]
        }
      ]
    },
    {
      "cell_type": "code",
      "metadata": {
        "colab": {
          "base_uri": "https://localhost:8080/",
          "height": 129
        },
        "id": "SYsUWxtzpu5Q",
        "outputId": "45e1eced-2e08-4b46-dc09-d1cfd4722e29"
      },
      "source": [
        "liste = []\n",
        "iteration = int(input(\"Please enter the number of iteraiton: \")\n",
        "\n",
        "for i in range(iteration):\n",
        "  number = int(input(\"Please enter the number: \"))\n",
        "  liste.append(number)\n",
        "  max_number = int()\n",
        "liste.sort()\n",
        "print(liste[-1])"
      ],
      "execution_count": null,
      "outputs": [
        {
          "output_type": "error",
          "ename": "SyntaxError",
          "evalue": "ignored",
          "traceback": [
            "\u001b[0;36m  File \u001b[0;32m\"<ipython-input-12-4fd865cb958a>\"\u001b[0;36m, line \u001b[0;32m4\u001b[0m\n\u001b[0;31m    for i in range(iteration):\u001b[0m\n\u001b[0m                             ^\u001b[0m\n\u001b[0;31mSyntaxError\u001b[0m\u001b[0;31m:\u001b[0m invalid syntax\n"
          ]
        }
      ]
    },
    {
      "cell_type": "markdown",
      "metadata": {
        "id": "jnhwgXUrTFvg"
      },
      "source": [
        "## Coding Challenge-2 : Group Anagrams\n",
        "\n",
        "Purpose of the this coding challenge is to solve a grouping algorithm in Python.\n",
        "\n",
        "### Learning Outcomes\n",
        "\n",
        "At the end of the this coding challenge, students will be able to;\n",
        "\n",
        "- get a basic understanding of grouping algorithms.\n",
        "- demonstrate their knowledge of lists, dicts in python\n",
        "- implement loops to solve the problems in python\n",
        "- get a better understanding of computational thinking concepts\n",
        "\n",
        "### Problem Statement\n",
        "  \n",
        "- Given a list of strings, group anagrams together.\n",
        "\n",
        "- Example:\n",
        "\n",
        "**Input:**\n",
        "```\n",
        "[\"eat\", \"tea\", \"tan\", \"ate\", \"nat\", \"bat\"],\n",
        "Output:\n",
        "[\n",
        "  [\"ate\",\"eat\",\"tea\"],\n",
        "  [\"nat\",\"tan\"],\n",
        "  [\"bat\"]\n",
        "]\n",
        "```\n",
        "Note:\n",
        "All inputs will be in lowercase.\n",
        "The order of your output does not matter."
      ]
    },
    {
      "cell_type": "markdown",
      "metadata": {
        "id": "gIhbIZJZTFvh"
      },
      "source": [
        "### Solution :"
      ]
    },
    {
      "cell_type": "code",
      "metadata": {
        "id": "Fn8-uoDlTFvh",
        "outputId": "c9faace1-ce12-4bda-bc02-f07a5ce8b047"
      },
      "source": [
        "strs = [\"eat\", \"tea\", \"tan\", \"ate\", \"nat\", \"bat\", \"cat\", \"tac\"]\n",
        "anag = {}\n",
        "for i in strs:\n",
        "    element = \"\".join(sorted(i))\n",
        "    if element in anag:\n",
        "        anag[element].append(i)\n",
        "    else:\n",
        "        anag[element] = [i]\n",
        "print(list(anag.values()))"
      ],
      "execution_count": null,
      "outputs": [
        {
          "name": "stdout",
          "output_type": "stream",
          "text": [
            "[['eat', 'tea', 'ate'], ['tan', 'nat'], ['bat'], ['cat', 'tac']]\n"
          ]
        }
      ]
    },
    {
      "cell_type": "code",
      "metadata": {
        "colab": {
          "base_uri": "https://localhost:8080/"
        },
        "id": "ZTyOhhE3U4KQ",
        "outputId": "d7b531dc-c9ad-4fa1-cd94-dbd0938a1430"
      },
      "source": [
        "strings = [\"eat\", \"tea\", \"tan\", \"ate\", \"nat\", \"bat\", \"cat\", \"tac\"]\n",
        "group = {}\n",
        "for i in strings :\n",
        "  kelime = \"\".join(sorted(i))\n",
        "  if kelime in group :\n",
        "    group[kelime].append(i)\n",
        "  else :\n",
        "    group[kelime] = [i]\n",
        "\n",
        "print(list(group.values()))"
      ],
      "execution_count": null,
      "outputs": [
        {
          "output_type": "stream",
          "name": "stdout",
          "text": [
            "[['eat', 'tea', 'ate'], ['tan', 'nat'], ['bat'], ['cat', 'tac']]\n"
          ]
        }
      ]
    },
    {
      "cell_type": "code",
      "metadata": {
        "colab": {
          "base_uri": "https://localhost:8080/"
        },
        "id": "ERX1YcafVq2v",
        "outputId": "34295139-8fb9-4f74-d39f-27186169a9ce"
      },
      "source": [
        "strs = [\"eat\", \"tea\", \"ate\"]\n"
      ],
      "execution_count": null,
      "outputs": [
        {
          "output_type": "execute_result",
          "data": {
            "text/plain": [
              "[0]"
            ]
          },
          "metadata": {},
          "execution_count": 13
        }
      ]
    },
    {
      "cell_type": "markdown",
      "metadata": {
        "id": "ZP9EjQgRTFvi"
      },
      "source": [
        "## Coding Challenge - 3: \n",
        "\n",
        "## *** This is an optional question - You don't have to solve this ***\n",
        "\n",
        "Calculating the Amount of Water to be Trapped on Terrain\n",
        "\n",
        "The purpose of this coding challenge is to write a program that calculates the amount of water that can be contained within the generated holes.\n",
        "\n",
        "### Learning Outcomes\n",
        "\n",
        "At the end of this coding challenge, students will be able to;\n",
        "\n",
        "- analyze a problem, identify, and apply programming knowledge for appropriate solution.\n",
        "\n",
        "- design, implement `while` loops effectively in Python to solve the given problem.\n",
        "\n",
        "- control loops effectively by using `if` and `control` statements.\n",
        "\n",
        "- demonstrate their knowledge of algorithmic design principles by using solving the problem effectively.\n",
        "\n",
        "### Problem Statement\n",
        "\n",
        "- Given an array of non-negative integers representing an elevation map as shown below where the width of each bar is 1, compute how much water will be trapped on terrain after raining. To clarify further, the black boxes represents terrain and its height, and the blue boxes represents the water that could be trapped on the terrain.\n",
        "\n",
        "<center><img src=\"https://raw.githubusercontent.com/andrewfade/myprojects/main/image.png\" /></center>\n",
        "\n",
        "- User can enter as many numbers as they want to represent elevation of the terrain.\n",
        "\n",
        "- You can assume all the inputs are valid, thus you don't have to do an input check.\n",
        "\n",
        "- At the end of the program write a comment that indicates which computational thinking heuristics you have used and how you used them.\n",
        "\n",
        "- Example of user inputs and respective outputs.\n",
        "\n",
        "```text\n",
        "Inputs\n",
        "------------------------------\n",
        "Type 'ok' when you are done: 5\n",
        "Type 'ok' when you are done: 4\n",
        "Type 'ok' when you are done: 5\n",
        "Type 'ok' when you are done: ok\n",
        "\n",
        "Output\n",
        "------\n",
        "1\n",
        "\n",
        "Inputs\n",
        "------------------------------\n",
        "Type 'ok' when you are done: 2\n",
        "Type 'ok' when you are done: 1\n",
        "Type 'ok' when you are done: 2\n",
        "Type 'ok' when you are done: 3\n",
        "Type 'ok' when you are done: 2\n",
        "Type 'ok' when you are done: 3\n",
        "Type 'ok' when you are done: ok\n",
        "\n",
        "Output\n",
        "------\n",
        "2\n",
        "\n",
        "Inputs\n",
        "------------------------------\n",
        "Type 'ok' when you are done: 6\n",
        "Type 'ok' when you are done: 5\n",
        "Type 'ok' when you are done: 8\n",
        "Type 'ok' when you are done: 9\n",
        "Type 'ok' when you are done: 2\n",
        "Type 'ok' when you are done: 4\n",
        "Type 'ok' when you are done: 3\n",
        "Type 'ok' when you are done: 6\n",
        "Type 'ok' when you are done: ok\n",
        "\n",
        "Output\n",
        "------\n",
        "10\n",
        "```"
      ]
    },
    {
      "cell_type": "markdown",
      "metadata": {
        "id": "MG_S9hfxTFvj"
      },
      "source": [
        "### Solution :"
      ]
    },
    {
      "cell_type": "code",
      "metadata": {
        "id": "Ci9JStQ-TFvk",
        "outputId": "77cdf312-98a4-4da6-d3e6-dba6fa73486e"
      },
      "source": [
        "# initialize the list of an integer array representing the elevation, and set it to empty\n",
        "height = []\n",
        "# Unless user types `ok`, get input of numbers from the user\n",
        "while True:\n",
        "    num = input(\"Type 'ok' when you are done: \")\n",
        "    # if the input is not equal to `ok`, add the input number to the height array\n",
        "    if num != \"ok\":\n",
        "        height.append(int(num))\n",
        "    # if the input equals to `ok`, get out of the while loop\n",
        "    else:\n",
        "        break\n",
        "# initialize areas which holds total amount of water to be trapped, and set to 0\n",
        "areas = 0\n",
        "# initialize maximum left and right, and set to 0\n",
        "max_l = max_r = 0\n",
        "# initialize left, and set to 0\n",
        "l = 0\n",
        "# initialize right and set to the last index of the input array\n",
        "r = len(height)-1\n",
        "# unless the current position of the height on left\n",
        "# is not greater than the one on right, run the loop\n",
        "while l < r:\n",
        "    # if the current position on left is lower than the right,\n",
        "    # max level on left determines the amount of water to be trapped.\n",
        "    if height[l] < height[r]:\n",
        "        # if the current height on left is greater than max height on left\n",
        "        # then the water not to be trapped, and set the max height to the new max\n",
        "        if height[l] > max_l:\n",
        "            max_l = height[l]\n",
        "        # otherwise, add the amount of water to be trapped.\n",
        "        else:\n",
        "            areas += max_l - height[l]\n",
        "        # increase current position on left by one\n",
        "        l += 1\n",
        "    # if the current position on left is higher than the right,\n",
        "    # max level on right determines the amount of water to be trapped.\n",
        "    else:\n",
        "        # if the current height on right is greater than max height on height\n",
        "        # then the water not to be trapped, and set the max height to the new max\n",
        "        if height[r] > max_r:\n",
        "            max_r = height[r]\n",
        "        # otherwise, add the amount of water to be trapped.\n",
        "        else:\n",
        "            areas += max_r - height[r]\n",
        "        # decrease current position on right by one\n",
        "        r -= 1\n",
        "# print the amount of water to be trapped\n",
        "print(\"\\nRain-trapped area : \", areas)"
      ],
      "execution_count": null,
      "outputs": [
        {
          "name": "stdout",
          "output_type": "stream",
          "text": [
            "Type 'ok' when you are done: 4\n",
            "Type 'ok' when you are done: 3\n",
            "Type 'ok' when you are done: 6\n",
            "Type 'ok' when you are done: 0\n",
            "Type 'ok' when you are done: 1\n",
            "Type 'ok' when you are done: 0\n",
            "Type 'ok' when you are done: 2\n",
            "Type 'ok' when you are done: ok\n",
            "\n",
            "Rain-trapped area :  6\n"
          ]
        }
      ]
    },
    {
      "cell_type": "code",
      "metadata": {
        "colab": {
          "base_uri": "https://localhost:8080/"
        },
        "id": "JxtsOiEQh__L",
        "outputId": "ace3d74e-a159-47e7-b250-5f869f436adc"
      },
      "source": [
        "height = []\n",
        "while True:\n",
        "  num = input(\"Type 'ok' when you are done: \")\n",
        "  if num != \"ok\":\n",
        "    height.append(int(num))\n",
        "  else:\n",
        "    break\n",
        "\n",
        "areas = 0\n",
        "max_l = max_r = 0\n",
        "l = 0\n",
        "r = len(height)-1\n",
        "\n",
        "while l < r:\n",
        "  if height[l] < height[r]:\n",
        "    if height[l] > max_l:\n",
        "      max_l = height[l]\n",
        "    else:\n",
        "      areas += max_l - height[l]\n",
        "        \n",
        "    l += 1\n",
        "    \n",
        "  else:\n",
        "    if height[r] > max_r:\n",
        "      max_r = height[r]\n",
        "    else:\n",
        "      areas += max_r - height[r]\n",
        "        \n",
        "    r -= 1\n",
        "\n",
        "print(\"\\nRain-trapped area : \", areas)"
      ],
      "execution_count": null,
      "outputs": [
        {
          "output_type": "stream",
          "name": "stdout",
          "text": [
            "Type 'ok' when you are done: 0\n",
            "Type 'ok' when you are done: 1\n",
            "Type 'ok' when you are done: 0\n",
            "Type 'ok' when you are done: 2\n",
            "Type 'ok' when you are done: 1\n",
            "Type 'ok' when you are done: 0\n",
            "Type 'ok' when you are done: 1\n",
            "Type 'ok' when you are done: 3\n",
            "Type 'ok' when you are done: 2\n",
            "Type 'ok' when you are done: 1\n",
            "Type 'ok' when you are done: 2\n",
            "Type 'ok' when you are done: 1\n",
            "Type 'ok' when you are done: ok\n",
            "\n",
            "Rain-trapped area :  6\n"
          ]
        }
      ]
    },
    {
      "cell_type": "code",
      "metadata": {
        "colab": {
          "base_uri": "https://localhost:8080/"
        },
        "id": "HPm-kkTovYwT",
        "outputId": "8cdad59d-7ea2-4d13-b054-b50ce7d2a21d"
      },
      "source": [
        "# Best Solution\n",
        "\n",
        "string = \"\"\n",
        "new_str = \"\"\n",
        "while True :\n",
        "  num = input(\"Type 'ok' when you are done: \")\n",
        "  if num == \"ok\" :\n",
        "    break\n",
        "  else :\n",
        "    string += num\n",
        "\n",
        "string = string.strip(\"0\")\n",
        "counter = string.count(\"0\")\n",
        "while string.strip(\"0\") != \"\" :\n",
        "  for i in string :\n",
        "    if int(i) > 0 :\n",
        "      new_str += str(int(i) - 1)\n",
        "    if i == \"0\" :\n",
        "      new_str += \"0\"\n",
        "  print(new_str)\n",
        "  string = new_str.strip(\"0\")\n",
        "  counter += string.count(\"0\")\n",
        "  new_str = \"\" # her döngü sonunda rahat rahat işlem yapabilmek için\n",
        "print(counter)"
      ],
      "execution_count": null,
      "outputs": [
        {
          "output_type": "stream",
          "name": "stdout",
          "text": [
            "Type 'ok' when you are done: 0\n",
            "Type 'ok' when you are done: 1\n",
            "Type 'ok' when you are done: 0\n",
            "Type 'ok' when you are done: 2\n",
            "Type 'ok' when you are done: 1\n",
            "Type 'ok' when you are done: 0\n",
            "Type 'ok' when you are done: 1\n",
            "Type 'ok' when you are done: 3\n",
            "Type 'ok' when you are done: 2\n",
            "Type 'ok' when you are done: 1\n",
            "Type 'ok' when you are done: 2\n",
            "Type 'ok' when you are done: 1\n",
            "Type 'ok' when you are done: ok\n",
            "00100021010\n",
            "00001000\n",
            "0\n",
            "6\n"
          ]
        }
      ]
    }
  ]
}