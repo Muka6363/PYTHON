{
 "cells": [
  {
   "cell_type": "markdown",
   "metadata": {},
   "source": [
    "# Dosya Okuma İşlemleri\n",
    "\n",
    "Bu derste dosya okuma işlemlerini görmeye çalışacağız."
   ]
  },
  {
   "cell_type": "markdown",
   "metadata": {},
   "source": [
    "Dosyaları okumak ve verileri almak için \"r\" kipiyle açmamız gerekiyor. \"r\" kipiyle açtığımız dosya eğer bulunmuyorsa \"FileNotFoundError\" hatası dönecektir. Şimdi bulunduğumuz dizinde bulunan \"bilgiler.txt\" dosyasını açalım."
   ]
  },
  {
   "cell_type": "code",
   "execution_count": 8,
   "metadata": {
    "collapsed": true
   },
   "outputs": [],
   "source": [
    "file = open(\"bilgiler.txt\",\"r\", encoding=\"utf-8\")"
   ]
  },
  {
   "cell_type": "code",
   "execution_count": 9,
   "metadata": {
    "collapsed": true
   },
   "outputs": [],
   "source": [
    "file.close()"
   ]
  },
  {
   "cell_type": "code",
   "execution_count": 10,
   "metadata": {},
   "outputs": [
    {
     "ename": "FileNotFoundError",
     "evalue": "[Errno 2] No such file or directory: 'bilgiler2.txt'",
     "output_type": "error",
     "traceback": [
      "\u001b[1;31m---------------------------------------------------------------------------\u001b[0m",
      "\u001b[1;31mFileNotFoundError\u001b[0m                         Traceback (most recent call last)",
      "\u001b[1;32m<ipython-input-10-4bbe98bb1ec9>\u001b[0m in \u001b[0;36m<module>\u001b[1;34m()\u001b[0m\n\u001b[1;32m----> 1\u001b[1;33m \u001b[0mfile\u001b[0m \u001b[1;33m=\u001b[0m \u001b[0mopen\u001b[0m\u001b[1;33m(\u001b[0m\u001b[1;34m\"bilgiler2.txt\"\u001b[0m\u001b[1;33m,\u001b[0m\u001b[1;34m\"r\"\u001b[0m\u001b[1;33m,\u001b[0m\u001b[0mencoding\u001b[0m\u001b[1;33m=\u001b[0m\u001b[1;34m\"utf-8\"\u001b[0m\u001b[1;33m)\u001b[0m  \u001b[1;31m# böyle bir dosya yok . O yüzden FileNotFoundError hatası döndü.\u001b[0m\u001b[1;33m\u001b[0m\u001b[0m\n\u001b[0m",
      "\u001b[1;31mFileNotFoundError\u001b[0m: [Errno 2] No such file or directory: 'bilgiler2.txt'"
     ]
    }
   ],
   "source": [
    "file = open(\"bilgiler2.txt\",\"r\",encoding=\"utf-8\")  # böyle bir dosya yok . O yüzden FileNotFoundError hatası döndü."
   ]
  },
  {
   "cell_type": "markdown",
   "metadata": {},
   "source": [
    "Dosya işlemlerini daha güvenli yazmak try,except bloklarını kullanabilirsiniz."
   ]
  },
  {
   "cell_type": "code",
   "execution_count": 11,
   "metadata": {},
   "outputs": [
    {
     "name": "stdout",
     "output_type": "stream",
     "text": [
      "Dosya Bulunamadı....\n"
     ]
    }
   ],
   "source": [
    "try:\n",
    "    file = open(\"bilgiler2.txt\",\"r\",encoding= \"utf-8\")\n",
    "except FileNotFoundError:\n",
    "    print(\"Dosya Bulunamadı....\")"
   ]
  },
  {
   "cell_type": "markdown",
   "metadata": {},
   "source": [
    "Peki bir dosyanın içinden bilgileri nasıl okuyacağız ? Bunun için Pythonda değişik yöntemler bulunuyor. İsterseniz bu yöntemleri tek tek görmeye çalışalım."
   ]
  },
  {
   "cell_type": "markdown",
   "metadata": {},
   "source": [
    "### For döngüsü ile okuma\n",
    "\n",
    "Şöyle bir kullanım dosyamızdaki herbir satırı tek tek okuyacaktır."
   ]
  },
  {
   "cell_type": "code",
   "execution_count": 14,
   "metadata": {
    "scrolled": true
   },
   "outputs": [
    {
     "name": "stdout",
     "output_type": "stream",
     "text": [
      "Mustafa Murat Coşkun\n",
      "\n",
      "Mehmet Gençol\n",
      "\n",
      "Oğuz Artıran\n",
      "\n",
      "Serhat Say\n",
      "\n",
      "Mert Erarslan\n",
      "\n"
     ]
    }
   ],
   "source": [
    "file = open(\"bilgiler.txt\",\"r\",encoding= \"utf-8\") # Dosyayı okuma kipiyle açıyoruz. Türkçe karaktere dikkat.\n",
    "\n",
    "for i in file: # Tıpkı listeler gibi dosyanın her bir satırı üzerinde geziniyoruz.\n",
    "    print(i) # Her bir satırı ekrana basıyoruz.\n",
    "file.close()"
   ]
  },
  {
   "cell_type": "markdown",
   "metadata": {},
   "source": [
    "Burada her bir satırımız boşluklu yazıldı. Bunun nedeni, hem her satır sonunda \"\\n\" karakterinin olması hem de print fonksiyonun bir alt satıra geçmek için boşluk bırakmasıdır. Bunu önlemek için varsayılan değer olarak \"\\n\" karakteri alan ***end*** parametresine kendimiz değer verebiliriz."
   ]
  },
  {
   "cell_type": "code",
   "execution_count": 15,
   "metadata": {},
   "outputs": [
    {
     "name": "stdout",
     "output_type": "stream",
     "text": [
      "Mustafa Murat Coşkun\n",
      "Mehmet Gençol\n",
      "Oğuz Artıran\n",
      "Serhat Say\n",
      "Mert Erarslan\n"
     ]
    }
   ],
   "source": [
    "file = open(\"bilgiler.txt\",\"r\",encoding= \"utf-8\") # Dosyayı okuma kipiyle açıyoruz. Türkçe karaktere dikkat.\n",
    "\n",
    "for i in file: # Tıpkı listeler gibi dosyanın her bir satırı üzerinde geziniyoruz.\n",
    "    print(i,end = \"\") # Her bir satırı ekrana basıyoruz. end parametresi \\n yerine boşluk alacak.\n",
    "file.close()"
   ]
  },
  {
   "cell_type": "markdown",
   "metadata": {},
   "source": [
    "### read() fonksiyonu\n",
    "\n",
    "read() fonksiyonu eğer içine hiçbir değer vermezsek bütün dosyamızı okuyacaktır.\n",
    "\n",
    "**read() fonksiyonuna değer vererek belli bir kısmı okumayı bir sonraki dersimizde görmeye çalışsak daha doğru olur.**"
   ]
  },
  {
   "cell_type": "code",
   "execution_count": 20,
   "metadata": {},
   "outputs": [
    {
     "name": "stdout",
     "output_type": "stream",
     "text": [
      "Dosya İçeriği:\n",
      "Mustafa Murat Coşkun\n",
      "Mehmet Gençol\n",
      "Oğuz Artıran\n",
      "Serhat Say\n",
      "Mert Erarslan\n",
      "\n"
     ]
    }
   ],
   "source": [
    "file = open(\"bilgiler.txt\",\"r\",encoding=\"utf-8\")\n",
    "\n",
    "icerik = file.read() \n",
    "\n",
    "print(\"Dosya İçeriği:\\n\",icerik,sep =\"\")\n",
    "\n",
    "file.close()"
   ]
  },
  {
   "cell_type": "markdown",
   "metadata": {},
   "source": [
    "read() fonksiyonuyla bir dosyayı okuduğumuzda dosya imlecimiz dosyanın __en sonuna gider__ ve read() fonksiyonu 2. okuma da artık boş string döner."
   ]
  },
  {
   "cell_type": "code",
   "execution_count": 30,
   "metadata": {},
   "outputs": [
    {
     "name": "stdout",
     "output_type": "stream",
     "text": [
      "1. Okuma : Dosya İçeriği:\n",
      "Mustafa Murat Coşkun\n",
      "Mehmet Gençol\n",
      "Oğuz Artıran\n",
      "Serhat Say\n",
      "Mert Erarslan\n",
      "\n",
      "2. Okuma : Dosya İçeriği:\n",
      "\n"
     ]
    }
   ],
   "source": [
    "file = open(\"bilgiler.txt\",\"r\",encoding=\"utf-8\")\n",
    "\n",
    "icerik = file.read() \n",
    "\n",
    "print(\"1. Okuma : Dosya İçeriği:\\n\",icerik,sep =\"\")\n",
    "\n",
    "icerik2 = file.read()\n",
    "\n",
    "\n",
    "print(\"2. Okuma : Dosya İçeriği:\\n\",icerik2,sep =\"\")\n",
    "\n",
    "file.close()"
   ]
  },
  {
   "cell_type": "markdown",
   "metadata": {},
   "source": [
    "### readline() fonksiyonu\n",
    "\n",
    "readline() fonksiyonu her çağrıldığında dosyanın sadece bir satırını okur. Her seferinde dosya imlecimiz (file) bir satır atlayarak devam eder."
   ]
  },
  {
   "cell_type": "code",
   "execution_count": 21,
   "metadata": {
    "collapsed": true
   },
   "outputs": [],
   "source": [
    "file = open(\"bilgiler.txt\",\"r\",encoding=\"utf-8\")"
   ]
  },
  {
   "cell_type": "code",
   "execution_count": 23,
   "metadata": {},
   "outputs": [
    {
     "name": "stdout",
     "output_type": "stream",
     "text": [
      "Mustafa Murat Coşkun\n",
      "\n"
     ]
    }
   ],
   "source": [
    "print(file.readline())"
   ]
  },
  {
   "cell_type": "code",
   "execution_count": 24,
   "metadata": {},
   "outputs": [
    {
     "name": "stdout",
     "output_type": "stream",
     "text": [
      "Mehmet Gençol\n",
      "\n"
     ]
    }
   ],
   "source": [
    "print(file.readline())"
   ]
  },
  {
   "cell_type": "code",
   "execution_count": 25,
   "metadata": {},
   "outputs": [
    {
     "name": "stdout",
     "output_type": "stream",
     "text": [
      "Oğuz Artıran\n",
      "\n"
     ]
    }
   ],
   "source": [
    "print(file.readline())"
   ]
  },
  {
   "cell_type": "code",
   "execution_count": 26,
   "metadata": {},
   "outputs": [
    {
     "name": "stdout",
     "output_type": "stream",
     "text": [
      "Serhat Say\n",
      "\n"
     ]
    }
   ],
   "source": [
    "print(file.readline())"
   ]
  },
  {
   "cell_type": "code",
   "execution_count": 27,
   "metadata": {},
   "outputs": [
    {
     "name": "stdout",
     "output_type": "stream",
     "text": [
      "Mert Erarslan\n",
      "\n"
     ]
    }
   ],
   "source": [
    "print(file.readline())"
   ]
  },
  {
   "cell_type": "code",
   "execution_count": 29,
   "metadata": {},
   "outputs": [
    {
     "name": "stdout",
     "output_type": "stream",
     "text": [
      "\n"
     ]
    }
   ],
   "source": [
    "print(file.readline()) # Okuyacak herhangi bir şey kalmayınca readline fonksiyonu boş string döner."
   ]
  },
  {
   "cell_type": "code",
   "execution_count": 31,
   "metadata": {
    "collapsed": true
   },
   "outputs": [],
   "source": [
    "file.close()"
   ]
  },
  {
   "cell_type": "markdown",
   "metadata": {},
   "source": [
    "### readlines() fonksiyonu\n",
    "\n",
    "readlines() fonksiyonu dosyanın bütün satırları bir liste şeklinde döner."
   ]
  },
  {
   "cell_type": "code",
   "execution_count": 40,
   "metadata": {
    "collapsed": true
   },
   "outputs": [],
   "source": [
    "file = open(\"bilgiler.txt\",\"r\",encoding=\"utf-8\")"
   ]
  },
  {
   "cell_type": "code",
   "execution_count": 41,
   "metadata": {},
   "outputs": [
    {
     "data": {
      "text/plain": [
       "['Mustafa Murat Coşkun\\n',\n",
       " 'Mehmet Gençol\\n',\n",
       " 'Oğuz Artıran\\n',\n",
       " 'Serhat Say\\n',\n",
       " 'Mert Erarslan\\n']"
      ]
     },
     "execution_count": 41,
     "metadata": {},
     "output_type": "execute_result"
    }
   ],
   "source": [
    "file.readlines()"
   ]
  },
  {
   "cell_type": "code",
   "execution_count": 42,
   "metadata": {
    "collapsed": true
   },
   "outputs": [],
   "source": [
    "file.close()"
   ]
  },
  {
   "cell_type": "code",
   "execution_count": null,
   "metadata": {
    "collapsed": true
   },
   "outputs": [],
   "source": []
  }
 ],
 "metadata": {
  "kernelspec": {
   "display_name": "Python 3",
   "language": "python",
   "name": "python3"
  },
  "language_info": {
   "codemirror_mode": {
    "name": "ipython",
    "version": 3
   },
   "file_extension": ".py",
   "mimetype": "text/x-python",
   "name": "python",
   "nbconvert_exporter": "python",
   "pygments_lexer": "ipython3",
   "version": "3.6.1"
  }
 },
 "nbformat": 4,
 "nbformat_minor": 2
}
