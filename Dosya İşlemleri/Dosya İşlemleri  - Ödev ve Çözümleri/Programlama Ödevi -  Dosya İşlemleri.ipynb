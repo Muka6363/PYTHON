{
 "cells": [
  {
   "cell_type": "markdown",
   "metadata": {},
   "source": [
    "## Programlama Ödevi -  Dosya İşlemleri\n",
    "\n",
    "### Proje 1 \n",
    "\n",
    "Kodlama egzersizimizde bir sınıfın harf notlarını hesapladığımız programı geliştirerek kalanları \"kalanlar.txt\" dosyasında ve geçenleri \"geçenler.txt\" dosyasına yazmaya çalışın.\n"
   ]
  },
  {
   "cell_type": "markdown",
   "metadata": {},
   "source": [
    "### Proje 2\n",
    "\n",
    "\"futbolcular.txt\" şeklinde bir dosya oluşturun ve içine Galatasaray,Fenerbahçe ve Beşiktaşta oynayan futbolcuları rastgele yerleştirin. Bu dosyadan herbir takımın futbolcularını ayırarak \"gs.txt\" , \"fb.txt\", \"bjk.txt\" şeklinde 3 farklı dosyaya yazın. \n",
    "\n",
    "\"futbolcular.txt\" dosyasının başlangıç hali şu şekilde olsun.\n",
    "\n",
    "\n",
    "                    Fernando Muslera,Galatasaray\n",
    "                    Atiba Hutchinson,Beşiktaş\n",
    "                    Simon Kjaer,Fenerbahçe\n",
    "                               //\n",
    "                               //\n",
    "                               //\n",
    "                               //\n",
    "                               //\n"
   ]
  },
  {
   "cell_type": "code",
   "execution_count": null,
   "metadata": {
    "collapsed": true
   },
   "outputs": [],
   "source": []
  }
 ],
 "metadata": {
  "kernelspec": {
   "display_name": "Python 3",
   "language": "python",
   "name": "python3"
  },
  "language_info": {
   "codemirror_mode": {
    "name": "ipython",
    "version": 3
   },
   "file_extension": ".py",
   "mimetype": "text/x-python",
   "name": "python",
   "nbconvert_exporter": "python",
   "pygments_lexer": "ipython3",
   "version": "3.6.1"
  }
 },
 "nbformat": 4,
 "nbformat_minor": 2
}
