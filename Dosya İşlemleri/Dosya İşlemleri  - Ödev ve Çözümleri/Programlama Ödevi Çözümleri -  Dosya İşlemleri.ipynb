{
 "cells": [
  {
   "cell_type": "markdown",
   "metadata": {},
   "source": [
    "## Çözümler\n",
    " \n",
    "### Proje 2 \n",
    " "
   ]
  },
  {
   "cell_type": "code",
   "execution_count": 2,
   "metadata": {
    "collapsed": true
   },
   "outputs": [],
   "source": [
    "with open(\"futbolcular.txt\",\"r\",encoding=\"utf-8\") as file:\n",
    "    gs = list()\n",
    "    bjk = list()\n",
    "    fb = list()\n",
    "    \n",
    "    for satır in file:\n",
    "        satır = satır[:-1]\n",
    "        satır_elemanları = satır.split(\",\")\n",
    "        if (satır_elemanları[1] == \"Fenerbahçe\"):\n",
    "            fb.append(satır + \"\\n\")\n",
    "        elif (satır_elemanları[1] == \"Galatasaray\"):\n",
    "            gs.append(satır + \"\\n\")\n",
    "\n",
    "        else:\n",
    "            bjk.append(satır + \"\\n\")\n",
    "    with open(\"gs.txt\",\"w\",encoding=\"utf-8\") as file1:\n",
    "        for i in gs:\n",
    "            file1.write(i)\n",
    "            \n",
    "            \n",
    "\n",
    "    with open(\"fb.txt\",\"w\",encoding=\"utf-8\") as file2:\n",
    "        for i in fb:\n",
    "            file2.write(i)\n",
    "    with open(\"bjk.txt\",\"w\",encoding=\"utf-8\") as file3:\n",
    "        for i in bjk:\n",
    "            file3.write(i)\n"
   ]
  },
  {
   "cell_type": "code",
   "execution_count": null,
   "metadata": {
    "collapsed": true
   },
   "outputs": [],
   "source": []
  }
 ],
 "metadata": {
  "kernelspec": {
   "display_name": "Python 3",
   "language": "python",
   "name": "python3"
  },
  "language_info": {
   "codemirror_mode": {
    "name": "ipython",
    "version": 3
   },
   "file_extension": ".py",
   "mimetype": "text/x-python",
   "name": "python",
   "nbconvert_exporter": "python",
   "pygments_lexer": "ipython3",
   "version": "3.6.1"
  }
 },
 "nbformat": 4,
 "nbformat_minor": 2
}
