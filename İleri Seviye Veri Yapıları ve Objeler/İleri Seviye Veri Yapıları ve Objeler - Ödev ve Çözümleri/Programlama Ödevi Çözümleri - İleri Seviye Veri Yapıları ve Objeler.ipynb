{
 "cells": [
  {
   "cell_type": "markdown",
   "metadata": {},
   "source": [
    "## Çözümler\n",
    "\n",
    "### Problem 1 \n",
    "\n"
   ]
  },
  {
   "cell_type": "code",
   "execution_count": 2,
   "metadata": {},
   "outputs": [
    {
     "name": "stdout",
     "output_type": "stream",
     "text": [
      "P : 1\n",
      "r : 6\n",
      "o : 1\n",
      "g : 1\n",
      "a : 5\n",
      "m : 2\n",
      "l : 4\n",
      "Ö : 1\n",
      "d : 1\n",
      "e : 8\n",
      "v : 3\n",
      "i : 5\n",
      "İ : 1\n",
      "S : 1\n",
      "y : 2\n",
      "V : 1\n",
      "Y : 1\n",
      "p : 2\n",
      "ı : 2\n",
      "O : 1\n",
      "b : 2\n",
      "j : 1\n",
      "n : 1\n"
     ]
    }
   ],
   "source": [
    "s =  \"ProgramlamaÖdeviİleriSeviyeVeriYapılarıveObjeleripynb\"\n",
    "frekans = dict()\n",
    "\n",
    "for karakter in s:\n",
    "    if (karakter in frekans):\n",
    "        frekans[karakter] += 1\n",
    "    else:\n",
    "        frekans[karakter] = 1\n",
    "for i,j in frekans.items():\n",
    "    \n",
    "    print(i,\":\",j)"
   ]
  },
  {
   "cell_type": "markdown",
   "metadata": {},
   "source": [
    "### Problem 2"
   ]
  },
  {
   "cell_type": "code",
   "execution_count": 4,
   "metadata": {},
   "outputs": [
    {
     "name": "stdout",
     "output_type": "stream",
     "text": [
      "MUSTAFAKEMAL\n"
     ]
    }
   ],
   "source": [
    "bas_harfler = \"\"\n",
    "\n",
    "with open(\"şiir.txt\",\"r\",encoding=\"utf-8\") as file:\n",
    "    for satır in file:\n",
    "        bas_harfler += satır[0]\n",
    "print(bas_harfler)"
   ]
  },
  {
   "cell_type": "markdown",
   "metadata": {},
   "source": [
    "### Problem 3 \n",
    "\n"
   ]
  },
  {
   "cell_type": "code",
   "execution_count": 9,
   "metadata": {},
   "outputs": [
    {
     "name": "stdout",
     "output_type": "stream",
     "text": [
      "coskun.m.murat@gmail.com\n",
      "example@xyz.com\n",
      "kerim@yahoo.com\n"
     ]
    }
   ],
   "source": [
    "with open(\"mailler.txt\",\"r\",encoding=\"utf-8\") as file:\n",
    "    for satır in file:\n",
    "        satır = satır[:-1]\n",
    "        if (satır.endswith(\".com\") and satır.find(\"@\") != -1):\n",
    "            print(satır)\n",
    "            "
   ]
  },
  {
   "cell_type": "markdown",
   "metadata": {},
   "source": [
    "### Problem 4\n",
    "\n"
   ]
  },
  {
   "cell_type": "code",
   "execution_count": 11,
   "metadata": {},
   "outputs": [
    {
     "name": "stdout",
     "output_type": "stream",
     "text": [
      "Ezgi Dağdeviren\n",
      "Kemal Atatürk\n",
      "Kerim Yılmaz\n",
      "Merve Polat\n",
      "Tarık Öztürk\n",
      "İlkay Dikmen\n",
      "Şükran Kaya\n"
     ]
    }
   ],
   "source": [
    "isim = [\"Kerim\",\"Tarık\",\"Ezgi\",\"Kemal\",\"İlkay\",\"Şükran\",\"Merve\"]\n",
    "\n",
    "soyisim = [\"Yılmaz\",\"Öztürk\",\"Dağdeviren\",\"Atatürk\",\"Dikmen\",\"Kaya\",\"Polat\"]\n",
    "\n",
    "liste = list(zip(isim,soyisim))\n",
    "\n",
    "liste.sort()\n",
    "\n",
    "for i,j in liste:\n",
    "    print(i,j)"
   ]
  }
 ],
 "metadata": {
  "kernelspec": {
   "display_name": "Python 3",
   "language": "python",
   "name": "python3"
  },
  "language_info": {
   "codemirror_mode": {
    "name": "ipython",
    "version": 3
   },
   "file_extension": ".py",
   "mimetype": "text/x-python",
   "name": "python",
   "nbconvert_exporter": "python",
   "pygments_lexer": "ipython3",
   "version": "3.6.1"
  }
 },
 "nbformat": 4,
 "nbformat_minor": 2
}
