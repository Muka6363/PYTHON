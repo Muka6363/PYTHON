{
 "cells": [
  {
   "cell_type": "markdown",
   "metadata": {},
   "source": [
    "# Enumerate Fonksiyonu"
   ]
  },
  {
   "cell_type": "markdown",
   "metadata": {},
   "source": [
    "Bu konuda enumerate fonksiyonunu öğrenmeye çalışacağız. ***enumerate*** fonksiyonunu daha iyi anlamak için ilk önce şu örneğe bakalım. "
   ]
  },
  {
   "cell_type": "code",
   "execution_count": 1,
   "metadata": {},
   "outputs": [
    {
     "name": "stdout",
     "output_type": "stream",
     "text": [
      "[(0, 'Elma'), (1, 'Armut'), (2, 'Muz'), (3, 'Kiraz')]\n"
     ]
    }
   ],
   "source": [
    "liste = [\"Elma\",\"Armut\",\"Muz\",\"Kiraz\"]\n",
    "\n",
    "# sonucu [(0,'Elma'),(1,'Armut'),(2,'Muz'),(3,'Kiraz')] yapmak istiyoruz.\n",
    "\n",
    "sonuç = list()\n",
    "\n",
    "i = 0\n",
    "\n",
    "for a in liste:\n",
    "    \n",
    "    sonuç.append((i,a))\n",
    "    i +=1\n",
    "print(sonuç)"
   ]
  },
  {
   "cell_type": "markdown",
   "metadata": {},
   "source": [
    "Yani aslında burada herbir elemanı **indekslerle** numaralandırıyor ve demet çiftleri oluşturuyoruz. ***for döngüsü*** yazarken bazen hem elemanları hem de indeksleri almak isteyebiliriz. Böyle bir durumda numaralandırma işlemi yapan ***enumerate*** fonksiyonunu kullanabiliriz."
   ]
  },
  {
   "cell_type": "code",
   "execution_count": 3,
   "metadata": {},
   "outputs": [
    {
     "data": {
      "text/plain": [
       "[(0, 'Elma'), (1, 'Armut'), (2, 'Muz'), (3, 'Kiraz')]"
      ]
     },
     "execution_count": 3,
     "metadata": {},
     "output_type": "execute_result"
    }
   ],
   "source": [
    "liste = [\"Elma\",\"Armut\",\"Muz\",\"Kiraz\"]\n",
    "list(enumerate(liste))"
   ]
  },
  {
   "cell_type": "markdown",
   "metadata": {},
   "source": [
    "Örneğin bir listenin çift indekslerini(0,2,4)  enumerate kullanarak nasıl yazdırabiliriz ? Hemen bakalım."
   ]
  },
  {
   "cell_type": "code",
   "execution_count": 4,
   "metadata": {},
   "outputs": [
    {
     "name": "stdout",
     "output_type": "stream",
     "text": [
      "Eleman:  a\n",
      "Eleman:  c\n",
      "Eleman:  e\n",
      "Eleman:  g\n"
     ]
    }
   ],
   "source": [
    "liste = [\"a\",\"b\",\"c\",\"d\",\"e\",\"f\",\"g\"]\n",
    "\n",
    "for index,eleman in enumerate(liste):\n",
    "    if (index % 2 == 0):\n",
    "        print(\"Eleman: \",eleman)\n",
    "    \n",
    "    \n"
   ]
  },
  {
   "cell_type": "markdown",
   "metadata": {},
   "source": [
    "***enumerate,*** for döngülerinde çoğu zaman işlerimizi oldukça kolaylaştırmaktadır. Bu fonksiyonlar aklınızda bulunsun. Bir gün elbet ihtiyacınız olacak :)\n",
    "\n",
    "Bir sonraki derste diğer gömülü fonksiyonumuzu öğrenmeye çalışacağız.\n"
   ]
  },
  {
   "cell_type": "code",
   "execution_count": null,
   "metadata": {
    "collapsed": true
   },
   "outputs": [],
   "source": []
  }
 ],
 "metadata": {
  "kernelspec": {
   "display_name": "Python 3",
   "language": "python",
   "name": "python3"
  },
  "language_info": {
   "codemirror_mode": {
    "name": "ipython",
    "version": 3
   },
   "file_extension": ".py",
   "mimetype": "text/x-python",
   "name": "python",
   "nbconvert_exporter": "python",
   "pygments_lexer": "ipython3",
   "version": "3.6.1"
  }
 },
 "nbformat": 4,
 "nbformat_minor": 2
}
