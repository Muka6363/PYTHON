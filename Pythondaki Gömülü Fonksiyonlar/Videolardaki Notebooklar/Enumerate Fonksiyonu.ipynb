{
 "cells": [
  {
   "cell_type": "code",
   "execution_count": 6,
   "metadata": {},
   "outputs": [
    {
     "name": "stdout",
     "output_type": "stream",
     "text": [
      "[(0, 'Elma'), (1, 'Armut'), (2, 'Muz'), (3, 'Kiraz')]\n"
     ]
    }
   ],
   "source": [
    "liste = [\"Elma\",\"Armut\",\"Muz\",\"Kiraz\"]\n",
    "\n",
    "i = 0\n",
    "\n",
    "sonuç = list()\n",
    "\n",
    "while (i < len(liste)):\n",
    "    sonuç.append((i,liste[i]))\n",
    "    \n",
    "    i += 1\n",
    "print(sonuç)\n"
   ]
  },
  {
   "cell_type": "code",
   "execution_count": 7,
   "metadata": {},
   "outputs": [
    {
     "data": {
      "text/plain": [
       "<enumerate at 0x300aeeb2d0>"
      ]
     },
     "execution_count": 7,
     "metadata": {},
     "output_type": "execute_result"
    }
   ],
   "source": [
    "enumerate(liste)"
   ]
  },
  {
   "cell_type": "code",
   "execution_count": 8,
   "metadata": {},
   "outputs": [
    {
     "data": {
      "text/plain": [
       "[(0, 'Elma'), (1, 'Armut'), (2, 'Muz'), (3, 'Kiraz')]"
      ]
     },
     "execution_count": 8,
     "metadata": {},
     "output_type": "execute_result"
    }
   ],
   "source": [
    "list(enumerate(liste))"
   ]
  },
  {
   "cell_type": "code",
   "execution_count": 9,
   "metadata": {},
   "outputs": [
    {
     "name": "stdout",
     "output_type": "stream",
     "text": [
      "0 Elma\n",
      "1 Armut\n",
      "2 Muz\n",
      "3 Kiraz\n"
     ]
    }
   ],
   "source": [
    "for i,j in enumerate(liste):\n",
    "    print(i,j)"
   ]
  },
  {
   "cell_type": "code",
   "execution_count": 10,
   "metadata": {
    "collapsed": true
   },
   "outputs": [],
   "source": [
    "liste = [\"a\",\"b\",\"c\",\"d\",\"e\",\"f\",\"g\"]"
   ]
  },
  {
   "cell_type": "code",
   "execution_count": 11,
   "metadata": {},
   "outputs": [
    {
     "name": "stdout",
     "output_type": "stream",
     "text": [
      "a\n",
      "c\n",
      "e\n",
      "g\n"
     ]
    }
   ],
   "source": [
    "for i,j in enumerate(liste):\n",
    "    if (i % 2 == 0):\n",
    "        print(j)\n",
    "    "
   ]
  },
  {
   "cell_type": "code",
   "execution_count": null,
   "metadata": {
    "collapsed": true
   },
   "outputs": [],
   "source": []
  }
 ],
 "metadata": {
  "kernelspec": {
   "display_name": "Python 3",
   "language": "python",
   "name": "python3"
  },
  "language_info": {
   "codemirror_mode": {
    "name": "ipython",
    "version": 3
   },
   "file_extension": ".py",
   "mimetype": "text/x-python",
   "name": "python",
   "nbconvert_exporter": "python",
   "pygments_lexer": "ipython3",
   "version": "3.6.1"
  }
 },
 "nbformat": 4,
 "nbformat_minor": 2
}
