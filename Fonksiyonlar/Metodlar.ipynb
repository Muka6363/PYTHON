{
 "cells": [
  {
   "cell_type": "markdown",
   "metadata": {
    "collapsed": true
   },
   "source": [
    "# Metodlar\n",
    "\n"
   ]
  },
  {
   "cell_type": "markdown",
   "metadata": {},
   "source": [
    "Şimdiye kadar Pythonda ve programlamada temel birçok şey öğrendik ve artık Pythondaki ve programlamadaki en önemli bölüme geldik. Fonksiyonlar bölümünde gerçek hayattan benzetmeler yaparak fonksiyon kullanma mantığını anlamaya çalışacağız. İlk olarak **Metod** nedir anlamaya çalışalım.\n",
    "\n"
   ]
  },
  {
   "cell_type": "markdown",
   "metadata": {},
   "source": [
    "### Metod nedir ? \n",
    "\n",
    "Şimdiye kadar Pythonda kullanabildiğimiz bir çok veri tipi gördük ve bazı veritipleri üzerinde bu veritiplerinin metodlarını kullandık. Aslında bu veritiplerin oluşturulan her bir değişken Pythonda **obje( object)** olarak düşünülür ve Python geliştiricileri bu objelere birçok metod tanımlamıştır. Peki nedir bu metodlar ? \n",
    "\n",
    "**Metodlar**  bir obje üzerinde belli işlemleri gerçekleştiren  objelere özgü fonksiyonlardır ve objelerin üzerinde metodlar şu şekilde kullanılır.\n",
    "\n",
    "**----------------------------------------------------------------------------------------------------------------------------** \n",
    "    obje.herhangi_bir_metod(değerler(opsiyonel))\n",
    "**----------------------------------------------------------------------------------------------------------------------------**\n",
    "\n",
    "Örneğin bir **liste objesi** oluşturduğumuz zaman bu objenin üzerinde belli metodları uygulayabiliriz.\n"
   ]
  },
  {
   "cell_type": "code",
   "execution_count": 4,
   "metadata": {
    "collapsed": true
   },
   "outputs": [],
   "source": [
    "liste =  [1,2,3,4,5,6]\n",
    "\n",
    "liste.insert(1,\"Murat\")\n",
    "\n"
   ]
  },
  {
   "cell_type": "code",
   "execution_count": 5,
   "metadata": {},
   "outputs": [
    {
     "data": {
      "text/plain": [
       "[1, 'Murat', 2, 3, 4, 5, 6]"
      ]
     },
     "execution_count": 5,
     "metadata": {},
     "output_type": "execute_result"
    }
   ],
   "source": [
    "liste"
   ]
  },
  {
   "cell_type": "code",
   "execution_count": 6,
   "metadata": {},
   "outputs": [
    {
     "data": {
      "text/plain": [
       "6"
      ]
     },
     "execution_count": 6,
     "metadata": {},
     "output_type": "execute_result"
    }
   ],
   "source": [
    "liste.pop()"
   ]
  },
  {
   "cell_type": "code",
   "execution_count": 7,
   "metadata": {},
   "outputs": [
    {
     "data": {
      "text/plain": [
       "[1, 'Murat', 2, 3, 4, 5]"
      ]
     },
     "execution_count": 7,
     "metadata": {},
     "output_type": "execute_result"
    }
   ],
   "source": [
    "liste"
   ]
  },
  {
   "cell_type": "markdown",
   "metadata": {},
   "source": [
    "Örneğin liste metodlarına  erişmek için Jupyterde **Tab** tuşuna basabiliriz. Ayrıca bir metodun ne iş yaptığını anlamak için **help** fonksiyonunu kullanabiliriz."
   ]
  },
  {
   "cell_type": "code",
   "execution_count": 8,
   "metadata": {},
   "outputs": [
    {
     "name": "stdout",
     "output_type": "stream",
     "text": [
      "Help on built-in function insert:\n",
      "\n",
      "insert(...) method of builtins.list instance\n",
      "    L.insert(index, object) -- insert object before index\n",
      "\n"
     ]
    }
   ],
   "source": [
    "help(liste.insert)"
   ]
  },
  {
   "cell_type": "markdown",
   "metadata": {},
   "source": [
    "Metodların ne anlama geldiğini **Nesne Tabanlı Programlama** kısmında çok daha iyi anlayacağız."
   ]
  },
  {
   "cell_type": "code",
   "execution_count": null,
   "metadata": {
    "collapsed": true
   },
   "outputs": [],
   "source": []
  }
 ],
 "metadata": {
  "kernelspec": {
   "display_name": "Python 3",
   "language": "python",
   "name": "python3"
  },
  "language_info": {
   "codemirror_mode": {
    "name": "ipython",
    "version": 3
   },
   "file_extension": ".py",
   "mimetype": "text/x-python",
   "name": "python",
   "nbconvert_exporter": "python",
   "pygments_lexer": "ipython3",
   "version": "3.6.1"
  }
 },
 "nbformat": 4,
 "nbformat_minor": 2
}
