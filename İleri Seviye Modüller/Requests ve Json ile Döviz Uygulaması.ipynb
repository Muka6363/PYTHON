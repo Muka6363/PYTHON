{
 "cells": [
  {
   "cell_type": "markdown",
   "metadata": {},
   "source": [
    "# Requests ve Json ile Döviz Uygulaması\n",
    "\n",
    "Bu derste requests modülü ve json'ı beraber kullanarak bir tane döviz uygulaması yazmaya çalışacağız. Bunun için ***fixer.io*** sitesinden bilgilerimizi ***json objesi*** olarak alıp bu bilgilerle Dolar'ı Türk Lirasına çevirme gibi işlemlerimizi gerçekleştireceğiz.\n",
    "\n",
    "\n",
    "\n",
    "Şimdi ilk olarak ***json*** objelerine bakalım.\n",
    "\n",
    "\n",
    "***json objeleri*** Pythondaki ***sözlük*** objelerine oldukça benzer ve kullanılmaları aynı ***sözlükler*** gibidir. İsterseniz json objesinin yapısına bakalım.\n",
    "\n",
    "\n",
    "\n",
    "\n",
    "                {\n",
    "                \n",
    "                \"İsim\": \"Mustafa Murat\",\n",
    "                \n",
    "                \"Soyisim\": \"Coşkun\",\n",
    "                \n",
    "                \"Numara\" : 12345,\n",
    "                \n",
    "                \n",
    "                \"Özellikler\": {\n",
    "                                \"hobi\": \"Gitar Çalmak\",\n",
    "                                \n",
    "                                \"iş\" : \"Programlama Eğitmeni\"\n",
    "                            \n",
    "                              }\n",
    "                \n",
    "                \n",
    "                }\n",
    "                "
   ]
  },
  {
   "cell_type": "markdown",
   "metadata": {},
   "source": [
    "İşte burada gördüğümüz gibi bir json objesinin yapısı aynı sözlüklere benziyor. İsterseniz artık ***fixer.io*** sitesini inceleyerek döviz uygulamamızı yazalım.\n",
    "\n",
    "http://fixer.io/ \n",
    "\n",
    "*Bu saatten sonraki açıklamalar videoda anlatılmıştır.*\n",
    "\n",
    "\n",
    "Döviz Uygulaması Kodu:\n"
   ]
  },
  {
   "cell_type": "code",
   "execution_count": null,
   "metadata": {
    "collapsed": true
   },
   "outputs": [],
   "source": [
    "import requests\n",
    "\n",
    "\n",
    "url = \"http://api.fixer.io/latest?base=\"\n",
    "\n",
    "birinci_doviz = input(\"Birinci Döviz:\")\n",
    "\n",
    "ikinci_doviz = input(\"İkinci Döviz:\")\n",
    "\n",
    "miktar =  float(input(\"Miktar\"))\n",
    "\n",
    "\n",
    "response = requests.get(url + birinci_doviz)\n",
    "\n",
    "\n",
    "veri =  response.json()\n",
    "\n",
    "try:\n",
    "    print(float(veri[\"rates\"][ikinci_doviz]) * miktar)\n",
    "except KeyError:\n",
    "    print(\"Lütfen para birimlerini kontrol edin\")\n"
   ]
  }
 ],
 "metadata": {
  "kernelspec": {
   "display_name": "Python 3",
   "language": "python",
   "name": "python3"
  },
  "language_info": {
   "codemirror_mode": {
    "name": "ipython",
    "version": 3
   },
   "file_extension": ".py",
   "mimetype": "text/x-python",
   "name": "python",
   "nbconvert_exporter": "python",
   "pygments_lexer": "ipython3",
   "version": "3.6.1"
  }
 },
 "nbformat": 4,
 "nbformat_minor": 2
}
