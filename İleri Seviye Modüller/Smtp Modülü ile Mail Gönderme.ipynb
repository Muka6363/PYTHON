{
 "cells": [
  {
   "cell_type": "markdown",
   "metadata": {},
   "source": [
    "# Smtp Modülü ile Mail Gönderme\n",
    "\n",
    "\n",
    "Bu derste smtplib modülü ile beraber mail atmaya öğrenmeye çalışacağız. Mail atmak için bir tane SMTP serverına ihtiyacımız olacağı için biz bu derste ***GMAİL SMTP Server'ına *** bağlanarak mail atma işlemimizi gerçekleştireceğiz.\n",
    "\n",
    "Ancak öncelikle *gmail* üzerinden güvensiz uygulamalara izin vermemiz gerekiyor. İlk olarak şu linke gidiyoruz;\n",
    "\n",
    "https://myaccount.google.com/lesssecureapps\n",
    "\n",
    "Artık mail atma kodumuzu yazabiliriz.\n",
    "\n"
   ]
  },
  {
   "cell_type": "code",
   "execution_count": null,
   "metadata": {
    "collapsed": true
   },
   "outputs": [],
   "source": [
    "import smtplib\n",
    "from email.mime.multipart import MIMEMultipart\n",
    "from email.mime.text import MIMEText\n",
    "import sys\n",
    "\"\"\"\n",
    "SMTP Modülü ile mail gönderme\n",
    "\n",
    "İlk olarak daha az güvenli uygulamalar için öncelikle aşağıdaki linke gidiyoruz ve güvenliği\n",
    "kaldırıyoruz.\n",
    "\n",
    "https://myaccount.google.com/lesssecureapps\n",
    "\n",
    "\"\"\"\n",
    "\n",
    "mesaj = MIMEMultipart()  # Mail yapımızı oluşturuyoruz.\n",
    "\n",
    "mesaj[\"From\"] =  \"coskun.m.murat@gmail.com\" # Kimden Göndereceğimiz\n",
    "\n",
    "mesaj[\"To\"] = \"coskun.m.murat@gmail.com\" # Kime Göndereceğimiz\n",
    "\n",
    "mesaj[\"Subject\"] = \"Smtp Mail Gönderme\"  # Mailimizin Konusu\n",
    "\n",
    "\n",
    "# Mailimizin İçeriği\n",
    "yazi = \"\"\"\n",
    "\n",
    "Merhaba, Python ile mail gönderiyorum.    \n",
    "\n",
    "Mustafa Murat Coşkun\n",
    "\n",
    "\n",
    "\"\"\"  \n",
    "\n",
    "\n",
    "mesaj_govdesi =  MIMEText(yazi,\"plain\")  # Mailimizin gövdesini bu sınıftan oluşturuyoruz.\n",
    "\n",
    "mesaj.attach(mesaj_govdesi) # Mailimizin gövdesini mail yapımıza ekliyoruz.\n",
    "\n",
    "\n",
    "\n",
    "try:\n",
    "    mail =  smtplib.SMTP(\"smtp.gmail.com\",587)  # SMTP objemizi oluşturuyoruz ve gmail smtp server'ına bağlanıyoruz.\n",
    "\n",
    "    mail.ehlo() # SMTP serverına kendimizi tanıtıyoruz.\n",
    " \n",
    "    mail.starttls() # Adresimizin ve Parolamızın şifrelenmesi için gerekli\n",
    "\n",
    "    mail.login(\"gmail_adresi\",\"gmail_parola\") # SMTP server'ına giriş yapıyoruz. Kendi mail adresimizi ve parolamızı yapıyoruz.\n",
    "\n",
    "    mail.sendmail(mesaj[\"From\"],mesaj[\"To\"],mesaj.as_string())  # Mailimizi gönderiyoruz.\n",
    "    print(\"Mail başarıyla gönderildi....\")\n",
    "    mail.close()  # Smtp serverımızın bağlantısını koparıyoz.\n",
    "\n",
    "except:\n",
    "    sys.stderr.write(\"Mail göndermesi başarısız oldu...\") # Herhangi bir bağlanma sorunu veya mail gönderme sorunu olursa\n",
    "    sys.stderr.flush()"
   ]
  }
 ],
 "metadata": {
  "kernelspec": {
   "display_name": "Python 3",
   "language": "python",
   "name": "python3"
  },
  "language_info": {
   "codemirror_mode": {
    "name": "ipython",
    "version": 3
   },
   "file_extension": ".py",
   "mimetype": "text/x-python",
   "name": "python",
   "nbconvert_exporter": "python",
   "pygments_lexer": "ipython3",
   "version": "3.6.1"
  }
 },
 "nbformat": 4,
 "nbformat_minor": 2
}
