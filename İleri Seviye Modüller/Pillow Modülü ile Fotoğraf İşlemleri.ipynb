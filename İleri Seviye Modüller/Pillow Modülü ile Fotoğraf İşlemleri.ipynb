{
 "cells": [
  {
   "cell_type": "markdown",
   "metadata": {},
   "source": [
    "# Pillow Modülü ile Fotoğraf İşlemleri\n",
    "\n",
    "Bu derste Pillow  kullanarak fotoğraf ve resim işlemlerini gerçekleştireceğiz. Bunun için ilk olarak Pillow'u internet üzerinden indirelim.\n",
    "\n",
    "\n",
    "### Windows Üzerinde Kurulum\n",
    "\n",
    "Bu komutu cmd üzerinde çalıştırırsak Pillow modülü sistemimize kurulacaktır.\n",
    "\n",
    " ***pip3 install Pillow*** \n",
    "\n",
    "### Ubuntu Üzerinde Kurulum\n",
    "\n",
    "Bu komutu terminal üzerinde çalıştırırsak Pillow modülü sistemimize kurulacaktır.\n",
    "\n",
    "***pip3 install Pillow***"
   ]
  },
  {
   "cell_type": "markdown",
   "metadata": {
    "collapsed": true
   },
   "source": [
    "Pillow , çok kapsamlı modüllerden oluştuğu için burada sadece belli fonksiyonlarını göstermeye çalışacağım. Ancak siz Pillow'u incelemek isterseniz resmi dokümantasyonuna bakabilirsiniz.\n",
    "\n",
    "https://pillow.readthedocs.io/en/4.2.x/handbook/tutorial.html\n",
    "\n",
    "Şimdi dersimize geçelim ve Pillow'u kullanmaya çalışalım.\n"
   ]
  },
  {
   "cell_type": "code",
   "execution_count": null,
   "metadata": {
    "collapsed": true
   },
   "outputs": [],
   "source": []
  }
 ],
 "metadata": {
  "kernelspec": {
   "display_name": "Python 3",
   "language": "python",
   "name": "python3"
  },
  "language_info": {
   "codemirror_mode": {
    "name": "ipython",
    "version": 3
   },
   "file_extension": ".py",
   "mimetype": "text/x-python",
   "name": "python",
   "nbconvert_exporter": "python",
   "pygments_lexer": "ipython3",
   "version": "3.6.1"
  }
 },
 "nbformat": 4,
 "nbformat_minor": 2
}
