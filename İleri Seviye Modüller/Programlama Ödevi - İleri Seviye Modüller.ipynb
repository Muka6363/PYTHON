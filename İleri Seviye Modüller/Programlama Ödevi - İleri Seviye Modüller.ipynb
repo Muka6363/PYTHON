{
 "cells": [
  {
   "cell_type": "markdown",
   "metadata": {},
   "source": [
    "## Programlama Ödevi - İleri Seviye Modüller\n",
    "\n",
    "### Proje 1\n",
    "\n",
    "Bilgisayarınızdaki tüm mp4,txt ve pdf dosyalarını **os** modülüyle arayın ve bunların nerede bulunduklarını ve isimlerini ayrı ayrı \"pdf_dosyalari.txt\",\"mp4_dosyaları.txt\",\"txt_dosyaları.txt\" adlı dosyalara kaydedin."
   ]
  },
  {
   "cell_type": "markdown",
   "metadata": {},
   "source": [
    "### Proje 2\n",
    "\n",
    "\n",
    "Elinizde 5 kişinin maillerinin ve isimlerinin bulunduğu bir dosya olsun. Bu dosyayı okuyarak,  her bir kişiye isimleriyle beraber mail göndermeye çalışın. Dosya formatı şu şekilde olacak.\n",
    "\n",
    "                           Mustafa Murat Coşkun,coskun.m.murat@gmail.com\n",
    "                                           //\n",
    "                                           //\n",
    "                                           //\n",
    "                                           //\n",
    "                                           \n",
    "\n",
    "                            "
   ]
  },
  {
   "cell_type": "markdown",
   "metadata": {},
   "source": [
    "### Proje 3\n",
    "\n",
    "https://www.doviz.com/ sitesinden anlık olarak doların,euronun,altının ve borsanın değerlerini öğrenin ve bunları kullanarak bir proje geliştirmeye çalışın.\n",
    "\n",
    "***Not: Bu projeyi, requests ve beautifulsoup kullanarak geliştirin.***"
   ]
  },
  {
   "cell_type": "code",
   "execution_count": null,
   "metadata": {
    "collapsed": true
   },
   "outputs": [],
   "source": []
  }
 ],
 "metadata": {
  "kernelspec": {
   "display_name": "Python 3",
   "language": "python",
   "name": "python3"
  },
  "language_info": {
   "codemirror_mode": {
    "name": "ipython",
    "version": 3
   },
   "file_extension": ".py",
   "mimetype": "text/x-python",
   "name": "python",
   "nbconvert_exporter": "python",
   "pygments_lexer": "ipython3",
   "version": "3.6.1"
  }
 },
 "nbformat": 4,
 "nbformat_minor": 2
}
