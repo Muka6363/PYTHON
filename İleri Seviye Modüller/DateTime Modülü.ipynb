{
 "cells": [
  {
   "cell_type": "markdown",
   "metadata": {},
   "source": [
    "# DateTime Modülü\n",
    "\n",
    "DateTime modülü Pythonda zaman ve tarih işlemleri için kullandığımız hazır bir modüldür. Bu derste bu modülün fonksiyonların kullanmaya çalışacağız."
   ]
  },
  {
   "cell_type": "code",
   "execution_count": 1,
   "metadata": {
    "collapsed": true
   },
   "outputs": [],
   "source": [
    "from datetime import datetime"
   ]
  },
  {
   "cell_type": "code",
   "execution_count": 3,
   "metadata": {},
   "outputs": [
    {
     "data": {
      "text/plain": [
       "['__add__',\n",
       " '__class__',\n",
       " '__delattr__',\n",
       " '__dir__',\n",
       " '__doc__',\n",
       " '__eq__',\n",
       " '__format__',\n",
       " '__ge__',\n",
       " '__getattribute__',\n",
       " '__gt__',\n",
       " '__hash__',\n",
       " '__init__',\n",
       " '__init_subclass__',\n",
       " '__le__',\n",
       " '__lt__',\n",
       " '__ne__',\n",
       " '__new__',\n",
       " '__radd__',\n",
       " '__reduce__',\n",
       " '__reduce_ex__',\n",
       " '__repr__',\n",
       " '__rsub__',\n",
       " '__setattr__',\n",
       " '__sizeof__',\n",
       " '__str__',\n",
       " '__sub__',\n",
       " '__subclasshook__',\n",
       " 'astimezone',\n",
       " 'combine',\n",
       " 'ctime',\n",
       " 'date',\n",
       " 'day',\n",
       " 'dst',\n",
       " 'fold',\n",
       " 'fromordinal',\n",
       " 'fromtimestamp',\n",
       " 'hour',\n",
       " 'isocalendar',\n",
       " 'isoformat',\n",
       " 'isoweekday',\n",
       " 'max',\n",
       " 'microsecond',\n",
       " 'min',\n",
       " 'minute',\n",
       " 'month',\n",
       " 'now',\n",
       " 'replace',\n",
       " 'resolution',\n",
       " 'second',\n",
       " 'strftime',\n",
       " 'strptime',\n",
       " 'time',\n",
       " 'timestamp',\n",
       " 'timetuple',\n",
       " 'timetz',\n",
       " 'today',\n",
       " 'toordinal',\n",
       " 'tzinfo',\n",
       " 'tzname',\n",
       " 'utcfromtimestamp',\n",
       " 'utcnow',\n",
       " 'utcoffset',\n",
       " 'utctimetuple',\n",
       " 'weekday',\n",
       " 'year']"
      ]
     },
     "execution_count": 3,
     "metadata": {},
     "output_type": "execute_result"
    }
   ],
   "source": [
    "dir(datetime)"
   ]
  },
  {
   "cell_type": "markdown",
   "metadata": {},
   "source": [
    "### Şu anki zamanı alma - now()"
   ]
  },
  {
   "cell_type": "code",
   "execution_count": 12,
   "metadata": {},
   "outputs": [],
   "source": [
    "şu_an = datetime.now()"
   ]
  },
  {
   "cell_type": "code",
   "execution_count": 13,
   "metadata": {},
   "outputs": [
    {
     "name": "stdout",
     "output_type": "stream",
     "text": [
      "2017-07-11 17:01:36.472991\n"
     ]
    }
   ],
   "source": [
    "print(şu_an)"
   ]
  },
  {
   "cell_type": "code",
   "execution_count": 14,
   "metadata": {},
   "outputs": [
    {
     "data": {
      "text/plain": [
       "2017"
      ]
     },
     "execution_count": 14,
     "metadata": {},
     "output_type": "execute_result"
    }
   ],
   "source": [
    "şu_an.year # Yılı alıyoruz."
   ]
  },
  {
   "cell_type": "code",
   "execution_count": 15,
   "metadata": {},
   "outputs": [
    {
     "data": {
      "text/plain": [
       "7"
      ]
     },
     "execution_count": 15,
     "metadata": {},
     "output_type": "execute_result"
    }
   ],
   "source": [
    "şu_an.month # Ayı alıyoruz. (7. Ay -- Temmuz)"
   ]
  },
  {
   "cell_type": "code",
   "execution_count": 16,
   "metadata": {},
   "outputs": [
    {
     "data": {
      "text/plain": [
       "11"
      ]
     },
     "execution_count": 16,
     "metadata": {},
     "output_type": "execute_result"
    }
   ],
   "source": [
    "şu_an.day # Temmuzun  11'i"
   ]
  },
  {
   "cell_type": "code",
   "execution_count": 17,
   "metadata": {},
   "outputs": [
    {
     "data": {
      "text/plain": [
       "17"
      ]
     },
     "execution_count": 17,
     "metadata": {},
     "output_type": "execute_result"
    }
   ],
   "source": [
    "şu_an.hour # Saat 5 "
   ]
  },
  {
   "cell_type": "code",
   "execution_count": 18,
   "metadata": {},
   "outputs": [
    {
     "data": {
      "text/plain": [
       "1"
      ]
     },
     "execution_count": 18,
     "metadata": {},
     "output_type": "execute_result"
    }
   ],
   "source": [
    "şu_an.minute # 5'i 1 geçiyor."
   ]
  },
  {
   "cell_type": "code",
   "execution_count": 19,
   "metadata": {},
   "outputs": [
    {
     "data": {
      "text/plain": [
       "36"
      ]
     },
     "execution_count": 19,
     "metadata": {},
     "output_type": "execute_result"
    }
   ],
   "source": [
    "şu_an.second # Saniye 36"
   ]
  },
  {
   "cell_type": "code",
   "execution_count": 21,
   "metadata": {},
   "outputs": [
    {
     "data": {
      "text/plain": [
       "472991"
      ]
     },
     "execution_count": 21,
     "metadata": {},
     "output_type": "execute_result"
    }
   ],
   "source": [
    "şu_an.microsecond # Milisaniye 472991"
   ]
  },
  {
   "cell_type": "markdown",
   "metadata": {},
   "source": [
    "### ctime() fonksiyonu \n",
    "\n",
    "Şu anki zamanı daha güzel göstermek için ***ctime()*** fonksiyonunu kullanabiliriz."
   ]
  },
  {
   "cell_type": "code",
   "execution_count": 22,
   "metadata": {},
   "outputs": [
    {
     "name": "stdout",
     "output_type": "stream",
     "text": [
      "Tue Jul 11 17:01:36 2017\n"
     ]
    }
   ],
   "source": [
    "print(datetime.ctime(şu_an)) "
   ]
  },
  {
   "cell_type": "markdown",
   "metadata": {},
   "source": [
    "Peki şu anki zamanın yıl, ay , gün gibi özelliklerin sadece belli bir kısmını nasıl gösterebiliriz ? Bunun için de strftime fonksiyonunu kullanacağız.\n",
    "\n",
    "### strftime() fonksiyonu\n",
    "\n",
    "        Yıl bilgisini almak için : %Y\n",
    "        \n",
    "        Ay ismini almak için : %B\n",
    "\n",
    "        Gün ismini almak için : %A\n",
    "\n",
    "        Saat bilgisini almak için : %X\n",
    "\n",
    "        Gün bilgisini almak için : %D\n",
    "\n",
    "*Diğer gösterimler için :  https://docs.python.org/2/library/time.html *\n",
    "\n",
    "Şimdi bunları kullanmaya çalışalım."
   ]
  },
  {
   "cell_type": "code",
   "execution_count": 23,
   "metadata": {
    "collapsed": true
   },
   "outputs": [],
   "source": [
    "şu_an = datetime.now()"
   ]
  },
  {
   "cell_type": "code",
   "execution_count": 25,
   "metadata": {},
   "outputs": [
    {
     "name": "stdout",
     "output_type": "stream",
     "text": [
      "2017\n",
      "July\n",
      "Tuesday\n",
      "17:10:14\n",
      "07/11/17\n"
     ]
    }
   ],
   "source": [
    "print(datetime.strftime(şu_an,\"%Y\"))\n",
    "\n",
    "print(datetime.strftime(şu_an,\"%B\"))\n",
    "\n",
    "print(datetime.strftime(şu_an,\"%A\"))\n",
    "\n",
    "print(datetime.strftime(şu_an,\"%X\"))\n",
    "\n",
    "print(datetime.strftime(şu_an,\"%D\"))"
   ]
  },
  {
   "cell_type": "code",
   "execution_count": 26,
   "metadata": {},
   "outputs": [
    {
     "name": "stdout",
     "output_type": "stream",
     "text": [
      "2017 July\n"
     ]
    }
   ],
   "source": [
    "print(datetime.strftime(şu_an,\"%Y %B\"))"
   ]
  },
  {
   "cell_type": "code",
   "execution_count": 27,
   "metadata": {},
   "outputs": [
    {
     "name": "stdout",
     "output_type": "stream",
     "text": [
      "2017 July Tuesday\n"
     ]
    }
   ],
   "source": [
    "print(datetime.strftime(şu_an,\"%Y %B %A\"))"
   ]
  },
  {
   "cell_type": "markdown",
   "metadata": {},
   "source": [
    "Buradaki yazıları ***Türkçe*** yapmaya çalışalım."
   ]
  },
  {
   "cell_type": "code",
   "execution_count": 28,
   "metadata": {},
   "outputs": [
    {
     "name": "stdout",
     "output_type": "stream",
     "text": [
      "Turkish_Turkey.1254\n"
     ]
    }
   ],
   "source": [
    "import locale\n",
    "print(locale.setlocale(locale.LC_ALL,\"\"))"
   ]
  },
  {
   "cell_type": "code",
   "execution_count": 30,
   "metadata": {},
   "outputs": [
    {
     "name": "stdout",
     "output_type": "stream",
     "text": [
      "2017 Temmuz Salı\n"
     ]
    }
   ],
   "source": [
    "print(datetime.strftime(şu_an,\"%Y %B %A\")) # locale ile bulunduğumuz yerin diline çevirebiliyoruz."
   ]
  },
  {
   "cell_type": "markdown",
   "metadata": {},
   "source": [
    "### timestamp() ve fromtimestamp()\n",
    "\n",
    "Şu anki zamanı saniye cinsinden bulmak için, datetime objemizi (şu_an objesi) ***timestamp()*** fonksiyonumuza gönderebiliriz. Aynı zamanda saniye cinsinden verilmiş bir zamanı da ***fromtimestamp*** fonksiyonuyla datetime objesine çevirebiliriz.\n"
   ]
  },
  {
   "cell_type": "code",
   "execution_count": 39,
   "metadata": {},
   "outputs": [
    {
     "data": {
      "text/plain": [
       "datetime.datetime(2017, 7, 11, 17, 10, 14, 253746)"
      ]
     },
     "execution_count": 39,
     "metadata": {},
     "output_type": "execute_result"
    }
   ],
   "source": [
    "şu_an"
   ]
  },
  {
   "cell_type": "code",
   "execution_count": 40,
   "metadata": {},
   "outputs": [
    {
     "data": {
      "text/plain": [
       "1499782214.253746"
      ]
     },
     "execution_count": 40,
     "metadata": {},
     "output_type": "execute_result"
    }
   ],
   "source": [
    "datetime.timestamp(şu_an)"
   ]
  },
  {
   "cell_type": "code",
   "execution_count": 41,
   "metadata": {
    "collapsed": true
   },
   "outputs": [],
   "source": [
    "saniye =  datetime.timestamp(şu_an)"
   ]
  },
  {
   "cell_type": "code",
   "execution_count": 42,
   "metadata": {
    "collapsed": true
   },
   "outputs": [],
   "source": [
    "zaman =  datetime.fromtimestamp(saniye)"
   ]
  },
  {
   "cell_type": "code",
   "execution_count": 43,
   "metadata": {},
   "outputs": [
    {
     "name": "stdout",
     "output_type": "stream",
     "text": [
      "2017-07-11 17:10:14.253746\n"
     ]
    }
   ],
   "source": [
    "print(zaman)"
   ]
  },
  {
   "cell_type": "markdown",
   "metadata": {},
   "source": [
    "Peki ***fromtimestamp()*** fonksiyonunun içine \"0\" verirsek ne olacak ? (0. saniye) \n",
    "\n",
    "*Jupyter böyle bir kullanıma hata veriyor. Ancak sonuç Python IDLE'da \"1970-01-01 03:00:00\" çıkacak. Buna epoch zamanı deniyor. Yani günümüzde kullandığımız bilgisayarlar o andan itibaren sürekli saniye sayıyor ve böylelikle şu anki zamanı hesaplayabiliyorlar. Yani bilgisayar aleminde zamanın başlaması 1 Ocak 1970 :) Epoch zamanını isterseniz araştırabilirsiniz.*\n",
    "\n",
    "\n"
   ]
  },
  {
   "cell_type": "markdown",
   "metadata": {},
   "source": [
    "### Belli iki tarih arasındaki farkı bulmak\n",
    "\n",
    "Kendimiz bir datetime objesi oluşturmak istersek, yıl,ay,gün,saat,dakika,saniye ve mikrosaniyeleri sırasıyla girmeliyiz. Ancak sadece belli özellikleri de girerek bir tane datetime objesi oluşturabilirsiniz.\n",
    "\n"
   ]
  },
  {
   "cell_type": "code",
   "execution_count": 48,
   "metadata": {},
   "outputs": [],
   "source": [
    "tarih = datetime(2019,12,1) "
   ]
  },
  {
   "cell_type": "code",
   "execution_count": 49,
   "metadata": {
    "collapsed": true
   },
   "outputs": [],
   "source": [
    "şu_an = datetime.now()"
   ]
  },
  {
   "cell_type": "code",
   "execution_count": 51,
   "metadata": {},
   "outputs": [],
   "source": [
    "fark = tarih - şu_an"
   ]
  },
  {
   "cell_type": "code",
   "execution_count": 52,
   "metadata": {},
   "outputs": [
    {
     "data": {
      "text/plain": [
       "datetime.timedelta(872, 23304, 341519)"
      ]
     },
     "execution_count": 52,
     "metadata": {},
     "output_type": "execute_result"
    }
   ],
   "source": [
    "fark"
   ]
  },
  {
   "cell_type": "code",
   "execution_count": 55,
   "metadata": {},
   "outputs": [
    {
     "data": {
      "text/plain": [
       "872"
      ]
     },
     "execution_count": 55,
     "metadata": {},
     "output_type": "execute_result"
    }
   ],
   "source": [
    "fark.days # 872 gün kalmış"
   ]
  },
  {
   "cell_type": "code",
   "execution_count": 57,
   "metadata": {},
   "outputs": [
    {
     "data": {
      "text/plain": [
       "23304"
      ]
     },
     "execution_count": 57,
     "metadata": {},
     "output_type": "execute_result"
    }
   ],
   "source": [
    "fark.seconds # 23304 gün kalmış"
   ]
  },
  {
   "cell_type": "code",
   "execution_count": 59,
   "metadata": {},
   "outputs": [
    {
     "data": {
      "text/plain": [
       "341519"
      ]
     },
     "execution_count": 59,
     "metadata": {},
     "output_type": "execute_result"
    }
   ],
   "source": [
    "fark.microseconds # 341519"
   ]
  },
  {
   "cell_type": "markdown",
   "metadata": {},
   "source": [
    "İşte datetime modülü bu şekilde ! datetime modülünün daha fazla özelliğini kullanmak isterseniz şu şiteye bakabilirsiniz. \n",
    "\n",
    "https://docs.python.org/2/library/datetime.html"
   ]
  },
  {
   "cell_type": "code",
   "execution_count": null,
   "metadata": {
    "collapsed": true
   },
   "outputs": [],
   "source": []
  }
 ],
 "metadata": {
  "kernelspec": {
   "display_name": "Python 3",
   "language": "python",
   "name": "python3"
  },
  "language_info": {
   "codemirror_mode": {
    "name": "ipython",
    "version": 3
   },
   "file_extension": ".py",
   "mimetype": "text/x-python",
   "name": "python",
   "nbconvert_exporter": "python",
   "pygments_lexer": "ipython3",
   "version": "3.6.1"
  }
 },
 "nbformat": 4,
 "nbformat_minor": 2
}
