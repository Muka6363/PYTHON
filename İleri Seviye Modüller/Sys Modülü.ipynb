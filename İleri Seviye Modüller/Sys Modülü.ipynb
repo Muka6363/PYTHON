{
 "cells": [
  {
   "cell_type": "markdown",
   "metadata": {},
   "source": [
    "# sys Modülü\n",
    "\n",
    "sys modülü bizim sistemimizde kurulu olan Python sürümünü yönettiğimiz standard bir modüldür. Bu modülü kullanarak Python sistemine özgü fonksiyonları ve özellikleri kullanabiliriz. Burada bu modülün sadece en gerekli olan özelliklerinden bahsedeceğiz.\n",
    "\n",
    "***Buradaki fonksiyonları videoda kullanmaya çalışacağız.***\n",
    "\n",
    "\n",
    "### sys.exit() fonksiyonu\n",
    "\n",
    "Bu fonksiyon çalışan Python programımızı sonlandırır.\n"
   ]
  },
  {
   "cell_type": "code",
   "execution_count": null,
   "metadata": {
    "collapsed": true
   },
   "outputs": [],
   "source": [
    "import sys\n",
    "a = input(\"a:\")\n",
    "b = input(\"b:\")\n",
    "\n",
    "sys.exit()\n",
    "\n",
    "c = input(\"c:\")"
   ]
  },
  {
   "cell_type": "markdown",
   "metadata": {},
   "source": [
    "### stderr ve stdout\n",
    "\n",
    "Bilgisayarlar uygulamalarımız ve işlemlerimiz çalıştığı zaman çıktı vermek ve girdi almak için şu dosyaları kullanır.\n",
    "\n",
    "***stdin*** :  Bu standard dosya, işlemimizin (process ) kullanıcıdan input almasını sağlar.  \n",
    "\n",
    "***stdout*** : Bu standard dosya, işlemimizin (process ) çıktı vermesini sağlar.\n",
    "\n",
    "***stderr***  : Bu standard dosya, işlemimizin hata mesajlarını çıktı olarak vermek için kullanılır.\n",
    "\n",
    "Biz print() fonksiyonumuzu kullandığımızda aslında standard olarak ***stdout*** kullanılmaktadır. Ancak biz istersek ***stderr'e de ** bir şeyler yazabiliriz."
   ]
  },
  {
   "cell_type": "code",
   "execution_count": 3,
   "metadata": {},
   "outputs": [
    {
     "name": "stderr",
     "output_type": "stream",
     "text": [
      "Burası bir hata mesajı\n"
     ]
    },
    {
     "name": "stdout",
     "output_type": "stream",
     "text": [
      "Burası normal çıktımız\n"
     ]
    }
   ],
   "source": [
    "import sys\n",
    "\n",
    "sys.stderr.write(\"Burası bir hata mesajı\\n\")\n",
    "\n",
    "sys.stderr.flush() # Buffer'ı hemen yaz. \n",
    "\n",
    "sys.stdout.write(\"Burası normal çıktımız\\n\")"
   ]
  },
  {
   "cell_type": "markdown",
   "metadata": {},
   "source": [
    "### sys.argv\n",
    "\n",
    "***sys.argv*** Python programlarını komut satırlarından çalıştırdığımızda yanına verdiğimiz argümanları taşıyan bir listedir. \n",
    "\n",
    "*sys.argv , videomuzda anlatılıyor. *\n",
    "\n"
   ]
  },
  {
   "cell_type": "code",
   "execution_count": null,
   "metadata": {
    "collapsed": true
   },
   "outputs": [],
   "source": []
  }
 ],
 "metadata": {
  "kernelspec": {
   "display_name": "Python 3",
   "language": "python",
   "name": "python3"
  },
  "language_info": {
   "codemirror_mode": {
    "name": "ipython",
    "version": 3
   },
   "file_extension": ".py",
   "mimetype": "text/x-python",
   "name": "python",
   "nbconvert_exporter": "python",
   "pygments_lexer": "ipython3",
   "version": "3.6.1"
  }
 },
 "nbformat": 4,
 "nbformat_minor": 2
}
