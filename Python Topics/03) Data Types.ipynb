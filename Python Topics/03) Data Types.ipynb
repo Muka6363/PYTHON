{
  "nbformat": 4,
  "nbformat_minor": 0,
  "metadata": {
    "colab": {
      "name": "Data Types.ipynb",
      "provenance": [],
      "collapsed_sections": []
    },
    "kernelspec": {
      "name": "python3",
      "display_name": "Python 3"
    },
    "language_info": {
      "name": "python"
    }
  },
  "cells": [
    {
      "cell_type": "code",
      "metadata": {
        "colab": {
          "base_uri": "https://localhost:8080/"
        },
        "id": "XoYCF_65Ma1c",
        "outputId": "8958801c-acb7-4c2e-b09b-d77b0d02e38f"
      },
      "source": [
        "example1 = 'sometimes what you say is less important than how you say it'\n",
        "print(type(example1))\n",
        "\n",
        "example2 = '71'\n",
        "print(type(example2))\n",
        "\n",
        "example3 = 71\n",
        "print(type(example3))\n",
        "\n",
        "example4 = 71.0\n",
        "print(type(example4))\n",
        "\n",
        "example5 = 3.14j\n",
        "print(type(example5))\n",
        "\n",
        "example6 = True\n",
        "print(type(example6))"
      ],
      "execution_count": null,
      "outputs": [
        {
          "output_type": "stream",
          "name": "stdout",
          "text": [
            "<class 'str'>\n",
            "<class 'str'>\n",
            "<class 'int'>\n",
            "<class 'float'>\n",
            "<class 'complex'>\n",
            "<class 'bool'>\n"
          ]
        }
      ]
    },
    {
      "cell_type": "code",
      "metadata": {
        "colab": {
          "base_uri": "https://localhost:8080/"
        },
        "id": "dVRcc8NeNCve",
        "outputId": "228f0b24-3be8-4172-c8dc-cbbca616dcb2"
      },
      "source": [
        "f = 3.14  # the type is float\n",
        "print(type(f)) \n",
        "\n",
        "f = 3.14  # the type is float\n",
        "\n",
        "s = str(f)  # converting float to string\n",
        "print(type(s))\n",
        "\n",
        "# XXXXXXXXXXXXXXXXXXXXXXXXXXXXXXXXXXXXXXXXXXXXXXXXXX\n",
        "\n",
        "f = 3.14  # the type is float\n",
        "\n",
        "i = int(f)  # while converting a float value to an integer its decimal part is disregarded\n",
        "print(i, '\\n')\n",
        "print(type(i))\n",
        "\n",
        "# XXXXXXXXXXXXXXXXXXXXXXXXXXXXXXXXXXXXXXXXXXXXXXXXXX\n",
        "\n",
        "i = 3\n",
        "\n",
        "f = float(i)\n",
        "print(f, '\\n')\n",
        "print(type(f)) "
      ],
      "execution_count": null,
      "outputs": [
        {
          "output_type": "stream",
          "name": "stdout",
          "text": [
            "<class 'float'>\n",
            "<class 'str'>\n",
            "3 \n",
            "\n",
            "<class 'int'>\n",
            "3.0 \n",
            "\n",
            "<class 'float'>\n"
          ]
        }
      ]
    },
    {
      "cell_type": "code",
      "metadata": {
        "id": "4JHB41KUOrGn",
        "colab": {
          "base_uri": "https://localhost:8080/"
        },
        "outputId": "087c7a06-c8c0-4b5f-9455-22b80980811f"
      },
      "source": [
        "x = 39\n",
        "v = \"11\"\n",
        "y = \"2.5\"\n",
        "z = \"I am at_\"\n",
        "\n",
        "print(x-int(v))\n",
        "print(x-float(y))\n",
        "print(z+str(x))"
      ],
      "execution_count": null,
      "outputs": [
        {
          "output_type": "stream",
          "name": "stdout",
          "text": [
            "28\n",
            "36.5\n",
            "I am at_39\n"
          ]
        }
      ]
    },
    {
      "cell_type": "code",
      "metadata": {
        "colab": {
          "base_uri": "https://localhost:8080/"
        },
        "id": "hJZttgR28MfG",
        "outputId": "f1a6f5fe-0c92-4d7d-bbde-aed72d655c2b"
      },
      "source": [
        "a = 10\n",
        "\n",
        "# Output: <class 'str'>\n",
        "\n",
        "print(type(str(a)))\n"
      ],
      "execution_count": null,
      "outputs": [
        {
          "output_type": "stream",
          "name": "stdout",
          "text": [
            "<class 'str'>\n"
          ]
        }
      ]
    },
    {
      "cell_type": "code",
      "metadata": {
        "colab": {
          "base_uri": "https://localhost:8080/"
        },
        "id": "rdY8G0K688L9",
        "outputId": "1a73da82-432b-46ed-ae55-086930f2a910"
      },
      "source": [
        "a = 36.5\n",
        "b = '30'\n",
        "c = '3.5'\n",
        "d = ' F is enough for room temperature.'\n",
        "\n",
        "print(str(a+int(b)+float(c))+d)"
      ],
      "execution_count": null,
      "outputs": [
        {
          "output_type": "stream",
          "name": "stdout",
          "text": [
            "70.0 F is enough for room temperature.\n"
          ]
        }
      ]
    },
    {
      "cell_type": "code",
      "metadata": {
        "colab": {
          "base_uri": "https://localhost:8080/"
        },
        "id": "Ov7VJ-hp9RES",
        "outputId": "f259a63b-36c7-4080-8483-caf3a0b2ba1d"
      },
      "source": [
        "color = 'red'  # str type variable\n",
        "season = 'summer'\n",
        "price = 250  # int type variable\n",
        "pi = 3.14  # float type variable\n",
        "color = 'blue'  # You can always assign a new value to a created variable\n",
        "price = 100  # value of 'price' is changed\n",
        "season = 'winter'  \n",
        "\n",
        "print(color, price, season, sep=', ')"
      ],
      "execution_count": null,
      "outputs": [
        {
          "output_type": "stream",
          "name": "stdout",
          "text": [
            "blue, 100, winter\n"
          ]
        }
      ]
    },
    {
      "cell_type": "code",
      "metadata": {
        "colab": {
          "base_uri": "https://localhost:8080/"
        },
        "id": "iYczD8ep9ay-",
        "outputId": "a5f8f812-ae49-4f71-ec91-3ee3958e431d"
      },
      "source": [
        "a = 5\n",
        "b = 55\n",
        "c = 555\n",
        "c = a\n",
        "b = c\n",
        "a = b\n",
        "\n",
        "print(a, b, c, sep=', ')"
      ],
      "execution_count": null,
      "outputs": [
        {
          "output_type": "stream",
          "name": "stdout",
          "text": [
            "5, 5, 5\n"
          ]
        }
      ]
    },
    {
      "cell_type": "code",
      "metadata": {
        "colab": {
          "base_uri": "https://localhost:8080/"
        },
        "id": "16dvItMo9ox3",
        "outputId": "9e6315bf-f120-4fe9-a79e-daecd1a45cf7"
      },
      "source": [
        "print(4 + 11) # sum of integers gives integer"
      ],
      "execution_count": null,
      "outputs": [
        {
          "output_type": "stream",
          "name": "stdout",
          "text": [
            "15\n"
          ]
        }
      ]
    },
    {
      "cell_type": "code",
      "metadata": {
        "colab": {
          "base_uri": "https://localhost:8080/"
        },
        "id": "tesYzFrB926Q",
        "outputId": "78b8755e-063a-46cf-ce28-2e6c6ea21960"
      },
      "source": [
        "print(39 + 1.0) # sum of an integer and float gives float"
      ],
      "execution_count": null,
      "outputs": [
        {
          "output_type": "stream",
          "name": "stdout",
          "text": [
            "40.0\n"
          ]
        }
      ]
    },
    {
      "cell_type": "code",
      "metadata": {
        "colab": {
          "base_uri": "https://localhost:8080/"
        },
        "id": "9ZgeJPfa_ChY",
        "outputId": "1654ddeb-ce99-4b09-9918-15df292127c9"
      },
      "source": [
        "no1, no2 = 46, 52\n",
        "no3 = no1 - no2\n",
        "print(no3)"
      ],
      "execution_count": null,
      "outputs": [
        {
          "output_type": "stream",
          "name": "stdout",
          "text": [
            "-6\n"
          ]
        }
      ]
    },
    {
      "cell_type": "code",
      "metadata": {
        "colab": {
          "base_uri": "https://localhost:8080/"
        },
        "id": "B4xL10RK_OYe",
        "outputId": "94d9da0d-83fe-4efa-dd68-d96be28fc853"
      },
      "source": [
        "no1 = 46\n",
        "print(no1/23)  # division gives float"
      ],
      "execution_count": null,
      "outputs": [
        {
          "output_type": "stream",
          "name": "stdout",
          "text": [
            "2.0\n"
          ]
        }
      ]
    },
    {
      "cell_type": "code",
      "metadata": {
        "colab": {
          "base_uri": "https://localhost:8080/"
        },
        "id": "f-eIYJRD_RaY",
        "outputId": "6e12a863-f3cf-4e5e-a3d7-645850d4a623"
      },
      "source": [
        "print((3 * 4)/2)  # parentheses are used as in normal mathematics operations"
      ],
      "execution_count": null,
      "outputs": [
        {
          "output_type": "stream",
          "name": "stdout",
          "text": [
            "6.0\n"
          ]
        }
      ]
    },
    {
      "cell_type": "code",
      "metadata": {
        "colab": {
          "base_uri": "https://localhost:8080/"
        },
        "id": "tI7fBUBF_UBk",
        "outputId": "093be0a0-48e1-483f-e678-f9d534250de2"
      },
      "source": [
        "print(7 // 2)  # it gives integer part of division"
      ],
      "execution_count": null,
      "outputs": [
        {
          "output_type": "stream",
          "name": "stdout",
          "text": [
            "3\n"
          ]
        }
      ]
    },
    {
      "cell_type": "code",
      "metadata": {
        "colab": {
          "base_uri": "https://localhost:8080/"
        },
        "id": "LQ9tvyiS_UQ_",
        "outputId": "e6356669-17d9-4460-c96a-2a9f047f8c5c"
      },
      "source": [
        "print(9 % 2)  # remainder of this division is 1\n",
        "# it means 9 is an odd number "
      ],
      "execution_count": null,
      "outputs": [
        {
          "output_type": "stream",
          "name": "stdout",
          "text": [
            "1\n"
          ]
        }
      ]
    },
    {
      "cell_type": "code",
      "metadata": {
        "colab": {
          "base_uri": "https://localhost:8080/"
        },
        "id": "RwaZbnrY_UgV",
        "outputId": "2b1479d1-1ac8-44e9-e551-cf77aa2edafc"
      },
      "source": [
        "print(3**2)"
      ],
      "execution_count": null,
      "outputs": [
        {
          "output_type": "stream",
          "name": "stdout",
          "text": [
            "9\n"
          ]
        }
      ]
    },
    {
      "cell_type": "code",
      "metadata": {
        "colab": {
          "base_uri": "https://localhost:8080/"
        },
        "id": "Vi8axVsB_UzV",
        "outputId": "1f83bd2a-f6cc-4376-d53d-bf2def4d2bff"
      },
      "source": [
        "print(2**3)"
      ],
      "execution_count": null,
      "outputs": [
        {
          "output_type": "stream",
          "name": "stdout",
          "text": [
            "8\n"
          ]
        }
      ]
    },
    {
      "cell_type": "code",
      "metadata": {
        "colab": {
          "base_uri": "https://localhost:8080/"
        },
        "id": "QXDJeTUB_VAW",
        "outputId": "e03bf3c9-68f7-48f9-c34b-163774b5f64e"
      },
      "source": [
        "print(64**0.5)  # square root"
      ],
      "execution_count": null,
      "outputs": [
        {
          "output_type": "stream",
          "name": "stdout",
          "text": [
            "8.0\n"
          ]
        }
      ]
    },
    {
      "cell_type": "code",
      "metadata": {
        "colab": {
          "base_uri": "https://localhost:8080/"
        },
        "id": "PE-yDAPJ_vyr",
        "outputId": "983ce38a-8014-41d2-9b53-ef8d65258d46"
      },
      "source": [
        "print('Result of this (12+7) sum :', 12 + 7)"
      ],
      "execution_count": null,
      "outputs": [
        {
          "output_type": "stream",
          "name": "stdout",
          "text": [
            "Result of this (12+7) sum : 19\n"
          ]
        }
      ]
    },
    {
      "cell_type": "code",
      "metadata": {
        "id": "uNkt3cAu_yMP"
      },
      "source": [
        "There is a list of priorities for all considered operations: it is worth keeping this priority in your mind.\n",
        "\n",
        "parentheses : ()\n",
        "power : **\n",
        "unary minus : -3\n",
        "multiplication and division : *, /\n",
        "addition and subtraction : +, -"
      ],
      "execution_count": null,
      "outputs": []
    },
    {
      "cell_type": "code",
      "metadata": {
        "colab": {
          "base_uri": "https://localhost:8080/"
        },
        "id": "II8gssNY_ye1",
        "outputId": "8b600fd5-438a-40a6-dc1b-a409b525d1b7"
      },
      "source": [
        "number = 2020\n",
        "text = \"children deserve respect as much as adults in\"\n",
        "print(text, number)"
      ],
      "execution_count": null,
      "outputs": [
        {
          "output_type": "stream",
          "name": "stdout",
          "text": [
            "children deserve respect as much as adults in 2020\n"
          ]
        }
      ]
    },
    {
      "cell_type": "code",
      "metadata": {
        "colab": {
          "base_uri": "https://localhost:8080/"
        },
        "id": "ZOaHwg1e_yr5",
        "outputId": "3214dfc8-d7b0-413c-ddc3-c3bb5991b0c0"
      },
      "source": [
        "print(\"yesterday I ate\", 2, \"apples\") # When using print() we can write more than one expression in parentheses separated by 👉🏻,"
      ],
      "execution_count": null,
      "outputs": [
        {
          "output_type": "stream",
          "name": "stdout",
          "text": [
            "yesterday I ate 2 apples\n"
          ]
        }
      ]
    },
    {
      "cell_type": "code",
      "metadata": {
        "id": "d7FTSTut_y2a"
      },
      "source": [
        "When you type more than one expression in print(), you notice that the expressions are joined to each other by spaces. This is due to the default value of keyword argument sep in the print() function. This argument, which is defined as a space 👉🏻\" \" by default, is not visible in the background in the print().\n",
        "\n",
        "The print() command automatically switches to the next line. This is due to the keyword argument end = \"\\n\"\n",
        "\n",
        "Here are the keyword arguments that run in the background of the print() function :\n",
        "\n",
        "print(value, ..., sep=' ', end='\\n', file=sys.stdout, flush=False)\n",
        "\n",
        "👉🏻\\n represents next line.\n",
        "\n",
        "Let's focus on the arguments sep= and end= we discussed above:"
      ],
      "execution_count": null,
      "outputs": []
    },
    {
      "cell_type": "code",
      "metadata": {
        "colab": {
          "base_uri": "https://localhost:8080/"
        },
        "id": "VQhKUL-b_zJ1",
        "outputId": "b18a21a9-b87e-418a-c8f1-7a331f8b08b4"
      },
      "source": [
        "print('i', end=' ')\n",
        "print('will say', end=' ')\n",
        "print(\"'i missed you'\", end=' ')\n",
        "print('to my mother')\n",
        "\n",
        "# If you noticed, in the example above we have combined all expressions with space in a single\n",
        "# line using the 👉🏻end= If we didn't use end=' ', we would normally get 4 lines of output."
      ],
      "execution_count": null,
      "outputs": [
        {
          "output_type": "stream",
          "name": "stdout",
          "text": [
            "i will say 'i missed you' to my mother\n"
          ]
        }
      ]
    },
    {
      "cell_type": "code",
      "metadata": {
        "colab": {
          "base_uri": "https://localhost:8080/"
        },
        "id": "sxPK_qIw_zhx",
        "outputId": "35e5f274-fae7-4b33-93fb-27fbd5675416"
      },
      "source": [
        "print('smoking', 'is', 'slowly', 'killing me', sep=' + ')"
      ],
      "execution_count": null,
      "outputs": [
        {
          "output_type": "stream",
          "name": "stdout",
          "text": [
            "smoking + is + slowly + killing me\n"
          ]
        }
      ]
    },
    {
      "cell_type": "code",
      "metadata": {
        "colab": {
          "base_uri": "https://localhost:8080/"
        },
        "id": "5kKPGPlX_zwy",
        "outputId": "665ed620-8f62-4991-9e7f-9e6f9f2ffa63"
      },
      "source": [
        "x = 5\n",
        "print ('value of x       : ', x)\n",
        "\n",
        "x += 2\n",
        "print (\"2 more of x      : \", x, \"\\n\") # using string expression '\\n', \n",
        "                                       # we produce extra line. \n",
        "                                       # So that we had empty line.\n",
        "y = 10\n",
        "print ('value of y       : ', y)\n",
        "\n",
        "y -= 2\n",
        "print (\"2 minus y        : \", y, \"\\n\")\n",
        "\n",
        "z = 6\n",
        "print ('value of z       : ', z)\n",
        "\n",
        "z *= 2\n",
        "print (\"2 times z        : \", z, \"\\n\")"
      ],
      "execution_count": null,
      "outputs": [
        {
          "output_type": "stream",
          "name": "stdout",
          "text": [
            "value of x       :  5\n",
            "2 more of x      :  7 \n",
            "\n",
            "value of y       :  10\n",
            "2 minus y        :  8 \n",
            "\n",
            "value of z       :  6\n",
            "2 times z        :  12 \n",
            "\n"
          ]
        }
      ]
    },
    {
      "cell_type": "code",
      "metadata": {
        "colab": {
          "base_uri": "https://localhost:8080/"
        },
        "id": "3pWMI2vN_0IF",
        "outputId": "665ddcc4-d9dc-44b5-d1d8-2689ca8f6fe7"
      },
      "source": [
        "fruit = 'Orange'\n",
        "vegetable = \"Tomato\"\n",
        "print (fruit, \"\"\" and \"\"\" , vegetable)"
      ],
      "execution_count": null,
      "outputs": [
        {
          "output_type": "stream",
          "name": "stdout",
          "text": [
            "Orange  and  Tomato\n"
          ]
        }
      ]
    },
    {
      "cell_type": "code",
      "metadata": {
        "colab": {
          "base_uri": "https://localhost:8080/"
        },
        "id": "zTMsrS6Q_0ST",
        "outputId": "8d6fefa4-8a77-4e62-d466-e2785c87382a"
      },
      "source": [
        "print('C:\\\\november\\number_expenditure.txt')"
      ],
      "execution_count": null,
      "outputs": [
        {
          "output_type": "stream",
          "name": "stdout",
          "text": [
            "C:\\november\n",
            "umber_expenditure.txt\n"
          ]
        }
      ]
    },
    {
      "cell_type": "code",
      "metadata": {
        "colab": {
          "base_uri": "https://localhost:8080/"
        },
        "id": "nIe3_LGy_0cV",
        "outputId": "72202214-4056-498c-ff07-32395cf6ed32"
      },
      "source": [
        "print(\"one\", \"two\", \"three\", sep=\"\\t\") # separated by tab marks"
      ],
      "execution_count": null,
      "outputs": [
        {
          "output_type": "stream",
          "name": "stdout",
          "text": [
            "one\ttwo\tthree\n"
          ]
        }
      ]
    },
    {
      "cell_type": "code",
      "metadata": {
        "colab": {
          "base_uri": "https://localhost:8080/"
        },
        "id": "8-aTOWVN_0l-",
        "outputId": "f7b2b187-737c-4487-e9c5-f95d9a69036e"
      },
      "source": [
        "print('we', '\\bare', '\\bunited') # remember, normally print() function\n",
        "# separates expressions by spaces"
      ],
      "execution_count": null,
      "outputs": [
        {
          "output_type": "stream",
          "name": "stdout",
          "text": [
            "we \bare \bunited\n"
          ]
        }
      ]
    },
    {
      "cell_type": "code",
      "metadata": {
        "colab": {
          "base_uri": "https://localhost:8080/"
        },
        "id": "sY48SkHr_1ac",
        "outputId": "94f2a8c4-9d46-419d-e95b-07a7de4488a4"
      },
      "source": [
        "print('it\\'s funny to learn Python')\n",
        "\n",
        "# Normally when we use 👉🏻' inside the 👉🏻' ', Python will give error. Because single-quote in single\n",
        "# quotes gives an error. But here, in the example below, 👉🏻\\ allows single-quote 👉🏻' to be ignored.\n",
        "# So it gives no error."
      ],
      "execution_count": null,
      "outputs": [
        {
          "output_type": "stream",
          "name": "stdout",
          "text": [
            "it's funny to learn Python\n"
          ]
        }
      ]
    },
    {
      "cell_type": "code",
      "metadata": {
        "colab": {
          "base_uri": "https://localhost:8080/"
        },
        "id": "Oqrg2zKG_1jm",
        "outputId": "66a1c6ca-c5f6-4808-fd8e-994ab90adabc"
      },
      "source": [
        "text = 'asdf'\n",
        "text2 = 'ghjk'\n",
        "print(text + text2)"
      ],
      "execution_count": null,
      "outputs": [
        {
          "output_type": "stream",
          "name": "stdout",
          "text": [
            "asdfghjk\n"
          ]
        }
      ]
    },
    {
      "cell_type": "code",
      "metadata": {
        "colab": {
          "base_uri": "https://localhost:8080/"
        },
        "id": "XE_vxGEs_1sT",
        "outputId": "3350f0d4-6a23-42bb-e6b9-9a8880ec9b72"
      },
      "source": [
        "logic = True and False or not False or False\n",
        "print(logic)"
      ],
      "execution_count": null,
      "outputs": [
        {
          "output_type": "stream",
          "name": "stdout",
          "text": [
            "True\n"
          ]
        }
      ]
    },
    {
      "cell_type": "code",
      "metadata": {
        "id": "yP3rrVlGHRcF"
      },
      "source": [
        "# The following values are considered False, in that they evaluate to False when applied to a boolean operator:\n",
        "#\n",
        "# None.\n",
        "# Zero of any numeric type: 0, 0.0, 0j\n",
        "# Empty sequences and collections: '', [], {}.\n",
        "# Other than above values, any remaining value is evaluated as True.\n"
      ],
      "execution_count": null,
      "outputs": []
    },
    {
      "cell_type": "code",
      "metadata": {
        "colab": {
          "base_uri": "https://localhost:8080/"
        },
        "id": "S2pJzxi0HTNQ",
        "outputId": "d254fc46-dd61-4160-feae-7b474245332b"
      },
      "source": [
        "print(2 and 3)"
      ],
      "execution_count": null,
      "outputs": [
        {
          "output_type": "stream",
          "name": "stdout",
          "text": [
            "3\n"
          ]
        }
      ]
    },
    {
      "cell_type": "code",
      "metadata": {
        "colab": {
          "base_uri": "https://localhost:8080/"
        },
        "id": "UkvP41ZKHTWM",
        "outputId": "f3d8d7af-8f44-470b-b8d7-adabd0803a82"
      },
      "source": [
        "print(1 and 0)"
      ],
      "execution_count": null,
      "outputs": [
        {
          "output_type": "stream",
          "name": "stdout",
          "text": [
            "0\n"
          ]
        }
      ]
    },
    {
      "cell_type": "code",
      "metadata": {
        "colab": {
          "base_uri": "https://localhost:8080/"
        },
        "id": "zhW1_-b6HTe0",
        "outputId": "ea180d36-5fdb-463c-920f-955b0aaa739f"
      },
      "source": [
        "print(1 and \"I am doing good!\") # İki değer de True olduğu için sonuncu True değeri döndürdü"
      ],
      "execution_count": null,
      "outputs": [
        {
          "output_type": "stream",
          "name": "stdout",
          "text": [
            "I am doing good!\n"
          ]
        }
      ]
    },
    {
      "cell_type": "code",
      "metadata": {
        "colab": {
          "base_uri": "https://localhost:8080/"
        },
        "id": "N2r1Jx1HHTmd",
        "outputId": "5fede37c-9a38-4427-abdf-30cb819ce58d"
      },
      "source": [
        "print([] and \"Hello World!\")"
      ],
      "execution_count": null,
      "outputs": [
        {
          "output_type": "stream",
          "name": "stdout",
          "text": [
            "[]\n"
          ]
        }
      ]
    },
    {
      "cell_type": "code",
      "metadata": {
        "colab": {
          "base_uri": "https://localhost:8080/"
        },
        "id": "GWdTRC3CHTt8",
        "outputId": "5853753a-f42b-44eb-90b4-279010615fd1"
      },
      "source": [
        "print(2 or 3)"
      ],
      "execution_count": null,
      "outputs": [
        {
          "output_type": "stream",
          "name": "stdout",
          "text": [
            "2\n"
          ]
        }
      ]
    },
    {
      "cell_type": "code",
      "metadata": {
        "colab": {
          "base_uri": "https://localhost:8080/"
        },
        "id": "kgk51lLeHT1Y",
        "outputId": "02f7ef73-88d5-4feb-d1f2-98172391f12b"
      },
      "source": [
        "print(None or 1)"
      ],
      "execution_count": null,
      "outputs": [
        {
          "output_type": "stream",
          "name": "stdout",
          "text": [
            "1\n"
          ]
        }
      ]
    },
    {
      "cell_type": "code",
      "metadata": {
        "colab": {
          "base_uri": "https://localhost:8080/"
        },
        "id": "hQGTzhGaHT8K",
        "outputId": "b055eb05-0ec1-4e3d-c647-e3305019b919"
      },
      "source": [
        "print(0 or {})"
      ],
      "execution_count": null,
      "outputs": [
        {
          "output_type": "stream",
          "name": "stdout",
          "text": [
            "{}\n"
          ]
        }
      ]
    },
    {
      "cell_type": "code",
      "metadata": {
        "colab": {
          "base_uri": "https://localhost:8080/"
        },
        "id": "jVbB1DVqHUC4",
        "outputId": "98536713-27e5-42ef-a3fc-c97ca25bbee8"
      },
      "source": [
        "print([] or \"Hello World!\")"
      ],
      "execution_count": null,
      "outputs": [
        {
          "output_type": "stream",
          "name": "stdout",
          "text": [
            "Hello World!\n"
          ]
        }
      ]
    },
    {
      "cell_type": "code",
      "metadata": {
        "colab": {
          "base_uri": "https://localhost:8080/"
        },
        "id": "ekuDZWQJHUJ1",
        "outputId": "db3aa3e0-28e8-4262-d87d-f41aa21a3b4d"
      },
      "source": [
        "fruit = 'Orange'\n",
        "\n",
        "print('Word                   : ' , fruit)\n",
        "print('First letter           : ' , fruit[0])\n",
        "print('Second letter          : ' , fruit[1])\n",
        "print(\"3rd to 5th letters     : \" , fruit[2:5])\n",
        "print(\"Letter all after 3rd   : \" , fruit[2:])"
      ],
      "execution_count": null,
      "outputs": [
        {
          "output_type": "stream",
          "name": "stdout",
          "text": [
            "Word                   :  Orange\n",
            "First letter           :  O\n",
            "Second letter          :  r\n",
            "3rd to 5th letters     :  ang\n",
            "Letter all after 3rd   :  ange\n"
          ]
        }
      ]
    },
    {
      "cell_type": "code",
      "metadata": {
        "id": "te6vAP6xHUQg"
      },
      "source": [
        "# string[:] : returns the full copy of the sequence\n",
        "\n",
        "# string[start:] : returns elements from start to the end element\n",
        "\n",
        "# string[:stop] : returns element from the 1st element to stop-1\n",
        "\n",
        "# string[::step] : returns each element with a given step"
      ],
      "execution_count": null,
      "outputs": []
    },
    {
      "cell_type": "code",
      "metadata": {
        "colab": {
          "base_uri": "https://localhost:8080/"
        },
        "id": "6n6idvfCHUXK",
        "outputId": "bbd785fb-2e37-45af-9fca-92843a5fe0e1"
      },
      "source": [
        "city = 'Phoenix'\n",
        "\n",
        "print(city[1:])  # starts from index 1 to the end\n",
        "print(city[:6])  # starts from zero to 5th index\n",
        "print(city[::2])  # starts from zero to end by 2 step\n",
        "print(city[1::2])  # starts from index 1 to the end by 2 step\n",
        "print(city[-3:])  # starts from index -3 to the end\n",
        "print(city[::-1])  # negative step starts from the end to zero"
      ],
      "execution_count": null,
      "outputs": [
        {
          "output_type": "stream",
          "name": "stdout",
          "text": [
            "hoenix\n",
            "Phoeni\n",
            "Ponx\n",
            "hei\n",
            "nix\n",
            "xineohP\n"
          ]
        }
      ]
    },
    {
      "cell_type": "code",
      "metadata": {
        "colab": {
          "base_uri": "https://localhost:8080/"
        },
        "id": "z1nQxn1YHUdu",
        "outputId": "ca6df1ce-a86c-45a9-a103-99eec4e9bc9d"
      },
      "source": [
        "# You can use the len() function to find out the length (number of characters) of a text or a variable of any type.\n",
        "\n",
        "vegetable = 'Tomato'\n",
        "\n",
        "print('length of the word', vegetable, 'is :', len(vegetable))"
      ],
      "execution_count": null,
      "outputs": [
        {
          "output_type": "stream",
          "name": "stdout",
          "text": [
            "length of the word Tomato is : 6\n"
          ]
        }
      ]
    },
    {
      "cell_type": "code",
      "metadata": {
        "colab": {
          "base_uri": "https://localhost:8080/"
        },
        "id": "IS9v2wCBHUkd",
        "outputId": "a669c28c-36c7-4e0a-81e4-7b240b09001c"
      },
      "source": [
        "print(\"{6} {0} {5} {3} {4} {1} {2}\".format('have', 6, 'months', 'a job', 'in', 'found', 'I will'))"
      ],
      "execution_count": null,
      "outputs": [
        {
          "output_type": "stream",
          "name": "stdout",
          "text": [
            "I will have found a job in 6 months\n"
          ]
        }
      ]
    },
    {
      "cell_type": "code",
      "metadata": {
        "colab": {
          "base_uri": "https://localhost:8080/"
        },
        "id": "xewGSXYwHUrW",
        "outputId": "785b6a93-16d4-421a-cab4-7ac19c6db58b"
      },
      "source": [
        "print('clarus' + 'way')"
      ],
      "execution_count": null,
      "outputs": [
        {
          "output_type": "stream",
          "name": "stdout",
          "text": [
            "clarusway\n"
          ]
        }
      ]
    },
    {
      "cell_type": "code",
      "metadata": {
        "colab": {
          "base_uri": "https://localhost:8080/"
        },
        "id": "vV_5uLYvHUx3",
        "outputId": "83ee021b-1762-499b-964d-8c95a9b3aaa6"
      },
      "source": [
        "print(3*'no way!')"
      ],
      "execution_count": null,
      "outputs": [
        {
          "output_type": "stream",
          "name": "stdout",
          "text": [
            "no way!no way!no way!\n"
          ]
        }
      ]
    },
    {
      "cell_type": "code",
      "metadata": {
        "colab": {
          "base_uri": "https://localhost:8080/"
        },
        "id": "OugQyX6sHU49",
        "outputId": "d27da3b2-dfc5-401c-988e-2e8badf92991"
      },
      "source": [
        "fruit = 'Orange'\n",
        "vegetable = 'Tomato'\n",
        "print(\"using + :\", fruit + vegetable)\n",
        "print(\"using * :\", 3 * fruit)"
      ],
      "execution_count": null,
      "outputs": [
        {
          "output_type": "stream",
          "name": "stdout",
          "text": [
            "using + : OrangeTomato\n",
            "using * : OrangeOrangeOrange\n"
          ]
        }
      ]
    },
    {
      "cell_type": "code",
      "metadata": {
        "colab": {
          "base_uri": "https://localhost:8080/"
        },
        "id": "nxQa-lx6_11A",
        "outputId": "ec6f9618-fbec-47e7-a375-da0f899520f4"
      },
      "source": [
        "fruit = 'orange'\n",
        "fruit += ' apple'\n",
        "\n",
        "print(fruit)"
      ],
      "execution_count": null,
      "outputs": [
        {
          "output_type": "stream",
          "name": "stdout",
          "text": [
            "orange apple\n"
          ]
        }
      ]
    },
    {
      "cell_type": "code",
      "metadata": {
        "colab": {
          "base_uri": "https://localhost:8080/"
        },
        "id": "gre6w__lKi4e",
        "outputId": "2d9766f5-1160-417f-ebcd-a8aab3a81c33"
      },
      "source": [
        "fruit = 'orange'\n",
        "fruit += ' apple'\n",
        "fruit += ' banana'\n",
        "fruit += ' apricot'\n",
        "\n",
        "print(fruit)"
      ],
      "execution_count": null,
      "outputs": [
        {
          "output_type": "stream",
          "name": "stdout",
          "text": [
            "orange apple banana apricot\n"
          ]
        }
      ]
    },
    {
      "cell_type": "code",
      "metadata": {
        "colab": {
          "base_uri": "https://localhost:8080/"
        },
        "id": "2zhllgZsKjD8",
        "outputId": "21445b0e-b4ae-4e96-8837-fa268ffc0962"
      },
      "source": [
        "fruit1 = 'Apple'\n",
        "fruit2 = 'Orange'\n",
        "\n",
        "print(2 * fruit1 + ' ' + 3 * fruit2 )"
      ],
      "execution_count": null,
      "outputs": [
        {
          "output_type": "stream",
          "name": "stdout",
          "text": [
            "AppleApple OrangeOrangeOrange\n"
          ]
        }
      ]
    },
    {
      "cell_type": "code",
      "metadata": {
        "colab": {
          "base_uri": "https://localhost:8080/"
        },
        "id": "_9Ps97eXKjLU",
        "outputId": "f5011667-f9df-46f8-fb15-0058240add94"
      },
      "source": [
        "phrase = 'I have %d %s and %.2f brothers' % (4, \"children\", 5)  \n",
        "print (phrase)"
      ],
      "execution_count": null,
      "outputs": [
        {
          "output_type": "stream",
          "name": "stdout",
          "text": [
            "I have 4 children and 5.00 brothers\n"
          ]
        }
      ]
    },
    {
      "cell_type": "code",
      "metadata": {
        "colab": {
          "base_uri": "https://localhost:8080/"
        },
        "id": "rZi5S7EKKjSk",
        "outputId": "0d2dd52b-42ac-44b0-a466-7d7d16f00597"
      },
      "source": [
        "sentence = \"apologizing is a virtue\"\n",
        "\n",
        "print(\"%.11s\" % sentence)  # we get first 11 characters of the string"
      ],
      "execution_count": null,
      "outputs": [
        {
          "output_type": "stream",
          "name": "stdout",
          "text": [
            "apologizing\n"
          ]
        }
      ]
    },
    {
      "cell_type": "code",
      "metadata": {
        "colab": {
          "base_uri": "https://localhost:8080/"
        },
        "id": "3NzanStgKjY8",
        "outputId": "84833115-e53b-433e-ad3c-db91f254cdee"
      },
      "source": [
        "print('%(amount)d pounds of %(fruit)s left' % {'amount': 33, 'fruit':'bananas'})\n",
        "\n",
        "# Bu örnekte amount ve fruit olmak üzere iki değişken kullandık. Fark ettiyseniz,\n",
        "# küme parantezleri '{}' içindeki değişkenlere değerler atadık. Bu format sonraki\n",
        "# derslerde öğreneceğiniz bir dictionary türüdür."
      ],
      "execution_count": null,
      "outputs": [
        {
          "output_type": "stream",
          "name": "stdout",
          "text": [
            "33 pounds of bananas left\n"
          ]
        }
      ]
    },
    {
      "cell_type": "code",
      "metadata": {
        "colab": {
          "base_uri": "https://localhost:8080/"
        },
        "id": "mlqZbE9qKjgE",
        "outputId": "16b8959e-b515-46a3-ce79-d3fecd6988b3"
      },
      "source": [
        "x = \"HelloWorld!\"\n",
        "print('%.5s' % x)"
      ],
      "execution_count": null,
      "outputs": [
        {
          "output_type": "stream",
          "name": "stdout",
          "text": [
            "Hello\n"
          ]
        }
      ]
    },
    {
      "cell_type": "code",
      "metadata": {
        "colab": {
          "base_uri": "https://localhost:8080/"
        },
        "id": "FhA_qz2BKjm9",
        "outputId": "37b8ae76-2990-4fb6-b75a-1723d919024c"
      },
      "source": [
        "# As in this example below, the value of expression comes from .format() method in order.\n",
        "# Curly braces 👉🏻{} receives values from .format()\n",
        "\n",
        "fruit = 'Orange'\n",
        "vegetable = 'Tomato'\n",
        "amount = 4\n",
        "print('The amount of {} we bought is {} pounds'.format(fruit, amount))"
      ],
      "execution_count": null,
      "outputs": [
        {
          "output_type": "stream",
          "name": "stdout",
          "text": [
            "The amount of Orange we bought is 4 pounds\n"
          ]
        }
      ]
    },
    {
      "cell_type": "code",
      "metadata": {
        "colab": {
          "base_uri": "https://localhost:8080/"
        },
        "id": "MH6gLFLZKjuE",
        "outputId": "3c9e7425-9c48-4f2b-cac5-581231e23cf8"
      },
      "source": [
        "print('{state} is the most {adjective} state of the {country}'.format(state='California', country='USA', adjective='crowded'))"
      ],
      "execution_count": null,
      "outputs": [
        {
          "output_type": "stream",
          "name": "stdout",
          "text": [
            "California is the most crowded state of the USA\n"
          ]
        }
      ]
    },
    {
      "cell_type": "code",
      "metadata": {
        "colab": {
          "base_uri": "https://localhost:8080/"
        },
        "id": "7TrxGgJ1Kj1N",
        "outputId": "a44308fe-6b62-40b7-933d-27dd304d3dac"
      },
      "source": [
        "print('{0} is the most {adjective} state of the {country}'.format('California', country='USA', adjective='crowded'))\n",
        "\n",
        "# Positional arguments are arguments that can be called by their position in the function or method definition.\n",
        "# Keyword arguments are arguments that can be called by their names.\n",
        "# Be careful not to write keyword arguments before positional arguments."
      ],
      "execution_count": null,
      "outputs": [
        {
          "output_type": "stream",
          "name": "stdout",
          "text": [
            "California is the most crowded state of the USA\n"
          ]
        }
      ]
    },
    {
      "cell_type": "code",
      "metadata": {
        "colab": {
          "base_uri": "https://localhost:8080/"
        },
        "id": "Wp4c1E_rKj8c",
        "outputId": "bbecb2dd-9273-4cba-f992-bdb0a86b2332"
      },
      "source": [
        "print(\"{6} {0} {5} {3} {4} {1} {2}\".format('have', 6, 'months', 'a job', 'in', 'found', 'I will'))"
      ],
      "execution_count": null,
      "outputs": [
        {
          "output_type": "stream",
          "name": "stdout",
          "text": [
            "I will have found a job in 6 months\n"
          ]
        }
      ]
    },
    {
      "cell_type": "code",
      "metadata": {
        "colab": {
          "base_uri": "https://localhost:8080/"
        },
        "id": "TheNiSb1Ojcx",
        "outputId": "69796da1-9012-460d-b97d-aac9ea5c49df"
      },
      "source": [
        "# The unordered words of a sentence are given below. Write a code to set them in order and\n",
        "# print \"Good teachers know how to bring out the best in students.\" using .format() method.\n",
        "\n",
        "print(\"{9} {7} {1} {10} {3} {2} {5} {8} {6} {0} {4}\".format('in', 'know', 'bring', 'to', 'students.', 'out', 'best', 'teachers', 'the', 'Good', 'how'))"
      ],
      "execution_count": null,
      "outputs": [
        {
          "output_type": "stream",
          "name": "stdout",
          "text": [
            "Good teachers know how to bring out the best in students.\n"
          ]
        }
      ]
    },
    {
      "cell_type": "code",
      "metadata": {
        "id": "hDk90P7yOmEW",
        "colab": {
          "base_uri": "https://localhost:8080/"
        },
        "outputId": "18041cf4-20ea-4cb5-cb89-0ccddf9e835b"
      },
      "source": [
        "# String Formatting with 'f-string'\n",
        "\n",
        "fruit = 'Orange'\n",
        "vegetable = 'Tomato'\n",
        "amount = 6\n",
        "output = f\"The amount of {fruit} and {vegetable} we bought are totally {amount} pounds\"\n",
        "\n",
        "print(output)"
      ],
      "execution_count": null,
      "outputs": [
        {
          "output_type": "stream",
          "name": "stdout",
          "text": [
            "The amount of Orange and Tomato we bought are totally 6 pounds\n"
          ]
        }
      ]
    },
    {
      "cell_type": "code",
      "metadata": {
        "id": "xcSVERUvOmP2",
        "colab": {
          "base_uri": "https://localhost:8080/"
        },
        "outputId": "b8e5ba69-fe0e-4f53-a836-25a56eed4459"
      },
      "source": [
        "result = f\"{4 * 5}\"\n",
        "\n",
        "print(result)"
      ],
      "execution_count": null,
      "outputs": [
        {
          "output_type": "stream",
          "name": "stdout",
          "text": [
            "20\n"
          ]
        }
      ]
    },
    {
      "cell_type": "code",
      "metadata": {
        "id": "zRW5ncxDOmXm",
        "colab": {
          "base_uri": "https://localhost:8080/"
        },
        "outputId": "a1af6bf4-0c17-4209-e91a-b3755f33c3d6"
      },
      "source": [
        "my_name = 'JOSEPH'\n",
        "output = f\"My name is {my_name.capitalize()}\"\n",
        "\n",
        "print(output)"
      ],
      "execution_count": null,
      "outputs": [
        {
          "output_type": "stream",
          "name": "stdout",
          "text": [
            "My name is Joseph\n"
          ]
        }
      ]
    },
    {
      "cell_type": "code",
      "metadata": {
        "id": "OVIe8dYiOmet",
        "colab": {
          "base_uri": "https://localhost:8080/"
        },
        "outputId": "cc0ea864-30df-426a-b788-9ef773b8d0f2"
      },
      "source": [
        "name = \"Joseph\"\n",
        "job = \"teachers\"\n",
        "domain = \"Data Science\"\n",
        "message = (\n",
        "     f\"Hi {name}. \"\n",
        "     f\"You are one of the {job} \"\n",
        "     f\"in the {domain} section.\"\n",
        ")\n",
        "print(message)"
      ],
      "execution_count": null,
      "outputs": [
        {
          "output_type": "stream",
          "name": "stdout",
          "text": [
            "Hi Joseph. You are one of the teachers in the Data Science section.\n"
          ]
        }
      ]
    },
    {
      "cell_type": "code",
      "metadata": {
        "id": "vUAKscL3OmlP"
      },
      "source": [
        ""
      ],
      "execution_count": null,
      "outputs": []
    },
    {
      "cell_type": "code",
      "metadata": {
        "id": "ouGkrxiAOmsZ"
      },
      "source": [
        ""
      ],
      "execution_count": null,
      "outputs": []
    },
    {
      "cell_type": "code",
      "metadata": {
        "id": "6Gvie_IeOmyG"
      },
      "source": [
        ""
      ],
      "execution_count": null,
      "outputs": []
    }
  ]
}