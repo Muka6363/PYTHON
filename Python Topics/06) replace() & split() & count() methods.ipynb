{
  "nbformat": 4,
  "nbformat_minor": 0,
  "metadata": {
    "colab": {
      "name": "replace(), split(), count()",
      "provenance": [],
      "collapsed_sections": []
    },
    "kernelspec": {
      "display_name": "Python 3",
      "name": "python3"
    }
  },
  "cells": [
    {
      "cell_type": "code",
      "metadata": {
        "id": "VH8Dv_Zdw3ZP",
        "colab": {
          "base_uri": "https://localhost:8080/"
        },
        "outputId": "2de86fd0-c7ec-4f7c-865a-b46c62b6562a"
      },
      "source": [
        "print('abcdefcdghcd'.split('cd'))"
      ],
      "execution_count": null,
      "outputs": [
        {
          "output_type": "stream",
          "name": "stdout",
          "text": [
            "['ab', 'ef', 'gh', '']\n"
          ]
        }
      ]
    },
    {
      "cell_type": "code",
      "metadata": {
        "id": "4ZFV9QMBxWvZ",
        "colab": {
          "base_uri": "https://localhost:8080/"
        },
        "outputId": "87ea8e99-c15d-48d4-f248-3c21275443e9"
      },
      "source": [
        "print(\"xyyzxyzxzxyy\".count('xyy', 2, 11))"
      ],
      "execution_count": null,
      "outputs": [
        {
          "output_type": "stream",
          "name": "stdout",
          "text": [
            "0\n"
          ]
        }
      ]
    },
    {
      "cell_type": "code",
      "metadata": {
        "id": "pWX--YlUxa_F",
        "colab": {
          "base_uri": "https://localhost:8080/"
        },
        "outputId": "870e7677-3abd-4f24-d95e-e55bbf0767c6"
      },
      "source": [
        "print(\"Hello\".replace(\"l\", \"e\"))\n",
        "print(\"Hello\".replace(\"l\", \"e\", 1))\n",
        "print(\"Hello\".replace(\"l\", \"e\", 3))\n",
        "print(\"Hello\".replace(\"l\", \"\"))"
      ],
      "execution_count": null,
      "outputs": [
        {
          "output_type": "stream",
          "name": "stdout",
          "text": [
            "Heeeo\n",
            "Heelo\n",
            "Heeeo\n",
            "Heo\n"
          ]
        }
      ]
    },
    {
      "cell_type": "code",
      "metadata": {
        "colab": {
          "base_uri": "https://localhost:8080/"
        },
        "id": "Ab2G4oTg5PiJ",
        "outputId": "d50695e3-a4b8-4976-fb5d-cbc327ab5861"
      },
      "source": [
        "'abcdefdghcd'.split(\"d\")"
      ],
      "execution_count": null,
      "outputs": [
        {
          "output_type": "execute_result",
          "data": {
            "text/plain": [
              "['abc', 'ef', 'ghc', '']"
            ]
          },
          "metadata": {},
          "execution_count": 3
        }
      ]
    },
    {
      "cell_type": "code",
      "metadata": {
        "colab": {
          "base_uri": "https://localhost:8080/"
        },
        "id": "aXhuH_c75Pls",
        "outputId": "d1c82d05-54de-4bb0-9aee-75d01d7e665b"
      },
      "source": [
        "'abcdef dghcd'.split()"
      ],
      "execution_count": null,
      "outputs": [
        {
          "output_type": "execute_result",
          "data": {
            "text/plain": [
              "['abcdef', 'dghcd']"
            ]
          },
          "metadata": {},
          "execution_count": 4
        }
      ]
    }
  ]
}