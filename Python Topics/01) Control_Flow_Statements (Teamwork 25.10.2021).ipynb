{
  "nbformat": 4,
  "nbformat_minor": 0,
  "metadata": {
    "colab": {
      "name": "25_October_2021_Teamwork (Control Flow Statements).ipynb",
      "provenance": [],
      "collapsed_sections": []
    },
    "kernelspec": {
      "name": "python3",
      "display_name": "Python 3"
    },
    "language_info": {
      "name": "python"
    }
  },
  "cells": [
    {
      "cell_type": "code",
      "metadata": {
        "colab": {
          "base_uri": "https://localhost:8080/"
        },
        "id": "dPS77Iv6oJD7",
        "outputId": "59ce5bd2-8016-408a-93b6-11dd01788615"
      },
      "source": [
        "flowers = [[\"jasmine\", [\"lavender\", \"rose\"], \"tulip\"]]\n",
        "colors = [\"red\", (\"blue\", [\"yellow\", \"green\"]), \"pink\"]\n",
        "\n",
        "text = \"My two favorite flowers are {} and {}, two favorite colors are {} and {}.\".format(flowers[0][2], flowers[0][1][1], colors[1][0], colors[1][1][1])\n",
        "print(text)"
      ],
      "execution_count": null,
      "outputs": [
        {
          "output_type": "stream",
          "name": "stdout",
          "text": [
            "My two favorite flowers are tulip and rose, two favorite colors are blue and green.\n"
          ]
        }
      ]
    },
    {
      "cell_type": "code",
      "metadata": {
        "colab": {
          "base_uri": "https://localhost:8080/"
        },
        "id": "2FAiE7NooWYu",
        "outputId": "3c114928-e34f-44c3-8fd6-f236a27a2aeb"
      },
      "source": [
        "\"melek\".index(\"e\", 2)"
      ],
      "execution_count": null,
      "outputs": [
        {
          "output_type": "execute_result",
          "data": {
            "text/plain": [
              "3"
            ]
          },
          "metadata": {},
          "execution_count": 4
        }
      ]
    },
    {
      "cell_type": "code",
      "metadata": {
        "colab": {
          "base_uri": "https://localhost:8080/"
        },
        "id": "lQXOPWVSoWbP",
        "outputId": "dacb3855-4fbf-4d99-8b77-f4e386790f46"
      },
      "source": [
        "colors = [\"red\", \"blue\", \"yellow\", \"green\", \"pink\"]\n",
        "print(colors.index(\"red\"))\n",
        "print(colors.index(\"green\"))"
      ],
      "execution_count": null,
      "outputs": [
        {
          "output_type": "stream",
          "name": "stdout",
          "text": [
            "0\n",
            "3\n"
          ]
        }
      ]
    },
    {
      "cell_type": "code",
      "metadata": {
        "colab": {
          "base_uri": "https://localhost:8080/"
        },
        "id": "Pp_FuF4koWdn",
        "outputId": "7f65a111-6c33-455c-fd20-60b1e18ac7ba"
      },
      "source": [
        "yas = int(input(\"Yaşınızı giriniz: \"))\n",
        "if yas >= 18 :\n",
        "  print(\"Yaşınız {}. Süper! İçeriye girebilirsiniz.\".format(yas))\n",
        "else:\n",
        "  print(\"Yaşınız {}. Reşit değilsiniz. Maalesef içeriye giremezsiniz.\".format(yas))"
      ],
      "execution_count": null,
      "outputs": [
        {
          "output_type": "stream",
          "name": "stdout",
          "text": [
            "Yaşınızı giriniz: 29\n",
            "Yaşınız 29. Süper! İçeriye girebilirsiniz.\n"
          ]
        }
      ]
    },
    {
      "cell_type": "code",
      "metadata": {
        "colab": {
          "base_uri": "https://localhost:8080/"
        },
        "id": "iMSmUBBBtM2-",
        "outputId": "be82b25f-e1bd-4852-9a43-114bbb21d9f5"
      },
      "source": [
        "yas = int(input(\"Yaşınızı giriniz: \"))\n",
        "soru = input(\"Tek başına mısınız?: \")\n",
        "ikinci = float(input(\"Yanınızdaki kişi kaç yaşında?: \"))\n",
        "if yas >= 18 :\n",
        "  if soru == \"hayır\":\n",
        "    if ikinci >= 18 :\n",
        "      print(\"İçeriye girebilirsiniz.\")    \n",
        "    else :\n",
        "      print(\"İçeriye giremezsiniz.\")\n",
        "  else: \n",
        "    print(\"İçeriye giremezsiniz.\")\n",
        "else:\n",
        "  print(\"İçeriye giremezsiniz.\")"
      ],
      "execution_count": null,
      "outputs": [
        {
          "output_type": "stream",
          "name": "stdout",
          "text": [
            "Yaşınızı giriniz: 21\n",
            "Tek başına mısınız?: hayır\n",
            "Yanınızdaki kişi kaç yaşında?: 12\n",
            "İçeriye giremezsiniz.\n"
          ]
        }
      ]
    },
    {
      "cell_type": "code",
      "metadata": {
        "colab": {
          "base_uri": "https://localhost:8080/"
        },
        "id": "2pGNelh4tM5x",
        "outputId": "0d574722-8201-49d4-942d-3f09e8fdcd36"
      },
      "source": [
        "satis_miktari = int(input(\"Aylık satış miktarıızı giriniz: \"))\n",
        "\n",
        "if 0 < satis_miktari <= 100 :\n",
        "  print(\"Prim almaya hak kazanamadınız.\")\n",
        "elif 101 < satis_miktari < 150 :\n",
        "  print(\"%10 prim kazandınız.\")\n",
        "else :\n",
        "  print(\"% 25 prim almaya hak kazandınız.\")"
      ],
      "execution_count": null,
      "outputs": [
        {
          "output_type": "stream",
          "name": "stdout",
          "text": [
            "Aylık satış miktarıızı giriniz: 180\n",
            "% 25 prim almaya hak kazandınız.\n"
          ]
        }
      ]
    },
    {
      "cell_type": "code",
      "metadata": {
        "colab": {
          "base_uri": "https://localhost:8080/"
        },
        "id": "t_3f4BJ1tM8q",
        "outputId": "73d6198a-74ed-4c61-badb-5c93d4ec09cd"
      },
      "source": [
        "print('Welcome to my greengrocer')\n",
        "fruit = input('Which fruit do you want?: ').strip()\n",
        "kg = int(input('How much kg do you want fruit?: ').strip())\n",
        "\n",
        "if fruit == 'cherry':\n",
        "  amount = kg*10\n",
        "  print('the amount you have to pay is ',amount)\n",
        "elif fruit =='fig':\n",
        "  amount = kg*12\n",
        "  print('the amount you have to pay is',amount)\n",
        "elif fruit ==' strawberry':\n",
        "  amount = kg*6\n",
        "  print('the amount you have to pay is',amount)\n",
        "else:\n",
        "  print('we dont have like this fruit')"
      ],
      "execution_count": null,
      "outputs": [
        {
          "output_type": "stream",
          "name": "stdout",
          "text": [
            "Welcome to my greengrocer\n",
            "Which fruit do you want?: cherry\n",
            "How much kg do you want fruit?: 15 \n",
            "the amount you have to pay is  150\n"
          ]
        }
      ]
    },
    {
      "cell_type": "code",
      "metadata": {
        "colab": {
          "base_uri": "https://localhost:8080/"
        },
        "id": "MbiRgfGAtM_F",
        "outputId": "53ef3fa0-0313-42b3-c933-6b8c93a75d41"
      },
      "source": [
        "isim = input(\"İsminiz: \").title()\n",
        "yas = float(input(\"Yaşınız: \"))\n",
        "egitim = input(\"Eğitim durumunuz: \").lower()\n",
        "\n",
        "if yas >= 18 :\n",
        "  if egitim == \"lise\" or egitim == \"üniversite\" :\n",
        "    print(\"{} ehliyet alabilirsiniz.\".format(isim))\n",
        "  else :\n",
        "    print(\"{} eğitim şartını karşılamıyorsunuz.\".format(isim))\n",
        "else :\n",
        "  print(\"{} ehiyet alamazsınız.\".format(isim))"
      ],
      "execution_count": null,
      "outputs": [
        {
          "output_type": "stream",
          "name": "stdout",
          "text": [
            "İsminiz: ali\n",
            "Yaşınız: 29\n",
            "Eğitim durumunuz: üniversite\n",
            "Ali ehliyet alabilirsiniz.\n"
          ]
        }
      ]
    },
    {
      "cell_type": "code",
      "metadata": {
        "colab": {
          "base_uri": "https://localhost:8080/"
        },
        "id": "JE9Vnasv8WpM",
        "outputId": "3bba9f69-3d00-448a-b002-e4bbdafba330"
      },
      "source": [
        "yazili1 = float(input('1. yazılı notunuz: '))\n",
        "yazili2 = float(input('2. yazılı notunuz: '))\n",
        "sozlu = float(input('Sözlü notunuz: '))\n",
        "\n",
        "ortalama = round((yazili1 + yazili2 + sozlu) / 3)\n",
        "\n",
        "if 0 <= ortalama < 25 :\n",
        "  print(\"Ortalamanız {}, notunuz: 0\".format(ortalama))\n",
        "elif 25 <= ortalama < 45 :\n",
        "  print(\"Ortalamanız {}, notunuz: 1\".format(ortalama))\n",
        "elif 45 <= ortalama < 55 :\n",
        "  print(\"Ortalamanız {}, notunuz: 2\".format(ortalama))\n",
        "elif 55 <= ortalama < 70 :\n",
        "  print(\"Ortalamanız {}, notunuz: 3\".format(ortalama))\n",
        "elif 70 <= ortalama < 85 :\n",
        "  print(\"Ortalamanız {}, notunuz: 4\".format(ortalama))\n",
        "elif 85 <= ortalama <= 100:\n",
        "  print(\"Ortalamanız {}, notunuz: 5\".format(ortalama))\n",
        "else:\n",
        "  print(\"Yanlış bilgi girdiniz.\")"
      ],
      "execution_count": null,
      "outputs": [
        {
          "output_type": "stream",
          "name": "stdout",
          "text": [
            "1. yazılı notunuz: 85\n",
            "2. yazılı notunuz: 97\n",
            "Sözlü notunuz: 100\n",
            "Ortalamanız 94, notunuz: 5\n"
          ]
        }
      ]
    },
    {
      "cell_type": "code",
      "metadata": {
        "colab": {
          "base_uri": "https://localhost:8080/"
        },
        "id": "rzaax6bi8WsQ",
        "outputId": "c4e133bd-7e17-4387-d757-228eb9d7033c"
      },
      "source": [
        "# Girilen bir sayının pozitif çift tam sayı olup olmadığını kontrol eden bir\n",
        "# program yazınız\n",
        "\n",
        "sayi = int(input(\"Sayı: \"))\n",
        "if sayi >= 0 and sayi % 2 ==0 :\n",
        "  print(sayi, \"pozitif bir çift sayıdır.\")\n",
        "elif sayi >= 0 and sayi % 2 == 1 :\n",
        "  print(sayi, \"pozitif bir tek sayıdır.\")\n",
        "elif sayi < 0 and sayi % 2 == 0 :\n",
        "  print(sayi, \"negatif bir çift sayıdır.\")\n",
        "else :\n",
        "  print(sayi, \"negatif bir tek sayıdır.\")"
      ],
      "execution_count": null,
      "outputs": [
        {
          "output_type": "stream",
          "name": "stdout",
          "text": [
            "Sayı: 24\n",
            "24 pozitif bir çift sayıdır.\n"
          ]
        }
      ]
    },
    {
      "cell_type": "code",
      "metadata": {
        "colab": {
          "base_uri": "https://localhost:8080/"
        },
        "id": "_4xiVvlS8WvO",
        "outputId": "ec1cc03a-b5e9-45d3-de01-687323d566cb"
      },
      "source": [
        "# Girilen bir sayının pozitif çift tam sayı olup olmadığını kontrol eden bir\n",
        "# program yazınız\n",
        "\n",
        "sayi = int(input(\"Sayı: \"))\n",
        "if sayi >= 0 :\n",
        "  if sayi % 2 ==0 :\n",
        "    print(sayi, \"bir çift sayıdır.\")\n",
        "  else:\n",
        "    print(sayi, \"pozitif ancak tek sayıdır.\")\n",
        "else:\n",
        "  print(sayi, \"negatif bir sayıdır.\")"
      ],
      "execution_count": null,
      "outputs": [
        {
          "output_type": "stream",
          "name": "stdout",
          "text": [
            "Sayı: 25\n",
            "25 pozitif ancak tek sayıdır.\n"
          ]
        }
      ]
    },
    {
      "cell_type": "code",
      "metadata": {
        "colab": {
          "base_uri": "https://localhost:8080/"
        },
        "id": "ikmgfwGV8Wx0",
        "outputId": "a241cae4-3818-4870-9450-6fc401231246"
      },
      "source": [
        "a,b,c = input(),input(),input()"
      ],
      "execution_count": null,
      "outputs": [
        {
          "name": "stdout",
          "output_type": "stream",
          "text": [
            "15\n",
            "45\n",
            "87\n"
          ]
        }
      ]
    },
    {
      "cell_type": "code",
      "metadata": {
        "colab": {
          "base_uri": "https://localhost:8080/"
        },
        "id": "GTr9L9qStNBT",
        "outputId": "fd50ed3c-4c90-489b-da24-fe3604a36400"
      },
      "source": [
        "left = ['q', 'w', 'e', 'r', 't', 'a', 's', 'd', 'f', 'g', 'z', 'x', 'c', 'v', 'b']\n",
        "right = ['y', 'u', 'i', 'o', 'p', 'h', 'j', 'k', 'l', 'n', 'm']\n",
        "\n",
        "yazi = list(input(\"Lütfen bir kelime girin: \"))\n",
        "if yazi[]\n",
        "print(yazi)"
      ],
      "execution_count": null,
      "outputs": [
        {
          "output_type": "stream",
          "name": "stdout",
          "text": [
            "Lütfen bir kelime girin: ahmet\n",
            "['a', 'h', 'm', 'e', 't']\n"
          ]
        }
      ]
    },
    {
      "cell_type": "code",
      "metadata": {
        "colab": {
          "base_uri": "https://localhost:8080/"
        },
        "id": "2PqXrFyutNDQ",
        "outputId": "ab100990-1167-41cb-fb6b-ffb69107b525"
      },
      "source": [
        "left_h = \"q, w, e, r, t, a, s, d, f, g, z, x, c, v, b\"\n",
        "right_h = \"y, u, i, o, p, h, j, k, l, n, m\"\n",
        "word = set(input(\"Bir kelime giriniz \").lower())\n",
        "\n",
        "if word - set(left_h) == set() or word - set(right_h) == set() :\n",
        "  print(False)\n",
        "else:\n",
        "  print(True)"
      ],
      "execution_count": null,
      "outputs": [
        {
          "output_type": "stream",
          "name": "stdout",
          "text": [
            "Bir kelime giriniz ali\n",
            "True\n"
          ]
        }
      ]
    },
    {
      "cell_type": "code",
      "metadata": {
        "id": "8DlvpnA-tNFo",
        "colab": {
          "base_uri": "https://localhost:8080/"
        },
        "outputId": "f7f5f8da-aebf-4de3-b72d-691d71cc9dea"
      },
      "source": [
        "print(\"a\"+\"bc\")"
      ],
      "execution_count": null,
      "outputs": [
        {
          "output_type": "stream",
          "name": "stdout",
          "text": [
            "abc\n"
          ]
        }
      ]
    },
    {
      "cell_type": "code",
      "metadata": {
        "id": "HVXTWNBstNHU",
        "colab": {
          "base_uri": "https://localhost:8080/"
        },
        "outputId": "6f2e3c09-76c3-4f7a-d537-2ffc26091162"
      },
      "source": [
        "print(22 % 3)"
      ],
      "execution_count": null,
      "outputs": [
        {
          "output_type": "stream",
          "name": "stdout",
          "text": [
            "1\n"
          ]
        }
      ]
    },
    {
      "cell_type": "code",
      "metadata": {
        "id": "rbTCtcYjtNJj",
        "colab": {
          "base_uri": "https://localhost:8080/"
        },
        "outputId": "70c3a9e3-acdd-4573-cca1-370f7d965313"
      },
      "source": [
        "print(3 * 1 ** 3)"
      ],
      "execution_count": null,
      "outputs": [
        {
          "output_type": "stream",
          "name": "stdout",
          "text": [
            "3\n"
          ]
        }
      ]
    },
    {
      "cell_type": "code",
      "metadata": {
        "id": "q0XNC-O8tNLf",
        "colab": {
          "base_uri": "https://localhost:8080/"
        },
        "outputId": "727a3663-d808-4432-f131-6ce993cce5eb"
      },
      "source": [
        "rakamlar = \"123456\"\n",
        "\n",
        "for rakam in rakamlar :\n",
        "  print(rakam)"
      ],
      "execution_count": null,
      "outputs": [
        {
          "output_type": "stream",
          "name": "stdout",
          "text": [
            "1\n",
            "2\n",
            "3\n",
            "4\n",
            "5\n",
            "6\n"
          ]
        }
      ]
    },
    {
      "cell_type": "code",
      "metadata": {
        "id": "RAcULlr7tNNs",
        "colab": {
          "base_uri": "https://localhost:8080/"
        },
        "outputId": "f8564af4-9dd7-40db-ca68-6de148c60637"
      },
      "source": [
        "listea = [False, True, 1, \"clarusway\"]\n",
        "\n",
        "for i in listea :\n",
        "  print(i)"
      ],
      "execution_count": null,
      "outputs": [
        {
          "output_type": "stream",
          "name": "stdout",
          "text": [
            "False\n",
            "True\n",
            "1\n",
            "clarusway\n"
          ]
        }
      ]
    },
    {
      "cell_type": "code",
      "metadata": {
        "colab": {
          "base_uri": "https://localhost:8080/"
        },
        "id": "V6JhgNJAzmjo",
        "outputId": "30a86ce1-931b-401a-c81c-838986c04d11"
      },
      "source": [
        "listeb = [False, True, 1, [1, 2]]\n",
        "\n",
        "for i in listeb :\n",
        "  print(i)"
      ],
      "execution_count": null,
      "outputs": [
        {
          "output_type": "stream",
          "name": "stdout",
          "text": [
            "False\n",
            "True\n",
            "1\n",
            "[1, 2]\n"
          ]
        }
      ]
    },
    {
      "cell_type": "code",
      "metadata": {
        "colab": {
          "base_uri": "https://localhost:8080/"
        },
        "id": "HJ6mSFU9zmmJ",
        "outputId": "d57bcc77-35df-4e9d-a14d-f5e3a00e0dbc"
      },
      "source": [
        "tuple_a = (\"akşam\", \"ders\", 1, False)\n",
        "\n",
        "for i in tuple_a :\n",
        "  print(i)"
      ],
      "execution_count": null,
      "outputs": [
        {
          "output_type": "stream",
          "name": "stdout",
          "text": [
            "akşam\n",
            "ders\n",
            "1\n",
            "False\n"
          ]
        }
      ]
    },
    {
      "cell_type": "code",
      "metadata": {
        "colab": {
          "base_uri": "https://localhost:8080/"
        },
        "id": "-sf8LPmvzmon",
        "outputId": "249281ea-1aab-4739-b689-f17f8de54b38"
      },
      "source": [
        "sayi = 25\n",
        "\n",
        "for i in str(sayi) :\n",
        "  print(i)"
      ],
      "execution_count": null,
      "outputs": [
        {
          "output_type": "stream",
          "name": "stdout",
          "text": [
            "2\n",
            "5\n"
          ]
        }
      ]
    },
    {
      "cell_type": "code",
      "metadata": {
        "colab": {
          "base_uri": "https://localhost:8080/"
        },
        "id": "111AUscDzmq2",
        "outputId": "ddb4b529-e9aa-4781-cf49-b2575143021d"
      },
      "source": [
        "sayi = 25\n",
        "\n",
        "for i in str(sayi) :\n",
        "  print(i, end = \"\")"
      ],
      "execution_count": null,
      "outputs": [
        {
          "output_type": "stream",
          "name": "stdout",
          "text": [
            "25"
          ]
        }
      ]
    },
    {
      "cell_type": "code",
      "metadata": {
        "colab": {
          "base_uri": "https://localhost:8080/"
        },
        "id": "r46VJ7oYzmtF",
        "outputId": "a10536b9-2f45-4d29-f7fc-ea5c4e0ce043"
      },
      "source": [
        "sayi = 25\n",
        "\n",
        "for i in str(sayi) :\n",
        "  print(i, end = \" \")"
      ],
      "execution_count": null,
      "outputs": [
        {
          "output_type": "stream",
          "name": "stdout",
          "text": [
            "2 5 "
          ]
        }
      ]
    },
    {
      "cell_type": "code",
      "metadata": {
        "colab": {
          "base_uri": "https://localhost:8080/"
        },
        "id": "oRXUi9cI1xgP",
        "outputId": "5bdc63cd-7b58-4aaa-fc86-f7467fc9b0aa"
      },
      "source": [
        "sayi = {\"bir\" : 1, \"iki\" : 2, \"üç\" : 3}\n",
        "\n",
        "for i in sayi :\n",
        "  print(i)"
      ],
      "execution_count": null,
      "outputs": [
        {
          "output_type": "stream",
          "name": "stdout",
          "text": [
            "bir\n",
            "iki\n",
            "üç\n"
          ]
        }
      ]
    },
    {
      "cell_type": "code",
      "metadata": {
        "colab": {
          "base_uri": "https://localhost:8080/"
        },
        "id": "qcsEstbX1xiw",
        "outputId": "7b87be38-75a9-46a8-9a87-54d7cc05c8b4"
      },
      "source": [
        "sayi = {\"bir\" : 1, \"iki\" : 2, \"üç\" : 3}\n",
        "\n",
        "for i, y in sayi.items() :\n",
        "  print(i, y)"
      ],
      "execution_count": null,
      "outputs": [
        {
          "output_type": "stream",
          "name": "stdout",
          "text": [
            "bir 1\n",
            "iki 2\n",
            "üç 3\n"
          ]
        }
      ]
    },
    {
      "cell_type": "code",
      "metadata": {
        "colab": {
          "base_uri": "https://localhost:8080/"
        },
        "id": "psq6HFsS1xky",
        "outputId": "6dc3bfdf-3d3c-48a1-def2-b99f1ab07952"
      },
      "source": [
        "sayi = {\"bir\" : 1, \"iki\" : 2, \"üç\" : 3}\n",
        "\n",
        "for i in sayi.values() :\n",
        "  print(i)"
      ],
      "execution_count": null,
      "outputs": [
        {
          "output_type": "stream",
          "name": "stdout",
          "text": [
            "1\n",
            "2\n",
            "3\n"
          ]
        }
      ]
    },
    {
      "cell_type": "code",
      "metadata": {
        "colab": {
          "base_uri": "https://localhost:8080/"
        },
        "id": "7tA3bnhe1xm3",
        "outputId": "3249d674-82ab-4625-a0ce-6c8f8e059b84"
      },
      "source": [
        "sayi = {\"bir\" : 1, \"iki\" : 2, \"üç\" : 3}\n",
        "\n",
        "for i in sayi.keys() :\n",
        "  print(i)"
      ],
      "execution_count": null,
      "outputs": [
        {
          "output_type": "stream",
          "name": "stdout",
          "text": [
            "bir\n",
            "iki\n",
            "üç\n"
          ]
        }
      ]
    },
    {
      "cell_type": "code",
      "metadata": {
        "colab": {
          "base_uri": "https://localhost:8080/"
        },
        "id": "0gI6dkWh1xpK",
        "outputId": "ebbd2b4d-576c-42ec-fa31-a52935821051"
      },
      "source": [
        "for i in range(1,6) :\n",
        "  print(i, \".dilm pizzanız afiyet olsun\")"
      ],
      "execution_count": null,
      "outputs": [
        {
          "output_type": "stream",
          "name": "stdout",
          "text": [
            "1 .dilm pizzanız afiyet olsun\n",
            "2 .dilm pizzanız afiyet olsun\n",
            "3 .dilm pizzanız afiyet olsun\n",
            "4 .dilm pizzanız afiyet olsun\n",
            "5 .dilm pizzanız afiyet olsun\n"
          ]
        }
      ]
    },
    {
      "cell_type": "code",
      "metadata": {
        "colab": {
          "base_uri": "https://localhost:8080/"
        },
        "id": "DwsCBKce2zeg",
        "outputId": "c9e5f3f2-0398-4c07-a798-9f3abf65b796"
      },
      "source": [
        "sayi = {\"bir\" : 1, \"iki\" : 2, \"üç\" : 3}\n",
        "\n",
        "for i in range(len(sayi)) :\n",
        "  print(i, \".dilm pizzanız afiyet olsun\")"
      ],
      "execution_count": null,
      "outputs": [
        {
          "output_type": "stream",
          "name": "stdout",
          "text": [
            "0 .dilm pizzanız afiyet olsun\n",
            "1 .dilm pizzanız afiyet olsun\n",
            "2 .dilm pizzanız afiyet olsun\n"
          ]
        }
      ]
    },
    {
      "cell_type": "code",
      "metadata": {
        "colab": {
          "base_uri": "https://localhost:8080/"
        },
        "id": "Bdk_DgaI2zgp",
        "outputId": "52ef2da7-72d1-43be-e206-d21274e11871"
      },
      "source": [
        "sayi = {\"bir\" : 1, \"iki\" : 2, \"üç\" : 3}\n",
        "\n",
        "for i in range(1, len(sayi)) :\n",
        "  print(i, \".dilm pizzanız afiyet olsun\")"
      ],
      "execution_count": null,
      "outputs": [
        {
          "output_type": "stream",
          "name": "stdout",
          "text": [
            "1 .dilm pizzanız afiyet olsun\n",
            "2 .dilm pizzanız afiyet olsun\n"
          ]
        }
      ]
    },
    {
      "cell_type": "code",
      "metadata": {
        "colab": {
          "base_uri": "https://localhost:8080/"
        },
        "id": "uqMFztUR2zi4",
        "outputId": "cc92e0bd-57ab-41e9-9f16-b86524b0eedf"
      },
      "source": [
        "for i in range(1, 10) :\n",
        "  print(i)\n",
        "  if i == 5 :\n",
        "    break"
      ],
      "execution_count": null,
      "outputs": [
        {
          "output_type": "stream",
          "name": "stdout",
          "text": [
            "1\n",
            "2\n",
            "3\n",
            "4\n",
            "5\n"
          ]
        }
      ]
    },
    {
      "cell_type": "code",
      "metadata": {
        "colab": {
          "base_uri": "https://localhost:8080/"
        },
        "id": "wSju8oeO2zlV",
        "outputId": "86083f7a-8f16-4dc8-e365-d2fe16b3acee"
      },
      "source": [
        "for i in range(1, 10) :\n",
        "  print(i)\n",
        "  if i == 5 :\n",
        "    continue\n",
        "    print(\"elma\")"
      ],
      "execution_count": null,
      "outputs": [
        {
          "output_type": "stream",
          "name": "stdout",
          "text": [
            "1\n",
            "2\n",
            "3\n",
            "4\n",
            "5\n",
            "6\n",
            "7\n",
            "8\n",
            "9\n"
          ]
        }
      ]
    },
    {
      "cell_type": "code",
      "metadata": {
        "colab": {
          "base_uri": "https://localhost:8080/"
        },
        "id": "mrfebM3C352I",
        "outputId": "7404065e-b75f-40a9-9c5d-bf9a1bb186d3"
      },
      "source": [
        "for i in range(1, 10) :\n",
        "    if i == 5 :\n",
        "      continue\n",
        "    print(i)"
      ],
      "execution_count": null,
      "outputs": [
        {
          "output_type": "stream",
          "name": "stdout",
          "text": [
            "1\n",
            "2\n",
            "3\n",
            "4\n",
            "6\n",
            "7\n",
            "8\n",
            "9\n"
          ]
        }
      ]
    },
    {
      "cell_type": "code",
      "metadata": {
        "colab": {
          "base_uri": "https://localhost:8080/"
        },
        "id": "tElDJgsf354g",
        "outputId": "0fbb7d12-ebca-4907-d931-e314ffa743e6"
      },
      "source": [
        "isimler = [\"ayşe\", \"fatma\", \"mehmet\"]\n",
        "durum = [\"üzgün\", \"mutlu\", \"neşeli\"]\n",
        "\n",
        "for i in isimler :\n",
        "  for j in durum :\n",
        "    print(i, \"bugün\", j)"
      ],
      "execution_count": null,
      "outputs": [
        {
          "output_type": "stream",
          "name": "stdout",
          "text": [
            "ayşe bugün üzgün\n",
            "ayşe bugün mutlu\n",
            "ayşe bugün neşeli\n",
            "fatma bugün üzgün\n",
            "fatma bugün mutlu\n",
            "fatma bugün neşeli\n",
            "mehmet bugün üzgün\n",
            "mehmet bugün mutlu\n",
            "mehmet bugün neşeli\n"
          ]
        }
      ]
    },
    {
      "cell_type": "code",
      "metadata": {
        "colab": {
          "base_uri": "https://localhost:8080/"
        },
        "id": "es34h13e4T4b",
        "outputId": "739f6c88-0367-478c-9041-19ae9d6b30df"
      },
      "source": [
        "isimler = [\"ayşe\", \"fatma\", \"mehmet\"]\n",
        "durum = [\"üzgün\", \"mutlu\", \"neşeli\"]\n",
        "\n",
        "for i in isimler :\n",
        "  for j in durum :\n",
        "    print(\"{} bugün {}\".format(i, j))"
      ],
      "execution_count": null,
      "outputs": [
        {
          "output_type": "stream",
          "name": "stdout",
          "text": [
            "ayşe bugün üzgün\n",
            "ayşe bugün mutlu\n",
            "ayşe bugün neşeli\n",
            "fatma bugün üzgün\n",
            "fatma bugün mutlu\n",
            "fatma bugün neşeli\n",
            "mehmet bugün üzgün\n",
            "mehmet bugün mutlu\n",
            "mehmet bugün neşeli\n"
          ]
        }
      ]
    },
    {
      "cell_type": "code",
      "metadata": {
        "colab": {
          "base_uri": "https://localhost:8080/"
        },
        "id": "abVpHwcQ4T7D",
        "outputId": "79fc4d3a-362d-44bf-d10f-9d071ec5ea91"
      },
      "source": [
        "isimler = [\"ayşe\", \"fatma\", \"mehmet\"]\n",
        "durum = [\"üzgün\", \"mutlu\", \"neşeli\"]\n",
        "\n",
        "list(zip(isimler, durum))"
      ],
      "execution_count": null,
      "outputs": [
        {
          "output_type": "execute_result",
          "data": {
            "text/plain": [
              "[('ayşe', 'üzgün'), ('fatma', 'mutlu'), ('mehmet', 'neşeli')]"
            ]
          },
          "metadata": {},
          "execution_count": 48
        }
      ]
    },
    {
      "cell_type": "code",
      "metadata": {
        "colab": {
          "base_uri": "https://localhost:8080/"
        },
        "id": "2gqA1Md44T9X",
        "outputId": "3d5e5b16-a557-4244-925b-8e553d749001"
      },
      "source": [
        "isimler = [\"ayşe\", \"fatma\", \"mehmet\"]\n",
        "durum = [\"üzgün\", \"mutlu\", \"neşeli\"]\n",
        "\n",
        "for i in range(len(isimler)) :\n",
        "  for j in range(len(durum)) :\n",
        "    print(isimler[i], \"bugün\", durum[j])"
      ],
      "execution_count": null,
      "outputs": [
        {
          "output_type": "stream",
          "name": "stdout",
          "text": [
            "ayşe bugün üzgün\n",
            "ayşe bugün mutlu\n",
            "ayşe bugün neşeli\n",
            "fatma bugün üzgün\n",
            "fatma bugün mutlu\n",
            "fatma bugün neşeli\n",
            "mehmet bugün üzgün\n",
            "mehmet bugün mutlu\n",
            "mehmet bugün neşeli\n"
          ]
        }
      ]
    },
    {
      "cell_type": "code",
      "metadata": {
        "colab": {
          "base_uri": "https://localhost:8080/"
        },
        "id": "CYMxlNAL4T-9",
        "outputId": "d429d103-260b-4873-be78-aab6f2aab1f9"
      },
      "source": [
        "# 1\n",
        "# 12\n",
        "# 123\n",
        "# 1234 --> Bu döngü kaç defa çalışmış? ---> 4 defa\n",
        "\n",
        "n = int(input(\"\"))\n",
        "\n",
        "for i in range(n) :\n",
        "  for j in range (1, i + 1) :\n",
        "    print(j, end = \" \")\n",
        "  print()\n"
      ],
      "execution_count": null,
      "outputs": [
        {
          "output_type": "stream",
          "name": "stdout",
          "text": [
            "5\n",
            "\n",
            "1 \n",
            "1 2 \n",
            "1 2 3 \n",
            "1 2 3 4 \n"
          ]
        }
      ]
    },
    {
      "cell_type": "code",
      "metadata": {
        "colab": {
          "base_uri": "https://localhost:8080/"
        },
        "id": "EOSxXuK53565",
        "outputId": "49828f09-4ad6-4475-b3e4-28ca41f4aed3"
      },
      "source": [
        "# 1-12-123-1234 Pattern up to n lines\n",
        "\n",
        "n = int(input(\"Enter number of rows: \"))\n",
        "\n",
        "for i in range(1,n+1): # i aracı\n",
        "    for j in range(1, i+1):\n",
        "        print(j, end=\"\")\n",
        "    print()"
      ],
      "execution_count": null,
      "outputs": [
        {
          "output_type": "stream",
          "name": "stdout",
          "text": [
            "Enter number of rows: 5\n",
            "1\n",
            "12\n",
            "123\n",
            "1234\n",
            "12345\n"
          ]
        }
      ]
    },
    {
      "cell_type": "code",
      "metadata": {
        "colab": {
          "base_uri": "https://localhost:8080/"
        },
        "id": "BcgRVOYi2znV",
        "outputId": "c468ae56-ac9f-4fcd-a75a-e84a08c414aa"
      },
      "source": [
        "rows = 4\n",
        "\n",
        "for i in range(rows) :\n",
        "  for j in range (i + 1) :\n",
        "    print(j + 1, end = \" \")\n",
        "  print(\"\\n\")"
      ],
      "execution_count": null,
      "outputs": [
        {
          "output_type": "stream",
          "name": "stdout",
          "text": [
            "1 \n",
            "\n",
            "1 2 \n",
            "\n",
            "1 2 3 \n",
            "\n",
            "1 2 3 4 \n",
            "\n"
          ]
        }
      ]
    },
    {
      "cell_type": "code",
      "metadata": {
        "colab": {
          "base_uri": "https://localhost:8080/"
        },
        "id": "xyO5VDUM2zol",
        "outputId": "b969c93d-61c4-4a50-fdc7-c9fc63d0aa05"
      },
      "source": [
        "anaPara = 1000.0\n",
        "kar = 0.07\n",
        "zaman = 1\n",
        "\n",
        "while zaman <= 7:\n",
        "  anaPara += anaPara*kar\n",
        "  print(zaman, '.Gün Toplam: ', anaPara)\n",
        "  zaman += 1"
      ],
      "execution_count": null,
      "outputs": [
        {
          "output_type": "stream",
          "name": "stdout",
          "text": [
            "1 .Gün Toplam:  1070.0\n",
            "2 .Gün Toplam:  1144.9\n",
            "3 .Gün Toplam:  1225.0430000000001\n",
            "4 .Gün Toplam:  1310.79601\n",
            "5 .Gün Toplam:  1402.5517307\n",
            "6 .Gün Toplam:  1500.730351849\n",
            "7 .Gün Toplam:  1605.78147647843\n"
          ]
        }
      ]
    },
    {
      "cell_type": "code",
      "metadata": {
        "colab": {
          "base_uri": "https://localhost:8080/"
        },
        "id": "0gz3xB4v1xq5",
        "outputId": "03c3ff96-d828-40c5-8f00-414f610e2b2e"
      },
      "source": [
        "rows = int(input(\"Enter number of rows: \"))\n",
        "\n",
        "for i in range(rows):\n",
        "    for j in range(i+1):\n",
        "        print(\"* \", end=\"\")\n",
        "    print(\"\\n\")"
      ],
      "execution_count": null,
      "outputs": [
        {
          "output_type": "stream",
          "name": "stdout",
          "text": [
            "Enter number of rows: 5\n",
            "* \n",
            "\n",
            "* * \n",
            "\n",
            "* * * \n",
            "\n",
            "* * * * \n",
            "\n",
            "* * * * * \n",
            "\n"
          ]
        }
      ]
    },
    {
      "cell_type": "code",
      "metadata": {
        "id": "vM9BFnS6_IiA"
      },
      "source": [
        "okul_mumarasi = input(\"Okul numaranızı giriniz:\")\n",
        "no = str(okul_numarasi)\n",
        "d1 = dict(giri)"
      ],
      "execution_count": null,
      "outputs": []
    },
    {
      "cell_type": "code",
      "metadata": {
        "colab": {
          "base_uri": "https://localhost:8080/"
        },
        "id": "DjsvH57f_Ikh",
        "outputId": "e2eda581-d8c6-4ae9-d7cf-d24039970b57"
      },
      "source": [
        "#Baska Bir Kod - Python Soru / Cevap \n",
        "sayi = int(input(\"Sayi Giriniz:\"))\n",
        "\n",
        "toplam=0\n",
        "\n",
        "for i in range(1,sayi):\n",
        "    print(i)\n",
        "    if(sayi%i == 0):\n",
        "        toplam +=i\n",
        "        \n",
        "if(sayi == toplam):\n",
        "    print(\"Mükemmel Sayidir.\")\n",
        "else:\n",
        "    print(\"Mükemmel Sayi Degildir\")"
      ],
      "execution_count": null,
      "outputs": [
        {
          "output_type": "stream",
          "name": "stdout",
          "text": [
            "Sayi Giriniz:6\n",
            "1\n",
            "2\n",
            "3\n",
            "4\n",
            "5\n",
            "Mükemmel Sayidir.\n"
          ]
        }
      ]
    },
    {
      "cell_type": "code",
      "metadata": {
        "colab": {
          "base_uri": "https://localhost:8080/"
        },
        "id": "3T59S9Y0_Imo",
        "outputId": "4deba9a5-f973-438e-d9ad-4fcd2088ef17"
      },
      "source": [
        "#Baska Bir Kod - Python Soru / Cevap \n",
        "sayi = int(input(\"Sayi Giriniz:\"))\n",
        "\n",
        "toplam=0\n",
        "\n",
        "for i in range(1,sayi):\n",
        "    if(sayi%i == 0):\n",
        "        toplam +=i\n",
        "        print(i)\n",
        "        \n",
        "if(sayi == toplam):\n",
        "    print(\"Mükemmel Sayidir.\")\n",
        "else:\n",
        "    print(\"Mükemmel Sayi Degildir\")"
      ],
      "execution_count": null,
      "outputs": [
        {
          "output_type": "stream",
          "name": "stdout",
          "text": [
            "Sayi Giriniz:6\n",
            "1\n",
            "2\n",
            "3\n",
            "Mükemmel Sayidir.\n"
          ]
        }
      ]
    },
    {
      "cell_type": "code",
      "metadata": {
        "colab": {
          "base_uri": "https://localhost:8080/"
        },
        "id": "Qq62hzgq_Iov",
        "outputId": "eb9285ab-5cc9-4931-aca8-03382485b227"
      },
      "source": [
        "# Write a Python program to compute the greatest common divisor (GCD) of\n",
        "# two positive integers.\n",
        "\n",
        "num1 = int(input(\"Birinci sayıyı giriniz: \"))\n",
        "num2 = int(input(\"İkinci sayıyı giriniz: \"))\n",
        "\n",
        "bolen = min(num1, num2)\n",
        "\n",
        "for i in range(1, bolen+1):\n",
        "  if num1 % i == 0 and num2 % i == 0 :\n",
        "    ebob = i\n",
        "\n",
        "print(ebob)"
      ],
      "execution_count": null,
      "outputs": [
        {
          "output_type": "stream",
          "name": "stdout",
          "text": [
            "Birinci sayıyı giriniz: 10\n",
            "İkinci sayıyı giriniz: 25\n",
            "5\n"
          ]
        }
      ]
    },
    {
      "cell_type": "code",
      "metadata": {
        "colab": {
          "base_uri": "https://localhost:8080/"
        },
        "id": "xA8mt4iiD-EM",
        "outputId": "8cebaf30-03e4-4c82-c1ee-a0731ba88a52"
      },
      "source": [
        "str1 = 'I am 25 years and 10 months old'\n",
        "# output = 2510\n",
        "\n",
        "digit_str = \"\"\n",
        "for i in str1 :\n",
        "  if i.isdigit() :\n",
        "    digit_str += i\n",
        "\n",
        "print(digit_str)"
      ],
      "execution_count": null,
      "outputs": [
        {
          "output_type": "stream",
          "name": "stdout",
          "text": [
            "2510\n"
          ]
        }
      ]
    },
    {
      "cell_type": "code",
      "metadata": {
        "colab": {
          "base_uri": "https://localhost:8080/"
        },
        "id": "-LC821_UD-HW",
        "outputId": "110916e5-8b33-487f-e568-54f14f1c2e13"
      },
      "source": [
        "for i in range(5,0,-1):\n",
        "  print(i * \"*\")"
      ],
      "execution_count": null,
      "outputs": [
        {
          "output_type": "stream",
          "name": "stdout",
          "text": [
            "*****\n",
            "****\n",
            "***\n",
            "**\n",
            "*\n"
          ]
        }
      ]
    },
    {
      "cell_type": "code",
      "metadata": {
        "colab": {
          "base_uri": "https://localhost:8080/"
        },
        "id": "XadlRNbhMB3i",
        "outputId": "b948b335-e62c-42b2-f1ef-97a2cce88591"
      },
      "source": [
        "row = 5\n",
        "\n",
        "for i in range(row, 0, -1):\n",
        "  for j in range(0, i):\n",
        "    print(\"*\", end=\"\")\n",
        "  print()"
      ],
      "execution_count": null,
      "outputs": [
        {
          "output_type": "stream",
          "name": "stdout",
          "text": [
            "*****\n",
            "****\n",
            "***\n",
            "**\n",
            "*\n"
          ]
        }
      ]
    },
    {
      "cell_type": "code",
      "metadata": {
        "colab": {
          "base_uri": "https://localhost:8080/"
        },
        "id": "G54ZqdGEM13v",
        "outputId": "09a0d763-5676-42dc-b7ce-5b16a1d382fa"
      },
      "source": [
        "for k in range(5,0,-1):\n",
        "    for i in range(k):\n",
        "        print(\"*\", end= \" \")\n",
        "    print()"
      ],
      "execution_count": null,
      "outputs": [
        {
          "output_type": "stream",
          "name": "stdout",
          "text": [
            "* * * * * \n",
            "* * * * \n",
            "* * * \n",
            "* * \n",
            "* \n"
          ]
        }
      ]
    },
    {
      "cell_type": "code",
      "metadata": {
        "colab": {
          "base_uri": "https://localhost:8080/"
        },
        "id": "ldn5Yme8D-JA",
        "outputId": "05d62066-54aa-4ee6-f674-0d4bdc173890"
      },
      "source": [
        "for i in range(1,6) :\n",
        "  print(i * \"*\")"
      ],
      "execution_count": null,
      "outputs": [
        {
          "output_type": "stream",
          "name": "stdout",
          "text": [
            "*\n",
            "**\n",
            "***\n",
            "****\n",
            "*****\n"
          ]
        }
      ]
    },
    {
      "cell_type": "code",
      "metadata": {
        "colab": {
          "base_uri": "https://localhost:8080/"
        },
        "id": "71ebvBYx_IqO",
        "outputId": "af68ac1b-cb74-42e1-c6c2-db39ead5eb13"
      },
      "source": [
        "lista = [74, 41, 12, 9, 3, 15]\n",
        "# minimumu bul\n",
        "\n",
        "enkucuk = lista[0]\n",
        "\n",
        "for i in lista :\n",
        "  if i < enkucuk :\n",
        "    enkucuk = i\n",
        "\n",
        "print(enkucuk)"
      ],
      "execution_count": null,
      "outputs": [
        {
          "output_type": "stream",
          "name": "stdout",
          "text": [
            "3\n"
          ]
        }
      ]
    },
    {
      "cell_type": "code",
      "metadata": {
        "colab": {
          "base_uri": "https://localhost:8080/"
        },
        "id": "NC6NCl3DG_yo",
        "outputId": "fb219b64-175a-4b4f-a370-102297b09c35"
      },
      "source": [
        "lista = [3, 41, 12, 9, 74, 15]\n",
        "# maksimumu bul\n",
        "\n",
        "enbuyuk = lista[0]\n",
        "\n",
        "for i in lista :\n",
        "  if i > enbuyuk :\n",
        "    enbuyuk = i\n",
        "\n",
        "print(enbuyuk)"
      ],
      "execution_count": null,
      "outputs": [
        {
          "output_type": "stream",
          "name": "stdout",
          "text": [
            "74\n"
          ]
        }
      ]
    },
    {
      "cell_type": "code",
      "metadata": {
        "colab": {
          "base_uri": "https://localhost:8080/"
        },
        "id": "20G8LtB4G_1K",
        "outputId": "08aa1975-27fa-48f9-a12f-1749b3830170"
      },
      "source": [
        "left_h = \"q, w, e, r, t, a, s, d, f, g, z, x, c, v, b\"\n",
        "right_h = \"y, u, i, o, p, h, j, k, l, n, m\"\n",
        "\n",
        "word = set(input(\"Bir kelime giriniz \").lower()) # set >>> küme\n",
        "\n",
        "if word - set(left_h) == set() or word - set(right_h) == set() :\n",
        "  print(False, \"Uncomfortable word\")\n",
        "else:\n",
        "  print(True, \"& Comfortable word\")"
      ],
      "execution_count": null,
      "outputs": [
        {
          "output_type": "stream",
          "name": "stdout",
          "text": [
            "Bir kelime giriniz clarusway\n",
            "True & Comfortable word\n"
          ]
        }
      ]
    },
    {
      "cell_type": "code",
      "metadata": {
        "colab": {
          "base_uri": "https://localhost:8080/"
        },
        "id": "fWZQgJdQIHBx",
        "outputId": "0ef7539a-f84c-4958-a091-22db432e546f"
      },
      "source": [
        "print(set(\"abcd\") - set(\"ab\"))"
      ],
      "execution_count": null,
      "outputs": [
        {
          "output_type": "stream",
          "name": "stdout",
          "text": [
            "{'c', 'd'}\n"
          ]
        }
      ]
    },
    {
      "cell_type": "code",
      "metadata": {
        "colab": {
          "base_uri": "https://localhost:8080/"
        },
        "id": "pBSMLbODIHEQ",
        "outputId": "d380e44b-1627-4e2d-9c43-9bd6d25e1491"
      },
      "source": [
        "# Kullanıcıdan alınan iki sayının ortak bölenlerini yazdıran\n",
        "# bir program yazınız\n",
        "\n",
        "num1 = int(input(\"Birinci sayıyı giriniz: \"))\n",
        "num2 = int(input(\"İkinci sayıyı giriniz: \"))\n",
        "\n",
        "bolenler = []\n",
        "\n",
        "for i in range(1, min(num1,num2) + 1) :\n",
        "  if num1 % i == 0 and num2 % i == 0 :\n",
        "    bolenler += [i]\n",
        "\n",
        "print(* bolenler)\n",
        "print(bolenler)"
      ],
      "execution_count": null,
      "outputs": [
        {
          "output_type": "stream",
          "name": "stdout",
          "text": [
            "Birinci sayıyı giriniz: 32\n",
            "İkinci sayıyı giriniz: 8\n",
            "1 2 4 8\n",
            "[1, 2, 4, 8]\n"
          ]
        }
      ]
    },
    {
      "cell_type": "code",
      "metadata": {
        "id": "EXSeURMAIHGx",
        "colab": {
          "base_uri": "https://localhost:8080/",
          "height": 265
        },
        "outputId": "5db7b729-7177-423f-d597-2f59009e47f0"
      },
      "source": [
        "# Kullanıcıdan alınan iki sayının ortak bölenlerini yazdıran\n",
        "# bir program yazınız\n",
        "\n",
        "num1 = int(input(\"Birinci sayıyı giriniz: \"))\n",
        "num2 = int(input(\"İkinci sayıyı giriniz: \"))\n",
        "\n",
        "bolenler = []\n",
        "\n",
        "for i in range(min(num1,num2)) :\n",
        "  if num1 % i == 0 and num2 % i == 0 :\n",
        "    bolenler.append(i)\n",
        "\n",
        "print(* bolenler)"
      ],
      "execution_count": null,
      "outputs": [
        {
          "name": "stdout",
          "output_type": "stream",
          "text": [
            "Birinci sayıyı giriniz: 9\n",
            "İkinci sayıyı giriniz: 12\n"
          ]
        },
        {
          "output_type": "error",
          "ename": "ZeroDivisionError",
          "evalue": "ignored",
          "traceback": [
            "\u001b[0;31m---------------------------------------------------------------------------\u001b[0m",
            "\u001b[0;31mZeroDivisionError\u001b[0m                         Traceback (most recent call last)",
            "\u001b[0;32m<ipython-input-4-7acbf9628396>\u001b[0m in \u001b[0;36m<module>\u001b[0;34m()\u001b[0m\n\u001b[1;32m      8\u001b[0m \u001b[0;34m\u001b[0m\u001b[0m\n\u001b[1;32m      9\u001b[0m \u001b[0;32mfor\u001b[0m \u001b[0mi\u001b[0m \u001b[0;32min\u001b[0m \u001b[0mrange\u001b[0m\u001b[0;34m(\u001b[0m\u001b[0mmin\u001b[0m\u001b[0;34m(\u001b[0m\u001b[0mnum1\u001b[0m\u001b[0;34m,\u001b[0m\u001b[0mnum2\u001b[0m\u001b[0;34m)\u001b[0m\u001b[0;34m)\u001b[0m \u001b[0;34m:\u001b[0m\u001b[0;34m\u001b[0m\u001b[0;34m\u001b[0m\u001b[0m\n\u001b[0;32m---> 10\u001b[0;31m   \u001b[0;32mif\u001b[0m \u001b[0mnum1\u001b[0m \u001b[0;34m%\u001b[0m \u001b[0mi\u001b[0m \u001b[0;34m==\u001b[0m \u001b[0;36m0\u001b[0m \u001b[0;32mand\u001b[0m \u001b[0mnum2\u001b[0m \u001b[0;34m%\u001b[0m \u001b[0mi\u001b[0m \u001b[0;34m==\u001b[0m \u001b[0;36m0\u001b[0m \u001b[0;34m:\u001b[0m\u001b[0;34m\u001b[0m\u001b[0;34m\u001b[0m\u001b[0m\n\u001b[0m\u001b[1;32m     11\u001b[0m     \u001b[0mbolenler\u001b[0m\u001b[0;34m.\u001b[0m\u001b[0mappend\u001b[0m\u001b[0;34m(\u001b[0m\u001b[0mi\u001b[0m\u001b[0;34m)\u001b[0m\u001b[0;34m\u001b[0m\u001b[0;34m\u001b[0m\u001b[0m\n\u001b[1;32m     12\u001b[0m \u001b[0;34m\u001b[0m\u001b[0m\n",
            "\u001b[0;31mZeroDivisionError\u001b[0m: integer division or modulo by zero"
          ]
        }
      ]
    },
    {
      "cell_type": "code",
      "metadata": {
        "colab": {
          "base_uri": "https://localhost:8080/"
        },
        "id": "S8QGvaG7IHJN",
        "outputId": "a35bb1c6-dcd1-4882-8dbe-6512a6f63d26"
      },
      "source": [
        "num = int(input(\"Bir sayı giriniz: \"))\n",
        "for i in range(1,11) :\n",
        "  print(\"{} x {} = {}\".format(num, i, num * i))"
      ],
      "execution_count": null,
      "outputs": [
        {
          "output_type": "stream",
          "name": "stdout",
          "text": [
            "Bir sayı giriniz: 5\n",
            "5 x 1 = 5\n",
            "5 x 2 = 10\n",
            "5 x 3 = 15\n",
            "5 x 4 = 20\n",
            "5 x 5 = 25\n",
            "5 x 6 = 30\n",
            "5 x 7 = 35\n",
            "5 x 8 = 40\n",
            "5 x 9 = 45\n",
            "5 x 10 = 50\n"
          ]
        }
      ]
    },
    {
      "cell_type": "code",
      "metadata": {
        "id": "_sRhvn3RIHK_",
        "colab": {
          "base_uri": "https://localhost:8080/"
        },
        "outputId": "a7fcfd2b-ce0c-4e2a-f36a-1c8f700e37fc"
      },
      "source": [
        "liste = [\"melek\", \"alan\", \"canakkale\"]\n",
        "list(map(str.upper, liste))"
      ],
      "execution_count": null,
      "outputs": [
        {
          "output_type": "execute_result",
          "data": {
            "text/plain": [
              "['MELEK', 'ALAN', 'CANAKKALE']"
            ]
          },
          "metadata": {},
          "execution_count": 6
        }
      ]
    },
    {
      "cell_type": "code",
      "metadata": {
        "id": "2DVZ6LBUIHNl",
        "colab": {
          "base_uri": "https://localhost:8080/"
        },
        "outputId": "f3153503-61b5-4c6d-f31a-391c9348f024"
      },
      "source": [
        "# 50 lira ile 4 tane oyuncak aldık\n",
        "\n",
        "count = 0\n",
        "total = 0\n",
        "budget = 50\n",
        "toys = [1, 12, 5, 111, 200, 1000, 10]\n",
        "\n",
        "sorted(toys)\n",
        "\n",
        "for i in sorted(toys):\n",
        "  if total + i <= budget :\n",
        "    count += 1\n",
        "    total += i\n",
        "  else :\n",
        "    break\n",
        "\n",
        "print(count)\n",
        "print((budget - total), \"liranız kaldı.\")"
      ],
      "execution_count": null,
      "outputs": [
        {
          "output_type": "stream",
          "name": "stdout",
          "text": [
            "4\n",
            "22 liranız kaldı.\n"
          ]
        }
      ]
    },
    {
      "cell_type": "code",
      "metadata": {
        "id": "tb0vaRB_G_3M",
        "colab": {
          "base_uri": "https://localhost:8080/"
        },
        "outputId": "f18bf67a-c044-4788-fb9b-bc968df913bc"
      },
      "source": [
        "\n",
        "# Python Program to Find the Factorial of a Number\n",
        "# The factorial of a number is the product of all the integers from 1 to that\n",
        "# number.\n",
        "# For example, the factorial of 6 is 1*2*3*4*5*6 = 720. Factorial is not defined\n",
        "# for negative numbers, and the factorial of zero is one, 0! = 1.\n",
        "\n",
        "n = int(input(\"Faktöriyelini hesaplamak istediğiniz sayıyı girin.\"))\n",
        "faktoriyel = 1\n",
        "for i in range(n, 0, -1) :\n",
        "  faktoriyel *= i\n",
        "print(faktoriyel)"
      ],
      "execution_count": null,
      "outputs": [
        {
          "output_type": "stream",
          "name": "stdout",
          "text": [
            "Faktöriyelini hesaplamak istediğiniz sayıyı girin.5\n",
            "120\n"
          ]
        }
      ]
    },
    {
      "cell_type": "code",
      "metadata": {
        "id": "mgMfPIROG_4_",
        "colab": {
          "base_uri": "https://localhost:8080/"
        },
        "outputId": "fba1c22c-6fc6-4341-96d9-02e3b179872f"
      },
      "source": [
        "sayi = int(input(\"Faktöriyelini hesaplamak istediğiniz sayıyı giriniz:\"))\n",
        "faktoriyel = 1\n",
        "for i in range(sayi):\n",
        "    faktoriyel = faktoriyel * (i+1)\n",
        " \n",
        "print(\"Faktoriyel : \", faktoriyel)"
      ],
      "execution_count": null,
      "outputs": [
        {
          "output_type": "stream",
          "name": "stdout",
          "text": [
            "Faktöriyelini hesaplamak istediğiniz sayıyı giriniz:5\n",
            "Faktoriyel :  120\n"
          ]
        }
      ]
    },
    {
      "cell_type": "code",
      "metadata": {
        "id": "_U4QmscqzmvU",
        "colab": {
          "base_uri": "https://localhost:8080/"
        },
        "outputId": "11a50c2f-d708-4920-d75c-92ac02509289"
      },
      "source": [
        "# Hipotenüs Hesaplama\n",
        "\n",
        "a = int(input(\"a kenarını giriniz: \"))\n",
        "b = int(input(\"b kenarını giriniz: \"))\n",
        "\n",
        "c = (a**2 + b**2)**(1/2)\n",
        "print(int(c))"
      ],
      "execution_count": null,
      "outputs": [
        {
          "output_type": "stream",
          "name": "stdout",
          "text": [
            "a kenarını giriniz: 5\n",
            "b kenarını giriniz: 12\n",
            "13\n"
          ]
        }
      ]
    },
    {
      "cell_type": "code",
      "metadata": {
        "colab": {
          "base_uri": "https://localhost:8080/"
        },
        "id": "P2v5dgUk_fOz",
        "outputId": "e9ff8d2e-9bbf-4b36-ed3f-a4853bd4f09d"
      },
      "source": [
        "# Vücut Kitle İndeksini Hesaplayan Program\n",
        "\n",
        "boy = float(input(\"Boy giriniz: \"))\n",
        "kilo = float(input(\"Kilo giriniz: \"))\n",
        "\n",
        "indeks = kilo / (boy**2)\n",
        "\n",
        "if indeks <= 18.5 :\n",
        "  print(\"Zayıf\")\n",
        "elif 18.5 < indeks <= 25 :\n",
        "  print(\"Normal\")\n",
        "elif 25 < indeks <= 30:\n",
        "  print(\"Kilolu\")\n",
        "elif indeks > 30:\n",
        "  print(\"Obez\")"
      ],
      "execution_count": null,
      "outputs": [
        {
          "output_type": "stream",
          "name": "stdout",
          "text": [
            "Boy giriniz: 1.88\n",
            "Kilo giriniz: 81\n",
            "Normal\n"
          ]
        }
      ]
    },
    {
      "cell_type": "code",
      "metadata": {
        "colab": {
          "base_uri": "https://localhost:8080/"
        },
        "id": "pawBZ7IF_fRj",
        "outputId": "aa5b3311-657a-4aa3-a68a-1cfe2f0753f3"
      },
      "source": [
        "rows = int(input(\"Satır sayısını girin: \"))\n",
        "\n",
        "ascii_value = 65\n",
        "\n",
        "for i in range(rows):\n",
        "  for j in range(i+1):\n",
        "    alphabet = chr(ascii_value)\n",
        "    print(alphabet, end = \" \")\n",
        "\n",
        "  ascii_value += 1\n",
        "  print()"
      ],
      "execution_count": null,
      "outputs": [
        {
          "output_type": "stream",
          "name": "stdout",
          "text": [
            "Satır sayısını girin: 12\n",
            "A \n",
            "B B \n",
            "C C C \n",
            "D D D D \n",
            "E E E E E \n",
            "F F F F F F \n",
            "G G G G G G G \n",
            "H H H H H H H H \n",
            "I I I I I I I I I \n",
            "J J J J J J J J J J \n",
            "K K K K K K K K K K K \n",
            "L L L L L L L L L L L L \n"
          ]
        }
      ]
    },
    {
      "cell_type": "code",
      "metadata": {
        "colab": {
          "base_uri": "https://localhost:8080/"
        },
        "id": "dcRhasr9_fT2",
        "outputId": "5c5be35c-1071-42de-ce29-e4e9ab63d7ee"
      },
      "source": [
        "numbers = [2, 4, 6, 4, 7, 8, 9, 1, 10]\n",
        "\n",
        "cift_sayilar = []\n",
        "tek_sayilar = []\n",
        "\n",
        "for i in numbers:\n",
        "  if i % 2 == 0:\n",
        "    cift_sayilar.append(i)\n",
        "  elif i % 2 == 1:\n",
        "    tek_sayilar.append(i)\n",
        "\n",
        "print(sorted(set(cift_sayilar))) # 4 sayısı bir daha yazılmasın diye set kullandım\n",
        "print(sorted(set(tek_sayilar)))"
      ],
      "execution_count": null,
      "outputs": [
        {
          "output_type": "stream",
          "name": "stdout",
          "text": [
            "[2, 4, 6, 8, 10]\n",
            "[1, 7, 9]\n"
          ]
        }
      ]
    },
    {
      "cell_type": "code",
      "metadata": {
        "colab": {
          "base_uri": "https://localhost:8080/"
        },
        "id": "MMCMUJsP_fWD",
        "outputId": "4321d1eb-e196-4930-df70-de78c6bba3e4"
      },
      "source": [
        "a = 330\n",
        "b = 330\n",
        "print(\"A\") if a > b else print(\"=\") if a == b else print(\"B\")"
      ],
      "execution_count": null,
      "outputs": [
        {
          "output_type": "stream",
          "name": "stdout",
          "text": [
            "A\n"
          ]
        }
      ]
    },
    {
      "cell_type": "code",
      "metadata": {
        "id": "LbZkraEs_fYg"
      },
      "source": [
        "a = 400\n",
        "b = 200\n",
        "\n",
        "if b > a:\n",
        "  pass"
      ],
      "execution_count": null,
      "outputs": []
    },
    {
      "cell_type": "code",
      "metadata": {
        "colab": {
          "base_uri": "https://localhost:8080/",
          "height": 129
        },
        "id": "PahBM4ZU_fab",
        "outputId": "32acb9dc-ebcc-4a87-90ab-3a7b3e34bbe7"
      },
      "source": [
        "a = 400\n",
        "b = 200\n",
        "\n",
        "if b > a:"
      ],
      "execution_count": null,
      "outputs": [
        {
          "output_type": "error",
          "ename": "SyntaxError",
          "evalue": "ignored",
          "traceback": [
            "\u001b[0;36m  File \u001b[0;32m\"<ipython-input-36-9520bdc5d51b>\"\u001b[0;36m, line \u001b[0;32m4\u001b[0m\n\u001b[0;31m    if b > a:\u001b[0m\n\u001b[0m             ^\u001b[0m\n\u001b[0;31mSyntaxError\u001b[0m\u001b[0;31m:\u001b[0m unexpected EOF while parsing\n"
          ]
        }
      ]
    },
    {
      "cell_type": "code",
      "metadata": {
        "colab": {
          "base_uri": "https://localhost:8080/"
        },
        "id": "ibTblrQJ_fcl",
        "outputId": "bf5e55bb-6c9c-454f-f42e-05b2a1326d78"
      },
      "source": [
        "fruits = [\"apple\", \"banana\", \"cherry\"]\n",
        "for x in fruits :\n",
        "  if x == \"banana\" :\n",
        "    continue\n",
        "  print(x)"
      ],
      "execution_count": null,
      "outputs": [
        {
          "output_type": "stream",
          "name": "stdout",
          "text": [
            "apple\n",
            "cherry\n"
          ]
        }
      ]
    },
    {
      "cell_type": "code",
      "metadata": {
        "colab": {
          "base_uri": "https://localhost:8080/"
        },
        "id": "2Qu9LQz3UGRl",
        "outputId": "5d5dc429-9473-4e13-de10-1303e73ec851"
      },
      "source": [
        "sayilar = list(range(1,10))\n",
        "print(sayilar)"
      ],
      "execution_count": null,
      "outputs": [
        {
          "output_type": "stream",
          "name": "stdout",
          "text": [
            "[1, 2, 3, 4, 5, 6, 7, 8, 9]\n"
          ]
        }
      ]
    },
    {
      "cell_type": "code",
      "metadata": {
        "colab": {
          "base_uri": "https://localhost:8080/"
        },
        "id": "O6EgenfLUGTl",
        "outputId": "62729cdd-af2e-4425-e1ce-682630174d27"
      },
      "source": [
        "sayilar = list(range(1,10))\n",
        "for x in sayilar :\n",
        "  if x == 7 :\n",
        "    break\n",
        "  print(x, end = \" \")"
      ],
      "execution_count": null,
      "outputs": [
        {
          "output_type": "stream",
          "name": "stdout",
          "text": [
            "1 2 3 4 5 6 "
          ]
        }
      ]
    },
    {
      "cell_type": "code",
      "metadata": {
        "colab": {
          "base_uri": "https://localhost:8080/"
        },
        "id": "XZfZIv48UGWD",
        "outputId": "58c4544e-acd7-4cdf-91eb-adbd24d980bf"
      },
      "source": [
        "i = 1\n",
        "while i <= 6 :\n",
        "  print(i)\n",
        "  if i == 3:\n",
        "    break\n",
        "  i += 1"
      ],
      "execution_count": null,
      "outputs": [
        {
          "output_type": "stream",
          "name": "stdout",
          "text": [
            "1\n",
            "2\n",
            "3\n"
          ]
        }
      ]
    },
    {
      "cell_type": "code",
      "metadata": {
        "colab": {
          "base_uri": "https://localhost:8080/"
        },
        "id": "WvCF4C4h_feX",
        "outputId": "27be6cca-54ba-42d9-89c6-cc93372dee0b"
      },
      "source": [
        "pascal = [[1]]\n",
        "num = int(input(\"Number of iterations: \"))\n",
        "print(pascal[0]) # the very first row\n",
        "for i in range(1,num+1):\n",
        "    pascal.append([1]) # start off with 1\n",
        "    for j in range(len(pascal[i-1])-1):\n",
        "    # the number of times we need to run this loop is (# of elements in the row above)-1\n",
        "        pascal[i].append(pascal[i-1][j]+pascal[i-1][j+1])\n",
        "        # add two adjacent numbers of the row above together\n",
        "    pascal[i].append(1) # and cap it with 1\n",
        "    print(pascal[i])\n"
      ],
      "execution_count": null,
      "outputs": [
        {
          "output_type": "stream",
          "name": "stdout",
          "text": [
            "Number of iterations: 5\n",
            "[1]\n",
            "[1, 1]\n",
            "[1, 2, 1]\n",
            "[1, 3, 3, 1]\n",
            "[1, 4, 6, 4, 1]\n",
            "[1, 5, 10, 10, 5, 1]\n"
          ]
        }
      ]
    },
    {
      "cell_type": "code",
      "metadata": {
        "colab": {
          "base_uri": "https://localhost:8080/"
        },
        "id": "hkl3XEVlEcQd",
        "outputId": "737087da-d6da-41b5-a282-40215f79cc2c"
      },
      "source": [
        "# Girilen iki kelime birbiri içinde var mı?\n",
        "\n",
        "s1, s2 = input(\"\"), input(\"\")\n",
        "print((s1 in s2) or (s2 in s1))"
      ],
      "execution_count": null,
      "outputs": [
        {
          "output_type": "stream",
          "name": "stdout",
          "text": [
            "gozde\n",
            "goz\n",
            "True\n"
          ]
        }
      ]
    },
    {
      "cell_type": "code",
      "metadata": {
        "colab": {
          "base_uri": "https://localhost:8080/"
        },
        "id": "1fNgPpChWzjI",
        "outputId": "3f8cabb9-e172-4a37-e363-24d2226063ba"
      },
      "source": [
        "# Girilen iki rakam birbiri içinde var mı?\n",
        "s1, s2 = str(input(\"\")), str(input(\"\"))\n",
        "print((s1 in s2) or (s2 in s1))"
      ],
      "execution_count": null,
      "outputs": [
        {
          "output_type": "stream",
          "name": "stdout",
          "text": [
            "123\n",
            "1234\n",
            "True\n"
          ]
        }
      ]
    },
    {
      "cell_type": "code",
      "metadata": {
        "id": "ST2r74RfU-To"
      },
      "source": [
        "string1 = input(\"Lütfen ilk kelimeyi girin: \")\n",
        "string2 = input(\"Lütfen ikinci kelimeyi girin: \")\n",
        "new1 = set(string)"
      ],
      "execution_count": null,
      "outputs": []
    },
    {
      "cell_type": "code",
      "metadata": {
        "colab": {
          "base_uri": "https://localhost:8080/"
        },
        "id": "VZEn9V_fEcS-",
        "outputId": "673c8903-5830-4ae9-eeeb-8f69b1fae1f3"
      },
      "source": [
        "for i in range(n):\n",
        "    \n",
        "    print(' '*(n-i), end='')\n",
        " \n",
        "    print(' '.join(map(str, str(11**i))))"
      ],
      "execution_count": null,
      "outputs": [
        {
          "output_type": "stream",
          "name": "stdout",
          "text": [
            "       1\n",
            "      1 1\n",
            "     1 2 1\n",
            "    1 3 3 1\n",
            "   1 4 6 4 1\n",
            "  1 6 1 0 5 1\n",
            " 1 7 7 1 5 6 1\n"
          ]
        }
      ]
    },
    {
      "cell_type": "code",
      "metadata": {
        "colab": {
          "base_uri": "https://localhost:8080/"
        },
        "id": "UdwrNLs1EcVA",
        "outputId": "4f591119-0c73-4226-9949-e3fd6b329d6f"
      },
      "source": [
        "n = int(input(\"\"))\n",
        "papatya = [\"Loves me\", \"Loves me not\" ]\n",
        "yeni_papatya = []\n",
        "if n == 1 :\n",
        "  print(papatya[0].upper())\n",
        "else:\n",
        "  for i in range(1,n + 1) :\n",
        "    if i % 2 == 1 :\n",
        "      yeni_papatya += [papatya[0]]\n",
        "    elif i % 2 == 0 :\n",
        "      yeni_papatya += [papatya[1]]\n",
        "  yeni_papatya  = yeni_papatya[:-1] + [yeni_papatya[-1].upper()]\n",
        "  print(\", \".join(yeni_papatya))\n"
      ],
      "execution_count": null,
      "outputs": [
        {
          "output_type": "stream",
          "name": "stdout",
          "text": [
            "7\n",
            "Loves me, Loves me not, Loves me, Loves me not, Loves me, Loves me not, LOVES ME\n"
          ]
        }
      ]
    },
    {
      "cell_type": "code",
      "metadata": {
        "colab": {
          "base_uri": "https://localhost:8080/"
        },
        "id": "6AuZ-Tg9EcYC",
        "outputId": "4d8470ea-aa98-44aa-e791-e741fa889a17"
      },
      "source": [
        "all(\"a\")"
      ],
      "execution_count": null,
      "outputs": [
        {
          "output_type": "execute_result",
          "data": {
            "text/plain": [
              "True"
            ]
          },
          "metadata": {},
          "execution_count": 35
        }
      ]
    },
    {
      "cell_type": "code",
      "metadata": {
        "colab": {
          "base_uri": "https://localhost:8080/"
        },
        "id": "h9Zm6cn9_fgi",
        "outputId": "00cb0ff7-dac5-4f7d-89f3-6eefd6edd74e"
      },
      "source": [
        "any(\"a\")"
      ],
      "execution_count": null,
      "outputs": [
        {
          "output_type": "execute_result",
          "data": {
            "text/plain": [
              "True"
            ]
          },
          "metadata": {},
          "execution_count": 36
        }
      ]
    },
    {
      "cell_type": "code",
      "metadata": {
        "colab": {
          "base_uri": "https://localhost:8080/"
        },
        "id": "uVVcIFv8_fiU",
        "outputId": "e228cf03-2ace-4cd2-8405-fc46fd0bbc65"
      },
      "source": [
        "liste = [5, 6, 4, 9, 25, 15, 60]\n",
        "sayı = int(input(\"Bir sayı giriniz: \"))\n",
        "for i in liste :\n",
        "  if i > sayı :\n",
        "    print(\"Girdiğiniz sayı listedeki sayılardan küçüktür.\")\n",
        "    break    \n",
        "else :\n",
        "  print(\"Girdiğiniz sayı listedeki bütün sayılardan büyüktür.\")"
      ],
      "execution_count": null,
      "outputs": [
        {
          "output_type": "stream",
          "name": "stdout",
          "text": [
            "Bir sayı giriniz: 125\n",
            "Girdiğiniz sayı listedeki bütün sayılardan büyüktür.\n"
          ]
        }
      ]
    },
    {
      "cell_type": "code",
      "metadata": {
        "colab": {
          "base_uri": "https://localhost:8080/"
        },
        "id": "IQRffh4TYPeY",
        "outputId": "a714ba4e-5d02-4cc9-efb1-dbd07b150e80"
      },
      "source": [
        "liste = []\n",
        "for i in range(1, 5):\n",
        "  liste += [i]\n",
        "print(liste)"
      ],
      "execution_count": null,
      "outputs": [
        {
          "output_type": "stream",
          "name": "stdout",
          "text": [
            "[1, 2, 3, 4]\n"
          ]
        }
      ]
    },
    {
      "cell_type": "code",
      "metadata": {
        "colab": {
          "base_uri": "https://localhost:8080/"
        },
        "id": "a6j-1ebxYPht",
        "outputId": "4ef65004-97ee-4358-e730-1e25899d4cd7"
      },
      "source": [
        "[i for i in range(1,5)]"
      ],
      "execution_count": null,
      "outputs": [
        {
          "output_type": "execute_result",
          "data": {
            "text/plain": [
              "[1, 2, 3, 4]"
            ]
          },
          "metadata": {},
          "execution_count": 44
        }
      ]
    },
    {
      "cell_type": "code",
      "metadata": {
        "colab": {
          "base_uri": "https://localhost:8080/"
        },
        "id": "ppV3PngKYPkB",
        "outputId": "08a4e29d-7767-44ae-8a46-1c59fe8d0684"
      },
      "source": [
        "[i for i in range(1,10) if i % 2 == 0]"
      ],
      "execution_count": null,
      "outputs": [
        {
          "output_type": "execute_result",
          "data": {
            "text/plain": [
              "[2, 4, 6, 8]"
            ]
          },
          "metadata": {},
          "execution_count": 45
        }
      ]
    },
    {
      "cell_type": "code",
      "metadata": {
        "id": "7PbmAYPbYPnS"
      },
      "source": [
        "lista = list(map(int, input(\"\").split()))\n",
        "number = int(input(\"\"))"
      ],
      "execution_count": null,
      "outputs": []
    },
    {
      "cell_type": "code",
      "metadata": {
        "colab": {
          "base_uri": "https://localhost:8080/"
        },
        "id": "wt5sKCS7Z849",
        "outputId": "4604bb40-9b19-4933-c617-83cc17c1b1bf"
      },
      "source": [
        "lista = list(map(int, input(\"\").split()))\n",
        "lista"
      ],
      "execution_count": null,
      "outputs": [
        {
          "name": "stdout",
          "output_type": "stream",
          "text": [
            "5 6 89 2 45 63 47 12 11\n"
          ]
        },
        {
          "output_type": "execute_result",
          "data": {
            "text/plain": [
              "[5, 6, 89, 2, 45, 63, 47, 12, 11]"
            ]
          },
          "metadata": {},
          "execution_count": 47
        }
      ]
    },
    {
      "cell_type": "code",
      "metadata": {
        "colab": {
          "base_uri": "https://localhost:8080/"
        },
        "id": "086U-zAkZ875",
        "outputId": "fe6f4938-ad7b-43e8-94da-7c61623e5221"
      },
      "source": [
        "lista = list(map(int, input(\"\").split()))\n",
        "number = int(input(\"\"))\n",
        "liste = [i > number for i in lista]\n",
        "liste"
      ],
      "execution_count": null,
      "outputs": [
        {
          "name": "stdout",
          "output_type": "stream",
          "text": [
            "5 6 4 2 55 41 23 5\n",
            "20\n"
          ]
        },
        {
          "output_type": "execute_result",
          "data": {
            "text/plain": [
              "[False, False, False, False, True, True, True, False]"
            ]
          },
          "metadata": {},
          "execution_count": 48
        }
      ]
    },
    {
      "cell_type": "code",
      "metadata": {
        "colab": {
          "base_uri": "https://localhost:8080/"
        },
        "id": "GyAyN0SLZ8_j",
        "outputId": "624faeaf-7887-48bd-b263-a3344bdcf894"
      },
      "source": [
        "lista = list(map(int, input(\"\").split()))\n",
        "number = int(input(\"\"))\n",
        "liste = all([i > number for i in lista])\n",
        "liste"
      ],
      "execution_count": null,
      "outputs": [
        {
          "name": "stdout",
          "output_type": "stream",
          "text": [
            "5 6 4 2 25 41\n",
            "20\n"
          ]
        },
        {
          "output_type": "execute_result",
          "data": {
            "text/plain": [
              "False"
            ]
          },
          "metadata": {},
          "execution_count": 50
        }
      ]
    },
    {
      "cell_type": "code",
      "metadata": {
        "colab": {
          "base_uri": "https://localhost:8080/"
        },
        "id": "VYChtNcyZ9EQ",
        "outputId": "358d663b-c310-4376-d328-cc2b05bc5916"
      },
      "source": [
        "lista = list(map(int, input(\"\").split()))\n",
        "number = int(input(\"\"))\n",
        "liste = any([i > number for i in lista])\n",
        "liste"
      ],
      "execution_count": null,
      "outputs": [
        {
          "name": "stdout",
          "output_type": "stream",
          "text": [
            "5 6 4 2 25 41\n",
            "20\n"
          ]
        },
        {
          "output_type": "execute_result",
          "data": {
            "text/plain": [
              "True"
            ]
          },
          "metadata": {},
          "execution_count": 51
        }
      ]
    },
    {
      "cell_type": "code",
      "metadata": {
        "colab": {
          "base_uri": "https://localhost:8080/"
        },
        "id": "YJNZHSFytNPn",
        "outputId": "e9f971d1-8b64-47c6-d944-2447c53d8fa1"
      },
      "source": [
        "if True:\n",
        "    print('it is true')"
      ],
      "execution_count": null,
      "outputs": [
        {
          "output_type": "stream",
          "name": "stdout",
          "text": [
            "it is true\n"
          ]
        }
      ]
    },
    {
      "cell_type": "code",
      "metadata": {
        "colab": {
          "base_uri": "https://localhost:8080/"
        },
        "id": "VhE3rGq-oWhX",
        "outputId": "614424ff-534e-48f9-88f1-36d8655bd563"
      },
      "source": [
        "empty_seat = 14\n",
        "\n",
        "if empty_seat > 3:  # in this case, 14>3=True, so the body will execute\n",
        "    print('there is still seat to sit')"
      ],
      "execution_count": null,
      "outputs": [
        {
          "output_type": "stream",
          "name": "stdout",
          "text": [
            "there is still seat to sit\n"
          ]
        }
      ]
    },
    {
      "cell_type": "code",
      "metadata": {
        "colab": {
          "base_uri": "https://localhost:8080/"
        },
        "id": "skxPNs8foiZc",
        "outputId": "4bb27682-acc5-4ab8-ac00-e99d864ba5e4"
      },
      "source": [
        "x = 6\n",
        "y = 9\n",
        "print (\"is x equal to y?                 :\" , x == y)\n",
        "print (\"is x not equal to y?             :\" , x != y)\n",
        "print (\"is x less than y?                :\" , x < y)\n",
        "print (\"is x greater than y?             :\" , x > y)\n",
        "print (\"is x less than or equal to y?    :\" , x <= y)\n",
        "print (\"is x greater than or equal to y? :\" , x >= y)"
      ],
      "execution_count": null,
      "outputs": [
        {
          "output_type": "stream",
          "name": "stdout",
          "text": [
            "is x equal to y?                 : False\n",
            "is x not equal to y?             : True\n",
            "is x less than y?                : True\n",
            "is x greater than y?             : False\n",
            "is x less than or equal to y?    : True\n",
            "is x greater than or equal to y? : False\n"
          ]
        }
      ]
    },
    {
      "cell_type": "code",
      "metadata": {
        "colab": {
          "base_uri": "https://localhost:8080/"
        },
        "id": "9ys4Uyr0oicM",
        "outputId": "5314069b-fa7a-49bf-c75c-e2e00f38bdcc"
      },
      "source": [
        "course = 'clarusway'\n",
        "\n",
        "if course == \"clarusway\":\n",
        "    print(\"you guaranteed the job\")\n",
        "else:\n",
        "    print(\"think about it again\")"
      ],
      "execution_count": null,
      "outputs": [
        {
          "output_type": "stream",
          "name": "stdout",
          "text": [
            "you guaranteed the job\n"
          ]
        }
      ]
    },
    {
      "cell_type": "code",
      "metadata": {
        "colab": {
          "base_uri": "https://localhost:8080/"
        },
        "id": "4QB5lDPaoie1",
        "outputId": "4737d976-af5f-47e1-d307-5070f30adbc3"
      },
      "source": [
        "number = 5\n",
        "if number <= 3:    \n",
        "    print(\"Number is smaller than or equal to 3\") \n",
        "else:  # Optional clause (you can only have one else)\n",
        "    print(\"Number is bigger than 3\")"
      ],
      "execution_count": null,
      "outputs": [
        {
          "output_type": "stream",
          "name": "stdout",
          "text": [
            "Number is bigger than 3\n"
          ]
        }
      ]
    },
    {
      "cell_type": "code",
      "metadata": {
        "colab": {
          "base_uri": "https://localhost:8080/"
        },
        "id": "39I24Q7AoijW",
        "outputId": "97d13e59-5638-4c8e-be0d-fdc74fd672fb"
      },
      "source": [
        "basket = ['apple', 'peach', 'blackberry']\n",
        "fruit = '....'\n",
        "if fruit not in basket :\n",
        "  print(\"I can have a little\")\n",
        "else :\n",
        "  print(\"I have already\")"
      ],
      "execution_count": null,
      "outputs": [
        {
          "output_type": "stream",
          "name": "stdout",
          "text": [
            "I can have a little\n"
          ]
        }
      ]
    },
    {
      "cell_type": "code",
      "metadata": {
        "colab": {
          "base_uri": "https://localhost:8080/"
        },
        "id": "ssfYdg0cwtIV",
        "outputId": "47274831-2520-4a94-dde1-ebd827fe2ac5"
      },
      "source": [
        "weight = 80\n",
        "\n",
        "if weight > 100:\n",
        "    print(\"That's too heavy!\")\n",
        "elif weight > 75:\n",
        "    print(\"I can lift that!\")\n",
        "else:\n",
        "    print(\"That's too light!\")"
      ],
      "execution_count": null,
      "outputs": [
        {
          "output_type": "stream",
          "name": "stdout",
          "text": [
            "I can lift that!\n"
          ]
        }
      ]
    },
    {
      "cell_type": "code",
      "metadata": {
        "colab": {
          "base_uri": "https://localhost:8080/"
        },
        "id": "Hl35ZtJixyX2",
        "outputId": "92e90402-739b-4572-9d16-918d672662dc"
      },
      "source": [
        "audience = \"baby\"\n",
        "\n",
        "if audience == \"kid\":\n",
        "    print(\"it is free to go to cinema\")\n",
        "elif audience == \"teen\":\n",
        "    print(\"discounted price!\")\n",
        "elif audience == \"adult\":\n",
        "    print(\"normal price\")\n",
        "else:\n",
        "    print(\"No such audience, stay at your home!\")"
      ],
      "execution_count": null,
      "outputs": [
        {
          "output_type": "stream",
          "name": "stdout",
          "text": [
            "No such audience, stay at your home!\n"
          ]
        }
      ]
    },
    {
      "cell_type": "code",
      "metadata": {
        "colab": {
          "base_uri": "https://localhost:8080/"
        },
        "id": "W-1IwHwX2PMJ",
        "outputId": "97773b3c-d840-4342-8aaf-17a9a7541cc0"
      },
      "source": [
        "audience_group = 'kid', 'teen', 'adult'\n",
        "\n",
        "audience = \"teen\"\n",
        "\n",
        "if audience in audience_group:\n",
        "    if audience == \"kid\":\n",
        "        print(\"it is free to go to cinema\")\n",
        "    elif audience == \"teen\":\n",
        "        print(\"discounted price!\")\n",
        "    else: # audience == \"adult\":\n",
        "        print(\"normal price\")\n",
        "else:\n",
        "    print(\"No such audience, stay at your home!\")"
      ],
      "execution_count": null,
      "outputs": [
        {
          "output_type": "stream",
          "name": "stdout",
          "text": [
            "discounted price!\n"
          ]
        }
      ]
    },
    {
      "cell_type": "code",
      "metadata": {
        "colab": {
          "base_uri": "https://localhost:8080/"
        },
        "id": "rkZAPmPH4mpI",
        "outputId": "1fc259d9-b7a1-4077-f3f9-5ba1d3b7c43d"
      },
      "source": [
        "score = int (input(\"Enter your score :\"))\n",
        "\n",
        "if score >= 90:\n",
        "    if score >= 95:\n",
        "        Score_letter=\"A+\"\n",
        "    else:\n",
        "        Score_letter=\"A\"\n",
        "elif score >= 80:\n",
        "    if score >= 85:\n",
        "        Score_letter=\"B+\"\n",
        "    else:\n",
        "        Score_letter=\"B\"\n",
        "else:\n",
        "    Score_letter=\"below B\"\n",
        "\n",
        "print (\"Your degree: %s\" % Score_letter)"
      ],
      "execution_count": null,
      "outputs": [
        {
          "output_type": "stream",
          "name": "stdout",
          "text": [
            "Enter your score :97\n",
            "Your degree: A+\n"
          ]
        }
      ]
    },
    {
      "cell_type": "code",
      "metadata": {
        "colab": {
          "base_uri": "https://localhost:8080/"
        },
        "id": "htAVk1hbsQ-_",
        "outputId": "78f82571-2264-4769-e87f-c6f3d807a76e"
      },
      "source": [
        "number = 0\n",
        "\n",
        "while number < 6:\n",
        "    print(number)\n",
        "    number += 1\n",
        "print('now, number is bigger or equal to 6')"
      ],
      "execution_count": null,
      "outputs": [
        {
          "output_type": "stream",
          "name": "stdout",
          "text": [
            "0\n",
            "1\n",
            "2\n",
            "3\n",
            "4\n",
            "5\n",
            "now, number is bigger or equal to 6\n"
          ]
        }
      ]
    },
    {
      "cell_type": "code",
      "metadata": {
        "colab": {
          "base_uri": "https://localhost:8080/"
        },
        "id": "KG2BxrHEsVfW",
        "outputId": "5732241e-1d9a-4147-93df-c80ec60f2a3b"
      },
      "source": [
        "my_list=[\"a\", \"b\", \"c\", \"d\", \"e\"]\n",
        "\n",
        "a = 0\n",
        "\n",
        "while a < len(my_list):\n",
        "    print('square of {} is : {}'.format(a, a**2))\n",
        "    a+=1"
      ],
      "execution_count": null,
      "outputs": [
        {
          "output_type": "stream",
          "name": "stdout",
          "text": [
            "square of 0 is : 0\n",
            "square of 1 is : 1\n",
            "square of 2 is : 4\n",
            "square of 3 is : 9\n",
            "square of 4 is : 16\n"
          ]
        }
      ]
    },
    {
      "cell_type": "code",
      "metadata": {
        "colab": {
          "base_uri": "https://localhost:8080/"
        },
        "id": "QBQ1RmZmsVic",
        "outputId": "42ddb4d4-b392-4167-f236-7835939c45f3"
      },
      "source": [
        "answer = 44\n",
        "\n",
        "question = 'What number am I thinking of?  '\n",
        "print (\"Let's play the guessing game!\")\n",
        "\n",
        "while True:\n",
        "    guess = int(input(question))\n",
        "\n",
        "    if guess < answer:\n",
        "        print('Little higher')\n",
        "    elif guess > answer:\n",
        "        print('Little lower')\n",
        "    else:  # guess == answer\n",
        "        print('Are you a MINDREADER!!!')\n",
        "        break"
      ],
      "execution_count": null,
      "outputs": [
        {
          "output_type": "stream",
          "name": "stdout",
          "text": [
            "Let's play the guessing game!\n",
            "What number am I thinking of?  56\n",
            "Little lower\n",
            "What number am I thinking of?  15\n",
            "Little higher\n",
            "What number am I thinking of?  44\n",
            "Are you a MINDREADER!!!\n"
          ]
        }
      ]
    },
    {
      "cell_type": "code",
      "metadata": {
        "colab": {
          "base_uri": "https://localhost:8080/"
        },
        "id": "u6iWcCgesVlN",
        "outputId": "9348b97c-cb5c-4ec6-9b23-94ab379d342f"
      },
      "source": [
        "flowers = ['Rose', 'Orchid', 'Tulip']\n",
        "count1 = len(flowers)\n",
        "count2 = 0\n",
        "\n",
        "while count1 > 0 :\n",
        "    print(flowers[count2])\n",
        "    count1 -= 1\n",
        "    count2 += 1"
      ],
      "execution_count": null,
      "outputs": [
        {
          "output_type": "stream",
          "name": "stdout",
          "text": [
            "Rose\n",
            "Orchid\n",
            "Tulip\n"
          ]
        }
      ]
    },
    {
      "cell_type": "code",
      "metadata": {
        "colab": {
          "base_uri": "https://localhost:8080/"
        },
        "id": "snHSBWLrsVnX",
        "outputId": "c45e3667-6d0b-4198-ca49-4e09633d9320"
      },
      "source": [
        "for i in [1, 2, 3, 4, 5] :\n",
        "    print(i)"
      ],
      "execution_count": null,
      "outputs": [
        {
          "output_type": "stream",
          "name": "stdout",
          "text": [
            "1\n",
            "2\n",
            "3\n",
            "4\n",
            "5\n"
          ]
        }
      ]
    },
    {
      "cell_type": "code",
      "metadata": {
        "colab": {
          "base_uri": "https://localhost:8080/"
        },
        "id": "cA5fL61WsVpZ",
        "outputId": "a56e8cf2-4400-48c1-b7c2-8e50003ce7e6"
      },
      "source": [
        "seasons = ['spring', 'summer', 'autumn', 'winter']\n",
        "\n",
        "for season in seasons :\n",
        "    print(season)"
      ],
      "execution_count": null,
      "outputs": [
        {
          "output_type": "stream",
          "name": "stdout",
          "text": [
            "spring\n",
            "summer\n",
            "autumn\n",
            "winter\n"
          ]
        }
      ]
    },
    {
      "cell_type": "code",
      "metadata": {
        "colab": {
          "base_uri": "https://localhost:8080/"
        },
        "id": "oLyHHrS2sVrm",
        "outputId": "32c95741-6117-4dbd-f5a8-248d6068960d"
      },
      "source": [
        "iterable = [1, 2, 3, 4]\n",
        "\n",
        "for number in iterable :\n",
        "    print(number ** 2)"
      ],
      "execution_count": null,
      "outputs": [
        {
          "output_type": "stream",
          "name": "stdout",
          "text": [
            "1\n",
            "4\n",
            "9\n",
            "16\n"
          ]
        }
      ]
    },
    {
      "cell_type": "code",
      "metadata": {
        "id": "Sc3K9xxisVtv"
      },
      "source": [
        ""
      ],
      "execution_count": null,
      "outputs": []
    },
    {
      "cell_type": "code",
      "metadata": {
        "id": "Bf6TrrfpsVvY"
      },
      "source": [
        ""
      ],
      "execution_count": null,
      "outputs": []
    },
    {
      "cell_type": "code",
      "metadata": {
        "id": "Bu9fyG8bsVxe"
      },
      "source": [
        ""
      ],
      "execution_count": null,
      "outputs": []
    }
  ]
}