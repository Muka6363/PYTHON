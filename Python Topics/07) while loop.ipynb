{
  "nbformat": 4,
  "nbformat_minor": 0,
  "metadata": {
    "colab": {
      "name": "while loop.ipynb",
      "provenance": [],
      "collapsed_sections": []
    },
    "kernelspec": {
      "name": "python3",
      "display_name": "Python 3"
    },
    "language_info": {
      "name": "python"
    }
  },
  "cells": [
    {
      "cell_type": "code",
      "metadata": {
        "colab": {
          "base_uri": "https://localhost:8080/"
        },
        "id": "tNzGYpf0n2O8",
        "outputId": "c7b1d6a3-18b3-4de1-f9ae-49ee795a650d"
      },
      "source": [
        "counter = 0\n",
        "while counter < 10:\n",
        "  print(\"Hello World!\", counter)\n",
        "  counter += 1\n",
        "print(\"End of while loop\")"
      ],
      "execution_count": null,
      "outputs": [
        {
          "output_type": "stream",
          "name": "stdout",
          "text": [
            "Hello World! 0\n",
            "Hello World! 1\n",
            "Hello World! 2\n",
            "Hello World! 3\n",
            "Hello World! 4\n",
            "Hello World! 5\n",
            "Hello World! 6\n",
            "Hello World! 7\n",
            "Hello World! 8\n",
            "Hello World! 9\n",
            "End of while loop\n"
          ]
        }
      ]
    }
  ]
}