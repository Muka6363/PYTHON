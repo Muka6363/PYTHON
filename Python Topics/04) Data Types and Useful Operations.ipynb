{
  "nbformat": 4,
  "nbformat_minor": 0,
  "metadata": {
    "colab": {
      "name": "Data Types and Useful Operations.ipynb",
      "provenance": [],
      "collapsed_sections": []
    },
    "kernelspec": {
      "name": "python3",
      "display_name": "Python 3"
    },
    "language_info": {
      "name": "python"
    }
  },
  "cells": [
    {
      "cell_type": "code",
      "metadata": {
        "colab": {
          "base_uri": "https://localhost:8080/"
        },
        "id": "la39DV_BdUYw",
        "outputId": "3b03e65f-6de8-4e5b-9e8b-bfafd65d1167"
      },
      "source": [
        "fruit = 'Orange'\n",
        "\n",
        "print('Word                   : ' , fruit)\n",
        "print('First letter           : ' , fruit[0])\n",
        "print('Second letter          : ' , fruit[1])\n",
        "print(\"3rd to 5th letters     : \" , fruit[2:5])\n",
        "print(\"Letter all after 3rd   : \" , fruit[2:])"
      ],
      "execution_count": null,
      "outputs": [
        {
          "output_type": "stream",
          "name": "stdout",
          "text": [
            "Word                   :  Orange\n",
            "First letter           :  O\n",
            "Second letter          :  r\n",
            "3rd to 5th letters     :  ang\n",
            "Letter all after 3rd   :  ange\n"
          ]
        }
      ]
    },
    {
      "cell_type": "code",
      "metadata": {
        "colab": {
          "base_uri": "https://localhost:8080/"
        },
        "id": "ic1-cyCZfSZ-",
        "outputId": "3d871b25-999e-4798-82f1-0d2754315a36"
      },
      "source": [
        "city = 'Phoenix'\n",
        "\n",
        "print(city[1:])  # starts from index 1 to the end\n",
        "print(city[:6])  # starts from zero to 5th index\n",
        "print(city[::2])  # starts from zero to end by 2 step\n",
        "print(city[1::2])  # starts from index 1 to the end by 2 step\n",
        "print(city[-3:])  # starts from index -3 to the end\n",
        "print(city[::-1])  # negative step starts from the end to zero"
      ],
      "execution_count": null,
      "outputs": [
        {
          "output_type": "stream",
          "name": "stdout",
          "text": [
            "hoenix\n",
            "Phoeni\n",
            "Ponx\n",
            "hei\n",
            "nix\n",
            "xineohP\n"
          ]
        }
      ]
    },
    {
      "cell_type": "code",
      "metadata": {
        "colab": {
          "base_uri": "https://localhost:8080/"
        },
        "id": "mJHWQtNmfUA9",
        "outputId": "588989e8-b2e5-4b20-c3aa-2ed4616a86a6"
      },
      "source": [
        "vegetable = 'Tomato'\n",
        "\n",
        "print('length of the word', vegetable, 'is :', len(vegetable))"
      ],
      "execution_count": null,
      "outputs": [
        {
          "output_type": "stream",
          "name": "stdout",
          "text": [
            "length of the word Tomato is : 6\n"
          ]
        }
      ]
    },
    {
      "cell_type": "code",
      "metadata": {
        "colab": {
          "base_uri": "https://localhost:8080/"
        },
        "id": "iRJNFZrffUIL",
        "outputId": "3f9ea6b5-eeab-4176-e5b8-e5e90b8ce42c"
      },
      "source": [
        "print('clarus' + 'way')"
      ],
      "execution_count": null,
      "outputs": [
        {
          "output_type": "stream",
          "name": "stdout",
          "text": [
            "clarusway\n"
          ]
        }
      ]
    },
    {
      "cell_type": "code",
      "metadata": {
        "colab": {
          "base_uri": "https://localhost:8080/"
        },
        "id": "yARU6TAHfUPj",
        "outputId": "fd30f4a9-4aa0-404f-c3ed-4c572e00a44b"
      },
      "source": [
        "print(3*'no way!')"
      ],
      "execution_count": null,
      "outputs": [
        {
          "output_type": "stream",
          "name": "stdout",
          "text": [
            "no way!no way!no way!\n"
          ]
        }
      ]
    },
    {
      "cell_type": "code",
      "metadata": {
        "colab": {
          "base_uri": "https://localhost:8080/"
        },
        "id": "D8YCxdVmhGhU",
        "outputId": "c5be6aec-bb27-49ab-8fe7-9927c99d89e4"
      },
      "source": [
        "fruit = 'Orange'\n",
        "vegetable = 'Tomato'\n",
        "print(\"using + :\", fruit + vegetable)\n",
        "print(\"using * :\", 3 * fruit)"
      ],
      "execution_count": null,
      "outputs": [
        {
          "output_type": "stream",
          "name": "stdout",
          "text": [
            "using + : OrangeTomato\n",
            "using * : OrangeOrangeOrange\n"
          ]
        }
      ]
    },
    {
      "cell_type": "code",
      "metadata": {
        "colab": {
          "base_uri": "https://localhost:8080/"
        },
        "id": "Fze15nI7hGpw",
        "outputId": "f2299033-8cdb-4635-f25f-3c7021b427da"
      },
      "source": [
        "fruit = 'orange'\n",
        "fruit += ' apple'\n",
        "\n",
        "print(fruit)"
      ],
      "execution_count": null,
      "outputs": [
        {
          "output_type": "stream",
          "name": "stdout",
          "text": [
            "orange apple\n"
          ]
        }
      ]
    },
    {
      "cell_type": "code",
      "metadata": {
        "colab": {
          "base_uri": "https://localhost:8080/"
        },
        "id": "VBJEx1rRhGv0",
        "outputId": "cac270b4-1d01-4ab5-f31d-05ca694d035b"
      },
      "source": [
        "fruit = 'orange'\n",
        "fruit += ' apple'\n",
        "fruit += ' banana'\n",
        "fruit += ' apricot'\n",
        "\n",
        "print(fruit)"
      ],
      "execution_count": null,
      "outputs": [
        {
          "output_type": "stream",
          "name": "stdout",
          "text": [
            "orange apple banana apricot\n"
          ]
        }
      ]
    },
    {
      "cell_type": "code",
      "metadata": {
        "colab": {
          "base_uri": "https://localhost:8080/"
        },
        "id": "KJ50KnqAhG1T",
        "outputId": "049a00a6-fb36-4cc7-e476-6bf59d4f34bc"
      },
      "source": [
        "phrase = 'I have %d %s and %.2f brothers' % (4, \"children\", 5)  \n",
        "print (phrase)"
      ],
      "execution_count": null,
      "outputs": [
        {
          "output_type": "stream",
          "name": "stdout",
          "text": [
            "I have 4 children and 5.00 brothers\n"
          ]
        }
      ]
    },
    {
      "cell_type": "code",
      "metadata": {
        "colab": {
          "base_uri": "https://localhost:8080/"
        },
        "id": "bC-RYSx_hG68",
        "outputId": "09ca9d10-ae26-4f59-99b4-31aa6aa4cbb6"
      },
      "source": [
        "sentence = \"apologizing is a virtue\"\n",
        "\n",
        "print(\"%.11s\" % sentence)  # we get first 11 characters of the string"
      ],
      "execution_count": null,
      "outputs": [
        {
          "output_type": "stream",
          "name": "stdout",
          "text": [
            "apologizing\n"
          ]
        }
      ]
    },
    {
      "cell_type": "code",
      "metadata": {
        "colab": {
          "base_uri": "https://localhost:8080/"
        },
        "id": "9bkTQakkhHAY",
        "outputId": "38e222f7-1050-4999-dbe6-28b6f62012c6"
      },
      "source": [
        "print('%(amount)d pounds of %(fruit)s left' % {'amount': 33, 'fruit':'bananas'})"
      ],
      "execution_count": null,
      "outputs": [
        {
          "output_type": "stream",
          "name": "stdout",
          "text": [
            "33 pounds of bananas left\n"
          ]
        }
      ]
    },
    {
      "cell_type": "code",
      "metadata": {
        "colab": {
          "base_uri": "https://localhost:8080/"
        },
        "id": "uvKmItt8hHFt",
        "outputId": "5d4b7432-0f59-4b6b-99cd-e6fb3ea70242"
      },
      "source": [
        "fruit = 'Orange'\n",
        "vegetable = 'Tomato'\n",
        "amount = 4\n",
        "print('The amount of {} we bought is {} pounds'.format(fruit, amount))"
      ],
      "execution_count": null,
      "outputs": [
        {
          "output_type": "stream",
          "name": "stdout",
          "text": [
            "The amount of Orange we bought is 4 pounds\n"
          ]
        }
      ]
    },
    {
      "cell_type": "code",
      "metadata": {
        "colab": {
          "base_uri": "https://localhost:8080/"
        },
        "id": "zjfUWiUChHK2",
        "outputId": "2cc96fa2-c224-4873-9d9f-bde3731f1008"
      },
      "source": [
        "print('{state} is the most {adjective} state of the {country}'.format(state='California', country='USA', adjective='crowded'))"
      ],
      "execution_count": null,
      "outputs": [
        {
          "output_type": "stream",
          "name": "stdout",
          "text": [
            "California is the most crowded state of the USA\n"
          ]
        }
      ]
    },
    {
      "cell_type": "code",
      "metadata": {
        "colab": {
          "base_uri": "https://localhost:8080/"
        },
        "id": "zpDWFTSxhHP_",
        "outputId": "18704a6c-0d6a-4a33-ceb1-e6d79e4e701c"
      },
      "source": [
        "print('{0} is the most {adjective} state of the {country}'.format('California', country='USA', adjective='crowded'))"
      ],
      "execution_count": null,
      "outputs": [
        {
          "output_type": "stream",
          "name": "stdout",
          "text": [
            "California is the most crowded state of the USA\n"
          ]
        }
      ]
    },
    {
      "cell_type": "code",
      "metadata": {
        "colab": {
          "base_uri": "https://localhost:8080/"
        },
        "id": "b6_Omv3chHVV",
        "outputId": "8798e90b-e3d2-4d17-e322-4f467657696c"
      },
      "source": [
        "print(\"{6} {0} {5} {3} {4} {1} {2}\".format('have', 6, 'months', 'a job', 'in', 'found', 'I will'))"
      ],
      "execution_count": null,
      "outputs": [
        {
          "output_type": "stream",
          "name": "stdout",
          "text": [
            "I will have found a job in 6 months\n"
          ]
        }
      ]
    },
    {
      "cell_type": "code",
      "metadata": {
        "colab": {
          "base_uri": "https://localhost:8080/"
        },
        "id": "6pHYeO2vhHa2",
        "outputId": "8c1d752b-468d-4125-9250-c580a3e12e93"
      },
      "source": [
        "fruit = 'Orange'\n",
        "vegetable = 'Tomato'\n",
        "amount = 6\n",
        "output = f\"The amount of {fruit} and {vegetable} we bought are totally {amount} pounds\"\n",
        "\n",
        "print(output)"
      ],
      "execution_count": null,
      "outputs": [
        {
          "output_type": "stream",
          "name": "stdout",
          "text": [
            "The amount of Orange and Tomato we bought are totally 6 pounds\n"
          ]
        }
      ]
    },
    {
      "cell_type": "code",
      "metadata": {
        "colab": {
          "base_uri": "https://localhost:8080/"
        },
        "id": "rZC9oRVthHgB",
        "outputId": "71ab62be-2db0-4779-d498-def544f7b6f6"
      },
      "source": [
        "result = f\"{4 * 5}\"\n",
        "\n",
        "print(result)"
      ],
      "execution_count": null,
      "outputs": [
        {
          "output_type": "stream",
          "name": "stdout",
          "text": [
            "20\n"
          ]
        }
      ]
    },
    {
      "cell_type": "code",
      "metadata": {
        "colab": {
          "base_uri": "https://localhost:8080/"
        },
        "id": "clUR-IAWhHkw",
        "outputId": "fa80dd19-ddb0-4f40-bab4-88c7327f3bcc"
      },
      "source": [
        "result = f\" 4 * 5 \"\n",
        "print(result)"
      ],
      "execution_count": null,
      "outputs": [
        {
          "output_type": "stream",
          "name": "stdout",
          "text": [
            " 4 * 5 \n"
          ]
        }
      ]
    },
    {
      "cell_type": "code",
      "metadata": {
        "colab": {
          "base_uri": "https://localhost:8080/"
        },
        "id": "oV49VK5-hHp-",
        "outputId": "ec13fae2-e5e7-4f5b-a880-bafbb46f6684"
      },
      "source": [
        "my_name = 'JOSEPH'\n",
        "output = f\"My name is {my_name.capitalize()}\"\n",
        "\n",
        "print(output)"
      ],
      "execution_count": null,
      "outputs": [
        {
          "output_type": "stream",
          "name": "stdout",
          "text": [
            "My name is Joseph\n"
          ]
        }
      ]
    },
    {
      "cell_type": "code",
      "metadata": {
        "colab": {
          "base_uri": "https://localhost:8080/"
        },
        "id": "5lprwJ6ZhHvI",
        "outputId": "675cdb38-eacf-4ff3-88bc-c121d8c5fc34"
      },
      "source": [
        "my_name = 'JOSEPH'\n",
        "output = f\"My name is {my_name}\"\n",
        "\n",
        "print(output)"
      ],
      "execution_count": null,
      "outputs": [
        {
          "output_type": "stream",
          "name": "stdout",
          "text": [
            "My name is JOSEPH\n"
          ]
        }
      ]
    },
    {
      "cell_type": "code",
      "metadata": {
        "colab": {
          "base_uri": "https://localhost:8080/"
        },
        "id": "kfyJN7zThH0V",
        "outputId": "d8d056ad-a022-46ae-a23d-1d1e3ca73dca"
      },
      "source": [
        "name = \"Joseph\"\n",
        "job = \"teachers\"\n",
        "domain = \"Data Science\"\n",
        "message = (\n",
        "     f\"Hi {name}. \"\n",
        "     f\"You are one of the {job} \"\n",
        "     f\"in the {domain} section.\"\n",
        ")\n",
        "print(message)"
      ],
      "execution_count": null,
      "outputs": [
        {
          "output_type": "stream",
          "name": "stdout",
          "text": [
            "Hi Joseph. You are one of the teachers in the Data Science section.\n"
          ]
        }
      ]
    },
    {
      "cell_type": "code",
      "metadata": {
        "colab": {
          "base_uri": "https://localhost:8080/"
        },
        "id": "rydx8mYqhH5t",
        "outputId": "ad49e69a-2cb5-46e0-c148-dbf3a6a801f0"
      },
      "source": [
        "name = \"Joseph\"\n",
        "job = \"teachers\"\n",
        "domain = \"Data Science\"\n",
        "message = f\"Hi {name}. \" \\\n",
        "     f\"You are one of the {job} \" \\\n",
        "     f\"in the {domain} section.\"\n",
        "\n",
        "print(message)"
      ],
      "execution_count": null,
      "outputs": [
        {
          "output_type": "stream",
          "name": "stdout",
          "text": [
            "Hi Joseph. You are one of the teachers in the Data Science section.\n"
          ]
        }
      ]
    },
    {
      "cell_type": "code",
      "metadata": {
        "colab": {
          "base_uri": "https://localhost:8080/"
        },
        "id": "uRRF3bNDo4bT",
        "outputId": "871a29b4-af39-4472-cb65-0e6ea2279008"
      },
      "source": [
        "text = 'www.clarusway.com'\n",
        "print(text.endswith('.com'))\n",
        "print(text.startswith('http:'))"
      ],
      "execution_count": null,
      "outputs": [
        {
          "output_type": "stream",
          "name": "stdout",
          "text": [
            "True\n",
            "False\n"
          ]
        }
      ]
    },
    {
      "cell_type": "code",
      "metadata": {
        "colab": {
          "base_uri": "https://localhost:8080/"
        },
        "id": "JbNHyKGxo4hR",
        "outputId": "b4b84a38-b1ce-437d-ed9d-9d1e519e78be"
      },
      "source": [
        "text = 'www.clarusway.com'\n",
        "print(text.endswith('usway.com'))\n",
        "print(text.startswith('www.clarusway.'))"
      ],
      "execution_count": null,
      "outputs": [
        {
          "output_type": "stream",
          "name": "stdout",
          "text": [
            "True\n",
            "True\n"
          ]
        }
      ]
    },
    {
      "cell_type": "code",
      "metadata": {
        "colab": {
          "base_uri": "https://localhost:8080/"
        },
        "id": "njI_4V6po4kz",
        "outputId": "8e58f46b-4268-4ced-e501-12c5a7bc321a"
      },
      "source": [
        "text = 'www.clarusway.com'\n",
        "print(text.endswith('om'))\n",
        "print(text.startswith('w'))"
      ],
      "execution_count": null,
      "outputs": [
        {
          "output_type": "stream",
          "name": "stdout",
          "text": [
            "True\n",
            "True\n"
          ]
        }
      ]
    },
    {
      "cell_type": "code",
      "metadata": {
        "colab": {
          "base_uri": "https://localhost:8080/"
        },
        "id": "7a6EN940o4ns",
        "outputId": "38ffd2e0-9a30-4978-966e-6b9a833211b2"
      },
      "source": [
        "email = \"clarusway@clarusway.com is my e-mail address\"\n",
        "print(email.startswith(\"@\", 9))\n",
        "print(email.endswith(\"-\", 10, 32))"
      ],
      "execution_count": null,
      "outputs": [
        {
          "output_type": "stream",
          "name": "stdout",
          "text": [
            "True\n",
            "True\n"
          ]
        }
      ]
    },
    {
      "cell_type": "code",
      "metadata": {
        "colab": {
          "base_uri": "https://localhost:8080/"
        },
        "id": "g7Xj7wQAo4q0",
        "outputId": "4085bf8a-3a56-4c41-e824-1e5b820558fc"
      },
      "source": [
        "phrase = \"myemailaddress@clarusway.com\"\n",
        "\n",
        "print(len(phrase))\n",
        "print(phrase.startswith(\"@\", 14))\n",
        "print(phrase.endswith(\".\", 15, 24))"
      ],
      "execution_count": null,
      "outputs": [
        {
          "output_type": "stream",
          "name": "stdout",
          "text": [
            "28\n",
            "True\n",
            "False\n"
          ]
        }
      ]
    },
    {
      "cell_type": "code",
      "metadata": {
        "colab": {
          "base_uri": "https://localhost:8080/"
        },
        "id": "6HMtnO-do4tb",
        "outputId": "ff81fddc-786a-4aa4-ef5f-b2a1e30fe6e8"
      },
      "source": [
        "sentence = \"I live and work in Virginia\"\n",
        "\n",
        "print(sentence.upper())  \n",
        "\n",
        "print(sentence.lower())\n",
        "\n",
        "print(sentence.swapcase())\n",
        "\n",
        "print(sentence)  # note that, source text is unchanged"
      ],
      "execution_count": null,
      "outputs": [
        {
          "output_type": "stream",
          "name": "stdout",
          "text": [
            "I LIVE AND WORK IN VIRGINIA\n",
            "i live and work in virginia\n",
            "i LIVE AND WORK IN vIRGINIA\n",
            "I live and work in Virginia\n"
          ]
        }
      ]
    },
    {
      "cell_type": "code",
      "metadata": {
        "colab": {
          "base_uri": "https://localhost:8080/"
        },
        "id": "m66MPpXvo4wb",
        "outputId": "08fedb60-d60a-4ec5-f558-489c29a3a233"
      },
      "source": [
        "sentence = \"I live and work in Virginia\"\n",
        "title_sentence = sentence.title() \n",
        "print(title_sentence)  \n",
        "\n",
        "changed_sentence = sentence.replace(\"i\", \"+\")\n",
        "print(changed_sentence)  \n",
        "\n",
        "print(sentence)  # note that, again source text is unchanged"
      ],
      "execution_count": null,
      "outputs": [
        {
          "output_type": "stream",
          "name": "stdout",
          "text": [
            "I Live And Work In Virginia\n",
            "I l+ve and work +n V+rg+n+a\n",
            "I live and work in Virginia\n"
          ]
        }
      ]
    },
    {
      "cell_type": "code",
      "metadata": {
        "colab": {
          "base_uri": "https://localhost:8080/"
        },
        "id": "9JkwxK8_o4zD",
        "outputId": "a5c5b01a-4b29-4877-dbe5-0b19013fd1fd"
      },
      "source": [
        "sentence = \"I live and work in Virginia\"\n",
        "swap_case = sentence.swapcase()\n",
        "print(swap_case)\n",
        "print(swap_case.capitalize())  # changes 'i' to uppercase and\n",
        "# the rest to lowercase"
      ],
      "execution_count": null,
      "outputs": [
        {
          "output_type": "stream",
          "name": "stdout",
          "text": [
            "i LIVE AND WORK IN vIRGINIA\n",
            "I live and work in virginia\n"
          ]
        }
      ]
    },
    {
      "cell_type": "code",
      "metadata": {
        "colab": {
          "base_uri": "https://localhost:8080/"
        },
        "id": "8ToA_yXko411",
        "outputId": "54404cca-aa2a-4d90-9fb9-ef9fdefa47e5"
      },
      "source": [
        "print(\"Actions speaks louder than words\".upper().swapcase().capitalize())"
      ],
      "execution_count": null,
      "outputs": [
        {
          "output_type": "stream",
          "name": "stdout",
          "text": [
            "Actions speaks louder than words\n"
          ]
        }
      ]
    },
    {
      "cell_type": "code",
      "metadata": {
        "colab": {
          "base_uri": "https://localhost:8080/"
        },
        "id": "zHq_JmtFo443",
        "outputId": "b048b9a3-c69e-4cc9-fd4a-50540924f694"
      },
      "source": [
        "print(\"Actions speaks louder than words\".upper())"
      ],
      "execution_count": null,
      "outputs": [
        {
          "output_type": "stream",
          "name": "stdout",
          "text": [
            "ACTIONS SPEAKS LOUDER THAN WORDS\n"
          ]
        }
      ]
    },
    {
      "cell_type": "code",
      "metadata": {
        "colab": {
          "base_uri": "https://localhost:8080/"
        },
        "id": "iJNQSh7oo474",
        "outputId": "6a8f845e-b606-472c-c714-bf4bdfdc1e68"
      },
      "source": [
        "print(\"Actions speaks louder than words\".upper().swapcase())"
      ],
      "execution_count": null,
      "outputs": [
        {
          "output_type": "stream",
          "name": "stdout",
          "text": [
            "actions speaks louder than words\n"
          ]
        }
      ]
    },
    {
      "cell_type": "code",
      "metadata": {
        "colab": {
          "base_uri": "https://localhost:8080/"
        },
        "id": "5AkJz6l_o4-m",
        "outputId": "39241b72-ec92-4f01-a512-b1815a845370"
      },
      "source": [
        "print(\"Actions speaks louder than words\".title())"
      ],
      "execution_count": null,
      "outputs": [
        {
          "output_type": "stream",
          "name": "stdout",
          "text": [
            "Actions Speaks Louder Than Words\n"
          ]
        }
      ]
    },
    {
      "cell_type": "code",
      "metadata": {
        "id": "nvOB__4ouAUb"
      },
      "source": [
        ""
      ],
      "execution_count": null,
      "outputs": []
    },
    {
      "cell_type": "code",
      "metadata": {
        "id": "N-AMDzBNo5BX"
      },
      "source": [
        ""
      ],
      "execution_count": null,
      "outputs": []
    },
    {
      "cell_type": "code",
      "metadata": {
        "id": "HmwqtzH-o5EG"
      },
      "source": [
        ""
      ],
      "execution_count": null,
      "outputs": []
    },
    {
      "cell_type": "code",
      "metadata": {
        "id": "u4LzpMPNtIgp"
      },
      "source": [
        ""
      ],
      "execution_count": null,
      "outputs": []
    },
    {
      "cell_type": "code",
      "metadata": {
        "id": "MAL_a3OntItW"
      },
      "source": [
        ""
      ],
      "execution_count": null,
      "outputs": []
    },
    {
      "cell_type": "code",
      "metadata": {
        "id": "Hyt5UEpBtI1C"
      },
      "source": [
        ""
      ],
      "execution_count": null,
      "outputs": []
    }
  ]
}