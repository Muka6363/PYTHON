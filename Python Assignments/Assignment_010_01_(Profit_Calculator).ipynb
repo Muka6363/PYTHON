{
  "nbformat": 4,
  "nbformat_minor": 0,
  "metadata": {
    "colab": {
      "name": "Assignment - 010/01 (Profit Calculator).ipynb",
      "provenance": [],
      "collapsed_sections": []
    },
    "kernelspec": {
      "name": "python3",
      "display_name": "Python 3"
    },
    "language_info": {
      "name": "python"
    }
  },
  "cells": [
    {
      "cell_type": "code",
      "metadata": {
        "colab": {
          "base_uri": "https://localhost:8080/"
        },
        "id": "2mPY4qW7WSoD",
        "outputId": "de5ea213-0387-4a37-e5e1-698fa19596d7"
      },
      "source": [
        "money_first_day = 1000\n",
        "money_with_profit = money_first_day * 1.07 ** 7\n",
        "print('7 günün sonunda bakiyeniz: ' + str(money_with_profit))"
      ],
      "execution_count": null,
      "outputs": [
        {
          "output_type": "stream",
          "name": "stdout",
          "text": [
            "7 günün sonunda bakiyeniz: 1605.7814764784307\n"
          ]
        }
      ]
    }
  ]
}