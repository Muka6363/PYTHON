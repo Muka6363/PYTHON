{
  "nbformat": 4,
  "nbformat_minor": 0,
  "metadata": {
    "colab": {
      "name": "Covid19_Assignment.ipynb",
      "provenance": [],
      "collapsed_sections": []
    },
    "kernelspec": {
      "name": "python3",
      "display_name": "Python 3"
    },
    "language_info": {
      "name": "python"
    }
  },
  "cells": [
    {
      "cell_type": "code",
      "metadata": {
        "colab": {
          "base_uri": "https://localhost:8080/"
        },
        "id": "5w4gGM-TPEvS",
        "outputId": "99c1437a-3117-453c-dd17-662404198920"
      },
      "source": [
        "celcius = float(input(\"Please enter a celcius degree : \"))\n",
        "fahrenheit = (celcius * 1.8) + 32\n",
        "print(\"{} celcius is equal to {:.2f} fahrenheit.\".format(celcius, fahrenheit))"
      ],
      "execution_count": null,
      "outputs": [
        {
          "output_type": "stream",
          "name": "stdout",
          "text": [
            "Please enter a celcius degree : 45.8\n",
            "45.8 celcius is equal to 114.44 fahrenheit.\n"
          ]
        }
      ]
    },
    {
      "cell_type": "code",
      "metadata": {
        "colab": {
          "base_uri": "https://localhost:8080/"
        },
        "id": "V7EqIKZ3PtQM",
        "outputId": "a1213a82-d5e4-4c58-8b9b-3635ea4cc565"
      },
      "source": [
        "km = float(input(\"Please enter km : \"))\n",
        "mile = round(km * 0.62)\n",
        "print(\"{:.2f} mile is equal to {} km.\".format(mile, km))"
      ],
      "execution_count": null,
      "outputs": [
        {
          "output_type": "stream",
          "name": "stdout",
          "text": [
            "Please enter km : 50\n",
            "31.00 mile is equal to 50.0 km.\n"
          ]
        }
      ]
    },
    {
      "cell_type": "code",
      "metadata": {
        "colab": {
          "base_uri": "https://localhost:8080/"
        },
        "id": "G-BPPAgkVZtw",
        "outputId": "dd19b03a-b66a-4ffd-8ff5-4780219372f7"
      },
      "source": [
        "age = True\n",
        "chronic = True\n",
        "immune = True\n",
        "risk = age or chronic or immune\n",
        "print(risk)"
      ],
      "execution_count": null,
      "outputs": [
        {
          "output_type": "stream",
          "name": "stdout",
          "text": [
            "True\n"
          ]
        }
      ]
    },
    {
      "cell_type": "code",
      "metadata": {
        "colab": {
          "base_uri": "https://localhost:8080/"
        },
        "id": "Vbk0OwIe-tPG",
        "outputId": "9f014964-97a9-4979-8358-8e52867f64f8"
      },
      "source": [
        "age = input(\"Yaşınızı Giriniz :\")\n",
        "chronic = input(\"Kronik rahatsızlığınız var mı? (E/H): \")\n",
        "immune = input(\"Bağışıklığınız kuvvetli mi? (E/H): \")\n",
        "cigarette = input(\"Sigara kullanıyor musunuz? (E/H): \")\n",
        "\n",
        "if int(age) >= 75 or cigarette.startswith(\"E\") or immune.startswith(\"H\") or chronic.startswith(\"E\") :\n",
        "  print(\"Risk grubundasınız!\")\n",
        "else :\n",
        "  print(\"Risk grubunda değilsiniz!\")"
      ],
      "execution_count": null,
      "outputs": [
        {
          "output_type": "stream",
          "name": "stdout",
          "text": [
            "Yaşınızı Giriniz :29\n",
            "Kronik rahatsızlığınız var mı? (E/H): H\n",
            "Bağışıklığınız kuvvetli mi? (E/H): E\n",
            "Sigara kullanıyor musunuz? (E/H): H\n",
            "Risk grubunda değilsiniz!\n"
          ]
        }
      ]
    }
  ]
}