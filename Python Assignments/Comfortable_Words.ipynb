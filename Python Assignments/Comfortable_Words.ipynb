{
  "nbformat": 4,
  "nbformat_minor": 0,
  "metadata": {
    "colab": {
      "name": "Comfortable Words.ipynb",
      "provenance": [],
      "collapsed_sections": []
    },
    "kernelspec": {
      "name": "python3",
      "display_name": "Python 3"
    },
    "language_info": {
      "name": "python"
    }
  },
  "cells": [
    {
      "cell_type": "code",
      "metadata": {
        "colab": {
          "base_uri": "https://localhost:8080/"
        },
        "id": "vRiPz8SySzNJ",
        "outputId": "ccee6186-7034-4721-ed62-0ad012d7b28e"
      },
      "source": [
        "left_h = \"q, w, e, r, t, a, s, d, f, g, z, x, c, v, b\"\n",
        "right_h = \"y, u, i, o, p, h, j, k, l, n, m\"\n",
        "word = set(input(\"Bir kelime giriniz \").lower())\n",
        "\n",
        "if word - set(left_h) == set() or word - set(right_h) == set() :\n",
        "  print(False)\n",
        "else:\n",
        "  print(True)"
      ],
      "execution_count": null,
      "outputs": [
        {
          "output_type": "stream",
          "name": "stdout",
          "text": [
            "Bir kelime giriniz reta\n",
            "False\n"
          ]
        }
      ]
    },
    {
      "cell_type": "code",
      "metadata": {
        "id": "aU8rnwnqTQvG",
        "colab": {
          "base_uri": "https://localhost:8080/"
        },
        "outputId": "65e5457f-997b-47c6-c165-4f5b47e26971"
      },
      "source": [
        "right_hand = {\"q\", \"w\", \"e\", \"r\", \"t\", \"a\", \"s\", \"d\", \"f\", \"g\", \"z\", \"x\", \"c\", \"v\", \"b\"}\n",
        "left_hand = {\"y\", \"u\", \"i\", \"o\", \"p\", \"h\", \"j\", \"k\", \"l\", \"n\", \"m\"} \n",
        "word = str(input(\"Lütfen bir kelime girin:\"))\n",
        "x = set(word) \n",
        "print(not(x.issubset(right_hand) or x.issubset(left_hand)))"
      ],
      "execution_count": null,
      "outputs": [
        {
          "output_type": "stream",
          "name": "stdout",
          "text": [
            "Lütfen bir kelime girin:merhaba dünya\n",
            "True\n"
          ]
        }
      ]
    },
    {
      "cell_type": "code",
      "metadata": {
        "colab": {
          "base_uri": "https://localhost:8080/"
        },
        "id": "tQiD_W6tQ45t",
        "outputId": "80d507b4-bf13-405c-c246-6456dca36b67"
      },
      "source": [
        "sağ ={'y','h','n','u','j','m','ı','k','ö','o','l','ç','p','ş','i','ğ','ü'}\n",
        "sol= {'a','z','q','w','s','x','e','d','c','r','f','v','t','g','b'}\n",
        "word =set(input(\"word:\"))\n",
        "bool(word.difference(sağ) and word.difference(sol))"
      ],
      "execution_count": null,
      "outputs": [
        {
          "name": "stdout",
          "output_type": "stream",
          "text": [
            "word:clarusway\n"
          ]
        },
        {
          "output_type": "execute_result",
          "data": {
            "text/plain": [
              "True"
            ]
          },
          "metadata": {},
          "execution_count": 2
        }
      ]
    },
    {
      "cell_type": "code",
      "metadata": {
        "colab": {
          "base_uri": "https://localhost:8080/"
        },
        "id": "DwtzHE26RAJx",
        "outputId": "0b990b04-b0fd-482d-dfc0-c3fa5fe8a7cd"
      },
      "source": [
        "left = [\"q\", \"w\", \"e\", \"r\", \"t\", \"a\", \"s\", \"d\", \"f\", \"g\", \"z\", \"x\", \"c\", \"v\", \"b\"]\n",
        "right = [\"y\", \"u\", \"i\", \"o\", \"p\", \"h\", \"j\", \"k\", \"l\", \"n\", \"m\"]\n",
        "word = set(input(\"Enter a word: \"))\n",
        "leftcheck = word.intersection(left)\n",
        "rightcheck = word.intersection(right)\n",
        "print(bool(leftcheck) and bool(rightcheck))"
      ],
      "execution_count": null,
      "outputs": [
        {
          "output_type": "stream",
          "name": "stdout",
          "text": [
            "Enter a word: clarusway\n",
            "True\n"
          ]
        }
      ]
    }
  ]
}