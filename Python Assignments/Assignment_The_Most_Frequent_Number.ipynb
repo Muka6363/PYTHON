{
  "nbformat": 4,
  "nbformat_minor": 0,
  "metadata": {
    "colab": {
      "name": "Assignment_The_Most_Frequent_Number.ipynb",
      "provenance": [],
      "collapsed_sections": []
    },
    "kernelspec": {
      "name": "python3",
      "display_name": "Python 3"
    },
    "language_info": {
      "name": "python"
    }
  },
  "cells": [
    {
      "cell_type": "code",
      "metadata": {
        "id": "VFUzp8Sq4GWK",
        "colab": {
          "base_uri": "https://localhost:8080/"
        },
        "outputId": "26bbdef2-3dfe-4961-98d5-0fd394439702"
      },
      "source": [
        "numbers = [1, 3, 7, 4, 3, 0, 3, 6, 3]\n",
        "a = max(numbers, key = numbers.count)\n",
        "b = numbers.count(max(numbers, key = numbers.count))\n",
        "print(\"the most frequent number is {} and it was {} times repeated\".format(a,b))"
      ],
      "execution_count": 1,
      "outputs": [
        {
          "output_type": "stream",
          "name": "stdout",
          "text": [
            "the most frequent number is 3 and it was 4 times repeated\n"
          ]
        }
      ]
    }
  ]
}