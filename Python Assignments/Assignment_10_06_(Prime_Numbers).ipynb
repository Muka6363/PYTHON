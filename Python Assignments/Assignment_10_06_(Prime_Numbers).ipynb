{
  "nbformat": 4,
  "nbformat_minor": 0,
  "metadata": {
    "colab": {
      "name": "Assignment - 10/06 (Prime Numbers)",
      "provenance": [],
      "collapsed_sections": []
    },
    "kernelspec": {
      "name": "python3",
      "display_name": "Python 3"
    },
    "language_info": {
      "name": "python"
    }
  },
  "cells": [
    {
      "cell_type": "markdown",
      "source": [
        "Task : Print the prime numbers which are between 1 to entered limit number (n).\n",
        "\n",
        "- You can use a nested for loop.\n",
        "\n",
        "- Collect all these numbers into a list\n",
        "\n",
        "- The desired output for n=100 :\n",
        "\n",
        "[2, 3, 5, 7, 11, 13, 17, 19, 23, 29, 31, 37, 41, 43, 47, 53, 59,\n",
        "61, 67, 71, 73, 79, 83, 89, 97]"
      ],
      "metadata": {
        "id": "u_8hyAFNMAP_"
      }
    },
    {
      "cell_type": "code",
      "source": [
        "liste = []\n",
        "for sayi in range(100) :\n",
        "  if sayi > 1 :\n",
        "    for i in range(2,sayi) :\n",
        "      if (sayi % i) == 0 :\n",
        "        break  \n",
        "    else :\n",
        "      liste.append(sayi)\n",
        "print(liste)"
      ],
      "metadata": {
        "colab": {
          "base_uri": "https://localhost:8080/"
        },
        "id": "jCIHjLYHMAnZ",
        "outputId": "a14f427f-b633-4d48-ef1c-27e02a194aa6"
      },
      "execution_count": 1,
      "outputs": [
        {
          "output_type": "stream",
          "name": "stdout",
          "text": [
            "[2, 3, 5, 7, 11, 13, 17, 19, 23, 29, 31, 37, 41, 43, 47, 53, 59, 61, 67, 71, 73, 79, 83, 89, 97]\n"
          ]
        }
      ]
    }
  ]
}