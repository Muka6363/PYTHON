{
  "nbformat": 4,
  "nbformat_minor": 0,
  "metadata": {
    "colab": {
      "name": "Dört İşlem",
      "provenance": [],
      "collapsed_sections": []
    },
    "kernelspec": {
      "display_name": "Python 3",
      "name": "python3"
    }
  },
  "cells": [
    {
      "cell_type": "code",
      "metadata": {
        "id": "CgDptuTX3izE",
        "colab": {
          "base_uri": "https://localhost:8080/"
        },
        "outputId": "09feeb30-fb01-46d5-cbe7-10c28ca015c6"
      },
      "source": [
        "# Toplama Fonksiyonu\n",
        "def Topla(x, y):\n",
        "   return x + y\n",
        " \n",
        "# Çıkarma Fonksiyonu\n",
        "def Cikar(x, y):\n",
        "   return x - y\n",
        " \n",
        "# Çarpma Fonksiiyonu\n",
        "def Carp(x, y):\n",
        "   return x * y\n",
        " \n",
        "# Bölme Fonksiyonu\n",
        "def Bol(x, y):\n",
        "   return x / y\n",
        " \n",
        "print(\"Yapılacak İşlemi Seçin.\")\n",
        "print(\"=======================\")\n",
        "print(\"1.Toplama\")\n",
        "print(\"2.Çıkarma\")\n",
        "print(\"3.Çarpma\")\n",
        "print(\"4.Bölme\")\n",
        " \n",
        "# Kullanıcıdan Seçim İsteme\n",
        "secim = input(\"Seçiminiz (1/2/3/4):\")\n",
        " \n",
        "sayi1 = int(input(\"1. Sayı: \"))\n",
        "sayi2 = int(input(\"2. Sayı: \"))\n",
        " \n",
        "if secim == '1':\n",
        "   print(sayi1,\"+\",sayi2,\"=\", Topla(sayi1,sayi2))\n",
        " \n",
        "elif secim == '2':\n",
        "   print(sayi1,\"-\",sayi2,\"=\", Cikar(sayi1,sayi2))\n",
        " \n",
        "elif secim == '3':\n",
        "   print(sayi1,\"*\",sayi2,\"=\", Carp(sayi1,sayi2))\n",
        " \n",
        "elif secim == '4':\n",
        "   print(sayi1,\"/\",sayi2,\"=\", Bol(sayi1,sayi2))\n",
        "else:\n",
        "   print(\"Geçersiz Giriş\")"
      ],
      "execution_count": null,
      "outputs": [
        {
          "output_type": "stream",
          "name": "stdout",
          "text": [
            "Yapılacak İşlemi Seçin.\n",
            "=======================\n",
            "1.Toplama\n",
            "2.Çıkarma\n",
            "3.Çarpma\n",
            "4.Bölme\n",
            "Seçiminiz (1/2/3/4):1\n",
            "1. Sayı: 45\n",
            "2. Sayı: 65\n",
            "110\n"
          ]
        }
      ]
    },
    {
      "cell_type": "code",
      "metadata": {
        "id": "5IbGyATs6L7K"
      },
      "source": [
        ""
      ],
      "execution_count": null,
      "outputs": []
    }
  ]
}