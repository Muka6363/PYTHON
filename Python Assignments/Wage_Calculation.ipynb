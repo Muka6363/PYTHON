{
  "nbformat": 4,
  "nbformat_minor": 0,
  "metadata": {
    "colab": {
      "name": "Wage Calculation.ipynb",
      "provenance": [],
      "collapsed_sections": []
    },
    "kernelspec": {
      "name": "python3",
      "display_name": "Python 3"
    },
    "language_info": {
      "name": "python"
    }
  },
  "cells": [
    {
      "cell_type": "code",
      "metadata": {
        "colab": {
          "base_uri": "https://localhost:8080/"
        },
        "id": "69fc2YRpXhAF",
        "outputId": "cd00d0a5-e2b7-4e67-ab4d-f768206973ef"
      },
      "source": [
        "hours = int(input(\"How many hours did you work weekly?\"))\n",
        "if hours <= 20:\n",
        "  pay = hours * 20\n",
        "else:\n",
        "  pay = (hours - 40) * 1.5 * 20 + (40 * 20)\n",
        "print(\"Your weekly wage is \", pay)"
      ],
      "execution_count": null,
      "outputs": [
        {
          "output_type": "stream",
          "name": "stdout",
          "text": [
            "How many hours did you work weekly?50\n",
            "Your weekly wage is  1100.0\n"
          ]
        }
      ]
    }
  ]
}