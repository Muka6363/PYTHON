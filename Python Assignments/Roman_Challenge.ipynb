{
  "nbformat": 4,
  "nbformat_minor": 0,
  "metadata": {
    "colab": {
      "name": "Roman Challenge",
      "provenance": [],
      "collapsed_sections": []
    },
    "kernelspec": {
      "name": "python3",
      "display_name": "Python 3"
    },
    "language_info": {
      "name": "python"
    }
  },
  "cells": [
    {
      "cell_type": "code",
      "source": [
        "roman = ['M', 'CM', 'D', 'CD', 'C', 'XC', 'L', 'XL', 'X', 'IX', 'V', 'IV', 'I']\n",
        "decimal = [1000, 900, 500, 400, 100, 90, 50, 40, 10, 9, 5, 4, 1]\n",
        "\n",
        "def dec2roman(number):\n",
        "    romanvalue = \"\"\n",
        "    if type(number) == float:\n",
        "        integer,fractor = str(number).split('.')\n",
        "        integer = int(integer)\n",
        "        while len(fractor) > 3:\n",
        "            fra = list(fractor)\n",
        "            fra.pop()\n",
        "            fractor = \"\".join(fra)\n",
        "        fractor = int(fractor)\n",
        "        return dec2roman(integer)+'.'+dec2roman(fractor)\n",
        "    for i, d in enumerate(decimal):\n",
        "        while (number >= d):\n",
        "            number -= d\n",
        "            romanvalue += roman[i]\n",
        "    return romanvalue\n",
        "\n",
        "while True: \n",
        "    sayı = input(\"###  This program converts decimal numbers to Roman Numerals ### (To exit the program, please type 'exit') Please enter a number between 1 and 3999, inclusively :\")  \n",
        "    if sayı.lower() == \"exit\":\n",
        "        print(\"Exiting the program... Good Bye\")\n",
        "        break\n",
        "    elif sayı.isdigit() == True:\n",
        "        if int(sayı)>3999 or int(sayı)<1:\n",
        "            print(\"Not Valid Input !!!\")\n",
        "            continue\n",
        "        else:\n",
        "            print(dec2roman(int(sayı)))\n",
        "            break\n",
        "    elif type(sayı) == str:\n",
        "        print(\"Not Valid Input !!!\")\n",
        "        continue"
      ],
      "metadata": {
        "colab": {
          "base_uri": "https://localhost:8080/"
        },
        "id": "E5zMYL7yDbdx",
        "outputId": "ddb8882d-4df8-4de8-b1dc-e46fe4e4764b"
      },
      "execution_count": null,
      "outputs": [
        {
          "output_type": "stream",
          "name": "stdout",
          "text": [
            "###  This program converts decimal numbers to Roman Numerals ### (To exit the program, please type 'exit') Please enter a number between 1 and 3999, inclusively :7.515\n",
            "Not Valid Input !!!\n"
          ]
        }
      ]
    }
  ]
}