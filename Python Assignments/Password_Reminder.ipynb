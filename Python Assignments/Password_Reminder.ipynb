{
  "nbformat": 4,
  "nbformat_minor": 0,
  "metadata": {
    "colab": {
      "name": "Password Reminder",
      "provenance": [],
      "collapsed_sections": []
    },
    "kernelspec": {
      "name": "python3",
      "display_name": "Python 3"
    },
    "language_info": {
      "name": "python"
    }
  },
  "cells": [
    {
      "cell_type": "markdown",
      "metadata": {
        "id": "KIEk8_TRPda2"
      },
      "source": [
        "Task : Let's say; you left a message in the past that prints a password you need. To see the password you wrote, you need to enter your name and the program should recognize you.\n",
        "\n",
        "Write a program that \n",
        "\n",
        "1. Takes the first name from the user and compares it to yours,\n",
        "\n",
        "2. Then if the name the user entered is the same as yours, print out such as : \"Hello, Joseph! The password is : W@12\",\n",
        "\n",
        "3. If the name the user entered is not the same as yours, print out such as : \"Hello, Amina! See you later.\""
      ]
    },
    {
      "cell_type": "code",
      "metadata": {
        "colab": {
          "base_uri": "https://localhost:8080/"
        },
        "id": "PraGbdbRPdgh",
        "outputId": "2cd4bc8e-6720-41da-ea21-e6c9c9434776"
      },
      "source": [
        "first_name = \"Oguzhan\".lower()\n",
        "n = input(\"Please enter your first name: \")\n",
        "print(f\"Hello, {first_name.capitalize()}! The password is: H@9113\" if first_name == n else \"Hello Stranger! See you later.\")"
      ],
      "execution_count": 3,
      "outputs": [
        {
          "output_type": "stream",
          "name": "stdout",
          "text": [
            "Please enter your first name: oguzhan\n",
            "Hello, Oguzhan! The password is: H@9113\n"
          ]
        }
      ]
    },
    {
      "cell_type": "code",
      "metadata": {
        "colab": {
          "base_uri": "https://localhost:8080/"
        },
        "id": "aoZQDvWLQq3j",
        "outputId": "9428134f-4ce3-43a6-88dd-a035ea8c1b40"
      },
      "source": [
        "first_name = \"Oguzhan\".lower()\n",
        "n = input(\"Please enter your first name: \")\n",
        "print(f\"Hello, {first_name.capitalize()}! The password is: H@9113\" if first_name == n else \"Hello Stranger! See you later.\")"
      ],
      "execution_count": 4,
      "outputs": [
        {
          "output_type": "stream",
          "name": "stdout",
          "text": [
            "Please enter your first name: Joseph,\n",
            "Hello Stranger! See you later.\n"
          ]
        }
      ]
    }
  ]
}