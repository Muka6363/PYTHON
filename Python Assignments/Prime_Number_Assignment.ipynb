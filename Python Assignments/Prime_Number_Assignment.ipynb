{
  "nbformat": 4,
  "nbformat_minor": 0,
  "metadata": {
    "colab": {
      "name": "Prime_Number_Assignment",
      "provenance": [],
      "collapsed_sections": []
    },
    "kernelspec": {
      "name": "python3",
      "display_name": "Python 3"
    },
    "language_info": {
      "name": "python"
    }
  },
  "cells": [
    {
      "cell_type": "markdown",
      "metadata": {
        "id": "AyHz7210B_hl"
      },
      "source": [
        "Task : Write a program that takes a number from the user and prints the result to check if it is a prime number.\n",
        "\n",
        "- The examples of the desired output are as follows :\n",
        "\n",
        "- input →  19 ⇉ output : 19 is a prime number\n",
        "\n",
        "- input →  10 ⇉ output : 10 is not a prime number"
      ]
    },
    {
      "cell_type": "code",
      "metadata": {
        "colab": {
          "base_uri": "https://localhost:8080/"
        },
        "id": "UeUNaxC_B_qX",
        "outputId": "d05e8b8c-1ea3-497d-e1f4-aeed588d93f2"
      },
      "source": [
        "def is_prime(number) :\n",
        "  for i in range(1, number) :\n",
        "    if number % i == 0 :\n",
        "      print(f\"{number} is a not prime number\")\n",
        "      break\n",
        "    else :\n",
        "      print(f\"{number} is a prime number\")\n",
        "      break\n",
        "\n",
        "is_prime(3)"
      ],
      "execution_count": 13,
      "outputs": [
        {
          "output_type": "stream",
          "name": "stdout",
          "text": [
            "3 is a not prime number\n"
          ]
        }
      ]
    },
    {
      "cell_type": "code",
      "metadata": {
        "id": "gO7ttBITUTvk"
      },
      "source": [
        "def prime(num):\n",
        "    if num < 2:\n",
        "        return False\n",
        "    elif num > 2:\n",
        "        for i in range(2, num):\n",
        "            if num % i:\n",
        "                return False\n",
        "    return True"
      ],
      "execution_count": 14,
      "outputs": []
    },
    {
      "cell_type": "code",
      "metadata": {
        "colab": {
          "base_uri": "https://localhost:8080/"
        },
        "id": "jPnzMshuWs0a",
        "outputId": "3a3a46e7-2cd8-4061-a862-a25593863b11"
      },
      "source": [
        "n = int(input(\"Enter a positive number to check if it is a Prime Number: \"))\n",
        "counter = 0\n",
        "\n",
        "for i in range(1, n+1) :\n",
        "    if n % i == 0 :\n",
        "        counter += 1\n",
        "        \n",
        "if (n == 0) or (n == 1) or (counter >= 3) :\n",
        "    print(n, \"is a not prime number\")\n",
        "    \n",
        "else :\n",
        "    print(n, \"is a prime number\")"
      ],
      "execution_count": 18,
      "outputs": [
        {
          "output_type": "stream",
          "name": "stdout",
          "text": [
            "Enter a positive number to check if it is a Prime Number: 19\n",
            "19 is a prime number\n"
          ]
        }
      ]
    }
  ]
}