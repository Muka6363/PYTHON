{
  "nbformat": 4,
  "nbformat_minor": 0,
  "metadata": {
    "colab": {
      "name": "Set total to zero.ipynb",
      "provenance": [],
      "collapsed_sections": []
    },
    "kernelspec": {
      "name": "python3",
      "display_name": "Python 3"
    },
    "language_info": {
      "name": "python"
    }
  },
  "cells": [
    {
      "cell_type": "code",
      "metadata": {
        "colab": {
          "base_uri": "https://localhost:8080/"
        },
        "id": "fAsiSv5oVKRl",
        "outputId": "b4d23943-7f6b-4813-ddcb-e1a132e7e39f"
      },
      "source": [
        "total = 0\n",
        "grade_counter = 1\n",
        "while grade_counter <= 10:\n",
        "  grade = int(input(\"Next grade?\"))\n",
        "  grade_counter = grade_counter + 1\n",
        "  total = total + grade\n",
        "average = total / 10\n",
        "print (\"Class average is \", average)"
      ],
      "execution_count": null,
      "outputs": [
        {
          "output_type": "stream",
          "name": "stdout",
          "text": [
            "Next grade?87\n",
            "Next grade?90\n",
            "Next grade?95\n",
            "Next grade?100\n",
            "Next grade?100\n",
            "Next grade?100\n",
            "Next grade?81\n",
            "Next grade?75\n",
            "Next grade?89\n",
            "Next grade?97\n",
            "Class average is  91.4\n"
          ]
        }
      ]
    }
  ]
}