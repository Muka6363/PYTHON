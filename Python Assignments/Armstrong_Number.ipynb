{
  "nbformat": 4,
  "nbformat_minor": 0,
  "metadata": {
    "colab": {
      "name": "Armstrong Number",
      "provenance": [],
      "collapsed_sections": []
    },
    "kernelspec": {
      "name": "python3",
      "display_name": "Python 3"
    },
    "language_info": {
      "name": "python"
    }
  },
  "cells": [
    {
      "cell_type": "markdown",
      "metadata": {
        "id": "b29UhpnEPl-r"
      },
      "source": [
        "Task:\n",
        "\n",
        "Find out if a given number is an \"Armstrong Number\".\n",
        "\n",
        "- An n-digit number that is the sum of the nth powers of its digits is called an n-Armstrong number. Examples :\n",
        "\n",
        " 1. 371 = 33 + 73 + 13;\n",
        "\n",
        " 2. 9474 = 94 + 44 + 74 + 44;\n",
        "\n",
        " 3. 93084 = 95 + 35 + 05 + 85 + 45.\n",
        "\n",
        "- Write a Python program that;\n",
        "\n",
        " 1. takes a positive integer number from the user,\n",
        "\n",
        " 2. checks the entered number if it is Armstrong,\n",
        "\n",
        " 3. consider the negative, float and any entries other than numeric values then display a warning message to the user.\n",
        "\n",
        " ![image.png](data:image/png;base64,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)\n",
        "\n",
        "**Note that**; this question is famous on the web, so that do it yourself to get more benefits from it. By the way, do not use **try - except** block."
      ]
    },
    {
      "cell_type": "code",
      "metadata": {
        "colab": {
          "base_uri": "https://localhost:8080/"
        },
        "id": "uTBUAXvrXibp",
        "outputId": "338428af-e48d-4335-b78c-73c2c6cb7631"
      },
      "source": [
        "number = input(\"Please enter an integer number: \")\n",
        "total = 0\n",
        "\n",
        "if number.startswith(\"-\") :\n",
        "    print(\"It is an invalid entry. Don't use non-numeric, float, or negative values!\")\n",
        "elif \".\" in number or \",\" in number:\n",
        "    print(\"It is an invalid entry. Don't use non-numeric, float, or negative values!\")\n",
        "elif not number.isdigit():\n",
        "    print(\"It is an invalid entry. Don't use non-numeric, float, or negative values!\")\n",
        "else:\n",
        "    for i in number:\n",
        "        total += int(i) ** len(number)\n",
        "    if int(number) == total:\n",
        "        print(number + \" is an Armstrong number\")\n",
        "    else:\n",
        "        print(number + \" is not an Armstrong number\")"
      ],
      "execution_count": null,
      "outputs": [
        {
          "output_type": "stream",
          "name": "stdout",
          "text": [
            "Please enter an integer number: -153\n",
            "It is an invalid entry. Don't use non-numeric, float, or negative values!\n"
          ]
        }
      ]
    },
    {
      "cell_type": "code",
      "metadata": {
        "colab": {
          "base_uri": "https://localhost:8080/"
        },
        "id": "bpd6loCtYuB6",
        "outputId": "c5749b75-a3c8-4166-f3f4-7f9d7652c849"
      },
      "source": [
        "number = input(\"Please enter an integer number: \")\n",
        "total = 0\n",
        "\n",
        "if number.startswith(\"-\") or (\".\" in number or \",\" in number) or not number.isdigit() :\n",
        "    print(\"It is an invalid entry. Don't use non-numeric, float, or negative values!\")\n",
        "else:\n",
        "    for i in number:\n",
        "        total += int(i) ** len(number)\n",
        "    if int(number) == total:\n",
        "        print(number + \" is an Armstrong number\")\n",
        "    else:\n",
        "        print(number + \" is not an Armstrong number\")"
      ],
      "execution_count": 5,
      "outputs": [
        {
          "output_type": "stream",
          "name": "stdout",
          "text": [
            "Please enter an integer number: 153\n",
            "153 is an Armstrong number\n"
          ]
        }
      ]
    },
    {
      "cell_type": "code",
      "metadata": {
        "colab": {
          "base_uri": "https://localhost:8080/"
        },
        "id": "M-rO9p57MLoN",
        "outputId": "19455559-1b1f-4bf4-a2e3-ec6c3004916d"
      },
      "source": [
        "while True :\n",
        "\n",
        "  number = input(\"Enter a positive integer number: \")\n",
        "  digits = len(number)\n",
        "  summ = 0 \n",
        "\n",
        "  if not number.isdigit() :\n",
        "    print(number, \" is invalid entry. Enter valid input.\")\n",
        "  \n",
        "  elif int(number) > 0 :\n",
        "    for i in range(digits) :\n",
        "\n",
        "      summ = summ + int(number[i]) ** digits\n",
        "\n",
        "    if summ == int(number) :\n",
        "      print(number, \"is an Armstrong Number\")\n",
        "      break\n",
        "    \n",
        "    else :\n",
        "      print(number, \"is not an Armstrong Number\")\n",
        "      break"
      ],
      "execution_count": 1,
      "outputs": [
        {
          "output_type": "stream",
          "name": "stdout",
          "text": [
            "Enter a positive integer number: 153\n",
            "153 is an Armstrong Number\n"
          ]
        }
      ]
    }
  ]
}