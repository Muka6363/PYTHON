{
  "nbformat": 4,
  "nbformat_minor": 0,
  "metadata": {
    "colab": {
      "name": "Assignment_Celcius_Fahrenheit Converter.ipynb",
      "provenance": [],
      "collapsed_sections": []
    },
    "kernelspec": {
      "name": "python3",
      "display_name": "Python 3"
    },
    "language_info": {
      "name": "python"
    }
  },
  "cells": [
    {
      "cell_type": "code",
      "metadata": {
        "colab": {
          "base_uri": "https://localhost:8080/"
        },
        "id": "v0y6A8x2qlmL",
        "outputId": "b37e7812-7e42-4b24-d15d-6c1c3d48a33b"
      },
      "source": [
        "# Write a short Python program that asks the user to enter Celsius temperature\n",
        "# (it can be a decimal number), converts the entered temperature into\n",
        "# Fahrenheit degree and prints the result.\n",
        "\n",
        "Celsius = float(input('Sıcaklık değerini Celcius cinsinden girin: '))\n",
        "\n",
        "# Celsius = (Fahrenheit – 32) * 5/9 # Fahrenheit girilip Celcius istenseydi...\n",
        "Fahrenheit = (Celsius * 9/5) + 32\n",
        "\n",
        "print(\"Sıcaklık\", Fahrenheit, \"°F\")"
      ],
      "execution_count": null,
      "outputs": [
        {
          "output_type": "stream",
          "name": "stdout",
          "text": [
            "Sıcaklık değerini Celcius cinsinden girin: 27\n",
            "Sıcaklık 80.6 °F\n"
          ]
        }
      ]
    },
    {
      "cell_type": "code",
      "metadata": {
        "colab": {
          "base_uri": "https://localhost:8080/"
        },
        "id": "PfCf6evBsLez",
        "outputId": "56836d9f-5fa6-45e6-fc8b-f6426f18a0b3"
      },
      "source": [
        "Celsius = float(input('Sıcaklık değerini Celcius cinsinden girin: '))\n",
        "\n",
        "Fahrenheit = (Celsius * 9/5) + 32\n",
        "\n",
        "print(\"Sıcaklık\", Fahrenheit, \"°F\")"
      ],
      "execution_count": null,
      "outputs": [
        {
          "output_type": "stream",
          "name": "stdout",
          "text": [
            "Sıcaklık değerini Celcius cinsinden girin: 34\n",
            "Sıcaklık 93.2 °F\n"
          ]
        }
      ]
    },
    {
      "cell_type": "code",
      "metadata": {
        "colab": {
          "base_uri": "https://localhost:8080/"
        },
        "id": "-SBfOvfvsgSj",
        "outputId": "b70b9610-fc9e-4456-9650-d3145503d69b"
      },
      "source": [
        "# Write a short Python program that asks the user to enter a distance (it can\n",
        "# be a decimal number) in kilometers, converts the entered distance into miles\n",
        "# and prints the result.\n",
        "\n",
        "# Kullanıcıdan mesafeyi km cinsinden iste\n",
        "kilometre = float(input(\"Mesafeyi km cinsinden girin: \"))\n",
        "\n",
        "# conversion factor (dönüştürme katsayısı)\n",
        "donusturme_katsayisi = 0.621371\n",
        "\n",
        "# Mesafeyi mil cinsinden hesapla\n",
        "mil = kilometre * donusturme_katsayisi\n",
        "print('%0.2f kilometre %0.2f mil mesafeye eşittir.' % (kilometre, mil))"
      ],
      "execution_count": null,
      "outputs": [
        {
          "output_type": "stream",
          "name": "stdout",
          "text": [
            "Mesafeyi km cinsinden girin: 80\n",
            "80.00 kilometre 49.71 mil mesafeye eşittir.\n"
          ]
        }
      ]
    },
    {
      "cell_type": "code",
      "metadata": {
        "colab": {
          "base_uri": "https://localhost:8080/"
        },
        "id": "a9w9c_ZOt8KN",
        "outputId": "eb7ae788-3d2c-4659-dcc0-92f346cdfbb9"
      },
      "source": [
        "kilometre = float(input(\"Mesafeyi km cinsinden girin: \"))\n",
        "\n",
        "donusturme_katsayisi = 0.621371\n",
        "\n",
        "mil = kilometre * donusturme_katsayisi\n",
        "print('%0.2f kilometre %0.2f mil mesafeye eşittir.' % (kilometre, mil))"
      ],
      "execution_count": null,
      "outputs": [
        {
          "output_type": "stream",
          "name": "stdout",
          "text": [
            "Mesafeyi km cinsinden girin: 350\n",
            "350.00 kilometre 217.48 mil mesafeye eşittir.\n"
          ]
        }
      ]
    }
  ]
}