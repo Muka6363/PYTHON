{
  "nbformat": 4,
  "nbformat_minor": 0,
  "metadata": {
    "colab": {
      "name": "Find the largest number",
      "provenance": [],
      "collapsed_sections": []
    },
    "kernelspec": {
      "name": "python3",
      "display_name": "Python 3"
    },
    "language_info": {
      "name": "python"
    }
  },
  "cells": [
    {
      "cell_type": "markdown",
      "source": [
        "**Find the largest number**\n",
        "\n",
        "Write a python code that finds the largest number among the 5 numbers given by the user as input.\n",
        "\n",
        "It is forbidden to use max() function.\n",
        "\n",
        "Indicate which computational thinking concepts have you used.\n",
        "\n",
        "Example for user inputs and respective outputs\n",
        "\n",
        "Input >>>>>>>>>>> Output\n",
        "\n",
        "1 2 3 4 5 >>>>>>> 5\n",
        "\n",
        "67 85 19 39 >>>>> 85"
      ],
      "metadata": {
        "id": "J_QqYclq7YmN"
      }
    },
    {
      "cell_type": "code",
      "source": [
        "nums = list(map(int, input(\"Please enter numbers with a space: \").split()))\n",
        "print(sorted(nums)[-1])"
      ],
      "metadata": {
        "colab": {
          "base_uri": "https://localhost:8080/"
        },
        "id": "s4oWKZB67YvX",
        "outputId": "020b6697-b46f-4505-8000-5cd91e054b14"
      },
      "execution_count": 1,
      "outputs": [
        {
          "output_type": "stream",
          "name": "stdout",
          "text": [
            "Please enter numbers with a space: 67 85 19 39\n",
            "85\n"
          ]
        }
      ]
    }
  ]
}