{
  "nbformat": 4,
  "nbformat_minor": 0,
  "metadata": {
    "colab": {
      "name": "Covid-19 Risk with If Statements",
      "provenance": [],
      "collapsed_sections": []
    },
    "kernelspec": {
      "name": "python3",
      "display_name": "Python 3"
    },
    "language_info": {
      "name": "python"
    }
  },
  "cells": [
    {
      "cell_type": "markdown",
      "metadata": {
        "id": "3lrym5R38Gz_"
      },
      "source": [
        "Problem :\n",
        "\n",
        "- Task : Estimating the risk of death from coronavirus. Write a program that;\n",
        "\n",
        "- Takes \"Yes\" or \"No\" from the user as an answer to the following questions :\n",
        "\n",
        "  - Are you a cigarette addict older than 75 years old? Variable → age\n",
        "\n",
        "  - Do you have a severe chronic disease? Variable → chronic\n",
        "\n",
        "  - Is your immune system too weak? Variable → immune\n",
        "\n",
        "Set a logical algorithm using boolean logic operators (and/or) and use if-statements with the given variables in order to print out us a message : \"You are in risky group\"(if True ) or \"You are not in risky group\" (if False).\n",
        "\n",
        "age =  # can be assigned only True/False\n",
        "\n",
        "chronic =  # can be assigned only True/False\n",
        "\n",
        "immune =  # can be assigned only True/False\n",
        "\n",
        "risk = ?"
      ]
    },
    {
      "cell_type": "code",
      "metadata": {
        "colab": {
          "base_uri": "https://localhost:8080/"
        },
        "id": "GRajssdB8G5Y",
        "outputId": "68960b64-aff8-4697-f9ac-2d55cd994a49"
      },
      "source": [
        "age = input(\"Are you a cigarette addict older than 75 years old? (Yes/No) :\").lower()\n",
        "if age == \"yes\" :\n",
        "  age = True\n",
        "elif age == \"no\" :\n",
        "  age = False\n",
        "\n",
        "chronic = input(\"Do you have a chronic illness? (Yes/No): \").lower()\n",
        "if chronic == \"yes\" :\n",
        "  chronic = True\n",
        "elif chronic == \"no\" :\n",
        "  chronic = False\n",
        "\n",
        "immune = input(\"Is your immune system strong? (Yes/No): \").lower()\n",
        "if immune == \"yes\" :\n",
        "  immune = False\n",
        "elif immune == \"no\" :\n",
        "  immune = True\n",
        "\n",
        "risk = age or chronic or immune\n",
        "if risk == True :\n",
        "  print(\"You are in risky group\")\n",
        "else :\n",
        "  print(\"You are not in risky group\")"
      ],
      "execution_count": 7,
      "outputs": [
        {
          "output_type": "stream",
          "name": "stdout",
          "text": [
            "Are you a cigarette addict older than 75 years old? (Yes/No) :no\n",
            "Do you have a chronic illness? (Yes/No): yes\n",
            "Is your immune system strong? (Yes/No): yes\n",
            "You are in risky group\n"
          ]
        }
      ]
    },
    {
      "cell_type": "code",
      "metadata": {
        "colab": {
          "base_uri": "https://localhost:8080/"
        },
        "id": "7Cbl3f9PVzYC",
        "outputId": "7581eb4f-f738-4ab8-85a9-1d4949e5c7ff"
      },
      "source": [
        "age = True\n",
        "chronic = True\n",
        "immune = True\n",
        "risk = age or chronic or immune\n",
        "print(risk)"
      ],
      "execution_count": 3,
      "outputs": [
        {
          "output_type": "stream",
          "name": "stdout",
          "text": [
            "True\n"
          ]
        }
      ]
    }
  ]
}