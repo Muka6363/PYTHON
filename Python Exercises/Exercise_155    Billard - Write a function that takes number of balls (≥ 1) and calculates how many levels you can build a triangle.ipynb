{
  "nbformat": 4,
  "nbformat_minor": 0,
  "metadata": {
    "colab": {
      "name": "Exercise - 155",
      "provenance": [],
      "collapsed_sections": []
    },
    "kernelspec": {
      "name": "python3",
      "display_name": "Python 3"
    },
    "language_info": {
      "name": "python"
    }
  },
  "cells": [
    {
      "cell_type": "markdown",
      "metadata": {
        "id": "4e2AmGgt45AE"
      },
      "source": [
        "**Exercise - 155 | ?def | ?comprehension | ?round() | ?while loop**\n",
        "\n",
        "Remember the triangle of balls in billiards? To build a classic triangle (5 levels) you need 15 balls. With 3 balls you can build a 2-level triangle, etc.\n",
        "\n",
        "For more examples,\n",
        "\n",
        "pyramid(1) == 1\n",
        "\n",
        "pyramid(3) == 2\n",
        "\n",
        "pyramid(6) == 3\n",
        "\n",
        "pyramid(10) == 4\n",
        "\n",
        "pyramid(15) == 5\n",
        "\n",
        "Write a function that takes number of balls (≥ 1) and calculates how many levels you can build a triangle."
      ]
    },
    {
      "cell_type": "code",
      "metadata": {
        "colab": {
          "base_uri": "https://localhost:8080/"
        },
        "id": "A6kpMkEg8DMB",
        "outputId": "a494209f-7255-43e8-8df8-091f8dbd1f29"
      },
      "source": [
        "def pyramid(balls):\n",
        "    return 1 if balls == 1 else round((-1 + (8 * balls + 1) ** 0.5) // 2)\n",
        "pyramid(15)"
      ],
      "execution_count": 6,
      "outputs": [
        {
          "output_type": "execute_result",
          "data": {
            "text/plain": [
              "5"
            ]
          },
          "metadata": {},
          "execution_count": 6
        }
      ]
    },
    {
      "cell_type": "code",
      "metadata": {
        "colab": {
          "base_uri": "https://localhost:8080/"
        },
        "id": "NutafT_p9E-d",
        "outputId": "ff06ecdb-8d6e-40ae-a71d-0504eb4c2558"
      },
      "source": [
        "def pyramid(balls):\n",
        "    count = 0\n",
        "    while balls > count:\n",
        "        count += 1\n",
        "        balls -= count \n",
        "    return count\n",
        "pyramid(15)"
      ],
      "execution_count": 12,
      "outputs": [
        {
          "output_type": "execute_result",
          "data": {
            "text/plain": [
              "5"
            ]
          },
          "metadata": {},
          "execution_count": 12
        }
      ]
    }
  ]
}