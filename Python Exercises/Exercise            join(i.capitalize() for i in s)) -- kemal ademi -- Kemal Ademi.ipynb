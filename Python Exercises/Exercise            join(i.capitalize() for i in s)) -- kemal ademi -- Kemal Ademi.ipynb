{
  "nbformat": 4,
  "nbformat_minor": 0,
  "metadata": {
    "colab": {
      "name": "Exercise - Spare1.ipynb",
      "provenance": [],
      "collapsed_sections": []
    },
    "kernelspec": {
      "name": "python3",
      "display_name": "Python 3"
    },
    "language_info": {
      "name": "python"
    }
  },
  "cells": [
    {
      "cell_type": "markdown",
      "metadata": {
        "id": "qTrbKeqzu1kl"
      },
      "source": [
        "**Sunday Python Exercise**\n",
        "\n",
        "You are asked to ensure that the first and last names of people begin with a capital letter in their passports. For example, **alison heck** should be capitalised correctly as **Alison Heck**.\n",
        "\n",
        "Note: in a word only the first character is capitalized. Example 12abc when capitalized remains 12abc.\n",
        "\n",
        "Kişilerin pasaportlarında ad ve soyadlarının büyük harfle başlamasını sağlamanız istenmektedir. Örneğin, **alison heck**, **Alison Heck** olarak doğru bir şekilde büyük harfle yazılmalıdır.\n",
        "\n",
        "Not: Bir kelimede yalnızca ilk karakter büyük harfle yazılır. Örnek 12abc, büyük harfle yazıldığında 12abc olarak kalır."
      ]
    },
    {
      "cell_type": "code",
      "metadata": {
        "colab": {
          "base_uri": "https://localhost:8080/"
        },
        "id": "xtMjgSTWu1sN",
        "outputId": "39a5df1a-9882-4e14-8984-5c539c1bf785"
      },
      "source": [
        "s = input(\"Please enter your name : \").split()\n",
        "print(s) # ['kemal', 'ademi']\n",
        "print(\" \".join(i.capitalize() for i in s))"
      ],
      "execution_count": null,
      "outputs": [
        {
          "output_type": "stream",
          "name": "stdout",
          "text": [
            "Please enter your name : kemal ademi\n",
            "['kemal', 'ademi']\n",
            "Kemal Ademi\n"
          ]
        }
      ]
    }
  ]
}