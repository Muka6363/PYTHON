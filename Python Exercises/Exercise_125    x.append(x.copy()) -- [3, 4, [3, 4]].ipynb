{
  "nbformat": 4,
  "nbformat_minor": 0,
  "metadata": {
    "colab": {
      "name": "Exercise - 125",
      "provenance": [],
      "collapsed_sections": []
    },
    "kernelspec": {
      "name": "python3",
      "display_name": "Python 3"
    },
    "language_info": {
      "name": "python"
    }
  },
  "cells": [
    {
      "cell_type": "markdown",
      "metadata": {
        "id": "TQugaqGBulji"
      },
      "source": [
        "**Exercise - 125 | ?append() | ?copy()**\n",
        "\n",
        "The Code tab has a code which attempts to add a clone of an array to itself. There is no error message, but the results are not as expected. Can you fix the code?\n",
        "\n",
        "Examples\n",
        "\n",
        "clone([1, 1]) ➞ [1, 1, [1, 1]]\n",
        "\n",
        "clone([1, 2, 3]) ➞ [1, 2, 3, [1, 2, 3]]\n",
        "\n",
        "clone([\"x\", \"y\"]) ➞ [\"x\", \"y\", [\"x\", \"y\"]]"
      ]
    },
    {
      "cell_type": "code",
      "metadata": {
        "colab": {
          "base_uri": "https://localhost:8080/"
        },
        "id": "oyICqt9EulqM",
        "outputId": "6918492f-6835-4206-9f8d-0b6eb42bf67d"
      },
      "source": [
        "liste = [3, 4]\n",
        "listem = [1, 2]\n",
        "listem.append(liste)\n",
        "listem"
      ],
      "execution_count": 2,
      "outputs": [
        {
          "output_type": "execute_result",
          "data": {
            "text/plain": [
              "[1, 2, [3, 4]]"
            ]
          },
          "metadata": {},
          "execution_count": 2
        }
      ]
    },
    {
      "cell_type": "code",
      "metadata": {
        "colab": {
          "base_uri": "https://localhost:8080/"
        },
        "id": "p_8RWKKmu9Vl",
        "outputId": "90a3dfb1-db9c-4b3e-b175-aa4cc6cb4d41"
      },
      "source": [
        "liste = [1, 2, 3]\n",
        "liste.append(liste)\n",
        "liste"
      ],
      "execution_count": 5,
      "outputs": [
        {
          "output_type": "execute_result",
          "data": {
            "text/plain": [
              "[1, 2, 3, [...]]"
            ]
          },
          "metadata": {},
          "execution_count": 5
        }
      ]
    },
    {
      "cell_type": "code",
      "metadata": {
        "colab": {
          "base_uri": "https://localhost:8080/"
        },
        "id": "cDnmd4ZNvRXY",
        "outputId": "de3258a7-4073-4218-a164-8eb881bd77dc"
      },
      "source": [
        "liste= [1, 2, 3]\n",
        "liste.append(liste.copy())\n",
        "liste"
      ],
      "execution_count": 10,
      "outputs": [
        {
          "output_type": "execute_result",
          "data": {
            "text/plain": [
              "[1, 2, 3, [1, 2, 3]]"
            ]
          },
          "metadata": {},
          "execution_count": 10
        }
      ]
    },
    {
      "cell_type": "code",
      "metadata": {
        "colab": {
          "base_uri": "https://localhost:8080/"
        },
        "id": "S5HxiK5mwAGB",
        "outputId": "e2f4e6ba-ff0a-46f9-e5c9-40dcf07eca48"
      },
      "source": [
        "def clone(x) :\n",
        "  x.append(x.copy())\n",
        "  return x\n",
        "\n",
        "clone([3, 4])"
      ],
      "execution_count": 2,
      "outputs": [
        {
          "output_type": "execute_result",
          "data": {
            "text/plain": [
              "[3, 4, [3, 4]]"
            ]
          },
          "metadata": {},
          "execution_count": 2
        }
      ]
    }
  ]
}