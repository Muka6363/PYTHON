{
  "nbformat": 4,
  "nbformat_minor": 0,
  "metadata": {
    "colab": {
      "name": "Exercise_Spare5.ipynb",
      "provenance": [],
      "collapsed_sections": []
    },
    "kernelspec": {
      "name": "python3",
      "display_name": "Python 3"
    },
    "language_info": {
      "name": "python"
    }
  },
  "cells": [
    {
      "cell_type": "markdown",
      "metadata": {
        "id": "gDYgUTj7zV-S"
      },
      "source": [
        "**Exercise**\n",
        "\n",
        "Write a Python program to get a string from a given string where all occurrences of its first char have been changed to '$', except the first char itself.\n",
        "\n",
        "İlk karakterin kendisi hariç, ilk karakterinin tüm oluşumlarının '$' olarak değiştirildiği belirli bir dizeden bir dize almak için bir Python programı yazın.\n",
        "\n",
        "![image.png](data:image/png;base64,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)"
      ]
    },
    {
      "cell_type": "code",
      "metadata": {
        "colab": {
          "base_uri": "https://localhost:8080/"
        },
        "id": "ERTZpxIrzWEQ",
        "outputId": "96a5231e-8685-4b6d-e7a9-420feae96df8"
      },
      "source": [
        "text = input(\"Lütfen bir kelime yazınız: \").lower()\n",
        "text = text[0] + text[1:].replace(text[0], \"$\")\n",
        "print(text)"
      ],
      "execution_count": 2,
      "outputs": [
        {
          "output_type": "stream",
          "name": "stdout",
          "text": [
            "Lütfen bir kelime yazınız: asya\n",
            "asy$\n"
          ]
        }
      ]
    }
  ]
}