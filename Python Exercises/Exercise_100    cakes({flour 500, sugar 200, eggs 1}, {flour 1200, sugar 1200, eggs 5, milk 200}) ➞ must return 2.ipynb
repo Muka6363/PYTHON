{
  "nbformat": 4,
  "nbformat_minor": 0,
  "metadata": {
    "colab": {
      "name": "Exercise - 100",
      "provenance": [],
      "collapsed_sections": []
    },
    "kernelspec": {
      "name": "python3",
      "display_name": "Python 3"
    },
    "language_info": {
      "name": "python"
    }
  },
  "cells": [
    {
      "cell_type": "markdown",
      "metadata": {
        "id": "ZWBbVFK-6ac-"
      },
      "source": [
        "**Exercise - 100 | ?def | ?dictionary | ?min() | ?comprehension | ?zip() | ?for loop**\n",
        "\n",
        "Pete likes to bake some cakes. He has some recipes and ingredients. Unfortunately he is not good in maths. Can you help him to find out, how many cakes he could bake considering his recipes?\n",
        "\n",
        "*(Pete biraz kek pişirmeyi sever. Bazı tarifleri ve malzemeleri var. Maalesef matematikte iyi değil. Tariflerine göre kaç tane kek pişirebileceğini bulmasına yardım edebilir misin?)*\n",
        "\n",
        "Write a function cakes(), which takes the recipe (object) and the available ingredients (also an object) and returns the maximum number of cakes Pete can bake (integer). For simplicity there are no units for the amounts (e.g. 1 lb of flour or 200 g of sugar are simply 1 or 200). Ingredients that are not present in the objects, can be considered as 0.\n",
        "\n",
        "*(Tarifi (nesneyi) ve mevcut malzemeleri (aynı zamanda bir nesneyi) alan ve Pete'in pişirebileceği maksimum kek sayısını (tamsayı) döndüren bir kek() işlevi yazın. Basit olması için miktarlar için herhangi bir birim yoktur (örneğin 1 lb un veya 200 g şeker sadece 1 veya 200'dür). Nesnelerde bulunmayan bileşenler 0 olarak kabul edilebilir.)*\n",
        "\n",
        "\n",
        "\n",
        "Examples:\n",
        "\n",
        "# must return 2\n",
        "\n",
        "cakes({flour: 500, sugar: 200, eggs: 1}, {flour: 1200, sugar: 1200, eggs: 5,\n",
        " milk: 200})\n",
        "\n",
        "# must return 0\n",
        "\n",
        "cakes({apples: 3, flour: 300, sugar: 150, milk: 100, oil: 100}, {sugar: 500, flour: 2000, milk: 2000})"
      ]
    },
    {
      "cell_type": "code",
      "metadata": {
        "colab": {
          "base_uri": "https://localhost:8080/"
        },
        "id": "KkazwJPo6ajy",
        "outputId": "46d62d07-3af9-4187-f7be-03b6d8fc1f31"
      },
      "source": [
        "cake  = {\"flour\" : 500, \"sugar\": 200, \"eggs\": 1}\n",
        "ingredients =  {\"flour\": 1200, \"sugar\": 1200, \"eggs\": 5, \"milk\": 200}\n",
        "\n",
        "def cakes(recipe, available):\n",
        "    for key in recipe.keys():\n",
        "        if key not in available:\n",
        "            return 0\n",
        "    cake_num = min([available[key] // val for key, val in recipe.items()])\n",
        "    return cake_num\n",
        "\n",
        "cakes(cake, ingredients)"
      ],
      "execution_count": null,
      "outputs": [
        {
          "output_type": "execute_result",
          "data": {
            "text/plain": [
              "2"
            ]
          },
          "metadata": {},
          "execution_count": 70
        }
      ]
    },
    {
      "cell_type": "code",
      "metadata": {
        "colab": {
          "base_uri": "https://localhost:8080/"
        },
        "id": "HonBowkB78ZB",
        "outputId": "0bf9675a-155f-41ba-88ee-25cc5a4f9f90"
      },
      "source": [
        "cake  = {\"flour\" : 500, \"sugar\": 200, \"eggs\": 1}\n",
        "ingredients =  {\"flour\": 1200, \"sugar\": 1200, \"eggs\": 5, \"milk\": 200}\n",
        "malzeme = []\n",
        "\n",
        "for i in cake.keys() :\n",
        "  if i not in ingredients.keys() :\n",
        "    print(0)\n",
        "    break\n",
        "else :\n",
        "  for i in list(zip(cake.values(), ingredients.values())) :\n",
        "    malzeme += [i[1] // i[0]]\n",
        "  print(min(malzeme))"
      ],
      "execution_count": null,
      "outputs": [
        {
          "output_type": "stream",
          "name": "stdout",
          "text": [
            "2\n"
          ]
        }
      ]
    },
    {
      "cell_type": "code",
      "metadata": {
        "colab": {
          "base_uri": "https://localhost:8080/"
        },
        "id": "2ZcN0E8e9WQq",
        "outputId": "3405f7d9-a91f-4918-a0f9-42f77d773fff"
      },
      "source": [
        "inventory =  {\"flour\": 1200, \"sugar\": 1200, \"eggs\": 5, \"milk\": 200}\n",
        "receipt, how_many  = {\"flour\" : 500, \"sugar\": 200, \"eggs\": 1}, []\n",
        "\n",
        "def sublist(lst1, lst2):\n",
        "   ls1 = [element for element in lst1 if element in lst2]\n",
        "   ls2 = [element for element in lst2 if element in lst1]\n",
        "   return ls1 == ls2\n",
        "if sublist(list(receipt.keys()), list(inventory.keys())) == False :\n",
        "  print(0)\n",
        "else :\n",
        "  how_many += ([i[1] // i[0]] for i in list(zip(receipt.values(), inventory.values())))\n",
        "print(min(how_many)[0])"
      ],
      "execution_count": null,
      "outputs": [
        {
          "output_type": "stream",
          "name": "stdout",
          "text": [
            "2\n"
          ]
        }
      ]
    },
    {
      "cell_type": "code",
      "metadata": {
        "id": "6MUZQoIbGR0c"
      },
      "source": [
        "def sublist(lst1, lst2):\n",
        "   ls1 = [element for element in lst1 if element in lst2]\n",
        "   ls2 = [element for element in lst2 if element in lst1]\n",
        "   return ls1 == ls2"
      ],
      "execution_count": null,
      "outputs": []
    },
    {
      "cell_type": "code",
      "metadata": {
        "colab": {
          "base_uri": "https://localhost:8080/"
        },
        "id": "Uv33Wb3AIH1t",
        "outputId": "008a2d05-9295-49c8-fec9-e1418bbeb48b"
      },
      "source": [
        "a = {\"flour\": 500, \"sugar\": 200, \"eggs\": 1}\n",
        "b = {\"flour\": 1200, \"sugar\": 1200, \"eggs\": 5, \"milk\": 200}\n",
        "c = []\n",
        "for i,j in a.items() :\n",
        "  c.append(b.get(i,0)//j)\n",
        "min(c)"
      ],
      "execution_count": null,
      "outputs": [
        {
          "output_type": "execute_result",
          "data": {
            "text/plain": [
              "2"
            ]
          },
          "metadata": {},
          "execution_count": 64
        }
      ]
    },
    {
      "cell_type": "code",
      "metadata": {
        "colab": {
          "base_uri": "https://localhost:8080/"
        },
        "id": "3iTd_XVobWze",
        "outputId": "efbf4555-917f-4ba4-cf16-35f031bb15f9"
      },
      "source": [
        "recipe  = {\"flour\" : 500, \"sugar\": 200, \"eggs\": 1}\n",
        "ingredients =  {\"flour\": 1200, \"sugar\": 1200, \"eggs\": 5, \"milk\": 200}\n",
        "result = {}\n",
        "\n",
        "for i in ingredients.keys() :\n",
        "  if i in recipe.keys() :\n",
        "    result[i] = ingredients[i] // recipe[i]\n",
        "    \n",
        "print(min(result.values()))"
      ],
      "execution_count": null,
      "outputs": [
        {
          "output_type": "stream",
          "name": "stdout",
          "text": [
            "2\n"
          ]
        }
      ]
    }
  ]
}