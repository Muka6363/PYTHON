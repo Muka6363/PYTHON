{
  "nbformat": 4,
  "nbformat_minor": 0,
  "metadata": {
    "colab": {
      "name": "Exercise - 119",
      "provenance": [],
      "collapsed_sections": []
    },
    "kernelspec": {
      "name": "python3",
      "display_name": "Python 3"
    },
    "language_info": {
      "name": "python"
    }
  },
  "cells": [
    {
      "cell_type": "markdown",
      "metadata": {
        "id": "JLi8T6fbB3XS"
      },
      "source": [
        "**Exercise - 119 | ?nested for | ?len() | ?set() | ?range() | ?replace() | ?comprehension**\n",
        "\n",
        "Write a function that selects all words that have all the same vowels (in any order and/or number) as the first word, including the first word.\n",
        "\n",
        "Examples:\n",
        "\n",
        "same_vowel_group([\"toe\", \"ocelot\", \"maniac\"]) ➞ [\"toe\", \"ocelot\"]\n",
        "\n",
        "same_vowel_group([\"many\", \"carriage\", \"emit\", \"apricot\", \"animal\"]) ➞ [\"many\"]\n",
        "\n",
        "same_vowel_group([\"hoops\", \"chuff\", \"bot\", \"bottom\"]) ➞ [\"hoops\", \"bot\", \"bottom\"]\n",
        "\n",
        "Notes Words will contain only lowercase letters, and may contain whitespaces. Frequency does not matter (e.g. if the first word is \"loopy\", then you can include words with any number of o's, so long as they only contain o's, and not any other vowels)."
      ]
    },
    {
      "cell_type": "code",
      "metadata": {
        "colab": {
          "base_uri": "https://localhost:8080/"
        },
        "id": "03GuWV5JGBm7",
        "outputId": "0a8bdf69-275d-4b81-fc99-853c16ca24c0"
      },
      "source": [
        "vowels = \"aeiou\"\n",
        "only_vowels = []\n",
        "\n",
        "liste = [\"toe\", \"ocelot\", \"maniac\"]\n",
        "for i in liste :\n",
        "  for j in i :\n",
        "    if j not in vowels :\n",
        "      i = i.replace(j, \"\")\n",
        "  only_vowels += [i]\n",
        "print(only_vowels)\n",
        "\n",
        "output = [liste[0]]\n",
        "for i in range(1, len(liste)) :\n",
        "  if set(only_vowels[0]) == set(only_vowels[i]) :\n",
        "    output += [liste[i]]\n",
        "print(output)"
      ],
      "execution_count": 13,
      "outputs": [
        {
          "output_type": "stream",
          "name": "stdout",
          "text": [
            "['oe', 'oeo', 'aia']\n",
            "['toe', 'ocelot']\n"
          ]
        }
      ]
    },
    {
      "cell_type": "code",
      "metadata": {
        "colab": {
          "base_uri": "https://localhost:8080/"
        },
        "id": "ME1Wyy1RHtAM",
        "outputId": "f8401ddd-fad0-4581-edf9-42e83b8c8314"
      },
      "source": [
        "vowels = \"aeiou\"\n",
        "only_vowels = []\n",
        "\n",
        "liste = [\"toe\", \"ocelot\", \"maniac\"]\n",
        "for i in liste :\n",
        "  for j in i :\n",
        "    if j not in vowels :\n",
        "      i = i.replace(j, \"\")\n",
        "  only_vowels += [i]\n",
        "\n",
        "output = [liste[0]]\n",
        "output += [liste[i] for i in range(1, len(liste)) if set(only_vowels[0]) == set(only_vowels[i])]\n",
        "\n",
        "print(output)"
      ],
      "execution_count": 16,
      "outputs": [
        {
          "output_type": "stream",
          "name": "stdout",
          "text": [
            "['toe', 'ocelot']\n"
          ]
        }
      ]
    },
    {
      "cell_type": "code",
      "metadata": {
        "colab": {
          "base_uri": "https://localhost:8080/"
        },
        "id": "abk5RJD5HrSd",
        "outputId": "6d083656-e3bf-4d8f-bc0f-eb16c5e9e3dd"
      },
      "source": [
        "words = [\"hoops\", \"chuff\", \"bot\", \"bottom\"]\n",
        "new_words = []\n",
        "for i in words :\n",
        "  for j in i :\n",
        "    if j not in \"aeiou\" :\n",
        "      i = i.replace(j, \"\")\n",
        "  new_words += [i]\n",
        "same = [words[0]]\n",
        "for i in range(1,len(new_words)) :\n",
        "  if set(new_words[0]) == set(new_words[i]) :\n",
        "    same += [words[i]]\n",
        "\n",
        "print(same)"
      ],
      "execution_count": 14,
      "outputs": [
        {
          "output_type": "stream",
          "name": "stdout",
          "text": [
            "['hoops', 'bot', 'bottom']\n"
          ]
        }
      ]
    }
  ]
}