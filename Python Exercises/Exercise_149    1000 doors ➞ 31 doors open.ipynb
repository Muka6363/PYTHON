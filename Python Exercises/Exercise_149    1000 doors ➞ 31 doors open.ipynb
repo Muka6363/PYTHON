{
  "nbformat": 4,
  "nbformat_minor": 0,
  "metadata": {
    "colab": {
      "name": "Exercise - 149",
      "provenance": [],
      "collapsed_sections": []
    },
    "kernelspec": {
      "name": "python3",
      "display_name": "Python 3"
    },
    "language_info": {
      "name": "python"
    }
  },
  "cells": [
    {
      "cell_type": "markdown",
      "metadata": {
        "id": "1URmUrhsFZvt"
      },
      "source": [
        "**Exercise - 149 | ?def | ?range() | ?nested for loop | ?count() | ?comprehension | ?input()**\n",
        "\n",
        "There are number of lockers \"n\" and number of students \"n\" in the school. The principal asks the first student to go to every locker and open it. Then he has the second student go to every second locker and close it. The third goes to every third locker and, if it is closed, he opens it, and if it is open, he closes it. The fourth student does this to every fourth locker, and so on. After the process is completed with the \"n\"th student, how many lockers are open?\n",
        "\n",
        "The task is to write a function which gets any number as an input and returns the number of open lockers after last sudent complets his activity. So input of the function is just one number which shows number of lockers and number of students. For example if there are 1000 lockers and 1000 students in school then input is 1000 and function returns number of open lockers after 1000th student completes his action.\n",
        "\n",
        "The given input is always an integer greater than or equal to zero that is why there is no need for validation."
      ]
    },
    {
      "cell_type": "code",
      "metadata": {
        "colab": {
          "base_uri": "https://localhost:8080/"
        },
        "id": "e6V_u1NOFZ37",
        "outputId": "7c1db8a6-4790-44b6-a9c1-d2b775c636ad"
      },
      "source": [
        "def locker(x):\n",
        "   locker = [0 for i in range(0, x)]\n",
        "   for i in range (0, x):\n",
        "      for j in range(i, x, i + 1):\n",
        "         if locker[j] == 0: locker[j] = 1\n",
        "         elif locker[j] == 1: locker[j] = 0\n",
        "   return locker.count(1)\n",
        "locker(1000)"
      ],
      "execution_count": 1,
      "outputs": [
        {
          "output_type": "execute_result",
          "data": {
            "text/plain": [
              "31"
            ]
          },
          "metadata": {},
          "execution_count": 1
        }
      ]
    },
    {
      "cell_type": "code",
      "metadata": {
        "colab": {
          "base_uri": "https://localhost:8080/"
        },
        "id": "1m1gOI0BGnG-",
        "outputId": "0c3a2ad9-2d32-42ab-d5e9-db615073b70a"
      },
      "source": [
        "n = int(input(\"\"))\n",
        "doors = [1 if i % 2 == 0 else 0 for i in range(n)]\n",
        "\n",
        "for k in range(2,n) :\n",
        "  for j in range(k,n,k+1) :\n",
        "    if doors[j] == 1 :\n",
        "      doors[j] = 0\n",
        "    else :\n",
        "      doors[j] = 1\n",
        "print(doors.count(1))"
      ],
      "execution_count": 2,
      "outputs": [
        {
          "output_type": "stream",
          "name": "stdout",
          "text": [
            "1000\n",
            "31\n"
          ]
        }
      ]
    }
  ]
}