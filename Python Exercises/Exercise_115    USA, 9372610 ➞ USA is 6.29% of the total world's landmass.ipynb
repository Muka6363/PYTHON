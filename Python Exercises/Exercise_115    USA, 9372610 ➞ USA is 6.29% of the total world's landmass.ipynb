{
  "nbformat": 4,
  "nbformat_minor": 0,
  "metadata": {
    "colab": {
      "name": "Exercise - 115",
      "provenance": [],
      "collapsed_sections": []
    },
    "kernelspec": {
      "name": "python3",
      "display_name": "Python 3"
    },
    "language_info": {
      "name": "python"
    }
  },
  "cells": [
    {
      "cell_type": "markdown",
      "metadata": {
        "id": "ocqrfr8gVLR5"
      },
      "source": [
        "**Exercise - 115 | ?f\"string | ?round() | ?input()**\n",
        "\n",
        "Write a program that takes a country's name and its area as arguments and returns the area of the country's proportion of the total world's landmass.\n",
        "\n",
        "Examples\n",
        "\n",
        "- \"Russia\", 17098242 ➞ \"Russia is 11.48% of the total world's landmass\"\n",
        "\n",
        "- \"USA\", 9372610 ➞ \"USA is 6.29% of the total world's landmass\"\n",
        "\n",
        "- \"Iran\", 1648195 ➞ \"Iran is 1.11% of the total world's landmass\"\n",
        "\n",
        "Notes\n",
        "\n",
        "- The total world's landmass is 148,940,000 [Km^2]\n",
        "\n",
        "- Round the result to two decimal places."
      ]
    },
    {
      "cell_type": "code",
      "metadata": {
        "colab": {
          "base_uri": "https://localhost:8080/"
        },
        "id": "MomSJFOmVLYx",
        "outputId": "593abb3c-0d7f-4621-affe-0d86992d9dd3"
      },
      "source": [
        "name, area = input(\"Please enter country's name: \"), int(input(\"Please enter the area: \"))\n",
        "print(f\"{name} is {round(100 * area/148940000, 2)}% of the total world's landmass\")"
      ],
      "execution_count": 5,
      "outputs": [
        {
          "output_type": "stream",
          "name": "stdout",
          "text": [
            "Please enter country's name: Russia\n",
            "Please enter the area: 17098242\n",
            "Russia is 11.48% of the total world's landmass\n"
          ]
        }
      ]
    }
  ]
}