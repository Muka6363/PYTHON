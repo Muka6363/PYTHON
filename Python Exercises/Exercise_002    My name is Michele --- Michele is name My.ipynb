{
  "nbformat": 4,
  "nbformat_minor": 0,
  "metadata": {
    "colab": {
      "name": "Exercise - 2.ipynb",
      "provenance": [],
      "collapsed_sections": []
    },
    "kernelspec": {
      "name": "python3",
      "display_name": "Python 3"
    },
    "language_info": {
      "name": "python"
    }
  },
  "cells": [
    {
      "cell_type": "markdown",
      "metadata": {
        "id": "FOA8jHhCrdnT"
      },
      "source": [
        "**Exercise - 2**\n",
        "\n",
        "Write a program (using functions!) that asks the user for a long string containing multiple words. Print back to the user the same string, except with the words in backwards order. For example, say I type the string:\n",
        "\n",
        "**My name is Michele**\n",
        "\n",
        "Then I would see the string:\n",
        "\n",
        "**Michele is name My**\n",
        "\n",
        "shown back to me."
      ]
    },
    {
      "cell_type": "code",
      "metadata": {
        "colab": {
          "base_uri": "https://localhost:8080/"
        },
        "id": "uu0RySKCrdt3",
        "outputId": "c6b3be8d-beef-444c-ce7d-55638ad765f7"
      },
      "source": [
        "cumle = input(\"Bir cümle yazınız: \")\n",
        "elemanlarina_ayrilmis_cumle = cumle.split()\n",
        "elemanlarina_ayrilmis_cumle.reverse()\n",
        "print(*elemanlarina_ayrilmis_cumle)"
      ],
      "execution_count": null,
      "outputs": [
        {
          "output_type": "stream",
          "name": "stdout",
          "text": [
            "Bir cümle yazınız: My name is Michelle\n",
            "Michelle is name My\n"
          ]
        }
      ]
    },
    {
      "cell_type": "code",
      "metadata": {
        "colab": {
          "base_uri": "https://localhost:8080/"
        },
        "id": "5htmrnS_ruhr",
        "outputId": "deee3ec5-f7fc-4bf9-a992-e5bd2ab9bed0"
      },
      "source": [
        "# Not\n",
        "print(elemanlarina_ayrilmis_cumle)\n",
        "print(*elemanlarina_ayrilmis_cumle)"
      ],
      "execution_count": null,
      "outputs": [
        {
          "output_type": "stream",
          "name": "stdout",
          "text": [
            "['Michelle', 'is', 'name', 'My']\n",
            "Michelle is name My\n"
          ]
        }
      ]
    }
  ]
}