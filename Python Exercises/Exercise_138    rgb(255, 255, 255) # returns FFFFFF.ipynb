{
  "nbformat": 4,
  "nbformat_minor": 0,
  "metadata": {
    "colab": {
      "name": "Exercise - 138",
      "provenance": [],
      "collapsed_sections": []
    },
    "kernelspec": {
      "name": "python3",
      "display_name": "Python 3"
    },
    "language_info": {
      "name": "python"
    }
  },
  "cells": [
    {
      "cell_type": "markdown",
      "metadata": {
        "id": "c8kxqOL6ShEu"
      },
      "source": [
        "**Exercise - 138 | ?def | ?for loop | ?hex() | ?comprehension | ?split() | ?upper() | ?len() | ?join()**\n",
        "\n",
        "The rgb function is incomplete. Complete it so that passing in RGB decimal values will result in a hexadecimal representation being returned. Valid decimal values for RGB are 0 - 255. Any values that fall out of that range must be rounded to the closest valid value.\n",
        "\n",
        "Note: Your answer should always be 6 characters long, the shorthand with 3 will not work here.\n",
        "\n",
        "The following are examples of expected output values:\n",
        "\n",
        "rgb(255, 255, 255) # returns FFFFFF\n",
        "\n",
        "rgb(255, 255, 300) # returns FFFFFF\n",
        "\n",
        "rgb(0,0,0) # returns 000000\n",
        "\n",
        "rgb(148, 0, 211) # returns 9400D3"
      ]
    },
    {
      "cell_type": "code",
      "metadata": {
        "colab": {
          "base_uri": "https://localhost:8080/",
          "height": 35
        },
        "id": "vgaO1ynuShN3",
        "outputId": "d1008729-1d7e-4870-b1ae-d2d825433e43"
      },
      "source": [
        "def rgb(r,g,b) :\n",
        "  new_lst = []\n",
        "  for i in [r,b,g] :\n",
        "    if i < 0 : new_lst += [0] \n",
        "    if i > 255 : new_lst += [255]\n",
        "    else : new_lst += [i]\n",
        "  r,b,g = new_lst\n",
        "  output = \"%02x%02x%02x\" % (r, g, b)\n",
        "  return output.upper()\n",
        "rgb(255, 255, 255)"
      ],
      "execution_count": 6,
      "outputs": [
        {
          "output_type": "execute_result",
          "data": {
            "application/vnd.google.colaboratory.intrinsic+json": {
              "type": "string"
            },
            "text/plain": [
              "'FFFFFF'"
            ]
          },
          "metadata": {},
          "execution_count": 6
        }
      ]
    },
    {
      "cell_type": "code",
      "metadata": {
        "colab": {
          "base_uri": "https://localhost:8080/",
          "height": 35
        },
        "id": "AhRLx70eUSMa",
        "outputId": "353ef710-0140-4971-d2b0-e44125389704"
      },
      "source": [
        "def rgb(r, g, b):\n",
        "    my_list = ['00' if x < 0 else 'FF' if x > 255 else hex(x).split('x')[-1].upper() for x in (r,g,b)]\n",
        "    my_list = [f'0{x}' if len(x) < 2 else x for x in my_list]\n",
        "    return ''.join(my_list)\n",
        "rgb(254, 255, 255)"
      ],
      "execution_count": 30,
      "outputs": [
        {
          "output_type": "execute_result",
          "data": {
            "application/vnd.google.colaboratory.intrinsic+json": {
              "type": "string"
            },
            "text/plain": [
              "'FEFFFF'"
            ]
          },
          "metadata": {},
          "execution_count": 30
        }
      ]
    },
    {
      "cell_type": "code",
      "metadata": {
        "colab": {
          "base_uri": "https://localhost:8080/",
          "height": 35
        },
        "id": "zvOLyuiKZ_o3",
        "outputId": "33ab9f87-a3b8-4d9b-e019-a53f438a41a0"
      },
      "source": [
        "def rgb(r, g, b):\n",
        "    liste = [\"00\" if i < 0 else \"FF\" if i > 255 else hex(i).split(\"x\")[-1].upper() for i in (r,g,b)]\n",
        "    liste = [f\"0{i}\" if len(i) < 2 else i for i in liste]\n",
        "    return \"\".join(liste)\n",
        "rgb(254, 255, 255)"
      ],
      "execution_count": 26,
      "outputs": [
        {
          "output_type": "execute_result",
          "data": {
            "application/vnd.google.colaboratory.intrinsic+json": {
              "type": "string"
            },
            "text/plain": [
              "'FEFFFF'"
            ]
          },
          "metadata": {},
          "execution_count": 26
        }
      ]
    },
    {
      "cell_type": "code",
      "metadata": {
        "colab": {
          "base_uri": "https://localhost:8080/",
          "height": 35
        },
        "id": "kEoIBO1Pb0cz",
        "outputId": "2f5a7243-392b-4655-bafa-7a3e55bd53e7"
      },
      "source": [
        "def rgb(r, g, b):\n",
        "    rgb_=\"\"\n",
        "    for i in r,g,b:\n",
        "        if i<=0:\n",
        "            rgb_+=hex(0)[-1:]+\"0\"\n",
        "        elif i<=15:\n",
        "            rgb_+=\"0\"+hex(i)[-1:].upper()\n",
        "        elif i>255:\n",
        "            rgb_+=hex(255)[-2:].upper()\n",
        "        else:\n",
        "            rgb_+=hex(i)[-2:].upper()\n",
        "    return rgb_\n",
        "rgb(-20,358,248)"
      ],
      "execution_count": 31,
      "outputs": [
        {
          "output_type": "execute_result",
          "data": {
            "application/vnd.google.colaboratory.intrinsic+json": {
              "type": "string"
            },
            "text/plain": [
              "'00FFF8'"
            ]
          },
          "metadata": {},
          "execution_count": 31
        }
      ]
    }
  ]
}