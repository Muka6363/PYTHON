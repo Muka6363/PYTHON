{
  "nbformat": 4,
  "nbformat_minor": 0,
  "metadata": {
    "colab": {
      "name": "Exercise - 123",
      "provenance": [],
      "collapsed_sections": []
    },
    "kernelspec": {
      "name": "python3",
      "display_name": "Python 3"
    },
    "language_info": {
      "name": "python"
    }
  },
  "cells": [
    {
      "cell_type": "markdown",
      "metadata": {
        "id": "mipeMODhDd47"
      },
      "source": [
        "**Exercise - 123 | ?def | ?map() | ?input() | ?split()**\n",
        "\n",
        "Last Digit Ultimate\n",
        "\n",
        "Your job is to create a function, that takes 3 numbers: a, b, c and returns True if the last digit of a * b = the last digit of c. Check the examples below for an explanation.\n",
        "\n",
        "Examples\n",
        "\n",
        "last_dig(25, 21, 125) ➞ True\n",
        "\n",
        "The last digit of 25 is 5, the last digit of 21 is 1, and the last\n",
        "\n",
        "digit of 125 is 5, and the last digit of 5*1 = 5, which is equal\n",
        "\n",
        "to the last digit of 125(5).\n",
        "\n",
        "last_dig(55, 226, 5190) ➞ True\n",
        "\n",
        "The last digit of 55 is 5, the last digit of 226 is 6, and the last\n",
        "\n",
        "digit of 5190 is 0, and the last digit of 5*6 = 30 is 0, which is\n",
        "\n",
        "equal to the last digit of 5190(0).\n",
        "\n",
        "last_dig(12, 215, 2142) ➞ False\n",
        "\n",
        "The last digit of 12 is 2, the last digit of 215 is 5, and the last\n",
        "\n",
        "digit of 2142 is 2, and the last digit of 2*5 = 10 is 0, which is\n",
        "\n",
        "not equal to the last digit of 2142(2)."
      ]
    },
    {
      "cell_type": "code",
      "metadata": {
        "colab": {
          "base_uri": "https://localhost:8080/"
        },
        "id": "ir6OMS_iDeCv",
        "outputId": "f622d4cf-e65e-423b-a74f-33aae6ea320d"
      },
      "source": [
        "def last_dig(x, y, z) :\n",
        "  return str(int(str(x)[-1] ) * int(str(y)[-1]))[-1] == str(z)[-1]\n",
        "\n",
        "last_dig(12, 215, 2142)"
      ],
      "execution_count": 2,
      "outputs": [
        {
          "output_type": "execute_result",
          "data": {
            "text/plain": [
              "False"
            ]
          },
          "metadata": {},
          "execution_count": 2
        }
      ]
    },
    {
      "cell_type": "code",
      "metadata": {
        "colab": {
          "base_uri": "https://localhost:8080/"
        },
        "id": "EllZ0Re4FZXf",
        "outputId": "b145d653-fd38-4393-ce6d-abaf85d56dc9"
      },
      "source": [
        "def last_dig(x, y, z) :\n",
        "  return (x * y) % 10 == z % 10\n",
        "\n",
        "last_dig(35, 11, 1245)"
      ],
      "execution_count": 4,
      "outputs": [
        {
          "output_type": "execute_result",
          "data": {
            "text/plain": [
              "True"
            ]
          },
          "metadata": {},
          "execution_count": 4
        }
      ]
    },
    {
      "cell_type": "code",
      "metadata": {
        "colab": {
          "base_uri": "https://localhost:8080/"
        },
        "id": "hpNiE1rvFzYr",
        "outputId": "a0fb86dc-5d1a-4a12-d408-669f07552494"
      },
      "source": [
        "a, b, c = map(int, input(\"Enter 3 numbers: \").split())\n",
        "print((a * b) % 10 == c % 10)"
      ],
      "execution_count": 5,
      "outputs": [
        {
          "output_type": "stream",
          "name": "stdout",
          "text": [
            "Enter 3 numbers: 35 11 1245\n",
            "True\n"
          ]
        }
      ]
    }
  ]
}