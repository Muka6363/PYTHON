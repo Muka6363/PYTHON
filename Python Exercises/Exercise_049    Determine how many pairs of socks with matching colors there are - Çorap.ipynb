{
  "nbformat": 4,
  "nbformat_minor": 0,
  "metadata": {
    "colab": {
      "name": "Exercise - 049",
      "provenance": [],
      "collapsed_sections": []
    },
    "kernelspec": {
      "name": "python3",
      "display_name": "Python 3"
    },
    "language_info": {
      "name": "python"
    }
  },
  "cells": [
    {
      "cell_type": "markdown",
      "source": [
        "**Exercise - 049 | ?set() | ?for loop | ?floor division | ?format() | ?f\"string**\n",
        "\n",
        "There is a large of socks that must be paired by color. Given an array of integers representing the color of each sock, determine how many pairs of socks with matching colors there are.\n",
        "\n",
        "Example :\n",
        "\n",
        "n = 7\n",
        "\n",
        "ar = [1, 2, 1, 2, 1, 3, 2]\n",
        "\n",
        "Note: There is one pair of color 1 and one of color 2. There are three odd socks left, one of each color. The number of pairs is 2."
      ],
      "metadata": {
        "id": "FQTCm6giDgKb"
      }
    },
    {
      "cell_type": "code",
      "source": [
        "sock_list = [1, 2, 1, 3, 1, 2, 3, 4, 4, 4, 1]\n",
        "colors = set(sock_list)\n",
        "pairs = 0\n",
        "\n",
        "for renk in colors :\n",
        "  pairs += sock_list.count(renk) // 2\n",
        "\n",
        "print(f\"Toplam {pairs} çift çorap var.\", \"Renk kodları da {}'tür.\".format(colors))"
      ],
      "metadata": {
        "colab": {
          "base_uri": "https://localhost:8080/"
        },
        "id": "Jv3dEbcWDgUY",
        "outputId": "199b547d-cbc7-4be4-892c-e47a9ede8b86"
      },
      "execution_count": 1,
      "outputs": [
        {
          "output_type": "stream",
          "name": "stdout",
          "text": [
            "Toplam 5 çift çorap var. Renk kodları da {1, 2, 3, 4}'tür.\n"
          ]
        }
      ]
    }
  ]
}