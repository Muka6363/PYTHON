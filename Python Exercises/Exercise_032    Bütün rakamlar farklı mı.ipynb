{
  "nbformat": 4,
  "nbformat_minor": 0,
  "metadata": {
    "colab": {
      "name": "Exercise - 32",
      "provenance": [],
      "collapsed_sections": []
    },
    "kernelspec": {
      "name": "python3",
      "display_name": "Python 3"
    },
    "language_info": {
      "name": "python"
    }
  },
  "cells": [
    {
      "cell_type": "markdown",
      "metadata": {
        "id": "wdRAvXMd1QyB"
      },
      "source": [
        "**Exercise - 32 | ?input() | ?len() | ?set()**\n",
        "\n",
        "Write a Python function that takes a sequence of numbers and determines whether all the numbers are different from each other.\n",
        "\n",
        "Bir sayı dizisi alan ve tüm sayıların birbirinden farklı olup olmadığını belirleyen bir Python fonksiyonu yazın."
      ]
    },
    {
      "cell_type": "code",
      "metadata": {
        "colab": {
          "base_uri": "https://localhost:8080/"
        },
        "id": "LZNQ0E7s1Q4M",
        "outputId": "f472271d-773a-4040-cf22-47a8689290f5"
      },
      "source": [
        "number = input(\"Please enter a number: \")\n",
        "print(len(set(number)) == len(number))"
      ],
      "execution_count": 1,
      "outputs": [
        {
          "output_type": "stream",
          "name": "stdout",
          "text": [
            "Please enter a number: 146987\n",
            "True\n"
          ]
        }
      ]
    },
    {
      "cell_type": "code",
      "metadata": {
        "colab": {
          "base_uri": "https://localhost:8080/"
        },
        "id": "xVRjcAUU1Zt3",
        "outputId": "5ea21448-8355-4db5-9e28-b1337730df77"
      },
      "source": [
        "len(\"153\") == len(set(\"153\"))"
      ],
      "execution_count": 2,
      "outputs": [
        {
          "output_type": "execute_result",
          "data": {
            "text/plain": [
              "True"
            ]
          },
          "metadata": {},
          "execution_count": 2
        }
      ]
    }
  ]
}