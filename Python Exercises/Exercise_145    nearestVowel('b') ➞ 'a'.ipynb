{
  "nbformat": 4,
  "nbformat_minor": 0,
  "metadata": {
    "colab": {
      "name": "Exercise - 145",
      "provenance": [],
      "collapsed_sections": []
    },
    "kernelspec": {
      "name": "python3",
      "display_name": "Python 3"
    },
    "language_info": {
      "name": "python"
    }
  },
  "cells": [
    {
      "cell_type": "markdown",
      "metadata": {
        "id": "ha3eB032bK5D"
      },
      "source": [
        "**Exercise - 145 | ?def | ?abs() | ?ord() | ?comprehension | ?index() | ?min()**\n",
        "\n",
        "**Nearest Vowel**\n",
        "\n",
        "Given a letter, created a function which returns the nearest vowel to the letter. If two vowels are equidistant to the given letter, return the earlier vowel.\n",
        "\n",
        "Examples\n",
        "\n",
        "nearestVowel(\"b\") ➞ \"a\"\n",
        "\n",
        "nearestVowel(\"s\") ➞ \"u\"\n",
        "\n",
        "nearestVowel(\"c\") ➞ \"a\"\n",
        "\n",
        "nearestVowel(\"i\") ➞ \"i\"\n",
        "\n",
        "Notes\n",
        "\n",
        "- All letters will be given in lowercase.\n",
        "\n",
        "- There will be no alphabet wrapping involved, meaning the closest vowel to \"z\" should return \"u\", not \"a\"."
      ]
    },
    {
      "cell_type": "code",
      "metadata": {
        "colab": {
          "base_uri": "https://localhost:8080/",
          "height": 35
        },
        "id": "m3METIz8dTIx",
        "outputId": "45c80f06-118c-4dff-e6b1-31e7f20f21fb"
      },
      "source": [
        "def nearestVowel (x) :\n",
        "  vowels = \"aeiou\"\n",
        "  liste = [abs(ord(x) - ord(i)) for i in vowels]\n",
        "  return vowels[liste.index(min(liste))]\n",
        "nearestVowel(\"s\") "
      ],
      "execution_count": 4,
      "outputs": [
        {
          "output_type": "execute_result",
          "data": {
            "application/vnd.google.colaboratory.intrinsic+json": {
              "type": "string"
            },
            "text/plain": [
              "'u'"
            ]
          },
          "metadata": {},
          "execution_count": 4
        }
      ]
    },
    {
      "cell_type": "code",
      "metadata": {
        "colab": {
          "base_uri": "https://localhost:8080/",
          "height": 35
        },
        "id": "Z43Y9RAJiSGQ",
        "outputId": "153cc29f-45f1-4dea-d048-67a1ed883b7e"
      },
      "source": [
        "def nearestVowel (x) :\n",
        "  vowels = \"aeiou\"\n",
        "  if x in vowels : return x  \n",
        "  elif ord(x) <= ord(\"c\") : return \"a\"\n",
        "  elif ord(\"c\") < ord(x) <= ord(\"g\") : return \"e\"\n",
        "  elif ord(\"g\") < ord(x) <= ord(\"l\") : return \"i\"\n",
        "  elif ord(\"l\") < ord(x) <= ord(\"r\") : return \"o\"\n",
        "  elif ord(\"r\") < ord(x) <= ord(\"z\") : return \"u\"\n",
        "nearestVowel(\"s\") "
      ],
      "execution_count": 21,
      "outputs": [
        {
          "output_type": "execute_result",
          "data": {
            "application/vnd.google.colaboratory.intrinsic+json": {
              "type": "string"
            },
            "text/plain": [
              "'u'"
            ]
          },
          "metadata": {},
          "execution_count": 21
        }
      ]
    }
  ]
}