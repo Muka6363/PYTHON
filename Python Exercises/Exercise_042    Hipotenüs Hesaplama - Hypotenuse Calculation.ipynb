{
  "nbformat": 4,
  "nbformat_minor": 0,
  "metadata": {
    "colab": {
      "name": "Exercise - 42",
      "provenance": [],
      "collapsed_sections": []
    },
    "kernelspec": {
      "name": "python3",
      "display_name": "Python 3"
    },
    "language_info": {
      "name": "python"
    }
  },
  "cells": [
    {
      "cell_type": "markdown",
      "metadata": {
        "id": "feKfZR8yuLgt"
      },
      "source": [
        "**Exercise - 42 | ?hypotenuse | ?input() | ?hipotenüs**\n",
        "\n",
        "Write a Python program to calculate the hypotenuse of a right angled triangle.\n",
        "\n",
        "Dik açılı bir üçgenin hipotenüsünü hesaplayan bir Python programı yazın."
      ]
    },
    {
      "cell_type": "code",
      "metadata": {
        "colab": {
          "base_uri": "https://localhost:8080/"
        },
        "id": "-coqw_mKuLpE",
        "outputId": "607576fc-8419-4e30-88ab-c5f3ba97db55"
      },
      "source": [
        "a , b = int(input(\"Kenar ölçüsünü gir: \")), int(input(\"Kenar ölçüsünü gir: \"))\n",
        "print(\"Hipotenüs: \", int(((a ** 2 + b ** 2) ** 0.5)))"
      ],
      "execution_count": 4,
      "outputs": [
        {
          "output_type": "stream",
          "name": "stdout",
          "text": [
            "Kenar ölçüsünü gir: 5\n",
            "Kenar ölçüsünü gir: 12\n",
            "Hipotenüs:  13\n"
          ]
        }
      ]
    }
  ]
}