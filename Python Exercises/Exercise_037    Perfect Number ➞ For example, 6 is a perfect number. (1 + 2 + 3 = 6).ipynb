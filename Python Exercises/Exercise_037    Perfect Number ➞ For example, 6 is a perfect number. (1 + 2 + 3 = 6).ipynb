{
  "nbformat": 4,
  "nbformat_minor": 0,
  "metadata": {
    "colab": {
      "name": "Exercise - 37",
      "provenance": [],
      "collapsed_sections": []
    },
    "kernelspec": {
      "name": "python3",
      "display_name": "Python 3"
    },
    "language_info": {
      "name": "python"
    }
  },
  "cells": [
    {
      "cell_type": "markdown",
      "metadata": {
        "id": "Qn62kML61Ifn"
      },
      "source": [
        "**Exercise - 37 | ?perfect number | ?range() | ?input() | ?sum() | ?comprehension | ?format()**\n",
        "\n",
        "Try to find out if a number you get from the user is perfect.\n",
        "\n",
        "A number is called a \"perfect number\" if the sum of its divisors is equal to itself. For example, 6 is a perfect number. (1 + 2 + 3 = 6)"
      ]
    },
    {
      "cell_type": "code",
      "metadata": {
        "colab": {
          "base_uri": "https://localhost:8080/"
        },
        "id": "H21a4ZDW1Iml",
        "outputId": "a259cf03-1365-4b62-97ad-8410e61ddd0d"
      },
      "source": [
        "number = int(input(\"Please enter a number: \"))\n",
        "sum = 0\n",
        "for i in range(1, number) :\n",
        "  if number % i == 0 :\n",
        "    sum += i\n",
        "if sum == number :\n",
        "  print(\"{} is a perfect number.\".format(number))\n",
        "else :\n",
        "  print(\"{} is not a perfect number.\".format(number))"
      ],
      "execution_count": 2,
      "outputs": [
        {
          "output_type": "stream",
          "name": "stdout",
          "text": [
            "Please enter a number: 6\n",
            "6 is a perfect number.\n"
          ]
        }
      ]
    },
    {
      "cell_type": "code",
      "metadata": {
        "colab": {
          "base_uri": "https://localhost:8080/"
        },
        "id": "HmQRxJxC1pkV",
        "outputId": "5eedfe13-6857-439c-9065-d54354f0f92c"
      },
      "source": [
        "num = int(input(\"Please enter a number: \"))\n",
        "print(sum([int(i) for i in range(1, num) if num % i == 0]) == num)"
      ],
      "execution_count": 1,
      "outputs": [
        {
          "output_type": "stream",
          "name": "stdout",
          "text": [
            "Please enter a number: 6\n",
            "True\n"
          ]
        }
      ]
    }
  ]
}