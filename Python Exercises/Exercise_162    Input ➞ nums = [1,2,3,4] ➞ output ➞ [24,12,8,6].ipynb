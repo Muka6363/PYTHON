{
  "nbformat": 4,
  "nbformat_minor": 0,
  "metadata": {
    "colab": {
      "name": "Exercise - 162",
      "provenance": [],
      "collapsed_sections": []
    },
    "kernelspec": {
      "name": "python3",
      "display_name": "Python 3"
    },
    "language_info": {
      "name": "python"
    }
  },
  "cells": [
    {
      "cell_type": "markdown",
      "metadata": {
        "id": "jaab4BKSrv_I"
      },
      "source": [
        "**Exercise - 162 | ?def | ?comprehension | ?for loop | ?range() | ?len()**\n",
        "\n",
        "Given an integer array **nums**, return an array **answer** such that **answer[i]** is equal to the product of all the elements of **nums** except **nums[i]**.\n",
        "\n",
        "You must write an algorithm that without using the nested loops  and without using the division operation.\n",
        "\n",
        "**Example 1:**\n",
        "\n",
        "Input: nums = [1,2,3,4]\n",
        "\n",
        "Output: [24,12,8,6]\n",
        "\n",
        "**Example 2:**\n",
        "\n",
        "Input: nums = [-1,1,0,-3,3]\n",
        "\n",
        "Output: [0,0,9,0,0]"
      ]
    },
    {
      "cell_type": "code",
      "metadata": {
        "colab": {
          "base_uri": "https://localhost:8080/"
        },
        "id": "Ogn8PmaarwGL",
        "outputId": "e5d469bf-235c-4d19-de1a-e8b9f29fe903"
      },
      "source": [
        "def function(nums) :\n",
        "       \n",
        "  answer = [1 for i in range(len(nums))]\n",
        "  left = 1\n",
        "  right = 1\n",
        "    \n",
        "  for i in range(len(nums)):\n",
        "    answer[i] *= left\n",
        "    answer[len(nums) - i - 1] *= right\n",
        "    left *= nums[i]\n",
        "    right *= nums[len(nums) - i - 1]\n",
        "        \n",
        "  return answer\n",
        "function ([1,2,3,4])"
      ],
      "execution_count": 2,
      "outputs": [
        {
          "output_type": "execute_result",
          "data": {
            "text/plain": [
              "[24, 12, 8, 6]"
            ]
          },
          "metadata": {},
          "execution_count": 2
        }
      ]
    },
    {
      "cell_type": "code",
      "metadata": {
        "colab": {
          "base_uri": "https://localhost:8080/"
        },
        "id": "SnvYoRZ6sWat",
        "outputId": "7fb4d3ee-8089-41f6-9837-ff81c2513119"
      },
      "source": [
        "def function(nums) :\n",
        "  # 1. set up a base case if len(nums) < 2 to return 0\n",
        "  if len(nums) < 2:\n",
        "    return 0\n",
        "        \n",
        "  # 2. set up the answer array, as well as the left and right pointers, set all values to 1\n",
        "  answer = [1 for _ in range(len(nums))]\n",
        "  left = 1\n",
        "  right = 1\n",
        "        \n",
        "  # 3. go thru the array, multiply the values in the answer array with the pointers first, and then get new values for left and right\n",
        "  for i in range(len(nums)):\n",
        "    answer[i] *= left\n",
        "    answer[len(nums) - i - 1] *= right\n",
        "    left *= nums[i]\n",
        "    right *= nums[len(nums) - i - 1]\n",
        "        \n",
        "    # 4. return the answer array\n",
        "  return answer\n",
        "function ([1,2,3,4])"
      ],
      "execution_count": 1,
      "outputs": [
        {
          "output_type": "execute_result",
          "data": {
            "text/plain": [
              "[24, 12, 8, 6]"
            ]
          },
          "metadata": {},
          "execution_count": 1
        }
      ]
    }
  ]
}