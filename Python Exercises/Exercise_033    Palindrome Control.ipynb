{
  "nbformat": 4,
  "nbformat_minor": 0,
  "metadata": {
    "colab": {
      "name": "Exercise - 33",
      "provenance": [],
      "collapsed_sections": []
    },
    "kernelspec": {
      "name": "python3",
      "display_name": "Python 3"
    },
    "language_info": {
      "name": "python"
    }
  },
  "cells": [
    {
      "cell_type": "markdown",
      "metadata": {
        "id": "O3Noau4h2LtP"
      },
      "source": [
        "**Exercise - 33 | ?palindrome | ?input() | ?lower()**\n",
        "\n",
        "Write a program to check if a given string is a Palindrome.\n",
        "A palindrome reads same from front and back e.g.- aba, ccaacc, mom, etc.\n",
        "\n",
        "Verilen bir stringin Palindrom olup olmadığını kontrol eden bir program yazın. Bir palindrom önden ve arkadan aynı şekilde okunur, örneğin aba, ccaacc, mom, vb.\n",
        "\n",
        "INPUT:  aba\n",
        "\n",
        "OUTPUT: True\n",
        "\n",
        "(Please don't use for, if,while)"
      ]
    },
    {
      "cell_type": "code",
      "metadata": {
        "colab": {
          "base_uri": "https://localhost:8080/"
        },
        "id": "gVNCGgdE2L0O",
        "outputId": "1ef760f9-4e95-4adf-9a65-aef8b657126e"
      },
      "source": [
        "n = input(\"\").lower()\n",
        "print(n == n[::-1])"
      ],
      "execution_count": 1,
      "outputs": [
        {
          "output_type": "stream",
          "name": "stdout",
          "text": [
            "Aba\n",
            "True\n"
          ]
        }
      ]
    }
  ]
}