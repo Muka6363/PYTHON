{
  "nbformat": 4,
  "nbformat_minor": 0,
  "metadata": {
    "colab": {
      "name": "Exercise - 101",
      "provenance": [],
      "collapsed_sections": []
    },
    "kernelspec": {
      "name": "python3",
      "display_name": "Python 3"
    },
    "language_info": {
      "name": "python"
    }
  },
  "cells": [
    {
      "cell_type": "markdown",
      "metadata": {
        "id": "LMwQC-HAKoIz"
      },
      "source": [
        "**Exercise - 101 | ?len() | ?set() | ?max() | ?index() | ?append()**\n",
        "\n",
        "Create a function that retrieves every number that is strictly larger than every number that follows it.\n",
        "\n",
        "Examples\n",
        "\n",
        "[3, 13, 11, 2, 1, 9, 5] ➞ [13, 11, 9, 5]\n",
        "\n",
        "- 13 is larger than all numbers to its right, etc.\n",
        "\n",
        "[5, 5, 5, 5, 5, 5] ➞ [5]\n",
        "\n",
        "- Must be strictly larger.\n",
        "\n",
        "- Always include the last number.\n",
        "\n",
        "[5, 9, 8, 7] ➞ [9, 8, 7]\n",
        "\n",
        "Notes\n",
        "\n",
        "The last number in an array is trivially strictly larger than all numbers that follow it (no numbers follow it)."
      ]
    },
    {
      "cell_type": "code",
      "metadata": {
        "colab": {
          "base_uri": "https://localhost:8080/"
        },
        "id": "T8d49ZulVQf4",
        "outputId": "0590eac5-1d7f-477b-a8dd-778647cb29a7"
      },
      "source": [
        "n, sub_list = [3, 13, 11, 2, 1, 9, 5], []\n",
        "\n",
        "if len(set(n)) == 1 :\n",
        "  print(n[-1])\n",
        "else :\n",
        "  for i in n :\n",
        "    if i >= max(n[n.index(i)::]) :\n",
        "      sub_list.append(i)\n",
        "  print(sub_list)"
      ],
      "execution_count": null,
      "outputs": [
        {
          "output_type": "stream",
          "name": "stdout",
          "text": [
            "[13, 11, 9, 5]\n"
          ]
        }
      ]
    },
    {
      "cell_type": "code",
      "metadata": {
        "colab": {
          "base_uri": "https://localhost:8080/"
        },
        "id": "RqEzIsPkZDm7",
        "outputId": "df818d17-17aa-4d1f-fece-d43c9f5f2432"
      },
      "source": [
        "n, sub_list = [5, 5, 5, 5, 5, 5, 5], []\n",
        "\n",
        "if len(set(n)) == 1 :\n",
        "  print(n[-1])\n",
        "else :\n",
        "  for i in n :\n",
        "    if i >= max(n[n.index(i)::]) :\n",
        "      sub_list.append(i)\n",
        "  print(sub_list)"
      ],
      "execution_count": null,
      "outputs": [
        {
          "output_type": "stream",
          "name": "stdout",
          "text": [
            "5\n"
          ]
        }
      ]
    }
  ]
}