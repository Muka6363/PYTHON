{
  "nbformat": 4,
  "nbformat_minor": 0,
  "metadata": {
    "colab": {
      "name": "Exercise - 35",
      "provenance": [],
      "collapsed_sections": []
    },
    "kernelspec": {
      "name": "python3",
      "display_name": "Python 3"
    },
    "language_info": {
      "name": "python"
    }
  },
  "cells": [
    {
      "cell_type": "markdown",
      "metadata": {
        "id": "v-Yr5Z4740fA"
      },
      "source": [
        "**Exercise - 35 | ?set() | ?list() | ?difference()**\n",
        "\n",
        "Write a Python program to get the difference between the two lists.\n",
        "\n",
        "İki liste arasındaki farkı bulmak için bir Python programı yazın."
      ]
    },
    {
      "cell_type": "code",
      "metadata": {
        "colab": {
          "base_uri": "https://localhost:8080/"
        },
        "id": "WxtLGnkM40mK",
        "outputId": "cb276a5f-dc37-4390-d25a-518232da32f3"
      },
      "source": [
        "liste = [1, 2, 4, 5, 6]\n",
        "lista = [1, 3, 4, 7, 8]\n",
        "x = set(liste) - set(lista)\n",
        "y = set(lista) - set(liste)\n",
        "print(list(x) + list(y))"
      ],
      "execution_count": 1,
      "outputs": [
        {
          "output_type": "stream",
          "name": "stdout",
          "text": [
            "[2, 5, 6, 8, 3, 7]\n"
          ]
        }
      ]
    },
    {
      "cell_type": "code",
      "metadata": {
        "colab": {
          "base_uri": "https://localhost:8080/"
        },
        "id": "8TKdCI4z5ATI",
        "outputId": "c0dcc531-390d-406b-9985-bfa06e49e509"
      },
      "source": [
        "# Alternative\n",
        "\n",
        "liste = [1, 2, 4, 5, 6]\n",
        "lista = [1, 3, 4, 7, 8]\n",
        "x = set(liste).difference(set(lista))\n",
        "y = set(lista).difference(set(liste))\n",
        "print(list(x) + list(y))"
      ],
      "execution_count": 2,
      "outputs": [
        {
          "output_type": "stream",
          "name": "stdout",
          "text": [
            "[2, 5, 6, 8, 3, 7]\n"
          ]
        }
      ]
    }
  ]
}