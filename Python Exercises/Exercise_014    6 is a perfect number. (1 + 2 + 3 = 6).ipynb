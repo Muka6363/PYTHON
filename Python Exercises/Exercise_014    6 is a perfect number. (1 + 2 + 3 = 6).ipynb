{
  "nbformat": 4,
  "nbformat_minor": 0,
  "metadata": {
    "colab": {
      "name": "Exercise - 14.ipynb",
      "provenance": [],
      "collapsed_sections": []
    },
    "kernelspec": {
      "name": "python3",
      "display_name": "Python 3"
    },
    "language_info": {
      "name": "python"
    }
  },
  "cells": [
    {
      "cell_type": "markdown",
      "metadata": {
        "id": "L5Sik1T56713"
      },
      "source": [
        "**Exercise -14**\n",
        "\n",
        "Try to find out if a number you get from the user is perfect.\n",
        "A number is called a \"perfect number\" if the sum of its divisors is equal to itself. For example, 6 is a perfect number. (1 + 2 + 3 = 6)\n",
        "\n",
        "Kullanıcıdan aldığınız bir sayının mükemmel olup olmadığını bulmaya çalışın. Bölenlerinin toplamı kendisine eşit olan sayılara \"mükemmel sayı\" denir. Örneğin 6 mükemmel bir sayıdır. (1 + 2 + 3 = 6)"
      ]
    },
    {
      "cell_type": "code",
      "metadata": {
        "colab": {
          "base_uri": "https://localhost:8080/"
        },
        "id": "yG4_rQSh677w",
        "outputId": "2036dece-0fe0-43fb-e883-1a30cb2c0526"
      },
      "source": [
        "number = int(input(\"Please enter a number: \"))\n",
        "total = sum([i for i in range(1,number) if number % i == 0])\n",
        "if total == number :\n",
        "  print(\"{} is a perfect number.\".format(number))\n",
        "else:\n",
        "  print(\"{} is not a perfect number.\".format(number))"
      ],
      "execution_count": 1,
      "outputs": [
        {
          "output_type": "stream",
          "name": "stdout",
          "text": [
            "Please enter a number: 6\n",
            "6 is a perfect number.\n"
          ]
        }
      ]
    },
    {
      "cell_type": "code",
      "metadata": {
        "colab": {
          "base_uri": "https://localhost:8080/"
        },
        "id": "japmupdX7JSU",
        "outputId": "95217fc9-448c-4d4e-83fb-24abd4ea684b"
      },
      "source": [
        "# Alternative\n",
        "\n",
        "number = int(input(\"Please enter a number: \"))\n",
        "total = 0\n",
        "for i in range(1, number) :\n",
        "  if number % i == 0 :\n",
        "    total += i\n",
        "if total == number :\n",
        "  print(\"{} is a perfect number.\".format(number))\n",
        "else :\n",
        "  print(\"{} is not a perfect number.\".format(number))"
      ],
      "execution_count": 2,
      "outputs": [
        {
          "output_type": "stream",
          "name": "stdout",
          "text": [
            "Please enter a number: 6\n",
            "6 is a perfect number.\n"
          ]
        }
      ]
    }
  ]
}