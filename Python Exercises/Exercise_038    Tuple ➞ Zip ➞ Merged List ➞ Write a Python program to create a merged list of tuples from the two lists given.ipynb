{
  "nbformat": 4,
  "nbformat_minor": 0,
  "metadata": {
    "colab": {
      "name": "Exercise - 38",
      "provenance": [],
      "collapsed_sections": []
    },
    "kernelspec": {
      "name": "python3",
      "display_name": "Python 3"
    },
    "language_info": {
      "name": "python"
    }
  },
  "cells": [
    {
      "cell_type": "markdown",
      "metadata": {
        "id": "eqdgpYdFz6QC"
      },
      "source": [
        "**Exercise - 38 | ?merged list | ?tuple | ?list | ?range() | ?len() | ?zip()**\n",
        "\n",
        "Write a Python program to create a merged list of tuples from the two lists given.\n",
        "\n",
        "For Example:\n",
        "\n",
        "Input:\n",
        "\n",
        "list1=[195, 488, 142, 626, 180]\n",
        "\n",
        "list2=[\"New York\", \"Alabama\", \"Hawaii\", \"Vermont\", \"West Virginia\"]\n",
        "\n",
        "Output:\n",
        "\n",
        "list3=[(195, 'New York'), (488, 'Alabama'), (142, 'Hawaii'), (626, 'Vermont'), (180, 'West Virginia')]"
      ]
    },
    {
      "cell_type": "code",
      "metadata": {
        "colab": {
          "base_uri": "https://localhost:8080/"
        },
        "id": "zJttGJVoz6XL",
        "outputId": "72b54bc3-7eb5-4605-cf4d-50430226c6da"
      },
      "source": [
        "list_num = [195, 488, 142, 626, 180]\n",
        "list_city = [\"New York\", \"Alabama\", \"Hawaii\", \"Vermont\", \"West Virginia\"]\n",
        "print(list(zip(list_num, list_city))) # merged"
      ],
      "execution_count": 1,
      "outputs": [
        {
          "output_type": "stream",
          "name": "stdout",
          "text": [
            "[(195, 'New York'), (488, 'Alabama'), (142, 'Hawaii'), (626, 'Vermont'), (180, 'West Virginia')]\n"
          ]
        }
      ]
    },
    {
      "cell_type": "code",
      "metadata": {
        "colab": {
          "base_uri": "https://localhost:8080/"
        },
        "id": "fUcWQNzv0CTA",
        "outputId": "92297f0f-17cf-4337-9a3f-9a4b010cef4d"
      },
      "source": [
        "# Alternative\n",
        "list_num = [195, 488, 142, 626, 180]\n",
        "list_city = [\"New York\", \"Alabama\", \"Hawaii\", \"Vermont\", \"West Virginia\"]\n",
        "merged_list = []\n",
        "\n",
        "for i in range(0, len(list_num)) :\n",
        "  merged_list += [(list_num[i], list_city[i])]\n",
        "\n",
        "print(merged_list)"
      ],
      "execution_count": 2,
      "outputs": [
        {
          "output_type": "stream",
          "name": "stdout",
          "text": [
            "[(195, 'New York'), (488, 'Alabama'), (142, 'Hawaii'), (626, 'Vermont'), (180, 'West Virginia')]\n"
          ]
        }
      ]
    }
  ]
}