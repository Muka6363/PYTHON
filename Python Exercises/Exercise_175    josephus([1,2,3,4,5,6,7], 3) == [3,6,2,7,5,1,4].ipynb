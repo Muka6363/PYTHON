{
  "nbformat": 4,
  "nbformat_minor": 0,
  "metadata": {
    "colab": {
      "name": "Exercise - 175",
      "provenance": [],
      "collapsed_sections": []
    },
    "kernelspec": {
      "name": "python3",
      "display_name": "Python 3"
    },
    "language_info": {
      "name": "python"
    }
  },
  "cells": [
    {
      "cell_type": "markdown",
      "source": [
        "**Exercise - 175 | ?def | ?while loop | ?nested while loop | ?range | ?len() | ?list() | ?map() | ?pop() | ?input() | ?append()**\n",
        "\n",
        "This problem takes its name by arguably the most important event in the life of the ancient historian Josephus: according to his tale, he and his 40 soldiers were trapped in a cave by the Romans during a siege.\n",
        "\n",
        "Refusing to surrender to the enemy, they instead opted for mass suicide, with a twist: they formed a circle and proceeded to kill one man every three, until one last man was left (and that it was supposed to kill himself to end the act).\n",
        "Well, Josephus and another man were the last two and, as we now know every detail of the story, you may have correctly guessed that they didn't exactly follow through the original idea.\n",
        "\n",
        "You are now to create a function that returns a Josephus permutation, taking as parameters the initial array/list of items to be permuted as if they were in a circle and counted out every k places until none remained.\n",
        "\n",
        "Tips and notes: it helps to start counting from 1 up to n, instead of the usual range 0..n-1; k will always be >=1.\n",
        "\n",
        "For example, with n=7 and k=3 **josephus(7,3)** should act this way.\n",
        "\n",
        "[1,2,3,4,5,6,7] - initial sequence\n",
        "\n",
        "[1,2,4,5,6,7] => 3 is counted out and goes into the result [3]\n",
        "\n",
        "[1,2,4,5,7] => 6 is counted out and goes into the result [3,6]\n",
        "\n",
        "[1,4,5,7] => 2 is counted out and goes into the result [3,6,2]\n",
        "\n",
        "[1,4,5] => 7 is counted out and goes into the result [3,6,2,7]\n",
        "\n",
        "[1,4] => 5 is counted out and goes into the result [3,6,2,7,5]\n",
        "\n",
        "[4] => 1 is counted out and goes into the result [3,6,2,7,5,1]\n",
        "\n",
        "[] => 4 is counted out and goes into the result [3,6,2,7,5,1,4]\n",
        "\n",
        "So our final result is:\n",
        "\n",
        "josephus([1,2,3,4,5,6,7],3)==[3,6,2,7,5,1,4]"
      ],
      "metadata": {
        "id": "gnORhq2B5NNh"
      }
    },
    {
      "cell_type": "code",
      "source": [
        "def josephus(liste, n) :\n",
        "  liste = list(map(int, input(\"Liste elemanlarını gir: \").split()))\n",
        "  result = []\n",
        "  index = 0\n",
        "  while len(liste) > 0 :\n",
        "    index = (n - 1 + index) % len(liste)\n",
        "    result += [liste.pop(index)]\n",
        "  return result\n",
        "josephus(liste, 3)"
      ],
      "metadata": {
        "colab": {
          "base_uri": "https://localhost:8080/"
        },
        "id": "DOQ8s2yj637d",
        "outputId": "eacfeb1f-8f8b-445d-a593-ec535a7adeaf"
      },
      "execution_count": 15,
      "outputs": [
        {
          "name": "stdout",
          "output_type": "stream",
          "text": [
            "Liste elemanlarını gir: 11 22 33 44 55 66 77\n"
          ]
        },
        {
          "output_type": "execute_result",
          "data": {
            "text/plain": [
              "[33, 66, 22, 77, 55, 11, 44]"
            ]
          },
          "metadata": {},
          "execution_count": 15
        }
      ]
    },
    {
      "cell_type": "code",
      "source": [
        "def josephus(n, k):\n",
        "    list_ = list(range(1, n + 1))\n",
        "    new_list = []\n",
        "    while len(new_list) < n:\n",
        "        count = 1\n",
        "        while count < k:\n",
        "            list_.append(list_.pop(0))\n",
        "            count += 1\n",
        "        new_list.append(list_.pop(0))\n",
        "    return new_list\n",
        "josephus(7,3)"
      ],
      "metadata": {
        "colab": {
          "base_uri": "https://localhost:8080/"
        },
        "id": "aXzP8tAo9Qqf",
        "outputId": "848ed834-1ebe-4437-e65f-10e3cf3c0ca0"
      },
      "execution_count": 14,
      "outputs": [
        {
          "output_type": "execute_result",
          "data": {
            "text/plain": [
              "[3, 6, 2, 7, 5, 1, 4]"
            ]
          },
          "metadata": {},
          "execution_count": 14
        }
      ]
    },
    {
      "cell_type": "code",
      "source": [
        "def josephus(liste, n) :\n",
        "  indeks, output = 0 , []\n",
        "  uzunluk = len(liste)\n",
        "  while len(liste) > 0 :\n",
        "    indeks = (n-1 + indeks) % uzunluk\n",
        "    output += [liste.pop(indeks)]\n",
        "    uzunluk -= 1\n",
        "  return output\n",
        "josephus([1,2,3,4,5,6,7],3)"
      ],
      "metadata": {
        "colab": {
          "base_uri": "https://localhost:8080/"
        },
        "id": "WHpd9Pu255kQ",
        "outputId": "d0d4dfdd-accd-4f09-9df1-2670a8119a66"
      },
      "execution_count": 3,
      "outputs": [
        {
          "output_type": "execute_result",
          "data": {
            "text/plain": [
              "[3, 6, 2, 7, 5, 1, 4]"
            ]
          },
          "metadata": {},
          "execution_count": 3
        }
      ]
    }
  ]
}