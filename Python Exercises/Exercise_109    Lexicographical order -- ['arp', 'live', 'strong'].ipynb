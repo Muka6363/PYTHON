{
  "nbformat": 4,
  "nbformat_minor": 0,
  "metadata": {
    "colab": {
      "name": "Exercise - 109",
      "provenance": [],
      "collapsed_sections": []
    },
    "kernelspec": {
      "name": "python3",
      "display_name": "Python 3"
    },
    "language_info": {
      "name": "python"
    }
  },
  "cells": [
    {
      "cell_type": "markdown",
      "metadata": {
        "id": "nY2DT2J5f5oD"
      },
      "source": [
        "**Exercise - 109 | ?nested for loop | ?comprehension | ?set() | ?append() | ?sorted()**\n",
        "\n",
        "Given two arrays of strings a1 and a2 return a sorted array r in lexicographical order of the strings of a1 which are substrings of strings of a2.\n",
        "\n",
        "Example 1:\n",
        "\n",
        "a1 = [\"arp\", \"live\", \"strong\"]\n",
        "\n",
        "a2 = [\"lively\", \"alive\", \"harp\", \"sharp\", \"armstrong\"]\n",
        "\n",
        "returns [\"arp\", \"live\", \"strong\"]\n",
        "\n",
        "Example 2:\n",
        "\n",
        "a1 = [\"tarp\", \"mice\", \"bull\"]\n",
        "\n",
        "a2 = [\"lively\", \"alive\", \"harp\", \"sharp\", \"armstrong\"]\n",
        "\n",
        "returns []\n",
        "\n",
        "Notes:\n",
        "\n",
        "Arrays are written in \"general\" notation. See \"Your Test Cases\" for examples in your language.\n",
        "\n",
        "In Shell bash a1 and a2 are strings. The return is a string where words are separated by commas.\n",
        "\n",
        "Beware: r must be without duplicates."
      ]
    },
    {
      "cell_type": "code",
      "metadata": {
        "colab": {
          "base_uri": "https://localhost:8080/"
        },
        "id": "w7vK315Vf5u9",
        "outputId": "13f0120b-e97c-47f1-93de-42ae31d6c6a8"
      },
      "source": [
        "a1 = [\"arp\", \"live\", \"strong\", \"arp\"]\n",
        "a2 = [\"lively\", \"alive\", \"harp\", \"sharp\", \"armstrong\"]\n",
        "liste = []\n",
        "\n",
        "for i in a1 :\n",
        "  for j in a2 :\n",
        "    if i in j :\n",
        "      if i in liste :\n",
        "        continue\n",
        "      else :\n",
        "        liste.append(i)\n",
        "print(liste)"
      ],
      "execution_count": null,
      "outputs": [
        {
          "output_type": "stream",
          "name": "stdout",
          "text": [
            "['arp', 'live', 'strong']\n"
          ]
        }
      ]
    },
    {
      "cell_type": "code",
      "metadata": {
        "colab": {
          "base_uri": "https://localhost:8080/"
        },
        "id": "eA3R6M6jheRo",
        "outputId": "afd9aeac-a3ce-43af-ed37-605acfe3a120"
      },
      "source": [
        "mylist = []\n",
        "a1 = [\"arp\", \"live\", \"strong\"]\n",
        "a2 = [\"lively\", \"alive\", \"harp\", \"sharp\", \"armstrong\"]\n",
        "\n",
        "for i in a1 :\n",
        "  for k in a2 :\n",
        "    if i in k :\n",
        "      mylist.append(i)\n",
        "print(sorted(list(set(mylist))))"
      ],
      "execution_count": null,
      "outputs": [
        {
          "output_type": "stream",
          "name": "stdout",
          "text": [
            "['arp', 'live', 'strong']\n"
          ]
        }
      ]
    },
    {
      "cell_type": "code",
      "metadata": {
        "colab": {
          "base_uri": "https://localhost:8080/"
        },
        "id": "PNhmv7CJiBGC",
        "outputId": "23f4a6e7-a9b3-47b9-a3f6-91b841966fcb"
      },
      "source": [
        "a1 = [\"arp\", \"live\", \"strong\"]\n",
        "a2 = [\"lively\", \"alive\", \"harp\", \"sharp\", \"armstrong\"]\n",
        "print(sorted(set(list(i for i in a1 for j in a2 if set(i).issubset(set(j))))))"
      ],
      "execution_count": null,
      "outputs": [
        {
          "output_type": "stream",
          "name": "stdout",
          "text": [
            "['arp', 'live', 'strong']\n"
          ]
        }
      ]
    },
    {
      "cell_type": "code",
      "metadata": {
        "colab": {
          "base_uri": "https://localhost:8080/"
        },
        "id": "dqOJC2a_isXW",
        "outputId": "7b74003f-3618-4b40-899a-0b738e206273"
      },
      "source": [
        "a1 = [\"arp\", \"live\", \"strong\"]\n",
        "a2 = [\"lively\", \"alive\", \"harp\", \"sharp\", \"armstrong\"]\n",
        "print(sorted(list({i for i in a1 for j in a2 if set(i).issubset(set(j))})))"
      ],
      "execution_count": null,
      "outputs": [
        {
          "output_type": "stream",
          "name": "stdout",
          "text": [
            "['arp', 'live', 'strong']\n"
          ]
        }
      ]
    },
    {
      "cell_type": "code",
      "metadata": {
        "colab": {
          "base_uri": "https://localhost:8080/"
        },
        "id": "Nt1zS3pijWBV",
        "outputId": "2aaf8094-20b7-4cc0-bb0e-3ab3250c9196"
      },
      "source": [
        "a1 = [\"arp\", \"live\", \"strong\"]\n",
        "a2 = [\"lively\", \"alive\", \"harp\", \"sharp\", \"armstrong\"]\n",
        "\n",
        "list(set([i for i in a1 for j in a2 if i in j]))"
      ],
      "execution_count": 1,
      "outputs": [
        {
          "output_type": "execute_result",
          "data": {
            "text/plain": [
              "['live', 'arp', 'strong']"
            ]
          },
          "metadata": {},
          "execution_count": 1
        }
      ]
    }
  ]
}