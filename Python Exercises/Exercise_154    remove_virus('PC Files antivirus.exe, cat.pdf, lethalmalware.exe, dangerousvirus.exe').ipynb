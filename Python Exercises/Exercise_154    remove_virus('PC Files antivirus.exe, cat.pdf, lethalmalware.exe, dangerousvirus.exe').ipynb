{
  "nbformat": 4,
  "nbformat_minor": 0,
  "metadata": {
    "colab": {
      "name": "Exercise - 154",
      "provenance": [],
      "collapsed_sections": []
    },
    "kernelspec": {
      "name": "python3",
      "display_name": "Python 3"
    },
    "language_info": {
      "name": "python"
    }
  },
  "cells": [
    {
      "cell_type": "markdown",
      "metadata": {
        "id": "nvaF892L2aOJ"
      },
      "source": [
        "**Exercise - 154 | ?def | ?remove() | ?split() | ?comprehension | ?nested for loop | ?join() | ?replace()**\n",
        "\n",
        "Your computer might have been infected by a virus! Create a function that finds the viruses in files and removes them from your computer.\n",
        "\n",
        "Examples\n",
        "\n",
        "![image.png](data:image/png;base64,iVBORw0KGgoAAAANSUhEUgAAA54AAADUCAYAAAD0pPxwAAAAAXNSR0IArs4c6QAAAARnQU1BAACxjwv8YQUAAAAJcEhZcwAADsMAAA7DAcdvqGQAAFAnSURBVHhe7b19rJbVme+/aCeDFKFQHFtecn5SSDCgJFDlD6gaMjTUyPaPKUhmzig0qWeTWF/OmUrRRk9HU6XgmFirYZ8zSVHbPxhIk2FLppySGOkACVJJsFCdgGAPL9FTCgfsASYd+flZ+7ke1l7cz/3yPPf97P3s/f0kK8+979e1rnWta61rreu+94iLFy9edkIIIYQQQgghREV8pvYrhBBCCCGEEEJUghxPIYQQQgghhBCVIsdTCCGEEEIIIUSlyPEUQgghhBBCCFEpcjyFEEIIIYQQQlSKHE8hhBBCCCGEEJWS+u9Uzp8/786dO+c+Pcddvqz/uiKEEEIIIYQQoo8RI0a4a665xo0dO9aNGTOmtjeZho7n73//e3fp0iV37bXXuj/7sz9zn/mMFkeFEEIIIYQQQvTxySefuD/96U/u448/diNHjnTXXXdd7cjVJHqTrHTidH7hC19wf/7nfy6nUwghhBBCCCFEP/AT8RfxG/Ef8SMbkehREl7LSqcQQgghhBBCCJEF/iN+ZCMSHU/e6SS8VgghhBBCCCGEyAL/ET+yEYmOJx8SUnitEEIIIYQQQog84D+mfZBW3qUQQgghhBBCiEqR4ymEEEIIIYQQolLkeAohhBBCCCGEqBQ5nkIIIYQQQgghKkWOpxBCCCGEEEKISpHjKYQQQgghhBCiUuR4CiGEEEIIIYSoFDmeQgghhBBCCCEqRY6nEEIIIYQQQohKkeMphBBCCCGEEKJS5HgKIYQQQgghhKgUOZ5DnG3btvkkhBBCFEV9iBBCiLKQ41kB+/fvd7Nvnu1/BxIGC729vW7BggW1PX309PS4VatWubNnz/bbBn75m/xbCo8bx44dc8uWLqufw33ykvQMUiyvS5cuuaefetontkMom12XlD/Rnzw6GcqUuqWOReeR1m5Ec5jNGiibbva2bAcwvG+jZ9B/0I8MdH+WRFb+2TabZikuH9B/2XHuwb3ykvSMpLbXyAbH/WFS/sQV8ti3WKZFxidiYBjONna4IcdziIKC927tdWvWrHHjxo2r7b3C5EmT3ahRo67aNl559RV34J0DPs2ZM8ffx5w77v3odx51K7+5sn7OvHnzChuM8Bn2nLzcdddd/hruMdzBiLXqZFB3G3+y0W3t3erlunnLZnfDDTfUjlbPQHc6QgxnJk2aVNvqvw30H93d3e6ZHzzjbX8VfPLJJ+7y5cu1v4qTlv9ly5a5t/a95e0a9g07Fw78cEqwOzt/tdOf89Of/dTt27evkD0Nn0F64skn3MiRI2tH00G+GzZs8Ndzn+FMGf0A9fbij1704wmrD/S3nZTRJ4uhRZqNGm7I8awAM3hFHKmy2b59u5szd06i8zBlypTaVv/tRixfvtz/Hj161BvS1159zS362iLv/BmUtezy0nHTgRfpxEUyWTp58uRJN3v2bDdx4sTaHtGpqN0MPbDjTAaFNrcMcHomXDfhqu0Y7AY2n36lCo7/7+Nu69at7j/+4z9qe/KRN/8GcmTC9O1fv+37MhycHb/c0W+CljazdOnS0ttOlg0W+ciybxcuXHAnTp7wk+FC5GWgbexwohTHk1nQ1atXuw8++KAe3sCvrZCBLTEnhZOw/fzzz/sZIo698cYb/vow5IVOwo6TwmM2SxbeE/g7zEdaHrKggwqfCZYnC+OI7x/P2pEP5PTuu+/Wy5JUjvA6tmNZhmFBpLgcnHvkyBG3ePHi2p7+0LDMaIfbjeB+p39/2m+fOnXKnThxouG9yyIsY7Mzh8gulFNcH3F9xXIGq5Oy8hDeh2P8vWfPnoZ5sOcnHafe2ffYmsfc5s2b3a233Or/DnUqSyeziNsQWJ7Ce2XpZCwHu9budfttt7vdu3a7FfetqJ9j7SrpeWxbvqwdIkd+7foi7RtiWYXXW/6T9oX5CuUQy61V0urC8pXVbjiPcyzvJJMzcDy8zmQbljtPu8mikZzseUn7wnyl1VVZhDIy/QwJj5NCOYLVTXgOKW9eOS/tWp6PTIrYD0t2HwZCrLbhDIXbSVhUS3j/PFBnXJOWzp0/5372s5+5f/7nfy7kfBbJv3H8+PHalnN79+71DnWV0R2t2mCwNmD3CNuCEbYpUpKemU6VkYfwPnYsywbb8+Pj6AB6mtYPQFjGJBmkYc9IylN4ryz7FsshvNbKl9Ynx8+z+1m+8rTrPMjGZmP11ejaPHWRlYdmbNRQp7QVz6PvH3VdS7p8SIPN6m3atMkfQ4EJzXz8e4/7Y4S08M5IWMGEvyzpWuIe+PYD7uWXXnaPPPKIX4E5ePCgbwjrfrjOXf/F6/31JO7FPbk3ldnV1VWfxQR++Zv9HM+ThzRmzpxZz48RO2E2Y8K95y+Y7/fFnDt3zt2z7B439ytzfT6YfWUF0fKdBfn96MOP+oX1xDM0rEzyHMpdBsxyU3ZkcObMGXf6dJ8TWiWmR8+ufba2pxgYDELDLHSUX/5mP2As1q5dW9cHEgahLJkBOtezoaeeB1Ls5NM5MeNOfZIIe7Z2Qx6ZiUeH7Xq2LeyZemcfMgpDvcIw2TSdROcwqhjJuKM0A2/vB6NTxq5du3w+0QfI0sm0ujBDbPkLw6+Lhkd1/5dub0O4lvtgU6iDPGTZB+xZeE8SZWCfdSLILJRDWFdlkFQXtm3H8rSbl378ks8rZSRRD9Yusiij3aTJibax+rurvX5ZO9i4caP/ZT/Hs+qqDGKdNf004uOUhTJZu6FtheF+HKeNUi+xvW6Ete/w+pg0+1FGHkKmTp3qxo4dW1ifd+zY4QeVaelv/vpv3Lu/fdetX7fe/fJ//bJ2ZfmgO8gLOwHUWdXkGRekQT3G4x+22WfjhjzjglahHYZ5IJntM9JsMHmknSIHjoftNm8/kGbfaJP0XehT6Lya08czsDXhOBFdJg/kGduSZd+y6sLabFqfnIe0dp0H2djOtLHDhVJDbcNBGCGcKAkVg7PGrKIdSzIAVJYNZDn3xhtv9A0aklbZYkdw1qxZ/hzOBX7Pf3y+PiDLk4c0aIw4i+H53LNROGsaoVIS601YCOEheTlw4EC9nEkQNknjiN/bLEI44whZq6LNED4jnBEsA2aycepDB4z6Z39I/HeMdYjNlh8nPZysiMHQPvjQg/7eJDpAazexUwFJzkez8DzKhcGMO0rr7Ck/bcbkRL5oA7SFUB5pOpm3LlqFMlj7NvvAREke8tgHjlGOl19+2Se27Xw6dKIM7r3v3rpcyqwriOsC2CafHMsLOsfgimuwEdgKbEYRmq27PHJiP22CgQeDDH6tjUCrtjwPsc7GcJw82HHyRtslr5QRe07/Y30Wx2kz4WpbGaTZjyrywIRm3jZlfO5zn3Pz589PTXPnznWjR4/2q6rksUzCCTUG0+ufW1/XnbIIn0GywXEZ2FjGXnkB6jQc70DWuABsoN1s+U2/G9HIBlu/Edqqststz6VssfMaOn3xONFsDpMqIY3sW966aJW0dp2FbGxn29jhQGmO54QJE9z48eNrf/UP56QSmGU3o0xihSUvvqMb0af8BvfFMbUKRjlxAm2Qz++0adPq17SaB6DxomQYGDOkzbxHEL5YTMMusmKAXGmsd3fd7csQL/uXRaMZR+qYui6D8BlFZwTToG4wDNRvWN/Uv4G8GXxjxOx4mbN5QHkY5DDra8/geVnYRETSBEKzjkIrYFTpyNAz63itI4M0ncxTF1WSV0557cOiRYvcmGvH+MS2QXmJ+jAZkGzmvUzCuiCxzWCqCKFOYUex0zYRlkWr7SavnHgOdoc64Te0j2XY8jRMZxthx+P3433/d7mvjMgXHbF3ItnHikGed+pbxezHQOYhZOHChW5Dz4bU9P2//7677bbb3N/93d+566/vm3Aui3BCLexnbAxRBuEz4j6zVRj//OJffuHbiek77SeMPGrHuIAyMV6xfIRhmWlgg9FH9DL+qEozE++tEI8TcW5iZzjNvuWpi6rIKyfZ2OFnYzuNtnxciEoghNaMsqW8q0ihshlJiokTiDPIee+99159FgJazQPQMHFmMVoMwEdfO7q+SttO6GQs/3QELPWHHUCVxtwbpxF9jv1gxQYUzL6GdU0KBwSUBaef/YRz4CDmcQyLQEfHYIdn4GgTOpK2shs6m0n1yDb74g68SvjgEMaV2VLq/Y477ujXSUEjncxbF2VTVE557YOFm5EsPAmQx9QvT62HBYXJZo3LIKwLEvaorAmbvLTSbvLKiTZCmPoLP3rB/4Ztpgxb3gqm0zbpaSRNkNrgjYEf5cvr4DdL0mRVmXkg1DacYC6L0Z8b7f7rf/uv7j/9f/+ptqc9oEvobji2GGwg76/f+XW/khfqezxZmzUuKANsNvfHyYbQBsaENhh9TJowTdLXqrFx4ocffujHkOEkKqTZt7x1UTZF5CQb29k2djjQFseTGXlipJsd1DPYmjx5cn1WAXhvBKMWGg2cQJxBe074hc5W82DgzOLU8rn1GTNmlNoIY+OMIcBRSQMDEWNhIxZWUSY0eGYImf0KZcl2q7ItEzqX8P2SLChX0tfGGJAwe5x3djcNOq201WKbLSNUA72yeuSdSoN3C9CRcMKDjj1PmFWzkBfCS+ic3nzzzas66phYJ/PUhel+UohTM+3CZBaHUBFWRAcRr9LlsQ9cw3HCrEhs233QH5zAPO9rWx6aaS9WF8iJ1EzERRrxZAcDS8IIG9Go3VBHhM/HKy955MT5rDp03d3lV8v45W+7T15bbnko2naRMW3Qwsp4Lu9HhSsGyJ08mE5zDvVqqycWGRAOUJMmWrgOGZXxqgH3Cu1H3jzkhf6kzG8HhPzF9X8xIF/UNlsWOmn8btmypZDOVIlNNhV5xy9pXADYq2ZtTwj6hWOQRmiDrU2hn9aO0Xf6BewZxyGtHygL6zv/4bl/8HlK0+fYvuWti7Q+uaiNjdu1IRs79GzscKEtjiczQYQcMljE6FmKB3+NoIItHt2upfJpKKHR4DycwYcfetg3prCRtpoHA8Pzx4//6B3feABuRt3CGuwdxiLlxAhbWCLl4+VuZpkNG7RaQg5hbD4gE2ZdqjLezOawehe+o8mzwtm0VjBDwX2Rhb0/YwYWQ2UfxSEPyBqZh4aFvCC7MNyEZIbUDKbt53oMWlllgFBfSeSle1V3v5lRy7vlAaNls2XUI8aYztnuwQytfQDAIM+8C2FlDeXQqk4a3oEb4XyHFrY5yNLJrLoAzuWdFDoaO8597VhWuwA7TqJDe+GFF67KayOy7AO/3J/64Z4kttln5/A3g7HwXa94UADmLL7e+3pTg1vqAtmhC+EERFa7yQP3Y+BnOskAlplvo4x2kyYnEjpPHiyUmV/+to9j5LXl2GreMUMOhw4dqu3Nhz2bPFLGFStW+HBKg/KGoY0mB2u75JG2YnK0VMYEVkia/Sg7D2bj87apToCyYCfA9PFv//PfultuuaWfjW0F9NLqJ8kGWz/B89FVs2Oh/cPm097ZbymsxzzjglYI+1xL5GflypW1M/pIs8HoJfpj+kjbwY6HtiOtHyjDvgHPwHFgIgUHKyTLvuWpC+D8Rn1ylo2FtHadB9nYzrSxw4URFy9evOq/Nh8+fNivMIrOBSNnXyULDbsYPDDgoFONJ1AGI9ZZYXQHmz5h4PmqIIOJIp3zQGGyRI7IU1QHAyUmbhhEMUhoF0lt2+o9HDzlJUnHs+xHmXnoJFsl2k+n2WDsAo5xPIk7GOi0tiYbW14ehhJ8cGv69Om1v/rTlhVP0X4wAMwW0ShoCEK0AqFFOEqaxGgdQtCYRS07TFb0B7vHyg8z8szMtxMLCw8hP/w/ZELt8sD/s7ZZc1YTCN2LV2jSKCMPwDX0I0ySyOkUnQ6T8r1be/t99VU0h2xsOTZ2uCHH81Pi8Io4hWESnQSzLcy6hO8ICpEXDLKFVyWFVYli0CER7sTsMB9+kBNfHczCE/6EjNv1QYwQbC/PDkOwkkIL0yCkmrBPriXkreiKQhl5APoP+pEi1wgx2GB1ytpA/MqLKI5sbHk2drihUFshhBBCCCGEEC2jUFshhBBCCCGEEAOGHE8hhBBCCCGEEJUix1MIIYQQQgghRKXI8RRCCCGEEEIIUSlyPIUQQgghhBBCVIocTyGEEEIIIYQQlSLHUwghhBBCCCFEpcjxFEIIIYQQQghRKXI8hRBCCCGEEEJUihxPIYQQQgghhBCVIsdTCCGEEEIIIUSlyPEUQgghhBBCCFEpcjyFEEIIIYQQQlSKHE8hhBBCCCGEEJUix1MIIYQQQgghRKXI8RRCCCGEEEIIUSlyPIUQQgghhBBCVIocTyGEEEIIIYQQlSLHUwghhBBCCCFEpcjxFEIIIYQQQghRKXI8hRBCCCGEEEJUihxPIYQQQgghhBCVIsdTCCGEEEIIIUSlyPEUQgghhBBCCFEpcjyFEEIIIYQQQlSKHE8hhBBCCCGEEJUix1MIIYQQQgghRKXI8RRCCCGEEEIIUSlyPIUQQgghhBBCVIoczyHOtm3bfBJCCCGEEAPP2bNn3dNPPe1/hRhOyPGsgP3797vZN8/2vwMJDmdvb69bsGBBbU8fPT09btWqVd7ghdvAL3+Tf0vhcePYsWNu2dJl9XO4T16SnkGK5XXp0iVvmElsh1A2uy4pf8ONuB6LYvWpSYrhBW2ukd6gU1W0sarbLvfjvq3Y39i+VWHLZcMGDmSf1K+IfNAeqmoXQ4W0cRaMGzfOzf3KXPfij14clHqYln9++dvsVyMbpnGiSEKO5xCFBt+7tdetWbPGG7iYyZMmu1GjRl21bbzy6ivuwDsHfJozZ46/jzVa7v3odx51K7+5sn7OvHnzCndC4TPsOXm56667/DXcY6iDsS5isEXnYp3tQA/o6LDJw85f7fTtbMOGDYl2pBnKaLtVy+mGG25wm7ds9uWfv2B+bW+5DCcbJsRwJGuctWjRIv+7ceNG/1sFn3zySW2rOBoniiqQ41kBNIyiDaRstm/f7ubMneMHUDFTpkypbfXfbsTy5cv979GjR/2M0muvvuYWfW2Rb9QGZS27vCNHjnRPPPmET2yLxnR3d7fkHNhAO6xTMXw5fvy4b89lOZtCiKHDYBjjDHbyjLMY19x7371u/9v7vaNWBT//+c/d7z74Xe2v/GicKKqiFMeTBrN69Wr3wQcf1JfG42VtzgmX3JlRN9h+/vnn/VI5x9544w1/PedbY7TldLs+PGaz3+E9gb/DfKTlIQtmacJnguXJVqPi+8czO+QDOb377rv1siSVI7yO7ViWPM+eQYrLwblHjhxxixcvru3pD4bAGmm43Qjud/r3p/32qVOn3IkTJxreuyzCMiaFUOQB2YVyiusjrq9YzmB1UlYewpVLjnHfPXv21I+HzzEZvPTjl3yyc8J8UvdJ+8HyntYu7By7R1KbIB/sD59l51kbCK9Drqu6V/VrK7EcisrTnpN0vdVjKFvbF+YrSx/KIEunGumD1cPtt93udu/a7Vbct+Kqc7LgHtgXnhHWaVxO0ysSzxmMNKqrInIKdTu0s0YoB1Isp0aYLm7ZssXfl2fQZ3GPUC9jnU3KQyOsDkPdAatju0+sb+HzgTI2artGKIekZ2YR5yGpzSXtC+Xdah6yiOvisTWP1Y5cIU0fyL/J0o7zd4iVK0xhncd5iOvKnhHeJ35G+HxSLNdYdlwf3iPOA8nKyW+so3a+3SOua7vWMP2seoyTxWDQybzjrIkTJ7rJkye7gwcP1vbkg5XMc+fO+XylpZMnT7p169b53yJonNhHrEtJusDf7G82D8ON0lY8j75/1HUt6fIrLzYTtmnTJn+MimPJ/fHvPe6PEb7Eu4dhw9/4k41uSdcS98C3H3Avv/Sye+SRR9zs2bN9Y6Qi1/1wnbv+i9f760nci3tyb2blu7q63Nu/frte6fzyN/s5nicPacycObOeHyNuXHnCszAU9yy7x8f2kw/CEJgZyqus5PejDz9yb+17qy4LjEIIM048p6zVClZPKTsyOHPmjDt9us+4VInp0bNrn63tKQbG45kfPOO29m719+GXv82oYCjWrl1b1wdSmeGEwDPeP/J+/f7kYccvd/QzbJs3b/b7qE/05sTJE27Hjh3+mMmANkFKyid1z76kUJI87YLE/Xj+smXL/DlJMFDjOs6jHIRx06bywHk9G3rqdUHK6sRCyHPc/tlmH8dod+ufW1+XrdUtbcvaRpY+lEFsY0hhXaXpg9WD2Y4wvAg9yAvtnnIR8sS1tB86Z54NbIf2I9QbzqHzpHONJzvy2skySKurInKiHzE5MPMe2lnuRdiXXRvLKQ+00+f+4Tm//a+/+lf3T5v/yfcH9Auwe/duv5phz4jzkMb48ePd2LFja39dwfKHHLjPvn373E9/9lN//9h+GGltN9YH7EIYLpdFVr/KOIA6on/nXBJ1yT5b+Wg1D1kk2Y+4X8mjD7QHIgE4HrZdCMtlx+fPn+/tEvYpKQ+hDTN4Bs9FjiTub89ApsiW/VwfyzoPhHSGeSBZPXTSGCeNTtDJEPpBZIVuFQE54+QzCZeW/vF//qPbuXOnW79uvR+/VYXGiSIvpYbahg2XpXkaLsYGQ0ana8eotHhAzKAXhQXOvfHGG72BhKTZk9hIzpo1q1+nz+/5j8/XP6yTJw9pmHEIz+eejcJZ06CRmCGdNGmSHyxcuHDB/52HAwcO1MuZBDNbSfH4RQhXEqCIo5CX8BnxTGur7N2713d4Vjf8Uv/sD4n/jrGBbjPl59pvLP1G7a++mU10Npx5pPN+8KEH/b05H/0s2gGlkdUu8kL7XP3d1fV8uhGuUCdGJxQOaIpgebZQHsAWhOWifukcGDDwsQbkGA5W8upDK9DxhjYmJo8+lAFysHJSzzgwdKAkIiFwhpJ02XSdzjWe7Cgy8GuVsuoqlANORWhnqaOwnmgn7vIVxy4P9B+f//zn/TaTpl/60pfc2M9fcRYXLlxYfz7EeUjDt7FPIT/YRQaYcd6ow6VLl9brspH9aNR2k/TB7AKTl3nI069yjPp8+eWXfWLbzi8jD1kk2Y8Y8mN5giR9QI4rV67023HbRZ426AZbxTIbmceGAf0BA13kSP9NP84zkCUyRbamG0myzgOD6liXAPl3yhgnjU7QySRsvJyXz3zmM97mMMGRlqi70aNHu79c9Jd1e1UWGif2gY41O04cjpTmeE6YMMHP0hoYHasEOsJw9pyUFOrSCG+8P+0szeAC98UxtU4WhcFA2uCW32nTptWvaTUPgPGh88AgWkfAYKIoGGIDY1dkBgW50lDu7rrbl6GZEJA82MwtKVxJoI6p6zIIn8EsatHOrRHUDUac+g3rm/o3kDcdPJ2wHS8yc5wXHCG7/6233OpXONtJVrvIC23NDCrXorPhQC0N8sDMPzPMJgubUcwD7f8X//ILP3tr16P/8Ywq+SExyAkHeHn0oVXsGVnvwgyEPjAzbo7Guf97rrZ3cNKOugJkYau7pCR9ahUGSGGIFgOovOB0jLl2jK8333Y/dYIY9PI3+21SEZtl9yclyalR20UGRCpZX0KijRHCnJe8/SofUSHfJPugCpSRhyyQGW0gjVb1gX4RZ+nQoUP+b37528ZEeW1YOGFMnTGGos/HacOuhWMHKOrU0ZdT95aPODRwKIxxOkEny4AJxe9///tuQ8+G1LRkyRL30MMPuTvvvNM7q2WicaJohnK1sAEMxsLZc0t5Zwe88Y5mH5MGehhIDCXnvffee/1WSFvNA6CEDNoZCGCYR187uj7D2U4wzJZ/jHr8Oe5mZhjz4juPEX0OzGCF+mSwxaxrWNek0DjaIIz9hFjgGBVxiLLAQHE/C40ibCctnLUq0tpFu6CzoNNADnQkhLPknbmk/X/9zq/X5Wgp7oSQNzaBQUTYJvLqQyvYM2wiLImB0AdvMz+1nTYAHuy0o67QC1sVt3vT/ssaKAFyt3BvewZ6nxeTw8WLF71O/fXf/LX7zTu/8atf7Oc4uoTNsjAxEn1cXrB/U788td/1lpBNHvL2qxbiSQq/4FlGHlqlTH2w1Rl+wxX3vDasEeHqZwh/F41uoh3xbOwPxPXRCWOcNDpVJ61dlw2r6Pfcc4/77Gc/W9tTPchQ40TRiLY4noStxO+2FcHCVghlM3iPBefKQiAAA4mhtOdwndFqHgwG7QzeebdmxowZpRqKuHNhYM4APY3Q8TamTp3qf6sIC6ERErbCLFEoS7ZblW2Z4GzZOxx5oFwTrrt6oMEAkhnXZl4aZ8AYDgrQ2WZWuKhjZOudiCZIaxetYsbbHC4bcKetFjSaDbXVG1YFQ8gvs9L2zngSlI36JjwK/YRwMJFXHywP/BaFZzBb2qgd5NEHswFpoT22kpZnJQCbie1EhmZHbTBAPouswoW0Iqcs8tRVHjk1wlaPzHbSrnkHrcwVT+qFD23Yyg9/x3qdBfnjw2OfG/U534b/34X/5/5w+g/1fNNPYLP8IO9TqM+kFc9GcB1ORp7372ylPq7vPP0q13CcKAQS23afZvKQ9qwk4v6QZ4crYGXoA22KEL1w8Bo6KXlsWBrYWcJgeVfR2jztg3ZCmDfH4wl6ypmmD2a7YzphjAODQSfLgGcwMdyonK1y0003tdXpBGSocaJoRFscT2b0CLXDwGAoLMUGoxEYPt6DQ2HtWgywvQthcB6G8uGHHvbv14QGs9U8GHQgf/z4j37QGDq9wL24p4Vl2OxnkXLSidjSP+Vj1jT8yIQZW0vIwd4RNJAJnV4zg7I8MBvJ7L2Vj8SzypoNtEbMfZEFg3PCEm2gTcOmgXOcPCBrZB7G/5MXZBeGy5DM6HFeGAbH9RjKMmc06dAY0JB3noHjUWRFwmAFj87awqOKyAHS2oW1KQv7NN0rMkhmoEJHz3X3f+t+P1vIjLERtlsSddK9qjvXTD+QX95RYzUzvI8Zee5P+e1dDc7HASVPVo4sfTAYtCCrcICXF54Rt4vQOcyjD2He7R5F6gLC54PN9Nu96WjtvuQ36SM2WTQrpzLaLrQiJ+wjOmq6Tn189bav9tPZVm05eog+2nW0C+rfZJ1HDjit1NVNN9/ky8vAdP369XVnNrYLr/e+7p7870/6Y3lBDjgfppOkUGezyOpX+UXOPAe5h7K3c/LmgUEiUE7klxd7ptUFg/ye/3FFV/LoQxaMBWI7R7IyUn9pNiwP9Lu0Datv2gftxPos6oLXKqzdYF9YzTFCnbNEfuy9VaMTxjhptFMny4CVZd71xaYOJTROFI0YcfHixcu17TqHDx/2M+Oic6HB2Jfd1EiEyAedFV+aBPsgS6dAZ8uXFxk0Vd3mO1lOojMx/Ua30fHBhE16hPli8IrzgxOEMyREjNlRVrNx1IQYKjCZMn369Npf/WnLiqdoPzbjTodYxSydEEMRPgrCzCkDATlTjZGcRLvZtWuXX7Wwlc/BAs4DK4cxcSi0EDGsKkP4cSMhhjpyPD8lXk6PU7g030kwg0ZYAB22EKIxFpZDSA7hQZp9TkZyEu3GQuoIO+bjHoMtgoeJl/hVIFLS60BCGOg1Yd9FwoiFGAoo1FYIIYQQQgghRMso1FYIIYQQQgghxIAhx1MIIYQQQgghRKXI8RRCCCGEEEIIUSlyPIUQQgghhBBCVIocTyGEEEIIIYQQlSLHUwghhBBCCCFEpcjxFEIIIYQQQghRKXI8hRBCCCGEEEJUSsc5nj09PW7VqlXu7NmztT3FOHbsmFu2dJnbtm1bbY8YDqAv6M3+/ftre66ALsy+ebZP6AY6ApzLPn7DbSGEEEIIIUQxBpXjiVNJEkOfNEewnfD8jT/Z6Lb2bnUH3jngNm/Z7G644YbaUedmzJjhxo8ff9W2EEIIIYQQIj8dt+LZ3d3tNmzY4MaNG1fbUwycCpyLu+66q7ZHDGdOnjzpZs+e7SZOnFjbcwWczAkTJly1LYQQQgghhChGaY6nhSJaClcuOfb0U0+7PXv21I/z96VLl/xxzmXfSz9+ySc7JwypDcMh41BbWz2Lw2f52861c+weSaG25IP94bPsPPJKnsPrCMlc1b2qHpoJsRzCcubBnpN0vYUJh7JNCh2O88DfZWPPtWfEddJIH6webr/tdrd712634r4VV52ThckIfQplFcoAwjzY84rAJMWGng3+N9wWQgghhBBCFKMUxxNn4v0j7/tQRRJhizt+uaOfw7N582a/7619b7mdv9rpTpw84Xbs2OGPsYrJdQ98+wGf7D7hyiYrlOx75dVX/N8hnNPV1eXe/vXbdSeNX/5mP8dJ3I/nL1u2zJ+TxGNrHvPXcR7l6N3a28+xTIPzejb01MM2SU88+YQbOXJk7Yx0yPO6H65z13/x+vr1bLOPYzg9659bX5ctcl+7dq1b+c2V9RVc9j/zg2fqeeCXv8O6aBXK+eh3HnWPf+/xej7DukrTB6sHdGD+gvm+Pu089KAI3f+l2y3pWuKv5T6EzFpdxXKw54E5rjik1De6eestt/q/8zq/QgghhBBCiPyU4njiTHxj6Tdqfzkftkj4ImGMBoP+Bx960DthnD9nzhx3/Pjx2tHWmTVrljtx4oQ7deqU/5vf8x+fdwsWLPB/5wWndPV3V9fz6UY4d+bMmdrRbE6fPu0OHjxY+6sYlufly5fX9ji3ePHifuXC+cThw0F68UcvejmGYcN79+71jqitzPG76GuL/P6y2L59u78nz04ijz6UwbNrn63nYebMmf4ZVlexHEKoWyYEcEi5B3XOREMzzq8QQgghhBAim9JCbXGELKyR1SNWkdoJDsacuXPqTh+/06ZN63MeC8AKo61Qci2rc40crBjywIokK28miyIrjThNv/iXX/iwULv+7q67vTMbQn5IrBqHTioreR99+JFfxbPrSYQvl4U9Y8qUKbU9yQyUPuDcWh6FEEIIIYQQg4NSHE/ercPBIpyRVaOscNaqmDdvng+TJdTzvffe86uF7Qbnk48XWfgn4Z55Q3X5gM3X7/x6XY6W4i+tIm8cq0WLFvlVTxwtwGHGcWYVL7yeVNZKnj0jbbV6IPThwoUL3hGfNGlSbY8QQgghhBBisFCK44kTMnnSZDdq1Cj/N+9uNrPCxSoaDguOYzMQbjn62tH1VcakL5U2S+xw2fuV8WpkSKMvoeKYsRIYv09IfsdcO8Zt2rSptudqKBsrqvfed69/fxU2btzofwHnO3zXsRGWB36LwjNYRTU5x+TRB45xTloIMGXgA0bxh4uS2LVrl/+dOnWqr6u5X5lbf+eXa9esWVP440JCCCGEEEKIcijF8STck9Um+0ALjgcfCSoKK3g4IxZqag4HzoN9DIavoOJAcE74z/4Bh4P/tfjwQw+7hQsX+r8NnCSut7BPC0ct8jEZVlD5SA7X3f+t+/0q4tQvT60d7f8VVRJhst2ruhPfM0yC/PJ+KauZ4X3sy7bcn/Lbu4ucjwNKnqwchODyDijPDu8RO4m8E4usent7Czv6PIPV3PCLtKFzmEcfwrzbPYrUBYQhxTiZL7zwQj20Gl0C8oCurFixYkBW4YUQQgghhBDOjbh48eLl2nadw4cPu8mTJ9f+EkMRHFm+lgv2MaVOwfLOqqb+H6sQQgghhBCDAz6KOn369Npf/Snt40Kiszh06JBf+cV56ySnUwghhBBCCNF5yPEcZljYMmGyhMtqxVAIIYQQQghRNQq1FUIIIYQQQgjRMgq1FUIIIYQQQggxYMjxFEIIIYQQQghRKXI8hRBCCCGEEEJUihxPIYQQQgghhBCVIsdTCCGEEEIIIUSlyPEUQgghhBBCCFEpcjyFEEIIIYQQQlSKHE8hhBBCCCGEEJUix1MIIYQQQgghRKXI8RRCCCGEEEIIUSlyPIUQQgghhBBCVIocTyGEEEIIIYQQlSLHUwghhBBCCCFEpcjxFEIIIYQQQghRKXI8hRBCCCGEEEJUihxPIYQQQgghhBCVIsdTCCGEEEIIIUSlyPEUQgghhBBCCFEpcjyFEEIIIYQQQlSKHE8hhBBCCCGEEJUix1MIIYQQQgghRKXI8RRCCCGEEEIIUSlyPIUQQgghhBBCVIocTyGEEEIIIYQQlSLHUwghhBBCCCFEpcjxFEIIIYQQQghRKXI8hRBCCCGEEEJUihxPIYQQQgghhBCVIsdTCCGEEEIIIUSlyPEc4mzbts0nIYQYLpw9e9Y9/dTT/lcIIUR7uXTpknv++efdsWPHanuE6EOOZwXs37/fzb55tv8dSHA4e3t73YIFC2p7+ujp6XGrVq3yg7JwG/jlb/JvKTxuYEyWLV1WP4f75CXpGaRYXhguBo8ktkMom12XlD/Rn8Gik0OBWPc1sdMcse1JgnOS2nmaDYNx48a5uV+Z61780YtX2Y7BQFr++eVvK3dcdkM2uLOQDS4P2eByyKOTYTtH5uZIhtcm3WfkyJFu4cKFbu3atVfZBrMr4f2AZxWxY6IzkeM5RKEx927tdWvWrPGDsJjJkya7UaNGXbVtvPLqK+7AOwd8mjNnjr+PGQ/u/eh3HnUrv7myfs68efNSjVcS4TPsOXm56667/DXcY6iDIZYxHhzQBuhIQ91HF4cStO9V3av6DQgGAgYh2JSdv9rp5bxhw4Z+tizLhi1atMj/bty40f9WwSeffFLbKo5scOcgGzx4GA42mDIymVO0PZcNz9/4k41ua+9WL+fNWza7G264oXbUuRkzZrjx48dftW1gT0iNJgCnTp3qDh48WPurOdQ2Ow85nhVAQyvaiZfN9u3b3Zy5c/oZCWPKlCm1rf7bjVi+fLn/PXr0qDcer736mlv0tUX9jL0ZmDJhxuyJJ5/wiW3RPINBJ4cCfuB/2blZs2bV9ohm6e7uvsqZDDl+/LjX16TjeWwYNuPe++51+9/eX5kT/fOf/9z97oPf1f7Kj2zw8EM2uBxkg8sjSydPnjzpZs+e7SZOnFjbcwWczAkTJly1HYPtOnHyhDt06FBtzxVuvvlm9/av365PqInhQSmOJ5366tWr3QcffFAP34lDbzinUWgE28SCs/TOsTfeeMNfHy7D29K8XR8es9mh8J7A32E+0vKQBTM/cViA5clmW+L7x7NV5AM5vfvuu/WyJJUjvI7tWJY8z55BisvBuUeOHHGLFy+u7ekPgxUbSITbjeB+p39/2m+fOnXKnThxouG9yyIsI7JKmi3LAtmFcorrI66vWM5gddJMHqgXysGvPSOemYvzGB43Gbz045d8snMsn1zbKTqZRZzP8HqTUdK+MF9hHpLqskpM7mEeKVO4csgx8siv5dPqCSgL99izZ0/9eKh3XBeXq1H92PXxPSCuK7vW6uDurrvd7t27/a+dE5YrC8tT+IzwHmH5m62nvDaMAdPkyZMLz6qzknnu3Dmft7TEwGzdunX+twiywX3E7T5JH/ib/c3kAV1La3MQ5zE8bjKQDZYNBq6Ly5VUP7Es42tMdpYsD3av22+73e3etdutuG/FVefkwWQRPiO8R5y/MO95YVFjQ88G/xtuxzBxiGO7d+/e2p4rfGHCF9z1X7zeT6gl0UhOwDb7GrVNw85LOgbxM8L6FtVQ2orn0fePuq4lXX4W22ZQNm3a5I+h5IQFPf69x/0xQqd49zA0ECznL+la4h749gPu5Zdedo888oifaWHAgBKs++E6r6BcT+Je3JN7o9hdXV1+5sQUhl/+Zj/H8+QhjZkzZ9bzY8QDABodoQjce/6C+X5fDIOZe5bd498/Ih+EizB7nVfRye9HH37k3tr3Vl0WDFxCaMQ8p9FKQlFYPaXsyODMmTPu9Om+AVCVmB49u/bZ2p5iYEye+cEz9RARfvnbDCzGh3Ad0wdS2upLs2AQWbmxPOz45Y56HuI8UqfUrRlXkwFtghTns5N0Mo2stoktIZwPG8G5JOTGPpupRWZhHmj3YWhiq5AXOqXYKUvqyNJI0wfYvHmz30c5kAMzxTt27PDH7F3tsJPetWuXI0wTXYBYp0ihU8NxQjLtGO0L2VEG0xWunT9/fr975K1PdIawKuqF6yjHsmXL/HPsHvxyLClEk3wgU2QbDyjy2uoQyo1eI/Mi0CZwBhgApqV//J//6Hbu3OnWr1vvbWNVyAY3j2xwNrLB5dngWJakUK/J6/tH3q8fC/PAOZxruoJ87Tx0MS/2eoHVhemv3SNNJ9E5c1ofW/OYl8ett9zq/7Z2URT6HHQjSZ9pJ7955ze1v67QatuELJ2krno29NSfQcqaBBStU2qobWiECB8yRcMoExZkx1CK2FFkcGINl3NvvPFG72hC0gxvbPAJu+AczgV+z398vm4o8uQhDRvAhOdzz0bhrGmEg7BJkyZ5w3bhwgX/dx4OHDhQL2cSzL4nvTNUhHCmDapojOEzwhneMmB2jc7b6oZf6j+edUuahQuxjqDZ8qPXK1eu9NusvqCztjrCs8mT5ZH7M/mCwc3TkXaSTqaRp21yjPp8+eWXfWLbzkdWrPATVml1lDRAaAVzluigQqcs7OTykKYPwCDgwYce9OXgvpTRnCb723QW2SAjdIDz+fv13tf76X0M15vcwIerXe6TYRmgM9hds9Wmo3kdP2tvyDYeUBQZSMc0GvQ04jOf+Yz70pe+5Os6LSHn0aNHu79c9Jfu85//fO3qcpAN7sN0QjY4HdngfFRpg4FJolCWMdzjG0u/UfsrOQ+tQJ6wd+ix5SnN8YvhGtoaskUnkZc5bkWc35hG+kz5/8/v/89VtqfVtplXJ5nEQ/9F+yjN8SS+O3yxGCNhHQWNNpy5JjGTkhc/kzyir8Ea3BfH1AwCyomxNwXid9q0afVrWs0DoLQMqjDuZnBo0EWhUzEwTkUMJ3LF4Dc725eXRjNtabH8RQmfwexb0Y66EWZ4qd+wvql/A3kz244Rs+PNrKg0i+Uxfr/Lt6ECjsBQ0Mm8bZOPxYy5doxP9uEY4FlEXNjzSaxGEao01MChozOlzNR5OLlGp07nHtZlDNfZiiIJmZW5esZkF/XD4At4Hisned5jHEyMHTvWff/73/fhY2lpyZIl7qGHH3J33nmnd1bLRDa4WmSDryAbnJ80G9xIp2JYiTM5sZrIqmJZ2NiYSUjyQ2KbfeaADSbIEx8mCp2/MtpmHp3E3q1/br1fybdzsEeiWsrtKRuA8oQz15byzmAmKVuSYmLsMfqc99577/VbIW01D0AngDNLA8HgjL52dH2Vtp3YzB+JDir+Ylgzs6V58R3hiD7HfrBihpfZurCuSeEAjrLQubOf2VOMT7uMjuXRJk6MpEmWNDpFJ9PI2zYJH0JmpPBLpchg6pen1mfAw0RehhLMDjPoY8aWOr/jjjvquoLTR6RDo5lz6iMMgyUhs7KcmBAbxNLR8zz0YyCpatDF6sg999zjPvvZz9b2VI+vb9nglpENvoJscH7SbHAjnQphcgUdJ8wV+bCayKpi2ViILAlslXegSIvCw3FHZjZmLaNt5tVJnE8m3djPRBzhvWVGfoiraYvjSThXHEdfBBo6H4iwWXQg5h7nymaaAGOP0bfncJ3Rah4MnFmc2n379vlZmtAot0o8cET5aQRphI63wSeqoawQlxAaMyE4zIaGsmS7VdmWCZMQ9j5KHijXhOuuHoAzicHscRUvnJNHdNLyyLOYCUW+oWGljpFtOPES0gk6CTbLG69q5Gmb1lnzhTwS23YfZMXAL887UZaHsnU17iipK1Zzyn4Xj+cQbsR7KW+++WY/+8cxQr4a6b2tiFr9ICtkFufR616GY4PskSPyDLEVABtUkVoJz2oVyshkZCOdbJWbbrqprU4nyAaXh2xwH7LB+UmzwYBOMfHWqHzkL3TCGMvGK55W52lh6OgB4fHx6jbbrMiGDleRBZYqoBzUTaM8oD+fG/U597vfXflCeKtts4hOGmVGk4jGtMXxtOVsjCUGx1Js/BqBshJzj3LZtYRvYVRCBeQ8jP7DDz3s/3FtqOSt5sHAmf3jx3/0xiI2ONyLe9pyvr0/U6ScGDQLT6J8vKBO2JdhRtsScrD3EQxkwoxOmtFqBWZWmRkK3w/iWWXNbGJALBwQWdjMnRlYjIi9/E4ekDUyD99RIi/ILgyzIFlnYEbb9nM9Bq2ds7M8KwyPsjzEq0OENNEJcZzz4o6mE3Qyjay2yS/Px4FBt0lss8/O4W86NvsIAimWE9CZgYUhlQmDTzpKnn3/t+73eWLGtWz8xNKnjiGdamj/AN0JdYpkA/ZQbuxHVl+97atX5TE+j5RXX6hL8mW6asnykKftlgmOMO/++3dZhxCyweUgG9yHbHAx0mwwOhW3zVAO9u9FTE44oqw2h1BvvJtoZSFRx3kgP6zCxu0uzEOrOlkEnkmbt3pvxG233+b27N5T+6uctpmlk6FPQeJZ3au6fXsQ1THi4sWLl2vbdQ4fPuxXGEXnQqduX1ZrZ0cuxGCGDoev2tEm6JQ6ESsD+R9sbZuOnAFSOClo+U0aNFQJg1q+hs4qcDufK4RojGxwtTD2W/vsWrfmsTV1B8psIU5Yu2VuDnOn1rVoDiZ8p0+fXvurP21Z8RTtB4PDbBGNHiMphOj79D0zvFmzr4MZ/k0Vg53BNuCBpPdLsT/8D8q0jx5VAatPEH4ERQgxsMgGV0vSv1uKX7NoF0xEkljlFcLQiuen2Oog72gkQfguYSiduPxuoROa8RfDGZuhxgHqxLZsM9aEPPIhitXfXZ07jK7dMNkVfr0UCD1r5yCN+ubjKoQbxqFwQoj2IxvcPiw0OiT8dz3tAHm99NJL7q/+6q86cuwsWiNtxVOOpxBCCCGEEEKIllGorRBCCCGEEEKIAUOOpxBCCCGEEEKISpHjKYQQQgghhBCiUuR4CiGEEEIIIYSoFDmeQgghhBBCCCEqRY6nEEIIIYQQQohKkeMphBBCCCGEEKJS5HgKIYQQQgghhKiUUhzPbdu2udk3z+6X2NcKXP/0U0+7S5cu1fbkp6enp56PVatWubNnz9aOOHfs2DG3bOmyxPyF1zX77HZBXuOygZXPyrF///7akT44n+vseKv1NNih/ElyKINQl9L0KotWri2DUJca6dVAE9ZjFXXaKe2iajlQ7oG2fTybPJCoF9seiDy1KuOwLAOd/1bLUhZFdWww6UMWw8WWN9KlPHaUfNnxwVqPWQwGO2kMlnYtRF5KW/FctmyZe2vfW+7AOwfc1t6tbuNPNg5IQ8Ag8Nydv9rp87JhwwY3bty42tF0uru7/TXPrn22tqfzuOGGG9zmLZt9+ecvmF/bewVkgUyoK+psMEMHRRrsTJo0qbbVf7uTmDxpshs1atRV24OJGTNmuPHjx1+1XQad1C6qlENZlNF2r//i9XU9ZHvkyJF+uywG0+CxSjpBX/IgfcjHQNryPHZ0sIyzOmV8IcRQo5JQ24kTJ7rZs2fX/movx48fd3PmzGnobJpjdtddd9X2dCYY7yJO9XAFXaCT47dskP2E6yZctV2UgdbJKVOm1Lb6bw8mGCxPmNAn33B7uDEc5IBDgWMRbw8ErdoP8v/Ek0/4VLajlIehoC+DSR+yGC62vMp+VRRDdSE6jUocz0OHDrkTJ0+4qVOn1vZcHQIazyyyzT47/tiax2pHyiFPCEgemCGzeySFsVjYg6W8M6hW/qR8sc9m5thOe367iOszzkuYT1JYLmREWffs2VM/HsrJZPzSj1/yyc6JnxHWBSlcYY/zF6++Z+UhDza7i8EPt8H0La5P/rZy2Dn2/PhcoIzsJ8XnJekM5V7Vvcr/Glk6ySDJBsbhdl4sH3Z/5B4+n+3Vq1e7Dz74oF7euC6zYEC3oWeD/w23wery+eef9/fesmVLPT9hvcdysDaVRZKcDfaF98nSySw5cE6ot/Ez0+RQJr29vfU8hPpCeeI8U2aTgZU/q+1mwcQaKd42YjmFeeQ5yNnyyvFQJ5Ep++hjNm/e7G695darzonvH9aj6UNY78A54T1CXQjzZ5jucJ2dF96T4+F19txQJ+J8xnIuQ1/C/MV55Bh5SrOjlm873kzfnqYPefKATEwXSKGcsvTBrg3lDvxt94nvH58LyI399rzwvEZ1205bTv7CujVMvjwn1jeOtRtkZLK0fMT5juUUHmebfa3aKGhkJyGWVVi3WZD/0JaA6YiVJasuKAt28N133/XXcU54T9PZ8Dq2YzmYvCzF5YhlHecjzmczchZDi9Icz9Bgr7hvhe8YbDWOBrNv3z7305/91M/MEAaKY7pjx4768XU/XOdnMjlOKhKGYQ2IZ8fGxBqJOQathNLRAD/68KN6SHFXV5dbs2ZNvRHRwHo29PhQYytHXsPPOY1mclnFtdlLOhPu+8qrr/i/BwLK+eh3HnWPf+/xejnD1VdkjkG2cGd++Ts0WOjLjl/u8LKM9QHd4boHvv2AT0nPwLjNmzevfgx9oX6sLhhcpYUcQ1oeWoV8oh9v//rtemfEL3+zn+N5dZIBEddxHrrVu7W33nlk0YpO5iGp7aIX6EeYx6PvH3VdS7rqdYuDvmnTptrR1qEuCSNED576+6fckq4lXnf27t3rj6MX7x95v55H5EHdx51kEnnbZpZOQpoc4naV1G7aAbI8ffp0PQ9F2kWettsqWf0JnDt3zj3zg2e8feacRV9b5F579TV/rdlQ6od2Z/Yce2FOWZr9QB/QL+o7rFt0jefYPUwWaX0ZfRU6wnNI3DOPTgLPXrt2bUM7XAZ52k2aHU2yD2nyaJa0PFAG9AC7a3kI++4sfRgutrzRCunJkyd9/fGcPP1qO6DdYHuRQayT/NL2TU7ImnEb7QzKslFpdrJVWz5z5kwfNXjw4MHaHudOnTrlTpw44RYvXuz/zlMX2MF7lt3j5n5lrs/Hym+urNvBPJDfcMxLor0Ysaz55W+ri3bYKNF5VPaOZ6h8GKylS5fWDSRKx4ALwwE0qPMfn3fLly/3fxfFjD7Pjo1J2EhagQZ05MgRd+9999bLsWDBAv979OhR/wsYotBYFAHDbzLBSLZ7wJmX7du3+wGWre6FxB0y8Bt33BjKBx960Msy1oc8cH74/FmzZjl3ua+e8tJqHrIgT3QU6DeYnpve5IW2tfq7q+v5dCOcO3PmTO1oNq3oZBZxZwhJnSYwWWJ1hq7ToeXtALOgLk2uyIs8hAMp5PaNpd+o/XXldQAGVXnI0zbz6mQjOSCvsF0ltZt2gPxWrlzpty0PZbaLVqEdpPUnBoMdcwKZEGBgeOHCBf93q1g0j9l+6x/CdpAH9JaBGWXgXTzeycurk4ZNrlRBnnaTZkdb7dvzkpYHq6PQ7ib13WkMB1vO9wnMFmHfzFEbjIQ2KtbJeAIIWSdNFLVKmp1s1ZaTZ5zF8HzuOWfunHq58sKEio2DqeOidvDAgQN1vY9B1jizlid+KXdsk6q0UaLzqCTUFuVDGUNlw5DZKqStTBoYXmZmBjMYLFYr7u66u16G22+73e3etbt2Rl+51z+33n9Yyc4x5zsPZvg//PBD//vee+/557I9WD5agxEkP+GgPgSDhmGL89uMwUsDudgqN4l6oVMeTKAPdBQ2UOB32rRpfQOOAthsM3AtkyzWoWXRqk5m4QdNnw6ewjKRV/IcOgK8W8Y7ZgYdYZmz9XlgIGUyIDqDGeu85GmbeXQyTQ7IK4zWIDUTllgFlLOdzm8Waf1JO7CBpPVxODBjrh3jB8FFCD/+gg6gC3knS8kDTivt2eRQxWRlK+1mMPTtOCTxR3aKOvnDwZZjl3CmsWPYN9o829ilRv39YKPR+MTb3IIT081gdrIMW86kBvWB08c9cUKZQCtKOBZD14qsOGKLGMvbuDcMkzVZU66wnKEtbpeNEp1FJY4nhINOlA5jacvxtjLZSdCApn55ar8yWAo7DjoHwh/Yz8oGK795Q2kwjqOvHe3ef/99P9v1F9f9hR/QYHzCwepAkuRUhDTq0JM6/2bB4L34oxe93K0OqJfB+OEMOgo6DOvMi66IlEErOplFUofeqPMfSOjssEOEJSGHrJC4mKy2WYZOIq8wWsNSux30GNp6OGAeaAZLf8IqGKuc6D4OKKsq7ZaROS/IAHkglzKdkVbbzWAgadKz0QRpGkPdlqNLTJ7QV2PfsHO//e1vvS0vIqeBpNH4JGmCtGxCO1mGLSevTG4wyYHzSf9DJE+7wfm0/NO/0c/R35msWVENy0ginNmo2kaJzqMSxxNDSMy9zc5gyPjipzV6lC6cFYnDlujsBstMv2FGoEh8PAPSIgNPnvHHj//oP5LAoOamm29yv3nnN74zMNkNBqhX6i/JeGCM6LB4n8GcEfQBY1N0YIbx5hmhUwM2aDDHhvqgXgbbiifQUdBhmKyKroikYYbfOlnkxOximhyK6mQWlGfy5Mk+/NrgPRfqp2gYWpUgo3DigzwWWbnJaptl6CT3jd+fawbaGx9ziD920QyxLY8nGrDVSauNjdpuGWT1J3lhMJ0WRpYFTgB9As9ncB5+TK8MYodp48aNqTqLPJr9snYjWm03g6Fvtzzs2rXL/wLvVVOucCCfpQ9D3ZZTx5TvjTfe8PYNe4Q82OfbfYeArcJmmUOOLFm1J0IhHEeVaaNiO1mWLWdyg0kO3mnnGwZFxk9ZxIsElIGJjDSsfzMoL2M7k3UWjWwU19Nn6cNDw4NKPi7ES9WEhNhK4KJFi7yCE5rK8dd7X3dP/vcn/TFAGZkh4aNEHGdWsed/lPt+AQaAe1uokIUH2HsMKLuFyXHMyhM2BPJI52DlJIXH7RmWCE/oXtXtByh5sM6dAS6dGh3mrt19nSXHGETa18mQFWG+yDT8UhkdO8ctDNhkyn7IkkMeqFdmW+3epFAOzJBxjtU3cuB9K9OHvMR6Y88wfbG8U5av3vZVvyJtZMmhXdBR0GE8/NDDbuHChf06jjLqgo6JDo7r7v/W/V4uoRxa1cksKA/vVoXPYdLB3lsbLPCOGYN4a7sM8MJVsqy6yGqbeXQyC+oEu0nnzz0sFdVZ8sc7T5SDL4wXgcG32T6eHdty8kjIoYVeIcekj8U0artlkNWf5IUy8T6SlaWIHTUYeNG2mWwL9Z2yUmauQSdMpkXkgKMTlpNBX6izNljjmOWVwXVRO5tGVrvJoh19exbkgQ8JMUA2WTFRYO9aGmn6AMPBlo8ePdr927/9m7dv2BHkxN+m21ntIksOZbSLLKjHMDzU2kUcwt6KjcpjJ8uy5fQ5TPjEE7l5bVQjqG8WA6yO6LMZp40dO7Z2Rv8wexJ9u71LDZSXa0zWltADaIeNEp3HiIsXL16ubdc5fPiwX8UQQgjReTD4YKDN4KesgakQQgghRBZ8jG369Om1v/pT2TueQggh2g+z9sxMs+rJjLkQQgghxGBAjqcQQgwRWOkknIlQpoH+KJEQQgghRIhCbYUQQgghhBBCtIxCbYUQQgghhBBCDBhyPIUQQgghhBBCVIocTyGEEEIIIYQQlSLHUwghhBBCCCFEpcjxFEIIIYQQQghRKXI8hRBCCCGEEEJUihxPIYQQQgghhBCVIsdTCCGEEEIIIUSllOJ4btu2zc2+eXa/tH///trRocOxY8fcsqXLfHnDbSNJDuFxo6enp36ce3CvvCQ94+mnnnaXLl2qndEH8udYXA9nz551q1atql+blL/BQCgjS0nlHEiy9CEvea61c0wWZdUb+oE+oBdi8ED9Wl3HNoI2QFtIag9huxmo9lJmHsJ7DSU9tTosqx0LIYQQnUBpK57Lli1zb+17yx1454B75dVX3DM/eKbfYCkPDDJIg51JkybVtvpvQyiHrb1b3cafbOw3uKB8DPZ3/mqnP+enP/up27dvX6HBWfgM0hNPPuFGjhxZO5rOuHHj3IYNG/z13Gcw88C3H6iXsWg582BOeKuTJGn6UAbkc+3atW7lN1fWZXHXXXfVjmZDO1zVvapwexQDA/qI3cB+UNebt2x2N9xwQ+1oOt3d3f6aZ9c+W9vTfsrKA3YztJXYLewXlNV2q6ZT+rSBhroeqIkSIYQQ7aOSUNupU6e6CddNcGfOnKntGRow6KFc8XYjGCziLLz967d9h8ogaccvd7g1a9bUB1A4UkuXLi3VoYI5c+b4wRq/ohqK6kMj0BOci0bOpF/luezcrFmzanvEUObkyZNu9uzZbuLEibU9/cFWMAlT9kTMYOP48ePefpmtFEIIIURnU4njuWvXLv+LA2qkhQoyI8y+l378kk9xaFVSWFK8isPv6tWr3QcffOCvC68HnD7usWfPnvr9i86wMgBi1t0GQ7adBoMnY+/evW7R1xblXr1ohljOzawImLzT5GR1ZimsG4N9HCt7VcLq8vnnn/f337JlSz2/9iyeTR4tDyQrh62W3H7b7W73rt1uxX0r6ufY6gTXhfoDdp09oxl9CLH72bOTZNgKpgt3d93tdu/e7X8bPYsy2bG4vrP0wWQd3sPkaITHSCbDvMR5iMNPq84DdYV94Rqrs0YhsHb/+HgZUCa7f1wPeQnvEes4xHJq9jlpZOWhEdZm0tpuHvLqE7/N3N/K16hPMy5cuNAvH7FOtqKzRlp9psnBdB77atfZtsmCe7M/7FfDMlp9hflm284x+T625jG3efNmd+stt/q/4/qIyxDez/L57rvv1stSRdsTQgjROqU5nmGn0dvb60MDbaaaDuDR7zzqHv/e434VjtApzqHTAQvNIrQyDK8MQ6vycPT9o65rSVf9fjgBmzZtqh3tyyMrjoSZkocTJ0+4HTt21I6WD+XmeUu6lvi/P/rwI/9bJbZ6RvnmL5hf25sfBiLrfrjOXf/F6+v1wDb7bLBCvVGWMNy3SOhnXsIBGykc+FGXM2bM8OF8T/39U17G6A7OvcH1OP7kL6xvcxJNRoSGWznQHViwYIH/PXr0qP8FJlQmT5rsZs6cWdvTGpaPRmHPNiiLHcd48NoI0wVCNufPn18P3YzriwH8v/7qXxPbRR59AGRN/XA9iYGhDQ75JfTens8vf4eDxywo/7333VvPAxM4r736WlvzcO7cOX8NEQtxHpLkhL3D7uUZAHO9DZrjQXio962GsXKvsO12dXX58pg+kdeeDT39dKXsldW0PJDQb8pNfYY2gPaQp+1mkbeuQvuBPLDlefUlb59mtotj1CmysbooQ2fje5CsPvPIAZ3/7aHfun/a/E/uwIED7vTp017m3NfyGfarJGxk2O+mgR3iuZQ9fIUkDC/PIwfyec+ye9zcr8z15xBpFNsHIYQQA0/p73jSKcUcPHjQD9JsNYiOl8GGhaCWCc+350yZMsUPcOwZDFQefOhB3+mSB84LVyTLIBww0oGvf259oVWwPITPIIUD01Y5deqUO//xebd8+fLaHucWL17sTpw44Y8ZDELCv5OwQUWz5Q8HbKRwYEldmnOI7uEMUt8h7F+5cqXfNp3LW9+mH+bIokPoKwObdoU3mvwYaIWOY9EJmSzS2kVefeAeNtk0atQoP/gkZBSQIQNBG0jyiz0IJwmyWLhwYf16mDdvnneQWTEyqs4DMDC3e4R5QBbIBNkY6CQhs9i/LJA9DgH1Gw/C8zpUWeAoHDlyxDvwpsNJEyw4F3ny3AxZeaDu0G/KHTttZU1u5a2r0H4Q9sxx06eyoK7NPvpQ+st9MoJWdRab9Xrv6/3uEZJXDjjG11xzjZswYYI/d/z48W7s2LG1o/3tB4nzw363VfLKAVmajvCufWwfhBBCDDylh9rScTHgCwcyDGLDmWsSs/plQ8dIp2jQCbX7PahwwBjO2pIHZpbLIHwGqayBKfBe7i/+5Rc+lM3qipU2BqMGcmUgUHQFbjBQZEDEIItBMmUzB8wGycOFPPoAtHmcPUDXaXfoCbJG5rR3u56EPSgCKzCEz9n1hFjGVJ2HNPz77CP6JiwMa/NlT241C3pMVIi1W5KFrBrYKybL+LiRnVNkhS2LPHmomk6oqzJ0FqcL56vRB8+qlENZTl8ROYTlxJkve4JOCCFE65TueNJxMePJTKsN8FmJilevSO12Cgca5BCGKA1GcNy/fufXfShbWFehEw0M6O0YnfyLP3qxXt+DFQZTDKry6hyrHGOuHeMnUVgBuOOOO4bdQCavPjTCBrKsRoTXk/JOmNBe4q/6JkVWNKKMPGThJ7yC1SqwQXO8Ej9QoLtTvzy1X9ilJVt1A+qV+mU/ciasMU+4cB7y5qFKOqGuytDZeNU/pio58LxwEqgV2tF2hRBCtI9KPi7ER4WY8Tx06JD/mxCiPO/HNHLMrPOxWVgbiMarLoMdWy0LnTR++WCD/T3QmLOV9x0daDRIsXcUy1wxaRYGzugg4ZGGDcwaha6hd0yi8M7bm2++2bGrnd5ZHtEX8l6UZvQhBpmzgtas80J7P/370/UVDf4uGl7eah6yQE6TJ09227dvr+1x/j1Z7OBg0Rv0YNq0aYXefcM5IZKkLJrJQxJZbTeNdtZVoz4tD63qLPaLVwMa3aMKOVBOvt9gryTEzi/5YCIjhrbd6PWNstou1xM10UkROkIIMdSoxPFkcMH7dPahBAvfosMJw2Xs40LGokWLfCdlYX1hB0HYI44D++//1v1+tpOZ804Cubzwwgt+297R/Nv//Lfulltu8Z10GZizZ+Fr9tVHkzWDIP7m+bwraiFMNpAnH6u/u9rPerPfEh8+sYEi54bHGGjYOz5lEodnh3nIQ9b7tuSXd81Mr0ixQ+O/zPyp08Zg2TtwJZJVF2VBvmkvYbha3PYakUcfskDmvBsZhleS8k5IYD9Y7TRdpv3zzmn4nlkWreYhC+REG7A6JcUfWWsVbKF9eIe6NP02O5l1HNADJvGsXZDC42H+Scire1V3rtVtKCMPecjTdhvRjroy0vq0LMrQ2fi1CJK13bLkQD9j5eOX+uW5wDOYvDPbw70pU9x2KSvvbVo+w6/SVt12hRBCtI8RFy9evFzbrnP48GE/EypEp4JjxceAcJoY/DQLg0S+uMlgigGQEEKIPnD+cPircNqFEEJ0Jny4bvr06bW/+lPJiqcQQwVCTHE45XQKIYQQQgjRPHI8hYggDM3+pyIhpvYvFYQQQgghhBDNoVBbIYQQQgghhBAto1BbIYQQQgghhBADhhxPIYQQQgghhBCVIsdTCCGEEEIIIUSlyPEUQgghhBBCCFEpcjyFEEIIIYQQQlSKHE8hhBBCCCGEEJUix1MIIYQQQgghRKXI8RRCCCGEEEIIUSmJjueIESPcJ598UvtLCCGEEEIIIYRoDP4jfmQjEh3Pa665xv3pT3+q/SWEEEIIIYQQQjQG/xE/shGJjufYsWPdxx9/XPtLCCGEEEIIIYRozPnz570f2YhEx3PMmDFu5MiR7g9/+IP793//d4XdCiGEEEIIIYToB34i/iJ+I6ud+JGNGHHx4sXLte2rwGs9d+6c+/Qcd/lyw9OEEEIIIYQQQgwzeKcTh5OVzjSnE1IdTyGEEEIIIYQQolX071SEEEIIIYQQQlSKHE8hhBBCCCGEEJUix1MIIYQQQgghRKXI8RRCCCGEEEIIUSlyPIUQQgghhBBCVIhz/z/Cjmh2qoGgrQAAAABJRU5ErkJggg==)"
      ]
    },
    {
      "cell_type": "code",
      "metadata": {
        "colab": {
          "base_uri": "https://localhost:8080/",
          "height": 35
        },
        "id": "BILLG3Kc2aVc",
        "outputId": "39e30650-eda0-49fa-9026-9266e1c3a812"
      },
      "source": [
        "def remove_virus(files) :\n",
        "  files = files.split()\n",
        "  bad_files = [\"virus\", \"malware\"]\n",
        "  bad = [j for i in bad_files for j in files if (i in j) and (\"anti\" not in j  and \"not\" not in j)]\n",
        "  for k in bad :\n",
        "    files.remove(k)\n",
        "  return \" \".join(files)\n",
        "remove_virus(\"PC Files: antivirus.exe, cat.pdf, lethalmalware.exe, dangerousvirus.exe\")"
      ],
      "execution_count": 1,
      "outputs": [
        {
          "output_type": "execute_result",
          "data": {
            "application/vnd.google.colaboratory.intrinsic+json": {
              "type": "string"
            },
            "text/plain": [
              "'PC Files: antivirus.exe, cat.pdf,'"
            ]
          },
          "metadata": {},
          "execution_count": 1
        }
      ]
    },
    {
      "cell_type": "code",
      "metadata": {
        "colab": {
          "base_uri": "https://localhost:8080/"
        },
        "id": "UOk852H33Byo",
        "outputId": "8e8feede-0f22-4fc6-b441-cefc50ef4f8a"
      },
      "source": [
        "files = \"PC Files: antivirus.exe, cat.pdf, lethalmalware.exe, dangerousvirus.exe\"\n",
        "files = files.split()\n",
        "files"
      ],
      "execution_count": 2,
      "outputs": [
        {
          "output_type": "execute_result",
          "data": {
            "text/plain": [
              "['PC',\n",
              " 'Files:',\n",
              " 'antivirus.exe,',\n",
              " 'cat.pdf,',\n",
              " 'lethalmalware.exe,',\n",
              " 'dangerousvirus.exe']"
            ]
          },
          "metadata": {},
          "execution_count": 2
        }
      ]
    },
    {
      "cell_type": "code",
      "metadata": {
        "colab": {
          "base_uri": "https://localhost:8080/",
          "height": 35
        },
        "id": "I5K-zOqV3JRg",
        "outputId": "008e1804-d6cf-46b4-aa2f-c11e7b38780c"
      },
      "source": [
        "\" \".join(files)"
      ],
      "execution_count": 3,
      "outputs": [
        {
          "output_type": "execute_result",
          "data": {
            "application/vnd.google.colaboratory.intrinsic+json": {
              "type": "string"
            },
            "text/plain": [
              "'PC Files: antivirus.exe, cat.pdf, lethalmalware.exe, dangerousvirus.exe'"
            ]
          },
          "metadata": {},
          "execution_count": 3
        }
      ]
    },
    {
      "cell_type": "code",
      "metadata": {
        "colab": {
          "base_uri": "https://localhost:8080/",
          "height": 35
        },
        "id": "kWw-rMlQ34e8",
        "outputId": "ffd9bafc-b3c4-4be4-c7b0-42efbbd67ecb"
      },
      "source": [
        "def remove_virus(text):\n",
        "  for i in text.split():\n",
        "    if (\"virus.exe\" in i or \"malware.exe\" in i) and (\"anti\" not in i and \"not\" not in i ):\n",
        "      text=text.replace(i,\"\")\n",
        "  return text\n",
        "remove_virus(\"PC Files: antivirus.exe, cat.pdf, lethalmalware.exe, dangerousvirus.exe\")"
      ],
      "execution_count": 4,
      "outputs": [
        {
          "output_type": "execute_result",
          "data": {
            "application/vnd.google.colaboratory.intrinsic+json": {
              "type": "string"
            },
            "text/plain": [
              "'PC Files: antivirus.exe, cat.pdf,  '"
            ]
          },
          "metadata": {},
          "execution_count": 4
        }
      ]
    }
  ]
}