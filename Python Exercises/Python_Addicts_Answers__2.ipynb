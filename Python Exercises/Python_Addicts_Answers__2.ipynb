{
  "nbformat": 4,
  "nbformat_minor": 0,
  "metadata": {
    "colab": {
      "name": "Python_Addicts_Answers _2",
      "provenance": [],
      "collapsed_sections": []
    },
    "kernelspec": {
      "name": "python3",
      "display_name": "Python 3"
    },
    "language_info": {
      "name": "python"
    }
  },
  "cells": [
    {
      "cell_type": "markdown",
      "metadata": {
        "id": "KiZOb5DY38TT"
      },
      "source": [
        "**Exercise - 101 | ?len() | ?set() | ?max() | ?index() | ?append()**\n",
        "\n",
        "Create a function that retrieves every number that is strictly larger than every number that follows it.\n",
        "\n",
        "Examples\n",
        "\n",
        "[3, 13, 11, 2, 1, 9, 5] ➞ [13, 11, 9, 5]\n",
        "\n",
        "- 13 is larger than all numbers to its right, etc.\n",
        "\n",
        "[5, 5, 5, 5, 5, 5] ➞ [5]\n",
        "\n",
        "- Must be strictly larger.\n",
        "\n",
        "- Always include the last number.\n",
        "\n",
        "[5, 9, 8, 7] ➞ [9, 8, 7]\n",
        "\n",
        "Notes\n",
        "\n",
        "The last number in an array is trivially strictly larger than all numbers that follow it (no numbers follow it)."
      ]
    },
    {
      "cell_type": "code",
      "metadata": {
        "colab": {
          "base_uri": "https://localhost:8080/"
        },
        "id": "5nQho4kk38a5",
        "outputId": "43228a81-ab98-4dfc-a519-5bab89fe8e28"
      },
      "source": [
        "n, sub_list = [3, 13, 11, 2, 1, 9, 5], []\n",
        "\n",
        "if len(set(n)) == 1 :\n",
        "  print(n[-1])\n",
        "else :\n",
        "  for i in n :\n",
        "    if i >= max(n[n.index(i)::]) :\n",
        "      sub_list.append(i)\n",
        "  print(sub_list)"
      ],
      "execution_count": null,
      "outputs": [
        {
          "output_type": "stream",
          "name": "stdout",
          "text": [
            "[13, 11, 9, 5]\n"
          ]
        }
      ]
    },
    {
      "cell_type": "code",
      "metadata": {
        "colab": {
          "base_uri": "https://localhost:8080/"
        },
        "id": "6OgjjqWD4QqY",
        "outputId": "6077ff82-23b0-410c-b661-607357073b51"
      },
      "source": [
        "n, sub_list = [5, 5, 5, 5, 5, 5, 5], []\n",
        "\n",
        "if len(set(n)) == 1 :\n",
        "  print(n[-1])\n",
        "else :\n",
        "  for i in n :\n",
        "    if i >= max(n[n.index(i)::]) :\n",
        "      sub_list.append(i)\n",
        "  print(sub_list)"
      ],
      "execution_count": null,
      "outputs": [
        {
          "output_type": "stream",
          "name": "stdout",
          "text": [
            "5\n"
          ]
        }
      ]
    },
    {
      "cell_type": "markdown",
      "metadata": {
        "id": "I8yRC_da4UJX"
      },
      "source": [
        "**Exercise - 102 | ?comprehension | ?count() | ?set() | ?append()**\n",
        "\n",
        "Given a list of words in the singular form, return a set of those words in the plural form if they appear more than once in the list.\n",
        "\n",
        "Examples\n",
        "\n",
        "[\"cow\", \"pig\", \"cow\", \"cow\"] ➞ { \"cows\", \"pig\" }\n",
        "\n",
        "[\"table\", \"table\", \"table\"] ➞ { \"tables\" }\n",
        "\n",
        "[\"chair\", \"pencil\", \"arm\"] ➞ { \"chair\", \"pencil\", \"arm\" }\n",
        "\n",
        "Notes This is an oversimplification of the English language so no edge cases will appear. Only focus on whether or not to add an s to the ends of words."
      ]
    },
    {
      "cell_type": "code",
      "metadata": {
        "colab": {
          "base_uri": "https://localhost:8080/"
        },
        "id": "876hzKy_4UYv",
        "outputId": "fdd1e791-94a6-43d0-be91-92aacc9d1a15"
      },
      "source": [
        "liste = [\"cow\", \"pig\", \"cow\", \"cow\"]\n",
        "listem = [] \n",
        "for i in liste :\n",
        "  if liste.count(i) == 1 :\n",
        "    listem.append(i)\n",
        "  elif liste.count(i) > 1:\n",
        "    i += \"s\" \n",
        "    listem.append(i)\n",
        "print(set(listem))"
      ],
      "execution_count": null,
      "outputs": [
        {
          "output_type": "stream",
          "name": "stdout",
          "text": [
            "{'pig', 'cows'}\n"
          ]
        }
      ]
    },
    {
      "cell_type": "code",
      "metadata": {
        "colab": {
          "base_uri": "https://localhost:8080/",
          "height": 229
        },
        "id": "4WFba2wZAIlS",
        "outputId": "8f32b3c6-4346-4a7d-b0ba-9c2f0a5dd7e0"
      },
      "source": [
        "# Hatayı nerde verdiğine dikkat et!\n",
        "# list indices must be integers or slices, not str\n",
        "\n",
        "liste = [\"cow\", \"pig\", \"cow\", \"cow\"]\n",
        "listem = [] \n",
        "for i in liste :\n",
        "  if liste.count(i) == 1 :\n",
        "    listem.append(i)\n",
        "  elif liste.count(i) > 1:\n",
        "    liste[i] += \"s\"\n",
        "    listem.append(i)\n",
        "print(set(listem))"
      ],
      "execution_count": null,
      "outputs": [
        {
          "output_type": "error",
          "ename": "TypeError",
          "evalue": "ignored",
          "traceback": [
            "\u001b[0;31m---------------------------------------------------------------------------\u001b[0m",
            "\u001b[0;31mTypeError\u001b[0m                                 Traceback (most recent call last)",
            "\u001b[0;32m<ipython-input-4-9bbd479c7400>\u001b[0m in \u001b[0;36m<module>\u001b[0;34m()\u001b[0m\n\u001b[1;32m      8\u001b[0m     \u001b[0mlistem\u001b[0m\u001b[0;34m.\u001b[0m\u001b[0mappend\u001b[0m\u001b[0;34m(\u001b[0m\u001b[0mi\u001b[0m\u001b[0;34m)\u001b[0m\u001b[0;34m\u001b[0m\u001b[0;34m\u001b[0m\u001b[0m\n\u001b[1;32m      9\u001b[0m   \u001b[0;32melif\u001b[0m \u001b[0mliste\u001b[0m\u001b[0;34m.\u001b[0m\u001b[0mcount\u001b[0m\u001b[0;34m(\u001b[0m\u001b[0mi\u001b[0m\u001b[0;34m)\u001b[0m \u001b[0;34m>\u001b[0m \u001b[0;36m1\u001b[0m\u001b[0;34m:\u001b[0m\u001b[0;34m\u001b[0m\u001b[0;34m\u001b[0m\u001b[0m\n\u001b[0;32m---> 10\u001b[0;31m     \u001b[0mliste\u001b[0m\u001b[0;34m[\u001b[0m\u001b[0mi\u001b[0m\u001b[0;34m]\u001b[0m \u001b[0;34m+=\u001b[0m \u001b[0;34m\"s\"\u001b[0m\u001b[0;34m\u001b[0m\u001b[0;34m\u001b[0m\u001b[0m\n\u001b[0m\u001b[1;32m     11\u001b[0m     \u001b[0mlistem\u001b[0m\u001b[0;34m.\u001b[0m\u001b[0mappend\u001b[0m\u001b[0;34m(\u001b[0m\u001b[0mi\u001b[0m\u001b[0;34m)\u001b[0m\u001b[0;34m\u001b[0m\u001b[0;34m\u001b[0m\u001b[0m\n\u001b[1;32m     12\u001b[0m \u001b[0mprint\u001b[0m\u001b[0;34m(\u001b[0m\u001b[0mset\u001b[0m\u001b[0;34m(\u001b[0m\u001b[0mlistem\u001b[0m\u001b[0;34m)\u001b[0m\u001b[0;34m)\u001b[0m\u001b[0;34m\u001b[0m\u001b[0;34m\u001b[0m\u001b[0m\n",
            "\u001b[0;31mTypeError\u001b[0m: list indices must be integers or slices, not str"
          ]
        }
      ]
    },
    {
      "cell_type": "code",
      "metadata": {
        "colab": {
          "base_uri": "https://localhost:8080/"
        },
        "id": "SzR_6JLRAIp5",
        "outputId": "220f3893-8a0f-4ee5-d86d-c6024ee71958"
      },
      "source": [
        "arry = [\"cow\", \"pig\", \"cow\", \"cow\"]\n",
        "set([i + \"s\" if arry.count(i) > 1 else i for i in arry])"
      ],
      "execution_count": null,
      "outputs": [
        {
          "output_type": "execute_result",
          "data": {
            "text/plain": [
              "{'cows', 'pig'}"
            ]
          },
          "metadata": {},
          "execution_count": 5
        }
      ]
    },
    {
      "cell_type": "markdown",
      "metadata": {
        "id": "q0yl9B28AQ-B"
      },
      "source": [
        "**Exercise - 103 | ?list() | ?input() | ?map() | ?split() | ?sum() ?comprehension**\n",
        "\n",
        "Write a Python program to calculate the sum of three given numbers, if the values are equal then return three times of their sum."
      ]
    },
    {
      "cell_type": "code",
      "metadata": {
        "colab": {
          "base_uri": "https://localhost:8080/"
        },
        "id": "SDR7iEErARFv",
        "outputId": "18c984f4-afb2-454b-8775-b97fd53420a9"
      },
      "source": [
        "numbers = list(map(int, input(\"Please enter 3 numbers: \").split()))\n",
        "print(sum(numbers) * 3 if numbers[0] == numbers[1] == numbers[2] else sum(numbers))"
      ],
      "execution_count": null,
      "outputs": [
        {
          "output_type": "stream",
          "name": "stdout",
          "text": [
            "Please enter 3 numbers: 5 5 5\n",
            "45\n"
          ]
        }
      ]
    },
    {
      "cell_type": "markdown",
      "metadata": {
        "id": "XDmUOVVQHXJA"
      },
      "source": [
        "**Exercise - 104 | ?join() | ?input() | ?pop() |?for loop | ?range() | ?len() | ?comprehension**\n",
        "\n",
        "Given a string s, reverse only all the vowels in the string and return it.\n",
        "The vowels are 'a', 'e', 'i', 'o', and 'u', and they can appear in both cases.\n",
        "\n",
        "Example 1:\n",
        "\n",
        "Input: s = \"hello\"\n",
        "\n",
        "Output: \"holle\"\n",
        "\n",
        "Example 2:\n",
        "\n",
        "Input: s = \"leetcode\"\n",
        "\n",
        "Output: \"leotcede\""
      ]
    },
    {
      "cell_type": "code",
      "metadata": {
        "colab": {
          "base_uri": "https://localhost:8080/"
        },
        "id": "-QAUnaICHXRQ",
        "outputId": "8d7577e0-7ed7-40a2-f892-86e5e9769513"
      },
      "source": [
        "word, vowels = input(\"\"), \"aeiou\"\n",
        "\n",
        "word_vowels = []\n",
        "\n",
        "for i in word :\n",
        "  if i in vowels :\n",
        "    word_vowels += [i]\n",
        "\n",
        "output= \"\"\n",
        "for j in word :\n",
        "  if j not in vowels :\n",
        "    output += j\n",
        "  else :\n",
        "    output += word_vowels.pop(-1)\n",
        "\n",
        "print(output)"
      ],
      "execution_count": null,
      "outputs": [
        {
          "output_type": "stream",
          "name": "stdout",
          "text": [
            "hello\n",
            "holle\n"
          ]
        }
      ]
    },
    {
      "cell_type": "code",
      "metadata": {
        "colab": {
          "base_uri": "https://localhost:8080/"
        },
        "id": "vPb41NknHdJS",
        "outputId": "a895a038-2472-4d01-92ec-a4cff8b2365d"
      },
      "source": [
        "text = \"leetcode\"\n",
        "vowels = \"aeiou\"\n",
        "\n",
        "text_vowels = [x for x in text if x in vowels]\n",
        "print(\"\".join([x if x not in vowels else text_vowels.pop(-1) for x in text]))"
      ],
      "execution_count": null,
      "outputs": [
        {
          "output_type": "stream",
          "name": "stdout",
          "text": [
            "leotcede\n"
          ]
        }
      ]
    },
    {
      "cell_type": "code",
      "metadata": {
        "colab": {
          "base_uri": "https://localhost:8080/"
        },
        "id": "BF4fzQkJHdPA",
        "outputId": "0c82100c-01e5-49c2-8fb1-a5b712718216"
      },
      "source": [
        "s = \"hello\"\n",
        "indeks = [i for i in range(len(s)) if s[i] in \"AEIOUaeiou\"]\n",
        "consonants = [j for j in s if j not in \"AEIOUaeiou\" ]\n",
        "vowels = [k for k in s if k in \"AEIOUaeiou\"][::-1]\n",
        "\n",
        "for i in range(len(indeks)) :\n",
        "  consonants.insert(indeks[i], vowels[i])\n",
        "print(\"\".join(consonants))"
      ],
      "execution_count": null,
      "outputs": [
        {
          "output_type": "stream",
          "name": "stdout",
          "text": [
            "holle\n"
          ]
        }
      ]
    },
    {
      "cell_type": "code",
      "metadata": {
        "colab": {
          "base_uri": "https://localhost:8080/"
        },
        "id": "yRLWGG2YHdUn",
        "outputId": "f5084300-d830-423f-db54-a0055f9cfc28"
      },
      "source": [
        "# Nice solution\n",
        "s = \"hello\" \n",
        "indeks = [i for i in range(len(s)) if s[i] in \"AEIOUaeiou\"] # Sesli harflerin indexleri\n",
        "consonants = [j for j in s if j not in \"AEIOUaeiou\" ] # ünsüz harflerin listesi\n",
        "vowels = [k for k in s if k in \"AEIOUaeiou\"][::-1] # ünlü harflerin ters listesi\n",
        "\n",
        "for i in range(len(indeks)) : # Değiştirmek istediğimiz sesli harfler kadar döngü başlat \n",
        "  consonants.insert(indeks[i], vowels[i]) # Ünsüz harf listesine istenen sırada ünlü harfleri yerleştir\n",
        "print(\"\".join(consonants)) # Listeyi string olarak çıktı al"
      ],
      "execution_count": null,
      "outputs": [
        {
          "output_type": "stream",
          "name": "stdout",
          "text": [
            "holle\n"
          ]
        }
      ]
    },
    {
      "cell_type": "markdown",
      "metadata": {
        "id": "ZrpzFr20zZ9Z"
      },
      "source": [
        "**Exercise - 105 | ?len() | ?range() | ?append() | ?comprehension**\n",
        "\n",
        "Create a string of up to 1000 numbers, then create a pyhton code that finds how many 3 digits occur in this string of numbers."
      ]
    },
    {
      "cell_type": "code",
      "metadata": {
        "colab": {
          "base_uri": "https://localhost:8080/"
        },
        "id": "aCRJP6HGzabI",
        "outputId": "98a0acb4-d9eb-4cec-de4b-3e5827167a90"
      },
      "source": [
        "print(len([i for i in range(1, 1000) if \"3\" in str(i)]))"
      ],
      "execution_count": 8,
      "outputs": [
        {
          "output_type": "stream",
          "name": "stdout",
          "text": [
            "271\n"
          ]
        }
      ]
    },
    {
      "cell_type": "code",
      "metadata": {
        "colab": {
          "base_uri": "https://localhost:8080/"
        },
        "id": "_fXAtt3N2TsL",
        "outputId": "4495da29-c6e8-4296-c013-5f1ce2577061"
      },
      "source": [
        "liste = []\n",
        "for i in range(1, 1000) :\n",
        "  if \"3\" in str(i) :\n",
        "    liste.append(i)\n",
        "print(len(liste))"
      ],
      "execution_count": 10,
      "outputs": [
        {
          "output_type": "stream",
          "name": "stdout",
          "text": [
            "271\n"
          ]
        }
      ]
    }
  ]
}