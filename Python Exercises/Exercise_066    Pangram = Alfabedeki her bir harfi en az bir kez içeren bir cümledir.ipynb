{
  "nbformat": 4,
  "nbformat_minor": 0,
  "metadata": {
    "colab": {
      "name": "Exercise_066",
      "provenance": [],
      "collapsed_sections": []
    },
    "kernelspec": {
      "name": "python3",
      "display_name": "Python 3"
    },
    "language_info": {
      "name": "python"
    }
  },
  "cells": [
    {
      "cell_type": "markdown",
      "source": [
        "**Exercise - 066 | ?input() | ?lower() | ?for loop | ?set() | ?isalpha()**\n",
        "\n",
        "A pangram is a sentence that contains every single letter of the alphabet at least once. For example, the sentence \"The quick brown fox jumps over the lazy dog\" is a pangram, because it uses the letters A-Z at least once (case is irrelevant).\n",
        "\n",
        "Given a string, detect whether or not it is a pangram. Return True if it is, False if not. Ignore numbers and punctuation.\n",
        "\n",
        "Pangram, alfabedeki her bir harfi en az bir kez içeren bir cümledir. Örneğin, \"The quick brown fox jumps over the lazy dog\" cümlesi bir pangramdır, çünkü A-Z harflerini en az bir kez kullanır (büyük/küçük harf önemli değildir).\n",
        "\n",
        "Bir string verildiğinde, bunun bir pangram olup olmadığını tespit edin. Varsa True, değilse False döndürün. Rakamları ve noktalama işaretlerini dikkate almayın."
      ],
      "metadata": {
        "id": "1mVBIBadsdLG"
      }
    },
    {
      "cell_type": "code",
      "source": [
        "sentence = input(\"Please enter a sentence: \").lower()\n",
        "new_sentence = \"\"\n",
        "alphabet = \"abcdefghijklmnopqrstuvwxyz\"\n",
        "for i in sentence :\n",
        "  if i.isalpha() :\n",
        "    new_sentence += i \n",
        "print(set(alphabet) - set(new_sentence) == set())"
      ],
      "metadata": {
        "colab": {
          "base_uri": "https://localhost:8080/"
        },
        "id": "3eC1NAAhsdSZ",
        "outputId": "2d24c6e9-3e2c-4087-a451-fba1b879ae07"
      },
      "execution_count": 1,
      "outputs": [
        {
          "output_type": "stream",
          "name": "stdout",
          "text": [
            "Please enter a sentence: The quick brown fox jumps over the lazy dog\n",
            "True\n"
          ]
        }
      ]
    }
  ]
}