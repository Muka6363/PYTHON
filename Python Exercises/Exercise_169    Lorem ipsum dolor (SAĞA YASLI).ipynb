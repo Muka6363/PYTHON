{
  "nbformat": 4,
  "nbformat_minor": 0,
  "metadata": {
    "colab": {
      "name": "Exercise - 169",
      "provenance": [],
      "collapsed_sections": []
    },
    "kernelspec": {
      "name": "python3",
      "display_name": "Python 3"
    },
    "language_info": {
      "name": "python"
    }
  },
  "cells": [
    {
      "cell_type": "markdown",
      "source": [
        "**Exercise - 169 | ?def | ?split() | ?len() | ?for loop() | ?join() | ?import | ?textwrap | ?rjust() | ?wrap() | ?fill()**\n",
        "\n",
        "Your task in this Kata is to emulate text justify right in monospace font. You will be given a single-lined text and the expected justification width. The longest word will never be greater than this width.\n",
        "\n",
        "Here are the rules:\n",
        "\n",
        "- Use spaces to fill in the gaps on the left side of the words.\n",
        "- Each line should contain as many words as possible.\n",
        "- Use '\\n' to separate lines.\n",
        "- Gap between words can't differ by more than one space.\n",
        "- Lines should end with a word not a space.\n",
        "- '\\n' is not included in the length of a line.\n",
        "- Last line should not contain '\\n'\n",
        "\n",
        "Example with width=30:\n",
        "\n",
        "![image.png](data:image/png;base64,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)"
      ],
      "metadata": {
        "id": "TOXq4re6tYH9"
      }
    },
    {
      "cell_type": "code",
      "source": [
        "import textwrap\n",
        "def align_right(text,width):\n",
        "    return \"\\n\".join([i.rjust(width, ' ') for i in textwrap.wrap(text, width)])\n",
        "txt = \"Lorem ipsum dolor sit amet, consectetur adipiscing elit. Cras iaculis sem vitae ligula tempor, et facilisis tortor mattis. Suspendisse tempus nibh a lectus commodo, in volutpat est pellentesque. Quisque eget lectus ligula. Donec nisl mi, volutpat id est vitae, elementum tempor turpis. Sed pharetra laoreet lacus, sit amet vestibulum eros pellentesque vitae. Aenean scelerisque nulla tortor, ac mollis mauris consectetur non. Mauris mattis ac ante tincidunt maximus. Donec quis sapien non diam iaculis tempor sed nec metus. Fusce consectetur turpis ac finibus interdum.\"\n",
        "print(align_right(txt,30))"
      ],
      "metadata": {
        "colab": {
          "base_uri": "https://localhost:8080/"
        },
        "id": "RHBjVURttYPz",
        "outputId": "52f6ca75-97a0-4da2-bb3b-5d435c583c1e"
      },
      "execution_count": 2,
      "outputs": [
        {
          "output_type": "stream",
          "name": "stdout",
          "text": [
            "   Lorem ipsum dolor sit amet,\n",
            "  consectetur adipiscing elit.\n",
            " Cras iaculis sem vitae ligula\n",
            "   tempor, et facilisis tortor\n",
            "    mattis. Suspendisse tempus\n",
            "     nibh a lectus commodo, in\n",
            "    volutpat est pellentesque.\n",
            "   Quisque eget lectus ligula.\n",
            "Donec nisl mi, volutpat id est\n",
            "       vitae, elementum tempor\n",
            "  turpis. Sed pharetra laoreet\n",
            "    lacus, sit amet vestibulum\n",
            "      eros pellentesque vitae.\n",
            "      Aenean scelerisque nulla\n",
            "      tortor, ac mollis mauris\n",
            "consectetur non. Mauris mattis\n",
            "    ac ante tincidunt maximus.\n",
            "    Donec quis sapien non diam\n",
            " iaculis tempor sed nec metus.\n",
            "   Fusce consectetur turpis ac\n",
            "             finibus interdum.\n"
          ]
        }
      ]
    },
    {
      "cell_type": "code",
      "source": [
        "import textwrap\n",
        "\n",
        "text = \"Lorem ipsum dolor sit amet, consectetur adipiscing elit. Cras iaculis sem vitae ligula tempor, et facilisis tortor mattis. Suspendisse tempus nibh a lectus commodo, in volutpat est pellentesque. Quisque eget lectus ligula. Donec nisl mi, volutpat id est vitae, elementum tempor turpis. Sed pharetra laoreet lacus, sit amet vestibulum eros pellentesque vitae. Aenean scelerisque nulla tortor, ac mollis mauris consectetur non. Mauris mattis ac ante tincidunt maximus. Donec quis sapien non diam iaculis tempor sed nec metus. Fusce consectetur turpis ac finibus interdum.\"\n",
        "\n",
        "print(textwrap.fill(text, 30).strip())"
      ],
      "metadata": {
        "colab": {
          "base_uri": "https://localhost:8080/"
        },
        "id": "VlhR_8wLvI9r",
        "outputId": "d361f635-bf29-418a-fc23-20f0f27a265b"
      },
      "execution_count": 22,
      "outputs": [
        {
          "output_type": "stream",
          "name": "stdout",
          "text": [
            "Lorem ipsum dolor sit amet,\n",
            "consectetur adipiscing elit.\n",
            "Cras iaculis sem vitae ligula\n",
            "tempor, et facilisis tortor\n",
            "mattis. Suspendisse tempus\n",
            "nibh a lectus commodo, in\n",
            "volutpat est pellentesque.\n",
            "Quisque eget lectus ligula.\n",
            "Donec nisl mi, volutpat id est\n",
            "vitae, elementum tempor\n",
            "turpis. Sed pharetra laoreet\n",
            "lacus, sit amet vestibulum\n",
            "eros pellentesque vitae.\n",
            "Aenean scelerisque nulla\n",
            "tortor, ac mollis mauris\n",
            "consectetur non. Mauris mattis\n",
            "ac ante tincidunt maximus.\n",
            "Donec quis sapien non diam\n",
            "iaculis tempor sed nec metus.\n",
            "Fusce consectetur turpis ac\n",
            "finibus interdum.\n"
          ]
        }
      ]
    },
    {
      "cell_type": "code",
      "source": [
        "import textwrap\n",
        "\n",
        "mytexxt = \"\"\"\n",
        "Lorem Ipsum Nedir?\n",
        "\n",
        "Lorem Ipsum, dizgi ve baskı endüstrisinde kullanılan mıgır metinlerdir. Lorem Ipsum, adı bilinmeyen bir matbaacının bir hurufat numune kitabı oluşturmak üzere bir yazı galerisini alarak karıştırdığı 1500'lerden beri endüstri standardı sahte metinler olarak kullanılmıştır. Beşyüz yıl boyunca varlığını sürdürmekle kalmamış, aynı zamanda pek değişmeden elektronik dizgiye de sıçramıştır. 1960'larda Lorem Ipsum pasajları da içeren Letraset yapraklarının yayınlanması ile ve yakın zamanda Aldus PageMaker gibi Lorem Ipsum sürümleri içeren masaüstü yayıncılık yazılımları ile popüler olmuştur.\n",
        "Neden Kullanırız?\n",
        "\n",
        "Yinelenen bir sayfa içeriğinin okuyucunun dikkatini dağıttığı bilinen bir gerçektir. Lorem Ipsum kullanmanın amacı, sürekli 'buraya metin gelecek, buraya metin gelecek' yazmaya kıyasla daha dengeli bir harf dağılımı sağlayarak okunurluğu artırmasıdır. Şu anda birçok masaüstü yayıncılık paketi ve web sayfa düzenleyicisi, varsayılan mıgır metinler olarak Lorem Ipsum kullanmaktadır. Ayrıca arama motorlarında 'lorem ipsum' anahtar sözcükleri ile arama yapıldığında henüz tasarım aşamasında olan çok sayıda site listelenir. Yıllar içinde, bazen kazara, bazen bilinçli olarak (örneğin mizah katılarak), çeşitli sürümleri geliştirilmiştir.\n",
        "\n",
        "Nereden Gelir?\n",
        "\n",
        "Yaygın inancın tersine, Lorem Ipsum rastgele sözcüklerden oluşmaz. Kökleri M.Ö. 45 tarihinden bu yana klasik Latin edebiyatına kadar uzanan 2000 yıllık bir geçmişi vardır. Virginia'daki Hampden-Sydney College'dan Latince profesörü Richard McClintock, bir Lorem Ipsum pasajında geçen ve anlaşılması en güç sözcüklerden biri olan 'consectetur' sözcüğünün klasik edebiyattaki örneklerini incelediğinde kesin bir kaynağa ulaşmıştır. Lorm Ipsum, Çiçero tarafından M.Ö. 45 tarihinde kaleme alınan \"de Finibus Bonorum et Malorum\" (İyi ve Kötünün Uç Sınırları) eserinin 1.10.32 ve 1.10.33 sayılı bölümlerinden gelmektedir. Bu kitap, ahlak kuramı üzerine bir tezdir ve Rönesans döneminde çok popüler olmuştur. Lorem Ipsum pasajının ilk satırı olan \"Lorem ipsum dolor sit amet\" 1.10.32 sayılı bölümdeki bir satırdan gelmektedir.\n",
        "\"\"\"\n",
        "\n",
        "print(textwrap.fill(mytexxt, 25).strip())"
      ],
      "metadata": {
        "colab": {
          "base_uri": "https://localhost:8080/"
        },
        "id": "QiJBJy1tuiWG",
        "outputId": "1dcd9ffa-7a7f-489c-c29b-573d6cfabc2e"
      },
      "execution_count": 1,
      "outputs": [
        {
          "output_type": "stream",
          "name": "stdout",
          "text": [
            "Lorem Ipsum Nedir?\n",
            "Lorem Ipsum, dizgi ve\n",
            "baskı endüstrisinde\n",
            "kullanılan mıgır\n",
            "metinlerdir. Lorem Ipsum,\n",
            "adı bilinmeyen bir\n",
            "matbaacının bir hurufat\n",
            "numune kitabı oluşturmak\n",
            "üzere bir yazı galerisini\n",
            "alarak karıştırdığı\n",
            "1500'lerden beri endüstri\n",
            "standardı sahte metinler\n",
            "olarak kullanılmıştır.\n",
            "Beşyüz yıl boyunca\n",
            "varlığını sürdürmekle\n",
            "kalmamış, aynı zamanda\n",
            "pek değişmeden elektronik\n",
            "dizgiye de sıçramıştır.\n",
            "1960'larda Lorem Ipsum\n",
            "pasajları da içeren\n",
            "Letraset yapraklarının\n",
            "yayınlanması ile ve yakın\n",
            "zamanda Aldus PageMaker\n",
            "gibi Lorem Ipsum\n",
            "sürümleri içeren masaüstü\n",
            "yayıncılık yazılımları\n",
            "ile popüler olmuştur.\n",
            "Neden Kullanırız?\n",
            "Yinelenen bir sayfa\n",
            "içeriğinin okuyucunun\n",
            "dikkatini dağıttığı\n",
            "bilinen bir gerçektir.\n",
            "Lorem Ipsum kullanmanın\n",
            "amacı, sürekli 'buraya\n",
            "metin gelecek, buraya\n",
            "metin gelecek' yazmaya\n",
            "kıyasla daha dengeli bir\n",
            "harf dağılımı sağlayarak\n",
            "okunurluğu artırmasıdır.\n",
            "Şu anda birçok masaüstü\n",
            "yayıncılık paketi ve web\n",
            "sayfa düzenleyicisi,\n",
            "varsayılan mıgır metinler\n",
            "olarak Lorem Ipsum\n",
            "kullanmaktadır. Ayrıca\n",
            "arama motorlarında 'lorem\n",
            "ipsum' anahtar sözcükleri\n",
            "ile arama yapıldığında\n",
            "henüz tasarım aşamasında\n",
            "olan çok sayıda site\n",
            "listelenir. Yıllar\n",
            "içinde, bazen kazara,\n",
            "bazen bilinçli olarak\n",
            "(örneğin mizah\n",
            "katılarak), çeşitli\n",
            "sürümleri\n",
            "geliştirilmiştir.\n",
            "Nereden Gelir?  Yaygın\n",
            "inancın tersine, Lorem\n",
            "Ipsum rastgele\n",
            "sözcüklerden oluşmaz.\n",
            "Kökleri M.Ö. 45\n",
            "tarihinden bu yana klasik\n",
            "Latin edebiyatına kadar\n",
            "uzanan 2000 yıllık bir\n",
            "geçmişi vardır.\n",
            "Virginia'daki Hampden-\n",
            "Sydney College'dan\n",
            "Latince profesörü Richard\n",
            "McClintock, bir Lorem\n",
            "Ipsum pasajında geçen ve\n",
            "anlaşılması en güç\n",
            "sözcüklerden biri olan\n",
            "'consectetur' sözcüğünün\n",
            "klasik edebiyattaki\n",
            "örneklerini incelediğinde\n",
            "kesin bir kaynağa\n",
            "ulaşmıştır. Lorm Ipsum,\n",
            "Çiçero tarafından M.Ö. 45\n",
            "tarihinde kaleme alınan\n",
            "\"de Finibus Bonorum et\n",
            "Malorum\" (İyi ve Kötünün\n",
            "Uç Sınırları) eserinin\n",
            "1.10.32 ve 1.10.33 sayılı\n",
            "bölümlerinden\n",
            "gelmektedir. Bu kitap,\n",
            "ahlak kuramı üzerine bir\n",
            "tezdir ve Rönesans\n",
            "döneminde çok popüler\n",
            "olmuştur. Lorem Ipsum\n",
            "pasajının ilk satırı olan\n",
            "\"Lorem ipsum dolor sit\n",
            "amet\" 1.10.32 sayılı\n",
            "bölümdeki bir satırdan\n",
            "gelmektedir.\n"
          ]
        }
      ]
    },
    {
      "cell_type": "code",
      "source": [
        "text = \"Lorem ipsum dolor sit amet, consectetur adipiscing elit. Cras iaculis sem vitae ligula tempor, et facilisis tortor mattis. Suspendisse tempus nibh a lectus commodo, in volutpat est pellentesque. Quisque eget lectus ligula. Donec nisl mi, volutpat id est vitae, elementum tempor turpis. Sed pharetra laoreet lacus, sit amet vestibulum eros pellentesque vitae. Aenean scelerisque nulla tortor, ac mollis mauris consectetur non. Mauris mattis ac ante tincidunt maximus. Donec quis sapien non diam iaculis tempor sed nec metus. Fusce consectetur turpis ac finibus interdum.\"\n",
        "def monospace(text, width):\n",
        "  output = \"\"\n",
        "  text = text.split()\n",
        "  line = \"\"\n",
        "  for word in text:\n",
        "    if len(line) + len(word) + 1 > width:\n",
        "      output = output + ((width-len(line))*\" \") + line + \"\\n\"\n",
        "      line = word\n",
        "    else:\n",
        "      line = line + \" \" + word\n",
        "  return output + line\n",
        "print(monospace(text, 30))"
      ],
      "metadata": {
        "colab": {
          "base_uri": "https://localhost:8080/"
        },
        "id": "FobXRbqLwSaf",
        "outputId": "aa238fc4-c517-4655-e194-1018c933ca63"
      },
      "execution_count": 15,
      "outputs": [
        {
          "output_type": "stream",
          "name": "stdout",
          "text": [
            "   Lorem ipsum dolor sit amet,\n",
            "  consectetur adipiscing elit.\n",
            " Cras iaculis sem vitae ligula\n",
            "   tempor, et facilisis tortor\n",
            "    mattis. Suspendisse tempus\n",
            "     nibh a lectus commodo, in\n",
            "    volutpat est pellentesque.\n",
            "   Quisque eget lectus ligula.\n",
            "Donec nisl mi, volutpat id est\n",
            "       vitae, elementum tempor\n",
            "  turpis. Sed pharetra laoreet\n",
            "    lacus, sit amet vestibulum\n",
            "      eros pellentesque vitae.\n",
            "      Aenean scelerisque nulla\n",
            "      tortor, ac mollis mauris\n",
            "consectetur non. Mauris mattis\n",
            "    ac ante tincidunt maximus.\n",
            "    Donec quis sapien non diam\n",
            " iaculis tempor sed nec metus.\n",
            "   Fusce consectetur turpis ac\n",
            "finibus interdum.\n"
          ]
        }
      ]
    },
    {
      "cell_type": "code",
      "source": [
        "import textwrap\n",
        "width = 20\n",
        "text = \"Lorem ipsum dolor sit amet, consectetur adipiscing elit. Cras iaculis sem vitae ligula tempor, et facilisis tortor mattis.\"\n",
        "textwrap.wrap(text, width)"
      ],
      "metadata": {
        "colab": {
          "base_uri": "https://localhost:8080/"
        },
        "id": "kjI6MssRzbJI",
        "outputId": "55df8fe1-3213-4839-e9ac-68c44bd3db00"
      },
      "execution_count": 20,
      "outputs": [
        {
          "output_type": "execute_result",
          "data": {
            "text/plain": [
              "['Lorem ipsum dolor',\n",
              " 'sit amet,',\n",
              " 'consectetur',\n",
              " 'adipiscing elit.',\n",
              " 'Cras iaculis sem',\n",
              " 'vitae ligula tempor,',\n",
              " 'et facilisis tortor',\n",
              " 'mattis.']"
            ]
          },
          "metadata": {},
          "execution_count": 20
        }
      ]
    }
  ]
}