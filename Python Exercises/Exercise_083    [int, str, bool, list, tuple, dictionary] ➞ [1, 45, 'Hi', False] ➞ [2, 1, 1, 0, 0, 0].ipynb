{
  "nbformat": 4,
  "nbformat_minor": 0,
  "metadata": {
    "colab": {
      "name": "Exercise - 83.ipynb",
      "provenance": [],
      "collapsed_sections": []
    },
    "kernelspec": {
      "name": "python3",
      "display_name": "Python 3"
    },
    "language_info": {
      "name": "python"
    }
  },
  "cells": [
    {
      "cell_type": "markdown",
      "metadata": {
        "id": "y20zS9BEJOOc"
      },
      "source": [
        "**Exercise - 83 | ?for loop | ?range() | ?len() | ?str() | ?type() | ?dictionary | ?fromkeys()**\n",
        "\n",
        "Given a function that accepts unlimited arguments, check and count how many data types are in those arguments. Finally return the total in a list.\n",
        "List order is:\n",
        "\n",
        "![image.png](data:image/png;base64,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)\n",
        "\n",
        "Examples\n",
        "\n",
        "![image.png](data:image/png;base64,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)"
      ]
    },
    {
      "cell_type": "code",
      "metadata": {
        "colab": {
          "base_uri": "https://localhost:8080/"
        },
        "id": "roaNedZ9JOTn",
        "outputId": "0611dfa7-a640-4bfe-b8aa-418093e95b2b"
      },
      "source": [
        "liste = [\"Hello\", \"Bye\", True, True, False, {\"1\": \"One\", \"2\": \"Two\"}, [1, 3], {\"Brayan\": 18}, 25, 23]\n",
        "my_dict = {\"<class 'int'>\" : 0, \"<class 'str'>\" : 0, \"<class 'bool'>\" : 0, \"<class 'list'>\" : 0, \"<class 'tuple'>\" : 0, \"<class 'dict'>\" : 0}\n",
        "\n",
        "for i in range(len(liste)) :\n",
        "  if str(type(liste[i])) in my_dict :\n",
        "    my_dict[f\"{str(type(liste[i]))}\"] += 1\n",
        "\n",
        "print(*my_dict.values())"
      ],
      "execution_count": null,
      "outputs": [
        {
          "output_type": "stream",
          "name": "stdout",
          "text": [
            "2 2 3 1 0 2\n"
          ]
        }
      ]
    },
    {
      "cell_type": "code",
      "metadata": {
        "colab": {
          "base_uri": "https://localhost:8080/"
        },
        "id": "GLhfIlDhN0nk",
        "outputId": "60762999-3242-4459-98f4-da9ef53f25c5"
      },
      "source": [
        "liste = [\"Hello\", \"Bye\", True, True, False, {\"1\": \"One\", \"2\": \"Two\"}, [1, 3], {\"Brayan\": 18}, 25, 23]\n",
        "int_, str_, bool_, list_, tuple_, dict_=0,0,0,0,0,0\n",
        "for i in liste:\n",
        "  if type(i) == int:\n",
        "    int_ += 1\n",
        "  elif type(i) == str:\n",
        "    str_ += 1\n",
        "  elif type(i) == bool:\n",
        "    bool_ += 1\n",
        "  elif type(i) == list:\n",
        "    list_ += 1\n",
        "  elif type(i) == tuple:\n",
        "    tuple_ += 1\n",
        "  elif type(i) == dict:\n",
        "    dict_ += 1\n",
        "\n",
        "print([int_, str_, bool_, list_, tuple_, dict_])"
      ],
      "execution_count": null,
      "outputs": [
        {
          "output_type": "stream",
          "name": "stdout",
          "text": [
            "[2, 2, 3, 1, 0, 2]\n"
          ]
        }
      ]
    },
    {
      "cell_type": "code",
      "metadata": {
        "colab": {
          "base_uri": "https://localhost:8080/"
        },
        "id": "aOooOH0RZWuM",
        "outputId": "a32e2645-4084-4b72-e9d9-2d23658eeef4"
      },
      "source": [
        "# Note\n",
        "\n",
        "elemanlar = \"Ahmet\", \"Mehmet\", \"Can\"\n",
        "\n",
        "adresler = dict.fromkeys(elemanlar, \"Kadıköy\")\n",
        "\n",
        "adresler"
      ],
      "execution_count": null,
      "outputs": [
        {
          "output_type": "execute_result",
          "data": {
            "text/plain": [
              "{'Ahmet': 'Kadıköy', 'Can': 'Kadıköy', 'Mehmet': 'Kadıköy'}"
            ]
          },
          "metadata": {},
          "execution_count": 8
        }
      ]
    },
    {
      "cell_type": "code",
      "metadata": {
        "colab": {
          "base_uri": "https://localhost:8080/"
        },
        "id": "UrYu7mwnVllv",
        "outputId": "bff35ea0-156f-45bb-f7bb-cd75e64f572b"
      },
      "source": [
        "liste = liste = [\"Hello\", \"Bye\", True, True, False, {\"1\": \"One\", \"2\": \"Two\"}, [1, 3], {\"Brayan\": 18}, 25, 23]\n",
        "tip = [\"int\", \"str\", \"bool\", \"list\", \"tuple\", \"dict\"]\n",
        "total = {}.fromkeys(tip, 0)\n",
        "for i in range(len(liste)) :\n",
        "  if type(liste[i]) == str :\n",
        "    total[\"str\"] += 1\n",
        "  elif type(liste[i]) == bool :\n",
        "    total[\"bool\"] += 1\n",
        "  elif type(liste[i]) == tuple :\n",
        "    total[\"tuple\"] += 1\n",
        "  elif type(liste[i]) == list :\n",
        "    total[\"list\"] += 1\n",
        "  elif type(liste[i]) == dict :\n",
        "    total[\"dict\"] += 1\n",
        "  elif type(liste[i]) == int :\n",
        "    total[\"int\"] += 1\n",
        "\n",
        "print(list(total.values()))  "
      ],
      "execution_count": null,
      "outputs": [
        {
          "output_type": "stream",
          "name": "stdout",
          "text": [
            "[2, 2, 3, 1, 0, 2]\n"
          ]
        }
      ]
    },
    {
      "cell_type": "code",
      "metadata": {
        "colab": {
          "base_uri": "https://localhost:8080/"
        },
        "id": "OpKaWPeGc2ZV",
        "outputId": "33e9fb9d-6893-4ac0-bebc-fb49156a39c9"
      },
      "source": [
        "liste = [\"Hello\", \"Bye\", True, True, False, {\"1\": \"One\", \"2\": \"Two\"}, [1, 3], {\"Brayan\": 18}, 25, 23]\n",
        "my_dict = {\"<class 'int'>\" : 0, \"<class 'str'>\" : 0, \"<class 'bool'>\" : 0, \"<class 'list'>\" : 0, \"<class 'tuple'>\" : 0, \"<class 'dict'>\" : 0}\n",
        "\n",
        "for i in range(len(liste)) :\n",
        "  if str(type(liste[i])) in my_dict :\n",
        "    my_dict[f\"{str(type(liste[i]))}\"] += 1\n",
        "\n",
        "print(list(my_dict.values()))"
      ],
      "execution_count": null,
      "outputs": [
        {
          "output_type": "stream",
          "name": "stdout",
          "text": [
            "[2, 2, 3, 1, 0, 2]\n"
          ]
        }
      ]
    }
  ]
}