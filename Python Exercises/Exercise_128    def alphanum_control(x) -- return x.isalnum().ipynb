{
  "nbformat": 4,
  "nbformat_minor": 0,
  "metadata": {
    "colab": {
      "name": "Exercise - 128",
      "provenance": [],
      "collapsed_sections": []
    },
    "kernelspec": {
      "name": "python3",
      "display_name": "Python 3"
    },
    "language_info": {
      "name": "python"
    }
  },
  "cells": [
    {
      "cell_type": "markdown",
      "metadata": {
        "id": "b5KEZyH4W2wT"
      },
      "source": [
        "**Exercise - 128 | ?def | ?isalnum() | ?input()**\n",
        "\n",
        "In this example you have to validate if a user input string is alphanumeric. The given string is not nil/null/NULL/None, so you don't have to check that.\n",
        "\n",
        "The string has the following conditions to be alphanumeric:\n",
        "\n",
        "- At least one character (\"\" is not valid)\n",
        "- Allowed characters are uppercase / lowercase latin letters and digits from 0 to 9\n",
        "- No whitespaces / underscore"
      ]
    },
    {
      "cell_type": "code",
      "metadata": {
        "colab": {
          "base_uri": "https://localhost:8080/"
        },
        "id": "D0NUg8WOW23R",
        "outputId": "77f61752-c901-4308-c000-2c6c304b0a0e"
      },
      "source": [
        "passcode = input(\"Please enter your passcode: \")\n",
        "def alphanum_control(x) :\n",
        "  return x.isalnum()\n",
        "alphanum_control(passcode)"
      ],
      "execution_count": 8,
      "outputs": [
        {
          "name": "stdout",
          "output_type": "stream",
          "text": [
            "Please enter your passcode: Zigetvar1566\n"
          ]
        },
        {
          "output_type": "execute_result",
          "data": {
            "text/plain": [
              "True"
            ]
          },
          "metadata": {},
          "execution_count": 8
        }
      ]
    }
  ]
}