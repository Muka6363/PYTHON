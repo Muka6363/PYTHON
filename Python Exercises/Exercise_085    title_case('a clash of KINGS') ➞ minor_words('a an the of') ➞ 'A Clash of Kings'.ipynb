{
  "nbformat": 4,
  "nbformat_minor": 0,
  "metadata": {
    "colab": {
      "name": "Exercise - 85.ipynb",
      "provenance": [],
      "collapsed_sections": []
    },
    "kernelspec": {
      "name": "python3",
      "display_name": "Python 3"
    },
    "language_info": {
      "name": "python"
    }
  },
  "cells": [
    {
      "cell_type": "markdown",
      "metadata": {
        "id": "XCbOj0X4ulCw"
      },
      "source": [
        "**Exercise - 85 | ?def() | ?split() | ?comprehension | ?lower() | ?range() | ?len() | ?upper() | ?append() | ?join() | ?capitalize()**\n",
        "\n",
        "A string is considered to be in title case if each word in the string is either (a) capitalised (that is, only the first letter of the word is in upper case) or (b) considered to be an exception and put entirely into lower case unless it is the first word, which is always capitalised.\n",
        "\n",
        "Write a function that will convert a string into title case, given an optional list of exceptions (minor words). The list of minor words will be given as a string with each word separated by a space. Your function should ignore the case of the minor words string -- it should behave in the same way even if the case of the minor word string is changed.\n",
        "\n",
        "First argument (required): the original string to be converted.\n",
        "Second argument (optional): space-delimited list of minor words that must always be lowercase except for the first word in the string.\n",
        "\n",
        "Example :\n",
        "\n",
        "title_case('a clash of KINGS'),\n",
        "\n",
        "minor_words('a an the of') \n",
        "\n",
        "Output: 'A Clash of Kings'\n",
        "\n",
        "title_case('THE WIND IN THE WILLOWS'),\n",
        "\n",
        "minor_words('The In') \n",
        "\n",
        "Output: 'The Wind in the Willows'\n",
        "\n",
        "title_case('the quick brown fox') \n",
        "\n",
        "Output: 'The Quick Brown Fox'"
      ]
    },
    {
      "cell_type": "code",
      "metadata": {
        "id": "NZb9TiZHulII"
      },
      "source": [
        "def title_case(title, minor_words=1):\n",
        "    string = title.split()\n",
        "    outList = []\n",
        "    if minor_words != 1:\n",
        "        split = minor_words.split()\n",
        "        minor = [x.lower() for x in split]\n",
        "    out = \"\"\n",
        "    for i in range(0, len(string)):\n",
        "        word = \"\"\n",
        "        for j in range(0,len(string[i])):\n",
        "            elem = \"\"\n",
        "            elem += string[i][j]\n",
        "            if j == 0:\n",
        "                word += elem.upper()\n",
        "            else:\n",
        "                word += elem.lower()\n",
        "        if i != len(string)-1:\n",
        "            outList.append(word+\" \")\n",
        "        else:\n",
        "            outList.append(word)\n",
        "    list = [x.lower() for x in outList]\n",
        "    print ((list[0]))#Just for debug\n",
        "    if minor_words != 1:\n",
        "        for i in range(0, len(outList)):\n",
        "            if (list[i] in minor):\n",
        "                print(\"OI\")#Just for debug\n",
        "                out += list[i]\n",
        "            else:\n",
        "                out += outList[i]\n",
        "    return out"
      ],
      "execution_count": null,
      "outputs": []
    },
    {
      "cell_type": "code",
      "metadata": {
        "colab": {
          "base_uri": "https://localhost:8080/",
          "height": 52
        },
        "id": "ZpbsOnO-vFsM",
        "outputId": "8c7d5d04-610d-4701-d0a1-3e9095fc77db"
      },
      "source": [
        "title_case('a clash of KINGS', 'a an the of')"
      ],
      "execution_count": null,
      "outputs": [
        {
          "output_type": "stream",
          "name": "stdout",
          "text": [
            "a \n"
          ]
        },
        {
          "output_type": "execute_result",
          "data": {
            "application/vnd.google.colaboratory.intrinsic+json": {
              "type": "string"
            },
            "text/plain": [
              "'A Clash Of Kings'"
            ]
          },
          "metadata": {},
          "execution_count": 2
        }
      ]
    },
    {
      "cell_type": "code",
      "metadata": {
        "colab": {
          "base_uri": "https://localhost:8080/",
          "height": 52
        },
        "id": "Z7ERM5fI2_Wm",
        "outputId": "03c735b9-cba7-4e7b-e484-c3a1208a646b"
      },
      "source": [
        "title_case('THE WIND IN THE WILLOWS', 'The In')"
      ],
      "execution_count": null,
      "outputs": [
        {
          "output_type": "stream",
          "name": "stdout",
          "text": [
            "the \n"
          ]
        },
        {
          "output_type": "execute_result",
          "data": {
            "application/vnd.google.colaboratory.intrinsic+json": {
              "type": "string"
            },
            "text/plain": [
              "'The Wind In The Willows'"
            ]
          },
          "metadata": {},
          "execution_count": 28
        }
      ]
    },
    {
      "cell_type": "code",
      "metadata": {
        "colab": {
          "base_uri": "https://localhost:8080/",
          "height": 35
        },
        "id": "Mf_Jgil7vY3l",
        "outputId": "5e890775-7066-4ab6-acdd-f36d0c2293e6"
      },
      "source": [
        "def titleCase(title, minorWords=[]):\n",
        "    titleList = [x.lower() for x in title.split()]\n",
        "    outList = []\n",
        "\n",
        "    for Word in titleList:\n",
        "        if Word not in minorWords:\n",
        "            Word = Word.capitalize()\n",
        "        outList.append(Word)\n",
        "\n",
        "    return \" \".join(outList)\n",
        "\n",
        "titleCase(\"a clash of KINGS\", [\"an\", \"the\", \"of\"])"
      ],
      "execution_count": 2,
      "outputs": [
        {
          "output_type": "execute_result",
          "data": {
            "application/vnd.google.colaboratory.intrinsic+json": {
              "type": "string"
            },
            "text/plain": [
              "'A Clash of Kings'"
            ]
          },
          "metadata": {},
          "execution_count": 2
        }
      ]
    },
    {
      "cell_type": "code",
      "metadata": {
        "colab": {
          "base_uri": "https://localhost:8080/"
        },
        "id": "MTxmVPgzvgLY",
        "outputId": "97b724cb-77b3-4392-9698-6bd5e0499b97"
      },
      "source": [
        "title = \"a clash of KINGS\"\n",
        "minor_words = \"an the of\"\n",
        "minor_list = minor_words.split()\n",
        "print(minor_list)\n",
        "\n",
        "title_list = [x.lower() for x in title.split()]\n",
        "liste = []\n",
        "print(title_list)\n",
        "\n",
        "for i in title_list :\n",
        "  if i not in minor_list :\n",
        "    i = i.capitalize()\n",
        "  liste.append(i)\n",
        "\n",
        "print(\" \".join(liste))"
      ],
      "execution_count": null,
      "outputs": [
        {
          "output_type": "stream",
          "name": "stdout",
          "text": [
            "['an', 'the', 'of']\n",
            "['a', 'clash', 'of', 'kings']\n",
            "A Clash of Kings\n"
          ]
        }
      ]
    },
    {
      "cell_type": "code",
      "metadata": {
        "colab": {
          "base_uri": "https://localhost:8080/"
        },
        "id": "luyqzSgbzfHh",
        "outputId": "543a98e0-124e-4a60-ec13-a0f535147dd1"
      },
      "source": [
        "# Stringler ile\n",
        "\n",
        "text = \"THE WIND IN THE WILLOWS\".lower().split()\n",
        "minor = \"The In\".lower().split()\n",
        "new_text = []\n",
        "\n",
        "for i in text :\n",
        "  if i not in minor :\n",
        "    new_text += [i.capitalize()]\n",
        "  else :\n",
        "    new_text += [i.lower()]\n",
        "\n",
        "if minor[0] in text :\n",
        "  output = new_text[0].capitalize() + \" \" + \" \".join(new_text[1:])\n",
        "else :\n",
        "  output = \" \".join(new_text)\n",
        "\n",
        "print(output)"
      ],
      "execution_count": null,
      "outputs": [
        {
          "output_type": "stream",
          "name": "stdout",
          "text": [
            "The Wind in the Willows\n"
          ]
        }
      ]
    },
    {
      "cell_type": "code",
      "metadata": {
        "colab": {
          "base_uri": "https://localhost:8080/"
        },
        "id": "_r7Ql2vxEOE4",
        "outputId": "48106a37-2959-4593-85ee-eb071e4f1ae3"
      },
      "source": [
        "title = \"a clash of KINGS\"\n",
        "minor_words = \"a an the of\"\n",
        "minor_list = minor_words.split()\n",
        "\n",
        "title_list = [x.lower() for x in title.split()]\n",
        "liste = []\n",
        "\n",
        "for i in title_list :\n",
        "  if i not in minor_list :\n",
        "    i = i.capitalize()\n",
        "  liste.append(i)\n",
        "\n",
        "if minor_list[0] in title_list :\n",
        "  output = liste[0].capitalize() + \" \" + \" \".join(liste[1:])\n",
        "else :\n",
        "  output = \" \".join(liste)\n",
        "\n",
        "print(output)"
      ],
      "execution_count": null,
      "outputs": [
        {
          "output_type": "stream",
          "name": "stdout",
          "text": [
            "A Clash of Kings\n"
          ]
        }
      ]
    }
  ]
}