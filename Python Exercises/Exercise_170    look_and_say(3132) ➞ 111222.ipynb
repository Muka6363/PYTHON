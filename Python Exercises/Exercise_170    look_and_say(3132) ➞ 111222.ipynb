{
  "nbformat": 4,
  "nbformat_minor": 0,
  "metadata": {
    "colab": {
      "name": "Exercise - 170",
      "provenance": [],
      "collapsed_sections": []
    },
    "kernelspec": {
      "name": "python3",
      "display_name": "Python 3"
    },
    "language_info": {
      "name": "python"
    }
  },
  "cells": [
    {
      "cell_type": "markdown",
      "source": [
        "**Exercise - 170 | ?def | ?for loop | ?comprehension | ?range() | ?len() | ?str() | ?int() | ?join()**\n",
        "\n",
        "Given an integer, return a new **integer** according to the rules below:\n",
        "\n",
        "- Split the number into groups of two digit numbers. If the number has an odd number of digits, return **\"invalid\"**.\n",
        "- For each group of two digit numbers, concatenate the last digit to a new string the same number of times as the value of the first digit.\n",
        "- Return the result as an integer.\n",
        "\n",
        "look_and_say(3132) ➞ 111222\n",
        "\n",
        "* By reading the number digit by digit, you get three \"1\" and three \"2\".\n",
        "* Therefore, you put three ones and three two's together.\n",
        "* Remember to return an integer.\n",
        "\n",
        "Examples\n",
        "\n",
        "look_and_say(95) ➞ 555555555\n",
        "\n",
        "look_and_say(1213141516171819) ➞ 23456789\n",
        "\n",
        "look_and_say(120520) ➞ 200\n",
        "\n",
        "look_and_say(231) ➞ \"invalid\""
      ],
      "metadata": {
        "id": "NsCq51MD0b9e"
      }
    },
    {
      "cell_type": "code",
      "source": [
        "def look_and_say(number):\n",
        "  number = str(number)\n",
        "  if len(number) % 2 == 1 : return \"invalid\"\n",
        "  else :\n",
        "    number_ = \"\"\n",
        "    for i in range(0, len(number), 2):\n",
        "      number_+=int(number[i:i+2][0])*number[i:i+2][1]\n",
        "    return number_\n",
        "look_and_say(120520)"
      ],
      "metadata": {
        "colab": {
          "base_uri": "https://localhost:8080/",
          "height": 35
        },
        "id": "VIxphQGB0cDe",
        "outputId": "75e4c7e2-6f4f-4c14-8b5f-bed49e3aadd7"
      },
      "execution_count": null,
      "outputs": [
        {
          "output_type": "execute_result",
          "data": {
            "application/vnd.google.colaboratory.intrinsic+json": {
              "type": "string"
            },
            "text/plain": [
              "'200'"
            ]
          },
          "metadata": {},
          "execution_count": 2
        }
      ]
    },
    {
      "cell_type": "code",
      "source": [
        "def look_and_say(number):\n",
        "  number = str(number)\n",
        "  if len(number) % 2 == 0 :\n",
        "    new_number = \"\"\n",
        "    for i in range(0, len(number), 2):\n",
        "      new_number += int(number[i:i+2][0]) * number[i:i+2][1]\n",
        "    return new_number\n",
        "  else :\n",
        "    return \"invalid\"\n",
        "    \n",
        "look_and_say(120520)"
      ],
      "metadata": {
        "colab": {
          "base_uri": "https://localhost:8080/",
          "height": 35
        },
        "id": "M6F6A7-V1jkB",
        "outputId": "9e2e658e-b9b1-4ce2-81d2-f8544bd19be3"
      },
      "execution_count": null,
      "outputs": [
        {
          "output_type": "execute_result",
          "data": {
            "application/vnd.google.colaboratory.intrinsic+json": {
              "type": "string"
            },
            "text/plain": [
              "'200'"
            ]
          },
          "metadata": {},
          "execution_count": 10
        }
      ]
    },
    {
      "cell_type": "code",
      "source": [
        "def look_and_say(number):\n",
        "  number = str(number)\n",
        "  if len(number) % 2 == 0 :\n",
        "    return \"\".join([int(number[i:i+2][0]) * number[i:i+2][1] for i in range(0, len(number), 2)])\n",
        "  else :\n",
        "    return \"invalid\"\n",
        "    \n",
        "look_and_say(1213141516171819)"
      ],
      "metadata": {
        "colab": {
          "base_uri": "https://localhost:8080/",
          "height": 35
        },
        "id": "-vUD3Lo_4OUO",
        "outputId": "b594c159-9a36-49bd-bef8-58f95e35d3ab"
      },
      "execution_count": 1,
      "outputs": [
        {
          "output_type": "execute_result",
          "data": {
            "application/vnd.google.colaboratory.intrinsic+json": {
              "type": "string"
            },
            "text/plain": [
              "'23456789'"
            ]
          },
          "metadata": {},
          "execution_count": 1
        }
      ]
    }
  ]
}