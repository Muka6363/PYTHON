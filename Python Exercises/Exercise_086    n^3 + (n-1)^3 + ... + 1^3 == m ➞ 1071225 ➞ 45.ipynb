{
  "nbformat": 4,
  "nbformat_minor": 0,
  "metadata": {
    "colab": {
      "name": "Exercise - 86.ipynb",
      "provenance": [],
      "collapsed_sections": []
    },
    "kernelspec": {
      "name": "python3",
      "display_name": "Python 3"
    },
    "language_info": {
      "name": "python"
    }
  },
  "cells": [
    {
      "cell_type": "markdown",
      "metadata": {
        "id": "LcjZpF_uGENE"
      },
      "source": [
        "**Exercise - 86 | ?while loop | ?input() | ?comprehension**\n",
        "\n",
        "Mubashir needs your help to construct a building which will be a pile of n cubes. The cube at the bottom will have a volume of n^3, the cube above will have volume of (n-1)^3 and so on until the top which will have a volume of 1^3.\n",
        "\n",
        "Given the total volume m of the building, can you find the number of cubes n required for the building?\n",
        "In other words, you have to return an integer n such that:\n",
        "\n",
        "n^3 + (n-1)^3 + ... + 1^3 == m\n",
        "\n",
        "Return None if there is no such number.\n",
        "Examples\n",
        "\n",
        "1071225 ➞ 45\n",
        "\n",
        "4183059834009 ➞ 2022\n",
        "\n",
        "16 ➞ None"
      ]
    },
    {
      "cell_type": "code",
      "metadata": {
        "colab": {
          "base_uri": "https://localhost:8080/"
        },
        "id": "aV29A9zTGETA",
        "outputId": "03259dda-dc97-4c2e-f7bc-9d5fc318ff08"
      },
      "source": [
        "number = int(input(\"Please enter a number: \"))\n",
        "count = 0\n",
        "sum = 0\n",
        "while sum < number :\n",
        "  count += 1\n",
        "  sum += count ** 3\n",
        "if number == sum :\n",
        "  print(count)\n",
        "else :\n",
        "  print(None)"
      ],
      "execution_count": null,
      "outputs": [
        {
          "output_type": "stream",
          "name": "stdout",
          "text": [
            "Please enter a number: 1071225\n",
            "45\n"
          ]
        }
      ]
    },
    {
      "cell_type": "code",
      "metadata": {
        "id": "W-aMGs6JYbpE",
        "colab": {
          "base_uri": "https://localhost:8080/"
        },
        "outputId": "430ffd9c-b9e2-4135-dda9-0fd81b707621"
      },
      "source": [
        "num = int(input(\"\"))\n",
        "cube , total = 0 , 0\n",
        "while total < num :\n",
        "  cube += 1\n",
        "  total += cube ** 3\n",
        "\n",
        "print(cube if total == num else None)"
      ],
      "execution_count": null,
      "outputs": [
        {
          "output_type": "stream",
          "name": "stdout",
          "text": [
            "1071225\n",
            "45\n"
          ]
        }
      ]
    }
  ]
}