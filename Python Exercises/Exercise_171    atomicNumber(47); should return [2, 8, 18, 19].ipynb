{
  "nbformat": 4,
  "nbformat_minor": 0,
  "metadata": {
    "colab": {
      "name": "Exercise - 171",
      "provenance": [],
      "collapsed_sections": []
    },
    "kernelspec": {
      "name": "python3",
      "display_name": "Python 3"
    },
    "language_info": {
      "name": "python"
    }
  },
  "cells": [
    {
      "cell_type": "markdown",
      "source": [
        "**Exercise - 171 | ?def | ?while loop | ?append() | ?min()**\n",
        "\n",
        "You are a khmmadkhm scientist and you decided to play with electron distribution among atom's shells. You know that basic idea of electron distribution is that electrons should fill a shell untill it's holding the maximum number of electrons.\n",
        "\n",
        "Rules :\n",
        "\n",
        "- Maximum number of electrons in a shell is distributed with a rule of 2n^2 (n being position of a shell).\n",
        "- For example, maximum number of electrons in 3rd shield is 2*3^2 = 18.\n",
        "- Electrons should fill the lowest level shell first.\n",
        "- If the electrons have completely filled the lowest level shell, the other unoccupied electrons will fill the higher level shell and so on.\n",
        "\n",
        "Examples :\n",
        "\n",
        "        atomicNumber(1); should return [1]\n",
        "        atomicNumber(10); should return [2, 8]\n",
        "        atomicNumber(11); should return [2, 8, 1]\n",
        "        atomicNumber(47); should return [2, 8, 18, 19]"
      ],
      "metadata": {
        "id": "XxuVuSMglZlO"
      }
    },
    {
      "cell_type": "code",
      "source": [
        "def atomic_number(electrons):\n",
        "    result = []\n",
        "    i = 1\n",
        "    while electrons > 0:\n",
        "        result.append(min(2 * (i ** 2), electrons))\n",
        "        electrons -= result[-1]\n",
        "        i += 1\n",
        "    return result\n",
        "atomic_number(18)"
      ],
      "metadata": {
        "colab": {
          "base_uri": "https://localhost:8080/"
        },
        "id": "my81TTGPlZvw",
        "outputId": "0803fe09-b921-4fc6-9023-b12e904eb930"
      },
      "execution_count": 4,
      "outputs": [
        {
          "output_type": "execute_result",
          "data": {
            "text/plain": [
              "[2, 8, 8]"
            ]
          },
          "metadata": {},
          "execution_count": 4
        }
      ]
    },
    {
      "cell_type": "code",
      "source": [
        "def atomicNumber(n):\n",
        "  count, elec_list = 1, []\n",
        "  while True:\n",
        "    shield = 2 * count ** 2\n",
        "    if n > shield :\n",
        "      elec_list += [shield]\n",
        "    else:\n",
        "      elec_list += [n] \n",
        "      break\n",
        "    n -= shield\n",
        "    count += 1\n",
        "  return elec_list\n",
        "atomicNumber(47)"
      ],
      "metadata": {
        "colab": {
          "base_uri": "https://localhost:8080/"
        },
        "id": "IWtf6YU5xSKa",
        "outputId": "a4f94e15-2be2-4119-a07b-e2474c04a0c5"
      },
      "execution_count": 7,
      "outputs": [
        {
          "output_type": "execute_result",
          "data": {
            "text/plain": [
              "[2, 8, 18, 19]"
            ]
          },
          "metadata": {},
          "execution_count": 7
        }
      ]
    },
    {
      "cell_type": "code",
      "source": [
        "def atomicNumber(n):\n",
        "  count = 1\n",
        "  electron = []\n",
        "  while True:\n",
        "    shell = 2 * count ** 2\n",
        "    if n > shell :\n",
        "      electron.append(shell)\n",
        "    else:\n",
        "      electron.append(n) \n",
        "      break\n",
        "    n -= shell\n",
        "    count += 1\n",
        "  return electron\n",
        "atomicNumber(47)"
      ],
      "metadata": {
        "colab": {
          "base_uri": "https://localhost:8080/"
        },
        "id": "CU-TfPsLvqGV",
        "outputId": "79fc962e-2f26-4f0b-8214-978abe970006"
      },
      "execution_count": 7,
      "outputs": [
        {
          "output_type": "execute_result",
          "data": {
            "text/plain": [
              "[2, 8, 18, 19]"
            ]
          },
          "metadata": {},
          "execution_count": 7
        }
      ]
    }
  ]
}