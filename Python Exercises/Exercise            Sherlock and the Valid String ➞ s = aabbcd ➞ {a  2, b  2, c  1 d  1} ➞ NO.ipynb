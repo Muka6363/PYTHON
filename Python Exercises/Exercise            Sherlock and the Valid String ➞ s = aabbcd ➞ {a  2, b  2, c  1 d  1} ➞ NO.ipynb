{
  "nbformat": 4,
  "nbformat_minor": 0,
  "metadata": {
    "colab": {
      "name": "Exercise - 93 - Spare",
      "provenance": [],
      "collapsed_sections": []
    },
    "kernelspec": {
      "name": "python3",
      "display_name": "Python 3"
    },
    "language_info": {
      "name": "python"
    }
  },
  "cells": [
    {
      "cell_type": "markdown",
      "metadata": {
        "id": "ZYm5IYAgF2PO"
      },
      "source": [
        "**Exercise | ?input() | ?dictionary | ?list() | ?for loop | ?count() | ?from | ?import | ?collections | ?counter | ?len() | ?min() | ?max() | ?set() | ?replace()**\n",
        "\n",
        "Sherlock considers a string to be valid if all characters of the string appear the same number of times. It is also valid if he can remove just  character at  index in the string, and the remaining characters will occur the same number of times. Given a string , determine if it is valid. If so, return **YES**, otherwise return **NO**.\n",
        "\n",
        "Example\n",
        "\n",
        "s = abc\n",
        "\n",
        "This is a valid string because frequencies are { a : 1, b : 1, c : 1}.\n",
        "\n",
        "s = abcc\n",
        "\n",
        "This is a valid string because we can remove one  and have  of each character in the remaining string. {a : 1, b : 1, c : 2}\n",
        "\n",
        "s = abccc\n",
        "\n",
        "This string is not valid as we can only remove  occurrence of . That leaves character frequencies of {a : 1 , b : 1 ,c : 2}.\n",
        "\n",
        "Returns\n",
        "\n",
        "- string: either **YES** or **NO**\n",
        "\n",
        "**Sample Input 0**\n",
        "\n",
        "aabbcd\n",
        "\n",
        "**Sample Output 0**\n",
        "\n",
        "NO\n",
        "\n",
        "**Explanation 0**\n",
        "\n",
        "Given s = \"aabbcd\" , we would need to remove two characters, both **c** and **d**  **aabb** or **a** and **b**  **abcd**, to make it valid. We are limited to removing only one character, so  is invalid."
      ]
    },
    {
      "cell_type": "code",
      "metadata": {
        "colab": {
          "base_uri": "https://localhost:8080/"
        },
        "id": "ZaiT7kGumxv9",
        "outputId": "c7bd0063-1d8b-421d-d945-eca435c8a463"
      },
      "source": [
        "n = input(\"\")\n",
        "my_dict = {}\n",
        "\n",
        "for i in n :\n",
        "  my_dict[i] = n.count(i)\n",
        "\n",
        "if len(set(list(my_dict.values()))) > 2 :\n",
        "  print(\"NO\")\n",
        "elif len(set(list(my_dict.values()))) == 2 :\n",
        "  if len(list(my_dict.keys())) - list(my_dict.values()).count(min(my_dict.values())) > 1 :\n",
        "    print(\"NO\")\n",
        "  elif max(list(my_dict.values())) - min(list(my_dict.values())) >= 2 :\n",
        "    print(\"NO\")\n",
        "  else :\n",
        "    print(\"YES\")\n",
        "elif len(set(list(my_dict.values()))) == 1 :\n",
        "  print(\"YES\")"
      ],
      "execution_count": 99,
      "outputs": [
        {
          "output_type": "stream",
          "name": "stdout",
          "text": [
            "aabbcd\n",
            "NO\n"
          ]
        }
      ]
    },
    {
      "cell_type": "code",
      "metadata": {
        "colab": {
          "base_uri": "https://localhost:8080/"
        },
        "id": "tXgUu0qPkGDU",
        "outputId": "8d0cfa63-c62f-455a-f8ab-30c0542d5f9f"
      },
      "source": [
        "from collections import Counter\n",
        "\n",
        "# s = \"aabbcdefghh\"\n",
        "s = \"abccc\"\n",
        "c= Counter(s)\n",
        "freq = Counter(c.values())\n",
        "\n",
        "if len(freq) == 1 :\n",
        "  print(\"YES\")\n",
        "elif len(freq) == 2 :\n",
        "  if max(freq.keys()) - min(freq.keys()) == 1 and freq[max(freq.keys())] == 1 :\n",
        "    print(\"YES\")\n",
        "  elif  min(freq.keys()) == 1 and freq[min(freq.keys())] == 1 :\n",
        "    print(\"YES\")\n",
        "  else:\n",
        "    print(\"NO\")\n",
        "else:\n",
        "  print(\"NO\")"
      ],
      "execution_count": null,
      "outputs": [
        {
          "output_type": "stream",
          "name": "stdout",
          "text": [
            "NO\n"
          ]
        }
      ]
    },
    {
      "cell_type": "code",
      "metadata": {
        "colab": {
          "base_uri": "https://localhost:8080/"
        },
        "id": "7htH4Z_on2rY",
        "outputId": "3852993c-ad5e-47d1-f76d-de3ad4520e63"
      },
      "source": [
        "def is_valid(text) :\n",
        "  count = text.count(text[0])\n",
        "  for letter in set(text) :\n",
        "    if text.count(letter) != count :\n",
        "      return False\n",
        "  return False\n",
        "\n",
        "text = \"abccdd\"\n",
        "valid = False\n",
        "\n",
        "if is_valid(text) :\n",
        "  valid = True\n",
        "else :\n",
        "  for letter in text :\n",
        "    if is_valid(text.replace(letter, \"\",1)) :\n",
        "      valid = True\n",
        "print(valid)"
      ],
      "execution_count": null,
      "outputs": [
        {
          "output_type": "stream",
          "name": "stdout",
          "text": [
            "False\n"
          ]
        }
      ]
    },
    {
      "cell_type": "code",
      "metadata": {
        "colab": {
          "base_uri": "https://localhost:8080/"
        },
        "id": "OAfuSWLzfmeD",
        "outputId": "472707ac-d530-4f20-fbea-1602478df726"
      },
      "source": [
        "n = input(\"\")\n",
        "my_dict = {}\n",
        "\n",
        "for i in n :\n",
        "  my_dict[i] = n.count(i)\n",
        "\n",
        "if len(set(list(my_dict.values()))) > 2 :\n",
        "  print(\"NO\")\n",
        "elif len(set(list(my_dict.values()))) == 2 :\n",
        "  if len(list(my_dict.keys())) - list(my_dict.values()).count(1) > 1 :\n",
        "    print(\"NO\")\n",
        "  else :\n",
        "    print(\"YES\")\n",
        "elif len(set(list(my_dict.values()))) == 1 :\n",
        "  print(\"YES\")"
      ],
      "execution_count": 75,
      "outputs": [
        {
          "output_type": "stream",
          "name": "stdout",
          "text": [
            "aabbcd\n",
            "NO\n"
          ]
        }
      ]
    }
  ]
}