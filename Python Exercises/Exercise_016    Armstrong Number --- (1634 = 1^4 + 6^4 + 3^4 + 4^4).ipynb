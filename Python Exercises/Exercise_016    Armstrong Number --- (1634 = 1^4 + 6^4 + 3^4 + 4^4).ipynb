{
  "nbformat": 4,
  "nbformat_minor": 0,
  "metadata": {
    "colab": {
      "name": "Exercise - 16.ipynb",
      "provenance": [],
      "collapsed_sections": []
    },
    "kernelspec": {
      "name": "python3",
      "display_name": "Python 3"
    },
    "language_info": {
      "name": "python"
    }
  },
  "cells": [
    {
      "cell_type": "markdown",
      "metadata": {
        "id": "3fbo-uVH8Uhr"
      },
      "source": [
        "**Exercise - 16**\n",
        "\n",
        "A number from the user will be set to be \"Armstrong.\n",
        "For example, if a number has 4 digits and is equal to the 4th (3rd power for 3-digit numbers) of each of its surroundings, this number is called the \"Armstrong\" number. etc.(1634 = 1^4 + 6^4 + 3^4 + 4^4)"
      ]
    },
    {
      "cell_type": "code",
      "metadata": {
        "colab": {
          "base_uri": "https://localhost:8080/"
        },
        "id": "HgAFlC9A8VIq",
        "outputId": "a5cd45c4-158a-4400-9048-01b9b89ef650"
      },
      "source": [
        "number = input(\"Please enter a number: \")\n",
        "toplam = sum([int(i) ** len(number) for i in number])\n",
        "if int(number) == toplam :\n",
        "  print(number, \"is a armstrong number\")\n",
        "else:\n",
        "  print(number, \"is not a armstrong number\")"
      ],
      "execution_count": 1,
      "outputs": [
        {
          "output_type": "stream",
          "name": "stdout",
          "text": [
            "Please enter a number: 1634\n",
            "1634 is a armstrong number\n"
          ]
        }
      ]
    },
    {
      "cell_type": "code",
      "metadata": {
        "colab": {
          "base_uri": "https://localhost:8080/"
        },
        "id": "bLwfk3lN8UmW",
        "outputId": "f95ffe40-aae7-463d-cc97-aec849ce1b41"
      },
      "source": [
        "# Alternative\n",
        "\n",
        "number = input(\"Please enter a number: \")\n",
        "total = 0\n",
        "for i in number:\n",
        "  total += int(i) ** len(number)\n",
        "\n",
        "if int(number) == toplam :\n",
        "  print(number, \"is a armstrong number\")\n",
        "else:\n",
        "  print(number, \"is not a armstrong number\")"
      ],
      "execution_count": 2,
      "outputs": [
        {
          "output_type": "stream",
          "name": "stdout",
          "text": [
            "Please enter a number: 1634\n",
            "1634 is a armstrong number\n"
          ]
        }
      ]
    }
  ]
}