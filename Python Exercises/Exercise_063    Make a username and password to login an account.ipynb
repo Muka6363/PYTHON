{
  "nbformat": 4,
  "nbformat_minor": 0,
  "metadata": {
    "colab": {
      "name": "Exercise - 063",
      "provenance": [],
      "collapsed_sections": []
    },
    "kernelspec": {
      "name": "python3",
      "display_name": "Python 3"
    },
    "language_info": {
      "name": "python"
    }
  },
  "cells": [
    {
      "cell_type": "markdown",
      "source": [
        "**Exercise - 63 | ?input() | ?while loop**\n",
        "\n",
        "Lets make a username and password to login an account.\n",
        "Firstly define the username and password then take inputs for this two argument from user.\n",
        "Design python program 3 possibilities that first one is True user name and password, \n",
        "second is wrong username input and third is wrong password input. Then finish with try again output."
      ],
      "metadata": {
        "id": "Az1CG9mQDjUu"
      }
    },
    {
      "cell_type": "code",
      "source": [
        "username = input(\"Please enter your username: \")\n",
        "password = input(\"Please enter your password: \")\n",
        "\n",
        "while True :\n",
        "  if username == \"Oguz_9113\" and password == \"TCdho1773.\" :\n",
        "    print(\"You have successfully logged in!\")\n",
        "    break\n",
        "  elif username != \"Oguz_9113\" and password == \"TCdho1773.\" :\n",
        "    print(\"**Please check your username**\")\n",
        "    username = input(\"Please enter your username: \")\n",
        "    password = input(\"Please enter your password: \")\n",
        "  elif username != \"Oguz_9113\" and password != \"TCdho1773.\" :\n",
        "    print(\"**Please check your username and password**\")\n",
        "    username = input(\"Please enter your username: \")\n",
        "    password = input(\"Please enter your password: \")"
      ],
      "metadata": {
        "colab": {
          "base_uri": "https://localhost:8080/"
        },
        "id": "kPDhWf0oDja6",
        "outputId": "6090ac40-2bee-4ed1-8220-f4fe49f5cab0"
      },
      "execution_count": 2,
      "outputs": [
        {
          "output_type": "stream",
          "name": "stdout",
          "text": [
            "Please enter your username: Oguz_9113\n",
            "Please enter your password: TCdho1773.\n",
            "You have successfully logged in!\n"
          ]
        }
      ]
    }
  ]
}