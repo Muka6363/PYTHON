{
  "nbformat": 4,
  "nbformat_minor": 0,
  "metadata": {
    "colab": {
      "name": "Exercise - 148",
      "provenance": [],
      "collapsed_sections": []
    },
    "kernelspec": {
      "name": "python3",
      "display_name": "Python 3"
    },
    "language_info": {
      "name": "python"
    }
  },
  "cells": [
    {
      "cell_type": "markdown",
      "metadata": {
        "id": "y_37X-78CJZK"
      },
      "source": [
        "**Exercise - 148 | ?def | ?while loop**\n",
        "\n",
        "This challenge is based on the classic videogame \"Snake\".\n",
        "\n",
        "Assume the game screen is an n * n square, and the snake starts the game with length 1 (i.e. just the head) positioned on the top left corner.\n",
        "For example, if n = 7 the game looks something like this:\n",
        "\n",
        "In this version of the game, the length of the snake doubles each time it eats food (e.g. if the length is 4, after eating it becomes 8).\n",
        "Create a function that takes the side n of the game screen and returns the number of times the snake can eat before it runs out of space in the game screen.\n",
        "\n",
        "Examples\n",
        "\n",
        "snakefill(3) ➞ 3\n",
        "\n",
        "snakefill(6) ➞ 5\n",
        "\n",
        "snakefill(24) ➞ 9"
      ]
    },
    {
      "cell_type": "code",
      "metadata": {
        "colab": {
          "base_uri": "https://localhost:8080/"
        },
        "id": "BwiPiCYQCJh0",
        "outputId": "bd81c8ba-1589-4172-911d-17cbc6e97c3a"
      },
      "source": [
        "def snakefill(n) :\n",
        "  size = 1\n",
        "  counter = 0\n",
        "  while size * 2 < n ** 2 :\n",
        "    counter += 1 \n",
        "    size *= 2\n",
        "  return counter\n",
        "snakefill(24)"
      ],
      "execution_count": 6,
      "outputs": [
        {
          "output_type": "execute_result",
          "data": {
            "text/plain": [
              "9"
            ]
          },
          "metadata": {},
          "execution_count": 6
        }
      ]
    }
  ]
}