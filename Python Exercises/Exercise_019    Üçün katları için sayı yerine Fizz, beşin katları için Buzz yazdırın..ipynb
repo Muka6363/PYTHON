{
  "nbformat": 4,
  "nbformat_minor": 0,
  "metadata": {
    "colab": {
      "name": "Exercise - 19.ipynb",
      "provenance": [],
      "collapsed_sections": []
    },
    "kernelspec": {
      "name": "python3",
      "display_name": "Python 3"
    },
    "language_info": {
      "name": "python"
    }
  },
  "cells": [
    {
      "cell_type": "markdown",
      "metadata": {
        "id": "n54TejZ6Be-X"
      },
      "source": [
        "Exercise - 19\n",
        "\n",
        "Write a Python program which iterates the integers from 1 to 50. For multiples of three print \"Fizz\" instead of the number and for the multiples of five print \"Buzz\". For numbers which are multiples of both three and five print \"FizzBuzz\".\n",
        "\n",
        "1'den 50'ye kadar tamsayıları yineleyen bir Python programı yazın. Üçün katları için sayı yerine \"Fizz\", beşin katları için \"Buzz\" yazdırın. Hem üç hem de beşin katı olan sayılar için \"FizzBuzz\" yazdırın.\n",
        "\n",
        "Sample Output :\n",
        "\n",
        "1\n",
        "\n",
        "2\n",
        "\n",
        "fizz\n",
        "\n",
        "4\n",
        "\n",
        "buzz\n",
        "\n",
        ".\n",
        "\n",
        ".\n",
        "\n",
        "."
      ]
    },
    {
      "cell_type": "code",
      "metadata": {
        "colab": {
          "base_uri": "https://localhost:8080/"
        },
        "id": "EDeSG45EBfFc",
        "outputId": "16d6e64c-9dd8-41b5-d47a-8abd99be1817"
      },
      "source": [
        "for i in range(1, 51) :\n",
        "  if i % 3 == 0 and i % 5 == 0 :\n",
        "    print(\"FizzBuzz\")\n",
        "  elif i % 3 == 0 :\n",
        "    print(\"Fizz\")\n",
        "  elif i % 5 == 0 :\n",
        "    print(\"Buzz\")\n",
        "  else :\n",
        "    print(i) "
      ],
      "execution_count": 1,
      "outputs": [
        {
          "output_type": "stream",
          "name": "stdout",
          "text": [
            "1\n",
            "2\n",
            "Fizz\n",
            "4\n",
            "Buzz\n",
            "Fizz\n",
            "7\n",
            "8\n",
            "Fizz\n",
            "Buzz\n",
            "11\n",
            "Fizz\n",
            "13\n",
            "14\n",
            "FizzBuzz\n",
            "16\n",
            "17\n",
            "Fizz\n",
            "19\n",
            "Buzz\n",
            "Fizz\n",
            "22\n",
            "23\n",
            "Fizz\n",
            "Buzz\n",
            "26\n",
            "Fizz\n",
            "28\n",
            "29\n",
            "FizzBuzz\n",
            "31\n",
            "32\n",
            "Fizz\n",
            "34\n",
            "Buzz\n",
            "Fizz\n",
            "37\n",
            "38\n",
            "Fizz\n",
            "Buzz\n",
            "41\n",
            "Fizz\n",
            "43\n",
            "44\n",
            "FizzBuzz\n",
            "46\n",
            "47\n",
            "Fizz\n",
            "49\n",
            "Buzz\n"
          ]
        }
      ]
    }
  ]
}