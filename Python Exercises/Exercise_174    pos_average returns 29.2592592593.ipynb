{
  "nbformat": 4,
  "nbformat_minor": 0,
  "metadata": {
    "colab": {
      "name": "Exercise - 174",
      "provenance": [],
      "collapsed_sections": []
    },
    "kernelspec": {
      "name": "python3",
      "display_name": "Python 3"
    },
    "language_info": {
      "name": "python"
    }
  },
  "cells": [
    {
      "cell_type": "markdown",
      "source": [
        "**Exercise - 174 | ?def | ?while loop | ?nested for loop | ?range() | ?len() | ?split() | ?remove()**\n",
        "\n",
        "Suppose you have 4 numbers: **'0', '9', '6', '4'** and 3 strings composed with them :\n",
        "\n",
        "s1 = \"6900690040\"\n",
        "\n",
        "s2 = \"4690606946\"\n",
        "\n",
        "s3 = \"9990494604\"\n",
        "\n",
        "Compare **s1** and **s2** to see how many positions they have in common: **0** at index 3, **6** at index 4, **4** at index 8 ie 3 common positions out of ten.\n",
        "\n",
        "Compare **s1** and **s3** to see how many positions they have in common: **9** at index 1, **0** at index 3, **9** at index 5 ie 3 common positions out of ten.\n",
        "\n",
        "Compare **s2** and **s3**. We find 2 common positions out of ten.\n",
        "\n",
        "So for the 3 strings we have 8 common positions out of 30 ie 0.2666... or 26.666...%\n",
        "\n",
        "Given **n** substrings (n >= 2) in a string **s** our function **pos_average** will calculate the average percentage of positions that are the same between the **(n * (n-1)) / 2** sets of substrings taken amongst the given **n** substrings. It can happen that some substrings are duplicate but since their ranks are not the same in **s** they are considered as different substrings.\n",
        "\n",
        "The function returns the percentage formatted as a float with 10 decimals but the result is tested at 1e.-9 (see function assertFuzzy in the tests).\n",
        "\n",
        "Example:\n",
        "\n",
        "Given string s = \"444996, 699990, 666690, 096904, 600644, 640646, 606469, 409694, 666094, 606490\" composing a set of n = 10 substrings (hence 45 combinations), **pos_average** returns **29.2592592593**.\n",
        "\n",
        "In a set the **n** substrings will have the same length ( > 0 )."
      ],
      "metadata": {
        "id": "gLvH1HX6akI9"
      }
    },
    {
      "cell_type": "code",
      "source": [
        "s = list(\"444996, 699990, 666690, 096904, 600644,\\\n",
        " 640646, 606469, 409694, 666094, 606490\".split(\", \"))\n",
        "a = \"\"\n",
        "combinations = len(s)*(len(s)-1)/2*len(s[0])\n",
        "counter = 0\n",
        "while len(s) > 0:\n",
        "  a = s[0]\n",
        "  for i in s:\n",
        "    for j in range(len(i)):\n",
        "      if a != i and a[j] == i[j]:\n",
        "        counter += 1\n",
        "  s.remove(s[0])   \n",
        "print(counter/combinations*100)"
      ],
      "metadata": {
        "colab": {
          "base_uri": "https://localhost:8080/"
        },
        "id": "H6uHUBKmakP_",
        "outputId": "c27d1c3e-68ed-4ee1-9908-33171cc25260"
      },
      "execution_count": 1,
      "outputs": [
        {
          "output_type": "stream",
          "name": "stdout",
          "text": [
            "29.259259259259256\n"
          ]
        }
      ]
    },
    {
      "cell_type": "code",
      "source": [
        "def pos_average(s):\n",
        "    values = s.split(\", \")\n",
        "    count, total = 0, 0\n",
        "    for i in range(len(values)-1):\n",
        "        for j in range(i+1,len(values)):\n",
        "            for k in range(len(values[i])):\n",
        "                if values[i][k] == values[j][k]: count += 1\n",
        "                total += 1\n",
        "    return count / total * 100\n",
        "pos_average(\"444996, 699990, 666690, 096904, 600644, 640646, 606469, 409694, 666094, 606490\")"
      ],
      "metadata": {
        "colab": {
          "base_uri": "https://localhost:8080/"
        },
        "id": "Or89ELV6bwpO",
        "outputId": "f061fafd-f97d-47d3-8b4d-8b4065b58252"
      },
      "execution_count": 2,
      "outputs": [
        {
          "output_type": "execute_result",
          "data": {
            "text/plain": [
              "29.259259259259256"
            ]
          },
          "metadata": {},
          "execution_count": 2
        }
      ]
    }
  ]
}