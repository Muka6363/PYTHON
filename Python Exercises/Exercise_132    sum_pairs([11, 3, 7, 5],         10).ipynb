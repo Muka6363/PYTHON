{
  "nbformat": 4,
  "nbformat_minor": 0,
  "metadata": {
    "colab": {
      "name": "Exercise - 132",
      "provenance": [],
      "collapsed_sections": []
    },
    "kernelspec": {
      "name": "python3",
      "display_name": "Python 3"
    },
    "language_info": {
      "name": "python"
    }
  },
  "cells": [
    {
      "cell_type": "markdown",
      "metadata": {
        "id": "Rz4DmHZ13wSd"
      },
      "source": [
        "**Exercise - 132 | ?def | ?for loop | ?append() | ?comprehension | ?add() | ?filter()**\n",
        "\n",
        "Sum of Pairs\n",
        "\n",
        "Given a list of integers and a single sum value, return the first two values (parse from the left please) in order of appearance that add up to form the sum.\n",
        "\n",
        "# sum_pairs([11, 3, 7, 5],         10)\n",
        "#              ^--^      3 + 7 = 10\n",
        "# == [3, 7]\n",
        "\n",
        "# sum_pairs([4, 3, 2, 3, 4],         6)\n",
        "#          ^-----^         4 + 2 = 6, indices: 0, 2 *\n",
        "#             ^-----^      3 + 3 = 6, indices: 1, 3\n",
        "#                ^-----^   2 + 4 = 6, indices: 2, 4\n",
        "#  * entire pair is earlier, and therefore is the correct answer\n",
        "# == [4, 2]\n",
        "\n",
        "# sum_pairs([0, 0, -2, 3], 2)\n",
        "#  there are no pairs of values that can be added to produce 2.\n",
        "# == None/nil/undefined (Based on the language)\n",
        "\n",
        "# sum_pairs([10, 5, 2, 3, 7, 5],         10)\n",
        "#              ^-----------^   5 + 5 = 10, indices: 1, 5\n",
        "#                    ^--^      3 + 7 = 10, indices: 3, 4 *\n",
        "#  * entire pair is earlier, and therefore is the correct answer\n",
        "# == [3, 7]\n",
        "\n",
        "![image.png](data:image/png;base64,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)\n",
        "\n",
        "Negative numbers and duplicate numbers can and will appear.\n",
        "NOTE: There will also be lists tested of lengths upwards of 10,000,000 elements. Be sure your code doesn't time out."
      ]
    },
    {
      "cell_type": "code",
      "metadata": {
        "id": "tEYDoNDi3wZr"
      },
      "source": [
        "def sum_pairs(lst, s):\n",
        "    cache = set()\n",
        "    for i in lst:\n",
        "        if s - i in cache:\n",
        "            return [s - i, i]\n",
        "        cache.add(i)"
      ],
      "execution_count": null,
      "outputs": []
    },
    {
      "cell_type": "code",
      "metadata": {
        "colab": {
          "base_uri": "https://localhost:8080/"
        },
        "id": "-eVjtrla7uQC",
        "outputId": "1ca3f967-d789-45c1-811d-7b9e7f5a4ac9"
      },
      "source": [
        "def sum_pairs(liste, x) :\n",
        "  yedek_liste = []\n",
        "  for i in liste:\n",
        "    if x - i in set(yedek_liste) :\n",
        "      return [x - i, i]\n",
        "    yedek_liste.append(i)\n",
        "sum_pairs([4, 3, 2, 3, 4], 6)"
      ],
      "execution_count": null,
      "outputs": [
        {
          "output_type": "execute_result",
          "data": {
            "text/plain": [
              "[4, 2]"
            ]
          },
          "metadata": {},
          "execution_count": 10
        }
      ]
    },
    {
      "cell_type": "code",
      "metadata": {
        "colab": {
          "base_uri": "https://localhost:8080/"
        },
        "id": "rDRDp8ZCB_1b",
        "outputId": "519c640e-8e18-4219-c6fa-16e9a4d0a103"
      },
      "source": [
        "def sum_pairs(liste, x) :\n",
        "  yedek_liste = []\n",
        "  for i in liste:\n",
        "    if x - i in set(yedek_liste) :\n",
        "      return [x - i, i]\n",
        "    else :\n",
        "      yedek_liste.append(i)\n",
        "  return yedek_liste\n",
        "sum_pairs([4, 3, 2, 3, 4], 6)"
      ],
      "execution_count": null,
      "outputs": [
        {
          "output_type": "execute_result",
          "data": {
            "text/plain": [
              "[4, 2]"
            ]
          },
          "metadata": {},
          "execution_count": 30
        }
      ]
    },
    {
      "cell_type": "code",
      "metadata": {
        "colab": {
          "base_uri": "https://localhost:8080/"
        },
        "id": "bxRWf56oGdkg",
        "outputId": "ff85cce3-c62c-4786-c356-02222914efb0"
      },
      "source": [
        "def sum_pairs(liste, x) :\n",
        "  yedek_liste = []\n",
        "  for i in liste:\n",
        "    if x - i in set(yedek_liste) :\n",
        "      return [x - i, i]\n",
        "    else :\n",
        "      yedek_liste.append(i)\n",
        "\n",
        "sum_pairs([4, 3, 2, 3, 4], 6)"
      ],
      "execution_count": null,
      "outputs": [
        {
          "output_type": "execute_result",
          "data": {
            "text/plain": [
              "[4, 2]"
            ]
          },
          "metadata": {},
          "execution_count": 32
        }
      ]
    },
    {
      "cell_type": "code",
      "metadata": {
        "colab": {
          "base_uri": "https://localhost:8080/"
        },
        "id": "6zU2tkeyGwZC",
        "outputId": "8a09037e-bcb9-40a8-f02b-c48a8702ac83"
      },
      "source": [
        "def sum_pairs(liste, x) :\n",
        "  yedek_liste, output = [], []\n",
        "  output = [[x - i, i] if x - i in set(yedek_liste) else yedek_liste.append(i) for i in liste]\n",
        "  print(*filter(None, output))\n",
        "sum_pairs([4, 3, 2, 3, 4], 6)"
      ],
      "execution_count": null,
      "outputs": [
        {
          "output_type": "stream",
          "name": "stdout",
          "text": [
            "[4, 2] [3, 3]\n"
          ]
        }
      ]
    },
    {
      "cell_type": "code",
      "metadata": {
        "colab": {
          "base_uri": "https://localhost:8080/"
        },
        "id": "DqPMASPJJoLF",
        "outputId": "984d61de-bf85-4da6-f0cd-2c730e9f1815"
      },
      "source": [
        "def sum_pairs(liste, x) :\n",
        "  yedek_liste, output = [], []\n",
        "  output = (filter(None, [[x - i, i] if x - i in set(yedek_liste) else yedek_liste.append(i) for i in liste]))\n",
        "  for i in output :\n",
        "    print(i)\n",
        "    break\n",
        "\n",
        "sum_pairs([4, 3, 2, 3, 4], 6)"
      ],
      "execution_count": null,
      "outputs": [
        {
          "output_type": "stream",
          "name": "stdout",
          "text": [
            "[4, 2]\n"
          ]
        }
      ]
    }
  ]
}