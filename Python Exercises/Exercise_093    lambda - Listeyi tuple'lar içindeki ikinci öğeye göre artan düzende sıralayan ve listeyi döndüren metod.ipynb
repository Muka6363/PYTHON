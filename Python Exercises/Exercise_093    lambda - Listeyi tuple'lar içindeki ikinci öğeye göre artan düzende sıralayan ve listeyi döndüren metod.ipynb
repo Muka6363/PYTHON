{
  "nbformat": 4,
  "nbformat_minor": 0,
  "metadata": {
    "colab": {
      "name": "Exercise - 93",
      "provenance": [],
      "collapsed_sections": []
    },
    "kernelspec": {
      "name": "python3",
      "display_name": "Python 3"
    },
    "language_info": {
      "name": "python"
    }
  },
  "cells": [
    {
      "cell_type": "markdown",
      "metadata": {
        "id": "UQMAkTSsdZ0m"
      },
      "source": [
        "**Exercise - 93 | ?nested for loop | ?lambda | ?range() | ?len() | ?sort() | ?sorted() | ?get() | ?index() | ?def**\n",
        "\n",
        "Given a list of tuples, implement a method that sorts the list in ascending order by the second element inside the tuples and returns the list.\n",
        "\n",
        "Bir tuple listesi verildiğinde, listeyi tuple'lar içindeki ikinci öğeye göre artan düzende sıralayan ve listeyi döndüren bir metod uygulayın."
      ]
    },
    {
      "cell_type": "code",
      "metadata": {
        "colab": {
          "base_uri": "https://localhost:8080/"
        },
        "id": "G-8HT4v4dZ65",
        "outputId": "f1a82be5-1e57-4e4c-a479-4fdaf1d29a4b"
      },
      "source": [
        "my_tuple = [('b', 1), ('c', 2), ('x', 3), ('x', 4), ('z', 0)] \n",
        "for i in range(len(my_tuple)) :\n",
        "  for j in range(len(my_tuple) - i - 1) :\n",
        "    if (my_tuple[j][1] > my_tuple[j + 1][1]): \n",
        "                spare_tuple = my_tuple[j] \n",
        "                my_tuple[j] = my_tuple[j + 1] \n",
        "                my_tuple[j + 1] = spare_tuple\n",
        "print(my_tuple)"
      ],
      "execution_count": 3,
      "outputs": [
        {
          "output_type": "stream",
          "name": "stdout",
          "text": [
            "[('z', 0), ('b', 1), ('c', 2), ('x', 3), ('x', 4)]\n"
          ]
        }
      ]
    },
    {
      "cell_type": "code",
      "metadata": {
        "colab": {
          "base_uri": "https://localhost:8080/"
        },
        "id": "Iq9voFYek5nE",
        "outputId": "c8d50735-6c0c-43e4-fc60-14b8273c3a94"
      },
      "source": [
        "my_tuple = [('b', 1), ('c', 2), ('x', 3), ('x', 4), ('z', 0)]\n",
        "my_tuple.sort(key = lambda x:x[1])\n",
        "print(my_tuple)"
      ],
      "execution_count": 7,
      "outputs": [
        {
          "output_type": "stream",
          "name": "stdout",
          "text": [
            "[('z', 0), ('b', 1), ('c', 2), ('x', 3), ('x', 4)]\n"
          ]
        }
      ]
    },
    {
      "cell_type": "code",
      "metadata": {
        "colab": {
          "base_uri": "https://localhost:8080/"
        },
        "id": "UtnGHBDsghMt",
        "outputId": "3b8d70c3-c671-4743-f851-bc203386623a"
      },
      "source": [
        "# Python program to sort a list of\n",
        "# tuples by the second Item using sort() \n",
        "  \n",
        "# Function to sort hte list by second item of tuple\n",
        "def Sort_Tuple(tup): \n",
        "  \n",
        "    # reverse = None (Sorts in Ascending order) \n",
        "    # key is set to sort using second element of \n",
        "    # sublist lambda has been used \n",
        "    tup.sort(key = lambda x: x[1]) \n",
        "    return tup \n",
        "  \n",
        "# Driver Code \n",
        "tup = [('rishav', 10), ('akash', 5), ('ram', 20), ('gaurav', 15)] \n",
        "  \n",
        "# printing the sorted list of tuples\n",
        "print(Sort_Tuple(tup)) "
      ],
      "execution_count": 4,
      "outputs": [
        {
          "output_type": "stream",
          "name": "stdout",
          "text": [
            "[('akash', 5), ('rishav', 10), ('gaurav', 15), ('ram', 20)]\n"
          ]
        }
      ]
    },
    {
      "cell_type": "code",
      "metadata": {
        "colab": {
          "base_uri": "https://localhost:8080/"
        },
        "id": "FB4UBE__ePVU",
        "outputId": "40d5e666-896c-4a62-d205-30db506fcf79"
      },
      "source": [
        "# Function to sort the list of tuples by its second item\n",
        "def Sort_Tuple(tup): \n",
        "      \n",
        "    # getting length of list of tuples\n",
        "    lst = len(tup) \n",
        "    for i in range(0, lst): \n",
        "          \n",
        "        for j in range(0, lst-i-1): \n",
        "            if (tup[j][1] > tup[j + 1][1]): \n",
        "                temp = tup[j] \n",
        "                tup[j]= tup[j + 1] \n",
        "                tup[j + 1]= temp \n",
        "    return tup \n",
        "  \n",
        "# Driver Code \n",
        "tup =[('for', 24), ('is', 10), ('Geeks', 28), \n",
        "      ('Geeksforgeeks', 5), ('portal', 20), ('a', 15)] \n",
        "        \n",
        "print(Sort_Tuple(tup))"
      ],
      "execution_count": 5,
      "outputs": [
        {
          "output_type": "stream",
          "name": "stdout",
          "text": [
            "[('Geeksforgeeks', 5), ('is', 10), ('a', 15), ('portal', 20), ('for', 24), ('Geeks', 28)]\n"
          ]
        }
      ]
    },
    {
      "cell_type": "code",
      "metadata": {
        "colab": {
          "base_uri": "https://localhost:8080/"
        },
        "id": "bQFMHwlmm8MO",
        "outputId": "dd091594-1861-4cc6-e9e5-683e5b8ed03b"
      },
      "source": [
        "harfler = \"abcçdefgğhıijklmnoöprsştuüvyz\"\n",
        "çevrim = {i: harfler.index(i) for i in harfler}\n",
        "\n",
        "isimler = [\"ahmet\", \"ışık\", \"ismail\", \"çiğdem\",\n",
        "           \"can\", \"şule\", \"iskender\"]\n",
        "\n",
        "print(sorted(isimler, key=lambda x: çevrim.get(x[0])))"
      ],
      "execution_count": null,
      "outputs": [
        {
          "output_type": "stream",
          "name": "stdout",
          "text": [
            "['ahmet', 'can', 'çiğdem', 'ışık', 'ismail', 'iskender', 'şule']\n"
          ]
        }
      ]
    },
    {
      "cell_type": "code",
      "metadata": {
        "colab": {
          "base_uri": "https://localhost:8080/"
        },
        "id": "zO0tYZJ7nVWV",
        "outputId": "066c75c9-ffb1-4730-e51e-fcdb8171bfc9"
      },
      "source": [
        "çevrim"
      ],
      "execution_count": null,
      "outputs": [
        {
          "output_type": "execute_result",
          "data": {
            "text/plain": [
              "{'a': 0,\n",
              " 'b': 1,\n",
              " 'c': 2,\n",
              " 'd': 4,\n",
              " 'e': 5,\n",
              " 'f': 6,\n",
              " 'g': 7,\n",
              " 'h': 9,\n",
              " 'i': 11,\n",
              " 'j': 12,\n",
              " 'k': 13,\n",
              " 'l': 14,\n",
              " 'm': 15,\n",
              " 'n': 16,\n",
              " 'o': 17,\n",
              " 'p': 19,\n",
              " 'r': 20,\n",
              " 's': 21,\n",
              " 't': 23,\n",
              " 'u': 24,\n",
              " 'v': 26,\n",
              " 'y': 27,\n",
              " 'z': 28,\n",
              " 'ç': 3,\n",
              " 'ö': 18,\n",
              " 'ü': 25,\n",
              " 'ğ': 8,\n",
              " 'ı': 10,\n",
              " 'ş': 22}"
            ]
          },
          "metadata": {},
          "execution_count": 20
        }
      ]
    },
    {
      "cell_type": "code",
      "metadata": {
        "colab": {
          "base_uri": "https://localhost:8080/"
        },
        "id": "o41R-USqDlAl",
        "outputId": "a6c3e0a5-21c8-43ac-d3be-385e866cff96"
      },
      "source": [
        "list_1 = [('b', 1), ('c', 2), ('x', 3), ('x', 4), ('z', 0)]\n",
        "list_1.insert(0, list_1.pop())\n",
        "print(list_1)"
      ],
      "execution_count": null,
      "outputs": [
        {
          "output_type": "stream",
          "name": "stdout",
          "text": [
            "[('z', 0), ('b', 1), ('c', 2), ('x', 3), ('x', 4)]\n"
          ]
        }
      ]
    },
    {
      "cell_type": "code",
      "metadata": {
        "colab": {
          "base_uri": "https://localhost:8080/"
        },
        "id": "kXMzxPPuENt2",
        "outputId": "0b4dd4e8-8ef6-4401-a875-f2555bfdb6ac"
      },
      "source": [
        "list_1 = [('b', 1), ('c', 2), ('x', 3), ('x', 4), ('z', 0)]\n",
        "def ikinci(x) :\n",
        "  return x[1]\n",
        "list_1.sort(key=ikinci)\n",
        "print(list_1) "
      ],
      "execution_count": null,
      "outputs": [
        {
          "output_type": "stream",
          "name": "stdout",
          "text": [
            "[('z', 0), ('b', 1), ('c', 2), ('x', 3), ('x', 4)]\n"
          ]
        }
      ]
    }
  ]
}