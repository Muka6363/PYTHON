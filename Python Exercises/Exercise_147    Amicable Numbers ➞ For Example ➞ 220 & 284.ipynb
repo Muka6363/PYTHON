{
  "nbformat": 4,
  "nbformat_minor": 0,
  "metadata": {
    "colab": {
      "name": "Exercise - 147",
      "provenance": [],
      "collapsed_sections": []
    },
    "kernelspec": {
      "name": "python3",
      "display_name": "Python 3"
    },
    "language_info": {
      "name": "python"
    }
  },
  "cells": [
    {
      "cell_type": "markdown",
      "metadata": {
        "id": "gfceKLhtOSgz"
      },
      "source": [
        "**Exercise - 147 | ?def | ?comprehension | ?sum() | ?for loop | ?range()**\n",
        "\n",
        "Let d(n) be defined as the sum of proper divisors of n (numbers less than n which divide evenly into n). If d(a) = b and d(b) = a, where a ≠ b, then a and b are an amicable pair and each of a and b are called amicable numbers.\n",
        "\n",
        "For example, the proper divisors of 220 are 1, 2, 4, 5, 10, 11, 20, 22, 44, 55 and 110; therefore d(220) = 284. The proper divisors of 284 are 1, 2, 4, 71 and 142; so d(284) = 220.\n",
        "\n",
        "Evaluate the sum of all the amicable numbers under 10000."
      ]
    },
    {
      "cell_type": "code",
      "metadata": {
        "id": "xAlB808hWEDL"
      },
      "source": [
        "def amicable(nums) :\n",
        "  def n_divice(n):\n",
        "    total = sum([i for i in range(1,n) if n % i == 0])\n",
        "    sum_total = sum([j for j in range(1,total) if total % j == 0])\n",
        "    if n == sum_total and n != total :\n",
        "      return n\n",
        "  return sum([n_divice(k) for k in range(1,nums) if n_divice(k) != None])"
      ],
      "execution_count": 2,
      "outputs": []
    },
    {
      "cell_type": "code",
      "metadata": {
        "colab": {
          "base_uri": "https://localhost:8080/"
        },
        "id": "xxxG6EBMBt2c",
        "outputId": "cefe01b8-7e15-46a7-b223-50ae2fa0ada9"
      },
      "source": [
        "amicable(10000)"
      ],
      "execution_count": 3,
      "outputs": [
        {
          "output_type": "execute_result",
          "data": {
            "text/plain": [
              "31626"
            ]
          },
          "metadata": {},
          "execution_count": 3
        }
      ]
    },
    {
      "cell_type": "code",
      "metadata": {
        "colab": {
          "base_uri": "https://localhost:8080/"
        },
        "id": "7AOv9qa-XIWH",
        "outputId": "410bba41-171d-4663-e2f6-10ccfe78bc9d"
      },
      "source": [
        "def sum_divisors(n) :\n",
        "  sum = 0\n",
        "  for i in range(1, n) :\n",
        "    if not n % i :\n",
        "      sum += i\n",
        "  return sum\n",
        "\n",
        "lst1 = [sum_divisors(a) for a in range(1, 10000)]\n",
        "lst2 = [sum_divisors(b) for b in lst1]\n",
        "total = 0\n",
        "\n",
        "for i in range(1, 10000) :\n",
        "  if i == lst2[i-1] and i != lst1[i-1] :\n",
        "    total += i\n",
        "\n",
        "print(total)"
      ],
      "execution_count": null,
      "outputs": [
        {
          "output_type": "stream",
          "name": "stdout",
          "text": [
            "31626\n"
          ]
        }
      ]
    },
    {
      "cell_type": "code",
      "metadata": {
        "colab": {
          "base_uri": "https://localhost:8080/"
        },
        "id": "pl--FLKYBpFK",
        "outputId": "d33b0c91-754d-447f-b428-a3378f599150"
      },
      "source": [
        " n = 220\n",
        "amicable = []\n",
        "\n",
        " a = sum([i for i in range(1, n) if n % i == 0])\n",
        " b = sum([j for j in range(1, a) if a % j == 0])\n",
        "\n",
        " if a != b :\n",
        "   amicable += [a, b]\n",
        "\n",
        " print(amicable)"
      ],
      "execution_count": 1,
      "outputs": [
        {
          "output_type": "stream",
          "name": "stdout",
          "text": [
            "[284, 220]\n"
          ]
        }
      ]
    }
  ]
}