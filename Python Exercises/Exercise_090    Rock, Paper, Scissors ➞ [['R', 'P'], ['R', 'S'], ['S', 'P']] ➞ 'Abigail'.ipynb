{
  "nbformat": 4,
  "nbformat_minor": 0,
  "metadata": {
    "colab": {
      "name": "Exercise - 90",
      "provenance": [],
      "collapsed_sections": []
    },
    "kernelspec": {
      "name": "python3",
      "display_name": "Python 3"
    },
    "language_info": {
      "name": "python"
    }
  },
  "cells": [
    {
      "cell_type": "markdown",
      "metadata": {
        "id": "oLjSny_1IWgS"
      },
      "source": [
        "**Exercise - 90 | ?for loop | ?sum()**\n",
        "\n",
        "Abigail and Benson are playing Rock, Paper, Scissors.\n",
        "\n",
        "Each game is represented by an array of length 2, where the first element represents what Abigail played and the second element represents what Benson played.\n",
        "\n",
        "Given a sequence of games, determine who wins the most number of matches. If they tie, output \"Tie\".\n",
        "\n",
        "- R stands for Rock\n",
        "\n",
        "- P stands for Paper\n",
        "\n",
        "- S stands for Scissors\n",
        "\n",
        "Examples\n",
        "\n",
        "![image.png](data:image/png;base64,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)"
      ]
    },
    {
      "cell_type": "code",
      "metadata": {
        "colab": {
          "base_uri": "https://localhost:8080/"
        },
        "id": "GsFZvW0UIWn3",
        "outputId": "e845bfed-8e83-4ee0-8c4a-2ad4102ad94f"
      },
      "source": [
        "x = [[\"R\", \"P\"], [\"R\", \"S\"], [\"S\", \"P\"]]\n",
        "winner = []\n",
        "\n",
        "for i in x :\n",
        "  if i[0] == i[-1] :\n",
        "    print(\"Draw!\")\n",
        "  elif (i[0] == \"R\") and (i[-1] == \"S\") :\n",
        "    print(\"Rock beat Scissors\")\n",
        "    winner += [1]\n",
        "  elif i[0] == \"R\" and i[-1] == \"P\" :\n",
        "    print(\"Paper beat Rock\")\n",
        "    winner += [-1]\n",
        "  elif i[0] == \"S\" and i[-1] == \"P\" :\n",
        "    print(\"Scissors beat Paper\")\n",
        "    winner += [1]\n",
        "  elif i[0] ==\"S\" and i[-1] == \"R\" :\n",
        "    print(\"Rock beat Scissors\") \n",
        "    winner += [-1]\n",
        "  elif i[0] == \"P\" and i[-1] ==\"R\" :\n",
        "    print(\"Paper beat Rock\")\n",
        "    winner += [1]\n",
        "  elif i[0] == \"P\" and i[-1] == \"S\" :\n",
        "    print(\"Scissors beat Paper\")\n",
        "    winner += [-1]\n",
        "\n",
        "if sum(winner) == 0 :\n",
        "  print(\"Tie\")\n",
        "elif sum(winner) >= 1 :\n",
        "  print(\"The winner is Abigail\")\n",
        "else:\n",
        "  print(\"The winner is Benson\")"
      ],
      "execution_count": null,
      "outputs": [
        {
          "output_type": "stream",
          "name": "stdout",
          "text": [
            "Paper beat Rock\n",
            "Rock beat Scissors\n",
            "Scissors beat Paper\n",
            "The winner is Abigail\n"
          ]
        }
      ]
    },
    {
      "cell_type": "code",
      "metadata": {
        "colab": {
          "base_uri": "https://localhost:8080/"
        },
        "id": "uiFdp87XYlzM",
        "outputId": "9bde8e2e-1624-4086-e97a-a6b91e207789"
      },
      "source": [
        "game = [[\"P\", \"R\"], [\"S\", \"R\"], [\"P\", \"S\"]]\n",
        "winner = []\n",
        "\n",
        "for i in game :\n",
        "  if i[0] == i[1] :\n",
        "    print(\"Draw!\")\n",
        "  elif i[0] == \"R\" and i[1] == \"S\" :\n",
        "    print(\"Rock beat Scissors\")\n",
        "    winner += [1]\n",
        "  elif i[0] == \"R\" and i[1] == \"P\" :\n",
        "    print(\"Paper beat Rock\")\n",
        "    winner += [-1]\n",
        "  elif i[0] == \"S\" and i[1] == \"P\" :\n",
        "    print(\"Scissors beat Paper\")\n",
        "    winner += [1]\n",
        "  elif i[0] ==\"S\" and i[1] == \"R\" :\n",
        "    print(\"Rock beat Scissors\") \n",
        "    winner += [-1]\n",
        "  elif i[0] == \"P\" and i[1] ==\"R\" :\n",
        "    print(\"Paper beat Rock\")\n",
        "    winner += [1]\n",
        "  elif i[0] == \"P\" and i[1] == \"S\" :\n",
        "    print(\"Scissors beat Paper\")\n",
        "    winner += [-1]\n",
        "\n",
        "if sum(winner) == 0 :\n",
        "  print(\"Tie\")\n",
        "elif sum(winner) >= 1 :\n",
        "  print(\"The winner is Abigail\")\n",
        "else:\n",
        "  print(\"The winner is Benson\")"
      ],
      "execution_count": null,
      "outputs": [
        {
          "output_type": "stream",
          "name": "stdout",
          "text": [
            "Paper beat Rock\n",
            "Rock beat Scissors\n",
            "Scissors beat Paper\n",
            "The winner is Benson\n"
          ]
        }
      ]
    }
  ]
}