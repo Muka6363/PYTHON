{
  "nbformat": 4,
  "nbformat_minor": 0,
  "metadata": {
    "colab": {
      "name": "Exercise_41      Group Anagrams.ipynb",
      "provenance": [],
      "collapsed_sections": []
    },
    "kernelspec": {
      "display_name": "Python 3",
      "name": "python3"
    }
  },
  "cells": [
    {
      "cell_type": "markdown",
      "metadata": {
        "id": "SwnJGTizvU-E"
      },
      "source": [
        "**Exercise - 41 | ?join() | ?sorted() | ?append() | ?dictionary | ?list() | ?anagram | ?group anagram**\n",
        "\n",
        "**Group Anagrams**\n",
        "\n",
        "**Title:**\n",
        "Given an array of strings, you can combine words with different letters. Alphabetic words refer to strings with the same letters but arranged differently.\n",
        "\n",
        "\n",
        "Given an array of strings, group anagrams together.\n",
        "\n",
        "\n",
        "**Example:**\n",
        "\n",
        "**Input:** [\"eat\", \"tea\", \"tan\", \"ate\", \"nat\", \"bat\"]\n",
        "\n",
        "**Output:**\n",
        "\n",
        "[\n",
        "\n",
        "[\"ate\",\"eat\",\"tea\"],\n",
        "\n",
        "[\"nat\",\"tan\"],\n",
        "\n",
        "[\"bat\"]\n",
        "\n",
        "]\n",
        "\n",
        "**Explain:**\n",
        "\n",
        "All inputs are lowercase.\n",
        "Do not consider the order of the answer output.\n",
        "\n",
        "**Note:**\n",
        "\n",
        "All inputs will be in lowercase.\n",
        "The order of your output does not matter."
      ]
    },
    {
      "cell_type": "code",
      "metadata": {
        "colab": {
          "base_uri": "https://localhost:8080/"
        },
        "id": "kAO94TRUvVQ0",
        "outputId": "2b1ba000-9a20-4fe4-9074-1bae0c36bcd6"
      },
      "source": [
        "strings = [\"eat\", \"tea\", \"tan\", \"ate\", \"nat\", \"bat\", \"cat\", \"tac\"]\n",
        "group = {}\n",
        "for i in strings :\n",
        "  kelime = \"\".join(sorted(i))\n",
        "  if kelime in group :\n",
        "    group[kelime].append(i)\n",
        "  else :\n",
        "    group[kelime] = [i]\n",
        "print(list(group.values()))"
      ],
      "execution_count": 1,
      "outputs": [
        {
          "output_type": "stream",
          "name": "stdout",
          "text": [
            "[['eat', 'tea', 'ate'], ['tan', 'nat'], ['bat'], ['cat', 'tac']]\n"
          ]
        }
      ]
    },
    {
      "cell_type": "code",
      "metadata": {
        "colab": {
          "base_uri": "https://localhost:8080/"
        },
        "id": "wrCJY9fEvnot",
        "outputId": "fef60768-afd5-4fec-9625-dd4cf5754890"
      },
      "source": [
        "print(list(group.values()))\n",
        "print(group.values())"
      ],
      "execution_count": 2,
      "outputs": [
        {
          "output_type": "stream",
          "name": "stdout",
          "text": [
            "[['eat', 'tea', 'ate'], ['tan', 'nat'], ['bat'], ['cat', 'tac']]\n",
            "dict_values([['eat', 'tea', 'ate'], ['tan', 'nat'], ['bat'], ['cat', 'tac']])\n"
          ]
        }
      ]
    }
  ]
}