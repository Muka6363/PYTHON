{
  "nbformat": 4,
  "nbformat_minor": 0,
  "metadata": {
    "colab": {
      "name": "Exercise - 23",
      "provenance": [],
      "collapsed_sections": []
    },
    "kernelspec": {
      "name": "python3",
      "display_name": "Python 3"
    },
    "language_info": {
      "name": "python"
    }
  },
  "cells": [
    {
      "cell_type": "markdown",
      "metadata": {
        "id": "aVkhgx6DXFIP"
      },
      "source": [
        "**Exercise - 23**\n",
        "\n",
        "Write a Python function that takes a positive integer and returns the sum of the cube of all the positive integers smaller than the specified number.\n",
        "\n",
        "Pozitif bir tam sayı alan ve belirtilen sayıdan daha küçük tüm pozitif tam sayıların küpünün toplamını döndüren bir Python fonksiyonu yazın."
      ]
    },
    {
      "cell_type": "code",
      "metadata": {
        "colab": {
          "base_uri": "https://localhost:8080/"
        },
        "id": "HiRGIv0vXFN_",
        "outputId": "97700165-0c40-4761-c6b1-36aefecd0da9"
      },
      "source": [
        "number = int(input(\"Please enter a number: \"))\n",
        "print(sum(i ** 3 for i in range(number)))"
      ],
      "execution_count": 1,
      "outputs": [
        {
          "output_type": "stream",
          "name": "stdout",
          "text": [
            "Please enter a number: 5\n",
            "100\n"
          ]
        }
      ]
    },
    {
      "cell_type": "code",
      "metadata": {
        "colab": {
          "base_uri": "https://localhost:8080/"
        },
        "id": "JLikD0b3XZUM",
        "outputId": "9341ca9f-a524-4658-ff0f-f9f18712df66"
      },
      "source": [
        "number = int(input(\"Please enter a number: \"))\n",
        "result = 0\n",
        "for i in range(number) :\n",
        "  result += i ** 3\n",
        "print(result)"
      ],
      "execution_count": 2,
      "outputs": [
        {
          "output_type": "stream",
          "name": "stdout",
          "text": [
            "Please enter a number: 5\n",
            "100\n"
          ]
        }
      ]
    }
  ]
}