{
  "nbformat": 4,
  "nbformat_minor": 0,
  "metadata": {
    "colab": {
      "name": "Exercise - 8.ipynb",
      "provenance": [],
      "collapsed_sections": []
    },
    "kernelspec": {
      "name": "python3",
      "display_name": "Python 3"
    },
    "language_info": {
      "name": "python"
    }
  },
  "cells": [
    {
      "cell_type": "markdown",
      "metadata": {
        "id": "h5POVK05u0yJ"
      },
      "source": [
        "**Exercise-8**\n",
        "\n",
        "Write a Python program to display your details like name, age, address in three different lines.\n",
        "\n",
        "Ad, yaş, adres gibi bilgilerinizi üç farklı satırda gösterecek bir Python programı yazın."
      ]
    },
    {
      "cell_type": "code",
      "metadata": {
        "colab": {
          "base_uri": "https://localhost:8080/"
        },
        "id": "gxclCTiau06w",
        "outputId": "c7f38ff4-85b8-4cb2-b205-8c381c77981d"
      },
      "source": [
        "ad, yas, adres = input(\"Ad & Soyad: \"), input(\"Yaşınız: \"), input(\"Adres: \")\n",
        "print(f\"Ad Soyad: {ad}\\nYaş: {yas}\\nAdres: {adres}\\n\")"
      ],
      "execution_count": 1,
      "outputs": [
        {
          "output_type": "stream",
          "name": "stdout",
          "text": [
            "Ad & Soyad: Oguzhan Hızıroglu\n",
            "Yaşınız: 29\n",
            "Adres: Deniz Sitesi Kat:3 Daire:10\n",
            "Ad Soyad: Oguzhan Hızıroglu\n",
            "Yaş: 29\n",
            "Adres: Deniz Sitesi Kat:3 Daire:10\n",
            "\n"
          ]
        }
      ]
    }
  ]
}