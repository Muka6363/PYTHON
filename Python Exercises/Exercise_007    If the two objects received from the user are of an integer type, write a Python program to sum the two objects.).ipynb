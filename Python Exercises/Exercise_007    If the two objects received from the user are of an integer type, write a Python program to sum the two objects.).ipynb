{
  "nbformat": 4,
  "nbformat_minor": 0,
  "metadata": {
    "colab": {
      "name": "Exercise - 7.ipynb",
      "provenance": [],
      "collapsed_sections": []
    },
    "kernelspec": {
      "name": "python3",
      "display_name": "Python 3"
    },
    "language_info": {
      "name": "python"
    }
  },
  "cells": [
    {
      "cell_type": "markdown",
      "metadata": {
        "id": "Yk8_2u_1uyzR"
      },
      "source": [
        "**Exercise - 7**\n",
        "\n",
        "If the two objects received from the user are of an integer type, write a Python program to sum the two objects.\n",
        "\n",
        "Kullanıcıdan alınan iki nesne eğer tamsayı türündeyse, bu iki nesneyi toplamak için bir Python programı yazın."
      ]
    },
    {
      "cell_type": "code",
      "metadata": {
        "colab": {
          "base_uri": "https://localhost:8080/"
        },
        "id": "-uyb4y72uy65",
        "outputId": "f9c770ba-c6f4-44ad-f7f7-6890baca6093"
      },
      "source": [
        "x = input(\"Please enter data: \")\n",
        "y = input(\"Please enter data: \")\n",
        "\n",
        "if x.isnumeric() and y.isnumeric() :\n",
        "  print(int(x) + int(y))\n",
        "else :\n",
        "  print(\"Your input is not an integer.\")"
      ],
      "execution_count": 1,
      "outputs": [
        {
          "output_type": "stream",
          "name": "stdout",
          "text": [
            "Please enter data: 5\n",
            "Please enter data: 12\n",
            "17\n"
          ]
        }
      ]
    }
  ]
}