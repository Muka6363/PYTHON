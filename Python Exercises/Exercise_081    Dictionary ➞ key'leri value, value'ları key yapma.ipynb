{
  "nbformat": 4,
  "nbformat_minor": 0,
  "metadata": {
    "colab": {
      "name": "Exercise - 81.ipynb",
      "provenance": [],
      "collapsed_sections": []
    },
    "kernelspec": {
      "name": "python3",
      "display_name": "Python 3"
    },
    "language_info": {
      "name": "python"
    }
  },
  "cells": [
    {
      "cell_type": "markdown",
      "metadata": {
        "id": "Je3bm0cK9GWQ"
      },
      "source": [
        "**Exercise - 81 | ?dict() | ?map() | ?reversed() | ?update() | ?comprehension**\n",
        "\n",
        "Write a code that inverts the keys and values of a dictionary.\n",
        "\n",
        "Examples\n",
        "\n",
        "![image.png](data:image/png;base64,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)"
      ]
    },
    {
      "cell_type": "code",
      "metadata": {
        "colab": {
          "base_uri": "https://localhost:8080/"
        },
        "id": "qoiQQ7hi-P-z",
        "outputId": "0a3a2164-d95e-46b6-8304-6cd9f1879116"
      },
      "source": [
        "dict1 = { \"zebra\": \"koala\", \"horse\": \"camel\" }\n",
        "inverted_dict = dict(map(reversed, dict1.items()))\n",
        "inverted_dict"
      ],
      "execution_count": null,
      "outputs": [
        {
          "output_type": "execute_result",
          "data": {
            "text/plain": [
              "{'camel': 'horse', 'koala': 'zebra'}"
            ]
          },
          "metadata": {},
          "execution_count": 6
        }
      ]
    },
    {
      "cell_type": "code",
      "metadata": {
        "colab": {
          "base_uri": "https://localhost:8080/"
        },
        "id": "_KThWYJd-QGW",
        "outputId": "8caaab9b-a055-4709-cfc3-9c4145de61b7"
      },
      "source": [
        "invert = { \"zebra\": \"koala\", \"horse\": \"camel\" }\n",
        "n_invert = {}\n",
        "\n",
        "for x, y in invert.items() :\n",
        "  n_invert[y] = x\n",
        "\n",
        "print(n_invert)"
      ],
      "execution_count": null,
      "outputs": [
        {
          "output_type": "stream",
          "name": "stdout",
          "text": [
            "{'koala': 'zebra', 'camel': 'horse'}\n"
          ]
        }
      ]
    },
    {
      "cell_type": "code",
      "metadata": {
        "colab": {
          "base_uri": "https://localhost:8080/"
        },
        "id": "UUb6Q_nz9Gel",
        "outputId": "877cbc7b-c32b-4c17-b522-3811b0b6cc2c"
      },
      "source": [
        "dict_1 = { \"a\": 1, \"b\": 2, \"c\": 3 }\n",
        "inverted_dict = dict([[x,y] for y,x in dict_1.items()])\n",
        "print(inverted_dict)"
      ],
      "execution_count": null,
      "outputs": [
        {
          "output_type": "stream",
          "name": "stdout",
          "text": [
            "{1: 'a', 2: 'b', 3: 'c'}\n"
          ]
        }
      ]
    },
    {
      "cell_type": "code",
      "metadata": {
        "colab": {
          "base_uri": "https://localhost:8080/"
        },
        "id": "uSDc5vCW-n4m",
        "outputId": "be7673c8-233c-4580-8a29-660ea01850a6"
      },
      "source": [
        "dict_1 = { \"a\": 1, \"b\": 2, \"c\": 3 }\n",
        "inverted_dict = dict([x,y] for y,x in dict_1.items())\n",
        "print(inverted_dict)"
      ],
      "execution_count": null,
      "outputs": [
        {
          "output_type": "stream",
          "name": "stdout",
          "text": [
            "{1: 'a', 2: 'b', 3: 'c'}\n"
          ]
        }
      ]
    },
    {
      "cell_type": "code",
      "metadata": {
        "colab": {
          "base_uri": "https://localhost:8080/"
        },
        "id": "RZcYeDRQ_Ymr",
        "outputId": "c4febb82-c602-46d4-c16b-abf082849eda"
      },
      "source": [
        "dict1 = {\"a\" : \"b\", \"c\" : \"d\"}\n",
        "dict2 = {}\n",
        "\n",
        "for x, y in dict1.items() :\n",
        "  dict2.update({y : x})\n",
        "\n",
        "print(dict2)"
      ],
      "execution_count": null,
      "outputs": [
        {
          "output_type": "stream",
          "name": "stdout",
          "text": [
            "{'b': 'a', 'd': 'c'}\n"
          ]
        }
      ]
    }
  ]
}