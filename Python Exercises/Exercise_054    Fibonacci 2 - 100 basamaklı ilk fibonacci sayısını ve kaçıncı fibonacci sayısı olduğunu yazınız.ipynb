{
  "nbformat": 4,
  "nbformat_minor": 0,
  "metadata": {
    "colab": {
      "name": "Exercise - 054",
      "provenance": [],
      "collapsed_sections": []
    },
    "kernelspec": {
      "name": "python3",
      "display_name": "Python 3"
    },
    "language_info": {
      "name": "python"
    }
  },
  "cells": [
    {
      "cell_type": "markdown",
      "source": [
        "**Exercise - 054 | ?while loop | ?len() | ?str() | ?index()**\n",
        "\n",
        "Write down the first Fibonacci number with 100 digits and what Fibonacci number it is.\n",
        "\n",
        "100 basamaklı ilk fibonacci sayısını ve kaçıncı fibonacci sayısı olduğunu yazınız."
      ],
      "metadata": {
        "id": "aTp2IfJCTdPp"
      }
    },
    {
      "cell_type": "code",
      "source": [
        "a, b = 0, 1\n",
        "fibonacci = [a, b]\n",
        "while len(str(b)) != 100 :\n",
        "  a, b = b, a + b\n",
        "  fibonacci += [b]\n",
        "  if len(str(b)) == 100 :\n",
        "    fibonacci += [b]\n",
        "    break\n",
        "print(len(str(fibonacci[-1])))\n",
        "print(fibonacci[-1])\n",
        "print(fibonacci.index(fibonacci[-1]))"
      ],
      "metadata": {
        "colab": {
          "base_uri": "https://localhost:8080/"
        },
        "id": "n45EK228TdVo",
        "outputId": "32978769-b5ea-4003-f732-6049229bf5e4"
      },
      "execution_count": 2,
      "outputs": [
        {
          "output_type": "stream",
          "name": "stdout",
          "text": [
            "100\n",
            "1344719667586153181419716641724567886890850696275767987106294472017884974410332069524504824747437757\n",
            "476\n"
          ]
        }
      ]
    }
  ]
}