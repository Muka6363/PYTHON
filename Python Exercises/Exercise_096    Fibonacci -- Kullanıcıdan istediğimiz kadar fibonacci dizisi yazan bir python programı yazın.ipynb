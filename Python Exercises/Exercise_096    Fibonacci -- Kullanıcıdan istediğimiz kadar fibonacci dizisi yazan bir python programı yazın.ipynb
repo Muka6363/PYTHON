{
  "nbformat": 4,
  "nbformat_minor": 0,
  "metadata": {
    "colab": {
      "name": "Exercise - 96",
      "provenance": [],
      "collapsed_sections": []
    },
    "kernelspec": {
      "name": "python3",
      "display_name": "Python 3"
    },
    "language_info": {
      "name": "python"
    }
  },
  "cells": [
    {
      "cell_type": "markdown",
      "metadata": {
        "id": "903ZMOvWCdor"
      },
      "source": [
        "**Exercise - 96 | ?for loop | ?input() | ?range() | ?len()**\n",
        "\n",
        "Write a python program that writes as many fibonacci sequences as we want from the user\n",
        "\n",
        "Example ; 0 , 1, 1, 2, 3, 5, 8 ( first seven fibonacci numbers)"
      ]
    },
    {
      "cell_type": "code",
      "metadata": {
        "colab": {
          "base_uri": "https://localhost:8080/"
        },
        "id": "iWjwtwynExbn",
        "outputId": "61a74f5f-4dde-41fa-a90a-200aab5f0963"
      },
      "source": [
        "a, b = 0, 1\n",
        "fibonacci = [a, b]\n",
        "for i in range(100 - len(fibonacci)) :\n",
        "  a, b = b, a + b\n",
        "  fibonacci += [b]\n",
        "print(fibonacci)\n",
        "print(len(fibonacci))"
      ],
      "execution_count": 1,
      "outputs": [
        {
          "output_type": "stream",
          "name": "stdout",
          "text": [
            "[0, 1, 1, 2, 3, 5, 8, 13, 21, 34, 55, 89, 144, 233, 377, 610, 987, 1597, 2584, 4181, 6765, 10946, 17711, 28657, 46368, 75025, 121393, 196418, 317811, 514229, 832040, 1346269, 2178309, 3524578, 5702887, 9227465, 14930352, 24157817, 39088169, 63245986, 102334155, 165580141, 267914296, 433494437, 701408733, 1134903170, 1836311903, 2971215073, 4807526976, 7778742049, 12586269025, 20365011074, 32951280099, 53316291173, 86267571272, 139583862445, 225851433717, 365435296162, 591286729879, 956722026041, 1548008755920, 2504730781961, 4052739537881, 6557470319842, 10610209857723, 17167680177565, 27777890035288, 44945570212853, 72723460248141, 117669030460994, 190392490709135, 308061521170129, 498454011879264, 806515533049393, 1304969544928657, 2111485077978050, 3416454622906707, 5527939700884757, 8944394323791464, 14472334024676221, 23416728348467685, 37889062373143906, 61305790721611591, 99194853094755497, 160500643816367088, 259695496911122585, 420196140727489673, 679891637638612258, 1100087778366101931, 1779979416004714189, 2880067194370816120, 4660046610375530309, 7540113804746346429, 12200160415121876738, 19740274219868223167, 31940434634990099905, 51680708854858323072, 83621143489848422977, 135301852344706746049, 218922995834555169026]\n",
            "100\n"
          ]
        }
      ]
    },
    {
      "cell_type": "code",
      "metadata": {
        "colab": {
          "base_uri": "https://localhost:8080/"
        },
        "id": "gpBl7kZaFX1y",
        "outputId": "162c0f85-f33b-41f8-d989-71c1e0bb37d4"
      },
      "source": [
        "n = int(input(\"\"))\n",
        "a, b = 0, 1\n",
        "fibonacci = [a, b]\n",
        "for i in range(n - len(fibonacci)) :\n",
        "  a, b = b, a + b\n",
        "  fibonacci += [b]\n",
        "print(fibonacci)"
      ],
      "execution_count": 2,
      "outputs": [
        {
          "output_type": "stream",
          "name": "stdout",
          "text": [
            "10\n",
            "[0, 1, 1, 2, 3, 5, 8, 13, 21, 34]\n"
          ]
        }
      ]
    }
  ]
}