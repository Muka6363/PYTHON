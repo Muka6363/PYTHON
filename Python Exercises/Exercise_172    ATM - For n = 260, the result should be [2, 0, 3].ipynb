{
  "nbformat": 4,
  "nbformat_minor": 0,
  "metadata": {
    "colab": {
      "name": "Exercise - 172",
      "provenance": [],
      "collapsed_sections": []
    },
    "kernelspec": {
      "name": "python3",
      "display_name": "Python 3"
    },
    "language_info": {
      "name": "python"
    }
  },
  "cells": [
    {
      "cell_type": "markdown",
      "source": [
        "**Exercise - 172 | ?def | ?int() | ?input() | ?append() | ?modulus | ?floor division**\n",
        "\n",
        "An **ATM** ran out of 10 dollar bills and only has **100, 50 and 20** dollar bills.\n",
        "\n",
        "Given an amount between **40 and 10000 dollars (inclusive)** and assuming that the ATM wants to use as few bills as possible, determinate the minimal number of 100, 50 and 20 dollar bills the ATM needs to dispense (in that order).\n",
        "\n",
        "**Example**\n",
        "\n",
        "For **n = 250**, the result should be **[2, 1, 0]**.\n",
        "\n",
        "For **n = 260**, the result should be **[2, 0, 3]**.\n",
        "\n",
        "For **n = 370**, the result should be **[3, 1, 1]**.\n",
        "\n",
        "**Input/Output**\n",
        "\n",
        "- **[input]** integer **n** Amount of money to withdraw. Assume that n is always exchangeable with **[100, 50, 20]** bills.\n",
        "\n",
        "- **[output]** integer array An array of number of **100, 50 and 20** dollar bills needed to complete the withdraw (in that order)."
      ],
      "metadata": {
        "id": "-oSskhigxwRr"
      }
    },
    {
      "cell_type": "code",
      "source": [
        "def atm_input():\n",
        "    money = int(input(\"Please enter an amount of money: \"))\n",
        "    list_ = []\n",
        "    while money:\n",
        "        if money // 100 :\n",
        "            list_.append(money // 100)\n",
        "            money = money % 100\n",
        "        else:\n",
        "            list_.append(0)\n",
        "        if money // 50 and not (money % 50) % 20: \n",
        "            list_.append(money // 50)\n",
        "            money = money % 50\n",
        "        else:\n",
        "            list_.append(0)\n",
        "        if money // 20:\n",
        "            list_.append(money // 20)\n",
        "        else:\n",
        "            list_.append(0)\n",
        "        break\n",
        "    return list_\n",
        "\n",
        "atm_input()"
      ],
      "metadata": {
        "colab": {
          "base_uri": "https://localhost:8080/"
        },
        "id": "qgwHwCv-xwXy",
        "outputId": "9cf8a6a4-2981-45b1-fd8d-87712689751c"
      },
      "execution_count": 5,
      "outputs": [
        {
          "name": "stdout",
          "output_type": "stream",
          "text": [
            "Please enter an amount of money: 370\n"
          ]
        },
        {
          "output_type": "execute_result",
          "data": {
            "text/plain": [
              "[3, 1, 1]"
            ]
          },
          "metadata": {},
          "execution_count": 5
        }
      ]
    },
    {
      "cell_type": "code",
      "source": [
        "def atm_input(money):\n",
        "    list_ = []\n",
        "    while money:\n",
        "        if money // 100 :\n",
        "            list_.append(money // 100)\n",
        "            money = money % 100\n",
        "        else:\n",
        "            list_.append(0)\n",
        "        if money // 50 and not (money % 50) % 20: \n",
        "            list_.append(money // 50)\n",
        "            money = money % 50\n",
        "        else:\n",
        "            list_.append(0)\n",
        "        if money // 20:\n",
        "            list_.append(money // 20)\n",
        "        else:\n",
        "            list_.append(0)\n",
        "        break\n",
        "    return list_\n",
        "\n",
        "atm_input(260)"
      ],
      "metadata": {
        "colab": {
          "base_uri": "https://localhost:8080/"
        },
        "id": "tFzj25vhzazJ",
        "outputId": "1958c40c-fce0-40b5-ec69-407468ea2031"
      },
      "execution_count": 9,
      "outputs": [
        {
          "output_type": "execute_result",
          "data": {
            "text/plain": [
              "[2, 0, 3]"
            ]
          },
          "metadata": {},
          "execution_count": 9
        }
      ]
    }
  ]
}