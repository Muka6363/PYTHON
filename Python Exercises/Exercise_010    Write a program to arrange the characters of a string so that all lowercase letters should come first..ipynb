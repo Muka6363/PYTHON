{
  "nbformat": 4,
  "nbformat_minor": 0,
  "metadata": {
    "colab": {
      "name": "Exercise - 10.ipynb",
      "provenance": [],
      "collapsed_sections": []
    },
    "kernelspec": {
      "name": "python3",
      "display_name": "Python 3"
    },
    "language_info": {
      "name": "python"
    }
  },
  "cells": [
    {
      "cell_type": "markdown",
      "metadata": {
        "id": "B_oP0R0r2rUi"
      },
      "source": [
        "**Exercise - 10**\n",
        "\n",
        "Given string contains a combination of the lower and upper case letters. Write a program to arrange the characters of a string so that all lowercase letters should come first.\n",
        "\n",
        "Verilen string, küçük ve büyük harflerin bir kombinasyonunu içerir. Bir stringin karakterlerini, tüm küçük harflerin önce gelmesi için sıralayan bir program yazın."
      ]
    },
    {
      "cell_type": "code",
      "metadata": {
        "colab": {
          "base_uri": "https://localhost:8080/"
        },
        "id": "F4iozdpr2ral",
        "outputId": "7498a85a-2d8e-412c-a8fe-040d509568e5"
      },
      "source": [
        "word = \"NeverGiveUp\"\n",
        "lower_case = \"\"\n",
        "upper_case = \"\"\n",
        "\n",
        "for i in word :\n",
        "  if i.isupper() :\n",
        "    upper_case += i\n",
        "  else :\n",
        "    lower_case += i\n",
        "\n",
        "print(lower_case + upper_case)"
      ],
      "execution_count": 1,
      "outputs": [
        {
          "output_type": "stream",
          "name": "stdout",
          "text": [
            "everivepNGU\n"
          ]
        }
      ]
    }
  ]
}