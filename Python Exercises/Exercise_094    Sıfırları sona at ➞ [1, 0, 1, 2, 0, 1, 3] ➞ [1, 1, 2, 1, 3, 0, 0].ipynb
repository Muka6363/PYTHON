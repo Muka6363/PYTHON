{
  "nbformat": 4,
  "nbformat_minor": 0,
  "metadata": {
    "colab": {
      "name": "Exercise - 94",
      "provenance": [],
      "collapsed_sections": []
    },
    "kernelspec": {
      "name": "python3",
      "display_name": "Python 3"
    },
    "language_info": {
      "name": "python"
    }
  },
  "cells": [
    {
      "cell_type": "markdown",
      "metadata": {
        "id": "T1XSwzJaN8LS"
      },
      "source": [
        "**Exercise - 94 | ?count() | ?for loop | ?range() | ?remove() | ?append() | ?index() | ?pop() | ?while loop**\n",
        "\n",
        "Write an algorithm that takes an array and moves all of the zeros to the end, preserving the order of the other elements.\n",
        "\n",
        "sample = [1, 0, 1, 2, 0, 1, 3]\n",
        "\n",
        "output = [1, 1, 2, 1, 3, 0, 0]"
      ]
    },
    {
      "cell_type": "code",
      "metadata": {
        "colab": {
          "base_uri": "https://localhost:8080/"
        },
        "id": "hFmpFEF5N8Sj",
        "outputId": "b57f00a0-99fc-41ad-b7d4-ef5b493ecc0a"
      },
      "source": [
        "sample, x = [1, 0, 1, 2, 0, 1, 3], sample.count(0)\n",
        "\n",
        "for i in range(x) :\n",
        "  sample.remove(0)\n",
        "\n",
        "for j in range(x) :\n",
        "  sample.append(0)\n",
        "\n",
        "print(sample)"
      ],
      "execution_count": null,
      "outputs": [
        {
          "output_type": "stream",
          "name": "stdout",
          "text": [
            "[1, 1, 2, 1, 3, 0, 0]\n"
          ]
        }
      ]
    },
    {
      "cell_type": "code",
      "metadata": {
        "colab": {
          "base_uri": "https://localhost:8080/"
        },
        "id": "_GQ5LpITOHxz",
        "outputId": "3dc1d088-2ac0-4aef-d627-4a9c3ad7ad07"
      },
      "source": [
        "x = [1, 0, 1, 2, 0, 1, 3]\n",
        "for i in x :\n",
        "  if i == 0 :\n",
        "    x.append(x.pop(x.index(i)))\n",
        "print(x)"
      ],
      "execution_count": null,
      "outputs": [
        {
          "output_type": "stream",
          "name": "stdout",
          "text": [
            "[1, 1, 2, 1, 3, 0, 0]\n"
          ]
        }
      ]
    },
    {
      "cell_type": "code",
      "metadata": {
        "colab": {
          "base_uri": "https://localhost:8080/"
        },
        "id": "StAvDFJqURZP",
        "outputId": "4db66487-b98a-4c18-d08b-66b1f6b35b16"
      },
      "source": [
        "sample = [1, 0, 1, 2, 0, 1, 3]\n",
        "\n",
        "new_array = [i for i in sample if i > 0]\n",
        "for i in range(sample.count(0)) :\n",
        "  new_array.append(0)\n",
        "new_array"
      ],
      "execution_count": null,
      "outputs": [
        {
          "output_type": "execute_result",
          "data": {
            "text/plain": [
              "[1, 1, 2, 1, 3, 0, 0]"
            ]
          },
          "metadata": {},
          "execution_count": 33
        }
      ]
    },
    {
      "cell_type": "code",
      "metadata": {
        "colab": {
          "base_uri": "https://localhost:8080/"
        },
        "id": "eau-WEzWU6FF",
        "outputId": "57fafd0c-1ba7-4c18-a95a-f32d7091e08a"
      },
      "source": [
        "array = [1, 0, 2, 1, 0, 1, 3]\n",
        "count = array.count(0)\n",
        "\n",
        "if count :\n",
        "  while 0 in array :\n",
        "    array.remove(0)\n",
        "  for i in range(count) :\n",
        "    array.append(0)\n",
        "\n",
        "print(array)"
      ],
      "execution_count": null,
      "outputs": [
        {
          "output_type": "stream",
          "name": "stdout",
          "text": [
            "[1, 2, 1, 1, 3, 0, 0]\n"
          ]
        }
      ]
    }
  ]
}