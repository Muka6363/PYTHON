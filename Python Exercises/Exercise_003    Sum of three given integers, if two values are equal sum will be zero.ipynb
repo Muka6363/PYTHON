{
  "nbformat": 4,
  "nbformat_minor": 0,
  "metadata": {
    "colab": {
      "name": "Exercise - 3.ipynb",
      "provenance": [],
      "collapsed_sections": []
    },
    "kernelspec": {
      "name": "python3",
      "display_name": "Python 3"
    },
    "language_info": {
      "name": "python"
    }
  },
  "cells": [
    {
      "cell_type": "markdown",
      "metadata": {
        "id": "_AXd7SXDsP1g"
      },
      "source": [
        "**Exercise - 3**\n",
        "\n",
        "Write a Python program to sum of three given integers. However, if two values are equal sum will be zero.\n",
        "\n",
        "Verilen üç tamsayıyı toplayan bir Python programı yazın. Ancak, iki değer eşitse toplam sıfır olacaktır."
      ]
    },
    {
      "cell_type": "code",
      "metadata": {
        "colab": {
          "base_uri": "https://localhost:8080/"
        },
        "id": "uQYpADh6sP6x",
        "outputId": "c725f62a-b75c-423c-a7ba-6e04e5dc21bb"
      },
      "source": [
        "sayi = list(map(int, input(\"\").split()))\n",
        "if sayi[0] == sayi [1] or sayi[1] == sayi [2] or sayi[0] == sayi[2] :\n",
        "  print(\"Toplam:\", 0)\n",
        "else :\n",
        "  print(sum(sayi))"
      ],
      "execution_count": null,
      "outputs": [
        {
          "output_type": "stream",
          "name": "stdout",
          "text": [
            "12 57 57\n",
            "Toplam: 0\n"
          ]
        }
      ]
    }
  ]
}