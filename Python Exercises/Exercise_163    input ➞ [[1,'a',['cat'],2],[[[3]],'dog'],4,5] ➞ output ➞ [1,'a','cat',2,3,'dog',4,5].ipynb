{
  "nbformat": 4,
  "nbformat_minor": 0,
  "metadata": {
    "colab": {
      "name": "Exercise - 163",
      "provenance": [],
      "collapsed_sections": []
    },
    "kernelspec": {
      "name": "python3",
      "display_name": "Python 3"
    },
    "language_info": {
      "name": "python"
    }
  },
  "cells": [
    {
      "cell_type": "markdown",
      "metadata": {
        "id": "3xEPmZhXvVch"
      },
      "source": [
        "**Exercise - 163 | ?def | ?isinstance() | ?type() | ?range() | ?len() | ?append()**\n",
        "\n",
        "Bir listeyi düzleştiren (flatten) fonksiyon yazın. Elemanları birden çok katmanlı listelerden ([[3],2] gibi) oluşabileceği gibi, non-scalar verilerden de oluşabilir. Örnek:\n",
        "\n",
        "input: [[1,'a',['cat'],2],[[[3]],'dog'],4,5]\n",
        "\n",
        "output: [1,'a','cat',2,3,'dog',4,5]"
      ]
    },
    {
      "cell_type": "code",
      "metadata": {
        "colab": {
          "base_uri": "https://localhost:8080/"
        },
        "id": "Be1hfat8zKtB",
        "outputId": "9f78f936-e83f-4232-e35c-2901cecaa3e8"
      },
      "source": [
        "duzeltilmis = [] \n",
        "def flatten(liste) :\n",
        "\n",
        "  for i in range(len(liste)) :\n",
        "    if type(liste[i]) == type([]) :\n",
        "      flatten(liste[i])\n",
        "    else :\n",
        "      duzeltilmis.append(liste[i])\n",
        "  return duzeltilmis\n",
        "\n",
        "flatten([[1, 2], [\"o\", \"s\", \"h\"], [[[[9]]]], 3])"
      ],
      "execution_count": 15,
      "outputs": [
        {
          "output_type": "execute_result",
          "data": {
            "text/plain": [
              "[1, 2, 'o', 's', 'h', 9, 3]"
            ]
          },
          "metadata": {},
          "execution_count": 15
        }
      ]
    },
    {
      "cell_type": "code",
      "metadata": {
        "colab": {
          "base_uri": "https://localhost:8080/"
        },
        "id": "VLJlKjUwvVks",
        "outputId": "86f05021-057f-4ae8-80cd-aaf488980336"
      },
      "source": [
        "def duz_liste(liste) :\n",
        "  if not isinstance(liste, list) :\n",
        "    return [liste]\n",
        "  elif not liste :\n",
        "    return []\n",
        "  else :\n",
        "    return duz_liste(liste[0]) + duz_liste(liste[1:])\n",
        "\n",
        "arry = [[1,'a',['cat'],2],[[[3]],'dog'],4,5]\n",
        "duz_liste(arry)"
      ],
      "execution_count": 2,
      "outputs": [
        {
          "output_type": "execute_result",
          "data": {
            "text/plain": [
              "[1, 'a', 'cat', 2, 3, 'dog', 4, 5]"
            ]
          },
          "metadata": {},
          "execution_count": 2
        }
      ]
    },
    {
      "cell_type": "code",
      "metadata": {
        "colab": {
          "base_uri": "https://localhost:8080/"
        },
        "id": "S66BhJU2xF5N",
        "outputId": "8748c441-0f89-49e2-8dcb-c986e6d3c7f1"
      },
      "source": [
        "new = [] \n",
        "def flatten(liste) :\n",
        "\n",
        "  for i in range(len(liste)) :\n",
        "    if type(liste[i]) == type([]) :\n",
        "      flatten(liste[i])\n",
        "    else :\n",
        "      new.append(liste[i])\n",
        "  return new\n",
        "\n",
        "flatten(arry)"
      ],
      "execution_count": 5,
      "outputs": [
        {
          "output_type": "execute_result",
          "data": {
            "text/plain": [
              "[1, 'a', 'cat', 2, 3, 'dog', 4, 5]"
            ]
          },
          "metadata": {},
          "execution_count": 5
        }
      ]
    }
  ]
}