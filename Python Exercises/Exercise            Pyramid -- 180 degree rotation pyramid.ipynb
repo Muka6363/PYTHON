{
  "nbformat": 4,
  "nbformat_minor": 0,
  "metadata": {
    "colab": {
      "name": "Exercise_Spare4.ipynb",
      "provenance": [],
      "collapsed_sections": []
    },
    "kernelspec": {
      "name": "python3",
      "display_name": "Python 3"
    },
    "language_info": {
      "name": "python"
    }
  },
  "cells": [
    {
      "cell_type": "markdown",
      "metadata": {
        "id": "Exm0dym0y2U_"
      },
      "source": [
        "**Pyramid Different Version - 2**\n",
        "\n",
        "Program to print 180 degree rotation pyramid a using numbers. (User enter the numbers of rows)\n",
        "\n",
        "Sayıları kullanarak 180 derece döndürme Piramid a'yı yazdıran program. (Kullanıcı satır sayısını girer)"
      ]
    },
    {
      "cell_type": "code",
      "metadata": {
        "colab": {
          "base_uri": "https://localhost:8080/"
        },
        "id": "8yENvht6y2bU",
        "outputId": "7d8d4d78-36f1-4dcc-f753-890747ed66eb"
      },
      "source": [
        "number = int(input(\"Enter a number: \"))\n",
        "for i in range(1, number+1) :\n",
        "  print((\"*\" * i).rjust(number))"
      ],
      "execution_count": 1,
      "outputs": [
        {
          "output_type": "stream",
          "name": "stdout",
          "text": [
            "Enter a number: 5\n",
            "    *\n",
            "   **\n",
            "  ***\n",
            " ****\n",
            "*****\n"
          ]
        }
      ]
    },
    {
      "cell_type": "code",
      "metadata": {
        "colab": {
          "base_uri": "https://localhost:8080/"
        },
        "id": "kfpOJ2IJy3IF",
        "outputId": "a5c3d656-5e59-45b6-d816-30eec4a216be"
      },
      "source": [
        "number = int(input(\"Enter a number: \"))\n",
        "for i in range(1, number+1) :\n",
        "  print((number - i) * \" \" + i * \"*\")"
      ],
      "execution_count": 2,
      "outputs": [
        {
          "output_type": "stream",
          "name": "stdout",
          "text": [
            "Enter a number: 5\n",
            "    *\n",
            "   **\n",
            "  ***\n",
            " ****\n",
            "*****\n"
          ]
        }
      ]
    }
  ]
}