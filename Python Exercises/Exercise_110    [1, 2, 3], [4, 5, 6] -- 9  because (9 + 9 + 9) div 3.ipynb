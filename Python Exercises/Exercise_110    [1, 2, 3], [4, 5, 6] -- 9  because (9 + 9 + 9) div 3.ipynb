{
  "nbformat": 4,
  "nbformat_minor": 0,
  "metadata": {
    "colab": {
      "name": "Exercise - 110",
      "provenance": [],
      "collapsed_sections": []
    },
    "kernelspec": {
      "name": "python3",
      "display_name": "Python 3"
    },
    "language_info": {
      "name": "python"
    }
  },
  "cells": [
    {
      "cell_type": "markdown",
      "metadata": {
        "id": "1pPIGAxjuypH"
      },
      "source": [
        "**Exercise - 110 | ?sum() | ?range() | ?len() | ?comprehension**\n",
        "\n",
        "Complete the function that\n",
        "\n",
        "- accepts two integer arrays of equal length\n",
        "- compares the value each member in one array to the corresponding member in the other\n",
        "- squares the absolute value difference between those two values\n",
        "- and returns the average of those squared absolute value difference between each member pair.\n",
        "\n",
        "Examples\n",
        "\n",
        "[1, 2, 3], [4, 5, 6]              -->   9   because (9 + 9 + 9) / 3\n",
        "\n",
        "[10, 20, 10, 2], [10, 25, 5, -2]  -->  16.5 because (0 + 25 + 25 + 16) / 4\n",
        "\n",
        "[-1, 0], [0, -1]                  -->   1   because (1 + 1) / 2"
      ]
    },
    {
      "cell_type": "code",
      "metadata": {
        "colab": {
          "base_uri": "https://localhost:8080/"
        },
        "id": "orv4IaxPuywA",
        "outputId": "27d9ef8d-6c4e-4f5c-e289-6a068badd796"
      },
      "source": [
        "a, b = [1,2,3], [4,5,6]\n",
        "sum([((a[i] - b[i]) ** 2) for i in range(len(a))]) // len(a)"
      ],
      "execution_count": 9,
      "outputs": [
        {
          "output_type": "execute_result",
          "data": {
            "text/plain": [
              "9"
            ]
          },
          "metadata": {},
          "execution_count": 9
        }
      ]
    },
    {
      "cell_type": "code",
      "metadata": {
        "colab": {
          "base_uri": "https://localhost:8080/"
        },
        "id": "olZl_KjnmKmO",
        "outputId": "cdccac33-7567-4f13-ce42-db288027bcef"
      },
      "source": [
        "a, b = [10, 20, 10, 2], [10, 25, 5, -2]\n",
        "sum([((a[i] - b[i]) ** 2) for i in range(len(a))]) / len(a)"
      ],
      "execution_count": 10,
      "outputs": [
        {
          "output_type": "execute_result",
          "data": {
            "text/plain": [
              "16.5"
            ]
          },
          "metadata": {},
          "execution_count": 10
        }
      ]
    },
    {
      "cell_type": "code",
      "metadata": {
        "colab": {
          "base_uri": "https://localhost:8080/"
        },
        "id": "PfBpZYfdl0ET",
        "outputId": "93e1ba84-fa64-4efa-d01f-7bc94c3c5d71"
      },
      "source": [
        "arry1 = [10,20,10,2]\n",
        "arry2 = [10,25,5,-2]\n",
        "\n",
        "print(sum([(arry2[i] - arry1[i]) ** 2 for i in range(len(arry1))]) / len(arry1))"
      ],
      "execution_count": 8,
      "outputs": [
        {
          "output_type": "stream",
          "name": "stdout",
          "text": [
            "16.5\n"
          ]
        }
      ]
    }
  ]
}