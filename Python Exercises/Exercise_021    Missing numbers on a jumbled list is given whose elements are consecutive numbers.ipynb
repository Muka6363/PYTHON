{
  "nbformat": 4,
  "nbformat_minor": 0,
  "metadata": {
    "colab": {
      "name": "Exercise - 21.ipynb",
      "provenance": [],
      "collapsed_sections": []
    },
    "kernelspec": {
      "name": "python3",
      "display_name": "Python 3"
    },
    "language_info": {
      "name": "python"
    }
  },
  "cells": [
    {
      "cell_type": "markdown",
      "metadata": {
        "id": "HgFrVFPfC8dY"
      },
      "source": [
        "**Exercise - 21**\n",
        "\n",
        "A jumbled list is given whose elements are consecutive numbers. Write python code that outputs even numbers of missing numbers that are between the smallest element and the largest element of the list, but not shown in the list.\n",
        "\n",
        "Input\n",
        "\n",
        "liste = [48, 10, 11, 21, 36, 5, 6, 52, 28, 29, 53, 54, 45, 19, 20, 47, 55, 39, 41, 7, 9, 17, 26, 27, 42, 22, 37, 51, 46, 18, 44, 30, 34, 13, 15, 35, 33, 16, 50, 24]\n",
        "\n",
        "Expected Output:\n",
        "\n",
        "8 12 14 32 38 40"
      ]
    },
    {
      "cell_type": "code",
      "metadata": {
        "colab": {
          "base_uri": "https://localhost:8080/"
        },
        "id": "Mg6FN2yYC8j5",
        "outputId": "16998a24-9299-4ba9-f9b4-a25a33c8ec09"
      },
      "source": [
        "liste = [48, 10, 11, 21, 36, 5, 6, 52, 28, 29, 53, 54, 45, 19, 20, 47, 55, 39, 41, 7, 9, 17, 26, 27, 42, 22, 37, 51, 46, 18, 44, 30, 34, 13, 15, 35, 33, 16, 50, 24]\n",
        " \n",
        "missing_nums = [i for i in range(min(liste), max(liste)+1) if i % 2 == 0 and not i in liste]\n",
        "print(* missing_nums)"
      ],
      "execution_count": 1,
      "outputs": [
        {
          "output_type": "stream",
          "name": "stdout",
          "text": [
            "8 12 14 32 38 40\n"
          ]
        }
      ]
    },
    {
      "cell_type": "code",
      "metadata": {
        "colab": {
          "base_uri": "https://localhost:8080/"
        },
        "id": "pJgT8XbRC9iZ",
        "outputId": "c93ec04b-e513-4a50-df70-4f43e21be7ee"
      },
      "source": [
        "# Alternative\n",
        "\n",
        "liste = [48, 10, 11, 21, 36, 5, 6, 52, 28, 29, 53, 54, 45, 19, 20, 47, 55, 39, 41, 7, 9, 17, 26, 27, 42, 22, 37, 51, 46, 18, 44, 30, 34, 13, 15, 35, 33, 16, 50, 24]\n",
        "liste.sort()\n",
        "even_numbers = []\n",
        "\n",
        "for i in range(liste[0], liste[-1] + 1) :\n",
        "  if i not in liste and i % 2 == 0 :\n",
        "    even_numbers.append(i)\n",
        "\n",
        "print(*even_numbers)"
      ],
      "execution_count": 2,
      "outputs": [
        {
          "output_type": "stream",
          "name": "stdout",
          "text": [
            "8 12 14 32 38 40\n"
          ]
        }
      ]
    }
  ]
}