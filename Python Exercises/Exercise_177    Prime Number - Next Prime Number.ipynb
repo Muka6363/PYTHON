{
  "nbformat": 4,
  "nbformat_minor": 0,
  "metadata": {
    "colab": {
      "name": "Exercise - 177",
      "provenance": [],
      "collapsed_sections": []
    },
    "kernelspec": {
      "name": "python3",
      "display_name": "Python 3"
    },
    "language_info": {
      "name": "python"
    }
  },
  "cells": [
    {
      "cell_type": "markdown",
      "source": [
        "**Exercise - 177 | ?nested for loop | ?range() | ?input() | ?def | ?for loop**\n",
        "\n",
        "Get the next prime number!\n",
        "\n",
        "You will get a numbern (>= 0) and your task is to find the next prime number.\n",
        "\n",
        "Make sure to optimize your code: there will numbers tested up to about 10^12.\n",
        "\n",
        "Examples\n",
        "\n",
        "5   =>  7\n",
        "\n",
        "12  =>  13"
      ],
      "metadata": {
        "id": "3s6FRJIMZ4gA"
      }
    },
    {
      "cell_type": "code",
      "source": [
        "number = int(input(\"Please enter a number: \"))\n",
        "for i in range(number + 1 ,10 ** 12) :\n",
        "  for j in range(2, i) :\n",
        "    if i % j == 0 :\n",
        "      break\n",
        "  else:\n",
        "    print(\"Next prime number is: \", i)\n",
        "    break"
      ],
      "metadata": {
        "colab": {
          "base_uri": "https://localhost:8080/"
        },
        "id": "cG1cvqztZ4mF",
        "outputId": "364dc09d-2877-402b-b7f1-191995dde560"
      },
      "execution_count": 2,
      "outputs": [
        {
          "output_type": "stream",
          "name": "stdout",
          "text": [
            "Please enter a number: 5\n",
            "Next prime number is:  7\n"
          ]
        }
      ]
    },
    {
      "cell_type": "code",
      "source": [
        "def isprime(n):   \n",
        "    if n == 2:\n",
        "        return True\n",
        "    elif n < 2 or not n % 2:\n",
        "        return False\n",
        "    else:\n",
        "        for i in range(3, int(n**0.5)+1, 2):\n",
        "            if not n % i:\n",
        "                return False\n",
        "    return True \n",
        "\n",
        "number = int(input(\"Enter a number: \"))\n",
        "\n",
        "for i in range(number+1, number*5):\n",
        "    if isprime(i):\n",
        "        print(i)\n",
        "        break"
      ],
      "metadata": {
        "colab": {
          "base_uri": "https://localhost:8080/"
        },
        "id": "3WRL2vYfav4K",
        "outputId": "9b5f0014-2a59-4960-e9ac-60df61a49352"
      },
      "execution_count": 3,
      "outputs": [
        {
          "output_type": "stream",
          "name": "stdout",
          "text": [
            "Enter a number: 5\n",
            "7\n"
          ]
        }
      ]
    }
  ]
}