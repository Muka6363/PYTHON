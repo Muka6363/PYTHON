{
  "nbformat": 4,
  "nbformat_minor": 0,
  "metadata": {
    "colab": {
      "name": "Exercise - 152",
      "provenance": [],
      "collapsed_sections": []
    },
    "kernelspec": {
      "name": "python3",
      "display_name": "Python 3"
    },
    "language_info": {
      "name": "python"
    }
  },
  "cells": [
    {
      "cell_type": "markdown",
      "metadata": {
        "id": "-jQFJiQHTEef"
      },
      "source": [
        "**Exercise - 152 | ?nested for loop | ?range() | ?append() | ?max()**\n",
        "\n",
        "A palindromic number reads the same both ways. The largest palindrome made from the product of two 2-digit numbers is 9009 = 91 × 99.\n",
        "\n",
        "Find the largest palindrome made from the product of two 3-digit numbers."
      ]
    },
    {
      "cell_type": "code",
      "metadata": {
        "colab": {
          "base_uri": "https://localhost:8080/"
        },
        "id": "xGbtt6rNTEkr",
        "outputId": "5e11dc79-9546-4bb3-b878-73491fe9d7f5"
      },
      "source": [
        "nums = list(range(100,1000))\n",
        "palindrome = 0 \n",
        "for i in nums: \n",
        "  for j in nums :\n",
        "    temp = i * j\n",
        "    if str(temp)== str(temp)[::-1] :\n",
        "      if temp > palindrome :\n",
        "        palindrome = temp\n",
        "print(palindrome)"
      ],
      "execution_count": 2,
      "outputs": [
        {
          "output_type": "stream",
          "name": "stdout",
          "text": [
            "906609\n"
          ]
        }
      ]
    },
    {
      "cell_type": "code",
      "metadata": {
        "colab": {
          "base_uri": "https://localhost:8080/"
        },
        "id": "RhXEFHWXTkOX",
        "outputId": "22406e1d-32ba-45d3-e945-7022f979c249"
      },
      "source": [
        "palindrome = 0 \n",
        "for i in range(100, 1000) :\n",
        "  for j in range(100, 1000) :\n",
        "    temp = i * j\n",
        "    if str(temp) == str(temp)[::-1] :\n",
        "      if temp > palindrome :\n",
        "        palindrome = temp\n",
        "print(palindrome)"
      ],
      "execution_count": 3,
      "outputs": [
        {
          "output_type": "stream",
          "name": "stdout",
          "text": [
            "906609\n"
          ]
        }
      ]
    },
    {
      "cell_type": "code",
      "metadata": {
        "colab": {
          "base_uri": "https://localhost:8080/"
        },
        "id": "ScTIOQveVVgx",
        "outputId": "c7fd1c66-0ef3-496a-c249-8d5d1eec9a90"
      },
      "source": [
        "pal_numbers = []\n",
        "for i in range(100, 1000) :\n",
        "  for j in range(100, 1000) :\n",
        "    palindromic = i * j\n",
        "    if str(palindromic) == str(palindromic)[::-1] :\n",
        "      pal_numbers.append(palindromic)\n",
        "\n",
        "print(max(pal_numbers))"
      ],
      "execution_count": 4,
      "outputs": [
        {
          "output_type": "stream",
          "name": "stdout",
          "text": [
            "906609\n"
          ]
        }
      ]
    }
  ]
}