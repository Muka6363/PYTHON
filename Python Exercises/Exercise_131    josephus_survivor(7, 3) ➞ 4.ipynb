{
  "nbformat": 4,
  "nbformat_minor": 0,
  "metadata": {
    "colab": {
      "name": "Exercise - 131",
      "provenance": [],
      "collapsed_sections": []
    },
    "kernelspec": {
      "name": "python3",
      "display_name": "Python 3"
    },
    "language_info": {
      "name": "python"
    }
  },
  "cells": [
    {
      "cell_type": "markdown",
      "metadata": {
        "id": "BAQAy_HFObyF"
      },
      "source": [
        "**Exercise - 131 | ?def | ?map() | ?input() | ?split() | ?while loop**\n",
        "\n",
        "In this kata you have to correctly return who is the \"survivor\", ie: the last element of a Josephus permutation.\n",
        "\n",
        "Basically you have to assume that n people are put into a circle and that they are eliminated in steps of k elements, like this:\n",
        "\n",
        "josephus_survivor(7,3) => means 7 people in a circle;\n",
        "\n",
        "one every 3 is eliminated until one remains\n",
        "\n",
        "[1,2,3,4,5,6,7] - initial sequence\n",
        "\n",
        "[1,2,4,5,6,7] => 3 is counted out\n",
        "\n",
        "[1,2,4,5,7] => 6 is counted out\n",
        "\n",
        "[1,4,5,7] => 2 is counted out\n",
        "\n",
        "[1,4,5] => 7 is counted out\n",
        "\n",
        "[1,4] => 5 is counted out\n",
        "\n",
        "[4] => 1 counted out, 4 is the last element - the survivor!\n",
        "\n",
        "The above link about the \"base\" kata description will give you a more thorough insight about the origin of this kind of permutation, but basically that's all that there is to know to solve this kata.\n",
        "\n",
        "Notes and tips: using the solution to the other kata to check your function may be helpful, but as much larger numbers will be used, using an array/list to compute the number of the survivor may be too slow; you may assume that both n and k will always be >=1.\n",
        "\n",
        "test.assert_equals(josephus_survivor(7,3),4)\n",
        "\n",
        "test.assert_equals(josephus_survivor(11,19),10)\n",
        "\n",
        "test.assert_equals(josephus_survivor(1,300),1)\n",
        "\n",
        "test.assert_equals(josephus_survivor(14,2),13)\n",
        "\n",
        "test.assert_equals(josephus_survivor(100,1),100)"
      ]
    },
    {
      "cell_type": "code",
      "metadata": {
        "colab": {
          "base_uri": "https://localhost:8080/"
        },
        "id": "vpNrozfDOewv",
        "outputId": "1bd90f80-93c9-4f96-c1ee-4acf2ccbb355"
      },
      "source": [
        "def josephus_survivor(n, k) :\n",
        "  liste = list(range(1, n + 1))\n",
        "\n",
        "  index = k - 1\n",
        "  while len(liste) > 1 :\n",
        "    liste.pop(index)\n",
        "    print(liste)\n",
        "    index = (index + k - 1) % len(liste)\n",
        "\n",
        "n, k = list(map(int, input(\"Please enter n and k numbers: \").split()))\n",
        "josephus_survivor(n, k)\n",
        "    "
      ],
      "execution_count": null,
      "outputs": [
        {
          "output_type": "stream",
          "name": "stdout",
          "text": [
            "Please enter n and k numbers: 7 3\n",
            "[1, 2, 4, 5, 6, 7]\n",
            "[1, 2, 4, 5, 7]\n",
            "[1, 4, 5, 7]\n",
            "[1, 4, 5]\n",
            "[1, 4]\n",
            "[4]\n"
          ]
        }
      ]
    },
    {
      "cell_type": "code",
      "metadata": {
        "colab": {
          "base_uri": "https://localhost:8080/"
        },
        "id": "M1b9HIXnYYLE",
        "outputId": "b822afef-92ce-4d5a-866c-5de8c51d4061"
      },
      "source": [
        "def josephus_survivor(n, k) :\n",
        "  liste = list(range(1, n + 1))\n",
        "\n",
        "  index = k - 1\n",
        "  while len(liste) > 1 :\n",
        "    liste.pop(index)\n",
        "    index = (index + k - 1) % len(liste)\n",
        "  return liste\n",
        "\n",
        "n, k = list(map(int, input(\"Please enter n and k numbers: \").split()))\n",
        "josephus_survivor(n, k)"
      ],
      "execution_count": null,
      "outputs": [
        {
          "name": "stdout",
          "output_type": "stream",
          "text": [
            "Please enter n and k numbers: 7 3\n"
          ]
        },
        {
          "output_type": "execute_result",
          "data": {
            "text/plain": [
              "[4]"
            ]
          },
          "metadata": {},
          "execution_count": 14
        }
      ]
    }
  ]
}