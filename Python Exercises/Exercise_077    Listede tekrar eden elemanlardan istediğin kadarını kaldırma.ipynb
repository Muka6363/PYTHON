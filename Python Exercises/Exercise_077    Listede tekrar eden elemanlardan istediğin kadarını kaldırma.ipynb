{
  "nbformat": 4,
  "nbformat_minor": 0,
  "metadata": {
    "colab": {
      "name": "Exercise - 77.ipynb",
      "provenance": [],
      "collapsed_sections": []
    },
    "kernelspec": {
      "name": "python3",
      "display_name": "Python 3"
    },
    "language_info": {
      "name": "python"
    }
  },
  "cells": [
    {
      "cell_type": "markdown",
      "metadata": {
        "id": "FXXkX6LQkN_2"
      },
      "source": [
        "**Exercise - 77**\n",
        "\n",
        "Enough is enough!\n",
        "\n",
        "Alice and Bob were on a holiday. Both of them took many pictures of the places they've been, and now they want to show Charlie their entire collection. However, Charlie doesn't like these sessions, since the motive usually repeats. He isn't fond of seeing the Eiffel tower 40 times. He tells them that he will only sit during the session if they show the same motive at most N times. Luckily, Alice and Bob are able to encode the motive as a number. Can you help them to remove numbers such that their list contains each number only up to N times, without changing the order?\n",
        "\n",
        "Task\n",
        "\n",
        "Given a list lst and a number N, create a new list that contains each number of lst at most N times without reordering. For example if N = 2, and the input is [1,2,3,1,2,1,2,3], you take [1,2,3,1,2], drop the next [1,2] since this would lead to 1 and 2 being in the result 3 times, and then take 3, which leads to [1,2,3,1,2,3].\n",
        "\n",
        "Example\n",
        "\n",
        "![image.png](data:image/png;base64,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)\n"
      ]
    },
    {
      "cell_type": "code",
      "metadata": {
        "colab": {
          "base_uri": "https://localhost:8080/"
        },
        "id": "QXEJndyakOTT",
        "outputId": "04ecc388-d92c-4208-e8b1-40ee2ff53a35"
      },
      "source": [
        "liste, klon = [1, 3, 2, 2, 3, 1, 1], [1, 3, 2, 2, 3, 1, 1]\n",
        "\n",
        "for i in range(len(liste)) :\n",
        "  if klon.count(liste[i]) > 2 :\n",
        "    klon.pop() \n",
        "\n",
        "print(klon)"
      ],
      "execution_count": null,
      "outputs": [
        {
          "output_type": "stream",
          "name": "stdout",
          "text": [
            "[1, 3, 2, 2, 3, 1]\n"
          ]
        }
      ]
    },
    {
      "cell_type": "code",
      "metadata": {
        "colab": {
          "base_uri": "https://localhost:8080/"
        },
        "id": "aqwFyA2SlcQR",
        "outputId": "c999fad1-40c5-431e-e77a-7c1de131f3f0"
      },
      "source": [
        "liste, klon, n = [1, 3, 2, 2, 3, 1, 1], [1, 3, 2, 2, 3, 1, 1], 2\n",
        "\n",
        "for i in range(len(liste)) :\n",
        "  if klon.count(liste[i]) > n :\n",
        "    klon.pop() \n",
        "\n",
        "print(klon)"
      ],
      "execution_count": null,
      "outputs": [
        {
          "output_type": "stream",
          "name": "stdout",
          "text": [
            "[1, 3, 2, 2, 3, 1]\n"
          ]
        }
      ]
    },
    {
      "cell_type": "code",
      "metadata": {
        "colab": {
          "base_uri": "https://localhost:8080/"
        },
        "id": "By0DOOoTqw3M",
        "outputId": "09230599-4b3b-4711-8dc8-cd451e111468"
      },
      "source": [
        "liste = [1, 2, 3, 1, 2, 3, 2, 3]\n",
        "new_liste = []\n",
        "n = 2\n",
        "\n",
        "for i in range(len(liste)) :\n",
        "  new_liste += [liste[i]]\n",
        "  if new_liste.count(liste[i]) > 2 :\n",
        "    new_liste.pop()\n",
        "    \n",
        "new_liste"
      ],
      "execution_count": null,
      "outputs": [
        {
          "output_type": "execute_result",
          "data": {
            "text/plain": [
              "[1, 2, 3, 1, 2, 3]"
            ]
          },
          "metadata": {},
          "execution_count": 14
        }
      ]
    }
  ]
}