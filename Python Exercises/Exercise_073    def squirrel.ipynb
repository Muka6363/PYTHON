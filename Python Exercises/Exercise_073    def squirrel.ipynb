{
  "nbformat": 4,
  "nbformat_minor": 0,
  "metadata": {
    "colab": {
      "name": "Exercise_073",
      "provenance": [],
      "collapsed_sections": []
    },
    "kernelspec": {
      "name": "python3",
      "display_name": "Python 3"
    },
    "language_info": {
      "name": "python"
    }
  },
  "cells": [
    {
      "cell_type": "markdown",
      "source": [
        "**Exercise - 073 | ?def**\n",
        "\n",
        "The squirrels in Palo Alto spend most of the day playing. In particular, they play if the temperature is between 60 and 90 (inclusive). Unless it is summer, then the upper limit is 100 instead of 90. Given an int temperature and a boolean is_summer, return True if the squirrels play and False otherwise.\n",
        "\n",
        "(70, False) → True\n",
        "\n",
        "(95, False) → False\n",
        "\n",
        "(95, True) → True"
      ],
      "metadata": {
        "id": "xltgFb1iA5j7"
      }
    },
    {
      "cell_type": "code",
      "source": [
        "def squirrel(temp, is_summer):\n",
        "  if is_summer is True and 60 <= temp <= 100 :\n",
        "    return True\n",
        "  elif is_summer is False and 60 <= temp <= 90 :\n",
        "    return True\n",
        "  else:\n",
        "    return False\n",
        "\n",
        "print(squirrel(70, False))\n",
        "print(squirrel(95, False))\n",
        "print(squirrel(95, True))"
      ],
      "metadata": {
        "colab": {
          "base_uri": "https://localhost:8080/"
        },
        "id": "XtEpzkCAA5vw",
        "outputId": "a2d1a480-67e7-4b66-8071-a07038501b18"
      },
      "execution_count": 1,
      "outputs": [
        {
          "output_type": "stream",
          "name": "stdout",
          "text": [
            "True\n",
            "False\n",
            "True\n"
          ]
        }
      ]
    }
  ]
}