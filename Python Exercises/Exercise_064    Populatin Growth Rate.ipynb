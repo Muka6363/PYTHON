{
  "nbformat": 4,
  "nbformat_minor": 0,
  "metadata": {
    "colab": {
      "name": "Exercise-064",
      "provenance": [],
      "collapsed_sections": []
    },
    "kernelspec": {
      "name": "python3",
      "display_name": "Python 3"
    },
    "language_info": {
      "name": "python"
    }
  },
  "cells": [
    {
      "cell_type": "markdown",
      "source": [
        "**Exercise - 064 | ?while loop | ?f\"string | ?round()**\n",
        "\n",
        "In a small town the population is p = 1000 at the beginning of a year. The population regularly increases by 2 percent per year and moreover 50 new inhabitants per year come to live in the town. How many years does the town need to see its population greater or equal to p = 1200 inhabitants?\n",
        "\n",
        "Küçük bir kasabada nüfus, yılın başında p = 1000'dir. Nüfus düzenli olarak yılda yüzde 2 oranında artıyor ve ayrıca kasabada her yıl 50 yeni insan yaşamaya başlıyor. Kasabanın nüfusunu p = 1200 nüfusa eşit veya daha fazla görmesi için kaç yıla ihtiyacı var?"
      ],
      "metadata": {
        "id": "w-wscAiZRROW"
      }
    },
    {
      "cell_type": "code",
      "source": [
        "p = 1000\n",
        "growth_rate = 0.02\n",
        "new_members = 50\n",
        "year = 0\n",
        " \n",
        "while p < 1200 :\n",
        "  year += 1\n",
        "  p += p * growth_rate + 50\n",
        "  print(f\"At the end of {year}. year there will be: {round(p)} inhabitants\")\n",
        "  if p > 1200 :\n",
        "    break\n",
        "\n",
        "print(f\"It takes {year} years for the town's population to exceed 1200.\")"
      ],
      "metadata": {
        "colab": {
          "base_uri": "https://localhost:8080/"
        },
        "id": "GNaoWT-dRRWd",
        "outputId": "b1e49aad-d9c0-49c8-9d45-adb003d50719"
      },
      "execution_count": 1,
      "outputs": [
        {
          "output_type": "stream",
          "name": "stdout",
          "text": [
            "At the end of 1. year there will be: 1070 inhabitants\n",
            "At the end of 2. year there will be: 1141 inhabitants\n",
            "At the end of 3. year there will be: 1214 inhabitants\n",
            "It takes 3 years for the town's population to exceed 1200.\n"
          ]
        }
      ]
    }
  ]
}