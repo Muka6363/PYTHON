{
  "nbformat": 4,
  "nbformat_minor": 0,
  "metadata": {
    "colab": {
      "name": "Exercise - 92",
      "provenance": [],
      "collapsed_sections": []
    },
    "kernelspec": {
      "name": "python3",
      "display_name": "Python 3"
    },
    "language_info": {
      "name": "python"
    }
  },
  "cells": [
    {
      "cell_type": "markdown",
      "metadata": {
        "id": "2tCIA2r5FAeK"
      },
      "source": [
        "**Exercise - 92 | ?comprehension | ?for loop | ?range() | ?max()**\n",
        "\n",
        "Once a water balloon pops, is soaks the area around it. The ground gets drier the further away you travel from the balloon.\n",
        "\n",
        "The effect of a water balloon popping can be modeled using a list. Create a function that takes a list which takes the pre-pop state and returns the state after the balloon is popped. The pre-pop state will contain at most a single balloon, whose size is represented by the only non-zero element.\n",
        "\n",
        "Examples\n",
        "\n",
        "![image.png](data:image/png;base64,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)\n",
        "\n",
        "Notes\n",
        "\n",
        "- Length of input list is always odd.\n",
        "- The input list will always be the exact length it takes for there to be exactly one border zero.\n",
        "- If the input list consists only of zeroes, return the same list."
      ]
    },
    {
      "cell_type": "code",
      "metadata": {
        "colab": {
          "base_uri": "https://localhost:8080/"
        },
        "id": "t6QdTx7AFAl-",
        "outputId": "754552ea-733b-40a5-8706-616728752a5f"
      },
      "source": [
        "baloon = [0, 0, 0, 3, 0, 0, 0]\n",
        "\n",
        "print([i for i in range(max(baloon))] + [j for j in range(max(baloon), -1, -1)])"
      ],
      "execution_count": null,
      "outputs": [
        {
          "output_type": "stream",
          "name": "stdout",
          "text": [
            "[0, 1, 2, 3, 2, 1, 0]\n"
          ]
        }
      ]
    },
    {
      "cell_type": "code",
      "metadata": {
        "colab": {
          "base_uri": "https://localhost:8080/"
        },
        "id": "Nb1edUigF-h2",
        "outputId": "cfa7638a-a692-44d6-cb20-af68a61f1aa9"
      },
      "source": [
        "baloon = [0, 0, 0, 4, 0, 0, 0]\n",
        "output = []\n",
        "\n",
        "for i in range(max(baloon)) :\n",
        "  output += [i]\n",
        "for j in range(max(baloon), -1, -1)  :\n",
        "  output += [j]\n",
        "print(output)"
      ],
      "execution_count": null,
      "outputs": [
        {
          "output_type": "stream",
          "name": "stdout",
          "text": [
            "[0, 1, 2, 3, 4, 3, 2, 1, 0]\n"
          ]
        }
      ]
    }
  ]
}