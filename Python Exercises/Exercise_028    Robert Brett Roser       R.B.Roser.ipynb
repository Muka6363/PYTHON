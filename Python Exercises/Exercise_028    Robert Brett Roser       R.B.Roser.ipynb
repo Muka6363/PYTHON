{
  "nbformat": 4,
  "nbformat_minor": 0,
  "metadata": {
    "colab": {
      "name": "Exercise - 28.ipynb",
      "provenance": [],
      "collapsed_sections": []
    },
    "kernelspec": {
      "name": "python3",
      "display_name": "Python 3"
    },
    "language_info": {
      "name": "python"
    }
  },
  "cells": [
    {
      "cell_type": "markdown",
      "metadata": {
        "id": "YOlRj5xzclA-"
      },
      "source": [
        "**Exercise - 28**\n",
        "\n",
        "Write a program that takes your full name as input and displays the abbreviations of the first and middle names except the last name which is displayed as it is. For example, if your name is Robert Brett Roser, then the output should be R.B.Roser.\n",
        "\n",
        "Tam adınızı girdi olarak alan ve görüntülenen soyadı dışındaki ad ve ikinci adların kısaltmalarını görüntüleyen bir program yazın. Örneğin, adınız Robert Brett Roser ise çıktı R.B.Roser olmalıdır."
      ]
    },
    {
      "cell_type": "code",
      "metadata": {
        "colab": {
          "base_uri": "https://localhost:8080/"
        },
        "id": "ale4m9u7clGe",
        "outputId": "e7b353ae-b76c-4b1b-c333-55223645974a"
      },
      "source": [
        "name = list(map(str.title, input(\"Please enter your name & surname: \").split()))\n",
        "print(\"{}.{}.{}\".format(name[0][0],name[1][0],name[2]))"
      ],
      "execution_count": 2,
      "outputs": [
        {
          "output_type": "stream",
          "name": "stdout",
          "text": [
            "Please enter your name & surname: Robert Brett Roser\n",
            "R.B.Roser\n"
          ]
        }
      ]
    },
    {
      "cell_type": "code",
      "metadata": {
        "colab": {
          "base_uri": "https://localhost:8080/"
        },
        "id": "Zd6l0cIRc6Na",
        "outputId": "6db1e83c-198c-425b-bf28-58ad25f8fffc"
      },
      "source": [
        "# Alternative\n",
        "\n",
        "name = list(map(str.title, input(\"Please enter your name & surname: \").split()))\n",
        "short_name = \"\"\n",
        "for i in range(len(name) - 1) :\n",
        "  short_name += name[i][0].upper() + \".\"\n",
        "\n",
        "short_name += name[-1]\n",
        "print(short_name)"
      ],
      "execution_count": 3,
      "outputs": [
        {
          "output_type": "stream",
          "name": "stdout",
          "text": [
            "Please enter your name & surname: Robert Brett Roser\n",
            "R.B.Roser\n"
          ]
        }
      ]
    }
  ]
}