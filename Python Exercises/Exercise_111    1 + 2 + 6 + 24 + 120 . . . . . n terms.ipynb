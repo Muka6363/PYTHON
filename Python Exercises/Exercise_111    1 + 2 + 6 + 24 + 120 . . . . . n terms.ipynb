{
  "nbformat": 4,
  "nbformat_minor": 0,
  "metadata": {
    "colab": {
      "name": "Exercise - 111",
      "provenance": [],
      "collapsed_sections": []
    },
    "kernelspec": {
      "name": "python3",
      "display_name": "Python 3"
    },
    "language_info": {
      "name": "python"
    }
  },
  "cells": [
    {
      "cell_type": "markdown",
      "metadata": {
        "id": "7D4J7m19nOFO"
      },
      "source": [
        "**Exercise - 111 | ?range() | ?append() | ?for loop**\n",
        "\n",
        "Write a program to find the sum of following series:\n",
        "1 + 2 + 6 + 24 + 120 . . . . . n terms"
      ]
    },
    {
      "cell_type": "code",
      "metadata": {
        "colab": {
          "base_uri": "https://localhost:8080/"
        },
        "id": "Io26gukcp23O",
        "outputId": "9ce0fc38-70f8-4486-d7a2-791e43948880"
      },
      "source": [
        "n = int(input(\"Please enter a number: \"))\n",
        "toplam = 1\n",
        "liste = []\n",
        "\n",
        "for i in range(1, n + 1) :\n",
        "  liste += [toplam]\n",
        "  toplam += i * toplam\n",
        "\n",
        "print(liste)"
      ],
      "execution_count": 13,
      "outputs": [
        {
          "output_type": "stream",
          "name": "stdout",
          "text": [
            "Please enter a number: 5\n",
            "[1, 2, 6, 24, 120]\n"
          ]
        }
      ]
    },
    {
      "cell_type": "code",
      "metadata": {
        "colab": {
          "base_uri": "https://localhost:8080/"
        },
        "id": "BS4cDZdprLyH",
        "outputId": "a5ae5a95-7d77-4c75-ff18-5351e4b09384"
      },
      "source": [
        "n = int(input(\"Please enter a number: \"))\n",
        "toplam = 1\n",
        "liste = []\n",
        "\n",
        "for i in range(1, n + 1) :\n",
        "  liste.append(toplam)\n",
        "  toplam += toplam * i\n",
        "\n",
        "print(liste)"
      ],
      "execution_count": 14,
      "outputs": [
        {
          "output_type": "stream",
          "name": "stdout",
          "text": [
            "Please enter a number: 5\n",
            "[1, 2, 6, 24, 120]\n"
          ]
        }
      ]
    }
  ]
}