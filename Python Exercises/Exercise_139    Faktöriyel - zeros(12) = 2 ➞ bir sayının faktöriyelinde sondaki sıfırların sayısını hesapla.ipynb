{
  "nbformat": 4,
  "nbformat_minor": 0,
  "metadata": {
    "colab": {
      "name": "Exercise - 139",
      "provenance": [],
      "collapsed_sections": []
    },
    "kernelspec": {
      "name": "python3",
      "display_name": "Python 3"
    },
    "language_info": {
      "name": "python"
    }
  },
  "cells": [
    {
      "cell_type": "markdown",
      "metadata": {
        "id": "UjHzL8hH91GI"
      },
      "source": [
        "**Exercise - 139 | ?def | ?range() | ?str()**\n",
        "\n",
        "Write a program that will calculate the number of trailing zeros in a factorial of a given number.\n",
        "\n",
        "N! = 1 * 2 * 3 * ... * N\n",
        "\n",
        "Be careful 1000! has 2568 digits...\n",
        "\n",
        "For more info, see: http://mathworld.wolfram.com/Factorial.html\n",
        "\n",
        "Examples :\n",
        "\n",
        "zeros(6) = 1\n",
        "\n",
        "6! = 1 * 2 * 3 * 4 * 5 * 6 = 720 --> 1 trailing zero\n",
        "\n",
        "zeros(12) = 2\n",
        "\n",
        "12! = 479001600 --> 2 trailing zeros\n",
        "\n",
        "*Hint: You're not meant to calculate the factorial. Find another way to find the number of zeros.*"
      ]
    },
    {
      "cell_type": "code",
      "metadata": {
        "colab": {
          "base_uri": "https://localhost:8080/"
        },
        "id": "2cdvjY6B-04i",
        "outputId": "faee0437-2c47-4b0c-f5dc-e6ba69a3a13b"
      },
      "source": [
        "def zeros(sayi) :\n",
        "\n",
        "  faktoriyel = 1 # default değer\n",
        "  if sayi < 0 :\n",
        "    return \"Negatif bir sayının faktöriyeli hesaplanamaz!\"\n",
        "  elif sayi == 0 :\n",
        "    return \"0! = 1 olduğundan faktöriyel değerinde 0 yok: 0\"\n",
        "  else :\n",
        "    for i in range(sayi, 0, -1) :\n",
        "      faktoriyel *= i\n",
        "\n",
        "  sifir_sayisi = 0\n",
        "  if sayi <= 4 :\n",
        "    return sifir_sayisi\n",
        "  else :\n",
        "    for i in str(faktoriyel)[::-1] :\n",
        "      if i == \"0\" :\n",
        "        sifir_sayisi += 1\n",
        "      else :\n",
        "        break\n",
        "\n",
        "  return sifir_sayisi\n",
        "\n",
        "zeros(12)"
      ],
      "execution_count": 22,
      "outputs": [
        {
          "output_type": "execute_result",
          "data": {
            "text/plain": [
              "2"
            ]
          },
          "metadata": {},
          "execution_count": 22
        }
      ]
    }
  ]
}