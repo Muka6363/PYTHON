{
  "nbformat": 4,
  "nbformat_minor": 0,
  "metadata": {
    "colab": {
      "name": "Exercise - 9.ipynb",
      "provenance": [],
      "collapsed_sections": []
    },
    "kernelspec": {
      "name": "python3",
      "display_name": "Python 3"
    },
    "language_info": {
      "name": "python"
    }
  },
  "cells": [
    {
      "cell_type": "markdown",
      "metadata": {
        "id": "D6FvvlBSuzuG"
      },
      "source": [
        "**Exercise - 9**\n",
        "\n",
        "Given two strings, s1 and s2. Write a program to create a new string s3 by appending s2 in the middle of s1.\n",
        "\n",
        "İki string verildi, s1 ve s2. s1'in ortasına s2'yi ekleyerek yeni bir s3 stringi oluşturan bir program yazın."
      ]
    },
    {
      "cell_type": "code",
      "metadata": {
        "colab": {
          "base_uri": "https://localhost:8080/"
        },
        "id": "1JTiFVE3uz1z",
        "outputId": "7c7e09b2-df92-4255-903d-1565fd3e4246"
      },
      "source": [
        "s1 = \"*Fenhçe*\"\n",
        "s2 = \"erba\"\n",
        "s3 = s1[0:round(len(s1)//2)] + s2 + s1[round(len(s1)//2):]\n",
        "print(s3)"
      ],
      "execution_count": 1,
      "outputs": [
        {
          "output_type": "stream",
          "name": "stdout",
          "text": [
            "*Fenerbahçe*\n"
          ]
        }
      ]
    }
  ]
}