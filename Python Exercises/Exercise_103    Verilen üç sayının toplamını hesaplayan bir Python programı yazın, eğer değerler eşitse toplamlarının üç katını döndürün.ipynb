{
  "nbformat": 4,
  "nbformat_minor": 0,
  "metadata": {
    "colab": {
      "name": "Exercise - 103",
      "provenance": [],
      "collapsed_sections": []
    },
    "kernelspec": {
      "name": "python3",
      "display_name": "Python 3"
    },
    "language_info": {
      "name": "python"
    }
  },
  "cells": [
    {
      "cell_type": "markdown",
      "metadata": {
        "id": "sBh6v9_OK4Kk"
      },
      "source": [
        "**Exercise - 103 | ?list() | ?input() | ?map() | ?split() | ?sum()**\n",
        "\n",
        "Write a Python program to calculate the sum of three given numbers, if the values are equal then return three times of their sum?"
      ]
    },
    {
      "cell_type": "code",
      "metadata": {
        "colab": {
          "base_uri": "https://localhost:8080/"
        },
        "id": "y1jfUHEbK4T8",
        "outputId": "449986de-c6a1-40fc-b47a-10039acf528e"
      },
      "source": [
        "numbers = list(map(int, input(\"Please enter 3 numbers: \").split()))\n",
        "print(sum(numbers) * 3 if numbers[0] == numbers[1] == numbers[2] else sum(numbers))"
      ],
      "execution_count": 6,
      "outputs": [
        {
          "output_type": "stream",
          "name": "stdout",
          "text": [
            "Please enter 3 numbers: 5 5 5\n",
            "45\n"
          ]
        }
      ]
    }
  ]
}