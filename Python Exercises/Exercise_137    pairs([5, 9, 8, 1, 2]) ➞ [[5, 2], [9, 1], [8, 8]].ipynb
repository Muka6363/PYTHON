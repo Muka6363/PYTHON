{
  "nbformat": 4,
  "nbformat_minor": 0,
  "metadata": {
    "colab": {
      "name": "Exercise - 137",
      "provenance": [],
      "collapsed_sections": []
    },
    "kernelspec": {
      "name": "python3",
      "display_name": "Python 3"
    },
    "language_info": {
      "name": "python"
    }
  },
  "cells": [
    {
      "cell_type": "markdown",
      "metadata": {
        "id": "mJfSKOeJLO0t"
      },
      "source": [
        "**Exercise - 137 | ?def | ?comprehension | ?range() | ?len() | ?for loop**\n",
        "\n",
        "Write a function that pairs the first number in an array with the last, the second number with the second to last, etc.\n",
        "\n",
        "Examples\n",
        "\n",
        "pairs([1, 2, 3, 4, 5, 6, 7]) ➞ [[1, 7], [2, 6], [3, 5], [4, 4]]\n",
        "\n",
        "pairs([1, 2, 3, 4, 5, 6]) ➞ [[1, 6], [2, 5], [3, 4]]\n",
        "\n",
        "pairs([5, 9, 8, 1, 2]) ➞ [[5, 2], [9, 1], [8, 8]]\n",
        "\n",
        "pairs([]) ➞ []\n",
        "\n",
        "Notes\n",
        "\n",
        "If the list has an odd length, repeat the middle element twice for the last pair.\n",
        "\n",
        "Return an empty list if the input is an empty list."
      ]
    },
    {
      "cell_type": "code",
      "metadata": {
        "colab": {
          "base_uri": "https://localhost:8080/"
        },
        "id": "3pvNpHXfLO7-",
        "outputId": "ce1e22eb-2a8b-4c80-ae8f-1e914b829fb4"
      },
      "source": [
        "def pairs(liste) :\n",
        "  return[[liste[i], liste[-1-i]] for i in range(((len(liste) - 1) // 2) + 1)]\n",
        "\n",
        "pairs([5, 9, 8, 1, 2])"
      ],
      "execution_count": 6,
      "outputs": [
        {
          "output_type": "execute_result",
          "data": {
            "text/plain": [
              "[[5, 2], [9, 1], [8, 8]]"
            ]
          },
          "metadata": {},
          "execution_count": 6
        }
      ]
    }
  ]
}