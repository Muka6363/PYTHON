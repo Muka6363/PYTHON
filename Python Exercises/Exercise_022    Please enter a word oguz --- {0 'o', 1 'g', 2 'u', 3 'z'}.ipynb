{
  "nbformat": 4,
  "nbformat_minor": 0,
  "metadata": {
    "colab": {
      "name": "Exercise - 22.ipynb",
      "provenance": [],
      "collapsed_sections": []
    },
    "kernelspec": {
      "name": "python3",
      "display_name": "Python 3"
    },
    "language_info": {
      "name": "python"
    }
  },
  "cells": [
    {
      "cell_type": "markdown",
      "metadata": {
        "id": "3KFNclz2DoDm"
      },
      "source": [
        "**Exercise - 22**\n",
        "\n",
        "Write a Python dictionary function that takes a string from the user and matches each character in the string with the index number.\n",
        "\n",
        "Kullanıcıdan bir string alan ve stringdeki her karakteri index numarasıyla eşleştiren bir Python sözlük işlevi yazın.\n",
        "\n",
        "For Example:\n",
        "\n",
        "İnput:'clarusway'\n",
        "\n",
        "output: {0: 'c', 1: 'l', 2: 'a', 3: 'r', 4: 'u', 5: 's', 6: 'w', 7: 'a', 8: 'y'}"
      ]
    },
    {
      "cell_type": "code",
      "metadata": {
        "colab": {
          "base_uri": "https://localhost:8080/"
        },
        "id": "9tqSEDFDDoJK",
        "outputId": "1563a456-1427-47b2-89ac-7c47e3a1e03c"
      },
      "source": [
        "s = input(\"Please enter a word: \")\n",
        "sozluk = {}\n",
        "for i in range(len(s)) :\n",
        "  sozluk[i] = s[i]\n",
        "print(sozluk)"
      ],
      "execution_count": 1,
      "outputs": [
        {
          "output_type": "stream",
          "name": "stdout",
          "text": [
            "Please enter a word: oguz\n",
            "{0: 'o', 1: 'g', 2: 'u', 3: 'z'}\n"
          ]
        }
      ]
    }
  ]
}