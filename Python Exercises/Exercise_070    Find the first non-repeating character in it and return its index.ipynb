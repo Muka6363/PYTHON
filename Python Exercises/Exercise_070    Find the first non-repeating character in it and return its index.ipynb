{
  "nbformat": 4,
  "nbformat_minor": 0,
  "metadata": {
    "colab": {
      "name": "Exercise_070",
      "provenance": [],
      "collapsed_sections": []
    },
    "kernelspec": {
      "name": "python3",
      "display_name": "Python 3"
    },
    "language_info": {
      "name": "python"
    }
  },
  "cells": [
    {
      "cell_type": "markdown",
      "source": [
        "**Exercise - 070 | ?for loop | ?count() | ?index() | ?input()**\n",
        "\n",
        "Given a string s, find the first non-repeating character in it and return its index. If it does not exist, return -1."
      ],
      "metadata": {
        "id": "tbUjZaYDwTN0"
      }
    },
    {
      "cell_type": "code",
      "source": [
        "word = input(\"Please enter a word: \")\n",
        "\n",
        "for i in word :\n",
        "  if word.count(i) == 1 :\n",
        "    print(word.index(i))\n",
        "    break\n",
        "else :\n",
        "  print(-1)"
      ],
      "metadata": {
        "colab": {
          "base_uri": "https://localhost:8080/"
        },
        "id": "LPDoBOaHwTV_",
        "outputId": "36cbd0d2-eebe-4148-d635-d75fe48bdf02"
      },
      "execution_count": 1,
      "outputs": [
        {
          "output_type": "stream",
          "name": "stdout",
          "text": [
            "Please enter a word: loveleetcode\n",
            "2\n"
          ]
        }
      ]
    }
  ]
}