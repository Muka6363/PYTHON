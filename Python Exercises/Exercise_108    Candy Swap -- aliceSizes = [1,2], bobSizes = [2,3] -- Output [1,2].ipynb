{
  "nbformat": 4,
  "nbformat_minor": 0,
  "metadata": {
    "colab": {
      "name": "Exercise - 108",
      "provenance": [],
      "collapsed_sections": []
    },
    "kernelspec": {
      "name": "python3",
      "display_name": "Python 3"
    },
    "language_info": {
      "name": "python"
    }
  },
  "cells": [
    {
      "cell_type": "markdown",
      "metadata": {
        "id": "fIG3I2UGjAsZ"
      },
      "source": [
        "**Example - 108 | ?sum() | ?set() | ?for loop**\n",
        "\n",
        "Fair Candy Swap\n",
        "\n",
        "Alice and Bob have a different total number of candies. You are given two integer arrays AliceSizes and  bobSizes where aliceSizes[i] is the number of candies of the ith box of candy that Alice has and bobSizes[j] is the number of candies of the jth box of candy that Bob has.\n",
        "\n",
        "Since they are friends, they would like to exchange one candy box each so that after the exchange, they both have the same total amount of candy. The total amount of candy a person has is the sum of the number of candies in each box they have.\n",
        "\n",
        "Return an integer array answer where answer[0] is the number of candies in the box that Alice must exchange, and answer[1] is the number of candies in the box that Bob must exchange. If there are multiple answers, you may return any one of them. It is guaranteed that at least one answer exists.\n",
        "\n",
        "Example 1:\n",
        "\n",
        "Input: aliceSizes = [1,1], bobSizes = [2,2]\n",
        "\n",
        "Output: [1,2]\n",
        "\n",
        "Example 2:\n",
        "\n",
        "Input: aliceSizes = [1,2], bobSizes = [2,3]\n",
        "\n",
        "Output: [1,2]\n",
        "\n",
        "Example 3:\n",
        "\n",
        "Input: aliceSizes = [2], bobSizes = [1,3]\n",
        "\n",
        "Output: [2,3]\n",
        "\n",
        "Example 4:\n",
        "\n",
        "Input: aliceSizes = [1,2,5], bobSizes = [2,4]\n",
        "\n",
        "Output: [5,4]\n",
        " \n",
        "Constraints:\n",
        "\n",
        "Alice and Bob have a different total number of candies.\n",
        "\n",
        "There will be at least one valid answer for the given input."
      ]
    },
    {
      "cell_type": "code",
      "metadata": {
        "colab": {
          "base_uri": "https://localhost:8080/"
        },
        "id": "yMC_axy-jAzn",
        "outputId": "1426ce00-5a71-42fd-a8a0-5fce54ffcbe8"
      },
      "source": [
        "aliceSizes = [1,2,5]\n",
        "bobSizes = [2,4]\n",
        "need_alice = (sum(aliceSizes) + sum(bobSizes)) // 2 - sum(aliceSizes) \n",
        "\n",
        "for i in aliceSizes :\n",
        "  temp = i + need_alice\n",
        "  if temp in set(bobSizes) :\n",
        "    print([i,temp])\n",
        "    break"
      ],
      "execution_count": 5,
      "outputs": [
        {
          "output_type": "stream",
          "name": "stdout",
          "text": [
            "[5, 4]\n"
          ]
        }
      ]
    },
    {
      "cell_type": "code",
      "metadata": {
        "colab": {
          "base_uri": "https://localhost:8080/"
        },
        "id": "iz1SOgHExbzR",
        "outputId": "94956181-0bfb-4d63-cf3f-087a7d695934"
      },
      "source": [
        "aliceSizes = [2]\n",
        "bobSizes = [1,3]\n",
        "need_alice = (sum(aliceSizes) + sum(bobSizes)) // 2 - sum(aliceSizes) \n",
        "\n",
        "for i in aliceSizes :\n",
        "  temp = i + need_alice\n",
        "  if temp in set(bobSizes) :\n",
        "    print([i,temp])\n",
        "    break"
      ],
      "execution_count": 6,
      "outputs": [
        {
          "output_type": "stream",
          "name": "stdout",
          "text": [
            "[2, 3]\n"
          ]
        }
      ]
    },
    {
      "cell_type": "code",
      "metadata": {
        "colab": {
          "base_uri": "https://localhost:8080/"
        },
        "id": "k1IbNFzH6a_l",
        "outputId": "41d4f9f3-2511-40e8-c7cb-c8fc2fd586b5"
      },
      "source": [
        "a = [1,2,5]\n",
        "b = [2,4]\n",
        "if sum(a) > sum(b):\n",
        "  difference = (sum(a) - sum(b)) // 2\n",
        "else :\n",
        "  difference = (sum(b) - sum(a)) // 2\n",
        "\n",
        "for i in a :\n",
        "  for j in b :\n",
        "    if i - j == difference :\n",
        "      print(\"[{}, {}]\".format(i, j))"
      ],
      "execution_count": 2,
      "outputs": [
        {
          "output_type": "stream",
          "name": "stdout",
          "text": [
            "[5, 4]\n"
          ]
        }
      ]
    },
    {
      "cell_type": "code",
      "metadata": {
        "colab": {
          "base_uri": "https://localhost:8080/"
        },
        "id": "HnHsEE2K-jAc",
        "outputId": "e60f64ed-0f1b-4a6a-88a9-62fcb3ce5b40"
      },
      "source": [
        "aliceSizes = [1, 2, 5]\n",
        "bobSizes = [2,4]\n",
        "if sum(aliceSizes) > sum(bobSizes):\n",
        "  difference = (sum(aliceSizes) - sum(bobSizes)) // 2\n",
        "  for i in aliceSizes :\n",
        "    for j in bobSizes :\n",
        "      if i - j == difference :\n",
        "        print(\"[{}, {}]\".format(i, j))\n",
        "else :\n",
        "  difference = (sum(bobSizes) - sum(aliceSizes)) // 2\n",
        "  for i in bobSizes :\n",
        "    for j in aliceSizes :\n",
        "      if i - j == difference :\n",
        "        print(\"[{}, {}]\".format(j, i))"
      ],
      "execution_count": 2,
      "outputs": [
        {
          "output_type": "stream",
          "name": "stdout",
          "text": [
            "[5, 4]\n"
          ]
        }
      ]
    }
  ]
}