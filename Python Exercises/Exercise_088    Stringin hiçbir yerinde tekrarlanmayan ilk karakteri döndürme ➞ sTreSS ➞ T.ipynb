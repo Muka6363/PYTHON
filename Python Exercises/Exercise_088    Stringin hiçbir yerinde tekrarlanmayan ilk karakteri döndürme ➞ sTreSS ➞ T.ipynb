{
  "nbformat": 4,
  "nbformat_minor": 0,
  "metadata": {
    "colab": {
      "name": "Exercise - 88.ipynb",
      "provenance": [],
      "collapsed_sections": []
    },
    "kernelspec": {
      "name": "python3",
      "display_name": "Python 3"
    },
    "language_info": {
      "name": "python"
    }
  },
  "cells": [
    {
      "cell_type": "markdown",
      "metadata": {
        "id": "tjjeKQX4RROq"
      },
      "source": [
        "**Exercise - 88 | ?input() | ?lower() | ?for loop() | ?count() | ?index() | ?comprehension**\n",
        "\n",
        "Write a function named first_non_repeating_letter that takes a string input, and returns the first character that is not repeated anywhere in the string.\n",
        "\n",
        "For example, if given the input 'stress', the function should return 't', since the letter t only occurs once in the string, and occurs first in the string.\n",
        "\n",
        "As an added challenge, upper- and lowercase letters are considered the same character, but the function should return the correct case for the initial letter. For example, the input 'sTreSS' should return 'T'.\n",
        "\n",
        "If a string contains all repeating characters, it should return an empty string (\"\") or None -- see sample tests.\n",
        "\n",
        "Bir string girdisi alan ve stringin hiçbir yerinde tekrarlanmayan ilk karakteri döndüren first_non_repeating_letter adlı bir fonksiyon yazın.\n",
        "\n",
        "Örneğin, 'stress' stringi verilirse, t harfi stringte yalnızca bir kez geçtiği ve stringte ilk sırada yer aldığı için fonksiyon 't' döndürmelidir.\n",
        "\n",
        "Ek bir meydan okuma olarak, büyük ve küçük harfler aynı karakter olarak kabul edilir, ancak işlev ilk harf için doğru durumu döndürmelidir. Örneğin, 'sTreSS' girişi 'T' döndürmelidir.\n",
        "\n",
        "Bir dize tüm yinelenen karakterleri içeriyorsa, boş bir dize (\"\") veya Yok döndürmelidir - bkz. örnek tests."
      ]
    },
    {
      "cell_type": "code",
      "metadata": {
        "colab": {
          "base_uri": "https://localhost:8080/"
        },
        "id": "TVUi1aepRRXY",
        "outputId": "e0f54200-9150-4d9a-aa46-e5ee9bdb14b5"
      },
      "source": [
        "letter = input(\"Please enter a word: \")\n",
        "new_letter = letter.lower()\n",
        "\n",
        "for i in new_letter :\n",
        "  if new_letter.count(i) == 1 :\n",
        "    print(letter[new_letter.index(i)])\n",
        "    break\n",
        "else :\n",
        "  print(None) "
      ],
      "execution_count": 6,
      "outputs": [
        {
          "output_type": "stream",
          "name": "stdout",
          "text": [
            "Please enter a word: sTreSS\n",
            "T\n"
          ]
        }
      ]
    },
    {
      "cell_type": "code",
      "metadata": {
        "colab": {
          "base_uri": "https://localhost:8080/"
        },
        "id": "qpBjM7APTLNA",
        "outputId": "e077a4c3-b43e-4d42-fd62-8e4072103588"
      },
      "source": [
        "string = input(\"Please enter a word: \")\n",
        "non_repeating = [i for i in string if string.lower().count(i.lower()) == 1]\n",
        "print(non_repeating[0] if non_repeating else None) "
      ],
      "execution_count": null,
      "outputs": [
        {
          "output_type": "stream",
          "name": "stdout",
          "text": [
            "Please enter a word: sTreSS\n",
            "T\n"
          ]
        }
      ]
    },
    {
      "cell_type": "code",
      "metadata": {
        "colab": {
          "base_uri": "https://localhost:8080/"
        },
        "id": "SATCSXTiUjFM",
        "outputId": "6ac44890-d408-4fea-85d3-57936182bffe"
      },
      "source": [
        "string = \"sTreSS\"\n",
        "for i in string :\n",
        "  if string.lower().count(i.lower()) == 1 :\n",
        "    print(i)\n",
        "    break"
      ],
      "execution_count": null,
      "outputs": [
        {
          "output_type": "stream",
          "name": "stdout",
          "text": [
            "T\n"
          ]
        }
      ]
    },
    {
      "cell_type": "code",
      "metadata": {
        "id": "k0B0kDGsWV5Z"
      },
      "source": [
        "def first_non_repeating_letter(string):\n",
        "    singles = [i for i in string if string.lower().count(i.lower()) == 1]\n",
        "    return singles[0] if singles else '' "
      ],
      "execution_count": null,
      "outputs": []
    }
  ]
}