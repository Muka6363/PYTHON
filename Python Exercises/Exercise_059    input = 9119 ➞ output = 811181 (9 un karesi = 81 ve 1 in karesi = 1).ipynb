{
  "nbformat": 4,
  "nbformat_minor": 0,
  "metadata": {
    "colab": {
      "name": "Exercise_059",
      "provenance": [],
      "collapsed_sections": []
    },
    "kernelspec": {
      "name": "python3",
      "display_name": "Python 3"
    },
    "language_info": {
      "name": "python"
    }
  },
  "cells": [
    {
      "cell_type": "markdown",
      "source": [
        "**Exercise - 59 | ?comprehension | ?nested for loop | ?for loop | ?join()**\n",
        "\n",
        "Write a program that square every digit of a number and concatenate them.\n",
        "For example, if we run 9119 through the function, 811181 will come out, because 9 ** 2 = 81 and 1 ** 2 = 1.\n",
        "\n",
        "Bir sayının her basamağını karesini alan ve bunları birleştiren bir program yazın. Örneğin 9119'u fonksiyon üzerinden çalıştırırsak sonuç 811181 çıkacaktır, çünkü 9 ** 2 = 81 ve 1 ** 2 = 1'dir."
      ],
      "metadata": {
        "id": "mIduptNSyc4M"
      }
    },
    {
      "cell_type": "code",
      "source": [
        "number = input(\"Please enter a number: \")\n",
        "print(\"\".join([str(i) for i in [int(j) ** 2 for j in number]]))"
      ],
      "metadata": {
        "colab": {
          "base_uri": "https://localhost:8080/"
        },
        "id": "w0rJBOfqydAM",
        "outputId": "6b00c038-d949-42c4-8956-4c0219518c62"
      },
      "execution_count": 1,
      "outputs": [
        {
          "output_type": "stream",
          "name": "stdout",
          "text": [
            "Please enter a number: 9119\n",
            "811181\n"
          ]
        }
      ]
    },
    {
      "cell_type": "code",
      "source": [
        "number = input(\"Please enter a number: \")\n",
        "text = \"\"\n",
        "for i in str(number):\n",
        "  text += str(int(i) ** 2)\n",
        "print(text)"
      ],
      "metadata": {
        "id": "GQcoSGw2yp51"
      },
      "execution_count": null,
      "outputs": []
    }
  ]
}