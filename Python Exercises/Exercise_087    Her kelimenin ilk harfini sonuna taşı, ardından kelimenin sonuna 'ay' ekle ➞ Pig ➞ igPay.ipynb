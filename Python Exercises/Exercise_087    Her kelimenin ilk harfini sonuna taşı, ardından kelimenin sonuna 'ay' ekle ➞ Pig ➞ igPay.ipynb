{
  "nbformat": 4,
  "nbformat_minor": 0,
  "metadata": {
    "colab": {
      "name": "Exercise - 87.ipynb",
      "provenance": [],
      "collapsed_sections": []
    },
    "kernelspec": {
      "name": "python3",
      "display_name": "Python 3"
    },
    "language_info": {
      "name": "python"
    }
  },
  "cells": [
    {
      "cell_type": "markdown",
      "metadata": {
        "id": "IXTOWmW45KfQ"
      },
      "source": [
        "**Exercise - 87 | ?for loop | ?split() | ?isalpha() | ?append() | ?join() | ?input()**\n",
        "\n",
        "Move the first letter of each word to the end of it, then add \"ay\" to the end of the word. Leave punctuation marks untouched.\n",
        "\n",
        "Her kelimenin ilk harfini sonuna taşıyın, ardından kelimenin sonuna \"ay\" ekleyin. Noktalama işaretlerine dokunmadan bırakın.\n",
        "\n",
        "Examples\n",
        "\n",
        "![image.png](data:image/png;base64,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)"
      ]
    },
    {
      "cell_type": "code",
      "metadata": {
        "colab": {
          "base_uri": "https://localhost:8080/"
        },
        "id": "j5by32e75Ko8",
        "outputId": "bfa8cc8b-5f44-491b-8067-6b4b2f171cae"
      },
      "source": [
        "sentence = 'Pig latin is cool' # If there was no punctuation :)\n",
        "\n",
        "print(*[i[1:]+i[0]+'ay' for i in sentence.split()])"
      ],
      "execution_count": null,
      "outputs": [
        {
          "output_type": "stream",
          "name": "stdout",
          "text": [
            "igPay atinlay siay oolcay\n"
          ]
        }
      ]
    },
    {
      "cell_type": "code",
      "metadata": {
        "colab": {
          "base_uri": "https://localhost:8080/",
          "height": 35
        },
        "id": "o9afZsQg6wXe",
        "outputId": "13a074f4-617e-482a-f750-99af4b5c5771"
      },
      "source": [
        "text = \"Hello world!\".split()\n",
        "new_text = []\n",
        "for i in text :\n",
        "  if i.isalpha() :\n",
        "    new_text.append(i[1:] + i[0] + \"ay\")\n",
        "  else : \n",
        "    new_text.append(i)\n",
        "\n",
        "\" \".join(new_text)"
      ],
      "execution_count": null,
      "outputs": [
        {
          "output_type": "execute_result",
          "data": {
            "application/vnd.google.colaboratory.intrinsic+json": {
              "type": "string"
            },
            "text/plain": [
              "'elloHay world!'"
            ]
          },
          "metadata": {},
          "execution_count": 9
        }
      ]
    },
    {
      "cell_type": "code",
      "metadata": {
        "colab": {
          "base_uri": "https://localhost:8080/",
          "height": 35
        },
        "id": "Vg3Haap7753R",
        "outputId": "34cf3af8-904a-4a52-a6a6-ccbe676ce39d"
      },
      "source": [
        "sentence = 'Pig latin is cool!'\n",
        "' '.join(i[1:] + i[0] + 'ay' if i.isalpha() else i for i in sentence.split())"
      ],
      "execution_count": null,
      "outputs": [
        {
          "output_type": "execute_result",
          "data": {
            "application/vnd.google.colaboratory.intrinsic+json": {
              "type": "string"
            },
            "text/plain": [
              "'igPay atinlay siay cool!'"
            ]
          },
          "metadata": {},
          "execution_count": 14
        }
      ]
    },
    {
      "cell_type": "code",
      "metadata": {
        "colab": {
          "base_uri": "https://localhost:8080/",
          "height": 52
        },
        "id": "7KQVRMP88u3d",
        "outputId": "8e7edf17-9eba-4a2b-c16f-1c8827a6a6a6"
      },
      "source": [
        "\" \".join([i[1:] + i[0]+ \"ay\" if i.isalpha() else i for i in input(\"\").split()])"
      ],
      "execution_count": 1,
      "outputs": [
        {
          "name": "stdout",
          "output_type": "stream",
          "text": [
            "Pig latin is cool\n"
          ]
        },
        {
          "output_type": "execute_result",
          "data": {
            "application/vnd.google.colaboratory.intrinsic+json": {
              "type": "string"
            },
            "text/plain": [
              "'igPay atinlay siay oolcay'"
            ]
          },
          "metadata": {},
          "execution_count": 1
        }
      ]
    },
    {
      "cell_type": "code",
      "metadata": {
        "id": "U177IerIQ6E7"
      },
      "source": [
        ""
      ],
      "execution_count": null,
      "outputs": []
    }
  ]
}