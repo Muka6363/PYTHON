{
  "nbformat": 4,
  "nbformat_minor": 0,
  "metadata": {
    "colab": {
      "name": "Exercise - 102",
      "provenance": [],
      "collapsed_sections": []
    },
    "kernelspec": {
      "name": "python3",
      "display_name": "Python 3"
    },
    "language_info": {
      "name": "python"
    }
  },
  "cells": [
    {
      "cell_type": "markdown",
      "metadata": {
        "id": "5AGG6tEiN5VX"
      },
      "source": [
        "**Exercise - 102 | ?comprehension | ?count() | ?set() | ?append()**\n",
        "\n",
        "Given a list of words in the singular form, return a set of those words in the plural form if they appear more than once in the list.\n",
        "\n",
        "Examples\n",
        "\n",
        "[\"cow\", \"pig\", \"cow\", \"cow\"] ➞ { \"cows\", \"pig\" }\n",
        "\n",
        "[\"table\", \"table\", \"table\"] ➞ { \"tables\" }\n",
        "\n",
        "[\"chair\", \"pencil\", \"arm\"] ➞ { \"chair\", \"pencil\", \"arm\" }\n",
        "\n",
        "Notes This is an oversimplification of the English language so no edge cases will appear. Only focus on whether or not to add an s to the ends of words."
      ]
    },
    {
      "cell_type": "code",
      "metadata": {
        "colab": {
          "base_uri": "https://localhost:8080/"
        },
        "id": "vtmAl76yN5ei",
        "outputId": "d9aea285-1e1a-49f9-956b-b392e70a12bd"
      },
      "source": [
        "liste = [\"cow\", \"pig\", \"cow\", \"cow\"]\n",
        "listem = [] \n",
        "for i in liste :\n",
        "  if liste.count(i) == 1 :\n",
        "    listem.append(i)\n",
        "  elif liste.count(i) > 1:\n",
        "    i += \"s\" \n",
        "    listem.append(i)\n",
        "print(set(listem))"
      ],
      "execution_count": 12,
      "outputs": [
        {
          "output_type": "stream",
          "name": "stdout",
          "text": [
            "{'cows', 'pig'}\n"
          ]
        }
      ]
    },
    {
      "cell_type": "code",
      "metadata": {
        "colab": {
          "base_uri": "https://localhost:8080/",
          "height": 231
        },
        "id": "ZvzK9d6iTqIX",
        "outputId": "eb0bb2a0-c33f-4a88-f94b-74b2799c56c4"
      },
      "source": [
        "# Hatayı nerde verdiğine dikkat et!\n",
        "# list indices must be integers or slices, not str\n",
        "\n",
        "liste = [\"cow\", \"pig\", \"cow\", \"cow\"]\n",
        "listem = [] \n",
        "for i in liste :\n",
        "  if liste.count(i) == 1 :\n",
        "    listem.append(i)\n",
        "  elif liste.count(i) > 1:\n",
        "    liste[i] += \"s\"\n",
        "    listem.append(i)\n",
        "print(set(listem))"
      ],
      "execution_count": 11,
      "outputs": [
        {
          "output_type": "error",
          "ename": "TypeError",
          "evalue": "ignored",
          "traceback": [
            "\u001b[0;31m---------------------------------------------------------------------------\u001b[0m",
            "\u001b[0;31mTypeError\u001b[0m                                 Traceback (most recent call last)",
            "\u001b[0;32m<ipython-input-11-daead62f24e4>\u001b[0m in \u001b[0;36m<module>\u001b[0;34m()\u001b[0m\n\u001b[1;32m      5\u001b[0m     \u001b[0mlistem\u001b[0m\u001b[0;34m.\u001b[0m\u001b[0mappend\u001b[0m\u001b[0;34m(\u001b[0m\u001b[0mi\u001b[0m\u001b[0;34m)\u001b[0m\u001b[0;34m\u001b[0m\u001b[0;34m\u001b[0m\u001b[0m\n\u001b[1;32m      6\u001b[0m   \u001b[0;32melif\u001b[0m \u001b[0mliste\u001b[0m\u001b[0;34m.\u001b[0m\u001b[0mcount\u001b[0m\u001b[0;34m(\u001b[0m\u001b[0mi\u001b[0m\u001b[0;34m)\u001b[0m \u001b[0;34m>\u001b[0m \u001b[0;36m1\u001b[0m\u001b[0;34m:\u001b[0m\u001b[0;34m\u001b[0m\u001b[0;34m\u001b[0m\u001b[0m\n\u001b[0;32m----> 7\u001b[0;31m     \u001b[0mliste\u001b[0m\u001b[0;34m[\u001b[0m\u001b[0mi\u001b[0m\u001b[0;34m]\u001b[0m \u001b[0;34m+=\u001b[0m \u001b[0;34m\"s\"\u001b[0m\u001b[0;34m\u001b[0m\u001b[0;34m\u001b[0m\u001b[0m\n\u001b[0m\u001b[1;32m      8\u001b[0m     \u001b[0mlistem\u001b[0m\u001b[0;34m.\u001b[0m\u001b[0mappend\u001b[0m\u001b[0;34m(\u001b[0m\u001b[0mi\u001b[0m\u001b[0;34m)\u001b[0m\u001b[0;34m\u001b[0m\u001b[0;34m\u001b[0m\u001b[0m\n\u001b[1;32m      9\u001b[0m \u001b[0mprint\u001b[0m\u001b[0;34m(\u001b[0m\u001b[0mset\u001b[0m\u001b[0;34m(\u001b[0m\u001b[0mlistem\u001b[0m\u001b[0;34m)\u001b[0m\u001b[0;34m)\u001b[0m\u001b[0;34m\u001b[0m\u001b[0;34m\u001b[0m\u001b[0m\n",
            "\u001b[0;31mTypeError\u001b[0m: list indices must be integers or slices, not str"
          ]
        }
      ]
    },
    {
      "cell_type": "code",
      "metadata": {
        "colab": {
          "base_uri": "https://localhost:8080/"
        },
        "id": "J3rGt5N7UVr7",
        "outputId": "f1075b81-91f7-4ca6-83ac-4913d7d33806"
      },
      "source": [
        "arry = [\"cow\", \"pig\", \"cow\", \"cow\"]\n",
        "set([i + \"s\" if arry.count(i) > 1 else i for i in arry])"
      ],
      "execution_count": 13,
      "outputs": [
        {
          "output_type": "execute_result",
          "data": {
            "text/plain": [
              "{'cows', 'pig'}"
            ]
          },
          "metadata": {},
          "execution_count": 13
        }
      ]
    }
  ]
}