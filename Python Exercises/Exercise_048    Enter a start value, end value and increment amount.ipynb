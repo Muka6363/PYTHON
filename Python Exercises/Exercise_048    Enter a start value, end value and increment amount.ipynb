{
  "nbformat": 4,
  "nbformat_minor": 0,
  "metadata": {
    "colab": {
      "name": "Exercise - 048",
      "provenance": [],
      "collapsed_sections": []
    },
    "kernelspec": {
      "name": "python3",
      "display_name": "Python 3"
    },
    "language_info": {
      "name": "python"
    }
  },
  "cells": [
    {
      "cell_type": "markdown",
      "source": [
        "**Exercise - 048 ?list() | ?map() | ?input() | ?range()**\n",
        "\n",
        "Write the python code that prints the numbers with the start value, end value and increment amount entered from the keyboard.\n",
        "\n",
        "Klavyeden girilen başlangıç ​​değeri, bitiş değeri ve artış miktarı ile sayıları yazdıran python kodunu yazınız."
      ],
      "metadata": {
        "id": "lgFDCbja_tix"
      }
    },
    {
      "cell_type": "code",
      "source": [
        "s = list(map(int, input(\"Enter a start value, end value and increment amount: \").split()))\n",
        "start = s[0]\n",
        "end = s [1]\n",
        "increment = s[2]\n",
        "print(list(range(start, end + 1, increment)))"
      ],
      "metadata": {
        "colab": {
          "base_uri": "https://localhost:8080/"
        },
        "id": "R8OqeHod_toa",
        "outputId": "65721253-816f-4a0a-fd59-f09dad9a6bcc"
      },
      "execution_count": 2,
      "outputs": [
        {
          "output_type": "stream",
          "name": "stdout",
          "text": [
            "Enter a start value, end value and increment amount: 5 104 9\n",
            "[5, 14, 23, 32, 41, 50, 59, 68, 77, 86, 95, 104]\n"
          ]
        }
      ]
    }
  ]
}