{
  "nbformat": 4,
  "nbformat_minor": 0,
  "metadata": {
    "colab": {
      "name": "Exercise - 141",
      "provenance": [],
      "collapsed_sections": []
    },
    "kernelspec": {
      "name": "python3",
      "display_name": "Python 3"
    },
    "language_info": {
      "name": "python"
    }
  },
  "cells": [
    {
      "cell_type": "markdown",
      "metadata": {
        "id": "2HrB0whei2D9"
      },
      "source": [
        "**Exercise - 141 | ?def | ?sorted() | ?comprehension | ?for loop | ?index() | ?sort() | ?range() | ?len() | ?append()**\n",
        "\n",
        "**All Pairs that Sum to Target**\n",
        "\n",
        "Create a function that returns all **pairs** of numbers in an array that sum to a target. Sort the pairs in ascending order with respect to the smaller number, then order each pair in this order: **[smaller, larger]**.\n",
        "\n",
        "Examples\n",
        "\n",
        "allPairs([2, 4, 5, 3], 7) ➞ [[2, 5], [3, 4]]\n",
        "\n",
        "// 2 + 5 = 7, 3 + 4 = 7\n",
        "\n",
        "allPairs([5, 3, 9, 2, 1], 3) ➞ [[1, 2]]\n",
        "\n",
        "allPairs([4, 5, 1, 3, 6, 8], 9) ➞ [[1, 8], [3, 6], [4, 5]]\n",
        "\n",
        "// Sorted: 1 < 3 < 4; each pair is ordered [smaller, larger]\n",
        "\n",
        "Notes\n",
        "\n",
        "- If no pairs are found, return an empty array **[]**.\n",
        "- You are only allowed to use each number once in a pair."
      ]
    },
    {
      "cell_type": "code",
      "metadata": {
        "colab": {
          "base_uri": "https://localhost:8080/"
        },
        "id": "7gMzq8Uyi2LL",
        "outputId": "e9f9fa7a-bfd7-4e2a-b9ea-2d6b0ff7a0a6"
      },
      "source": [
        "def allPairs(arry, num) :\n",
        "  return ([sorted([arry[i], arry[j]]) for i in range(0,len(arry)) for j in range(i+1, len(arry)) if arry[i] + arry[j] == num])\n",
        "allPairs([2, 4, 5, 3], 7)"
      ],
      "execution_count": 3,
      "outputs": [
        {
          "output_type": "execute_result",
          "data": {
            "text/plain": [
              "[[2, 5], [3, 4]]"
            ]
          },
          "metadata": {},
          "execution_count": 3
        }
      ]
    },
    {
      "cell_type": "code",
      "metadata": {
        "colab": {
          "base_uri": "https://localhost:8080/"
        },
        "id": "q3D9vy9_nwh0",
        "outputId": "6d389b57-692e-4339-d6a3-50a5a6c875c8"
      },
      "source": [
        "def allPairs(my_list, number) :\n",
        "  new_list = []\n",
        "  my_list.sort()\n",
        "  for i in my_list :\n",
        "    for j in my_list[my_list.index(i)+1:] :\n",
        "      if i + j == number :\n",
        "        new_list.append([i,j])\n",
        "  return new_list\n",
        "allPairs([2, 4, 5, 3], 7)"
      ],
      "execution_count": 16,
      "outputs": [
        {
          "output_type": "execute_result",
          "data": {
            "text/plain": [
              "[[2, 5], [3, 4]]"
            ]
          },
          "metadata": {},
          "execution_count": 16
        }
      ]
    },
    {
      "cell_type": "code",
      "metadata": {
        "colab": {
          "base_uri": "https://localhost:8080/"
        },
        "id": "62x9T1tdom71",
        "outputId": "a8e61b65-86d9-458c-82a6-83e788fa0670"
      },
      "source": [
        "def allPairs(liste, sayi) :\n",
        "  return ([sorted([i,j]) for i in liste for j in liste[liste.index(i)+1:] if i + j == sayi])\n",
        "allPairs([2, 4, 5, 3], 7)"
      ],
      "execution_count": 1,
      "outputs": [
        {
          "output_type": "execute_result",
          "data": {
            "text/plain": [
              "[[2, 5], [3, 4]]"
            ]
          },
          "metadata": {},
          "execution_count": 1
        }
      ]
    }
  ]
}