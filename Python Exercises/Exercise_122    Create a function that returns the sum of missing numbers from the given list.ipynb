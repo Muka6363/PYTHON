{
  "nbformat": 4,
  "nbformat_minor": 0,
  "metadata": {
    "colab": {
      "name": "Exercise - 122",
      "provenance": [],
      "collapsed_sections": []
    },
    "kernelspec": {
      "name": "python3",
      "display_name": "Python 3"
    },
    "language_info": {
      "name": "python"
    }
  },
  "cells": [
    {
      "cell_type": "markdown",
      "metadata": {
        "id": "Rri-jHM9AGBS"
      },
      "source": [
        "**Exercise - 122 | ?def | ?range() | ?min() | ?max() | ?sum() | ?comprehension**\n",
        "\n",
        "Create a function that returns the sum of missing numbers from the given list.\n",
        "\n",
        "Examples\n",
        "\n",
        "sum_missing_numbers([4, 3, 8, 1, 2]) ➞ 18\n",
        "\n",
        "- 5 + 6 + 7 = 18\n",
        "\n",
        "sum_missing_numbers([17, 16, 15, 10, 11, 12]) ➞ 27\n",
        "\n",
        "- 13 + 14 = 27\n",
        "\n",
        "sum_missing_numbers([1, 2, 3, 4, 5]) ➞ 0\n",
        "\n",
        "- No Missing Numbers (i.e. all numbers in [1, 5] are present in the list)"
      ]
    },
    {
      "cell_type": "code",
      "metadata": {
        "colab": {
          "base_uri": "https://localhost:8080/"
        },
        "id": "r8TjMJlrAGJ3",
        "outputId": "deab713c-fa34-4d82-b469-ac641f688ac2"
      },
      "source": [
        "numbers = [4, 3, 8, 1, 2]\n",
        "toplam = 0\n",
        "\n",
        "for i in range(min(numbers), max(numbers) + 1) :\n",
        "  if i not in numbers :\n",
        "    toplam += i\n",
        "print(toplam)"
      ],
      "execution_count": 5,
      "outputs": [
        {
          "output_type": "stream",
          "name": "stdout",
          "text": [
            "18\n"
          ]
        }
      ]
    },
    {
      "cell_type": "code",
      "metadata": {
        "colab": {
          "base_uri": "https://localhost:8080/"
        },
        "id": "jXlR7wyNBuzC",
        "outputId": "e6dd3e3d-1ea4-4841-9a1a-2296fedea736"
      },
      "source": [
        "numbers = [4, 3, 8, 1, 2]\n",
        "sum([i for i in range(min(numbers), max(numbers) + 1) if i not in numbers])"
      ],
      "execution_count": 7,
      "outputs": [
        {
          "output_type": "execute_result",
          "data": {
            "text/plain": [
              "18"
            ]
          },
          "metadata": {},
          "execution_count": 7
        }
      ]
    },
    {
      "cell_type": "code",
      "metadata": {
        "colab": {
          "base_uri": "https://localhost:8080/"
        },
        "id": "kxsaKwevCxG5",
        "outputId": "969ce581-7dda-4ec6-c45f-0cebb29ca88d"
      },
      "source": [
        "numbers = [4, 3, 8, 1, 2]\n",
        "sum([i for i in range(min(numbers), max(numbers)) if i not in numbers])"
      ],
      "execution_count": 9,
      "outputs": [
        {
          "output_type": "execute_result",
          "data": {
            "text/plain": [
              "18"
            ]
          },
          "metadata": {},
          "execution_count": 9
        }
      ]
    },
    {
      "cell_type": "code",
      "metadata": {
        "colab": {
          "base_uri": "https://localhost:8080/"
        },
        "id": "hMxzi-ShCfVc",
        "outputId": "c70b6086-a799-483b-cbf8-bd8bf7680243"
      },
      "source": [
        "def sum_missing_numbers(liste) :\n",
        "  return sum([i for i in range(min(liste), max(liste)) if i not in liste])\n",
        "  \n",
        "sum_missing_numbers([4,3,8,1,2])"
      ],
      "execution_count": 8,
      "outputs": [
        {
          "output_type": "execute_result",
          "data": {
            "text/plain": [
              "18"
            ]
          },
          "metadata": {},
          "execution_count": 8
        }
      ]
    }
  ]
}