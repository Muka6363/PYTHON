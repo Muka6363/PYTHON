{
  "nbformat": 4,
  "nbformat_minor": 0,
  "metadata": {
    "colab": {
      "name": "Exercise_076",
      "provenance": [],
      "collapsed_sections": []
    },
    "kernelspec": {
      "name": "python3",
      "display_name": "Python 3"
    },
    "language_info": {
      "name": "python"
    }
  },
  "cells": [
    {
      "cell_type": "markdown",
      "source": [
        "**Exercise - 076 | ?list() | ?map() | ?input() | ?split() | ?comprehension | ?for loop | ?count() | ?set() | ?def**\n",
        "\n",
        "There is an array with some numbers. All numbers are equal except for one. Try to find it!\n",
        "\n",
        "find_uniq([ 1, 1, 1, 2, 1, 1 ]) == 2\n",
        "\n",
        "find_uniq([ 0, 0, 0.55, 0, 0 ]) == 0.55\n",
        "\n",
        "It’s guaranteed that array contains at least 3 numbers.\n",
        "The tests contain some very huge arrays, so think about performance.\n",
        "This is the first kata in series:\n",
        "\n",
        "1. Find the unique number (this kata)\n",
        "\n",
        "2. Find the unique string\n",
        "\n",
        "3. Find The Unique"
      ],
      "metadata": {
        "id": "A1uXhqRuf8z0"
      }
    },
    {
      "cell_type": "code",
      "source": [
        "def find_uniq(arr):\n",
        "    return [j for j in set(arr) if arr.count(j) == 1][0]\n",
        "    \n",
        "print(find_uniq([ 1, 1, 1, 1, 1, 2]))\n",
        "\n",
        "def find_uniq(arr):\n",
        "    a, b = set(arr)\n",
        "    return a if arr.count(a) == 1 else b\n",
        "    \n",
        "print(find_uniq([ 1, 1, 1, 1, 1, 2]))"
      ],
      "metadata": {
        "colab": {
          "base_uri": "https://localhost:8080/"
        },
        "id": "--grrY-Xf87E",
        "outputId": "828ced77-452f-4979-c80c-d76439ecf51e"
      },
      "execution_count": 1,
      "outputs": [
        {
          "output_type": "stream",
          "name": "stdout",
          "text": [
            "2\n",
            "2\n"
          ]
        }
      ]
    },
    {
      "cell_type": "code",
      "source": [
        "def find_uniq(array):\n",
        "    return [i for i in set(array) if array.count(i) == 1][0]\n",
        "    \n",
        "print(find_uniq([ 1, 1, 1, 1, 1, 2]))"
      ],
      "metadata": {
        "colab": {
          "base_uri": "https://localhost:8080/"
        },
        "id": "CNa21htkgClU",
        "outputId": "21a3494e-1f32-44ff-b56e-cffadbb3c1ec"
      },
      "execution_count": 2,
      "outputs": [
        {
          "output_type": "stream",
          "name": "stdout",
          "text": [
            "2\n"
          ]
        }
      ]
    },
    {
      "cell_type": "code",
      "source": [
        "num_list = list(map(int, input(\"Please enter a list of number by seperating with space: \").split()))\n",
        "for i in num_list :\n",
        "  if num_list.count(i) == 1 :\n",
        "    print(i)"
      ],
      "metadata": {
        "colab": {
          "base_uri": "https://localhost:8080/"
        },
        "id": "XzQd-mnPgCqy",
        "outputId": "8ce95d25-14a3-4e73-9334-e48b21e4ea5c"
      },
      "execution_count": 3,
      "outputs": [
        {
          "output_type": "stream",
          "name": "stdout",
          "text": [
            "Please enter a list of number by seperating with space: 1 2 1 1 1 5 5\n",
            "2\n"
          ]
        }
      ]
    },
    {
      "cell_type": "code",
      "source": [
        "array = [ 1, 1, 1, 1, 1, 2]\n",
        "liste = [i for i in set(array) if array.count(i) == 1]\n",
        "print(liste)"
      ],
      "metadata": {
        "colab": {
          "base_uri": "https://localhost:8080/"
        },
        "id": "ZyHMpJx8gCvw",
        "outputId": "bb12098c-8137-4202-8b72-3926811ad961"
      },
      "execution_count": 4,
      "outputs": [
        {
          "output_type": "stream",
          "name": "stdout",
          "text": [
            "[2]\n"
          ]
        }
      ]
    }
  ]
}