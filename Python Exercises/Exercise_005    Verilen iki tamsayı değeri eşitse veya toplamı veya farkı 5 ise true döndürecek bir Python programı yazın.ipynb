{
  "nbformat": 4,
  "nbformat_minor": 0,
  "metadata": {
    "colab": {
      "name": "Exercise- 5.ipynb",
      "provenance": [],
      "collapsed_sections": []
    },
    "kernelspec": {
      "name": "python3",
      "display_name": "Python 3"
    },
    "language_info": {
      "name": "python"
    }
  },
  "cells": [
    {
      "cell_type": "markdown",
      "metadata": {
        "id": "ArJ2vhIaszm8"
      },
      "source": [
        "**Exercise - 5**\n",
        "\n",
        "Write a Python program that will return true if the two given integer values are equal or their sum or difference is 5.\n",
        "\n",
        "Verilen iki tamsayı değeri eşitse veya toplamı veya farkı 5 ise true döndürecek bir Python programı yazın."
      ]
    },
    {
      "cell_type": "code",
      "metadata": {
        "colab": {
          "base_uri": "https://localhost:8080/"
        },
        "id": "3gShiOiiszuG",
        "outputId": "0347225e-4c93-4419-ca3f-d2380cd6287d"
      },
      "source": [
        "liste = list(map(int, input(\"Lütfen iki sayı girin: \").split()))\n",
        "a = liste[0]\n",
        "b = liste[1]\n",
        "if a == b or a + b == 5 or a - b == 5 or b - a == 5 :\n",
        "  print(True)\n",
        "else :\n",
        "  print(False)"
      ],
      "execution_count": 1,
      "outputs": [
        {
          "output_type": "stream",
          "name": "stdout",
          "text": [
            "Lütfen iki sayı girin: 5 5\n",
            "True\n"
          ]
        }
      ]
    }
  ]
}