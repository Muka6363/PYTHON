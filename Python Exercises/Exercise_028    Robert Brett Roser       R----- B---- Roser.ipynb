{
  "nbformat": 4,
  "nbformat_minor": 0,
  "metadata": {
    "colab": {
      "name": "Exercise - 28 (v2).ipynb",
      "provenance": [],
      "collapsed_sections": []
    },
    "kernelspec": {
      "name": "python3",
      "display_name": "Python 3"
    },
    "language_info": {
      "name": "python"
    }
  },
  "cells": [
    {
      "cell_type": "markdown",
      "metadata": {
        "id": "VTBOlc4ZeAWp"
      },
      "source": [
        "**Exercise - 28 Version - 2**\n",
        "\n",
        "INPUT: Robert Brett Roser\n",
        "\n",
        "![image.png](data:image/png;base64,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)"
      ]
    },
    {
      "cell_type": "code",
      "metadata": {
        "colab": {
          "base_uri": "https://localhost:8080/"
        },
        "id": "9v6zr-XaeAfd",
        "outputId": "366dd562-d6b3-4e03-ea9b-bd533b825b57"
      },
      "source": [
        "name = list(map(str.title, input(\"Please enter your name & surname: \").split()))\n",
        "count = 0\n",
        "for i in name :\n",
        "  count +=1\n",
        "  if count < len(name) :\n",
        "    i = i[0] + (\"*\" * (len(i) - 1))\n",
        "  else :\n",
        "    i = i\n",
        "  print(i, end = \" \")"
      ],
      "execution_count": 8,
      "outputs": [
        {
          "output_type": "stream",
          "name": "stdout",
          "text": [
            "Please enter your name & surname: Mustafa Kemal Atatürk\n",
            "M****** K**** Atatürk "
          ]
        }
      ]
    }
  ]
}