{
  "nbformat": 4,
  "nbformat_minor": 0,
  "metadata": {
    "colab": {
      "name": "Exercise - 151",
      "provenance": [],
      "collapsed_sections": []
    },
    "kernelspec": {
      "name": "python3",
      "display_name": "Python 3"
    },
    "language_info": {
      "name": "python"
    }
  },
  "cells": [
    {
      "cell_type": "markdown",
      "metadata": {
        "id": "aZaqqK6LRo3h"
      },
      "source": [
        "**Exercise - 151 | ?def | ?random | ? randint() | ?while loop | ?f\"string | ?input()**\n",
        "\n",
        "Write a pyhton code, which is a number guessing game that tries to find the number that will be randomly selected from the number sequence from 1 to 100.\n",
        "\n",
        "And indicate in the code that each user has the right to guess 5, deduct 1 right for each wrong guess."
      ]
    },
    {
      "cell_type": "code",
      "metadata": {
        "colab": {
          "base_uri": "https://localhost:8080/"
        },
        "id": "iReRxbkfRo-B",
        "outputId": "cf64f3a4-441d-4c4a-bc42-56425ea04f66"
      },
      "source": [
        "def number_guess(end,guess):\n",
        "  import random\n",
        "  a=random.randint(1,end)\n",
        "  while True:\n",
        "    guess-=1\n",
        "    b=int(input(\"Please enter a digit from 1 to 100: \"))\n",
        "    if b==a:\n",
        "      print(\"Congratulations, correct guess \")\n",
        "      break\n",
        "    elif b!=a:\n",
        "      print(f\"Wrong guess, remaining guess:{guess}\")\n",
        "    if guess==0:\n",
        "      print(f\"Remaining guess is finish. The correct numbers is {a}\")\n",
        "      break\n",
        "number_guess(100,5)"
      ],
      "execution_count": 1,
      "outputs": [
        {
          "output_type": "stream",
          "name": "stdout",
          "text": [
            "Please enter a digit from 1 to 100: 65\n",
            "Wrong guess, remaining guess:4\n",
            "Please enter a digit from 1 to 100: 54\n",
            "Wrong guess, remaining guess:3\n",
            "Please enter a digit from 1 to 100: 12\n",
            "Wrong guess, remaining guess:2\n",
            "Please enter a digit from 1 to 100: 11\n",
            "Wrong guess, remaining guess:1\n",
            "Please enter a digit from 1 to 100: 99\n",
            "Wrong guess, remaining guess:0\n",
            "Remaining guess is finish. The correct numbers is 37\n"
          ]
        }
      ]
    }
  ]
}