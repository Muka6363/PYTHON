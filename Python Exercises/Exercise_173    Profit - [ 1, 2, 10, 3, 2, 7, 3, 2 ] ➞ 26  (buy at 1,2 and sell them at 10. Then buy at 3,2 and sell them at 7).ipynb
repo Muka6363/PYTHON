{
  "nbformat": 4,
  "nbformat_minor": 0,
  "metadata": {
    "colab": {
      "name": "Exercise - 173",
      "provenance": [],
      "collapsed_sections": []
    },
    "kernelspec": {
      "name": "python3",
      "display_name": "Python 3"
    },
    "language_info": {
      "name": "python"
    }
  },
  "cells": [
    {
      "cell_type": "markdown",
      "source": [
        "**Exercise - 173 | ?def | ?for loop | ?index() | ?max() | ?sum | ?enumerate() | ?comprehension**\n",
        "\n",
        "Return the most profit from stock quotes.\n",
        "\n",
        "Stock quotes are stored in an array in order of date. The stock profit is the difference in prices in buying and selling stock. Each day, you can either buy one unit of stock, sell any number of stock units you have already bought, or do nothing. Therefore, the most profit is the maximum difference of all pairs in a sequence of stock prices.\n",
        "\n",
        "Example:\n",
        "\n",
        " [ 1, 2, 3, 4, 5, 6 ]        => 15  (buy at 1,2,3,4,5 and then sell all at 6)\n",
        "\n",
        " [ 6, 5, 4, 3, 2, 1 ]        => 0   (nothing to buy for profit)\n",
        "\n",
        " [ 1, 6, 5, 10, 8, 7 ]       => 18  (buy at 1,6,5 and sell all at 10)\n",
        " \n",
        " [ 1, 2, 10, 3, 2, 7, 3, 2 ] => 26  (buy at 1,2 and sell them at 10. Then buy at 3,2 and sell them at 7)"
      ],
      "metadata": {
        "id": "-XulN1Tk1J85"
      }
    },
    {
      "cell_type": "code",
      "source": [
        "def stock_profit(n):\n",
        "  profit=0\n",
        "  for i in n:\n",
        "    if i<max(n) :profit+=max(n)-i\n",
        "    n[n.index(i)]=0\n",
        "  return profit\n",
        "stock_profit([ 1, 2, 10, 3, 2, 7, 3, 2 ])"
      ],
      "metadata": {
        "id": "eWwUlG701KFH",
        "colab": {
          "base_uri": "https://localhost:8080/"
        },
        "outputId": "d2168951-2602-406c-97df-01b3b9e857ed"
      },
      "execution_count": 2,
      "outputs": [
        {
          "output_type": "execute_result",
          "data": {
            "text/plain": [
              "26"
            ]
          },
          "metadata": {},
          "execution_count": 2
        }
      ]
    },
    {
      "cell_type": "code",
      "source": [
        "def stock_profit(quotes) : \n",
        "    return sum(max(quotes[i:]) - q for i, q in enumerate(quotes))\n",
        "stock_profit([ 1, 2, 10, 3, 2, 7, 3, 2 ])"
      ],
      "metadata": {
        "colab": {
          "base_uri": "https://localhost:8080/"
        },
        "id": "dGxd9cTqZ7J5",
        "outputId": "0fe9689b-961c-4665-913d-11d1b3473d56"
      },
      "execution_count": 1,
      "outputs": [
        {
          "output_type": "execute_result",
          "data": {
            "text/plain": [
              "26"
            ]
          },
          "metadata": {},
          "execution_count": 1
        }
      ]
    }
  ]
}