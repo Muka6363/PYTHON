{
  "nbformat": 4,
  "nbformat_minor": 0,
  "metadata": {
    "colab": {
      "name": "Permutation",
      "provenance": [],
      "collapsed_sections": []
    },
    "kernelspec": {
      "name": "python3",
      "display_name": "Python 3"
    },
    "language_info": {
      "name": "python"
    }
  },
  "cells": [
    {
      "cell_type": "markdown",
      "source": [
        "**Permutation | ?for range | ?range() | ?len() | ?comprehension | ?set() | ?difference()**\n",
        "\n",
        "Given a collection of distinct integers, return all possible permutations. This example has three elements but solution should cover all possible element numbers.\n",
        "\n",
        "Example:\n",
        "\n",
        "Input:\n",
        "\n",
        "[1,2,3]\n",
        "\n",
        "Output:\n",
        "\n",
        "[\n",
        "\n",
        "  [1,2,3],\n",
        "\n",
        "  [1,3,2],\n",
        "\n",
        "  [2,1,3],\n",
        "\n",
        "  [2,3,1],\n",
        "\n",
        "  [3,1,2],\n",
        "\n",
        "  [3,2,1]\n",
        "\n",
        "]"
      ],
      "metadata": {
        "id": "o6-vzcIDGnRD"
      }
    },
    {
      "cell_type": "code",
      "source": [
        "num = [1, 2, 3]\n",
        "num_set = set(num)\n",
        "solution = [[]]\n",
        "\n",
        "for index in range(len(num)) :\n",
        "    solution = [i + [j] for i in solution for j in num_set.difference(set(i))]\n",
        "\n",
        "print(solution)"
      ],
      "metadata": {
        "colab": {
          "base_uri": "https://localhost:8080/"
        },
        "id": "PwtjkSflGnar",
        "outputId": "5ff0ea03-1e4d-46c4-f06a-5441f5a0ab86"
      },
      "execution_count": 1,
      "outputs": [
        {
          "output_type": "stream",
          "name": "stdout",
          "text": [
            "[[1, 2, 3], [1, 3, 2], [2, 1, 3], [2, 3, 1], [3, 1, 2], [3, 2, 1]]\n"
          ]
        }
      ]
    }
  ]
}