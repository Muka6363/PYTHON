{
  "nbformat": 4,
  "nbformat_minor": 0,
  "metadata": {
    "colab": {
      "name": "Exercise - 167",
      "provenance": [],
      "collapsed_sections": []
    },
    "kernelspec": {
      "name": "python3",
      "display_name": "Python 3"
    },
    "language_info": {
      "name": "python"
    }
  },
  "cells": [
    {
      "cell_type": "markdown",
      "metadata": {
        "id": "_eJNZtA4-3KA"
      },
      "source": [
        "**Exercise - 167 | ?def | ?f\"string | ?format() | ?join() | ?str() | ?int() | ?for loop | ?comprehension | ?range() | ?len() | ?rjust()**\n",
        "\n",
        "Take the following IPv4 address: **128.32.10.1**\n",
        "\n",
        "This address has 4 octets where each octet is a single byte (or 8 bits).\n",
        "\n",
        "- 1st octet **128** has the binary representation: **10000000**\n",
        "- 2nd octet **32** has the binary representation: **00100000**\n",
        "- 3rd octet **10** has the binary representation: **00001010**\n",
        "- 4th octet **1** has the binary representation: **00000001**\n",
        "\n",
        "So **128.32.10.1** == **10000000.00100000.00001010.00000001**\n",
        "\n",
        "Because the above IP address has 32 bits, we can represent it as the unsigned 32 bit number: **2149583361**\n",
        "\n",
        "Complete the function that takes an unsigned 32 bit number and returns a string representation of its IPv4 address.\n",
        "\n",
        "Examples\n",
        "\n",
        "2149583361 ==> \"128.32.10.1\"\n",
        "\n",
        "32         ==> \"0.0.0.32\"\n",
        "\n",
        "0          ==> \"0.0.0.0\""
      ]
    },
    {
      "cell_type": "code",
      "metadata": {
        "colab": {
          "base_uri": "https://localhost:8080/",
          "height": 35
        },
        "id": "plEl3qZOECEM",
        "outputId": "60ea00f4-0ca6-4080-fb10-e170a4840323"
      },
      "source": [
        "def function(a) :\n",
        "  donusturulmus = \"{0:b}\".format(a).rjust(32, \"0\")\n",
        "  return \".\".join([str(int(donusturulmus[x : x + 8], 2)) for x in range(0, len(donusturulmus), 8)])\n",
        "function(2149583361)"
      ],
      "execution_count": 30,
      "outputs": [
        {
          "output_type": "execute_result",
          "data": {
            "application/vnd.google.colaboratory.intrinsic+json": {
              "type": "string"
            },
            "text/plain": [
              "'128.32.10.1'"
            ]
          },
          "metadata": {},
          "execution_count": 30
        }
      ]
    },
    {
      "cell_type": "code",
      "metadata": {
        "colab": {
          "base_uri": "https://localhost:8080/",
          "height": 35
        },
        "id": "ElflbvYvH9qu",
        "outputId": "e9257094-cdc7-44c4-9493-58f70b18d1b0"
      },
      "source": [
        "function(0)"
      ],
      "execution_count": 32,
      "outputs": [
        {
          "output_type": "execute_result",
          "data": {
            "application/vnd.google.colaboratory.intrinsic+json": {
              "type": "string"
            },
            "text/plain": [
              "'0.0.0.0'"
            ]
          },
          "metadata": {},
          "execution_count": 32
        }
      ]
    },
    {
      "cell_type": "code",
      "metadata": {
        "colab": {
          "base_uri": "https://localhost:8080/",
          "height": 35
        },
        "id": "T8J46C8JHfA9",
        "outputId": "8014b6b2-44f9-48a1-b6fd-6575e62d2a02"
      },
      "source": [
        "def int32_to_ip(int32):\n",
        "    bin_str = f'{int32:b}'.rjust(32, '0')\n",
        "    return '.'.join([str(int(bin_str[idx:idx + 8], 2)) for idx in range(0, len(bin_str), 8)])\n",
        "int32_to_ip(2149583361)"
      ],
      "execution_count": 25,
      "outputs": [
        {
          "output_type": "execute_result",
          "data": {
            "application/vnd.google.colaboratory.intrinsic+json": {
              "type": "string"
            },
            "text/plain": [
              "'128.32.10.1'"
            ]
          },
          "metadata": {},
          "execution_count": 25
        }
      ]
    },
    {
      "cell_type": "markdown",
      "metadata": {
        "id": "ksE6QBFzGpNQ"
      },
      "source": [
        "**---   Aşağıdaki kısım kodu başkalarına anlatmak için yapılmış ayrıştırma çalışmasıdır.   ---**"
      ]
    },
    {
      "cell_type": "code",
      "metadata": {
        "colab": {
          "base_uri": "https://localhost:8080/",
          "height": 35
        },
        "id": "nN7wOldTCrRa",
        "outputId": "b3c3b1b0-41fd-4346-f236-90042042d32f"
      },
      "source": [
        "int32 = 2149583361\n",
        "bin_str = f'{int32:b}'.rjust(32, '0')\n",
        "bin_str"
      ],
      "execution_count": 5,
      "outputs": [
        {
          "output_type": "execute_result",
          "data": {
            "application/vnd.google.colaboratory.intrinsic+json": {
              "type": "string"
            },
            "text/plain": [
              "'10000000001000000000101000000001'"
            ]
          },
          "metadata": {},
          "execution_count": 5
        }
      ]
    },
    {
      "cell_type": "code",
      "metadata": {
        "colab": {
          "base_uri": "https://localhost:8080/",
          "height": 35
        },
        "id": "BxQbUvl3DRZP",
        "outputId": "ff6cd50c-fc79-45ef-ddee-08cb5aa13a6e"
      },
      "source": [
        "int32 = 2149583361\n",
        "bin_str = f'{int32:b}'\n",
        "bin_str"
      ],
      "execution_count": 1,
      "outputs": [
        {
          "output_type": "execute_result",
          "data": {
            "application/vnd.google.colaboratory.intrinsic+json": {
              "type": "string"
            },
            "text/plain": [
              "'10000000001000000000101000000001'"
            ]
          },
          "metadata": {},
          "execution_count": 1
        }
      ]
    },
    {
      "cell_type": "code",
      "metadata": {
        "colab": {
          "base_uri": "https://localhost:8080/",
          "height": 35
        },
        "id": "jYAuGTkcC94P",
        "outputId": "fd9d781a-49a5-4cd1-adcf-1395dcd74583"
      },
      "source": [
        "a = 128\n",
        "strr = f'{a:b}'\n",
        "strr"
      ],
      "execution_count": 3,
      "outputs": [
        {
          "output_type": "execute_result",
          "data": {
            "application/vnd.google.colaboratory.intrinsic+json": {
              "type": "string"
            },
            "text/plain": [
              "'10000000'"
            ]
          },
          "metadata": {},
          "execution_count": 3
        }
      ]
    },
    {
      "cell_type": "code",
      "metadata": {
        "id": "-KfcUUrqD7eZ"
      },
      "source": [
        "don = \"{0:b}\".format(2149583361)"
      ],
      "execution_count": 18,
      "outputs": []
    },
    {
      "cell_type": "code",
      "metadata": {
        "colab": {
          "base_uri": "https://localhost:8080/",
          "height": 35
        },
        "id": "KNjpPduSIbEM",
        "outputId": "3ef4236b-81a0-44c0-d3c9-3521562963e7"
      },
      "source": [
        "don = \"{0:b}\".format(0).rjust(32, '0')\n",
        "don"
      ],
      "execution_count": 36,
      "outputs": [
        {
          "output_type": "execute_result",
          "data": {
            "application/vnd.google.colaboratory.intrinsic+json": {
              "type": "string"
            },
            "text/plain": [
              "'00000000000000000000000000000000'"
            ]
          },
          "metadata": {},
          "execution_count": 36
        }
      ]
    },
    {
      "cell_type": "code",
      "metadata": {
        "colab": {
          "base_uri": "https://localhost:8080/",
          "height": 35
        },
        "id": "f5_WKS4wFR-Y",
        "outputId": "8df99e15-96ac-4a9e-a380-96effd5f94bd"
      },
      "source": [
        "str(int(\"10000000\", 2))"
      ],
      "execution_count": 21,
      "outputs": [
        {
          "output_type": "execute_result",
          "data": {
            "application/vnd.google.colaboratory.intrinsic+json": {
              "type": "string"
            },
            "text/plain": [
              "'128'"
            ]
          },
          "metadata": {},
          "execution_count": 21
        }
      ]
    }
  ]
}