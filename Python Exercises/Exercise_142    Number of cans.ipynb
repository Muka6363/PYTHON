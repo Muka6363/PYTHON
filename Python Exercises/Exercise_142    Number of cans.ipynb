{
  "nbformat": 4,
  "nbformat_minor": 0,
  "metadata": {
    "colab": {
      "name": "Exercise - 142",
      "provenance": [],
      "collapsed_sections": []
    },
    "kernelspec": {
      "name": "python3",
      "display_name": "Python 3"
    },
    "language_info": {
      "name": "python"
    }
  },
  "cells": [
    {
      "cell_type": "markdown",
      "metadata": {
        "id": "z-M3v9DwgwJc"
      },
      "source": [
        "**Exercise - 142 | ?def | ?round()**\n",
        "\n",
        "You are painting a wall. The instructions on the paint can says that 1 can of paint can cover 5 square meters of wall. Given a random height and width of wall, calculate how many cans of paint you'll need to buy.\n",
        "\n",
        "number of cans = (wall height **X** wall width) ÷ coverage per can.\n",
        "\n",
        "e.g. Height = 2, Width = 4, Coverage = 5\n",
        "\n",
        "number of cans = (2 **X** 4) ÷ 5       = 1.6\n",
        "\n",
        "But because you can't buy 0.6 of a can of paint, **the result should be rounded up** to **2** cans.\n",
        "\n",
        "IMPORTANT: Notice the name of the function and parameters must match those on line 13 for the code to work."
      ]
    },
    {
      "cell_type": "code",
      "metadata": {
        "colab": {
          "base_uri": "https://localhost:8080/"
        },
        "id": "FcefMjKW0W56",
        "outputId": "827c97fe-4a69-49ca-c59d-7907438c9a04"
      },
      "source": [
        "def number_of_cans(height, width, coverage) :\n",
        "  return round(height * width / coverage)\n",
        "number_of_cans(2, 4, 5)"
      ],
      "execution_count": 2,
      "outputs": [
        {
          "output_type": "execute_result",
          "data": {
            "text/plain": [
              "2"
            ]
          },
          "metadata": {},
          "execution_count": 2
        }
      ]
    }
  ]
}