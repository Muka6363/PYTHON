{
  "nbformat": 4,
  "nbformat_minor": 0,
  "metadata": {
    "colab": {
      "name": "Exercise - 29",
      "provenance": [],
      "collapsed_sections": []
    },
    "kernelspec": {
      "name": "python3",
      "display_name": "Python 3"
    },
    "language_info": {
      "name": "python"
    }
  },
  "cells": [
    {
      "cell_type": "markdown",
      "metadata": {
        "id": "eDoV35NcfgUa"
      },
      "source": [
        "**Exercise - 29**\n",
        "\n",
        "Write a program that takes a maximum two-digit (1-99) number from the user and finds the pronunciation of that number.\n",
        "\n",
        "For example:\n",
        "\n",
        "İnput:97\n",
        "\n",
        "Output:Doksan Yedi"
      ]
    },
    {
      "cell_type": "code",
      "metadata": {
        "colab": {
          "base_uri": "https://localhost:8080/"
        },
        "id": "amlL3Hesfgb9",
        "outputId": "5525a3fb-e520-4a2d-e186-38c3bd71fba2"
      },
      "source": [
        "birler = [\"\", \"Bir\", \"İki\", \"Üç\", \"Dört\", \"Beş\", \"Altı\", \"Yedi\", \"Sekiz\", \"Dokuz\"]\n",
        "onlar = [\"\",\"On\", \"Yirmi\", \"Otuz\", \"Kırk\", \"Elli\", \"Altmış\", \"Yetmiş\", \"Seksen\", \"Doksan\"]\n",
        "number = int(input(\"Lütfen 1-99 aralığında bir sayı giriniz: \"))\n",
        "\n",
        "ilk_basamak = number % 10 \n",
        "ikinci_basamak = number // 10\n",
        "\n",
        "if len(str(number)) == 2 :\n",
        "  print(onlar[ikinci_basamak], birler[ilk_basamak])\n",
        "elif len(str(number)) == 1 :\n",
        "  print(birler[ilk_basamak])"
      ],
      "execution_count": 6,
      "outputs": [
        {
          "output_type": "stream",
          "name": "stdout",
          "text": [
            "Lütfen 1-99 aralığında bir sayı giriniz: 97\n",
            "Doksan Yedi\n"
          ]
        }
      ]
    },
    {
      "cell_type": "code",
      "metadata": {
        "colab": {
          "base_uri": "https://localhost:8080/"
        },
        "id": "iHijepZlf1hp",
        "outputId": "785f5e5c-2671-431b-b601-15f1d92be775"
      },
      "source": [
        "7 % 10"
      ],
      "execution_count": 4,
      "outputs": [
        {
          "output_type": "execute_result",
          "data": {
            "text/plain": [
              "7"
            ]
          },
          "metadata": {},
          "execution_count": 4
        }
      ]
    },
    {
      "cell_type": "code",
      "metadata": {
        "colab": {
          "base_uri": "https://localhost:8080/"
        },
        "id": "NgsZgacYf3At",
        "outputId": "265cfc1a-25fb-4fd7-b811-5f25c3fb4a7a"
      },
      "source": [
        "90 // 10"
      ],
      "execution_count": 5,
      "outputs": [
        {
          "output_type": "execute_result",
          "data": {
            "text/plain": [
              "9"
            ]
          },
          "metadata": {},
          "execution_count": 5
        }
      ]
    }
  ]
}