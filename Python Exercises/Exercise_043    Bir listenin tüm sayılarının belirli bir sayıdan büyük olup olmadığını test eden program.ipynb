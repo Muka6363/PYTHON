{
  "nbformat": 4,
  "nbformat_minor": 0,
  "metadata": {
    "colab": {
      "name": "Exercise - 43",
      "provenance": [],
      "collapsed_sections": []
    },
    "kernelspec": {
      "name": "python3",
      "display_name": "Python 3"
    },
    "language_info": {
      "name": "python"
    }
  },
  "cells": [
    {
      "cell_type": "markdown",
      "metadata": {
        "id": "OSBTJTjVtSt0"
      },
      "source": [
        "**Exercise - 43 ?list() | ?map() | ?input() | ?all() | ?split() | ?comprehension**\n",
        "\n",
        "Write a Python program to test whether all numbers of a list is greater than a certain number.\n",
        "\n",
        "Bir listenin tüm sayılarının belirli bir sayıdan büyük olup olmadığını test eden bir Python programı yazın."
      ]
    },
    {
      "cell_type": "code",
      "metadata": {
        "colab": {
          "base_uri": "https://localhost:8080/"
        },
        "id": "89x6rHyqtS1w",
        "outputId": "8f33fc3c-59d5-4d1a-b09c-97d1e2d814e0"
      },
      "source": [
        "liste = list(map(int, input(\"Liste içinde istediğiniz sayıları girin: \").split()))\n",
        "sayi = int(input(\"Bir sayı girin: \"))\n",
        "print(all([i > sayi for i in liste]))"
      ],
      "execution_count": 1,
      "outputs": [
        {
          "output_type": "stream",
          "name": "stdout",
          "text": [
            "Liste içinde istediğiniz sayıları girin: 3 5 7 8 6 4\n",
            "Bir sayı girin: 2\n",
            "True\n"
          ]
        }
      ]
    }
  ]
}