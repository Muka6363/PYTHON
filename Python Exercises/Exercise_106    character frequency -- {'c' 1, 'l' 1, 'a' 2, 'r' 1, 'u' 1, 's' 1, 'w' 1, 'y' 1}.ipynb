{
  "nbformat": 4,
  "nbformat_minor": 0,
  "metadata": {
    "colab": {
      "name": "Exercise - 106",
      "provenance": [],
      "collapsed_sections": []
    },
    "kernelspec": {
      "name": "python3",
      "display_name": "Python 3"
    },
    "language_info": {
      "name": "python"
    }
  },
  "cells": [
    {
      "cell_type": "markdown",
      "metadata": {
        "id": "n3INFxGwnBPn"
      },
      "source": [
        "**Exercise - 106 | ?for loop | ?input()**\n",
        "\n",
        "Write a Python program to count the number of characters (character frequency) in a string.\n",
        "\n",
        "Sample String : 'google.com'\n",
        "\n",
        "Expected Result : {'g': 2, 'o': 3, 'l': 1, 'e': 1, '.': 1, 'c': 1, 'm': 1}"
      ]
    },
    {
      "cell_type": "code",
      "metadata": {
        "colab": {
          "base_uri": "https://localhost:8080/"
        },
        "id": "PFjO2-FpnBWj",
        "outputId": "d4bea425-a9d0-422c-bbfb-f108c463cd83"
      },
      "source": [
        "x, my_dict = input(\"Please enter your input: \"), {}\n",
        "\n",
        "for i in x:\n",
        "  if i not in my_dict :\n",
        "    my_dict[i] = 1\n",
        "  else :\n",
        "    my_dict[i] += 1\n",
        "\n",
        "print(my_dict)"
      ],
      "execution_count": 5,
      "outputs": [
        {
          "output_type": "stream",
          "name": "stdout",
          "text": [
            "Please enter your input: clarusway\n",
            "{'c': 1, 'l': 1, 'a': 2, 'r': 1, 'u': 1, 's': 1, 'w': 1, 'y': 1}\n"
          ]
        }
      ]
    }
  ]
}