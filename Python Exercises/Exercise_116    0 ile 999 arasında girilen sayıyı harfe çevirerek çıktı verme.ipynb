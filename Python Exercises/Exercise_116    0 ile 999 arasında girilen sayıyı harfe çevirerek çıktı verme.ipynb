{
  "nbformat": 4,
  "nbformat_minor": 0,
  "metadata": {
    "colab": {
      "name": "Exercise - 116",
      "provenance": [],
      "collapsed_sections": []
    },
    "kernelspec": {
      "name": "python3",
      "display_name": "Python 3"
    },
    "language_info": {
      "name": "python"
    }
  },
  "cells": [
    {
      "cell_type": "markdown",
      "metadata": {
        "id": "bSV-HXFeZWgD"
      },
      "source": [
        "**Exercise - 116 | ?input() | ?len()**\n",
        "\n",
        "0 ile 999 arasında girilen sayıyı harfe çevirerek çıktı veren python programını yazınız.\n"
      ]
    },
    {
      "cell_type": "code",
      "metadata": {
        "id": "Lwejn_jaZWoZ"
      },
      "source": [
        "birler = [\"\", \"Bir\", \"İki\", \"Üç\", \"Dört\", \"Beş\", \"Altı\", \"Yedi\", \"Sekiz\", \"Dokuz\"]\n",
        "onlar = [\"\",\"On\", \"Yirmi\", \"Otuz\", \"Kırk\", \"Elli\", \"Altmış\", \"Yetmiş\", \"Seksen\", \"Doksan\"]\n",
        "number = int(input(\"Lütfen 1-99 aralığında bir sayı giriniz: \"))\n",
        "\n",
        "ilk_basamak = number % 10 \n",
        "ikinci_basamak = number // 10\n",
        "\n",
        "if len(str(number)) == 2 :\n",
        "  print(onlar[ikinci_basamak], birler[ilk_basamak])\n",
        "elif len(str(number)) == 1 :\n",
        "  print(birler[ilk_basamak])"
      ],
      "execution_count": null,
      "outputs": []
    },
    {
      "cell_type": "code",
      "metadata": {
        "colab": {
          "base_uri": "https://localhost:8080/"
        },
        "id": "dBcJ4x5faC0D",
        "outputId": "d6cbc0b6-980b-44f9-b0d8-66d070b792a2"
      },
      "source": [
        "birler = [\"\", \"Bir\", \"İki\", \"Üç\", \"Dört\", \"Beş\", \"Altı\", \"Yedi\", \"Sekiz\", \"Dokuz\"]\n",
        "onlar = [\"\",\"On\", \"Yirmi\", \"Otuz\", \"Kırk\", \"Elli\", \"Altmış\", \"Yetmiş\", \"Seksen\", \"Doksan\"]\n",
        "yüzler = [\"\", \"Yüz\", \"İki Yüz\", \"Üç Yüz\", \"Dört Yüz\", \"Beş Yüz\", \"Altı Yüz\", \"Yedi Yüz\", \"Sekiz Yüz\", \"Dokuz Yüz\"]\n",
        "number = int(input(\"Lütfen 1-999 aralığında bir sayı giriniz: \"))\n",
        "\n",
        "ilk_basamak = number % 10 \n",
        "ikinci_basamak = (number // 10) % (number // 100)\n",
        "üçüncü_basamak = number // 100\n",
        "\n",
        "if len(str(number)) == 3 :\n",
        "  print(yüzler[üçüncü_basamak], onlar[ikinci_basamak], birler[ilk_basamak])\n",
        "elif len(str(number)) == 2 :\n",
        "  print(onlar[ikinci_basamak], birler[ilk_basamak])\n",
        "elif len(str(number)) == 1 :\n",
        "  print(birler[ilk_basamak])"
      ],
      "execution_count": 7,
      "outputs": [
        {
          "output_type": "stream",
          "name": "stdout",
          "text": [
            "Lütfen 1-999 aralığında bir sayı giriniz: 967\n",
            "Dokuz Yüz Altmış Yedi\n"
          ]
        }
      ]
    }
  ]
}