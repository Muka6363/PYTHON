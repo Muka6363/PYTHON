{
  "nbformat": 4,
  "nbformat_minor": 0,
  "metadata": {
    "colab": {
      "name": "Exercise_068",
      "provenance": [],
      "collapsed_sections": []
    },
    "kernelspec": {
      "name": "python3",
      "display_name": "Python 3"
    },
    "language_info": {
      "name": "python"
    }
  },
  "cells": [
    {
      "cell_type": "markdown",
      "source": [
        "**Exercise - 068 | ?while loop | ?input()**\n",
        "\n",
        "Your task is to construct a building which will be a pile of n cubes. The cube at the bottom will have a volume of n^3, the cube above will have volume of (n-1)^3 and so on until the top which will have a volume of 1^3.\n",
        "You are given the total volume m of the building. Being given m can you find the number n of cubes you will have to build?\n",
        "\n",
        "The parameter of the function findNb (find_nb, find-nb, findNb, ...) will be an integer m and you have to return the integer n such as n^3 + (n-1)^3 + ... + 1^3 = m if such a n exists or -1 if there is no such n.\n",
        "\n",
        "Examples:\n",
        "\n",
        "findNb(1071225) --> 45\n",
        "\n",
        "findNb(91716553919377) --> -1"
      ],
      "metadata": {
        "id": "n6gabNetIsy4"
      }
    },
    {
      "cell_type": "code",
      "source": [
        "number = int(input(\"Please enter a number: \"))\n",
        "count = 0\n",
        "sum = 0\n",
        "while sum < number :\n",
        "  count += 1\n",
        "  sum += count ** 3\n",
        "\n",
        "if number == sum :\n",
        "  print(count)\n",
        "else :\n",
        "  print(-1)"
      ],
      "metadata": {
        "colab": {
          "base_uri": "https://localhost:8080/"
        },
        "id": "bDL4W28kIs84",
        "outputId": "63c13e1d-56df-4d50-faaf-6ac483affdfd"
      },
      "execution_count": 1,
      "outputs": [
        {
          "output_type": "stream",
          "name": "stdout",
          "text": [
            "Please enter a number: 1071225\n",
            "45\n"
          ]
        }
      ]
    }
  ]
}