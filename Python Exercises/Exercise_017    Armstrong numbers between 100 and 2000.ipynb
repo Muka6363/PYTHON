{
  "nbformat": 4,
  "nbformat_minor": 0,
  "metadata": {
    "colab": {
      "name": "Exercise - 17.ipynb",
      "provenance": [],
      "collapsed_sections": []
    },
    "kernelspec": {
      "name": "python3",
      "display_name": "Python 3"
    },
    "language_info": {
      "name": "python"
    }
  },
  "cells": [
    {
      "cell_type": "markdown",
      "metadata": {
        "id": "u4ABw9tg81NO"
      },
      "source": [
        "**Exercise - 17**\n",
        "\n",
        "Write a program to find all the Armstrong numbers present in between two intervals in Python. For example, Armstrong numbers between 100 and 2000.\n",
        "\n",
        "Python'da iki aralık arasında bulunan tüm Armstrong sayılarını bulan bir program yazın. Örneğin, 100 ile 2000 arasında yer ala Armstrong sayılarını bulan bir program yazın.\n",
        "\n",
        "**Expected output:**\n",
        "\n",
        "153\n",
        "\n",
        "370\n",
        "\n",
        "371\n",
        "\n",
        "407\n",
        "\n",
        "1634"
      ]
    },
    {
      "cell_type": "code",
      "metadata": {
        "colab": {
          "base_uri": "https://localhost:8080/"
        },
        "id": "6VBclDQu81Sy",
        "outputId": "13881c2e-2462-434a-dc27-b99dcd63a85e"
      },
      "source": [
        "lower_num, higher_num = list(map(int, input(\"Please enter range: \").split()))\n",
        "for i in range(lower_num, higher_num+1) :\n",
        "  if sum([int(j) ** len(str(i)) for j in str(i)]) == i :\n",
        "    print(i)"
      ],
      "execution_count": 2,
      "outputs": [
        {
          "output_type": "stream",
          "name": "stdout",
          "text": [
            "Please enter range: 100 2000\n",
            "153\n",
            "370\n",
            "371\n",
            "407\n",
            "1634\n"
          ]
        }
      ]
    },
    {
      "cell_type": "code",
      "metadata": {
        "colab": {
          "base_uri": "https://localhost:8080/"
        },
        "id": "KRPKfYMv9YoG",
        "outputId": "1c7184fe-d253-4bb7-9f42-ad8d12a438f8"
      },
      "source": [
        "lower_num, higher_num = list(map(int, input(\"Please enter range: \").split()))\n",
        "for i in range(lower_num, higher_num+1) :\n",
        "  total = 0\n",
        "  exponent = len(str(i))\n",
        "  for j in range(exponent) :\n",
        "    total += int(str(i)[j]) ** exponent\n",
        "  if total == i :\n",
        "    print(\"{} is an armstrong number\".format(i))"
      ],
      "execution_count": 6,
      "outputs": [
        {
          "output_type": "stream",
          "name": "stdout",
          "text": [
            "Please enter range: 100 2000\n",
            "153 is an armstrong number\n",
            "370 is an armstrong number\n",
            "371 is an armstrong number\n",
            "407 is an armstrong number\n",
            "1634 is an armstrong number\n"
          ]
        }
      ]
    },
    {
      "cell_type": "code",
      "metadata": {
        "colab": {
          "base_uri": "https://localhost:8080/"
        },
        "id": "f4klew2Y_HC4",
        "outputId": "c21ab9ea-e69e-42d6-b3b7-0a05992b3cd0"
      },
      "source": [
        "lowerlimit = int(input(\"Enter the lower limit: \"))\n",
        "upperlimit = int(input(\"Enter the upper limit: \"))\n",
        "for i in range(lowerlimit, upperlimit + 1) :\n",
        "  armstrong = 0\n",
        "  for j in range(len(str(i))) :\n",
        "    armstrong += int(str(i)[j]) ** len (str(i))\n",
        "  if armstrong == i :\n",
        "    print(i)"
      ],
      "execution_count": 7,
      "outputs": [
        {
          "output_type": "stream",
          "name": "stdout",
          "text": [
            "Enter the lower limit: 100\n",
            "Enter the upper limit: 2000\n",
            "153\n",
            "370\n",
            "371\n",
            "407\n",
            "1634\n"
          ]
        }
      ]
    }
  ]
}