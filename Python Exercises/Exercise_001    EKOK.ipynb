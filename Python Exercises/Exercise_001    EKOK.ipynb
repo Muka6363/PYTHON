{
  "nbformat": 4,
  "nbformat_minor": 0,
  "metadata": {
    "colab": {
      "name": "Exercise - 1.ipynb",
      "provenance": [],
      "collapsed_sections": []
    },
    "kernelspec": {
      "name": "python3",
      "display_name": "Python 3"
    },
    "language_info": {
      "name": "python"
    }
  },
  "cells": [
    {
      "cell_type": "markdown",
      "metadata": {
        "id": "CKsTzvXcq9mY"
      },
      "source": [
        "**Exercise - 1**\n",
        "\n",
        "Write a Python program to get the least common multiple (LCM) of two positive integers.\n",
        "\n",
        "İki pozitif tamsayının en küçük ortak katını (LCM) bulan bir Python programı yazın."
      ]
    },
    {
      "cell_type": "code",
      "metadata": {
        "colab": {
          "base_uri": "https://localhost:8080/"
        },
        "id": "lbppLklrq9wK",
        "outputId": "7fa02864-c344-4985-8034-c646748e77d1"
      },
      "source": [
        "number1 = int(input(\"Lütfen birinci sayıyı girin: \"))\n",
        "number2 = int(input(\"Lütfen ikinci sayıyı girin: \"))\n",
        "# 10 ve 25 sayılarını ele aldığımızı varsayalım.\n",
        "for i in range(1, min(number1, number2) + 1) :\n",
        "  if (number1 % i == 0) and (number2 % i == 0) :\n",
        "    ebob = i # ebob = 5 olacak\n",
        "print(\"{} ve {} sayılarının EKOK'u =\".format(number1, number2), (number1 * number2) // ebob)"
      ],
      "execution_count": null,
      "outputs": [
        {
          "output_type": "stream",
          "name": "stdout",
          "text": [
            "Lütfen birinci sayıyı girin: 10\n",
            "Lütfen ikinci sayıyı girin: 25\n",
            "10 ve 25 sayılarının EKOK'u = 50\n"
          ]
        }
      ]
    }
  ]
}