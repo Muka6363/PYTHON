{
  "nbformat": 4,
  "nbformat_minor": 0,
  "metadata": {
    "colab": {
      "name": "Exercise - 47",
      "provenance": [],
      "collapsed_sections": []
    },
    "kernelspec": {
      "name": "python3",
      "display_name": "Python 3"
    },
    "language_info": {
      "name": "python"
    }
  },
  "cells": [
    {
      "cell_type": "markdown",
      "metadata": {
        "id": "PlNSf2sB85-U"
      },
      "source": [
        "**Exercise - 47 | ?pascal | ?range() | ?append() | ?for loop**\n",
        "\n",
        "Write Python codes that calculate the digits of pascal's triangle as many as the number of digits received from the user.\n",
        "\n",
        "İnput:6\n",
        "\n",
        "Output:\n",
        "\n",
        "[1]\n",
        "\n",
        "[1, 1]\n",
        "\n",
        "[1, 2, 1]\n",
        "\n",
        "[1, 3, 3, 1]\n",
        "\n",
        "[1, 4, 6, 4, 1]\n",
        "\n",
        "[1, 5, 10, 10, 5, 1]"
      ]
    },
    {
      "cell_type": "code",
      "metadata": {
        "colab": {
          "base_uri": "https://localhost:8080/"
        },
        "id": "VDSblip386E1",
        "outputId": "366396c5-2516-4422-e1eb-479ac9e51cf7"
      },
      "source": [
        "num = 6\n",
        "liste = []\n",
        "for i in range(1, num+1):\n",
        "  sayac = 0\n",
        "  liste1 = []\n",
        "  for j in liste:\n",
        "    liste1.append(sayac+j)\n",
        "    sayac=j\n",
        "  liste1.append(1)\n",
        "  liste=liste1\n",
        "  print(liste)"
      ],
      "execution_count": 1,
      "outputs": [
        {
          "output_type": "stream",
          "name": "stdout",
          "text": [
            "[1]\n",
            "[1, 1]\n",
            "[1, 2, 1]\n",
            "[1, 3, 3, 1]\n",
            "[1, 4, 6, 4, 1]\n",
            "[1, 5, 10, 10, 5, 1]\n"
          ]
        }
      ]
    },
    {
      "cell_type": "code",
      "metadata": {
        "colab": {
          "base_uri": "https://localhost:8080/"
        },
        "id": "HtpMy4JV8--R",
        "outputId": "8a51d7ba-fd76-4d51-9416-3a3dd4a6e4e2"
      },
      "source": [
        "# Alternative\n",
        "\n",
        "pascal =[[1],[1,1]]\n",
        "for i in range(2,10):\n",
        "  liste=[1]\n",
        "  for j in range(1,i):\n",
        "    liste.append(pascal[i-1][j-1]+pascal[i-1][j])\n",
        "  liste.append(1)\n",
        "  pascal.append(liste)\n",
        "for i in pascal:\n",
        "  print(i)"
      ],
      "execution_count": 2,
      "outputs": [
        {
          "output_type": "stream",
          "name": "stdout",
          "text": [
            "[1]\n",
            "[1, 1]\n",
            "[1, 2, 1]\n",
            "[1, 3, 3, 1]\n",
            "[1, 4, 6, 4, 1]\n",
            "[1, 5, 10, 10, 5, 1]\n",
            "[1, 6, 15, 20, 15, 6, 1]\n",
            "[1, 7, 21, 35, 35, 21, 7, 1]\n",
            "[1, 8, 28, 56, 70, 56, 28, 8, 1]\n",
            "[1, 9, 36, 84, 126, 126, 84, 36, 9, 1]\n"
          ]
        }
      ]
    }
  ]
}