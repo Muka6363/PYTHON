{
  "nbformat": 4,
  "nbformat_minor": 0,
  "metadata": {
    "colab": {
      "name": "Exercise - 166",
      "provenance": [],
      "collapsed_sections": []
    },
    "kernelspec": {
      "name": "python3",
      "display_name": "Python 3"
    },
    "language_info": {
      "name": "python"
    }
  },
  "cells": [
    {
      "cell_type": "markdown",
      "metadata": {
        "id": "aLp8qnVw6508"
      },
      "source": [
        "**Exercise - 166 | ?def**\n",
        "\n",
        "Given the triangle of consecutive odd numbers:\n",
        "\n",
        "                  1\n",
        "               3     5\n",
        "            7     9    11\n",
        "         13    15    17   19\n",
        "      21    23    25   27   29\n",
        "    ...\n",
        "\n",
        "Calculate the sum of the numbers in the nth row of this triangle (starting at index 1) e.g.: (Input --> Output)\n",
        "\n",
        "1 -->  1\n",
        "\n",
        "2 --> 3 + 5 = 8"
      ]
    },
    {
      "cell_type": "code",
      "metadata": {
        "colab": {
          "base_uri": "https://localhost:8080/"
        },
        "id": "-sLNAz5G658c",
        "outputId": "a14656ca-e8bd-4296-d3c2-791b71b557ef"
      },
      "source": [
        "def function(x):\n",
        "    return x*x*x\n",
        "function(4)"
      ],
      "execution_count": 3,
      "outputs": [
        {
          "output_type": "execute_result",
          "data": {
            "text/plain": [
              "64"
            ]
          },
          "metadata": {},
          "execution_count": 3
        }
      ]
    }
  ]
}