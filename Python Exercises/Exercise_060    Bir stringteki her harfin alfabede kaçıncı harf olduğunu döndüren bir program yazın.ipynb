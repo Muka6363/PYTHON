{
  "nbformat": 4,
  "nbformat_minor": 0,
  "metadata": {
    "colab": {
      "name": "Exercise - 060",
      "provenance": [],
      "collapsed_sections": []
    },
    "kernelspec": {
      "name": "python3",
      "display_name": "Python 3"
    },
    "language_info": {
      "name": "python"
    }
  },
  "cells": [
    {
      "cell_type": "markdown",
      "source": [
        "**Exercise - 60 | ?comprehension | ?for loop | ?join() | ?isalpha() | ?lower() | ?index()**\n",
        "\n",
        "Write a program that  given a string and replace every letter with its position in the alphabet.\n",
        "\n",
        "If anything in the text isn't a letter, ignore it and don't return it.\n",
        "\n",
        "\"a\" = 1, \"b\" = 2, etc.\n",
        "\n",
        "Example alphabet_position(\"The sunset sets at twelve o' clock.\") Should return \"20 8 5 19 21 14 19 5 20 19 5 20 19 1 20 20 23 5 12 22 5 15 3 12 15 3 11\"\n",
        "\n",
        " **(NOTE:as a string)**"
      ],
      "metadata": {
        "id": "n0HVMK7o0DM_"
      }
    },
    {
      "cell_type": "code",
      "source": [
        "alphabet = \"abcdefghijklmnopqrstuvwxyz\"\n",
        "given_string = \"Hello Python Coders!\"\n",
        "\n",
        "only_letter = \"\".join(i for i in given_string if i.isalpha()).lower()\n",
        "for j in only_letter :\n",
        "  print(str(alphabet.index(j) + 1), end = \" \")"
      ],
      "metadata": {
        "colab": {
          "base_uri": "https://localhost:8080/"
        },
        "id": "VfPqyVbK0DSi",
        "outputId": "a3828107-5dfa-48b7-87d9-e26d49a7665b"
      },
      "execution_count": 1,
      "outputs": [
        {
          "output_type": "stream",
          "name": "stdout",
          "text": [
            "8 5 12 12 15 16 25 20 8 15 14 3 15 4 5 18 19 "
          ]
        }
      ]
    },
    {
      "cell_type": "code",
      "source": [
        "alphabet = \"abcdefghijklmnopqrstuvwxyz\"\n",
        "given_string = \"Hello Python Coders!\"\n",
        "\n",
        "for i in given_string.lower() :\n",
        "  if i.isalpha() :\n",
        "    print(str(alphabet.index(i) + 1), end = \" \")"
      ],
      "metadata": {
        "colab": {
          "base_uri": "https://localhost:8080/"
        },
        "id": "bE5sN4YE0HRI",
        "outputId": "671db7fe-d657-41a3-e0de-13b2a2fa610b"
      },
      "execution_count": 2,
      "outputs": [
        {
          "output_type": "stream",
          "name": "stdout",
          "text": [
            "8 5 12 12 15 16 25 20 8 15 14 3 15 4 5 18 19 "
          ]
        }
      ]
    }
  ]
}