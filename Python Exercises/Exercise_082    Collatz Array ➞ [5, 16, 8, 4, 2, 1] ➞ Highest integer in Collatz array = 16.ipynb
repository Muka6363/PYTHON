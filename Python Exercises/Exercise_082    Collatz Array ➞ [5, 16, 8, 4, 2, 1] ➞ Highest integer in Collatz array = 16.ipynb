{
  "nbformat": 4,
  "nbformat_minor": 0,
  "metadata": {
    "colab": {
      "name": "Exercise - 82.ipynb",
      "provenance": [],
      "collapsed_sections": []
    },
    "kernelspec": {
      "name": "python3",
      "display_name": "Python 3"
    },
    "language_info": {
      "name": "python"
    }
  },
  "cells": [
    {
      "cell_type": "markdown",
      "metadata": {
        "id": "443baxhOhq4-"
      },
      "source": [
        "**Exercise - 82 | ?input() | ?while loop | ?append() | ?f\"string | ?max()**\n",
        "\n",
        "The Collatz sequence is as follows:\n",
        "\n",
        "- Start with some given integer n.\n",
        "\n",
        "- If it is even, the next number will be n divided by 2.\n",
        "\n",
        "- If it is odd, multiply it by 3 and add 1 to make the next number.\n",
        "\n",
        "- The sequence stops when it reaches 1.\n",
        "\n",
        "According to the Collatz conjecture, it will always reach 1. If that's true, you can construct a finite sequence following the aforementioned method for any given integer.\n",
        "\n",
        "Write a function that takes in an integer n and returns the highest integer in the corresponding Collatz sequence.\n",
        "\n",
        "--------------------------------------------------------------------------------\n",
        "\n",
        "Collatz dizisi aşağıdaki gibidir:\n",
        "\n",
        "- Belirli bir n tamsayısıyla başlayın.\n",
        "\n",
        "- Çift ise, sonraki sayı n'nin 2'ye bölümü olacaktır.\n",
        "\n",
        "- Tek ise, bir sonraki sayıyı oluşturmek için 3 ile çarpın ve 1 ekleyin.\n",
        "\n",
        "- Sıra 1'e ulaştığında durur.\n",
        "\n",
        "Collatz varsayımına göre, her zaman 1'e ulaşacaktır. Bu doğruysa, verilen herhangi bir tamsayı için yukarıda belirtilen yöntemi izleyerek sonlu bir dizi oluşturabilirsiniz.\n",
        "\n",
        "Bir n tamsayısını alan ve karşılık gelen Collatz dizisindeki en yüksek tamsayıyı döndüren bir fonksiyon yazın."
      ]
    },
    {
      "cell_type": "code",
      "metadata": {
        "colab": {
          "base_uri": "https://localhost:8080/"
        },
        "id": "Ja7Vmu1rhrCH",
        "outputId": "d35855a1-e5c8-44bf-b3a7-884ad77c287d"
      },
      "source": [
        "n = int(input(\"Please enter a number: \"))\n",
        "liste = [n]\n",
        "while n!= 1 :\n",
        "  if n % 2 == 0:\n",
        "    n = n // 2\n",
        "  else :\n",
        "    n = 3 * n + 1\n",
        "  liste.append(n)\n",
        "print(liste)\n",
        "print(f\"Highest integer in Collatz array = {max(liste)}\")"
      ],
      "execution_count": null,
      "outputs": [
        {
          "output_type": "stream",
          "name": "stdout",
          "text": [
            "Please enter a number: 5\n",
            "[5, 16, 8, 4, 2, 1]\n",
            "Highest integer in Collatz array = 16\n"
          ]
        }
      ]
    },
    {
      "cell_type": "code",
      "metadata": {
        "colab": {
          "base_uri": "https://localhost:8080/"
        },
        "id": "lAfqECwclXw9",
        "outputId": "bed8bbe2-27fd-4f8b-b06f-29f63131797b"
      },
      "source": [
        "n = int(input(\"Please enter a number: \"))\n",
        "nlist = [n] # 1 girersem liste 1'i döndürüyor :)\n",
        "for i in nlist :\n",
        "  if i == 1 :\n",
        "    break\n",
        "  elif i % 2 == 0 :\n",
        "    nlist.append(i / 2)\n",
        "  elif i % 2 == 1 :\n",
        "    nlist.append(3 * i + 1)\n",
        "\n",
        "print(nlist)\n",
        "print(max(nlist))"
      ],
      "execution_count": null,
      "outputs": [
        {
          "output_type": "stream",
          "name": "stdout",
          "text": [
            "Please enter a number: 5\n",
            "[5, 16, 8.0, 4.0, 2.0, 1.0]\n",
            "16\n"
          ]
        }
      ]
    },
    {
      "cell_type": "code",
      "metadata": {
        "colab": {
          "base_uri": "https://localhost:8080/"
        },
        "id": "ybmSkR94nQBT",
        "outputId": "f8c5baac-cb51-48bb-aedb-ca0b7c3828b7"
      },
      "source": [
        "n = int(input(\"Please enter a number: \"))\n",
        "nlist = [n] # 1 girersem liste 1'i döndürüyor :)\n",
        "for i in nlist :\n",
        "  if i == 1 :\n",
        "    break\n",
        "  elif i % 2 == 0 :\n",
        "    nlist.append(i / 2)\n",
        "  else :\n",
        "    nlist.append(3 * i + 1)\n",
        "\n",
        "print(nlist)\n",
        "print(max(nlist))"
      ],
      "execution_count": null,
      "outputs": [
        {
          "output_type": "stream",
          "name": "stdout",
          "text": [
            "Please enter a number: 5\n",
            "[5, 16, 8.0, 4.0, 2.0, 1.0]\n",
            "16\n"
          ]
        }
      ]
    }
  ]
}