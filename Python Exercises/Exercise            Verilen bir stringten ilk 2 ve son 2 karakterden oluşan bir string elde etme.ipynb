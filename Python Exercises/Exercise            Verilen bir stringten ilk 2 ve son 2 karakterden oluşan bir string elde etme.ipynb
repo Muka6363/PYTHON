{
  "nbformat": 4,
  "nbformat_minor": 0,
  "metadata": {
    "colab": {
      "name": "Exercise_Spare8.ipynb",
      "provenance": [],
      "collapsed_sections": []
    },
    "kernelspec": {
      "name": "python3",
      "display_name": "Python 3"
    },
    "language_info": {
      "name": "python"
    }
  },
  "cells": [
    {
      "cell_type": "markdown",
      "metadata": {
        "id": "S6DBkfp13EKr"
      },
      "source": [
        "**Exercise**\n",
        "\n",
        "Write a Python program to get a string made of the first 2 and the last 2 chars from a given a string. If the string length is less than 2, return instead of the empty string.\n",
        "\n",
        "Sample String : 'w3resource'\n",
        "\n",
        "Expected Result : 'w3ce'\n",
        "\n",
        "Sample String : 'w3'\n",
        "\n",
        "Expected Result : 'w3w3'\n",
        "\n",
        "Sample String : ' w'\n",
        "\n",
        "Expected Result : Empty String\n",
        "\n",
        "Verilen bir stringten ilk 2 ve son 2 karakterden oluşan bir string elde etmek için bir Python programı yazın. Dize uzunluğu 2'den azsa, boş dize yerine geri dönün."
      ]
    },
    {
      "cell_type": "code",
      "metadata": {
        "colab": {
          "base_uri": "https://localhost:8080/"
        },
        "id": "iL0q6bcs3ERF",
        "outputId": "bd2cae8e-7995-40de-cd1b-564ddb46e2af"
      },
      "source": [
        "text = input(\"Lütfen bir kelime yazınız: \")\n",
        "\n",
        "if len (text) < 2 :\n",
        "  print(\"Empty String\")\n",
        "else :\n",
        "  print(text[0:2] + text[-2:])"
      ],
      "execution_count": 2,
      "outputs": [
        {
          "output_type": "stream",
          "name": "stdout",
          "text": [
            "Lütfen bir kelime yazınız: w3resource\n",
            "w3ce\n"
          ]
        }
      ]
    }
  ]
}