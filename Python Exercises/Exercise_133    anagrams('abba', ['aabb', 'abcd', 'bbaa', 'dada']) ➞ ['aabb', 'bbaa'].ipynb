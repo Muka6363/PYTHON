{
  "nbformat": 4,
  "nbformat_minor": 0,
  "metadata": {
    "colab": {
      "name": "Exercise - 133",
      "provenance": [],
      "collapsed_sections": []
    },
    "kernelspec": {
      "name": "python3",
      "display_name": "Python 3"
    },
    "language_info": {
      "name": "python"
    }
  },
  "cells": [
    {
      "cell_type": "markdown",
      "metadata": {
        "id": "9X797mgzDasl"
      },
      "source": [
        "**Exercise - 133 | ?def | ?comprehension | ?sorted() | ?join() | ?append()**\n",
        "\n",
        "What is an anagram? Well, two words are anagrams of each other if they both contain the same letters. For example:\n",
        "\n",
        "'abba' & 'baab' == true\n",
        "\n",
        "'abba' & 'bbaa' == true\n",
        "\n",
        "'abba' & 'abbba' == false\n",
        "\n",
        "'abba' & 'abca' == false\n",
        "\n",
        "Write a function that will find all the anagrams of a word from a list. You will be given two inputs a word and an array with words. You should return an array of all the anagrams or an empty array if there are none. For example:\n",
        "\n",
        "anagrams('abba', ['aabb', 'abcd', 'bbaa', 'dada']) => ['aabb', 'bbaa']\n",
        "\n",
        "anagrams('racer', ['crazer', 'carer', 'racar', 'caers', 'racer']) => ['carer', 'racer']\n",
        "\n",
        "anagrams('laser', ['lazing', 'lazy',  'lacer']) => []\n",
        "\n",
        "Note for Go\n",
        "\n",
        "For Go: Empty string slice is expected when there are no anagrams found."
      ]
    },
    {
      "cell_type": "code",
      "metadata": {
        "colab": {
          "base_uri": "https://localhost:8080/"
        },
        "id": "gXO5IJg-DazN",
        "outputId": "9a46bffa-005a-41c4-ed25-bbe5b3dedd82"
      },
      "source": [
        "def anagrams(kelime, liste) :\n",
        "  return [i for i in liste if sorted(kelime) == sorted(i)]\n",
        "anagrams('abba', ['aabb', 'abcd', 'bbaa', 'dada'])"
      ],
      "execution_count": 3,
      "outputs": [
        {
          "output_type": "execute_result",
          "data": {
            "text/plain": [
              "['aabb', 'bbaa']"
            ]
          },
          "metadata": {},
          "execution_count": 3
        }
      ]
    },
    {
      "cell_type": "code",
      "metadata": {
        "colab": {
          "base_uri": "https://localhost:8080/"
        },
        "id": "-x0TJl9SFLvf",
        "outputId": "ff0b368d-c61f-4944-f51f-463af6e0594d"
      },
      "source": [
        "# listeler un hashable olduğu için bu şekilde yaptık. \n",
        "\n",
        "def anagrams(word, words) :\n",
        "  words_dict = {\"\".join(sorted(word)) : []}\n",
        "  for i in words :\n",
        "    if \"\".join(sorted(i)) in words_dict :\n",
        "      words_dict[\"\".join(sorted(word))].append(i)\n",
        "  return list(words_dict.values())[0]\n",
        "anagrams('racer', ['crazer', 'carer', 'racar', 'caers', 'racer'])"
      ],
      "execution_count": 10,
      "outputs": [
        {
          "output_type": "execute_result",
          "data": {
            "text/plain": [
              "['carer', 'racer']"
            ]
          },
          "metadata": {},
          "execution_count": 10
        }
      ]
    }
  ]
}