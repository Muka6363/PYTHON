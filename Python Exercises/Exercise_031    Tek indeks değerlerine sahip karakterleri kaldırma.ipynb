{
  "nbformat": 4,
  "nbformat_minor": 0,
  "metadata": {
    "colab": {
      "name": "Exercise - 31",
      "provenance": [],
      "collapsed_sections": []
    },
    "kernelspec": {
      "name": "python3",
      "display_name": "Python 3"
    },
    "language_info": {
      "name": "python"
    }
  },
  "cells": [
    {
      "cell_type": "markdown",
      "metadata": {
        "id": "Mn-4UYdHiF3M"
      },
      "source": [
        "**Exercise - 31**\n",
        "\n",
        "Write a Python program to remove the characters which have odd index values of a given string.\n",
        "\n",
        "Verilen bir stringin tek indeks değerlerine sahip karakterlerini kaldırmak için bir Python programı yazın."
      ]
    },
    {
      "cell_type": "code",
      "metadata": {
        "colab": {
          "base_uri": "https://localhost:8080/"
        },
        "id": "RiSGys5TiF_M",
        "outputId": "86291517-3354-457f-8dd8-9adb62582a8c"
      },
      "source": [
        "word = input(\"Please enter a word or sentence: \")\n",
        "spare_word = \"\"\n",
        "for i in range(len(word)) :\n",
        "  if i % 2 == 0 :\n",
        "    spare_word += word[i]    \n",
        "print(spare_word)"
      ],
      "execution_count": null,
      "outputs": [
        {
          "output_type": "stream",
          "name": "stdout",
          "text": [
            "Please enter a word or sentence: Mazinde bir tarih yatar\n",
            "Mznebrtrhytr\n"
          ]
        }
      ]
    },
    {
      "cell_type": "code",
      "metadata": {
        "colab": {
          "base_uri": "https://localhost:8080/"
        },
        "id": "6-sqtNcpiONA",
        "outputId": "9f9c4669-aa42-49aa-decd-a24804391219"
      },
      "source": [
        "# Alternative\n",
        "\n",
        "text = \"Mazinde bir tarih yatar\"\n",
        "text = text[::2]\n",
        "print(text)"
      ],
      "execution_count": null,
      "outputs": [
        {
          "output_type": "stream",
          "name": "stdout",
          "text": [
            "Mznebrtrhytr\n"
          ]
        }
      ]
    }
  ]
}