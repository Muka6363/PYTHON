{
  "nbformat": 4,
  "nbformat_minor": 0,
  "metadata": {
    "colab": {
      "name": "Exercise - 40",
      "provenance": [],
      "collapsed_sections": []
    },
    "kernelspec": {
      "name": "python3",
      "display_name": "Python 3"
    },
    "language_info": {
      "name": "python"
    }
  },
  "cells": [
    {
      "cell_type": "markdown",
      "metadata": {
        "id": "_FNAeOFqwiLb"
      },
      "source": [
        "**Exercise - 40 | ?or**\n",
        "\n",
        "Given 2 arrays of ints, a and b, return True if they have the same first element or they have the same last element. Both arrays will be length 1 or more.\n",
        "\n",
        "(Without using for, if, while)\n",
        "\n",
        "[1, 2, 3], [7, 3] → True\n",
        "\n",
        "[1, 2, 3], [7, 3, 2] → False\n",
        "\n",
        "[1, 2, 3], [1, 3] → True"
      ]
    },
    {
      "cell_type": "code",
      "metadata": {
        "colab": {
          "base_uri": "https://localhost:8080/"
        },
        "id": "9SoM4vXgwiSC",
        "outputId": "e8c2ab39-e1b4-4781-9c7a-695edece1b51"
      },
      "source": [
        "list_a = [1, 3, 5]\n",
        "list_b = [2, 4, 5]\n",
        "print(list_a[0] == list_b[0] or list_a[-1] == list_b[-1])"
      ],
      "execution_count": 1,
      "outputs": [
        {
          "output_type": "stream",
          "name": "stdout",
          "text": [
            "True\n"
          ]
        }
      ]
    }
  ]
}