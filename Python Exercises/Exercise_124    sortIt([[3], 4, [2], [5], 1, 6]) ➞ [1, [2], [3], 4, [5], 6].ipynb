{
  "nbformat": 4,
  "nbformat_minor": 0,
  "metadata": {
    "colab": {
      "name": "Exercise - 124    sortIt([[3], 4, [2], [5], 1, 6]) -- [1, [2], [3], 4, [5], 6]",
      "provenance": [],
      "collapsed_sections": []
    },
    "kernelspec": {
      "name": "python3",
      "display_name": "Python 3"
    },
    "language_info": {
      "name": "python"
    }
  },
  "cells": [
    {
      "cell_type": "markdown",
      "metadata": {
        "id": "Il0s-6MocQg_"
      },
      "source": [
        "**Exercise - 124 | ?sorted() | ?type() | ?comprehension | ?len() | ?range()**\n",
        "\n",
        "In this challenge you will be given an array similar to the following:\n",
        "\n",
        "[[3], 4, [2], [5], 1, 6]\n",
        "\n",
        "In words, elements of the array are either an integer or an array containing a single integer. We humans can clearly see that this array can reasonably be sorted according to \"the content of the elements\" as:\n",
        "\n",
        "[1, [2], [3], 4, [5], 6]\n",
        "\n",
        "Create a function that, given an array similar to the above, sorts the array according to the \"content of the elements\".\n",
        "\n",
        "Examples\n",
        "\n",
        "sortIt([4, 1, 3]) ➞ [1, 3, 4]\n",
        "\n",
        "sortIt([[4], [1], [3]]) ➞ [[1], [3], [4]]\n",
        "\n",
        "sortIt([4, [1], 3]) ➞ [[1], 3, 4]\n",
        "\n",
        "sortIt([[4], 1, [3]]) ➞ [1, [3], [4]]\n",
        "\n",
        "sortIt([[3], 4, [2], [5], 1, 6]) ➞ [1, [2], [3], 4, [5], 6]"
      ]
    },
    {
      "cell_type": "code",
      "metadata": {
        "id": "M3h24PtFcQp3"
      },
      "source": [
        "def sortIt(arry) :\n",
        "  n_arry = sorted([arry[i][0] if type(arry[i]) == list else arry[i] for i in range(len(arry))])\n",
        "  return [[n_arry[i]] if n_arry[i] not in arry else n_arry[i] for i in range(len(arry))]"
      ],
      "execution_count": 1,
      "outputs": []
    },
    {
      "cell_type": "code",
      "metadata": {
        "colab": {
          "base_uri": "https://localhost:8080/"
        },
        "id": "YHTHawquc9FX",
        "outputId": "864bb1e7-f1dc-4a95-d6aa-7c6e79c2f845"
      },
      "source": [
        "def sortIt(liste) :\n",
        "  sıralı = sorted([liste[i][0] if type(liste[i]) == list else liste[i] for i in range(len(liste))])\n",
        "  return [[sıralı[i]] if sıralı[i] not in liste else sıralı[i] for i in range(len(liste))]\n",
        "\n",
        "sortIt([[3], 4, [2], [5], 1, 6])"
      ],
      "execution_count": 5,
      "outputs": [
        {
          "output_type": "execute_result",
          "data": {
            "text/plain": [
              "[1, [2], [3], 4, [5], 6]"
            ]
          },
          "metadata": {},
          "execution_count": 5
        }
      ]
    }
  ]
}