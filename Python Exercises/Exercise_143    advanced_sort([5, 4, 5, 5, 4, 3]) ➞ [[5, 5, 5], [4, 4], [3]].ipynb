{
  "nbformat": 4,
  "nbformat_minor": 0,
  "metadata": {
    "colab": {
      "name": "Exercise - 143",
      "provenance": [],
      "collapsed_sections": []
    },
    "kernelspec": {
      "display_name": "Python 3",
      "name": "python3"
    },
    "language_info": {
      "name": "python"
    }
  },
  "cells": [
    {
      "cell_type": "markdown",
      "metadata": {
        "id": "fOwEdrZP1C7c"
      },
      "source": [
        "**Exercise - 143 | ?def | ?for loop | ?comprehension | ?dictionary**\n",
        "\n",
        "Advanced List Sort\n",
        "\n",
        "Create a function that takes a list of numbers or strings and returns a list with the items from the original list stored into sublists. Items of the same value should be in the same sublist.\n",
        "\n",
        "Examples\n",
        "\n",
        "advanced_sort([2, 1, 2, 1]) ➞ [[2, 2], [1, 1]]\n",
        "\n",
        "advanced_sort([5, 4, 5, 5, 4, 3]) ➞ [[5, 5, 5], [4, 4], [3]]\n",
        "\n",
        "advanced_sort([\"b\", \"a\", \"b\", \"a\", \"c\"]) ➞ [[\"b\", \"b\"], [\"a\", \"a\"], [\"c\"]]\n",
        "\n",
        "Notes\n",
        "\n",
        "The sublists should be returned in the order of each element's first appearance in the given list."
      ]
    },
    {
      "cell_type": "code",
      "metadata": {
        "colab": {
          "background_save": true,
          "base_uri": "https://localhost:8080/"
        },
        "id": "lbkg3fFl1DEg",
        "outputId": "6365f801-12e3-4045-ba92-f8aac36ae968"
      },
      "source": [
        "def advanced_sort(liste) :\n",
        "  my_dict= {}\n",
        "  for i in liste :\n",
        "    if i not in my_dict :\n",
        "      my_dict[i] = [i]\n",
        "    else :\n",
        "      my_dict[i] += [i]\n",
        "  print(my_dict)\n",
        "  return [i for i in my_dict.values()]\n",
        "advanced_sort([5, 4, 5, 5, 4, 3])"
      ],
      "execution_count": null,
      "outputs": [
        {
          "name": "stdout",
          "output_type": "stream",
          "text": [
            "{5: [5, 5, 5], 4: [4, 4], 3: [3]}\n"
          ]
        },
        {
          "data": {
            "text/plain": [
              "[[5, 5, 5], [4, 4], [3]]"
            ]
          },
          "execution_count": null,
          "metadata": {},
          "output_type": "execute_result"
        }
      ]
    },
    {
      "cell_type": "code",
      "metadata": {
        "colab": {
          "base_uri": "https://localhost:8080/"
        },
        "id": "r-yi_zTU1rjD",
        "outputId": "b4d3da0e-09c6-4c4d-dbcb-3d935f632755"
      },
      "source": [
        "def advanced_sort(liste) :\n",
        "  my_dict= {}\n",
        "  for i in liste :\n",
        "    if i not in my_dict :\n",
        "      my_dict[i] = [i]\n",
        "    else :\n",
        "      my_dict[i] += [i]\n",
        "  return [i for i in my_dict.values()]\n",
        "advanced_sort([5, 4, 5, 5, 4, 3])"
      ],
      "execution_count": 11,
      "outputs": [
        {
          "output_type": "execute_result",
          "data": {
            "text/plain": [
              "[[5, 5, 5], [4, 4], [3]]"
            ]
          },
          "metadata": {},
          "execution_count": 11
        }
      ]
    }
  ]
}