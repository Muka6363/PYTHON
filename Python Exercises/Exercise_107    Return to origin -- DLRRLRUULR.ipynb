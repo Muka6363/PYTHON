{
  "nbformat": 4,
  "nbformat_minor": 0,
  "metadata": {
    "colab": {
      "name": "Exercise - 107",
      "provenance": [],
      "collapsed_sections": []
    },
    "kernelspec": {
      "name": "python3",
      "display_name": "Python 3"
    },
    "language_info": {
      "name": "python"
    }
  },
  "cells": [
    {
      "cell_type": "markdown",
      "metadata": {
        "id": "6PwH4s_Y698e"
      },
      "source": [
        "**Exercise - 107 | ?for loop | ?count()**\n",
        "\n",
        "Robot Return to Origin\n",
        "\n",
        "There is a robot starting at the position\n",
        "\n",
        "(0, 0)\n",
        "\n",
        ", the origin, on a 2D plane. Given a sequence of its moves, judge if this robot \n",
        "**ends up** at (0, 0) after it completes its moves.\n",
        "\n",
        "You are given a string moves that represents the move sequence of the robot where moves[i] represents its ith move. Valid moves are 'R' (right), 'L' (left), 'U' (up), and 'D' (down).\n",
        "\n",
        "Return True if the robot returns to the origin after it finishes all of its moves, or False otherwise.\n",
        "\n",
        "**Note:** The way that the robot is \"facing\" is irrelevant. 'R' will always make the robot move to the right once, 'L' will always make it move left, etc. Also, assume that the magnitude of the robot's movement is the same for each move.\n",
        "\n",
        "**Example 1:**\n",
        "\n",
        "Input: moves = \"UD\"\n",
        "\n",
        "Output: True\n",
        "\n",
        "Explanation: The robot moves up once, and then down once. All moves have the same magnitude, so it ended up at the origin where it started. Therefore, we return true.\n",
        "\n",
        "**Example 2:**\n",
        "\n",
        "Input: moves = \"LL\"\n",
        "\n",
        "Output: False\n",
        "\n",
        "Explanation: The robot moves left twice. It ends up two \"moves\" to the left of the origin. We return false because it is not at the origin at the end of its moves.\n",
        "\n",
        "**Example 3:**\n",
        "\n",
        "Input: moves = \"RRDD\"\n",
        "\n",
        "Output: False\n",
        "\n",
        "**Example 4:**\n",
        "\n",
        "Input: moves = \"LDRRLRUULR\"\n",
        "\n",
        "Output: False"
      ]
    },
    {
      "cell_type": "code",
      "metadata": {
        "id": "JsuPLq-N6-CT"
      },
      "source": [
        "class Solution(object):\n",
        "    def judgeCircle(self, moves):\n",
        "        x = y = 0\n",
        "        for move in moves:\n",
        "            if move == 'U': y -= 1\n",
        "            elif move == 'D': y += 1\n",
        "            elif move == 'L': x -= 1\n",
        "            elif move == 'R': x += 1\n",
        "\n",
        "        return x == y == 0"
      ],
      "execution_count": null,
      "outputs": []
    },
    {
      "cell_type": "code",
      "metadata": {
        "colab": {
          "base_uri": "https://localhost:8080/"
        },
        "id": "xxXWdioNMugW",
        "outputId": "b179e5ab-087f-4065-ace6-24cfd2c43f5b"
      },
      "source": [
        "moves = \"LLLUUD\"\n",
        "x,y = 0 , 0\n",
        "for i in moves :\n",
        "  if i == \"L\" : x += 1\n",
        "  elif i == \"R\" : x -= 1\n",
        "  elif i == \"D\" : y -= 1\n",
        "  elif i == \"U\" : y += 1 \n",
        "\n",
        "print(True if x == 0 and y == 0 else False)"
      ],
      "execution_count": null,
      "outputs": [
        {
          "output_type": "stream",
          "name": "stdout",
          "text": [
            "False\n"
          ]
        }
      ]
    },
    {
      "cell_type": "code",
      "metadata": {
        "colab": {
          "base_uri": "https://localhost:8080/"
        },
        "id": "9Lz4djeP-47C",
        "outputId": "c4484195-6239-47b6-da42-7078a9e8fb7d"
      },
      "source": [
        "moves = \"LDRRLRUULR\"\n",
        "print((moves.count('L') == moves.count('R')) & (moves.count('D') == moves.count('U')))"
      ],
      "execution_count": null,
      "outputs": [
        {
          "output_type": "stream",
          "name": "stdout",
          "text": [
            "False\n"
          ]
        }
      ]
    }
  ]
}