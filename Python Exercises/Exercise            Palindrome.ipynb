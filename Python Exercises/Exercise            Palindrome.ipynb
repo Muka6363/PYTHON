{
  "nbformat": 4,
  "nbformat_minor": 0,
  "metadata": {
    "colab": {
      "name": "Exercise StringChallenge('never odd or even')",
      "provenance": [],
      "collapsed_sections": []
    },
    "kernelspec": {
      "name": "python3",
      "display_name": "Python 3"
    },
    "language_info": {
      "name": "python"
    }
  },
  "cells": [
    {
      "cell_type": "markdown",
      "metadata": {
        "id": "6x-5u1uoW93W"
      },
      "source": [
        "**Exercise StringChallenge('never odd or even') | ?def | ?join() | ?comprehension | ?for loop | ?split() | ?nested for loop**\n",
        "\n",
        "Have the function StringChallenge(**str**) take the **str** parameter being passed and return the string **true** if the parameter is a palindrome, (the string is the same forward as it is backward) otherwise return the string **false**. For example: \"racecar\" is also \"racecar\" backwards. Punctuation and numbers will not be part of the string.\n",
        "\n",
        "Examples\n",
        "\n",
        "Input: \"never odd or even\"\n",
        "\n",
        "Output: true\n",
        "\n",
        "Input: \"eye\"\n",
        "\n",
        "Output: true"
      ]
    },
    {
      "cell_type": "code",
      "metadata": {
        "colab": {
          "base_uri": "https://localhost:8080/"
        },
        "id": "iB591XUjW9_h",
        "outputId": "ff36fc9b-2a9e-4c6d-af6a-39a14375d6f8"
      },
      "source": [
        "def palindrome(text) :\n",
        "  letter = \"abcdefghijklmnopqrstuvwxyz\"\n",
        "  new_text = \"\".join([i for i in text if i in letter])\n",
        "  return new_text == new_text[::-1]\n",
        "\n",
        "palindrome(\"race car\")"
      ],
      "execution_count": 1,
      "outputs": [
        {
          "output_type": "execute_result",
          "data": {
            "text/plain": [
              "True"
            ]
          },
          "metadata": {},
          "execution_count": 1
        }
      ]
    },
    {
      "cell_type": "code",
      "metadata": {
        "colab": {
          "base_uri": "https://localhost:8080/"
        },
        "id": "xlNHYgdtX9Rn",
        "outputId": "d67a1a38-044d-48bd-9241-27b1bcfa1d16"
      },
      "source": [
        "def StringChallenge(s) :\n",
        "  s = s.split() \n",
        "  new_s = \"\"\n",
        "  for i in s :\n",
        "    for j in i :\n",
        "      new_s += j\n",
        "  if new_s == new_s[::-1] :\n",
        "    return True\n",
        "  return False\n",
        "\n",
        "StringChallenge(\"never odd or even\")"
      ],
      "execution_count": 4,
      "outputs": [
        {
          "output_type": "execute_result",
          "data": {
            "text/plain": [
              "True"
            ]
          },
          "metadata": {},
          "execution_count": 4
        }
      ]
    },
    {
      "cell_type": "code",
      "metadata": {
        "colab": {
          "base_uri": "https://localhost:8080/"
        },
        "id": "VOy-4_7YZeFo",
        "outputId": "647b882b-6f2e-44a5-e5fa-10b356529c1a"
      },
      "source": [
        "def StringChallenge(text) :\n",
        "  text = text.split() \n",
        "  new_text = \"\"\n",
        "  for i in text :\n",
        "    for j in i :\n",
        "      new_text += j\n",
        "  if new_text == new_text[::-1] :\n",
        "    return True\n",
        "  else :\n",
        "    return False\n",
        "\n",
        "StringChallenge(\"never odd or even\")"
      ],
      "execution_count": 8,
      "outputs": [
        {
          "output_type": "execute_result",
          "data": {
            "text/plain": [
              "True"
            ]
          },
          "metadata": {},
          "execution_count": 8
        }
      ]
    }
  ]
}