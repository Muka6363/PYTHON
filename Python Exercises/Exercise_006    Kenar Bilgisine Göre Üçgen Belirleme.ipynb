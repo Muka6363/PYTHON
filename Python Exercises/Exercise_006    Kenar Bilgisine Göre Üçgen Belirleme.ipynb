{
  "nbformat": 4,
  "nbformat_minor": 0,
  "metadata": {
    "colab": {
      "name": "Exercise - 6.ipynb",
      "provenance": [],
      "collapsed_sections": []
    },
    "kernelspec": {
      "name": "python3",
      "display_name": "Python 3"
    },
    "language_info": {
      "name": "python"
    }
  },
  "cells": [
    {
      "cell_type": "markdown",
      "metadata": {
        "id": "CmUkRHdIu2SR"
      },
      "source": [
        "**Exercise - 6**\n",
        "\n",
        "If the entered side lengths do not form a triangle, write the code that determines the type of triangle according to the three side information entered by the user. ( In absolute value, the difference of two sides is taken, if the difference is greater than the other side, the entered values ​​do not form a triangle. This is done for all sides.)\n",
        "\n",
        "\n",
        "Girilen kenar uzunlukları üçgen oluşturmuyorsa kullanıcının girdiği üç kenar bilgisine göre üçgenin türünü belirleyen kodu yazınız. ( Mutlak değerde iki kenarın farkı alınır, eğer fark diğer kenardan büyük ise girilen değerler üçgen oluşturmaz. Bu tüm kenarlar için yapılır.)"
      ]
    },
    {
      "cell_type": "code",
      "metadata": {
        "colab": {
          "base_uri": "https://localhost:8080/"
        },
        "id": "gzkLUFoUu2aS",
        "outputId": "251d7491-8912-435b-ddc7-e615cf66f42c"
      },
      "source": [
        "x = int(input(\"Üçgen oluşturmak için bir kenar değeri girin: \"))\n",
        "y = int(input(\"Üçgen oluşturmak için bir kenar değeri girin: \"))\n",
        "z = int(input(\"Üçgen oluşturmak için bir kenar değeri girin: \"))\n",
        "\n",
        "if abs(x - y) > z or abs(x - z) > y or abs(y - z) > x :\n",
        "  print(\"{}, {} ve {} rakamları ile üçgen oluşturulamaz!\".format(x, y, z))\n",
        "elif x == y == z :\n",
        "  print(\"Girdiğiniz rakamlarla oluşturulan üçgen, bir eşkenar üçgendir.\")\n",
        "elif x == y or x == z or y == z :\n",
        "  print(\"Girdiğiniz rakamlarla oluşturulan üçgen, bir ikizkenar üçgendir.\")\n",
        "else :\n",
        "  print(\"Girdiğiniz rakamlarla oluşturulan üçgen, bir çeşitkenar üçgendir.\")"
      ],
      "execution_count": null,
      "outputs": [
        {
          "output_type": "stream",
          "name": "stdout",
          "text": [
            "Üçgen oluşturmak için bir kenar değeri girin: 4\n",
            "Üçgen oluşturmak için bir kenar değeri girin: 5\n",
            "Üçgen oluşturmak için bir kenar değeri girin: 12\n",
            "4, 5 ve 12 rakamları ile üçgen oluşturulamaz!\n"
          ]
        }
      ]
    },
    {
      "cell_type": "code",
      "metadata": {
        "colab": {
          "base_uri": "https://localhost:8080/"
        },
        "id": "sdQWEwKFvUsM",
        "outputId": "d42ebe44-1366-449d-a048-85a5998acc7a"
      },
      "source": [
        "# Exercise - 6 Alternative\n",
        "\n",
        "x = list(map(int, input(\"Kenar değerlerini girin.\").split())) # x >>> sides\n",
        "\n",
        "if abs(x[0] - x[1]) > x[2] or abs(x[0] - x[2]) > x[1] or abs(x[1] - x[2]) > x[0] :\n",
        "  print(\"{}, {} ve {} rakamları ile üçgen oluşturulamaz!\".format(x[0], x[1], x[2]))\n",
        "elif x[0] == x[1] == x[2] :\n",
        "  print(\"Girdiğiniz rakamlarla oluşturulan üçgen, bir eşkenar üçgendir.\")\n",
        "elif x[0] == x[1] or x[0] == x[2] or x[1] == x[2] :\n",
        "  print(\"Girdiğiniz rakamlarla oluşturulan üçgen, bir ikizkenar üçgendir.\")\n",
        "else :\n",
        "  print(\"Girdiğiniz rakamlarla oluşturulan üçgen, bir çeşitkenar üçgendir.\")"
      ],
      "execution_count": 2,
      "outputs": [
        {
          "output_type": "stream",
          "name": "stdout",
          "text": [
            "Kenar değerlerini girin.5 12 13\n",
            "Girdiğiniz rakamlarla oluşturulan üçgen, bir çeşitkenar üçgendir.\n"
          ]
        }
      ]
    }
  ]
}