{
  "nbformat": 4,
  "nbformat_minor": 0,
  "metadata": {
    "colab": {
      "name": "Exercise - 114 (Verilen bir stringte, verilen başka bir stringin tüm karakterlerini içerecek minimum pencereyi bulan bir Python programı yazın.)",
      "provenance": [],
      "collapsed_sections": []
    },
    "kernelspec": {
      "name": "python3",
      "display_name": "Python 3"
    },
    "language_info": {
      "name": "python"
    }
  },
  "cells": [
    {
      "cell_type": "markdown",
      "metadata": {
        "id": "cNHGQHXoQUJ7"
      },
      "source": [
        "**Exercise - 114 | ?range() | ?len() | ?set() | ?dictionary | ?comprehension | ?replace() | ?split() | ?rstrip() | ?lstrip() | ?for loop | ?max() | ?min()** \n",
        "\n",
        "Write a Python program to find the minimum window in a given string which will contain all the characters of another given string.\n",
        "\n",
        "Verilen bir stringte, verilen başka bir stringin tüm karakterlerini içerecek minimum pencereyi bulan bir Python programı yazın."
      ]
    },
    {
      "cell_type": "code",
      "metadata": {
        "colab": {
          "base_uri": "https://localhost:8080/"
        },
        "id": "zFQwzobQjGVv",
        "outputId": "e7eb1a92-5fdb-4c25-f0a9-17dae50c5f52"
      },
      "source": [
        "string1 = \"clarusway\"\n",
        "string2 = \"saa\"\n",
        "x = {}\n",
        "\n",
        "for i in range(len(string1)) :\n",
        "  x[i] = string1[i]\n",
        "print(x)\n",
        "\n",
        "liste = []\n",
        "for i in set(string2) :\n",
        "  liste += [key for key, value in x.items() if value == f\"{i}\"]\n",
        "print(liste)\n",
        "\n",
        "print(string1[min(liste) : max(liste) + 1])"
      ],
      "execution_count": 12,
      "outputs": [
        {
          "output_type": "stream",
          "name": "stdout",
          "text": [
            "{0: 'c', 1: 'l', 2: 'a', 3: 'r', 4: 'u', 5: 's', 6: 'w', 7: 'a', 8: 'y'}\n",
            "[2, 7, 5]\n",
            "aruswa\n"
          ]
        }
      ]
    },
    {
      "cell_type": "code",
      "metadata": {
        "colab": {
          "base_uri": "https://localhost:8080/"
        },
        "id": "wHB90ThpkiRe",
        "outputId": "aafbb221-a081-4785-d987-c5d11241bc9e"
      },
      "source": [
        "string1 = \"clarusway\"\n",
        "string2 = \"lws\"\n",
        "x = {}\n",
        "\n",
        "for i in range(len(string1)) :\n",
        "  x[i] = string1[i]\n",
        "\n",
        "liste = []\n",
        "for i in set(string2) :\n",
        "  liste += [key for key, value in x.items() if value == f\"{i}\"]\n",
        "\n",
        "print(string1[min(liste) : max(liste) + 1])"
      ],
      "execution_count": 13,
      "outputs": [
        {
          "output_type": "stream",
          "name": "stdout",
          "text": [
            "larusw\n"
          ]
        }
      ]
    },
    {
      "cell_type": "code",
      "metadata": {
        "colab": {
          "base_uri": "https://localhost:8080/"
        },
        "id": "wAv3UYy-k8CC",
        "outputId": "f4f50060-5b13-4ca0-bdab-962561448c00"
      },
      "source": [
        "a = \"clarusway\"\n",
        "b = \"saa\"\n",
        "c = str(a)\n",
        "for i in a :\n",
        "  if i in b :\n",
        "    a = a.replace(i, \".\")\n",
        "print(a)\n",
        "a = a.split(\".\")\n",
        "print(a)\n",
        "print(c.lstrip(a[0]).rstrip(a[-1]))"
      ],
      "execution_count": 10,
      "outputs": [
        {
          "output_type": "stream",
          "name": "stdout",
          "text": [
            "cl.ru.w.y\n",
            "['cl', 'ru', 'w', 'y']\n",
            "aruswa\n"
          ]
        }
      ]
    },
    {
      "cell_type": "code",
      "metadata": {
        "colab": {
          "base_uri": "https://localhost:8080/"
        },
        "id": "BuD_Xxy9mguC",
        "outputId": "50f312c4-0290-47fe-b3e4-e9a6094b4f76"
      },
      "source": [
        "a = \"clarusway\"\n",
        "b = \"saa\"\n",
        "c = str(a)\n",
        "for i in a :\n",
        "  if i in b :\n",
        "    a = a.replace(i, \".\")\n",
        "a = a.split(\".\")\n",
        "print(c.lstrip(a[0]).rstrip(a[-1]))"
      ],
      "execution_count": 14,
      "outputs": [
        {
          "output_type": "stream",
          "name": "stdout",
          "text": [
            "aruswa\n"
          ]
        }
      ]
    }
  ]
}