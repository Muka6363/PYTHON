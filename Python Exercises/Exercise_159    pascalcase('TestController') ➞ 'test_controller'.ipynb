{
  "nbformat": 4,
  "nbformat_minor": 0,
  "metadata": {
    "colab": {
      "name": "Exercise - 159",
      "provenance": [],
      "collapsed_sections": []
    },
    "kernelspec": {
      "name": "python3",
      "display_name": "Python 3"
    },
    "language_info": {
      "name": "python"
    }
  },
  "cells": [
    {
      "cell_type": "markdown",
      "metadata": {
        "id": "31ECG4gJWW8a"
      },
      "source": [
        "**Exercise - 159 | ?def | ?replace() | ?for loop | ?islower() | ?isupper() | ?isdigit() | ?lower()**\n",
        "\n",
        "Complete the function/method so that it takes a **PascalCase** string and returns the string in **snake_case** notation. Lowercase characters can be numbers. If the method gets a number as input, it should return a string.\n",
        "\n",
        "Examples:\n",
        "\n",
        "![image.png](data:image/png;base64,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)"
      ]
    },
    {
      "cell_type": "code",
      "metadata": {
        "colab": {
          "base_uri": "https://localhost:8080/",
          "height": 35
        },
        "id": "jM5GgpgTWXFO",
        "outputId": "8cf8d20a-c8a7-46b6-97fe-120eff054f56"
      },
      "source": [
        "def pascalcase(text):\n",
        "  for i in text[1:]:\n",
        "    if i.islower() or i.isdigit():\n",
        "      continue\n",
        "    elif i.isupper():\n",
        "      text=text.replace(i,'_'+i)\n",
        "  return text.lower()     \n",
        "pascalcase(\"TestController\")"
      ],
      "execution_count": 1,
      "outputs": [
        {
          "output_type": "execute_result",
          "data": {
            "application/vnd.google.colaboratory.intrinsic+json": {
              "type": "string"
            },
            "text/plain": [
              "'test_controller'"
            ]
          },
          "metadata": {},
          "execution_count": 1
        }
      ]
    },
    {
      "cell_type": "code",
      "metadata": {
        "colab": {
          "base_uri": "https://localhost:8080/",
          "height": 35
        },
        "id": "x4SpxNy-ZEjY",
        "outputId": "7262e322-c1e2-4bfd-c8dc-60fa7e403737"
      },
      "source": [
        "def pascalcase(text):\n",
        "  for i in text[1:]:\n",
        "    if i.isupper():\n",
        "      text=text.replace(i,'_'+i)\n",
        "  return text.lower()     \n",
        "pascalcase(\"App7Test\")"
      ],
      "execution_count": 2,
      "outputs": [
        {
          "output_type": "execute_result",
          "data": {
            "application/vnd.google.colaboratory.intrinsic+json": {
              "type": "string"
            },
            "text/plain": [
              "'app7_test'"
            ]
          },
          "metadata": {},
          "execution_count": 2
        }
      ]
    }
  ]
}