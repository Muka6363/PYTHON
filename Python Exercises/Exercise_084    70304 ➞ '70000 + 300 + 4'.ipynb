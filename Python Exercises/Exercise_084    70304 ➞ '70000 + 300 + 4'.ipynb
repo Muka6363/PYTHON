{
  "nbformat": 4,
  "nbformat_minor": 0,
  "metadata": {
    "colab": {
      "name": "Exercise - 84.ipynb",
      "provenance": [],
      "collapsed_sections": []
    },
    "kernelspec": {
      "name": "python3",
      "display_name": "Python 3"
    },
    "language_info": {
      "name": "python"
    }
  },
  "cells": [
    {
      "cell_type": "markdown",
      "metadata": {
        "id": "_1NE-H0OfcF5"
      },
      "source": [
        "**Exercise - 84 | ?len() | ?for loop | ?append() | ?join() | ?input() | ?range() | ?comprehension | ?index()**\n",
        "\n",
        "Write Number in Expanded Form\n",
        "You will be given a number and you will need to return it as a string in  \n",
        "For example:\n",
        "\n",
        "12 >>>> '10 + 2'\n",
        "\n",
        "42 >>>>  '40 + 2'\n",
        "\n",
        "70304 >>>> '70000 + 300 + 4' "
      ]
    },
    {
      "cell_type": "code",
      "metadata": {
        "colab": {
          "base_uri": "https://localhost:8080/",
          "height": 35
        },
        "id": "Rm4AzCnefcPI",
        "outputId": "3d630e32-6cd2-406c-d17e-4e6af3d116df"
      },
      "source": [
        "n=4230722\n",
        "my_n=str(n)\n",
        "n_list=[]\n",
        "count=len(my_n)-1\n",
        "for i in my_n:\n",
        "  if i!=\"0\":\n",
        "    n_list.append(i+\"0\"*count)\n",
        "  count-=1\n",
        "\"+\".join(n_list)"
      ],
      "execution_count": null,
      "outputs": [
        {
          "output_type": "execute_result",
          "data": {
            "application/vnd.google.colaboratory.intrinsic+json": {
              "type": "string"
            },
            "text/plain": [
              "'4000000+200000+30000+700+20+2'"
            ]
          },
          "metadata": {},
          "execution_count": 1
        }
      ]
    },
    {
      "cell_type": "code",
      "metadata": {
        "colab": {
          "base_uri": "https://localhost:8080/"
        },
        "id": "-ICkHSMmf5UG",
        "outputId": "25397496-b294-4668-d689-a039e0415f6d"
      },
      "source": [
        "num = input(\"Please enter a number: \")\n",
        "num_2 = []\n",
        "for i in range(len(num) - 1, -1, -1) :\n",
        "  num_2.append(str(int(num[i]) * 10 ** (len(num) - 1 - i)))\n",
        "print(\"+\".join(num_2[::-1]))"
      ],
      "execution_count": null,
      "outputs": [
        {
          "output_type": "stream",
          "name": "stdout",
          "text": [
            "Please enter a number: 345\n",
            "300+40+5\n"
          ]
        }
      ]
    },
    {
      "cell_type": "code",
      "metadata": {
        "colab": {
          "base_uri": "https://localhost:8080/"
        },
        "id": "PmeP945BhS2K",
        "outputId": "0fb96114-1138-4346-8ec0-3c2b18dcb2bc"
      },
      "source": [
        "number = input(\"Please enter a number: \")\n",
        "liste = []\n",
        "for i in range(len(number)) :\n",
        "  liste.append(str(int(number[i]) * 10 ** (len(number) - 1 - i)))\n",
        "  if \"0\" in liste :\n",
        "    liste.remove(\"0\")\n",
        "print(\" + \".join(liste))"
      ],
      "execution_count": null,
      "outputs": [
        {
          "output_type": "stream",
          "name": "stdout",
          "text": [
            "Please enter a number: 70304\n",
            "70000 + 300 + 4\n"
          ]
        }
      ]
    },
    {
      "cell_type": "code",
      "metadata": {
        "colab": {
          "base_uri": "https://localhost:8080/",
          "height": 52
        },
        "id": "rvtSdWiLjRb4",
        "outputId": "64393f70-1e00-4ffd-ad7a-32472ad1da28"
      },
      "source": [
        "num = input(\"\")[::-1]\n",
        "\" + \".join([str(int(i) * (10 ** num.index(i))) for i in num if i != \"0\"][::-1])"
      ],
      "execution_count": null,
      "outputs": [
        {
          "name": "stdout",
          "output_type": "stream",
          "text": [
            "345\n"
          ]
        },
        {
          "output_type": "execute_result",
          "data": {
            "application/vnd.google.colaboratory.intrinsic+json": {
              "type": "string"
            },
            "text/plain": [
              "'300 + 40 + 5'"
            ]
          },
          "metadata": {},
          "execution_count": 20
        }
      ]
    }
  ]
}