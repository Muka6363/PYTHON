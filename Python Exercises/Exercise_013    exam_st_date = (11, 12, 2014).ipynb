{
  "nbformat": 4,
  "nbformat_minor": 0,
  "metadata": {
    "colab": {
      "name": "Exercise - 13.ipynb",
      "provenance": []
    },
    "kernelspec": {
      "name": "python3",
      "display_name": "Python 3"
    },
    "language_info": {
      "name": "python"
    }
  },
  "cells": [
    {
      "cell_type": "markdown",
      "metadata": {
        "id": "pK1hQlHm6VlB"
      },
      "source": [
        "**Exercise - 13**\n",
        "\n",
        "Write a Python program to display the examination schedule. (extract the date from exam_st_date).\n",
        "\n",
        "exam_st_date = (11, 12, 2014)\n",
        "\n",
        "Sample Output : The examination will start from : 11 / 12 / 2014"
      ]
    },
    {
      "cell_type": "code",
      "metadata": {
        "colab": {
          "base_uri": "https://localhost:8080/"
        },
        "id": "IR5Tlub-6Vrl",
        "outputId": "a1d40709-0733-42cf-c580-a029e40dcee9"
      },
      "source": [
        "exam_st_date = (11,12,2014)\n",
        "print(\"The examination will start from: %i / %i / %i \"%exam_st_date)"
      ],
      "execution_count": 1,
      "outputs": [
        {
          "output_type": "stream",
          "name": "stdout",
          "text": [
            "The examination will start from: 11 / 12 / 2014 \n"
          ]
        }
      ]
    },
    {
      "cell_type": "code",
      "metadata": {
        "colab": {
          "base_uri": "https://localhost:8080/"
        },
        "id": "T5hZtlj86dmB",
        "outputId": "bc7ae56d-427c-4db8-f9ce-2106aafda100"
      },
      "source": [
        "# Alternative - 1\n",
        "\n",
        "date = (11,12,2014)\n",
        "print(f\"The examination will start from: {date[0]} / {date[1]} / {date[2]}\")"
      ],
      "execution_count": 2,
      "outputs": [
        {
          "output_type": "stream",
          "name": "stdout",
          "text": [
            "The examination will start from: 11 / 12 / 2014\n"
          ]
        }
      ]
    },
    {
      "cell_type": "code",
      "metadata": {
        "colab": {
          "base_uri": "https://localhost:8080/"
        },
        "id": "x0OR_FCp6dr9",
        "outputId": "2859aa9d-a6db-40f1-e495-5fb8f33146da"
      },
      "source": [
        "# Alternative - 2\n",
        "\n",
        "date = 11, 12, 2014\n",
        "date_s = str(date).replace(\",\", \" /\")\n",
        "print(\"The examination will start from:\", date_s.lstrip('(').rstrip(')'))"
      ],
      "execution_count": 3,
      "outputs": [
        {
          "output_type": "stream",
          "name": "stdout",
          "text": [
            "The examination will start from: 11 / 12 / 2014\n"
          ]
        }
      ]
    }
  ]
}