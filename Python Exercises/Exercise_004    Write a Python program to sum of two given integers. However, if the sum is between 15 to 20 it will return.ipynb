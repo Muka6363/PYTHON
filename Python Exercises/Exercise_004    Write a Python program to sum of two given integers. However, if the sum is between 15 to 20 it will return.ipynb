{
  "nbformat": 4,
  "nbformat_minor": 0,
  "metadata": {
    "colab": {
      "name": "Exercise - 4.ipynb",
      "provenance": [],
      "collapsed_sections": []
    },
    "kernelspec": {
      "name": "python3",
      "display_name": "Python 3"
    },
    "language_info": {
      "name": "python"
    }
  },
  "cells": [
    {
      "cell_type": "markdown",
      "metadata": {
        "id": "sggs0ChPsfo8"
      },
      "source": [
        "**Exercise - 4**\n",
        "\n",
        "Write a Python program to sum of two given integers. However, if the sum is between 15 to 20 it will return.\n",
        "\n",
        "Verilen iki tamsayıyı toplayan bir Python programı yazın. Ancak, toplam 15 ila 20 arasındaysa sonucu geri döndürün."
      ]
    },
    {
      "cell_type": "code",
      "metadata": {
        "colab": {
          "base_uri": "https://localhost:8080/"
        },
        "id": "HerFd62KsfwN",
        "outputId": "2108dca9-01a7-4a8d-9764-2cd1b850afc6"
      },
      "source": [
        "liste = list(map(int, input(\"Lütfen iki sayı girin: \").split()))\n",
        "if 15 < sum(liste) < 20 :\n",
        "  print(\"Girdiğiniz iki sayının toplamı:\", sum(liste))\n",
        "else :\n",
        "  print(\"Girdiğiniz iki sayının toplamı 15 ile 20 arasında değil!\")"
      ],
      "execution_count": null,
      "outputs": [
        {
          "output_type": "stream",
          "name": "stdout",
          "text": [
            "Lütfen iki sayı girin: 5 12\n",
            "Girdiğiniz iki sayının toplamı: 17\n"
          ]
        }
      ]
    }
  ]
}