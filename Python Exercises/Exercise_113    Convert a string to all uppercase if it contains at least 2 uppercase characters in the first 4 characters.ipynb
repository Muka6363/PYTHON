{
  "nbformat": 4,
  "nbformat_minor": 0,
  "metadata": {
    "colab": {
      "name": "Exercise - 113",
      "provenance": [],
      "collapsed_sections": []
    },
    "kernelspec": {
      "name": "python3",
      "display_name": "Python 3"
    },
    "language_info": {
      "name": "python"
    }
  },
  "cells": [
    {
      "cell_type": "markdown",
      "metadata": {
        "id": "ZVUf7K7-NrZ9"
      },
      "source": [
        "**Exercise - 113 | ?comprehension | ?isupper() | ?len() | ?for loop**\n",
        "\n",
        "Write a Python function to convert a given string to all uppercase if it contains at least 2 uppercase characters in the first 4 characters.\n",
        "\n",
        "İlk 4 karakterde en az 2 büyük harf içeriyorsa, verilen bir dizeyi tamamen büyük harfe dönüştürmek için bir Python işlevi yazın."
      ]
    },
    {
      "cell_type": "code",
      "metadata": {
        "colab": {
          "base_uri": "https://localhost:8080/"
        },
        "id": "YZbdftEeNrhs",
        "outputId": "8b88e4bf-f9f4-4359-f6aa-786fd6285062"
      },
      "source": [
        "string = \"NEver\"\n",
        "count = 0 \n",
        "for i in string[:4] :\n",
        "  if i.isupper() :\n",
        "    count += 1\n",
        "if count >= 2 :\n",
        "  print(string.upper())"
      ],
      "execution_count": 6,
      "outputs": [
        {
          "output_type": "stream",
          "name": "stdout",
          "text": [
            "NEVER\n"
          ]
        }
      ]
    },
    {
      "cell_type": "code",
      "metadata": {
        "colab": {
          "base_uri": "https://localhost:8080/",
          "height": 52
        },
        "id": "w1eJ7O1UOfK_",
        "outputId": "13bff765-6f45-4d28-e8a4-4b83980c65ed"
      },
      "source": [
        "s = input(\"\")\n",
        "\"\".join([i.upper() for i in s if len([i for i in s[:4] if i.isupper()]) >= 2])"
      ],
      "execution_count": 5,
      "outputs": [
        {
          "name": "stdout",
          "output_type": "stream",
          "text": [
            "cLArusway\n"
          ]
        },
        {
          "output_type": "execute_result",
          "data": {
            "application/vnd.google.colaboratory.intrinsic+json": {
              "type": "string"
            },
            "text/plain": [
              "'CLARUSWAY'"
            ]
          },
          "metadata": {},
          "execution_count": 5
        }
      ]
    }
  ]
}