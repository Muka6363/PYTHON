{
  "nbformat": 4,
  "nbformat_minor": 0,
  "metadata": {
    "colab": {
      "name": "Exercise - 11.ipynb",
      "provenance": [],
      "collapsed_sections": []
    },
    "kernelspec": {
      "name": "python3",
      "display_name": "Python 3"
    },
    "language_info": {
      "name": "python"
    }
  },
  "cells": [
    {
      "cell_type": "markdown",
      "metadata": {
        "id": "9vw3tezb3tgS"
      },
      "source": [
        "**Exercise - 11**\n",
        "\n",
        "Given the participants' score sheet for your University Sports Day, you are required to find the runner-up score. You are given  scores. Store them in a list and find the score of the runner-up.\n",
        "\n",
        "**Input Format**\n",
        "\n",
        "The first line contains . The second line contains an array   of  integers each separated by a space.\n",
        "\n",
        "**Sample Input**\n",
        "\n",
        "5\n",
        "\n",
        "2 3 6 6 5\n",
        "\n",
        "**Sample Output**\n",
        "\n",
        "5"
      ]
    },
    {
      "cell_type": "code",
      "metadata": {
        "colab": {
          "base_uri": "https://localhost:8080/"
        },
        "id": "TvtgbiKz3tlO",
        "outputId": "4e111c78-9adb-461b-8665-e3d97fe548dc"
      },
      "source": [
        "number = int(input(\"Please enter the number of participants: \"))\n",
        "scores = list(map(int, input(\"What are all the scores?: \").split()))\n",
        "runner_up = sorted(set(scores))[-2]\n",
        "print(f\"İkincinin skoru: {runner_up}\")"
      ],
      "execution_count": 4,
      "outputs": [
        {
          "output_type": "stream",
          "name": "stdout",
          "text": [
            "Please enter the number of participants: 5\n",
            "What are all the scores?: 65 60 53 87 95\n",
            "İkincinin skoru: 87\n"
          ]
        }
      ]
    },
    {
      "cell_type": "code",
      "metadata": {
        "colab": {
          "base_uri": "https://localhost:8080/"
        },
        "id": "fP8KxGFD3z4J",
        "outputId": "baf202b4-a2ea-4090-bbea-6cbeed559050"
      },
      "source": [
        "# Alternative\n",
        "scores = list(map(int, input(\"What are all the scores?: \").split()))\n",
        "winner = max(scores)\n",
        "\n",
        "while winner in scores :\n",
        "  scores.remove(winner)\n",
        "\n",
        "runner_up = max(scores)\n",
        "print(\"Runner-up's score is\", runner_up)"
      ],
      "execution_count": 2,
      "outputs": [
        {
          "output_type": "stream",
          "name": "stdout",
          "text": [
            "What are all the scores?: 65 60 53 87 95\n",
            "Runner-up's score is 87\n"
          ]
        }
      ]
    }
  ]
}