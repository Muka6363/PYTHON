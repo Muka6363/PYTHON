{
  "nbformat": 4,
  "nbformat_minor": 0,
  "metadata": {
    "colab": {
      "name": "Exercise - 050",
      "provenance": [],
      "collapsed_sections": []
    },
    "kernelspec": {
      "name": "python3",
      "display_name": "Python 3"
    },
    "language_info": {
      "name": "python"
    }
  },
  "cells": [
    {
      "cell_type": "markdown",
      "source": [
        "**Exercise - 050 | ?input() | ?for loop**\n",
        "\n",
        "Write a program that shows which letter is used how many times in the text received from the user.\n",
        "\n",
        "Kullanıcıdan gelen metinde hangi harfin kaç kez kullanıldığını gösteren bir program yazınız."
      ],
      "metadata": {
        "id": "yM5Z01UXFetS"
      }
    },
    {
      "cell_type": "code",
      "source": [
        "metin = input(\"Please write something. \")\n",
        "my_dict = {}\n",
        "for i in metin :\n",
        "  if i in my_dict :\n",
        "    my_dict[i] += 1\n",
        "  else :\n",
        "    my_dict[i] = 1\n",
        "\n",
        "print(my_dict)"
      ],
      "metadata": {
        "colab": {
          "base_uri": "https://localhost:8080/"
        },
        "id": "eWJlVME2Fe-H",
        "outputId": "f9627a49-f984-4baf-a1d6-042cf635b08e"
      },
      "execution_count": 3,
      "outputs": [
        {
          "output_type": "stream",
          "name": "stdout",
          "text": [
            "Please write something. Yaşa Var Ol Bahriye\n",
            "{'Y': 1, 'a': 4, 'ş': 1, ' ': 3, 'V': 1, 'r': 2, 'O': 1, 'l': 1, 'B': 1, 'h': 1, 'i': 1, 'y': 1, 'e': 1}\n"
          ]
        }
      ]
    }
  ]
}