{
  "nbformat": 4,
  "nbformat_minor": 0,
  "metadata": {
    "colab": {
      "name": "Exercise - 126",
      "provenance": [],
      "collapsed_sections": []
    },
    "kernelspec": {
      "name": "python3",
      "display_name": "Python 3"
    },
    "language_info": {
      "name": "python"
    }
  },
  "cells": [
    {
      "cell_type": "markdown",
      "metadata": {
        "id": "SSzd_TYzGH-g"
      },
      "source": [
        "**Exercise - 126 | ?def() | ?len() | ?comprehension**\n",
        "\n",
        "Write a function that returns all the elements in an array that are strictly greater than their adjacent left and right neighbors.\n",
        "\n",
        "Examples\n",
        "\n",
        "miniPeaks([4, 5, 2, 1, 4, 9, 7, 2]) ➞ [5, 9]\n",
        "// 5 has neighbours 4 and 2, both are less than 5.\n",
        "\n",
        "miniPeaks([1, 2, 1, 1, 3, 2, 5, 4, 4]) ➞ [2, 3, 5]\n",
        "\n",
        "miniPeaks([1, 2, 3, 4, 5, 6]) ➞ []\n",
        "\n",
        "Notes\n",
        "\n",
        "Do not count boundary numbers, since they only have one left/right neighbor.\n",
        "\n",
        "If no such numbers exist, return an empty array."
      ]
    },
    {
      "cell_type": "code",
      "metadata": {
        "colab": {
          "base_uri": "https://localhost:8080/"
        },
        "id": "kYDSEqkOGIGS",
        "outputId": "95a5c90a-613d-45d0-c81b-f5289fe08bb4"
      },
      "source": [
        "def miniPeaks(liste) :\n",
        "  return [liste[i] for i in range(1, len(liste) - 1) if liste[i] > liste [i-1] and liste[i] > liste[i+1]]\n",
        "miniPeaks([4, 5, 2, 1, 4, 9, 7, 2])"
      ],
      "execution_count": 5,
      "outputs": [
        {
          "output_type": "execute_result",
          "data": {
            "text/plain": [
              "[5, 9]"
            ]
          },
          "metadata": {},
          "execution_count": 5
        }
      ]
    },
    {
      "cell_type": "code",
      "metadata": {
        "id": "ND10c5ofHcJy"
      },
      "source": [
        "def miniPeaks(arry) :\n",
        "  return [arry[i] for i in range(1,len(arry)-1) if arry[i] > arry[i-1] and arry[i] > arry[i+1]]"
      ],
      "execution_count": null,
      "outputs": []
    }
  ]
}