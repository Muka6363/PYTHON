{
  "nbformat": 4,
  "nbformat_minor": 0,
  "metadata": {
    "colab": {
      "name": "Exercise - 105",
      "provenance": [],
      "collapsed_sections": []
    },
    "kernelspec": {
      "name": "python3",
      "display_name": "Python 3"
    },
    "language_info": {
      "name": "python"
    }
  },
  "cells": [
    {
      "cell_type": "markdown",
      "metadata": {
        "id": "O8n6PNb1Nlzz"
      },
      "source": [
        "**Exercise - 105 | ?len() | ?range() | ?append() | ?comprehension**\n",
        "\n",
        "Create a string of up to 1000 numbers, then create a pyhton code that finds how many 3 digits occur in this string of numbers."
      ]
    },
    {
      "cell_type": "code",
      "metadata": {
        "colab": {
          "base_uri": "https://localhost:8080/"
        },
        "id": "MPa9FXEcNl80",
        "outputId": "78169ad8-5751-49f2-f67a-7bf923ca1586"
      },
      "source": [
        "print(len([i for i in range(1, 1000) if \"3\" in str(i)]))"
      ],
      "execution_count": 1,
      "outputs": [
        {
          "output_type": "stream",
          "name": "stdout",
          "text": [
            "271\n"
          ]
        }
      ]
    },
    {
      "cell_type": "code",
      "metadata": {
        "colab": {
          "base_uri": "https://localhost:8080/"
        },
        "id": "vvMT2mxTNt1J",
        "outputId": "f166c436-8f31-4f8e-a900-49e7f2252734"
      },
      "source": [
        "liste = []\n",
        "for i in range(1, 1000) :\n",
        "  if \"3\" in str(i) :\n",
        "    liste.append(i)\n",
        "print(len(liste))"
      ],
      "execution_count": 2,
      "outputs": [
        {
          "output_type": "stream",
          "name": "stdout",
          "text": [
            "271\n"
          ]
        }
      ]
    }
  ]
}