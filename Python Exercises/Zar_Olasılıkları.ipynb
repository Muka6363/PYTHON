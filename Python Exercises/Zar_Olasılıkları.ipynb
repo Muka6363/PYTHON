{
  "nbformat": 4,
  "nbformat_minor": 0,
  "metadata": {
    "colab": {
      "name": "Zar Olasılıkları",
      "provenance": [],
      "collapsed_sections": []
    },
    "kernelspec": {
      "name": "python3",
      "display_name": "Python 3"
    },
    "language_info": {
      "name": "python"
    }
  },
  "cells": [
    {
      "cell_type": "code",
      "execution_count": 1,
      "metadata": {
        "colab": {
          "base_uri": "https://localhost:8080/"
        },
        "id": "e1rcYWql5Pth",
        "outputId": "02eff1eb-b1fd-4968-917b-73cd7bda6df2"
      },
      "outputs": [
        {
          "output_type": "execute_result",
          "data": {
            "text/plain": [
              "[16.65969, 16.6557, 16.66446, 16.68732, 16.68208, 16.65075]"
            ]
          },
          "metadata": {},
          "execution_count": 1
        }
      ],
      "source": [
        "import random\n",
        "def zar(size):\n",
        "  liste = [random.randint(1,6) for i in range(size)]\n",
        "  return [(100* liste.count(i))/size for i in range(1,7)]\n",
        "\n",
        "zar(10000000)"
      ]
    }
  ]
}