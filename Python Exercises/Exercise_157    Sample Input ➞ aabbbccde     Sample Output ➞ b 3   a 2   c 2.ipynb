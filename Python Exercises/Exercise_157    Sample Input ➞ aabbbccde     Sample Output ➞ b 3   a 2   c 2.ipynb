{
  "nbformat": 4,
  "nbformat_minor": 0,
  "metadata": {
    "colab": {
      "name": "Exercise - 157",
      "provenance": [],
      "collapsed_sections": []
    },
    "kernelspec": {
      "name": "python3",
      "display_name": "Python 3"
    },
    "language_info": {
      "name": "python"
    }
  },
  "cells": [
    {
      "cell_type": "markdown",
      "metadata": {
        "id": "OjZpQGRaJvKw"
      },
      "source": [
        "**Exercise - 157**\n",
        "\n",
        "A newly opened multinational brand has decided to base their company logo on the three most common characters in the company name. They are now trying out various combinations of company names and logos based on this condition. Given a string , which is the company name in lowercase letters, your task is to find the top three most common characters in the string.\n",
        "\n",
        "\n",
        "- Print the three most common characters along with their occurrence count.\n",
        "- Sort in descending order of occurrence count.\n",
        "- If the occurrence count is the same, sort the characters in alphabetical order.\n",
        "\n",
        "**Input Format**\n",
        "\n",
        "A single line of input containing the string.\n",
        "\n",
        "**Constraints**\n",
        "\n",
        "- has at least  distinct characters\n",
        "\n",
        "**Sample Input**\n",
        "\n",
        "aabbbccde\n",
        "\n",
        "**Sample Output**\n",
        "\n",
        "b 3\n",
        "\n",
        "a 2\n",
        "\n",
        "c 2\n",
        "\n",
        "**Explanation**\n",
        "\n",
        "Here, b occurs  times. It is printed first.\n",
        "\n",
        "Both a and c occur  times. So, a is printed in the second line and c in the third line because a comes before c in the alphabet.\n",
        "\n",
        "**Note:** The string  has at least  distinct characters."
      ]
    },
    {
      "cell_type": "code",
      "metadata": {
        "colab": {
          "base_uri": "https://localhost:8080/"
        },
        "id": "m1c64uFgJvSm",
        "outputId": "7e5fa900-3c8e-4de5-979a-289f7bce6235"
      },
      "source": [
        "s = \"aabbbccde\"\n",
        "common = sorted([[i, s.count(i)] for i in set(s)])\n",
        "common.sort(key = lambda x : x[-1], reverse = True)\n",
        "for i in common[:3] :\n",
        "  print(*i)"
      ],
      "execution_count": 1,
      "outputs": [
        {
          "output_type": "stream",
          "name": "stdout",
          "text": [
            "b 3\n",
            "a 2\n",
            "c 2\n"
          ]
        }
      ]
    },
    {
      "cell_type": "code",
      "metadata": {
        "colab": {
          "base_uri": "https://localhost:8080/"
        },
        "id": "aQusLjYZLYJy",
        "outputId": "9f986bf6-24f5-4725-e005-146564a9a996"
      },
      "source": [
        "s = \"aabbbccde\"\n",
        "common = sorted([[i, s.count(i)] for i in set(s)])\n",
        "common"
      ],
      "execution_count": 2,
      "outputs": [
        {
          "output_type": "execute_result",
          "data": {
            "text/plain": [
              "[['a', 2], ['b', 3], ['c', 2], ['d', 1], ['e', 1]]"
            ]
          },
          "metadata": {},
          "execution_count": 2
        }
      ]
    },
    {
      "cell_type": "code",
      "metadata": {
        "colab": {
          "base_uri": "https://localhost:8080/"
        },
        "id": "oSPE2jkQLm8E",
        "outputId": "50b9f19f-8418-4ef2-ea0a-5566fb48e5fa"
      },
      "source": [
        "common.sort(key = lambda x : x[-1], reverse = True)\n",
        "common"
      ],
      "execution_count": 4,
      "outputs": [
        {
          "output_type": "execute_result",
          "data": {
            "text/plain": [
              "[['b', 3], ['a', 2], ['c', 2], ['d', 1], ['e', 1]]"
            ]
          },
          "metadata": {},
          "execution_count": 4
        }
      ]
    },
    {
      "cell_type": "code",
      "metadata": {
        "id": "ltWVv24bL11R"
      },
      "source": [
        "s = \"aabbbccde\"\n",
        "common = sorted([[i, s.count(i)] for i in set(s)])\n",
        "common.sort(key = lambda x : x[-1], reverse = True)\n",
        "for i in common[:3] :\n",
        "  print(*i)"
      ],
      "execution_count": null,
      "outputs": []
    },
    {
      "cell_type": "code",
      "metadata": {
        "colab": {
          "base_uri": "https://localhost:8080/"
        },
        "id": "WSSHVJf8L13i",
        "outputId": "4da5cfd5-0bc5-4cc3-ff08-27cbc57671e3"
      },
      "source": [
        "s, my_dict = \"aabbbccde\", {}\n",
        "for i in s :\n",
        "  if i in my_dict :\n",
        "    my_dict[i] += 1\n",
        "  else :\n",
        "    my_dict[i] = 1\n",
        "my_dict"
      ],
      "execution_count": 6,
      "outputs": [
        {
          "output_type": "execute_result",
          "data": {
            "text/plain": [
              "{'a': 2, 'b': 3, 'c': 2, 'd': 1, 'e': 1}"
            ]
          },
          "metadata": {},
          "execution_count": 6
        }
      ]
    },
    {
      "cell_type": "code",
      "metadata": {
        "colab": {
          "base_uri": "https://localhost:8080/"
        },
        "id": "WdycZcZoNT3t",
        "outputId": "448f3f49-368c-4a39-91ca-aba7ad082ba9"
      },
      "source": [
        "s, my_dict = \"aabbbccde\", {}\n",
        "for i in s :\n",
        "  if i in my_dict :\n",
        "    my_dict[i] += 1\n",
        "  else :\n",
        "    my_dict[i] = 1\n",
        "s = sorted(my_dict.items(), key=lambda x: x[1], reverse=True)\n",
        "for i in s[:3] :\n",
        "  print(\"{} {}\".format(i[0], i[1]))"
      ],
      "execution_count": 17,
      "outputs": [
        {
          "output_type": "stream",
          "name": "stdout",
          "text": [
            "b 3\n",
            "a 2\n",
            "c 2\n"
          ]
        }
      ]
    },
    {
      "cell_type": "code",
      "metadata": {
        "colab": {
          "base_uri": "https://localhost:8080/"
        },
        "id": "BuqWe_kvM03w",
        "outputId": "4cc87b9a-437d-4ac9-b89a-73eafb521b5a"
      },
      "source": [
        "d = {\"Massa\": 50, \"Hamilton\": 34, \"Vettel\": 15, \"Alonso\": 34}\n",
        "\n",
        "s = sorted(d.items(), key=lambda x: x[1], reverse=True)\n",
        "\n",
        "for i in s:\n",
        "    print(\"{} {}\".format(i[0], i[1]))"
      ],
      "execution_count": 14,
      "outputs": [
        {
          "output_type": "stream",
          "name": "stdout",
          "text": [
            "Massa 50\n",
            "Hamilton 34\n",
            "Alonso 34\n",
            "Vettel 15\n"
          ]
        }
      ]
    }
  ]
}