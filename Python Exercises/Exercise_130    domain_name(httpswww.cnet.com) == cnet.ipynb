{
  "nbformat": 4,
  "nbformat_minor": 0,
  "metadata": {
    "colab": {
      "name": "Exercise - 130",
      "provenance": [],
      "collapsed_sections": []
    },
    "kernelspec": {
      "name": "python3",
      "display_name": "Python 3"
    },
    "language_info": {
      "name": "python"
    }
  },
  "cells": [
    {
      "cell_type": "markdown",
      "metadata": {
        "id": "iBEwhOVhL9Uj"
      },
      "source": [
        "**Exercise - 130 | ?def | ?split() | ?for loop | ?replace()**\n",
        "\n",
        "Write a function that when given a URL as a string, parses out just the domain name and returns it as a string.\n",
        "\n",
        "For example:\n",
        "\n",
        "domain_name(\"http://github.com/carbonfive/raygun\") == \"github\"\n",
        "\n",
        "domain_name(\"http://www.zombie-bites.com\") == \"zombie-bites\"\n",
        "\n",
        "domain_name(\"https://www.cnet.com\") == \"cnet\""
      ]
    },
    {
      "cell_type": "code",
      "metadata": {
        "colab": {
          "base_uri": "https://localhost:8080/",
          "height": 35
        },
        "id": "dnwehKPFL90v",
        "outputId": "13d11a91-5de8-44de-e6bb-aa9656c0351a"
      },
      "source": [
        "def domain_name(string):\n",
        "    string = string[7:].split(\".\")\n",
        "    if string[0] == \"www\" :\n",
        "      string = string[11:].split(\".\")\n",
        "      return string[0]\n",
        "    else :\n",
        "      return string[0]\n",
        "domain_name(\"http://github.com/carbonfive/raygun\")"
      ],
      "execution_count": null,
      "outputs": [
        {
          "output_type": "execute_result",
          "data": {
            "application/vnd.google.colaboratory.intrinsic+json": {
              "type": "string"
            },
            "text/plain": [
              "'github'"
            ]
          },
          "metadata": {},
          "execution_count": 2
        }
      ]
    },
    {
      "cell_type": "code",
      "metadata": {
        "colab": {
          "base_uri": "https://localhost:8080/",
          "height": 35
        },
        "id": "ny5--RjiJALv",
        "outputId": "81f17be9-e83b-43aa-e58e-021de78c6676"
      },
      "source": [
        "def domain_name(url) :\n",
        "  if \"www\" in url :\n",
        "    url = url[11:].split(\".\")\n",
        "    return url[0]\n",
        "  else :\n",
        "    url = url[7:].split(\".\")\n",
        "    return url[0]\n",
        "\n",
        "domain_name(\"http://www.zombie-bites.com\")"
      ],
      "execution_count": null,
      "outputs": [
        {
          "output_type": "execute_result",
          "data": {
            "application/vnd.google.colaboratory.intrinsic+json": {
              "type": "string"
            },
            "text/plain": [
              "'zombie-bites'"
            ]
          },
          "metadata": {},
          "execution_count": 1
        }
      ]
    },
    {
      "cell_type": "code",
      "metadata": {
        "colab": {
          "base_uri": "https://localhost:8080/"
        },
        "id": "65lRxrs1MycG",
        "outputId": "e787ff71-5523-4272-db1d-364619b3df0d"
      },
      "source": [
        "text = \"http://github.com/carbonfive/raygun\".split(\"/\")\n",
        "\n",
        "for word in text :\n",
        "  if \".com\" in word :\n",
        "    word = word.replace(\".com\", \"\")\n",
        "    if \"www.\" in word :\n",
        "      word = word.replace(\"www.\", \"\")\n",
        "    print(word)"
      ],
      "execution_count": null,
      "outputs": [
        {
          "output_type": "stream",
          "name": "stdout",
          "text": [
            "github\n"
          ]
        }
      ]
    }
  ]
}