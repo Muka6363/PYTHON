{
  "nbformat": 4,
  "nbformat_minor": 0,
  "metadata": {
    "colab": {
      "name": "Exercise - 104",
      "provenance": [],
      "collapsed_sections": []
    },
    "kernelspec": {
      "name": "python3",
      "display_name": "Python 3"
    },
    "language_info": {
      "name": "python"
    }
  },
  "cells": [
    {
      "cell_type": "markdown",
      "metadata": {
        "id": "dwCjmgBnYFXw"
      },
      "source": [
        "**Exercise - 104 | ?join() | ?input() | ?pop() |?for loop | ?range() | ?len() | ?comprehension**\n",
        "\n",
        "Given a string s, reverse only all the vowels in the string and return it.\n",
        "The vowels are 'a', 'e', 'i', 'o', and 'u', and they can appear in both cases.\n",
        "\n",
        "Example 1:\n",
        "\n",
        "Input: s = \"hello\"\n",
        "\n",
        "Output: \"holle\"\n",
        "\n",
        "Example 2:\n",
        "\n",
        "Input: s = \"leetcode\"\n",
        "\n",
        "Output: \"leotcede\""
      ]
    },
    {
      "cell_type": "code",
      "metadata": {
        "colab": {
          "base_uri": "https://localhost:8080/"
        },
        "id": "7kdbQq2bYFeh",
        "outputId": "1f8a283e-ebf8-47ae-c643-3b6334d45d07"
      },
      "source": [
        "word, vowels = input(\"\"), \"aeiou\"\n",
        "\n",
        "word_vowels = []\n",
        "\n",
        "for i in word :\n",
        "  if i in vowels :\n",
        "    word_vowels += [i]\n",
        "\n",
        "output= \"\"\n",
        "for j in word :\n",
        "  if j not in vowels :\n",
        "    output += j\n",
        "  else :\n",
        "    output += word_vowels.pop(-1)\n",
        "\n",
        "print(output)"
      ],
      "execution_count": null,
      "outputs": [
        {
          "output_type": "stream",
          "name": "stdout",
          "text": [
            "hello\n",
            "holle\n"
          ]
        }
      ]
    },
    {
      "cell_type": "code",
      "metadata": {
        "colab": {
          "base_uri": "https://localhost:8080/"
        },
        "id": "gH1ukG1fc8Vf",
        "outputId": "e22fae80-8c08-4881-f905-3d3d49fc0ba5"
      },
      "source": [
        "text = \"leetcode\"\n",
        "vowels = \"aeiou\"\n",
        "\n",
        "text_vowels = [x for x in text if x in vowels]\n",
        "print(\"\".join([x if x not in vowels else text_vowels.pop(-1) for x in text]))"
      ],
      "execution_count": null,
      "outputs": [
        {
          "output_type": "stream",
          "name": "stdout",
          "text": [
            "leotcede\n"
          ]
        }
      ]
    },
    {
      "cell_type": "code",
      "metadata": {
        "colab": {
          "base_uri": "https://localhost:8080/"
        },
        "id": "fdXSPEh5s7gq",
        "outputId": "76f31d51-14f6-48c5-83c7-82d22a97bb22"
      },
      "source": [
        "s = \"hello\"\n",
        "indeks = [i for i in range(len(s)) if s[i] in \"AEIOUaeiou\"]\n",
        "consonants = [j for j in s if j not in \"AEIOUaeiou\" ]\n",
        "vowels = [k for k in s if k in \"AEIOUaeiou\"][::-1]\n",
        "\n",
        "for i in range(len(indeks)) :\n",
        "  consonants.insert(indeks[i], vowels[i])\n",
        "print(\"\".join(consonants))"
      ],
      "execution_count": null,
      "outputs": [
        {
          "output_type": "stream",
          "name": "stdout",
          "text": [
            "holle\n"
          ]
        }
      ]
    },
    {
      "cell_type": "code",
      "metadata": {
        "id": "4tGBnkRauHUr"
      },
      "source": [
        "# Nice solution\n",
        "s = \"hello\" \n",
        "indeks = [i for i in range(len(s)) if s[i] in \"AEIOUaeiou\"] # Sesli harflerin indexleri\n",
        "consonants = [j for j in s if j not in \"AEIOUaeiou\" ] # ünsüz harflerin listesi\n",
        "vowels = [k for k in s if k in \"AEIOUaeiou\"][::-1] # ünlü harflerin ters listesi\n",
        "\n",
        "for i in range(len(indeks)) : # Değiştirmek istediğimiz sesli harfler kadar döngü başlat \n",
        "  consonants.insert(indeks[i], vowels[i]) # Ünsüz harf listesine istenen sırada ünlü harfleri yerleştir\n",
        "print(\"\".join(consonants)) # Listeyi string olarak çıktı al"
      ],
      "execution_count": null,
      "outputs": []
    }
  ]
}