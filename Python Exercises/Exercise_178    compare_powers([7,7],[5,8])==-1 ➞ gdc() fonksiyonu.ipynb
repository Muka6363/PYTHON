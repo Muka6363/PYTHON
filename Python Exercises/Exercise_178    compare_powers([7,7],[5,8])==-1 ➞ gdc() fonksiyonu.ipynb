{
  "nbformat": 4,
  "nbformat_minor": 0,
  "metadata": {
    "colab": {
      "name": "Exercise - 178",
      "provenance": [],
      "collapsed_sections": []
    },
    "kernelspec": {
      "name": "python3",
      "display_name": "Python 3"
    },
    "language_info": {
      "name": "python"
    }
  },
  "cells": [
    {
      "cell_type": "markdown",
      "source": [
        "**Exercise - 178 | ?import | ?def | ?gcd() | ?comprehension**\n",
        "\n",
        "You certainly can tell which is the larger number between 210 and 215.\n",
        "\n",
        "But what about, say, 210 and 310? You know this one too.\n",
        "\n",
        "Things tend to get a bit more complicated with both different bases and exponents: which is larger between 39 and 56?\n",
        "\n",
        "Well, by now you have surely guessed that you have to build a function to compare powers, returning -1 if the first member is larger, 0 if they are equal, 1 otherwise; powers to compare will be provided in the [base, exponent] format:\n",
        "\n",
        "compare_powers([2,10],[2,15])==1\n",
        "\n",
        "compare_powers([2,10],[3,10])==1\n",
        "\n",
        "compare_powers([2,10],[2,10])==0\n",
        "\n",
        "compare_powers([3,9],[5,6])==-1\n",
        "\n",
        "compare_powers([7,7],[5,8])==-1\n",
        "\n",
        "Only positive integers will be tested, incluing bigger numbers - you are warned now, so be diligent try to implement an efficient solution not to drain too much on CW resources ;)!"
      ],
      "metadata": {
        "id": "uWGvsGPpbZtG"
      }
    },
    {
      "cell_type": "code",
      "source": [
        "from math import gcd\n",
        "\n",
        "def compare_powers(lst1, lst2):\n",
        "    a, b = lst1\n",
        "    c, d = lst2\n",
        "\n",
        "    if a == c:\n",
        "        return 1 if d>b else -1 if d<b else 0\n",
        "    if b == d:\n",
        "        return 1 if c>a else -1 if c<a else 0\n",
        "\n",
        "    x = gcd(b, d)\n",
        "    b //= x\n",
        "    d //= x\n",
        "\n",
        "    return 1 if c**d>a**b else -1 if c**d<a**b else 0\n",
        "\n",
        "print(compare_powers([2400, 4800],[3000, 4000]))"
      ],
      "metadata": {
        "colab": {
          "base_uri": "https://localhost:8080/"
        },
        "id": "cC9sBmrbbZ0K",
        "outputId": "ce9dd50a-7276-4839-ebb6-36b3f13a0b9c"
      },
      "execution_count": 1,
      "outputs": [
        {
          "output_type": "stream",
          "name": "stdout",
          "text": [
            "-1\n"
          ]
        }
      ]
    }
  ]
}