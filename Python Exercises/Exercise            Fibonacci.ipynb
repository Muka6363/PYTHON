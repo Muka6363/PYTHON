{
  "nbformat": 4,
  "nbformat_minor": 0,
  "metadata": {
    "colab": {
      "name": "Exercise Fibonacci",
      "provenance": [],
      "collapsed_sections": []
    },
    "kernelspec": {
      "name": "python3",
      "display_name": "Python 3"
    },
    "language_info": {
      "name": "python"
    }
  },
  "cells": [
    {
      "cell_type": "markdown",
      "metadata": {
        "id": "fLeIdUWiQgGQ"
      },
      "source": [
        "**Exercise - Fibonacci | ?def | ?max() | ?str() | ?int() | ?while loop | ?pop() | ?append()**\n",
        "\n",
        "En büyük elemanı 55 olan Fibonacci sayı dizisini döndüren programı yazınız."
      ]
    },
    {
      "cell_type": "code",
      "metadata": {
        "colab": {
          "base_uri": "https://localhost:8080/"
        },
        "id": "AtuYeSZ5QgPw",
        "outputId": "f7700067-9d41-4ea6-dd67-4203040f799f"
      },
      "source": [
        "fibonacci = [1, 1]\n",
        "while max(fibonacci) < 55 :\n",
        "  fibonacci.append(fibonacci[-1] + fibonacci[-2])\n",
        "\n",
        "print(fibonacci)"
      ],
      "execution_count": 3,
      "outputs": [
        {
          "output_type": "stream",
          "name": "stdout",
          "text": [
            "[1, 1, 2, 3, 5, 8, 13, 21, 34, 55]\n"
          ]
        }
      ]
    },
    {
      "cell_type": "code",
      "metadata": {
        "colab": {
          "base_uri": "https://localhost:8080/"
        },
        "id": "XyYpQTDeSB3b",
        "outputId": "34d03fc8-2a2d-4655-fb9f-2aa98737beaa"
      },
      "source": [
        "liste = [\"1\", \"1\"]\n",
        "n = 1\n",
        "while int(liste[n]) < 56 :\n",
        "  liste.append(str(int(liste[n]) + int(liste[n - 1])))\n",
        "  n += 1\n",
        "\n",
        "liste.pop()\n",
        "print(liste)"
      ],
      "execution_count": 2,
      "outputs": [
        {
          "output_type": "stream",
          "name": "stdout",
          "text": [
            "['1', '1', '2', '3', '5', '8', '13', '21', '34', '55']\n"
          ]
        }
      ]
    },
    {
      "cell_type": "code",
      "metadata": {
        "colab": {
          "base_uri": "https://localhost:8080/"
        },
        "id": "LdU9nirMSxIK",
        "outputId": "1253c0ed-4d50-48bf-f15d-f7d28d7dddc3"
      },
      "source": [
        "liste = [1, 1]\n",
        "n = 1\n",
        "while int(liste[n]) < 56 :\n",
        "  liste.append(liste[n] + liste[n - 1])\n",
        "  n += 1\n",
        "\n",
        "liste.pop()\n",
        "print(liste)"
      ],
      "execution_count": 1,
      "outputs": [
        {
          "output_type": "stream",
          "name": "stdout",
          "text": [
            "[1, 1, 2, 3, 5, 8, 13, 21, 34, 55]\n"
          ]
        }
      ]
    }
  ]
}