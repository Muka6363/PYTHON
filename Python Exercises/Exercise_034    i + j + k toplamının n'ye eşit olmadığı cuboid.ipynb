{
  "nbformat": 4,
  "nbformat_minor": 0,
  "metadata": {
    "colab": {
      "name": "Exercise - 34",
      "provenance": [],
      "collapsed_sections": []
    },
    "kernelspec": {
      "name": "python3",
      "display_name": "Python 3"
    },
    "language_info": {
      "name": "python"
    }
  },
  "cells": [
    {
      "cell_type": "markdown",
      "metadata": {
        "id": "fYKVMnq34bA0"
      },
      "source": [
        "**Exercise - 34 | ?nested for loop | ?append() | ?input()**\n",
        "\n",
        "You are given three integers  i, j and k representing the dimensions of a cuboid along with an integer n. Print a list of all possible coordinates given by  (i, j, k) on a 3D grid where the sum i + j + k of  is not equal to  n.\n",
        "\n",
        "Size bir n tamsayısıyla birlikte bir küboidin boyutlarını temsil eden üç tamsayı i, j ve k verilir. (i, j, k) tarafından verilen tüm olası koordinatların bir listesini, i + j + k toplamının n'ye eşit olmadığı bir 3B ızgarada yazdırın."
      ]
    },
    {
      "cell_type": "code",
      "metadata": {
        "colab": {
          "base_uri": "https://localhost:8080/"
        },
        "id": "vw7YBMN54bGD",
        "outputId": "bf2734c0-e4a4-4c1f-cd3f-67bb77581f02"
      },
      "source": [
        "x, y, z, n = int(input(\"x:\")), int(input(\"y:\")), int(input(\"z:\")), int(input(\"n:\"))\n",
        "ls = []\n",
        "for i in range(x + 1) :\n",
        "  for j in range(y + 1) :\n",
        "    for k in range(z + 1) :\n",
        "      if i + j + k != n :\n",
        "        ls.append([i,j,k])\n",
        "print(ls)"
      ],
      "execution_count": 1,
      "outputs": [
        {
          "output_type": "stream",
          "name": "stdout",
          "text": [
            "x:1\n",
            "y:1\n",
            "z:1\n",
            "n:2\n",
            "[[0, 0, 0], [0, 0, 1], [0, 1, 0], [1, 0, 0], [1, 1, 1]]\n"
          ]
        }
      ]
    }
  ]
}