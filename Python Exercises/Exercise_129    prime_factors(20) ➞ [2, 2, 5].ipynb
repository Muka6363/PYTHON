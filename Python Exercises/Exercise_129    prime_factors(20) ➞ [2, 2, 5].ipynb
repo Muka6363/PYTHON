{
  "nbformat": 4,
  "nbformat_minor": 0,
  "metadata": {
    "colab": {
      "name": "Exercise - 129",
      "provenance": [],
      "collapsed_sections": []
    },
    "kernelspec": {
      "name": "python3",
      "display_name": "Python 3"
    },
    "language_info": {
      "name": "python"
    }
  },
  "cells": [
    {
      "cell_type": "markdown",
      "metadata": {
        "id": "Q_kwLxX4IvPu"
      },
      "source": [
        "**Exerice - 129 | ?while loop | ?def | ?append()**\n",
        "\n",
        "Create a function that returns a list containing the prime factors of whatever integer is passed to it.\n",
        "\n",
        "Examples\n",
        "\n",
        "prime_factors(20) ➞ [2, 2, 5]\n",
        "\n",
        "prime_factors(100) ➞ [2, 2, 5, 5]\n",
        "\n",
        "prime_factors(8912234) ➞ [2, 47, 94811]"
      ]
    },
    {
      "cell_type": "code",
      "metadata": {
        "colab": {
          "base_uri": "https://localhost:8080/"
        },
        "id": "2Mq0K_wCIvXS",
        "outputId": "f721ab4e-f0be-40dc-e853-a0a2d7724e85"
      },
      "source": [
        "def prime_factors(number):\n",
        "  liste=[]\n",
        "  i=2\n",
        "  while number > 1:\n",
        "    if number %i == 0:\n",
        "      liste.append(i)\n",
        "      number = number / i\n",
        "    else :\n",
        "      i += 1 \n",
        "  return liste\n",
        "\n",
        "number = int(input(\"Please enter a number: \"))\n",
        "prime_factors(number)"
      ],
      "execution_count": 15,
      "outputs": [
        {
          "name": "stdout",
          "output_type": "stream",
          "text": [
            "Please enter a number: 20\n"
          ]
        },
        {
          "output_type": "execute_result",
          "data": {
            "text/plain": [
              "[2, 2, 5]"
            ]
          },
          "metadata": {},
          "execution_count": 15
        }
      ]
    },
    {
      "cell_type": "code",
      "metadata": {
        "colab": {
          "base_uri": "https://localhost:8080/"
        },
        "id": "EM8quAxiMZB_",
        "outputId": "7585c04a-703c-4c0e-af72-d176c635d2dd"
      },
      "source": [
        "def find_prime_facs(n):\n",
        "  list_of_factors=[]\n",
        "  i=2\n",
        "  while n>1:\n",
        "    if n%i==0:\n",
        "      list_of_factors.append(i)\n",
        "      n=n/i\n",
        "      i=i-1\n",
        "    i+=1  \n",
        "  return list_of_factors\n",
        "\n",
        "find_prime_facs(20)"
      ],
      "execution_count": 16,
      "outputs": [
        {
          "output_type": "execute_result",
          "data": {
            "text/plain": [
              "[2, 2, 5]"
            ]
          },
          "metadata": {},
          "execution_count": 16
        }
      ]
    }
  ]
}