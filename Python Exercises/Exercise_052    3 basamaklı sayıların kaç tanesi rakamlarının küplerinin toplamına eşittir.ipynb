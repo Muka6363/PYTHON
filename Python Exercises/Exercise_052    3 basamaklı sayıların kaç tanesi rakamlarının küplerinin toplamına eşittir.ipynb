{
  "nbformat": 4,
  "nbformat_minor": 0,
  "metadata": {
    "colab": {
      "name": "Exercise - 052",
      "provenance": [],
      "collapsed_sections": []
    },
    "kernelspec": {
      "name": "python3",
      "display_name": "Python 3"
    },
    "language_info": {
      "name": "python"
    }
  },
  "cells": [
    {
      "cell_type": "markdown",
      "source": [
        "**Exercise - 052 | ?for loop | ?nested for loop | ?range() | ?str() | ?int()**\n",
        "\n",
        " - How many of the 3-digit numbers are equal to the sum of the cubes of their digits?\n",
        "\n",
        " - 3 basamaklı sayıların kaç tanesi rakamlarının küplerinin toplamına eşittir?"
      ],
      "metadata": {
        "id": "3PauC9VJM5tL"
      }
    },
    {
      "cell_type": "code",
      "source": [
        "kup_toplami = 0\n",
        "sayac = 0\n",
        "\n",
        "for i in range(100, 1000) :\n",
        "  for j in str(i) :\n",
        "    kup_toplami += int(j) ** 3\n",
        "  if kup_toplami == i:\n",
        "    print(i)\n",
        "    sayac +=1\n",
        "  kup_toplami = 0\n",
        "\n",
        "print(\"3 basamaklı sayıların {} tanesinin küplerinin toplamı kendisine eşittir.\".format(sayac))"
      ],
      "metadata": {
        "colab": {
          "base_uri": "https://localhost:8080/"
        },
        "id": "xzvDT1FhM55C",
        "outputId": "b5a1b309-ed0a-4c76-eb07-d8b3b58f4381"
      },
      "execution_count": 2,
      "outputs": [
        {
          "output_type": "stream",
          "name": "stdout",
          "text": [
            "153\n",
            "370\n",
            "371\n",
            "407\n",
            "3 basamaklı sayıların 4 tanesinin küplerinin toplamı kendisine eşittir.\n"
          ]
        }
      ]
    }
  ]
}