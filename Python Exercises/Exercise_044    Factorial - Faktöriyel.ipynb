{
  "nbformat": 4,
  "nbformat_minor": 0,
  "metadata": {
    "colab": {
      "name": "Exercise - 44",
      "provenance": [],
      "collapsed_sections": []
    },
    "kernelspec": {
      "name": "python3",
      "display_name": "Python 3"
    },
    "language_info": {
      "name": "python"
    }
  },
  "cells": [
    {
      "cell_type": "markdown",
      "metadata": {
        "id": "3pMt2qbFss9Q"
      },
      "source": [
        "**Exercise - 44 | ?input() | ?range() | ?f\"string | ?def**\n",
        "\n",
        "Python Program to Find the Factorial of a Number\n",
        "The factorial of a number is the product of all the integers from 1 to that number.\n",
        "\n",
        "For example, the factorial of 6 is 1x2x3x4x5x6 = 720. Factorial is not defined for negative numbers, and the factorial of zero is one, 0! = 1."
      ]
    },
    {
      "cell_type": "code",
      "metadata": {
        "colab": {
          "base_uri": "https://localhost:8080/"
        },
        "id": "_SL2-G6wstDJ",
        "outputId": "193b018e-312e-4fbd-9334-71c2b9e5d74b"
      },
      "source": [
        "faktoriyel = 1 # default değer\n",
        "sayi = int(input(\"Faktöriyelini hesaplamak istedğiniz sayıyı giriniz: \"))\n",
        "if sayi < 0 :\n",
        "  print(\"Lütfen pozitif bir sayı giriniz: \")\n",
        "elif sayi == 0 :\n",
        "  print(\"0! = 1\")\n",
        "else :\n",
        "  for i in range(sayi, 0, -1) :\n",
        "    faktoriyel *= i\n",
        "\n",
        "print(f\"{sayi} sayısının faktoriyeli > {sayi}! = {faktoriyel}\")"
      ],
      "execution_count": null,
      "outputs": [
        {
          "output_type": "stream",
          "name": "stdout",
          "text": [
            "Faktöriyelini hesaplamak istedğiniz sayıyı giriniz: 6\n",
            "6 sayısının faktoriyeli > 6! = 720\n"
          ]
        }
      ]
    },
    {
      "cell_type": "code",
      "metadata": {
        "id": "dawHoXxbEhkD",
        "colab": {
          "base_uri": "https://localhost:8080/"
        },
        "outputId": "e52fb0ec-e14e-49d9-993a-c576928b8798"
      },
      "source": [
        "def recursive_factorial(x) :  \n",
        "   if x == 0 or x == 1 :  \n",
        "       return 1  \n",
        "   else:  \n",
        "       return x * recursive_factorial(x-1)\n",
        "recursive_factorial(5)"
      ],
      "execution_count": 6,
      "outputs": [
        {
          "output_type": "execute_result",
          "data": {
            "text/plain": [
              "120"
            ]
          },
          "metadata": {},
          "execution_count": 6
        }
      ]
    }
  ]
}