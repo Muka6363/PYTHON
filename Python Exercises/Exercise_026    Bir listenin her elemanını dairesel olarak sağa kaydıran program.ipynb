{
  "nbformat": 4,
  "nbformat_minor": 0,
  "metadata": {
    "colab": {
      "name": "Exercise - 26.ipynb",
      "provenance": [],
      "collapsed_sections": []
    },
    "kernelspec": {
      "name": "python3",
      "display_name": "Python 3"
    },
    "language_info": {
      "name": "python"
    }
  },
  "cells": [
    {
      "cell_type": "markdown",
      "metadata": {
        "id": "e7wXzVWQaex5"
      },
      "source": [
        "**Exercise - 26**\n",
        "\n",
        "Write a program to shift every element of a list to circularly right.\n",
        "\n",
        "Bir listenin her elemanını dairesel olarak sağa kaydıran bir program yazın.\n",
        "\n",
        "INPUT : 1 2 3 4 5\n",
        "\n",
        "OUTPUT : 5 1 2 3 4"
      ]
    },
    {
      "cell_type": "code",
      "metadata": {
        "colab": {
          "base_uri": "https://localhost:8080/"
        },
        "id": "NqUF-lA1ae4f",
        "outputId": "7b61c103-25c8-4262-aca1-85d546c6edba"
      },
      "source": [
        "list_x = input(\"Enter list elements with a space between them: \").split()\n",
        "number = int(input(\"How many units do you want to shift the list?: \"))\n",
        "new_list = list_x[-number:]+list_x[:number+1]\n",
        "print(*new_list)"
      ],
      "execution_count": 1,
      "outputs": [
        {
          "output_type": "stream",
          "name": "stdout",
          "text": [
            "Enter list elements with a space between them: 1 2 3 4 5\n",
            "How many units do you want to shift the list?: 2\n",
            "4 5 1 2 3\n"
          ]
        }
      ]
    },
    {
      "cell_type": "code",
      "metadata": {
        "colab": {
          "base_uri": "https://localhost:8080/"
        },
        "id": "zHrja2NtapXR",
        "outputId": "188f1239-6399-4945-9b31-b2202b3b7209"
      },
      "source": [
        "list_x = input(\"Enter list elements with a space between them: \").split()\n",
        "number = int(input(\"How many units do you want to shift the list?: \"))\n",
        "new_list = list_x[len(list_x)-number:]+list_x[:len(list_x) - number]\n",
        "print(*new_list)"
      ],
      "execution_count": 2,
      "outputs": [
        {
          "output_type": "stream",
          "name": "stdout",
          "text": [
            "Enter list elements with a space between them: 1 2 3 4 5\n",
            "How many units do you want to shift the list?: 2\n",
            "4 5 1 2 3\n"
          ]
        }
      ]
    }
  ]
}