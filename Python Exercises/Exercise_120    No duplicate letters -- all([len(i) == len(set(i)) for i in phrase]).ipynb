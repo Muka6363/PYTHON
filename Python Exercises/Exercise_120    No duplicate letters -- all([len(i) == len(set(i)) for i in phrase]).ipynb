{
  "nbformat": 4,
  "nbformat_minor": 0,
  "metadata": {
    "colab": {
      "name": "Exercise - 120",
      "provenance": [],
      "collapsed_sections": []
    },
    "kernelspec": {
      "name": "python3",
      "display_name": "Python 3"
    },
    "language_info": {
      "name": "python"
    }
  },
  "cells": [
    {
      "cell_type": "markdown",
      "metadata": {
        "id": "kXeSFbfM4Lv5"
      },
      "source": [
        "**Exercise - 120 | ?comprehension | ?all() | ?any() | ?len() | ?set() ?split() | ?count()**\n",
        "\n",
        "Given a common phrase, return False if any individual word in the phrase contains duplicate letters. Return True otherwise.\n",
        "\n",
        "Ortak bir ifade verildiğinde, ifadedeki herhangi bir kelime mükerrer harfler içeriyorsa False döndürün. Aksi takdirde True döndürün.\n",
        "\n",
        "**Examples**\n",
        "\n",
        "no_duplicate_letters(\"Fortune favours the bold.\") ➞ True\n",
        "\n",
        "no_duplicate_letters(\"You can lead a horse to water, but you can't make him drink.\") ➞ True\n",
        "\n",
        "no_duplicate_letters(\"Look before you leap.\") ➞ False\n",
        "\n",
        "Duplicate letters in \"Look\" and \"before\".\n",
        "\n",
        "no_duplicate_letters(\"An apple a day keeps the doctor away.\") ➞ False\n",
        "\n",
        "Duplicate letters in \"apple\", \"keeps\", \"doctor\", and \"away\"."
      ]
    },
    {
      "cell_type": "code",
      "metadata": {
        "colab": {
          "base_uri": "https://localhost:8080/"
        },
        "id": "7EzTKxj14L44",
        "outputId": "c19b5ffc-6565-4ad4-c737-3c150838144b"
      },
      "source": [
        "phrase = \"An apple a day keeps the doctor away\".split()\n",
        "\n",
        "all([len(i) == len(set(i)) for i in phrase])"
      ],
      "execution_count": 1,
      "outputs": [
        {
          "output_type": "execute_result",
          "data": {
            "text/plain": [
              "False"
            ]
          },
          "metadata": {},
          "execution_count": 1
        }
      ]
    },
    {
      "cell_type": "code",
      "metadata": {
        "colab": {
          "base_uri": "https://localhost:8080/"
        },
        "id": "zo2nN4yU5YmT",
        "outputId": "628a96f9-2b45-4012-dc9c-e829cbf11706"
      },
      "source": [
        "phrase = \"An apple a day keeps the doctor away\".split()\n",
        "for i in  phrase :\n",
        "  if len(i) != len(set(i)) :\n",
        "    print(False)\n",
        "    break\n",
        "  else :\n",
        "    print(True)\n",
        "    break"
      ],
      "execution_count": 2,
      "outputs": [
        {
          "output_type": "stream",
          "name": "stdout",
          "text": [
            "True\n"
          ]
        }
      ]
    },
    {
      "cell_type": "code",
      "metadata": {
        "colab": {
          "base_uri": "https://localhost:8080/"
        },
        "id": "PD6uBmsg5x4k",
        "outputId": "fcbe4ed4-997c-4cea-e836-94606753db59"
      },
      "source": [
        "phrase = \"An apple a day keeps the doctor away\".split()\n",
        "print(True if all([len(i) == len(set(i)) for i in phrase]) else False)"
      ],
      "execution_count": 10,
      "outputs": [
        {
          "output_type": "stream",
          "name": "stdout",
          "text": [
            "False\n"
          ]
        }
      ]
    },
    {
      "cell_type": "code",
      "metadata": {
        "colab": {
          "base_uri": "https://localhost:8080/"
        },
        "id": "5uWywV5I8G6f",
        "outputId": "1c368f46-1eb2-4121-a02e-e04f0ffc0fa7"
      },
      "source": [
        "phrase = \"Fortune favours the bold\".split()\n",
        "print(True if all([len(i) == len(set(i)) for i in phrase]) else False)"
      ],
      "execution_count": 17,
      "outputs": [
        {
          "output_type": "stream",
          "name": "stdout",
          "text": [
            "True\n"
          ]
        }
      ]
    },
    {
      "cell_type": "code",
      "metadata": {
        "colab": {
          "base_uri": "https://localhost:8080/"
        },
        "id": "a70V-7g48P3j",
        "outputId": "cee39a3e-5280-490c-d279-749fc22e7472"
      },
      "source": [
        "phrase = \"Fortune favours the bold\".split()\n",
        "print(False if any([len(i) != len(set(i)) for i in phrase]) else True)"
      ],
      "execution_count": 16,
      "outputs": [
        {
          "output_type": "stream",
          "name": "stdout",
          "text": [
            "True\n"
          ]
        }
      ]
    },
    {
      "cell_type": "code",
      "metadata": {
        "colab": {
          "base_uri": "https://localhost:8080/"
        },
        "id": "BaG8AGdk9vzg",
        "outputId": "95844de2-1ba0-4897-f2f5-825d221ac3e7"
      },
      "source": [
        "phrase = \"Fortune favours the bold\".split()\n",
        "print(False if any([len(i) != len(set(i)) for i in phrase]) else True)"
      ],
      "execution_count": 15,
      "outputs": [
        {
          "output_type": "stream",
          "name": "stdout",
          "text": [
            "True\n"
          ]
        }
      ]
    },
    {
      "cell_type": "code",
      "metadata": {
        "colab": {
          "base_uri": "https://localhost:8080/"
        },
        "id": "hdBp2oDe9BRI",
        "outputId": "99d98082-0939-477a-c3df-8ce121305976"
      },
      "source": [
        "phrase = \"An apple a day keeps the doctor away\".split()\n",
        "print(False if any([len(i) != len(set(i)) for i in phrase]) else True)"
      ],
      "execution_count": 13,
      "outputs": [
        {
          "output_type": "stream",
          "name": "stdout",
          "text": [
            "False\n"
          ]
        }
      ]
    },
    {
      "cell_type": "code",
      "metadata": {
        "colab": {
          "base_uri": "https://localhost:8080/"
        },
        "id": "vmNxgxIe9goB",
        "outputId": "63b4162d-dc79-4ca1-895a-6d55ba033dee"
      },
      "source": [
        "phrase = \"Look before you leap\".split()\n",
        "print({i for i in phrase for j in i if i.count(j) > 1} == set())"
      ],
      "execution_count": 14,
      "outputs": [
        {
          "output_type": "stream",
          "name": "stdout",
          "text": [
            "False\n"
          ]
        }
      ]
    },
    {
      "cell_type": "code",
      "metadata": {
        "colab": {
          "base_uri": "https://localhost:8080/"
        },
        "id": "jQ5ecmxp-KL3",
        "outputId": "c2b11c1d-e7ce-41e4-9fca-17a9b76db40e"
      },
      "source": [
        "phrase = \"Fortune favours the bold\".split()\n",
        "print({i for i in phrase for j in i if i.count(j) > 1} == set())"
      ],
      "execution_count": 18,
      "outputs": [
        {
          "output_type": "stream",
          "name": "stdout",
          "text": [
            "True\n"
          ]
        }
      ]
    }
  ]
}