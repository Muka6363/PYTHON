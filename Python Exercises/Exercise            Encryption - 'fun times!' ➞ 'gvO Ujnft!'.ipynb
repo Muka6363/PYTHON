{
  "nbformat": 4,
  "nbformat_minor": 0,
  "metadata": {
    "colab": {
      "name": "Exercise            Encryption - 'fun times!' ➞ 'gvO Ujnft!'.ipynb",
      "provenance": [],
      "collapsed_sections": []
    },
    "kernelspec": {
      "name": "python3",
      "display_name": "Python 3"
    },
    "language_info": {
      "name": "python"
    }
  },
  "cells": [
    {
      "cell_type": "markdown",
      "metadata": {
        "id": "vYopkQAzNCE9"
      },
      "source": [
        "**Exercise - 165 | ?def | ?for loop | ?isalpha() | ?index() | ?replace() | ?upper() | ?comprehension | ?len()**\n",
        "\n",
        "Have the function StringChallenge(**str**) take the **str** parameter being passed and modify it using the following algorithm. Replace every letter in the string with the letter following it in the alphabet (**ie.** c becomes d, z becomes a). Then capitalize every vowel in this new string (a, e, i, o, u) and finally return this modified string.\n",
        "\n",
        "Examples\n",
        "\n",
        "Input: \"hello*3\"\n",
        "\n",
        "Output: Ifmmp*3\n",
        "\n",
        "Input: \"fun times!\"\n",
        "\n",
        "Output: gvO Ujnft!"
      ]
    },
    {
      "cell_type": "code",
      "metadata": {
        "colab": {
          "base_uri": "https://localhost:8080/",
          "height": 35
        },
        "id": "KzYcP5lgNCLK",
        "outputId": "ed188f7d-4c96-4777-87f0-4a277372d00f"
      },
      "source": [
        "alpha = \"abcdefghijklmnopqrstuvwxyz\"\n",
        "vowels = \"aeiou\"\n",
        "\n",
        "def StringChallenge(text) :\n",
        "  new_text = \"\"\n",
        "  for i in text :\n",
        "    if i.isalpha() :\n",
        "      new_text += alpha[(alpha.index(i)+1) % len(alpha)]\n",
        "    else :\n",
        "      new_text += i\n",
        "\n",
        "  for j in new_text :\n",
        "    if j in vowels :\n",
        "      new_text = new_text.replace(j, j.upper())\n",
        "\n",
        "  return new_text\n",
        "StringChallenge(\"hello*3\")"
      ],
      "execution_count": 3,
      "outputs": [
        {
          "output_type": "execute_result",
          "data": {
            "application/vnd.google.colaboratory.intrinsic+json": {
              "type": "string"
            },
            "text/plain": [
              "'Ifmmp*3'"
            ]
          },
          "metadata": {},
          "execution_count": 3
        }
      ]
    },
    {
      "cell_type": "code",
      "metadata": {
        "colab": {
          "base_uri": "https://localhost:8080/",
          "height": 35
        },
        "id": "Gl4jXtNzMAqk",
        "outputId": "a7f3cc8d-2d8d-48cf-f323-b5eefbc4bd84"
      },
      "source": [
        "import string\n",
        "lower = string.ascii_lowercase\n",
        "vowel = \"aeiou\"\n",
        "letter = \"hello*3\"\n",
        "new_s = \"\".join([lower[(lower.index(i) + 1) % len(lower)] if i in lower else i for i in letter])\n",
        "\"\".join([i.upper() if i in vowel else i for i in new_s])"
      ],
      "execution_count": null,
      "outputs": [
        {
          "output_type": "execute_result",
          "data": {
            "application/vnd.google.colaboratory.intrinsic+json": {
              "type": "string"
            },
            "text/plain": [
              "'Ifmmp*3'"
            ]
          },
          "metadata": {},
          "execution_count": 2
        }
      ]
    }
  ]
}