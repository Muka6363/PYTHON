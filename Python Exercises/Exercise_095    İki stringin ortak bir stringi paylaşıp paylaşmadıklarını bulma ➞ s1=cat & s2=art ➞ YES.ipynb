{
  "nbformat": 4,
  "nbformat_minor": 0,
  "metadata": {
    "colab": {
      "name": "Exercise - 95.ipynb",
      "provenance": [],
      "collapsed_sections": []
    },
    "kernelspec": {
      "name": "python3",
      "display_name": "Python 3"
    },
    "language_info": {
      "name": "python"
    }
  },
  "cells": [
    {
      "cell_type": "markdown",
      "metadata": {
        "id": "XY3OcaR5K0G0"
      },
      "source": [
        "**Exercise - 95 | ?set() | ?intersection() | ?comprehension | ?any()**\n",
        "\n",
        "Given two strings, determine if they share a common substring. A substring may be as small as one character.\n",
        "\n",
        "Example\n",
        "\n",
        "s1 = \"and\"\n",
        "\n",
        "s2 = \"art\"\n",
        "\n",
        "These share the common substring  \"a\".\n",
        "\n",
        "s1= \"be\"\n",
        "\n",
        "s2= \"cat\"\n",
        "\n",
        "These do not share a substring.\n",
        "\n",
        "Returns\n",
        "\n",
        "string: either **YES** or **NO**"
      ]
    },
    {
      "cell_type": "code",
      "metadata": {
        "colab": {
          "base_uri": "https://localhost:8080/"
        },
        "id": "sfTVeN5gK0OY",
        "outputId": "948b92bf-720f-4435-adbb-61c257dcb4f2"
      },
      "source": [
        "string1, string2 = \"fatih\", \"sultan\"\n",
        "print(\"YES\" if set(string1).intersection(set(string2)) else \"NO\")"
      ],
      "execution_count": null,
      "outputs": [
        {
          "output_type": "stream",
          "name": "stdout",
          "text": [
            "YES\n"
          ]
        }
      ]
    },
    {
      "cell_type": "code",
      "metadata": {
        "colab": {
          "base_uri": "https://localhost:8080/"
        },
        "id": "2YBdyMq2MB9O",
        "outputId": "ea87d4fd-27b3-4048-e5d3-28e0b3a9c86d"
      },
      "source": [
        "text1 = \"alpha\"\n",
        "text2 = \"beta\"\n",
        "\n",
        "if set(text1) & set(text2) :\n",
        "  print(\"YES\")\n",
        "else :\n",
        "  print(\"NO\")"
      ],
      "execution_count": null,
      "outputs": [
        {
          "output_type": "stream",
          "name": "stdout",
          "text": [
            "YES\n"
          ]
        }
      ]
    },
    {
      "cell_type": "code",
      "metadata": {
        "colab": {
          "base_uri": "https://localhost:8080/"
        },
        "id": "rgqetWsuNJPm",
        "outputId": "8348bda9-9dc6-4e89-f4fc-410e79d8eaa0"
      },
      "source": [
        "s1 = \"hello\"\n",
        "s2 = \"world\"\n",
        "print(\"YES\" if any([i == j for i in s1 for j in s2]) == True else \"NO\")"
      ],
      "execution_count": null,
      "outputs": [
        {
          "output_type": "stream",
          "name": "stdout",
          "text": [
            "YES\n"
          ]
        }
      ]
    }
  ]
}