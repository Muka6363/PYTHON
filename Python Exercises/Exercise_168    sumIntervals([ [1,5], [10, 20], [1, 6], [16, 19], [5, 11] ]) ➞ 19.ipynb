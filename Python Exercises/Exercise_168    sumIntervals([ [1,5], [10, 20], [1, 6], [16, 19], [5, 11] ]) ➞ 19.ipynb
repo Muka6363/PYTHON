{
  "nbformat": 4,
  "nbformat_minor": 0,
  "metadata": {
    "colab": {
      "name": "Exercise - 168",
      "provenance": [],
      "collapsed_sections": []
    },
    "kernelspec": {
      "name": "python3",
      "display_name": "Python 3"
    },
    "language_info": {
      "name": "python"
    }
  },
  "cells": [
    {
      "cell_type": "markdown",
      "source": [
        "**Exercise - 168 | ?def | ?len() | ?set() | ?list() | ?range() | ?append() ?nested for loop | ?comprehension**\n",
        "\n",
        "Write a function called **sumIntervals / sum_intervals()** that accepts an array of intervals, and returns the sum of all the interval lengths. Overlapping intervals should only be counted once.\n",
        "\n",
        "Intervals\n",
        "\n",
        "Intervals are represented by a pair of integers in the form of an array. The first value of the interval will always be less than the second value. Interval example: **[1, 5]** is an interval from 1 to 5. The length of this interval is 4.\n",
        "\n",
        "Overlapping Intervals\n",
        "\n",
        "List containing overlapping intervals:\n",
        "\n",
        "![image.png](data:image/png;base64,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)\n",
        "\n",
        "The sum of the lengths of these intervals is 7. Since [1, 4] and [3, 5] overlap, we can treat the interval as [1, 5], which has a length of 4.\n",
        "\n",
        "Examples:\n",
        "\n",
        "![image.png](data:image/png;base64,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)"
      ],
      "metadata": {
        "id": "mqo3IjeKKqWX"
      }
    },
    {
      "cell_type": "code",
      "source": [
        "def sumIntervals(arry) :\n",
        "  return len(set([j for i in [list(range(i,j)) for i,j in arry] for j in i]))\n",
        "sumIntervals([ [1,5], [10, 20], [1, 6], [16, 19], [5, 11] ])"
      ],
      "metadata": {
        "colab": {
          "base_uri": "https://localhost:8080/"
        },
        "id": "_g6V_RF2Kqea",
        "outputId": "c56b68f0-d134-4ce2-e968-c0653a3dfe45"
      },
      "execution_count": 2,
      "outputs": [
        {
          "output_type": "execute_result",
          "data": {
            "text/plain": [
              "19"
            ]
          },
          "metadata": {},
          "execution_count": 2
        }
      ]
    },
    {
      "cell_type": "code",
      "source": [
        "def sumIntervals(arry) :\n",
        "  return len(set([x for i in [list(range(i,j)) for i,j in arry] for x in i]))\n",
        "sumIntervals([ [1,5], [10, 20], [1, 6], [16, 19], [5, 11] ])"
      ],
      "metadata": {
        "colab": {
          "base_uri": "https://localhost:8080/"
        },
        "id": "icqKRhQzSnnd",
        "outputId": "46c20bc6-00e6-4b98-ab24-db155dbfba81"
      },
      "execution_count": 1,
      "outputs": [
        {
          "output_type": "execute_result",
          "data": {
            "text/plain": [
              "19"
            ]
          },
          "metadata": {},
          "execution_count": 1
        }
      ]
    },
    {
      "cell_type": "code",
      "source": [
        "def sumIntervals(array) :\n",
        "  liste = []\n",
        "  for i, j in array :\n",
        "    for i in [list(range(i, j))] :\n",
        "      for x in i :\n",
        "        liste += [x]\n",
        "  return len(set(liste))\n",
        "\n",
        "sumIntervals([ [1,5], [10, 20], [1, 6], [16, 19], [5, 11] ])"
      ],
      "metadata": {
        "colab": {
          "base_uri": "https://localhost:8080/"
        },
        "id": "nMUOUiH1N5z4",
        "outputId": "f2b931a3-8873-45b8-ef38-847353377f13"
      },
      "execution_count": 3,
      "outputs": [
        {
          "output_type": "execute_result",
          "data": {
            "text/plain": [
              "19"
            ]
          },
          "metadata": {},
          "execution_count": 3
        }
      ]
    },
    {
      "cell_type": "code",
      "source": [
        "def sumIntervals(array) :\n",
        "  liste = []\n",
        "  for i, j in array :\n",
        "    for i in [list(range(i, j))] :\n",
        "      print(i)\n",
        "\n",
        "sumIntervals([ [1,5], [10, 20], [1, 6], [16, 19], [5, 11] ])"
      ],
      "metadata": {
        "colab": {
          "base_uri": "https://localhost:8080/"
        },
        "id": "GB7pGXhyQLHw",
        "outputId": "00b907eb-92bf-4fed-95ef-6d7b479c8739"
      },
      "execution_count": 4,
      "outputs": [
        {
          "output_type": "stream",
          "name": "stdout",
          "text": [
            "[1, 2, 3, 4]\n",
            "[10, 11, 12, 13, 14, 15, 16, 17, 18, 19]\n",
            "[1, 2, 3, 4, 5]\n",
            "[16, 17, 18]\n",
            "[5, 6, 7, 8, 9, 10]\n"
          ]
        }
      ]
    },
    {
      "cell_type": "code",
      "source": [
        "def sumIntervals(array) :\n",
        "  liste = []\n",
        "  for i, j in array :\n",
        "    for i in [list(range(i, j))] :\n",
        "      for x in i :\n",
        "        liste += [x]\n",
        "  print(liste)\n",
        "\n",
        "sumIntervals([ [1,5], [10, 20], [1, 6], [16, 19], [5, 11] ])"
      ],
      "metadata": {
        "colab": {
          "base_uri": "https://localhost:8080/"
        },
        "id": "HWFfCd2cQdD1",
        "outputId": "e2c6bb36-dfcc-4bb2-f12f-e7bde1c4e051"
      },
      "execution_count": 5,
      "outputs": [
        {
          "output_type": "stream",
          "name": "stdout",
          "text": [
            "[1, 2, 3, 4, 10, 11, 12, 13, 14, 15, 16, 17, 18, 19, 1, 2, 3, 4, 5, 16, 17, 18, 5, 6, 7, 8, 9, 10]\n"
          ]
        }
      ]
    },
    {
      "cell_type": "code",
      "source": [
        "def sumIntervals(arry) :\n",
        "  liste = []\n",
        "  for i, j in arry :\n",
        "    for i in [list(range(i, j))] :\n",
        "      for j in i :\n",
        "        liste += [j]\n",
        "  print(set(liste))\n",
        "\n",
        "sumIntervals([ [1,5], [10, 20], [1, 6], [16, 19], [5, 11] ])"
      ],
      "metadata": {
        "colab": {
          "base_uri": "https://localhost:8080/"
        },
        "id": "HMC6mC0APBOB",
        "outputId": "98481bf2-53bb-41f6-81fb-2f8860fd6350"
      },
      "execution_count": 6,
      "outputs": [
        {
          "output_type": "stream",
          "name": "stdout",
          "text": [
            "{1, 2, 3, 4, 5, 6, 7, 8, 9, 10, 11, 12, 13, 14, 15, 16, 17, 18, 19}\n"
          ]
        }
      ]
    },
    {
      "cell_type": "code",
      "source": [
        "def sumIntervals(liste):\n",
        "  numbers = []\n",
        "  for i in liste:\n",
        "    for j in range(i[0],i[1]):\n",
        "      if j not in numbers:\n",
        "        numbers.append(j)\n",
        "  return len(numbers)\n",
        "sumIntervals([\n",
        "   [1,5],\n",
        "   [10, 20],\n",
        "   [1, 6],\n",
        "   [16, 19],\n",
        "   [5, 11]])"
      ],
      "metadata": {
        "colab": {
          "base_uri": "https://localhost:8080/"
        },
        "id": "Tk2EH1zmMOBh",
        "outputId": "0457be19-4504-4bb3-c4b5-1a46af1c7d00"
      },
      "execution_count": 7,
      "outputs": [
        {
          "output_type": "execute_result",
          "data": {
            "text/plain": [
              "19"
            ]
          },
          "metadata": {},
          "execution_count": 7
        }
      ]
    },
    {
      "cell_type": "code",
      "source": [
        "sumIntervals([\n",
        "   [1,4],\n",
        "   [7, 10],\n",
        "   [3, 5]])"
      ],
      "metadata": {
        "colab": {
          "base_uri": "https://localhost:8080/"
        },
        "id": "EDXLzK6dNZZq",
        "outputId": "e1d02738-5eb0-4f80-866c-a4a0724054b0"
      },
      "execution_count": 8,
      "outputs": [
        {
          "output_type": "execute_result",
          "data": {
            "text/plain": [
              "7"
            ]
          },
          "metadata": {},
          "execution_count": 8
        }
      ]
    }
  ]
}