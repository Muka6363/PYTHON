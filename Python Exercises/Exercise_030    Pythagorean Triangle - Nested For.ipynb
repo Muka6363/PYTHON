{
  "nbformat": 4,
  "nbformat_minor": 0,
  "metadata": {
    "colab": {
      "name": "Exercise - 30",
      "provenance": [],
      "collapsed_sections": []
    },
    "kernelspec": {
      "name": "python3",
      "display_name": "Python 3"
    },
    "language_info": {
      "name": "python"
    }
  },
  "cells": [
    {
      "cell_type": "markdown",
      "metadata": {
        "id": "B1QJ2X5Hg-zG"
      },
      "source": [
        "**Exercise - 30**\n",
        "\n",
        "Write a program that prints the numbers from 1 to 100 that form a pythagorean triangle. For Exam.: 3 4 5"
      ]
    },
    {
      "cell_type": "code",
      "metadata": {
        "colab": {
          "base_uri": "https://localhost:8080/"
        },
        "id": "BI0x4s_4g-5r",
        "outputId": "e0a952d9-7c52-4aa7-98cd-a11c75976814"
      },
      "source": [
        "for i in range(1, 100) :\n",
        "  for j in range(i, 100) :\n",
        "    for k in range(j, 100) :\n",
        "      if i ** 2 + j ** 2 == k ** 2 :\n",
        "        print(i, j, k)"
      ],
      "execution_count": 1,
      "outputs": [
        {
          "output_type": "stream",
          "name": "stdout",
          "text": [
            "3 4 5\n",
            "5 12 13\n",
            "6 8 10\n",
            "7 24 25\n",
            "8 15 17\n",
            "9 12 15\n",
            "9 40 41\n",
            "10 24 26\n",
            "11 60 61\n",
            "12 16 20\n",
            "12 35 37\n",
            "13 84 85\n",
            "14 48 50\n",
            "15 20 25\n",
            "15 36 39\n",
            "16 30 34\n",
            "16 63 65\n",
            "18 24 30\n",
            "18 80 82\n",
            "20 21 29\n",
            "20 48 52\n",
            "21 28 35\n",
            "21 72 75\n",
            "24 32 40\n",
            "24 45 51\n",
            "24 70 74\n",
            "25 60 65\n",
            "27 36 45\n",
            "28 45 53\n",
            "30 40 50\n",
            "30 72 78\n",
            "32 60 68\n",
            "33 44 55\n",
            "33 56 65\n",
            "35 84 91\n",
            "36 48 60\n",
            "36 77 85\n",
            "39 52 65\n",
            "39 80 89\n",
            "40 42 58\n",
            "40 75 85\n",
            "42 56 70\n",
            "45 60 75\n",
            "48 55 73\n",
            "48 64 80\n",
            "51 68 85\n",
            "54 72 90\n",
            "57 76 95\n",
            "60 63 87\n",
            "65 72 97\n"
          ]
        }
      ]
    }
  ]
}