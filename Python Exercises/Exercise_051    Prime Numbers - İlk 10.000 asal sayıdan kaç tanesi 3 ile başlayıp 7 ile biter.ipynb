{
  "nbformat": 4,
  "nbformat_minor": 0,
  "metadata": {
    "colab": {
      "name": "Exercise - 051",
      "provenance": [],
      "collapsed_sections": []
    },
    "kernelspec": {
      "name": "python3",
      "display_name": "Python 3"
    },
    "language_info": {
      "name": "python"
    }
  },
  "cells": [
    {
      "cell_type": "markdown",
      "source": [
        "**Exercise - 051 | ?startswith() | ?endswith() | ?for loop | ?while loop | ?len() | ?range | ?append() | ?prime numbers | ?asal sayılar**\n",
        "\n",
        "How many of the first 10,000 prime numbers start with 3 and end with 7?\n",
        "\n",
        "İlk 10.000 asal sayıdan kaç tanesi 3 ile başlayıp 7 ile biter?\n",
        "\n",
        "Not: Sadece kendisine ve 1 sayısına kalansız bölünebilen 1'den büyük tam sayılardır."
      ],
      "metadata": {
        "id": "LeZlDjoiJ3Qr"
      }
    },
    {
      "cell_type": "code",
      "source": [
        "asal_sayilar = []\n",
        "num = 3\n",
        "istenen = []\n",
        "while len(asal_sayilar) < 10000 :\n",
        "  for i in range(2, num):\n",
        "    if num % i == 0:\n",
        "      break\n",
        "  else :\n",
        "    asal_sayilar.append(num)\n",
        "  num += 1\n",
        "\n",
        "for sayi in asal_sayilar :\n",
        "  sayi = str(sayi)\n",
        "  if sayi[0] == \"3\" and sayi[-1] == \"7\":\n",
        "    istenen.append(sayi)\n",
        "\n",
        "print(len(istenen))"
      ],
      "metadata": {
        "colab": {
          "base_uri": "https://localhost:8080/"
        },
        "id": "CCjZKOF5LyVM",
        "outputId": "a6abc988-65fc-4932-d55f-779c7c7df970"
      },
      "execution_count": 4,
      "outputs": [
        {
          "output_type": "stream",
          "name": "stdout",
          "text": [
            "270\n"
          ]
        }
      ]
    },
    {
      "cell_type": "code",
      "source": [
        "asal_sayilar = []\n",
        "num = 3\n",
        "while len(asal_sayilar) < 10000 :\n",
        "  for i in range(2, num):\n",
        "    if num % i == 0:\n",
        "      break\n",
        "  else :\n",
        "    asal_sayilar.append(num)\n",
        "  num += 1\n",
        "\n",
        "for sayi in asal_sayilar :\n",
        "  sayi = str(sayi)\n",
        "  if sayi[0] == \"3\" and sayi[-1] == \"7\":\n",
        "    print(sayi, end = \" \")"
      ],
      "metadata": {
        "colab": {
          "base_uri": "https://localhost:8080/"
        },
        "id": "B1zAP0Q5J3b9",
        "outputId": "e2a14646-8b40-48b8-f68a-054e31777363"
      },
      "execution_count": 3,
      "outputs": [
        {
          "output_type": "stream",
          "name": "stdout",
          "text": [
            "37 307 317 337 347 367 397 3037 3067 3137 3167 3187 3217 3257 3307 3347 3407 3457 3467 3517 3527 3547 3557 3607 3617 3637 3677 3697 3727 3767 3797 3847 3877 3907 3917 3947 3967 30047 30097 30137 30187 30197 30307 30347 30367 30427 30467 30497 30517 30557 30577 30637 30677 30697 30707 30727 30757 30817 30937 30977 31147 31177 31237 31247 31267 31277 31307 31327 31337 31357 31387 31397 31477 31517 31547 31567 31607 31627 31657 31667 31687 31727 31817 31847 31907 31957 32027 32057 32077 32117 32237 32257 32297 32327 32377 32467 32497 32507 32537 32587 32647 32687 32707 32717 32797 32887 32917 32957 32987 33037 33107 33247 33287 33317 33347 33377 33427 33457 33487 33547 33577 33587 33617 33637 33647 33757 33767 33797 33827 33857 33937 33967 33997 34057 34127 34147 34157 34217 34267 34297 34327 34337 34367 34457 34487 34537 34607 34667 34687 34747 34757 34807 34847 34877 34897 35027 35107 35117 35227 35257 35267 35317 35327 35407 35437 35447 35507 35527 35537 35597 35617 35677 35747 35797 35837 35897 35977 36007 36017 36037 36067 36097 36107 36137 36187 36217 36277 36307 36457 36467 36497 36527 36587 36607 36637 36677 36697 36767 36787 36847 36857 36877 36887 36947 36997 37057 37087 37097 37117 37217 37277 37307 37337 37357 37397 37447 37507 37517 37537 37547 37567 37607 37657 37717 37747 37847 37897 37907 37957 37967 37987 37997 38047 38167 38177 38197 38237 38287 38317 38327 38377 38447 38557 38567 38677 38707 38737 38747 38767 38867 38917 38977 39047 39097 39107 39157 39217 39227 39317 39367 39397 39607 39667 39727 39827 39847 39857 39877 39887 39937 "
          ]
        }
      ]
    },
    {
      "cell_type": "code",
      "source": [
        "asal_sayilar = []\n",
        "num = 3\n",
        "while len(asal_sayilar) < 10000 :\n",
        "  for i in range(2, num):\n",
        "    if num % i == 0:\n",
        "      break\n",
        "  else :\n",
        "    asal_sayilar.append(num)\n",
        "  num += 1\n",
        "num = str(num)\n",
        "\n",
        "print(len([i for i in asal_sayilar if str(i).startswith(\"3\") and str(i).endswith(\"7\")]))"
      ],
      "metadata": {
        "colab": {
          "base_uri": "https://localhost:8080/"
        },
        "id": "HxnoGvLvKA5Z",
        "outputId": "4ca1bba8-831b-46cb-98dd-5135a042ac7b"
      },
      "execution_count": 1,
      "outputs": [
        {
          "output_type": "stream",
          "name": "stdout",
          "text": [
            "270\n"
          ]
        }
      ]
    }
  ]
}