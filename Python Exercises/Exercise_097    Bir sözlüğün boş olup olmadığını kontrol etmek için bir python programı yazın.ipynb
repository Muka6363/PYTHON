{
  "nbformat": 4,
  "nbformat_minor": 0,
  "metadata": {
    "colab": {
      "name": "Exercise - 97",
      "provenance": [],
      "collapsed_sections": []
    },
    "kernelspec": {
      "name": "python3",
      "display_name": "Python 3"
    },
    "language_info": {
      "name": "python"
    }
  },
  "cells": [
    {
      "cell_type": "markdown",
      "metadata": {
        "id": "vjps3hfZoDB0"
      },
      "source": [
        "**Exercise - 97 | ?comprehension | ?len()**\n",
        "\n",
        "Write a python program to check a dictionary is empty or not.\n",
        "\n",
        "Bir sözlüğün boş olup olmadığını kontrol etmek için bir python programı yazın."
      ]
    },
    {
      "cell_type": "code",
      "metadata": {
        "colab": {
          "base_uri": "https://localhost:8080/"
        },
        "id": "hG6VP36LoDJO",
        "outputId": "12bef650-b6b5-46ab-ebe9-8ce448ba9460"
      },
      "source": [
        "my_dict = {\"a\" : 1} \n",
        "print(True if len(my_dict) != 0 else False)"
      ],
      "execution_count": null,
      "outputs": [
        {
          "output_type": "stream",
          "name": "stdout",
          "text": [
            "True\n"
          ]
        }
      ]
    }
  ]
}