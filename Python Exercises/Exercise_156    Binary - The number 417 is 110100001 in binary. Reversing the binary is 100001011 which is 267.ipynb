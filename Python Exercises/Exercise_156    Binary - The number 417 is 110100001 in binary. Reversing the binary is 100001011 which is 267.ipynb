{
  "nbformat": 4,
  "nbformat_minor": 0,
  "metadata": {
    "colab": {
      "name": "Exercise - 156",
      "provenance": [],
      "collapsed_sections": []
    },
    "kernelspec": {
      "name": "python3",
      "display_name": "Python 3"
    },
    "language_info": {
      "name": "python"
    }
  },
  "cells": [
    {
      "cell_type": "markdown",
      "metadata": {
        "id": "aALeVhTx_3KK"
      },
      "source": [
        "**Exercise - 156 | ?def | ?bin() | ?while loop | ?str() | ?floor division | ?int()**\n",
        "\n",
        "Write a function that reverses the bits in an integer.\n",
        "\n",
        "For example, the number 417 is 110100001 in binary. Reversing the binary is 100001011 which is 267.\n",
        "\n",
        "You can assume that the number is not negative."
      ]
    },
    {
      "cell_type": "code",
      "metadata": {
        "colab": {
          "base_uri": "https://localhost:8080/",
          "height": 35
        },
        "id": "9WAAJwsPEbLw",
        "outputId": "acbeb4b4-cafa-418c-8d00-45021077d7ab"
      },
      "source": [
        "bin(417)"
      ],
      "execution_count": 4,
      "outputs": [
        {
          "output_type": "execute_result",
          "data": {
            "application/vnd.google.colaboratory.intrinsic+json": {
              "type": "string"
            },
            "text/plain": [
              "'0b110100001'"
            ]
          },
          "metadata": {},
          "execution_count": 4
        }
      ]
    },
    {
      "cell_type": "code",
      "metadata": {
        "colab": {
          "base_uri": "https://localhost:8080/",
          "height": 35
        },
        "id": "W2_hqtehE4UU",
        "outputId": "df14485b-a199-49d0-85ec-94151421aabb"
      },
      "source": [
        "bin(417)[:1]"
      ],
      "execution_count": 5,
      "outputs": [
        {
          "output_type": "execute_result",
          "data": {
            "application/vnd.google.colaboratory.intrinsic+json": {
              "type": "string"
            },
            "text/plain": [
              "'0'"
            ]
          },
          "metadata": {},
          "execution_count": 5
        }
      ]
    },
    {
      "cell_type": "code",
      "metadata": {
        "colab": {
          "base_uri": "https://localhost:8080/",
          "height": 35
        },
        "id": "tDbF6ISbE4Zg",
        "outputId": "eec1e45f-bc34-4b43-de91-746ec53d303d"
      },
      "source": [
        "bin(417)[:1:-1]"
      ],
      "execution_count": 6,
      "outputs": [
        {
          "output_type": "execute_result",
          "data": {
            "application/vnd.google.colaboratory.intrinsic+json": {
              "type": "string"
            },
            "text/plain": [
              "'100001011'"
            ]
          },
          "metadata": {},
          "execution_count": 6
        }
      ]
    },
    {
      "cell_type": "code",
      "metadata": {
        "colab": {
          "base_uri": "https://localhost:8080/"
        },
        "id": "oNcdGM6MFotV",
        "outputId": "0b787324-5e71-471c-f67b-586af5dacba8"
      },
      "source": [
        "int(bin(417)[:1:-1], 2)"
      ],
      "execution_count": 9,
      "outputs": [
        {
          "output_type": "execute_result",
          "data": {
            "text/plain": [
              "267"
            ]
          },
          "metadata": {},
          "execution_count": 9
        }
      ]
    },
    {
      "cell_type": "code",
      "metadata": {
        "colab": {
          "base_uri": "https://localhost:8080/"
        },
        "id": "lWaF-1kJFYYM",
        "outputId": "0d687122-c52b-4395-bd1a-e4404ed56fc5"
      },
      "source": [
        "def new_num(x) :\n",
        "  return int(bin(x)[:1:-1], 2)\n",
        "new_num(417)"
      ],
      "execution_count": 7,
      "outputs": [
        {
          "output_type": "execute_result",
          "data": {
            "text/plain": [
              "267"
            ]
          },
          "metadata": {},
          "execution_count": 7
        }
      ]
    },
    {
      "cell_type": "code",
      "metadata": {
        "colab": {
          "base_uri": "https://localhost:8080/"
        },
        "id": "Pnv4MRTy_3Qg",
        "outputId": "210bf0fe-5bdd-4c03-d42c-91e9d2528278"
      },
      "source": [
        "def binary(num) :\n",
        "  bin = \"\"\n",
        "  while num != 0 :\n",
        "    bin += str(num % 2)\n",
        "    num = num // 2\n",
        "  return int(bin,2)\n",
        "binary(417)"
      ],
      "execution_count": 2,
      "outputs": [
        {
          "output_type": "execute_result",
          "data": {
            "text/plain": [
              "267"
            ]
          },
          "metadata": {},
          "execution_count": 2
        }
      ]
    },
    {
      "cell_type": "code",
      "metadata": {
        "colab": {
          "base_uri": "https://localhost:8080/",
          "height": 35
        },
        "id": "ZNbV-oZcB8Ou",
        "outputId": "62833a8a-7383-4386-9707-56cdced697bc"
      },
      "source": [
        "num = 417\n",
        "bin = \"\"\n",
        "while num != 0 :\n",
        "  bin += str(num % 2)\n",
        "  num = num // 2\n",
        "bin"
      ],
      "execution_count": 1,
      "outputs": [
        {
          "output_type": "execute_result",
          "data": {
            "application/vnd.google.colaboratory.intrinsic+json": {
              "type": "string"
            },
            "text/plain": [
              "'100001011'"
            ]
          },
          "metadata": {},
          "execution_count": 1
        }
      ]
    }
  ]
}