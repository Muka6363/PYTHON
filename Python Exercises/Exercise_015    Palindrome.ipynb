{
  "nbformat": 4,
  "nbformat_minor": 0,
  "metadata": {
    "colab": {
      "name": "Exercise - 15.ipynb",
      "provenance": [],
      "collapsed_sections": []
    },
    "kernelspec": {
      "name": "python3",
      "display_name": "Python 3"
    },
    "language_info": {
      "name": "python"
    }
  },
  "cells": [
    {
      "cell_type": "markdown",
      "metadata": {
        "id": "qGHJybD57W0L"
      },
      "source": [
        "**Exercise - 15**\n",
        "\n",
        "Write a program to check if a sentence is a palindrome or not. You can ignore white spaces and other characters to consider sentences as palindrome.\n",
        "\n",
        "Bir cümlenin palindrom olup olmadığını kontrol eden bir program yazınız. Cümleleri palindrom olarak değerlendirmek için boşlukları ve diğer karakterleri yok sayabilirsiniz.\n",
        "\n",
        "**Input:**\n",
        "\n",
        "Ey Edip, Adana'da pide ye !\n",
        "\n",
        "**Output:**\n",
        "\n",
        "Sentence is a palindrome"
      ]
    },
    {
      "cell_type": "code",
      "metadata": {
        "colab": {
          "base_uri": "https://localhost:8080/"
        },
        "id": "eF79w1lp7W6p",
        "outputId": "8eed45de-f7c8-42fd-afcc-3c3c8f7c3b80"
      },
      "source": [
        "sentence = input(\"Please enter a sentence: \")\n",
        "new_sentence = \"\".join(i for i in sentence if i.isalpha()).lower()\n",
        "if new_sentence == new_sentence[::-1] :\n",
        "  print(\"Sentence is a palindrome\")\n",
        "else :\n",
        "  print(\"Sentence is not a palindrome\")"
      ],
      "execution_count": 2,
      "outputs": [
        {
          "output_type": "stream",
          "name": "stdout",
          "text": [
            "Please enter a sentence: Ey Edip, Adana'da pide ye !\n",
            "Sentence is a palindrome\n"
          ]
        }
      ]
    },
    {
      "cell_type": "code",
      "metadata": {
        "colab": {
          "base_uri": "https://localhost:8080/"
        },
        "id": "iv9vBj9573Ud",
        "outputId": "b1405dbb-b9fc-4906-a5e3-3a9353b21bde"
      },
      "source": [
        "# Alternative\n",
        "\n",
        "sentence = input(\"please enter a sentence : \")\n",
        "new_st = \"\"\n",
        "for i in sentence :\n",
        "  if i.isalnum():\n",
        "    new_st += i\n",
        "if new_st[::-1].lower() == new_st[::].lower() :\n",
        "  print(\"{} is a palindrome.\".format(sentence))\n",
        "else:\n",
        "  print(\"{} is not a palindrome.\".format(sentence))"
      ],
      "execution_count": 3,
      "outputs": [
        {
          "output_type": "stream",
          "name": "stdout",
          "text": [
            "please enter a sentence : Ey Edip, Adana'da pide ye !\n",
            "Ey Edip, Adana'da pide ye ! is a palindrome.\n"
          ]
        }
      ]
    }
  ]
}