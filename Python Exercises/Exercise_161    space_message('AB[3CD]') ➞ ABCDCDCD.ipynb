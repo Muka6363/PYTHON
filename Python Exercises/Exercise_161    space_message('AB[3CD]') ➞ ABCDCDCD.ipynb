{
  "nbformat": 4,
  "nbformat_minor": 0,
  "metadata": {
    "colab": {
      "name": "Exercise - 161",
      "provenance": [],
      "collapsed_sections": []
    },
    "kernelspec": {
      "name": "python3",
      "display_name": "Python 3"
    },
    "language_info": {
      "name": "python"
    }
  },
  "cells": [
    {
      "cell_type": "markdown",
      "metadata": {
        "id": "IYyodIJeZ4Su"
      },
      "source": [
        "**Exercise - 161 | ?def | ?for loop | ?index() | ?isdigit() | ?isalnum() | ?replace() | ?split()**\n",
        "\n",
        "You have received an encrypted message from space. Your task is to decrypt the message with the following simple rules:\n",
        "\n",
        "- Message string will consist of capital letters, numbers, and brackets only.\n",
        "- When there's a block of code inside the brackets, such as **[10AB]**, it means you need to repeat the letters **AB** for **10 times**.\n",
        "- Message can be embedded in multiple layers of blocks.\n",
        "- Final decrypted message will only consist of capital letters.\n",
        "\n",
        "Create a function that takes encrypted message **txt** and returns the decrypted message.\n",
        "\n",
        "Examples\n",
        "\n",
        "![image.png](data:image/png;base64,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)"
      ]
    },
    {
      "cell_type": "code",
      "metadata": {
        "colab": {
          "base_uri": "https://localhost:8080/",
          "height": 35
        },
        "id": "pJM1K8edZ4YS",
        "outputId": "cc599e06-ae7d-4d7f-d479-b59227ddd377"
      },
      "source": [
        "# Bug var\n",
        "\n",
        "def space_message(txt):\n",
        "  for i in txt:\n",
        "    if i.isdigit():\n",
        "      a=(int(i)-1)*txt[txt.index(i)+1]\n",
        "      txt=txt.replace(i,a)\n",
        "    elif not i.isalnum():txt=txt.replace(i,\"\")\n",
        "  return txt\n",
        "# space_message(\"IF[2E]LG[5O]D\")\n",
        "space_message(\"AB[3CD]\") "
      ],
      "execution_count": null,
      "outputs": [
        {
          "output_type": "execute_result",
          "data": {
            "application/vnd.google.colaboratory.intrinsic+json": {
              "type": "string"
            },
            "text/plain": [
              "'ABCCCD'"
            ]
          },
          "metadata": {},
          "execution_count": 8
        }
      ]
    },
    {
      "cell_type": "code",
      "metadata": {
        "colab": {
          "base_uri": "https://localhost:8080/",
          "height": 35
        },
        "id": "9X1E3ap6fT3c",
        "outputId": "fd12f2b0-0011-4748-a519-908805f33838"
      },
      "source": [
        "def space_message(text):\n",
        "  x = text.split(\"]\")\n",
        "  output = \"\"\n",
        "  for i in x :\n",
        "    for j in i :\n",
        "      if j.isalpha() :\n",
        "        output += j\n",
        "      elif j.isdigit():\n",
        "        output = output + (int(j) * (i[i.index(j)+1:]))\n",
        "        break\n",
        "  return output\n",
        "space_message(\"AB[3CD]\") "
      ],
      "execution_count": 8,
      "outputs": [
        {
          "output_type": "execute_result",
          "data": {
            "application/vnd.google.colaboratory.intrinsic+json": {
              "type": "string"
            },
            "text/plain": [
              "'ABCDCDCD'"
            ]
          },
          "metadata": {},
          "execution_count": 8
        }
      ]
    },
    {
      "cell_type": "code",
      "metadata": {
        "colab": {
          "base_uri": "https://localhost:8080/"
        },
        "id": "UOXSSA6LjjEi",
        "outputId": "765e0490-cd45-4c38-9b3a-79725f7f1e34"
      },
      "source": [
        "text = \"IF[2E]LG[5O]D\"\n",
        "liste1 = [text.index(i) for i in text if i.isdigit()]\n",
        "liste2 = [text.index(i) for i in text if i == \"]\"]\n",
        "\n",
        "print(liste1)\n",
        "print(liste2)"
      ],
      "execution_count": null,
      "outputs": [
        {
          "output_type": "stream",
          "name": "stdout",
          "text": [
            "[3, 9]\n",
            "[5, 5]\n"
          ]
        }
      ]
    },
    {
      "cell_type": "code",
      "metadata": {
        "colab": {
          "base_uri": "https://localhost:8080/",
          "height": 35
        },
        "id": "VbBhAwda53fe",
        "outputId": "0f63d73f-453a-4658-f8d6-c372797414e6"
      },
      "source": [
        "# Benim Çözüme Benzer\n",
        "\n",
        "def space_message(txt):\n",
        "  if txt.isalpha():\n",
        "    return txt\n",
        "  else:\n",
        "    s = txt.split(\"]\")\n",
        "    result = \"\"\n",
        "    for i in s:\n",
        "      for j in i:\n",
        "        if j.isalpha():\n",
        "          result+=j\n",
        "        elif j.isdigit():\n",
        "          result = result + (int(j)*(i[i.index(j)+1:]))\n",
        "          break\n",
        "    return result\n",
        "space_message(\"AB[3CD]\")"
      ],
      "execution_count": 3,
      "outputs": [
        {
          "output_type": "execute_result",
          "data": {
            "application/vnd.google.colaboratory.intrinsic+json": {
              "type": "string"
            },
            "text/plain": [
              "'ABCDCDCD'"
            ]
          },
          "metadata": {},
          "execution_count": 3
        }
      ]
    }
  ]
}