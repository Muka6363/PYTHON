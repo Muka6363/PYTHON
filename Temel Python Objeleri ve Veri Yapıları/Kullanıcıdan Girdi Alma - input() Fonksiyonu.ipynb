{
 "cells": [
  {
   "cell_type": "markdown",
   "metadata": {},
   "source": [
    "# Kullanıcıdan Girdi Alma - input() Fonksiyonu\n",
    "\n",
    "Programlama yaparken kullanıcıdan girdi almak oldukça önemlidir. Pythonda kullanıcıdan girdi almamızı sağlayan *input()* fonksiyonu bulunmaktadır."
   ]
  },
  {
   "cell_type": "markdown",
   "metadata": {},
   "source": [
    "### input() fonksiyonu kullanımı\n",
    "\n",
    "*input()*  fonksiyonu şu şekilde kullanılabilir.\n"
   ]
  },
  {
   "cell_type": "code",
   "execution_count": 3,
   "metadata": {},
   "outputs": [
    {
     "name": "stdout",
     "output_type": "stream",
     "text": [
      "25\n"
     ]
    },
    {
     "data": {
      "text/plain": [
       "'25'"
      ]
     },
     "execution_count": 3,
     "metadata": {},
     "output_type": "execute_result"
    }
   ],
   "source": [
    "input() # Çalıtırdığımız zaman input fonksiyonu bizden bir girdi bekler."
   ]
  },
  {
   "cell_type": "markdown",
   "metadata": {},
   "source": [
    "Eğer istersek fonksiyonun içine bir değer de gönderebiliriz."
   ]
  },
  {
   "cell_type": "code",
   "execution_count": 4,
   "metadata": {},
   "outputs": [
    {
     "name": "stdout",
     "output_type": "stream",
     "text": [
      "Lütfen bir sayı giriniz:25\n"
     ]
    },
    {
     "data": {
      "text/plain": [
       "'25'"
      ]
     },
     "execution_count": 4,
     "metadata": {},
     "output_type": "execute_result"
    }
   ],
   "source": [
    "input(\"Lütfen bir sayı giriniz:\")"
   ]
  },
  {
   "cell_type": "markdown",
   "metadata": {},
   "source": [
    "Kullanıcıdan aldığımız değeri input() fonksiyonu yoluyla şu şekilde elde edebiliriz.\n"
   ]
  },
  {
   "cell_type": "code",
   "execution_count": 1,
   "metadata": {},
   "outputs": [
    {
     "name": "stdout",
     "output_type": "stream",
     "text": [
      "Lütfen bir sayı giriniz:25\n",
      "Kullanıcının girdiği değer: 25\n"
     ]
    }
   ],
   "source": [
    "a = input(\"Lütfen bir sayı giriniz:\") # Kullanıcıdan aldığımız değer a değişkenine eşit olacak.\n",
    "print(\"Kullanıcının girdiği değer:\",a)"
   ]
  },
  {
   "cell_type": "markdown",
   "metadata": {},
   "source": [
    "Kullanıcının girdiği değer **input** fonksiyonundan string olarak bize döner."
   ]
  },
  {
   "cell_type": "code",
   "execution_count": 2,
   "metadata": {},
   "outputs": [
    {
     "name": "stdout",
     "output_type": "stream",
     "text": [
      "Lütfen bir sayı giriniz:26\n",
      "<class 'str'>\n"
     ]
    }
   ],
   "source": [
    "a = input(\"Lütfen bir sayı giriniz:\")\n",
    "print(type(a))"
   ]
  },
  {
   "cell_type": "markdown",
   "metadata": {},
   "source": [
    "Eğer biz bir sayı ile işlem yapacaksak kullanıcıdan aldığımız değere (stringi) *float* ya da *int* fonksiyonuyla **veri tipi** dönüştürme işlemi yapmamız gerekir. Çünkü aşağıdaki gibi bir program yanlış çalışacaktır."
   ]
  },
  {
   "cell_type": "code",
   "execution_count": 3,
   "metadata": {},
   "outputs": [
    {
     "name": "stdout",
     "output_type": "stream",
     "text": [
      "Lütfen bir sayı giriniz:5\n",
      "555\n"
     ]
    }
   ],
   "source": [
    "# Hatalı Çalışma\n",
    "a = input(\"Lütfen bir sayı giriniz:\")\n",
    "print(a * 3) # Girdiğimiz değer 5 ise sonucu 15 bekleriz. Ancak sonuç 555 şeklinde ortaya çıkar."
   ]
  },
  {
   "cell_type": "code",
   "execution_count": 4,
   "metadata": {},
   "outputs": [
    {
     "name": "stdout",
     "output_type": "stream",
     "text": [
      "Lütfen bir sayı giriniz:5\n",
      "15\n"
     ]
    }
   ],
   "source": [
    "# Doğru Çalışma\n",
    "a = int(input(\"Lütfen bir sayı giriniz:\")) # Veri tipi dönüşümü\n",
    "print(a * 3) "
   ]
  },
  {
   "cell_type": "code",
   "execution_count": 5,
   "metadata": {},
   "outputs": [
    {
     "name": "stdout",
     "output_type": "stream",
     "text": [
      "Lütfen bir sayı giriniz:5.4\n",
      "5.45.45.4\n"
     ]
    }
   ],
   "source": [
    "# Hatalı Çalışma\n",
    "a = input(\"Lütfen bir sayı giriniz:\")\n",
    "print(a * 3) # Girdiğimiz değer 5.4 ise sonucu 16.2 bekleriz. Ancak sonuç 5.45.45.4 şeklinde ortaya çıkar."
   ]
  },
  {
   "cell_type": "code",
   "execution_count": 6,
   "metadata": {},
   "outputs": [
    {
     "name": "stdout",
     "output_type": "stream",
     "text": [
      "Lütfen bir sayı giriniz:5.4\n",
      "16.200000000000003\n"
     ]
    }
   ],
   "source": [
    "# Doğru Çalışma\n",
    "a = float(input(\"Lütfen bir sayı giriniz:\"))\n",
    "print(a * 3) # Girdiğimiz değer 5.4 ise sonucu 16.2 bekleriz. Ancak sonuç 5.45.45.4 şeklinde ortaya çıkar."
   ]
  },
  {
   "cell_type": "markdown",
   "metadata": {},
   "source": [
    "Bir tane örnek program yazalım.\n"
   ]
  },
  {
   "cell_type": "code",
   "execution_count": 1,
   "metadata": {},
   "outputs": [
    {
     "name": "stdout",
     "output_type": "stream",
     "text": [
      "Birinci Sayı:12\n",
      "İkinci Sayı:24\n",
      "Üçüncü Sayı:54\n",
      "Toplamları: 90\n"
     ]
    }
   ],
   "source": [
    "a = int(input(\"Birinci Sayı:\"))\n",
    "b = int(input(\"İkinci Sayı:\"))\n",
    "c = int(input(\"Üçüncü Sayı:\"))\n",
    "\n",
    "print(\"Toplamları:\",a+b+c)\n"
   ]
  },
  {
   "cell_type": "markdown",
   "metadata": {},
   "source": [
    "Peki kullanıcı eğer yanlış değer girerse ne olacak ?\n"
   ]
  },
  {
   "cell_type": "code",
   "execution_count": 2,
   "metadata": {},
   "outputs": [
    {
     "name": "stdout",
     "output_type": "stream",
     "text": [
      "Sayı giriniz:213123sadasdasd\n"
     ]
    },
    {
     "ename": "ValueError",
     "evalue": "invalid literal for int() with base 10: '213123sadasdasd'",
     "output_type": "error",
     "traceback": [
      "\u001b[1;31m---------------------------------------------------------------------------\u001b[0m",
      "\u001b[1;31mValueError\u001b[0m                                Traceback (most recent call last)",
      "\u001b[1;32m<ipython-input-2-a9fc3b45ce8b>\u001b[0m in \u001b[0;36m<module>\u001b[1;34m()\u001b[0m\n\u001b[1;32m----> 1\u001b[1;33m \u001b[0ma\u001b[0m \u001b[1;33m=\u001b[0m \u001b[0mint\u001b[0m\u001b[1;33m(\u001b[0m\u001b[0minput\u001b[0m\u001b[1;33m(\u001b[0m\u001b[1;34m\"Sayı giriniz:\"\u001b[0m\u001b[1;33m)\u001b[0m\u001b[1;33m)\u001b[0m\u001b[1;33m\u001b[0m\u001b[0m\n\u001b[0m\u001b[0;32m      2\u001b[0m \u001b[0mprint\u001b[0m\u001b[1;33m(\u001b[0m\u001b[0ma\u001b[0m\u001b[1;33m)\u001b[0m\u001b[1;33m\u001b[0m\u001b[0m\n",
      "\u001b[1;31mValueError\u001b[0m: invalid literal for int() with base 10: '213123sadasdasd'"
     ]
    }
   ],
   "source": [
    "a = int(input(\"Sayı giriniz:\")) # Dönüştüremediğimiz için hataya yol açıldı.\n",
    "print(a)"
   ]
  },
  {
   "cell_type": "markdown",
   "metadata": {},
   "source": [
    "Böyle sorunları nasıl çözeceğimizi  \"Hatalar ve İstisnalar\" bölümünde öğreneceğiz."
   ]
  },
  {
   "cell_type": "code",
   "execution_count": null,
   "metadata": {
    "collapsed": true
   },
   "outputs": [],
   "source": []
  }
 ],
 "metadata": {
  "kernelspec": {
   "display_name": "Python 3",
   "language": "python",
   "name": "python3"
  },
  "language_info": {
   "codemirror_mode": {
    "name": "ipython",
    "version": 3
   },
   "file_extension": ".py",
   "mimetype": "text/x-python",
   "name": "python",
   "nbconvert_exporter": "python",
   "pygments_lexer": "ipython3",
   "version": "3.6.1"
  }
 },
 "nbformat": 4,
 "nbformat_minor": 2
}
