{
 "cells": [
  {
   "cell_type": "markdown",
   "metadata": {},
   "source": [
    "## Çözümler\n",
    "\n",
    "### Soru 1"
   ]
  },
  {
   "cell_type": "code",
   "execution_count": 11,
   "metadata": {},
   "outputs": [
    {
     "name": "stdout",
     "output_type": "stream",
     "text": [
      "a:1\n",
      "b:3\n",
      "c:10\n",
      "1 x 3 x 10 = 30 dir\n"
     ]
    }
   ],
   "source": [
    "a = int(input(\"a:\"))\n",
    "b = int(input(\"b:\"))\n",
    "c = int(input(\"c:\"))\n",
    "\n",
    "çarpım = a * b * c\n",
    "\n",
    "print(\"{} x {} x {} = {} dir\".format(a,b,c,çarpım))"
   ]
  },
  {
   "cell_type": "markdown",
   "metadata": {},
   "source": [
    "### Soru 2"
   ]
  },
  {
   "cell_type": "code",
   "execution_count": 3,
   "metadata": {},
   "outputs": [
    {
     "name": "stdout",
     "output_type": "stream",
     "text": [
      "Boy:1.73\n",
      "Kilo:84\n",
      "Beden Kitle İndeksi: 28.06642386982525\n"
     ]
    }
   ],
   "source": [
    "boy = float(input(\"Boy:\"))\n",
    "kilo = int(input(\"Kilo:\"))\n",
    "\n",
    "print(\"Beden Kitle İndeksi:\",kilo / (boy ** 2))"
   ]
  },
  {
   "cell_type": "markdown",
   "metadata": {},
   "source": [
    "### Soru 3"
   ]
  },
  {
   "cell_type": "code",
   "execution_count": 5,
   "metadata": {},
   "outputs": [
    {
     "name": "stdout",
     "output_type": "stream",
     "text": [
      "Kilometrede yakan miktar:0.22\n",
      "Kaç km yol yaptınız:430\n",
      "Tutar: 94.6 tl\n"
     ]
    }
   ],
   "source": [
    "yakan_miktar = float(input(\"Kilometrede yakan miktar:\"))\n",
    "\n",
    "kilometre = int(input(\"Kaç km yol yaptınız:\"))\n",
    "\n",
    "print(\"Tutar: {} tl\".format(yakan_miktar * kilometre))"
   ]
  },
  {
   "cell_type": "markdown",
   "metadata": {},
   "source": [
    "### Soru 4"
   ]
  },
  {
   "cell_type": "code",
   "execution_count": 7,
   "metadata": {},
   "outputs": [
    {
     "name": "stdout",
     "output_type": "stream",
     "text": [
      "Ad:Mustafa Murat\n",
      "Soyad:Coşkun\n",
      "Numara:12345\n",
      "\n",
      "Bilgiler...\n",
      "\n",
      "Mustafa Murat\n",
      "Coşkun\n",
      "12345\n"
     ]
    }
   ],
   "source": [
    "ad = input(\"Ad:\")\n",
    "soyad = input(\"Soyad:\")\n",
    "numara = input(\"Numara:\")\n",
    "print(\"\\nBilgiler...\\n\")\n",
    "print(\"{}\\n{}\\n{}\".format(ad,soyad,numara))"
   ]
  },
  {
   "cell_type": "markdown",
   "metadata": {},
   "source": [
    "### Soru 5"
   ]
  },
  {
   "cell_type": "code",
   "execution_count": 9,
   "metadata": {},
   "outputs": [
    {
     "name": "stdout",
     "output_type": "stream",
     "text": [
      "a:3\n",
      "b:4\n",
      "Değiştirilmeden Önce Değerler\n",
      "a: 3 b: 4\n",
      "\n",
      "Değiştirildikten Sonraki Değerler\n",
      "a: 4 b: 3\n",
      "\n"
     ]
    }
   ],
   "source": [
    "a = input(\"a:\")\n",
    "b = input(\"b:\")\n",
    "\n",
    "print(\"Değiştirilmeden Önce Değerler\\na: {} b: {}\\n\".format(a,b))\n",
    "\n",
    "a,b = b,a\n",
    "\n",
    "print(\"Değiştirildikten Sonraki Değerler\\na: {} b: {}\\n\".format(a,b))\n",
    "\n"
   ]
  },
  {
   "cell_type": "markdown",
   "metadata": {},
   "source": [
    "### Soru 6"
   ]
  },
  {
   "cell_type": "code",
   "execution_count": 10,
   "metadata": {},
   "outputs": [
    {
     "name": "stdout",
     "output_type": "stream",
     "text": [
      "a:3\n",
      "b:4\n",
      "Hipotenüs:  5.0\n"
     ]
    }
   ],
   "source": [
    "a = int(input(\"a:\"))\n",
    "\n",
    "b = int(input(\"b:\"))\n",
    "\n",
    "c =  (a ** 2 + b ** 2) ** 0.5\n",
    "\n",
    "print(\"Hipotenüs: \",c)\n"
   ]
  },
  {
   "cell_type": "code",
   "execution_count": null,
   "metadata": {
    "collapsed": true
   },
   "outputs": [],
   "source": []
  }
 ],
 "metadata": {
  "kernelspec": {
   "display_name": "Python 3",
   "language": "python",
   "name": "python3"
  },
  "language_info": {
   "codemirror_mode": {
    "name": "ipython",
    "version": 3
   },
   "file_extension": ".py",
   "mimetype": "text/x-python",
   "name": "python",
   "nbconvert_exporter": "python",
   "pygments_lexer": "ipython3",
   "version": "3.6.1"
  }
 },
 "nbformat": 4,
 "nbformat_minor": 2
}
